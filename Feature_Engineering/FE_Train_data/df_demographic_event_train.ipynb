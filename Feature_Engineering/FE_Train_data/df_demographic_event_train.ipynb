{
  "cells": [
    {
      "cell_type": "code",
      "source": [
        "from azureml.core import Workspace, Dataset\r\n",
        "\r\n",
        "subscription_id = 'bcfe0c62-8ebe-4df0-a46d-1efcf8739a5b'\r\n",
        "resource_group = 'VChamp-Team3'\r\n",
        "workspace_name = 'vchamp-team3'\r\n",
        "\r\n",
        "\r\n",
        "# storage account : Algorithmia, Resource group: VChamp-Team3 and workspace: vchamp-team3.\r\n",
        "\r\n",
        "workspace = Workspace(subscription_id, resource_group, workspace_name)"
      ],
      "outputs": [],
      "execution_count": 1,
      "metadata": {
        "gather": {
          "logged": 1689000168651
        }
      }
    },
    {
      "cell_type": "code",
      "source": [
        "#['data_team3_synthetic_quality_check']\r\n",
        "datastore = workspace.datastores['data_team3_synthetic_train']"
      ],
      "outputs": [],
      "execution_count": 2,
      "metadata": {
        "jupyter": {
          "source_hidden": false,
          "outputs_hidden": false
        },
        "nteract": {
          "transient": {
            "deleting": false
          }
        },
        "gather": {
          "logged": 1689000225581
        }
      }
    },
    {
      "cell_type": "code",
      "source": [
        "dataset = Dataset.Tabular.from_delimited_files(path = [(datastore, 'demographics_event_train.csv')])\r\n",
        "\r\n",
        "# preview the first 3 rows of the dataset\r\n",
        "# dataset.to_pandas_dataframe()"
      ],
      "outputs": [],
      "execution_count": 3,
      "metadata": {
        "jupyter": {
          "source_hidden": false,
          "outputs_hidden": false
        },
        "nteract": {
          "transient": {
            "deleting": false
          }
        },
        "gather": {
          "logged": 1689000239294
        }
      }
    },
    {
      "cell_type": "code",
      "source": [
        "demographic_event = dataset.to_pandas_dataframe()"
      ],
      "outputs": [],
      "execution_count": 4,
      "metadata": {
        "jupyter": {
          "source_hidden": false,
          "outputs_hidden": false
        },
        "nteract": {
          "transient": {
            "deleting": false
          }
        },
        "gather": {
          "logged": 1689000247830
        }
      }
    },
    {
      "cell_type": "code",
      "source": [
        "type(demographic_event)"
      ],
      "outputs": [
        {
          "output_type": "execute_result",
          "execution_count": 5,
          "data": {
            "text/plain": "pandas.core.frame.DataFrame"
          },
          "metadata": {}
        }
      ],
      "execution_count": 5,
      "metadata": {
        "jupyter": {
          "source_hidden": false,
          "outputs_hidden": false
        },
        "nteract": {
          "transient": {
            "deleting": false
          }
        },
        "gather": {
          "logged": 1689000249217
        }
      }
    },
    {
      "cell_type": "code",
      "source": [
        "demographic_event"
      ],
      "outputs": [
        {
          "output_type": "execute_result",
          "execution_count": 6,
          "data": {
            "text/plain": "        Column1  Internalpatientid  Age at update          Event date   \n0             1             100028      78.990830 2020-08-24 03:33:32  \\\n1             2             100032      91.357622 2008-02-07 05:03:27   \n2             4             100046      72.961415 2003-09-14 09:32:12   \n3             5             100071      75.221222 2019-04-25 08:33:42   \n4             6             100091      80.955929 2022-02-09 09:24:20   \n...         ...                ...            ...                 ...   \n133247   169059              99898      92.376313 2014-05-12 13:01:07   \n133248   169060               9995      79.974938 2011-07-08 20:09:29   \n133249   169061              99950      77.154395 2005-12-14 22:21:25   \n133250   169062               9998      62.324623 2011-02-23 15:35:32   \n133251   169063               9999      69.752317 2022-11-20 11:19:29   \n\n       Marital status Ruca category  \n0             Married         Urban  \n1             Married         Rural  \n2             Married         Urban  \n3             Widowed         Urban  \n4       Never married         Urban  \n...               ...           ...  \n133247        Married         Urban  \n133248        Married         Rural  \n133249        Married         Urban  \n133250       Divorced         Urban  \n133251        Married         Urban  \n\n[133252 rows x 6 columns]",
            "text/html": "<div>\n<style scoped>\n    .dataframe tbody tr th:only-of-type {\n        vertical-align: middle;\n    }\n\n    .dataframe tbody tr th {\n        vertical-align: top;\n    }\n\n    .dataframe thead th {\n        text-align: right;\n    }\n</style>\n<table border=\"1\" class=\"dataframe\">\n  <thead>\n    <tr style=\"text-align: right;\">\n      <th></th>\n      <th>Column1</th>\n      <th>Internalpatientid</th>\n      <th>Age at update</th>\n      <th>Event date</th>\n      <th>Marital status</th>\n      <th>Ruca category</th>\n    </tr>\n  </thead>\n  <tbody>\n    <tr>\n      <th>0</th>\n      <td>1</td>\n      <td>100028</td>\n      <td>78.990830</td>\n      <td>2020-08-24 03:33:32</td>\n      <td>Married</td>\n      <td>Urban</td>\n    </tr>\n    <tr>\n      <th>1</th>\n      <td>2</td>\n      <td>100032</td>\n      <td>91.357622</td>\n      <td>2008-02-07 05:03:27</td>\n      <td>Married</td>\n      <td>Rural</td>\n    </tr>\n    <tr>\n      <th>2</th>\n      <td>4</td>\n      <td>100046</td>\n      <td>72.961415</td>\n      <td>2003-09-14 09:32:12</td>\n      <td>Married</td>\n      <td>Urban</td>\n    </tr>\n    <tr>\n      <th>3</th>\n      <td>5</td>\n      <td>100071</td>\n      <td>75.221222</td>\n      <td>2019-04-25 08:33:42</td>\n      <td>Widowed</td>\n      <td>Urban</td>\n    </tr>\n    <tr>\n      <th>4</th>\n      <td>6</td>\n      <td>100091</td>\n      <td>80.955929</td>\n      <td>2022-02-09 09:24:20</td>\n      <td>Never married</td>\n      <td>Urban</td>\n    </tr>\n    <tr>\n      <th>...</th>\n      <td>...</td>\n      <td>...</td>\n      <td>...</td>\n      <td>...</td>\n      <td>...</td>\n      <td>...</td>\n    </tr>\n    <tr>\n      <th>133247</th>\n      <td>169059</td>\n      <td>99898</td>\n      <td>92.376313</td>\n      <td>2014-05-12 13:01:07</td>\n      <td>Married</td>\n      <td>Urban</td>\n    </tr>\n    <tr>\n      <th>133248</th>\n      <td>169060</td>\n      <td>9995</td>\n      <td>79.974938</td>\n      <td>2011-07-08 20:09:29</td>\n      <td>Married</td>\n      <td>Rural</td>\n    </tr>\n    <tr>\n      <th>133249</th>\n      <td>169061</td>\n      <td>99950</td>\n      <td>77.154395</td>\n      <td>2005-12-14 22:21:25</td>\n      <td>Married</td>\n      <td>Urban</td>\n    </tr>\n    <tr>\n      <th>133250</th>\n      <td>169062</td>\n      <td>9998</td>\n      <td>62.324623</td>\n      <td>2011-02-23 15:35:32</td>\n      <td>Divorced</td>\n      <td>Urban</td>\n    </tr>\n    <tr>\n      <th>133251</th>\n      <td>169063</td>\n      <td>9999</td>\n      <td>69.752317</td>\n      <td>2022-11-20 11:19:29</td>\n      <td>Married</td>\n      <td>Urban</td>\n    </tr>\n  </tbody>\n</table>\n<p>133252 rows × 6 columns</p>\n</div>"
          },
          "metadata": {}
        }
      ],
      "execution_count": 6,
      "metadata": {
        "jupyter": {
          "source_hidden": false,
          "outputs_hidden": false
        },
        "nteract": {
          "transient": {
            "deleting": false
          }
        },
        "gather": {
          "logged": 1689000252034
        }
      }
    },
    {
      "cell_type": "code",
      "source": [
        "demographic_event = demographic_event.drop('Column1', axis = 1)\r\n",
        "demographic_event.head()"
      ],
      "outputs": [
        {
          "output_type": "execute_result",
          "execution_count": 7,
          "data": {
            "text/plain": "   Internalpatientid  Age at update          Event date Marital status   \n0             100028      78.990830 2020-08-24 03:33:32        Married  \\\n1             100032      91.357622 2008-02-07 05:03:27        Married   \n2             100046      72.961415 2003-09-14 09:32:12        Married   \n3             100071      75.221222 2019-04-25 08:33:42        Widowed   \n4             100091      80.955929 2022-02-09 09:24:20  Never married   \n\n  Ruca category  \n0         Urban  \n1         Rural  \n2         Urban  \n3         Urban  \n4         Urban  ",
            "text/html": "<div>\n<style scoped>\n    .dataframe tbody tr th:only-of-type {\n        vertical-align: middle;\n    }\n\n    .dataframe tbody tr th {\n        vertical-align: top;\n    }\n\n    .dataframe thead th {\n        text-align: right;\n    }\n</style>\n<table border=\"1\" class=\"dataframe\">\n  <thead>\n    <tr style=\"text-align: right;\">\n      <th></th>\n      <th>Internalpatientid</th>\n      <th>Age at update</th>\n      <th>Event date</th>\n      <th>Marital status</th>\n      <th>Ruca category</th>\n    </tr>\n  </thead>\n  <tbody>\n    <tr>\n      <th>0</th>\n      <td>100028</td>\n      <td>78.990830</td>\n      <td>2020-08-24 03:33:32</td>\n      <td>Married</td>\n      <td>Urban</td>\n    </tr>\n    <tr>\n      <th>1</th>\n      <td>100032</td>\n      <td>91.357622</td>\n      <td>2008-02-07 05:03:27</td>\n      <td>Married</td>\n      <td>Rural</td>\n    </tr>\n    <tr>\n      <th>2</th>\n      <td>100046</td>\n      <td>72.961415</td>\n      <td>2003-09-14 09:32:12</td>\n      <td>Married</td>\n      <td>Urban</td>\n    </tr>\n    <tr>\n      <th>3</th>\n      <td>100071</td>\n      <td>75.221222</td>\n      <td>2019-04-25 08:33:42</td>\n      <td>Widowed</td>\n      <td>Urban</td>\n    </tr>\n    <tr>\n      <th>4</th>\n      <td>100091</td>\n      <td>80.955929</td>\n      <td>2022-02-09 09:24:20</td>\n      <td>Never married</td>\n      <td>Urban</td>\n    </tr>\n  </tbody>\n</table>\n</div>"
          },
          "metadata": {}
        }
      ],
      "execution_count": 7,
      "metadata": {
        "jupyter": {
          "source_hidden": false,
          "outputs_hidden": false
        },
        "nteract": {
          "transient": {
            "deleting": false
          }
        },
        "gather": {
          "logged": 1689000257204
        }
      }
    },
    {
      "cell_type": "code",
      "source": [
        "demographic_event = demographic_event.drop('Event date', axis = 1)\r\n",
        "demographic_event.head()"
      ],
      "outputs": [
        {
          "output_type": "execute_result",
          "execution_count": 8,
          "data": {
            "text/plain": "   Internalpatientid  Age at update Marital status Ruca category\n0             100028      78.990830        Married         Urban\n1             100032      91.357622        Married         Rural\n2             100046      72.961415        Married         Urban\n3             100071      75.221222        Widowed         Urban\n4             100091      80.955929  Never married         Urban",
            "text/html": "<div>\n<style scoped>\n    .dataframe tbody tr th:only-of-type {\n        vertical-align: middle;\n    }\n\n    .dataframe tbody tr th {\n        vertical-align: top;\n    }\n\n    .dataframe thead th {\n        text-align: right;\n    }\n</style>\n<table border=\"1\" class=\"dataframe\">\n  <thead>\n    <tr style=\"text-align: right;\">\n      <th></th>\n      <th>Internalpatientid</th>\n      <th>Age at update</th>\n      <th>Marital status</th>\n      <th>Ruca category</th>\n    </tr>\n  </thead>\n  <tbody>\n    <tr>\n      <th>0</th>\n      <td>100028</td>\n      <td>78.990830</td>\n      <td>Married</td>\n      <td>Urban</td>\n    </tr>\n    <tr>\n      <th>1</th>\n      <td>100032</td>\n      <td>91.357622</td>\n      <td>Married</td>\n      <td>Rural</td>\n    </tr>\n    <tr>\n      <th>2</th>\n      <td>100046</td>\n      <td>72.961415</td>\n      <td>Married</td>\n      <td>Urban</td>\n    </tr>\n    <tr>\n      <th>3</th>\n      <td>100071</td>\n      <td>75.221222</td>\n      <td>Widowed</td>\n      <td>Urban</td>\n    </tr>\n    <tr>\n      <th>4</th>\n      <td>100091</td>\n      <td>80.955929</td>\n      <td>Never married</td>\n      <td>Urban</td>\n    </tr>\n  </tbody>\n</table>\n</div>"
          },
          "metadata": {}
        }
      ],
      "execution_count": 8,
      "metadata": {
        "jupyter": {
          "source_hidden": false,
          "outputs_hidden": false
        },
        "nteract": {
          "transient": {
            "deleting": false
          }
        },
        "gather": {
          "logged": 1689000260068
        }
      }
    },
    {
      "cell_type": "code",
      "source": [
        "import pandas as pd"
      ],
      "outputs": [],
      "execution_count": 9,
      "metadata": {
        "jupyter": {
          "source_hidden": false,
          "outputs_hidden": false
        },
        "nteract": {
          "transient": {
            "deleting": false
          }
        },
        "gather": {
          "logged": 1689000279573
        }
      }
    },
    {
      "cell_type": "code",
      "source": [
        "demographic_event['Internalpatientid'].value_counts()"
      ],
      "outputs": [
        {
          "output_type": "execute_result",
          "execution_count": 10,
          "data": {
            "text/plain": "Internalpatientid\n100028    1\n147590    1\n147463    1\n147461    1\n147460    1\n         ..\n107923    1\n107903    1\n10787     1\n10774     1\n9999      1\nName: count, Length: 133252, dtype: int64"
          },
          "metadata": {}
        }
      ],
      "execution_count": 10,
      "metadata": {
        "jupyter": {
          "source_hidden": false,
          "outputs_hidden": false
        },
        "nteract": {
          "transient": {
            "deleting": false
          }
        },
        "gather": {
          "logged": 1689000305067
        }
      }
    },
    {
      "cell_type": "code",
      "source": [
        "demographic_event.nunique()"
      ],
      "outputs": [
        {
          "output_type": "execute_result",
          "execution_count": 11,
          "data": {
            "text/plain": "Internalpatientid    133252\nAge at update        133251\nMarital status            8\nRuca category             4\ndtype: int64"
          },
          "metadata": {}
        }
      ],
      "execution_count": 11,
      "metadata": {
        "jupyter": {
          "source_hidden": false,
          "outputs_hidden": false
        },
        "nteract": {
          "transient": {
            "deleting": false
          }
        },
        "gather": {
          "logged": 1689000340511
        }
      }
    },
    {
      "cell_type": "code",
      "source": [
        "sorted_df = demographic_event.sort_values(by=['Internalpatientid','Age at update'])"
      ],
      "outputs": [],
      "execution_count": 12,
      "metadata": {
        "jupyter": {
          "source_hidden": false,
          "outputs_hidden": false
        },
        "nteract": {
          "transient": {
            "deleting": false
          }
        },
        "gather": {
          "logged": 1689000394295
        }
      }
    },
    {
      "cell_type": "code",
      "source": [
        "sorted_df"
      ],
      "outputs": [
        {
          "output_type": "execute_result",
          "execution_count": 13,
          "data": {
            "text/plain": "       Internalpatientid  Age at update Marital status Ruca category\n53728                  1      80.229505        Married         Urban\n16960                  2      69.529811       Divorced         Urban\n52739                  3      83.579763        Married         Urban\n62525                  4      84.691772        Married         Urban\n34394                  5      76.712091        Married         Urban\n...                  ...            ...            ...           ...\n90380             169060      72.059713        Married         Rural\n86147             169061      81.927523        Married         Urban\n97541             169062      75.509632       Divorced         Urban\n21647             169063      78.489673        Married         Rural\n90381             169064      87.936775        Widowed         Rural\n\n[133252 rows x 4 columns]",
            "text/html": "<div>\n<style scoped>\n    .dataframe tbody tr th:only-of-type {\n        vertical-align: middle;\n    }\n\n    .dataframe tbody tr th {\n        vertical-align: top;\n    }\n\n    .dataframe thead th {\n        text-align: right;\n    }\n</style>\n<table border=\"1\" class=\"dataframe\">\n  <thead>\n    <tr style=\"text-align: right;\">\n      <th></th>\n      <th>Internalpatientid</th>\n      <th>Age at update</th>\n      <th>Marital status</th>\n      <th>Ruca category</th>\n    </tr>\n  </thead>\n  <tbody>\n    <tr>\n      <th>53728</th>\n      <td>1</td>\n      <td>80.229505</td>\n      <td>Married</td>\n      <td>Urban</td>\n    </tr>\n    <tr>\n      <th>16960</th>\n      <td>2</td>\n      <td>69.529811</td>\n      <td>Divorced</td>\n      <td>Urban</td>\n    </tr>\n    <tr>\n      <th>52739</th>\n      <td>3</td>\n      <td>83.579763</td>\n      <td>Married</td>\n      <td>Urban</td>\n    </tr>\n    <tr>\n      <th>62525</th>\n      <td>4</td>\n      <td>84.691772</td>\n      <td>Married</td>\n      <td>Urban</td>\n    </tr>\n    <tr>\n      <th>34394</th>\n      <td>5</td>\n      <td>76.712091</td>\n      <td>Married</td>\n      <td>Urban</td>\n    </tr>\n    <tr>\n      <th>...</th>\n      <td>...</td>\n      <td>...</td>\n      <td>...</td>\n      <td>...</td>\n    </tr>\n    <tr>\n      <th>90380</th>\n      <td>169060</td>\n      <td>72.059713</td>\n      <td>Married</td>\n      <td>Rural</td>\n    </tr>\n    <tr>\n      <th>86147</th>\n      <td>169061</td>\n      <td>81.927523</td>\n      <td>Married</td>\n      <td>Urban</td>\n    </tr>\n    <tr>\n      <th>97541</th>\n      <td>169062</td>\n      <td>75.509632</td>\n      <td>Divorced</td>\n      <td>Urban</td>\n    </tr>\n    <tr>\n      <th>21647</th>\n      <td>169063</td>\n      <td>78.489673</td>\n      <td>Married</td>\n      <td>Rural</td>\n    </tr>\n    <tr>\n      <th>90381</th>\n      <td>169064</td>\n      <td>87.936775</td>\n      <td>Widowed</td>\n      <td>Rural</td>\n    </tr>\n  </tbody>\n</table>\n<p>133252 rows × 4 columns</p>\n</div>"
          },
          "metadata": {}
        }
      ],
      "execution_count": 13,
      "metadata": {
        "jupyter": {
          "source_hidden": false,
          "outputs_hidden": false
        },
        "nteract": {
          "transient": {
            "deleting": false
          }
        },
        "gather": {
          "logged": 1689000408511
        }
      }
    },
    {
      "cell_type": "code",
      "source": [
        "# Finding the missing values\r\n",
        "demographic_event.isnull().sum()"
      ],
      "outputs": [
        {
          "output_type": "execute_result",
          "execution_count": 14,
          "data": {
            "text/plain": "Internalpatientid    0\nAge at update        0\nMarital status       0\nRuca category        0\ndtype: int64"
          },
          "metadata": {}
        }
      ],
      "execution_count": 14,
      "metadata": {
        "jupyter": {
          "source_hidden": false,
          "outputs_hidden": false
        },
        "nteract": {
          "transient": {
            "deleting": false
          }
        },
        "gather": {
          "logged": 1689000444556
        }
      }
    },
    {
      "cell_type": "code",
      "source": [
        "# Format 'Age at measurement' values in the format 00.00\r\n",
        "sorted_df[\"Age at update\"] = sorted_df[\"Age at update\"].map(\"{:.2f}\".format)\r\n",
        "sorted_df"
      ],
      "outputs": [
        {
          "output_type": "execute_result",
          "execution_count": 15,
          "data": {
            "text/plain": "       Internalpatientid Age at update Marital status Ruca category\n53728                  1         80.23        Married         Urban\n16960                  2         69.53       Divorced         Urban\n52739                  3         83.58        Married         Urban\n62525                  4         84.69        Married         Urban\n34394                  5         76.71        Married         Urban\n...                  ...           ...            ...           ...\n90380             169060         72.06        Married         Rural\n86147             169061         81.93        Married         Urban\n97541             169062         75.51       Divorced         Urban\n21647             169063         78.49        Married         Rural\n90381             169064         87.94        Widowed         Rural\n\n[133252 rows x 4 columns]",
            "text/html": "<div>\n<style scoped>\n    .dataframe tbody tr th:only-of-type {\n        vertical-align: middle;\n    }\n\n    .dataframe tbody tr th {\n        vertical-align: top;\n    }\n\n    .dataframe thead th {\n        text-align: right;\n    }\n</style>\n<table border=\"1\" class=\"dataframe\">\n  <thead>\n    <tr style=\"text-align: right;\">\n      <th></th>\n      <th>Internalpatientid</th>\n      <th>Age at update</th>\n      <th>Marital status</th>\n      <th>Ruca category</th>\n    </tr>\n  </thead>\n  <tbody>\n    <tr>\n      <th>53728</th>\n      <td>1</td>\n      <td>80.23</td>\n      <td>Married</td>\n      <td>Urban</td>\n    </tr>\n    <tr>\n      <th>16960</th>\n      <td>2</td>\n      <td>69.53</td>\n      <td>Divorced</td>\n      <td>Urban</td>\n    </tr>\n    <tr>\n      <th>52739</th>\n      <td>3</td>\n      <td>83.58</td>\n      <td>Married</td>\n      <td>Urban</td>\n    </tr>\n    <tr>\n      <th>62525</th>\n      <td>4</td>\n      <td>84.69</td>\n      <td>Married</td>\n      <td>Urban</td>\n    </tr>\n    <tr>\n      <th>34394</th>\n      <td>5</td>\n      <td>76.71</td>\n      <td>Married</td>\n      <td>Urban</td>\n    </tr>\n    <tr>\n      <th>...</th>\n      <td>...</td>\n      <td>...</td>\n      <td>...</td>\n      <td>...</td>\n    </tr>\n    <tr>\n      <th>90380</th>\n      <td>169060</td>\n      <td>72.06</td>\n      <td>Married</td>\n      <td>Rural</td>\n    </tr>\n    <tr>\n      <th>86147</th>\n      <td>169061</td>\n      <td>81.93</td>\n      <td>Married</td>\n      <td>Urban</td>\n    </tr>\n    <tr>\n      <th>97541</th>\n      <td>169062</td>\n      <td>75.51</td>\n      <td>Divorced</td>\n      <td>Urban</td>\n    </tr>\n    <tr>\n      <th>21647</th>\n      <td>169063</td>\n      <td>78.49</td>\n      <td>Married</td>\n      <td>Rural</td>\n    </tr>\n    <tr>\n      <th>90381</th>\n      <td>169064</td>\n      <td>87.94</td>\n      <td>Widowed</td>\n      <td>Rural</td>\n    </tr>\n  </tbody>\n</table>\n<p>133252 rows × 4 columns</p>\n</div>"
          },
          "metadata": {}
        }
      ],
      "execution_count": 15,
      "metadata": {
        "jupyter": {
          "source_hidden": false,
          "outputs_hidden": false
        },
        "nteract": {
          "transient": {
            "deleting": false
          }
        },
        "gather": {
          "logged": 1689000481629
        }
      }
    },
    {
      "cell_type": "code",
      "source": [
        "# Find the maximum age for each internal patient id\r\n",
        "max_ages = sorted_df.groupby('Internalpatientid')['Age at update'].max().reset_index()\r\n",
        "\r\n",
        "# Merge with the original dataframe to get the rows with the highest age\r\n",
        "\r\n",
        "result_df = pd.merge(sorted_df, max_ages, on =['Internalpatientid','Age at update'], how = 'inner')\r\n",
        "\r\n",
        "result_df"
      ],
      "outputs": [
        {
          "output_type": "execute_result",
          "execution_count": 16,
          "data": {
            "text/plain": "        Internalpatientid Age at update Marital status Ruca category\n0                       1         80.23        Married         Urban\n1                       2         69.53       Divorced         Urban\n2                       3         83.58        Married         Urban\n3                       4         84.69        Married         Urban\n4                       5         76.71        Married         Urban\n...                   ...           ...            ...           ...\n133247             169060         72.06        Married         Rural\n133248             169061         81.93        Married         Urban\n133249             169062         75.51       Divorced         Urban\n133250             169063         78.49        Married         Rural\n133251             169064         87.94        Widowed         Rural\n\n[133252 rows x 4 columns]",
            "text/html": "<div>\n<style scoped>\n    .dataframe tbody tr th:only-of-type {\n        vertical-align: middle;\n    }\n\n    .dataframe tbody tr th {\n        vertical-align: top;\n    }\n\n    .dataframe thead th {\n        text-align: right;\n    }\n</style>\n<table border=\"1\" class=\"dataframe\">\n  <thead>\n    <tr style=\"text-align: right;\">\n      <th></th>\n      <th>Internalpatientid</th>\n      <th>Age at update</th>\n      <th>Marital status</th>\n      <th>Ruca category</th>\n    </tr>\n  </thead>\n  <tbody>\n    <tr>\n      <th>0</th>\n      <td>1</td>\n      <td>80.23</td>\n      <td>Married</td>\n      <td>Urban</td>\n    </tr>\n    <tr>\n      <th>1</th>\n      <td>2</td>\n      <td>69.53</td>\n      <td>Divorced</td>\n      <td>Urban</td>\n    </tr>\n    <tr>\n      <th>2</th>\n      <td>3</td>\n      <td>83.58</td>\n      <td>Married</td>\n      <td>Urban</td>\n    </tr>\n    <tr>\n      <th>3</th>\n      <td>4</td>\n      <td>84.69</td>\n      <td>Married</td>\n      <td>Urban</td>\n    </tr>\n    <tr>\n      <th>4</th>\n      <td>5</td>\n      <td>76.71</td>\n      <td>Married</td>\n      <td>Urban</td>\n    </tr>\n    <tr>\n      <th>...</th>\n      <td>...</td>\n      <td>...</td>\n      <td>...</td>\n      <td>...</td>\n    </tr>\n    <tr>\n      <th>133247</th>\n      <td>169060</td>\n      <td>72.06</td>\n      <td>Married</td>\n      <td>Rural</td>\n    </tr>\n    <tr>\n      <th>133248</th>\n      <td>169061</td>\n      <td>81.93</td>\n      <td>Married</td>\n      <td>Urban</td>\n    </tr>\n    <tr>\n      <th>133249</th>\n      <td>169062</td>\n      <td>75.51</td>\n      <td>Divorced</td>\n      <td>Urban</td>\n    </tr>\n    <tr>\n      <th>133250</th>\n      <td>169063</td>\n      <td>78.49</td>\n      <td>Married</td>\n      <td>Rural</td>\n    </tr>\n    <tr>\n      <th>133251</th>\n      <td>169064</td>\n      <td>87.94</td>\n      <td>Widowed</td>\n      <td>Rural</td>\n    </tr>\n  </tbody>\n</table>\n<p>133252 rows × 4 columns</p>\n</div>"
          },
          "metadata": {}
        }
      ],
      "execution_count": 16,
      "metadata": {
        "jupyter": {
          "source_hidden": false,
          "outputs_hidden": false
        },
        "nteract": {
          "transient": {
            "deleting": false
          }
        },
        "gather": {
          "logged": 1689000527733
        }
      }
    },
    {
      "cell_type": "code",
      "source": [
        "# Convert 'Age at measurement' column from object to float\r\n",
        "result_df[\"Age at update\"] = result_df[\"Age at update\"].astype(float)\r\n",
        "\r\n",
        " \r\n",
        "\r\n",
        "# Round off the values in the 'Age at measurement' column to two decimal places\r\n",
        "result_df[\"Age at update\"] = result_df[\"Age at update\"].round()"
      ],
      "outputs": [],
      "execution_count": 17,
      "metadata": {
        "jupyter": {
          "source_hidden": false,
          "outputs_hidden": false
        },
        "nteract": {
          "transient": {
            "deleting": false
          }
        },
        "gather": {
          "logged": 1689000600940
        }
      }
    },
    {
      "cell_type": "code",
      "source": [
        "result_df['Age at update'] = result_df['Age at update'].astype('int')"
      ],
      "outputs": [],
      "execution_count": 18,
      "metadata": {
        "jupyter": {
          "source_hidden": false,
          "outputs_hidden": false
        },
        "nteract": {
          "transient": {
            "deleting": false
          }
        },
        "gather": {
          "logged": 1689000602931
        }
      }
    },
    {
      "cell_type": "code",
      "source": [
        "# Now the value counts\r\n",
        "result_df['Internalpatientid'].value_counts()"
      ],
      "outputs": [
        {
          "output_type": "execute_result",
          "execution_count": 19,
          "data": {
            "text/plain": "Internalpatientid\n1         1\n112592    1\n112590    1\n112589    1\n112588    1\n         ..\n56240     1\n56237     1\n56236     1\n56235     1\n169064    1\nName: count, Length: 133252, dtype: int64"
          },
          "metadata": {}
        }
      ],
      "execution_count": 19,
      "metadata": {
        "jupyter": {
          "source_hidden": false,
          "outputs_hidden": false
        },
        "nteract": {
          "transient": {
            "deleting": false
          }
        },
        "gather": {
          "logged": 1689000619190
        }
      }
    },
    {
      "cell_type": "code",
      "source": [
        "result_df['demo_event_marital_status'] = result_df['Age at update'].astype(str) + '_' + result_df['Marital status']\r\n",
        "result_df"
      ],
      "outputs": [
        {
          "output_type": "execute_result",
          "execution_count": 20,
          "data": {
            "text/plain": "        Internalpatientid  Age at update Marital status Ruca category   \n0                       1             80        Married         Urban  \\\n1                       2             70       Divorced         Urban   \n2                       3             84        Married         Urban   \n3                       4             85        Married         Urban   \n4                       5             77        Married         Urban   \n...                   ...            ...            ...           ...   \n133247             169060             72        Married         Rural   \n133248             169061             82        Married         Urban   \n133249             169062             76       Divorced         Urban   \n133250             169063             78        Married         Rural   \n133251             169064             88        Widowed         Rural   \n\n       demo_event_marital_status  \n0                     80_Married  \n1                    70_Divorced  \n2                     84_Married  \n3                     85_Married  \n4                     77_Married  \n...                          ...  \n133247                72_Married  \n133248                82_Married  \n133249               76_Divorced  \n133250                78_Married  \n133251                88_Widowed  \n\n[133252 rows x 5 columns]",
            "text/html": "<div>\n<style scoped>\n    .dataframe tbody tr th:only-of-type {\n        vertical-align: middle;\n    }\n\n    .dataframe tbody tr th {\n        vertical-align: top;\n    }\n\n    .dataframe thead th {\n        text-align: right;\n    }\n</style>\n<table border=\"1\" class=\"dataframe\">\n  <thead>\n    <tr style=\"text-align: right;\">\n      <th></th>\n      <th>Internalpatientid</th>\n      <th>Age at update</th>\n      <th>Marital status</th>\n      <th>Ruca category</th>\n      <th>demo_event_marital_status</th>\n    </tr>\n  </thead>\n  <tbody>\n    <tr>\n      <th>0</th>\n      <td>1</td>\n      <td>80</td>\n      <td>Married</td>\n      <td>Urban</td>\n      <td>80_Married</td>\n    </tr>\n    <tr>\n      <th>1</th>\n      <td>2</td>\n      <td>70</td>\n      <td>Divorced</td>\n      <td>Urban</td>\n      <td>70_Divorced</td>\n    </tr>\n    <tr>\n      <th>2</th>\n      <td>3</td>\n      <td>84</td>\n      <td>Married</td>\n      <td>Urban</td>\n      <td>84_Married</td>\n    </tr>\n    <tr>\n      <th>3</th>\n      <td>4</td>\n      <td>85</td>\n      <td>Married</td>\n      <td>Urban</td>\n      <td>85_Married</td>\n    </tr>\n    <tr>\n      <th>4</th>\n      <td>5</td>\n      <td>77</td>\n      <td>Married</td>\n      <td>Urban</td>\n      <td>77_Married</td>\n    </tr>\n    <tr>\n      <th>...</th>\n      <td>...</td>\n      <td>...</td>\n      <td>...</td>\n      <td>...</td>\n      <td>...</td>\n    </tr>\n    <tr>\n      <th>133247</th>\n      <td>169060</td>\n      <td>72</td>\n      <td>Married</td>\n      <td>Rural</td>\n      <td>72_Married</td>\n    </tr>\n    <tr>\n      <th>133248</th>\n      <td>169061</td>\n      <td>82</td>\n      <td>Married</td>\n      <td>Urban</td>\n      <td>82_Married</td>\n    </tr>\n    <tr>\n      <th>133249</th>\n      <td>169062</td>\n      <td>76</td>\n      <td>Divorced</td>\n      <td>Urban</td>\n      <td>76_Divorced</td>\n    </tr>\n    <tr>\n      <th>133250</th>\n      <td>169063</td>\n      <td>78</td>\n      <td>Married</td>\n      <td>Rural</td>\n      <td>78_Married</td>\n    </tr>\n    <tr>\n      <th>133251</th>\n      <td>169064</td>\n      <td>88</td>\n      <td>Widowed</td>\n      <td>Rural</td>\n      <td>88_Widowed</td>\n    </tr>\n  </tbody>\n</table>\n<p>133252 rows × 5 columns</p>\n</div>"
          },
          "metadata": {}
        }
      ],
      "execution_count": 20,
      "metadata": {
        "jupyter": {
          "source_hidden": false,
          "outputs_hidden": false
        },
        "nteract": {
          "transient": {
            "deleting": false
          }
        },
        "gather": {
          "logged": 1689000849757
        }
      }
    },
    {
      "cell_type": "code",
      "source": [
        "result_df.drop(['Age at update','Marital status','Ruca category'], axis = 1,inplace = True)\r\n",
        "result_df"
      ],
      "outputs": [
        {
          "output_type": "execute_result",
          "execution_count": 21,
          "data": {
            "text/plain": "        Internalpatientid demo_event_marital_status\n0                       1                80_Married\n1                       2               70_Divorced\n2                       3                84_Married\n3                       4                85_Married\n4                       5                77_Married\n...                   ...                       ...\n133247             169060                72_Married\n133248             169061                82_Married\n133249             169062               76_Divorced\n133250             169063                78_Married\n133251             169064                88_Widowed\n\n[133252 rows x 2 columns]",
            "text/html": "<div>\n<style scoped>\n    .dataframe tbody tr th:only-of-type {\n        vertical-align: middle;\n    }\n\n    .dataframe tbody tr th {\n        vertical-align: top;\n    }\n\n    .dataframe thead th {\n        text-align: right;\n    }\n</style>\n<table border=\"1\" class=\"dataframe\">\n  <thead>\n    <tr style=\"text-align: right;\">\n      <th></th>\n      <th>Internalpatientid</th>\n      <th>demo_event_marital_status</th>\n    </tr>\n  </thead>\n  <tbody>\n    <tr>\n      <th>0</th>\n      <td>1</td>\n      <td>80_Married</td>\n    </tr>\n    <tr>\n      <th>1</th>\n      <td>2</td>\n      <td>70_Divorced</td>\n    </tr>\n    <tr>\n      <th>2</th>\n      <td>3</td>\n      <td>84_Married</td>\n    </tr>\n    <tr>\n      <th>3</th>\n      <td>4</td>\n      <td>85_Married</td>\n    </tr>\n    <tr>\n      <th>4</th>\n      <td>5</td>\n      <td>77_Married</td>\n    </tr>\n    <tr>\n      <th>...</th>\n      <td>...</td>\n      <td>...</td>\n    </tr>\n    <tr>\n      <th>133247</th>\n      <td>169060</td>\n      <td>72_Married</td>\n    </tr>\n    <tr>\n      <th>133248</th>\n      <td>169061</td>\n      <td>82_Married</td>\n    </tr>\n    <tr>\n      <th>133249</th>\n      <td>169062</td>\n      <td>76_Divorced</td>\n    </tr>\n    <tr>\n      <th>133250</th>\n      <td>169063</td>\n      <td>78_Married</td>\n    </tr>\n    <tr>\n      <th>133251</th>\n      <td>169064</td>\n      <td>88_Widowed</td>\n    </tr>\n  </tbody>\n</table>\n<p>133252 rows × 2 columns</p>\n</div>"
          },
          "metadata": {}
        }
      ],
      "execution_count": 21,
      "metadata": {
        "jupyter": {
          "source_hidden": false,
          "outputs_hidden": false
        },
        "nteract": {
          "transient": {
            "deleting": false
          }
        },
        "gather": {
          "logged": 1689000931218
        }
      }
    },
    {
      "cell_type": "code",
      "source": [
        "result_df['Internalpatientid'].value_counts()"
      ],
      "outputs": [
        {
          "output_type": "execute_result",
          "execution_count": 22,
          "data": {
            "text/plain": "Internalpatientid\n1         1\n112592    1\n112590    1\n112589    1\n112588    1\n         ..\n56240     1\n56237     1\n56236     1\n56235     1\n169064    1\nName: count, Length: 133252, dtype: int64"
          },
          "metadata": {}
        }
      ],
      "execution_count": 22,
      "metadata": {
        "jupyter": {
          "source_hidden": false,
          "outputs_hidden": false
        },
        "nteract": {
          "transient": {
            "deleting": false
          }
        },
        "gather": {
          "logged": 1689001029608
        }
      }
    },
    {
      "cell_type": "code",
      "source": [
        "# saving as the csv file in the appropriate directory\r\n",
        "result_df.to_csv('/mnt/batch/tasks/shared/LS_root/mounts/clusters/team3-nishagpu2/code/Users/900379/Output_files_train/df_demographic_event_train.csv')"
      ],
      "outputs": [],
      "execution_count": 24,
      "metadata": {
        "jupyter": {
          "source_hidden": false,
          "outputs_hidden": false
        },
        "nteract": {
          "transient": {
            "deleting": false
          }
        },
        "gather": {
          "logged": 1689001085742
        }
      }
    }
  ],
  "metadata": {
    "kernelspec": {
      "name": "python310-sdkv2",
      "language": "python",
      "display_name": "Python 3.10 - SDK v2"
    },
    "language_info": {
      "name": "python",
      "version": "3.10.10",
      "mimetype": "text/x-python",
      "codemirror_mode": {
        "name": "ipython",
        "version": 3
      },
      "pygments_lexer": "ipython3",
      "nbconvert_exporter": "python",
      "file_extension": ".py"
    },
    "microsoft": {
      "ms_spell_check": {
        "ms_spell_check_language": "en"
      },
      "host": {
        "AzureML": {
          "notebookHasBeenCompleted": true
        }
      }
    },
    "kernel_info": {
      "name": "python310-sdkv2"
    },
    "nteract": {
      "version": "nteract-front-end@1.0.0"
    }
  },
  "nbformat": 4,
  "nbformat_minor": 2
}