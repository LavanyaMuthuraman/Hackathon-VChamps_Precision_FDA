{
  "cells": [
    {
      "cell_type": "code",
      "source": [
        "from azureml.core import Workspace, Dataset\r\n",
        "\r\n",
        "subscription_id = 'bcfe0c62-8ebe-4df0-a46d-1efcf8739a5b'\r\n",
        "resource_group = 'VChamp-Team3'\r\n",
        "workspace_name = 'vchamp-team3'\r\n",
        "\r\n",
        "\r\n",
        "# storage account : Algorithmia, Resource group: VChamp-Team3 and workspace: vchamp-team3.\r\n",
        "\r\n",
        "workspace = Workspace(subscription_id, resource_group, workspace_name)"
      ],
      "outputs": [],
      "execution_count": 1,
      "metadata": {
        "gather": {
          "logged": 1689002587938
        }
      }
    },
    {
      "cell_type": "code",
      "source": [
        "#['data_team3_synthetic_quality_check']\r\n",
        "datastore = workspace.datastores['data_team3_synthetic_train']"
      ],
      "outputs": [],
      "execution_count": 2,
      "metadata": {
        "jupyter": {
          "source_hidden": false,
          "outputs_hidden": false
        },
        "nteract": {
          "transient": {
            "deleting": false
          }
        },
        "gather": {
          "logged": 1689002600528
        }
      }
    },
    {
      "cell_type": "code",
      "source": [
        "dataset = Dataset.Tabular.from_delimited_files(path = [(datastore, 'demographics_static_train.csv')])\r\n",
        "\r\n",
        "# preview the first 3 rows of the dataset\r\n",
        "# dataset.to_pandas_dataframe()"
      ],
      "outputs": [],
      "execution_count": 3,
      "metadata": {
        "jupyter": {
          "source_hidden": false,
          "outputs_hidden": false
        },
        "nteract": {
          "transient": {
            "deleting": false
          }
        },
        "gather": {
          "logged": 1689002613747
        }
      }
    },
    {
      "cell_type": "code",
      "source": [
        "demographic_static = dataset.to_pandas_dataframe()"
      ],
      "outputs": [],
      "execution_count": 4,
      "metadata": {
        "jupyter": {
          "source_hidden": false,
          "outputs_hidden": false
        },
        "nteract": {
          "transient": {
            "deleting": false
          }
        },
        "gather": {
          "logged": 1689002625579
        }
      }
    },
    {
      "cell_type": "code",
      "source": [
        "demographic_static"
      ],
      "outputs": [
        {
          "output_type": "execute_result",
          "execution_count": 5,
          "data": {
            "text/plain": "        Column1  Internalpatientid               Ethnicity  Gender   \n0             0             168674      Hispanic or Latino    Male  \\\n1             1             168681  Not Hispanic or Latino    Male   \n2             2             168696  Not Hispanic or Latino  Female   \n3             3             168711  Not Hispanic or Latino    Male   \n4             4             168720  Not Hispanic or Latino    Male   \n...         ...                ...                     ...     ...   \n133247   169059             168624  Not Hispanic or Latino    Male   \n133248   169060             168626  Not Hispanic or Latino    Male   \n133249   169061             168628  Not Hispanic or Latino    Male   \n133250   169062             168645  Not Hispanic or Latino    Male   \n133251   169064             168661  Not Hispanic or Latino    Male   \n\n                            Races  Veteran flag  \n0                           White          True  \n1                           White          True  \n2        Not specified (no value)          True  \n3                           Other          True  \n4                           White          True  \n...                           ...           ...  \n133247  Black or African American          True  \n133248  Black or African American          True  \n133249                      White          True  \n133250                      White          True  \n133251                      White          True  \n\n[133252 rows x 6 columns]",
            "text/html": "<div>\n<style scoped>\n    .dataframe tbody tr th:only-of-type {\n        vertical-align: middle;\n    }\n\n    .dataframe tbody tr th {\n        vertical-align: top;\n    }\n\n    .dataframe thead th {\n        text-align: right;\n    }\n</style>\n<table border=\"1\" class=\"dataframe\">\n  <thead>\n    <tr style=\"text-align: right;\">\n      <th></th>\n      <th>Column1</th>\n      <th>Internalpatientid</th>\n      <th>Ethnicity</th>\n      <th>Gender</th>\n      <th>Races</th>\n      <th>Veteran flag</th>\n    </tr>\n  </thead>\n  <tbody>\n    <tr>\n      <th>0</th>\n      <td>0</td>\n      <td>168674</td>\n      <td>Hispanic or Latino</td>\n      <td>Male</td>\n      <td>White</td>\n      <td>True</td>\n    </tr>\n    <tr>\n      <th>1</th>\n      <td>1</td>\n      <td>168681</td>\n      <td>Not Hispanic or Latino</td>\n      <td>Male</td>\n      <td>White</td>\n      <td>True</td>\n    </tr>\n    <tr>\n      <th>2</th>\n      <td>2</td>\n      <td>168696</td>\n      <td>Not Hispanic or Latino</td>\n      <td>Female</td>\n      <td>Not specified (no value)</td>\n      <td>True</td>\n    </tr>\n    <tr>\n      <th>3</th>\n      <td>3</td>\n      <td>168711</td>\n      <td>Not Hispanic or Latino</td>\n      <td>Male</td>\n      <td>Other</td>\n      <td>True</td>\n    </tr>\n    <tr>\n      <th>4</th>\n      <td>4</td>\n      <td>168720</td>\n      <td>Not Hispanic or Latino</td>\n      <td>Male</td>\n      <td>White</td>\n      <td>True</td>\n    </tr>\n    <tr>\n      <th>...</th>\n      <td>...</td>\n      <td>...</td>\n      <td>...</td>\n      <td>...</td>\n      <td>...</td>\n      <td>...</td>\n    </tr>\n    <tr>\n      <th>133247</th>\n      <td>169059</td>\n      <td>168624</td>\n      <td>Not Hispanic or Latino</td>\n      <td>Male</td>\n      <td>Black or African American</td>\n      <td>True</td>\n    </tr>\n    <tr>\n      <th>133248</th>\n      <td>169060</td>\n      <td>168626</td>\n      <td>Not Hispanic or Latino</td>\n      <td>Male</td>\n      <td>Black or African American</td>\n      <td>True</td>\n    </tr>\n    <tr>\n      <th>133249</th>\n      <td>169061</td>\n      <td>168628</td>\n      <td>Not Hispanic or Latino</td>\n      <td>Male</td>\n      <td>White</td>\n      <td>True</td>\n    </tr>\n    <tr>\n      <th>133250</th>\n      <td>169062</td>\n      <td>168645</td>\n      <td>Not Hispanic or Latino</td>\n      <td>Male</td>\n      <td>White</td>\n      <td>True</td>\n    </tr>\n    <tr>\n      <th>133251</th>\n      <td>169064</td>\n      <td>168661</td>\n      <td>Not Hispanic or Latino</td>\n      <td>Male</td>\n      <td>White</td>\n      <td>True</td>\n    </tr>\n  </tbody>\n</table>\n<p>133252 rows × 6 columns</p>\n</div>"
          },
          "metadata": {}
        }
      ],
      "execution_count": 5,
      "metadata": {
        "jupyter": {
          "source_hidden": false,
          "outputs_hidden": false
        },
        "nteract": {
          "transient": {
            "deleting": false
          }
        },
        "gather": {
          "logged": 1689002639765
        }
      }
    },
    {
      "cell_type": "code",
      "source": [
        "demographic_static['Internalpatientid'].value_counts()"
      ],
      "outputs": [
        {
          "output_type": "execute_result",
          "execution_count": 6,
          "data": {
            "text/plain": "Internalpatientid\n168674    1\n12622     1\n126206    1\n126198    1\n126192    1\n         ..\n48610     1\n48583     1\n48578     1\n48573     1\n168661    1\nName: count, Length: 133252, dtype: int64"
          },
          "metadata": {}
        }
      ],
      "execution_count": 6,
      "metadata": {
        "jupyter": {
          "source_hidden": false,
          "outputs_hidden": false
        },
        "nteract": {
          "transient": {
            "deleting": false
          }
        },
        "gather": {
          "logged": 1689002669634
        }
      }
    },
    {
      "cell_type": "code",
      "source": [
        "demographic_static = demographic_static.drop(['Column1','Ethnicity','Races'], axis = 1)\r\n",
        "demographic_static.head()"
      ],
      "outputs": [
        {
          "output_type": "execute_result",
          "execution_count": 7,
          "data": {
            "text/plain": "   Internalpatientid  Gender  Veteran flag\n0             168674    Male          True\n1             168681    Male          True\n2             168696  Female          True\n3             168711    Male          True\n4             168720    Male          True",
            "text/html": "<div>\n<style scoped>\n    .dataframe tbody tr th:only-of-type {\n        vertical-align: middle;\n    }\n\n    .dataframe tbody tr th {\n        vertical-align: top;\n    }\n\n    .dataframe thead th {\n        text-align: right;\n    }\n</style>\n<table border=\"1\" class=\"dataframe\">\n  <thead>\n    <tr style=\"text-align: right;\">\n      <th></th>\n      <th>Internalpatientid</th>\n      <th>Gender</th>\n      <th>Veteran flag</th>\n    </tr>\n  </thead>\n  <tbody>\n    <tr>\n      <th>0</th>\n      <td>168674</td>\n      <td>Male</td>\n      <td>True</td>\n    </tr>\n    <tr>\n      <th>1</th>\n      <td>168681</td>\n      <td>Male</td>\n      <td>True</td>\n    </tr>\n    <tr>\n      <th>2</th>\n      <td>168696</td>\n      <td>Female</td>\n      <td>True</td>\n    </tr>\n    <tr>\n      <th>3</th>\n      <td>168711</td>\n      <td>Male</td>\n      <td>True</td>\n    </tr>\n    <tr>\n      <th>4</th>\n      <td>168720</td>\n      <td>Male</td>\n      <td>True</td>\n    </tr>\n  </tbody>\n</table>\n</div>"
          },
          "metadata": {}
        }
      ],
      "execution_count": 7,
      "metadata": {
        "jupyter": {
          "source_hidden": false,
          "outputs_hidden": false
        },
        "nteract": {
          "transient": {
            "deleting": false
          }
        },
        "gather": {
          "logged": 1689002754669
        }
      }
    },
    {
      "cell_type": "code",
      "source": [
        "demographic_static"
      ],
      "outputs": [
        {
          "output_type": "execute_result",
          "execution_count": 8,
          "data": {
            "text/plain": "        Internalpatientid  Gender  Veteran flag\n0                  168674    Male          True\n1                  168681    Male          True\n2                  168696  Female          True\n3                  168711    Male          True\n4                  168720    Male          True\n...                   ...     ...           ...\n133247             168624    Male          True\n133248             168626    Male          True\n133249             168628    Male          True\n133250             168645    Male          True\n133251             168661    Male          True\n\n[133252 rows x 3 columns]",
            "text/html": "<div>\n<style scoped>\n    .dataframe tbody tr th:only-of-type {\n        vertical-align: middle;\n    }\n\n    .dataframe tbody tr th {\n        vertical-align: top;\n    }\n\n    .dataframe thead th {\n        text-align: right;\n    }\n</style>\n<table border=\"1\" class=\"dataframe\">\n  <thead>\n    <tr style=\"text-align: right;\">\n      <th></th>\n      <th>Internalpatientid</th>\n      <th>Gender</th>\n      <th>Veteran flag</th>\n    </tr>\n  </thead>\n  <tbody>\n    <tr>\n      <th>0</th>\n      <td>168674</td>\n      <td>Male</td>\n      <td>True</td>\n    </tr>\n    <tr>\n      <th>1</th>\n      <td>168681</td>\n      <td>Male</td>\n      <td>True</td>\n    </tr>\n    <tr>\n      <th>2</th>\n      <td>168696</td>\n      <td>Female</td>\n      <td>True</td>\n    </tr>\n    <tr>\n      <th>3</th>\n      <td>168711</td>\n      <td>Male</td>\n      <td>True</td>\n    </tr>\n    <tr>\n      <th>4</th>\n      <td>168720</td>\n      <td>Male</td>\n      <td>True</td>\n    </tr>\n    <tr>\n      <th>...</th>\n      <td>...</td>\n      <td>...</td>\n      <td>...</td>\n    </tr>\n    <tr>\n      <th>133247</th>\n      <td>168624</td>\n      <td>Male</td>\n      <td>True</td>\n    </tr>\n    <tr>\n      <th>133248</th>\n      <td>168626</td>\n      <td>Male</td>\n      <td>True</td>\n    </tr>\n    <tr>\n      <th>133249</th>\n      <td>168628</td>\n      <td>Male</td>\n      <td>True</td>\n    </tr>\n    <tr>\n      <th>133250</th>\n      <td>168645</td>\n      <td>Male</td>\n      <td>True</td>\n    </tr>\n    <tr>\n      <th>133251</th>\n      <td>168661</td>\n      <td>Male</td>\n      <td>True</td>\n    </tr>\n  </tbody>\n</table>\n<p>133252 rows × 3 columns</p>\n</div>"
          },
          "metadata": {}
        }
      ],
      "execution_count": 8,
      "metadata": {
        "jupyter": {
          "source_hidden": false,
          "outputs_hidden": false
        },
        "nteract": {
          "transient": {
            "deleting": false
          }
        },
        "gather": {
          "logged": 1689002837670
        }
      }
    },
    {
      "cell_type": "code",
      "source": [
        "sorted_df = demographic_static.sort_values(by=['Internalpatientid'])\r\n",
        "sorted_df"
      ],
      "outputs": [
        {
          "output_type": "execute_result",
          "execution_count": 10,
          "data": {
            "text/plain": "        Internalpatientid Gender  Veteran flag\n18099                   1   Male          True\n131674                  2   Male          True\n3476                    3   Male          True\n45420                   4   Male          True\n87625                   5   Male          True\n...                   ...    ...           ...\n131542             169060   Male          True\n84598              169061   Male          True\n3139               169062   Male          True\n25760              169063   Male          True\n59288              169064   Male          True\n\n[133252 rows x 3 columns]",
            "text/html": "<div>\n<style scoped>\n    .dataframe tbody tr th:only-of-type {\n        vertical-align: middle;\n    }\n\n    .dataframe tbody tr th {\n        vertical-align: top;\n    }\n\n    .dataframe thead th {\n        text-align: right;\n    }\n</style>\n<table border=\"1\" class=\"dataframe\">\n  <thead>\n    <tr style=\"text-align: right;\">\n      <th></th>\n      <th>Internalpatientid</th>\n      <th>Gender</th>\n      <th>Veteran flag</th>\n    </tr>\n  </thead>\n  <tbody>\n    <tr>\n      <th>18099</th>\n      <td>1</td>\n      <td>Male</td>\n      <td>True</td>\n    </tr>\n    <tr>\n      <th>131674</th>\n      <td>2</td>\n      <td>Male</td>\n      <td>True</td>\n    </tr>\n    <tr>\n      <th>3476</th>\n      <td>3</td>\n      <td>Male</td>\n      <td>True</td>\n    </tr>\n    <tr>\n      <th>45420</th>\n      <td>4</td>\n      <td>Male</td>\n      <td>True</td>\n    </tr>\n    <tr>\n      <th>87625</th>\n      <td>5</td>\n      <td>Male</td>\n      <td>True</td>\n    </tr>\n    <tr>\n      <th>...</th>\n      <td>...</td>\n      <td>...</td>\n      <td>...</td>\n    </tr>\n    <tr>\n      <th>131542</th>\n      <td>169060</td>\n      <td>Male</td>\n      <td>True</td>\n    </tr>\n    <tr>\n      <th>84598</th>\n      <td>169061</td>\n      <td>Male</td>\n      <td>True</td>\n    </tr>\n    <tr>\n      <th>3139</th>\n      <td>169062</td>\n      <td>Male</td>\n      <td>True</td>\n    </tr>\n    <tr>\n      <th>25760</th>\n      <td>169063</td>\n      <td>Male</td>\n      <td>True</td>\n    </tr>\n    <tr>\n      <th>59288</th>\n      <td>169064</td>\n      <td>Male</td>\n      <td>True</td>\n    </tr>\n  </tbody>\n</table>\n<p>133252 rows × 3 columns</p>\n</div>"
          },
          "metadata": {}
        }
      ],
      "execution_count": 10,
      "metadata": {
        "jupyter": {
          "source_hidden": false,
          "outputs_hidden": false
        },
        "nteract": {
          "transient": {
            "deleting": false
          }
        },
        "gather": {
          "logged": 1689002900655
        }
      }
    },
    {
      "cell_type": "code",
      "source": [
        "# saving as the csv file in the appropriate directory\r\n",
        "sorted_df.to_csv('/mnt/batch/tasks/shared/LS_root/mounts/clusters/team3-nishagpu2/code/Users/900379/Output_files_train/df_demographic_static_train.csv')"
      ],
      "outputs": [],
      "execution_count": 11,
      "metadata": {
        "jupyter": {
          "source_hidden": false,
          "outputs_hidden": false
        },
        "nteract": {
          "transient": {
            "deleting": false
          }
        },
        "gather": {
          "logged": 1689002943635
        }
      }
    }
  ],
  "metadata": {
    "kernelspec": {
      "name": "python310-sdkv2",
      "language": "python",
      "display_name": "Python 3.10 - SDK v2"
    },
    "language_info": {
      "name": "python",
      "version": "3.10.10",
      "mimetype": "text/x-python",
      "codemirror_mode": {
        "name": "ipython",
        "version": 3
      },
      "pygments_lexer": "ipython3",
      "nbconvert_exporter": "python",
      "file_extension": ".py"
    },
    "microsoft": {
      "ms_spell_check": {
        "ms_spell_check_language": "en"
      },
      "host": {
        "AzureML": {
          "notebookHasBeenCompleted": true
        }
      }
    },
    "kernel_info": {
      "name": "python310-sdkv2"
    },
    "nteract": {
      "version": "nteract-front-end@1.0.0"
    }
  },
  "nbformat": 4,
  "nbformat_minor": 2
}