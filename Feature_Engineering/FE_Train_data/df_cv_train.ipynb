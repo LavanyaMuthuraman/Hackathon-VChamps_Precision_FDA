{
 "cells": [
  {
   "cell_type": "code",
   "execution_count": 1,
   "metadata": {
    "gather": {
     "logged": 1688639269765
    }
   },
   "outputs": [],
   "source": [
    "#A class attribute that provides access to the TabularDatasetFactory methods for creating new TabularDataset objects. \n",
    "#Usage: Dataset.Tabular.from_delimited_files().\n",
    "from azureml.core import Workspace, Dataset\n",
    "\n",
    "subscription_id = 'bcfe0c62-8ebe-4df0-a46d-1efcf8739a5b' #check the launch studio there will get this id\n",
    "resource_group = 'VChamp-Team3' # resource group name\n",
    "workspace_name = 'vchamp-team3' # worksapce name\n",
    "\n",
    "\n",
    "# storage account : Algorithmia, Resource group: VChamp-Team3 and workspace: vchamp-team3.\n",
    "#Constructor\n",
    "workspace = Workspace(subscription_id, resource_group, workspace_name)"
   ]
  },
  {
   "cell_type": "code",
   "execution_count": 2,
   "metadata": {
    "collapsed": false,
    "gather": {
     "logged": 1688639271316
    },
    "jupyter": {
     "outputs_hidden": false,
     "source_hidden": false
    },
    "nteract": {
     "transient": {
      "deleting": false
     }
    }
   },
   "outputs": [],
   "source": [
    "#['data_team3_synthetic_train']\n",
    "datastore = workspace.datastores['data_team3_synthetic_train'] "
   ]
  },
  {
   "cell_type": "code",
   "execution_count": 3,
   "metadata": {
    "collapsed": false,
    "gather": {
     "logged": 1688639276373
    },
    "jupyter": {
     "outputs_hidden": false,
     "source_hidden": false
    },
    "nteract": {
     "transient": {
      "deleting": false
     }
    }
   },
   "outputs": [],
   "source": [
    "#from_delimited_files (Create a TabularDataset to represent tabular data in delimited files (e.g. CSV and TSV).\n",
    "\n",
    "dataset = Dataset.Tabular.from_delimited_files(path = [(datastore, 'conditions_train.csv')])\n",
    "\n",
    "# preview the first 3 rows of the dataset\n",
    "# dataset.to_pandas_dataframe()"
   ]
  },
  {
   "cell_type": "code",
   "execution_count": 95,
   "metadata": {
    "collapsed": false,
    "gather": {
     "logged": 1688639304997
    },
    "jupyter": {
     "outputs_hidden": false,
     "source_hidden": false
    },
    "nteract": {
     "transient": {
      "deleting": false
     }
    }
   },
   "outputs": [],
   "source": [
    "#Converting the dataset into data frame(default as dataset in Azure, thus we must convert the needed formate)\n",
    "conditions_train_data= dataset.to_pandas_dataframe()"
   ]
  },
  {
   "cell_type": "code",
   "execution_count": 96,
   "metadata": {
    "collapsed": false,
    "gather": {
     "logged": 1688639307902
    },
    "jupyter": {
     "outputs_hidden": false,
     "source_hidden": false
    },
    "nteract": {
     "transient": {
      "deleting": false
     }
    }
   },
   "outputs": [
    {
     "data": {
      "text/html": [
       "<div>\n",
       "<style scoped>\n",
       "    .dataframe tbody tr th:only-of-type {\n",
       "        vertical-align: middle;\n",
       "    }\n",
       "\n",
       "    .dataframe tbody tr th {\n",
       "        vertical-align: top;\n",
       "    }\n",
       "\n",
       "    .dataframe thead th {\n",
       "        text-align: right;\n",
       "    }\n",
       "</style>\n",
       "<table border=\"1\" class=\"dataframe\">\n",
       "  <thead>\n",
       "    <tr style=\"text-align: right;\">\n",
       "      <th></th>\n",
       "      <th>Column1</th>\n",
       "      <th>Internalpatientid</th>\n",
       "      <th>Age at condition documentation</th>\n",
       "      <th>Condition documented date</th>\n",
       "      <th>Condition type</th>\n",
       "      <th>Condition code icd10 subcategory</th>\n",
       "      <th>Diagnosis sequence number or rank</th>\n",
       "      <th>State</th>\n",
       "    </tr>\n",
       "  </thead>\n",
       "  <tbody>\n",
       "    <tr>\n",
       "      <th>0</th>\n",
       "      <td>0</td>\n",
       "      <td>1</td>\n",
       "      <td>57.912177</td>\n",
       "      <td>2002-03-03 21:37:12</td>\n",
       "      <td>Diagnosis</td>\n",
       "      <td>Polyosteoarthritis, unspecified ; Osteoarthrit...</td>\n",
       "      <td>S</td>\n",
       "      <td>Indiana</td>\n",
       "    </tr>\n",
       "    <tr>\n",
       "      <th>1</th>\n",
       "      <td>1</td>\n",
       "      <td>1</td>\n",
       "      <td>57.912177</td>\n",
       "      <td>2002-03-03 21:37:12</td>\n",
       "      <td>Diagnosis</td>\n",
       "      <td>Essential (primary) hypertension</td>\n",
       "      <td>P</td>\n",
       "      <td>Indiana</td>\n",
       "    </tr>\n",
       "    <tr>\n",
       "      <th>2</th>\n",
       "      <td>2</td>\n",
       "      <td>1</td>\n",
       "      <td>57.912177</td>\n",
       "      <td>2002-03-03 21:37:12</td>\n",
       "      <td>Diagnosis</td>\n",
       "      <td>Mixed hyperlipidemia</td>\n",
       "      <td>S</td>\n",
       "      <td>Indiana</td>\n",
       "    </tr>\n",
       "    <tr>\n",
       "      <th>3</th>\n",
       "      <td>3</td>\n",
       "      <td>1</td>\n",
       "      <td>58.636284</td>\n",
       "      <td>2002-11-23 13:29:02</td>\n",
       "      <td>Diagnosis</td>\n",
       "      <td>Mixed hyperlipidemia</td>\n",
       "      <td>S</td>\n",
       "      <td>Indiana</td>\n",
       "    </tr>\n",
       "    <tr>\n",
       "      <th>4</th>\n",
       "      <td>4</td>\n",
       "      <td>1</td>\n",
       "      <td>58.636284</td>\n",
       "      <td>2002-11-23 13:29:02</td>\n",
       "      <td>Diagnosis</td>\n",
       "      <td>Essential (primary) hypertension</td>\n",
       "      <td>P</td>\n",
       "      <td>Indiana</td>\n",
       "    </tr>\n",
       "    <tr>\n",
       "      <th>...</th>\n",
       "      <td>...</td>\n",
       "      <td>...</td>\n",
       "      <td>...</td>\n",
       "      <td>...</td>\n",
       "      <td>...</td>\n",
       "      <td>...</td>\n",
       "      <td>...</td>\n",
       "      <td>...</td>\n",
       "    </tr>\n",
       "    <tr>\n",
       "      <th>88266466</th>\n",
       "      <td>112205241</td>\n",
       "      <td>99999</td>\n",
       "      <td>96.300251</td>\n",
       "      <td>2013-03-19 17:47:55</td>\n",
       "      <td>Diagnosis</td>\n",
       "      <td>Other specified counseling</td>\n",
       "      <td>P</td>\n",
       "      <td>Arizona</td>\n",
       "    </tr>\n",
       "    <tr>\n",
       "      <th>88266467</th>\n",
       "      <td>112205242</td>\n",
       "      <td>99999</td>\n",
       "      <td>96.306231</td>\n",
       "      <td>2013-03-21 22:15:17</td>\n",
       "      <td>Diagnosis</td>\n",
       "      <td>End stage renal disease</td>\n",
       "      <td>P</td>\n",
       "      <td>Arizona</td>\n",
       "    </tr>\n",
       "    <tr>\n",
       "      <th>88266468</th>\n",
       "      <td>112205243</td>\n",
       "      <td>99999</td>\n",
       "      <td>96.313747</td>\n",
       "      <td>2013-03-24 16:11:04</td>\n",
       "      <td>Diagnosis</td>\n",
       "      <td>End stage renal disease</td>\n",
       "      <td>P</td>\n",
       "      <td>Arizona</td>\n",
       "    </tr>\n",
       "    <tr>\n",
       "      <th>88266469</th>\n",
       "      <td>112205244</td>\n",
       "      <td>99999</td>\n",
       "      <td>96.363722</td>\n",
       "      <td>2013-04-11 22:34:16</td>\n",
       "      <td>Diagnosis</td>\n",
       "      <td>End stage renal disease</td>\n",
       "      <td>P</td>\n",
       "      <td>Arizona</td>\n",
       "    </tr>\n",
       "    <tr>\n",
       "      <th>88266470</th>\n",
       "      <td>112205245</td>\n",
       "      <td>99999</td>\n",
       "      <td>96.373966</td>\n",
       "      <td>2013-04-15 16:25:50</td>\n",
       "      <td>Diagnosis</td>\n",
       "      <td>Disappearance and death of family member</td>\n",
       "      <td>P</td>\n",
       "      <td>Arizona</td>\n",
       "    </tr>\n",
       "  </tbody>\n",
       "</table>\n",
       "<p>88266471 rows × 8 columns</p>\n",
       "</div>"
      ],
      "text/plain": [
       "            Column1  Internalpatientid  Age at condition documentation  \\\n",
       "0                 0                  1                       57.912177   \n",
       "1                 1                  1                       57.912177   \n",
       "2                 2                  1                       57.912177   \n",
       "3                 3                  1                       58.636284   \n",
       "4                 4                  1                       58.636284   \n",
       "...             ...                ...                             ...   \n",
       "88266466  112205241              99999                       96.300251   \n",
       "88266467  112205242              99999                       96.306231   \n",
       "88266468  112205243              99999                       96.313747   \n",
       "88266469  112205244              99999                       96.363722   \n",
       "88266470  112205245              99999                       96.373966   \n",
       "\n",
       "         Condition documented date Condition type  \\\n",
       "0              2002-03-03 21:37:12      Diagnosis   \n",
       "1              2002-03-03 21:37:12      Diagnosis   \n",
       "2              2002-03-03 21:37:12      Diagnosis   \n",
       "3              2002-11-23 13:29:02      Diagnosis   \n",
       "4              2002-11-23 13:29:02      Diagnosis   \n",
       "...                            ...            ...   \n",
       "88266466       2013-03-19 17:47:55      Diagnosis   \n",
       "88266467       2013-03-21 22:15:17      Diagnosis   \n",
       "88266468       2013-03-24 16:11:04      Diagnosis   \n",
       "88266469       2013-04-11 22:34:16      Diagnosis   \n",
       "88266470       2013-04-15 16:25:50      Diagnosis   \n",
       "\n",
       "                           Condition code icd10 subcategory  \\\n",
       "0         Polyosteoarthritis, unspecified ; Osteoarthrit...   \n",
       "1                          Essential (primary) hypertension   \n",
       "2                                      Mixed hyperlipidemia   \n",
       "3                                      Mixed hyperlipidemia   \n",
       "4                          Essential (primary) hypertension   \n",
       "...                                                     ...   \n",
       "88266466                         Other specified counseling   \n",
       "88266467                            End stage renal disease   \n",
       "88266468                            End stage renal disease   \n",
       "88266469                            End stage renal disease   \n",
       "88266470           Disappearance and death of family member   \n",
       "\n",
       "         Diagnosis sequence number or rank    State  \n",
       "0                                        S  Indiana  \n",
       "1                                        P  Indiana  \n",
       "2                                        S  Indiana  \n",
       "3                                        S  Indiana  \n",
       "4                                        P  Indiana  \n",
       "...                                    ...      ...  \n",
       "88266466                                 P  Arizona  \n",
       "88266467                                 P  Arizona  \n",
       "88266468                                 P  Arizona  \n",
       "88266469                                 P  Arizona  \n",
       "88266470                                 P  Arizona  \n",
       "\n",
       "[88266471 rows x 8 columns]"
      ]
     },
     "execution_count": 96,
     "metadata": {},
     "output_type": "execute_result"
    }
   ],
   "source": [
    "conditions_train_data"
   ]
  },
  {
   "cell_type": "code",
   "execution_count": 97,
   "metadata": {
    "collapsed": false,
    "gather": {
     "logged": 1688639312268
    },
    "jupyter": {
     "outputs_hidden": false,
     "source_hidden": false
    },
    "nteract": {
     "transient": {
      "deleting": false
     }
    }
   },
   "outputs": [],
   "source": [
    "import numpy as np                # Multi-Dimensional array object\n",
    "import pandas as pd               # Data Manipulation\n",
    "import matplotlib.pyplot as plt   # Data Visualization\n",
    "import seaborn as sns             # Data Visualization \n",
    "\n",
    "# Allows the use of display() for DataFrames\n",
    "from IPython.display import display \n",
    "\n",
    "# Handle warning messages that may occur during code execution\n",
    "import warnings\n",
    "warnings.filterwarnings('ignore')\n",
    "\n",
    "# To increase memory allocation\n",
    "from notebook.services.config import ConfigManager\n",
    "cm = ConfigManager().update('notebook', {'max_buffer_size': 7294967296})\n",
    "\n",
    "# Set the maximum number of rows to be displayed to 1000\n",
    "pd.set_option('display.max_rows', 1163)"
   ]
  },
  {
   "cell_type": "markdown",
   "metadata": {},
   "source": [
    "# **Elimination of the unnamed columns**"
   ]
  },
  {
   "cell_type": "code",
   "execution_count": 98,
   "metadata": {
    "collapsed": false,
    "gather": {
     "logged": 1688639319513
    },
    "jupyter": {
     "outputs_hidden": false,
     "source_hidden": false
    },
    "nteract": {
     "transient": {
      "deleting": false
     }
    }
   },
   "outputs": [],
   "source": [
    "# Remove unwanted columns \n",
    "conditions_train_data.drop('Column1',axis=1,inplace=True)"
   ]
  },
  {
   "cell_type": "code",
   "execution_count": 99,
   "metadata": {
    "collapsed": false,
    "gather": {
     "logged": 1688639325661
    },
    "jupyter": {
     "outputs_hidden": false,
     "source_hidden": false
    },
    "nteract": {
     "transient": {
      "deleting": false
     }
    }
   },
   "outputs": [],
   "source": [
    "conditions_train_data =  conditions_train_data"
   ]
  },
  {
   "cell_type": "markdown",
   "metadata": {},
   "source": [
    "# sorting patients id and age column"
   ]
  },
  {
   "cell_type": "code",
   "execution_count": 100,
   "metadata": {
    "collapsed": false,
    "gather": {
     "logged": 1688639475311
    },
    "jupyter": {
     "outputs_hidden": false,
     "source_hidden": false
    },
    "nteract": {
     "transient": {
      "deleting": false
     }
    }
   },
   "outputs": [],
   "source": [
    "# Sort the dataset based on the patientsid and 'age' column in ascending order\n",
    "conditions_train_data.sort_values([\"Internalpatientid\",\"Age at condition documentation\"],inplace=True)"
   ]
  },
  {
   "cell_type": "markdown",
   "metadata": {},
   "source": [
    "# Checking the missing value"
   ]
  },
  {
   "cell_type": "code",
   "execution_count": 101,
   "metadata": {
    "collapsed": false,
    "gather": {
     "logged": 1688639505037
    },
    "jupyter": {
     "outputs_hidden": false,
     "source_hidden": false
    },
    "nteract": {
     "transient": {
      "deleting": false
     }
    }
   },
   "outputs": [
    {
     "name": "stdout",
     "output_type": "stream",
     "text": [
      "Training set missing values:\n",
      " Internalpatientid                          0\n",
      "Age at condition documentation             0\n",
      "Condition documented date                  0\n",
      "Condition type                             0\n",
      "Condition code icd10 subcategory           0\n",
      "Diagnosis sequence number or rank    3648777\n",
      "State                                      0\n",
      "dtype: int64\n"
     ]
    }
   ],
   "source": [
    "print(\"Training set missing values:\\n\", conditions_train_data.isna().sum())"
   ]
  },
  {
   "cell_type": "markdown",
   "metadata": {},
   "source": [
    "# Taking the digits "
   ]
  },
  {
   "cell_type": "code",
   "execution_count": 102,
   "metadata": {
    "collapsed": false,
    "gather": {
     "logged": 1688639550922
    },
    "jupyter": {
     "outputs_hidden": false,
     "source_hidden": false
    },
    "nteract": {
     "transient": {
      "deleting": false
     }
    }
   },
   "outputs": [],
   "source": [
    "# Format 'Age at measurement' values in the format 00.00\n",
    "conditions_train_data[\"Age at condition documentation\"] = conditions_train_data[\"Age at condition documentation\"].map(\"{:.2f}\".format)"
   ]
  },
  {
   "cell_type": "code",
   "execution_count": 103,
   "metadata": {
    "collapsed": false,
    "gather": {
     "logged": 1688639554337
    },
    "jupyter": {
     "outputs_hidden": false,
     "source_hidden": false
    },
    "nteract": {
     "transient": {
      "deleting": false
     }
    }
   },
   "outputs": [
    {
     "data": {
      "text/html": [
       "<div>\n",
       "<style scoped>\n",
       "    .dataframe tbody tr th:only-of-type {\n",
       "        vertical-align: middle;\n",
       "    }\n",
       "\n",
       "    .dataframe tbody tr th {\n",
       "        vertical-align: top;\n",
       "    }\n",
       "\n",
       "    .dataframe thead th {\n",
       "        text-align: right;\n",
       "    }\n",
       "</style>\n",
       "<table border=\"1\" class=\"dataframe\">\n",
       "  <thead>\n",
       "    <tr style=\"text-align: right;\">\n",
       "      <th></th>\n",
       "      <th>Internalpatientid</th>\n",
       "      <th>Age at condition documentation</th>\n",
       "      <th>Condition documented date</th>\n",
       "      <th>Condition type</th>\n",
       "      <th>Condition code icd10 subcategory</th>\n",
       "      <th>Diagnosis sequence number or rank</th>\n",
       "      <th>State</th>\n",
       "    </tr>\n",
       "  </thead>\n",
       "  <tbody>\n",
       "    <tr>\n",
       "      <th>36509</th>\n",
       "      <td>1</td>\n",
       "      <td>57.57</td>\n",
       "      <td>2001-10-30 23:22:22</td>\n",
       "      <td>Diagnosis</td>\n",
       "      <td>Encounter for immunization</td>\n",
       "      <td>S</td>\n",
       "      <td>Indiana</td>\n",
       "    </tr>\n",
       "    <tr>\n",
       "      <th>36510</th>\n",
       "      <td>1</td>\n",
       "      <td>57.57</td>\n",
       "      <td>2001-10-30 23:22:22</td>\n",
       "      <td>Diagnosis</td>\n",
       "      <td>Dietary counseling and surveillance</td>\n",
       "      <td>S</td>\n",
       "      <td>Indiana</td>\n",
       "    </tr>\n",
       "    <tr>\n",
       "      <th>36511</th>\n",
       "      <td>1</td>\n",
       "      <td>57.57</td>\n",
       "      <td>2001-10-30 23:22:22</td>\n",
       "      <td>Diagnosis</td>\n",
       "      <td>Essential (primary) hypertension</td>\n",
       "      <td>P</td>\n",
       "      <td>Indiana</td>\n",
       "    </tr>\n",
       "    <tr>\n",
       "      <th>36512</th>\n",
       "      <td>1</td>\n",
       "      <td>57.57</td>\n",
       "      <td>2001-10-30 23:22:22</td>\n",
       "      <td>Diagnosis</td>\n",
       "      <td>Polyosteoarthritis, unspecified ; Osteoarthrit...</td>\n",
       "      <td>S</td>\n",
       "      <td>Indiana</td>\n",
       "    </tr>\n",
       "    <tr>\n",
       "      <th>0</th>\n",
       "      <td>1</td>\n",
       "      <td>57.91</td>\n",
       "      <td>2002-03-03 21:37:12</td>\n",
       "      <td>Diagnosis</td>\n",
       "      <td>Polyosteoarthritis, unspecified ; Osteoarthrit...</td>\n",
       "      <td>S</td>\n",
       "      <td>Indiana</td>\n",
       "    </tr>\n",
       "    <tr>\n",
       "      <th>...</th>\n",
       "      <td>...</td>\n",
       "      <td>...</td>\n",
       "      <td>...</td>\n",
       "      <td>...</td>\n",
       "      <td>...</td>\n",
       "      <td>...</td>\n",
       "      <td>...</td>\n",
       "    </tr>\n",
       "    <tr>\n",
       "      <th>72580936</th>\n",
       "      <td>169064</td>\n",
       "      <td>87.87</td>\n",
       "      <td>2014-10-31 11:04:34</td>\n",
       "      <td>Diagnosis</td>\n",
       "      <td>Osteoarthritis, unspecified site</td>\n",
       "      <td>S</td>\n",
       "      <td>Wyoming</td>\n",
       "    </tr>\n",
       "    <tr>\n",
       "      <th>72580937</th>\n",
       "      <td>169064</td>\n",
       "      <td>87.87</td>\n",
       "      <td>2014-10-31 11:04:34</td>\n",
       "      <td>Diagnosis</td>\n",
       "      <td>Anxiety disorder, unspecified</td>\n",
       "      <td>S</td>\n",
       "      <td>Wyoming</td>\n",
       "    </tr>\n",
       "    <tr>\n",
       "      <th>36195444</th>\n",
       "      <td>169064</td>\n",
       "      <td>87.88</td>\n",
       "      <td>2014-11-04 08:16:12</td>\n",
       "      <td>Diagnosis</td>\n",
       "      <td>Anxiety disorder, unspecified</td>\n",
       "      <td>S</td>\n",
       "      <td>Wyoming</td>\n",
       "    </tr>\n",
       "    <tr>\n",
       "      <th>36195445</th>\n",
       "      <td>169064</td>\n",
       "      <td>87.88</td>\n",
       "      <td>2014-11-04 08:16:12</td>\n",
       "      <td>Diagnosis</td>\n",
       "      <td>Disorders of calcium metabolism</td>\n",
       "      <td>P</td>\n",
       "      <td>Wyoming</td>\n",
       "    </tr>\n",
       "    <tr>\n",
       "      <th>36114469</th>\n",
       "      <td>169064</td>\n",
       "      <td>87.92</td>\n",
       "      <td>2014-11-19 21:58:14</td>\n",
       "      <td>Diagnosis</td>\n",
       "      <td>Essential (primary) hypertension</td>\n",
       "      <td>P</td>\n",
       "      <td>Wyoming</td>\n",
       "    </tr>\n",
       "  </tbody>\n",
       "</table>\n",
       "<p>88266471 rows × 7 columns</p>\n",
       "</div>"
      ],
      "text/plain": [
       "          Internalpatientid Age at condition documentation  \\\n",
       "36509                     1                          57.57   \n",
       "36510                     1                          57.57   \n",
       "36511                     1                          57.57   \n",
       "36512                     1                          57.57   \n",
       "0                         1                          57.91   \n",
       "...                     ...                            ...   \n",
       "72580936             169064                          87.87   \n",
       "72580937             169064                          87.87   \n",
       "36195444             169064                          87.88   \n",
       "36195445             169064                          87.88   \n",
       "36114469             169064                          87.92   \n",
       "\n",
       "         Condition documented date Condition type  \\\n",
       "36509          2001-10-30 23:22:22      Diagnosis   \n",
       "36510          2001-10-30 23:22:22      Diagnosis   \n",
       "36511          2001-10-30 23:22:22      Diagnosis   \n",
       "36512          2001-10-30 23:22:22      Diagnosis   \n",
       "0              2002-03-03 21:37:12      Diagnosis   \n",
       "...                            ...            ...   \n",
       "72580936       2014-10-31 11:04:34      Diagnosis   \n",
       "72580937       2014-10-31 11:04:34      Diagnosis   \n",
       "36195444       2014-11-04 08:16:12      Diagnosis   \n",
       "36195445       2014-11-04 08:16:12      Diagnosis   \n",
       "36114469       2014-11-19 21:58:14      Diagnosis   \n",
       "\n",
       "                           Condition code icd10 subcategory  \\\n",
       "36509                            Encounter for immunization   \n",
       "36510                   Dietary counseling and surveillance   \n",
       "36511                      Essential (primary) hypertension   \n",
       "36512     Polyosteoarthritis, unspecified ; Osteoarthrit...   \n",
       "0         Polyosteoarthritis, unspecified ; Osteoarthrit...   \n",
       "...                                                     ...   \n",
       "72580936                   Osteoarthritis, unspecified site   \n",
       "72580937                      Anxiety disorder, unspecified   \n",
       "36195444                      Anxiety disorder, unspecified   \n",
       "36195445                    Disorders of calcium metabolism   \n",
       "36114469                   Essential (primary) hypertension   \n",
       "\n",
       "         Diagnosis sequence number or rank    State  \n",
       "36509                                    S  Indiana  \n",
       "36510                                    S  Indiana  \n",
       "36511                                    P  Indiana  \n",
       "36512                                    S  Indiana  \n",
       "0                                        S  Indiana  \n",
       "...                                    ...      ...  \n",
       "72580936                                 S  Wyoming  \n",
       "72580937                                 S  Wyoming  \n",
       "36195444                                 S  Wyoming  \n",
       "36195445                                 P  Wyoming  \n",
       "36114469                                 P  Wyoming  \n",
       "\n",
       "[88266471 rows x 7 columns]"
      ]
     },
     "execution_count": 103,
     "metadata": {},
     "output_type": "execute_result"
    }
   ],
   "source": [
    "conditions_train_data"
   ]
  },
  {
   "cell_type": "code",
   "execution_count": 104,
   "metadata": {
    "collapsed": false,
    "gather": {
     "logged": 1688639570403
    },
    "jupyter": {
     "outputs_hidden": false,
     "source_hidden": false
    },
    "nteract": {
     "transient": {
      "deleting": false
     }
    }
   },
   "outputs": [],
   "source": [
    "# Convert 'Age at measurement' column from object to float\n",
    "conditions_train_data[\"Age at condition documentation\"] = conditions_train_data[\"Age at condition documentation\"].astype(float)"
   ]
  },
  {
   "cell_type": "code",
   "execution_count": 105,
   "metadata": {
    "collapsed": false,
    "gather": {
     "logged": 1688639573967
    },
    "jupyter": {
     "outputs_hidden": false,
     "source_hidden": false
    },
    "nteract": {
     "transient": {
      "deleting": false
     }
    }
   },
   "outputs": [
    {
     "data": {
      "text/html": [
       "<div>\n",
       "<style scoped>\n",
       "    .dataframe tbody tr th:only-of-type {\n",
       "        vertical-align: middle;\n",
       "    }\n",
       "\n",
       "    .dataframe tbody tr th {\n",
       "        vertical-align: top;\n",
       "    }\n",
       "\n",
       "    .dataframe thead th {\n",
       "        text-align: right;\n",
       "    }\n",
       "</style>\n",
       "<table border=\"1\" class=\"dataframe\">\n",
       "  <thead>\n",
       "    <tr style=\"text-align: right;\">\n",
       "      <th></th>\n",
       "      <th>Internalpatientid</th>\n",
       "      <th>Age at condition documentation</th>\n",
       "      <th>Condition documented date</th>\n",
       "      <th>Condition type</th>\n",
       "      <th>Condition code icd10 subcategory</th>\n",
       "      <th>Diagnosis sequence number or rank</th>\n",
       "      <th>State</th>\n",
       "    </tr>\n",
       "  </thead>\n",
       "  <tbody>\n",
       "    <tr>\n",
       "      <th>36509</th>\n",
       "      <td>1</td>\n",
       "      <td>57.57</td>\n",
       "      <td>2001-10-30 23:22:22</td>\n",
       "      <td>Diagnosis</td>\n",
       "      <td>Encounter for immunization</td>\n",
       "      <td>S</td>\n",
       "      <td>Indiana</td>\n",
       "    </tr>\n",
       "    <tr>\n",
       "      <th>36510</th>\n",
       "      <td>1</td>\n",
       "      <td>57.57</td>\n",
       "      <td>2001-10-30 23:22:22</td>\n",
       "      <td>Diagnosis</td>\n",
       "      <td>Dietary counseling and surveillance</td>\n",
       "      <td>S</td>\n",
       "      <td>Indiana</td>\n",
       "    </tr>\n",
       "    <tr>\n",
       "      <th>36511</th>\n",
       "      <td>1</td>\n",
       "      <td>57.57</td>\n",
       "      <td>2001-10-30 23:22:22</td>\n",
       "      <td>Diagnosis</td>\n",
       "      <td>Essential (primary) hypertension</td>\n",
       "      <td>P</td>\n",
       "      <td>Indiana</td>\n",
       "    </tr>\n",
       "    <tr>\n",
       "      <th>36512</th>\n",
       "      <td>1</td>\n",
       "      <td>57.57</td>\n",
       "      <td>2001-10-30 23:22:22</td>\n",
       "      <td>Diagnosis</td>\n",
       "      <td>Polyosteoarthritis, unspecified ; Osteoarthrit...</td>\n",
       "      <td>S</td>\n",
       "      <td>Indiana</td>\n",
       "    </tr>\n",
       "    <tr>\n",
       "      <th>0</th>\n",
       "      <td>1</td>\n",
       "      <td>57.91</td>\n",
       "      <td>2002-03-03 21:37:12</td>\n",
       "      <td>Diagnosis</td>\n",
       "      <td>Polyosteoarthritis, unspecified ; Osteoarthrit...</td>\n",
       "      <td>S</td>\n",
       "      <td>Indiana</td>\n",
       "    </tr>\n",
       "    <tr>\n",
       "      <th>...</th>\n",
       "      <td>...</td>\n",
       "      <td>...</td>\n",
       "      <td>...</td>\n",
       "      <td>...</td>\n",
       "      <td>...</td>\n",
       "      <td>...</td>\n",
       "      <td>...</td>\n",
       "    </tr>\n",
       "    <tr>\n",
       "      <th>72580936</th>\n",
       "      <td>169064</td>\n",
       "      <td>87.87</td>\n",
       "      <td>2014-10-31 11:04:34</td>\n",
       "      <td>Diagnosis</td>\n",
       "      <td>Osteoarthritis, unspecified site</td>\n",
       "      <td>S</td>\n",
       "      <td>Wyoming</td>\n",
       "    </tr>\n",
       "    <tr>\n",
       "      <th>72580937</th>\n",
       "      <td>169064</td>\n",
       "      <td>87.87</td>\n",
       "      <td>2014-10-31 11:04:34</td>\n",
       "      <td>Diagnosis</td>\n",
       "      <td>Anxiety disorder, unspecified</td>\n",
       "      <td>S</td>\n",
       "      <td>Wyoming</td>\n",
       "    </tr>\n",
       "    <tr>\n",
       "      <th>36195444</th>\n",
       "      <td>169064</td>\n",
       "      <td>87.88</td>\n",
       "      <td>2014-11-04 08:16:12</td>\n",
       "      <td>Diagnosis</td>\n",
       "      <td>Anxiety disorder, unspecified</td>\n",
       "      <td>S</td>\n",
       "      <td>Wyoming</td>\n",
       "    </tr>\n",
       "    <tr>\n",
       "      <th>36195445</th>\n",
       "      <td>169064</td>\n",
       "      <td>87.88</td>\n",
       "      <td>2014-11-04 08:16:12</td>\n",
       "      <td>Diagnosis</td>\n",
       "      <td>Disorders of calcium metabolism</td>\n",
       "      <td>P</td>\n",
       "      <td>Wyoming</td>\n",
       "    </tr>\n",
       "    <tr>\n",
       "      <th>36114469</th>\n",
       "      <td>169064</td>\n",
       "      <td>87.92</td>\n",
       "      <td>2014-11-19 21:58:14</td>\n",
       "      <td>Diagnosis</td>\n",
       "      <td>Essential (primary) hypertension</td>\n",
       "      <td>P</td>\n",
       "      <td>Wyoming</td>\n",
       "    </tr>\n",
       "  </tbody>\n",
       "</table>\n",
       "<p>88266471 rows × 7 columns</p>\n",
       "</div>"
      ],
      "text/plain": [
       "          Internalpatientid  Age at condition documentation  \\\n",
       "36509                     1                           57.57   \n",
       "36510                     1                           57.57   \n",
       "36511                     1                           57.57   \n",
       "36512                     1                           57.57   \n",
       "0                         1                           57.91   \n",
       "...                     ...                             ...   \n",
       "72580936             169064                           87.87   \n",
       "72580937             169064                           87.87   \n",
       "36195444             169064                           87.88   \n",
       "36195445             169064                           87.88   \n",
       "36114469             169064                           87.92   \n",
       "\n",
       "         Condition documented date Condition type  \\\n",
       "36509          2001-10-30 23:22:22      Diagnosis   \n",
       "36510          2001-10-30 23:22:22      Diagnosis   \n",
       "36511          2001-10-30 23:22:22      Diagnosis   \n",
       "36512          2001-10-30 23:22:22      Diagnosis   \n",
       "0              2002-03-03 21:37:12      Diagnosis   \n",
       "...                            ...            ...   \n",
       "72580936       2014-10-31 11:04:34      Diagnosis   \n",
       "72580937       2014-10-31 11:04:34      Diagnosis   \n",
       "36195444       2014-11-04 08:16:12      Diagnosis   \n",
       "36195445       2014-11-04 08:16:12      Diagnosis   \n",
       "36114469       2014-11-19 21:58:14      Diagnosis   \n",
       "\n",
       "                           Condition code icd10 subcategory  \\\n",
       "36509                            Encounter for immunization   \n",
       "36510                   Dietary counseling and surveillance   \n",
       "36511                      Essential (primary) hypertension   \n",
       "36512     Polyosteoarthritis, unspecified ; Osteoarthrit...   \n",
       "0         Polyosteoarthritis, unspecified ; Osteoarthrit...   \n",
       "...                                                     ...   \n",
       "72580936                   Osteoarthritis, unspecified site   \n",
       "72580937                      Anxiety disorder, unspecified   \n",
       "36195444                      Anxiety disorder, unspecified   \n",
       "36195445                    Disorders of calcium metabolism   \n",
       "36114469                   Essential (primary) hypertension   \n",
       "\n",
       "         Diagnosis sequence number or rank    State  \n",
       "36509                                    S  Indiana  \n",
       "36510                                    S  Indiana  \n",
       "36511                                    P  Indiana  \n",
       "36512                                    S  Indiana  \n",
       "0                                        S  Indiana  \n",
       "...                                    ...      ...  \n",
       "72580936                                 S  Wyoming  \n",
       "72580937                                 S  Wyoming  \n",
       "36195444                                 S  Wyoming  \n",
       "36195445                                 P  Wyoming  \n",
       "36114469                                 P  Wyoming  \n",
       "\n",
       "[88266471 rows x 7 columns]"
      ]
     },
     "execution_count": 105,
     "metadata": {},
     "output_type": "execute_result"
    }
   ],
   "source": [
    "conditions_train_data"
   ]
  },
  {
   "cell_type": "markdown",
   "metadata": {},
   "source": [
    "# Max age"
   ]
  },
  {
   "cell_type": "code",
   "execution_count": 106,
   "metadata": {
    "collapsed": false,
    "gather": {
     "logged": 1688639604316
    },
    "jupyter": {
     "outputs_hidden": false,
     "source_hidden": false
    },
    "nteract": {
     "transient": {
      "deleting": false
     }
    }
   },
   "outputs": [
    {
     "data": {
      "text/html": [
       "<div>\n",
       "<style scoped>\n",
       "    .dataframe tbody tr th:only-of-type {\n",
       "        vertical-align: middle;\n",
       "    }\n",
       "\n",
       "    .dataframe tbody tr th {\n",
       "        vertical-align: top;\n",
       "    }\n",
       "\n",
       "    .dataframe thead th {\n",
       "        text-align: right;\n",
       "    }\n",
       "</style>\n",
       "<table border=\"1\" class=\"dataframe\">\n",
       "  <thead>\n",
       "    <tr style=\"text-align: right;\">\n",
       "      <th></th>\n",
       "      <th>Internalpatientid</th>\n",
       "      <th>Age at condition documentation</th>\n",
       "      <th>Condition documented date</th>\n",
       "      <th>Condition type</th>\n",
       "      <th>Condition code icd10 subcategory</th>\n",
       "      <th>Diagnosis sequence number or rank</th>\n",
       "      <th>State</th>\n",
       "    </tr>\n",
       "  </thead>\n",
       "  <tbody>\n",
       "    <tr>\n",
       "      <th>0</th>\n",
       "      <td>1</td>\n",
       "      <td>80.21</td>\n",
       "      <td>2024-06-25 02:44:48</td>\n",
       "      <td>Diagnosis</td>\n",
       "      <td>Hyperlipidemia, unspecified</td>\n",
       "      <td>S</td>\n",
       "      <td>Indiana</td>\n",
       "    </tr>\n",
       "    <tr>\n",
       "      <th>1</th>\n",
       "      <td>1</td>\n",
       "      <td>80.21</td>\n",
       "      <td>2024-06-25 02:44:48</td>\n",
       "      <td>Diagnosis</td>\n",
       "      <td>Other and unspecified cirrhosis of liver</td>\n",
       "      <td>S</td>\n",
       "      <td>Indiana</td>\n",
       "    </tr>\n",
       "    <tr>\n",
       "      <th>2</th>\n",
       "      <td>1</td>\n",
       "      <td>80.21</td>\n",
       "      <td>2024-06-25 02:44:48</td>\n",
       "      <td>Diagnosis</td>\n",
       "      <td>Other specified inflammatory liver diseases</td>\n",
       "      <td>P</td>\n",
       "      <td>Indiana</td>\n",
       "    </tr>\n",
       "    <tr>\n",
       "      <th>3</th>\n",
       "      <td>1</td>\n",
       "      <td>80.21</td>\n",
       "      <td>2024-06-25 02:44:48</td>\n",
       "      <td>Diagnosis</td>\n",
       "      <td>Type 2 diabetes mellitus without complications</td>\n",
       "      <td>S</td>\n",
       "      <td>Indiana</td>\n",
       "    </tr>\n",
       "    <tr>\n",
       "      <th>4</th>\n",
       "      <td>1</td>\n",
       "      <td>80.21</td>\n",
       "      <td>2024-06-26 03:20:15</td>\n",
       "      <td>Diagnosis</td>\n",
       "      <td>Unspecified atrial fibrillation and atrial flu...</td>\n",
       "      <td>P</td>\n",
       "      <td>Indiana</td>\n",
       "    </tr>\n",
       "    <tr>\n",
       "      <th>...</th>\n",
       "      <td>...</td>\n",
       "      <td>...</td>\n",
       "      <td>...</td>\n",
       "      <td>...</td>\n",
       "      <td>...</td>\n",
       "      <td>...</td>\n",
       "      <td>...</td>\n",
       "    </tr>\n",
       "    <tr>\n",
       "      <th>866297</th>\n",
       "      <td>169062</td>\n",
       "      <td>74.18</td>\n",
       "      <td>2005-10-14 22:20:25</td>\n",
       "      <td>Diagnosis</td>\n",
       "      <td>Encounter for palliative care</td>\n",
       "      <td>5</td>\n",
       "      <td>Florida</td>\n",
       "    </tr>\n",
       "    <tr>\n",
       "      <th>866298</th>\n",
       "      <td>169062</td>\n",
       "      <td>74.18</td>\n",
       "      <td>2005-10-14 22:20:25</td>\n",
       "      <td>Diagnosis</td>\n",
       "      <td>Melena</td>\n",
       "      <td>6</td>\n",
       "      <td>Florida</td>\n",
       "    </tr>\n",
       "    <tr>\n",
       "      <th>866299</th>\n",
       "      <td>169062</td>\n",
       "      <td>74.18</td>\n",
       "      <td>2005-10-14 22:20:25</td>\n",
       "      <td>Diagnosis</td>\n",
       "      <td>Other restrictive cardiomyopathy</td>\n",
       "      <td>3</td>\n",
       "      <td>Florida</td>\n",
       "    </tr>\n",
       "    <tr>\n",
       "      <th>866300</th>\n",
       "      <td>169063</td>\n",
       "      <td>78.49</td>\n",
       "      <td>2006-02-04 23:24:49</td>\n",
       "      <td>Diagnosis</td>\n",
       "      <td>Not specified</td>\n",
       "      <td>P</td>\n",
       "      <td>New York</td>\n",
       "    </tr>\n",
       "    <tr>\n",
       "      <th>866301</th>\n",
       "      <td>169064</td>\n",
       "      <td>87.92</td>\n",
       "      <td>2014-11-19 21:58:14</td>\n",
       "      <td>Diagnosis</td>\n",
       "      <td>Essential (primary) hypertension</td>\n",
       "      <td>P</td>\n",
       "      <td>Wyoming</td>\n",
       "    </tr>\n",
       "  </tbody>\n",
       "</table>\n",
       "<p>866302 rows × 7 columns</p>\n",
       "</div>"
      ],
      "text/plain": [
       "        Internalpatientid  Age at condition documentation  \\\n",
       "0                       1                           80.21   \n",
       "1                       1                           80.21   \n",
       "2                       1                           80.21   \n",
       "3                       1                           80.21   \n",
       "4                       1                           80.21   \n",
       "...                   ...                             ...   \n",
       "866297             169062                           74.18   \n",
       "866298             169062                           74.18   \n",
       "866299             169062                           74.18   \n",
       "866300             169063                           78.49   \n",
       "866301             169064                           87.92   \n",
       "\n",
       "       Condition documented date Condition type  \\\n",
       "0            2024-06-25 02:44:48      Diagnosis   \n",
       "1            2024-06-25 02:44:48      Diagnosis   \n",
       "2            2024-06-25 02:44:48      Diagnosis   \n",
       "3            2024-06-25 02:44:48      Diagnosis   \n",
       "4            2024-06-26 03:20:15      Diagnosis   \n",
       "...                          ...            ...   \n",
       "866297       2005-10-14 22:20:25      Diagnosis   \n",
       "866298       2005-10-14 22:20:25      Diagnosis   \n",
       "866299       2005-10-14 22:20:25      Diagnosis   \n",
       "866300       2006-02-04 23:24:49      Diagnosis   \n",
       "866301       2014-11-19 21:58:14      Diagnosis   \n",
       "\n",
       "                         Condition code icd10 subcategory  \\\n",
       "0                             Hyperlipidemia, unspecified   \n",
       "1                Other and unspecified cirrhosis of liver   \n",
       "2             Other specified inflammatory liver diseases   \n",
       "3          Type 2 diabetes mellitus without complications   \n",
       "4       Unspecified atrial fibrillation and atrial flu...   \n",
       "...                                                   ...   \n",
       "866297                      Encounter for palliative care   \n",
       "866298                                             Melena   \n",
       "866299                   Other restrictive cardiomyopathy   \n",
       "866300                                      Not specified   \n",
       "866301                   Essential (primary) hypertension   \n",
       "\n",
       "       Diagnosis sequence number or rank     State  \n",
       "0                                      S   Indiana  \n",
       "1                                      S   Indiana  \n",
       "2                                      P   Indiana  \n",
       "3                                      S   Indiana  \n",
       "4                                      P   Indiana  \n",
       "...                                  ...       ...  \n",
       "866297                                 5   Florida  \n",
       "866298                                 6   Florida  \n",
       "866299                                 3   Florida  \n",
       "866300                                 P  New York  \n",
       "866301                                 P   Wyoming  \n",
       "\n",
       "[866302 rows x 7 columns]"
      ]
     },
     "execution_count": 106,
     "metadata": {},
     "output_type": "execute_result"
    }
   ],
   "source": [
    "# Find the maximum age for each internal patient id\n",
    "max_ages = conditions_train_data.groupby('Internalpatientid')['Age at condition documentation'].max().reset_index()\n",
    "\n",
    "# Merge with the original dataframe to get the rows with the highest age\n",
    "conditions_train_data = pd.merge(conditions_train_data, max_ages, on =['Internalpatientid','Age at condition documentation'], how = 'inner')\n",
    "\n",
    "conditions_train_data"
   ]
  },
  {
   "cell_type": "markdown",
   "metadata": {},
   "source": [
    "# Rounding off the Age "
   ]
  },
  {
   "cell_type": "code",
   "execution_count": 107,
   "metadata": {
    "collapsed": false,
    "gather": {
     "logged": 1688639616321
    },
    "jupyter": {
     "outputs_hidden": false
    },
    "nteract": {
     "transient": {
      "deleting": false
     }
    }
   },
   "outputs": [],
   "source": [
    "conditions_train_data['Age at condition documentation'] = conditions_train_data['Age at condition documentation'].apply(lambda x: round(x,))"
   ]
  },
  {
   "cell_type": "code",
   "execution_count": 108,
   "metadata": {
    "collapsed": false,
    "gather": {
     "logged": 1688639617222
    },
    "jupyter": {
     "outputs_hidden": false
    },
    "nteract": {
     "transient": {
      "deleting": false
     }
    }
   },
   "outputs": [
    {
     "data": {
      "text/html": [
       "<div>\n",
       "<style scoped>\n",
       "    .dataframe tbody tr th:only-of-type {\n",
       "        vertical-align: middle;\n",
       "    }\n",
       "\n",
       "    .dataframe tbody tr th {\n",
       "        vertical-align: top;\n",
       "    }\n",
       "\n",
       "    .dataframe thead th {\n",
       "        text-align: right;\n",
       "    }\n",
       "</style>\n",
       "<table border=\"1\" class=\"dataframe\">\n",
       "  <thead>\n",
       "    <tr style=\"text-align: right;\">\n",
       "      <th></th>\n",
       "      <th>Internalpatientid</th>\n",
       "      <th>Age at condition documentation</th>\n",
       "      <th>Condition documented date</th>\n",
       "      <th>Condition type</th>\n",
       "      <th>Condition code icd10 subcategory</th>\n",
       "      <th>Diagnosis sequence number or rank</th>\n",
       "      <th>State</th>\n",
       "    </tr>\n",
       "  </thead>\n",
       "  <tbody>\n",
       "    <tr>\n",
       "      <th>0</th>\n",
       "      <td>1</td>\n",
       "      <td>80</td>\n",
       "      <td>2024-06-25 02:44:48</td>\n",
       "      <td>Diagnosis</td>\n",
       "      <td>Hyperlipidemia, unspecified</td>\n",
       "      <td>S</td>\n",
       "      <td>Indiana</td>\n",
       "    </tr>\n",
       "    <tr>\n",
       "      <th>1</th>\n",
       "      <td>1</td>\n",
       "      <td>80</td>\n",
       "      <td>2024-06-25 02:44:48</td>\n",
       "      <td>Diagnosis</td>\n",
       "      <td>Other and unspecified cirrhosis of liver</td>\n",
       "      <td>S</td>\n",
       "      <td>Indiana</td>\n",
       "    </tr>\n",
       "    <tr>\n",
       "      <th>2</th>\n",
       "      <td>1</td>\n",
       "      <td>80</td>\n",
       "      <td>2024-06-25 02:44:48</td>\n",
       "      <td>Diagnosis</td>\n",
       "      <td>Other specified inflammatory liver diseases</td>\n",
       "      <td>P</td>\n",
       "      <td>Indiana</td>\n",
       "    </tr>\n",
       "    <tr>\n",
       "      <th>3</th>\n",
       "      <td>1</td>\n",
       "      <td>80</td>\n",
       "      <td>2024-06-25 02:44:48</td>\n",
       "      <td>Diagnosis</td>\n",
       "      <td>Type 2 diabetes mellitus without complications</td>\n",
       "      <td>S</td>\n",
       "      <td>Indiana</td>\n",
       "    </tr>\n",
       "    <tr>\n",
       "      <th>4</th>\n",
       "      <td>1</td>\n",
       "      <td>80</td>\n",
       "      <td>2024-06-26 03:20:15</td>\n",
       "      <td>Diagnosis</td>\n",
       "      <td>Unspecified atrial fibrillation and atrial flu...</td>\n",
       "      <td>P</td>\n",
       "      <td>Indiana</td>\n",
       "    </tr>\n",
       "    <tr>\n",
       "      <th>...</th>\n",
       "      <td>...</td>\n",
       "      <td>...</td>\n",
       "      <td>...</td>\n",
       "      <td>...</td>\n",
       "      <td>...</td>\n",
       "      <td>...</td>\n",
       "      <td>...</td>\n",
       "    </tr>\n",
       "    <tr>\n",
       "      <th>866297</th>\n",
       "      <td>169062</td>\n",
       "      <td>74</td>\n",
       "      <td>2005-10-14 22:20:25</td>\n",
       "      <td>Diagnosis</td>\n",
       "      <td>Encounter for palliative care</td>\n",
       "      <td>5</td>\n",
       "      <td>Florida</td>\n",
       "    </tr>\n",
       "    <tr>\n",
       "      <th>866298</th>\n",
       "      <td>169062</td>\n",
       "      <td>74</td>\n",
       "      <td>2005-10-14 22:20:25</td>\n",
       "      <td>Diagnosis</td>\n",
       "      <td>Melena</td>\n",
       "      <td>6</td>\n",
       "      <td>Florida</td>\n",
       "    </tr>\n",
       "    <tr>\n",
       "      <th>866299</th>\n",
       "      <td>169062</td>\n",
       "      <td>74</td>\n",
       "      <td>2005-10-14 22:20:25</td>\n",
       "      <td>Diagnosis</td>\n",
       "      <td>Other restrictive cardiomyopathy</td>\n",
       "      <td>3</td>\n",
       "      <td>Florida</td>\n",
       "    </tr>\n",
       "    <tr>\n",
       "      <th>866300</th>\n",
       "      <td>169063</td>\n",
       "      <td>78</td>\n",
       "      <td>2006-02-04 23:24:49</td>\n",
       "      <td>Diagnosis</td>\n",
       "      <td>Not specified</td>\n",
       "      <td>P</td>\n",
       "      <td>New York</td>\n",
       "    </tr>\n",
       "    <tr>\n",
       "      <th>866301</th>\n",
       "      <td>169064</td>\n",
       "      <td>88</td>\n",
       "      <td>2014-11-19 21:58:14</td>\n",
       "      <td>Diagnosis</td>\n",
       "      <td>Essential (primary) hypertension</td>\n",
       "      <td>P</td>\n",
       "      <td>Wyoming</td>\n",
       "    </tr>\n",
       "  </tbody>\n",
       "</table>\n",
       "<p>866302 rows × 7 columns</p>\n",
       "</div>"
      ],
      "text/plain": [
       "        Internalpatientid  Age at condition documentation  \\\n",
       "0                       1                              80   \n",
       "1                       1                              80   \n",
       "2                       1                              80   \n",
       "3                       1                              80   \n",
       "4                       1                              80   \n",
       "...                   ...                             ...   \n",
       "866297             169062                              74   \n",
       "866298             169062                              74   \n",
       "866299             169062                              74   \n",
       "866300             169063                              78   \n",
       "866301             169064                              88   \n",
       "\n",
       "       Condition documented date Condition type  \\\n",
       "0            2024-06-25 02:44:48      Diagnosis   \n",
       "1            2024-06-25 02:44:48      Diagnosis   \n",
       "2            2024-06-25 02:44:48      Diagnosis   \n",
       "3            2024-06-25 02:44:48      Diagnosis   \n",
       "4            2024-06-26 03:20:15      Diagnosis   \n",
       "...                          ...            ...   \n",
       "866297       2005-10-14 22:20:25      Diagnosis   \n",
       "866298       2005-10-14 22:20:25      Diagnosis   \n",
       "866299       2005-10-14 22:20:25      Diagnosis   \n",
       "866300       2006-02-04 23:24:49      Diagnosis   \n",
       "866301       2014-11-19 21:58:14      Diagnosis   \n",
       "\n",
       "                         Condition code icd10 subcategory  \\\n",
       "0                             Hyperlipidemia, unspecified   \n",
       "1                Other and unspecified cirrhosis of liver   \n",
       "2             Other specified inflammatory liver diseases   \n",
       "3          Type 2 diabetes mellitus without complications   \n",
       "4       Unspecified atrial fibrillation and atrial flu...   \n",
       "...                                                   ...   \n",
       "866297                      Encounter for palliative care   \n",
       "866298                                             Melena   \n",
       "866299                   Other restrictive cardiomyopathy   \n",
       "866300                                      Not specified   \n",
       "866301                   Essential (primary) hypertension   \n",
       "\n",
       "       Diagnosis sequence number or rank     State  \n",
       "0                                      S   Indiana  \n",
       "1                                      S   Indiana  \n",
       "2                                      P   Indiana  \n",
       "3                                      S   Indiana  \n",
       "4                                      P   Indiana  \n",
       "...                                  ...       ...  \n",
       "866297                                 5   Florida  \n",
       "866298                                 6   Florida  \n",
       "866299                                 3   Florida  \n",
       "866300                                 P  New York  \n",
       "866301                                 P   Wyoming  \n",
       "\n",
       "[866302 rows x 7 columns]"
      ]
     },
     "execution_count": 108,
     "metadata": {},
     "output_type": "execute_result"
    }
   ],
   "source": [
    "conditions_train_data"
   ]
  },
  {
   "cell_type": "code",
   "execution_count": 109,
   "metadata": {
    "collapsed": false,
    "gather": {
     "logged": 1688641806542
    },
    "jupyter": {
     "outputs_hidden": false
    },
    "nteract": {
     "transient": {
      "deleting": false
     }
    }
   },
   "outputs": [],
   "source": [
    "# value counts\n",
    "df = conditions_train_data[\"Internalpatientid\"].value_counts().loc[lambda x: x  > 60]"
   ]
  },
  {
   "cell_type": "code",
   "execution_count": 110,
   "metadata": {
    "collapsed": false,
    "gather": {
     "logged": 1688641834307
    },
    "jupyter": {
     "outputs_hidden": false
    },
    "nteract": {
     "transient": {
      "deleting": false
     }
    }
   },
   "outputs": [],
   "source": [
    "df = df.reset_index() "
   ]
  },
  {
   "cell_type": "code",
   "execution_count": 111,
   "metadata": {
    "collapsed": false,
    "gather": {
     "logged": 1688641978280
    },
    "jupyter": {
     "outputs_hidden": false
    },
    "nteract": {
     "transient": {
      "deleting": false
     }
    }
   },
   "outputs": [],
   "source": [
    "df.columns = [\"Internalpatientid\",\"count_conditions\"]"
   ]
  },
  {
   "cell_type": "code",
   "execution_count": 112,
   "metadata": {
    "collapsed": false,
    "gather": {
     "logged": 1688642255621
    },
    "jupyter": {
     "outputs_hidden": false
    },
    "nteract": {
     "transient": {
      "deleting": false
     }
    }
   },
   "outputs": [],
   "source": [
    "df.drop('count_conditions', axis = 1, inplace = True)"
   ]
  },
  {
   "cell_type": "code",
   "execution_count": 113,
   "metadata": {
    "collapsed": false,
    "gather": {
     "logged": 1688642261992
    },
    "jupyter": {
     "outputs_hidden": false
    },
    "nteract": {
     "transient": {
      "deleting": false
     }
    }
   },
   "outputs": [
    {
     "data": {
      "text/html": [
       "<div>\n",
       "<style scoped>\n",
       "    .dataframe tbody tr th:only-of-type {\n",
       "        vertical-align: middle;\n",
       "    }\n",
       "\n",
       "    .dataframe tbody tr th {\n",
       "        vertical-align: top;\n",
       "    }\n",
       "\n",
       "    .dataframe thead th {\n",
       "        text-align: right;\n",
       "    }\n",
       "</style>\n",
       "<table border=\"1\" class=\"dataframe\">\n",
       "  <thead>\n",
       "    <tr style=\"text-align: right;\">\n",
       "      <th></th>\n",
       "      <th>Internalpatientid</th>\n",
       "    </tr>\n",
       "  </thead>\n",
       "  <tbody>\n",
       "    <tr>\n",
       "      <th>0</th>\n",
       "      <td>92630</td>\n",
       "    </tr>\n",
       "    <tr>\n",
       "      <th>1</th>\n",
       "      <td>3217</td>\n",
       "    </tr>\n",
       "    <tr>\n",
       "      <th>2</th>\n",
       "      <td>113648</td>\n",
       "    </tr>\n",
       "    <tr>\n",
       "      <th>3</th>\n",
       "      <td>46281</td>\n",
       "    </tr>\n",
       "    <tr>\n",
       "      <th>4</th>\n",
       "      <td>106998</td>\n",
       "    </tr>\n",
       "    <tr>\n",
       "      <th>...</th>\n",
       "      <td>...</td>\n",
       "    </tr>\n",
       "    <tr>\n",
       "      <th>1178</th>\n",
       "      <td>157691</td>\n",
       "    </tr>\n",
       "    <tr>\n",
       "      <th>1179</th>\n",
       "      <td>154241</td>\n",
       "    </tr>\n",
       "    <tr>\n",
       "      <th>1180</th>\n",
       "      <td>501</td>\n",
       "    </tr>\n",
       "    <tr>\n",
       "      <th>1181</th>\n",
       "      <td>72913</td>\n",
       "    </tr>\n",
       "    <tr>\n",
       "      <th>1182</th>\n",
       "      <td>3986</td>\n",
       "    </tr>\n",
       "  </tbody>\n",
       "</table>\n",
       "<p>1183 rows × 1 columns</p>\n",
       "</div>"
      ],
      "text/plain": [
       "      Internalpatientid\n",
       "0                 92630\n",
       "1                  3217\n",
       "2                113648\n",
       "3                 46281\n",
       "4                106998\n",
       "...                 ...\n",
       "1178             157691\n",
       "1179             154241\n",
       "1180                501\n",
       "1181              72913\n",
       "1182               3986\n",
       "\n",
       "[1183 rows x 1 columns]"
      ]
     },
     "execution_count": 113,
     "metadata": {},
     "output_type": "execute_result"
    }
   ],
   "source": [
    "df"
   ]
  },
  {
   "cell_type": "code",
   "execution_count": 114,
   "metadata": {
    "collapsed": false,
    "gather": {
     "logged": 1688642410202
    },
    "jupyter": {
     "outputs_hidden": false
    },
    "nteract": {
     "transient": {
      "deleting": false
     }
    }
   },
   "outputs": [
    {
     "data": {
      "text/html": [
       "<div>\n",
       "<style scoped>\n",
       "    .dataframe tbody tr th:only-of-type {\n",
       "        vertical-align: middle;\n",
       "    }\n",
       "\n",
       "    .dataframe tbody tr th {\n",
       "        vertical-align: top;\n",
       "    }\n",
       "\n",
       "    .dataframe thead th {\n",
       "        text-align: right;\n",
       "    }\n",
       "</style>\n",
       "<table border=\"1\" class=\"dataframe\">\n",
       "  <thead>\n",
       "    <tr style=\"text-align: right;\">\n",
       "      <th></th>\n",
       "      <th>Internalpatientid</th>\n",
       "      <th>Age at condition documentation</th>\n",
       "      <th>Condition documented date</th>\n",
       "      <th>Condition type</th>\n",
       "      <th>Condition code icd10 subcategory</th>\n",
       "      <th>Diagnosis sequence number or rank</th>\n",
       "      <th>State</th>\n",
       "    </tr>\n",
       "  </thead>\n",
       "  <tbody>\n",
       "    <tr>\n",
       "      <th>0</th>\n",
       "      <td>1</td>\n",
       "      <td>80</td>\n",
       "      <td>2024-06-25 02:44:48</td>\n",
       "      <td>Diagnosis</td>\n",
       "      <td>Hyperlipidemia, unspecified</td>\n",
       "      <td>S</td>\n",
       "      <td>Indiana</td>\n",
       "    </tr>\n",
       "    <tr>\n",
       "      <th>1</th>\n",
       "      <td>1</td>\n",
       "      <td>80</td>\n",
       "      <td>2024-06-25 02:44:48</td>\n",
       "      <td>Diagnosis</td>\n",
       "      <td>Other and unspecified cirrhosis of liver</td>\n",
       "      <td>S</td>\n",
       "      <td>Indiana</td>\n",
       "    </tr>\n",
       "    <tr>\n",
       "      <th>2</th>\n",
       "      <td>1</td>\n",
       "      <td>80</td>\n",
       "      <td>2024-06-25 02:44:48</td>\n",
       "      <td>Diagnosis</td>\n",
       "      <td>Other specified inflammatory liver diseases</td>\n",
       "      <td>P</td>\n",
       "      <td>Indiana</td>\n",
       "    </tr>\n",
       "    <tr>\n",
       "      <th>3</th>\n",
       "      <td>1</td>\n",
       "      <td>80</td>\n",
       "      <td>2024-06-25 02:44:48</td>\n",
       "      <td>Diagnosis</td>\n",
       "      <td>Type 2 diabetes mellitus without complications</td>\n",
       "      <td>S</td>\n",
       "      <td>Indiana</td>\n",
       "    </tr>\n",
       "    <tr>\n",
       "      <th>4</th>\n",
       "      <td>1</td>\n",
       "      <td>80</td>\n",
       "      <td>2024-06-26 03:20:15</td>\n",
       "      <td>Diagnosis</td>\n",
       "      <td>Unspecified atrial fibrillation and atrial flu...</td>\n",
       "      <td>P</td>\n",
       "      <td>Indiana</td>\n",
       "    </tr>\n",
       "    <tr>\n",
       "      <th>...</th>\n",
       "      <td>...</td>\n",
       "      <td>...</td>\n",
       "      <td>...</td>\n",
       "      <td>...</td>\n",
       "      <td>...</td>\n",
       "      <td>...</td>\n",
       "      <td>...</td>\n",
       "    </tr>\n",
       "    <tr>\n",
       "      <th>866297</th>\n",
       "      <td>169062</td>\n",
       "      <td>74</td>\n",
       "      <td>2005-10-14 22:20:25</td>\n",
       "      <td>Diagnosis</td>\n",
       "      <td>Encounter for palliative care</td>\n",
       "      <td>5</td>\n",
       "      <td>Florida</td>\n",
       "    </tr>\n",
       "    <tr>\n",
       "      <th>866298</th>\n",
       "      <td>169062</td>\n",
       "      <td>74</td>\n",
       "      <td>2005-10-14 22:20:25</td>\n",
       "      <td>Diagnosis</td>\n",
       "      <td>Melena</td>\n",
       "      <td>6</td>\n",
       "      <td>Florida</td>\n",
       "    </tr>\n",
       "    <tr>\n",
       "      <th>866299</th>\n",
       "      <td>169062</td>\n",
       "      <td>74</td>\n",
       "      <td>2005-10-14 22:20:25</td>\n",
       "      <td>Diagnosis</td>\n",
       "      <td>Other restrictive cardiomyopathy</td>\n",
       "      <td>3</td>\n",
       "      <td>Florida</td>\n",
       "    </tr>\n",
       "    <tr>\n",
       "      <th>866300</th>\n",
       "      <td>169063</td>\n",
       "      <td>78</td>\n",
       "      <td>2006-02-04 23:24:49</td>\n",
       "      <td>Diagnosis</td>\n",
       "      <td>Not specified</td>\n",
       "      <td>P</td>\n",
       "      <td>New York</td>\n",
       "    </tr>\n",
       "    <tr>\n",
       "      <th>866301</th>\n",
       "      <td>169064</td>\n",
       "      <td>88</td>\n",
       "      <td>2014-11-19 21:58:14</td>\n",
       "      <td>Diagnosis</td>\n",
       "      <td>Essential (primary) hypertension</td>\n",
       "      <td>P</td>\n",
       "      <td>Wyoming</td>\n",
       "    </tr>\n",
       "  </tbody>\n",
       "</table>\n",
       "<p>769314 rows × 7 columns</p>\n",
       "</div>"
      ],
      "text/plain": [
       "        Internalpatientid  Age at condition documentation  \\\n",
       "0                       1                              80   \n",
       "1                       1                              80   \n",
       "2                       1                              80   \n",
       "3                       1                              80   \n",
       "4                       1                              80   \n",
       "...                   ...                             ...   \n",
       "866297             169062                              74   \n",
       "866298             169062                              74   \n",
       "866299             169062                              74   \n",
       "866300             169063                              78   \n",
       "866301             169064                              88   \n",
       "\n",
       "       Condition documented date Condition type  \\\n",
       "0            2024-06-25 02:44:48      Diagnosis   \n",
       "1            2024-06-25 02:44:48      Diagnosis   \n",
       "2            2024-06-25 02:44:48      Diagnosis   \n",
       "3            2024-06-25 02:44:48      Diagnosis   \n",
       "4            2024-06-26 03:20:15      Diagnosis   \n",
       "...                          ...            ...   \n",
       "866297       2005-10-14 22:20:25      Diagnosis   \n",
       "866298       2005-10-14 22:20:25      Diagnosis   \n",
       "866299       2005-10-14 22:20:25      Diagnosis   \n",
       "866300       2006-02-04 23:24:49      Diagnosis   \n",
       "866301       2014-11-19 21:58:14      Diagnosis   \n",
       "\n",
       "                         Condition code icd10 subcategory  \\\n",
       "0                             Hyperlipidemia, unspecified   \n",
       "1                Other and unspecified cirrhosis of liver   \n",
       "2             Other specified inflammatory liver diseases   \n",
       "3          Type 2 diabetes mellitus without complications   \n",
       "4       Unspecified atrial fibrillation and atrial flu...   \n",
       "...                                                   ...   \n",
       "866297                      Encounter for palliative care   \n",
       "866298                                             Melena   \n",
       "866299                   Other restrictive cardiomyopathy   \n",
       "866300                                      Not specified   \n",
       "866301                   Essential (primary) hypertension   \n",
       "\n",
       "       Diagnosis sequence number or rank     State  \n",
       "0                                      S   Indiana  \n",
       "1                                      S   Indiana  \n",
       "2                                      P   Indiana  \n",
       "3                                      S   Indiana  \n",
       "4                                      P   Indiana  \n",
       "...                                  ...       ...  \n",
       "866297                                 5   Florida  \n",
       "866298                                 6   Florida  \n",
       "866299                                 3   Florida  \n",
       "866300                                 P  New York  \n",
       "866301                                 P   Wyoming  \n",
       "\n",
       "[769314 rows x 7 columns]"
      ]
     },
     "execution_count": 114,
     "metadata": {},
     "output_type": "execute_result"
    }
   ],
   "source": [
    "# Merge the two dataframes based on 'Internalpatientid'\n",
    "merged_df = conditions_train_data.merge(df, on='Internalpatientid', how='left')\n",
    "\n",
    "# Filter rows from DataFrame 1 that have matching values in DataFrame 2\n",
    "filtered_df = merged_df[~merged_df['Internalpatientid'].isin(df['Internalpatientid'])]\n",
    "\n",
    "# Print only the columns of DataFrame 1\n",
    "filtered_df"
   ]
  },
  {
   "cell_type": "code",
   "execution_count": 115,
   "metadata": {
    "collapsed": false,
    "gather": {
     "logged": 1688642581002
    },
    "jupyter": {
     "outputs_hidden": false
    },
    "nteract": {
     "transient": {
      "deleting": false
     }
    }
   },
   "outputs": [],
   "source": [
    "df_new = filtered_df"
   ]
  },
  {
   "cell_type": "code",
   "execution_count": 116,
   "metadata": {},
   "outputs": [
    {
     "data": {
      "text/html": [
       "<div>\n",
       "<style scoped>\n",
       "    .dataframe tbody tr th:only-of-type {\n",
       "        vertical-align: middle;\n",
       "    }\n",
       "\n",
       "    .dataframe tbody tr th {\n",
       "        vertical-align: top;\n",
       "    }\n",
       "\n",
       "    .dataframe thead th {\n",
       "        text-align: right;\n",
       "    }\n",
       "</style>\n",
       "<table border=\"1\" class=\"dataframe\">\n",
       "  <thead>\n",
       "    <tr style=\"text-align: right;\">\n",
       "      <th></th>\n",
       "      <th>Internalpatientid</th>\n",
       "      <th>Age at condition documentation</th>\n",
       "      <th>Condition documented date</th>\n",
       "      <th>Condition type</th>\n",
       "      <th>Condition code icd10 subcategory</th>\n",
       "      <th>Diagnosis sequence number or rank</th>\n",
       "      <th>State</th>\n",
       "    </tr>\n",
       "  </thead>\n",
       "  <tbody>\n",
       "    <tr>\n",
       "      <th>0</th>\n",
       "      <td>1</td>\n",
       "      <td>80</td>\n",
       "      <td>2024-06-25 02:44:48</td>\n",
       "      <td>Diagnosis</td>\n",
       "      <td>Hyperlipidemia, unspecified</td>\n",
       "      <td>S</td>\n",
       "      <td>Indiana</td>\n",
       "    </tr>\n",
       "    <tr>\n",
       "      <th>1</th>\n",
       "      <td>1</td>\n",
       "      <td>80</td>\n",
       "      <td>2024-06-25 02:44:48</td>\n",
       "      <td>Diagnosis</td>\n",
       "      <td>Other and unspecified cirrhosis of liver</td>\n",
       "      <td>S</td>\n",
       "      <td>Indiana</td>\n",
       "    </tr>\n",
       "    <tr>\n",
       "      <th>2</th>\n",
       "      <td>1</td>\n",
       "      <td>80</td>\n",
       "      <td>2024-06-25 02:44:48</td>\n",
       "      <td>Diagnosis</td>\n",
       "      <td>Other specified inflammatory liver diseases</td>\n",
       "      <td>P</td>\n",
       "      <td>Indiana</td>\n",
       "    </tr>\n",
       "    <tr>\n",
       "      <th>3</th>\n",
       "      <td>1</td>\n",
       "      <td>80</td>\n",
       "      <td>2024-06-25 02:44:48</td>\n",
       "      <td>Diagnosis</td>\n",
       "      <td>Type 2 diabetes mellitus without complications</td>\n",
       "      <td>S</td>\n",
       "      <td>Indiana</td>\n",
       "    </tr>\n",
       "    <tr>\n",
       "      <th>4</th>\n",
       "      <td>1</td>\n",
       "      <td>80</td>\n",
       "      <td>2024-06-26 03:20:15</td>\n",
       "      <td>Diagnosis</td>\n",
       "      <td>Unspecified atrial fibrillation and atrial flu...</td>\n",
       "      <td>P</td>\n",
       "      <td>Indiana</td>\n",
       "    </tr>\n",
       "    <tr>\n",
       "      <th>...</th>\n",
       "      <td>...</td>\n",
       "      <td>...</td>\n",
       "      <td>...</td>\n",
       "      <td>...</td>\n",
       "      <td>...</td>\n",
       "      <td>...</td>\n",
       "      <td>...</td>\n",
       "    </tr>\n",
       "    <tr>\n",
       "      <th>866297</th>\n",
       "      <td>169062</td>\n",
       "      <td>74</td>\n",
       "      <td>2005-10-14 22:20:25</td>\n",
       "      <td>Diagnosis</td>\n",
       "      <td>Encounter for palliative care</td>\n",
       "      <td>5</td>\n",
       "      <td>Florida</td>\n",
       "    </tr>\n",
       "    <tr>\n",
       "      <th>866298</th>\n",
       "      <td>169062</td>\n",
       "      <td>74</td>\n",
       "      <td>2005-10-14 22:20:25</td>\n",
       "      <td>Diagnosis</td>\n",
       "      <td>Melena</td>\n",
       "      <td>6</td>\n",
       "      <td>Florida</td>\n",
       "    </tr>\n",
       "    <tr>\n",
       "      <th>866299</th>\n",
       "      <td>169062</td>\n",
       "      <td>74</td>\n",
       "      <td>2005-10-14 22:20:25</td>\n",
       "      <td>Diagnosis</td>\n",
       "      <td>Other restrictive cardiomyopathy</td>\n",
       "      <td>3</td>\n",
       "      <td>Florida</td>\n",
       "    </tr>\n",
       "    <tr>\n",
       "      <th>866300</th>\n",
       "      <td>169063</td>\n",
       "      <td>78</td>\n",
       "      <td>2006-02-04 23:24:49</td>\n",
       "      <td>Diagnosis</td>\n",
       "      <td>Not specified</td>\n",
       "      <td>P</td>\n",
       "      <td>New York</td>\n",
       "    </tr>\n",
       "    <tr>\n",
       "      <th>866301</th>\n",
       "      <td>169064</td>\n",
       "      <td>88</td>\n",
       "      <td>2014-11-19 21:58:14</td>\n",
       "      <td>Diagnosis</td>\n",
       "      <td>Essential (primary) hypertension</td>\n",
       "      <td>P</td>\n",
       "      <td>Wyoming</td>\n",
       "    </tr>\n",
       "  </tbody>\n",
       "</table>\n",
       "<p>769314 rows × 7 columns</p>\n",
       "</div>"
      ],
      "text/plain": [
       "        Internalpatientid  Age at condition documentation  \\\n",
       "0                       1                              80   \n",
       "1                       1                              80   \n",
       "2                       1                              80   \n",
       "3                       1                              80   \n",
       "4                       1                              80   \n",
       "...                   ...                             ...   \n",
       "866297             169062                              74   \n",
       "866298             169062                              74   \n",
       "866299             169062                              74   \n",
       "866300             169063                              78   \n",
       "866301             169064                              88   \n",
       "\n",
       "       Condition documented date Condition type  \\\n",
       "0            2024-06-25 02:44:48      Diagnosis   \n",
       "1            2024-06-25 02:44:48      Diagnosis   \n",
       "2            2024-06-25 02:44:48      Diagnosis   \n",
       "3            2024-06-25 02:44:48      Diagnosis   \n",
       "4            2024-06-26 03:20:15      Diagnosis   \n",
       "...                          ...            ...   \n",
       "866297       2005-10-14 22:20:25      Diagnosis   \n",
       "866298       2005-10-14 22:20:25      Diagnosis   \n",
       "866299       2005-10-14 22:20:25      Diagnosis   \n",
       "866300       2006-02-04 23:24:49      Diagnosis   \n",
       "866301       2014-11-19 21:58:14      Diagnosis   \n",
       "\n",
       "                         Condition code icd10 subcategory  \\\n",
       "0                             Hyperlipidemia, unspecified   \n",
       "1                Other and unspecified cirrhosis of liver   \n",
       "2             Other specified inflammatory liver diseases   \n",
       "3          Type 2 diabetes mellitus without complications   \n",
       "4       Unspecified atrial fibrillation and atrial flu...   \n",
       "...                                                   ...   \n",
       "866297                      Encounter for palliative care   \n",
       "866298                                             Melena   \n",
       "866299                   Other restrictive cardiomyopathy   \n",
       "866300                                      Not specified   \n",
       "866301                   Essential (primary) hypertension   \n",
       "\n",
       "       Diagnosis sequence number or rank     State  \n",
       "0                                      S   Indiana  \n",
       "1                                      S   Indiana  \n",
       "2                                      P   Indiana  \n",
       "3                                      S   Indiana  \n",
       "4                                      P   Indiana  \n",
       "...                                  ...       ...  \n",
       "866297                                 5   Florida  \n",
       "866298                                 6   Florida  \n",
       "866299                                 3   Florida  \n",
       "866300                                 P  New York  \n",
       "866301                                 P   Wyoming  \n",
       "\n",
       "[769314 rows x 7 columns]"
      ]
     },
     "execution_count": 116,
     "metadata": {},
     "output_type": "execute_result"
    }
   ],
   "source": [
    "df_new"
   ]
  },
  {
   "cell_type": "markdown",
   "metadata": {},
   "source": [
    "# Dropping all unnecessary columns"
   ]
  },
  {
   "cell_type": "code",
   "execution_count": 117,
   "metadata": {
    "collapsed": false,
    "gather": {
     "logged": 1688642742504
    },
    "jupyter": {
     "outputs_hidden": false
    },
    "nteract": {
     "transient": {
      "deleting": false
     }
    }
   },
   "outputs": [],
   "source": [
    "# # Remove columns \n",
    "df_new.drop([\"Age at condition documentation\",\"Condition documented date\",\"Condition type\",\"Diagnosis sequence number or rank\",\"State\"], axis=1,inplace=True)"
   ]
  },
  {
   "cell_type": "code",
   "execution_count": 118,
   "metadata": {
    "collapsed": false,
    "gather": {
     "logged": 1688642758159
    },
    "jupyter": {
     "outputs_hidden": false
    },
    "nteract": {
     "transient": {
      "deleting": false
     }
    }
   },
   "outputs": [],
   "source": [
    "df_new = df_new"
   ]
  },
  {
   "cell_type": "code",
   "execution_count": 119,
   "metadata": {
    "collapsed": false,
    "gather": {
     "logged": 1688642770379
    },
    "jupyter": {
     "outputs_hidden": false
    },
    "nteract": {
     "transient": {
      "deleting": false
     }
    }
   },
   "outputs": [
    {
     "data": {
      "text/html": [
       "<div>\n",
       "<style scoped>\n",
       "    .dataframe tbody tr th:only-of-type {\n",
       "        vertical-align: middle;\n",
       "    }\n",
       "\n",
       "    .dataframe tbody tr th {\n",
       "        vertical-align: top;\n",
       "    }\n",
       "\n",
       "    .dataframe thead th {\n",
       "        text-align: right;\n",
       "    }\n",
       "</style>\n",
       "<table border=\"1\" class=\"dataframe\">\n",
       "  <thead>\n",
       "    <tr style=\"text-align: right;\">\n",
       "      <th></th>\n",
       "      <th>Internalpatientid</th>\n",
       "      <th>Condition code icd10 subcategory</th>\n",
       "    </tr>\n",
       "  </thead>\n",
       "  <tbody>\n",
       "    <tr>\n",
       "      <th>0</th>\n",
       "      <td>1</td>\n",
       "      <td>Hyperlipidemia, unspecified</td>\n",
       "    </tr>\n",
       "    <tr>\n",
       "      <th>1</th>\n",
       "      <td>1</td>\n",
       "      <td>Other and unspecified cirrhosis of liver</td>\n",
       "    </tr>\n",
       "    <tr>\n",
       "      <th>2</th>\n",
       "      <td>1</td>\n",
       "      <td>Other specified inflammatory liver diseases</td>\n",
       "    </tr>\n",
       "    <tr>\n",
       "      <th>3</th>\n",
       "      <td>1</td>\n",
       "      <td>Type 2 diabetes mellitus without complications</td>\n",
       "    </tr>\n",
       "    <tr>\n",
       "      <th>4</th>\n",
       "      <td>1</td>\n",
       "      <td>Unspecified atrial fibrillation and atrial flu...</td>\n",
       "    </tr>\n",
       "    <tr>\n",
       "      <th>...</th>\n",
       "      <td>...</td>\n",
       "      <td>...</td>\n",
       "    </tr>\n",
       "    <tr>\n",
       "      <th>866297</th>\n",
       "      <td>169062</td>\n",
       "      <td>Encounter for palliative care</td>\n",
       "    </tr>\n",
       "    <tr>\n",
       "      <th>866298</th>\n",
       "      <td>169062</td>\n",
       "      <td>Melena</td>\n",
       "    </tr>\n",
       "    <tr>\n",
       "      <th>866299</th>\n",
       "      <td>169062</td>\n",
       "      <td>Other restrictive cardiomyopathy</td>\n",
       "    </tr>\n",
       "    <tr>\n",
       "      <th>866300</th>\n",
       "      <td>169063</td>\n",
       "      <td>Not specified</td>\n",
       "    </tr>\n",
       "    <tr>\n",
       "      <th>866301</th>\n",
       "      <td>169064</td>\n",
       "      <td>Essential (primary) hypertension</td>\n",
       "    </tr>\n",
       "  </tbody>\n",
       "</table>\n",
       "<p>769314 rows × 2 columns</p>\n",
       "</div>"
      ],
      "text/plain": [
       "        Internalpatientid                   Condition code icd10 subcategory\n",
       "0                       1                        Hyperlipidemia, unspecified\n",
       "1                       1           Other and unspecified cirrhosis of liver\n",
       "2                       1        Other specified inflammatory liver diseases\n",
       "3                       1     Type 2 diabetes mellitus without complications\n",
       "4                       1  Unspecified atrial fibrillation and atrial flu...\n",
       "...                   ...                                                ...\n",
       "866297             169062                      Encounter for palliative care\n",
       "866298             169062                                             Melena\n",
       "866299             169062                   Other restrictive cardiomyopathy\n",
       "866300             169063                                      Not specified\n",
       "866301             169064                   Essential (primary) hypertension\n",
       "\n",
       "[769314 rows x 2 columns]"
      ]
     },
     "execution_count": 119,
     "metadata": {},
     "output_type": "execute_result"
    }
   ],
   "source": [
    "df_new"
   ]
  },
  {
   "cell_type": "code",
   "execution_count": 120,
   "metadata": {
    "collapsed": false,
    "gather": {
     "logged": 1688642806559
    },
    "jupyter": {
     "outputs_hidden": false
    },
    "nteract": {
     "transient": {
      "deleting": false
     }
    }
   },
   "outputs": [
    {
     "data": {
      "text/html": [
       "<div>\n",
       "<style scoped>\n",
       "    .dataframe tbody tr th:only-of-type {\n",
       "        vertical-align: middle;\n",
       "    }\n",
       "\n",
       "    .dataframe tbody tr th {\n",
       "        vertical-align: top;\n",
       "    }\n",
       "\n",
       "    .dataframe thead th {\n",
       "        text-align: right;\n",
       "    }\n",
       "</style>\n",
       "<table border=\"1\" class=\"dataframe\">\n",
       "  <thead>\n",
       "    <tr style=\"text-align: right;\">\n",
       "      <th></th>\n",
       "      <th>Internalpatientid</th>\n",
       "      <th>Condition code icd10 subcategory</th>\n",
       "    </tr>\n",
       "  </thead>\n",
       "  <tbody>\n",
       "    <tr>\n",
       "      <th>0</th>\n",
       "      <td>1</td>\n",
       "      <td>Hyperlipidemia, unspecified,Other and unspecif...</td>\n",
       "    </tr>\n",
       "    <tr>\n",
       "      <th>1</th>\n",
       "      <td>2</td>\n",
       "      <td>Not specified,Fracture of coccyx</td>\n",
       "    </tr>\n",
       "    <tr>\n",
       "      <th>2</th>\n",
       "      <td>3</td>\n",
       "      <td>Acquired absence of leg below knee,Encounter f...</td>\n",
       "    </tr>\n",
       "    <tr>\n",
       "      <th>3</th>\n",
       "      <td>4</td>\n",
       "      <td>Unspecified abdominal pain,Systolic (congestiv...</td>\n",
       "    </tr>\n",
       "    <tr>\n",
       "      <th>4</th>\n",
       "      <td>5</td>\n",
       "      <td>Encounter for screening for infectious and par...</td>\n",
       "    </tr>\n",
       "    <tr>\n",
       "      <th>...</th>\n",
       "      <td>...</td>\n",
       "      <td>...</td>\n",
       "    </tr>\n",
       "    <tr>\n",
       "      <th>132064</th>\n",
       "      <td>169060</td>\n",
       "      <td>Encounter for other specified aftercare</td>\n",
       "    </tr>\n",
       "    <tr>\n",
       "      <th>132065</th>\n",
       "      <td>169061</td>\n",
       "      <td>Other specified counseling</td>\n",
       "    </tr>\n",
       "    <tr>\n",
       "      <th>132066</th>\n",
       "      <td>169062</td>\n",
       "      <td>Heart failure, unspecified,Heart failure, unsp...</td>\n",
       "    </tr>\n",
       "    <tr>\n",
       "      <th>132067</th>\n",
       "      <td>169063</td>\n",
       "      <td>Not specified</td>\n",
       "    </tr>\n",
       "    <tr>\n",
       "      <th>132068</th>\n",
       "      <td>169064</td>\n",
       "      <td>Essential (primary) hypertension</td>\n",
       "    </tr>\n",
       "  </tbody>\n",
       "</table>\n",
       "<p>132069 rows × 2 columns</p>\n",
       "</div>"
      ],
      "text/plain": [
       "        Internalpatientid                   Condition code icd10 subcategory\n",
       "0                       1  Hyperlipidemia, unspecified,Other and unspecif...\n",
       "1                       2                   Not specified,Fracture of coccyx\n",
       "2                       3  Acquired absence of leg below knee,Encounter f...\n",
       "3                       4  Unspecified abdominal pain,Systolic (congestiv...\n",
       "4                       5  Encounter for screening for infectious and par...\n",
       "...                   ...                                                ...\n",
       "132064             169060            Encounter for other specified aftercare\n",
       "132065             169061                         Other specified counseling\n",
       "132066             169062  Heart failure, unspecified,Heart failure, unsp...\n",
       "132067             169063                                      Not specified\n",
       "132068             169064                   Essential (primary) hypertension\n",
       "\n",
       "[132069 rows x 2 columns]"
      ]
     },
     "execution_count": 120,
     "metadata": {},
     "output_type": "execute_result"
    }
   ],
   "source": [
    "# Group the DataFrame by 'Internalpatientid' and concatenate the icd10 values and\n",
    "#The purpose of `x.dropna()` is to remove any missing values from the Series before applying a subsequent operation,\n",
    "# such as concatenation using the `join` function. By dropping the missing values,\n",
    "#we ensure that only non-null values are included in the resulting concatenated string.\n",
    "df_grouped = df_new.groupby('Internalpatientid').agg(lambda x: ','.join(x.dropna()))\n",
    "df_grouped \n",
    "\n",
    "# Reset the index of the grouped DataFrame\n",
    "df_grouped_condition = df_grouped.reset_index()\n",
    "df_grouped_condition"
   ]
  },
  {
   "cell_type": "markdown",
   "metadata": {},
   "source": [
    "# Finding the Cv(1) or Non-cv(0)"
   ]
  },
  {
   "cell_type": "code",
   "execution_count": 121,
   "metadata": {},
   "outputs": [],
   "source": [
    "# Define the list of heart-related words\n",
    "phrases = ['Systolic','congestive','Heart','Diastolic','Cardiogenic','Hypertensive heart','myocardial','STEMI','NSTEMI',\n",
    "           'Unstable angina','chronic ischemic heart disease','Atherosclerotic','native coronary artery',\n",
    "           'Atrial fibrillation','Atrial flutter','Supraventricular tachycardia','Ventricular tachycardia']"
   ]
  },
  {
   "cell_type": "code",
   "execution_count": 122,
   "metadata": {},
   "outputs": [
    {
     "data": {
      "text/html": [
       "<div>\n",
       "<style scoped>\n",
       "    .dataframe tbody tr th:only-of-type {\n",
       "        vertical-align: middle;\n",
       "    }\n",
       "\n",
       "    .dataframe tbody tr th {\n",
       "        vertical-align: top;\n",
       "    }\n",
       "\n",
       "    .dataframe thead th {\n",
       "        text-align: right;\n",
       "    }\n",
       "</style>\n",
       "<table border=\"1\" class=\"dataframe\">\n",
       "  <thead>\n",
       "    <tr style=\"text-align: right;\">\n",
       "      <th></th>\n",
       "      <th>Internalpatientid</th>\n",
       "      <th>Condition code icd10 subcategory</th>\n",
       "      <th>cv_df</th>\n",
       "    </tr>\n",
       "  </thead>\n",
       "  <tbody>\n",
       "    <tr>\n",
       "      <th>0</th>\n",
       "      <td>1</td>\n",
       "      <td>Hyperlipidemia, unspecified,Other and unspecif...</td>\n",
       "      <td>1</td>\n",
       "    </tr>\n",
       "    <tr>\n",
       "      <th>1</th>\n",
       "      <td>2</td>\n",
       "      <td>Not specified,Fracture of coccyx</td>\n",
       "      <td>0</td>\n",
       "    </tr>\n",
       "    <tr>\n",
       "      <th>2</th>\n",
       "      <td>3</td>\n",
       "      <td>Acquired absence of leg below knee,Encounter f...</td>\n",
       "      <td>1</td>\n",
       "    </tr>\n",
       "    <tr>\n",
       "      <th>3</th>\n",
       "      <td>4</td>\n",
       "      <td>Unspecified abdominal pain,Systolic (congestiv...</td>\n",
       "      <td>1</td>\n",
       "    </tr>\n",
       "    <tr>\n",
       "      <th>4</th>\n",
       "      <td>5</td>\n",
       "      <td>Encounter for screening for infectious and par...</td>\n",
       "      <td>0</td>\n",
       "    </tr>\n",
       "    <tr>\n",
       "      <th>...</th>\n",
       "      <td>...</td>\n",
       "      <td>...</td>\n",
       "      <td>...</td>\n",
       "    </tr>\n",
       "    <tr>\n",
       "      <th>132064</th>\n",
       "      <td>169060</td>\n",
       "      <td>Encounter for other specified aftercare</td>\n",
       "      <td>0</td>\n",
       "    </tr>\n",
       "    <tr>\n",
       "      <th>132065</th>\n",
       "      <td>169061</td>\n",
       "      <td>Other specified counseling</td>\n",
       "      <td>0</td>\n",
       "    </tr>\n",
       "    <tr>\n",
       "      <th>132066</th>\n",
       "      <td>169062</td>\n",
       "      <td>Heart failure, unspecified,Heart failure, unsp...</td>\n",
       "      <td>1</td>\n",
       "    </tr>\n",
       "    <tr>\n",
       "      <th>132067</th>\n",
       "      <td>169063</td>\n",
       "      <td>Not specified</td>\n",
       "      <td>0</td>\n",
       "    </tr>\n",
       "    <tr>\n",
       "      <th>132068</th>\n",
       "      <td>169064</td>\n",
       "      <td>Essential (primary) hypertension</td>\n",
       "      <td>0</td>\n",
       "    </tr>\n",
       "  </tbody>\n",
       "</table>\n",
       "<p>132069 rows × 3 columns</p>\n",
       "</div>"
      ],
      "text/plain": [
       "        Internalpatientid                   Condition code icd10 subcategory  \\\n",
       "0                       1  Hyperlipidemia, unspecified,Other and unspecif...   \n",
       "1                       2                   Not specified,Fracture of coccyx   \n",
       "2                       3  Acquired absence of leg below knee,Encounter f...   \n",
       "3                       4  Unspecified abdominal pain,Systolic (congestiv...   \n",
       "4                       5  Encounter for screening for infectious and par...   \n",
       "...                   ...                                                ...   \n",
       "132064             169060            Encounter for other specified aftercare   \n",
       "132065             169061                         Other specified counseling   \n",
       "132066             169062  Heart failure, unspecified,Heart failure, unsp...   \n",
       "132067             169063                                      Not specified   \n",
       "132068             169064                   Essential (primary) hypertension   \n",
       "\n",
       "        cv_df  \n",
       "0           1  \n",
       "1           0  \n",
       "2           1  \n",
       "3           1  \n",
       "4           0  \n",
       "...       ...  \n",
       "132064      0  \n",
       "132065      0  \n",
       "132066      1  \n",
       "132067      0  \n",
       "132068      0  \n",
       "\n",
       "[132069 rows x 3 columns]"
      ]
     },
     "execution_count": 122,
     "metadata": {},
     "output_type": "execute_result"
    }
   ],
   "source": [
    "# Create the 'cv_df' column using lambda function\n",
    "df_grouped_condition['cv_df'] = df_grouped_condition['Condition code icd10 subcategory'].apply(lambda text: 1 if any(phrase.lower() in text.lower() for phrase in phrases) else 0)\n",
    "df_grouped_condition"
   ]
  },
  {
   "cell_type": "code",
   "execution_count": 123,
   "metadata": {},
   "outputs": [],
   "source": [
    "df_grouped_condition.drop(['Condition code icd10 subcategory'],axis=1,inplace=True)"
   ]
  },
  {
   "cell_type": "code",
   "execution_count": 125,
   "metadata": {},
   "outputs": [],
   "source": [
    "df_grouped_condition = df_grouped_condition"
   ]
  },
  {
   "cell_type": "code",
   "execution_count": 126,
   "metadata": {},
   "outputs": [
    {
     "data": {
      "text/html": [
       "<div>\n",
       "<style scoped>\n",
       "    .dataframe tbody tr th:only-of-type {\n",
       "        vertical-align: middle;\n",
       "    }\n",
       "\n",
       "    .dataframe tbody tr th {\n",
       "        vertical-align: top;\n",
       "    }\n",
       "\n",
       "    .dataframe thead th {\n",
       "        text-align: right;\n",
       "    }\n",
       "</style>\n",
       "<table border=\"1\" class=\"dataframe\">\n",
       "  <thead>\n",
       "    <tr style=\"text-align: right;\">\n",
       "      <th></th>\n",
       "      <th>Internalpatientid</th>\n",
       "      <th>cv_df</th>\n",
       "    </tr>\n",
       "  </thead>\n",
       "  <tbody>\n",
       "    <tr>\n",
       "      <th>0</th>\n",
       "      <td>1</td>\n",
       "      <td>1</td>\n",
       "    </tr>\n",
       "    <tr>\n",
       "      <th>1</th>\n",
       "      <td>2</td>\n",
       "      <td>0</td>\n",
       "    </tr>\n",
       "    <tr>\n",
       "      <th>2</th>\n",
       "      <td>3</td>\n",
       "      <td>1</td>\n",
       "    </tr>\n",
       "    <tr>\n",
       "      <th>3</th>\n",
       "      <td>4</td>\n",
       "      <td>1</td>\n",
       "    </tr>\n",
       "    <tr>\n",
       "      <th>4</th>\n",
       "      <td>5</td>\n",
       "      <td>0</td>\n",
       "    </tr>\n",
       "    <tr>\n",
       "      <th>...</th>\n",
       "      <td>...</td>\n",
       "      <td>...</td>\n",
       "    </tr>\n",
       "    <tr>\n",
       "      <th>132064</th>\n",
       "      <td>169060</td>\n",
       "      <td>0</td>\n",
       "    </tr>\n",
       "    <tr>\n",
       "      <th>132065</th>\n",
       "      <td>169061</td>\n",
       "      <td>0</td>\n",
       "    </tr>\n",
       "    <tr>\n",
       "      <th>132066</th>\n",
       "      <td>169062</td>\n",
       "      <td>1</td>\n",
       "    </tr>\n",
       "    <tr>\n",
       "      <th>132067</th>\n",
       "      <td>169063</td>\n",
       "      <td>0</td>\n",
       "    </tr>\n",
       "    <tr>\n",
       "      <th>132068</th>\n",
       "      <td>169064</td>\n",
       "      <td>0</td>\n",
       "    </tr>\n",
       "  </tbody>\n",
       "</table>\n",
       "<p>132069 rows × 2 columns</p>\n",
       "</div>"
      ],
      "text/plain": [
       "        Internalpatientid  cv_df\n",
       "0                       1      1\n",
       "1                       2      0\n",
       "2                       3      1\n",
       "3                       4      1\n",
       "4                       5      0\n",
       "...                   ...    ...\n",
       "132064             169060      0\n",
       "132065             169061      0\n",
       "132066             169062      1\n",
       "132067             169063      0\n",
       "132068             169064      0\n",
       "\n",
       "[132069 rows x 2 columns]"
      ]
     },
     "execution_count": 126,
     "metadata": {},
     "output_type": "execute_result"
    }
   ],
   "source": [
    "df_grouped_condition"
   ]
  },
  {
   "cell_type": "code",
   "execution_count": 128,
   "metadata": {
    "collapsed": false,
    "gather": {
     "logged": 1688642879872
    },
    "jupyter": {
     "outputs_hidden": false
    },
    "nteract": {
     "transient": {
      "deleting": false
     }
    }
   },
   "outputs": [],
   "source": [
    "df_grouped_condition.to_csv('/mnt/batch/tasks/shared/LS_root/mounts/clusters/team-3-susai-gpu2/code/Users/900379/Output_files_train/df_cv_noncv_train.csv')"
   ]
  }
 ],
 "metadata": {
  "kernel_info": {
   "name": "python38-azureml"
  },
  "kernelspec": {
   "display_name": "Python 3.8 - AzureML",
   "language": "python",
   "name": "python38-azureml"
  },
  "language_info": {
   "codemirror_mode": {
    "name": "ipython",
    "version": 3
   },
   "file_extension": ".py",
   "mimetype": "text/x-python",
   "name": "python",
   "nbconvert_exporter": "python",
   "pygments_lexer": "ipython3",
   "version": "3.8.5"
  },
  "microsoft": {
   "host": {
    "AzureML": {
     "notebookHasBeenCompleted": true
    }
   },
   "ms_spell_check": {
    "ms_spell_check_language": "en"
   }
  },
  "nteract": {
   "version": "nteract-front-end@1.0.0"
  }
 },
 "nbformat": 4,
 "nbformat_minor": 4
}
