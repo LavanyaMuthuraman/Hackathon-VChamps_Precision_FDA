{
 "cells": [
  {
   "cell_type": "markdown",
   "id": "b2becc3a",
   "metadata": {},
   "source": [
    "----\n",
    "### **Genarating Readmission Train Target file from Inpatient Admission file**\n",
    "----"
   ]
  },
  {
   "cell_type": "markdown",
   "id": "db992290",
   "metadata": {},
   "source": [
    "### Azure notebook Setup"
   ]
  },
  {
   "cell_type": "code",
   "execution_count": 3,
   "id": "caed2829",
   "metadata": {},
   "outputs": [],
   "source": [
    "#A class attribute that provides access to the TabularDatasetFactory methods for creating new TabularDataset objects. \n",
    "#Usage: Dataset.Tabular.from_delimited_files().\n",
    "from azureml.core import Workspace, Dataset\n",
    "\n",
    "subscription_id = 'bcfe0c62-8ebe-4df0-a46d-1efcf8739a5b' #check the launch studio there will get this id\n",
    "resource_group = 'VChamp-Team3' # resource group name\n",
    "workspace_name = 'vchamp-team3' # worksapce name\n",
    "\n",
    "# storage account : Algorithmia, Resource group: VChamp-Team3 and workspace: vchamp-team3.\n",
    "#Constructor\n",
    "workspace = Workspace(subscription_id, resource_group, workspace_name)"
   ]
  },
  {
   "cell_type": "code",
   "execution_count": 4,
   "id": "733e9f92",
   "metadata": {},
   "outputs": [],
   "source": [
    "#['data_team3_synthetic_train']\n",
    "datastore = workspace.datastores['data_team3_synthetic_train']"
   ]
  },
  {
   "cell_type": "code",
   "execution_count": 5,
   "id": "3ffa0799",
   "metadata": {},
   "outputs": [],
   "source": [
    "#from_delimited_files (Create a TabularDataset to represent tabular data in delimited files (e.g. CSV and TSV).\n",
    "\n",
    "dataset = Dataset.Tabular.from_delimited_files(path = [(datastore, 'inpatient_admissions_train.csv')])\n",
    "\n",
    "# preview the first 3 rows of the dataset\n",
    "# dataset.to_pandas_dataframe()"
   ]
  },
  {
   "cell_type": "code",
   "execution_count": 6,
   "id": "431bbd11",
   "metadata": {},
   "outputs": [],
   "source": [
    "#Converting the dataset into data frame(default as dataset in Azure, thus we must convert the needed formate)\n",
    "inpatient_admissions_train_data= dataset.to_pandas_dataframe()"
   ]
  },
  {
   "cell_type": "code",
   "execution_count": 7,
   "id": "e855d546",
   "metadata": {},
   "outputs": [
    {
     "data": {
      "text/plain": [
       "pandas.core.frame.DataFrame"
      ]
     },
     "execution_count": 7,
     "metadata": {},
     "output_type": "execute_result"
    }
   ],
   "source": [
    "type(inpatient_admissions_train_data)"
   ]
  },
  {
   "cell_type": "code",
   "execution_count": 8,
   "id": "7878d486",
   "metadata": {},
   "outputs": [
    {
     "data": {
      "text/html": [
       "<div>\n",
       "<style scoped>\n",
       "    .dataframe tbody tr th:only-of-type {\n",
       "        vertical-align: middle;\n",
       "    }\n",
       "\n",
       "    .dataframe tbody tr th {\n",
       "        vertical-align: top;\n",
       "    }\n",
       "\n",
       "    .dataframe thead th {\n",
       "        text-align: right;\n",
       "    }\n",
       "</style>\n",
       "<table border=\"1\" class=\"dataframe\">\n",
       "  <thead>\n",
       "    <tr style=\"text-align: right;\">\n",
       "      <th></th>\n",
       "      <th>Column1</th>\n",
       "      <th>Internalpatientid</th>\n",
       "      <th>Age at admission</th>\n",
       "      <th>Admission date</th>\n",
       "      <th>Discharge date</th>\n",
       "      <th>Admitting unit service</th>\n",
       "      <th>Discharging unit service</th>\n",
       "      <th>Admitting specialty</th>\n",
       "      <th>Discharging specialty</th>\n",
       "      <th>First listed discharge diagnosis icd10 subcategory</th>\n",
       "      <th>Second listed discharge diagnosis icd10 subcategory</th>\n",
       "      <th>Discharge disposition</th>\n",
       "      <th>Died during admission</th>\n",
       "      <th>Outpatientreferralflag</th>\n",
       "      <th>Serviceconnectedflag</th>\n",
       "      <th>Agentorangeflag</th>\n",
       "      <th>State</th>\n",
       "    </tr>\n",
       "  </thead>\n",
       "  <tbody>\n",
       "    <tr>\n",
       "      <th>0</th>\n",
       "      <td>0</td>\n",
       "      <td>10</td>\n",
       "      <td>65.649075</td>\n",
       "      <td>2015-11-28 17:41:09</td>\n",
       "      <td>2015-11-29 01:43:14</td>\n",
       "      <td>NON-COUNT</td>\n",
       "      <td>NON-COUNT</td>\n",
       "      <td>DRUG DEPENDENCE TRMT UNIT</td>\n",
       "      <td>MEDICAL OBSERVATION</td>\n",
       "      <td>Pneumonia, unspecified organism</td>\n",
       "      <td>Hypokalemia</td>\n",
       "      <td>Regular</td>\n",
       "      <td>False</td>\n",
       "      <td>False</td>\n",
       "      <td>None</td>\n",
       "      <td>True</td>\n",
       "      <td>Utah</td>\n",
       "    </tr>\n",
       "    <tr>\n",
       "      <th>1</th>\n",
       "      <td>1</td>\n",
       "      <td>100001</td>\n",
       "      <td>83.767138</td>\n",
       "      <td>2009-10-01 21:19:50</td>\n",
       "      <td>2009-10-04 16:51:33</td>\n",
       "      <td>MEDICINE</td>\n",
       "      <td>MEDICINE</td>\n",
       "      <td>PSYCHIATRIC MENTALLY INFIRM</td>\n",
       "      <td>GENERAL(ACUTE MEDICINE)</td>\n",
       "      <td>Pneumonia, unspecified organism</td>\n",
       "      <td>Essential (primary) hypertension</td>\n",
       "      <td>Regular</td>\n",
       "      <td>False</td>\n",
       "      <td>True</td>\n",
       "      <td>False</td>\n",
       "      <td>False</td>\n",
       "      <td>North Carolina</td>\n",
       "    </tr>\n",
       "    <tr>\n",
       "      <th>2</th>\n",
       "      <td>2</td>\n",
       "      <td>100001</td>\n",
       "      <td>84.873295</td>\n",
       "      <td>2010-11-10 04:32:39</td>\n",
       "      <td>2010-11-19 08:49:45</td>\n",
       "      <td>SURGERY</td>\n",
       "      <td>SURGERY</td>\n",
       "      <td>SUBSTANCE ABUSE RES TRMT PROG</td>\n",
       "      <td>ORTHOPEDIC</td>\n",
       "      <td>Osteoarthritis, unspecified site</td>\n",
       "      <td>Type 2 diabetes mellitus with neurological com...</td>\n",
       "      <td>Regular</td>\n",
       "      <td>False</td>\n",
       "      <td>False</td>\n",
       "      <td>None</td>\n",
       "      <td>False</td>\n",
       "      <td>North Carolina</td>\n",
       "    </tr>\n",
       "    <tr>\n",
       "      <th>3</th>\n",
       "      <td>3</td>\n",
       "      <td>10001</td>\n",
       "      <td>70.900369</td>\n",
       "      <td>2020-03-20 02:02:26</td>\n",
       "      <td>2020-03-28 08:47:01</td>\n",
       "      <td>SURGERY</td>\n",
       "      <td>SURGERY</td>\n",
       "      <td>PLASTIC SURGERY</td>\n",
       "      <td>SURGICAL STEPDOWN</td>\n",
       "      <td>Nonrheumatic mitral (valve) prolapse</td>\n",
       "      <td>Postprocedural shock</td>\n",
       "      <td>Regular</td>\n",
       "      <td>False</td>\n",
       "      <td>True</td>\n",
       "      <td>None</td>\n",
       "      <td>True</td>\n",
       "      <td>Florida</td>\n",
       "    </tr>\n",
       "    <tr>\n",
       "      <th>4</th>\n",
       "      <td>5</td>\n",
       "      <td>100016</td>\n",
       "      <td>83.054993</td>\n",
       "      <td>1999-11-20 14:23:45</td>\n",
       "      <td>1999-12-01 03:57:43</td>\n",
       "      <td>MEDICINE</td>\n",
       "      <td>MEDICINE</td>\n",
       "      <td>HEMATOLOGY/ONCOLOGY</td>\n",
       "      <td>GENERAL(ACUTE MEDICINE)</td>\n",
       "      <td>Pneumonia, unspecified organism</td>\n",
       "      <td>Unspecified mental disorder due to known physi...</td>\n",
       "      <td>Regular</td>\n",
       "      <td>False</td>\n",
       "      <td>False</td>\n",
       "      <td>None</td>\n",
       "      <td>None</td>\n",
       "      <td>Idaho</td>\n",
       "    </tr>\n",
       "  </tbody>\n",
       "</table>\n",
       "</div>"
      ],
      "text/plain": [
       "   Column1  Internalpatientid  Age at admission      Admission date  \\\n",
       "0        0                 10         65.649075 2015-11-28 17:41:09   \n",
       "1        1             100001         83.767138 2009-10-01 21:19:50   \n",
       "2        2             100001         84.873295 2010-11-10 04:32:39   \n",
       "3        3              10001         70.900369 2020-03-20 02:02:26   \n",
       "4        5             100016         83.054993 1999-11-20 14:23:45   \n",
       "\n",
       "       Discharge date Admitting unit service Discharging unit service  \\\n",
       "0 2015-11-29 01:43:14              NON-COUNT                NON-COUNT   \n",
       "1 2009-10-04 16:51:33               MEDICINE                 MEDICINE   \n",
       "2 2010-11-19 08:49:45                SURGERY                  SURGERY   \n",
       "3 2020-03-28 08:47:01                SURGERY                  SURGERY   \n",
       "4 1999-12-01 03:57:43               MEDICINE                 MEDICINE   \n",
       "\n",
       "             Admitting specialty    Discharging specialty  \\\n",
       "0      DRUG DEPENDENCE TRMT UNIT      MEDICAL OBSERVATION   \n",
       "1    PSYCHIATRIC MENTALLY INFIRM  GENERAL(ACUTE MEDICINE)   \n",
       "2  SUBSTANCE ABUSE RES TRMT PROG               ORTHOPEDIC   \n",
       "3                PLASTIC SURGERY        SURGICAL STEPDOWN   \n",
       "4            HEMATOLOGY/ONCOLOGY  GENERAL(ACUTE MEDICINE)   \n",
       "\n",
       "  First listed discharge diagnosis icd10 subcategory  \\\n",
       "0                    Pneumonia, unspecified organism   \n",
       "1                    Pneumonia, unspecified organism   \n",
       "2                   Osteoarthritis, unspecified site   \n",
       "3               Nonrheumatic mitral (valve) prolapse   \n",
       "4                    Pneumonia, unspecified organism   \n",
       "\n",
       "  Second listed discharge diagnosis icd10 subcategory Discharge disposition  \\\n",
       "0                                        Hypokalemia                Regular   \n",
       "1                   Essential (primary) hypertension                Regular   \n",
       "2  Type 2 diabetes mellitus with neurological com...                Regular   \n",
       "3                               Postprocedural shock                Regular   \n",
       "4  Unspecified mental disorder due to known physi...                Regular   \n",
       "\n",
       "   Died during admission Outpatientreferralflag Serviceconnectedflag  \\\n",
       "0                  False                  False                 None   \n",
       "1                  False                   True                False   \n",
       "2                  False                  False                 None   \n",
       "3                  False                   True                 None   \n",
       "4                  False                  False                 None   \n",
       "\n",
       "  Agentorangeflag           State  \n",
       "0            True            Utah  \n",
       "1           False  North Carolina  \n",
       "2           False  North Carolina  \n",
       "3            True         Florida  \n",
       "4            None           Idaho  "
      ]
     },
     "execution_count": 8,
     "metadata": {},
     "output_type": "execute_result"
    }
   ],
   "source": [
    "inpatient_admissions_train_data.head()"
   ]
  },
  {
   "cell_type": "markdown",
   "id": "fe7ea5ca",
   "metadata": {},
   "source": [
    "### **Importing Libraries**"
   ]
  },
  {
   "cell_type": "code",
   "execution_count": 9,
   "id": "1eaf7fac",
   "metadata": {},
   "outputs": [],
   "source": [
    "# Importing essential libraries\n",
    "import pandas as pd                 # Library for data manipulation and analysis\n",
    "import numpy as np                  # Library for mathematical operations"
   ]
  },
  {
   "cell_type": "markdown",
   "id": "3a9cb6be",
   "metadata": {},
   "source": [
    "### **Data Exploration**"
   ]
  },
  {
   "cell_type": "code",
   "execution_count": 10,
   "id": "d7b0c55f",
   "metadata": {},
   "outputs": [],
   "source": [
    "# changing variable name for dataframe\n",
    "df = inpatient_admissions_train_data"
   ]
  },
  {
   "cell_type": "code",
   "execution_count": 11,
   "id": "5baf1d0c",
   "metadata": {},
   "outputs": [
    {
     "data": {
      "text/html": [
       "<div>\n",
       "<style scoped>\n",
       "    .dataframe tbody tr th:only-of-type {\n",
       "        vertical-align: middle;\n",
       "    }\n",
       "\n",
       "    .dataframe tbody tr th {\n",
       "        vertical-align: top;\n",
       "    }\n",
       "\n",
       "    .dataframe thead th {\n",
       "        text-align: right;\n",
       "    }\n",
       "</style>\n",
       "<table border=\"1\" class=\"dataframe\">\n",
       "  <thead>\n",
       "    <tr style=\"text-align: right;\">\n",
       "      <th></th>\n",
       "      <th>Column1</th>\n",
       "      <th>Internalpatientid</th>\n",
       "      <th>Age at admission</th>\n",
       "      <th>Admission date</th>\n",
       "      <th>Discharge date</th>\n",
       "      <th>Admitting unit service</th>\n",
       "      <th>Discharging unit service</th>\n",
       "      <th>Admitting specialty</th>\n",
       "      <th>Discharging specialty</th>\n",
       "      <th>First listed discharge diagnosis icd10 subcategory</th>\n",
       "      <th>Second listed discharge diagnosis icd10 subcategory</th>\n",
       "      <th>Discharge disposition</th>\n",
       "      <th>Died during admission</th>\n",
       "      <th>Outpatientreferralflag</th>\n",
       "      <th>Serviceconnectedflag</th>\n",
       "      <th>Agentorangeflag</th>\n",
       "      <th>State</th>\n",
       "    </tr>\n",
       "  </thead>\n",
       "  <tbody>\n",
       "    <tr>\n",
       "      <th>0</th>\n",
       "      <td>0</td>\n",
       "      <td>10</td>\n",
       "      <td>65.649075</td>\n",
       "      <td>2015-11-28 17:41:09</td>\n",
       "      <td>2015-11-29 01:43:14</td>\n",
       "      <td>NON-COUNT</td>\n",
       "      <td>NON-COUNT</td>\n",
       "      <td>DRUG DEPENDENCE TRMT UNIT</td>\n",
       "      <td>MEDICAL OBSERVATION</td>\n",
       "      <td>Pneumonia, unspecified organism</td>\n",
       "      <td>Hypokalemia</td>\n",
       "      <td>Regular</td>\n",
       "      <td>False</td>\n",
       "      <td>False</td>\n",
       "      <td>None</td>\n",
       "      <td>True</td>\n",
       "      <td>Utah</td>\n",
       "    </tr>\n",
       "    <tr>\n",
       "      <th>1</th>\n",
       "      <td>1</td>\n",
       "      <td>100001</td>\n",
       "      <td>83.767138</td>\n",
       "      <td>2009-10-01 21:19:50</td>\n",
       "      <td>2009-10-04 16:51:33</td>\n",
       "      <td>MEDICINE</td>\n",
       "      <td>MEDICINE</td>\n",
       "      <td>PSYCHIATRIC MENTALLY INFIRM</td>\n",
       "      <td>GENERAL(ACUTE MEDICINE)</td>\n",
       "      <td>Pneumonia, unspecified organism</td>\n",
       "      <td>Essential (primary) hypertension</td>\n",
       "      <td>Regular</td>\n",
       "      <td>False</td>\n",
       "      <td>True</td>\n",
       "      <td>False</td>\n",
       "      <td>False</td>\n",
       "      <td>North Carolina</td>\n",
       "    </tr>\n",
       "    <tr>\n",
       "      <th>2</th>\n",
       "      <td>2</td>\n",
       "      <td>100001</td>\n",
       "      <td>84.873295</td>\n",
       "      <td>2010-11-10 04:32:39</td>\n",
       "      <td>2010-11-19 08:49:45</td>\n",
       "      <td>SURGERY</td>\n",
       "      <td>SURGERY</td>\n",
       "      <td>SUBSTANCE ABUSE RES TRMT PROG</td>\n",
       "      <td>ORTHOPEDIC</td>\n",
       "      <td>Osteoarthritis, unspecified site</td>\n",
       "      <td>Type 2 diabetes mellitus with neurological com...</td>\n",
       "      <td>Regular</td>\n",
       "      <td>False</td>\n",
       "      <td>False</td>\n",
       "      <td>None</td>\n",
       "      <td>False</td>\n",
       "      <td>North Carolina</td>\n",
       "    </tr>\n",
       "    <tr>\n",
       "      <th>3</th>\n",
       "      <td>3</td>\n",
       "      <td>10001</td>\n",
       "      <td>70.900369</td>\n",
       "      <td>2020-03-20 02:02:26</td>\n",
       "      <td>2020-03-28 08:47:01</td>\n",
       "      <td>SURGERY</td>\n",
       "      <td>SURGERY</td>\n",
       "      <td>PLASTIC SURGERY</td>\n",
       "      <td>SURGICAL STEPDOWN</td>\n",
       "      <td>Nonrheumatic mitral (valve) prolapse</td>\n",
       "      <td>Postprocedural shock</td>\n",
       "      <td>Regular</td>\n",
       "      <td>False</td>\n",
       "      <td>True</td>\n",
       "      <td>None</td>\n",
       "      <td>True</td>\n",
       "      <td>Florida</td>\n",
       "    </tr>\n",
       "    <tr>\n",
       "      <th>4</th>\n",
       "      <td>5</td>\n",
       "      <td>100016</td>\n",
       "      <td>83.054993</td>\n",
       "      <td>1999-11-20 14:23:45</td>\n",
       "      <td>1999-12-01 03:57:43</td>\n",
       "      <td>MEDICINE</td>\n",
       "      <td>MEDICINE</td>\n",
       "      <td>HEMATOLOGY/ONCOLOGY</td>\n",
       "      <td>GENERAL(ACUTE MEDICINE)</td>\n",
       "      <td>Pneumonia, unspecified organism</td>\n",
       "      <td>Unspecified mental disorder due to known physi...</td>\n",
       "      <td>Regular</td>\n",
       "      <td>False</td>\n",
       "      <td>False</td>\n",
       "      <td>None</td>\n",
       "      <td>None</td>\n",
       "      <td>Idaho</td>\n",
       "    </tr>\n",
       "  </tbody>\n",
       "</table>\n",
       "</div>"
      ],
      "text/plain": [
       "   Column1  Internalpatientid  Age at admission      Admission date  \\\n",
       "0        0                 10         65.649075 2015-11-28 17:41:09   \n",
       "1        1             100001         83.767138 2009-10-01 21:19:50   \n",
       "2        2             100001         84.873295 2010-11-10 04:32:39   \n",
       "3        3              10001         70.900369 2020-03-20 02:02:26   \n",
       "4        5             100016         83.054993 1999-11-20 14:23:45   \n",
       "\n",
       "       Discharge date Admitting unit service Discharging unit service  \\\n",
       "0 2015-11-29 01:43:14              NON-COUNT                NON-COUNT   \n",
       "1 2009-10-04 16:51:33               MEDICINE                 MEDICINE   \n",
       "2 2010-11-19 08:49:45                SURGERY                  SURGERY   \n",
       "3 2020-03-28 08:47:01                SURGERY                  SURGERY   \n",
       "4 1999-12-01 03:57:43               MEDICINE                 MEDICINE   \n",
       "\n",
       "             Admitting specialty    Discharging specialty  \\\n",
       "0      DRUG DEPENDENCE TRMT UNIT      MEDICAL OBSERVATION   \n",
       "1    PSYCHIATRIC MENTALLY INFIRM  GENERAL(ACUTE MEDICINE)   \n",
       "2  SUBSTANCE ABUSE RES TRMT PROG               ORTHOPEDIC   \n",
       "3                PLASTIC SURGERY        SURGICAL STEPDOWN   \n",
       "4            HEMATOLOGY/ONCOLOGY  GENERAL(ACUTE MEDICINE)   \n",
       "\n",
       "  First listed discharge diagnosis icd10 subcategory  \\\n",
       "0                    Pneumonia, unspecified organism   \n",
       "1                    Pneumonia, unspecified organism   \n",
       "2                   Osteoarthritis, unspecified site   \n",
       "3               Nonrheumatic mitral (valve) prolapse   \n",
       "4                    Pneumonia, unspecified organism   \n",
       "\n",
       "  Second listed discharge diagnosis icd10 subcategory Discharge disposition  \\\n",
       "0                                        Hypokalemia                Regular   \n",
       "1                   Essential (primary) hypertension                Regular   \n",
       "2  Type 2 diabetes mellitus with neurological com...                Regular   \n",
       "3                               Postprocedural shock                Regular   \n",
       "4  Unspecified mental disorder due to known physi...                Regular   \n",
       "\n",
       "   Died during admission Outpatientreferralflag Serviceconnectedflag  \\\n",
       "0                  False                  False                 None   \n",
       "1                  False                   True                False   \n",
       "2                  False                  False                 None   \n",
       "3                  False                   True                 None   \n",
       "4                  False                  False                 None   \n",
       "\n",
       "  Agentorangeflag           State  \n",
       "0            True            Utah  \n",
       "1           False  North Carolina  \n",
       "2           False  North Carolina  \n",
       "3            True         Florida  \n",
       "4            None           Idaho  "
      ]
     },
     "execution_count": 11,
     "metadata": {},
     "output_type": "execute_result"
    }
   ],
   "source": [
    "# Display the first few rows of a DataFrame\n",
    "df.head()"
   ]
  },
  {
   "cell_type": "code",
   "execution_count": 12,
   "id": "071e61eb",
   "metadata": {},
   "outputs": [
    {
     "name": "stdout",
     "output_type": "stream",
     "text": [
      "Number of rows: 522740\n",
      "Number of columns: 17\n"
     ]
    }
   ],
   "source": [
    "# Shape of the dataset\n",
    "df.shape\n",
    "\n",
    "num_rows = df.shape[0]  # Number of rows\n",
    "num_cols = df.shape[1]  # Number of columns\n",
    "\n",
    "print(\"Number of rows:\", num_rows)\n",
    "print(\"Number of columns:\", num_cols)"
   ]
  },
  {
   "cell_type": "code",
   "execution_count": 13,
   "id": "f54aeb6a",
   "metadata": {},
   "outputs": [
    {
     "name": "stdout",
     "output_type": "stream",
     "text": [
      "Number of Unique Internalpatientid\n"
     ]
    },
    {
     "data": {
      "text/plain": [
       "84536"
      ]
     },
     "execution_count": 13,
     "metadata": {},
     "output_type": "execute_result"
    }
   ],
   "source": [
    "# Get the number of unique values in the 'Internalpatientid' column\n",
    "print(\"Number of Unique Internalpatientid\")\n",
    "df['Internalpatientid'].nunique()"
   ]
  },
  {
   "cell_type": "code",
   "execution_count": 14,
   "id": "c1ab555e",
   "metadata": {},
   "outputs": [],
   "source": [
    "# Dropping unnammed column\n",
    "df = df.drop(df.columns[0], axis=1)"
   ]
  },
  {
   "cell_type": "code",
   "execution_count": 15,
   "id": "2a1115a8",
   "metadata": {},
   "outputs": [
    {
     "name": "stdout",
     "output_type": "stream",
     "text": [
      "<class 'pandas.core.frame.DataFrame'>\n",
      "RangeIndex: 522740 entries, 0 to 522739\n",
      "Data columns (total 16 columns):\n",
      " #   Column                                               Non-Null Count   Dtype         \n",
      "---  ------                                               --------------   -----         \n",
      " 0   Internalpatientid                                    522740 non-null  int64         \n",
      " 1   Age at admission                                     522740 non-null  float64       \n",
      " 2   Admission date                                       522740 non-null  datetime64[ns]\n",
      " 3   Discharge date                                       522246 non-null  datetime64[ns]\n",
      " 4   Admitting unit service                               522740 non-null  object        \n",
      " 5   Discharging unit service                             522740 non-null  object        \n",
      " 6   Admitting specialty                                  522740 non-null  object        \n",
      " 7   Discharging specialty                                522740 non-null  object        \n",
      " 8   First listed discharge diagnosis icd10 subcategory   522740 non-null  object        \n",
      " 9   Second listed discharge diagnosis icd10 subcategory  522740 non-null  object        \n",
      " 10  Discharge disposition                                522740 non-null  object        \n",
      " 11  Died during admission                                522740 non-null  bool          \n",
      " 12  Outpatientreferralflag                               496297 non-null  object        \n",
      " 13  Serviceconnectedflag                                 35051 non-null   object        \n",
      " 14  Agentorangeflag                                      418228 non-null  object        \n",
      " 15  State                                                522740 non-null  object        \n",
      "dtypes: bool(1), datetime64[ns](2), float64(1), int64(1), object(11)\n",
      "memory usage: 60.3+ MB\n"
     ]
    }
   ],
   "source": [
    "# Display the concise summary of the DataFrame\n",
    "df.info()"
   ]
  },
  {
   "cell_type": "markdown",
   "id": "1319e9ab",
   "metadata": {},
   "source": [
    "- The 'Internalpatientid' column contains integer values, while the 'Age at admission' column is in float format. The rest of the features are represented as objects."
   ]
  },
  {
   "cell_type": "markdown",
   "id": "6c4042f8",
   "metadata": {},
   "source": [
    "### **Checking for Missing Values**"
   ]
  },
  {
   "cell_type": "code",
   "execution_count": 16,
   "id": "7c672465",
   "metadata": {},
   "outputs": [
    {
     "data": {
      "text/plain": [
       "['Discharge date',\n",
       " 'Outpatientreferralflag',\n",
       " 'Serviceconnectedflag',\n",
       " 'Agentorangeflag']"
      ]
     },
     "execution_count": 16,
     "metadata": {},
     "output_type": "execute_result"
    }
   ],
   "source": [
    "# List comprehension to find columns with missing values\n",
    "[features for features in df.columns if df[features].isnull().sum()>0]"
   ]
  },
  {
   "cell_type": "code",
   "execution_count": 17,
   "id": "2e9ac3a8",
   "metadata": {},
   "outputs": [
    {
     "data": {
      "text/plain": [
       "Internalpatientid                                           0\n",
       "Age at admission                                            0\n",
       "Admission date                                              0\n",
       "Discharge date                                            494\n",
       "Admitting unit service                                      0\n",
       "Discharging unit service                                    0\n",
       "Admitting specialty                                         0\n",
       "Discharging specialty                                       0\n",
       "First listed discharge diagnosis icd10 subcategory          0\n",
       "Second listed discharge diagnosis icd10 subcategory         0\n",
       "Discharge disposition                                       0\n",
       "Died during admission                                       0\n",
       "Outpatientreferralflag                                  26443\n",
       "Serviceconnectedflag                                   487689\n",
       "Agentorangeflag                                        104512\n",
       "State                                                       0\n",
       "dtype: int64"
      ]
     },
     "execution_count": 17,
     "metadata": {},
     "output_type": "execute_result"
    }
   ],
   "source": [
    "# Count the number of missing values in each column\n",
    "df.isnull().sum()"
   ]
  },
  {
   "cell_type": "markdown",
   "id": "5fd98c10",
   "metadata": {},
   "source": [
    "- The dataset has missing values, particularly in the 'Outpatientreferralflag', 'Serviceconnectedflag', and 'Agentorangeflag' columns. Additionally, there are a few missing values in the 'Discharge date' column.\""
   ]
  },
  {
   "cell_type": "markdown",
   "id": "3b1df5c4",
   "metadata": {},
   "source": [
    "---"
   ]
  },
  {
   "cell_type": "markdown",
   "id": "02d41d7f-b5f5-4ba2-ac55-7be94f398429",
   "metadata": {},
   "source": [
    "### **Checking Readmission Count**"
   ]
  },
  {
   "cell_type": "code",
   "execution_count": 18,
   "id": "1eea2f10-fa77-493b-8f5c-0e7a0600f2af",
   "metadata": {},
   "outputs": [],
   "source": [
    "df_readmission = pd.DataFrame(df['Internalpatientid'].value_counts()).reset_index()\n",
    "df_readmission.columns = ['Internalpatientid', 'counts']  # Rename the columns"
   ]
  },
  {
   "cell_type": "code",
   "execution_count": 19,
   "id": "9d831b6c-b9fb-4eb8-98ec-5cfa63f421a0",
   "metadata": {},
   "outputs": [],
   "source": [
    "# Create a new column based on the condition\n",
    "df_readmission['Readmission'] = df_readmission['counts'].apply(lambda x: 1 if x > 1 else 0)"
   ]
  },
  {
   "cell_type": "code",
   "execution_count": 20,
   "id": "e5b6c4cf-2597-409b-856c-b8af1f661e8f",
   "metadata": {},
   "outputs": [
    {
     "data": {
      "text/html": [
       "<div>\n",
       "<style scoped>\n",
       "    .dataframe tbody tr th:only-of-type {\n",
       "        vertical-align: middle;\n",
       "    }\n",
       "\n",
       "    .dataframe tbody tr th {\n",
       "        vertical-align: top;\n",
       "    }\n",
       "\n",
       "    .dataframe thead th {\n",
       "        text-align: right;\n",
       "    }\n",
       "</style>\n",
       "<table border=\"1\" class=\"dataframe\">\n",
       "  <thead>\n",
       "    <tr style=\"text-align: right;\">\n",
       "      <th></th>\n",
       "      <th>Internalpatientid</th>\n",
       "      <th>counts</th>\n",
       "      <th>Readmission</th>\n",
       "    </tr>\n",
       "  </thead>\n",
       "  <tbody>\n",
       "    <tr>\n",
       "      <th>0</th>\n",
       "      <td>102741</td>\n",
       "      <td>344</td>\n",
       "      <td>1</td>\n",
       "    </tr>\n",
       "    <tr>\n",
       "      <th>1</th>\n",
       "      <td>82129</td>\n",
       "      <td>191</td>\n",
       "      <td>1</td>\n",
       "    </tr>\n",
       "    <tr>\n",
       "      <th>2</th>\n",
       "      <td>134097</td>\n",
       "      <td>165</td>\n",
       "      <td>1</td>\n",
       "    </tr>\n",
       "    <tr>\n",
       "      <th>3</th>\n",
       "      <td>2192</td>\n",
       "      <td>156</td>\n",
       "      <td>1</td>\n",
       "    </tr>\n",
       "    <tr>\n",
       "      <th>4</th>\n",
       "      <td>94822</td>\n",
       "      <td>153</td>\n",
       "      <td>1</td>\n",
       "    </tr>\n",
       "    <tr>\n",
       "      <th>...</th>\n",
       "      <td>...</td>\n",
       "      <td>...</td>\n",
       "      <td>...</td>\n",
       "    </tr>\n",
       "    <tr>\n",
       "      <th>84531</th>\n",
       "      <td>22073</td>\n",
       "      <td>1</td>\n",
       "      <td>0</td>\n",
       "    </tr>\n",
       "    <tr>\n",
       "      <th>84532</th>\n",
       "      <td>33943</td>\n",
       "      <td>1</td>\n",
       "      <td>0</td>\n",
       "    </tr>\n",
       "    <tr>\n",
       "      <th>84533</th>\n",
       "      <td>33187</td>\n",
       "      <td>1</td>\n",
       "      <td>0</td>\n",
       "    </tr>\n",
       "    <tr>\n",
       "      <th>84534</th>\n",
       "      <td>165475</td>\n",
       "      <td>1</td>\n",
       "      <td>0</td>\n",
       "    </tr>\n",
       "    <tr>\n",
       "      <th>84535</th>\n",
       "      <td>61780</td>\n",
       "      <td>1</td>\n",
       "      <td>0</td>\n",
       "    </tr>\n",
       "  </tbody>\n",
       "</table>\n",
       "<p>84536 rows × 3 columns</p>\n",
       "</div>"
      ],
      "text/plain": [
       "       Internalpatientid  counts  Readmission\n",
       "0                 102741     344            1\n",
       "1                  82129     191            1\n",
       "2                 134097     165            1\n",
       "3                   2192     156            1\n",
       "4                  94822     153            1\n",
       "...                  ...     ...          ...\n",
       "84531              22073       1            0\n",
       "84532              33943       1            0\n",
       "84533              33187       1            0\n",
       "84534             165475       1            0\n",
       "84535              61780       1            0\n",
       "\n",
       "[84536 rows x 3 columns]"
      ]
     },
     "execution_count": 20,
     "metadata": {},
     "output_type": "execute_result"
    }
   ],
   "source": [
    "df_readmission"
   ]
  },
  {
   "cell_type": "code",
   "execution_count": 21,
   "id": "a554d0c2-1d58-4894-8376-858c6f2356cd",
   "metadata": {},
   "outputs": [],
   "source": [
    "df_readmission.drop(['counts'], axis=1,inplace=True)"
   ]
  },
  {
   "cell_type": "code",
   "execution_count": 22,
   "id": "678aae48-b445-4a12-b041-1a60943f539b",
   "metadata": {},
   "outputs": [
    {
     "data": {
      "text/html": [
       "<div>\n",
       "<style scoped>\n",
       "    .dataframe tbody tr th:only-of-type {\n",
       "        vertical-align: middle;\n",
       "    }\n",
       "\n",
       "    .dataframe tbody tr th {\n",
       "        vertical-align: top;\n",
       "    }\n",
       "\n",
       "    .dataframe thead th {\n",
       "        text-align: right;\n",
       "    }\n",
       "</style>\n",
       "<table border=\"1\" class=\"dataframe\">\n",
       "  <thead>\n",
       "    <tr style=\"text-align: right;\">\n",
       "      <th></th>\n",
       "      <th>Internalpatientid</th>\n",
       "      <th>Readmission</th>\n",
       "    </tr>\n",
       "  </thead>\n",
       "  <tbody>\n",
       "    <tr>\n",
       "      <th>0</th>\n",
       "      <td>102741</td>\n",
       "      <td>1</td>\n",
       "    </tr>\n",
       "    <tr>\n",
       "      <th>1</th>\n",
       "      <td>82129</td>\n",
       "      <td>1</td>\n",
       "    </tr>\n",
       "    <tr>\n",
       "      <th>2</th>\n",
       "      <td>134097</td>\n",
       "      <td>1</td>\n",
       "    </tr>\n",
       "    <tr>\n",
       "      <th>3</th>\n",
       "      <td>2192</td>\n",
       "      <td>1</td>\n",
       "    </tr>\n",
       "    <tr>\n",
       "      <th>4</th>\n",
       "      <td>94822</td>\n",
       "      <td>1</td>\n",
       "    </tr>\n",
       "    <tr>\n",
       "      <th>...</th>\n",
       "      <td>...</td>\n",
       "      <td>...</td>\n",
       "    </tr>\n",
       "    <tr>\n",
       "      <th>84531</th>\n",
       "      <td>22073</td>\n",
       "      <td>0</td>\n",
       "    </tr>\n",
       "    <tr>\n",
       "      <th>84532</th>\n",
       "      <td>33943</td>\n",
       "      <td>0</td>\n",
       "    </tr>\n",
       "    <tr>\n",
       "      <th>84533</th>\n",
       "      <td>33187</td>\n",
       "      <td>0</td>\n",
       "    </tr>\n",
       "    <tr>\n",
       "      <th>84534</th>\n",
       "      <td>165475</td>\n",
       "      <td>0</td>\n",
       "    </tr>\n",
       "    <tr>\n",
       "      <th>84535</th>\n",
       "      <td>61780</td>\n",
       "      <td>0</td>\n",
       "    </tr>\n",
       "  </tbody>\n",
       "</table>\n",
       "<p>84536 rows × 2 columns</p>\n",
       "</div>"
      ],
      "text/plain": [
       "       Internalpatientid  Readmission\n",
       "0                 102741            1\n",
       "1                  82129            1\n",
       "2                 134097            1\n",
       "3                   2192            1\n",
       "4                  94822            1\n",
       "...                  ...          ...\n",
       "84531              22073            0\n",
       "84532              33943            0\n",
       "84533              33187            0\n",
       "84534             165475            0\n",
       "84535              61780            0\n",
       "\n",
       "[84536 rows x 2 columns]"
      ]
     },
     "execution_count": 22,
     "metadata": {},
     "output_type": "execute_result"
    }
   ],
   "source": [
    "df_readmission"
   ]
  },
  {
   "cell_type": "markdown",
   "id": "339c2a17-8e00-4a38-a826-81d97b2bfa40",
   "metadata": {},
   "source": [
    "### **Saving Readmission Target file**"
   ]
  },
  {
   "cell_type": "code",
   "execution_count": 25,
   "id": "ee6b5e6d-5fa9-4f11-b91d-7f72b5b3343c",
   "metadata": {},
   "outputs": [
    {
     "data": {
      "text/plain": [
       "'/mnt/batch/tasks/shared/LS_root/mounts/clusters/team3-lavanya-gpu2/code/Users/2211574/Best_Files'"
      ]
     },
     "execution_count": 25,
     "metadata": {},
     "output_type": "execute_result"
    }
   ],
   "source": [
    "import os\n",
    "cwd = os.getcwd()\n",
    "cwd"
   ]
  },
  {
   "cell_type": "code",
   "execution_count": 26,
   "id": "dd666261-a6b5-4b83-86ed-e27af973889d",
   "metadata": {},
   "outputs": [],
   "source": [
    "#df.to_csv('Path where you want to store the exported CSV file/File Name.csv')\n",
    "df_readmission.to_csv('/mnt/batch/tasks/shared/LS_root/mounts/clusters/team3-lavanya-gpu2/code/Users/900379/Output_files_train/Potential_files_train/df_readmission_train.csv')"
   ]
  },
  {
   "cell_type": "markdown",
   "id": "1d999d70-e49f-4496-94d6-f8e0bd10534e",
   "metadata": {},
   "source": [
    "----------"
   ]
  },
  {
   "cell_type": "code",
   "execution_count": null,
   "id": "cf8eb9bc-f4e0-416d-8ef0-588501b4026a",
   "metadata": {},
   "outputs": [],
   "source": []
  }
 ],
 "metadata": {
  "kernelspec": {
   "display_name": "Python 3.8 - AzureML",
   "language": "python",
   "name": "python38-azureml"
  },
  "language_info": {
   "codemirror_mode": {
    "name": "ipython",
    "version": 3
   },
   "file_extension": ".py",
   "mimetype": "text/x-python",
   "name": "python",
   "nbconvert_exporter": "python",
   "pygments_lexer": "ipython3",
   "version": "3.8.5"
  }
 },
 "nbformat": 4,
 "nbformat_minor": 5
}
