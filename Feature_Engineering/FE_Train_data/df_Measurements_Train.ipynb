{
 "cells": [
  {
   "cell_type": "markdown",
   "id": "f290af89-7668-42e7-9a6a-1ae005b4cf58",
   "metadata": {},
   "source": [
    "---\n",
    "# **Measurements Train File**\n",
    "---"
   ]
  },
  {
   "cell_type": "markdown",
   "id": "225bb250",
   "metadata": {},
   "source": [
    "## **Dataset Description:**\n",
    "\n",
    "- **Internalpatientid:** It represents an internal identifier for each patient. It is likely a unique identifier assigned to each individual in the dataset.\n",
    "- **Age at measurement:** This column denotes the age of the patient at the time of the measurement. It provides information about the patient's age in a numeric format.\n",
    "- **Measurement date:** It indicates the date and time when the measurement was taken. It provides the timestamp of the measurement in a specific format.\n",
    "- **Measurement:** This column specifies the type of measurement that was taken. It could include various types of health measurements such as pulse, weight, blood pressure, respiratory rate, pain level, etc.\n",
    "- **Result numeric:** It represents the numeric result of the measurement. It contains the actual numerical value associated with the specific measurement type.\n",
    "- **Result textual:** This column holds the textual representation or description of the measurement result. But it only representing blood pressure value in texual.\n",
    "- **State:** This column indicates the state associated with the measurement. It represents the geographical location or state information where the measurement was recorded.\n"
   ]
  },
  {
   "cell_type": "markdown",
   "id": "97c06abc",
   "metadata": {},
   "source": [
    "### Azure notebook Setup"
   ]
  },
  {
   "cell_type": "code",
   "execution_count": 1,
   "id": "f7478bcf",
   "metadata": {},
   "outputs": [],
   "source": [
    "#A class attribute that provides access to the TabularDatasetFactory methods for creating new TabularDataset objects. \n",
    "#Usage: Dataset.Tabular.from_delimited_files().\n",
    "from azureml.core import Workspace, Dataset\n",
    "\n",
    "subscription_id = 'bcfe0c62-8ebe-4df0-a46d-1efcf8739a5b' #check the launch studio there will get this id\n",
    "resource_group = 'VChamp-Team3' # resource group name\n",
    "workspace_name = 'vchamp-team3' # worksapce name\n",
    "\n",
    "\n",
    "# storage account : Algorithmia, Resource group: VChamp-Team3 and workspace: vchamp-team3.\n",
    "#Constructor\n",
    "workspace = Workspace(subscription_id, resource_group, workspace_name)"
   ]
  },
  {
   "cell_type": "code",
   "execution_count": 2,
   "id": "72141276",
   "metadata": {},
   "outputs": [],
   "source": [
    "#['data_team3_synthetic_train']\n",
    "datastore = workspace.datastores['data_team3_synthetic_train'] "
   ]
  },
  {
   "cell_type": "code",
   "execution_count": 3,
   "id": "a3309cbb",
   "metadata": {},
   "outputs": [],
   "source": [
    "#from_delimited_files (Create a TabularDataset to represent tabular data in delimited files (e.g. CSV and TSV).\n",
    "\n",
    "dataset = Dataset.Tabular.from_delimited_files(path = [(datastore, 'measurements_train.csv')])\n",
    "\n",
    "# preview the first 3 rows of the dataset\n",
    "# dataset.to_pandas_dataframe()"
   ]
  },
  {
   "cell_type": "code",
   "execution_count": 4,
   "id": "0597a002",
   "metadata": {},
   "outputs": [],
   "source": [
    "#Converting the dataset into data frame(default as dataset in Azure, thus we must convert the needed formate)\n",
    "measurements_train_data= dataset.to_pandas_dataframe()"
   ]
  },
  {
   "cell_type": "code",
   "execution_count": 5,
   "id": "1902e5a1",
   "metadata": {},
   "outputs": [
    {
     "data": {
      "text/plain": [
       "pandas.core.frame.DataFrame"
      ]
     },
     "execution_count": 5,
     "metadata": {},
     "output_type": "execute_result"
    }
   ],
   "source": [
    "type(measurements_train_data)"
   ]
  },
  {
   "cell_type": "code",
   "execution_count": 6,
   "id": "15ec9122",
   "metadata": {},
   "outputs": [
    {
     "data": {
      "text/html": [
       "<div>\n",
       "<style scoped>\n",
       "    .dataframe tbody tr th:only-of-type {\n",
       "        vertical-align: middle;\n",
       "    }\n",
       "\n",
       "    .dataframe tbody tr th {\n",
       "        vertical-align: top;\n",
       "    }\n",
       "\n",
       "    .dataframe thead th {\n",
       "        text-align: right;\n",
       "    }\n",
       "</style>\n",
       "<table border=\"1\" class=\"dataframe\">\n",
       "  <thead>\n",
       "    <tr style=\"text-align: right;\">\n",
       "      <th></th>\n",
       "      <th>Column1</th>\n",
       "      <th>Internalpatientid</th>\n",
       "      <th>Age at measurement</th>\n",
       "      <th>Measurement date</th>\n",
       "      <th>Measurement</th>\n",
       "      <th>Result numeric</th>\n",
       "      <th>Result textual</th>\n",
       "      <th>State</th>\n",
       "    </tr>\n",
       "  </thead>\n",
       "  <tbody>\n",
       "    <tr>\n",
       "      <th>0</th>\n",
       "      <td>0</td>\n",
       "      <td>1</td>\n",
       "      <td>59.124538</td>\n",
       "      <td>2003-05-21 00:27:01</td>\n",
       "      <td>Temperature</td>\n",
       "      <td>95.804066</td>\n",
       "      <td>None</td>\n",
       "      <td>Indiana</td>\n",
       "    </tr>\n",
       "    <tr>\n",
       "      <th>1</th>\n",
       "      <td>1</td>\n",
       "      <td>1</td>\n",
       "      <td>59.124538</td>\n",
       "      <td>2003-05-21 00:27:01</td>\n",
       "      <td>Pain</td>\n",
       "      <td>3.000000</td>\n",
       "      <td>None</td>\n",
       "      <td>Indiana</td>\n",
       "    </tr>\n",
       "    <tr>\n",
       "      <th>2</th>\n",
       "      <td>2</td>\n",
       "      <td>1</td>\n",
       "      <td>59.124538</td>\n",
       "      <td>2003-05-21 00:27:01</td>\n",
       "      <td>Pulse</td>\n",
       "      <td>74.000000</td>\n",
       "      <td>None</td>\n",
       "      <td>Indiana</td>\n",
       "    </tr>\n",
       "    <tr>\n",
       "      <th>3</th>\n",
       "      <td>3</td>\n",
       "      <td>1</td>\n",
       "      <td>59.124538</td>\n",
       "      <td>2003-05-21 00:27:01</td>\n",
       "      <td>Respiratory rate</td>\n",
       "      <td>16.000000</td>\n",
       "      <td>None</td>\n",
       "      <td>Indiana</td>\n",
       "    </tr>\n",
       "    <tr>\n",
       "      <th>4</th>\n",
       "      <td>4</td>\n",
       "      <td>1</td>\n",
       "      <td>59.124538</td>\n",
       "      <td>2003-05-21 00:27:01</td>\n",
       "      <td>Blood pressure</td>\n",
       "      <td>NaN</td>\n",
       "      <td>140/96</td>\n",
       "      <td>Indiana</td>\n",
       "    </tr>\n",
       "  </tbody>\n",
       "</table>\n",
       "</div>"
      ],
      "text/plain": [
       "   Column1  Internalpatientid  Age at measurement    Measurement date  \\\n",
       "0        0                  1           59.124538 2003-05-21 00:27:01   \n",
       "1        1                  1           59.124538 2003-05-21 00:27:01   \n",
       "2        2                  1           59.124538 2003-05-21 00:27:01   \n",
       "3        3                  1           59.124538 2003-05-21 00:27:01   \n",
       "4        4                  1           59.124538 2003-05-21 00:27:01   \n",
       "\n",
       "        Measurement  Result numeric Result textual    State  \n",
       "0       Temperature       95.804066           None  Indiana  \n",
       "1              Pain        3.000000           None  Indiana  \n",
       "2             Pulse       74.000000           None  Indiana  \n",
       "3  Respiratory rate       16.000000           None  Indiana  \n",
       "4    Blood pressure             NaN         140/96  Indiana  "
      ]
     },
     "execution_count": 6,
     "metadata": {},
     "output_type": "execute_result"
    }
   ],
   "source": [
    "measurements_train_data.head()"
   ]
  },
  {
   "cell_type": "markdown",
   "id": "fe7ea5ca",
   "metadata": {},
   "source": [
    "## **Importing Libraries**"
   ]
  },
  {
   "cell_type": "code",
   "execution_count": 7,
   "id": "1eaf7fac",
   "metadata": {},
   "outputs": [],
   "source": [
    "# Importing essential libraries\n",
    "import pandas as pd        # Library for data manipulation and analysis\n",
    "import numpy as np         # Library for mathematical operations"
   ]
  },
  {
   "cell_type": "markdown",
   "id": "6795ed2a-9eae-4b60-8f65-07f3e08ae570",
   "metadata": {},
   "source": [
    "## **Data Exploration**"
   ]
  },
  {
   "cell_type": "code",
   "execution_count": 8,
   "id": "c72fa1d1-2901-40bb-9df4-9abafacc159b",
   "metadata": {},
   "outputs": [],
   "source": [
    "# Changing variable name for dataframe\n",
    "df = measurements_train_data"
   ]
  },
  {
   "cell_type": "code",
   "execution_count": 9,
   "id": "5baf1d0c",
   "metadata": {},
   "outputs": [
    {
     "data": {
      "text/html": [
       "<div>\n",
       "<style scoped>\n",
       "    .dataframe tbody tr th:only-of-type {\n",
       "        vertical-align: middle;\n",
       "    }\n",
       "\n",
       "    .dataframe tbody tr th {\n",
       "        vertical-align: top;\n",
       "    }\n",
       "\n",
       "    .dataframe thead th {\n",
       "        text-align: right;\n",
       "    }\n",
       "</style>\n",
       "<table border=\"1\" class=\"dataframe\">\n",
       "  <thead>\n",
       "    <tr style=\"text-align: right;\">\n",
       "      <th></th>\n",
       "      <th>Column1</th>\n",
       "      <th>Internalpatientid</th>\n",
       "      <th>Age at measurement</th>\n",
       "      <th>Measurement date</th>\n",
       "      <th>Measurement</th>\n",
       "      <th>Result numeric</th>\n",
       "      <th>Result textual</th>\n",
       "      <th>State</th>\n",
       "    </tr>\n",
       "  </thead>\n",
       "  <tbody>\n",
       "    <tr>\n",
       "      <th>0</th>\n",
       "      <td>0</td>\n",
       "      <td>1</td>\n",
       "      <td>59.124538</td>\n",
       "      <td>2003-05-21 00:27:01</td>\n",
       "      <td>Temperature</td>\n",
       "      <td>95.804066</td>\n",
       "      <td>None</td>\n",
       "      <td>Indiana</td>\n",
       "    </tr>\n",
       "    <tr>\n",
       "      <th>1</th>\n",
       "      <td>1</td>\n",
       "      <td>1</td>\n",
       "      <td>59.124538</td>\n",
       "      <td>2003-05-21 00:27:01</td>\n",
       "      <td>Pain</td>\n",
       "      <td>3.000000</td>\n",
       "      <td>None</td>\n",
       "      <td>Indiana</td>\n",
       "    </tr>\n",
       "    <tr>\n",
       "      <th>2</th>\n",
       "      <td>2</td>\n",
       "      <td>1</td>\n",
       "      <td>59.124538</td>\n",
       "      <td>2003-05-21 00:27:01</td>\n",
       "      <td>Pulse</td>\n",
       "      <td>74.000000</td>\n",
       "      <td>None</td>\n",
       "      <td>Indiana</td>\n",
       "    </tr>\n",
       "    <tr>\n",
       "      <th>3</th>\n",
       "      <td>3</td>\n",
       "      <td>1</td>\n",
       "      <td>59.124538</td>\n",
       "      <td>2003-05-21 00:27:01</td>\n",
       "      <td>Respiratory rate</td>\n",
       "      <td>16.000000</td>\n",
       "      <td>None</td>\n",
       "      <td>Indiana</td>\n",
       "    </tr>\n",
       "    <tr>\n",
       "      <th>4</th>\n",
       "      <td>4</td>\n",
       "      <td>1</td>\n",
       "      <td>59.124538</td>\n",
       "      <td>2003-05-21 00:27:01</td>\n",
       "      <td>Blood pressure</td>\n",
       "      <td>NaN</td>\n",
       "      <td>140/96</td>\n",
       "      <td>Indiana</td>\n",
       "    </tr>\n",
       "  </tbody>\n",
       "</table>\n",
       "</div>"
      ],
      "text/plain": [
       "   Column1  Internalpatientid  Age at measurement    Measurement date  \\\n",
       "0        0                  1           59.124538 2003-05-21 00:27:01   \n",
       "1        1                  1           59.124538 2003-05-21 00:27:01   \n",
       "2        2                  1           59.124538 2003-05-21 00:27:01   \n",
       "3        3                  1           59.124538 2003-05-21 00:27:01   \n",
       "4        4                  1           59.124538 2003-05-21 00:27:01   \n",
       "\n",
       "        Measurement  Result numeric Result textual    State  \n",
       "0       Temperature       95.804066           None  Indiana  \n",
       "1              Pain        3.000000           None  Indiana  \n",
       "2             Pulse       74.000000           None  Indiana  \n",
       "3  Respiratory rate       16.000000           None  Indiana  \n",
       "4    Blood pressure             NaN         140/96  Indiana  "
      ]
     },
     "execution_count": 9,
     "metadata": {},
     "output_type": "execute_result"
    }
   ],
   "source": [
    "# Display the first few rows of a DataFrame\n",
    "df.head()"
   ]
  },
  {
   "cell_type": "code",
   "execution_count": 10,
   "id": "071e61eb",
   "metadata": {},
   "outputs": [
    {
     "name": "stdout",
     "output_type": "stream",
     "text": [
      "Number of rows: 125247162\n",
      "Number of columns: 8\n"
     ]
    }
   ],
   "source": [
    "# Shape of the dataset\n",
    "df.shape\n",
    "num_rows = df.shape[0]  # Number of rows\n",
    "num_cols = df.shape[1]  # Number of columns\n",
    "print(\"Number of rows:\", num_rows)\n",
    "print(\"Number of columns:\", num_cols)"
   ]
  },
  {
   "cell_type": "code",
   "execution_count": 11,
   "id": "5c448c8b",
   "metadata": {},
   "outputs": [
    {
     "name": "stdout",
     "output_type": "stream",
     "text": [
      "Number of Unique Internalpatientid\n"
     ]
    },
    {
     "data": {
      "text/plain": [
       "132289"
      ]
     },
     "execution_count": 11,
     "metadata": {},
     "output_type": "execute_result"
    }
   ],
   "source": [
    "# Get the number of unique values in the 'Internalpatientid' column\n",
    "print(\"Number of Unique Internalpatientid\")\n",
    "df['Internalpatientid'].nunique()"
   ]
  },
  {
   "cell_type": "code",
   "execution_count": 12,
   "id": "be2cabb0-e1f1-4e4c-aa5d-6196d082f8f7",
   "metadata": {},
   "outputs": [],
   "source": [
    "# Drop the specified columns from the DataFrame\n",
    "df.drop(['Column1','Result textual','State'], axis=1,inplace=True)"
   ]
  },
  {
   "cell_type": "code",
   "execution_count": 13,
   "id": "2a1115a8",
   "metadata": {},
   "outputs": [
    {
     "name": "stdout",
     "output_type": "stream",
     "text": [
      "<class 'pandas.core.frame.DataFrame'>\n",
      "RangeIndex: 125247162 entries, 0 to 125247161\n",
      "Data columns (total 5 columns):\n",
      " #   Column              Dtype         \n",
      "---  ------              -----         \n",
      " 0   Internalpatientid   int64         \n",
      " 1   Age at measurement  float64       \n",
      " 2   Measurement date    datetime64[ns]\n",
      " 3   Measurement         object        \n",
      " 4   Result numeric      float64       \n",
      "dtypes: datetime64[ns](1), float64(2), int64(1), object(1)\n",
      "memory usage: 4.7+ GB\n"
     ]
    }
   ],
   "source": [
    "# Display the concise summary of the DataFrame\n",
    "df.info()"
   ]
  },
  {
   "cell_type": "markdown",
   "id": "6c4042f8",
   "metadata": {},
   "source": [
    "## **Checking Missing Values**"
   ]
  },
  {
   "cell_type": "code",
   "execution_count": 14,
   "id": "2e9ac3a8",
   "metadata": {},
   "outputs": [
    {
     "data": {
      "text/plain": [
       "Internalpatientid            0\n",
       "Age at measurement           0\n",
       "Measurement date             0\n",
       "Measurement                  0\n",
       "Result numeric        22866376\n",
       "dtype: int64"
      ]
     },
     "execution_count": 14,
     "metadata": {},
     "output_type": "execute_result"
    }
   ],
   "source": [
    "# Count the number of missing values in each column\n",
    "df.isnull().sum()"
   ]
  },
  {
   "cell_type": "markdown",
   "id": "fad6116a-0865-4194-bcad-c3fe228bde58",
   "metadata": {},
   "source": [
    "## **Removing NaN values**"
   ]
  },
  {
   "cell_type": "code",
   "execution_count": 15,
   "id": "9a8771ec-65f6-42e5-826a-0a86cf999d85",
   "metadata": {},
   "outputs": [],
   "source": [
    "df = df.dropna(subset=['Result numeric'])"
   ]
  },
  {
   "cell_type": "code",
   "execution_count": 16,
   "id": "c2f3b6f1-2449-4066-968f-6c6b010f646a",
   "metadata": {},
   "outputs": [
    {
     "data": {
      "text/plain": [
       "132281"
      ]
     },
     "execution_count": 16,
     "metadata": {},
     "output_type": "execute_result"
    }
   ],
   "source": [
    "df.Internalpatientid.nunique()"
   ]
  },
  {
   "cell_type": "code",
   "execution_count": 17,
   "id": "fb260465-4482-4101-95b2-845909bab3a1",
   "metadata": {},
   "outputs": [
    {
     "data": {
      "text/plain": [
       "Internalpatientid     0\n",
       "Age at measurement    0\n",
       "Measurement date      0\n",
       "Measurement           0\n",
       "Result numeric        0\n",
       "dtype: int64"
      ]
     },
     "execution_count": 17,
     "metadata": {},
     "output_type": "execute_result"
    }
   ],
   "source": [
    "df.isnull().sum()"
   ]
  },
  {
   "cell_type": "markdown",
   "id": "43f37d40-edab-45f9-a874-496f2e1894d1",
   "metadata": {},
   "source": [
    "### **Removing Outliers**"
   ]
  },
  {
   "cell_type": "code",
   "execution_count": 18,
   "id": "8ecc7311-4b42-414a-994e-3159455b884e",
   "metadata": {},
   "outputs": [],
   "source": [
    "# Define the filter conditions for each category\n",
    "filters = {\n",
    "    'Pulse': (40, 250),\n",
    "    'Respiratory rate': (1, 30),\n",
    "    'Pain': (0, 15),\n",
    "    'Temperature': (90, 107)\n",
    "}\n",
    "\n",
    "# Apply the filters for each category\n",
    "filtered_data = pd.DataFrame()\n",
    "for category, (min_val, max_val) in filters.items():\n",
    "    category_data = df[df['Measurement'] == category]\n",
    "    filtered_category_data = category_data[(category_data['Result numeric'] >= min_val) & (category_data['Result numeric'] <= max_val)]\n",
    "    filtered_data = pd.concat([filtered_data, filtered_category_data])"
   ]
  },
  {
   "cell_type": "code",
   "execution_count": 19,
   "id": "7b9cdd85-f5ea-4769-bc43-abd713e026c5",
   "metadata": {},
   "outputs": [],
   "source": [
    "# Reset the index of the filtered data\n",
    "filtered_data = filtered_data.reset_index(drop=True)"
   ]
  },
  {
   "cell_type": "code",
   "execution_count": 20,
   "id": "904c03f7-50a9-478a-bcad-0018126101e3",
   "metadata": {},
   "outputs": [
    {
     "data": {
      "text/html": [
       "<div>\n",
       "<style scoped>\n",
       "    .dataframe tbody tr th:only-of-type {\n",
       "        vertical-align: middle;\n",
       "    }\n",
       "\n",
       "    .dataframe tbody tr th {\n",
       "        vertical-align: top;\n",
       "    }\n",
       "\n",
       "    .dataframe thead th {\n",
       "        text-align: right;\n",
       "    }\n",
       "</style>\n",
       "<table border=\"1\" class=\"dataframe\">\n",
       "  <thead>\n",
       "    <tr style=\"text-align: right;\">\n",
       "      <th></th>\n",
       "      <th>Internalpatientid</th>\n",
       "      <th>Age at measurement</th>\n",
       "      <th>Measurement date</th>\n",
       "      <th>Measurement</th>\n",
       "      <th>Result numeric</th>\n",
       "    </tr>\n",
       "  </thead>\n",
       "  <tbody>\n",
       "    <tr>\n",
       "      <th>0</th>\n",
       "      <td>1</td>\n",
       "      <td>59.124538</td>\n",
       "      <td>2003-05-21 00:27:01</td>\n",
       "      <td>Pulse</td>\n",
       "      <td>74.000000</td>\n",
       "    </tr>\n",
       "    <tr>\n",
       "      <th>1</th>\n",
       "      <td>1</td>\n",
       "      <td>61.907156</td>\n",
       "      <td>2006-03-03 01:34:22</td>\n",
       "      <td>Pulse</td>\n",
       "      <td>51.000000</td>\n",
       "    </tr>\n",
       "    <tr>\n",
       "      <th>2</th>\n",
       "      <td>1</td>\n",
       "      <td>67.698135</td>\n",
       "      <td>2011-12-18 16:02:35</td>\n",
       "      <td>Pulse</td>\n",
       "      <td>77.000000</td>\n",
       "    </tr>\n",
       "    <tr>\n",
       "      <th>3</th>\n",
       "      <td>1</td>\n",
       "      <td>68.304132</td>\n",
       "      <td>2012-07-27 03:50:40</td>\n",
       "      <td>Pulse</td>\n",
       "      <td>45.000000</td>\n",
       "    </tr>\n",
       "    <tr>\n",
       "      <th>4</th>\n",
       "      <td>1</td>\n",
       "      <td>68.344198</td>\n",
       "      <td>2012-08-10 19:18:08</td>\n",
       "      <td>Pulse</td>\n",
       "      <td>50.000000</td>\n",
       "    </tr>\n",
       "    <tr>\n",
       "      <th>...</th>\n",
       "      <td>...</td>\n",
       "      <td>...</td>\n",
       "      <td>...</td>\n",
       "      <td>...</td>\n",
       "      <td>...</td>\n",
       "    </tr>\n",
       "    <tr>\n",
       "      <th>79334689</th>\n",
       "      <td>99999</td>\n",
       "      <td>96.139480</td>\n",
       "      <td>2013-01-19 23:31:04</td>\n",
       "      <td>Temperature</td>\n",
       "      <td>95.092719</td>\n",
       "    </tr>\n",
       "    <tr>\n",
       "      <th>79334690</th>\n",
       "      <td>99999</td>\n",
       "      <td>96.188334</td>\n",
       "      <td>2013-02-06 20:03:44</td>\n",
       "      <td>Temperature</td>\n",
       "      <td>91.271475</td>\n",
       "    </tr>\n",
       "    <tr>\n",
       "      <th>79334691</th>\n",
       "      <td>99999</td>\n",
       "      <td>96.314751</td>\n",
       "      <td>2013-03-25 00:59:32</td>\n",
       "      <td>Temperature</td>\n",
       "      <td>102.000000</td>\n",
       "    </tr>\n",
       "    <tr>\n",
       "      <th>79334692</th>\n",
       "      <td>99999</td>\n",
       "      <td>96.326070</td>\n",
       "      <td>2013-03-29 04:17:14</td>\n",
       "      <td>Temperature</td>\n",
       "      <td>93.000000</td>\n",
       "    </tr>\n",
       "    <tr>\n",
       "      <th>79334693</th>\n",
       "      <td>99999</td>\n",
       "      <td>96.341924</td>\n",
       "      <td>2013-04-03 23:21:35</td>\n",
       "      <td>Temperature</td>\n",
       "      <td>92.336347</td>\n",
       "    </tr>\n",
       "  </tbody>\n",
       "</table>\n",
       "<p>79334694 rows × 5 columns</p>\n",
       "</div>"
      ],
      "text/plain": [
       "          Internalpatientid  Age at measurement    Measurement date  \\\n",
       "0                         1           59.124538 2003-05-21 00:27:01   \n",
       "1                         1           61.907156 2006-03-03 01:34:22   \n",
       "2                         1           67.698135 2011-12-18 16:02:35   \n",
       "3                         1           68.304132 2012-07-27 03:50:40   \n",
       "4                         1           68.344198 2012-08-10 19:18:08   \n",
       "...                     ...                 ...                 ...   \n",
       "79334689              99999           96.139480 2013-01-19 23:31:04   \n",
       "79334690              99999           96.188334 2013-02-06 20:03:44   \n",
       "79334691              99999           96.314751 2013-03-25 00:59:32   \n",
       "79334692              99999           96.326070 2013-03-29 04:17:14   \n",
       "79334693              99999           96.341924 2013-04-03 23:21:35   \n",
       "\n",
       "          Measurement  Result numeric  \n",
       "0               Pulse       74.000000  \n",
       "1               Pulse       51.000000  \n",
       "2               Pulse       77.000000  \n",
       "3               Pulse       45.000000  \n",
       "4               Pulse       50.000000  \n",
       "...               ...             ...  \n",
       "79334689  Temperature       95.092719  \n",
       "79334690  Temperature       91.271475  \n",
       "79334691  Temperature      102.000000  \n",
       "79334692  Temperature       93.000000  \n",
       "79334693  Temperature       92.336347  \n",
       "\n",
       "[79334694 rows x 5 columns]"
      ]
     },
     "execution_count": 20,
     "metadata": {},
     "output_type": "execute_result"
    }
   ],
   "source": [
    "# Display the final filtered dataframe\n",
    "filtered_data"
   ]
  },
  {
   "cell_type": "code",
   "execution_count": 21,
   "id": "0241a0f8-da73-4aac-a8d7-1e80668c0e44",
   "metadata": {},
   "outputs": [
    {
     "data": {
      "text/html": [
       "<div>\n",
       "<style scoped>\n",
       "    .dataframe tbody tr th:only-of-type {\n",
       "        vertical-align: middle;\n",
       "    }\n",
       "\n",
       "    .dataframe tbody tr th {\n",
       "        vertical-align: top;\n",
       "    }\n",
       "\n",
       "    .dataframe thead th {\n",
       "        text-align: right;\n",
       "    }\n",
       "</style>\n",
       "<table border=\"1\" class=\"dataframe\">\n",
       "  <thead>\n",
       "    <tr style=\"text-align: right;\">\n",
       "      <th></th>\n",
       "      <th>min</th>\n",
       "      <th>max</th>\n",
       "    </tr>\n",
       "    <tr>\n",
       "      <th>Measurement</th>\n",
       "      <th></th>\n",
       "      <th></th>\n",
       "    </tr>\n",
       "  </thead>\n",
       "  <tbody>\n",
       "    <tr>\n",
       "      <th>Pain</th>\n",
       "      <td>0.0</td>\n",
       "      <td>14.0</td>\n",
       "    </tr>\n",
       "    <tr>\n",
       "      <th>Pulse</th>\n",
       "      <td>40.0</td>\n",
       "      <td>250.0</td>\n",
       "    </tr>\n",
       "    <tr>\n",
       "      <th>Respiratory rate</th>\n",
       "      <td>1.0</td>\n",
       "      <td>30.0</td>\n",
       "    </tr>\n",
       "    <tr>\n",
       "      <th>Temperature</th>\n",
       "      <td>90.0</td>\n",
       "      <td>107.0</td>\n",
       "    </tr>\n",
       "  </tbody>\n",
       "</table>\n",
       "</div>"
      ],
      "text/plain": [
       "                   min    max\n",
       "Measurement                  \n",
       "Pain               0.0   14.0\n",
       "Pulse             40.0  250.0\n",
       "Respiratory rate   1.0   30.0\n",
       "Temperature       90.0  107.0"
      ]
     },
     "execution_count": 21,
     "metadata": {},
     "output_type": "execute_result"
    }
   ],
   "source": [
    "# Check minimum and maximum values for each category in 'Measurement' column\n",
    "min_max_values = filtered_data.groupby('Measurement')['Result numeric'].agg(['min', 'max'])\n",
    "min_max_values"
   ]
  },
  {
   "cell_type": "markdown",
   "id": "eedf7634-d9c5-4be2-ab75-6b0ae7f7a518",
   "metadata": {},
   "source": [
    "### **'Max' Condition to the 'Measurement date' Column**"
   ]
  },
  {
   "cell_type": "code",
   "execution_count": 22,
   "id": "bad3c8f5-7a37-404a-af53-cd9eee1b9c68",
   "metadata": {},
   "outputs": [],
   "source": [
    "df_group = pd.merge(filtered_data.groupby(['Internalpatientid','Measurement'], as_index=False)['Measurement date'].max(),filtered_data,on=['Internalpatientid','Measurement date','Measurement'],how = 'left')"
   ]
  },
  {
   "cell_type": "code",
   "execution_count": 23,
   "id": "8d9f49ee-e009-4c54-ba75-07773ffbc39a",
   "metadata": {},
   "outputs": [
    {
     "data": {
      "text/html": [
       "<div>\n",
       "<style scoped>\n",
       "    .dataframe tbody tr th:only-of-type {\n",
       "        vertical-align: middle;\n",
       "    }\n",
       "\n",
       "    .dataframe tbody tr th {\n",
       "        vertical-align: top;\n",
       "    }\n",
       "\n",
       "    .dataframe thead th {\n",
       "        text-align: right;\n",
       "    }\n",
       "</style>\n",
       "<table border=\"1\" class=\"dataframe\">\n",
       "  <thead>\n",
       "    <tr style=\"text-align: right;\">\n",
       "      <th></th>\n",
       "      <th>Internalpatientid</th>\n",
       "      <th>Measurement</th>\n",
       "      <th>Measurement date</th>\n",
       "      <th>Age at measurement</th>\n",
       "      <th>Result numeric</th>\n",
       "    </tr>\n",
       "  </thead>\n",
       "  <tbody>\n",
       "    <tr>\n",
       "      <th>0</th>\n",
       "      <td>1</td>\n",
       "      <td>Pain</td>\n",
       "      <td>2024-06-25 02:06:00</td>\n",
       "      <td>80.208174</td>\n",
       "      <td>0.000000</td>\n",
       "    </tr>\n",
       "    <tr>\n",
       "      <th>1</th>\n",
       "      <td>1</td>\n",
       "      <td>Pulse</td>\n",
       "      <td>2024-06-25 02:06:00</td>\n",
       "      <td>80.208174</td>\n",
       "      <td>61.000000</td>\n",
       "    </tr>\n",
       "    <tr>\n",
       "      <th>2</th>\n",
       "      <td>1</td>\n",
       "      <td>Respiratory rate</td>\n",
       "      <td>2024-06-25 02:06:00</td>\n",
       "      <td>80.208174</td>\n",
       "      <td>17.000000</td>\n",
       "    </tr>\n",
       "    <tr>\n",
       "      <th>3</th>\n",
       "      <td>1</td>\n",
       "      <td>Temperature</td>\n",
       "      <td>2024-04-03 14:19:10</td>\n",
       "      <td>79.982481</td>\n",
       "      <td>102.765598</td>\n",
       "    </tr>\n",
       "    <tr>\n",
       "      <th>4</th>\n",
       "      <td>2</td>\n",
       "      <td>Pain</td>\n",
       "      <td>2024-04-05 06:54:25</td>\n",
       "      <td>69.530199</td>\n",
       "      <td>0.000000</td>\n",
       "    </tr>\n",
       "    <tr>\n",
       "      <th>...</th>\n",
       "      <td>...</td>\n",
       "      <td>...</td>\n",
       "      <td>...</td>\n",
       "      <td>...</td>\n",
       "      <td>...</td>\n",
       "    </tr>\n",
       "    <tr>\n",
       "      <th>526644</th>\n",
       "      <td>169063</td>\n",
       "      <td>Temperature</td>\n",
       "      <td>2004-06-01 18:35:35</td>\n",
       "      <td>76.811969</td>\n",
       "      <td>97.026778</td>\n",
       "    </tr>\n",
       "    <tr>\n",
       "      <th>526645</th>\n",
       "      <td>169064</td>\n",
       "      <td>Pain</td>\n",
       "      <td>2014-11-04 07:55:08</td>\n",
       "      <td>87.877784</td>\n",
       "      <td>5.000000</td>\n",
       "    </tr>\n",
       "    <tr>\n",
       "      <th>526646</th>\n",
       "      <td>169064</td>\n",
       "      <td>Pulse</td>\n",
       "      <td>2014-11-19 22:14:38</td>\n",
       "      <td>87.920456</td>\n",
       "      <td>81.000000</td>\n",
       "    </tr>\n",
       "    <tr>\n",
       "      <th>526647</th>\n",
       "      <td>169064</td>\n",
       "      <td>Respiratory rate</td>\n",
       "      <td>2014-11-04 07:55:08</td>\n",
       "      <td>87.877784</td>\n",
       "      <td>21.000000</td>\n",
       "    </tr>\n",
       "    <tr>\n",
       "      <th>526648</th>\n",
       "      <td>169064</td>\n",
       "      <td>Temperature</td>\n",
       "      <td>2014-11-04 07:55:08</td>\n",
       "      <td>87.877784</td>\n",
       "      <td>102.000000</td>\n",
       "    </tr>\n",
       "  </tbody>\n",
       "</table>\n",
       "<p>526649 rows × 5 columns</p>\n",
       "</div>"
      ],
      "text/plain": [
       "        Internalpatientid       Measurement    Measurement date  \\\n",
       "0                       1              Pain 2024-06-25 02:06:00   \n",
       "1                       1             Pulse 2024-06-25 02:06:00   \n",
       "2                       1  Respiratory rate 2024-06-25 02:06:00   \n",
       "3                       1       Temperature 2024-04-03 14:19:10   \n",
       "4                       2              Pain 2024-04-05 06:54:25   \n",
       "...                   ...               ...                 ...   \n",
       "526644             169063       Temperature 2004-06-01 18:35:35   \n",
       "526645             169064              Pain 2014-11-04 07:55:08   \n",
       "526646             169064             Pulse 2014-11-19 22:14:38   \n",
       "526647             169064  Respiratory rate 2014-11-04 07:55:08   \n",
       "526648             169064       Temperature 2014-11-04 07:55:08   \n",
       "\n",
       "        Age at measurement  Result numeric  \n",
       "0                80.208174        0.000000  \n",
       "1                80.208174       61.000000  \n",
       "2                80.208174       17.000000  \n",
       "3                79.982481      102.765598  \n",
       "4                69.530199        0.000000  \n",
       "...                    ...             ...  \n",
       "526644           76.811969       97.026778  \n",
       "526645           87.877784        5.000000  \n",
       "526646           87.920456       81.000000  \n",
       "526647           87.877784       21.000000  \n",
       "526648           87.877784      102.000000  \n",
       "\n",
       "[526649 rows x 5 columns]"
      ]
     },
     "execution_count": 23,
     "metadata": {},
     "output_type": "execute_result"
    }
   ],
   "source": [
    "df_group"
   ]
  },
  {
   "cell_type": "code",
   "execution_count": 24,
   "id": "9ae5b4b2-ae4f-43cb-963c-6451abdfd2ad",
   "metadata": {},
   "outputs": [
    {
     "data": {
      "text/html": [
       "<div>\n",
       "<style scoped>\n",
       "    .dataframe tbody tr th:only-of-type {\n",
       "        vertical-align: middle;\n",
       "    }\n",
       "\n",
       "    .dataframe tbody tr th {\n",
       "        vertical-align: top;\n",
       "    }\n",
       "\n",
       "    .dataframe thead th {\n",
       "        text-align: right;\n",
       "    }\n",
       "</style>\n",
       "<table border=\"1\" class=\"dataframe\">\n",
       "  <thead>\n",
       "    <tr style=\"text-align: right;\">\n",
       "      <th></th>\n",
       "      <th>min</th>\n",
       "      <th>max</th>\n",
       "    </tr>\n",
       "    <tr>\n",
       "      <th>Measurement</th>\n",
       "      <th></th>\n",
       "      <th></th>\n",
       "    </tr>\n",
       "  </thead>\n",
       "  <tbody>\n",
       "    <tr>\n",
       "      <th>Pain</th>\n",
       "      <td>0.0</td>\n",
       "      <td>10.0</td>\n",
       "    </tr>\n",
       "    <tr>\n",
       "      <th>Pulse</th>\n",
       "      <td>40.0</td>\n",
       "      <td>220.0</td>\n",
       "    </tr>\n",
       "    <tr>\n",
       "      <th>Respiratory rate</th>\n",
       "      <td>1.0</td>\n",
       "      <td>30.0</td>\n",
       "    </tr>\n",
       "    <tr>\n",
       "      <th>Temperature</th>\n",
       "      <td>90.0</td>\n",
       "      <td>107.0</td>\n",
       "    </tr>\n",
       "  </tbody>\n",
       "</table>\n",
       "</div>"
      ],
      "text/plain": [
       "                   min    max\n",
       "Measurement                  \n",
       "Pain               0.0   10.0\n",
       "Pulse             40.0  220.0\n",
       "Respiratory rate   1.0   30.0\n",
       "Temperature       90.0  107.0"
      ]
     },
     "execution_count": 24,
     "metadata": {},
     "output_type": "execute_result"
    }
   ],
   "source": [
    "# Check minimum and maximum values for each category in 'Measurement' column\n",
    "min_max_values = df_group.groupby('Measurement')['Result numeric'].agg(['min', 'max'])\n",
    "min_max_values"
   ]
  },
  {
   "cell_type": "markdown",
   "id": "f1b44cdf-ac45-42d2-b726-5f50490dad0e",
   "metadata": {},
   "source": [
    "## **Creating Pivot Table**"
   ]
  },
  {
   "cell_type": "code",
   "execution_count": 25,
   "id": "00245c49-63f1-4019-8dd4-aa6db1fe8ba9",
   "metadata": {},
   "outputs": [],
   "source": [
    "categories = ['Pain', 'Pulse', 'Respiratory rate', 'Temperature']\n",
    "filtered_df = df_group[df_group['Measurement'].isin(categories)]\n",
    "pivot_table = filtered_df.pivot_table(index='Internalpatientid', columns='Measurement', values='Result numeric', aggfunc='last')"
   ]
  },
  {
   "cell_type": "code",
   "execution_count": 26,
   "id": "c570aa9a-0991-4340-af23-d2f2270f8d42",
   "metadata": {},
   "outputs": [
    {
     "data": {
      "text/html": [
       "<div>\n",
       "<style scoped>\n",
       "    .dataframe tbody tr th:only-of-type {\n",
       "        vertical-align: middle;\n",
       "    }\n",
       "\n",
       "    .dataframe tbody tr th {\n",
       "        vertical-align: top;\n",
       "    }\n",
       "\n",
       "    .dataframe thead th {\n",
       "        text-align: right;\n",
       "    }\n",
       "</style>\n",
       "<table border=\"1\" class=\"dataframe\">\n",
       "  <thead>\n",
       "    <tr style=\"text-align: right;\">\n",
       "      <th>Measurement</th>\n",
       "      <th>Pain</th>\n",
       "      <th>Pulse</th>\n",
       "      <th>Respiratory rate</th>\n",
       "      <th>Temperature</th>\n",
       "    </tr>\n",
       "    <tr>\n",
       "      <th>Internalpatientid</th>\n",
       "      <th></th>\n",
       "      <th></th>\n",
       "      <th></th>\n",
       "      <th></th>\n",
       "    </tr>\n",
       "  </thead>\n",
       "  <tbody>\n",
       "    <tr>\n",
       "      <th>1</th>\n",
       "      <td>0.0</td>\n",
       "      <td>61.0</td>\n",
       "      <td>17.0</td>\n",
       "      <td>102.765598</td>\n",
       "    </tr>\n",
       "    <tr>\n",
       "      <th>2</th>\n",
       "      <td>0.0</td>\n",
       "      <td>91.0</td>\n",
       "      <td>19.0</td>\n",
       "      <td>92.922517</td>\n",
       "    </tr>\n",
       "    <tr>\n",
       "      <th>3</th>\n",
       "      <td>0.0</td>\n",
       "      <td>52.0</td>\n",
       "      <td>19.0</td>\n",
       "      <td>93.886986</td>\n",
       "    </tr>\n",
       "    <tr>\n",
       "      <th>4</th>\n",
       "      <td>0.0</td>\n",
       "      <td>69.0</td>\n",
       "      <td>20.0</td>\n",
       "      <td>94.900520</td>\n",
       "    </tr>\n",
       "    <tr>\n",
       "      <th>5</th>\n",
       "      <td>0.0</td>\n",
       "      <td>100.0</td>\n",
       "      <td>28.0</td>\n",
       "      <td>100.819041</td>\n",
       "    </tr>\n",
       "    <tr>\n",
       "      <th>...</th>\n",
       "      <td>...</td>\n",
       "      <td>...</td>\n",
       "      <td>...</td>\n",
       "      <td>...</td>\n",
       "    </tr>\n",
       "    <tr>\n",
       "      <th>169060</th>\n",
       "      <td>0.0</td>\n",
       "      <td>76.0</td>\n",
       "      <td>17.0</td>\n",
       "      <td>99.637162</td>\n",
       "    </tr>\n",
       "    <tr>\n",
       "      <th>169061</th>\n",
       "      <td>0.0</td>\n",
       "      <td>51.0</td>\n",
       "      <td>17.0</td>\n",
       "      <td>97.737097</td>\n",
       "    </tr>\n",
       "    <tr>\n",
       "      <th>169062</th>\n",
       "      <td>0.0</td>\n",
       "      <td>86.0</td>\n",
       "      <td>21.0</td>\n",
       "      <td>96.000000</td>\n",
       "    </tr>\n",
       "    <tr>\n",
       "      <th>169063</th>\n",
       "      <td>0.0</td>\n",
       "      <td>69.0</td>\n",
       "      <td>19.0</td>\n",
       "      <td>97.026778</td>\n",
       "    </tr>\n",
       "    <tr>\n",
       "      <th>169064</th>\n",
       "      <td>5.0</td>\n",
       "      <td>81.0</td>\n",
       "      <td>21.0</td>\n",
       "      <td>102.000000</td>\n",
       "    </tr>\n",
       "  </tbody>\n",
       "</table>\n",
       "<p>132237 rows × 4 columns</p>\n",
       "</div>"
      ],
      "text/plain": [
       "Measurement        Pain  Pulse  Respiratory rate  Temperature\n",
       "Internalpatientid                                            \n",
       "1                   0.0   61.0              17.0   102.765598\n",
       "2                   0.0   91.0              19.0    92.922517\n",
       "3                   0.0   52.0              19.0    93.886986\n",
       "4                   0.0   69.0              20.0    94.900520\n",
       "5                   0.0  100.0              28.0   100.819041\n",
       "...                 ...    ...               ...          ...\n",
       "169060              0.0   76.0              17.0    99.637162\n",
       "169061              0.0   51.0              17.0    97.737097\n",
       "169062              0.0   86.0              21.0    96.000000\n",
       "169063              0.0   69.0              19.0    97.026778\n",
       "169064              5.0   81.0              21.0   102.000000\n",
       "\n",
       "[132237 rows x 4 columns]"
      ]
     },
     "execution_count": 26,
     "metadata": {},
     "output_type": "execute_result"
    }
   ],
   "source": [
    "# Print the pivot table\n",
    "pivot_table"
   ]
  },
  {
   "cell_type": "markdown",
   "id": "0da73afb-c12a-4477-a56b-3ef99ee88522",
   "metadata": {},
   "source": [
    "### **Checking Pivot Table Missing Values**"
   ]
  },
  {
   "cell_type": "code",
   "execution_count": 27,
   "id": "4811b014-e8dd-4d0f-966a-f8ab29d1ca5a",
   "metadata": {},
   "outputs": [
    {
     "data": {
      "text/plain": [
       "Measurement\n",
       "Pain                 578\n",
       "Pulse                 65\n",
       "Respiratory rate    1091\n",
       "Temperature         1373\n",
       "dtype: int64"
      ]
     },
     "execution_count": 27,
     "metadata": {},
     "output_type": "execute_result"
    }
   ],
   "source": [
    "pivot_table.isnull().sum()"
   ]
  },
  {
   "cell_type": "code",
   "execution_count": 28,
   "id": "7a3fec7a-9be0-4bee-9f19-61324cf12572",
   "metadata": {},
   "outputs": [],
   "source": [
    "pivot_table.dropna(axis=0, inplace = True)"
   ]
  },
  {
   "cell_type": "code",
   "execution_count": 29,
   "id": "d152198f-56ca-4f34-95cc-8639ace34e2c",
   "metadata": {},
   "outputs": [
    {
     "data": {
      "text/html": [
       "<div>\n",
       "<style scoped>\n",
       "    .dataframe tbody tr th:only-of-type {\n",
       "        vertical-align: middle;\n",
       "    }\n",
       "\n",
       "    .dataframe tbody tr th {\n",
       "        vertical-align: top;\n",
       "    }\n",
       "\n",
       "    .dataframe thead th {\n",
       "        text-align: right;\n",
       "    }\n",
       "</style>\n",
       "<table border=\"1\" class=\"dataframe\">\n",
       "  <thead>\n",
       "    <tr style=\"text-align: right;\">\n",
       "      <th>Measurement</th>\n",
       "      <th>Pain</th>\n",
       "      <th>Pulse</th>\n",
       "      <th>Respiratory rate</th>\n",
       "      <th>Temperature</th>\n",
       "    </tr>\n",
       "    <tr>\n",
       "      <th>Internalpatientid</th>\n",
       "      <th></th>\n",
       "      <th></th>\n",
       "      <th></th>\n",
       "      <th></th>\n",
       "    </tr>\n",
       "  </thead>\n",
       "  <tbody>\n",
       "    <tr>\n",
       "      <th>1</th>\n",
       "      <td>0.0</td>\n",
       "      <td>61.0</td>\n",
       "      <td>17.0</td>\n",
       "      <td>102.765598</td>\n",
       "    </tr>\n",
       "    <tr>\n",
       "      <th>2</th>\n",
       "      <td>0.0</td>\n",
       "      <td>91.0</td>\n",
       "      <td>19.0</td>\n",
       "      <td>92.922517</td>\n",
       "    </tr>\n",
       "    <tr>\n",
       "      <th>3</th>\n",
       "      <td>0.0</td>\n",
       "      <td>52.0</td>\n",
       "      <td>19.0</td>\n",
       "      <td>93.886986</td>\n",
       "    </tr>\n",
       "    <tr>\n",
       "      <th>4</th>\n",
       "      <td>0.0</td>\n",
       "      <td>69.0</td>\n",
       "      <td>20.0</td>\n",
       "      <td>94.900520</td>\n",
       "    </tr>\n",
       "    <tr>\n",
       "      <th>5</th>\n",
       "      <td>0.0</td>\n",
       "      <td>100.0</td>\n",
       "      <td>28.0</td>\n",
       "      <td>100.819041</td>\n",
       "    </tr>\n",
       "    <tr>\n",
       "      <th>...</th>\n",
       "      <td>...</td>\n",
       "      <td>...</td>\n",
       "      <td>...</td>\n",
       "      <td>...</td>\n",
       "    </tr>\n",
       "    <tr>\n",
       "      <th>169060</th>\n",
       "      <td>0.0</td>\n",
       "      <td>76.0</td>\n",
       "      <td>17.0</td>\n",
       "      <td>99.637162</td>\n",
       "    </tr>\n",
       "    <tr>\n",
       "      <th>169061</th>\n",
       "      <td>0.0</td>\n",
       "      <td>51.0</td>\n",
       "      <td>17.0</td>\n",
       "      <td>97.737097</td>\n",
       "    </tr>\n",
       "    <tr>\n",
       "      <th>169062</th>\n",
       "      <td>0.0</td>\n",
       "      <td>86.0</td>\n",
       "      <td>21.0</td>\n",
       "      <td>96.000000</td>\n",
       "    </tr>\n",
       "    <tr>\n",
       "      <th>169063</th>\n",
       "      <td>0.0</td>\n",
       "      <td>69.0</td>\n",
       "      <td>19.0</td>\n",
       "      <td>97.026778</td>\n",
       "    </tr>\n",
       "    <tr>\n",
       "      <th>169064</th>\n",
       "      <td>5.0</td>\n",
       "      <td>81.0</td>\n",
       "      <td>21.0</td>\n",
       "      <td>102.000000</td>\n",
       "    </tr>\n",
       "  </tbody>\n",
       "</table>\n",
       "<p>129905 rows × 4 columns</p>\n",
       "</div>"
      ],
      "text/plain": [
       "Measurement        Pain  Pulse  Respiratory rate  Temperature\n",
       "Internalpatientid                                            \n",
       "1                   0.0   61.0              17.0   102.765598\n",
       "2                   0.0   91.0              19.0    92.922517\n",
       "3                   0.0   52.0              19.0    93.886986\n",
       "4                   0.0   69.0              20.0    94.900520\n",
       "5                   0.0  100.0              28.0   100.819041\n",
       "...                 ...    ...               ...          ...\n",
       "169060              0.0   76.0              17.0    99.637162\n",
       "169061              0.0   51.0              17.0    97.737097\n",
       "169062              0.0   86.0              21.0    96.000000\n",
       "169063              0.0   69.0              19.0    97.026778\n",
       "169064              5.0   81.0              21.0   102.000000\n",
       "\n",
       "[129905 rows x 4 columns]"
      ]
     },
     "execution_count": 29,
     "metadata": {},
     "output_type": "execute_result"
    }
   ],
   "source": [
    "pivot_table"
   ]
  },
  {
   "cell_type": "markdown",
   "id": "c53eb805-e685-4ea6-9839-68aae34b0d1e",
   "metadata": {},
   "source": [
    "### **Saving Measurements file**"
   ]
  },
  {
   "cell_type": "code",
   "execution_count": 30,
   "id": "b2622fba-de02-4908-aed3-e61d50d90555",
   "metadata": {},
   "outputs": [
    {
     "data": {
      "text/plain": [
       "'/mnt/batch/tasks/shared/LS_root/mounts/clusters/team3-lavanya-gpu2/code/Users/2211574/Best_Files'"
      ]
     },
     "execution_count": 30,
     "metadata": {},
     "output_type": "execute_result"
    }
   ],
   "source": [
    "import os\n",
    "cwd = os.getcwd()\n",
    "cwd"
   ]
  },
  {
   "cell_type": "code",
   "execution_count": 31,
   "id": "825aa089-8755-468d-bfa8-78da6c50a8f2",
   "metadata": {},
   "outputs": [],
   "source": [
    "pivot_table.to_csv('/mnt/batch/tasks/shared/LS_root/mounts/clusters/team3-lavanya-gpu2/code/Users/900379/Output_files_train/Potential_files_train/df_measurements_pivot_train_v1.csv')"
   ]
  },
  {
   "cell_type": "markdown",
   "id": "fdd39512-2739-4894-b146-c6f1913d5bbd",
   "metadata": {},
   "source": [
    "-----"
   ]
  }
 ],
 "metadata": {
  "kernelspec": {
   "display_name": "Python 3.8 - AzureML",
   "language": "python",
   "name": "python38-azureml"
  },
  "language_info": {
   "codemirror_mode": {
    "name": "ipython",
    "version": 3
   },
   "file_extension": ".py",
   "mimetype": "text/x-python",
   "name": "python",
   "nbconvert_exporter": "python",
   "pygments_lexer": "ipython3",
   "version": "3.8.5"
  }
 },
 "nbformat": 4,
 "nbformat_minor": 5
}
