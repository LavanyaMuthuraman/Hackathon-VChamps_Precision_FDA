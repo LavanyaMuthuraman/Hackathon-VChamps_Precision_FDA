{
  "cells": [
    {
      "cell_type": "code",
      "source": [
        "from azureml.core import Workspace, Dataset\r\n",
        "\r\n",
        "subscription_id = 'bcfe0c62-8ebe-4df0-a46d-1efcf8739a5b'\r\n",
        "resource_group = 'VChamp-Team3'\r\n",
        "workspace_name = 'vchamp-team3'\r\n",
        "\r\n",
        "\r\n",
        "# storage account : Algorithmia, Resource group: VChamp-Team3 and workspace: vchamp-team3.\r\n",
        "\r\n",
        "workspace = Workspace(subscription_id, resource_group, workspace_name)"
      ],
      "outputs": [],
      "execution_count": 1,
      "metadata": {
        "gather": {
          "logged": 1689050550212
        }
      }
    },
    {
      "cell_type": "code",
      "source": [
        "#['data_team3_synthetic_quality_check']\r\n",
        "datastore = workspace.datastores['data_team3_synthetic_train']"
      ],
      "outputs": [],
      "execution_count": 2,
      "metadata": {
        "jupyter": {
          "source_hidden": false,
          "outputs_hidden": false
        },
        "nteract": {
          "transient": {
            "deleting": false
          }
        },
        "gather": {
          "logged": 1689050552329
        }
      }
    },
    {
      "cell_type": "code",
      "source": [
        "dataset = Dataset.Tabular.from_delimited_files(path = [(datastore, 'medications_ordered_train.csv')])\r\n",
        "\r\n",
        "# preview the first 3 rows of the dataset\r\n",
        "# dataset.to_pandas_dataframe()"
      ],
      "outputs": [],
      "execution_count": 3,
      "metadata": {
        "jupyter": {
          "source_hidden": false,
          "outputs_hidden": false
        },
        "nteract": {
          "transient": {
            "deleting": false
          }
        },
        "gather": {
          "logged": 1689050557744
        }
      }
    },
    {
      "cell_type": "code",
      "source": [
        "medications_ordered = dataset.to_pandas_dataframe()"
      ],
      "outputs": [],
      "execution_count": 4,
      "metadata": {
        "jupyter": {
          "source_hidden": false,
          "outputs_hidden": false
        },
        "nteract": {
          "transient": {
            "deleting": false
          }
        },
        "gather": {
          "logged": 1689050583252
        }
      }
    },
    {
      "cell_type": "code",
      "source": [
        "medications_ordered"
      ],
      "outputs": [
        {
          "output_type": "execute_result",
          "execution_count": 5,
          "data": {
            "text/plain": "           Column1  Internalpatientid  Age at med ordered          Order date   \n0                0                  1           59.763581 2004-01-09 14:07:46  \\\n1                1                  1           59.998896 2004-04-04 14:19:12   \n2                2                  1           60.794427 2005-01-20 08:43:00   \n3                3                  1           61.136678 2005-05-25 10:56:29   \n4                4                  1           63.256011 2007-07-09 01:43:28   \n...            ...                ...                 ...                 ...   \n59043374  75157514              99999           96.305527 2013-03-21 16:04:43   \n59043375  75157515              99999           96.305527 2013-03-21 16:04:43   \n59043376  75157516              99999           96.344659 2013-04-04 23:20:47   \n59043377  75157517              99999           96.353332 2013-04-08 03:25:27   \n59043378  75157518              99999           96.359411 2013-04-10 08:45:20   \n\n         Medication start date Medication stop date Order discontinue date   \n0          2004-01-09 01:33:46  2004-04-02 11:27:46    2004-04-02 11:27:46  \\\n1          2004-04-04 04:26:12  2005-03-07 04:26:12    2005-04-17 15:19:12   \n2          2005-01-19 20:06:00  2005-06-29 05:18:00    2005-06-29 05:18:00   \n3          2005-05-24 20:23:29  2005-06-23 20:23:29                    NaT   \n4          2007-07-08 20:21:28  2007-08-07 20:21:28                    NaT   \n...                        ...                  ...                    ...   \n59043374   2013-03-21 16:03:43  2013-03-22 16:03:43                    NaT   \n59043375   2013-03-21 16:04:43  2013-03-22 16:04:43                    NaT   \n59043376   2013-04-04 23:30:47  2013-04-10 04:24:47    2013-04-10 04:24:47   \n59043377   2013-04-08 03:26:27  2013-04-09 23:43:27    2013-04-09 23:43:27   \n59043378   2013-04-10 08:46:20  2013-04-14 04:19:20    2013-04-14 04:19:20   \n\n         Ordered medication atc 5       Order status   \n0                      lisinopril  discontinued/edit  \\\n1                   Not specified       discontinued   \n2                      lisinopril       discontinued   \n3                     amoxicillin            expired   \n4                   Not specified            expired   \n...                           ...                ...   \n59043374                 docusate            expired   \n59043375               citalopram            expired   \n59043376      magnesium hydroxide       discontinued   \n59043377              haloperidol  discontinued/edit   \n59043378     acetylsalicylic acid       discontinued   \n\n                             Stop reason    State  \n0               Not specified (no value)  Indiana  \n1               Not specified (no value)  Indiana  \n2         Requesting Physician Cancelled  Indiana  \n3               Not specified (no value)  Indiana  \n4               Not specified (no value)  Indiana  \n...                                  ...      ...  \n59043374        Not specified (no value)  Arizona  \n59043375        Not specified (no value)  Arizona  \n59043376        Not specified (no value)  Arizona  \n59043377        Not specified (no value)  Arizona  \n59043378        Not specified (no value)  Arizona  \n\n[59043379 rows x 11 columns]",
            "text/html": "<div>\n<style scoped>\n    .dataframe tbody tr th:only-of-type {\n        vertical-align: middle;\n    }\n\n    .dataframe tbody tr th {\n        vertical-align: top;\n    }\n\n    .dataframe thead th {\n        text-align: right;\n    }\n</style>\n<table border=\"1\" class=\"dataframe\">\n  <thead>\n    <tr style=\"text-align: right;\">\n      <th></th>\n      <th>Column1</th>\n      <th>Internalpatientid</th>\n      <th>Age at med ordered</th>\n      <th>Order date</th>\n      <th>Medication start date</th>\n      <th>Medication stop date</th>\n      <th>Order discontinue date</th>\n      <th>Ordered medication atc 5</th>\n      <th>Order status</th>\n      <th>Stop reason</th>\n      <th>State</th>\n    </tr>\n  </thead>\n  <tbody>\n    <tr>\n      <th>0</th>\n      <td>0</td>\n      <td>1</td>\n      <td>59.763581</td>\n      <td>2004-01-09 14:07:46</td>\n      <td>2004-01-09 01:33:46</td>\n      <td>2004-04-02 11:27:46</td>\n      <td>2004-04-02 11:27:46</td>\n      <td>lisinopril</td>\n      <td>discontinued/edit</td>\n      <td>Not specified (no value)</td>\n      <td>Indiana</td>\n    </tr>\n    <tr>\n      <th>1</th>\n      <td>1</td>\n      <td>1</td>\n      <td>59.998896</td>\n      <td>2004-04-04 14:19:12</td>\n      <td>2004-04-04 04:26:12</td>\n      <td>2005-03-07 04:26:12</td>\n      <td>2005-04-17 15:19:12</td>\n      <td>Not specified</td>\n      <td>discontinued</td>\n      <td>Not specified (no value)</td>\n      <td>Indiana</td>\n    </tr>\n    <tr>\n      <th>2</th>\n      <td>2</td>\n      <td>1</td>\n      <td>60.794427</td>\n      <td>2005-01-20 08:43:00</td>\n      <td>2005-01-19 20:06:00</td>\n      <td>2005-06-29 05:18:00</td>\n      <td>2005-06-29 05:18:00</td>\n      <td>lisinopril</td>\n      <td>discontinued</td>\n      <td>Requesting Physician Cancelled</td>\n      <td>Indiana</td>\n    </tr>\n    <tr>\n      <th>3</th>\n      <td>3</td>\n      <td>1</td>\n      <td>61.136678</td>\n      <td>2005-05-25 10:56:29</td>\n      <td>2005-05-24 20:23:29</td>\n      <td>2005-06-23 20:23:29</td>\n      <td>NaT</td>\n      <td>amoxicillin</td>\n      <td>expired</td>\n      <td>Not specified (no value)</td>\n      <td>Indiana</td>\n    </tr>\n    <tr>\n      <th>4</th>\n      <td>4</td>\n      <td>1</td>\n      <td>63.256011</td>\n      <td>2007-07-09 01:43:28</td>\n      <td>2007-07-08 20:21:28</td>\n      <td>2007-08-07 20:21:28</td>\n      <td>NaT</td>\n      <td>Not specified</td>\n      <td>expired</td>\n      <td>Not specified (no value)</td>\n      <td>Indiana</td>\n    </tr>\n    <tr>\n      <th>...</th>\n      <td>...</td>\n      <td>...</td>\n      <td>...</td>\n      <td>...</td>\n      <td>...</td>\n      <td>...</td>\n      <td>...</td>\n      <td>...</td>\n      <td>...</td>\n      <td>...</td>\n      <td>...</td>\n    </tr>\n    <tr>\n      <th>59043374</th>\n      <td>75157514</td>\n      <td>99999</td>\n      <td>96.305527</td>\n      <td>2013-03-21 16:04:43</td>\n      <td>2013-03-21 16:03:43</td>\n      <td>2013-03-22 16:03:43</td>\n      <td>NaT</td>\n      <td>docusate</td>\n      <td>expired</td>\n      <td>Not specified (no value)</td>\n      <td>Arizona</td>\n    </tr>\n    <tr>\n      <th>59043375</th>\n      <td>75157515</td>\n      <td>99999</td>\n      <td>96.305527</td>\n      <td>2013-03-21 16:04:43</td>\n      <td>2013-03-21 16:04:43</td>\n      <td>2013-03-22 16:04:43</td>\n      <td>NaT</td>\n      <td>citalopram</td>\n      <td>expired</td>\n      <td>Not specified (no value)</td>\n      <td>Arizona</td>\n    </tr>\n    <tr>\n      <th>59043376</th>\n      <td>75157516</td>\n      <td>99999</td>\n      <td>96.344659</td>\n      <td>2013-04-04 23:20:47</td>\n      <td>2013-04-04 23:30:47</td>\n      <td>2013-04-10 04:24:47</td>\n      <td>2013-04-10 04:24:47</td>\n      <td>magnesium hydroxide</td>\n      <td>discontinued</td>\n      <td>Not specified (no value)</td>\n      <td>Arizona</td>\n    </tr>\n    <tr>\n      <th>59043377</th>\n      <td>75157517</td>\n      <td>99999</td>\n      <td>96.353332</td>\n      <td>2013-04-08 03:25:27</td>\n      <td>2013-04-08 03:26:27</td>\n      <td>2013-04-09 23:43:27</td>\n      <td>2013-04-09 23:43:27</td>\n      <td>haloperidol</td>\n      <td>discontinued/edit</td>\n      <td>Not specified (no value)</td>\n      <td>Arizona</td>\n    </tr>\n    <tr>\n      <th>59043378</th>\n      <td>75157518</td>\n      <td>99999</td>\n      <td>96.359411</td>\n      <td>2013-04-10 08:45:20</td>\n      <td>2013-04-10 08:46:20</td>\n      <td>2013-04-14 04:19:20</td>\n      <td>2013-04-14 04:19:20</td>\n      <td>acetylsalicylic acid</td>\n      <td>discontinued</td>\n      <td>Not specified (no value)</td>\n      <td>Arizona</td>\n    </tr>\n  </tbody>\n</table>\n<p>59043379 rows × 11 columns</p>\n</div>"
          },
          "metadata": {}
        }
      ],
      "execution_count": 5,
      "metadata": {
        "jupyter": {
          "source_hidden": false,
          "outputs_hidden": false
        },
        "nteract": {
          "transient": {
            "deleting": false
          }
        },
        "gather": {
          "logged": 1689050586145
        }
      }
    },
    {
      "cell_type": "code",
      "source": [
        "# shape of the dataframe\r\n",
        "medications_ordered.shape"
      ],
      "outputs": [
        {
          "output_type": "execute_result",
          "execution_count": 6,
          "data": {
            "text/plain": "(59043379, 11)"
          },
          "metadata": {}
        }
      ],
      "execution_count": 6,
      "metadata": {
        "jupyter": {
          "source_hidden": false,
          "outputs_hidden": false
        },
        "nteract": {
          "transient": {
            "deleting": false
          }
        },
        "gather": {
          "logged": 1689050589549
        }
      }
    },
    {
      "cell_type": "code",
      "source": [
        "# finding the unique values for each column\r\n",
        "medications_ordered.nunique()"
      ],
      "outputs": [
        {
          "output_type": "execute_result",
          "execution_count": 7,
          "data": {
            "text/plain": "Column1                     59043379\nInternalpatientid             132388\nAge at med ordered          58500067\nOrder date                  35002940\nMedication start date       37234764\nMedication stop date        40747657\nOrder discontinue date      31001941\nOrdered medication atc 5        4259\nOrder status                      12\nStop reason                      522\nState                             51\ndtype: int64"
          },
          "metadata": {}
        }
      ],
      "execution_count": 7,
      "metadata": {
        "jupyter": {
          "source_hidden": false,
          "outputs_hidden": false
        },
        "nteract": {
          "transient": {
            "deleting": false
          }
        },
        "gather": {
          "logged": 1689049551023
        }
      }
    },
    {
      "cell_type": "code",
      "source": [
        "medications_ordered['Internalpatientid'].value_counts()"
      ],
      "outputs": [
        {
          "output_type": "execute_result",
          "execution_count": 8,
          "data": {
            "text/plain": "Internalpatientid\n82129     9952\n154213    9737\n130333    9570\n135335    9411\n125484    9375\n          ... \n102087       1\n163973       1\n35045        1\n139250       1\n99922        1\nName: count, Length: 132388, dtype: int64"
          },
          "metadata": {}
        }
      ],
      "execution_count": 8,
      "metadata": {
        "jupyter": {
          "source_hidden": false,
          "outputs_hidden": false
        },
        "nteract": {
          "transient": {
            "deleting": false
          }
        },
        "gather": {
          "logged": 1689049560869
        }
      }
    },
    {
      "cell_type": "code",
      "source": [
        "medications_ordered.drop(['Column1','Order date','Medication start date','Medication stop date','Order discontinue date'], axis = 1,inplace =True)\r\n",
        "medications_ordered"
      ],
      "outputs": [
        {
          "output_type": "execute_result",
          "execution_count": 7,
          "data": {
            "text/plain": "          Internalpatientid  Age at med ordered Ordered medication atc 5   \n0                         1           59.763581               lisinopril  \\\n1                         1           59.998896            Not specified   \n2                         1           60.794427               lisinopril   \n3                         1           61.136678              amoxicillin   \n4                         1           63.256011            Not specified   \n...                     ...                 ...                      ...   \n59043374              99999           96.305527                 docusate   \n59043375              99999           96.305527               citalopram   \n59043376              99999           96.344659      magnesium hydroxide   \n59043377              99999           96.353332              haloperidol   \n59043378              99999           96.359411     acetylsalicylic acid   \n\n               Order status                     Stop reason    State  \n0         discontinued/edit        Not specified (no value)  Indiana  \n1              discontinued        Not specified (no value)  Indiana  \n2              discontinued  Requesting Physician Cancelled  Indiana  \n3                   expired        Not specified (no value)  Indiana  \n4                   expired        Not specified (no value)  Indiana  \n...                     ...                             ...      ...  \n59043374            expired        Not specified (no value)  Arizona  \n59043375            expired        Not specified (no value)  Arizona  \n59043376       discontinued        Not specified (no value)  Arizona  \n59043377  discontinued/edit        Not specified (no value)  Arizona  \n59043378       discontinued        Not specified (no value)  Arizona  \n\n[59043379 rows x 6 columns]",
            "text/html": "<div>\n<style scoped>\n    .dataframe tbody tr th:only-of-type {\n        vertical-align: middle;\n    }\n\n    .dataframe tbody tr th {\n        vertical-align: top;\n    }\n\n    .dataframe thead th {\n        text-align: right;\n    }\n</style>\n<table border=\"1\" class=\"dataframe\">\n  <thead>\n    <tr style=\"text-align: right;\">\n      <th></th>\n      <th>Internalpatientid</th>\n      <th>Age at med ordered</th>\n      <th>Ordered medication atc 5</th>\n      <th>Order status</th>\n      <th>Stop reason</th>\n      <th>State</th>\n    </tr>\n  </thead>\n  <tbody>\n    <tr>\n      <th>0</th>\n      <td>1</td>\n      <td>59.763581</td>\n      <td>lisinopril</td>\n      <td>discontinued/edit</td>\n      <td>Not specified (no value)</td>\n      <td>Indiana</td>\n    </tr>\n    <tr>\n      <th>1</th>\n      <td>1</td>\n      <td>59.998896</td>\n      <td>Not specified</td>\n      <td>discontinued</td>\n      <td>Not specified (no value)</td>\n      <td>Indiana</td>\n    </tr>\n    <tr>\n      <th>2</th>\n      <td>1</td>\n      <td>60.794427</td>\n      <td>lisinopril</td>\n      <td>discontinued</td>\n      <td>Requesting Physician Cancelled</td>\n      <td>Indiana</td>\n    </tr>\n    <tr>\n      <th>3</th>\n      <td>1</td>\n      <td>61.136678</td>\n      <td>amoxicillin</td>\n      <td>expired</td>\n      <td>Not specified (no value)</td>\n      <td>Indiana</td>\n    </tr>\n    <tr>\n      <th>4</th>\n      <td>1</td>\n      <td>63.256011</td>\n      <td>Not specified</td>\n      <td>expired</td>\n      <td>Not specified (no value)</td>\n      <td>Indiana</td>\n    </tr>\n    <tr>\n      <th>...</th>\n      <td>...</td>\n      <td>...</td>\n      <td>...</td>\n      <td>...</td>\n      <td>...</td>\n      <td>...</td>\n    </tr>\n    <tr>\n      <th>59043374</th>\n      <td>99999</td>\n      <td>96.305527</td>\n      <td>docusate</td>\n      <td>expired</td>\n      <td>Not specified (no value)</td>\n      <td>Arizona</td>\n    </tr>\n    <tr>\n      <th>59043375</th>\n      <td>99999</td>\n      <td>96.305527</td>\n      <td>citalopram</td>\n      <td>expired</td>\n      <td>Not specified (no value)</td>\n      <td>Arizona</td>\n    </tr>\n    <tr>\n      <th>59043376</th>\n      <td>99999</td>\n      <td>96.344659</td>\n      <td>magnesium hydroxide</td>\n      <td>discontinued</td>\n      <td>Not specified (no value)</td>\n      <td>Arizona</td>\n    </tr>\n    <tr>\n      <th>59043377</th>\n      <td>99999</td>\n      <td>96.353332</td>\n      <td>haloperidol</td>\n      <td>discontinued/edit</td>\n      <td>Not specified (no value)</td>\n      <td>Arizona</td>\n    </tr>\n    <tr>\n      <th>59043378</th>\n      <td>99999</td>\n      <td>96.359411</td>\n      <td>acetylsalicylic acid</td>\n      <td>discontinued</td>\n      <td>Not specified (no value)</td>\n      <td>Arizona</td>\n    </tr>\n  </tbody>\n</table>\n<p>59043379 rows × 6 columns</p>\n</div>"
          },
          "metadata": {}
        }
      ],
      "execution_count": 7,
      "metadata": {
        "jupyter": {
          "source_hidden": false,
          "outputs_hidden": false
        },
        "nteract": {
          "transient": {
            "deleting": false
          }
        },
        "gather": {
          "logged": 1689050598074
        }
      }
    },
    {
      "cell_type": "code",
      "source": [
        "medications_ordered.drop(['Stop reason','State'], axis = 1,inplace =True)\r\n",
        "\r\n",
        "medications_ordered"
      ],
      "outputs": [
        {
          "output_type": "execute_result",
          "execution_count": 8,
          "data": {
            "text/plain": "          Internalpatientid  Age at med ordered Ordered medication atc 5   \n0                         1           59.763581               lisinopril  \\\n1                         1           59.998896            Not specified   \n2                         1           60.794427               lisinopril   \n3                         1           61.136678              amoxicillin   \n4                         1           63.256011            Not specified   \n...                     ...                 ...                      ...   \n59043374              99999           96.305527                 docusate   \n59043375              99999           96.305527               citalopram   \n59043376              99999           96.344659      magnesium hydroxide   \n59043377              99999           96.353332              haloperidol   \n59043378              99999           96.359411     acetylsalicylic acid   \n\n               Order status  \n0         discontinued/edit  \n1              discontinued  \n2              discontinued  \n3                   expired  \n4                   expired  \n...                     ...  \n59043374            expired  \n59043375            expired  \n59043376       discontinued  \n59043377  discontinued/edit  \n59043378       discontinued  \n\n[59043379 rows x 4 columns]",
            "text/html": "<div>\n<style scoped>\n    .dataframe tbody tr th:only-of-type {\n        vertical-align: middle;\n    }\n\n    .dataframe tbody tr th {\n        vertical-align: top;\n    }\n\n    .dataframe thead th {\n        text-align: right;\n    }\n</style>\n<table border=\"1\" class=\"dataframe\">\n  <thead>\n    <tr style=\"text-align: right;\">\n      <th></th>\n      <th>Internalpatientid</th>\n      <th>Age at med ordered</th>\n      <th>Ordered medication atc 5</th>\n      <th>Order status</th>\n    </tr>\n  </thead>\n  <tbody>\n    <tr>\n      <th>0</th>\n      <td>1</td>\n      <td>59.763581</td>\n      <td>lisinopril</td>\n      <td>discontinued/edit</td>\n    </tr>\n    <tr>\n      <th>1</th>\n      <td>1</td>\n      <td>59.998896</td>\n      <td>Not specified</td>\n      <td>discontinued</td>\n    </tr>\n    <tr>\n      <th>2</th>\n      <td>1</td>\n      <td>60.794427</td>\n      <td>lisinopril</td>\n      <td>discontinued</td>\n    </tr>\n    <tr>\n      <th>3</th>\n      <td>1</td>\n      <td>61.136678</td>\n      <td>amoxicillin</td>\n      <td>expired</td>\n    </tr>\n    <tr>\n      <th>4</th>\n      <td>1</td>\n      <td>63.256011</td>\n      <td>Not specified</td>\n      <td>expired</td>\n    </tr>\n    <tr>\n      <th>...</th>\n      <td>...</td>\n      <td>...</td>\n      <td>...</td>\n      <td>...</td>\n    </tr>\n    <tr>\n      <th>59043374</th>\n      <td>99999</td>\n      <td>96.305527</td>\n      <td>docusate</td>\n      <td>expired</td>\n    </tr>\n    <tr>\n      <th>59043375</th>\n      <td>99999</td>\n      <td>96.305527</td>\n      <td>citalopram</td>\n      <td>expired</td>\n    </tr>\n    <tr>\n      <th>59043376</th>\n      <td>99999</td>\n      <td>96.344659</td>\n      <td>magnesium hydroxide</td>\n      <td>discontinued</td>\n    </tr>\n    <tr>\n      <th>59043377</th>\n      <td>99999</td>\n      <td>96.353332</td>\n      <td>haloperidol</td>\n      <td>discontinued/edit</td>\n    </tr>\n    <tr>\n      <th>59043378</th>\n      <td>99999</td>\n      <td>96.359411</td>\n      <td>acetylsalicylic acid</td>\n      <td>discontinued</td>\n    </tr>\n  </tbody>\n</table>\n<p>59043379 rows × 4 columns</p>\n</div>"
          },
          "metadata": {}
        }
      ],
      "execution_count": 8,
      "metadata": {
        "jupyter": {
          "source_hidden": false,
          "outputs_hidden": false
        },
        "nteract": {
          "transient": {
            "deleting": false
          }
        },
        "gather": {
          "logged": 1689050602944
        }
      }
    },
    {
      "cell_type": "code",
      "source": [
        "medications_ordered['Order status'].value_counts()"
      ],
      "outputs": [
        {
          "output_type": "execute_result",
          "execution_count": 11,
          "data": {
            "text/plain": "Order status\ndiscontinued         34632224\nexpired              14205378\ndiscontinued/edit     6327081\ncancelled             2157038\ncomplete               997778\nactive                 578254\nlapsed                 125979\nunreleased               8175\nhold                     4890\npending                  4567\ndelayed                  1353\nrenewed                   662\nName: count, dtype: int64"
          },
          "metadata": {}
        }
      ],
      "execution_count": 11,
      "metadata": {
        "jupyter": {
          "source_hidden": false,
          "outputs_hidden": false
        },
        "nteract": {
          "transient": {
            "deleting": false
          }
        },
        "gather": {
          "logged": 1689049579493
        }
      }
    },
    {
      "cell_type": "code",
      "source": [
        "sorted_df = medications_ordered.sort_values(by=['Internalpatientid','Age at med ordered'])\r\n",
        "sorted_df"
      ],
      "outputs": [
        {
          "output_type": "execute_result",
          "execution_count": 9,
          "data": {
            "text/plain": "          Internalpatientid  Age at med ordered Ordered medication atc 5   \n39020                     1           57.571873                capsaicin  \\\n32165                     1           57.683784   fluocinolone acetonide   \n38200                     1           57.705605        magnesium citrate   \n877                       1           57.911217      hydrochlorothiazide   \n878                       1           57.911217               nifedipine   \n...                     ...                 ...                      ...   \n22666740             169064           87.523375               paroxetine   \n22833907             169064           87.687405               paroxetine   \n45932431             169064           87.783017     levothyroxine sodium   \n45711978             169064           87.783025                 etodolac   \n45570090             169064           87.878101               alprazolam   \n\n               Order status  \n39020               expired  \n32165               expired  \n38200               expired  \n877            discontinued  \n878            discontinued  \n...                     ...  \n22666740  discontinued/edit  \n22833907       discontinued  \n45932431       discontinued  \n45711978       discontinued  \n45570090       discontinued  \n\n[59043379 rows x 4 columns]",
            "text/html": "<div>\n<style scoped>\n    .dataframe tbody tr th:only-of-type {\n        vertical-align: middle;\n    }\n\n    .dataframe tbody tr th {\n        vertical-align: top;\n    }\n\n    .dataframe thead th {\n        text-align: right;\n    }\n</style>\n<table border=\"1\" class=\"dataframe\">\n  <thead>\n    <tr style=\"text-align: right;\">\n      <th></th>\n      <th>Internalpatientid</th>\n      <th>Age at med ordered</th>\n      <th>Ordered medication atc 5</th>\n      <th>Order status</th>\n    </tr>\n  </thead>\n  <tbody>\n    <tr>\n      <th>39020</th>\n      <td>1</td>\n      <td>57.571873</td>\n      <td>capsaicin</td>\n      <td>expired</td>\n    </tr>\n    <tr>\n      <th>32165</th>\n      <td>1</td>\n      <td>57.683784</td>\n      <td>fluocinolone acetonide</td>\n      <td>expired</td>\n    </tr>\n    <tr>\n      <th>38200</th>\n      <td>1</td>\n      <td>57.705605</td>\n      <td>magnesium citrate</td>\n      <td>expired</td>\n    </tr>\n    <tr>\n      <th>877</th>\n      <td>1</td>\n      <td>57.911217</td>\n      <td>hydrochlorothiazide</td>\n      <td>discontinued</td>\n    </tr>\n    <tr>\n      <th>878</th>\n      <td>1</td>\n      <td>57.911217</td>\n      <td>nifedipine</td>\n      <td>discontinued</td>\n    </tr>\n    <tr>\n      <th>...</th>\n      <td>...</td>\n      <td>...</td>\n      <td>...</td>\n      <td>...</td>\n    </tr>\n    <tr>\n      <th>22666740</th>\n      <td>169064</td>\n      <td>87.523375</td>\n      <td>paroxetine</td>\n      <td>discontinued/edit</td>\n    </tr>\n    <tr>\n      <th>22833907</th>\n      <td>169064</td>\n      <td>87.687405</td>\n      <td>paroxetine</td>\n      <td>discontinued</td>\n    </tr>\n    <tr>\n      <th>45932431</th>\n      <td>169064</td>\n      <td>87.783017</td>\n      <td>levothyroxine sodium</td>\n      <td>discontinued</td>\n    </tr>\n    <tr>\n      <th>45711978</th>\n      <td>169064</td>\n      <td>87.783025</td>\n      <td>etodolac</td>\n      <td>discontinued</td>\n    </tr>\n    <tr>\n      <th>45570090</th>\n      <td>169064</td>\n      <td>87.878101</td>\n      <td>alprazolam</td>\n      <td>discontinued</td>\n    </tr>\n  </tbody>\n</table>\n<p>59043379 rows × 4 columns</p>\n</div>"
          },
          "metadata": {}
        }
      ],
      "execution_count": 9,
      "metadata": {
        "jupyter": {
          "source_hidden": false,
          "outputs_hidden": false
        },
        "nteract": {
          "transient": {
            "deleting": false
          }
        },
        "gather": {
          "logged": 1689050701634
        }
      }
    },
    {
      "cell_type": "code",
      "source": [
        "sorted_df.isnull().sum()"
      ],
      "outputs": [
        {
          "output_type": "execute_result",
          "execution_count": 10,
          "data": {
            "text/plain": "Internalpatientid           0\nAge at med ordered          0\nOrdered medication atc 5    0\nOrder status                0\ndtype: int64"
          },
          "metadata": {}
        }
      ],
      "execution_count": 10,
      "metadata": {
        "jupyter": {
          "source_hidden": false,
          "outputs_hidden": false
        },
        "nteract": {
          "transient": {
            "deleting": false
          }
        },
        "gather": {
          "logged": 1689050711042
        }
      }
    },
    {
      "cell_type": "code",
      "source": [
        "# Format 'Age at measurement' values in the format 00.00\r\n",
        "sorted_df[\"Age at med ordered\"] = sorted_df[\"Age at med ordered\"].map(\"{:.3f}\".format)\r\n",
        "sorted_df"
      ],
      "outputs": [
        {
          "output_type": "execute_result",
          "execution_count": 11,
          "data": {
            "text/plain": "          Internalpatientid Age at med ordered Ordered medication atc 5   \n39020                     1             57.572                capsaicin  \\\n32165                     1             57.684   fluocinolone acetonide   \n38200                     1             57.706        magnesium citrate   \n877                       1             57.911      hydrochlorothiazide   \n878                       1             57.911               nifedipine   \n...                     ...                ...                      ...   \n22666740             169064             87.523               paroxetine   \n22833907             169064             87.687               paroxetine   \n45932431             169064             87.783     levothyroxine sodium   \n45711978             169064             87.783                 etodolac   \n45570090             169064             87.878               alprazolam   \n\n               Order status  \n39020               expired  \n32165               expired  \n38200               expired  \n877            discontinued  \n878            discontinued  \n...                     ...  \n22666740  discontinued/edit  \n22833907       discontinued  \n45932431       discontinued  \n45711978       discontinued  \n45570090       discontinued  \n\n[59043379 rows x 4 columns]",
            "text/html": "<div>\n<style scoped>\n    .dataframe tbody tr th:only-of-type {\n        vertical-align: middle;\n    }\n\n    .dataframe tbody tr th {\n        vertical-align: top;\n    }\n\n    .dataframe thead th {\n        text-align: right;\n    }\n</style>\n<table border=\"1\" class=\"dataframe\">\n  <thead>\n    <tr style=\"text-align: right;\">\n      <th></th>\n      <th>Internalpatientid</th>\n      <th>Age at med ordered</th>\n      <th>Ordered medication atc 5</th>\n      <th>Order status</th>\n    </tr>\n  </thead>\n  <tbody>\n    <tr>\n      <th>39020</th>\n      <td>1</td>\n      <td>57.572</td>\n      <td>capsaicin</td>\n      <td>expired</td>\n    </tr>\n    <tr>\n      <th>32165</th>\n      <td>1</td>\n      <td>57.684</td>\n      <td>fluocinolone acetonide</td>\n      <td>expired</td>\n    </tr>\n    <tr>\n      <th>38200</th>\n      <td>1</td>\n      <td>57.706</td>\n      <td>magnesium citrate</td>\n      <td>expired</td>\n    </tr>\n    <tr>\n      <th>877</th>\n      <td>1</td>\n      <td>57.911</td>\n      <td>hydrochlorothiazide</td>\n      <td>discontinued</td>\n    </tr>\n    <tr>\n      <th>878</th>\n      <td>1</td>\n      <td>57.911</td>\n      <td>nifedipine</td>\n      <td>discontinued</td>\n    </tr>\n    <tr>\n      <th>...</th>\n      <td>...</td>\n      <td>...</td>\n      <td>...</td>\n      <td>...</td>\n    </tr>\n    <tr>\n      <th>22666740</th>\n      <td>169064</td>\n      <td>87.523</td>\n      <td>paroxetine</td>\n      <td>discontinued/edit</td>\n    </tr>\n    <tr>\n      <th>22833907</th>\n      <td>169064</td>\n      <td>87.687</td>\n      <td>paroxetine</td>\n      <td>discontinued</td>\n    </tr>\n    <tr>\n      <th>45932431</th>\n      <td>169064</td>\n      <td>87.783</td>\n      <td>levothyroxine sodium</td>\n      <td>discontinued</td>\n    </tr>\n    <tr>\n      <th>45711978</th>\n      <td>169064</td>\n      <td>87.783</td>\n      <td>etodolac</td>\n      <td>discontinued</td>\n    </tr>\n    <tr>\n      <th>45570090</th>\n      <td>169064</td>\n      <td>87.878</td>\n      <td>alprazolam</td>\n      <td>discontinued</td>\n    </tr>\n  </tbody>\n</table>\n<p>59043379 rows × 4 columns</p>\n</div>"
          },
          "metadata": {}
        }
      ],
      "execution_count": 11,
      "metadata": {
        "jupyter": {
          "source_hidden": false,
          "outputs_hidden": false
        },
        "nteract": {
          "transient": {
            "deleting": false
          }
        },
        "gather": {
          "logged": 1689050739169
        }
      }
    },
    {
      "cell_type": "code",
      "source": [
        "import pandas as pd"
      ],
      "outputs": [],
      "execution_count": 12,
      "metadata": {
        "jupyter": {
          "source_hidden": false,
          "outputs_hidden": false
        },
        "nteract": {
          "transient": {
            "deleting": false
          }
        },
        "gather": {
          "logged": 1689050743767
        }
      }
    },
    {
      "cell_type": "code",
      "source": [
        "# Find the maximum age for each internal patient id\r\n",
        "max_ages = sorted_df.groupby('Internalpatientid')['Age at med ordered'].max().reset_index()\r\n",
        "\r\n",
        "# Merge with the original dataframe to get the rows with the highest age\r\n",
        "\r\n",
        "result_df = pd.merge(sorted_df, max_ages, on =['Internalpatientid','Age at med ordered'], how = 'inner')\r\n",
        "\r\n",
        "result_df"
      ],
      "outputs": [
        {
          "output_type": "execute_result",
          "execution_count": 13,
          "data": {
            "text/plain": "        Internalpatientid Age at med ordered   \n0                       1             80.230  \\\n1                       1             80.230   \n2                       2             69.513   \n3                       2             69.513   \n4                       2             69.513   \n...                   ...                ...   \n442791             169060             71.776   \n442792             169061             81.873   \n442793             169062             74.181   \n442794             169063             78.510   \n442795             169064             87.878   \n\n                                 Ordered medication atc 5  Order status  \n0                                               minoxidil        active  \n1                                              metoprolol        active  \n2                                               bisacodyl        active  \n3                                            electrolytes        active  \n4                                               silicones        active  \n...                                                   ...           ...  \n442791                                          glipizide  discontinued  \n442792                             insulins and analogues  discontinued  \n442793                                          lorazepam  discontinued  \n442794  insulin (human) intermediate-acting combined w...  discontinued  \n442795                                         alprazolam  discontinued  \n\n[442796 rows x 4 columns]",
            "text/html": "<div>\n<style scoped>\n    .dataframe tbody tr th:only-of-type {\n        vertical-align: middle;\n    }\n\n    .dataframe tbody tr th {\n        vertical-align: top;\n    }\n\n    .dataframe thead th {\n        text-align: right;\n    }\n</style>\n<table border=\"1\" class=\"dataframe\">\n  <thead>\n    <tr style=\"text-align: right;\">\n      <th></th>\n      <th>Internalpatientid</th>\n      <th>Age at med ordered</th>\n      <th>Ordered medication atc 5</th>\n      <th>Order status</th>\n    </tr>\n  </thead>\n  <tbody>\n    <tr>\n      <th>0</th>\n      <td>1</td>\n      <td>80.230</td>\n      <td>minoxidil</td>\n      <td>active</td>\n    </tr>\n    <tr>\n      <th>1</th>\n      <td>1</td>\n      <td>80.230</td>\n      <td>metoprolol</td>\n      <td>active</td>\n    </tr>\n    <tr>\n      <th>2</th>\n      <td>2</td>\n      <td>69.513</td>\n      <td>bisacodyl</td>\n      <td>active</td>\n    </tr>\n    <tr>\n      <th>3</th>\n      <td>2</td>\n      <td>69.513</td>\n      <td>electrolytes</td>\n      <td>active</td>\n    </tr>\n    <tr>\n      <th>4</th>\n      <td>2</td>\n      <td>69.513</td>\n      <td>silicones</td>\n      <td>active</td>\n    </tr>\n    <tr>\n      <th>...</th>\n      <td>...</td>\n      <td>...</td>\n      <td>...</td>\n      <td>...</td>\n    </tr>\n    <tr>\n      <th>442791</th>\n      <td>169060</td>\n      <td>71.776</td>\n      <td>glipizide</td>\n      <td>discontinued</td>\n    </tr>\n    <tr>\n      <th>442792</th>\n      <td>169061</td>\n      <td>81.873</td>\n      <td>insulins and analogues</td>\n      <td>discontinued</td>\n    </tr>\n    <tr>\n      <th>442793</th>\n      <td>169062</td>\n      <td>74.181</td>\n      <td>lorazepam</td>\n      <td>discontinued</td>\n    </tr>\n    <tr>\n      <th>442794</th>\n      <td>169063</td>\n      <td>78.510</td>\n      <td>insulin (human) intermediate-acting combined w...</td>\n      <td>discontinued</td>\n    </tr>\n    <tr>\n      <th>442795</th>\n      <td>169064</td>\n      <td>87.878</td>\n      <td>alprazolam</td>\n      <td>discontinued</td>\n    </tr>\n  </tbody>\n</table>\n<p>442796 rows × 4 columns</p>\n</div>"
          },
          "metadata": {}
        }
      ],
      "execution_count": 13,
      "metadata": {
        "jupyter": {
          "source_hidden": false,
          "outputs_hidden": false
        },
        "nteract": {
          "transient": {
            "deleting": false
          }
        },
        "gather": {
          "logged": 1689050782020
        }
      }
    },
    {
      "cell_type": "code",
      "source": [
        "# Convert 'Age at measurement' column from object to float\r\n",
        "result_df[\"Age at med ordered\"] = result_df[\"Age at med ordered\"].astype(float)\r\n",
        "\r\n",
        " \r\n",
        "\r\n",
        "# Round off the values in the 'Age at measurement' column to two decimal places\r\n",
        "result_df[\"Age at med ordered\"] = result_df[\"Age at med ordered\"].round()"
      ],
      "outputs": [],
      "execution_count": 14,
      "metadata": {
        "jupyter": {
          "source_hidden": false,
          "outputs_hidden": false
        },
        "nteract": {
          "transient": {
            "deleting": false
          }
        },
        "gather": {
          "logged": 1689050787308
        }
      }
    },
    {
      "cell_type": "code",
      "source": [
        "result_df['Age at med ordered'] = result_df['Age at med ordered'].astype('int')"
      ],
      "outputs": [],
      "execution_count": 15,
      "metadata": {
        "jupyter": {
          "source_hidden": false,
          "outputs_hidden": false
        },
        "nteract": {
          "transient": {
            "deleting": false
          }
        },
        "gather": {
          "logged": 1689050788944
        }
      }
    },
    {
      "cell_type": "code",
      "source": [
        "# Now the value counts\r\n",
        "df = result_df['Internalpatientid'].value_counts().loc[lambda x: x > 25]\r\n",
        "df"
      ],
      "outputs": [
        {
          "output_type": "execute_result",
          "execution_count": 16,
          "data": {
            "text/plain": "Internalpatientid\n67624     73\n101005    71\n1184      68\n101074    63\n34376     61\n          ..\n40100     26\n23365     26\n96285     26\n64411     26\n159275    26\nName: count, Length: 570, dtype: int64"
          },
          "metadata": {}
        }
      ],
      "execution_count": 16,
      "metadata": {
        "jupyter": {
          "source_hidden": false,
          "outputs_hidden": false
        },
        "nteract": {
          "transient": {
            "deleting": false
          }
        },
        "gather": {
          "logged": 1689050792164
        }
      }
    },
    {
      "cell_type": "code",
      "source": [
        "df = df.reset_index()"
      ],
      "outputs": [],
      "execution_count": 17,
      "metadata": {
        "jupyter": {
          "source_hidden": false,
          "outputs_hidden": false
        },
        "nteract": {
          "transient": {
            "deleting": false
          }
        },
        "gather": {
          "logged": 1689050796108
        }
      }
    },
    {
      "cell_type": "code",
      "source": [
        "df.columns = [\"Internalpatientid\",\"count_conditions\"]"
      ],
      "outputs": [],
      "execution_count": 18,
      "metadata": {
        "jupyter": {
          "source_hidden": false,
          "outputs_hidden": false
        },
        "nteract": {
          "transient": {
            "deleting": false
          }
        },
        "gather": {
          "logged": 1689050799758
        }
      }
    },
    {
      "cell_type": "code",
      "source": [
        "df.drop('count_conditions', axis = 1, inplace = True)"
      ],
      "outputs": [],
      "execution_count": 19,
      "metadata": {
        "jupyter": {
          "source_hidden": false,
          "outputs_hidden": false
        },
        "nteract": {
          "transient": {
            "deleting": false
          }
        },
        "gather": {
          "logged": 1689050803169
        }
      }
    },
    {
      "cell_type": "code",
      "source": [
        "# Merge the two dataframes based on 'Internalpatientid'\r\n",
        "merged_df = result_df.merge(df, on='Internalpatientid', how='left')\r\n",
        "\r\n",
        " \r\n",
        "\r\n",
        " \r\n",
        "\r\n",
        "# Filter rows from DataFrame 1 that have matching values in DataFrame 2\r\n",
        "filtered_df = merged_df[~merged_df['Internalpatientid'].isin(df['Internalpatientid'])]\r\n",
        "\r\n",
        " \r\n",
        "\r\n",
        " \r\n",
        "\r\n",
        "# Print only the columns of DataFrame 1\r\n",
        "filtered_df"
      ],
      "outputs": [
        {
          "output_type": "execute_result",
          "execution_count": 20,
          "data": {
            "text/plain": "        Internalpatientid  Age at med ordered   \n0                       1                  80  \\\n1                       1                  80   \n2                       2                  70   \n3                       2                  70   \n4                       2                  70   \n...                   ...                 ...   \n442791             169060                  72   \n442792             169061                  82   \n442793             169062                  74   \n442794             169063                  79   \n442795             169064                  88   \n\n                                 Ordered medication atc 5  Order status  \n0                                               minoxidil        active  \n1                                              metoprolol        active  \n2                                               bisacodyl        active  \n3                                            electrolytes        active  \n4                                               silicones        active  \n...                                                   ...           ...  \n442791                                          glipizide  discontinued  \n442792                             insulins and analogues  discontinued  \n442793                                          lorazepam  discontinued  \n442794  insulin (human) intermediate-acting combined w...  discontinued  \n442795                                         alprazolam  discontinued  \n\n[424048 rows x 4 columns]",
            "text/html": "<div>\n<style scoped>\n    .dataframe tbody tr th:only-of-type {\n        vertical-align: middle;\n    }\n\n    .dataframe tbody tr th {\n        vertical-align: top;\n    }\n\n    .dataframe thead th {\n        text-align: right;\n    }\n</style>\n<table border=\"1\" class=\"dataframe\">\n  <thead>\n    <tr style=\"text-align: right;\">\n      <th></th>\n      <th>Internalpatientid</th>\n      <th>Age at med ordered</th>\n      <th>Ordered medication atc 5</th>\n      <th>Order status</th>\n    </tr>\n  </thead>\n  <tbody>\n    <tr>\n      <th>0</th>\n      <td>1</td>\n      <td>80</td>\n      <td>minoxidil</td>\n      <td>active</td>\n    </tr>\n    <tr>\n      <th>1</th>\n      <td>1</td>\n      <td>80</td>\n      <td>metoprolol</td>\n      <td>active</td>\n    </tr>\n    <tr>\n      <th>2</th>\n      <td>2</td>\n      <td>70</td>\n      <td>bisacodyl</td>\n      <td>active</td>\n    </tr>\n    <tr>\n      <th>3</th>\n      <td>2</td>\n      <td>70</td>\n      <td>electrolytes</td>\n      <td>active</td>\n    </tr>\n    <tr>\n      <th>4</th>\n      <td>2</td>\n      <td>70</td>\n      <td>silicones</td>\n      <td>active</td>\n    </tr>\n    <tr>\n      <th>...</th>\n      <td>...</td>\n      <td>...</td>\n      <td>...</td>\n      <td>...</td>\n    </tr>\n    <tr>\n      <th>442791</th>\n      <td>169060</td>\n      <td>72</td>\n      <td>glipizide</td>\n      <td>discontinued</td>\n    </tr>\n    <tr>\n      <th>442792</th>\n      <td>169061</td>\n      <td>82</td>\n      <td>insulins and analogues</td>\n      <td>discontinued</td>\n    </tr>\n    <tr>\n      <th>442793</th>\n      <td>169062</td>\n      <td>74</td>\n      <td>lorazepam</td>\n      <td>discontinued</td>\n    </tr>\n    <tr>\n      <th>442794</th>\n      <td>169063</td>\n      <td>79</td>\n      <td>insulin (human) intermediate-acting combined w...</td>\n      <td>discontinued</td>\n    </tr>\n    <tr>\n      <th>442795</th>\n      <td>169064</td>\n      <td>88</td>\n      <td>alprazolam</td>\n      <td>discontinued</td>\n    </tr>\n  </tbody>\n</table>\n<p>424048 rows × 4 columns</p>\n</div>"
          },
          "metadata": {}
        }
      ],
      "execution_count": 20,
      "metadata": {
        "jupyter": {
          "source_hidden": false,
          "outputs_hidden": false
        },
        "nteract": {
          "transient": {
            "deleting": false
          }
        },
        "gather": {
          "logged": 1689050831285
        }
      }
    },
    {
      "cell_type": "code",
      "source": [
        "filtered_df['Internalpatientid'].value_counts()"
      ],
      "outputs": [
        {
          "output_type": "execute_result",
          "execution_count": 21,
          "data": {
            "text/plain": "Internalpatientid\n141517    25\n118713    25\n95798     25\n11022     25\n113192    25\n          ..\n76193      1\n76190      1\n76188      1\n76186      1\n169064     1\nName: count, Length: 131818, dtype: int64"
          },
          "metadata": {}
        }
      ],
      "execution_count": 21,
      "metadata": {
        "jupyter": {
          "source_hidden": false,
          "outputs_hidden": false
        },
        "nteract": {
          "transient": {
            "deleting": false
          }
        },
        "gather": {
          "logged": 1689050851683
        }
      }
    },
    {
      "cell_type": "code",
      "source": [
        "filtered_df['medication_ordered_medication_atc5'] = filtered_df['Age at med ordered'].astype(str) + '_' + filtered_df['Ordered medication atc 5']\r\n",
        "filtered_df"
      ],
      "outputs": [
        {
          "output_type": "stream",
          "name": "stderr",
          "text": "/tmp/ipykernel_22941/545162775.py:1: SettingWithCopyWarning: \nA value is trying to be set on a copy of a slice from a DataFrame.\nTry using .loc[row_indexer,col_indexer] = value instead\n\nSee the caveats in the documentation: https://pandas.pydata.org/pandas-docs/stable/user_guide/indexing.html#returning-a-view-versus-a-copy\n  filtered_df['medication_ordered_medication_atc5'] = filtered_df['Age at med ordered'].astype(str) + '_' + filtered_df['Ordered medication atc 5']\n"
        },
        {
          "output_type": "execute_result",
          "execution_count": 22,
          "data": {
            "text/plain": "        Internalpatientid  Age at med ordered   \n0                       1                  80  \\\n1                       1                  80   \n2                       2                  70   \n3                       2                  70   \n4                       2                  70   \n...                   ...                 ...   \n442791             169060                  72   \n442792             169061                  82   \n442793             169062                  74   \n442794             169063                  79   \n442795             169064                  88   \n\n                                 Ordered medication atc 5  Order status   \n0                                               minoxidil        active  \\\n1                                              metoprolol        active   \n2                                               bisacodyl        active   \n3                                            electrolytes        active   \n4                                               silicones        active   \n...                                                   ...           ...   \n442791                                          glipizide  discontinued   \n442792                             insulins and analogues  discontinued   \n442793                                          lorazepam  discontinued   \n442794  insulin (human) intermediate-acting combined w...  discontinued   \n442795                                         alprazolam  discontinued   \n\n                       medication_ordered_medication_atc5  \n0                                            80_minoxidil  \n1                                           80_metoprolol  \n2                                            70_bisacodyl  \n3                                         70_electrolytes  \n4                                            70_silicones  \n...                                                   ...  \n442791                                       72_glipizide  \n442792                          82_insulins and analogues  \n442793                                       74_lorazepam  \n442794  79_insulin (human) intermediate-acting combine...  \n442795                                      88_alprazolam  \n\n[424048 rows x 5 columns]",
            "text/html": "<div>\n<style scoped>\n    .dataframe tbody tr th:only-of-type {\n        vertical-align: middle;\n    }\n\n    .dataframe tbody tr th {\n        vertical-align: top;\n    }\n\n    .dataframe thead th {\n        text-align: right;\n    }\n</style>\n<table border=\"1\" class=\"dataframe\">\n  <thead>\n    <tr style=\"text-align: right;\">\n      <th></th>\n      <th>Internalpatientid</th>\n      <th>Age at med ordered</th>\n      <th>Ordered medication atc 5</th>\n      <th>Order status</th>\n      <th>medication_ordered_medication_atc5</th>\n    </tr>\n  </thead>\n  <tbody>\n    <tr>\n      <th>0</th>\n      <td>1</td>\n      <td>80</td>\n      <td>minoxidil</td>\n      <td>active</td>\n      <td>80_minoxidil</td>\n    </tr>\n    <tr>\n      <th>1</th>\n      <td>1</td>\n      <td>80</td>\n      <td>metoprolol</td>\n      <td>active</td>\n      <td>80_metoprolol</td>\n    </tr>\n    <tr>\n      <th>2</th>\n      <td>2</td>\n      <td>70</td>\n      <td>bisacodyl</td>\n      <td>active</td>\n      <td>70_bisacodyl</td>\n    </tr>\n    <tr>\n      <th>3</th>\n      <td>2</td>\n      <td>70</td>\n      <td>electrolytes</td>\n      <td>active</td>\n      <td>70_electrolytes</td>\n    </tr>\n    <tr>\n      <th>4</th>\n      <td>2</td>\n      <td>70</td>\n      <td>silicones</td>\n      <td>active</td>\n      <td>70_silicones</td>\n    </tr>\n    <tr>\n      <th>...</th>\n      <td>...</td>\n      <td>...</td>\n      <td>...</td>\n      <td>...</td>\n      <td>...</td>\n    </tr>\n    <tr>\n      <th>442791</th>\n      <td>169060</td>\n      <td>72</td>\n      <td>glipizide</td>\n      <td>discontinued</td>\n      <td>72_glipizide</td>\n    </tr>\n    <tr>\n      <th>442792</th>\n      <td>169061</td>\n      <td>82</td>\n      <td>insulins and analogues</td>\n      <td>discontinued</td>\n      <td>82_insulins and analogues</td>\n    </tr>\n    <tr>\n      <th>442793</th>\n      <td>169062</td>\n      <td>74</td>\n      <td>lorazepam</td>\n      <td>discontinued</td>\n      <td>74_lorazepam</td>\n    </tr>\n    <tr>\n      <th>442794</th>\n      <td>169063</td>\n      <td>79</td>\n      <td>insulin (human) intermediate-acting combined w...</td>\n      <td>discontinued</td>\n      <td>79_insulin (human) intermediate-acting combine...</td>\n    </tr>\n    <tr>\n      <th>442795</th>\n      <td>169064</td>\n      <td>88</td>\n      <td>alprazolam</td>\n      <td>discontinued</td>\n      <td>88_alprazolam</td>\n    </tr>\n  </tbody>\n</table>\n<p>424048 rows × 5 columns</p>\n</div>"
          },
          "metadata": {}
        }
      ],
      "execution_count": 22,
      "metadata": {
        "jupyter": {
          "source_hidden": false,
          "outputs_hidden": false
        },
        "nteract": {
          "transient": {
            "deleting": false
          }
        },
        "gather": {
          "logged": 1689050972454
        }
      }
    },
    {
      "cell_type": "code",
      "source": [
        "filtered_df['medication_ordered_status'] = filtered_df['Age at med ordered'].astype(str) + '_' + filtered_df['Order status']\r\n",
        "filtered_df"
      ],
      "outputs": [
        {
          "output_type": "stream",
          "name": "stderr",
          "text": "/tmp/ipykernel_22941/2590857632.py:1: SettingWithCopyWarning: \nA value is trying to be set on a copy of a slice from a DataFrame.\nTry using .loc[row_indexer,col_indexer] = value instead\n\nSee the caveats in the documentation: https://pandas.pydata.org/pandas-docs/stable/user_guide/indexing.html#returning-a-view-versus-a-copy\n  filtered_df['medication_ordered_status'] = filtered_df['Age at med ordered'].astype(str) + '_' + filtered_df['Order status']\n"
        },
        {
          "output_type": "execute_result",
          "execution_count": 24,
          "data": {
            "text/plain": "        Internalpatientid  Age at med ordered   \n0                       1                  80  \\\n1                       1                  80   \n2                       2                  70   \n3                       2                  70   \n4                       2                  70   \n...                   ...                 ...   \n442791             169060                  72   \n442792             169061                  82   \n442793             169062                  74   \n442794             169063                  79   \n442795             169064                  88   \n\n                                 Ordered medication atc 5  Order status   \n0                                               minoxidil        active  \\\n1                                              metoprolol        active   \n2                                               bisacodyl        active   \n3                                            electrolytes        active   \n4                                               silicones        active   \n...                                                   ...           ...   \n442791                                          glipizide  discontinued   \n442792                             insulins and analogues  discontinued   \n442793                                          lorazepam  discontinued   \n442794  insulin (human) intermediate-acting combined w...  discontinued   \n442795                                         alprazolam  discontinued   \n\n                       medication_ordered_medication_atc5   \n0                                            80_minoxidil  \\\n1                                           80_metoprolol   \n2                                            70_bisacodyl   \n3                                         70_electrolytes   \n4                                            70_silicones   \n...                                                   ...   \n442791                                       72_glipizide   \n442792                          82_insulins and analogues   \n442793                                       74_lorazepam   \n442794  79_insulin (human) intermediate-acting combine...   \n442795                                      88_alprazolam   \n\n       medication_ordered_status  \n0                      80_active  \n1                      80_active  \n2                      70_active  \n3                      70_active  \n4                      70_active  \n...                          ...  \n442791           72_discontinued  \n442792           82_discontinued  \n442793           74_discontinued  \n442794           79_discontinued  \n442795           88_discontinued  \n\n[424048 rows x 6 columns]",
            "text/html": "<div>\n<style scoped>\n    .dataframe tbody tr th:only-of-type {\n        vertical-align: middle;\n    }\n\n    .dataframe tbody tr th {\n        vertical-align: top;\n    }\n\n    .dataframe thead th {\n        text-align: right;\n    }\n</style>\n<table border=\"1\" class=\"dataframe\">\n  <thead>\n    <tr style=\"text-align: right;\">\n      <th></th>\n      <th>Internalpatientid</th>\n      <th>Age at med ordered</th>\n      <th>Ordered medication atc 5</th>\n      <th>Order status</th>\n      <th>medication_ordered_medication_atc5</th>\n      <th>medication_ordered_status</th>\n    </tr>\n  </thead>\n  <tbody>\n    <tr>\n      <th>0</th>\n      <td>1</td>\n      <td>80</td>\n      <td>minoxidil</td>\n      <td>active</td>\n      <td>80_minoxidil</td>\n      <td>80_active</td>\n    </tr>\n    <tr>\n      <th>1</th>\n      <td>1</td>\n      <td>80</td>\n      <td>metoprolol</td>\n      <td>active</td>\n      <td>80_metoprolol</td>\n      <td>80_active</td>\n    </tr>\n    <tr>\n      <th>2</th>\n      <td>2</td>\n      <td>70</td>\n      <td>bisacodyl</td>\n      <td>active</td>\n      <td>70_bisacodyl</td>\n      <td>70_active</td>\n    </tr>\n    <tr>\n      <th>3</th>\n      <td>2</td>\n      <td>70</td>\n      <td>electrolytes</td>\n      <td>active</td>\n      <td>70_electrolytes</td>\n      <td>70_active</td>\n    </tr>\n    <tr>\n      <th>4</th>\n      <td>2</td>\n      <td>70</td>\n      <td>silicones</td>\n      <td>active</td>\n      <td>70_silicones</td>\n      <td>70_active</td>\n    </tr>\n    <tr>\n      <th>...</th>\n      <td>...</td>\n      <td>...</td>\n      <td>...</td>\n      <td>...</td>\n      <td>...</td>\n      <td>...</td>\n    </tr>\n    <tr>\n      <th>442791</th>\n      <td>169060</td>\n      <td>72</td>\n      <td>glipizide</td>\n      <td>discontinued</td>\n      <td>72_glipizide</td>\n      <td>72_discontinued</td>\n    </tr>\n    <tr>\n      <th>442792</th>\n      <td>169061</td>\n      <td>82</td>\n      <td>insulins and analogues</td>\n      <td>discontinued</td>\n      <td>82_insulins and analogues</td>\n      <td>82_discontinued</td>\n    </tr>\n    <tr>\n      <th>442793</th>\n      <td>169062</td>\n      <td>74</td>\n      <td>lorazepam</td>\n      <td>discontinued</td>\n      <td>74_lorazepam</td>\n      <td>74_discontinued</td>\n    </tr>\n    <tr>\n      <th>442794</th>\n      <td>169063</td>\n      <td>79</td>\n      <td>insulin (human) intermediate-acting combined w...</td>\n      <td>discontinued</td>\n      <td>79_insulin (human) intermediate-acting combine...</td>\n      <td>79_discontinued</td>\n    </tr>\n    <tr>\n      <th>442795</th>\n      <td>169064</td>\n      <td>88</td>\n      <td>alprazolam</td>\n      <td>discontinued</td>\n      <td>88_alprazolam</td>\n      <td>88_discontinued</td>\n    </tr>\n  </tbody>\n</table>\n<p>424048 rows × 6 columns</p>\n</div>"
          },
          "metadata": {}
        }
      ],
      "execution_count": 24,
      "metadata": {
        "jupyter": {
          "source_hidden": false,
          "outputs_hidden": false
        },
        "nteract": {
          "transient": {
            "deleting": false
          }
        },
        "gather": {
          "logged": 1689051087393
        }
      }
    },
    {
      "cell_type": "code",
      "source": [
        "filtered_df.drop(['Age at med ordered','Ordered medication atc 5','Order status'], axis = 1,inplace = True)\r\n",
        "filtered_df"
      ],
      "outputs": [
        {
          "output_type": "stream",
          "name": "stderr",
          "text": "/tmp/ipykernel_22941/2778465033.py:1: SettingWithCopyWarning: \nA value is trying to be set on a copy of a slice from a DataFrame\n\nSee the caveats in the documentation: https://pandas.pydata.org/pandas-docs/stable/user_guide/indexing.html#returning-a-view-versus-a-copy\n  filtered_df.drop(['Age at med ordered','Ordered medication atc 5','Order status'], axis = 1,inplace = True)\n"
        },
        {
          "output_type": "execute_result",
          "execution_count": 25,
          "data": {
            "text/plain": "        Internalpatientid                 medication_ordered_medication_atc5   \n0                       1                                       80_minoxidil  \\\n1                       1                                      80_metoprolol   \n2                       2                                       70_bisacodyl   \n3                       2                                    70_electrolytes   \n4                       2                                       70_silicones   \n...                   ...                                                ...   \n442791             169060                                       72_glipizide   \n442792             169061                          82_insulins and analogues   \n442793             169062                                       74_lorazepam   \n442794             169063  79_insulin (human) intermediate-acting combine...   \n442795             169064                                      88_alprazolam   \n\n       medication_ordered_status  \n0                      80_active  \n1                      80_active  \n2                      70_active  \n3                      70_active  \n4                      70_active  \n...                          ...  \n442791           72_discontinued  \n442792           82_discontinued  \n442793           74_discontinued  \n442794           79_discontinued  \n442795           88_discontinued  \n\n[424048 rows x 3 columns]",
            "text/html": "<div>\n<style scoped>\n    .dataframe tbody tr th:only-of-type {\n        vertical-align: middle;\n    }\n\n    .dataframe tbody tr th {\n        vertical-align: top;\n    }\n\n    .dataframe thead th {\n        text-align: right;\n    }\n</style>\n<table border=\"1\" class=\"dataframe\">\n  <thead>\n    <tr style=\"text-align: right;\">\n      <th></th>\n      <th>Internalpatientid</th>\n      <th>medication_ordered_medication_atc5</th>\n      <th>medication_ordered_status</th>\n    </tr>\n  </thead>\n  <tbody>\n    <tr>\n      <th>0</th>\n      <td>1</td>\n      <td>80_minoxidil</td>\n      <td>80_active</td>\n    </tr>\n    <tr>\n      <th>1</th>\n      <td>1</td>\n      <td>80_metoprolol</td>\n      <td>80_active</td>\n    </tr>\n    <tr>\n      <th>2</th>\n      <td>2</td>\n      <td>70_bisacodyl</td>\n      <td>70_active</td>\n    </tr>\n    <tr>\n      <th>3</th>\n      <td>2</td>\n      <td>70_electrolytes</td>\n      <td>70_active</td>\n    </tr>\n    <tr>\n      <th>4</th>\n      <td>2</td>\n      <td>70_silicones</td>\n      <td>70_active</td>\n    </tr>\n    <tr>\n      <th>...</th>\n      <td>...</td>\n      <td>...</td>\n      <td>...</td>\n    </tr>\n    <tr>\n      <th>442791</th>\n      <td>169060</td>\n      <td>72_glipizide</td>\n      <td>72_discontinued</td>\n    </tr>\n    <tr>\n      <th>442792</th>\n      <td>169061</td>\n      <td>82_insulins and analogues</td>\n      <td>82_discontinued</td>\n    </tr>\n    <tr>\n      <th>442793</th>\n      <td>169062</td>\n      <td>74_lorazepam</td>\n      <td>74_discontinued</td>\n    </tr>\n    <tr>\n      <th>442794</th>\n      <td>169063</td>\n      <td>79_insulin (human) intermediate-acting combine...</td>\n      <td>79_discontinued</td>\n    </tr>\n    <tr>\n      <th>442795</th>\n      <td>169064</td>\n      <td>88_alprazolam</td>\n      <td>88_discontinued</td>\n    </tr>\n  </tbody>\n</table>\n<p>424048 rows × 3 columns</p>\n</div>"
          },
          "metadata": {}
        }
      ],
      "execution_count": 25,
      "metadata": {
        "jupyter": {
          "source_hidden": false,
          "outputs_hidden": false
        },
        "nteract": {
          "transient": {
            "deleting": false
          }
        },
        "gather": {
          "logged": 1689051184656
        }
      }
    },
    {
      "cell_type": "code",
      "source": [
        "filtered_df['medication_ordered_medication_atc5'] = filtered_df['medication_ordered_medication_atc5'].astype(str)\r\n",
        "filtered_df['medication_ordered_status'] = filtered_df['medication_ordered_status'].astype(str)"
      ],
      "outputs": [
        {
          "output_type": "stream",
          "name": "stderr",
          "text": "/tmp/ipykernel_22941/656839175.py:1: SettingWithCopyWarning: \nA value is trying to be set on a copy of a slice from a DataFrame.\nTry using .loc[row_indexer,col_indexer] = value instead\n\nSee the caveats in the documentation: https://pandas.pydata.org/pandas-docs/stable/user_guide/indexing.html#returning-a-view-versus-a-copy\n  filtered_df['medication_ordered_medication_atc5'] = filtered_df['medication_ordered_medication_atc5'].astype(str)\n/tmp/ipykernel_22941/656839175.py:2: SettingWithCopyWarning: \nA value is trying to be set on a copy of a slice from a DataFrame.\nTry using .loc[row_indexer,col_indexer] = value instead\n\nSee the caveats in the documentation: https://pandas.pydata.org/pandas-docs/stable/user_guide/indexing.html#returning-a-view-versus-a-copy\n  filtered_df['medication_ordered_status'] = filtered_df['medication_ordered_status'].astype(str)\n"
        }
      ],
      "execution_count": 26,
      "metadata": {
        "jupyter": {
          "source_hidden": false,
          "outputs_hidden": false
        },
        "nteract": {
          "transient": {
            "deleting": false
          }
        },
        "gather": {
          "logged": 1689051266235
        }
      }
    },
    {
      "cell_type": "code",
      "source": [
        "df_medication_ordered = filtered_df.groupby('Internalpatientid').apply(lambda x: pd.Series({\r\n",
        "    'medication_ordered_medication_atc5' : ', '.join(x['medication_ordered_medication_atc5']),\r\n",
        "    'medication_ordered_status' : ', '.join(x['medication_ordered_status'])\r\n",
        "    \r\n",
        "\r\n",
        "}))\r\n",
        "\r\n",
        "# Reset the index of the dataframe\r\n",
        "df_medication_administered = df_medication_ordered.reset_index()\r\n",
        "\r\n",
        "# print the grouped dataframe\r\n",
        "print(df_medication_ordered)"
      ],
      "outputs": [
        {
          "output_type": "stream",
          "name": "stdout",
          "text": "                                  medication_ordered_medication_atc5   \nInternalpatientid                                                      \n1                                        80_minoxidil, 80_metoprolol  \\\n2                        70_bisacodyl, 70_electrolytes, 70_silicones   \n3                  82_furosemide, 82_glipizide, 82_acetylsalicyli...   \n4                                     84_pantoprazole, 84_lisinopril   \n5                                                        77_morphine   \n...                                                              ...   \n169060                                                  72_glipizide   \n169061                                     82_insulins and analogues   \n169062                                                  74_lorazepam   \n169063             79_insulin (human) intermediate-acting combine...   \n169064                                                 88_alprazolam   \n\n                                           medication_ordered_status  \nInternalpatientid                                                     \n1                                               80_active, 80_active  \n2                                    70_active, 70_active, 70_active  \n3                  82_discontinued, 82_discontinued, 82_discontin...  \n4                                             84_expired, 84_expired  \n5                                                         77_expired  \n...                                                              ...  \n169060                                               72_discontinued  \n169061                                               82_discontinued  \n169062                                               74_discontinued  \n169063                                               79_discontinued  \n169064                                               88_discontinued  \n\n[131818 rows x 2 columns]\n"
        }
      ],
      "execution_count": 27,
      "metadata": {
        "jupyter": {
          "source_hidden": false,
          "outputs_hidden": false
        },
        "nteract": {
          "transient": {
            "deleting": false
          }
        },
        "gather": {
          "logged": 1689051394168
        }
      }
    },
    {
      "cell_type": "code",
      "source": [
        "df_medication_ordered"
      ],
      "outputs": [
        {
          "output_type": "execute_result",
          "execution_count": 28,
          "data": {
            "text/plain": "                                  medication_ordered_medication_atc5   \nInternalpatientid                                                      \n1                                        80_minoxidil, 80_metoprolol  \\\n2                        70_bisacodyl, 70_electrolytes, 70_silicones   \n3                  82_furosemide, 82_glipizide, 82_acetylsalicyli...   \n4                                     84_pantoprazole, 84_lisinopril   \n5                                                        77_morphine   \n...                                                              ...   \n169060                                                  72_glipizide   \n169061                                     82_insulins and analogues   \n169062                                                  74_lorazepam   \n169063             79_insulin (human) intermediate-acting combine...   \n169064                                                 88_alprazolam   \n\n                                           medication_ordered_status  \nInternalpatientid                                                     \n1                                               80_active, 80_active  \n2                                    70_active, 70_active, 70_active  \n3                  82_discontinued, 82_discontinued, 82_discontin...  \n4                                             84_expired, 84_expired  \n5                                                         77_expired  \n...                                                              ...  \n169060                                               72_discontinued  \n169061                                               82_discontinued  \n169062                                               74_discontinued  \n169063                                               79_discontinued  \n169064                                               88_discontinued  \n\n[131818 rows x 2 columns]",
            "text/html": "<div>\n<style scoped>\n    .dataframe tbody tr th:only-of-type {\n        vertical-align: middle;\n    }\n\n    .dataframe tbody tr th {\n        vertical-align: top;\n    }\n\n    .dataframe thead th {\n        text-align: right;\n    }\n</style>\n<table border=\"1\" class=\"dataframe\">\n  <thead>\n    <tr style=\"text-align: right;\">\n      <th></th>\n      <th>medication_ordered_medication_atc5</th>\n      <th>medication_ordered_status</th>\n    </tr>\n    <tr>\n      <th>Internalpatientid</th>\n      <th></th>\n      <th></th>\n    </tr>\n  </thead>\n  <tbody>\n    <tr>\n      <th>1</th>\n      <td>80_minoxidil, 80_metoprolol</td>\n      <td>80_active, 80_active</td>\n    </tr>\n    <tr>\n      <th>2</th>\n      <td>70_bisacodyl, 70_electrolytes, 70_silicones</td>\n      <td>70_active, 70_active, 70_active</td>\n    </tr>\n    <tr>\n      <th>3</th>\n      <td>82_furosemide, 82_glipizide, 82_acetylsalicyli...</td>\n      <td>82_discontinued, 82_discontinued, 82_discontin...</td>\n    </tr>\n    <tr>\n      <th>4</th>\n      <td>84_pantoprazole, 84_lisinopril</td>\n      <td>84_expired, 84_expired</td>\n    </tr>\n    <tr>\n      <th>5</th>\n      <td>77_morphine</td>\n      <td>77_expired</td>\n    </tr>\n    <tr>\n      <th>...</th>\n      <td>...</td>\n      <td>...</td>\n    </tr>\n    <tr>\n      <th>169060</th>\n      <td>72_glipizide</td>\n      <td>72_discontinued</td>\n    </tr>\n    <tr>\n      <th>169061</th>\n      <td>82_insulins and analogues</td>\n      <td>82_discontinued</td>\n    </tr>\n    <tr>\n      <th>169062</th>\n      <td>74_lorazepam</td>\n      <td>74_discontinued</td>\n    </tr>\n    <tr>\n      <th>169063</th>\n      <td>79_insulin (human) intermediate-acting combine...</td>\n      <td>79_discontinued</td>\n    </tr>\n    <tr>\n      <th>169064</th>\n      <td>88_alprazolam</td>\n      <td>88_discontinued</td>\n    </tr>\n  </tbody>\n</table>\n<p>131818 rows × 2 columns</p>\n</div>"
          },
          "metadata": {}
        }
      ],
      "execution_count": 28,
      "metadata": {
        "jupyter": {
          "source_hidden": false,
          "outputs_hidden": false
        },
        "nteract": {
          "transient": {
            "deleting": false
          }
        },
        "gather": {
          "logged": 1689051433875
        }
      }
    },
    {
      "cell_type": "code",
      "source": [
        "# saving as the csv file in the appropriate directory\r\n",
        "df_medication_ordered.to_csv('/mnt/batch/tasks/shared/LS_root/mounts/clusters/team3-nishagpu2/code/Users/900379/Output_files_train/df_medication_ordered_train.csv')"
      ],
      "outputs": [],
      "execution_count": 30,
      "metadata": {
        "jupyter": {
          "source_hidden": false,
          "outputs_hidden": false
        },
        "nteract": {
          "transient": {
            "deleting": false
          }
        },
        "gather": {
          "logged": 1689051479775
        }
      }
    }
  ],
  "metadata": {
    "kernelspec": {
      "name": "python310-sdkv2",
      "language": "python",
      "display_name": "Python 3.10 - SDK v2"
    },
    "language_info": {
      "name": "python",
      "version": "3.10.10",
      "mimetype": "text/x-python",
      "codemirror_mode": {
        "name": "ipython",
        "version": 3
      },
      "pygments_lexer": "ipython3",
      "nbconvert_exporter": "python",
      "file_extension": ".py"
    },
    "microsoft": {
      "ms_spell_check": {
        "ms_spell_check_language": "en"
      },
      "host": {
        "AzureML": {
          "notebookHasBeenCompleted": true
        }
      }
    },
    "kernel_info": {
      "name": "python310-sdkv2"
    },
    "nteract": {
      "version": "nteract-front-end@1.0.0"
    }
  },
  "nbformat": 4,
  "nbformat_minor": 2
}