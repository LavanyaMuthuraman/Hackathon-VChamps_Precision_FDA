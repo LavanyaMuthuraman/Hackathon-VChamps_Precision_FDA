{
 "cells": [
  {
   "cell_type": "markdown",
   "id": "b2becc3a",
   "metadata": {},
   "source": [
    "----\n",
    "# **Measurements Blood Pressure Train**\n",
    "----\n",
    "\n",
    "## **Dataset Description:**\n",
    "\n",
    "- **Internalpatientid:** The unique identifier for each patient in the dataset.\n",
    "- **Age at measurement bp:** The age of the patient at the time the blood pressure measurement was taken.\n",
    "- **Measurement date:** The date and time when the blood pressure measurement was taken.\n",
    "- **Diastolic bp:** The diastolic blood pressure value, which represents the pressure in the arteries when the heart is at rest between beats.\n",
    "- **Systolic bp:** The systolic blood pressure value, which represents the pressure in the arteries when the heart is actively pumping blood.\n",
    "- **State:** The state where the measurement was taken or the patient's residence."
   ]
  },
  {
   "cell_type": "markdown",
   "id": "ac17799e",
   "metadata": {},
   "source": [
    "### Azure notebook Setup"
   ]
  },
  {
   "cell_type": "code",
   "execution_count": 1,
   "id": "3668f0ed",
   "metadata": {},
   "outputs": [],
   "source": [
    "#A class attribute that provides access to the TabularDatasetFactory methods for creating new TabularDataset objects. \n",
    "#Usage: Dataset.Tabular.from_delimited_files().\n",
    "from azureml.core import Workspace, Dataset\n",
    "\n",
    "subscription_id = 'bcfe0c62-8ebe-4df0-a46d-1efcf8739a5b' #check the launch studio there will get this id\n",
    "resource_group = 'VChamp-Team3' # resource group name\n",
    "workspace_name = 'vchamp-team3' # worksapce name\n",
    "\n",
    "\n",
    "# storage account : Algorithmia, Resource group: VChamp-Team3 and workspace: vchamp-team3.\n",
    "#Constructor\n",
    "workspace = Workspace(subscription_id, resource_group, workspace_name)"
   ]
  },
  {
   "cell_type": "code",
   "execution_count": 2,
   "id": "c1c3c107",
   "metadata": {},
   "outputs": [],
   "source": [
    "#['data_team3_synthetic_train']\n",
    "datastore = workspace.datastores['data_team3_synthetic_train']"
   ]
  },
  {
   "cell_type": "code",
   "execution_count": 3,
   "id": "2e4704e1",
   "metadata": {},
   "outputs": [],
   "source": [
    "#from_delimited_files (Create a TabularDataset to represent tabular data in delimited files (e.g. CSV and TSV).\n",
    "dataset = Dataset.Tabular.from_delimited_files(path = [(datastore, 'measurements_blood_pressure_train.csv')])\n",
    "\n",
    "# preview the first 3 rows of the dataset\n",
    "# dataset.to_pandas_dataframe()"
   ]
  },
  {
   "cell_type": "code",
   "execution_count": 4,
   "id": "6b27edfc",
   "metadata": {},
   "outputs": [],
   "source": [
    "#Converting the dataset into data frame(default as dataset in Azure, thus we must convert the needed formate)\n",
    "measurements_blood_pressure_train_data= dataset.to_pandas_dataframe()"
   ]
  },
  {
   "cell_type": "code",
   "execution_count": 5,
   "id": "98239d0d",
   "metadata": {},
   "outputs": [
    {
     "data": {
      "text/plain": [
       "pandas.core.frame.DataFrame"
      ]
     },
     "execution_count": 5,
     "metadata": {},
     "output_type": "execute_result"
    }
   ],
   "source": [
    "type(measurements_blood_pressure_train_data)"
   ]
  },
  {
   "cell_type": "code",
   "execution_count": 6,
   "id": "d03bdd29",
   "metadata": {},
   "outputs": [
    {
     "data": {
      "text/html": [
       "<div>\n",
       "<style scoped>\n",
       "    .dataframe tbody tr th:only-of-type {\n",
       "        vertical-align: middle;\n",
       "    }\n",
       "\n",
       "    .dataframe tbody tr th {\n",
       "        vertical-align: top;\n",
       "    }\n",
       "\n",
       "    .dataframe thead th {\n",
       "        text-align: right;\n",
       "    }\n",
       "</style>\n",
       "<table border=\"1\" class=\"dataframe\">\n",
       "  <thead>\n",
       "    <tr style=\"text-align: right;\">\n",
       "      <th></th>\n",
       "      <th>Column1</th>\n",
       "      <th>Internalpatientid</th>\n",
       "      <th>Age at measurement bp</th>\n",
       "      <th>Measurement date</th>\n",
       "      <th>Diastolic bp</th>\n",
       "      <th>Systolic bp</th>\n",
       "      <th>State</th>\n",
       "    </tr>\n",
       "  </thead>\n",
       "  <tbody>\n",
       "    <tr>\n",
       "      <th>0</th>\n",
       "      <td>0</td>\n",
       "      <td>1</td>\n",
       "      <td>61.554040</td>\n",
       "      <td>2005-10-25 00:02:08</td>\n",
       "      <td>75.0</td>\n",
       "      <td>140.0</td>\n",
       "      <td>Indiana</td>\n",
       "    </tr>\n",
       "    <tr>\n",
       "      <th>1</th>\n",
       "      <td>1</td>\n",
       "      <td>1</td>\n",
       "      <td>67.037260</td>\n",
       "      <td>2011-04-21 02:50:27</td>\n",
       "      <td>72.0</td>\n",
       "      <td>116.0</td>\n",
       "      <td>Indiana</td>\n",
       "    </tr>\n",
       "    <tr>\n",
       "      <th>2</th>\n",
       "      <td>2</td>\n",
       "      <td>1</td>\n",
       "      <td>68.304140</td>\n",
       "      <td>2012-07-27 03:54:47</td>\n",
       "      <td>100.0</td>\n",
       "      <td>145.0</td>\n",
       "      <td>Indiana</td>\n",
       "    </tr>\n",
       "    <tr>\n",
       "      <th>3</th>\n",
       "      <td>3</td>\n",
       "      <td>1</td>\n",
       "      <td>68.347339</td>\n",
       "      <td>2012-08-11 22:51:23</td>\n",
       "      <td>89.0</td>\n",
       "      <td>155.0</td>\n",
       "      <td>Indiana</td>\n",
       "    </tr>\n",
       "    <tr>\n",
       "      <th>4</th>\n",
       "      <td>4</td>\n",
       "      <td>1</td>\n",
       "      <td>68.781623</td>\n",
       "      <td>2013-01-17 16:23:39</td>\n",
       "      <td>72.0</td>\n",
       "      <td>143.0</td>\n",
       "      <td>Indiana</td>\n",
       "    </tr>\n",
       "  </tbody>\n",
       "</table>\n",
       "</div>"
      ],
      "text/plain": [
       "   Column1  Internalpatientid  Age at measurement bp    Measurement date  \\\n",
       "0        0                  1              61.554040 2005-10-25 00:02:08   \n",
       "1        1                  1              67.037260 2011-04-21 02:50:27   \n",
       "2        2                  1              68.304140 2012-07-27 03:54:47   \n",
       "3        3                  1              68.347339 2012-08-11 22:51:23   \n",
       "4        4                  1              68.781623 2013-01-17 16:23:39   \n",
       "\n",
       "   Diastolic bp  Systolic bp    State  \n",
       "0          75.0        140.0  Indiana  \n",
       "1          72.0        116.0  Indiana  \n",
       "2         100.0        145.0  Indiana  \n",
       "3          89.0        155.0  Indiana  \n",
       "4          72.0        143.0  Indiana  "
      ]
     },
     "execution_count": 6,
     "metadata": {},
     "output_type": "execute_result"
    }
   ],
   "source": [
    "measurements_blood_pressure_train_data.head()"
   ]
  },
  {
   "cell_type": "markdown",
   "id": "fe7ea5ca",
   "metadata": {},
   "source": [
    "## **Importing Libraries**"
   ]
  },
  {
   "cell_type": "code",
   "execution_count": 7,
   "id": "1eaf7fac",
   "metadata": {},
   "outputs": [],
   "source": [
    "# Importing essential libraries\n",
    "import pandas as pd        # Library for data manipulation and analysis\n",
    "import numpy as np         # Library for mathematical operations"
   ]
  },
  {
   "cell_type": "markdown",
   "id": "26350eae",
   "metadata": {},
   "source": [
    "## **Data Exploration**"
   ]
  },
  {
   "cell_type": "code",
   "execution_count": 8,
   "id": "f2ecd993",
   "metadata": {},
   "outputs": [],
   "source": [
    "# changing variable name for dataframe\n",
    "df = measurements_blood_pressure_train_data"
   ]
  },
  {
   "cell_type": "code",
   "execution_count": 9,
   "id": "5baf1d0c",
   "metadata": {},
   "outputs": [
    {
     "data": {
      "text/html": [
       "<div>\n",
       "<style scoped>\n",
       "    .dataframe tbody tr th:only-of-type {\n",
       "        vertical-align: middle;\n",
       "    }\n",
       "\n",
       "    .dataframe tbody tr th {\n",
       "        vertical-align: top;\n",
       "    }\n",
       "\n",
       "    .dataframe thead th {\n",
       "        text-align: right;\n",
       "    }\n",
       "</style>\n",
       "<table border=\"1\" class=\"dataframe\">\n",
       "  <thead>\n",
       "    <tr style=\"text-align: right;\">\n",
       "      <th></th>\n",
       "      <th>Column1</th>\n",
       "      <th>Internalpatientid</th>\n",
       "      <th>Age at measurement bp</th>\n",
       "      <th>Measurement date</th>\n",
       "      <th>Diastolic bp</th>\n",
       "      <th>Systolic bp</th>\n",
       "      <th>State</th>\n",
       "    </tr>\n",
       "  </thead>\n",
       "  <tbody>\n",
       "    <tr>\n",
       "      <th>0</th>\n",
       "      <td>0</td>\n",
       "      <td>1</td>\n",
       "      <td>61.554040</td>\n",
       "      <td>2005-10-25 00:02:08</td>\n",
       "      <td>75.0</td>\n",
       "      <td>140.0</td>\n",
       "      <td>Indiana</td>\n",
       "    </tr>\n",
       "    <tr>\n",
       "      <th>1</th>\n",
       "      <td>1</td>\n",
       "      <td>1</td>\n",
       "      <td>67.037260</td>\n",
       "      <td>2011-04-21 02:50:27</td>\n",
       "      <td>72.0</td>\n",
       "      <td>116.0</td>\n",
       "      <td>Indiana</td>\n",
       "    </tr>\n",
       "    <tr>\n",
       "      <th>2</th>\n",
       "      <td>2</td>\n",
       "      <td>1</td>\n",
       "      <td>68.304140</td>\n",
       "      <td>2012-07-27 03:54:47</td>\n",
       "      <td>100.0</td>\n",
       "      <td>145.0</td>\n",
       "      <td>Indiana</td>\n",
       "    </tr>\n",
       "    <tr>\n",
       "      <th>3</th>\n",
       "      <td>3</td>\n",
       "      <td>1</td>\n",
       "      <td>68.347339</td>\n",
       "      <td>2012-08-11 22:51:23</td>\n",
       "      <td>89.0</td>\n",
       "      <td>155.0</td>\n",
       "      <td>Indiana</td>\n",
       "    </tr>\n",
       "    <tr>\n",
       "      <th>4</th>\n",
       "      <td>4</td>\n",
       "      <td>1</td>\n",
       "      <td>68.781623</td>\n",
       "      <td>2013-01-17 16:23:39</td>\n",
       "      <td>72.0</td>\n",
       "      <td>143.0</td>\n",
       "      <td>Indiana</td>\n",
       "    </tr>\n",
       "  </tbody>\n",
       "</table>\n",
       "</div>"
      ],
      "text/plain": [
       "   Column1  Internalpatientid  Age at measurement bp    Measurement date  \\\n",
       "0        0                  1              61.554040 2005-10-25 00:02:08   \n",
       "1        1                  1              67.037260 2011-04-21 02:50:27   \n",
       "2        2                  1              68.304140 2012-07-27 03:54:47   \n",
       "3        3                  1              68.347339 2012-08-11 22:51:23   \n",
       "4        4                  1              68.781623 2013-01-17 16:23:39   \n",
       "\n",
       "   Diastolic bp  Systolic bp    State  \n",
       "0          75.0        140.0  Indiana  \n",
       "1          72.0        116.0  Indiana  \n",
       "2         100.0        145.0  Indiana  \n",
       "3          89.0        155.0  Indiana  \n",
       "4          72.0        143.0  Indiana  "
      ]
     },
     "execution_count": 9,
     "metadata": {},
     "output_type": "execute_result"
    }
   ],
   "source": [
    "# Display the first few rows of a DataFrame\n",
    "df.head()"
   ]
  },
  {
   "cell_type": "code",
   "execution_count": 10,
   "id": "071e61eb",
   "metadata": {},
   "outputs": [
    {
     "name": "stdout",
     "output_type": "stream",
     "text": [
      "Number of rows: 21997558\n",
      "Number of columns: 7\n"
     ]
    }
   ],
   "source": [
    "# Shape of the dataset\n",
    "df.shape\n",
    "\n",
    "num_rows = df.shape[0]  # Number of rows\n",
    "num_cols = df.shape[1]  # Number of columns\n",
    "\n",
    "print(\"Number of rows:\", num_rows)\n",
    "print(\"Number of columns:\", num_cols)"
   ]
  },
  {
   "cell_type": "code",
   "execution_count": 11,
   "id": "1395ea76",
   "metadata": {},
   "outputs": [
    {
     "data": {
      "text/plain": [
       "132210"
      ]
     },
     "execution_count": 11,
     "metadata": {},
     "output_type": "execute_result"
    }
   ],
   "source": [
    "# Get the number of unique values in the 'Internalpatientid' column\n",
    "df['Internalpatientid'].nunique()"
   ]
  },
  {
   "cell_type": "code",
   "execution_count": 12,
   "id": "2a1115a8",
   "metadata": {},
   "outputs": [
    {
     "name": "stdout",
     "output_type": "stream",
     "text": [
      "<class 'pandas.core.frame.DataFrame'>\n",
      "RangeIndex: 21997558 entries, 0 to 21997557\n",
      "Data columns (total 7 columns):\n",
      " #   Column                 Dtype         \n",
      "---  ------                 -----         \n",
      " 0   Column1                int64         \n",
      " 1   Internalpatientid      int64         \n",
      " 2   Age at measurement bp  float64       \n",
      " 3   Measurement date       datetime64[ns]\n",
      " 4   Diastolic bp           float64       \n",
      " 5   Systolic bp            float64       \n",
      " 6   State                  object        \n",
      "dtypes: datetime64[ns](1), float64(3), int64(2), object(1)\n",
      "memory usage: 1.1+ GB\n"
     ]
    }
   ],
   "source": [
    "# Display the concise summary of the DataFrame\n",
    "df.info()"
   ]
  },
  {
   "cell_type": "markdown",
   "id": "1319e9ab",
   "metadata": {},
   "source": [
    "- The 'Internalpatientid' column contains integer values, and the columns for 'Age at measurement bp', 'Diastolic bp' and 'Systolic bp' are in float format, while the rest of the features are in object format."
   ]
  },
  {
   "cell_type": "markdown",
   "id": "6c4042f8",
   "metadata": {},
   "source": [
    "## **Checking Missing Values**"
   ]
  },
  {
   "cell_type": "code",
   "execution_count": 13,
   "id": "2e9ac3a8",
   "metadata": {},
   "outputs": [
    {
     "data": {
      "text/plain": [
       "Column1                  0\n",
       "Internalpatientid        0\n",
       "Age at measurement bp    0\n",
       "Measurement date         0\n",
       "Diastolic bp             0\n",
       "Systolic bp              0\n",
       "State                    0\n",
       "dtype: int64"
      ]
     },
     "execution_count": 13,
     "metadata": {},
     "output_type": "execute_result"
    }
   ],
   "source": [
    "# Count the number of missing values in each column\n",
    "df.isnull().sum()"
   ]
  },
  {
   "cell_type": "markdown",
   "id": "f746a61f",
   "metadata": {},
   "source": [
    "- There is no missing value in this file."
   ]
  },
  {
   "cell_type": "markdown",
   "id": "6715568f",
   "metadata": {},
   "source": [
    "## **Data Preprocessing**"
   ]
  },
  {
   "cell_type": "code",
   "execution_count": 14,
   "id": "2de47d09",
   "metadata": {},
   "outputs": [],
   "source": [
    "# changing variable name for dataframe\n",
    "measurement_bp = df"
   ]
  },
  {
   "cell_type": "code",
   "execution_count": 15,
   "id": "6b009d60",
   "metadata": {},
   "outputs": [],
   "source": [
    "# Drop the specified columns from the DataFrame\n",
    "measurement_bp.drop(['Column1','Measurement date','State'], axis=1,inplace=True)"
   ]
  },
  {
   "cell_type": "code",
   "execution_count": 16,
   "id": "c69d47ad",
   "metadata": {},
   "outputs": [
    {
     "data": {
      "text/html": [
       "<div>\n",
       "<style scoped>\n",
       "    .dataframe tbody tr th:only-of-type {\n",
       "        vertical-align: middle;\n",
       "    }\n",
       "\n",
       "    .dataframe tbody tr th {\n",
       "        vertical-align: top;\n",
       "    }\n",
       "\n",
       "    .dataframe thead th {\n",
       "        text-align: right;\n",
       "    }\n",
       "</style>\n",
       "<table border=\"1\" class=\"dataframe\">\n",
       "  <thead>\n",
       "    <tr style=\"text-align: right;\">\n",
       "      <th></th>\n",
       "      <th>Internalpatientid</th>\n",
       "      <th>Age at measurement bp</th>\n",
       "      <th>Diastolic bp</th>\n",
       "      <th>Systolic bp</th>\n",
       "    </tr>\n",
       "  </thead>\n",
       "  <tbody>\n",
       "    <tr>\n",
       "      <th>0</th>\n",
       "      <td>1</td>\n",
       "      <td>61.554040</td>\n",
       "      <td>75.0</td>\n",
       "      <td>140.0</td>\n",
       "    </tr>\n",
       "    <tr>\n",
       "      <th>1</th>\n",
       "      <td>1</td>\n",
       "      <td>67.037260</td>\n",
       "      <td>72.0</td>\n",
       "      <td>116.0</td>\n",
       "    </tr>\n",
       "    <tr>\n",
       "      <th>2</th>\n",
       "      <td>1</td>\n",
       "      <td>68.304140</td>\n",
       "      <td>100.0</td>\n",
       "      <td>145.0</td>\n",
       "    </tr>\n",
       "    <tr>\n",
       "      <th>3</th>\n",
       "      <td>1</td>\n",
       "      <td>68.347339</td>\n",
       "      <td>89.0</td>\n",
       "      <td>155.0</td>\n",
       "    </tr>\n",
       "    <tr>\n",
       "      <th>4</th>\n",
       "      <td>1</td>\n",
       "      <td>68.781623</td>\n",
       "      <td>72.0</td>\n",
       "      <td>143.0</td>\n",
       "    </tr>\n",
       "  </tbody>\n",
       "</table>\n",
       "</div>"
      ],
      "text/plain": [
       "   Internalpatientid  Age at measurement bp  Diastolic bp  Systolic bp\n",
       "0                  1              61.554040          75.0        140.0\n",
       "1                  1              67.037260          72.0        116.0\n",
       "2                  1              68.304140         100.0        145.0\n",
       "3                  1              68.347339          89.0        155.0\n",
       "4                  1              68.781623          72.0        143.0"
      ]
     },
     "execution_count": 16,
     "metadata": {},
     "output_type": "execute_result"
    }
   ],
   "source": [
    "measurement_bp.head()"
   ]
  },
  {
   "cell_type": "markdown",
   "id": "a12fbec9-65f8-4b07-933f-ce2b2ef25ee6",
   "metadata": {},
   "source": [
    "### Checking Minimum and Maximum for Potential Columns"
   ]
  },
  {
   "cell_type": "code",
   "execution_count": 17,
   "id": "a8380ca0-991e-4aea-b516-f294110a260d",
   "metadata": {},
   "outputs": [
    {
     "name": "stdout",
     "output_type": "stream",
     "text": [
      "Systolic bp:\n",
      "Maximum value: 312.0\n",
      "Minimum value: 40.0\n",
      "--------------------\n",
      "Diastolic bp:\n",
      "Maximum value: 208.0\n",
      "Minimum value: 29.0\n"
     ]
    }
   ],
   "source": [
    "# Checking maximum and minimum values for Systolic and Diastolic bp columns\n",
    "max_systolic_bp = measurement_bp['Systolic bp'].max()\n",
    "min_systolic_bp = measurement_bp['Systolic bp'].min()\n",
    "\n",
    "max_diastolic_bp = measurement_bp['Diastolic bp'].max()\n",
    "min_diastolic_bp = measurement_bp['Diastolic bp'].min()\n",
    "\n",
    "print(\"Systolic bp:\")\n",
    "print(f\"Maximum value: {max_systolic_bp}\")\n",
    "print(f\"Minimum value: {min_systolic_bp}\")\n",
    "print(\"--------------------\")\n",
    "print(\"Diastolic bp:\")\n",
    "print(f\"Maximum value: {max_diastolic_bp}\")\n",
    "print(f\"Minimum value: {min_diastolic_bp}\")"
   ]
  },
  {
   "cell_type": "markdown",
   "id": "233db7f2-1ced-44a4-9b9b-e777788f1668",
   "metadata": {},
   "source": [
    "### Removing Outliers in Systolic and Diastolic bp"
   ]
  },
  {
   "cell_type": "code",
   "execution_count": 18,
   "id": "d08ea89b-57fe-4f6d-8075-46967ce9c3d8",
   "metadata": {},
   "outputs": [
    {
     "data": {
      "text/html": [
       "<div>\n",
       "<style scoped>\n",
       "    .dataframe tbody tr th:only-of-type {\n",
       "        vertical-align: middle;\n",
       "    }\n",
       "\n",
       "    .dataframe tbody tr th {\n",
       "        vertical-align: top;\n",
       "    }\n",
       "\n",
       "    .dataframe thead th {\n",
       "        text-align: right;\n",
       "    }\n",
       "</style>\n",
       "<table border=\"1\" class=\"dataframe\">\n",
       "  <thead>\n",
       "    <tr style=\"text-align: right;\">\n",
       "      <th></th>\n",
       "      <th>Internalpatientid</th>\n",
       "      <th>Age at measurement bp</th>\n",
       "      <th>Diastolic bp</th>\n",
       "      <th>Systolic bp</th>\n",
       "    </tr>\n",
       "  </thead>\n",
       "  <tbody>\n",
       "    <tr>\n",
       "      <th>0</th>\n",
       "      <td>1</td>\n",
       "      <td>61.554040</td>\n",
       "      <td>75.0</td>\n",
       "      <td>140.0</td>\n",
       "    </tr>\n",
       "    <tr>\n",
       "      <th>1</th>\n",
       "      <td>1</td>\n",
       "      <td>67.037260</td>\n",
       "      <td>72.0</td>\n",
       "      <td>116.0</td>\n",
       "    </tr>\n",
       "    <tr>\n",
       "      <th>2</th>\n",
       "      <td>1</td>\n",
       "      <td>68.304140</td>\n",
       "      <td>100.0</td>\n",
       "      <td>145.0</td>\n",
       "    </tr>\n",
       "    <tr>\n",
       "      <th>3</th>\n",
       "      <td>1</td>\n",
       "      <td>68.347339</td>\n",
       "      <td>89.0</td>\n",
       "      <td>155.0</td>\n",
       "    </tr>\n",
       "    <tr>\n",
       "      <th>4</th>\n",
       "      <td>1</td>\n",
       "      <td>68.781623</td>\n",
       "      <td>72.0</td>\n",
       "      <td>143.0</td>\n",
       "    </tr>\n",
       "    <tr>\n",
       "      <th>...</th>\n",
       "      <td>...</td>\n",
       "      <td>...</td>\n",
       "      <td>...</td>\n",
       "      <td>...</td>\n",
       "    </tr>\n",
       "    <tr>\n",
       "      <th>21201155</th>\n",
       "      <td>99999</td>\n",
       "      <td>96.324828</td>\n",
       "      <td>62.0</td>\n",
       "      <td>147.0</td>\n",
       "    </tr>\n",
       "    <tr>\n",
       "      <th>21201156</th>\n",
       "      <td>99999</td>\n",
       "      <td>96.326070</td>\n",
       "      <td>57.0</td>\n",
       "      <td>123.0</td>\n",
       "    </tr>\n",
       "    <tr>\n",
       "      <th>21201157</th>\n",
       "      <td>99999</td>\n",
       "      <td>96.331619</td>\n",
       "      <td>68.0</td>\n",
       "      <td>154.0</td>\n",
       "    </tr>\n",
       "    <tr>\n",
       "      <th>21201158</th>\n",
       "      <td>99999</td>\n",
       "      <td>96.357136</td>\n",
       "      <td>79.0</td>\n",
       "      <td>147.0</td>\n",
       "    </tr>\n",
       "    <tr>\n",
       "      <th>21201159</th>\n",
       "      <td>99999</td>\n",
       "      <td>96.363892</td>\n",
       "      <td>52.0</td>\n",
       "      <td>119.0</td>\n",
       "    </tr>\n",
       "  </tbody>\n",
       "</table>\n",
       "<p>21201160 rows × 4 columns</p>\n",
       "</div>"
      ],
      "text/plain": [
       "          Internalpatientid  Age at measurement bp  Diastolic bp  Systolic bp\n",
       "0                         1              61.554040          75.0        140.0\n",
       "1                         1              67.037260          72.0        116.0\n",
       "2                         1              68.304140         100.0        145.0\n",
       "3                         1              68.347339          89.0        155.0\n",
       "4                         1              68.781623          72.0        143.0\n",
       "...                     ...                    ...           ...          ...\n",
       "21201155              99999              96.324828          62.0        147.0\n",
       "21201156              99999              96.326070          57.0        123.0\n",
       "21201157              99999              96.331619          68.0        154.0\n",
       "21201158              99999              96.357136          79.0        147.0\n",
       "21201159              99999              96.363892          52.0        119.0\n",
       "\n",
       "[21201160 rows x 4 columns]"
      ]
     },
     "execution_count": 18,
     "metadata": {},
     "output_type": "execute_result"
    }
   ],
   "source": [
    "# Apply the filters for 'Diastolic bp' and 'Systolic bp'\n",
    "filtered_data = measurement_bp[(measurement_bp['Diastolic bp'] >= 50) & (measurement_bp['Diastolic bp'] <= 150) & (measurement_bp['Systolic bp'] >= 80) & (measurement_bp['Systolic bp'] <= 200)]\n",
    "\n",
    "# Reset the index of the filtered data\n",
    "filtered_data_bp = filtered_data.reset_index(drop=True)\n",
    "\n",
    "# Display the final filtered dataframe\n",
    "filtered_data_bp"
   ]
  },
  {
   "cell_type": "code",
   "execution_count": 19,
   "id": "5de9dba5-9fac-4c53-b10c-138cb9d875d8",
   "metadata": {},
   "outputs": [
    {
     "name": "stdout",
     "output_type": "stream",
     "text": [
      "Systolic bp:\n",
      "Maximum value: 200.0\n",
      "Minimum value: 80.0\n",
      "--------------------\n",
      "Diastolic bp:\n",
      "Maximum value: 150.0\n",
      "Minimum value: 50.0\n"
     ]
    }
   ],
   "source": [
    "max_systolic_bp = filtered_data_bp['Systolic bp'].max()\n",
    "min_systolic_bp = filtered_data_bp['Systolic bp'].min()\n",
    "\n",
    "max_diastolic_bp = filtered_data_bp['Diastolic bp'].max()\n",
    "min_diastolic_bp = filtered_data_bp['Diastolic bp'].min()\n",
    "\n",
    "print(\"Systolic bp:\")\n",
    "print(f\"Maximum value: {max_systolic_bp}\")\n",
    "print(f\"Minimum value: {min_systolic_bp}\")\n",
    "print(\"--------------------\")\n",
    "print(\"Diastolic bp:\")\n",
    "print(f\"Maximum value: {max_diastolic_bp}\")\n",
    "print(f\"Minimum value: {min_diastolic_bp}\")"
   ]
  },
  {
   "cell_type": "code",
   "execution_count": 20,
   "id": "bed5515a-b8f3-49ed-9ef2-86f6f50cc518",
   "metadata": {},
   "outputs": [
    {
     "data": {
      "text/plain": [
       "132032"
      ]
     },
     "execution_count": 20,
     "metadata": {},
     "output_type": "execute_result"
    }
   ],
   "source": [
    "filtered_data_bp['Internalpatientid'].nunique()"
   ]
  },
  {
   "cell_type": "markdown",
   "id": "ddc2eeaa-6be6-4133-ae40-e0e08f06ff26",
   "metadata": {},
   "source": [
    "### Getting Maximum Age for each 'Internalpatientid'"
   ]
  },
  {
   "cell_type": "code",
   "execution_count": 21,
   "id": "4ff260ff-3d6a-4de4-b035-4d35ae370fe8",
   "metadata": {},
   "outputs": [],
   "source": [
    "# Find the maximum age for each internal patient id\n",
    "max_ages = filtered_data_bp.groupby('Internalpatientid')['Age at measurement bp'].max().reset_index()"
   ]
  },
  {
   "cell_type": "code",
   "execution_count": 22,
   "id": "383cbe2e-ffe5-4d2d-b759-cae3743ca267",
   "metadata": {},
   "outputs": [
    {
     "data": {
      "text/html": [
       "<div>\n",
       "<style scoped>\n",
       "    .dataframe tbody tr th:only-of-type {\n",
       "        vertical-align: middle;\n",
       "    }\n",
       "\n",
       "    .dataframe tbody tr th {\n",
       "        vertical-align: top;\n",
       "    }\n",
       "\n",
       "    .dataframe thead th {\n",
       "        text-align: right;\n",
       "    }\n",
       "</style>\n",
       "<table border=\"1\" class=\"dataframe\">\n",
       "  <thead>\n",
       "    <tr style=\"text-align: right;\">\n",
       "      <th></th>\n",
       "      <th>Internalpatientid</th>\n",
       "      <th>Age at measurement bp</th>\n",
       "      <th>Diastolic bp</th>\n",
       "      <th>Systolic bp</th>\n",
       "    </tr>\n",
       "  </thead>\n",
       "  <tbody>\n",
       "    <tr>\n",
       "      <th>0</th>\n",
       "      <td>100000</td>\n",
       "      <td>67.833933</td>\n",
       "      <td>90.0</td>\n",
       "      <td>152.0</td>\n",
       "    </tr>\n",
       "    <tr>\n",
       "      <th>1</th>\n",
       "      <td>100060</td>\n",
       "      <td>56.340829</td>\n",
       "      <td>73.0</td>\n",
       "      <td>112.0</td>\n",
       "    </tr>\n",
       "    <tr>\n",
       "      <th>2</th>\n",
       "      <td>100062</td>\n",
       "      <td>80.022034</td>\n",
       "      <td>61.0</td>\n",
       "      <td>108.0</td>\n",
       "    </tr>\n",
       "    <tr>\n",
       "      <th>3</th>\n",
       "      <td>100079</td>\n",
       "      <td>90.039410</td>\n",
       "      <td>60.0</td>\n",
       "      <td>111.0</td>\n",
       "    </tr>\n",
       "    <tr>\n",
       "      <th>4</th>\n",
       "      <td>100081</td>\n",
       "      <td>60.925214</td>\n",
       "      <td>62.0</td>\n",
       "      <td>119.0</td>\n",
       "    </tr>\n",
       "    <tr>\n",
       "      <th>...</th>\n",
       "      <td>...</td>\n",
       "      <td>...</td>\n",
       "      <td>...</td>\n",
       "      <td>...</td>\n",
       "    </tr>\n",
       "    <tr>\n",
       "      <th>132027</th>\n",
       "      <td>99928</td>\n",
       "      <td>83.835264</td>\n",
       "      <td>60.0</td>\n",
       "      <td>130.0</td>\n",
       "    </tr>\n",
       "    <tr>\n",
       "      <th>132028</th>\n",
       "      <td>99954</td>\n",
       "      <td>95.538267</td>\n",
       "      <td>62.0</td>\n",
       "      <td>113.0</td>\n",
       "    </tr>\n",
       "    <tr>\n",
       "      <th>132029</th>\n",
       "      <td>99960</td>\n",
       "      <td>74.647564</td>\n",
       "      <td>71.0</td>\n",
       "      <td>128.0</td>\n",
       "    </tr>\n",
       "    <tr>\n",
       "      <th>132030</th>\n",
       "      <td>99977</td>\n",
       "      <td>81.617250</td>\n",
       "      <td>83.0</td>\n",
       "      <td>127.0</td>\n",
       "    </tr>\n",
       "    <tr>\n",
       "      <th>132031</th>\n",
       "      <td>99987</td>\n",
       "      <td>75.472918</td>\n",
       "      <td>55.0</td>\n",
       "      <td>138.0</td>\n",
       "    </tr>\n",
       "  </tbody>\n",
       "</table>\n",
       "<p>132032 rows × 4 columns</p>\n",
       "</div>"
      ],
      "text/plain": [
       "        Internalpatientid  Age at measurement bp  Diastolic bp  Systolic bp\n",
       "0                  100000              67.833933          90.0        152.0\n",
       "1                  100060              56.340829          73.0        112.0\n",
       "2                  100062              80.022034          61.0        108.0\n",
       "3                  100079              90.039410          60.0        111.0\n",
       "4                  100081              60.925214          62.0        119.0\n",
       "...                   ...                    ...           ...          ...\n",
       "132027              99928              83.835264          60.0        130.0\n",
       "132028              99954              95.538267          62.0        113.0\n",
       "132029              99960              74.647564          71.0        128.0\n",
       "132030              99977              81.617250          83.0        127.0\n",
       "132031              99987              75.472918          55.0        138.0\n",
       "\n",
       "[132032 rows x 4 columns]"
      ]
     },
     "execution_count": 22,
     "metadata": {},
     "output_type": "execute_result"
    }
   ],
   "source": [
    "# Merge with the original dataframe to get the rows with the highest age\n",
    "measurement_bp = pd.merge(df, max_ages, on =['Internalpatientid','Age at measurement bp'], how = 'inner')\n",
    "\n",
    "measurement_bp"
   ]
  },
  {
   "cell_type": "code",
   "execution_count": 28,
   "id": "77f7e263-b4d3-400b-9bf5-c53196ad61d0",
   "metadata": {},
   "outputs": [
    {
     "data": {
      "text/plain": [
       "132032"
      ]
     },
     "execution_count": 28,
     "metadata": {},
     "output_type": "execute_result"
    }
   ],
   "source": [
    "measurement_bp['Internalpatientid'].nunique()"
   ]
  },
  {
   "cell_type": "code",
   "execution_count": 24,
   "id": "339ec1e1-316a-45a4-8303-e3e0691b2876",
   "metadata": {},
   "outputs": [],
   "source": [
    "# Drop the specified columns from the DataFrame\n",
    "measurement_bp.drop(['Age at measurement bp'], axis=1,inplace=True)"
   ]
  },
  {
   "cell_type": "code",
   "execution_count": 25,
   "id": "f378603c-e3f1-4653-9b8f-73337fd8c7b1",
   "metadata": {},
   "outputs": [
    {
     "data": {
      "text/html": [
       "<div>\n",
       "<style scoped>\n",
       "    .dataframe tbody tr th:only-of-type {\n",
       "        vertical-align: middle;\n",
       "    }\n",
       "\n",
       "    .dataframe tbody tr th {\n",
       "        vertical-align: top;\n",
       "    }\n",
       "\n",
       "    .dataframe thead th {\n",
       "        text-align: right;\n",
       "    }\n",
       "</style>\n",
       "<table border=\"1\" class=\"dataframe\">\n",
       "  <thead>\n",
       "    <tr style=\"text-align: right;\">\n",
       "      <th></th>\n",
       "      <th>Internalpatientid</th>\n",
       "      <th>Diastolic bp</th>\n",
       "      <th>Systolic bp</th>\n",
       "    </tr>\n",
       "  </thead>\n",
       "  <tbody>\n",
       "    <tr>\n",
       "      <th>0</th>\n",
       "      <td>100000</td>\n",
       "      <td>90.0</td>\n",
       "      <td>152.0</td>\n",
       "    </tr>\n",
       "    <tr>\n",
       "      <th>1</th>\n",
       "      <td>100060</td>\n",
       "      <td>73.0</td>\n",
       "      <td>112.0</td>\n",
       "    </tr>\n",
       "    <tr>\n",
       "      <th>2</th>\n",
       "      <td>100062</td>\n",
       "      <td>61.0</td>\n",
       "      <td>108.0</td>\n",
       "    </tr>\n",
       "    <tr>\n",
       "      <th>3</th>\n",
       "      <td>100079</td>\n",
       "      <td>60.0</td>\n",
       "      <td>111.0</td>\n",
       "    </tr>\n",
       "    <tr>\n",
       "      <th>4</th>\n",
       "      <td>100081</td>\n",
       "      <td>62.0</td>\n",
       "      <td>119.0</td>\n",
       "    </tr>\n",
       "    <tr>\n",
       "      <th>...</th>\n",
       "      <td>...</td>\n",
       "      <td>...</td>\n",
       "      <td>...</td>\n",
       "    </tr>\n",
       "    <tr>\n",
       "      <th>132027</th>\n",
       "      <td>99928</td>\n",
       "      <td>60.0</td>\n",
       "      <td>130.0</td>\n",
       "    </tr>\n",
       "    <tr>\n",
       "      <th>132028</th>\n",
       "      <td>99954</td>\n",
       "      <td>62.0</td>\n",
       "      <td>113.0</td>\n",
       "    </tr>\n",
       "    <tr>\n",
       "      <th>132029</th>\n",
       "      <td>99960</td>\n",
       "      <td>71.0</td>\n",
       "      <td>128.0</td>\n",
       "    </tr>\n",
       "    <tr>\n",
       "      <th>132030</th>\n",
       "      <td>99977</td>\n",
       "      <td>83.0</td>\n",
       "      <td>127.0</td>\n",
       "    </tr>\n",
       "    <tr>\n",
       "      <th>132031</th>\n",
       "      <td>99987</td>\n",
       "      <td>55.0</td>\n",
       "      <td>138.0</td>\n",
       "    </tr>\n",
       "  </tbody>\n",
       "</table>\n",
       "<p>132032 rows × 3 columns</p>\n",
       "</div>"
      ],
      "text/plain": [
       "        Internalpatientid  Diastolic bp  Systolic bp\n",
       "0                  100000          90.0        152.0\n",
       "1                  100060          73.0        112.0\n",
       "2                  100062          61.0        108.0\n",
       "3                  100079          60.0        111.0\n",
       "4                  100081          62.0        119.0\n",
       "...                   ...           ...          ...\n",
       "132027              99928          60.0        130.0\n",
       "132028              99954          62.0        113.0\n",
       "132029              99960          71.0        128.0\n",
       "132030              99977          83.0        127.0\n",
       "132031              99987          55.0        138.0\n",
       "\n",
       "[132032 rows x 3 columns]"
      ]
     },
     "execution_count": 25,
     "metadata": {},
     "output_type": "execute_result"
    }
   ],
   "source": [
    "measurement_bp"
   ]
  },
  {
   "cell_type": "markdown",
   "id": "82658833-0594-421b-836b-9c9209733317",
   "metadata": {},
   "source": [
    "### **Saving Measurement blood pressure file**"
   ]
  },
  {
   "cell_type": "code",
   "execution_count": 29,
   "id": "18ca6869-fc0f-4d50-9243-8e456934bcdc",
   "metadata": {},
   "outputs": [
    {
     "data": {
      "text/plain": [
       "'/mnt/batch/tasks/shared/LS_root/mounts/clusters/team3-lavanya-gpu2/code/Users/2211574/Best_Files'"
      ]
     },
     "execution_count": 29,
     "metadata": {},
     "output_type": "execute_result"
    }
   ],
   "source": [
    "import os\n",
    "cwd = os.getcwd()\n",
    "cwd"
   ]
  },
  {
   "cell_type": "code",
   "execution_count": 30,
   "id": "cddc2101-3cf9-45e8-86aa-f77cd9637968",
   "metadata": {},
   "outputs": [],
   "source": [
    "measurement_bp.to_csv('/mnt/batch/tasks/shared/LS_root/mounts/clusters/team3-lavanya-gpu2/code/Users/900379/Output_files_train/Potential_files_train/df_measurements_blood_pressure_train_v1.csv')"
   ]
  },
  {
   "cell_type": "markdown",
   "id": "c335f6b4",
   "metadata": {},
   "source": [
    "------"
   ]
  },
  {
   "cell_type": "code",
   "execution_count": null,
   "id": "9ff1fce1-5e7d-4f66-90da-96faacbb7fe1",
   "metadata": {},
   "outputs": [],
   "source": []
  }
 ],
 "metadata": {
  "kernelspec": {
   "display_name": "Python 3.8 - AzureML",
   "language": "python",
   "name": "python38-azureml"
  },
  "language_info": {
   "codemirror_mode": {
    "name": "ipython",
    "version": 3
   },
   "file_extension": ".py",
   "mimetype": "text/x-python",
   "name": "python",
   "nbconvert_exporter": "python",
   "pygments_lexer": "ipython3",
   "version": "3.8.5"
  }
 },
 "nbformat": 4,
 "nbformat_minor": 5
}
