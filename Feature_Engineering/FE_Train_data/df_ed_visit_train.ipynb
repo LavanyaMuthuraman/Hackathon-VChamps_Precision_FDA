{
  "cells": [
    {
      "cell_type": "code",
      "source": [
        "from azureml.core import Workspace, Dataset\r\n",
        "\r\n",
        "subscription_id = 'bcfe0c62-8ebe-4df0-a46d-1efcf8739a5b'\r\n",
        "resource_group = 'VChamp-Team3'\r\n",
        "workspace_name = 'vchamp-team3'\r\n",
        "\r\n",
        "\r\n",
        "# storage account : Algorithmia, Resource group: VChamp-Team3 and workspace: vchamp-team3.\r\n",
        "\r\n",
        "workspace = Workspace(subscription_id, resource_group, workspace_name)"
      ],
      "outputs": [],
      "execution_count": 1,
      "metadata": {
        "gather": {
          "logged": 1688623779528
        }
      }
    },
    {
      "cell_type": "code",
      "source": [
        "#['data_team3_synthetic_quality_check']\r\n",
        "datastore = workspace.datastores['data_team3_synthetic_train']"
      ],
      "outputs": [],
      "execution_count": 2,
      "metadata": {
        "jupyter": {
          "source_hidden": false,
          "outputs_hidden": false
        },
        "nteract": {
          "transient": {
            "deleting": false
          }
        },
        "gather": {
          "logged": 1688623782675
        }
      }
    },
    {
      "cell_type": "code",
      "source": [
        "dataset = Dataset.Tabular.from_delimited_files(path = [(datastore, 'ed_visits_train.csv')])\r\n",
        "\r\n",
        "# preview the first 3 rows of the dataset\r\n",
        "# dataset.to_pandas_dataframe()"
      ],
      "outputs": [],
      "execution_count": 3,
      "metadata": {
        "jupyter": {
          "source_hidden": false,
          "outputs_hidden": false
        },
        "nteract": {
          "transient": {
            "deleting": false
          }
        },
        "gather": {
          "logged": 1688623788244
        }
      }
    },
    {
      "cell_type": "code",
      "source": [
        "ed_visit = dataset.to_pandas_dataframe()"
      ],
      "outputs": [],
      "execution_count": 4,
      "metadata": {
        "jupyter": {
          "source_hidden": false,
          "outputs_hidden": false
        },
        "nteract": {
          "transient": {
            "deleting": false
          }
        },
        "gather": {
          "logged": 1688623793610
        }
      }
    },
    {
      "cell_type": "code",
      "source": [
        "type(ed_visit)"
      ],
      "outputs": [
        {
          "output_type": "execute_result",
          "execution_count": 5,
          "data": {
            "text/plain": "pandas.core.frame.DataFrame"
          },
          "metadata": {}
        }
      ],
      "execution_count": 5,
      "metadata": {
        "jupyter": {
          "source_hidden": false,
          "outputs_hidden": false
        },
        "nteract": {
          "transient": {
            "deleting": false
          }
        },
        "gather": {
          "logged": 1688623796300
        }
      }
    },
    {
      "cell_type": "code",
      "source": [
        "ed_visit.head()"
      ],
      "outputs": [
        {
          "output_type": "execute_result",
          "execution_count": 6,
          "data": {
            "text/plain": "   Column1  Internalpatientid  Age at ed visit Ed visit start date  \\\n0        0             101689        64.361251 2021-08-26 00:53:30   \n1        3             107210        71.317300 2022-05-18 11:21:28   \n2        4             107866        61.164579 2017-06-26 15:41:11   \n3        5             107906        66.101996 2017-02-17 06:42:34   \n4        6             108522        73.598130 2018-09-30 02:47:49   \n\n    Discharge date ed  Died during ed visit  \\\n0 2021-08-26 04:24:27                 False   \n1 2022-05-18 18:30:21                 False   \n2 2017-06-26 23:33:50                 False   \n3 2017-02-17 08:08:28                 False   \n4 2018-09-30 04:28:57                 False   \n\n            First listed diagnosis icd10 subcategory  \\\n0                Systolic (congestive) heart failure   \n1                       Sepsis, unspecified organism   \n2   Other nonspecific abnormal finding of lung field   \n3                                            Dysuria   \n4  Type 2 diabetes mellitus with circulatory comp...   \n\n           Second listed diagnosis icd10 subcategory          State  \n0                Chronic kidney disease, unspecified       Virginia  \n1                           Hypotension, unspecified  West Virginia  \n2                           Hypotension, unspecified   Pennsylvania  \n3                Chronic kidney disease, unspecified       New York  \n4  Type 2 diabetes mellitus with unspecified comp...       Illinois  ",
            "text/html": "<div>\n<style scoped>\n    .dataframe tbody tr th:only-of-type {\n        vertical-align: middle;\n    }\n\n    .dataframe tbody tr th {\n        vertical-align: top;\n    }\n\n    .dataframe thead th {\n        text-align: right;\n    }\n</style>\n<table border=\"1\" class=\"dataframe\">\n  <thead>\n    <tr style=\"text-align: right;\">\n      <th></th>\n      <th>Column1</th>\n      <th>Internalpatientid</th>\n      <th>Age at ed visit</th>\n      <th>Ed visit start date</th>\n      <th>Discharge date ed</th>\n      <th>Died during ed visit</th>\n      <th>First listed diagnosis icd10 subcategory</th>\n      <th>Second listed diagnosis icd10 subcategory</th>\n      <th>State</th>\n    </tr>\n  </thead>\n  <tbody>\n    <tr>\n      <th>0</th>\n      <td>0</td>\n      <td>101689</td>\n      <td>64.361251</td>\n      <td>2021-08-26 00:53:30</td>\n      <td>2021-08-26 04:24:27</td>\n      <td>False</td>\n      <td>Systolic (congestive) heart failure</td>\n      <td>Chronic kidney disease, unspecified</td>\n      <td>Virginia</td>\n    </tr>\n    <tr>\n      <th>1</th>\n      <td>3</td>\n      <td>107210</td>\n      <td>71.317300</td>\n      <td>2022-05-18 11:21:28</td>\n      <td>2022-05-18 18:30:21</td>\n      <td>False</td>\n      <td>Sepsis, unspecified organism</td>\n      <td>Hypotension, unspecified</td>\n      <td>West Virginia</td>\n    </tr>\n    <tr>\n      <th>2</th>\n      <td>4</td>\n      <td>107866</td>\n      <td>61.164579</td>\n      <td>2017-06-26 15:41:11</td>\n      <td>2017-06-26 23:33:50</td>\n      <td>False</td>\n      <td>Other nonspecific abnormal finding of lung field</td>\n      <td>Hypotension, unspecified</td>\n      <td>Pennsylvania</td>\n    </tr>\n    <tr>\n      <th>3</th>\n      <td>5</td>\n      <td>107906</td>\n      <td>66.101996</td>\n      <td>2017-02-17 06:42:34</td>\n      <td>2017-02-17 08:08:28</td>\n      <td>False</td>\n      <td>Dysuria</td>\n      <td>Chronic kidney disease, unspecified</td>\n      <td>New York</td>\n    </tr>\n    <tr>\n      <th>4</th>\n      <td>6</td>\n      <td>108522</td>\n      <td>73.598130</td>\n      <td>2018-09-30 02:47:49</td>\n      <td>2018-09-30 04:28:57</td>\n      <td>False</td>\n      <td>Type 2 diabetes mellitus with circulatory comp...</td>\n      <td>Type 2 diabetes mellitus with unspecified comp...</td>\n      <td>Illinois</td>\n    </tr>\n  </tbody>\n</table>\n</div>"
          },
          "metadata": {}
        }
      ],
      "execution_count": 6,
      "metadata": {
        "jupyter": {
          "source_hidden": false,
          "outputs_hidden": false
        },
        "nteract": {
          "transient": {
            "deleting": false
          }
        },
        "gather": {
          "logged": 1688623799222
        }
      }
    },
    {
      "cell_type": "code",
      "source": [
        "import pandas as pd"
      ],
      "outputs": [],
      "execution_count": 7,
      "metadata": {
        "jupyter": {
          "source_hidden": false,
          "outputs_hidden": false
        },
        "nteract": {
          "transient": {
            "deleting": false
          }
        },
        "gather": {
          "logged": 1688623802209
        }
      }
    },
    {
      "cell_type": "markdown",
      "source": [
        "**For getting the value counts of the internal patientid**"
      ],
      "metadata": {
        "nteract": {
          "transient": {
            "deleting": false
          }
        }
      }
    },
    {
      "cell_type": "code",
      "source": [
        "ed_visit['Internalpatientid'].value_counts()"
      ],
      "outputs": [
        {
          "output_type": "execute_result",
          "execution_count": 8,
          "data": {
            "text/plain": "148848    351\n66835     334\n62280     288\n97698     264\n118934    260\n         ... \n130647      1\n1254        1\n91932       1\n63932       1\n130234      1\nName: Internalpatientid, Length: 58240, dtype: int64"
          },
          "metadata": {}
        }
      ],
      "execution_count": 8,
      "metadata": {
        "jupyter": {
          "source_hidden": false,
          "outputs_hidden": false
        },
        "nteract": {
          "transient": {
            "deleting": false
          }
        },
        "gather": {
          "logged": 1688623803649
        }
      }
    },
    {
      "cell_type": "markdown",
      "source": [
        "**Code for sending the counts dataframe to specified location**"
      ],
      "metadata": {
        "nteract": {
          "transient": {
            "deleting": false
          }
        }
      }
    },
    {
      "cell_type": "code",
      "source": [
        "#ed_visit_value_counts = ed_visit['Internalpatientid'].value_counts().to_frame()\r\n",
        "#ed_visit_value_counts = ed_visit_value_counts.reset_index()\r\n",
        "#ed_visit_value_counts.columns=['Internalpatientid','counts for ed_visit']\r\n",
        "#import os\r\n",
        "#cwd = os.getcwd()\r\n",
        "#cwd\r\n",
        "#df.to_csv('Path where you want to store the exported CSV file/File Name.csv')\r\n",
        "#ed_visit_value_counts.to_csv('/mnt/batch/tasks/shared/LS_root/mounts/clusters/team3-nisha-gpu/code/Users/900379/Counts/Counts for ed_visit.csv')"
      ],
      "outputs": [],
      "execution_count": 8,
      "metadata": {
        "jupyter": {
          "source_hidden": false,
          "outputs_hidden": false
        },
        "nteract": {
          "transient": {
            "deleting": false
          }
        },
        "gather": {
          "logged": 1688556123369
        }
      }
    },
    {
      "cell_type": "code",
      "source": [
        "ed_visit.nunique()"
      ],
      "outputs": [
        {
          "output_type": "execute_result",
          "execution_count": 9,
          "data": {
            "text/plain": "Column1                                      549857\nInternalpatientid                             58240\nAge at ed visit                              549733\nEd visit start date                          549068\nDischarge date ed                            549428\nDied during ed visit                              2\nFirst listed diagnosis icd10 subcategory       3645\nSecond listed diagnosis icd10 subcategory      3060\nState                                            48\ndtype: int64"
          },
          "metadata": {}
        }
      ],
      "execution_count": 9,
      "metadata": {
        "jupyter": {
          "source_hidden": false,
          "outputs_hidden": false
        },
        "nteract": {
          "transient": {
            "deleting": false
          }
        },
        "gather": {
          "logged": 1688623807653
        }
      }
    },
    {
      "cell_type": "markdown",
      "source": [
        "**Remvoing the unnecessary columns.**"
      ],
      "metadata": {
        "nteract": {
          "transient": {
            "deleting": false
          }
        }
      }
    },
    {
      "cell_type": "code",
      "source": [
        "ed_visit.drop(['Column1','Ed visit start date','Discharge date ed','State','Died during ed visit'], axis = 1,inplace = True)\r\n",
        "ed_visit"
      ],
      "outputs": [
        {
          "output_type": "execute_result",
          "execution_count": 10,
          "data": {
            "text/plain": "        Internalpatientid  Age at ed visit  \\\n0                  101689        64.361251   \n1                  107210        71.317300   \n2                  107866        61.164579   \n3                  107906        66.101996   \n4                  108522        73.598130   \n...                   ...              ...   \n549852              99934        83.538682   \n549853              99936        71.860371   \n549854              99987        67.470347   \n549855               9999        62.070707   \n549856              99994        82.910109   \n\n                 First listed diagnosis icd10 subcategory  \\\n0                     Systolic (congestive) heart failure   \n1                            Sepsis, unspecified organism   \n2        Other nonspecific abnormal finding of lung field   \n3                                                 Dysuria   \n4       Type 2 diabetes mellitus with circulatory comp...   \n...                                                   ...   \n549852         Pain in limb, hand, foot, fingers and toes   \n549853                                      Pain in joint   \n549854                                      Not specified   \n549855                                      Not specified   \n549856                                      Not specified   \n\n                Second listed diagnosis icd10 subcategory  \n0                     Chronic kidney disease, unspecified  \n1                                Hypotension, unspecified  \n2                                Hypotension, unspecified  \n3                     Chronic kidney disease, unspecified  \n4       Type 2 diabetes mellitus with unspecified comp...  \n...                                                   ...  \n549852                                      Not specified  \n549853                                      Not specified  \n549854                                      Not specified  \n549855                                      Not specified  \n549856                                      Not specified  \n\n[549857 rows x 4 columns]",
            "text/html": "<div>\n<style scoped>\n    .dataframe tbody tr th:only-of-type {\n        vertical-align: middle;\n    }\n\n    .dataframe tbody tr th {\n        vertical-align: top;\n    }\n\n    .dataframe thead th {\n        text-align: right;\n    }\n</style>\n<table border=\"1\" class=\"dataframe\">\n  <thead>\n    <tr style=\"text-align: right;\">\n      <th></th>\n      <th>Internalpatientid</th>\n      <th>Age at ed visit</th>\n      <th>First listed diagnosis icd10 subcategory</th>\n      <th>Second listed diagnosis icd10 subcategory</th>\n    </tr>\n  </thead>\n  <tbody>\n    <tr>\n      <th>0</th>\n      <td>101689</td>\n      <td>64.361251</td>\n      <td>Systolic (congestive) heart failure</td>\n      <td>Chronic kidney disease, unspecified</td>\n    </tr>\n    <tr>\n      <th>1</th>\n      <td>107210</td>\n      <td>71.317300</td>\n      <td>Sepsis, unspecified organism</td>\n      <td>Hypotension, unspecified</td>\n    </tr>\n    <tr>\n      <th>2</th>\n      <td>107866</td>\n      <td>61.164579</td>\n      <td>Other nonspecific abnormal finding of lung field</td>\n      <td>Hypotension, unspecified</td>\n    </tr>\n    <tr>\n      <th>3</th>\n      <td>107906</td>\n      <td>66.101996</td>\n      <td>Dysuria</td>\n      <td>Chronic kidney disease, unspecified</td>\n    </tr>\n    <tr>\n      <th>4</th>\n      <td>108522</td>\n      <td>73.598130</td>\n      <td>Type 2 diabetes mellitus with circulatory comp...</td>\n      <td>Type 2 diabetes mellitus with unspecified comp...</td>\n    </tr>\n    <tr>\n      <th>...</th>\n      <td>...</td>\n      <td>...</td>\n      <td>...</td>\n      <td>...</td>\n    </tr>\n    <tr>\n      <th>549852</th>\n      <td>99934</td>\n      <td>83.538682</td>\n      <td>Pain in limb, hand, foot, fingers and toes</td>\n      <td>Not specified</td>\n    </tr>\n    <tr>\n      <th>549853</th>\n      <td>99936</td>\n      <td>71.860371</td>\n      <td>Pain in joint</td>\n      <td>Not specified</td>\n    </tr>\n    <tr>\n      <th>549854</th>\n      <td>99987</td>\n      <td>67.470347</td>\n      <td>Not specified</td>\n      <td>Not specified</td>\n    </tr>\n    <tr>\n      <th>549855</th>\n      <td>9999</td>\n      <td>62.070707</td>\n      <td>Not specified</td>\n      <td>Not specified</td>\n    </tr>\n    <tr>\n      <th>549856</th>\n      <td>99994</td>\n      <td>82.910109</td>\n      <td>Not specified</td>\n      <td>Not specified</td>\n    </tr>\n  </tbody>\n</table>\n<p>549857 rows × 4 columns</p>\n</div>"
          },
          "metadata": {}
        }
      ],
      "execution_count": 10,
      "metadata": {
        "jupyter": {
          "source_hidden": false,
          "outputs_hidden": false
        },
        "nteract": {
          "transient": {
            "deleting": false
          }
        },
        "gather": {
          "logged": 1688623810478
        }
      }
    },
    {
      "cell_type": "markdown",
      "source": [
        "**Two -level of sorting first by \"Internalpatientid\" then \"Age at ed visit\".**"
      ],
      "metadata": {
        "nteract": {
          "transient": {
            "deleting": false
          }
        }
      }
    },
    {
      "cell_type": "code",
      "source": [
        "sorted_df = ed_visit.sort_values(by=['Internalpatientid','Age at ed visit'])"
      ],
      "outputs": [],
      "execution_count": 11,
      "metadata": {
        "jupyter": {
          "source_hidden": false,
          "outputs_hidden": false
        },
        "nteract": {
          "transient": {
            "deleting": false
          }
        },
        "gather": {
          "logged": 1688623815530
        }
      }
    },
    {
      "cell_type": "code",
      "source": [
        "sorted_df"
      ],
      "outputs": [
        {
          "output_type": "execute_result",
          "execution_count": 12,
          "data": {
            "text/plain": "        Internalpatientid  Age at ed visit  \\\n22303                   1        69.519796   \n22304                   1        69.717834   \n41220                   1        72.042763   \n22305                   1        72.298137   \n6096                    1        74.706996   \n...                   ...              ...   \n257251             169060        71.004895   \n224868             169060        71.075561   \n244888             169060        71.138725   \n86152              169060        71.291589   \n207252             169064        84.871363   \n\n                 First listed diagnosis icd10 subcategory  \\\n22303                                       Not specified   \n22304                                       Not specified   \n41220                                       Not specified   \n22305                                       Not specified   \n6096                      Disorders of calcium metabolism   \n...                                                   ...   \n257251                         Heart failure, unspecified   \n224868               Diastolic (congestive) heart failure   \n244888                                            Dyspnea   \n86152   Combined systolic (congestive) and diastolic (...   \n207252                                      Not specified   \n\n       Second listed diagnosis icd10 subcategory  \n22303                              Not specified  \n22304                              Not specified  \n41220                              Not specified  \n22305                              Not specified  \n6096                               Not specified  \n...                                          ...  \n257251                             Not specified  \n224868   Encounter for other general examination  \n244888                             Not specified  \n86152                              Not specified  \n207252                             Not specified  \n\n[549857 rows x 4 columns]",
            "text/html": "<div>\n<style scoped>\n    .dataframe tbody tr th:only-of-type {\n        vertical-align: middle;\n    }\n\n    .dataframe tbody tr th {\n        vertical-align: top;\n    }\n\n    .dataframe thead th {\n        text-align: right;\n    }\n</style>\n<table border=\"1\" class=\"dataframe\">\n  <thead>\n    <tr style=\"text-align: right;\">\n      <th></th>\n      <th>Internalpatientid</th>\n      <th>Age at ed visit</th>\n      <th>First listed diagnosis icd10 subcategory</th>\n      <th>Second listed diagnosis icd10 subcategory</th>\n    </tr>\n  </thead>\n  <tbody>\n    <tr>\n      <th>22303</th>\n      <td>1</td>\n      <td>69.519796</td>\n      <td>Not specified</td>\n      <td>Not specified</td>\n    </tr>\n    <tr>\n      <th>22304</th>\n      <td>1</td>\n      <td>69.717834</td>\n      <td>Not specified</td>\n      <td>Not specified</td>\n    </tr>\n    <tr>\n      <th>41220</th>\n      <td>1</td>\n      <td>72.042763</td>\n      <td>Not specified</td>\n      <td>Not specified</td>\n    </tr>\n    <tr>\n      <th>22305</th>\n      <td>1</td>\n      <td>72.298137</td>\n      <td>Not specified</td>\n      <td>Not specified</td>\n    </tr>\n    <tr>\n      <th>6096</th>\n      <td>1</td>\n      <td>74.706996</td>\n      <td>Disorders of calcium metabolism</td>\n      <td>Not specified</td>\n    </tr>\n    <tr>\n      <th>...</th>\n      <td>...</td>\n      <td>...</td>\n      <td>...</td>\n      <td>...</td>\n    </tr>\n    <tr>\n      <th>257251</th>\n      <td>169060</td>\n      <td>71.004895</td>\n      <td>Heart failure, unspecified</td>\n      <td>Not specified</td>\n    </tr>\n    <tr>\n      <th>224868</th>\n      <td>169060</td>\n      <td>71.075561</td>\n      <td>Diastolic (congestive) heart failure</td>\n      <td>Encounter for other general examination</td>\n    </tr>\n    <tr>\n      <th>244888</th>\n      <td>169060</td>\n      <td>71.138725</td>\n      <td>Dyspnea</td>\n      <td>Not specified</td>\n    </tr>\n    <tr>\n      <th>86152</th>\n      <td>169060</td>\n      <td>71.291589</td>\n      <td>Combined systolic (congestive) and diastolic (...</td>\n      <td>Not specified</td>\n    </tr>\n    <tr>\n      <th>207252</th>\n      <td>169064</td>\n      <td>84.871363</td>\n      <td>Not specified</td>\n      <td>Not specified</td>\n    </tr>\n  </tbody>\n</table>\n<p>549857 rows × 4 columns</p>\n</div>"
          },
          "metadata": {}
        }
      ],
      "execution_count": 12,
      "metadata": {
        "jupyter": {
          "source_hidden": false,
          "outputs_hidden": false
        },
        "nteract": {
          "transient": {
            "deleting": false
          }
        },
        "gather": {
          "logged": 1688623816850
        }
      }
    },
    {
      "cell_type": "code",
      "source": [
        "# Remove the rows where both columns contain \"Not Specified\"\r\n",
        "sorted_df = sorted_df.drop(sorted_df[(sorted_df['First listed diagnosis icd10 subcategory'] == 'Not specified') & (sorted_df['Second listed diagnosis icd10 subcategory'] == 'Not specified')].index)\r\n",
        "sorted_df"
      ],
      "outputs": [
        {
          "output_type": "execute_result",
          "execution_count": 13,
          "data": {
            "text/plain": "        Internalpatientid  Age at ed visit  \\\n6096                    1        74.706996   \n14152                   1        75.515104   \n8716                    1        78.725117   \n139401                  2        63.303968   \n173745                  2        63.754819   \n...                   ...              ...   \n113226             169057        85.802192   \n257251             169060        71.004895   \n224868             169060        71.075561   \n244888             169060        71.138725   \n86152              169060        71.291589   \n\n                 First listed diagnosis icd10 subcategory  \\\n6096                      Disorders of calcium metabolism   \n14152                             Chest pain, unspecified   \n8716    Combined systolic (congestive) and diastolic (...   \n139401                                   Other chest pain   \n173745  Subsequent non-ST elevation (NSTEMI) myocardia...   \n...                                                   ...   \n113226                Systolic (congestive) heart failure   \n257251                         Heart failure, unspecified   \n224868               Diastolic (congestive) heart failure   \n244888                                            Dyspnea   \n86152   Combined systolic (congestive) and diastolic (...   \n\n       Second listed diagnosis icd10 subcategory  \n6096                               Not specified  \n14152                              Not specified  \n8716                            Contusion of hip  \n139401                             Not specified  \n173745                             Not specified  \n...                                          ...  \n113226                             Not specified  \n257251                             Not specified  \n224868   Encounter for other general examination  \n244888                             Not specified  \n86152                              Not specified  \n\n[288125 rows x 4 columns]",
            "text/html": "<div>\n<style scoped>\n    .dataframe tbody tr th:only-of-type {\n        vertical-align: middle;\n    }\n\n    .dataframe tbody tr th {\n        vertical-align: top;\n    }\n\n    .dataframe thead th {\n        text-align: right;\n    }\n</style>\n<table border=\"1\" class=\"dataframe\">\n  <thead>\n    <tr style=\"text-align: right;\">\n      <th></th>\n      <th>Internalpatientid</th>\n      <th>Age at ed visit</th>\n      <th>First listed diagnosis icd10 subcategory</th>\n      <th>Second listed diagnosis icd10 subcategory</th>\n    </tr>\n  </thead>\n  <tbody>\n    <tr>\n      <th>6096</th>\n      <td>1</td>\n      <td>74.706996</td>\n      <td>Disorders of calcium metabolism</td>\n      <td>Not specified</td>\n    </tr>\n    <tr>\n      <th>14152</th>\n      <td>1</td>\n      <td>75.515104</td>\n      <td>Chest pain, unspecified</td>\n      <td>Not specified</td>\n    </tr>\n    <tr>\n      <th>8716</th>\n      <td>1</td>\n      <td>78.725117</td>\n      <td>Combined systolic (congestive) and diastolic (...</td>\n      <td>Contusion of hip</td>\n    </tr>\n    <tr>\n      <th>139401</th>\n      <td>2</td>\n      <td>63.303968</td>\n      <td>Other chest pain</td>\n      <td>Not specified</td>\n    </tr>\n    <tr>\n      <th>173745</th>\n      <td>2</td>\n      <td>63.754819</td>\n      <td>Subsequent non-ST elevation (NSTEMI) myocardia...</td>\n      <td>Not specified</td>\n    </tr>\n    <tr>\n      <th>...</th>\n      <td>...</td>\n      <td>...</td>\n      <td>...</td>\n      <td>...</td>\n    </tr>\n    <tr>\n      <th>113226</th>\n      <td>169057</td>\n      <td>85.802192</td>\n      <td>Systolic (congestive) heart failure</td>\n      <td>Not specified</td>\n    </tr>\n    <tr>\n      <th>257251</th>\n      <td>169060</td>\n      <td>71.004895</td>\n      <td>Heart failure, unspecified</td>\n      <td>Not specified</td>\n    </tr>\n    <tr>\n      <th>224868</th>\n      <td>169060</td>\n      <td>71.075561</td>\n      <td>Diastolic (congestive) heart failure</td>\n      <td>Encounter for other general examination</td>\n    </tr>\n    <tr>\n      <th>244888</th>\n      <td>169060</td>\n      <td>71.138725</td>\n      <td>Dyspnea</td>\n      <td>Not specified</td>\n    </tr>\n    <tr>\n      <th>86152</th>\n      <td>169060</td>\n      <td>71.291589</td>\n      <td>Combined systolic (congestive) and diastolic (...</td>\n      <td>Not specified</td>\n    </tr>\n  </tbody>\n</table>\n<p>288125 rows × 4 columns</p>\n</div>"
          },
          "metadata": {}
        }
      ],
      "execution_count": 13,
      "metadata": {
        "jupyter": {
          "source_hidden": false,
          "outputs_hidden": false
        },
        "nteract": {
          "transient": {
            "deleting": false
          }
        },
        "gather": {
          "logged": 1688623825795
        }
      }
    },
    {
      "cell_type": "code",
      "source": [
        "# Finding the missing values\r\n",
        "sorted_df.isnull().sum()"
      ],
      "outputs": [
        {
          "output_type": "execute_result",
          "execution_count": 14,
          "data": {
            "text/plain": "Internalpatientid                            0\nAge at ed visit                              0\nFirst listed diagnosis icd10 subcategory     0\nSecond listed diagnosis icd10 subcategory    0\ndtype: int64"
          },
          "metadata": {}
        }
      ],
      "execution_count": 14,
      "metadata": {
        "jupyter": {
          "source_hidden": false,
          "outputs_hidden": false
        },
        "nteract": {
          "transient": {
            "deleting": false
          }
        },
        "gather": {
          "logged": 1688623828884
        }
      }
    },
    {
      "cell_type": "markdown",
      "source": [
        "**No null values are present**"
      ],
      "metadata": {
        "nteract": {
          "transient": {
            "deleting": false
          }
        }
      }
    },
    {
      "cell_type": "code",
      "source": [
        "sorted_df.info()"
      ],
      "outputs": [
        {
          "output_type": "stream",
          "name": "stdout",
          "text": "<class 'pandas.core.frame.DataFrame'>\nInt64Index: 288125 entries, 6096 to 86152\nData columns (total 4 columns):\n #   Column                                     Non-Null Count   Dtype  \n---  ------                                     --------------   -----  \n 0   Internalpatientid                          288125 non-null  int64  \n 1   Age at ed visit                            288125 non-null  float64\n 2   First listed diagnosis icd10 subcategory   288125 non-null  object \n 3   Second listed diagnosis icd10 subcategory  288125 non-null  object \ndtypes: float64(1), int64(1), object(2)\nmemory usage: 11.0+ MB\n"
        }
      ],
      "execution_count": 15,
      "metadata": {
        "jupyter": {
          "source_hidden": false,
          "outputs_hidden": false
        },
        "nteract": {
          "transient": {
            "deleting": false
          }
        },
        "gather": {
          "logged": 1688623835613
        }
      }
    },
    {
      "cell_type": "code",
      "source": [
        "# Format 'Age at measurement' values in the format 00.00\r\n",
        "sorted_df[\"Age at ed visit\"] = sorted_df[\"Age at ed visit\"].map(\"{:.2f}\".format)\r\n",
        "sorted_df"
      ],
      "outputs": [
        {
          "output_type": "execute_result",
          "execution_count": 16,
          "data": {
            "text/plain": "        Internalpatientid Age at ed visit  \\\n6096                    1           74.71   \n14152                   1           75.52   \n8716                    1           78.73   \n139401                  2           63.30   \n173745                  2           63.75   \n...                   ...             ...   \n113226             169057           85.80   \n257251             169060           71.00   \n224868             169060           71.08   \n244888             169060           71.14   \n86152              169060           71.29   \n\n                 First listed diagnosis icd10 subcategory  \\\n6096                      Disorders of calcium metabolism   \n14152                             Chest pain, unspecified   \n8716    Combined systolic (congestive) and diastolic (...   \n139401                                   Other chest pain   \n173745  Subsequent non-ST elevation (NSTEMI) myocardia...   \n...                                                   ...   \n113226                Systolic (congestive) heart failure   \n257251                         Heart failure, unspecified   \n224868               Diastolic (congestive) heart failure   \n244888                                            Dyspnea   \n86152   Combined systolic (congestive) and diastolic (...   \n\n       Second listed diagnosis icd10 subcategory  \n6096                               Not specified  \n14152                              Not specified  \n8716                            Contusion of hip  \n139401                             Not specified  \n173745                             Not specified  \n...                                          ...  \n113226                             Not specified  \n257251                             Not specified  \n224868   Encounter for other general examination  \n244888                             Not specified  \n86152                              Not specified  \n\n[288125 rows x 4 columns]",
            "text/html": "<div>\n<style scoped>\n    .dataframe tbody tr th:only-of-type {\n        vertical-align: middle;\n    }\n\n    .dataframe tbody tr th {\n        vertical-align: top;\n    }\n\n    .dataframe thead th {\n        text-align: right;\n    }\n</style>\n<table border=\"1\" class=\"dataframe\">\n  <thead>\n    <tr style=\"text-align: right;\">\n      <th></th>\n      <th>Internalpatientid</th>\n      <th>Age at ed visit</th>\n      <th>First listed diagnosis icd10 subcategory</th>\n      <th>Second listed diagnosis icd10 subcategory</th>\n    </tr>\n  </thead>\n  <tbody>\n    <tr>\n      <th>6096</th>\n      <td>1</td>\n      <td>74.71</td>\n      <td>Disorders of calcium metabolism</td>\n      <td>Not specified</td>\n    </tr>\n    <tr>\n      <th>14152</th>\n      <td>1</td>\n      <td>75.52</td>\n      <td>Chest pain, unspecified</td>\n      <td>Not specified</td>\n    </tr>\n    <tr>\n      <th>8716</th>\n      <td>1</td>\n      <td>78.73</td>\n      <td>Combined systolic (congestive) and diastolic (...</td>\n      <td>Contusion of hip</td>\n    </tr>\n    <tr>\n      <th>139401</th>\n      <td>2</td>\n      <td>63.30</td>\n      <td>Other chest pain</td>\n      <td>Not specified</td>\n    </tr>\n    <tr>\n      <th>173745</th>\n      <td>2</td>\n      <td>63.75</td>\n      <td>Subsequent non-ST elevation (NSTEMI) myocardia...</td>\n      <td>Not specified</td>\n    </tr>\n    <tr>\n      <th>...</th>\n      <td>...</td>\n      <td>...</td>\n      <td>...</td>\n      <td>...</td>\n    </tr>\n    <tr>\n      <th>113226</th>\n      <td>169057</td>\n      <td>85.80</td>\n      <td>Systolic (congestive) heart failure</td>\n      <td>Not specified</td>\n    </tr>\n    <tr>\n      <th>257251</th>\n      <td>169060</td>\n      <td>71.00</td>\n      <td>Heart failure, unspecified</td>\n      <td>Not specified</td>\n    </tr>\n    <tr>\n      <th>224868</th>\n      <td>169060</td>\n      <td>71.08</td>\n      <td>Diastolic (congestive) heart failure</td>\n      <td>Encounter for other general examination</td>\n    </tr>\n    <tr>\n      <th>244888</th>\n      <td>169060</td>\n      <td>71.14</td>\n      <td>Dyspnea</td>\n      <td>Not specified</td>\n    </tr>\n    <tr>\n      <th>86152</th>\n      <td>169060</td>\n      <td>71.29</td>\n      <td>Combined systolic (congestive) and diastolic (...</td>\n      <td>Not specified</td>\n    </tr>\n  </tbody>\n</table>\n<p>288125 rows × 4 columns</p>\n</div>"
          },
          "metadata": {}
        }
      ],
      "execution_count": 16,
      "metadata": {
        "jupyter": {
          "source_hidden": false,
          "outputs_hidden": false
        },
        "nteract": {
          "transient": {
            "deleting": false
          }
        },
        "gather": {
          "logged": 1688623839259
        }
      }
    },
    {
      "cell_type": "code",
      "source": [
        "sorted_df.info()"
      ],
      "outputs": [
        {
          "output_type": "stream",
          "name": "stdout",
          "text": "<class 'pandas.core.frame.DataFrame'>\nInt64Index: 288125 entries, 6096 to 86152\nData columns (total 4 columns):\n #   Column                                     Non-Null Count   Dtype \n---  ------                                     --------------   ----- \n 0   Internalpatientid                          288125 non-null  int64 \n 1   Age at ed visit                            288125 non-null  object\n 2   First listed diagnosis icd10 subcategory   288125 non-null  object\n 3   Second listed diagnosis icd10 subcategory  288125 non-null  object\ndtypes: int64(1), object(3)\nmemory usage: 11.0+ MB\n"
        }
      ],
      "execution_count": 17,
      "metadata": {
        "jupyter": {
          "source_hidden": false,
          "outputs_hidden": false
        },
        "nteract": {
          "transient": {
            "deleting": false
          }
        },
        "gather": {
          "logged": 1688623843587
        }
      }
    },
    {
      "cell_type": "code",
      "source": [
        "# Find the maximum age for each internal patient id\r\n",
        "max_ages = sorted_df.groupby('Internalpatientid')['Age at ed visit'].max().reset_index()\r\n",
        "\r\n",
        "# Merge with the original dataframe to get the rows with the highest age\r\n",
        "\r\n",
        "result_df = pd.merge(sorted_df, max_ages, on =['Internalpatientid','Age at ed visit'], how = 'inner')\r\n",
        "\r\n",
        "result_df"
      ],
      "outputs": [
        {
          "output_type": "execute_result",
          "execution_count": 18,
          "data": {
            "text/plain": "       Internalpatientid Age at ed visit  \\\n0                      1           78.73   \n1                      2           69.53   \n2                      4           84.17   \n3                      8           68.54   \n4                     11           75.68   \n...                  ...             ...   \n42326             169047           68.40   \n42327             169053           81.32   \n42328             169057           85.80   \n42329             169057           85.80   \n42330             169060           71.29   \n\n                First listed diagnosis icd10 subcategory  \\\n0      Combined systolic (congestive) and diastolic (...   \n1                                          Not specified   \n2               Gastrointestinal hemorrhage, unspecified   \n3      Other symptoms and signs involving cognitive f...   \n4                                Adult failure to thrive   \n...                                                  ...   \n42326                         Other specified counseling   \n42327              Other pneumonia, unspecified organism   \n42328  Encounter for attention to dressings, sutures ...   \n42329                Systolic (congestive) heart failure   \n42330  Combined systolic (congestive) and diastolic (...   \n\n      Second listed diagnosis icd10 subcategory  \n0                              Contusion of hip  \n1                            Fracture of coccyx  \n2                                 Not specified  \n3                                 Not specified  \n4                    Other specified myopathies  \n...                                         ...  \n42326                             Not specified  \n42327                   Adult failure to thrive  \n42328                             Not specified  \n42329                             Not specified  \n42330                             Not specified  \n\n[42331 rows x 4 columns]",
            "text/html": "<div>\n<style scoped>\n    .dataframe tbody tr th:only-of-type {\n        vertical-align: middle;\n    }\n\n    .dataframe tbody tr th {\n        vertical-align: top;\n    }\n\n    .dataframe thead th {\n        text-align: right;\n    }\n</style>\n<table border=\"1\" class=\"dataframe\">\n  <thead>\n    <tr style=\"text-align: right;\">\n      <th></th>\n      <th>Internalpatientid</th>\n      <th>Age at ed visit</th>\n      <th>First listed diagnosis icd10 subcategory</th>\n      <th>Second listed diagnosis icd10 subcategory</th>\n    </tr>\n  </thead>\n  <tbody>\n    <tr>\n      <th>0</th>\n      <td>1</td>\n      <td>78.73</td>\n      <td>Combined systolic (congestive) and diastolic (...</td>\n      <td>Contusion of hip</td>\n    </tr>\n    <tr>\n      <th>1</th>\n      <td>2</td>\n      <td>69.53</td>\n      <td>Not specified</td>\n      <td>Fracture of coccyx</td>\n    </tr>\n    <tr>\n      <th>2</th>\n      <td>4</td>\n      <td>84.17</td>\n      <td>Gastrointestinal hemorrhage, unspecified</td>\n      <td>Not specified</td>\n    </tr>\n    <tr>\n      <th>3</th>\n      <td>8</td>\n      <td>68.54</td>\n      <td>Other symptoms and signs involving cognitive f...</td>\n      <td>Not specified</td>\n    </tr>\n    <tr>\n      <th>4</th>\n      <td>11</td>\n      <td>75.68</td>\n      <td>Adult failure to thrive</td>\n      <td>Other specified myopathies</td>\n    </tr>\n    <tr>\n      <th>...</th>\n      <td>...</td>\n      <td>...</td>\n      <td>...</td>\n      <td>...</td>\n    </tr>\n    <tr>\n      <th>42326</th>\n      <td>169047</td>\n      <td>68.40</td>\n      <td>Other specified counseling</td>\n      <td>Not specified</td>\n    </tr>\n    <tr>\n      <th>42327</th>\n      <td>169053</td>\n      <td>81.32</td>\n      <td>Other pneumonia, unspecified organism</td>\n      <td>Adult failure to thrive</td>\n    </tr>\n    <tr>\n      <th>42328</th>\n      <td>169057</td>\n      <td>85.80</td>\n      <td>Encounter for attention to dressings, sutures ...</td>\n      <td>Not specified</td>\n    </tr>\n    <tr>\n      <th>42329</th>\n      <td>169057</td>\n      <td>85.80</td>\n      <td>Systolic (congestive) heart failure</td>\n      <td>Not specified</td>\n    </tr>\n    <tr>\n      <th>42330</th>\n      <td>169060</td>\n      <td>71.29</td>\n      <td>Combined systolic (congestive) and diastolic (...</td>\n      <td>Not specified</td>\n    </tr>\n  </tbody>\n</table>\n<p>42331 rows × 4 columns</p>\n</div>"
          },
          "metadata": {}
        }
      ],
      "execution_count": 18,
      "metadata": {
        "jupyter": {
          "source_hidden": false,
          "outputs_hidden": false
        },
        "nteract": {
          "transient": {
            "deleting": false
          }
        },
        "gather": {
          "logged": 1688623865752
        }
      }
    },
    {
      "cell_type": "code",
      "source": [
        "# Convert 'Age at measurement' column from object to float\r\n",
        "result_df[\"Age at ed visit\"] = result_df[\"Age at ed visit\"].astype(float)\r\n",
        "\r\n",
        " \r\n",
        "\r\n",
        "# Round off the values in the 'Age at measurement' column to two decimal places\r\n",
        "result_df[\"Age at ed visit\"] = result_df[\"Age at ed visit\"].round()"
      ],
      "outputs": [],
      "execution_count": 19,
      "metadata": {
        "jupyter": {
          "source_hidden": false,
          "outputs_hidden": false
        },
        "nteract": {
          "transient": {
            "deleting": false
          }
        },
        "gather": {
          "logged": 1688623909006
        }
      }
    },
    {
      "cell_type": "code",
      "source": [
        "result_df['Age at ed visit'] = result_df['Age at ed visit'].astype('int')"
      ],
      "outputs": [],
      "execution_count": 20,
      "metadata": {
        "jupyter": {
          "source_hidden": false,
          "outputs_hidden": false
        },
        "nteract": {
          "transient": {
            "deleting": false
          }
        },
        "gather": {
          "logged": 1688623922312
        }
      }
    },
    {
      "cell_type": "code",
      "source": [
        "# Now the value counts\r\n",
        "result_df['Internalpatientid'].value_counts()"
      ],
      "outputs": [
        {
          "output_type": "execute_result",
          "execution_count": 21,
          "data": {
            "text/plain": "49077     3\n152186    3\n39825     3\n119420    3\n6577      3\n         ..\n109056    1\n20991     1\n154110    1\n160163    1\n65536     1\nName: Internalpatientid, Length: 41397, dtype: int64"
          },
          "metadata": {}
        }
      ],
      "execution_count": 21,
      "metadata": {
        "jupyter": {
          "source_hidden": false,
          "outputs_hidden": false
        },
        "nteract": {
          "transient": {
            "deleting": false
          }
        },
        "gather": {
          "logged": 1688623925884
        }
      }
    },
    {
      "cell_type": "code",
      "source": [
        "#df.to_csv('/mnt/batch/tasks/shared/LS_root/mounts/clusters/team3-nisha-gpu/code/Users/900379/Counts/Count_ed_visit_morethan_20.csv')\r\n",
        "#result_df.loc[result_df['Internalpatientid'].isin([df['index'].values])]"
      ],
      "outputs": [],
      "execution_count": 31,
      "metadata": {
        "jupyter": {
          "source_hidden": false,
          "outputs_hidden": false
        },
        "nteract": {
          "transient": {
            "deleting": false
          }
        },
        "gather": {
          "logged": 1688564139561
        }
      }
    },
    {
      "cell_type": "code",
      "source": [
        "result_df['ed_visit_first_listed_icd10_subcategory'] = result_df['Age at ed visit'].astype(str) + '_' + result_df['First listed diagnosis icd10 subcategory']\r\n",
        "result_df"
      ],
      "outputs": [
        {
          "output_type": "execute_result",
          "execution_count": 22,
          "data": {
            "text/plain": "       Internalpatientid  Age at ed visit  \\\n0                      1               79   \n1                      2               70   \n2                      4               84   \n3                      8               69   \n4                     11               76   \n...                  ...              ...   \n42326             169047               68   \n42327             169053               81   \n42328             169057               86   \n42329             169057               86   \n42330             169060               71   \n\n                First listed diagnosis icd10 subcategory  \\\n0      Combined systolic (congestive) and diastolic (...   \n1                                          Not specified   \n2               Gastrointestinal hemorrhage, unspecified   \n3      Other symptoms and signs involving cognitive f...   \n4                                Adult failure to thrive   \n...                                                  ...   \n42326                         Other specified counseling   \n42327              Other pneumonia, unspecified organism   \n42328  Encounter for attention to dressings, sutures ...   \n42329                Systolic (congestive) heart failure   \n42330  Combined systolic (congestive) and diastolic (...   \n\n      Second listed diagnosis icd10 subcategory  \\\n0                              Contusion of hip   \n1                            Fracture of coccyx   \n2                                 Not specified   \n3                                 Not specified   \n4                    Other specified myopathies   \n...                                         ...   \n42326                             Not specified   \n42327                   Adult failure to thrive   \n42328                             Not specified   \n42329                             Not specified   \n42330                             Not specified   \n\n                 ed_visit_first_listed_icd10_subcategory  \n0      79_Combined systolic (congestive) and diastoli...  \n1                                       70_Not specified  \n2            84_Gastrointestinal hemorrhage, unspecified  \n3      69_Other symptoms and signs involving cognitiv...  \n4                             76_Adult failure to thrive  \n...                                                  ...  \n42326                      68_Other specified counseling  \n42327           81_Other pneumonia, unspecified organism  \n42328  86_Encounter for attention to dressings, sutur...  \n42329             86_Systolic (congestive) heart failure  \n42330  71_Combined systolic (congestive) and diastoli...  \n\n[42331 rows x 5 columns]",
            "text/html": "<div>\n<style scoped>\n    .dataframe tbody tr th:only-of-type {\n        vertical-align: middle;\n    }\n\n    .dataframe tbody tr th {\n        vertical-align: top;\n    }\n\n    .dataframe thead th {\n        text-align: right;\n    }\n</style>\n<table border=\"1\" class=\"dataframe\">\n  <thead>\n    <tr style=\"text-align: right;\">\n      <th></th>\n      <th>Internalpatientid</th>\n      <th>Age at ed visit</th>\n      <th>First listed diagnosis icd10 subcategory</th>\n      <th>Second listed diagnosis icd10 subcategory</th>\n      <th>ed_visit_first_listed_icd10_subcategory</th>\n    </tr>\n  </thead>\n  <tbody>\n    <tr>\n      <th>0</th>\n      <td>1</td>\n      <td>79</td>\n      <td>Combined systolic (congestive) and diastolic (...</td>\n      <td>Contusion of hip</td>\n      <td>79_Combined systolic (congestive) and diastoli...</td>\n    </tr>\n    <tr>\n      <th>1</th>\n      <td>2</td>\n      <td>70</td>\n      <td>Not specified</td>\n      <td>Fracture of coccyx</td>\n      <td>70_Not specified</td>\n    </tr>\n    <tr>\n      <th>2</th>\n      <td>4</td>\n      <td>84</td>\n      <td>Gastrointestinal hemorrhage, unspecified</td>\n      <td>Not specified</td>\n      <td>84_Gastrointestinal hemorrhage, unspecified</td>\n    </tr>\n    <tr>\n      <th>3</th>\n      <td>8</td>\n      <td>69</td>\n      <td>Other symptoms and signs involving cognitive f...</td>\n      <td>Not specified</td>\n      <td>69_Other symptoms and signs involving cognitiv...</td>\n    </tr>\n    <tr>\n      <th>4</th>\n      <td>11</td>\n      <td>76</td>\n      <td>Adult failure to thrive</td>\n      <td>Other specified myopathies</td>\n      <td>76_Adult failure to thrive</td>\n    </tr>\n    <tr>\n      <th>...</th>\n      <td>...</td>\n      <td>...</td>\n      <td>...</td>\n      <td>...</td>\n      <td>...</td>\n    </tr>\n    <tr>\n      <th>42326</th>\n      <td>169047</td>\n      <td>68</td>\n      <td>Other specified counseling</td>\n      <td>Not specified</td>\n      <td>68_Other specified counseling</td>\n    </tr>\n    <tr>\n      <th>42327</th>\n      <td>169053</td>\n      <td>81</td>\n      <td>Other pneumonia, unspecified organism</td>\n      <td>Adult failure to thrive</td>\n      <td>81_Other pneumonia, unspecified organism</td>\n    </tr>\n    <tr>\n      <th>42328</th>\n      <td>169057</td>\n      <td>86</td>\n      <td>Encounter for attention to dressings, sutures ...</td>\n      <td>Not specified</td>\n      <td>86_Encounter for attention to dressings, sutur...</td>\n    </tr>\n    <tr>\n      <th>42329</th>\n      <td>169057</td>\n      <td>86</td>\n      <td>Systolic (congestive) heart failure</td>\n      <td>Not specified</td>\n      <td>86_Systolic (congestive) heart failure</td>\n    </tr>\n    <tr>\n      <th>42330</th>\n      <td>169060</td>\n      <td>71</td>\n      <td>Combined systolic (congestive) and diastolic (...</td>\n      <td>Not specified</td>\n      <td>71_Combined systolic (congestive) and diastoli...</td>\n    </tr>\n  </tbody>\n</table>\n<p>42331 rows × 5 columns</p>\n</div>"
          },
          "metadata": {}
        }
      ],
      "execution_count": 22,
      "metadata": {
        "jupyter": {
          "source_hidden": false,
          "outputs_hidden": false
        },
        "nteract": {
          "transient": {
            "deleting": false
          }
        },
        "gather": {
          "logged": 1688623984583
        }
      }
    },
    {
      "cell_type": "code",
      "source": [
        "result_df['ed_visit_second_listed_icd10_subcategory'] = result_df['Age at ed visit'].astype(str) + '_' + result_df['Second listed diagnosis icd10 subcategory']\r\n",
        "result_df"
      ],
      "outputs": [
        {
          "output_type": "execute_result",
          "execution_count": 23,
          "data": {
            "text/plain": "       Internalpatientid  Age at ed visit  \\\n0                      1               79   \n1                      2               70   \n2                      4               84   \n3                      8               69   \n4                     11               76   \n...                  ...              ...   \n42326             169047               68   \n42327             169053               81   \n42328             169057               86   \n42329             169057               86   \n42330             169060               71   \n\n                First listed diagnosis icd10 subcategory  \\\n0      Combined systolic (congestive) and diastolic (...   \n1                                          Not specified   \n2               Gastrointestinal hemorrhage, unspecified   \n3      Other symptoms and signs involving cognitive f...   \n4                                Adult failure to thrive   \n...                                                  ...   \n42326                         Other specified counseling   \n42327              Other pneumonia, unspecified organism   \n42328  Encounter for attention to dressings, sutures ...   \n42329                Systolic (congestive) heart failure   \n42330  Combined systolic (congestive) and diastolic (...   \n\n      Second listed diagnosis icd10 subcategory  \\\n0                              Contusion of hip   \n1                            Fracture of coccyx   \n2                                 Not specified   \n3                                 Not specified   \n4                    Other specified myopathies   \n...                                         ...   \n42326                             Not specified   \n42327                   Adult failure to thrive   \n42328                             Not specified   \n42329                             Not specified   \n42330                             Not specified   \n\n                 ed_visit_first_listed_icd10_subcategory  \\\n0      79_Combined systolic (congestive) and diastoli...   \n1                                       70_Not specified   \n2            84_Gastrointestinal hemorrhage, unspecified   \n3      69_Other symptoms and signs involving cognitiv...   \n4                             76_Adult failure to thrive   \n...                                                  ...   \n42326                      68_Other specified counseling   \n42327           81_Other pneumonia, unspecified organism   \n42328  86_Encounter for attention to dressings, sutur...   \n42329             86_Systolic (congestive) heart failure   \n42330  71_Combined systolic (congestive) and diastoli...   \n\n      ed_visit_second_listed_icd10_subcategory  \n0                          79_Contusion of hip  \n1                        70_Fracture of coccyx  \n2                             84_Not specified  \n3                             69_Not specified  \n4                76_Other specified myopathies  \n...                                        ...  \n42326                         68_Not specified  \n42327               81_Adult failure to thrive  \n42328                         86_Not specified  \n42329                         86_Not specified  \n42330                         71_Not specified  \n\n[42331 rows x 6 columns]",
            "text/html": "<div>\n<style scoped>\n    .dataframe tbody tr th:only-of-type {\n        vertical-align: middle;\n    }\n\n    .dataframe tbody tr th {\n        vertical-align: top;\n    }\n\n    .dataframe thead th {\n        text-align: right;\n    }\n</style>\n<table border=\"1\" class=\"dataframe\">\n  <thead>\n    <tr style=\"text-align: right;\">\n      <th></th>\n      <th>Internalpatientid</th>\n      <th>Age at ed visit</th>\n      <th>First listed diagnosis icd10 subcategory</th>\n      <th>Second listed diagnosis icd10 subcategory</th>\n      <th>ed_visit_first_listed_icd10_subcategory</th>\n      <th>ed_visit_second_listed_icd10_subcategory</th>\n    </tr>\n  </thead>\n  <tbody>\n    <tr>\n      <th>0</th>\n      <td>1</td>\n      <td>79</td>\n      <td>Combined systolic (congestive) and diastolic (...</td>\n      <td>Contusion of hip</td>\n      <td>79_Combined systolic (congestive) and diastoli...</td>\n      <td>79_Contusion of hip</td>\n    </tr>\n    <tr>\n      <th>1</th>\n      <td>2</td>\n      <td>70</td>\n      <td>Not specified</td>\n      <td>Fracture of coccyx</td>\n      <td>70_Not specified</td>\n      <td>70_Fracture of coccyx</td>\n    </tr>\n    <tr>\n      <th>2</th>\n      <td>4</td>\n      <td>84</td>\n      <td>Gastrointestinal hemorrhage, unspecified</td>\n      <td>Not specified</td>\n      <td>84_Gastrointestinal hemorrhage, unspecified</td>\n      <td>84_Not specified</td>\n    </tr>\n    <tr>\n      <th>3</th>\n      <td>8</td>\n      <td>69</td>\n      <td>Other symptoms and signs involving cognitive f...</td>\n      <td>Not specified</td>\n      <td>69_Other symptoms and signs involving cognitiv...</td>\n      <td>69_Not specified</td>\n    </tr>\n    <tr>\n      <th>4</th>\n      <td>11</td>\n      <td>76</td>\n      <td>Adult failure to thrive</td>\n      <td>Other specified myopathies</td>\n      <td>76_Adult failure to thrive</td>\n      <td>76_Other specified myopathies</td>\n    </tr>\n    <tr>\n      <th>...</th>\n      <td>...</td>\n      <td>...</td>\n      <td>...</td>\n      <td>...</td>\n      <td>...</td>\n      <td>...</td>\n    </tr>\n    <tr>\n      <th>42326</th>\n      <td>169047</td>\n      <td>68</td>\n      <td>Other specified counseling</td>\n      <td>Not specified</td>\n      <td>68_Other specified counseling</td>\n      <td>68_Not specified</td>\n    </tr>\n    <tr>\n      <th>42327</th>\n      <td>169053</td>\n      <td>81</td>\n      <td>Other pneumonia, unspecified organism</td>\n      <td>Adult failure to thrive</td>\n      <td>81_Other pneumonia, unspecified organism</td>\n      <td>81_Adult failure to thrive</td>\n    </tr>\n    <tr>\n      <th>42328</th>\n      <td>169057</td>\n      <td>86</td>\n      <td>Encounter for attention to dressings, sutures ...</td>\n      <td>Not specified</td>\n      <td>86_Encounter for attention to dressings, sutur...</td>\n      <td>86_Not specified</td>\n    </tr>\n    <tr>\n      <th>42329</th>\n      <td>169057</td>\n      <td>86</td>\n      <td>Systolic (congestive) heart failure</td>\n      <td>Not specified</td>\n      <td>86_Systolic (congestive) heart failure</td>\n      <td>86_Not specified</td>\n    </tr>\n    <tr>\n      <th>42330</th>\n      <td>169060</td>\n      <td>71</td>\n      <td>Combined systolic (congestive) and diastolic (...</td>\n      <td>Not specified</td>\n      <td>71_Combined systolic (congestive) and diastoli...</td>\n      <td>71_Not specified</td>\n    </tr>\n  </tbody>\n</table>\n<p>42331 rows × 6 columns</p>\n</div>"
          },
          "metadata": {}
        }
      ],
      "execution_count": 23,
      "metadata": {
        "jupyter": {
          "source_hidden": false,
          "outputs_hidden": false
        },
        "nteract": {
          "transient": {
            "deleting": false
          }
        },
        "gather": {
          "logged": 1688623993573
        }
      }
    },
    {
      "cell_type": "code",
      "source": [
        "result_df.drop(['Age at ed visit','First listed diagnosis icd10 subcategory','Second listed diagnosis icd10 subcategory'], axis = 1,inplace = True)"
      ],
      "outputs": [],
      "execution_count": 24,
      "metadata": {
        "jupyter": {
          "source_hidden": false,
          "outputs_hidden": false
        },
        "nteract": {
          "transient": {
            "deleting": false
          }
        },
        "gather": {
          "logged": 1688623998240
        }
      }
    },
    {
      "cell_type": "code",
      "source": [
        "result_df"
      ],
      "outputs": [
        {
          "output_type": "execute_result",
          "execution_count": 25,
          "data": {
            "text/plain": "       Internalpatientid            ed_visit_first_listed_icd10_subcategory  \\\n0                      1  79_Combined systolic (congestive) and diastoli...   \n1                      2                                   70_Not specified   \n2                      4        84_Gastrointestinal hemorrhage, unspecified   \n3                      8  69_Other symptoms and signs involving cognitiv...   \n4                     11                         76_Adult failure to thrive   \n...                  ...                                                ...   \n42326             169047                      68_Other specified counseling   \n42327             169053           81_Other pneumonia, unspecified organism   \n42328             169057  86_Encounter for attention to dressings, sutur...   \n42329             169057             86_Systolic (congestive) heart failure   \n42330             169060  71_Combined systolic (congestive) and diastoli...   \n\n      ed_visit_second_listed_icd10_subcategory  \n0                          79_Contusion of hip  \n1                        70_Fracture of coccyx  \n2                             84_Not specified  \n3                             69_Not specified  \n4                76_Other specified myopathies  \n...                                        ...  \n42326                         68_Not specified  \n42327               81_Adult failure to thrive  \n42328                         86_Not specified  \n42329                         86_Not specified  \n42330                         71_Not specified  \n\n[42331 rows x 3 columns]",
            "text/html": "<div>\n<style scoped>\n    .dataframe tbody tr th:only-of-type {\n        vertical-align: middle;\n    }\n\n    .dataframe tbody tr th {\n        vertical-align: top;\n    }\n\n    .dataframe thead th {\n        text-align: right;\n    }\n</style>\n<table border=\"1\" class=\"dataframe\">\n  <thead>\n    <tr style=\"text-align: right;\">\n      <th></th>\n      <th>Internalpatientid</th>\n      <th>ed_visit_first_listed_icd10_subcategory</th>\n      <th>ed_visit_second_listed_icd10_subcategory</th>\n    </tr>\n  </thead>\n  <tbody>\n    <tr>\n      <th>0</th>\n      <td>1</td>\n      <td>79_Combined systolic (congestive) and diastoli...</td>\n      <td>79_Contusion of hip</td>\n    </tr>\n    <tr>\n      <th>1</th>\n      <td>2</td>\n      <td>70_Not specified</td>\n      <td>70_Fracture of coccyx</td>\n    </tr>\n    <tr>\n      <th>2</th>\n      <td>4</td>\n      <td>84_Gastrointestinal hemorrhage, unspecified</td>\n      <td>84_Not specified</td>\n    </tr>\n    <tr>\n      <th>3</th>\n      <td>8</td>\n      <td>69_Other symptoms and signs involving cognitiv...</td>\n      <td>69_Not specified</td>\n    </tr>\n    <tr>\n      <th>4</th>\n      <td>11</td>\n      <td>76_Adult failure to thrive</td>\n      <td>76_Other specified myopathies</td>\n    </tr>\n    <tr>\n      <th>...</th>\n      <td>...</td>\n      <td>...</td>\n      <td>...</td>\n    </tr>\n    <tr>\n      <th>42326</th>\n      <td>169047</td>\n      <td>68_Other specified counseling</td>\n      <td>68_Not specified</td>\n    </tr>\n    <tr>\n      <th>42327</th>\n      <td>169053</td>\n      <td>81_Other pneumonia, unspecified organism</td>\n      <td>81_Adult failure to thrive</td>\n    </tr>\n    <tr>\n      <th>42328</th>\n      <td>169057</td>\n      <td>86_Encounter for attention to dressings, sutur...</td>\n      <td>86_Not specified</td>\n    </tr>\n    <tr>\n      <th>42329</th>\n      <td>169057</td>\n      <td>86_Systolic (congestive) heart failure</td>\n      <td>86_Not specified</td>\n    </tr>\n    <tr>\n      <th>42330</th>\n      <td>169060</td>\n      <td>71_Combined systolic (congestive) and diastoli...</td>\n      <td>71_Not specified</td>\n    </tr>\n  </tbody>\n</table>\n<p>42331 rows × 3 columns</p>\n</div>"
          },
          "metadata": {}
        }
      ],
      "execution_count": 25,
      "metadata": {
        "jupyter": {
          "source_hidden": false,
          "outputs_hidden": false
        },
        "nteract": {
          "transient": {
            "deleting": false
          }
        },
        "gather": {
          "logged": 1688624001178
        }
      }
    },
    {
      "cell_type": "code",
      "source": [
        "result_df.info()"
      ],
      "outputs": [
        {
          "output_type": "stream",
          "name": "stdout",
          "text": "<class 'pandas.core.frame.DataFrame'>\nInt64Index: 42331 entries, 0 to 42330\nData columns (total 3 columns):\n #   Column                                    Non-Null Count  Dtype \n---  ------                                    --------------  ----- \n 0   Internalpatientid                         42331 non-null  int64 \n 1   ed_visit_first_listed_icd10_subcategory   42331 non-null  object\n 2   ed_visit_second_listed_icd10_subcategory  42331 non-null  object\ndtypes: int64(1), object(2)\nmemory usage: 1.3+ MB\n"
        }
      ],
      "execution_count": 26,
      "metadata": {
        "jupyter": {
          "source_hidden": false,
          "outputs_hidden": false
        },
        "nteract": {
          "transient": {
            "deleting": false
          }
        },
        "gather": {
          "logged": 1688624010162
        }
      }
    },
    {
      "cell_type": "code",
      "source": [
        "import pandas as pd"
      ],
      "outputs": [],
      "execution_count": 27,
      "metadata": {
        "jupyter": {
          "source_hidden": false,
          "outputs_hidden": false
        },
        "nteract": {
          "transient": {
            "deleting": false
          }
        },
        "gather": {
          "logged": 1688624015250
        }
      }
    },
    {
      "cell_type": "code",
      "source": [
        "result_df['ed_visit_first_listed_icd10_subcategory'] = result_df['ed_visit_first_listed_icd10_subcategory'].astype(str)\r\n",
        "result_df['ed_visit_second_listed_icd10_subcategory'] = result_df['ed_visit_second_listed_icd10_subcategory'].astype(str)"
      ],
      "outputs": [],
      "execution_count": 28,
      "metadata": {
        "jupyter": {
          "source_hidden": false,
          "outputs_hidden": false
        },
        "nteract": {
          "transient": {
            "deleting": false
          }
        },
        "gather": {
          "logged": 1688624017013
        }
      }
    },
    {
      "cell_type": "code",
      "source": [
        "df_ed_visit = result_df.groupby('Internalpatientid').apply(lambda x: pd.Series({\r\n",
        "    'ed_visit_first_listed_icd10_subcategory' : ', '.join(x['ed_visit_first_listed_icd10_subcategory']),\r\n",
        "    'ed_visit_second_listed_icd10_subcategory' : ', '.join(x['ed_visit_second_listed_icd10_subcategory'])\r\n",
        "    \r\n",
        "\r\n",
        "}))\r\n",
        "\r\n",
        "# Reset the index of the dataframe\r\n",
        "df_ed_visit = df_ed_visit.reset_index()\r\n",
        "\r\n",
        "# print the grouped dataframe\r\n",
        "print(df_ed_visit)"
      ],
      "outputs": [
        {
          "output_type": "stream",
          "name": "stdout",
          "text": "       Internalpatientid            ed_visit_first_listed_icd10_subcategory  \\\n0                      1  79_Combined systolic (congestive) and diastoli...   \n1                      2                                   70_Not specified   \n2                      4        84_Gastrointestinal hemorrhage, unspecified   \n3                      8  69_Other symptoms and signs involving cognitiv...   \n4                     11                         76_Adult failure to thrive   \n...                  ...                                                ...   \n41392             169041  55_Unspecified atrial fibrillation and atrial ...   \n41393             169047                      68_Other specified counseling   \n41394             169053           81_Other pneumonia, unspecified organism   \n41395             169057  86_Encounter for attention to dressings, sutur...   \n41396             169060  71_Combined systolic (congestive) and diastoli...   \n\n      ed_visit_second_listed_icd10_subcategory  \n0                          79_Contusion of hip  \n1                        70_Fracture of coccyx  \n2                             84_Not specified  \n3                             69_Not specified  \n4                76_Other specified myopathies  \n...                                        ...  \n41392                         55_Not specified  \n41393                         68_Not specified  \n41394               81_Adult failure to thrive  \n41395       86_Not specified, 86_Not specified  \n41396                         71_Not specified  \n\n[41397 rows x 3 columns]\n"
        }
      ],
      "execution_count": 29,
      "metadata": {
        "jupyter": {
          "source_hidden": false,
          "outputs_hidden": false
        },
        "nteract": {
          "transient": {
            "deleting": false
          }
        },
        "gather": {
          "logged": 1688624048488
        }
      }
    },
    {
      "cell_type": "markdown",
      "source": [
        "### **Final DataFrame**"
      ],
      "metadata": {
        "nteract": {
          "transient": {
            "deleting": false
          }
        }
      }
    },
    {
      "cell_type": "code",
      "source": [
        "df_ed_visit"
      ],
      "outputs": [
        {
          "output_type": "execute_result",
          "execution_count": 32,
          "data": {
            "text/plain": "       Internalpatientid            ed_visit_first_listed_icd10_subcategory  \\\n0                      1  79_Combined systolic (congestive) and diastoli...   \n1                      2                                   70_Not specified   \n2                      4        84_Gastrointestinal hemorrhage, unspecified   \n3                      8  69_Other symptoms and signs involving cognitiv...   \n4                     11                         76_Adult failure to thrive   \n...                  ...                                                ...   \n41392             169041  55_Unspecified atrial fibrillation and atrial ...   \n41393             169047                      68_Other specified counseling   \n41394             169053           81_Other pneumonia, unspecified organism   \n41395             169057  86_Encounter for attention to dressings, sutur...   \n41396             169060  71_Combined systolic (congestive) and diastoli...   \n\n      ed_visit_second_listed_icd10_subcategory  \n0                          79_Contusion of hip  \n1                        70_Fracture of coccyx  \n2                             84_Not specified  \n3                             69_Not specified  \n4                76_Other specified myopathies  \n...                                        ...  \n41392                         55_Not specified  \n41393                         68_Not specified  \n41394               81_Adult failure to thrive  \n41395       86_Not specified, 86_Not specified  \n41396                         71_Not specified  \n\n[41397 rows x 3 columns]",
            "text/html": "<div>\n<style scoped>\n    .dataframe tbody tr th:only-of-type {\n        vertical-align: middle;\n    }\n\n    .dataframe tbody tr th {\n        vertical-align: top;\n    }\n\n    .dataframe thead th {\n        text-align: right;\n    }\n</style>\n<table border=\"1\" class=\"dataframe\">\n  <thead>\n    <tr style=\"text-align: right;\">\n      <th></th>\n      <th>Internalpatientid</th>\n      <th>ed_visit_first_listed_icd10_subcategory</th>\n      <th>ed_visit_second_listed_icd10_subcategory</th>\n    </tr>\n  </thead>\n  <tbody>\n    <tr>\n      <th>0</th>\n      <td>1</td>\n      <td>79_Combined systolic (congestive) and diastoli...</td>\n      <td>79_Contusion of hip</td>\n    </tr>\n    <tr>\n      <th>1</th>\n      <td>2</td>\n      <td>70_Not specified</td>\n      <td>70_Fracture of coccyx</td>\n    </tr>\n    <tr>\n      <th>2</th>\n      <td>4</td>\n      <td>84_Gastrointestinal hemorrhage, unspecified</td>\n      <td>84_Not specified</td>\n    </tr>\n    <tr>\n      <th>3</th>\n      <td>8</td>\n      <td>69_Other symptoms and signs involving cognitiv...</td>\n      <td>69_Not specified</td>\n    </tr>\n    <tr>\n      <th>4</th>\n      <td>11</td>\n      <td>76_Adult failure to thrive</td>\n      <td>76_Other specified myopathies</td>\n    </tr>\n    <tr>\n      <th>...</th>\n      <td>...</td>\n      <td>...</td>\n      <td>...</td>\n    </tr>\n    <tr>\n      <th>41392</th>\n      <td>169041</td>\n      <td>55_Unspecified atrial fibrillation and atrial ...</td>\n      <td>55_Not specified</td>\n    </tr>\n    <tr>\n      <th>41393</th>\n      <td>169047</td>\n      <td>68_Other specified counseling</td>\n      <td>68_Not specified</td>\n    </tr>\n    <tr>\n      <th>41394</th>\n      <td>169053</td>\n      <td>81_Other pneumonia, unspecified organism</td>\n      <td>81_Adult failure to thrive</td>\n    </tr>\n    <tr>\n      <th>41395</th>\n      <td>169057</td>\n      <td>86_Encounter for attention to dressings, sutur...</td>\n      <td>86_Not specified, 86_Not specified</td>\n    </tr>\n    <tr>\n      <th>41396</th>\n      <td>169060</td>\n      <td>71_Combined systolic (congestive) and diastoli...</td>\n      <td>71_Not specified</td>\n    </tr>\n  </tbody>\n</table>\n<p>41397 rows × 3 columns</p>\n</div>"
          },
          "metadata": {}
        }
      ],
      "execution_count": 32,
      "metadata": {
        "jupyter": {
          "source_hidden": false,
          "outputs_hidden": false
        },
        "nteract": {
          "transient": {
            "deleting": false
          }
        },
        "gather": {
          "logged": 1688624263443
        }
      }
    },
    {
      "cell_type": "code",
      "source": [
        "# saving as the csv file in the appropriate directory\r\n",
        "df_ed_visit.to_csv('/mnt/batch/tasks/shared/LS_root/mounts/clusters/team3-nisha-gpu/code/Users/900379/Output_files_train/df_ed_visit.csv')"
      ],
      "outputs": [],
      "execution_count": 33,
      "metadata": {
        "jupyter": {
          "source_hidden": false,
          "outputs_hidden": false
        },
        "nteract": {
          "transient": {
            "deleting": false
          }
        },
        "gather": {
          "logged": 1688624267450
        }
      }
    },
    {
      "cell_type": "code",
      "source": [
        "from azure.storage.blob import BlobServiceClient"
      ],
      "outputs": [],
      "execution_count": 27,
      "metadata": {
        "jupyter": {
          "source_hidden": false,
          "outputs_hidden": false
        },
        "nteract": {
          "transient": {
            "deleting": false
          }
        },
        "gather": {
          "logged": 1688472594037
        }
      }
    },
    {
      "cell_type": "code",
      "source": [
        "connection_string = \"DefaultEndpointsProtocol=https;AccountName=algorithmia;AccountKey=AyplqSK1eJCRDNd3uQFxq74uakeKnSQS0C/bLnOWS0aopDd/9JsX8WJ6QVPc+Im6I1m1f9s/xle4+AStpwOqVA==;EndpointSuffix=core.windows.net\"\r\n",
        "container_name = \"files\"\r\n",
        "\r\n",
        "# save the data frame as csv file\r\n",
        "csv_data = df_ed_visit.to_csv(index = False, sep = ',')\r\n",
        "\r\n",
        "#Define the filename for the csv file in the container\r\n",
        "\r\n",
        "file_name = \"df_ed_visit.csv\"\r\n",
        "\r\n",
        "# crate a blobserviceclient\r\n",
        "blob_service_client = BlobServiceClient.from_connection_string(connection_string)\r\n",
        "\r\n",
        "#Get the container client\r\n",
        "container_client = blob_service_client.get_container_client(container_name)\r\n",
        "\r\n",
        "# upload the csv data to the container\r\n",
        "container_client.upload_blob(name = file_name,data=csv_data,overwrite = True)"
      ],
      "outputs": [
        {
          "output_type": "execute_result",
          "execution_count": 28,
          "data": {
            "text/plain": "<azure.storage.blob._blob_client.BlobClient at 0x7f95a837d690>"
          },
          "metadata": {}
        }
      ],
      "execution_count": 28,
      "metadata": {
        "jupyter": {
          "source_hidden": false,
          "outputs_hidden": false
        },
        "nteract": {
          "transient": {
            "deleting": false
          }
        },
        "gather": {
          "logged": 1688472596702
        }
      }
    }
  ],
  "metadata": {
    "kernelspec": {
      "name": "python38-azureml",
      "language": "python",
      "display_name": "Python 3.8 - AzureML"
    },
    "language_info": {
      "name": "python",
      "version": "3.8.5",
      "mimetype": "text/x-python",
      "codemirror_mode": {
        "name": "ipython",
        "version": 3
      },
      "pygments_lexer": "ipython3",
      "nbconvert_exporter": "python",
      "file_extension": ".py"
    },
    "microsoft": {
      "ms_spell_check": {
        "ms_spell_check_language": "en"
      },
      "host": {
        "AzureML": {
          "notebookHasBeenCompleted": true
        }
      }
    },
    "kernel_info": {
      "name": "python38-azureml"
    },
    "nteract": {
      "version": "nteract-front-end@1.0.0"
    }
  },
  "nbformat": 4,
  "nbformat_minor": 2
}