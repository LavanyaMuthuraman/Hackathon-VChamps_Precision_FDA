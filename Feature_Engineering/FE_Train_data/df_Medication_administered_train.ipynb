{
  "cells": [
    {
      "cell_type": "code",
      "source": [
        "from azureml.core import Workspace, Dataset\r\n",
        "\r\n",
        "subscription_id = 'bcfe0c62-8ebe-4df0-a46d-1efcf8739a5b'\r\n",
        "resource_group = 'VChamp-Team3'\r\n",
        "workspace_name = 'vchamp-team3'\r\n",
        "\r\n",
        "\r\n",
        "# storage account : Algorithmia, Resource group: VChamp-Team3 and workspace: vchamp-team3.\r\n",
        "\r\n",
        "workspace = Workspace(subscription_id, resource_group, workspace_name)"
      ],
      "outputs": [],
      "execution_count": 1,
      "metadata": {
        "gather": {
          "logged": 1688625861883
        }
      }
    },
    {
      "cell_type": "code",
      "source": [
        "#['data_team3_synthetic_quality_check']\r\n",
        "datastore = workspace.datastores['data_team3_synthetic_train']"
      ],
      "outputs": [],
      "execution_count": 2,
      "metadata": {
        "jupyter": {
          "source_hidden": false,
          "outputs_hidden": false
        },
        "nteract": {
          "transient": {
            "deleting": false
          }
        },
        "gather": {
          "logged": 1688625864328
        }
      }
    },
    {
      "cell_type": "code",
      "source": [
        "dataset = Dataset.Tabular.from_delimited_files(path = [(datastore, 'medications_administered_train.csv')])\r\n",
        "\r\n",
        "# preview the first 3 rows of the dataset\r\n",
        "# dataset.to_pandas_dataframe()"
      ],
      "outputs": [],
      "execution_count": 3,
      "metadata": {
        "jupyter": {
          "source_hidden": false,
          "outputs_hidden": false
        },
        "nteract": {
          "transient": {
            "deleting": false
          }
        },
        "gather": {
          "logged": 1688625871185
        }
      }
    },
    {
      "cell_type": "code",
      "source": [
        "medications_administered = dataset.to_pandas_dataframe()"
      ],
      "outputs": [],
      "execution_count": 4,
      "metadata": {
        "jupyter": {
          "source_hidden": false,
          "outputs_hidden": false
        },
        "nteract": {
          "transient": {
            "deleting": false
          }
        },
        "gather": {
          "logged": 1688625934772
        }
      }
    },
    {
      "cell_type": "code",
      "source": [
        "type(medications_administered)"
      ],
      "outputs": [
        {
          "output_type": "execute_result",
          "execution_count": 5,
          "data": {
            "text/plain": "pandas.core.frame.DataFrame"
          },
          "metadata": {}
        }
      ],
      "execution_count": 5,
      "metadata": {
        "jupyter": {
          "source_hidden": false,
          "outputs_hidden": false
        },
        "nteract": {
          "transient": {
            "deleting": false
          }
        },
        "gather": {
          "logged": 1688625970089
        }
      }
    },
    {
      "cell_type": "code",
      "source": [
        "medications_administered"
      ],
      "outputs": [
        {
          "output_type": "execute_result",
          "execution_count": 6,
          "data": {
            "text/plain": "             Column1  Internalpatientid  Age at med administration   \n0                  0                  1                  67.681687  \\\n1                  1                  1                  67.682563   \n2                  2                  1                  68.349672   \n3                  3                  1                  68.353308   \n4                  4                  1                  72.279863   \n...              ...                ...                        ...   \n123849580  159708083              99999                  96.358554   \n123849581  159708084              99999                  96.361282   \n123849582  159708085              99999                  96.364498   \n123849583  159708086              99999                  96.369586   \n123849584  159708087              99999                  96.370197   \n\n          Administration date Administration end date   \n0         2011-12-12 15:45:21                     NaT  \\\n1         2011-12-12 23:26:46                     NaT   \n2         2012-08-12 19:19:33                     NaT   \n3         2012-08-14 03:13:09                     NaT   \n4         2016-07-19 06:57:34                     NaT   \n...                       ...                     ...   \n123849580 2013-04-10 01:14:15                     NaT   \n123849581 2013-04-11 01:09:47                     NaT   \n123849582 2013-04-12 05:22:34                     NaT   \n123849583 2013-04-14 02:00:34                     NaT   \n123849584 2013-04-14 07:22:14                     NaT   \n\n          Administered medication atc 5 Administration status  Dose form   \n0                 omega-3-triglycerides                 Given   cap,oral  \\\n1                            metoprolol                 Given        tab   \n2                 omega-3-triglycerides                 Given   cap,oral   \n3                            metoprolol                 Given        tab   \n4                            metoprolol                 Given        tab   \n...                                 ...                   ...        ...   \n123849580                    salbutamol                 Given  soln,inhl   \n123849581   insulin (human) fast-acting                  Held        inj   \n123849582                 Not specified                 Given        inj   \n123849583                      docusate                  Held   cap,oral   \n123849584                    travoprost                 Given   soln,oph   \n\n           Dose administered Dose unit administered    State  \n0                        3.0               cap,oral  Indiana  \n1                        3.0                    tab  Indiana  \n2                        3.0               cap,oral  Indiana  \n3                        1.0                    tab  Indiana  \n4                        1.0                    tab  Indiana  \n...                      ...                    ...      ...  \n123849580                1.0                  1 amp  Arizona  \n123849581                0.0                   None  Arizona  \n123849582                1.0                   90ml  Arizona  \n123849583                0.0               cap,oral  Arizona  \n123849584                1.0       1 drop both eyes  Arizona  \n\n[123849585 rows x 11 columns]",
            "text/html": "<div>\n<style scoped>\n    .dataframe tbody tr th:only-of-type {\n        vertical-align: middle;\n    }\n\n    .dataframe tbody tr th {\n        vertical-align: top;\n    }\n\n    .dataframe thead th {\n        text-align: right;\n    }\n</style>\n<table border=\"1\" class=\"dataframe\">\n  <thead>\n    <tr style=\"text-align: right;\">\n      <th></th>\n      <th>Column1</th>\n      <th>Internalpatientid</th>\n      <th>Age at med administration</th>\n      <th>Administration date</th>\n      <th>Administration end date</th>\n      <th>Administered medication atc 5</th>\n      <th>Administration status</th>\n      <th>Dose form</th>\n      <th>Dose administered</th>\n      <th>Dose unit administered</th>\n      <th>State</th>\n    </tr>\n  </thead>\n  <tbody>\n    <tr>\n      <th>0</th>\n      <td>0</td>\n      <td>1</td>\n      <td>67.681687</td>\n      <td>2011-12-12 15:45:21</td>\n      <td>NaT</td>\n      <td>omega-3-triglycerides</td>\n      <td>Given</td>\n      <td>cap,oral</td>\n      <td>3.0</td>\n      <td>cap,oral</td>\n      <td>Indiana</td>\n    </tr>\n    <tr>\n      <th>1</th>\n      <td>1</td>\n      <td>1</td>\n      <td>67.682563</td>\n      <td>2011-12-12 23:26:46</td>\n      <td>NaT</td>\n      <td>metoprolol</td>\n      <td>Given</td>\n      <td>tab</td>\n      <td>3.0</td>\n      <td>tab</td>\n      <td>Indiana</td>\n    </tr>\n    <tr>\n      <th>2</th>\n      <td>2</td>\n      <td>1</td>\n      <td>68.349672</td>\n      <td>2012-08-12 19:19:33</td>\n      <td>NaT</td>\n      <td>omega-3-triglycerides</td>\n      <td>Given</td>\n      <td>cap,oral</td>\n      <td>3.0</td>\n      <td>cap,oral</td>\n      <td>Indiana</td>\n    </tr>\n    <tr>\n      <th>3</th>\n      <td>3</td>\n      <td>1</td>\n      <td>68.353308</td>\n      <td>2012-08-14 03:13:09</td>\n      <td>NaT</td>\n      <td>metoprolol</td>\n      <td>Given</td>\n      <td>tab</td>\n      <td>1.0</td>\n      <td>tab</td>\n      <td>Indiana</td>\n    </tr>\n    <tr>\n      <th>4</th>\n      <td>4</td>\n      <td>1</td>\n      <td>72.279863</td>\n      <td>2016-07-19 06:57:34</td>\n      <td>NaT</td>\n      <td>metoprolol</td>\n      <td>Given</td>\n      <td>tab</td>\n      <td>1.0</td>\n      <td>tab</td>\n      <td>Indiana</td>\n    </tr>\n    <tr>\n      <th>...</th>\n      <td>...</td>\n      <td>...</td>\n      <td>...</td>\n      <td>...</td>\n      <td>...</td>\n      <td>...</td>\n      <td>...</td>\n      <td>...</td>\n      <td>...</td>\n      <td>...</td>\n      <td>...</td>\n    </tr>\n    <tr>\n      <th>123849580</th>\n      <td>159708083</td>\n      <td>99999</td>\n      <td>96.358554</td>\n      <td>2013-04-10 01:14:15</td>\n      <td>NaT</td>\n      <td>salbutamol</td>\n      <td>Given</td>\n      <td>soln,inhl</td>\n      <td>1.0</td>\n      <td>1 amp</td>\n      <td>Arizona</td>\n    </tr>\n    <tr>\n      <th>123849581</th>\n      <td>159708084</td>\n      <td>99999</td>\n      <td>96.361282</td>\n      <td>2013-04-11 01:09:47</td>\n      <td>NaT</td>\n      <td>insulin (human) fast-acting</td>\n      <td>Held</td>\n      <td>inj</td>\n      <td>0.0</td>\n      <td>None</td>\n      <td>Arizona</td>\n    </tr>\n    <tr>\n      <th>123849582</th>\n      <td>159708085</td>\n      <td>99999</td>\n      <td>96.364498</td>\n      <td>2013-04-12 05:22:34</td>\n      <td>NaT</td>\n      <td>Not specified</td>\n      <td>Given</td>\n      <td>inj</td>\n      <td>1.0</td>\n      <td>90ml</td>\n      <td>Arizona</td>\n    </tr>\n    <tr>\n      <th>123849583</th>\n      <td>159708086</td>\n      <td>99999</td>\n      <td>96.369586</td>\n      <td>2013-04-14 02:00:34</td>\n      <td>NaT</td>\n      <td>docusate</td>\n      <td>Held</td>\n      <td>cap,oral</td>\n      <td>0.0</td>\n      <td>cap,oral</td>\n      <td>Arizona</td>\n    </tr>\n    <tr>\n      <th>123849584</th>\n      <td>159708087</td>\n      <td>99999</td>\n      <td>96.370197</td>\n      <td>2013-04-14 07:22:14</td>\n      <td>NaT</td>\n      <td>travoprost</td>\n      <td>Given</td>\n      <td>soln,oph</td>\n      <td>1.0</td>\n      <td>1 drop both eyes</td>\n      <td>Arizona</td>\n    </tr>\n  </tbody>\n</table>\n<p>123849585 rows × 11 columns</p>\n</div>"
          },
          "metadata": {}
        }
      ],
      "execution_count": 6,
      "metadata": {
        "jupyter": {
          "source_hidden": false,
          "outputs_hidden": false
        },
        "nteract": {
          "transient": {
            "deleting": false
          }
        },
        "gather": {
          "logged": 1688625974758
        }
      }
    },
    {
      "cell_type": "code",
      "source": [
        "import pandas as pd"
      ],
      "outputs": [],
      "execution_count": 7,
      "metadata": {
        "jupyter": {
          "source_hidden": false,
          "outputs_hidden": false
        },
        "nteract": {
          "transient": {
            "deleting": false
          }
        },
        "gather": {
          "logged": 1688625984788
        }
      }
    },
    {
      "cell_type": "markdown",
      "source": [
        "**Getting the csv for the value counts for the internalpatientid**"
      ],
      "metadata": {
        "nteract": {
          "transient": {
            "deleting": false
          }
        }
      }
    },
    {
      "cell_type": "code",
      "source": [
        "#medications_administered_value_counts = medications_administered['Internalpatientid'].value_counts().to_frame()\r\n",
        "#medications_administered_value_counts = medications_administered_value_counts.reset_index()\r\n",
        "#medications_administered_value_counts.columns=['Internalpatientid','counts for medications_administered']"
      ],
      "outputs": [],
      "execution_count": 9,
      "metadata": {
        "jupyter": {
          "source_hidden": false,
          "outputs_hidden": false
        },
        "nteract": {
          "transient": {
            "deleting": false
          }
        },
        "gather": {
          "logged": 1688549422680
        }
      }
    },
    {
      "cell_type": "code",
      "source": [
        "import os\r\n",
        "cwd = os.getcwd()\r\n",
        "cwd"
      ],
      "outputs": [
        {
          "output_type": "execute_result",
          "execution_count": 8,
          "data": {
            "text/plain": "'/mnt/batch/tasks/shared/LS_root/mounts/clusters/team3-nisha-gpu/code/Users/2211566'"
          },
          "metadata": {}
        }
      ],
      "execution_count": 8,
      "metadata": {
        "jupyter": {
          "source_hidden": false,
          "outputs_hidden": false
        },
        "nteract": {
          "transient": {
            "deleting": false
          }
        },
        "gather": {
          "logged": 1688625989863
        }
      }
    },
    {
      "cell_type": "code",
      "source": [
        "#df.to_csv('Path where you want to store the exported CSV file/File Name.csv')\r\n",
        "#medications_administered_value_counts.to_csv('/mnt/batch/tasks/shared/LS_root/mounts/clusters/team3-nisha-gpu/code/Users/900379/Counts/Count_medications_administered.csv')\r\n",
        "#counts = medications_administered['Internalpatientid'].value_counts().loc[lambda x: x>1000]"
      ],
      "outputs": [],
      "execution_count": 13,
      "metadata": {
        "jupyter": {
          "source_hidden": false,
          "outputs_hidden": false
        },
        "nteract": {
          "transient": {
            "deleting": false
          }
        },
        "gather": {
          "logged": 1688549540850
        }
      }
    },
    {
      "cell_type": "code",
      "source": [
        "medications_administered.nunique()"
      ],
      "outputs": [
        {
          "output_type": "execute_result",
          "execution_count": 9,
          "data": {
            "text/plain": "Column1                          123849585\nInternalpatientid                    83563\nAge at med administration        118669313\nAdministration date              109302253\nAdministration end date            1440494\nAdministered medication atc 5         2583\nAdministration status                   10\nDose form                              230\nDose administered                  2823810\nDose unit administered              348052\nState                                   50\ndtype: int64"
          },
          "metadata": {}
        }
      ],
      "execution_count": 9,
      "metadata": {
        "jupyter": {
          "source_hidden": false,
          "outputs_hidden": false
        },
        "nteract": {
          "transient": {
            "deleting": false
          }
        },
        "gather": {
          "logged": 1688626114373
        }
      }
    },
    {
      "cell_type": "code",
      "source": [
        "medications_administered['Internalpatientid'].value_counts()"
      ],
      "outputs": [
        {
          "output_type": "execute_result",
          "execution_count": 10,
          "data": {
            "text/plain": "Internalpatientid\n154213    199787\n37849     189894\n107709    188824\n147504    171817\n131030    171025\n           ...  \n130468         1\n130647         1\n130875         1\n115454         1\n99748          1\nName: count, Length: 83563, dtype: int64"
          },
          "metadata": {}
        }
      ],
      "execution_count": 10,
      "metadata": {
        "jupyter": {
          "source_hidden": false,
          "outputs_hidden": false
        },
        "nteract": {
          "transient": {
            "deleting": false
          }
        },
        "gather": {
          "logged": 1688626154076
        }
      }
    },
    {
      "cell_type": "code",
      "source": [
        "medications_administered['Administration status'].value_counts()"
      ],
      "outputs": [
        {
          "output_type": "execute_result",
          "execution_count": 11,
          "data": {
            "text/plain": "Administration status\nGiven                          111703927\nHeld                             6139859\nRefused                          3470929\nCompleted (infusion orders)      1231777\nRemoved (patch taken off)         421904\nMissing dose                      384054\nInfusing (infusion orders)        381964\nNot given                          75922\nNot specified (no value)           31599\nStopped (infusion orders)           7650\nName: count, dtype: int64"
          },
          "metadata": {}
        }
      ],
      "execution_count": 11,
      "metadata": {
        "jupyter": {
          "source_hidden": false,
          "outputs_hidden": false
        },
        "nteract": {
          "transient": {
            "deleting": false
          }
        },
        "gather": {
          "logged": 1688626165620
        }
      }
    },
    {
      "cell_type": "markdown",
      "source": [
        "**Dropping the unnecessary columns**"
      ],
      "metadata": {
        "nteract": {
          "transient": {
            "deleting": false
          }
        }
      }
    },
    {
      "cell_type": "code",
      "source": [
        "medications_administered.drop(['Column1','Administration date','Administration end date','State','Dose form','Dose administered','Dose unit administered'], axis = 1,inplace = True)\r\n",
        "medications_administered"
      ],
      "outputs": [
        {
          "output_type": "execute_result",
          "execution_count": 12,
          "data": {
            "text/plain": "           Internalpatientid  Age at med administration   \n0                          1                  67.681687  \\\n1                          1                  67.682563   \n2                          1                  68.349672   \n3                          1                  68.353308   \n4                          1                  72.279863   \n...                      ...                        ...   \n123849580              99999                  96.358554   \n123849581              99999                  96.361282   \n123849582              99999                  96.364498   \n123849583              99999                  96.369586   \n123849584              99999                  96.370197   \n\n          Administered medication atc 5 Administration status  \n0                 omega-3-triglycerides                 Given  \n1                            metoprolol                 Given  \n2                 omega-3-triglycerides                 Given  \n3                            metoprolol                 Given  \n4                            metoprolol                 Given  \n...                                 ...                   ...  \n123849580                    salbutamol                 Given  \n123849581   insulin (human) fast-acting                  Held  \n123849582                 Not specified                 Given  \n123849583                      docusate                  Held  \n123849584                    travoprost                 Given  \n\n[123849585 rows x 4 columns]",
            "text/html": "<div>\n<style scoped>\n    .dataframe tbody tr th:only-of-type {\n        vertical-align: middle;\n    }\n\n    .dataframe tbody tr th {\n        vertical-align: top;\n    }\n\n    .dataframe thead th {\n        text-align: right;\n    }\n</style>\n<table border=\"1\" class=\"dataframe\">\n  <thead>\n    <tr style=\"text-align: right;\">\n      <th></th>\n      <th>Internalpatientid</th>\n      <th>Age at med administration</th>\n      <th>Administered medication atc 5</th>\n      <th>Administration status</th>\n    </tr>\n  </thead>\n  <tbody>\n    <tr>\n      <th>0</th>\n      <td>1</td>\n      <td>67.681687</td>\n      <td>omega-3-triglycerides</td>\n      <td>Given</td>\n    </tr>\n    <tr>\n      <th>1</th>\n      <td>1</td>\n      <td>67.682563</td>\n      <td>metoprolol</td>\n      <td>Given</td>\n    </tr>\n    <tr>\n      <th>2</th>\n      <td>1</td>\n      <td>68.349672</td>\n      <td>omega-3-triglycerides</td>\n      <td>Given</td>\n    </tr>\n    <tr>\n      <th>3</th>\n      <td>1</td>\n      <td>68.353308</td>\n      <td>metoprolol</td>\n      <td>Given</td>\n    </tr>\n    <tr>\n      <th>4</th>\n      <td>1</td>\n      <td>72.279863</td>\n      <td>metoprolol</td>\n      <td>Given</td>\n    </tr>\n    <tr>\n      <th>...</th>\n      <td>...</td>\n      <td>...</td>\n      <td>...</td>\n      <td>...</td>\n    </tr>\n    <tr>\n      <th>123849580</th>\n      <td>99999</td>\n      <td>96.358554</td>\n      <td>salbutamol</td>\n      <td>Given</td>\n    </tr>\n    <tr>\n      <th>123849581</th>\n      <td>99999</td>\n      <td>96.361282</td>\n      <td>insulin (human) fast-acting</td>\n      <td>Held</td>\n    </tr>\n    <tr>\n      <th>123849582</th>\n      <td>99999</td>\n      <td>96.364498</td>\n      <td>Not specified</td>\n      <td>Given</td>\n    </tr>\n    <tr>\n      <th>123849583</th>\n      <td>99999</td>\n      <td>96.369586</td>\n      <td>docusate</td>\n      <td>Held</td>\n    </tr>\n    <tr>\n      <th>123849584</th>\n      <td>99999</td>\n      <td>96.370197</td>\n      <td>travoprost</td>\n      <td>Given</td>\n    </tr>\n  </tbody>\n</table>\n<p>123849585 rows × 4 columns</p>\n</div>"
          },
          "metadata": {}
        }
      ],
      "execution_count": 12,
      "metadata": {
        "jupyter": {
          "source_hidden": false,
          "outputs_hidden": false
        },
        "nteract": {
          "transient": {
            "deleting": false
          }
        },
        "gather": {
          "logged": 1688626173275
        }
      }
    },
    {
      "cell_type": "markdown",
      "source": [
        "**Two -level of sorting first by \"Internalpatientid\" then \"Age at ed visit\".**"
      ],
      "metadata": {
        "nteract": {
          "transient": {
            "deleting": false
          }
        }
      }
    },
    {
      "cell_type": "code",
      "source": [
        "sorted_df = medications_administered.sort_values(by=['Internalpatientid','Age at med administration'])"
      ],
      "outputs": [],
      "execution_count": 13,
      "metadata": {
        "jupyter": {
          "source_hidden": false,
          "outputs_hidden": false
        },
        "nteract": {
          "transient": {
            "deleting": false
          }
        },
        "gather": {
          "logged": 1688626368387
        }
      }
    },
    {
      "cell_type": "code",
      "source": [
        "sorted_df"
      ],
      "outputs": [
        {
          "output_type": "execute_result",
          "execution_count": 14,
          "data": {
            "text/plain": "          Internalpatientid  Age at med administration   \n44034                     1                  67.676699  \\\n46808                     1                  67.677243   \n45897                     1                  67.677245   \n1148820                   1                  67.677247   \n48658                     1                  67.677258   \n...                     ...                        ...   \n52727434             169064                  81.691357   \n52655702             169064                  81.691357   \n52709551             169064                  81.691362   \n52820926             169064                  81.691480   \n52792938             169064                  81.691736   \n\n         Administered medication atc 5        Administration status  \n44034                       metoprolol                        Given  \n46808                       enoxaparin                        Given  \n45897            omega-3-triglycerides                        Given  \n1148820                     metoprolol                        Given  \n48658                    Not specified  Completed (infusion orders)  \n...                                ...                          ...  \n52727434                    paroxetine                        Given  \n52655702              senna glycosides                        Given  \n52709551                     oxycodone                        Given  \n52820926            potassium chloride                        Given  \n52792938                     lorazepam                        Given  \n\n[123849585 rows x 4 columns]",
            "text/html": "<div>\n<style scoped>\n    .dataframe tbody tr th:only-of-type {\n        vertical-align: middle;\n    }\n\n    .dataframe tbody tr th {\n        vertical-align: top;\n    }\n\n    .dataframe thead th {\n        text-align: right;\n    }\n</style>\n<table border=\"1\" class=\"dataframe\">\n  <thead>\n    <tr style=\"text-align: right;\">\n      <th></th>\n      <th>Internalpatientid</th>\n      <th>Age at med administration</th>\n      <th>Administered medication atc 5</th>\n      <th>Administration status</th>\n    </tr>\n  </thead>\n  <tbody>\n    <tr>\n      <th>44034</th>\n      <td>1</td>\n      <td>67.676699</td>\n      <td>metoprolol</td>\n      <td>Given</td>\n    </tr>\n    <tr>\n      <th>46808</th>\n      <td>1</td>\n      <td>67.677243</td>\n      <td>enoxaparin</td>\n      <td>Given</td>\n    </tr>\n    <tr>\n      <th>45897</th>\n      <td>1</td>\n      <td>67.677245</td>\n      <td>omega-3-triglycerides</td>\n      <td>Given</td>\n    </tr>\n    <tr>\n      <th>1148820</th>\n      <td>1</td>\n      <td>67.677247</td>\n      <td>metoprolol</td>\n      <td>Given</td>\n    </tr>\n    <tr>\n      <th>48658</th>\n      <td>1</td>\n      <td>67.677258</td>\n      <td>Not specified</td>\n      <td>Completed (infusion orders)</td>\n    </tr>\n    <tr>\n      <th>...</th>\n      <td>...</td>\n      <td>...</td>\n      <td>...</td>\n      <td>...</td>\n    </tr>\n    <tr>\n      <th>52727434</th>\n      <td>169064</td>\n      <td>81.691357</td>\n      <td>paroxetine</td>\n      <td>Given</td>\n    </tr>\n    <tr>\n      <th>52655702</th>\n      <td>169064</td>\n      <td>81.691357</td>\n      <td>senna glycosides</td>\n      <td>Given</td>\n    </tr>\n    <tr>\n      <th>52709551</th>\n      <td>169064</td>\n      <td>81.691362</td>\n      <td>oxycodone</td>\n      <td>Given</td>\n    </tr>\n    <tr>\n      <th>52820926</th>\n      <td>169064</td>\n      <td>81.691480</td>\n      <td>potassium chloride</td>\n      <td>Given</td>\n    </tr>\n    <tr>\n      <th>52792938</th>\n      <td>169064</td>\n      <td>81.691736</td>\n      <td>lorazepam</td>\n      <td>Given</td>\n    </tr>\n  </tbody>\n</table>\n<p>123849585 rows × 4 columns</p>\n</div>"
          },
          "metadata": {}
        }
      ],
      "execution_count": 14,
      "metadata": {
        "jupyter": {
          "source_hidden": false,
          "outputs_hidden": false
        },
        "nteract": {
          "transient": {
            "deleting": false
          }
        },
        "gather": {
          "logged": 1688626373447
        }
      }
    },
    {
      "cell_type": "code",
      "source": [
        "# Remove the rows where both columns contain \"Not Specified\"\r\n",
        "sorted_df = sorted_df.drop(sorted_df[(sorted_df['Administered medication atc 5'] == 'Not specified') & (sorted_df['Administration status'] == 'Not specified (no value)')].index)\r\n",
        "sorted_df"
      ],
      "outputs": [
        {
          "output_type": "execute_result",
          "execution_count": 15,
          "data": {
            "text/plain": "          Internalpatientid  Age at med administration   \n44034                     1                  67.676699  \\\n46808                     1                  67.677243   \n45897                     1                  67.677245   \n1148820                   1                  67.677247   \n48658                     1                  67.677258   \n...                     ...                        ...   \n52727434             169064                  81.691357   \n52655702             169064                  81.691357   \n52709551             169064                  81.691362   \n52820926             169064                  81.691480   \n52792938             169064                  81.691736   \n\n         Administered medication atc 5        Administration status  \n44034                       metoprolol                        Given  \n46808                       enoxaparin                        Given  \n45897            omega-3-triglycerides                        Given  \n1148820                     metoprolol                        Given  \n48658                    Not specified  Completed (infusion orders)  \n...                                ...                          ...  \n52727434                    paroxetine                        Given  \n52655702              senna glycosides                        Given  \n52709551                     oxycodone                        Given  \n52820926            potassium chloride                        Given  \n52792938                     lorazepam                        Given  \n\n[123843721 rows x 4 columns]",
            "text/html": "<div>\n<style scoped>\n    .dataframe tbody tr th:only-of-type {\n        vertical-align: middle;\n    }\n\n    .dataframe tbody tr th {\n        vertical-align: top;\n    }\n\n    .dataframe thead th {\n        text-align: right;\n    }\n</style>\n<table border=\"1\" class=\"dataframe\">\n  <thead>\n    <tr style=\"text-align: right;\">\n      <th></th>\n      <th>Internalpatientid</th>\n      <th>Age at med administration</th>\n      <th>Administered medication atc 5</th>\n      <th>Administration status</th>\n    </tr>\n  </thead>\n  <tbody>\n    <tr>\n      <th>44034</th>\n      <td>1</td>\n      <td>67.676699</td>\n      <td>metoprolol</td>\n      <td>Given</td>\n    </tr>\n    <tr>\n      <th>46808</th>\n      <td>1</td>\n      <td>67.677243</td>\n      <td>enoxaparin</td>\n      <td>Given</td>\n    </tr>\n    <tr>\n      <th>45897</th>\n      <td>1</td>\n      <td>67.677245</td>\n      <td>omega-3-triglycerides</td>\n      <td>Given</td>\n    </tr>\n    <tr>\n      <th>1148820</th>\n      <td>1</td>\n      <td>67.677247</td>\n      <td>metoprolol</td>\n      <td>Given</td>\n    </tr>\n    <tr>\n      <th>48658</th>\n      <td>1</td>\n      <td>67.677258</td>\n      <td>Not specified</td>\n      <td>Completed (infusion orders)</td>\n    </tr>\n    <tr>\n      <th>...</th>\n      <td>...</td>\n      <td>...</td>\n      <td>...</td>\n      <td>...</td>\n    </tr>\n    <tr>\n      <th>52727434</th>\n      <td>169064</td>\n      <td>81.691357</td>\n      <td>paroxetine</td>\n      <td>Given</td>\n    </tr>\n    <tr>\n      <th>52655702</th>\n      <td>169064</td>\n      <td>81.691357</td>\n      <td>senna glycosides</td>\n      <td>Given</td>\n    </tr>\n    <tr>\n      <th>52709551</th>\n      <td>169064</td>\n      <td>81.691362</td>\n      <td>oxycodone</td>\n      <td>Given</td>\n    </tr>\n    <tr>\n      <th>52820926</th>\n      <td>169064</td>\n      <td>81.691480</td>\n      <td>potassium chloride</td>\n      <td>Given</td>\n    </tr>\n    <tr>\n      <th>52792938</th>\n      <td>169064</td>\n      <td>81.691736</td>\n      <td>lorazepam</td>\n      <td>Given</td>\n    </tr>\n  </tbody>\n</table>\n<p>123843721 rows × 4 columns</p>\n</div>"
          },
          "metadata": {}
        }
      ],
      "execution_count": 15,
      "metadata": {
        "jupyter": {
          "source_hidden": false,
          "outputs_hidden": false
        },
        "nteract": {
          "transient": {
            "deleting": false
          }
        },
        "gather": {
          "logged": 1688626434458
        }
      }
    },
    {
      "cell_type": "code",
      "source": [
        "sorted_df.isnull().sum()"
      ],
      "outputs": [
        {
          "output_type": "execute_result",
          "execution_count": 16,
          "data": {
            "text/plain": "Internalpatientid                0\nAge at med administration        0\nAdministered medication atc 5    0\nAdministration status            0\ndtype: int64"
          },
          "metadata": {}
        }
      ],
      "execution_count": 16,
      "metadata": {
        "jupyter": {
          "source_hidden": false,
          "outputs_hidden": false
        },
        "nteract": {
          "transient": {
            "deleting": false
          }
        },
        "gather": {
          "logged": 1688626469861
        }
      }
    },
    {
      "cell_type": "code",
      "source": [
        "sorted_df.info()"
      ],
      "outputs": [
        {
          "output_type": "stream",
          "name": "stdout",
          "text": "<class 'pandas.core.frame.DataFrame'>\nIndex: 123843721 entries, 44034 to 52792938\nData columns (total 4 columns):\n #   Column                         Dtype  \n---  ------                         -----  \n 0   Internalpatientid              int64  \n 1   Age at med administration      float64\n 2   Administered medication atc 5  object \n 3   Administration status          object \ndtypes: float64(1), int64(1), object(2)\nmemory usage: 4.6+ GB\n"
        }
      ],
      "execution_count": 17,
      "metadata": {
        "jupyter": {
          "source_hidden": false,
          "outputs_hidden": false
        },
        "nteract": {
          "transient": {
            "deleting": false
          }
        },
        "gather": {
          "logged": 1688626470089
        }
      }
    },
    {
      "cell_type": "code",
      "source": [
        "# Format 'Age at measurement' values in the format 00.00\r\n",
        "sorted_df[\"Age at med administ\"] = sorted_df[\"Age at med administration\"].map(\"{:.5f}\".format)\r\n",
        "sorted_df"
      ],
      "outputs": [
        {
          "output_type": "execute_result",
          "execution_count": 18,
          "data": {
            "text/plain": "          Internalpatientid Age at med administration   \n44034                     1                  67.67670  \\\n46808                     1                  67.67724   \n45897                     1                  67.67724   \n1148820                   1                  67.67725   \n48658                     1                  67.67726   \n...                     ...                       ...   \n52727434             169064                  81.69136   \n52655702             169064                  81.69136   \n52709551             169064                  81.69136   \n52820926             169064                  81.69148   \n52792938             169064                  81.69174   \n\n         Administered medication atc 5        Administration status  \n44034                       metoprolol                        Given  \n46808                       enoxaparin                        Given  \n45897            omega-3-triglycerides                        Given  \n1148820                     metoprolol                        Given  \n48658                    Not specified  Completed (infusion orders)  \n...                                ...                          ...  \n52727434                    paroxetine                        Given  \n52655702              senna glycosides                        Given  \n52709551                     oxycodone                        Given  \n52820926            potassium chloride                        Given  \n52792938                     lorazepam                        Given  \n\n[123843721 rows x 4 columns]",
            "text/html": "<div>\n<style scoped>\n    .dataframe tbody tr th:only-of-type {\n        vertical-align: middle;\n    }\n\n    .dataframe tbody tr th {\n        vertical-align: top;\n    }\n\n    .dataframe thead th {\n        text-align: right;\n    }\n</style>\n<table border=\"1\" class=\"dataframe\">\n  <thead>\n    <tr style=\"text-align: right;\">\n      <th></th>\n      <th>Internalpatientid</th>\n      <th>Age at med administration</th>\n      <th>Administered medication atc 5</th>\n      <th>Administration status</th>\n    </tr>\n  </thead>\n  <tbody>\n    <tr>\n      <th>44034</th>\n      <td>1</td>\n      <td>67.67670</td>\n      <td>metoprolol</td>\n      <td>Given</td>\n    </tr>\n    <tr>\n      <th>46808</th>\n      <td>1</td>\n      <td>67.67724</td>\n      <td>enoxaparin</td>\n      <td>Given</td>\n    </tr>\n    <tr>\n      <th>45897</th>\n      <td>1</td>\n      <td>67.67724</td>\n      <td>omega-3-triglycerides</td>\n      <td>Given</td>\n    </tr>\n    <tr>\n      <th>1148820</th>\n      <td>1</td>\n      <td>67.67725</td>\n      <td>metoprolol</td>\n      <td>Given</td>\n    </tr>\n    <tr>\n      <th>48658</th>\n      <td>1</td>\n      <td>67.67726</td>\n      <td>Not specified</td>\n      <td>Completed (infusion orders)</td>\n    </tr>\n    <tr>\n      <th>...</th>\n      <td>...</td>\n      <td>...</td>\n      <td>...</td>\n      <td>...</td>\n    </tr>\n    <tr>\n      <th>52727434</th>\n      <td>169064</td>\n      <td>81.69136</td>\n      <td>paroxetine</td>\n      <td>Given</td>\n    </tr>\n    <tr>\n      <th>52655702</th>\n      <td>169064</td>\n      <td>81.69136</td>\n      <td>senna glycosides</td>\n      <td>Given</td>\n    </tr>\n    <tr>\n      <th>52709551</th>\n      <td>169064</td>\n      <td>81.69136</td>\n      <td>oxycodone</td>\n      <td>Given</td>\n    </tr>\n    <tr>\n      <th>52820926</th>\n      <td>169064</td>\n      <td>81.69148</td>\n      <td>potassium chloride</td>\n      <td>Given</td>\n    </tr>\n    <tr>\n      <th>52792938</th>\n      <td>169064</td>\n      <td>81.69174</td>\n      <td>lorazepam</td>\n      <td>Given</td>\n    </tr>\n  </tbody>\n</table>\n<p>123843721 rows × 4 columns</p>\n</div>"
          },
          "metadata": {}
        }
      ],
      "execution_count": 18,
      "metadata": {
        "jupyter": {
          "source_hidden": false,
          "outputs_hidden": false
        },
        "nteract": {
          "transient": {
            "deleting": false
          }
        },
        "gather": {
          "logged": 1688626532265
        }
      }
    },
    {
      "cell_type": "code",
      "source": [
        "sorted_df.info()"
      ],
      "outputs": [
        {
          "output_type": "stream",
          "name": "stdout",
          "text": "<class 'pandas.core.frame.DataFrame'>\nIndex: 123843721 entries, 44034 to 52792938\nData columns (total 4 columns):\n #   Column                         Dtype \n---  ------                         ----- \n 0   Internalpatientid              int64 \n 1   Age at med administration      object\n 2   Administered medication atc 5  object\n 3   Administration status          object\ndtypes: int64(1), object(3)\nmemory usage: 4.6+ GB\n"
        }
      ],
      "execution_count": 19,
      "metadata": {
        "jupyter": {
          "source_hidden": false,
          "outputs_hidden": false
        },
        "nteract": {
          "transient": {
            "deleting": false
          }
        },
        "gather": {
          "logged": 1688626546381
        }
      }
    },
    {
      "cell_type": "code",
      "source": [
        "# Find the maximum age for each internal patient id\r\n",
        "max_ages = sorted_df.groupby('Internalpatientid')['Age at med administration'].max().reset_index()\r\n",
        "\r\n",
        "# Merge with the original dataframe to get the rows with the highest age\r\n",
        "\r\n",
        "result_df = pd.merge(sorted_df, max_ages, on =['Internalpatientid','Age at med administration'], how = 'inner')\r\n",
        "\r\n",
        "result_df"
      ],
      "outputs": [
        {
          "output_type": "execute_result",
          "execution_count": 20,
          "data": {
            "text/plain": "        Internalpatientid Age at med administration   \n0                       1                  79.75565  \\\n1                       2                  69.02609   \n2                       2                  69.02609   \n3                       3                  82.28547   \n4                       4                  84.18682   \n...                   ...                       ...   \n190151             169060                  71.30210   \n190152             169060                  71.30210   \n190153             169062                  74.18286   \n190154             169062                  74.18286   \n190155             169064                  81.69174   \n\n       Administered medication atc 5       Administration status  \n0                          iopromide    Not specified (no value)  \n1                         gabapentin                       Given  \n2                          capsaicin                       Given  \n3                          glipizide                        Held  \n4                        dorzolamide                       Given  \n...                              ...                         ...  \n190151                    sucralfate                        Held  \n190152               ferrous sulfate                        Held  \n190153                 Not specified  Infusing (infusion orders)  \n190154                      morphine  Infusing (infusion orders)  \n190155                     lorazepam                       Given  \n\n[190156 rows x 4 columns]",
            "text/html": "<div>\n<style scoped>\n    .dataframe tbody tr th:only-of-type {\n        vertical-align: middle;\n    }\n\n    .dataframe tbody tr th {\n        vertical-align: top;\n    }\n\n    .dataframe thead th {\n        text-align: right;\n    }\n</style>\n<table border=\"1\" class=\"dataframe\">\n  <thead>\n    <tr style=\"text-align: right;\">\n      <th></th>\n      <th>Internalpatientid</th>\n      <th>Age at med administration</th>\n      <th>Administered medication atc 5</th>\n      <th>Administration status</th>\n    </tr>\n  </thead>\n  <tbody>\n    <tr>\n      <th>0</th>\n      <td>1</td>\n      <td>79.75565</td>\n      <td>iopromide</td>\n      <td>Not specified (no value)</td>\n    </tr>\n    <tr>\n      <th>1</th>\n      <td>2</td>\n      <td>69.02609</td>\n      <td>gabapentin</td>\n      <td>Given</td>\n    </tr>\n    <tr>\n      <th>2</th>\n      <td>2</td>\n      <td>69.02609</td>\n      <td>capsaicin</td>\n      <td>Given</td>\n    </tr>\n    <tr>\n      <th>3</th>\n      <td>3</td>\n      <td>82.28547</td>\n      <td>glipizide</td>\n      <td>Held</td>\n    </tr>\n    <tr>\n      <th>4</th>\n      <td>4</td>\n      <td>84.18682</td>\n      <td>dorzolamide</td>\n      <td>Given</td>\n    </tr>\n    <tr>\n      <th>...</th>\n      <td>...</td>\n      <td>...</td>\n      <td>...</td>\n      <td>...</td>\n    </tr>\n    <tr>\n      <th>190151</th>\n      <td>169060</td>\n      <td>71.30210</td>\n      <td>sucralfate</td>\n      <td>Held</td>\n    </tr>\n    <tr>\n      <th>190152</th>\n      <td>169060</td>\n      <td>71.30210</td>\n      <td>ferrous sulfate</td>\n      <td>Held</td>\n    </tr>\n    <tr>\n      <th>190153</th>\n      <td>169062</td>\n      <td>74.18286</td>\n      <td>Not specified</td>\n      <td>Infusing (infusion orders)</td>\n    </tr>\n    <tr>\n      <th>190154</th>\n      <td>169062</td>\n      <td>74.18286</td>\n      <td>morphine</td>\n      <td>Infusing (infusion orders)</td>\n    </tr>\n    <tr>\n      <th>190155</th>\n      <td>169064</td>\n      <td>81.69174</td>\n      <td>lorazepam</td>\n      <td>Given</td>\n    </tr>\n  </tbody>\n</table>\n<p>190156 rows × 4 columns</p>\n</div>"
          },
          "metadata": {}
        }
      ],
      "execution_count": 20,
      "metadata": {
        "jupyter": {
          "source_hidden": false,
          "outputs_hidden": false
        },
        "nteract": {
          "transient": {
            "deleting": false
          }
        },
        "gather": {
          "logged": 1688626627222
        }
      }
    },
    {
      "cell_type": "code",
      "source": [
        "# Convert 'Age at measurement' column from object to float\r\n",
        "result_df[\"Age at med administration\"] = result_df[\"Age at med administration\"].astype(float)\r\n",
        "\r\n",
        " \r\n",
        "\r\n",
        "# Round off the values in the 'Age at measurement' column to two decimal places\r\n",
        "result_df[\"Age at med administration\"] = result_df[\"Age at med administration\"].round()"
      ],
      "outputs": [],
      "execution_count": 21,
      "metadata": {
        "jupyter": {
          "source_hidden": false,
          "outputs_hidden": false
        },
        "nteract": {
          "transient": {
            "deleting": false
          }
        },
        "gather": {
          "logged": 1688626634791
        }
      }
    },
    {
      "cell_type": "code",
      "source": [
        "result_df['Age at med administration'] = result_df['Age at med administration'].astype('int')"
      ],
      "outputs": [],
      "execution_count": 22,
      "metadata": {
        "jupyter": {
          "source_hidden": false,
          "outputs_hidden": false
        },
        "nteract": {
          "transient": {
            "deleting": false
          }
        },
        "gather": {
          "logged": 1688626643280
        }
      }
    },
    {
      "cell_type": "code",
      "source": [
        "# Now the value counts\r\n",
        "result_df['Internalpatientid'].value_counts()"
      ],
      "outputs": [
        {
          "output_type": "execute_result",
          "execution_count": 23,
          "data": {
            "text/plain": "Internalpatientid\n39614     25\n9942      23\n30751     23\n98434     22\n12387     20\n          ..\n74116      1\n74124      1\n74126      1\n74131      1\n169064     1\nName: count, Length: 83510, dtype: int64"
          },
          "metadata": {}
        }
      ],
      "execution_count": 23,
      "metadata": {
        "jupyter": {
          "source_hidden": false,
          "outputs_hidden": false
        },
        "nteract": {
          "transient": {
            "deleting": false
          }
        },
        "gather": {
          "logged": 1688626645722
        }
      }
    },
    {
      "cell_type": "code",
      "source": [
        "result_df['medication_administered_medication_atc5'] = result_df['Age at med administration'].astype(str) + '_' + result_df['Administered medication atc 5']\r\n",
        "result_df"
      ],
      "outputs": [
        {
          "output_type": "execute_result",
          "execution_count": 24,
          "data": {
            "text/plain": "        Internalpatientid  Age at med administration   \n0                       1                         80  \\\n1                       2                         69   \n2                       2                         69   \n3                       3                         82   \n4                       4                         84   \n...                   ...                        ...   \n190151             169060                         71   \n190152             169060                         71   \n190153             169062                         74   \n190154             169062                         74   \n190155             169064                         82   \n\n       Administered medication atc 5       Administration status   \n0                          iopromide    Not specified (no value)  \\\n1                         gabapentin                       Given   \n2                          capsaicin                       Given   \n3                          glipizide                        Held   \n4                        dorzolamide                       Given   \n...                              ...                         ...   \n190151                    sucralfate                        Held   \n190152               ferrous sulfate                        Held   \n190153                 Not specified  Infusing (infusion orders)   \n190154                      morphine  Infusing (infusion orders)   \n190155                     lorazepam                       Given   \n\n       medication_administered_medication_atc5  \n0                                 80_iopromide  \n1                                69_gabapentin  \n2                                 69_capsaicin  \n3                                 82_glipizide  \n4                               84_dorzolamide  \n...                                        ...  \n190151                           71_sucralfate  \n190152                      71_ferrous sulfate  \n190153                        74_Not specified  \n190154                             74_morphine  \n190155                            82_lorazepam  \n\n[190156 rows x 5 columns]",
            "text/html": "<div>\n<style scoped>\n    .dataframe tbody tr th:only-of-type {\n        vertical-align: middle;\n    }\n\n    .dataframe tbody tr th {\n        vertical-align: top;\n    }\n\n    .dataframe thead th {\n        text-align: right;\n    }\n</style>\n<table border=\"1\" class=\"dataframe\">\n  <thead>\n    <tr style=\"text-align: right;\">\n      <th></th>\n      <th>Internalpatientid</th>\n      <th>Age at med administration</th>\n      <th>Administered medication atc 5</th>\n      <th>Administration status</th>\n      <th>medication_administered_medication_atc5</th>\n    </tr>\n  </thead>\n  <tbody>\n    <tr>\n      <th>0</th>\n      <td>1</td>\n      <td>80</td>\n      <td>iopromide</td>\n      <td>Not specified (no value)</td>\n      <td>80_iopromide</td>\n    </tr>\n    <tr>\n      <th>1</th>\n      <td>2</td>\n      <td>69</td>\n      <td>gabapentin</td>\n      <td>Given</td>\n      <td>69_gabapentin</td>\n    </tr>\n    <tr>\n      <th>2</th>\n      <td>2</td>\n      <td>69</td>\n      <td>capsaicin</td>\n      <td>Given</td>\n      <td>69_capsaicin</td>\n    </tr>\n    <tr>\n      <th>3</th>\n      <td>3</td>\n      <td>82</td>\n      <td>glipizide</td>\n      <td>Held</td>\n      <td>82_glipizide</td>\n    </tr>\n    <tr>\n      <th>4</th>\n      <td>4</td>\n      <td>84</td>\n      <td>dorzolamide</td>\n      <td>Given</td>\n      <td>84_dorzolamide</td>\n    </tr>\n    <tr>\n      <th>...</th>\n      <td>...</td>\n      <td>...</td>\n      <td>...</td>\n      <td>...</td>\n      <td>...</td>\n    </tr>\n    <tr>\n      <th>190151</th>\n      <td>169060</td>\n      <td>71</td>\n      <td>sucralfate</td>\n      <td>Held</td>\n      <td>71_sucralfate</td>\n    </tr>\n    <tr>\n      <th>190152</th>\n      <td>169060</td>\n      <td>71</td>\n      <td>ferrous sulfate</td>\n      <td>Held</td>\n      <td>71_ferrous sulfate</td>\n    </tr>\n    <tr>\n      <th>190153</th>\n      <td>169062</td>\n      <td>74</td>\n      <td>Not specified</td>\n      <td>Infusing (infusion orders)</td>\n      <td>74_Not specified</td>\n    </tr>\n    <tr>\n      <th>190154</th>\n      <td>169062</td>\n      <td>74</td>\n      <td>morphine</td>\n      <td>Infusing (infusion orders)</td>\n      <td>74_morphine</td>\n    </tr>\n    <tr>\n      <th>190155</th>\n      <td>169064</td>\n      <td>82</td>\n      <td>lorazepam</td>\n      <td>Given</td>\n      <td>82_lorazepam</td>\n    </tr>\n  </tbody>\n</table>\n<p>190156 rows × 5 columns</p>\n</div>"
          },
          "metadata": {}
        }
      ],
      "execution_count": 24,
      "metadata": {
        "jupyter": {
          "source_hidden": false,
          "outputs_hidden": false
        },
        "nteract": {
          "transient": {
            "deleting": false
          }
        },
        "gather": {
          "logged": 1688627010356
        }
      }
    },
    {
      "cell_type": "code",
      "source": [
        "result_df['medication_administered_status'] = result_df['Age at med administration'].astype(str) + '_' + result_df['Administration status']\r\n",
        "result_df"
      ],
      "outputs": [
        {
          "output_type": "execute_result",
          "execution_count": 25,
          "data": {
            "text/plain": "        Internalpatientid  Age at med administration   \n0                       1                         80  \\\n1                       2                         69   \n2                       2                         69   \n3                       3                         82   \n4                       4                         84   \n...                   ...                        ...   \n190151             169060                         71   \n190152             169060                         71   \n190153             169062                         74   \n190154             169062                         74   \n190155             169064                         82   \n\n       Administered medication atc 5       Administration status   \n0                          iopromide    Not specified (no value)  \\\n1                         gabapentin                       Given   \n2                          capsaicin                       Given   \n3                          glipizide                        Held   \n4                        dorzolamide                       Given   \n...                              ...                         ...   \n190151                    sucralfate                        Held   \n190152               ferrous sulfate                        Held   \n190153                 Not specified  Infusing (infusion orders)   \n190154                      morphine  Infusing (infusion orders)   \n190155                     lorazepam                       Given   \n\n       medication_administered_medication_atc5 medication_administered_status  \n0                                 80_iopromide    80_Not specified (no value)  \n1                                69_gabapentin                       69_Given  \n2                                 69_capsaicin                       69_Given  \n3                                 82_glipizide                        82_Held  \n4                               84_dorzolamide                       84_Given  \n...                                        ...                            ...  \n190151                           71_sucralfate                        71_Held  \n190152                      71_ferrous sulfate                        71_Held  \n190153                        74_Not specified  74_Infusing (infusion orders)  \n190154                             74_morphine  74_Infusing (infusion orders)  \n190155                            82_lorazepam                       82_Given  \n\n[190156 rows x 6 columns]",
            "text/html": "<div>\n<style scoped>\n    .dataframe tbody tr th:only-of-type {\n        vertical-align: middle;\n    }\n\n    .dataframe tbody tr th {\n        vertical-align: top;\n    }\n\n    .dataframe thead th {\n        text-align: right;\n    }\n</style>\n<table border=\"1\" class=\"dataframe\">\n  <thead>\n    <tr style=\"text-align: right;\">\n      <th></th>\n      <th>Internalpatientid</th>\n      <th>Age at med administration</th>\n      <th>Administered medication atc 5</th>\n      <th>Administration status</th>\n      <th>medication_administered_medication_atc5</th>\n      <th>medication_administered_status</th>\n    </tr>\n  </thead>\n  <tbody>\n    <tr>\n      <th>0</th>\n      <td>1</td>\n      <td>80</td>\n      <td>iopromide</td>\n      <td>Not specified (no value)</td>\n      <td>80_iopromide</td>\n      <td>80_Not specified (no value)</td>\n    </tr>\n    <tr>\n      <th>1</th>\n      <td>2</td>\n      <td>69</td>\n      <td>gabapentin</td>\n      <td>Given</td>\n      <td>69_gabapentin</td>\n      <td>69_Given</td>\n    </tr>\n    <tr>\n      <th>2</th>\n      <td>2</td>\n      <td>69</td>\n      <td>capsaicin</td>\n      <td>Given</td>\n      <td>69_capsaicin</td>\n      <td>69_Given</td>\n    </tr>\n    <tr>\n      <th>3</th>\n      <td>3</td>\n      <td>82</td>\n      <td>glipizide</td>\n      <td>Held</td>\n      <td>82_glipizide</td>\n      <td>82_Held</td>\n    </tr>\n    <tr>\n      <th>4</th>\n      <td>4</td>\n      <td>84</td>\n      <td>dorzolamide</td>\n      <td>Given</td>\n      <td>84_dorzolamide</td>\n      <td>84_Given</td>\n    </tr>\n    <tr>\n      <th>...</th>\n      <td>...</td>\n      <td>...</td>\n      <td>...</td>\n      <td>...</td>\n      <td>...</td>\n      <td>...</td>\n    </tr>\n    <tr>\n      <th>190151</th>\n      <td>169060</td>\n      <td>71</td>\n      <td>sucralfate</td>\n      <td>Held</td>\n      <td>71_sucralfate</td>\n      <td>71_Held</td>\n    </tr>\n    <tr>\n      <th>190152</th>\n      <td>169060</td>\n      <td>71</td>\n      <td>ferrous sulfate</td>\n      <td>Held</td>\n      <td>71_ferrous sulfate</td>\n      <td>71_Held</td>\n    </tr>\n    <tr>\n      <th>190153</th>\n      <td>169062</td>\n      <td>74</td>\n      <td>Not specified</td>\n      <td>Infusing (infusion orders)</td>\n      <td>74_Not specified</td>\n      <td>74_Infusing (infusion orders)</td>\n    </tr>\n    <tr>\n      <th>190154</th>\n      <td>169062</td>\n      <td>74</td>\n      <td>morphine</td>\n      <td>Infusing (infusion orders)</td>\n      <td>74_morphine</td>\n      <td>74_Infusing (infusion orders)</td>\n    </tr>\n    <tr>\n      <th>190155</th>\n      <td>169064</td>\n      <td>82</td>\n      <td>lorazepam</td>\n      <td>Given</td>\n      <td>82_lorazepam</td>\n      <td>82_Given</td>\n    </tr>\n  </tbody>\n</table>\n<p>190156 rows × 6 columns</p>\n</div>"
          },
          "metadata": {}
        }
      ],
      "execution_count": 25,
      "metadata": {
        "jupyter": {
          "source_hidden": false,
          "outputs_hidden": false
        },
        "nteract": {
          "transient": {
            "deleting": false
          }
        },
        "gather": {
          "logged": 1688627013762
        }
      }
    },
    {
      "cell_type": "code",
      "source": [
        "result_df.drop(['Age at med administration','Administered medication atc 5','Administration status'], axis = 1,inplace = True)"
      ],
      "outputs": [],
      "execution_count": 26,
      "metadata": {
        "jupyter": {
          "source_hidden": false,
          "outputs_hidden": false
        },
        "nteract": {
          "transient": {
            "deleting": false
          }
        },
        "gather": {
          "logged": 1688627017481
        }
      }
    },
    {
      "cell_type": "code",
      "source": [
        "result_df"
      ],
      "outputs": [
        {
          "output_type": "execute_result",
          "execution_count": 27,
          "data": {
            "text/plain": "        Internalpatientid medication_administered_medication_atc5   \n0                       1                            80_iopromide  \\\n1                       2                           69_gabapentin   \n2                       2                            69_capsaicin   \n3                       3                            82_glipizide   \n4                       4                          84_dorzolamide   \n...                   ...                                     ...   \n190151             169060                           71_sucralfate   \n190152             169060                      71_ferrous sulfate   \n190153             169062                        74_Not specified   \n190154             169062                             74_morphine   \n190155             169064                            82_lorazepam   \n\n       medication_administered_status  \n0         80_Not specified (no value)  \n1                            69_Given  \n2                            69_Given  \n3                             82_Held  \n4                            84_Given  \n...                               ...  \n190151                        71_Held  \n190152                        71_Held  \n190153  74_Infusing (infusion orders)  \n190154  74_Infusing (infusion orders)  \n190155                       82_Given  \n\n[190156 rows x 3 columns]",
            "text/html": "<div>\n<style scoped>\n    .dataframe tbody tr th:only-of-type {\n        vertical-align: middle;\n    }\n\n    .dataframe tbody tr th {\n        vertical-align: top;\n    }\n\n    .dataframe thead th {\n        text-align: right;\n    }\n</style>\n<table border=\"1\" class=\"dataframe\">\n  <thead>\n    <tr style=\"text-align: right;\">\n      <th></th>\n      <th>Internalpatientid</th>\n      <th>medication_administered_medication_atc5</th>\n      <th>medication_administered_status</th>\n    </tr>\n  </thead>\n  <tbody>\n    <tr>\n      <th>0</th>\n      <td>1</td>\n      <td>80_iopromide</td>\n      <td>80_Not specified (no value)</td>\n    </tr>\n    <tr>\n      <th>1</th>\n      <td>2</td>\n      <td>69_gabapentin</td>\n      <td>69_Given</td>\n    </tr>\n    <tr>\n      <th>2</th>\n      <td>2</td>\n      <td>69_capsaicin</td>\n      <td>69_Given</td>\n    </tr>\n    <tr>\n      <th>3</th>\n      <td>3</td>\n      <td>82_glipizide</td>\n      <td>82_Held</td>\n    </tr>\n    <tr>\n      <th>4</th>\n      <td>4</td>\n      <td>84_dorzolamide</td>\n      <td>84_Given</td>\n    </tr>\n    <tr>\n      <th>...</th>\n      <td>...</td>\n      <td>...</td>\n      <td>...</td>\n    </tr>\n    <tr>\n      <th>190151</th>\n      <td>169060</td>\n      <td>71_sucralfate</td>\n      <td>71_Held</td>\n    </tr>\n    <tr>\n      <th>190152</th>\n      <td>169060</td>\n      <td>71_ferrous sulfate</td>\n      <td>71_Held</td>\n    </tr>\n    <tr>\n      <th>190153</th>\n      <td>169062</td>\n      <td>74_Not specified</td>\n      <td>74_Infusing (infusion orders)</td>\n    </tr>\n    <tr>\n      <th>190154</th>\n      <td>169062</td>\n      <td>74_morphine</td>\n      <td>74_Infusing (infusion orders)</td>\n    </tr>\n    <tr>\n      <th>190155</th>\n      <td>169064</td>\n      <td>82_lorazepam</td>\n      <td>82_Given</td>\n    </tr>\n  </tbody>\n</table>\n<p>190156 rows × 3 columns</p>\n</div>"
          },
          "metadata": {}
        }
      ],
      "execution_count": 27,
      "metadata": {
        "jupyter": {
          "source_hidden": false,
          "outputs_hidden": false
        },
        "nteract": {
          "transient": {
            "deleting": false
          }
        },
        "gather": {
          "logged": 1688627020633
        }
      }
    },
    {
      "cell_type": "markdown",
      "source": [
        "**Again checking the value counts**"
      ],
      "metadata": {
        "nteract": {
          "transient": {
            "deleting": false
          }
        }
      }
    },
    {
      "cell_type": "code",
      "source": [
        "result_df['Internalpatientid'].value_counts()"
      ],
      "outputs": [
        {
          "output_type": "execute_result",
          "execution_count": 28,
          "data": {
            "text/plain": "Internalpatientid\n39614     25\n9942      23\n30751     23\n98434     22\n12387     20\n          ..\n74116      1\n74124      1\n74126      1\n74131      1\n169064     1\nName: count, Length: 83510, dtype: int64"
          },
          "metadata": {}
        }
      ],
      "execution_count": 28,
      "metadata": {
        "jupyter": {
          "source_hidden": false,
          "outputs_hidden": false
        },
        "nteract": {
          "transient": {
            "deleting": false
          }
        },
        "gather": {
          "logged": 1688627025464
        }
      }
    },
    {
      "cell_type": "code",
      "source": [
        "import numpy as np"
      ],
      "outputs": [],
      "execution_count": 30,
      "metadata": {
        "jupyter": {
          "source_hidden": false,
          "outputs_hidden": false
        },
        "nteract": {
          "transient": {
            "deleting": false
          }
        },
        "gather": {
          "logged": 1688621159719
        }
      }
    },
    {
      "cell_type": "code",
      "source": [
        "import pandas as pd"
      ],
      "outputs": [],
      "execution_count": 29,
      "metadata": {
        "jupyter": {
          "source_hidden": false,
          "outputs_hidden": false
        },
        "nteract": {
          "transient": {
            "deleting": false
          }
        },
        "gather": {
          "logged": 1688627032381
        }
      }
    },
    {
      "cell_type": "code",
      "source": [
        "result_df['medication_administered_medication_atc5'] = result_df['medication_administered_medication_atc5'].astype(str)\r\n",
        "result_df['medication_administered_status'] = result_df['medication_administered_status'].astype(str)"
      ],
      "outputs": [],
      "execution_count": 30,
      "metadata": {
        "jupyter": {
          "source_hidden": false,
          "outputs_hidden": false
        },
        "nteract": {
          "transient": {
            "deleting": false
          }
        },
        "gather": {
          "logged": 1688627035039
        }
      }
    },
    {
      "cell_type": "code",
      "source": [
        "df_medication_administered = result_df.groupby('Internalpatientid').apply(lambda x: pd.Series({\r\n",
        "    'medication_administered_medication_atc5' : ', '.join(x['medication_administered_medication_atc5']),\r\n",
        "    'medication_administered_status' : ', '.join(x['medication_administered_status'])\r\n",
        "    \r\n",
        "\r\n",
        "}))\r\n",
        "\r\n",
        "# Reset the index of the dataframe\r\n",
        "df_medication_administered = df_medication_administered.reset_index()\r\n",
        "\r\n",
        "# print the grouped dataframe\r\n",
        "print(df_medication_administered)"
      ],
      "outputs": [
        {
          "output_type": "stream",
          "name": "stdout",
          "text": "       Internalpatientid            medication_administered_medication_atc5   \n0                      1                                       80_iopromide  \\\n1                      2                        69_gabapentin, 69_capsaicin   \n2                      3                                       82_glipizide   \n3                      4  84_dorzolamide, 84_bimatoprost, 84_brimonidine...   \n4                      5                                        77_morphine   \n...                  ...                                                ...   \n83505             169055                             59_glyceryl trinitrate   \n83506             169057                                      86_diclofenac   \n83507             169060  71_morphine, 71_heparin, 71_sucralfate, 71_fer...   \n83508             169062                      74_Not specified, 74_morphine   \n83509             169064                                       82_lorazepam   \n\n                          medication_administered_status  \n0                            80_Not specified (no value)  \n1                                     69_Given, 69_Given  \n2                                                82_Held  \n3       84_Given, 84_Given, 84_Given, 84_Given, 84_Given  \n4                                               77_Given  \n...                                                  ...  \n83505                                           59_Given  \n83506                                           86_Given  \n83507                 71_Held, 71_Held, 71_Held, 71_Held  \n83508  74_Infusing (infusion orders), 74_Infusing (in...  \n83509                                           82_Given  \n\n[83510 rows x 3 columns]\n"
        }
      ],
      "execution_count": 31,
      "metadata": {
        "jupyter": {
          "source_hidden": false,
          "outputs_hidden": false
        },
        "nteract": {
          "transient": {
            "deleting": false
          }
        },
        "gather": {
          "logged": 1688627064413
        }
      }
    },
    {
      "cell_type": "markdown",
      "source": [
        "#### **Final Data Frame**"
      ],
      "metadata": {
        "nteract": {
          "transient": {
            "deleting": false
          }
        }
      }
    },
    {
      "cell_type": "code",
      "source": [
        "df_medication_administered"
      ],
      "outputs": [
        {
          "output_type": "execute_result",
          "execution_count": 32,
          "data": {
            "text/plain": "       Internalpatientid            medication_administered_medication_atc5   \n0                      1                                       80_iopromide  \\\n1                      2                        69_gabapentin, 69_capsaicin   \n2                      3                                       82_glipizide   \n3                      4  84_dorzolamide, 84_bimatoprost, 84_brimonidine...   \n4                      5                                        77_morphine   \n...                  ...                                                ...   \n83505             169055                             59_glyceryl trinitrate   \n83506             169057                                      86_diclofenac   \n83507             169060  71_morphine, 71_heparin, 71_sucralfate, 71_fer...   \n83508             169062                      74_Not specified, 74_morphine   \n83509             169064                                       82_lorazepam   \n\n                          medication_administered_status  \n0                            80_Not specified (no value)  \n1                                     69_Given, 69_Given  \n2                                                82_Held  \n3       84_Given, 84_Given, 84_Given, 84_Given, 84_Given  \n4                                               77_Given  \n...                                                  ...  \n83505                                           59_Given  \n83506                                           86_Given  \n83507                 71_Held, 71_Held, 71_Held, 71_Held  \n83508  74_Infusing (infusion orders), 74_Infusing (in...  \n83509                                           82_Given  \n\n[83510 rows x 3 columns]",
            "text/html": "<div>\n<style scoped>\n    .dataframe tbody tr th:only-of-type {\n        vertical-align: middle;\n    }\n\n    .dataframe tbody tr th {\n        vertical-align: top;\n    }\n\n    .dataframe thead th {\n        text-align: right;\n    }\n</style>\n<table border=\"1\" class=\"dataframe\">\n  <thead>\n    <tr style=\"text-align: right;\">\n      <th></th>\n      <th>Internalpatientid</th>\n      <th>medication_administered_medication_atc5</th>\n      <th>medication_administered_status</th>\n    </tr>\n  </thead>\n  <tbody>\n    <tr>\n      <th>0</th>\n      <td>1</td>\n      <td>80_iopromide</td>\n      <td>80_Not specified (no value)</td>\n    </tr>\n    <tr>\n      <th>1</th>\n      <td>2</td>\n      <td>69_gabapentin, 69_capsaicin</td>\n      <td>69_Given, 69_Given</td>\n    </tr>\n    <tr>\n      <th>2</th>\n      <td>3</td>\n      <td>82_glipizide</td>\n      <td>82_Held</td>\n    </tr>\n    <tr>\n      <th>3</th>\n      <td>4</td>\n      <td>84_dorzolamide, 84_bimatoprost, 84_brimonidine...</td>\n      <td>84_Given, 84_Given, 84_Given, 84_Given, 84_Given</td>\n    </tr>\n    <tr>\n      <th>4</th>\n      <td>5</td>\n      <td>77_morphine</td>\n      <td>77_Given</td>\n    </tr>\n    <tr>\n      <th>...</th>\n      <td>...</td>\n      <td>...</td>\n      <td>...</td>\n    </tr>\n    <tr>\n      <th>83505</th>\n      <td>169055</td>\n      <td>59_glyceryl trinitrate</td>\n      <td>59_Given</td>\n    </tr>\n    <tr>\n      <th>83506</th>\n      <td>169057</td>\n      <td>86_diclofenac</td>\n      <td>86_Given</td>\n    </tr>\n    <tr>\n      <th>83507</th>\n      <td>169060</td>\n      <td>71_morphine, 71_heparin, 71_sucralfate, 71_fer...</td>\n      <td>71_Held, 71_Held, 71_Held, 71_Held</td>\n    </tr>\n    <tr>\n      <th>83508</th>\n      <td>169062</td>\n      <td>74_Not specified, 74_morphine</td>\n      <td>74_Infusing (infusion orders), 74_Infusing (in...</td>\n    </tr>\n    <tr>\n      <th>83509</th>\n      <td>169064</td>\n      <td>82_lorazepam</td>\n      <td>82_Given</td>\n    </tr>\n  </tbody>\n</table>\n<p>83510 rows × 3 columns</p>\n</div>"
          },
          "metadata": {}
        }
      ],
      "execution_count": 32,
      "metadata": {
        "jupyter": {
          "source_hidden": false,
          "outputs_hidden": false
        },
        "nteract": {
          "transient": {
            "deleting": false
          }
        },
        "gather": {
          "logged": 1688627072875
        }
      }
    },
    {
      "cell_type": "code",
      "source": [
        "df_medication_administered['Internalpatientid'].value_counts()"
      ],
      "outputs": [
        {
          "output_type": "execute_result",
          "execution_count": 33,
          "data": {
            "text/plain": "Internalpatientid\n1         1\n112612    1\n112642    1\n112640    1\n112639    1\n         ..\n56327     1\n56326     1\n56323     1\n56322     1\n169064    1\nName: count, Length: 83510, dtype: int64"
          },
          "metadata": {}
        }
      ],
      "execution_count": 33,
      "metadata": {
        "jupyter": {
          "source_hidden": false,
          "outputs_hidden": false
        },
        "nteract": {
          "transient": {
            "deleting": false
          }
        },
        "gather": {
          "logged": 1688627077002
        }
      }
    },
    {
      "cell_type": "code",
      "source": [
        "# saving as the csv file in the appropriate directory\r\n",
        "df_medication_administered.to_csv('/mnt/batch/tasks/shared/LS_root/mounts/clusters/team3-nisha-gpu/code/Users/900379/Output_files_train/df_medication_administered.csv')"
      ],
      "outputs": [],
      "execution_count": 34,
      "metadata": {
        "jupyter": {
          "source_hidden": false,
          "outputs_hidden": false
        },
        "nteract": {
          "transient": {
            "deleting": false
          }
        },
        "gather": {
          "logged": 1688627086600
        }
      }
    },
    {
      "cell_type": "code",
      "source": [
        "from azure.storage.blob import BlobServiceClient"
      ],
      "outputs": [],
      "execution_count": 26,
      "metadata": {
        "jupyter": {
          "source_hidden": false,
          "outputs_hidden": false
        },
        "nteract": {
          "transient": {
            "deleting": false
          }
        },
        "gather": {
          "logged": 1688473753245
        }
      }
    },
    {
      "cell_type": "code",
      "source": [
        "connection_string = \"DefaultEndpointsProtocol=https;AccountName=algorithmia;AccountKey=AyplqSK1eJCRDNd3uQFxq74uakeKnSQS0C/bLnOWS0aopDd/9JsX8WJ6QVPc+Im6I1m1f9s/xle4+AStpwOqVA==;EndpointSuffix=core.windows.net\"\r\n",
        "container_name = \"files\"\r\n",
        "\r\n",
        "# save the data frame as csv file\r\n",
        "csv_data = df_medication_administered.to_csv(index = False, sep = ',')\r\n",
        "\r\n",
        "#Define the filename for the csv file in the container\r\n",
        "\r\n",
        "file_name = \"df_medication_administered.csv\"\r\n",
        "\r\n",
        "# crate a blobserviceclient\r\n",
        "blob_service_client = BlobServiceClient.from_connection_string(connection_string)\r\n",
        "\r\n",
        "#Get the container client\r\n",
        "container_client = blob_service_client.get_container_client(container_name)\r\n",
        "\r\n",
        "# upload the csv data to the container\r\n",
        "container_client.upload_blob(name = file_name,data=csv_data,overwrite = True)"
      ],
      "outputs": [
        {
          "output_type": "execute_result",
          "execution_count": 27,
          "data": {
            "text/plain": "<azure.storage.blob._blob_client.BlobClient at 0x7f607c605840>"
          },
          "metadata": {}
        }
      ],
      "execution_count": 27,
      "metadata": {
        "jupyter": {
          "source_hidden": false,
          "outputs_hidden": false
        },
        "nteract": {
          "transient": {
            "deleting": false
          }
        },
        "gather": {
          "logged": 1688473893843
        }
      }
    }
  ],
  "metadata": {
    "kernelspec": {
      "name": "python310-sdkv2",
      "language": "python",
      "display_name": "Python 3.10 - SDK v2"
    },
    "language_info": {
      "name": "python",
      "version": "3.10.10",
      "mimetype": "text/x-python",
      "codemirror_mode": {
        "name": "ipython",
        "version": 3
      },
      "pygments_lexer": "ipython3",
      "nbconvert_exporter": "python",
      "file_extension": ".py"
    },
    "microsoft": {
      "ms_spell_check": {
        "ms_spell_check_language": "en"
      },
      "host": {
        "AzureML": {
          "notebookHasBeenCompleted": true
        }
      }
    },
    "kernel_info": {
      "name": "python310-sdkv2"
    },
    "nteract": {
      "version": "nteract-front-end@1.0.0"
    }
  },
  "nbformat": 4,
  "nbformat_minor": 2
}