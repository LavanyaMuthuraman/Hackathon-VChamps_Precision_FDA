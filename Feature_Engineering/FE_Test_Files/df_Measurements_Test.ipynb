{
 "cells": [
  {
   "cell_type": "markdown",
   "id": "f290af89-7668-42e7-9a6a-1ae005b4cf58",
   "metadata": {},
   "source": [
    "---\n",
    "# **Measurements Test File**\n",
    "---"
   ]
  },
  {
   "cell_type": "markdown",
   "id": "225bb250",
   "metadata": {},
   "source": [
    "## **Dataset Description:**\n",
    "\n",
    "- **Internalpatientid:** It represents an internal identifier for each patient. It is likely a unique identifier assigned to each individual in the dataset.\n",
    "- **Age at measurement:** This column denotes the age of the patient at the time of the measurement. It provides information about the patient's age in a numeric format.\n",
    "- **Measurement date:** It indicates the date and time when the measurement was taken. It provides the timestamp of the measurement in a specific format.\n",
    "- **Measurement:** This column specifies the type of measurement that was taken. It could include various types of health measurements such as pulse, weight, blood pressure, respiratory rate, pain level, etc.\n",
    "- **Result numeric:** It represents the numeric result of the measurement. It contains the actual numerical value associated with the specific measurement type.\n",
    "- **Result textual:** This column holds the textual representation or description of the measurement result. But it only representing blood pressure value in texual.\n",
    "- **State:** This column indicates the state associated with the measurement. It represents the geographical location or state information where the measurement was recorded.\n"
   ]
  },
  {
   "cell_type": "markdown",
   "id": "97c06abc",
   "metadata": {},
   "source": [
    "### Azure notebook Setup"
   ]
  },
  {
   "cell_type": "code",
   "execution_count": 1,
   "id": "f7478bcf",
   "metadata": {},
   "outputs": [],
   "source": [
    "#A class attribute that provides access to the TabularDatasetFactory methods for creating new TabularDataset objects. \n",
    "#Usage: Dataset.Tabular.from_delimited_files().\n",
    "from azureml.core import Workspace, Dataset\n",
    "\n",
    "subscription_id = 'bcfe0c62-8ebe-4df0-a46d-1efcf8739a5b' #check the launch studio there will get this id\n",
    "resource_group = 'VChamp-Team3' # resource group name\n",
    "workspace_name = 'vchamp-team3' # worksapce name\n",
    "\n",
    "\n",
    "# storage account : Algorithmia, Resource group: VChamp-Team3 and workspace: vchamp-team3.\n",
    "#Constructor\n",
    "workspace = Workspace(subscription_id, resource_group, workspace_name)"
   ]
  },
  {
   "cell_type": "code",
   "execution_count": 2,
   "id": "72141276",
   "metadata": {},
   "outputs": [],
   "source": [
    "#['data_team3_synthetic_train']\n",
    "datastore = workspace.datastores['data_team3_synthetic_test'] "
   ]
  },
  {
   "cell_type": "code",
   "execution_count": 3,
   "id": "a3309cbb",
   "metadata": {},
   "outputs": [],
   "source": [
    "#from_delimited_files (Create a TabularDataset to represent tabular data in delimited files (e.g. CSV and TSV).\n",
    "\n",
    "dataset = Dataset.Tabular.from_delimited_files(path = [(datastore, 'measurements_test.csv')])\n",
    "\n",
    "# preview the first 3 rows of the dataset\n",
    "# dataset.to_pandas_dataframe()"
   ]
  },
  {
   "cell_type": "code",
   "execution_count": 4,
   "id": "0597a002",
   "metadata": {},
   "outputs": [],
   "source": [
    "#Converting the dataset into data frame(default as dataset in Azure, thus we must convert the needed formate)\n",
    "measurements_test_data= dataset.to_pandas_dataframe()"
   ]
  },
  {
   "cell_type": "code",
   "execution_count": 5,
   "id": "1902e5a1",
   "metadata": {},
   "outputs": [
    {
     "data": {
      "text/plain": [
       "pandas.core.frame.DataFrame"
      ]
     },
     "execution_count": 5,
     "metadata": {},
     "output_type": "execute_result"
    }
   ],
   "source": [
    "type(measurements_test_data)"
   ]
  },
  {
   "cell_type": "code",
   "execution_count": 6,
   "id": "15ec9122",
   "metadata": {},
   "outputs": [
    {
     "data": {
      "text/html": [
       "<div>\n",
       "<style scoped>\n",
       "    .dataframe tbody tr th:only-of-type {\n",
       "        vertical-align: middle;\n",
       "    }\n",
       "\n",
       "    .dataframe tbody tr th {\n",
       "        vertical-align: top;\n",
       "    }\n",
       "\n",
       "    .dataframe thead th {\n",
       "        text-align: right;\n",
       "    }\n",
       "</style>\n",
       "<table border=\"1\" class=\"dataframe\">\n",
       "  <thead>\n",
       "    <tr style=\"text-align: right;\">\n",
       "      <th></th>\n",
       "      <th>Column1</th>\n",
       "      <th>Internalpatientid</th>\n",
       "      <th>Age at measurement</th>\n",
       "      <th>Measurement date</th>\n",
       "      <th>Measurement</th>\n",
       "      <th>Result numeric</th>\n",
       "      <th>Result textual</th>\n",
       "      <th>State</th>\n",
       "    </tr>\n",
       "  </thead>\n",
       "  <tbody>\n",
       "    <tr>\n",
       "      <th>0</th>\n",
       "      <td>88</td>\n",
       "      <td>100</td>\n",
       "      <td>52.629598</td>\n",
       "      <td>2014-05-15 02:50:03</td>\n",
       "      <td>Respiratory rate</td>\n",
       "      <td>15.000000</td>\n",
       "      <td>None</td>\n",
       "      <td>New York</td>\n",
       "    </tr>\n",
       "    <tr>\n",
       "      <th>1</th>\n",
       "      <td>89</td>\n",
       "      <td>100</td>\n",
       "      <td>52.629598</td>\n",
       "      <td>2014-05-15 02:50:03</td>\n",
       "      <td>Blood pressure</td>\n",
       "      <td>NaN</td>\n",
       "      <td>128/60</td>\n",
       "      <td>New York</td>\n",
       "    </tr>\n",
       "    <tr>\n",
       "      <th>2</th>\n",
       "      <td>90</td>\n",
       "      <td>100</td>\n",
       "      <td>52.629598</td>\n",
       "      <td>2014-05-15 02:50:03</td>\n",
       "      <td>Pain</td>\n",
       "      <td>0.000000</td>\n",
       "      <td>None</td>\n",
       "      <td>New York</td>\n",
       "    </tr>\n",
       "    <tr>\n",
       "      <th>3</th>\n",
       "      <td>91</td>\n",
       "      <td>100</td>\n",
       "      <td>52.629598</td>\n",
       "      <td>2014-05-15 02:50:03</td>\n",
       "      <td>Temperature</td>\n",
       "      <td>94.879216</td>\n",
       "      <td>None</td>\n",
       "      <td>New York</td>\n",
       "    </tr>\n",
       "    <tr>\n",
       "      <th>4</th>\n",
       "      <td>92</td>\n",
       "      <td>100</td>\n",
       "      <td>52.629598</td>\n",
       "      <td>2014-05-15 02:50:03</td>\n",
       "      <td>Pulse</td>\n",
       "      <td>106.000000</td>\n",
       "      <td>None</td>\n",
       "      <td>New York</td>\n",
       "    </tr>\n",
       "  </tbody>\n",
       "</table>\n",
       "</div>"
      ],
      "text/plain": [
       "   Column1  Internalpatientid  Age at measurement    Measurement date  \\\n",
       "0       88                100           52.629598 2014-05-15 02:50:03   \n",
       "1       89                100           52.629598 2014-05-15 02:50:03   \n",
       "2       90                100           52.629598 2014-05-15 02:50:03   \n",
       "3       91                100           52.629598 2014-05-15 02:50:03   \n",
       "4       92                100           52.629598 2014-05-15 02:50:03   \n",
       "\n",
       "        Measurement  Result numeric Result textual     State  \n",
       "0  Respiratory rate       15.000000           None  New York  \n",
       "1    Blood pressure             NaN         128/60  New York  \n",
       "2              Pain        0.000000           None  New York  \n",
       "3       Temperature       94.879216           None  New York  \n",
       "4             Pulse      106.000000           None  New York  "
      ]
     },
     "execution_count": 6,
     "metadata": {},
     "output_type": "execute_result"
    }
   ],
   "source": [
    "measurements_test_data.head()"
   ]
  },
  {
   "cell_type": "markdown",
   "id": "fe7ea5ca",
   "metadata": {},
   "source": [
    "## **Importing Libraries**"
   ]
  },
  {
   "cell_type": "code",
   "execution_count": 7,
   "id": "1eaf7fac",
   "metadata": {},
   "outputs": [],
   "source": [
    "# Importing essential libraries\n",
    "import pandas as pd        # Library for data manipulation and analysis\n",
    "import numpy as np         # Library for mathematical operations"
   ]
  },
  {
   "cell_type": "markdown",
   "id": "6795ed2a-9eae-4b60-8f65-07f3e08ae570",
   "metadata": {},
   "source": [
    "## **Data Exploration**"
   ]
  },
  {
   "cell_type": "code",
   "execution_count": 8,
   "id": "c72fa1d1-2901-40bb-9df4-9abafacc159b",
   "metadata": {},
   "outputs": [],
   "source": [
    "# Changing variable name for dataframe\n",
    "df = measurements_test_data"
   ]
  },
  {
   "cell_type": "code",
   "execution_count": 9,
   "id": "5baf1d0c",
   "metadata": {},
   "outputs": [
    {
     "data": {
      "text/html": [
       "<div>\n",
       "<style scoped>\n",
       "    .dataframe tbody tr th:only-of-type {\n",
       "        vertical-align: middle;\n",
       "    }\n",
       "\n",
       "    .dataframe tbody tr th {\n",
       "        vertical-align: top;\n",
       "    }\n",
       "\n",
       "    .dataframe thead th {\n",
       "        text-align: right;\n",
       "    }\n",
       "</style>\n",
       "<table border=\"1\" class=\"dataframe\">\n",
       "  <thead>\n",
       "    <tr style=\"text-align: right;\">\n",
       "      <th></th>\n",
       "      <th>Column1</th>\n",
       "      <th>Internalpatientid</th>\n",
       "      <th>Age at measurement</th>\n",
       "      <th>Measurement date</th>\n",
       "      <th>Measurement</th>\n",
       "      <th>Result numeric</th>\n",
       "      <th>Result textual</th>\n",
       "      <th>State</th>\n",
       "    </tr>\n",
       "  </thead>\n",
       "  <tbody>\n",
       "    <tr>\n",
       "      <th>0</th>\n",
       "      <td>88</td>\n",
       "      <td>100</td>\n",
       "      <td>52.629598</td>\n",
       "      <td>2014-05-15 02:50:03</td>\n",
       "      <td>Respiratory rate</td>\n",
       "      <td>15.000000</td>\n",
       "      <td>None</td>\n",
       "      <td>New York</td>\n",
       "    </tr>\n",
       "    <tr>\n",
       "      <th>1</th>\n",
       "      <td>89</td>\n",
       "      <td>100</td>\n",
       "      <td>52.629598</td>\n",
       "      <td>2014-05-15 02:50:03</td>\n",
       "      <td>Blood pressure</td>\n",
       "      <td>NaN</td>\n",
       "      <td>128/60</td>\n",
       "      <td>New York</td>\n",
       "    </tr>\n",
       "    <tr>\n",
       "      <th>2</th>\n",
       "      <td>90</td>\n",
       "      <td>100</td>\n",
       "      <td>52.629598</td>\n",
       "      <td>2014-05-15 02:50:03</td>\n",
       "      <td>Pain</td>\n",
       "      <td>0.000000</td>\n",
       "      <td>None</td>\n",
       "      <td>New York</td>\n",
       "    </tr>\n",
       "    <tr>\n",
       "      <th>3</th>\n",
       "      <td>91</td>\n",
       "      <td>100</td>\n",
       "      <td>52.629598</td>\n",
       "      <td>2014-05-15 02:50:03</td>\n",
       "      <td>Temperature</td>\n",
       "      <td>94.879216</td>\n",
       "      <td>None</td>\n",
       "      <td>New York</td>\n",
       "    </tr>\n",
       "    <tr>\n",
       "      <th>4</th>\n",
       "      <td>92</td>\n",
       "      <td>100</td>\n",
       "      <td>52.629598</td>\n",
       "      <td>2014-05-15 02:50:03</td>\n",
       "      <td>Pulse</td>\n",
       "      <td>106.000000</td>\n",
       "      <td>None</td>\n",
       "      <td>New York</td>\n",
       "    </tr>\n",
       "  </tbody>\n",
       "</table>\n",
       "</div>"
      ],
      "text/plain": [
       "   Column1  Internalpatientid  Age at measurement    Measurement date  \\\n",
       "0       88                100           52.629598 2014-05-15 02:50:03   \n",
       "1       89                100           52.629598 2014-05-15 02:50:03   \n",
       "2       90                100           52.629598 2014-05-15 02:50:03   \n",
       "3       91                100           52.629598 2014-05-15 02:50:03   \n",
       "4       92                100           52.629598 2014-05-15 02:50:03   \n",
       "\n",
       "        Measurement  Result numeric Result textual     State  \n",
       "0  Respiratory rate       15.000000           None  New York  \n",
       "1    Blood pressure             NaN         128/60  New York  \n",
       "2              Pain        0.000000           None  New York  \n",
       "3       Temperature       94.879216           None  New York  \n",
       "4             Pulse      106.000000           None  New York  "
      ]
     },
     "execution_count": 9,
     "metadata": {},
     "output_type": "execute_result"
    }
   ],
   "source": [
    "# Display the first few rows of a DataFrame\n",
    "df.head()"
   ]
  },
  {
   "cell_type": "code",
   "execution_count": 10,
   "id": "071e61eb",
   "metadata": {},
   "outputs": [
    {
     "name": "stdout",
     "output_type": "stream",
     "text": [
      "Number of rows: 33598003\n",
      "Number of columns: 8\n"
     ]
    }
   ],
   "source": [
    "# Shape of the dataset\n",
    "df.shape\n",
    "num_rows = df.shape[0]  # Number of rows\n",
    "num_cols = df.shape[1]  # Number of columns\n",
    "print(\"Number of rows:\", num_rows)\n",
    "print(\"Number of columns:\", num_cols)"
   ]
  },
  {
   "cell_type": "code",
   "execution_count": 11,
   "id": "5c448c8b",
   "metadata": {},
   "outputs": [
    {
     "name": "stdout",
     "output_type": "stream",
     "text": [
      "Number of Unique Internalpatientid\n"
     ]
    },
    {
     "data": {
      "text/plain": [
       "34593"
      ]
     },
     "execution_count": 11,
     "metadata": {},
     "output_type": "execute_result"
    }
   ],
   "source": [
    "# Get the number of unique values in the 'Internalpatientid' column\n",
    "print(\"Number of Unique Internalpatientid\")\n",
    "df['Internalpatientid'].nunique()"
   ]
  },
  {
   "cell_type": "code",
   "execution_count": 12,
   "id": "be2cabb0-e1f1-4e4c-aa5d-6196d082f8f7",
   "metadata": {},
   "outputs": [],
   "source": [
    "# Drop the specified columns from the DataFrame\n",
    "df.drop(['Column1','Result textual','State'], axis=1,inplace=True)"
   ]
  },
  {
   "cell_type": "code",
   "execution_count": 13,
   "id": "2a1115a8",
   "metadata": {},
   "outputs": [
    {
     "name": "stdout",
     "output_type": "stream",
     "text": [
      "<class 'pandas.core.frame.DataFrame'>\n",
      "RangeIndex: 33598003 entries, 0 to 33598002\n",
      "Data columns (total 5 columns):\n",
      " #   Column              Dtype         \n",
      "---  ------              -----         \n",
      " 0   Internalpatientid   int64         \n",
      " 1   Age at measurement  float64       \n",
      " 2   Measurement date    datetime64[ns]\n",
      " 3   Measurement         object        \n",
      " 4   Result numeric      float64       \n",
      "dtypes: datetime64[ns](1), float64(2), int64(1), object(1)\n",
      "memory usage: 1.3+ GB\n"
     ]
    }
   ],
   "source": [
    "# Display the concise summary of the DataFrame\n",
    "df.info()"
   ]
  },
  {
   "cell_type": "markdown",
   "id": "6c4042f8",
   "metadata": {},
   "source": [
    "## **Checking Missing Values**"
   ]
  },
  {
   "cell_type": "code",
   "execution_count": 14,
   "id": "2e9ac3a8",
   "metadata": {},
   "outputs": [
    {
     "data": {
      "text/plain": [
       "Internalpatientid           0\n",
       "Age at measurement          0\n",
       "Measurement date            0\n",
       "Measurement                 0\n",
       "Result numeric        6170986\n",
       "dtype: int64"
      ]
     },
     "execution_count": 14,
     "metadata": {},
     "output_type": "execute_result"
    }
   ],
   "source": [
    "# Count the number of missing values in each column\n",
    "df.isnull().sum()"
   ]
  },
  {
   "cell_type": "markdown",
   "id": "fad6116a-0865-4194-bcad-c3fe228bde58",
   "metadata": {},
   "source": [
    "## **Removing NaN values**"
   ]
  },
  {
   "cell_type": "code",
   "execution_count": 15,
   "id": "9a8771ec-65f6-42e5-826a-0a86cf999d85",
   "metadata": {},
   "outputs": [],
   "source": [
    "df = df.dropna(subset=['Result numeric'])"
   ]
  },
  {
   "cell_type": "code",
   "execution_count": 16,
   "id": "c2f3b6f1-2449-4066-968f-6c6b010f646a",
   "metadata": {},
   "outputs": [
    {
     "data": {
      "text/plain": [
       "34593"
      ]
     },
     "execution_count": 16,
     "metadata": {},
     "output_type": "execute_result"
    }
   ],
   "source": [
    "df.Internalpatientid.nunique()"
   ]
  },
  {
   "cell_type": "code",
   "execution_count": 17,
   "id": "fb260465-4482-4101-95b2-845909bab3a1",
   "metadata": {},
   "outputs": [
    {
     "data": {
      "text/plain": [
       "Internalpatientid     0\n",
       "Age at measurement    0\n",
       "Measurement date      0\n",
       "Measurement           0\n",
       "Result numeric        0\n",
       "dtype: int64"
      ]
     },
     "execution_count": 17,
     "metadata": {},
     "output_type": "execute_result"
    }
   ],
   "source": [
    "df.isnull().sum()"
   ]
  },
  {
   "cell_type": "markdown",
   "id": "43f37d40-edab-45f9-a874-496f2e1894d1",
   "metadata": {},
   "source": [
    "### **Removing Outliers**"
   ]
  },
  {
   "cell_type": "code",
   "execution_count": 18,
   "id": "8ecc7311-4b42-414a-994e-3159455b884e",
   "metadata": {},
   "outputs": [],
   "source": [
    "# Define the filter conditions for each category\n",
    "filters = {\n",
    "    'Pulse': (40, 250),\n",
    "    'Respiratory rate': (1, 30),\n",
    "    'Pain': (0, 15),\n",
    "    'Temperature': (90, 107)\n",
    "}\n",
    "\n",
    "# Apply the filters for each category\n",
    "filtered_data = pd.DataFrame()\n",
    "for category, (min_val, max_val) in filters.items():\n",
    "    category_data = df[df['Measurement'] == category]\n",
    "    filtered_category_data = category_data[(category_data['Result numeric'] >= min_val) & (category_data['Result numeric'] <= max_val)]\n",
    "    filtered_data = pd.concat([filtered_data, filtered_category_data])"
   ]
  },
  {
   "cell_type": "code",
   "execution_count": 19,
   "id": "7b9cdd85-f5ea-4769-bc43-abd713e026c5",
   "metadata": {},
   "outputs": [],
   "source": [
    "# Reset the index of the filtered data\n",
    "filtered_data = filtered_data.reset_index(drop=True)"
   ]
  },
  {
   "cell_type": "code",
   "execution_count": 20,
   "id": "904c03f7-50a9-478a-bcad-0018126101e3",
   "metadata": {},
   "outputs": [
    {
     "data": {
      "text/html": [
       "<div>\n",
       "<style scoped>\n",
       "    .dataframe tbody tr th:only-of-type {\n",
       "        vertical-align: middle;\n",
       "    }\n",
       "\n",
       "    .dataframe tbody tr th {\n",
       "        vertical-align: top;\n",
       "    }\n",
       "\n",
       "    .dataframe thead th {\n",
       "        text-align: right;\n",
       "    }\n",
       "</style>\n",
       "<table border=\"1\" class=\"dataframe\">\n",
       "  <thead>\n",
       "    <tr style=\"text-align: right;\">\n",
       "      <th></th>\n",
       "      <th>Internalpatientid</th>\n",
       "      <th>Age at measurement</th>\n",
       "      <th>Measurement date</th>\n",
       "      <th>Measurement</th>\n",
       "      <th>Result numeric</th>\n",
       "    </tr>\n",
       "  </thead>\n",
       "  <tbody>\n",
       "    <tr>\n",
       "      <th>0</th>\n",
       "      <td>100</td>\n",
       "      <td>52.629598</td>\n",
       "      <td>2014-05-15 02:50:03</td>\n",
       "      <td>Pulse</td>\n",
       "      <td>106.000000</td>\n",
       "    </tr>\n",
       "    <tr>\n",
       "      <th>1</th>\n",
       "      <td>100</td>\n",
       "      <td>53.385242</td>\n",
       "      <td>2015-02-15 07:20:28</td>\n",
       "      <td>Pulse</td>\n",
       "      <td>108.000000</td>\n",
       "    </tr>\n",
       "    <tr>\n",
       "      <th>2</th>\n",
       "      <td>100</td>\n",
       "      <td>53.769035</td>\n",
       "      <td>2015-07-05 13:58:43</td>\n",
       "      <td>Pulse</td>\n",
       "      <td>108.000000</td>\n",
       "    </tr>\n",
       "    <tr>\n",
       "      <th>3</th>\n",
       "      <td>100</td>\n",
       "      <td>54.299602</td>\n",
       "      <td>2016-01-15 12:06:42</td>\n",
       "      <td>Pulse</td>\n",
       "      <td>89.000000</td>\n",
       "    </tr>\n",
       "    <tr>\n",
       "      <th>4</th>\n",
       "      <td>100</td>\n",
       "      <td>54.796701</td>\n",
       "      <td>2016-07-15 04:39:45</td>\n",
       "      <td>Pulse</td>\n",
       "      <td>88.000000</td>\n",
       "    </tr>\n",
       "    <tr>\n",
       "      <th>...</th>\n",
       "      <td>...</td>\n",
       "      <td>...</td>\n",
       "      <td>...</td>\n",
       "      <td>...</td>\n",
       "      <td>...</td>\n",
       "    </tr>\n",
       "    <tr>\n",
       "      <th>21253489</th>\n",
       "      <td>99997</td>\n",
       "      <td>78.577741</td>\n",
       "      <td>2007-09-18 03:56:32</td>\n",
       "      <td>Temperature</td>\n",
       "      <td>93.000000</td>\n",
       "    </tr>\n",
       "    <tr>\n",
       "      <th>21253490</th>\n",
       "      <td>99997</td>\n",
       "      <td>83.001798</td>\n",
       "      <td>2012-02-21 03:46:34</td>\n",
       "      <td>Temperature</td>\n",
       "      <td>102.183060</td>\n",
       "    </tr>\n",
       "    <tr>\n",
       "      <th>21253491</th>\n",
       "      <td>99997</td>\n",
       "      <td>84.397668</td>\n",
       "      <td>2013-07-15 08:20:31</td>\n",
       "      <td>Temperature</td>\n",
       "      <td>100.000000</td>\n",
       "    </tr>\n",
       "    <tr>\n",
       "      <th>21253492</th>\n",
       "      <td>99997</td>\n",
       "      <td>84.996155</td>\n",
       "      <td>2014-02-19 02:16:29</td>\n",
       "      <td>Temperature</td>\n",
       "      <td>98.306201</td>\n",
       "    </tr>\n",
       "    <tr>\n",
       "      <th>21253493</th>\n",
       "      <td>99997</td>\n",
       "      <td>85.324608</td>\n",
       "      <td>2014-06-19 03:27:42</td>\n",
       "      <td>Temperature</td>\n",
       "      <td>95.689082</td>\n",
       "    </tr>\n",
       "  </tbody>\n",
       "</table>\n",
       "<p>21253494 rows × 5 columns</p>\n",
       "</div>"
      ],
      "text/plain": [
       "          Internalpatientid  Age at measurement    Measurement date  \\\n",
       "0                       100           52.629598 2014-05-15 02:50:03   \n",
       "1                       100           53.385242 2015-02-15 07:20:28   \n",
       "2                       100           53.769035 2015-07-05 13:58:43   \n",
       "3                       100           54.299602 2016-01-15 12:06:42   \n",
       "4                       100           54.796701 2016-07-15 04:39:45   \n",
       "...                     ...                 ...                 ...   \n",
       "21253489              99997           78.577741 2007-09-18 03:56:32   \n",
       "21253490              99997           83.001798 2012-02-21 03:46:34   \n",
       "21253491              99997           84.397668 2013-07-15 08:20:31   \n",
       "21253492              99997           84.996155 2014-02-19 02:16:29   \n",
       "21253493              99997           85.324608 2014-06-19 03:27:42   \n",
       "\n",
       "          Measurement  Result numeric  \n",
       "0               Pulse      106.000000  \n",
       "1               Pulse      108.000000  \n",
       "2               Pulse      108.000000  \n",
       "3               Pulse       89.000000  \n",
       "4               Pulse       88.000000  \n",
       "...               ...             ...  \n",
       "21253489  Temperature       93.000000  \n",
       "21253490  Temperature      102.183060  \n",
       "21253491  Temperature      100.000000  \n",
       "21253492  Temperature       98.306201  \n",
       "21253493  Temperature       95.689082  \n",
       "\n",
       "[21253494 rows x 5 columns]"
      ]
     },
     "execution_count": 20,
     "metadata": {},
     "output_type": "execute_result"
    }
   ],
   "source": [
    "# Display the final filtered dataframe\n",
    "filtered_data"
   ]
  },
  {
   "cell_type": "code",
   "execution_count": 21,
   "id": "0241a0f8-da73-4aac-a8d7-1e80668c0e44",
   "metadata": {},
   "outputs": [
    {
     "data": {
      "text/html": [
       "<div>\n",
       "<style scoped>\n",
       "    .dataframe tbody tr th:only-of-type {\n",
       "        vertical-align: middle;\n",
       "    }\n",
       "\n",
       "    .dataframe tbody tr th {\n",
       "        vertical-align: top;\n",
       "    }\n",
       "\n",
       "    .dataframe thead th {\n",
       "        text-align: right;\n",
       "    }\n",
       "</style>\n",
       "<table border=\"1\" class=\"dataframe\">\n",
       "  <thead>\n",
       "    <tr style=\"text-align: right;\">\n",
       "      <th></th>\n",
       "      <th>min</th>\n",
       "      <th>max</th>\n",
       "    </tr>\n",
       "    <tr>\n",
       "      <th>Measurement</th>\n",
       "      <th></th>\n",
       "      <th></th>\n",
       "    </tr>\n",
       "  </thead>\n",
       "  <tbody>\n",
       "    <tr>\n",
       "      <th>Pain</th>\n",
       "      <td>0.0</td>\n",
       "      <td>14.0</td>\n",
       "    </tr>\n",
       "    <tr>\n",
       "      <th>Pulse</th>\n",
       "      <td>40.0</td>\n",
       "      <td>250.0</td>\n",
       "    </tr>\n",
       "    <tr>\n",
       "      <th>Respiratory rate</th>\n",
       "      <td>1.0</td>\n",
       "      <td>30.0</td>\n",
       "    </tr>\n",
       "    <tr>\n",
       "      <th>Temperature</th>\n",
       "      <td>90.0</td>\n",
       "      <td>107.0</td>\n",
       "    </tr>\n",
       "  </tbody>\n",
       "</table>\n",
       "</div>"
      ],
      "text/plain": [
       "                   min    max\n",
       "Measurement                  \n",
       "Pain               0.0   14.0\n",
       "Pulse             40.0  250.0\n",
       "Respiratory rate   1.0   30.0\n",
       "Temperature       90.0  107.0"
      ]
     },
     "execution_count": 21,
     "metadata": {},
     "output_type": "execute_result"
    }
   ],
   "source": [
    "# Check minimum and maximum values for each category in 'Measurement' column\n",
    "min_max_values = filtered_data.groupby('Measurement')['Result numeric'].agg(['min', 'max'])\n",
    "min_max_values"
   ]
  },
  {
   "cell_type": "markdown",
   "id": "eedf7634-d9c5-4be2-ab75-6b0ae7f7a518",
   "metadata": {},
   "source": [
    "### **'Max' Condition to the 'Measurement date' Column**"
   ]
  },
  {
   "cell_type": "code",
   "execution_count": 22,
   "id": "bad3c8f5-7a37-404a-af53-cd9eee1b9c68",
   "metadata": {},
   "outputs": [],
   "source": [
    "df_group = pd.merge(filtered_data.groupby(['Internalpatientid','Measurement'], as_index=False)['Measurement date'].max(),filtered_data,on=['Internalpatientid','Measurement date','Measurement'],how = 'left')"
   ]
  },
  {
   "cell_type": "code",
   "execution_count": 23,
   "id": "8d9f49ee-e009-4c54-ba75-07773ffbc39a",
   "metadata": {},
   "outputs": [
    {
     "data": {
      "text/html": [
       "<div>\n",
       "<style scoped>\n",
       "    .dataframe tbody tr th:only-of-type {\n",
       "        vertical-align: middle;\n",
       "    }\n",
       "\n",
       "    .dataframe tbody tr th {\n",
       "        vertical-align: top;\n",
       "    }\n",
       "\n",
       "    .dataframe thead th {\n",
       "        text-align: right;\n",
       "    }\n",
       "</style>\n",
       "<table border=\"1\" class=\"dataframe\">\n",
       "  <thead>\n",
       "    <tr style=\"text-align: right;\">\n",
       "      <th></th>\n",
       "      <th>Internalpatientid</th>\n",
       "      <th>Measurement</th>\n",
       "      <th>Measurement date</th>\n",
       "      <th>Age at measurement</th>\n",
       "      <th>Result numeric</th>\n",
       "    </tr>\n",
       "  </thead>\n",
       "  <tbody>\n",
       "    <tr>\n",
       "      <th>0</th>\n",
       "      <td>6</td>\n",
       "      <td>Pain</td>\n",
       "      <td>2014-01-18 14:24:43</td>\n",
       "      <td>87.358688</td>\n",
       "      <td>0.000000</td>\n",
       "    </tr>\n",
       "    <tr>\n",
       "      <th>1</th>\n",
       "      <td>6</td>\n",
       "      <td>Pulse</td>\n",
       "      <td>2014-01-18 14:24:43</td>\n",
       "      <td>87.358688</td>\n",
       "      <td>51.000000</td>\n",
       "    </tr>\n",
       "    <tr>\n",
       "      <th>2</th>\n",
       "      <td>6</td>\n",
       "      <td>Respiratory rate</td>\n",
       "      <td>2014-01-18 14:24:43</td>\n",
       "      <td>87.358688</td>\n",
       "      <td>16.000000</td>\n",
       "    </tr>\n",
       "    <tr>\n",
       "      <th>3</th>\n",
       "      <td>6</td>\n",
       "      <td>Temperature</td>\n",
       "      <td>2014-01-18 14:24:43</td>\n",
       "      <td>87.358688</td>\n",
       "      <td>97.030389</td>\n",
       "    </tr>\n",
       "    <tr>\n",
       "      <th>4</th>\n",
       "      <td>7</td>\n",
       "      <td>Pain</td>\n",
       "      <td>2020-10-19 02:58:45</td>\n",
       "      <td>74.276673</td>\n",
       "      <td>0.000000</td>\n",
       "    </tr>\n",
       "    <tr>\n",
       "      <th>...</th>\n",
       "      <td>...</td>\n",
       "      <td>...</td>\n",
       "      <td>...</td>\n",
       "      <td>...</td>\n",
       "      <td>...</td>\n",
       "    </tr>\n",
       "    <tr>\n",
       "      <th>137681</th>\n",
       "      <td>169059</td>\n",
       "      <td>Temperature</td>\n",
       "      <td>2013-11-21 14:10:52</td>\n",
       "      <td>90.622684</td>\n",
       "      <td>97.727853</td>\n",
       "    </tr>\n",
       "    <tr>\n",
       "      <th>137682</th>\n",
       "      <td>169065</td>\n",
       "      <td>Pain</td>\n",
       "      <td>2011-06-11 13:04:26</td>\n",
       "      <td>53.320232</td>\n",
       "      <td>5.000000</td>\n",
       "    </tr>\n",
       "    <tr>\n",
       "      <th>137683</th>\n",
       "      <td>169065</td>\n",
       "      <td>Pulse</td>\n",
       "      <td>2011-06-10 22:14:45</td>\n",
       "      <td>53.318541</td>\n",
       "      <td>109.000000</td>\n",
       "    </tr>\n",
       "    <tr>\n",
       "      <th>137684</th>\n",
       "      <td>169065</td>\n",
       "      <td>Respiratory rate</td>\n",
       "      <td>2011-06-10 22:14:45</td>\n",
       "      <td>53.318541</td>\n",
       "      <td>20.000000</td>\n",
       "    </tr>\n",
       "    <tr>\n",
       "      <th>137685</th>\n",
       "      <td>169065</td>\n",
       "      <td>Temperature</td>\n",
       "      <td>2011-06-10 22:14:45</td>\n",
       "      <td>53.318541</td>\n",
       "      <td>97.327395</td>\n",
       "    </tr>\n",
       "  </tbody>\n",
       "</table>\n",
       "<p>137686 rows × 5 columns</p>\n",
       "</div>"
      ],
      "text/plain": [
       "        Internalpatientid       Measurement    Measurement date  \\\n",
       "0                       6              Pain 2014-01-18 14:24:43   \n",
       "1                       6             Pulse 2014-01-18 14:24:43   \n",
       "2                       6  Respiratory rate 2014-01-18 14:24:43   \n",
       "3                       6       Temperature 2014-01-18 14:24:43   \n",
       "4                       7              Pain 2020-10-19 02:58:45   \n",
       "...                   ...               ...                 ...   \n",
       "137681             169059       Temperature 2013-11-21 14:10:52   \n",
       "137682             169065              Pain 2011-06-11 13:04:26   \n",
       "137683             169065             Pulse 2011-06-10 22:14:45   \n",
       "137684             169065  Respiratory rate 2011-06-10 22:14:45   \n",
       "137685             169065       Temperature 2011-06-10 22:14:45   \n",
       "\n",
       "        Age at measurement  Result numeric  \n",
       "0                87.358688        0.000000  \n",
       "1                87.358688       51.000000  \n",
       "2                87.358688       16.000000  \n",
       "3                87.358688       97.030389  \n",
       "4                74.276673        0.000000  \n",
       "...                    ...             ...  \n",
       "137681           90.622684       97.727853  \n",
       "137682           53.320232        5.000000  \n",
       "137683           53.318541      109.000000  \n",
       "137684           53.318541       20.000000  \n",
       "137685           53.318541       97.327395  \n",
       "\n",
       "[137686 rows x 5 columns]"
      ]
     },
     "execution_count": 23,
     "metadata": {},
     "output_type": "execute_result"
    }
   ],
   "source": [
    "df_group"
   ]
  },
  {
   "cell_type": "code",
   "execution_count": 24,
   "id": "9ae5b4b2-ae4f-43cb-963c-6451abdfd2ad",
   "metadata": {},
   "outputs": [
    {
     "data": {
      "text/html": [
       "<div>\n",
       "<style scoped>\n",
       "    .dataframe tbody tr th:only-of-type {\n",
       "        vertical-align: middle;\n",
       "    }\n",
       "\n",
       "    .dataframe tbody tr th {\n",
       "        vertical-align: top;\n",
       "    }\n",
       "\n",
       "    .dataframe thead th {\n",
       "        text-align: right;\n",
       "    }\n",
       "</style>\n",
       "<table border=\"1\" class=\"dataframe\">\n",
       "  <thead>\n",
       "    <tr style=\"text-align: right;\">\n",
       "      <th></th>\n",
       "      <th>min</th>\n",
       "      <th>max</th>\n",
       "    </tr>\n",
       "    <tr>\n",
       "      <th>Measurement</th>\n",
       "      <th></th>\n",
       "      <th></th>\n",
       "    </tr>\n",
       "  </thead>\n",
       "  <tbody>\n",
       "    <tr>\n",
       "      <th>Pain</th>\n",
       "      <td>0.0</td>\n",
       "      <td>10.0</td>\n",
       "    </tr>\n",
       "    <tr>\n",
       "      <th>Pulse</th>\n",
       "      <td>40.0</td>\n",
       "      <td>226.0</td>\n",
       "    </tr>\n",
       "    <tr>\n",
       "      <th>Respiratory rate</th>\n",
       "      <td>1.0</td>\n",
       "      <td>30.0</td>\n",
       "    </tr>\n",
       "    <tr>\n",
       "      <th>Temperature</th>\n",
       "      <td>90.0</td>\n",
       "      <td>107.0</td>\n",
       "    </tr>\n",
       "  </tbody>\n",
       "</table>\n",
       "</div>"
      ],
      "text/plain": [
       "                   min    max\n",
       "Measurement                  \n",
       "Pain               0.0   10.0\n",
       "Pulse             40.0  226.0\n",
       "Respiratory rate   1.0   30.0\n",
       "Temperature       90.0  107.0"
      ]
     },
     "execution_count": 24,
     "metadata": {},
     "output_type": "execute_result"
    }
   ],
   "source": [
    "# Check minimum and maximum values for each category in 'Measurement' column\n",
    "min_max_values = df_group.groupby('Measurement')['Result numeric'].agg(['min', 'max'])\n",
    "min_max_values"
   ]
  },
  {
   "cell_type": "markdown",
   "id": "f1b44cdf-ac45-42d2-b726-5f50490dad0e",
   "metadata": {},
   "source": [
    "## **Creating Pivot Table**"
   ]
  },
  {
   "cell_type": "code",
   "execution_count": 25,
   "id": "00245c49-63f1-4019-8dd4-aa6db1fe8ba9",
   "metadata": {},
   "outputs": [],
   "source": [
    "categories = ['Pain', 'Pulse', 'Respiratory rate', 'Temperature']\n",
    "filtered_df = df_group[df_group['Measurement'].isin(categories)]\n",
    "pivot_table = filtered_df.pivot_table(index='Internalpatientid', columns='Measurement', values='Result numeric', aggfunc='last')"
   ]
  },
  {
   "cell_type": "code",
   "execution_count": 26,
   "id": "c570aa9a-0991-4340-af23-d2f2270f8d42",
   "metadata": {},
   "outputs": [
    {
     "data": {
      "text/html": [
       "<div>\n",
       "<style scoped>\n",
       "    .dataframe tbody tr th:only-of-type {\n",
       "        vertical-align: middle;\n",
       "    }\n",
       "\n",
       "    .dataframe tbody tr th {\n",
       "        vertical-align: top;\n",
       "    }\n",
       "\n",
       "    .dataframe thead th {\n",
       "        text-align: right;\n",
       "    }\n",
       "</style>\n",
       "<table border=\"1\" class=\"dataframe\">\n",
       "  <thead>\n",
       "    <tr style=\"text-align: right;\">\n",
       "      <th>Measurement</th>\n",
       "      <th>Pain</th>\n",
       "      <th>Pulse</th>\n",
       "      <th>Respiratory rate</th>\n",
       "      <th>Temperature</th>\n",
       "    </tr>\n",
       "    <tr>\n",
       "      <th>Internalpatientid</th>\n",
       "      <th></th>\n",
       "      <th></th>\n",
       "      <th></th>\n",
       "      <th></th>\n",
       "    </tr>\n",
       "  </thead>\n",
       "  <tbody>\n",
       "    <tr>\n",
       "      <th>6</th>\n",
       "      <td>0.0</td>\n",
       "      <td>51.0</td>\n",
       "      <td>16.0</td>\n",
       "      <td>97.030389</td>\n",
       "    </tr>\n",
       "    <tr>\n",
       "      <th>7</th>\n",
       "      <td>0.0</td>\n",
       "      <td>67.0</td>\n",
       "      <td>19.0</td>\n",
       "      <td>97.567325</td>\n",
       "    </tr>\n",
       "    <tr>\n",
       "      <th>9</th>\n",
       "      <td>0.0</td>\n",
       "      <td>91.0</td>\n",
       "      <td>21.0</td>\n",
       "      <td>98.600910</td>\n",
       "    </tr>\n",
       "    <tr>\n",
       "      <th>12</th>\n",
       "      <td>3.0</td>\n",
       "      <td>64.0</td>\n",
       "      <td>24.0</td>\n",
       "      <td>97.693046</td>\n",
       "    </tr>\n",
       "    <tr>\n",
       "      <th>17</th>\n",
       "      <td>0.0</td>\n",
       "      <td>63.0</td>\n",
       "      <td>25.0</td>\n",
       "      <td>101.122904</td>\n",
       "    </tr>\n",
       "    <tr>\n",
       "      <th>...</th>\n",
       "      <td>...</td>\n",
       "      <td>...</td>\n",
       "      <td>...</td>\n",
       "      <td>...</td>\n",
       "    </tr>\n",
       "    <tr>\n",
       "      <th>169037</th>\n",
       "      <td>0.0</td>\n",
       "      <td>65.0</td>\n",
       "      <td>14.0</td>\n",
       "      <td>95.063409</td>\n",
       "    </tr>\n",
       "    <tr>\n",
       "      <th>169045</th>\n",
       "      <td>0.0</td>\n",
       "      <td>58.0</td>\n",
       "      <td>17.0</td>\n",
       "      <td>92.387524</td>\n",
       "    </tr>\n",
       "    <tr>\n",
       "      <th>169058</th>\n",
       "      <td>5.0</td>\n",
       "      <td>84.0</td>\n",
       "      <td>18.0</td>\n",
       "      <td>93.916635</td>\n",
       "    </tr>\n",
       "    <tr>\n",
       "      <th>169059</th>\n",
       "      <td>3.0</td>\n",
       "      <td>66.0</td>\n",
       "      <td>20.0</td>\n",
       "      <td>97.727853</td>\n",
       "    </tr>\n",
       "    <tr>\n",
       "      <th>169065</th>\n",
       "      <td>5.0</td>\n",
       "      <td>109.0</td>\n",
       "      <td>20.0</td>\n",
       "      <td>97.327395</td>\n",
       "    </tr>\n",
       "  </tbody>\n",
       "</table>\n",
       "<p>34576 rows × 4 columns</p>\n",
       "</div>"
      ],
      "text/plain": [
       "Measurement        Pain  Pulse  Respiratory rate  Temperature\n",
       "Internalpatientid                                            \n",
       "6                   0.0   51.0              16.0    97.030389\n",
       "7                   0.0   67.0              19.0    97.567325\n",
       "9                   0.0   91.0              21.0    98.600910\n",
       "12                  3.0   64.0              24.0    97.693046\n",
       "17                  0.0   63.0              25.0   101.122904\n",
       "...                 ...    ...               ...          ...\n",
       "169037              0.0   65.0              14.0    95.063409\n",
       "169045              0.0   58.0              17.0    92.387524\n",
       "169058              5.0   84.0              18.0    93.916635\n",
       "169059              3.0   66.0              20.0    97.727853\n",
       "169065              5.0  109.0              20.0    97.327395\n",
       "\n",
       "[34576 rows x 4 columns]"
      ]
     },
     "execution_count": 26,
     "metadata": {},
     "output_type": "execute_result"
    }
   ],
   "source": [
    "# Print the pivot table\n",
    "pivot_table"
   ]
  },
  {
   "cell_type": "markdown",
   "id": "0da73afb-c12a-4477-a56b-3ef99ee88522",
   "metadata": {},
   "source": [
    "### **Checking Pivot Table Missing Values**"
   ]
  },
  {
   "cell_type": "code",
   "execution_count": 27,
   "id": "4811b014-e8dd-4d0f-966a-f8ab29d1ca5a",
   "metadata": {},
   "outputs": [
    {
     "data": {
      "text/plain": [
       "Measurement\n",
       "Pain                146\n",
       "Pulse                22\n",
       "Respiratory rate    310\n",
       "Temperature         340\n",
       "dtype: int64"
      ]
     },
     "execution_count": 27,
     "metadata": {},
     "output_type": "execute_result"
    }
   ],
   "source": [
    "pivot_table.isnull().sum()"
   ]
  },
  {
   "cell_type": "code",
   "execution_count": 28,
   "id": "7a3fec7a-9be0-4bee-9f19-61324cf12572",
   "metadata": {},
   "outputs": [],
   "source": [
    "pivot_table.dropna(axis=0, inplace = True)"
   ]
  },
  {
   "cell_type": "code",
   "execution_count": 29,
   "id": "d152198f-56ca-4f34-95cc-8639ace34e2c",
   "metadata": {},
   "outputs": [
    {
     "data": {
      "text/html": [
       "<div>\n",
       "<style scoped>\n",
       "    .dataframe tbody tr th:only-of-type {\n",
       "        vertical-align: middle;\n",
       "    }\n",
       "\n",
       "    .dataframe tbody tr th {\n",
       "        vertical-align: top;\n",
       "    }\n",
       "\n",
       "    .dataframe thead th {\n",
       "        text-align: right;\n",
       "    }\n",
       "</style>\n",
       "<table border=\"1\" class=\"dataframe\">\n",
       "  <thead>\n",
       "    <tr style=\"text-align: right;\">\n",
       "      <th>Measurement</th>\n",
       "      <th>Pain</th>\n",
       "      <th>Pulse</th>\n",
       "      <th>Respiratory rate</th>\n",
       "      <th>Temperature</th>\n",
       "    </tr>\n",
       "    <tr>\n",
       "      <th>Internalpatientid</th>\n",
       "      <th></th>\n",
       "      <th></th>\n",
       "      <th></th>\n",
       "      <th></th>\n",
       "    </tr>\n",
       "  </thead>\n",
       "  <tbody>\n",
       "    <tr>\n",
       "      <th>6</th>\n",
       "      <td>0.0</td>\n",
       "      <td>51.0</td>\n",
       "      <td>16.0</td>\n",
       "      <td>97.030389</td>\n",
       "    </tr>\n",
       "    <tr>\n",
       "      <th>7</th>\n",
       "      <td>0.0</td>\n",
       "      <td>67.0</td>\n",
       "      <td>19.0</td>\n",
       "      <td>97.567325</td>\n",
       "    </tr>\n",
       "    <tr>\n",
       "      <th>9</th>\n",
       "      <td>0.0</td>\n",
       "      <td>91.0</td>\n",
       "      <td>21.0</td>\n",
       "      <td>98.600910</td>\n",
       "    </tr>\n",
       "    <tr>\n",
       "      <th>12</th>\n",
       "      <td>3.0</td>\n",
       "      <td>64.0</td>\n",
       "      <td>24.0</td>\n",
       "      <td>97.693046</td>\n",
       "    </tr>\n",
       "    <tr>\n",
       "      <th>17</th>\n",
       "      <td>0.0</td>\n",
       "      <td>63.0</td>\n",
       "      <td>25.0</td>\n",
       "      <td>101.122904</td>\n",
       "    </tr>\n",
       "    <tr>\n",
       "      <th>...</th>\n",
       "      <td>...</td>\n",
       "      <td>...</td>\n",
       "      <td>...</td>\n",
       "      <td>...</td>\n",
       "    </tr>\n",
       "    <tr>\n",
       "      <th>169037</th>\n",
       "      <td>0.0</td>\n",
       "      <td>65.0</td>\n",
       "      <td>14.0</td>\n",
       "      <td>95.063409</td>\n",
       "    </tr>\n",
       "    <tr>\n",
       "      <th>169045</th>\n",
       "      <td>0.0</td>\n",
       "      <td>58.0</td>\n",
       "      <td>17.0</td>\n",
       "      <td>92.387524</td>\n",
       "    </tr>\n",
       "    <tr>\n",
       "      <th>169058</th>\n",
       "      <td>5.0</td>\n",
       "      <td>84.0</td>\n",
       "      <td>18.0</td>\n",
       "      <td>93.916635</td>\n",
       "    </tr>\n",
       "    <tr>\n",
       "      <th>169059</th>\n",
       "      <td>3.0</td>\n",
       "      <td>66.0</td>\n",
       "      <td>20.0</td>\n",
       "      <td>97.727853</td>\n",
       "    </tr>\n",
       "    <tr>\n",
       "      <th>169065</th>\n",
       "      <td>5.0</td>\n",
       "      <td>109.0</td>\n",
       "      <td>20.0</td>\n",
       "      <td>97.327395</td>\n",
       "    </tr>\n",
       "  </tbody>\n",
       "</table>\n",
       "<p>33977 rows × 4 columns</p>\n",
       "</div>"
      ],
      "text/plain": [
       "Measurement        Pain  Pulse  Respiratory rate  Temperature\n",
       "Internalpatientid                                            \n",
       "6                   0.0   51.0              16.0    97.030389\n",
       "7                   0.0   67.0              19.0    97.567325\n",
       "9                   0.0   91.0              21.0    98.600910\n",
       "12                  3.0   64.0              24.0    97.693046\n",
       "17                  0.0   63.0              25.0   101.122904\n",
       "...                 ...    ...               ...          ...\n",
       "169037              0.0   65.0              14.0    95.063409\n",
       "169045              0.0   58.0              17.0    92.387524\n",
       "169058              5.0   84.0              18.0    93.916635\n",
       "169059              3.0   66.0              20.0    97.727853\n",
       "169065              5.0  109.0              20.0    97.327395\n",
       "\n",
       "[33977 rows x 4 columns]"
      ]
     },
     "execution_count": 29,
     "metadata": {},
     "output_type": "execute_result"
    }
   ],
   "source": [
    "pivot_table"
   ]
  },
  {
   "cell_type": "markdown",
   "id": "c53eb805-e685-4ea6-9839-68aae34b0d1e",
   "metadata": {},
   "source": [
    "### **Saving Measurements file**"
   ]
  },
  {
   "cell_type": "code",
   "execution_count": 30,
   "id": "b2622fba-de02-4908-aed3-e61d50d90555",
   "metadata": {},
   "outputs": [
    {
     "data": {
      "text/plain": [
       "'/mnt/batch/tasks/shared/LS_root/mounts/clusters/team3-lavanya-gpu2/code/Users/2211574/Best_Files'"
      ]
     },
     "execution_count": 30,
     "metadata": {},
     "output_type": "execute_result"
    }
   ],
   "source": [
    "import os\n",
    "cwd = os.getcwd()\n",
    "cwd"
   ]
  },
  {
   "cell_type": "code",
   "execution_count": 31,
   "id": "825aa089-8755-468d-bfa8-78da6c50a8f2",
   "metadata": {},
   "outputs": [],
   "source": [
    "pivot_table.to_csv('/mnt/batch/tasks/shared/LS_root/mounts/clusters/team3-lavanya-gpu2/code/Users/900379/Output_files_test/Potential_files_test/df_measurements_pivot_test_v1.csv')"
   ]
  },
  {
   "cell_type": "markdown",
   "id": "fdd39512-2739-4894-b146-c6f1913d5bbd",
   "metadata": {},
   "source": [
    "-----"
   ]
  }
 ],
 "metadata": {
  "kernelspec": {
   "display_name": "Python 3.8 - AzureML",
   "language": "python",
   "name": "python38-azureml"
  },
  "language_info": {
   "codemirror_mode": {
    "name": "ipython",
    "version": 3
   },
   "file_extension": ".py",
   "mimetype": "text/x-python",
   "name": "python",
   "nbconvert_exporter": "python",
   "pygments_lexer": "ipython3",
   "version": "3.8.5"
  }
 },
 "nbformat": 4,
 "nbformat_minor": 5
}
