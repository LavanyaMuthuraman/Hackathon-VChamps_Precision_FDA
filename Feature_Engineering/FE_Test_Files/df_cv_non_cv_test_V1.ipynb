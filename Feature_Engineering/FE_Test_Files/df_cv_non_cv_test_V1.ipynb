{
 "cells": [
  {
   "cell_type": "markdown",
   "metadata": {},
   "source": [
    "# **The Cardiac and Non cardiac patients Notebook** "
   ]
  },
  {
   "cell_type": "code",
   "execution_count": 33,
   "metadata": {
    "gather": {
     "logged": 1688639269765
    }
   },
   "outputs": [],
   "source": [
    "#A class attribute that provides access to the TabularDatasetFactory methods for creating new TabularDataset objects. \n",
    "#Usage: Dataset.Tabular.from_delimited_files().\n",
    "from azureml.core import Workspace, Dataset\n",
    "\n",
    "subscription_id = 'bcfe0c62-8ebe-4df0-a46d-1efcf8739a5b' #check the launch studio there will get this id\n",
    "resource_group = 'VChamp-Team3' # resource group name\n",
    "workspace_name = 'vchamp-team3' # worksapce name\n",
    "\n",
    "\n",
    "# storage account : Algorithmia, Resource group: VChamp-Team3 and workspace: vchamp-team3.\n",
    "#Constructor\n",
    "workspace = Workspace(subscription_id, resource_group, workspace_name)"
   ]
  },
  {
   "cell_type": "code",
   "execution_count": 34,
   "metadata": {
    "collapsed": false,
    "gather": {
     "logged": 1688639271316
    },
    "jupyter": {
     "outputs_hidden": false,
     "source_hidden": false
    },
    "nteract": {
     "transient": {
      "deleting": false
     }
    }
   },
   "outputs": [],
   "source": [
    "#['data_team3_synthetic_test']\n",
    "datastore = workspace.datastores['data_team3_synthetic_test'] "
   ]
  },
  {
   "cell_type": "code",
   "execution_count": 71,
   "metadata": {
    "collapsed": false,
    "gather": {
     "logged": 1688639276373
    },
    "jupyter": {
     "outputs_hidden": false,
     "source_hidden": false
    },
    "nteract": {
     "transient": {
      "deleting": false
     }
    }
   },
   "outputs": [],
   "source": [
    "#from_delimited_files (Create a TabularDataset to represent tabular data in delimited files (e.g. CSV and TSV).\n",
    "\n",
    "dataset = Dataset.Tabular.from_delimited_files(path = [(datastore, 'conditions_test.csv')])\n",
    "\n",
    "# preview the first 3 rows of the dataset\n",
    "# dataset.to_pandas_dataframe()"
   ]
  },
  {
   "cell_type": "code",
   "execution_count": 72,
   "metadata": {
    "collapsed": false,
    "gather": {
     "logged": 1688639304997
    },
    "jupyter": {
     "outputs_hidden": false,
     "source_hidden": false
    },
    "nteract": {
     "transient": {
      "deleting": false
     }
    }
   },
   "outputs": [],
   "source": [
    "#Converting the dataset into data frame(default as dataset in Azure, thus we must convert the needed formate)\n",
    "conditions_train_data= dataset.to_pandas_dataframe()"
   ]
  },
  {
   "cell_type": "markdown",
   "metadata": {},
   "source": [
    "# Importing the library"
   ]
  },
  {
   "cell_type": "code",
   "execution_count": 74,
   "metadata": {
    "collapsed": false,
    "gather": {
     "logged": 1688639312268
    },
    "jupyter": {
     "outputs_hidden": false,
     "source_hidden": false
    },
    "nteract": {
     "transient": {
      "deleting": false
     }
    }
   },
   "outputs": [],
   "source": [
    "import numpy as np                # Multi-Dimensional array object\n",
    "import pandas as pd               # Data Manipulation\n",
    "import matplotlib.pyplot as plt   # Data Visualization\n",
    "import seaborn as sns             # Data Visualization \n",
    "\n",
    "# Allows the use of display() for DataFrames\n",
    "from IPython.display import display \n",
    "\n",
    "# Handle warning messages that may occur during code execution\n",
    "import warnings\n",
    "warnings.filterwarnings('ignore')\n",
    "\n",
    "# To increase memory allocation\n",
    "from notebook.services.config import ConfigManager\n",
    "cm = ConfigManager().update('notebook', {'max_buffer_size': 7294967296})\n",
    "\n",
    "# Set the maximum number of rows to be displayed to 1000\n",
    "pd.set_option('display.max_rows', 1163)"
   ]
  },
  {
   "cell_type": "markdown",
   "metadata": {},
   "source": [
    "# Elimination of the unnamed columns"
   ]
  },
  {
   "cell_type": "code",
   "execution_count": 75,
   "metadata": {
    "collapsed": false,
    "gather": {
     "logged": 1688639319513
    },
    "jupyter": {
     "outputs_hidden": false,
     "source_hidden": false
    },
    "nteract": {
     "transient": {
      "deleting": false
     }
    }
   },
   "outputs": [],
   "source": [
    "# Remove unwanted columns \n",
    "conditions_train_data.drop('Column1',axis=1,inplace=True)"
   ]
  },
  {
   "cell_type": "code",
   "execution_count": 76,
   "metadata": {
    "collapsed": false,
    "gather": {
     "logged": 1688639325661
    },
    "jupyter": {
     "outputs_hidden": false,
     "source_hidden": false
    },
    "nteract": {
     "transient": {
      "deleting": false
     }
    }
   },
   "outputs": [],
   "source": [
    "conditions_train_data =  conditions_train_data"
   ]
  },
  {
   "cell_type": "markdown",
   "metadata": {},
   "source": [
    "# Sorting out patients id and age column"
   ]
  },
  {
   "cell_type": "code",
   "execution_count": 80,
   "metadata": {},
   "outputs": [],
   "source": [
    "# Sort the dataset based on the patientsid and 'age' column in ascending order\n",
    "conditions_train_data.sort_values([\"Internalpatientid\",\"Age at condition documentation\"],inplace=True)"
   ]
  },
  {
   "cell_type": "markdown",
   "metadata": {},
   "source": [
    "# Checking the missing value"
   ]
  },
  {
   "cell_type": "code",
   "execution_count": 83,
   "metadata": {
    "collapsed": false,
    "gather": {
     "logged": 1688639505037
    },
    "jupyter": {
     "outputs_hidden": false,
     "source_hidden": false
    },
    "nteract": {
     "transient": {
      "deleting": false
     }
    }
   },
   "outputs": [
    {
     "name": "stdout",
     "output_type": "stream",
     "text": [
      "Training set missing values:\n",
      " Internalpatientid                         0\n",
      "Age at condition documentation            0\n",
      "Condition documented date                 0\n",
      "Condition type                            0\n",
      "Condition code icd10 subcategory          0\n",
      "Diagnosis sequence number or rank    960030\n",
      "State                                     0\n",
      "dtype: int64\n"
     ]
    }
   ],
   "source": [
    "print(\"Training set missing values:\\n\", conditions_train_data.isna().sum())"
   ]
  },
  {
   "cell_type": "markdown",
   "metadata": {},
   "source": [
    "# Taking the two digits in age column "
   ]
  },
  {
   "cell_type": "code",
   "execution_count": 84,
   "metadata": {},
   "outputs": [],
   "source": [
    "# Format 'Age at condition documentation' values in the format 00.00\n",
    "conditions_train_data[\"Age at condition documentation\"] = conditions_train_data[\"Age at condition documentation\"].map(\"{:.2f}\".format)"
   ]
  },
  {
   "cell_type": "code",
   "execution_count": 85,
   "metadata": {},
   "outputs": [
    {
     "data": {
      "text/html": [
       "<div>\n",
       "<style scoped>\n",
       "    .dataframe tbody tr th:only-of-type {\n",
       "        vertical-align: middle;\n",
       "    }\n",
       "\n",
       "    .dataframe tbody tr th {\n",
       "        vertical-align: top;\n",
       "    }\n",
       "\n",
       "    .dataframe thead th {\n",
       "        text-align: right;\n",
       "    }\n",
       "</style>\n",
       "<table border=\"1\" class=\"dataframe\">\n",
       "  <thead>\n",
       "    <tr style=\"text-align: right;\">\n",
       "      <th></th>\n",
       "      <th>Internalpatientid</th>\n",
       "      <th>Age at condition documentation</th>\n",
       "      <th>Condition documented date</th>\n",
       "      <th>Condition type</th>\n",
       "      <th>Condition code icd10 subcategory</th>\n",
       "      <th>Diagnosis sequence number or rank</th>\n",
       "      <th>State</th>\n",
       "    </tr>\n",
       "  </thead>\n",
       "  <tbody>\n",
       "    <tr>\n",
       "      <th>15352101</th>\n",
       "      <td>6</td>\n",
       "      <td>74.77</td>\n",
       "      <td>2001-06-13 08:56:37</td>\n",
       "      <td>Diagnosis</td>\n",
       "      <td>Heart failure, unspecified</td>\n",
       "      <td>S</td>\n",
       "      <td>Texas</td>\n",
       "    </tr>\n",
       "    <tr>\n",
       "      <th>15352102</th>\n",
       "      <td>6</td>\n",
       "      <td>74.77</td>\n",
       "      <td>2001-06-13 08:56:37</td>\n",
       "      <td>Diagnosis</td>\n",
       "      <td>Atherosclerotic heart disease of native corona...</td>\n",
       "      <td>P</td>\n",
       "      <td>Texas</td>\n",
       "    </tr>\n",
       "    <tr>\n",
       "      <th>15352103</th>\n",
       "      <td>6</td>\n",
       "      <td>74.77</td>\n",
       "      <td>2001-06-13 08:56:37</td>\n",
       "      <td>Diagnosis</td>\n",
       "      <td>Unspecified atrial fibrillation and atrial flu...</td>\n",
       "      <td>S</td>\n",
       "      <td>Texas</td>\n",
       "    </tr>\n",
       "    <tr>\n",
       "      <th>22032759</th>\n",
       "      <td>6</td>\n",
       "      <td>74.77</td>\n",
       "      <td>2001-06-13 08:57:38</td>\n",
       "      <td>Diagnosis</td>\n",
       "      <td>Heart failure, unspecified</td>\n",
       "      <td>S</td>\n",
       "      <td>Texas</td>\n",
       "    </tr>\n",
       "    <tr>\n",
       "      <th>22032760</th>\n",
       "      <td>6</td>\n",
       "      <td>74.77</td>\n",
       "      <td>2001-06-13 08:57:38</td>\n",
       "      <td>Diagnosis</td>\n",
       "      <td>Unspecified atrial fibrillation and atrial flu...</td>\n",
       "      <td>S</td>\n",
       "      <td>Texas</td>\n",
       "    </tr>\n",
       "    <tr>\n",
       "      <th>...</th>\n",
       "      <td>...</td>\n",
       "      <td>...</td>\n",
       "      <td>...</td>\n",
       "      <td>...</td>\n",
       "      <td>...</td>\n",
       "      <td>...</td>\n",
       "      <td>...</td>\n",
       "    </tr>\n",
       "    <tr>\n",
       "      <th>9577050</th>\n",
       "      <td>169065</td>\n",
       "      <td>53.32</td>\n",
       "      <td>2011-06-11 16:12:21</td>\n",
       "      <td>Diagnosis</td>\n",
       "      <td>Sepsis due to Hemophilus influenzae</td>\n",
       "      <td>5</td>\n",
       "      <td>Arizona</td>\n",
       "    </tr>\n",
       "    <tr>\n",
       "      <th>9577051</th>\n",
       "      <td>169065</td>\n",
       "      <td>53.32</td>\n",
       "      <td>2011-06-11 16:12:21</td>\n",
       "      <td>Diagnosis</td>\n",
       "      <td>Acute kidney failure with tubular necrosis</td>\n",
       "      <td>7</td>\n",
       "      <td>Arizona</td>\n",
       "    </tr>\n",
       "    <tr>\n",
       "      <th>9577052</th>\n",
       "      <td>169065</td>\n",
       "      <td>53.32</td>\n",
       "      <td>2011-06-11 16:12:21</td>\n",
       "      <td>Diagnosis</td>\n",
       "      <td>Acute respiratory failure</td>\n",
       "      <td>1</td>\n",
       "      <td>Arizona</td>\n",
       "    </tr>\n",
       "    <tr>\n",
       "      <th>9577053</th>\n",
       "      <td>169065</td>\n",
       "      <td>53.32</td>\n",
       "      <td>2011-06-11 16:12:21</td>\n",
       "      <td>Diagnosis</td>\n",
       "      <td>Pleural effusion in other conditions classifie...</td>\n",
       "      <td>10</td>\n",
       "      <td>Arizona</td>\n",
       "    </tr>\n",
       "    <tr>\n",
       "      <th>9563370</th>\n",
       "      <td>169065</td>\n",
       "      <td>53.32</td>\n",
       "      <td>2011-06-11 16:44:30</td>\n",
       "      <td>Diagnosis</td>\n",
       "      <td>Other specified counseling</td>\n",
       "      <td>P</td>\n",
       "      <td>Arizona</td>\n",
       "    </tr>\n",
       "  </tbody>\n",
       "</table>\n",
       "<p>23283467 rows × 7 columns</p>\n",
       "</div>"
      ],
      "text/plain": [
       "          Internalpatientid Age at condition documentation  \\\n",
       "15352101                  6                          74.77   \n",
       "15352102                  6                          74.77   \n",
       "15352103                  6                          74.77   \n",
       "22032759                  6                          74.77   \n",
       "22032760                  6                          74.77   \n",
       "...                     ...                            ...   \n",
       "9577050              169065                          53.32   \n",
       "9577051              169065                          53.32   \n",
       "9577052              169065                          53.32   \n",
       "9577053              169065                          53.32   \n",
       "9563370              169065                          53.32   \n",
       "\n",
       "         Condition documented date Condition type  \\\n",
       "15352101       2001-06-13 08:56:37      Diagnosis   \n",
       "15352102       2001-06-13 08:56:37      Diagnosis   \n",
       "15352103       2001-06-13 08:56:37      Diagnosis   \n",
       "22032759       2001-06-13 08:57:38      Diagnosis   \n",
       "22032760       2001-06-13 08:57:38      Diagnosis   \n",
       "...                            ...            ...   \n",
       "9577050        2011-06-11 16:12:21      Diagnosis   \n",
       "9577051        2011-06-11 16:12:21      Diagnosis   \n",
       "9577052        2011-06-11 16:12:21      Diagnosis   \n",
       "9577053        2011-06-11 16:12:21      Diagnosis   \n",
       "9563370        2011-06-11 16:44:30      Diagnosis   \n",
       "\n",
       "                           Condition code icd10 subcategory  \\\n",
       "15352101                         Heart failure, unspecified   \n",
       "15352102  Atherosclerotic heart disease of native corona...   \n",
       "15352103  Unspecified atrial fibrillation and atrial flu...   \n",
       "22032759                         Heart failure, unspecified   \n",
       "22032760  Unspecified atrial fibrillation and atrial flu...   \n",
       "...                                                     ...   \n",
       "9577050                 Sepsis due to Hemophilus influenzae   \n",
       "9577051          Acute kidney failure with tubular necrosis   \n",
       "9577052                           Acute respiratory failure   \n",
       "9577053   Pleural effusion in other conditions classifie...   \n",
       "9563370                          Other specified counseling   \n",
       "\n",
       "         Diagnosis sequence number or rank    State  \n",
       "15352101                                 S    Texas  \n",
       "15352102                                 P    Texas  \n",
       "15352103                                 S    Texas  \n",
       "22032759                                 S    Texas  \n",
       "22032760                                 S    Texas  \n",
       "...                                    ...      ...  \n",
       "9577050                                  5  Arizona  \n",
       "9577051                                  7  Arizona  \n",
       "9577052                                  1  Arizona  \n",
       "9577053                                 10  Arizona  \n",
       "9563370                                  P  Arizona  \n",
       "\n",
       "[23283467 rows x 7 columns]"
      ]
     },
     "execution_count": 85,
     "metadata": {},
     "output_type": "execute_result"
    }
   ],
   "source": [
    "conditions_train_data"
   ]
  },
  {
   "cell_type": "code",
   "execution_count": 86,
   "metadata": {},
   "outputs": [],
   "source": [
    "# Convert 'Age at condition documentation' column from object to float\n",
    "conditions_train_data[\"Age at condition documentation\"] = conditions_train_data[\"Age at condition documentation\"].astype(float)"
   ]
  },
  {
   "cell_type": "markdown",
   "metadata": {},
   "source": [
    "# Taking the Max age"
   ]
  },
  {
   "cell_type": "code",
   "execution_count": 88,
   "metadata": {},
   "outputs": [
    {
     "data": {
      "text/html": [
       "<div>\n",
       "<style scoped>\n",
       "    .dataframe tbody tr th:only-of-type {\n",
       "        vertical-align: middle;\n",
       "    }\n",
       "\n",
       "    .dataframe tbody tr th {\n",
       "        vertical-align: top;\n",
       "    }\n",
       "\n",
       "    .dataframe thead th {\n",
       "        text-align: right;\n",
       "    }\n",
       "</style>\n",
       "<table border=\"1\" class=\"dataframe\">\n",
       "  <thead>\n",
       "    <tr style=\"text-align: right;\">\n",
       "      <th></th>\n",
       "      <th>Internalpatientid</th>\n",
       "      <th>Age at condition documentation</th>\n",
       "      <th>Condition documented date</th>\n",
       "      <th>Condition type</th>\n",
       "      <th>Condition code icd10 subcategory</th>\n",
       "      <th>Diagnosis sequence number or rank</th>\n",
       "      <th>State</th>\n",
       "    </tr>\n",
       "  </thead>\n",
       "  <tbody>\n",
       "    <tr>\n",
       "      <th>0</th>\n",
       "      <td>6</td>\n",
       "      <td>88.10</td>\n",
       "      <td>2014-10-16 01:23:22</td>\n",
       "      <td>Diagnosis</td>\n",
       "      <td>Other specified counseling</td>\n",
       "      <td>P</td>\n",
       "      <td>Texas</td>\n",
       "    </tr>\n",
       "    <tr>\n",
       "      <th>1</th>\n",
       "      <td>7</td>\n",
       "      <td>74.37</td>\n",
       "      <td>2020-11-22 12:50:02</td>\n",
       "      <td>Diagnosis</td>\n",
       "      <td>Dental caries on smooth surface</td>\n",
       "      <td>P</td>\n",
       "      <td>Nebraska</td>\n",
       "    </tr>\n",
       "    <tr>\n",
       "      <th>2</th>\n",
       "      <td>9</td>\n",
       "      <td>51.88</td>\n",
       "      <td>2000-04-26 17:39:58</td>\n",
       "      <td>Diagnosis</td>\n",
       "      <td>Hypertensive heart disease with heart failure ...</td>\n",
       "      <td>5</td>\n",
       "      <td>Texas</td>\n",
       "    </tr>\n",
       "    <tr>\n",
       "      <th>3</th>\n",
       "      <td>9</td>\n",
       "      <td>51.88</td>\n",
       "      <td>2000-04-26 17:39:58</td>\n",
       "      <td>Diagnosis</td>\n",
       "      <td>Hypertensive heart disease with heart failure ...</td>\n",
       "      <td>5</td>\n",
       "      <td>Texas</td>\n",
       "    </tr>\n",
       "    <tr>\n",
       "      <th>4</th>\n",
       "      <td>9</td>\n",
       "      <td>51.88</td>\n",
       "      <td>2000-04-26 17:39:58</td>\n",
       "      <td>Diagnosis</td>\n",
       "      <td>Nonrheumatic mitral (valve) insufficiency</td>\n",
       "      <td>4</td>\n",
       "      <td>Texas</td>\n",
       "    </tr>\n",
       "    <tr>\n",
       "      <th>...</th>\n",
       "      <td>...</td>\n",
       "      <td>...</td>\n",
       "      <td>...</td>\n",
       "      <td>...</td>\n",
       "      <td>...</td>\n",
       "      <td>...</td>\n",
       "      <td>...</td>\n",
       "    </tr>\n",
       "    <tr>\n",
       "      <th>225895</th>\n",
       "      <td>169065</td>\n",
       "      <td>53.32</td>\n",
       "      <td>2011-06-11 16:12:21</td>\n",
       "      <td>Diagnosis</td>\n",
       "      <td>Sepsis due to Hemophilus influenzae</td>\n",
       "      <td>5</td>\n",
       "      <td>Arizona</td>\n",
       "    </tr>\n",
       "    <tr>\n",
       "      <th>225896</th>\n",
       "      <td>169065</td>\n",
       "      <td>53.32</td>\n",
       "      <td>2011-06-11 16:12:21</td>\n",
       "      <td>Diagnosis</td>\n",
       "      <td>Acute kidney failure with tubular necrosis</td>\n",
       "      <td>7</td>\n",
       "      <td>Arizona</td>\n",
       "    </tr>\n",
       "    <tr>\n",
       "      <th>225897</th>\n",
       "      <td>169065</td>\n",
       "      <td>53.32</td>\n",
       "      <td>2011-06-11 16:12:21</td>\n",
       "      <td>Diagnosis</td>\n",
       "      <td>Acute respiratory failure</td>\n",
       "      <td>1</td>\n",
       "      <td>Arizona</td>\n",
       "    </tr>\n",
       "    <tr>\n",
       "      <th>225898</th>\n",
       "      <td>169065</td>\n",
       "      <td>53.32</td>\n",
       "      <td>2011-06-11 16:12:21</td>\n",
       "      <td>Diagnosis</td>\n",
       "      <td>Pleural effusion in other conditions classifie...</td>\n",
       "      <td>10</td>\n",
       "      <td>Arizona</td>\n",
       "    </tr>\n",
       "    <tr>\n",
       "      <th>225899</th>\n",
       "      <td>169065</td>\n",
       "      <td>53.32</td>\n",
       "      <td>2011-06-11 16:44:30</td>\n",
       "      <td>Diagnosis</td>\n",
       "      <td>Other specified counseling</td>\n",
       "      <td>P</td>\n",
       "      <td>Arizona</td>\n",
       "    </tr>\n",
       "  </tbody>\n",
       "</table>\n",
       "<p>225900 rows × 7 columns</p>\n",
       "</div>"
      ],
      "text/plain": [
       "        Internalpatientid  Age at condition documentation  \\\n",
       "0                       6                           88.10   \n",
       "1                       7                           74.37   \n",
       "2                       9                           51.88   \n",
       "3                       9                           51.88   \n",
       "4                       9                           51.88   \n",
       "...                   ...                             ...   \n",
       "225895             169065                           53.32   \n",
       "225896             169065                           53.32   \n",
       "225897             169065                           53.32   \n",
       "225898             169065                           53.32   \n",
       "225899             169065                           53.32   \n",
       "\n",
       "       Condition documented date Condition type  \\\n",
       "0            2014-10-16 01:23:22      Diagnosis   \n",
       "1            2020-11-22 12:50:02      Diagnosis   \n",
       "2            2000-04-26 17:39:58      Diagnosis   \n",
       "3            2000-04-26 17:39:58      Diagnosis   \n",
       "4            2000-04-26 17:39:58      Diagnosis   \n",
       "...                          ...            ...   \n",
       "225895       2011-06-11 16:12:21      Diagnosis   \n",
       "225896       2011-06-11 16:12:21      Diagnosis   \n",
       "225897       2011-06-11 16:12:21      Diagnosis   \n",
       "225898       2011-06-11 16:12:21      Diagnosis   \n",
       "225899       2011-06-11 16:44:30      Diagnosis   \n",
       "\n",
       "                         Condition code icd10 subcategory  \\\n",
       "0                              Other specified counseling   \n",
       "1                         Dental caries on smooth surface   \n",
       "2       Hypertensive heart disease with heart failure ...   \n",
       "3       Hypertensive heart disease with heart failure ...   \n",
       "4               Nonrheumatic mitral (valve) insufficiency   \n",
       "...                                                   ...   \n",
       "225895                Sepsis due to Hemophilus influenzae   \n",
       "225896         Acute kidney failure with tubular necrosis   \n",
       "225897                          Acute respiratory failure   \n",
       "225898  Pleural effusion in other conditions classifie...   \n",
       "225899                         Other specified counseling   \n",
       "\n",
       "       Diagnosis sequence number or rank     State  \n",
       "0                                      P     Texas  \n",
       "1                                      P  Nebraska  \n",
       "2                                      5     Texas  \n",
       "3                                      5     Texas  \n",
       "4                                      4     Texas  \n",
       "...                                  ...       ...  \n",
       "225895                                 5   Arizona  \n",
       "225896                                 7   Arizona  \n",
       "225897                                 1   Arizona  \n",
       "225898                                10   Arizona  \n",
       "225899                                 P   Arizona  \n",
       "\n",
       "[225900 rows x 7 columns]"
      ]
     },
     "execution_count": 88,
     "metadata": {},
     "output_type": "execute_result"
    }
   ],
   "source": [
    "# Find the latest records for each internal patient id\n",
    "max_ages = conditions_train_data.groupby('Internalpatientid')['Age at condition documentation'].max().reset_index()\n",
    "\n",
    "# Merge with the original dataframe to get the rows with the highest age\n",
    "conditions_train_data = pd.merge(conditions_train_data, max_ages, on =['Internalpatientid','Age at condition documentation'], how = 'inner')\n",
    "\n",
    "conditions_train_data"
   ]
  },
  {
   "cell_type": "markdown",
   "metadata": {},
   "source": [
    "# Rounding off the Age column"
   ]
  },
  {
   "cell_type": "code",
   "execution_count": 89,
   "metadata": {},
   "outputs": [],
   "source": [
    "conditions_train_data['Age at condition documentation'] = conditions_train_data['Age at condition documentation'].apply(lambda x: round(x,))"
   ]
  },
  {
   "cell_type": "code",
   "execution_count": 91,
   "metadata": {},
   "outputs": [],
   "source": [
    "# value counts\n",
    "df = conditions_train_data[\"Internalpatientid\"].value_counts().loc[lambda x: x  > 60]"
   ]
  },
  {
   "cell_type": "code",
   "execution_count": 92,
   "metadata": {},
   "outputs": [],
   "source": [
    "df = df.reset_index() "
   ]
  },
  {
   "cell_type": "code",
   "execution_count": 93,
   "metadata": {},
   "outputs": [],
   "source": [
    "df.columns = [\"Internalpatientid\",\"count_conditions\"]"
   ]
  },
  {
   "cell_type": "code",
   "execution_count": 94,
   "metadata": {},
   "outputs": [],
   "source": [
    "df.drop('count_conditions', axis = 1, inplace = True)"
   ]
  },
  {
   "cell_type": "code",
   "execution_count": 97,
   "metadata": {
    "collapsed": false,
    "gather": {
     "logged": 1688642261992
    },
    "jupyter": {
     "outputs_hidden": false
    },
    "nteract": {
     "transient": {
      "deleting": false
     }
    }
   },
   "outputs": [
    {
     "data": {
      "text/plain": [
       "327"
      ]
     },
     "execution_count": 97,
     "metadata": {},
     "output_type": "execute_result"
    }
   ],
   "source": [
    "len(df)"
   ]
  },
  {
   "cell_type": "code",
   "execution_count": 98,
   "metadata": {
    "collapsed": false,
    "gather": {
     "logged": 1688642410202
    },
    "jupyter": {
     "outputs_hidden": false
    },
    "nteract": {
     "transient": {
      "deleting": false
     }
    }
   },
   "outputs": [
    {
     "data": {
      "text/html": [
       "<div>\n",
       "<style scoped>\n",
       "    .dataframe tbody tr th:only-of-type {\n",
       "        vertical-align: middle;\n",
       "    }\n",
       "\n",
       "    .dataframe tbody tr th {\n",
       "        vertical-align: top;\n",
       "    }\n",
       "\n",
       "    .dataframe thead th {\n",
       "        text-align: right;\n",
       "    }\n",
       "</style>\n",
       "<table border=\"1\" class=\"dataframe\">\n",
       "  <thead>\n",
       "    <tr style=\"text-align: right;\">\n",
       "      <th></th>\n",
       "      <th>Internalpatientid</th>\n",
       "      <th>Age at condition documentation</th>\n",
       "      <th>Condition documented date</th>\n",
       "      <th>Condition type</th>\n",
       "      <th>Condition code icd10 subcategory</th>\n",
       "      <th>Diagnosis sequence number or rank</th>\n",
       "      <th>State</th>\n",
       "    </tr>\n",
       "  </thead>\n",
       "  <tbody>\n",
       "    <tr>\n",
       "      <th>0</th>\n",
       "      <td>6</td>\n",
       "      <td>88</td>\n",
       "      <td>2014-10-16 01:23:22</td>\n",
       "      <td>Diagnosis</td>\n",
       "      <td>Other specified counseling</td>\n",
       "      <td>P</td>\n",
       "      <td>Texas</td>\n",
       "    </tr>\n",
       "    <tr>\n",
       "      <th>1</th>\n",
       "      <td>7</td>\n",
       "      <td>74</td>\n",
       "      <td>2020-11-22 12:50:02</td>\n",
       "      <td>Diagnosis</td>\n",
       "      <td>Dental caries on smooth surface</td>\n",
       "      <td>P</td>\n",
       "      <td>Nebraska</td>\n",
       "    </tr>\n",
       "    <tr>\n",
       "      <th>2</th>\n",
       "      <td>9</td>\n",
       "      <td>52</td>\n",
       "      <td>2000-04-26 17:39:58</td>\n",
       "      <td>Diagnosis</td>\n",
       "      <td>Hypertensive heart disease with heart failure ...</td>\n",
       "      <td>5</td>\n",
       "      <td>Texas</td>\n",
       "    </tr>\n",
       "    <tr>\n",
       "      <th>3</th>\n",
       "      <td>9</td>\n",
       "      <td>52</td>\n",
       "      <td>2000-04-26 17:39:58</td>\n",
       "      <td>Diagnosis</td>\n",
       "      <td>Hypertensive heart disease with heart failure ...</td>\n",
       "      <td>5</td>\n",
       "      <td>Texas</td>\n",
       "    </tr>\n",
       "    <tr>\n",
       "      <th>4</th>\n",
       "      <td>9</td>\n",
       "      <td>52</td>\n",
       "      <td>2000-04-26 17:39:58</td>\n",
       "      <td>Diagnosis</td>\n",
       "      <td>Nonrheumatic mitral (valve) insufficiency</td>\n",
       "      <td>4</td>\n",
       "      <td>Texas</td>\n",
       "    </tr>\n",
       "    <tr>\n",
       "      <th>...</th>\n",
       "      <td>...</td>\n",
       "      <td>...</td>\n",
       "      <td>...</td>\n",
       "      <td>...</td>\n",
       "      <td>...</td>\n",
       "      <td>...</td>\n",
       "      <td>...</td>\n",
       "    </tr>\n",
       "    <tr>\n",
       "      <th>225895</th>\n",
       "      <td>169065</td>\n",
       "      <td>53</td>\n",
       "      <td>2011-06-11 16:12:21</td>\n",
       "      <td>Diagnosis</td>\n",
       "      <td>Sepsis due to Hemophilus influenzae</td>\n",
       "      <td>5</td>\n",
       "      <td>Arizona</td>\n",
       "    </tr>\n",
       "    <tr>\n",
       "      <th>225896</th>\n",
       "      <td>169065</td>\n",
       "      <td>53</td>\n",
       "      <td>2011-06-11 16:12:21</td>\n",
       "      <td>Diagnosis</td>\n",
       "      <td>Acute kidney failure with tubular necrosis</td>\n",
       "      <td>7</td>\n",
       "      <td>Arizona</td>\n",
       "    </tr>\n",
       "    <tr>\n",
       "      <th>225897</th>\n",
       "      <td>169065</td>\n",
       "      <td>53</td>\n",
       "      <td>2011-06-11 16:12:21</td>\n",
       "      <td>Diagnosis</td>\n",
       "      <td>Acute respiratory failure</td>\n",
       "      <td>1</td>\n",
       "      <td>Arizona</td>\n",
       "    </tr>\n",
       "    <tr>\n",
       "      <th>225898</th>\n",
       "      <td>169065</td>\n",
       "      <td>53</td>\n",
       "      <td>2011-06-11 16:12:21</td>\n",
       "      <td>Diagnosis</td>\n",
       "      <td>Pleural effusion in other conditions classifie...</td>\n",
       "      <td>10</td>\n",
       "      <td>Arizona</td>\n",
       "    </tr>\n",
       "    <tr>\n",
       "      <th>225899</th>\n",
       "      <td>169065</td>\n",
       "      <td>53</td>\n",
       "      <td>2011-06-11 16:44:30</td>\n",
       "      <td>Diagnosis</td>\n",
       "      <td>Other specified counseling</td>\n",
       "      <td>P</td>\n",
       "      <td>Arizona</td>\n",
       "    </tr>\n",
       "  </tbody>\n",
       "</table>\n",
       "<p>199252 rows × 7 columns</p>\n",
       "</div>"
      ],
      "text/plain": [
       "        Internalpatientid  Age at condition documentation  \\\n",
       "0                       6                              88   \n",
       "1                       7                              74   \n",
       "2                       9                              52   \n",
       "3                       9                              52   \n",
       "4                       9                              52   \n",
       "...                   ...                             ...   \n",
       "225895             169065                              53   \n",
       "225896             169065                              53   \n",
       "225897             169065                              53   \n",
       "225898             169065                              53   \n",
       "225899             169065                              53   \n",
       "\n",
       "       Condition documented date Condition type  \\\n",
       "0            2014-10-16 01:23:22      Diagnosis   \n",
       "1            2020-11-22 12:50:02      Diagnosis   \n",
       "2            2000-04-26 17:39:58      Diagnosis   \n",
       "3            2000-04-26 17:39:58      Diagnosis   \n",
       "4            2000-04-26 17:39:58      Diagnosis   \n",
       "...                          ...            ...   \n",
       "225895       2011-06-11 16:12:21      Diagnosis   \n",
       "225896       2011-06-11 16:12:21      Diagnosis   \n",
       "225897       2011-06-11 16:12:21      Diagnosis   \n",
       "225898       2011-06-11 16:12:21      Diagnosis   \n",
       "225899       2011-06-11 16:44:30      Diagnosis   \n",
       "\n",
       "                         Condition code icd10 subcategory  \\\n",
       "0                              Other specified counseling   \n",
       "1                         Dental caries on smooth surface   \n",
       "2       Hypertensive heart disease with heart failure ...   \n",
       "3       Hypertensive heart disease with heart failure ...   \n",
       "4               Nonrheumatic mitral (valve) insufficiency   \n",
       "...                                                   ...   \n",
       "225895                Sepsis due to Hemophilus influenzae   \n",
       "225896         Acute kidney failure with tubular necrosis   \n",
       "225897                          Acute respiratory failure   \n",
       "225898  Pleural effusion in other conditions classifie...   \n",
       "225899                         Other specified counseling   \n",
       "\n",
       "       Diagnosis sequence number or rank     State  \n",
       "0                                      P     Texas  \n",
       "1                                      P  Nebraska  \n",
       "2                                      5     Texas  \n",
       "3                                      5     Texas  \n",
       "4                                      4     Texas  \n",
       "...                                  ...       ...  \n",
       "225895                                 5   Arizona  \n",
       "225896                                 7   Arizona  \n",
       "225897                                 1   Arizona  \n",
       "225898                                10   Arizona  \n",
       "225899                                 P   Arizona  \n",
       "\n",
       "[199252 rows x 7 columns]"
      ]
     },
     "execution_count": 98,
     "metadata": {},
     "output_type": "execute_result"
    }
   ],
   "source": [
    "# Merge the two dataframes based on 'Internalpatientid'\n",
    "merged_df = conditions_train_data.merge(df, on='Internalpatientid', how='left')\n",
    "\n",
    "# Filter rows from DataFrame 1 that have matching values in DataFrame 2\n",
    "filtered_df = merged_df[~merged_df['Internalpatientid'].isin(df['Internalpatientid'])]\n",
    "\n",
    "# Print only the columns of DataFrame 1\n",
    "filtered_df"
   ]
  },
  {
   "cell_type": "code",
   "execution_count": 99,
   "metadata": {
    "collapsed": false,
    "gather": {
     "logged": 1688642581002
    },
    "jupyter": {
     "outputs_hidden": false
    },
    "nteract": {
     "transient": {
      "deleting": false
     }
    }
   },
   "outputs": [],
   "source": [
    "df_new = filtered_df"
   ]
  },
  {
   "cell_type": "code",
   "execution_count": 100,
   "metadata": {},
   "outputs": [
    {
     "data": {
      "text/html": [
       "<div>\n",
       "<style scoped>\n",
       "    .dataframe tbody tr th:only-of-type {\n",
       "        vertical-align: middle;\n",
       "    }\n",
       "\n",
       "    .dataframe tbody tr th {\n",
       "        vertical-align: top;\n",
       "    }\n",
       "\n",
       "    .dataframe thead th {\n",
       "        text-align: right;\n",
       "    }\n",
       "</style>\n",
       "<table border=\"1\" class=\"dataframe\">\n",
       "  <thead>\n",
       "    <tr style=\"text-align: right;\">\n",
       "      <th></th>\n",
       "      <th>Internalpatientid</th>\n",
       "      <th>Age at condition documentation</th>\n",
       "      <th>Condition documented date</th>\n",
       "      <th>Condition type</th>\n",
       "      <th>Condition code icd10 subcategory</th>\n",
       "      <th>Diagnosis sequence number or rank</th>\n",
       "      <th>State</th>\n",
       "    </tr>\n",
       "  </thead>\n",
       "  <tbody>\n",
       "    <tr>\n",
       "      <th>0</th>\n",
       "      <td>6</td>\n",
       "      <td>88</td>\n",
       "      <td>2014-10-16 01:23:22</td>\n",
       "      <td>Diagnosis</td>\n",
       "      <td>Other specified counseling</td>\n",
       "      <td>P</td>\n",
       "      <td>Texas</td>\n",
       "    </tr>\n",
       "    <tr>\n",
       "      <th>1</th>\n",
       "      <td>7</td>\n",
       "      <td>74</td>\n",
       "      <td>2020-11-22 12:50:02</td>\n",
       "      <td>Diagnosis</td>\n",
       "      <td>Dental caries on smooth surface</td>\n",
       "      <td>P</td>\n",
       "      <td>Nebraska</td>\n",
       "    </tr>\n",
       "    <tr>\n",
       "      <th>2</th>\n",
       "      <td>9</td>\n",
       "      <td>52</td>\n",
       "      <td>2000-04-26 17:39:58</td>\n",
       "      <td>Diagnosis</td>\n",
       "      <td>Hypertensive heart disease with heart failure ...</td>\n",
       "      <td>5</td>\n",
       "      <td>Texas</td>\n",
       "    </tr>\n",
       "    <tr>\n",
       "      <th>3</th>\n",
       "      <td>9</td>\n",
       "      <td>52</td>\n",
       "      <td>2000-04-26 17:39:58</td>\n",
       "      <td>Diagnosis</td>\n",
       "      <td>Hypertensive heart disease with heart failure ...</td>\n",
       "      <td>5</td>\n",
       "      <td>Texas</td>\n",
       "    </tr>\n",
       "    <tr>\n",
       "      <th>4</th>\n",
       "      <td>9</td>\n",
       "      <td>52</td>\n",
       "      <td>2000-04-26 17:39:58</td>\n",
       "      <td>Diagnosis</td>\n",
       "      <td>Nonrheumatic mitral (valve) insufficiency</td>\n",
       "      <td>4</td>\n",
       "      <td>Texas</td>\n",
       "    </tr>\n",
       "    <tr>\n",
       "      <th>...</th>\n",
       "      <td>...</td>\n",
       "      <td>...</td>\n",
       "      <td>...</td>\n",
       "      <td>...</td>\n",
       "      <td>...</td>\n",
       "      <td>...</td>\n",
       "      <td>...</td>\n",
       "    </tr>\n",
       "    <tr>\n",
       "      <th>225895</th>\n",
       "      <td>169065</td>\n",
       "      <td>53</td>\n",
       "      <td>2011-06-11 16:12:21</td>\n",
       "      <td>Diagnosis</td>\n",
       "      <td>Sepsis due to Hemophilus influenzae</td>\n",
       "      <td>5</td>\n",
       "      <td>Arizona</td>\n",
       "    </tr>\n",
       "    <tr>\n",
       "      <th>225896</th>\n",
       "      <td>169065</td>\n",
       "      <td>53</td>\n",
       "      <td>2011-06-11 16:12:21</td>\n",
       "      <td>Diagnosis</td>\n",
       "      <td>Acute kidney failure with tubular necrosis</td>\n",
       "      <td>7</td>\n",
       "      <td>Arizona</td>\n",
       "    </tr>\n",
       "    <tr>\n",
       "      <th>225897</th>\n",
       "      <td>169065</td>\n",
       "      <td>53</td>\n",
       "      <td>2011-06-11 16:12:21</td>\n",
       "      <td>Diagnosis</td>\n",
       "      <td>Acute respiratory failure</td>\n",
       "      <td>1</td>\n",
       "      <td>Arizona</td>\n",
       "    </tr>\n",
       "    <tr>\n",
       "      <th>225898</th>\n",
       "      <td>169065</td>\n",
       "      <td>53</td>\n",
       "      <td>2011-06-11 16:12:21</td>\n",
       "      <td>Diagnosis</td>\n",
       "      <td>Pleural effusion in other conditions classifie...</td>\n",
       "      <td>10</td>\n",
       "      <td>Arizona</td>\n",
       "    </tr>\n",
       "    <tr>\n",
       "      <th>225899</th>\n",
       "      <td>169065</td>\n",
       "      <td>53</td>\n",
       "      <td>2011-06-11 16:44:30</td>\n",
       "      <td>Diagnosis</td>\n",
       "      <td>Other specified counseling</td>\n",
       "      <td>P</td>\n",
       "      <td>Arizona</td>\n",
       "    </tr>\n",
       "  </tbody>\n",
       "</table>\n",
       "<p>199252 rows × 7 columns</p>\n",
       "</div>"
      ],
      "text/plain": [
       "        Internalpatientid  Age at condition documentation  \\\n",
       "0                       6                              88   \n",
       "1                       7                              74   \n",
       "2                       9                              52   \n",
       "3                       9                              52   \n",
       "4                       9                              52   \n",
       "...                   ...                             ...   \n",
       "225895             169065                              53   \n",
       "225896             169065                              53   \n",
       "225897             169065                              53   \n",
       "225898             169065                              53   \n",
       "225899             169065                              53   \n",
       "\n",
       "       Condition documented date Condition type  \\\n",
       "0            2014-10-16 01:23:22      Diagnosis   \n",
       "1            2020-11-22 12:50:02      Diagnosis   \n",
       "2            2000-04-26 17:39:58      Diagnosis   \n",
       "3            2000-04-26 17:39:58      Diagnosis   \n",
       "4            2000-04-26 17:39:58      Diagnosis   \n",
       "...                          ...            ...   \n",
       "225895       2011-06-11 16:12:21      Diagnosis   \n",
       "225896       2011-06-11 16:12:21      Diagnosis   \n",
       "225897       2011-06-11 16:12:21      Diagnosis   \n",
       "225898       2011-06-11 16:12:21      Diagnosis   \n",
       "225899       2011-06-11 16:44:30      Diagnosis   \n",
       "\n",
       "                         Condition code icd10 subcategory  \\\n",
       "0                              Other specified counseling   \n",
       "1                         Dental caries on smooth surface   \n",
       "2       Hypertensive heart disease with heart failure ...   \n",
       "3       Hypertensive heart disease with heart failure ...   \n",
       "4               Nonrheumatic mitral (valve) insufficiency   \n",
       "...                                                   ...   \n",
       "225895                Sepsis due to Hemophilus influenzae   \n",
       "225896         Acute kidney failure with tubular necrosis   \n",
       "225897                          Acute respiratory failure   \n",
       "225898  Pleural effusion in other conditions classifie...   \n",
       "225899                         Other specified counseling   \n",
       "\n",
       "       Diagnosis sequence number or rank     State  \n",
       "0                                      P     Texas  \n",
       "1                                      P  Nebraska  \n",
       "2                                      5     Texas  \n",
       "3                                      5     Texas  \n",
       "4                                      4     Texas  \n",
       "...                                  ...       ...  \n",
       "225895                                 5   Arizona  \n",
       "225896                                 7   Arizona  \n",
       "225897                                 1   Arizona  \n",
       "225898                                10   Arizona  \n",
       "225899                                 P   Arizona  \n",
       "\n",
       "[199252 rows x 7 columns]"
      ]
     },
     "execution_count": 100,
     "metadata": {},
     "output_type": "execute_result"
    }
   ],
   "source": [
    "df_new"
   ]
  },
  {
   "cell_type": "markdown",
   "metadata": {},
   "source": [
    "# Dropping all unnecessary columns"
   ]
  },
  {
   "cell_type": "code",
   "execution_count": 101,
   "metadata": {
    "collapsed": false,
    "gather": {
     "logged": 1688642742504
    },
    "jupyter": {
     "outputs_hidden": false
    },
    "nteract": {
     "transient": {
      "deleting": false
     }
    }
   },
   "outputs": [],
   "source": [
    "# # Remove columns \n",
    "df_new.drop([\"Age at condition documentation\",\"Condition documented date\",\"Condition type\",\"Diagnosis sequence number or rank\",\"State\"], axis=1,inplace=True)"
   ]
  },
  {
   "cell_type": "code",
   "execution_count": 102,
   "metadata": {
    "collapsed": false,
    "gather": {
     "logged": 1688642758159
    },
    "jupyter": {
     "outputs_hidden": false
    },
    "nteract": {
     "transient": {
      "deleting": false
     }
    }
   },
   "outputs": [],
   "source": [
    "df_new = df_new"
   ]
  },
  {
   "cell_type": "code",
   "execution_count": 107,
   "metadata": {
    "collapsed": false,
    "gather": {
     "logged": 1688642770379
    },
    "jupyter": {
     "outputs_hidden": false
    },
    "nteract": {
     "transient": {
      "deleting": false
     }
    }
   },
   "outputs": [
    {
     "data": {
      "text/plain": [
       "34486"
      ]
     },
     "execution_count": 107,
     "metadata": {},
     "output_type": "execute_result"
    }
   ],
   "source": [
    "df_new.Internalpatientid.nunique()"
   ]
  },
  {
   "cell_type": "code",
   "execution_count": 112,
   "metadata": {},
   "outputs": [
    {
     "data": {
      "text/html": [
       "<div>\n",
       "<style scoped>\n",
       "    .dataframe tbody tr th:only-of-type {\n",
       "        vertical-align: middle;\n",
       "    }\n",
       "\n",
       "    .dataframe tbody tr th {\n",
       "        vertical-align: top;\n",
       "    }\n",
       "\n",
       "    .dataframe thead th {\n",
       "        text-align: right;\n",
       "    }\n",
       "</style>\n",
       "<table border=\"1\" class=\"dataframe\">\n",
       "  <thead>\n",
       "    <tr style=\"text-align: right;\">\n",
       "      <th></th>\n",
       "      <th>Internalpatientid</th>\n",
       "      <th>Condition code icd10 subcategory</th>\n",
       "    </tr>\n",
       "  </thead>\n",
       "  <tbody>\n",
       "    <tr>\n",
       "      <th>0</th>\n",
       "      <td>6</td>\n",
       "      <td>Other specified counseling</td>\n",
       "    </tr>\n",
       "    <tr>\n",
       "      <th>1</th>\n",
       "      <td>7</td>\n",
       "      <td>Dental caries on smooth surface</td>\n",
       "    </tr>\n",
       "    <tr>\n",
       "      <th>2</th>\n",
       "      <td>9</td>\n",
       "      <td>Hypertensive heart disease with heart failure ...</td>\n",
       "    </tr>\n",
       "    <tr>\n",
       "      <th>3</th>\n",
       "      <td>9</td>\n",
       "      <td>Hypertensive heart disease with heart failure ...</td>\n",
       "    </tr>\n",
       "    <tr>\n",
       "      <th>4</th>\n",
       "      <td>9</td>\n",
       "      <td>Nonrheumatic mitral (valve) insufficiency</td>\n",
       "    </tr>\n",
       "    <tr>\n",
       "      <th>...</th>\n",
       "      <td>...</td>\n",
       "      <td>...</td>\n",
       "    </tr>\n",
       "    <tr>\n",
       "      <th>225895</th>\n",
       "      <td>169065</td>\n",
       "      <td>Sepsis due to Hemophilus influenzae</td>\n",
       "    </tr>\n",
       "    <tr>\n",
       "      <th>225896</th>\n",
       "      <td>169065</td>\n",
       "      <td>Acute kidney failure with tubular necrosis</td>\n",
       "    </tr>\n",
       "    <tr>\n",
       "      <th>225897</th>\n",
       "      <td>169065</td>\n",
       "      <td>Acute respiratory failure</td>\n",
       "    </tr>\n",
       "    <tr>\n",
       "      <th>225898</th>\n",
       "      <td>169065</td>\n",
       "      <td>Pleural effusion in other conditions classifie...</td>\n",
       "    </tr>\n",
       "    <tr>\n",
       "      <th>225899</th>\n",
       "      <td>169065</td>\n",
       "      <td>Other specified counseling</td>\n",
       "    </tr>\n",
       "  </tbody>\n",
       "</table>\n",
       "<p>199252 rows × 2 columns</p>\n",
       "</div>"
      ],
      "text/plain": [
       "        Internalpatientid                   Condition code icd10 subcategory\n",
       "0                       6                         Other specified counseling\n",
       "1                       7                    Dental caries on smooth surface\n",
       "2                       9  Hypertensive heart disease with heart failure ...\n",
       "3                       9  Hypertensive heart disease with heart failure ...\n",
       "4                       9          Nonrheumatic mitral (valve) insufficiency\n",
       "...                   ...                                                ...\n",
       "225895             169065                Sepsis due to Hemophilus influenzae\n",
       "225896             169065         Acute kidney failure with tubular necrosis\n",
       "225897             169065                          Acute respiratory failure\n",
       "225898             169065  Pleural effusion in other conditions classifie...\n",
       "225899             169065                         Other specified counseling\n",
       "\n",
       "[199252 rows x 2 columns]"
      ]
     },
     "execution_count": 112,
     "metadata": {},
     "output_type": "execute_result"
    }
   ],
   "source": [
    "df_new"
   ]
  },
  {
   "cell_type": "markdown",
   "metadata": {},
   "source": [
    "# Importing the inpatient test file"
   ]
  },
  {
   "cell_type": "code",
   "execution_count": 105,
   "metadata": {},
   "outputs": [],
   "source": [
    "df_inpa = pd.read_csv('/mnt/batch/tasks/shared/LS_root/mounts/clusters/team-3-susai-gpu2/code/Users/900379/Output_files_test/Potential_files_test/df_inpatient_admission_test.csv')"
   ]
  },
  {
   "cell_type": "code",
   "execution_count": 106,
   "metadata": {},
   "outputs": [
    {
     "data": {
      "text/html": [
       "<div>\n",
       "<style scoped>\n",
       "    .dataframe tbody tr th:only-of-type {\n",
       "        vertical-align: middle;\n",
       "    }\n",
       "\n",
       "    .dataframe tbody tr th {\n",
       "        vertical-align: top;\n",
       "    }\n",
       "\n",
       "    .dataframe thead th {\n",
       "        text-align: right;\n",
       "    }\n",
       "</style>\n",
       "<table border=\"1\" class=\"dataframe\">\n",
       "  <thead>\n",
       "    <tr style=\"text-align: right;\">\n",
       "      <th></th>\n",
       "      <th>Unnamed: 0</th>\n",
       "      <th>Internalpatientid</th>\n",
       "      <th>inpatient_admissions_First_listed_discharge_diagnosis_icd10_subcategory</th>\n",
       "      <th>inpatient_admissions_Second_listed_discharge_diagnosis_icd10_subcategory</th>\n",
       "    </tr>\n",
       "  </thead>\n",
       "  <tbody>\n",
       "    <tr>\n",
       "      <th>0</th>\n",
       "      <td>0</td>\n",
       "      <td>7</td>\n",
       "      <td>68_Intestinal adhesions [bands] with obstructi...</td>\n",
       "      <td>68_Type 2 diabetes mellitus without complications</td>\n",
       "    </tr>\n",
       "    <tr>\n",
       "      <th>1</th>\n",
       "      <td>1</td>\n",
       "      <td>9</td>\n",
       "      <td>52_Other restrictive cardiomyopathy,52_Acute k...</td>\n",
       "      <td>52_Nonrheumatic mitral (valve) insufficiency,5...</td>\n",
       "    </tr>\n",
       "    <tr>\n",
       "      <th>2</th>\n",
       "      <td>2</td>\n",
       "      <td>12</td>\n",
       "      <td>74_Other forms of chronic ischemic heart disease</td>\n",
       "      <td>74_Volume depletion, unspecified</td>\n",
       "    </tr>\n",
       "    <tr>\n",
       "      <th>3</th>\n",
       "      <td>3</td>\n",
       "      <td>17</td>\n",
       "      <td>82_Acute kidney failure, unspecified</td>\n",
       "      <td>82_Hypertensive chronic kidney disease with st...</td>\n",
       "    </tr>\n",
       "    <tr>\n",
       "      <th>4</th>\n",
       "      <td>4</td>\n",
       "      <td>22</td>\n",
       "      <td>61_Unspecified complication of internal prosth...</td>\n",
       "      <td>61_Not specified,61_Unspecified complication o...</td>\n",
       "    </tr>\n",
       "    <tr>\n",
       "      <th>...</th>\n",
       "      <td>...</td>\n",
       "      <td>...</td>\n",
       "      <td>...</td>\n",
       "      <td>...</td>\n",
       "    </tr>\n",
       "    <tr>\n",
       "      <th>22250</th>\n",
       "      <td>22250</td>\n",
       "      <td>168995</td>\n",
       "      <td>75_Chronic obstructive pulmonary disease with ...</td>\n",
       "      <td>75_Acute and chronic respiratory failure</td>\n",
       "    </tr>\n",
       "    <tr>\n",
       "      <th>22251</th>\n",
       "      <td>22251</td>\n",
       "      <td>169011</td>\n",
       "      <td>69_Major depressive disorder, recurrent</td>\n",
       "      <td>69_Other symptoms and signs involving emotiona...</td>\n",
       "    </tr>\n",
       "    <tr>\n",
       "      <th>22252</th>\n",
       "      <td>22252</td>\n",
       "      <td>169037</td>\n",
       "      <td>85_Fracture of acetabulum,85_(Censored)</td>\n",
       "      <td>85_Fracture of acetabulum,85_Fracture of pubis</td>\n",
       "    </tr>\n",
       "    <tr>\n",
       "      <th>22253</th>\n",
       "      <td>22253</td>\n",
       "      <td>169059</td>\n",
       "      <td>80_Embolism and thrombosis of other specified ...</td>\n",
       "      <td>80_Other hyperlipidemia</td>\n",
       "    </tr>\n",
       "    <tr>\n",
       "      <th>22254</th>\n",
       "      <td>22254</td>\n",
       "      <td>169065</td>\n",
       "      <td>53_Acute respiratory failure</td>\n",
       "      <td>53_Quadriplegia</td>\n",
       "    </tr>\n",
       "  </tbody>\n",
       "</table>\n",
       "<p>22255 rows × 4 columns</p>\n",
       "</div>"
      ],
      "text/plain": [
       "       Unnamed: 0  Internalpatientid  \\\n",
       "0               0                  7   \n",
       "1               1                  9   \n",
       "2               2                 12   \n",
       "3               3                 17   \n",
       "4               4                 22   \n",
       "...           ...                ...   \n",
       "22250       22250             168995   \n",
       "22251       22251             169011   \n",
       "22252       22252             169037   \n",
       "22253       22253             169059   \n",
       "22254       22254             169065   \n",
       "\n",
       "      inpatient_admissions_First_listed_discharge_diagnosis_icd10_subcategory  \\\n",
       "0      68_Intestinal adhesions [bands] with obstructi...                        \n",
       "1      52_Other restrictive cardiomyopathy,52_Acute k...                        \n",
       "2       74_Other forms of chronic ischemic heart disease                        \n",
       "3                   82_Acute kidney failure, unspecified                        \n",
       "4      61_Unspecified complication of internal prosth...                        \n",
       "...                                                  ...                        \n",
       "22250  75_Chronic obstructive pulmonary disease with ...                        \n",
       "22251            69_Major depressive disorder, recurrent                        \n",
       "22252            85_Fracture of acetabulum,85_(Censored)                        \n",
       "22253  80_Embolism and thrombosis of other specified ...                        \n",
       "22254                       53_Acute respiratory failure                        \n",
       "\n",
       "      inpatient_admissions_Second_listed_discharge_diagnosis_icd10_subcategory  \n",
       "0      68_Type 2 diabetes mellitus without complications                        \n",
       "1      52_Nonrheumatic mitral (valve) insufficiency,5...                        \n",
       "2                       74_Volume depletion, unspecified                        \n",
       "3      82_Hypertensive chronic kidney disease with st...                        \n",
       "4      61_Not specified,61_Unspecified complication o...                        \n",
       "...                                                  ...                        \n",
       "22250           75_Acute and chronic respiratory failure                        \n",
       "22251  69_Other symptoms and signs involving emotiona...                        \n",
       "22252     85_Fracture of acetabulum,85_Fracture of pubis                        \n",
       "22253                            80_Other hyperlipidemia                        \n",
       "22254                                    53_Quadriplegia                        \n",
       "\n",
       "[22255 rows x 4 columns]"
      ]
     },
     "execution_count": 106,
     "metadata": {},
     "output_type": "execute_result"
    }
   ],
   "source": [
    "df_inpa "
   ]
  },
  {
   "cell_type": "code",
   "execution_count": 108,
   "metadata": {},
   "outputs": [],
   "source": [
    "# Combine the two columns into a new column separated by commas\n",
    "df_inpa ['Inpatient_admission_first_and_second_listed'] = df_inpa['inpatient_admissions_First_listed_discharge_diagnosis_icd10_subcategory'] + ',' + df_inpa['inpatient_admissions_Second_listed_discharge_diagnosis_icd10_subcategory']"
   ]
  },
  {
   "cell_type": "code",
   "execution_count": 110,
   "metadata": {},
   "outputs": [],
   "source": [
    "# droping the unwanted columns\n",
    "df_f_s = df_inpa.drop([\"Unnamed: 0\",\"inpatient_admissions_First_listed_discharge_diagnosis_icd10_subcategory\",\"inpatient_admissions_Second_listed_discharge_diagnosis_icd10_subcategory\"],axis=1)"
   ]
  },
  {
   "cell_type": "code",
   "execution_count": 111,
   "metadata": {},
   "outputs": [
    {
     "data": {
      "text/html": [
       "<div>\n",
       "<style scoped>\n",
       "    .dataframe tbody tr th:only-of-type {\n",
       "        vertical-align: middle;\n",
       "    }\n",
       "\n",
       "    .dataframe tbody tr th {\n",
       "        vertical-align: top;\n",
       "    }\n",
       "\n",
       "    .dataframe thead th {\n",
       "        text-align: right;\n",
       "    }\n",
       "</style>\n",
       "<table border=\"1\" class=\"dataframe\">\n",
       "  <thead>\n",
       "    <tr style=\"text-align: right;\">\n",
       "      <th></th>\n",
       "      <th>Internalpatientid</th>\n",
       "      <th>Inpatient_admission_first_and_second_listed</th>\n",
       "    </tr>\n",
       "  </thead>\n",
       "  <tbody>\n",
       "    <tr>\n",
       "      <th>0</th>\n",
       "      <td>7</td>\n",
       "      <td>68_Intestinal adhesions [bands] with obstructi...</td>\n",
       "    </tr>\n",
       "    <tr>\n",
       "      <th>1</th>\n",
       "      <td>9</td>\n",
       "      <td>52_Other restrictive cardiomyopathy,52_Acute k...</td>\n",
       "    </tr>\n",
       "    <tr>\n",
       "      <th>2</th>\n",
       "      <td>12</td>\n",
       "      <td>74_Other forms of chronic ischemic heart disea...</td>\n",
       "    </tr>\n",
       "    <tr>\n",
       "      <th>3</th>\n",
       "      <td>17</td>\n",
       "      <td>82_Acute kidney failure, unspecified,82_Hypert...</td>\n",
       "    </tr>\n",
       "    <tr>\n",
       "      <th>4</th>\n",
       "      <td>22</td>\n",
       "      <td>61_Unspecified complication of internal prosth...</td>\n",
       "    </tr>\n",
       "    <tr>\n",
       "      <th>...</th>\n",
       "      <td>...</td>\n",
       "      <td>...</td>\n",
       "    </tr>\n",
       "    <tr>\n",
       "      <th>22250</th>\n",
       "      <td>168995</td>\n",
       "      <td>75_Chronic obstructive pulmonary disease with ...</td>\n",
       "    </tr>\n",
       "    <tr>\n",
       "      <th>22251</th>\n",
       "      <td>169011</td>\n",
       "      <td>69_Major depressive disorder, recurrent,69_Oth...</td>\n",
       "    </tr>\n",
       "    <tr>\n",
       "      <th>22252</th>\n",
       "      <td>169037</td>\n",
       "      <td>85_Fracture of acetabulum,85_(Censored),85_Fra...</td>\n",
       "    </tr>\n",
       "    <tr>\n",
       "      <th>22253</th>\n",
       "      <td>169059</td>\n",
       "      <td>80_Embolism and thrombosis of other specified ...</td>\n",
       "    </tr>\n",
       "    <tr>\n",
       "      <th>22254</th>\n",
       "      <td>169065</td>\n",
       "      <td>53_Acute respiratory failure,53_Quadriplegia</td>\n",
       "    </tr>\n",
       "  </tbody>\n",
       "</table>\n",
       "<p>22255 rows × 2 columns</p>\n",
       "</div>"
      ],
      "text/plain": [
       "       Internalpatientid        Inpatient_admission_first_and_second_listed\n",
       "0                      7  68_Intestinal adhesions [bands] with obstructi...\n",
       "1                      9  52_Other restrictive cardiomyopathy,52_Acute k...\n",
       "2                     12  74_Other forms of chronic ischemic heart disea...\n",
       "3                     17  82_Acute kidney failure, unspecified,82_Hypert...\n",
       "4                     22  61_Unspecified complication of internal prosth...\n",
       "...                  ...                                                ...\n",
       "22250             168995  75_Chronic obstructive pulmonary disease with ...\n",
       "22251             169011  69_Major depressive disorder, recurrent,69_Oth...\n",
       "22252             169037  85_Fracture of acetabulum,85_(Censored),85_Fra...\n",
       "22253             169059  80_Embolism and thrombosis of other specified ...\n",
       "22254             169065       53_Acute respiratory failure,53_Quadriplegia\n",
       "\n",
       "[22255 rows x 2 columns]"
      ]
     },
     "execution_count": 111,
     "metadata": {},
     "output_type": "execute_result"
    }
   ],
   "source": [
    "df_f_s "
   ]
  },
  {
   "cell_type": "markdown",
   "metadata": {},
   "source": [
    "# Merging the condition file and inpatients file "
   ]
  },
  {
   "cell_type": "code",
   "execution_count": 113,
   "metadata": {},
   "outputs": [],
   "source": [
    "df_final = pd.merge(df_new,df_f_s ,on=\"Internalpatientid\", how=\"outer\")"
   ]
  },
  {
   "cell_type": "code",
   "execution_count": 114,
   "metadata": {},
   "outputs": [
    {
     "data": {
      "text/html": [
       "<div>\n",
       "<style scoped>\n",
       "    .dataframe tbody tr th:only-of-type {\n",
       "        vertical-align: middle;\n",
       "    }\n",
       "\n",
       "    .dataframe tbody tr th {\n",
       "        vertical-align: top;\n",
       "    }\n",
       "\n",
       "    .dataframe thead th {\n",
       "        text-align: right;\n",
       "    }\n",
       "</style>\n",
       "<table border=\"1\" class=\"dataframe\">\n",
       "  <thead>\n",
       "    <tr style=\"text-align: right;\">\n",
       "      <th></th>\n",
       "      <th>Internalpatientid</th>\n",
       "      <th>Condition code icd10 subcategory</th>\n",
       "      <th>Inpatient_admission_first_and_second_listed</th>\n",
       "    </tr>\n",
       "  </thead>\n",
       "  <tbody>\n",
       "    <tr>\n",
       "      <th>0</th>\n",
       "      <td>6</td>\n",
       "      <td>Other specified counseling</td>\n",
       "      <td>NaN</td>\n",
       "    </tr>\n",
       "    <tr>\n",
       "      <th>1</th>\n",
       "      <td>7</td>\n",
       "      <td>Dental caries on smooth surface</td>\n",
       "      <td>68_Intestinal adhesions [bands] with obstructi...</td>\n",
       "    </tr>\n",
       "    <tr>\n",
       "      <th>2</th>\n",
       "      <td>9</td>\n",
       "      <td>Hypertensive heart disease with heart failure ...</td>\n",
       "      <td>52_Other restrictive cardiomyopathy,52_Acute k...</td>\n",
       "    </tr>\n",
       "    <tr>\n",
       "      <th>3</th>\n",
       "      <td>9</td>\n",
       "      <td>Hypertensive heart disease with heart failure ...</td>\n",
       "      <td>52_Other restrictive cardiomyopathy,52_Acute k...</td>\n",
       "    </tr>\n",
       "    <tr>\n",
       "      <th>4</th>\n",
       "      <td>9</td>\n",
       "      <td>Nonrheumatic mitral (valve) insufficiency</td>\n",
       "      <td>52_Other restrictive cardiomyopathy,52_Acute k...</td>\n",
       "    </tr>\n",
       "    <tr>\n",
       "      <th>...</th>\n",
       "      <td>...</td>\n",
       "      <td>...</td>\n",
       "      <td>...</td>\n",
       "    </tr>\n",
       "    <tr>\n",
       "      <th>199574</th>\n",
       "      <td>167710</td>\n",
       "      <td>NaN</td>\n",
       "      <td>73_Malignant neoplasm of upper lobe, bronchus ...</td>\n",
       "    </tr>\n",
       "    <tr>\n",
       "      <th>199575</th>\n",
       "      <td>167963</td>\n",
       "      <td>NaN</td>\n",
       "      <td>84_Hypertensive heart and chronic kidney disea...</td>\n",
       "    </tr>\n",
       "    <tr>\n",
       "      <th>199576</th>\n",
       "      <td>168458</td>\n",
       "      <td>NaN</td>\n",
       "      <td>98_Acute kidney failure, unspecified,98_Unspec...</td>\n",
       "    </tr>\n",
       "    <tr>\n",
       "      <th>199577</th>\n",
       "      <td>168778</td>\n",
       "      <td>NaN</td>\n",
       "      <td>85_Other and unspecified encephalopathy,85_Oth...</td>\n",
       "    </tr>\n",
       "    <tr>\n",
       "      <th>199578</th>\n",
       "      <td>168921</td>\n",
       "      <td>NaN</td>\n",
       "      <td>78_Streptococcal sepsis, unspecified,78_Acute ...</td>\n",
       "    </tr>\n",
       "  </tbody>\n",
       "</table>\n",
       "<p>199579 rows × 3 columns</p>\n",
       "</div>"
      ],
      "text/plain": [
       "        Internalpatientid                   Condition code icd10 subcategory  \\\n",
       "0                       6                         Other specified counseling   \n",
       "1                       7                    Dental caries on smooth surface   \n",
       "2                       9  Hypertensive heart disease with heart failure ...   \n",
       "3                       9  Hypertensive heart disease with heart failure ...   \n",
       "4                       9          Nonrheumatic mitral (valve) insufficiency   \n",
       "...                   ...                                                ...   \n",
       "199574             167710                                                NaN   \n",
       "199575             167963                                                NaN   \n",
       "199576             168458                                                NaN   \n",
       "199577             168778                                                NaN   \n",
       "199578             168921                                                NaN   \n",
       "\n",
       "              Inpatient_admission_first_and_second_listed  \n",
       "0                                                     NaN  \n",
       "1       68_Intestinal adhesions [bands] with obstructi...  \n",
       "2       52_Other restrictive cardiomyopathy,52_Acute k...  \n",
       "3       52_Other restrictive cardiomyopathy,52_Acute k...  \n",
       "4       52_Other restrictive cardiomyopathy,52_Acute k...  \n",
       "...                                                   ...  \n",
       "199574  73_Malignant neoplasm of upper lobe, bronchus ...  \n",
       "199575  84_Hypertensive heart and chronic kidney disea...  \n",
       "199576  98_Acute kidney failure, unspecified,98_Unspec...  \n",
       "199577  85_Other and unspecified encephalopathy,85_Oth...  \n",
       "199578  78_Streptococcal sepsis, unspecified,78_Acute ...  \n",
       "\n",
       "[199579 rows x 3 columns]"
      ]
     },
     "execution_count": 114,
     "metadata": {},
     "output_type": "execute_result"
    }
   ],
   "source": [
    "df_final"
   ]
  },
  {
   "cell_type": "code",
   "execution_count": 115,
   "metadata": {},
   "outputs": [
    {
     "data": {
      "text/plain": [
       "Internalpatientid                                  0\n",
       "Condition code icd10 subcategory                 327\n",
       "Inpatient_admission_first_and_second_listed    44342\n",
       "dtype: int64"
      ]
     },
     "execution_count": 115,
     "metadata": {},
     "output_type": "execute_result"
    }
   ],
   "source": [
    "# checking the null values\n",
    "df_final.isnull().sum()"
   ]
  },
  {
   "cell_type": "code",
   "execution_count": 116,
   "metadata": {},
   "outputs": [],
   "source": [
    "# Replace NaN values in Condition code icd10 subcategory with corresponding 'Inpatient_admission_first_and_second_listed' values\n",
    "df_final['Condition code icd10 subcategory'] = df_final['Condition code icd10 subcategory'].fillna(df_final['Inpatient_admission_first_and_second_listed'])"
   ]
  },
  {
   "cell_type": "code",
   "execution_count": 120,
   "metadata": {},
   "outputs": [
    {
     "data": {
      "text/plain": [
       "Internalpatientid                                  0\n",
       "Condition code icd10 subcategory                   0\n",
       "Inpatient_admission_first_and_second_listed    44342\n",
       "dtype: int64"
      ]
     },
     "execution_count": 120,
     "metadata": {},
     "output_type": "execute_result"
    }
   ],
   "source": [
    "# after replacing the null values\n",
    "df_final.isnull().sum()"
   ]
  },
  {
   "cell_type": "code",
   "execution_count": 121,
   "metadata": {},
   "outputs": [],
   "source": [
    "# droping the \"Inpatient_admission_first_and_second_listed\" column\n",
    "df_final.drop([\"Inpatient_admission_first_and_second_listed\"],axis=1,inplace=True)"
   ]
  },
  {
   "cell_type": "code",
   "execution_count": 125,
   "metadata": {
    "collapsed": false,
    "gather": {
     "logged": 1688642806559
    },
    "jupyter": {
     "outputs_hidden": false
    },
    "nteract": {
     "transient": {
      "deleting": false
     }
    }
   },
   "outputs": [
    {
     "data": {
      "text/html": [
       "<div>\n",
       "<style scoped>\n",
       "    .dataframe tbody tr th:only-of-type {\n",
       "        vertical-align: middle;\n",
       "    }\n",
       "\n",
       "    .dataframe tbody tr th {\n",
       "        vertical-align: top;\n",
       "    }\n",
       "\n",
       "    .dataframe thead th {\n",
       "        text-align: right;\n",
       "    }\n",
       "</style>\n",
       "<table border=\"1\" class=\"dataframe\">\n",
       "  <thead>\n",
       "    <tr style=\"text-align: right;\">\n",
       "      <th></th>\n",
       "      <th>Internalpatientid</th>\n",
       "      <th>Condition code icd10 subcategory</th>\n",
       "    </tr>\n",
       "  </thead>\n",
       "  <tbody>\n",
       "    <tr>\n",
       "      <th>0</th>\n",
       "      <td>6</td>\n",
       "      <td>Other specified counseling</td>\n",
       "    </tr>\n",
       "    <tr>\n",
       "      <th>1</th>\n",
       "      <td>7</td>\n",
       "      <td>Dental caries on smooth surface</td>\n",
       "    </tr>\n",
       "    <tr>\n",
       "      <th>2</th>\n",
       "      <td>9</td>\n",
       "      <td>Hypertensive heart disease with heart failure ...</td>\n",
       "    </tr>\n",
       "    <tr>\n",
       "      <th>3</th>\n",
       "      <td>12</td>\n",
       "      <td>Polyosteoarthritis, unspecified ; Osteoarthrit...</td>\n",
       "    </tr>\n",
       "    <tr>\n",
       "      <th>4</th>\n",
       "      <td>17</td>\n",
       "      <td>Encounter for other specified aftercare,Acute ...</td>\n",
       "    </tr>\n",
       "    <tr>\n",
       "      <th>...</th>\n",
       "      <td>...</td>\n",
       "      <td>...</td>\n",
       "    </tr>\n",
       "    <tr>\n",
       "      <th>34808</th>\n",
       "      <td>169037</td>\n",
       "      <td>Other forms of chronic ischemic heart disease,...</td>\n",
       "    </tr>\n",
       "    <tr>\n",
       "      <th>34809</th>\n",
       "      <td>169045</td>\n",
       "      <td>Tinnitus,Sensorineural hearing loss, bilateral...</td>\n",
       "    </tr>\n",
       "    <tr>\n",
       "      <th>34810</th>\n",
       "      <td>169058</td>\n",
       "      <td>Malignant neoplasm of upper lobe, bronchus or ...</td>\n",
       "    </tr>\n",
       "    <tr>\n",
       "      <th>34811</th>\n",
       "      <td>169059</td>\n",
       "      <td>Problem related to unspecified psychosocial ci...</td>\n",
       "    </tr>\n",
       "    <tr>\n",
       "      <th>34812</th>\n",
       "      <td>169065</td>\n",
       "      <td>Encounter for administrative examinations, uns...</td>\n",
       "    </tr>\n",
       "  </tbody>\n",
       "</table>\n",
       "<p>34813 rows × 2 columns</p>\n",
       "</div>"
      ],
      "text/plain": [
       "       Internalpatientid                   Condition code icd10 subcategory\n",
       "0                      6                         Other specified counseling\n",
       "1                      7                    Dental caries on smooth surface\n",
       "2                      9  Hypertensive heart disease with heart failure ...\n",
       "3                     12  Polyosteoarthritis, unspecified ; Osteoarthrit...\n",
       "4                     17  Encounter for other specified aftercare,Acute ...\n",
       "...                  ...                                                ...\n",
       "34808             169037  Other forms of chronic ischemic heart disease,...\n",
       "34809             169045  Tinnitus,Sensorineural hearing loss, bilateral...\n",
       "34810             169058  Malignant neoplasm of upper lobe, bronchus or ...\n",
       "34811             169059  Problem related to unspecified psychosocial ci...\n",
       "34812             169065  Encounter for administrative examinations, uns...\n",
       "\n",
       "[34813 rows x 2 columns]"
      ]
     },
     "execution_count": 125,
     "metadata": {},
     "output_type": "execute_result"
    }
   ],
   "source": [
    "# Group the DataFrame by 'Internalpatientid' and concatenate the icd10 values and\n",
    "#The purpose of `x.dropna()` is to remove any missing values from the Series before applying a subsequent operation,\n",
    "# such as concatenation using the `join` function. By dropping the missing values,\n",
    "#we ensure that only non-null values are included in the resulting concatenated string.\n",
    "df_grouped = df_final.groupby('Internalpatientid').agg(lambda x: ','.join(x.dropna()))\n",
    "df_grouped \n",
    "\n",
    "# Reset the index of the grouped DataFrame\n",
    "df_grouped_condition = df_grouped.reset_index()\n",
    "df_grouped_condition"
   ]
  },
  {
   "cell_type": "markdown",
   "metadata": {},
   "source": [
    "# Finding the Cv(1) or Non-cv(0)"
   ]
  },
  {
   "cell_type": "code",
   "execution_count": 126,
   "metadata": {},
   "outputs": [],
   "source": [
    "# Define the list of heart-related words\n",
    "phrases = ['Systolic','congestive','Heart','Diastolic','Cardiogenic','Hypertensive heart','myocardial','STEMI','NSTEMI',\n",
    "           'Unstable angina','chronic ischemic heart disease','Atherosclerotic','native coronary artery',\n",
    "           'Atrial fibrillation','Atrial flutter','Supraventricular tachycardia','Ventricular tachycardia']"
   ]
  },
  {
   "cell_type": "code",
   "execution_count": 127,
   "metadata": {},
   "outputs": [
    {
     "data": {
      "text/html": [
       "<div>\n",
       "<style scoped>\n",
       "    .dataframe tbody tr th:only-of-type {\n",
       "        vertical-align: middle;\n",
       "    }\n",
       "\n",
       "    .dataframe tbody tr th {\n",
       "        vertical-align: top;\n",
       "    }\n",
       "\n",
       "    .dataframe thead th {\n",
       "        text-align: right;\n",
       "    }\n",
       "</style>\n",
       "<table border=\"1\" class=\"dataframe\">\n",
       "  <thead>\n",
       "    <tr style=\"text-align: right;\">\n",
       "      <th></th>\n",
       "      <th>Internalpatientid</th>\n",
       "      <th>Condition code icd10 subcategory</th>\n",
       "      <th>cv_df</th>\n",
       "    </tr>\n",
       "  </thead>\n",
       "  <tbody>\n",
       "    <tr>\n",
       "      <th>0</th>\n",
       "      <td>6</td>\n",
       "      <td>Other specified counseling</td>\n",
       "      <td>0</td>\n",
       "    </tr>\n",
       "    <tr>\n",
       "      <th>1</th>\n",
       "      <td>7</td>\n",
       "      <td>Dental caries on smooth surface</td>\n",
       "      <td>0</td>\n",
       "    </tr>\n",
       "    <tr>\n",
       "      <th>2</th>\n",
       "      <td>9</td>\n",
       "      <td>Hypertensive heart disease with heart failure ...</td>\n",
       "      <td>1</td>\n",
       "    </tr>\n",
       "    <tr>\n",
       "      <th>3</th>\n",
       "      <td>12</td>\n",
       "      <td>Polyosteoarthritis, unspecified ; Osteoarthrit...</td>\n",
       "      <td>1</td>\n",
       "    </tr>\n",
       "    <tr>\n",
       "      <th>4</th>\n",
       "      <td>17</td>\n",
       "      <td>Encounter for other specified aftercare,Acute ...</td>\n",
       "      <td>0</td>\n",
       "    </tr>\n",
       "    <tr>\n",
       "      <th>...</th>\n",
       "      <td>...</td>\n",
       "      <td>...</td>\n",
       "      <td>...</td>\n",
       "    </tr>\n",
       "    <tr>\n",
       "      <th>34808</th>\n",
       "      <td>169037</td>\n",
       "      <td>Other forms of chronic ischemic heart disease,...</td>\n",
       "      <td>1</td>\n",
       "    </tr>\n",
       "    <tr>\n",
       "      <th>34809</th>\n",
       "      <td>169045</td>\n",
       "      <td>Tinnitus,Sensorineural hearing loss, bilateral...</td>\n",
       "      <td>0</td>\n",
       "    </tr>\n",
       "    <tr>\n",
       "      <th>34810</th>\n",
       "      <td>169058</td>\n",
       "      <td>Malignant neoplasm of upper lobe, bronchus or ...</td>\n",
       "      <td>1</td>\n",
       "    </tr>\n",
       "    <tr>\n",
       "      <th>34811</th>\n",
       "      <td>169059</td>\n",
       "      <td>Problem related to unspecified psychosocial ci...</td>\n",
       "      <td>0</td>\n",
       "    </tr>\n",
       "    <tr>\n",
       "      <th>34812</th>\n",
       "      <td>169065</td>\n",
       "      <td>Encounter for administrative examinations, uns...</td>\n",
       "      <td>1</td>\n",
       "    </tr>\n",
       "  </tbody>\n",
       "</table>\n",
       "<p>34813 rows × 3 columns</p>\n",
       "</div>"
      ],
      "text/plain": [
       "       Internalpatientid                   Condition code icd10 subcategory  \\\n",
       "0                      6                         Other specified counseling   \n",
       "1                      7                    Dental caries on smooth surface   \n",
       "2                      9  Hypertensive heart disease with heart failure ...   \n",
       "3                     12  Polyosteoarthritis, unspecified ; Osteoarthrit...   \n",
       "4                     17  Encounter for other specified aftercare,Acute ...   \n",
       "...                  ...                                                ...   \n",
       "34808             169037  Other forms of chronic ischemic heart disease,...   \n",
       "34809             169045  Tinnitus,Sensorineural hearing loss, bilateral...   \n",
       "34810             169058  Malignant neoplasm of upper lobe, bronchus or ...   \n",
       "34811             169059  Problem related to unspecified psychosocial ci...   \n",
       "34812             169065  Encounter for administrative examinations, uns...   \n",
       "\n",
       "       cv_df  \n",
       "0          0  \n",
       "1          0  \n",
       "2          1  \n",
       "3          1  \n",
       "4          0  \n",
       "...      ...  \n",
       "34808      1  \n",
       "34809      0  \n",
       "34810      1  \n",
       "34811      0  \n",
       "34812      1  \n",
       "\n",
       "[34813 rows x 3 columns]"
      ]
     },
     "execution_count": 127,
     "metadata": {},
     "output_type": "execute_result"
    }
   ],
   "source": [
    "# Create the 'cv_df' column using lambda function\n",
    "df_grouped_condition['cv_df'] = df_grouped_condition['Condition code icd10 subcategory'].apply(lambda text: 1 if any(phrase.lower() in text.lower() for phrase in phrases) else 0)\n",
    "df_grouped_condition"
   ]
  },
  {
   "cell_type": "code",
   "execution_count": 128,
   "metadata": {},
   "outputs": [],
   "source": [
    "df_grouped_condition.drop(['Condition code icd10 subcategory'],axis=1,inplace=True)"
   ]
  },
  {
   "cell_type": "code",
   "execution_count": 129,
   "metadata": {},
   "outputs": [],
   "source": [
    "df_grouped_condition = df_grouped_condition"
   ]
  },
  {
   "cell_type": "code",
   "execution_count": 131,
   "metadata": {},
   "outputs": [
    {
     "data": {
      "text/html": [
       "<div>\n",
       "<style scoped>\n",
       "    .dataframe tbody tr th:only-of-type {\n",
       "        vertical-align: middle;\n",
       "    }\n",
       "\n",
       "    .dataframe tbody tr th {\n",
       "        vertical-align: top;\n",
       "    }\n",
       "\n",
       "    .dataframe thead th {\n",
       "        text-align: right;\n",
       "    }\n",
       "</style>\n",
       "<table border=\"1\" class=\"dataframe\">\n",
       "  <thead>\n",
       "    <tr style=\"text-align: right;\">\n",
       "      <th></th>\n",
       "      <th>Internalpatientid</th>\n",
       "      <th>cv_df</th>\n",
       "    </tr>\n",
       "  </thead>\n",
       "  <tbody>\n",
       "    <tr>\n",
       "      <th>0</th>\n",
       "      <td>6</td>\n",
       "      <td>0</td>\n",
       "    </tr>\n",
       "    <tr>\n",
       "      <th>1</th>\n",
       "      <td>7</td>\n",
       "      <td>0</td>\n",
       "    </tr>\n",
       "    <tr>\n",
       "      <th>2</th>\n",
       "      <td>9</td>\n",
       "      <td>1</td>\n",
       "    </tr>\n",
       "    <tr>\n",
       "      <th>3</th>\n",
       "      <td>12</td>\n",
       "      <td>1</td>\n",
       "    </tr>\n",
       "    <tr>\n",
       "      <th>4</th>\n",
       "      <td>17</td>\n",
       "      <td>0</td>\n",
       "    </tr>\n",
       "    <tr>\n",
       "      <th>...</th>\n",
       "      <td>...</td>\n",
       "      <td>...</td>\n",
       "    </tr>\n",
       "    <tr>\n",
       "      <th>34808</th>\n",
       "      <td>169037</td>\n",
       "      <td>1</td>\n",
       "    </tr>\n",
       "    <tr>\n",
       "      <th>34809</th>\n",
       "      <td>169045</td>\n",
       "      <td>0</td>\n",
       "    </tr>\n",
       "    <tr>\n",
       "      <th>34810</th>\n",
       "      <td>169058</td>\n",
       "      <td>1</td>\n",
       "    </tr>\n",
       "    <tr>\n",
       "      <th>34811</th>\n",
       "      <td>169059</td>\n",
       "      <td>0</td>\n",
       "    </tr>\n",
       "    <tr>\n",
       "      <th>34812</th>\n",
       "      <td>169065</td>\n",
       "      <td>1</td>\n",
       "    </tr>\n",
       "  </tbody>\n",
       "</table>\n",
       "<p>34813 rows × 2 columns</p>\n",
       "</div>"
      ],
      "text/plain": [
       "       Internalpatientid  cv_df\n",
       "0                      6      0\n",
       "1                      7      0\n",
       "2                      9      1\n",
       "3                     12      1\n",
       "4                     17      0\n",
       "...                  ...    ...\n",
       "34808             169037      1\n",
       "34809             169045      0\n",
       "34810             169058      1\n",
       "34811             169059      0\n",
       "34812             169065      1\n",
       "\n",
       "[34813 rows x 2 columns]"
      ]
     },
     "execution_count": 131,
     "metadata": {},
     "output_type": "execute_result"
    }
   ],
   "source": [
    "df_grouped_condition"
   ]
  },
  {
   "cell_type": "markdown",
   "metadata": {},
   "source": [
    "# Savig tthe csv file"
   ]
  },
  {
   "cell_type": "code",
   "execution_count": 133,
   "metadata": {
    "collapsed": false,
    "gather": {
     "logged": 1688642879872
    },
    "jupyter": {
     "outputs_hidden": false
    },
    "nteract": {
     "transient": {
      "deleting": false
     }
    }
   },
   "outputs": [],
   "source": [
    "df_grouped_condition.to_csv('/mnt/batch/tasks/shared/LS_root/mounts/clusters/team-3-susai-gpu2/code/Users/900379/Output_files_test/df_cv_non_cv_test_V1.csv')"
   ]
  }
 ],
 "metadata": {
  "kernel_info": {
   "name": "python38-azureml"
  },
  "kernelspec": {
   "display_name": "Python 3.8 - AzureML",
   "language": "python",
   "name": "python38-azureml"
  },
  "language_info": {
   "codemirror_mode": {
    "name": "ipython",
    "version": 3
   },
   "file_extension": ".py",
   "mimetype": "text/x-python",
   "name": "python",
   "nbconvert_exporter": "python",
   "pygments_lexer": "ipython3",
   "version": "3.8.5"
  },
  "microsoft": {
   "host": {
    "AzureML": {
     "notebookHasBeenCompleted": true
    }
   },
   "ms_spell_check": {
    "ms_spell_check_language": "en"
   }
  },
  "nteract": {
   "version": "nteract-front-end@1.0.0"
  }
 },
 "nbformat": 4,
 "nbformat_minor": 4
}
