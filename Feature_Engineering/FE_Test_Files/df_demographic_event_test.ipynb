{
  "cells": [
    {
      "cell_type": "code",
      "source": [
        "from azureml.core import Workspace, Dataset\r\n",
        "\r\n",
        "subscription_id = 'bcfe0c62-8ebe-4df0-a46d-1efcf8739a5b'\r\n",
        "resource_group = 'VChamp-Team3'\r\n",
        "workspace_name = 'vchamp-team3'\r\n",
        "\r\n",
        "\r\n",
        "# storage account : Algorithmia, Resource group: VChamp-Team3 and workspace: vchamp-team3.\r\n",
        "\r\n",
        "workspace = Workspace(subscription_id, resource_group, workspace_name)"
      ],
      "outputs": [],
      "execution_count": 1,
      "metadata": {
        "gather": {
          "logged": 1689001237421
        }
      }
    },
    {
      "cell_type": "code",
      "source": [
        "#['data_team3_synthetic_quality_check']\r\n",
        "datastore = workspace.datastores['data_team3_synthetic_test']"
      ],
      "outputs": [],
      "execution_count": 2,
      "metadata": {
        "jupyter": {
          "source_hidden": false,
          "outputs_hidden": false
        },
        "nteract": {
          "transient": {
            "deleting": false
          }
        },
        "gather": {
          "logged": 1689001254308
        }
      }
    },
    {
      "cell_type": "code",
      "source": [
        "dataset = Dataset.Tabular.from_delimited_files(path = [(datastore, 'demographics_event_test.csv')])\r\n",
        "\r\n",
        "# preview the first 3 rows of the dataset\r\n",
        "# dataset.to_pandas_dataframe()"
      ],
      "outputs": [],
      "execution_count": 3,
      "metadata": {
        "jupyter": {
          "source_hidden": false,
          "outputs_hidden": false
        },
        "nteract": {
          "transient": {
            "deleting": false
          }
        },
        "gather": {
          "logged": 1689001279412
        }
      }
    },
    {
      "cell_type": "code",
      "source": [
        "demographic_event = dataset.to_pandas_dataframe()"
      ],
      "outputs": [],
      "execution_count": 4,
      "metadata": {
        "jupyter": {
          "source_hidden": false,
          "outputs_hidden": false
        },
        "nteract": {
          "transient": {
            "deleting": false
          }
        },
        "gather": {
          "logged": 1689001291029
        }
      }
    },
    {
      "cell_type": "code",
      "source": [
        "demographic_event"
      ],
      "outputs": [
        {
          "output_type": "execute_result",
          "execution_count": 5,
          "data": {
            "text/plain": "       Column1  Internalpatientid  Age at update          Event date   \n0            0             100017      85.721080 2009-05-28 01:18:36  \\\n1            3             100041      97.746361 2023-01-06 07:04:39   \n2            9             100181      71.684971 2003-01-03 20:34:04   \n3           10             100186      69.808196 2023-10-24 21:29:46   \n4           12             100242      84.905314 2024-03-29 21:24:39   \n...        ...                ...            ...                 ...   \n34808   169038              99609      89.901179 2017-12-24 21:08:27   \n34809   169042              99674      62.751955 2022-10-17 20:08:58   \n34810   169046              99713      78.949573 2002-02-08 01:39:29   \n34811   169051              99792      67.020799 2013-06-26 02:27:08   \n34812   169064              99997      91.281263 2020-06-04 07:14:14   \n\n      Marital status Ruca category  \n0            Married         Rural  \n1           Divorced         Urban  \n2            Married         Urban  \n3            Married         Urban  \n4           Divorced         Rural  \n...              ...           ...  \n34808        Widowed         Rural  \n34809       Divorced         Urban  \n34810        Widowed         Rural  \n34811        Married         Urban  \n34812        Married         Urban  \n\n[34813 rows x 6 columns]",
            "text/html": "<div>\n<style scoped>\n    .dataframe tbody tr th:only-of-type {\n        vertical-align: middle;\n    }\n\n    .dataframe tbody tr th {\n        vertical-align: top;\n    }\n\n    .dataframe thead th {\n        text-align: right;\n    }\n</style>\n<table border=\"1\" class=\"dataframe\">\n  <thead>\n    <tr style=\"text-align: right;\">\n      <th></th>\n      <th>Column1</th>\n      <th>Internalpatientid</th>\n      <th>Age at update</th>\n      <th>Event date</th>\n      <th>Marital status</th>\n      <th>Ruca category</th>\n    </tr>\n  </thead>\n  <tbody>\n    <tr>\n      <th>0</th>\n      <td>0</td>\n      <td>100017</td>\n      <td>85.721080</td>\n      <td>2009-05-28 01:18:36</td>\n      <td>Married</td>\n      <td>Rural</td>\n    </tr>\n    <tr>\n      <th>1</th>\n      <td>3</td>\n      <td>100041</td>\n      <td>97.746361</td>\n      <td>2023-01-06 07:04:39</td>\n      <td>Divorced</td>\n      <td>Urban</td>\n    </tr>\n    <tr>\n      <th>2</th>\n      <td>9</td>\n      <td>100181</td>\n      <td>71.684971</td>\n      <td>2003-01-03 20:34:04</td>\n      <td>Married</td>\n      <td>Urban</td>\n    </tr>\n    <tr>\n      <th>3</th>\n      <td>10</td>\n      <td>100186</td>\n      <td>69.808196</td>\n      <td>2023-10-24 21:29:46</td>\n      <td>Married</td>\n      <td>Urban</td>\n    </tr>\n    <tr>\n      <th>4</th>\n      <td>12</td>\n      <td>100242</td>\n      <td>84.905314</td>\n      <td>2024-03-29 21:24:39</td>\n      <td>Divorced</td>\n      <td>Rural</td>\n    </tr>\n    <tr>\n      <th>...</th>\n      <td>...</td>\n      <td>...</td>\n      <td>...</td>\n      <td>...</td>\n      <td>...</td>\n      <td>...</td>\n    </tr>\n    <tr>\n      <th>34808</th>\n      <td>169038</td>\n      <td>99609</td>\n      <td>89.901179</td>\n      <td>2017-12-24 21:08:27</td>\n      <td>Widowed</td>\n      <td>Rural</td>\n    </tr>\n    <tr>\n      <th>34809</th>\n      <td>169042</td>\n      <td>99674</td>\n      <td>62.751955</td>\n      <td>2022-10-17 20:08:58</td>\n      <td>Divorced</td>\n      <td>Urban</td>\n    </tr>\n    <tr>\n      <th>34810</th>\n      <td>169046</td>\n      <td>99713</td>\n      <td>78.949573</td>\n      <td>2002-02-08 01:39:29</td>\n      <td>Widowed</td>\n      <td>Rural</td>\n    </tr>\n    <tr>\n      <th>34811</th>\n      <td>169051</td>\n      <td>99792</td>\n      <td>67.020799</td>\n      <td>2013-06-26 02:27:08</td>\n      <td>Married</td>\n      <td>Urban</td>\n    </tr>\n    <tr>\n      <th>34812</th>\n      <td>169064</td>\n      <td>99997</td>\n      <td>91.281263</td>\n      <td>2020-06-04 07:14:14</td>\n      <td>Married</td>\n      <td>Urban</td>\n    </tr>\n  </tbody>\n</table>\n<p>34813 rows × 6 columns</p>\n</div>"
          },
          "metadata": {}
        }
      ],
      "execution_count": 5,
      "metadata": {
        "jupyter": {
          "source_hidden": false,
          "outputs_hidden": false
        },
        "nteract": {
          "transient": {
            "deleting": false
          }
        },
        "gather": {
          "logged": 1689001302506
        }
      }
    },
    {
      "cell_type": "code",
      "source": [
        "demographic_event = demographic_event.drop('Column1', axis = 1)\r\n",
        "demographic_event.head()"
      ],
      "outputs": [
        {
          "output_type": "execute_result",
          "execution_count": 6,
          "data": {
            "text/plain": "   Internalpatientid  Age at update          Event date Marital status   \n0             100017      85.721080 2009-05-28 01:18:36        Married  \\\n1             100041      97.746361 2023-01-06 07:04:39       Divorced   \n2             100181      71.684971 2003-01-03 20:34:04        Married   \n3             100186      69.808196 2023-10-24 21:29:46        Married   \n4             100242      84.905314 2024-03-29 21:24:39       Divorced   \n\n  Ruca category  \n0         Rural  \n1         Urban  \n2         Urban  \n3         Urban  \n4         Rural  ",
            "text/html": "<div>\n<style scoped>\n    .dataframe tbody tr th:only-of-type {\n        vertical-align: middle;\n    }\n\n    .dataframe tbody tr th {\n        vertical-align: top;\n    }\n\n    .dataframe thead th {\n        text-align: right;\n    }\n</style>\n<table border=\"1\" class=\"dataframe\">\n  <thead>\n    <tr style=\"text-align: right;\">\n      <th></th>\n      <th>Internalpatientid</th>\n      <th>Age at update</th>\n      <th>Event date</th>\n      <th>Marital status</th>\n      <th>Ruca category</th>\n    </tr>\n  </thead>\n  <tbody>\n    <tr>\n      <th>0</th>\n      <td>100017</td>\n      <td>85.721080</td>\n      <td>2009-05-28 01:18:36</td>\n      <td>Married</td>\n      <td>Rural</td>\n    </tr>\n    <tr>\n      <th>1</th>\n      <td>100041</td>\n      <td>97.746361</td>\n      <td>2023-01-06 07:04:39</td>\n      <td>Divorced</td>\n      <td>Urban</td>\n    </tr>\n    <tr>\n      <th>2</th>\n      <td>100181</td>\n      <td>71.684971</td>\n      <td>2003-01-03 20:34:04</td>\n      <td>Married</td>\n      <td>Urban</td>\n    </tr>\n    <tr>\n      <th>3</th>\n      <td>100186</td>\n      <td>69.808196</td>\n      <td>2023-10-24 21:29:46</td>\n      <td>Married</td>\n      <td>Urban</td>\n    </tr>\n    <tr>\n      <th>4</th>\n      <td>100242</td>\n      <td>84.905314</td>\n      <td>2024-03-29 21:24:39</td>\n      <td>Divorced</td>\n      <td>Rural</td>\n    </tr>\n  </tbody>\n</table>\n</div>"
          },
          "metadata": {}
        }
      ],
      "execution_count": 6,
      "metadata": {
        "jupyter": {
          "source_hidden": false,
          "outputs_hidden": false
        },
        "nteract": {
          "transient": {
            "deleting": false
          }
        },
        "gather": {
          "logged": 1689001323105
        }
      }
    },
    {
      "cell_type": "code",
      "source": [
        "demographic_event = demographic_event.drop('Event date', axis = 1)\r\n",
        "demographic_event.head()"
      ],
      "outputs": [
        {
          "output_type": "execute_result",
          "execution_count": 7,
          "data": {
            "text/plain": "   Internalpatientid  Age at update Marital status Ruca category\n0             100017      85.721080        Married         Rural\n1             100041      97.746361       Divorced         Urban\n2             100181      71.684971        Married         Urban\n3             100186      69.808196        Married         Urban\n4             100242      84.905314       Divorced         Rural",
            "text/html": "<div>\n<style scoped>\n    .dataframe tbody tr th:only-of-type {\n        vertical-align: middle;\n    }\n\n    .dataframe tbody tr th {\n        vertical-align: top;\n    }\n\n    .dataframe thead th {\n        text-align: right;\n    }\n</style>\n<table border=\"1\" class=\"dataframe\">\n  <thead>\n    <tr style=\"text-align: right;\">\n      <th></th>\n      <th>Internalpatientid</th>\n      <th>Age at update</th>\n      <th>Marital status</th>\n      <th>Ruca category</th>\n    </tr>\n  </thead>\n  <tbody>\n    <tr>\n      <th>0</th>\n      <td>100017</td>\n      <td>85.721080</td>\n      <td>Married</td>\n      <td>Rural</td>\n    </tr>\n    <tr>\n      <th>1</th>\n      <td>100041</td>\n      <td>97.746361</td>\n      <td>Divorced</td>\n      <td>Urban</td>\n    </tr>\n    <tr>\n      <th>2</th>\n      <td>100181</td>\n      <td>71.684971</td>\n      <td>Married</td>\n      <td>Urban</td>\n    </tr>\n    <tr>\n      <th>3</th>\n      <td>100186</td>\n      <td>69.808196</td>\n      <td>Married</td>\n      <td>Urban</td>\n    </tr>\n    <tr>\n      <th>4</th>\n      <td>100242</td>\n      <td>84.905314</td>\n      <td>Divorced</td>\n      <td>Rural</td>\n    </tr>\n  </tbody>\n</table>\n</div>"
          },
          "metadata": {}
        }
      ],
      "execution_count": 7,
      "metadata": {
        "jupyter": {
          "source_hidden": false,
          "outputs_hidden": false
        },
        "nteract": {
          "transient": {
            "deleting": false
          }
        },
        "gather": {
          "logged": 1689001337675
        }
      }
    },
    {
      "cell_type": "code",
      "source": [
        "import pandas as pd"
      ],
      "outputs": [],
      "execution_count": 8,
      "metadata": {
        "jupyter": {
          "source_hidden": false,
          "outputs_hidden": false
        },
        "nteract": {
          "transient": {
            "deleting": false
          }
        },
        "gather": {
          "logged": 1689001350702
        }
      }
    },
    {
      "cell_type": "code",
      "source": [
        "demographic_event['Internalpatientid'].value_counts()"
      ],
      "outputs": [
        {
          "output_type": "execute_result",
          "execution_count": 9,
          "data": {
            "text/plain": "Internalpatientid\n100017    1\n142509    1\n143228    1\n14320     1\n143156    1\n         ..\n83128     1\n83118     1\n83106     1\n83015     1\n99997     1\nName: count, Length: 34813, dtype: int64"
          },
          "metadata": {}
        }
      ],
      "execution_count": 9,
      "metadata": {
        "jupyter": {
          "source_hidden": false,
          "outputs_hidden": false
        },
        "nteract": {
          "transient": {
            "deleting": false
          }
        },
        "gather": {
          "logged": 1689001363534
        }
      }
    },
    {
      "cell_type": "code",
      "source": [
        "sorted_df = demographic_event.sort_values(by=['Internalpatientid','Age at update'])\r\n",
        "sorted_df"
      ],
      "outputs": [
        {
          "output_type": "execute_result",
          "execution_count": 10,
          "data": {
            "text/plain": "       Internalpatientid  Age at update Marital status Ruca category\n21592                  6      89.589028        Married         Rural\n30368                  7      74.373609        Married         Rural\n10462                  9      51.843570  Never married         Rural\n19145                 12      74.143836        Married         Rural\n13179                 17      82.419183        Widowed         Urban\n...                  ...            ...            ...           ...\n25537             169037      88.082373        Married         Urban\n23891             169045      98.707257  Never married         Rural\n2806              169058      99.673816  Never married         Rural\n25538             169059      91.161149        Widowed         Rural\n3031              169065      53.326285        Married         Urban\n\n[34813 rows x 4 columns]",
            "text/html": "<div>\n<style scoped>\n    .dataframe tbody tr th:only-of-type {\n        vertical-align: middle;\n    }\n\n    .dataframe tbody tr th {\n        vertical-align: top;\n    }\n\n    .dataframe thead th {\n        text-align: right;\n    }\n</style>\n<table border=\"1\" class=\"dataframe\">\n  <thead>\n    <tr style=\"text-align: right;\">\n      <th></th>\n      <th>Internalpatientid</th>\n      <th>Age at update</th>\n      <th>Marital status</th>\n      <th>Ruca category</th>\n    </tr>\n  </thead>\n  <tbody>\n    <tr>\n      <th>21592</th>\n      <td>6</td>\n      <td>89.589028</td>\n      <td>Married</td>\n      <td>Rural</td>\n    </tr>\n    <tr>\n      <th>30368</th>\n      <td>7</td>\n      <td>74.373609</td>\n      <td>Married</td>\n      <td>Rural</td>\n    </tr>\n    <tr>\n      <th>10462</th>\n      <td>9</td>\n      <td>51.843570</td>\n      <td>Never married</td>\n      <td>Rural</td>\n    </tr>\n    <tr>\n      <th>19145</th>\n      <td>12</td>\n      <td>74.143836</td>\n      <td>Married</td>\n      <td>Rural</td>\n    </tr>\n    <tr>\n      <th>13179</th>\n      <td>17</td>\n      <td>82.419183</td>\n      <td>Widowed</td>\n      <td>Urban</td>\n    </tr>\n    <tr>\n      <th>...</th>\n      <td>...</td>\n      <td>...</td>\n      <td>...</td>\n      <td>...</td>\n    </tr>\n    <tr>\n      <th>25537</th>\n      <td>169037</td>\n      <td>88.082373</td>\n      <td>Married</td>\n      <td>Urban</td>\n    </tr>\n    <tr>\n      <th>23891</th>\n      <td>169045</td>\n      <td>98.707257</td>\n      <td>Never married</td>\n      <td>Rural</td>\n    </tr>\n    <tr>\n      <th>2806</th>\n      <td>169058</td>\n      <td>99.673816</td>\n      <td>Never married</td>\n      <td>Rural</td>\n    </tr>\n    <tr>\n      <th>25538</th>\n      <td>169059</td>\n      <td>91.161149</td>\n      <td>Widowed</td>\n      <td>Rural</td>\n    </tr>\n    <tr>\n      <th>3031</th>\n      <td>169065</td>\n      <td>53.326285</td>\n      <td>Married</td>\n      <td>Urban</td>\n    </tr>\n  </tbody>\n</table>\n<p>34813 rows × 4 columns</p>\n</div>"
          },
          "metadata": {}
        }
      ],
      "execution_count": 10,
      "metadata": {
        "jupyter": {
          "source_hidden": false,
          "outputs_hidden": false
        },
        "nteract": {
          "transient": {
            "deleting": false
          }
        },
        "gather": {
          "logged": 1689001385681
        }
      }
    },
    {
      "cell_type": "code",
      "source": [
        "# Finding the missing values\r\n",
        "demographic_event.isnull().sum()"
      ],
      "outputs": [
        {
          "output_type": "execute_result",
          "execution_count": 11,
          "data": {
            "text/plain": "Internalpatientid    0\nAge at update        0\nMarital status       0\nRuca category        0\ndtype: int64"
          },
          "metadata": {}
        }
      ],
      "execution_count": 11,
      "metadata": {
        "jupyter": {
          "source_hidden": false,
          "outputs_hidden": false
        },
        "nteract": {
          "transient": {
            "deleting": false
          }
        },
        "gather": {
          "logged": 1689001405454
        }
      }
    },
    {
      "cell_type": "code",
      "source": [
        "# Format 'Age at measurement' values in the format 00.00\r\n",
        "sorted_df[\"Age at update\"] = sorted_df[\"Age at update\"].map(\"{:.2f}\".format)\r\n",
        "sorted_df"
      ],
      "outputs": [
        {
          "output_type": "execute_result",
          "execution_count": 12,
          "data": {
            "text/plain": "       Internalpatientid Age at update Marital status Ruca category\n21592                  6         89.59        Married         Rural\n30368                  7         74.37        Married         Rural\n10462                  9         51.84  Never married         Rural\n19145                 12         74.14        Married         Rural\n13179                 17         82.42        Widowed         Urban\n...                  ...           ...            ...           ...\n25537             169037         88.08        Married         Urban\n23891             169045         98.71  Never married         Rural\n2806              169058         99.67  Never married         Rural\n25538             169059         91.16        Widowed         Rural\n3031              169065         53.33        Married         Urban\n\n[34813 rows x 4 columns]",
            "text/html": "<div>\n<style scoped>\n    .dataframe tbody tr th:only-of-type {\n        vertical-align: middle;\n    }\n\n    .dataframe tbody tr th {\n        vertical-align: top;\n    }\n\n    .dataframe thead th {\n        text-align: right;\n    }\n</style>\n<table border=\"1\" class=\"dataframe\">\n  <thead>\n    <tr style=\"text-align: right;\">\n      <th></th>\n      <th>Internalpatientid</th>\n      <th>Age at update</th>\n      <th>Marital status</th>\n      <th>Ruca category</th>\n    </tr>\n  </thead>\n  <tbody>\n    <tr>\n      <th>21592</th>\n      <td>6</td>\n      <td>89.59</td>\n      <td>Married</td>\n      <td>Rural</td>\n    </tr>\n    <tr>\n      <th>30368</th>\n      <td>7</td>\n      <td>74.37</td>\n      <td>Married</td>\n      <td>Rural</td>\n    </tr>\n    <tr>\n      <th>10462</th>\n      <td>9</td>\n      <td>51.84</td>\n      <td>Never married</td>\n      <td>Rural</td>\n    </tr>\n    <tr>\n      <th>19145</th>\n      <td>12</td>\n      <td>74.14</td>\n      <td>Married</td>\n      <td>Rural</td>\n    </tr>\n    <tr>\n      <th>13179</th>\n      <td>17</td>\n      <td>82.42</td>\n      <td>Widowed</td>\n      <td>Urban</td>\n    </tr>\n    <tr>\n      <th>...</th>\n      <td>...</td>\n      <td>...</td>\n      <td>...</td>\n      <td>...</td>\n    </tr>\n    <tr>\n      <th>25537</th>\n      <td>169037</td>\n      <td>88.08</td>\n      <td>Married</td>\n      <td>Urban</td>\n    </tr>\n    <tr>\n      <th>23891</th>\n      <td>169045</td>\n      <td>98.71</td>\n      <td>Never married</td>\n      <td>Rural</td>\n    </tr>\n    <tr>\n      <th>2806</th>\n      <td>169058</td>\n      <td>99.67</td>\n      <td>Never married</td>\n      <td>Rural</td>\n    </tr>\n    <tr>\n      <th>25538</th>\n      <td>169059</td>\n      <td>91.16</td>\n      <td>Widowed</td>\n      <td>Rural</td>\n    </tr>\n    <tr>\n      <th>3031</th>\n      <td>169065</td>\n      <td>53.33</td>\n      <td>Married</td>\n      <td>Urban</td>\n    </tr>\n  </tbody>\n</table>\n<p>34813 rows × 4 columns</p>\n</div>"
          },
          "metadata": {}
        }
      ],
      "execution_count": 12,
      "metadata": {
        "jupyter": {
          "source_hidden": false,
          "outputs_hidden": false
        },
        "nteract": {
          "transient": {
            "deleting": false
          }
        },
        "gather": {
          "logged": 1689001430162
        }
      }
    },
    {
      "cell_type": "code",
      "source": [
        "# Find the maximum age for each internal patient id\r\n",
        "max_ages = sorted_df.groupby('Internalpatientid')['Age at update'].max().reset_index()\r\n",
        "\r\n",
        "# Merge with the original dataframe to get the rows with the highest age\r\n",
        "\r\n",
        "result_df = pd.merge(sorted_df, max_ages, on =['Internalpatientid','Age at update'], how = 'inner')\r\n",
        "\r\n",
        "result_df"
      ],
      "outputs": [
        {
          "output_type": "execute_result",
          "execution_count": 13,
          "data": {
            "text/plain": "       Internalpatientid Age at update Marital status Ruca category\n0                      6         89.59        Married         Rural\n1                      7         74.37        Married         Rural\n2                      9         51.84  Never married         Rural\n3                     12         74.14        Married         Rural\n4                     17         82.42        Widowed         Urban\n...                  ...           ...            ...           ...\n34808             169037         88.08        Married         Urban\n34809             169045         98.71  Never married         Rural\n34810             169058         99.67  Never married         Rural\n34811             169059         91.16        Widowed         Rural\n34812             169065         53.33        Married         Urban\n\n[34813 rows x 4 columns]",
            "text/html": "<div>\n<style scoped>\n    .dataframe tbody tr th:only-of-type {\n        vertical-align: middle;\n    }\n\n    .dataframe tbody tr th {\n        vertical-align: top;\n    }\n\n    .dataframe thead th {\n        text-align: right;\n    }\n</style>\n<table border=\"1\" class=\"dataframe\">\n  <thead>\n    <tr style=\"text-align: right;\">\n      <th></th>\n      <th>Internalpatientid</th>\n      <th>Age at update</th>\n      <th>Marital status</th>\n      <th>Ruca category</th>\n    </tr>\n  </thead>\n  <tbody>\n    <tr>\n      <th>0</th>\n      <td>6</td>\n      <td>89.59</td>\n      <td>Married</td>\n      <td>Rural</td>\n    </tr>\n    <tr>\n      <th>1</th>\n      <td>7</td>\n      <td>74.37</td>\n      <td>Married</td>\n      <td>Rural</td>\n    </tr>\n    <tr>\n      <th>2</th>\n      <td>9</td>\n      <td>51.84</td>\n      <td>Never married</td>\n      <td>Rural</td>\n    </tr>\n    <tr>\n      <th>3</th>\n      <td>12</td>\n      <td>74.14</td>\n      <td>Married</td>\n      <td>Rural</td>\n    </tr>\n    <tr>\n      <th>4</th>\n      <td>17</td>\n      <td>82.42</td>\n      <td>Widowed</td>\n      <td>Urban</td>\n    </tr>\n    <tr>\n      <th>...</th>\n      <td>...</td>\n      <td>...</td>\n      <td>...</td>\n      <td>...</td>\n    </tr>\n    <tr>\n      <th>34808</th>\n      <td>169037</td>\n      <td>88.08</td>\n      <td>Married</td>\n      <td>Urban</td>\n    </tr>\n    <tr>\n      <th>34809</th>\n      <td>169045</td>\n      <td>98.71</td>\n      <td>Never married</td>\n      <td>Rural</td>\n    </tr>\n    <tr>\n      <th>34810</th>\n      <td>169058</td>\n      <td>99.67</td>\n      <td>Never married</td>\n      <td>Rural</td>\n    </tr>\n    <tr>\n      <th>34811</th>\n      <td>169059</td>\n      <td>91.16</td>\n      <td>Widowed</td>\n      <td>Rural</td>\n    </tr>\n    <tr>\n      <th>34812</th>\n      <td>169065</td>\n      <td>53.33</td>\n      <td>Married</td>\n      <td>Urban</td>\n    </tr>\n  </tbody>\n</table>\n<p>34813 rows × 4 columns</p>\n</div>"
          },
          "metadata": {}
        }
      ],
      "execution_count": 13,
      "metadata": {
        "jupyter": {
          "source_hidden": false,
          "outputs_hidden": false
        },
        "nteract": {
          "transient": {
            "deleting": false
          }
        },
        "gather": {
          "logged": 1689001475086
        }
      }
    },
    {
      "cell_type": "code",
      "source": [
        "# Convert 'Age at measurement' column from object to float\r\n",
        "result_df[\"Age at update\"] = result_df[\"Age at update\"].astype(float)\r\n",
        "\r\n",
        " \r\n",
        "\r\n",
        "# Round off the values in the 'Age at measurement' column to two decimal places\r\n",
        "result_df[\"Age at update\"] = result_df[\"Age at update\"].round()"
      ],
      "outputs": [],
      "execution_count": 14,
      "metadata": {
        "jupyter": {
          "source_hidden": false,
          "outputs_hidden": false
        },
        "nteract": {
          "transient": {
            "deleting": false
          }
        },
        "gather": {
          "logged": 1689001502981
        }
      }
    },
    {
      "cell_type": "code",
      "source": [
        "result_df['Age at update'] = result_df['Age at update'].astype('int')"
      ],
      "outputs": [],
      "execution_count": 15,
      "metadata": {
        "jupyter": {
          "source_hidden": false,
          "outputs_hidden": false
        },
        "nteract": {
          "transient": {
            "deleting": false
          }
        },
        "gather": {
          "logged": 1689001614709
        }
      }
    },
    {
      "cell_type": "code",
      "source": [
        "result_df['demo_event_marital_status'] = result_df['Age at update'].astype(str) + '_' + result_df['Marital status']\r\n",
        "result_df"
      ],
      "outputs": [
        {
          "output_type": "execute_result",
          "execution_count": 16,
          "data": {
            "text/plain": "       Internalpatientid  Age at update Marital status Ruca category   \n0                      6             90        Married         Rural  \\\n1                      7             74        Married         Rural   \n2                      9             52  Never married         Rural   \n3                     12             74        Married         Rural   \n4                     17             82        Widowed         Urban   \n...                  ...            ...            ...           ...   \n34808             169037             88        Married         Urban   \n34809             169045             99  Never married         Rural   \n34810             169058            100  Never married         Rural   \n34811             169059             91        Widowed         Rural   \n34812             169065             53        Married         Urban   \n\n      demo_event_marital_status  \n0                    90_Married  \n1                    74_Married  \n2              52_Never married  \n3                    74_Married  \n4                    82_Widowed  \n...                         ...  \n34808                88_Married  \n34809          99_Never married  \n34810         100_Never married  \n34811                91_Widowed  \n34812                53_Married  \n\n[34813 rows x 5 columns]",
            "text/html": "<div>\n<style scoped>\n    .dataframe tbody tr th:only-of-type {\n        vertical-align: middle;\n    }\n\n    .dataframe tbody tr th {\n        vertical-align: top;\n    }\n\n    .dataframe thead th {\n        text-align: right;\n    }\n</style>\n<table border=\"1\" class=\"dataframe\">\n  <thead>\n    <tr style=\"text-align: right;\">\n      <th></th>\n      <th>Internalpatientid</th>\n      <th>Age at update</th>\n      <th>Marital status</th>\n      <th>Ruca category</th>\n      <th>demo_event_marital_status</th>\n    </tr>\n  </thead>\n  <tbody>\n    <tr>\n      <th>0</th>\n      <td>6</td>\n      <td>90</td>\n      <td>Married</td>\n      <td>Rural</td>\n      <td>90_Married</td>\n    </tr>\n    <tr>\n      <th>1</th>\n      <td>7</td>\n      <td>74</td>\n      <td>Married</td>\n      <td>Rural</td>\n      <td>74_Married</td>\n    </tr>\n    <tr>\n      <th>2</th>\n      <td>9</td>\n      <td>52</td>\n      <td>Never married</td>\n      <td>Rural</td>\n      <td>52_Never married</td>\n    </tr>\n    <tr>\n      <th>3</th>\n      <td>12</td>\n      <td>74</td>\n      <td>Married</td>\n      <td>Rural</td>\n      <td>74_Married</td>\n    </tr>\n    <tr>\n      <th>4</th>\n      <td>17</td>\n      <td>82</td>\n      <td>Widowed</td>\n      <td>Urban</td>\n      <td>82_Widowed</td>\n    </tr>\n    <tr>\n      <th>...</th>\n      <td>...</td>\n      <td>...</td>\n      <td>...</td>\n      <td>...</td>\n      <td>...</td>\n    </tr>\n    <tr>\n      <th>34808</th>\n      <td>169037</td>\n      <td>88</td>\n      <td>Married</td>\n      <td>Urban</td>\n      <td>88_Married</td>\n    </tr>\n    <tr>\n      <th>34809</th>\n      <td>169045</td>\n      <td>99</td>\n      <td>Never married</td>\n      <td>Rural</td>\n      <td>99_Never married</td>\n    </tr>\n    <tr>\n      <th>34810</th>\n      <td>169058</td>\n      <td>100</td>\n      <td>Never married</td>\n      <td>Rural</td>\n      <td>100_Never married</td>\n    </tr>\n    <tr>\n      <th>34811</th>\n      <td>169059</td>\n      <td>91</td>\n      <td>Widowed</td>\n      <td>Rural</td>\n      <td>91_Widowed</td>\n    </tr>\n    <tr>\n      <th>34812</th>\n      <td>169065</td>\n      <td>53</td>\n      <td>Married</td>\n      <td>Urban</td>\n      <td>53_Married</td>\n    </tr>\n  </tbody>\n</table>\n<p>34813 rows × 5 columns</p>\n</div>"
          },
          "metadata": {}
        }
      ],
      "execution_count": 16,
      "metadata": {
        "jupyter": {
          "source_hidden": false,
          "outputs_hidden": false
        },
        "nteract": {
          "transient": {
            "deleting": false
          }
        },
        "gather": {
          "logged": 1689001633794
        }
      }
    },
    {
      "cell_type": "code",
      "source": [
        "result_df.drop(['Age at update','Marital status','Ruca category'], axis = 1,inplace = True)\r\n",
        "result_df"
      ],
      "outputs": [
        {
          "output_type": "execute_result",
          "execution_count": 17,
          "data": {
            "text/plain": "       Internalpatientid demo_event_marital_status\n0                      6                90_Married\n1                      7                74_Married\n2                      9          52_Never married\n3                     12                74_Married\n4                     17                82_Widowed\n...                  ...                       ...\n34808             169037                88_Married\n34809             169045          99_Never married\n34810             169058         100_Never married\n34811             169059                91_Widowed\n34812             169065                53_Married\n\n[34813 rows x 2 columns]",
            "text/html": "<div>\n<style scoped>\n    .dataframe tbody tr th:only-of-type {\n        vertical-align: middle;\n    }\n\n    .dataframe tbody tr th {\n        vertical-align: top;\n    }\n\n    .dataframe thead th {\n        text-align: right;\n    }\n</style>\n<table border=\"1\" class=\"dataframe\">\n  <thead>\n    <tr style=\"text-align: right;\">\n      <th></th>\n      <th>Internalpatientid</th>\n      <th>demo_event_marital_status</th>\n    </tr>\n  </thead>\n  <tbody>\n    <tr>\n      <th>0</th>\n      <td>6</td>\n      <td>90_Married</td>\n    </tr>\n    <tr>\n      <th>1</th>\n      <td>7</td>\n      <td>74_Married</td>\n    </tr>\n    <tr>\n      <th>2</th>\n      <td>9</td>\n      <td>52_Never married</td>\n    </tr>\n    <tr>\n      <th>3</th>\n      <td>12</td>\n      <td>74_Married</td>\n    </tr>\n    <tr>\n      <th>4</th>\n      <td>17</td>\n      <td>82_Widowed</td>\n    </tr>\n    <tr>\n      <th>...</th>\n      <td>...</td>\n      <td>...</td>\n    </tr>\n    <tr>\n      <th>34808</th>\n      <td>169037</td>\n      <td>88_Married</td>\n    </tr>\n    <tr>\n      <th>34809</th>\n      <td>169045</td>\n      <td>99_Never married</td>\n    </tr>\n    <tr>\n      <th>34810</th>\n      <td>169058</td>\n      <td>100_Never married</td>\n    </tr>\n    <tr>\n      <th>34811</th>\n      <td>169059</td>\n      <td>91_Widowed</td>\n    </tr>\n    <tr>\n      <th>34812</th>\n      <td>169065</td>\n      <td>53_Married</td>\n    </tr>\n  </tbody>\n</table>\n<p>34813 rows × 2 columns</p>\n</div>"
          },
          "metadata": {}
        }
      ],
      "execution_count": 17,
      "metadata": {
        "jupyter": {
          "source_hidden": false,
          "outputs_hidden": false
        },
        "nteract": {
          "transient": {
            "deleting": false
          }
        },
        "gather": {
          "logged": 1689001648773
        }
      }
    },
    {
      "cell_type": "code",
      "source": [
        "# saving as the csv file in the appropriate directory\r\n",
        "result_df.to_csv('/mnt/batch/tasks/shared/LS_root/mounts/clusters/team3-nishagpu2/code/Users/900379/Output_files_test/df_demographic_event_test.csv')"
      ],
      "outputs": [],
      "execution_count": 18,
      "metadata": {
        "jupyter": {
          "source_hidden": false,
          "outputs_hidden": false
        },
        "nteract": {
          "transient": {
            "deleting": false
          }
        },
        "gather": {
          "logged": 1689001686258
        }
      }
    }
  ],
  "metadata": {
    "kernelspec": {
      "name": "python310-sdkv2",
      "language": "python",
      "display_name": "Python 3.10 - SDK v2"
    },
    "language_info": {
      "name": "python",
      "version": "3.10.10",
      "mimetype": "text/x-python",
      "codemirror_mode": {
        "name": "ipython",
        "version": 3
      },
      "pygments_lexer": "ipython3",
      "nbconvert_exporter": "python",
      "file_extension": ".py"
    },
    "microsoft": {
      "ms_spell_check": {
        "ms_spell_check_language": "en"
      },
      "host": {
        "AzureML": {
          "notebookHasBeenCompleted": true
        }
      }
    },
    "kernel_info": {
      "name": "python310-sdkv2"
    },
    "nteract": {
      "version": "nteract-front-end@1.0.0"
    }
  },
  "nbformat": 4,
  "nbformat_minor": 2
}