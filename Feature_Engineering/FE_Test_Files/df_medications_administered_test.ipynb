{
  "cells": [
    {
      "cell_type": "code",
      "source": [
        "from azureml.core import Workspace, Dataset\r\n",
        "\r\n",
        "subscription_id = 'bcfe0c62-8ebe-4df0-a46d-1efcf8739a5b'\r\n",
        "resource_group = 'VChamp-Team3'\r\n",
        "workspace_name = 'vchamp-team3'\r\n",
        "\r\n",
        "\r\n",
        "# storage account : Algorithmia, Resource group: VChamp-Team3 and workspace: vchamp-team3.\r\n",
        "\r\n",
        "workspace = Workspace(subscription_id, resource_group, workspace_name)"
      ],
      "outputs": [],
      "execution_count": 1,
      "metadata": {
        "gather": {
          "logged": 1688721816683
        }
      }
    },
    {
      "cell_type": "code",
      "source": [
        "#['data_team3_synthetic_quality_check']\r\n",
        "datastore = workspace.datastores['data_team3_synthetic_test']"
      ],
      "outputs": [],
      "execution_count": 2,
      "metadata": {
        "jupyter": {
          "source_hidden": false,
          "outputs_hidden": false
        },
        "nteract": {
          "transient": {
            "deleting": false
          }
        },
        "gather": {
          "logged": 1688721835073
        }
      }
    },
    {
      "cell_type": "code",
      "source": [
        "dataset = Dataset.Tabular.from_delimited_files(path = [(datastore, 'medications_administered_test.csv')])\r\n",
        "\r\n",
        "# preview the first 3 rows of the dataset\r\n",
        "# dataset.to_pandas_dataframe()"
      ],
      "outputs": [],
      "execution_count": 3,
      "metadata": {
        "jupyter": {
          "source_hidden": false,
          "outputs_hidden": false
        },
        "nteract": {
          "transient": {
            "deleting": false
          }
        },
        "gather": {
          "logged": 1688721864352
        }
      }
    },
    {
      "cell_type": "code",
      "source": [
        "medications_administered = dataset.to_pandas_dataframe()"
      ],
      "outputs": [],
      "execution_count": 4,
      "metadata": {
        "jupyter": {
          "source_hidden": false,
          "outputs_hidden": false
        },
        "nteract": {
          "transient": {
            "deleting": false
          }
        },
        "gather": {
          "logged": 1688721885690
        }
      }
    },
    {
      "cell_type": "code",
      "source": [
        "type(medications_administered)"
      ],
      "outputs": [
        {
          "output_type": "execute_result",
          "execution_count": 5,
          "data": {
            "text/plain": "pandas.core.frame.DataFrame"
          },
          "metadata": {}
        }
      ],
      "execution_count": 5,
      "metadata": {
        "jupyter": {
          "source_hidden": false,
          "outputs_hidden": false
        },
        "nteract": {
          "transient": {
            "deleting": false
          }
        },
        "gather": {
          "logged": 1688721889427
        }
      }
    },
    {
      "cell_type": "code",
      "source": [
        "medications_administered"
      ],
      "outputs": [
        {
          "output_type": "execute_result",
          "execution_count": 6,
          "data": {
            "text/plain": "            Column1  Internalpatientid  Age at med administration   \n0                 7                100                  55.091412  \\\n1                 8                100                  55.092740   \n2                 9                100                  55.093949   \n3                10                100                  55.093950   \n4                11                100                  55.093954   \n...             ...                ...                        ...   \n34529698  159707760              99990                  80.623912   \n34529699  159707761              99990                  80.626655   \n34529700  159707967              99997                  77.081614   \n34529701  159707968              99997                  77.084240   \n34529702  159707969              99997                  78.575427   \n\n         Administration date Administration end date   \n0        2016-10-30 21:51:56                     NaT  \\\n1        2016-10-31 09:30:48                     NaT   \n2        2016-10-31 20:07:24                     NaT   \n3        2016-10-31 20:07:52                     NaT   \n4        2016-10-31 20:09:45                     NaT   \n...                      ...                     ...   \n34529698 2003-08-18 00:57:37                     NaT   \n34529699 2003-08-19 01:01:13                     NaT   \n34529700 2006-03-20 07:55:03                     NaT   \n34529701 2006-03-21 06:57:00                     NaT   \n34529702 2007-09-17 07:38:30                     NaT   \n\n         Administered medication atc 5 Administration status    Dose form   \n0                          guaifenesin                 Given  liquid,oral  \\\n1                             zolpidem                 Given          tab   \n2                          guaifenesin                 Given  liquid,oral   \n3                              heparin                 Given     inj,soln   \n4                        chlorhexidine                 Given   rinse,oral   \n...                                ...                   ...          ...   \n34529698                    lisinopril                 Given          tab   \n34529699                    lisinopril                 Given          tab   \n34529700                    formoterol          Missing dose     cap,inhl   \n34529701                   finasteride                 Given          tab   \n34529702                    lisinopril                 Given          tab   \n\n          Dose administered Dose unit administered           State  \n0                       1.0                  100mg        New York  \n1                       1.0                    tab        New York  \n2                       1.0                  100mg        New York  \n3                       1.0             5000 units        New York  \n4                       1.0                 1 unit        New York  \n...                     ...                    ...             ...  \n34529698                1.0                    tab           Texas  \n34529699                1.0                    tab           Texas  \n34529700                0.0               cap,inhl  North Carolina  \n34529701                1.0                    tab  North Carolina  \n34529702                1.0                    tab  North Carolina  \n\n[34529703 rows x 11 columns]",
            "text/html": "<div>\n<style scoped>\n    .dataframe tbody tr th:only-of-type {\n        vertical-align: middle;\n    }\n\n    .dataframe tbody tr th {\n        vertical-align: top;\n    }\n\n    .dataframe thead th {\n        text-align: right;\n    }\n</style>\n<table border=\"1\" class=\"dataframe\">\n  <thead>\n    <tr style=\"text-align: right;\">\n      <th></th>\n      <th>Column1</th>\n      <th>Internalpatientid</th>\n      <th>Age at med administration</th>\n      <th>Administration date</th>\n      <th>Administration end date</th>\n      <th>Administered medication atc 5</th>\n      <th>Administration status</th>\n      <th>Dose form</th>\n      <th>Dose administered</th>\n      <th>Dose unit administered</th>\n      <th>State</th>\n    </tr>\n  </thead>\n  <tbody>\n    <tr>\n      <th>0</th>\n      <td>7</td>\n      <td>100</td>\n      <td>55.091412</td>\n      <td>2016-10-30 21:51:56</td>\n      <td>NaT</td>\n      <td>guaifenesin</td>\n      <td>Given</td>\n      <td>liquid,oral</td>\n      <td>1.0</td>\n      <td>100mg</td>\n      <td>New York</td>\n    </tr>\n    <tr>\n      <th>1</th>\n      <td>8</td>\n      <td>100</td>\n      <td>55.092740</td>\n      <td>2016-10-31 09:30:48</td>\n      <td>NaT</td>\n      <td>zolpidem</td>\n      <td>Given</td>\n      <td>tab</td>\n      <td>1.0</td>\n      <td>tab</td>\n      <td>New York</td>\n    </tr>\n    <tr>\n      <th>2</th>\n      <td>9</td>\n      <td>100</td>\n      <td>55.093949</td>\n      <td>2016-10-31 20:07:24</td>\n      <td>NaT</td>\n      <td>guaifenesin</td>\n      <td>Given</td>\n      <td>liquid,oral</td>\n      <td>1.0</td>\n      <td>100mg</td>\n      <td>New York</td>\n    </tr>\n    <tr>\n      <th>3</th>\n      <td>10</td>\n      <td>100</td>\n      <td>55.093950</td>\n      <td>2016-10-31 20:07:52</td>\n      <td>NaT</td>\n      <td>heparin</td>\n      <td>Given</td>\n      <td>inj,soln</td>\n      <td>1.0</td>\n      <td>5000 units</td>\n      <td>New York</td>\n    </tr>\n    <tr>\n      <th>4</th>\n      <td>11</td>\n      <td>100</td>\n      <td>55.093954</td>\n      <td>2016-10-31 20:09:45</td>\n      <td>NaT</td>\n      <td>chlorhexidine</td>\n      <td>Given</td>\n      <td>rinse,oral</td>\n      <td>1.0</td>\n      <td>1 unit</td>\n      <td>New York</td>\n    </tr>\n    <tr>\n      <th>...</th>\n      <td>...</td>\n      <td>...</td>\n      <td>...</td>\n      <td>...</td>\n      <td>...</td>\n      <td>...</td>\n      <td>...</td>\n      <td>...</td>\n      <td>...</td>\n      <td>...</td>\n      <td>...</td>\n    </tr>\n    <tr>\n      <th>34529698</th>\n      <td>159707760</td>\n      <td>99990</td>\n      <td>80.623912</td>\n      <td>2003-08-18 00:57:37</td>\n      <td>NaT</td>\n      <td>lisinopril</td>\n      <td>Given</td>\n      <td>tab</td>\n      <td>1.0</td>\n      <td>tab</td>\n      <td>Texas</td>\n    </tr>\n    <tr>\n      <th>34529699</th>\n      <td>159707761</td>\n      <td>99990</td>\n      <td>80.626655</td>\n      <td>2003-08-19 01:01:13</td>\n      <td>NaT</td>\n      <td>lisinopril</td>\n      <td>Given</td>\n      <td>tab</td>\n      <td>1.0</td>\n      <td>tab</td>\n      <td>Texas</td>\n    </tr>\n    <tr>\n      <th>34529700</th>\n      <td>159707967</td>\n      <td>99997</td>\n      <td>77.081614</td>\n      <td>2006-03-20 07:55:03</td>\n      <td>NaT</td>\n      <td>formoterol</td>\n      <td>Missing dose</td>\n      <td>cap,inhl</td>\n      <td>0.0</td>\n      <td>cap,inhl</td>\n      <td>North Carolina</td>\n    </tr>\n    <tr>\n      <th>34529701</th>\n      <td>159707968</td>\n      <td>99997</td>\n      <td>77.084240</td>\n      <td>2006-03-21 06:57:00</td>\n      <td>NaT</td>\n      <td>finasteride</td>\n      <td>Given</td>\n      <td>tab</td>\n      <td>1.0</td>\n      <td>tab</td>\n      <td>North Carolina</td>\n    </tr>\n    <tr>\n      <th>34529702</th>\n      <td>159707969</td>\n      <td>99997</td>\n      <td>78.575427</td>\n      <td>2007-09-17 07:38:30</td>\n      <td>NaT</td>\n      <td>lisinopril</td>\n      <td>Given</td>\n      <td>tab</td>\n      <td>1.0</td>\n      <td>tab</td>\n      <td>North Carolina</td>\n    </tr>\n  </tbody>\n</table>\n<p>34529703 rows × 11 columns</p>\n</div>"
          },
          "metadata": {}
        }
      ],
      "execution_count": 6,
      "metadata": {
        "jupyter": {
          "source_hidden": false,
          "outputs_hidden": false
        },
        "nteract": {
          "transient": {
            "deleting": false
          }
        },
        "gather": {
          "logged": 1688721903281
        }
      }
    },
    {
      "cell_type": "code",
      "source": [
        "import pandas as pd"
      ],
      "outputs": [],
      "execution_count": 7,
      "metadata": {
        "jupyter": {
          "source_hidden": false,
          "outputs_hidden": false
        },
        "nteract": {
          "transient": {
            "deleting": false
          }
        },
        "gather": {
          "logged": 1688721919278
        }
      }
    },
    {
      "cell_type": "code",
      "source": [
        "medications_administered.nunique()"
      ],
      "outputs": [
        {
          "output_type": "execute_result",
          "execution_count": 8,
          "data": {
            "text/plain": "Column1                          34529703\nInternalpatientid                   22010\nAge at med administration        34114486\nAdministration date              32258392\nAdministration end date            379052\nAdministered medication atc 5        2172\nAdministration status                  10\nDose form                             209\nDose administered                  758430\nDose unit administered             171058\nState                                  50\ndtype: int64"
          },
          "metadata": {}
        }
      ],
      "execution_count": 8,
      "metadata": {
        "jupyter": {
          "source_hidden": false,
          "outputs_hidden": false
        },
        "nteract": {
          "transient": {
            "deleting": false
          }
        },
        "gather": {
          "logged": 1688721966542
        }
      }
    },
    {
      "cell_type": "code",
      "source": [
        "medications_administered['Internalpatientid'].value_counts()"
      ],
      "outputs": [
        {
          "output_type": "execute_result",
          "execution_count": 9,
          "data": {
            "text/plain": "Internalpatientid\n61845     173666\n108165    167621\n26263     163749\n105587    163653\n70623     160068\n           ...  \n104316         1\n121298         1\n141524         1\n47610          1\n97326          1\nName: count, Length: 22010, dtype: int64"
          },
          "metadata": {}
        }
      ],
      "execution_count": 9,
      "metadata": {
        "jupyter": {
          "source_hidden": false,
          "outputs_hidden": false
        },
        "nteract": {
          "transient": {
            "deleting": false
          }
        },
        "gather": {
          "logged": 1688721981205
        }
      }
    },
    {
      "cell_type": "code",
      "source": [
        "medications_administered['Administration status'].value_counts()"
      ],
      "outputs": [
        {
          "output_type": "execute_result",
          "execution_count": 10,
          "data": {
            "text/plain": "Administration status\nGiven                          31177904\nHeld                            1706845\nRefused                          979604\nCompleted (infusion orders)      323958\nRemoved (patch taken off)        107026\nMissing dose                     103274\nInfusing (infusion orders)       100008\nNot given                         20595\nNot specified (no value)           8404\nStopped (infusion orders)          2085\nName: count, dtype: int64"
          },
          "metadata": {}
        }
      ],
      "execution_count": 10,
      "metadata": {
        "jupyter": {
          "source_hidden": false,
          "outputs_hidden": false
        },
        "nteract": {
          "transient": {
            "deleting": false
          }
        },
        "gather": {
          "logged": 1688722006242
        }
      }
    },
    {
      "cell_type": "code",
      "source": [
        "medications_administered.drop(['Column1','Administration date','Administration end date','State','Dose form','Dose administered','Dose unit administered'], axis = 1,inplace = True)\r\n",
        "medications_administered"
      ],
      "outputs": [
        {
          "output_type": "execute_result",
          "execution_count": 11,
          "data": {
            "text/plain": "          Internalpatientid  Age at med administration   \n0                       100                  55.091412  \\\n1                       100                  55.092740   \n2                       100                  55.093949   \n3                       100                  55.093950   \n4                       100                  55.093954   \n...                     ...                        ...   \n34529698              99990                  80.623912   \n34529699              99990                  80.626655   \n34529700              99997                  77.081614   \n34529701              99997                  77.084240   \n34529702              99997                  78.575427   \n\n         Administered medication atc 5 Administration status  \n0                          guaifenesin                 Given  \n1                             zolpidem                 Given  \n2                          guaifenesin                 Given  \n3                              heparin                 Given  \n4                        chlorhexidine                 Given  \n...                                ...                   ...  \n34529698                    lisinopril                 Given  \n34529699                    lisinopril                 Given  \n34529700                    formoterol          Missing dose  \n34529701                   finasteride                 Given  \n34529702                    lisinopril                 Given  \n\n[34529703 rows x 4 columns]",
            "text/html": "<div>\n<style scoped>\n    .dataframe tbody tr th:only-of-type {\n        vertical-align: middle;\n    }\n\n    .dataframe tbody tr th {\n        vertical-align: top;\n    }\n\n    .dataframe thead th {\n        text-align: right;\n    }\n</style>\n<table border=\"1\" class=\"dataframe\">\n  <thead>\n    <tr style=\"text-align: right;\">\n      <th></th>\n      <th>Internalpatientid</th>\n      <th>Age at med administration</th>\n      <th>Administered medication atc 5</th>\n      <th>Administration status</th>\n    </tr>\n  </thead>\n  <tbody>\n    <tr>\n      <th>0</th>\n      <td>100</td>\n      <td>55.091412</td>\n      <td>guaifenesin</td>\n      <td>Given</td>\n    </tr>\n    <tr>\n      <th>1</th>\n      <td>100</td>\n      <td>55.092740</td>\n      <td>zolpidem</td>\n      <td>Given</td>\n    </tr>\n    <tr>\n      <th>2</th>\n      <td>100</td>\n      <td>55.093949</td>\n      <td>guaifenesin</td>\n      <td>Given</td>\n    </tr>\n    <tr>\n      <th>3</th>\n      <td>100</td>\n      <td>55.093950</td>\n      <td>heparin</td>\n      <td>Given</td>\n    </tr>\n    <tr>\n      <th>4</th>\n      <td>100</td>\n      <td>55.093954</td>\n      <td>chlorhexidine</td>\n      <td>Given</td>\n    </tr>\n    <tr>\n      <th>...</th>\n      <td>...</td>\n      <td>...</td>\n      <td>...</td>\n      <td>...</td>\n    </tr>\n    <tr>\n      <th>34529698</th>\n      <td>99990</td>\n      <td>80.623912</td>\n      <td>lisinopril</td>\n      <td>Given</td>\n    </tr>\n    <tr>\n      <th>34529699</th>\n      <td>99990</td>\n      <td>80.626655</td>\n      <td>lisinopril</td>\n      <td>Given</td>\n    </tr>\n    <tr>\n      <th>34529700</th>\n      <td>99997</td>\n      <td>77.081614</td>\n      <td>formoterol</td>\n      <td>Missing dose</td>\n    </tr>\n    <tr>\n      <th>34529701</th>\n      <td>99997</td>\n      <td>77.084240</td>\n      <td>finasteride</td>\n      <td>Given</td>\n    </tr>\n    <tr>\n      <th>34529702</th>\n      <td>99997</td>\n      <td>78.575427</td>\n      <td>lisinopril</td>\n      <td>Given</td>\n    </tr>\n  </tbody>\n</table>\n<p>34529703 rows × 4 columns</p>\n</div>"
          },
          "metadata": {}
        }
      ],
      "execution_count": 11,
      "metadata": {
        "jupyter": {
          "source_hidden": false,
          "outputs_hidden": false
        },
        "nteract": {
          "transient": {
            "deleting": false
          }
        },
        "gather": {
          "logged": 1688722025208
        }
      }
    },
    {
      "cell_type": "markdown",
      "source": [
        "**Two -level of sorting first by \"Internalpatientid\" then \"Age at ed visit\".**"
      ],
      "metadata": {
        "nteract": {
          "transient": {
            "deleting": false
          }
        }
      }
    },
    {
      "cell_type": "code",
      "source": [
        "sorted_df = medications_administered.sort_values(by=['Internalpatientid','Age at med administration'])\r\n",
        "sorted_df"
      ],
      "outputs": [
        {
          "output_type": "execute_result",
          "execution_count": 12,
          "data": {
            "text/plain": "          Internalpatientid  Age at med administration   \n24526724                  7                  57.119342  \\\n33032538                  7                  57.119342   \n24497324                  7                  57.119678   \n24508887                  7                  57.119678   \n24502618                  7                  57.119679   \n...                     ...                        ...   \n13844768             169065                  53.320066   \n28594408             169065                  53.320232   \n13822877             169065                  53.320412   \n13837827             169065                  53.320523   \n13830491             169065                  53.320523   \n\n         Administered medication atc 5 Administration status  \n24526724   insulin (human) fast-acting                  Held  \n33032538                      tramadol                 Given  \n24497324                      tramadol                 Given  \n24508887                     trazodone                 Given  \n24502618   insulin (human) fast-acting                  Held  \n...                                ...                   ...  \n13844768                 hydromorphone                 Given  \n28594408                 hydromorphone                 Given  \n13822877                     sevelamer                  Held  \n13837827           ipratropium bromide                  Held  \n13830491                    salbutamol                  Held  \n\n[34529703 rows x 4 columns]",
            "text/html": "<div>\n<style scoped>\n    .dataframe tbody tr th:only-of-type {\n        vertical-align: middle;\n    }\n\n    .dataframe tbody tr th {\n        vertical-align: top;\n    }\n\n    .dataframe thead th {\n        text-align: right;\n    }\n</style>\n<table border=\"1\" class=\"dataframe\">\n  <thead>\n    <tr style=\"text-align: right;\">\n      <th></th>\n      <th>Internalpatientid</th>\n      <th>Age at med administration</th>\n      <th>Administered medication atc 5</th>\n      <th>Administration status</th>\n    </tr>\n  </thead>\n  <tbody>\n    <tr>\n      <th>24526724</th>\n      <td>7</td>\n      <td>57.119342</td>\n      <td>insulin (human) fast-acting</td>\n      <td>Held</td>\n    </tr>\n    <tr>\n      <th>33032538</th>\n      <td>7</td>\n      <td>57.119342</td>\n      <td>tramadol</td>\n      <td>Given</td>\n    </tr>\n    <tr>\n      <th>24497324</th>\n      <td>7</td>\n      <td>57.119678</td>\n      <td>tramadol</td>\n      <td>Given</td>\n    </tr>\n    <tr>\n      <th>24508887</th>\n      <td>7</td>\n      <td>57.119678</td>\n      <td>trazodone</td>\n      <td>Given</td>\n    </tr>\n    <tr>\n      <th>24502618</th>\n      <td>7</td>\n      <td>57.119679</td>\n      <td>insulin (human) fast-acting</td>\n      <td>Held</td>\n    </tr>\n    <tr>\n      <th>...</th>\n      <td>...</td>\n      <td>...</td>\n      <td>...</td>\n      <td>...</td>\n    </tr>\n    <tr>\n      <th>13844768</th>\n      <td>169065</td>\n      <td>53.320066</td>\n      <td>hydromorphone</td>\n      <td>Given</td>\n    </tr>\n    <tr>\n      <th>28594408</th>\n      <td>169065</td>\n      <td>53.320232</td>\n      <td>hydromorphone</td>\n      <td>Given</td>\n    </tr>\n    <tr>\n      <th>13822877</th>\n      <td>169065</td>\n      <td>53.320412</td>\n      <td>sevelamer</td>\n      <td>Held</td>\n    </tr>\n    <tr>\n      <th>13837827</th>\n      <td>169065</td>\n      <td>53.320523</td>\n      <td>ipratropium bromide</td>\n      <td>Held</td>\n    </tr>\n    <tr>\n      <th>13830491</th>\n      <td>169065</td>\n      <td>53.320523</td>\n      <td>salbutamol</td>\n      <td>Held</td>\n    </tr>\n  </tbody>\n</table>\n<p>34529703 rows × 4 columns</p>\n</div>"
          },
          "metadata": {}
        }
      ],
      "execution_count": 12,
      "metadata": {
        "jupyter": {
          "source_hidden": false,
          "outputs_hidden": false
        },
        "nteract": {
          "transient": {
            "deleting": false
          }
        },
        "gather": {
          "logged": 1688722128215
        }
      }
    },
    {
      "cell_type": "code",
      "source": [
        "# Remove the rows where both columns contain \"Not Specified\"\r\n",
        "sorted_df = sorted_df.drop(sorted_df[(sorted_df['Administered medication atc 5'] == 'Not specified') & (sorted_df['Administration status'] == 'Not specified (no value)')].index)\r\n",
        "sorted_df"
      ],
      "outputs": [
        {
          "output_type": "execute_result",
          "execution_count": 13,
          "data": {
            "text/plain": "          Internalpatientid  Age at med administration   \n24526724                  7                  57.119342  \\\n33032538                  7                  57.119342   \n24497324                  7                  57.119678   \n24508887                  7                  57.119678   \n24502618                  7                  57.119679   \n...                     ...                        ...   \n13844768             169065                  53.320066   \n28594408             169065                  53.320232   \n13822877             169065                  53.320412   \n13837827             169065                  53.320523   \n13830491             169065                  53.320523   \n\n         Administered medication atc 5 Administration status  \n24526724   insulin (human) fast-acting                  Held  \n33032538                      tramadol                 Given  \n24497324                      tramadol                 Given  \n24508887                     trazodone                 Given  \n24502618   insulin (human) fast-acting                  Held  \n...                                ...                   ...  \n13844768                 hydromorphone                 Given  \n28594408                 hydromorphone                 Given  \n13822877                     sevelamer                  Held  \n13837827           ipratropium bromide                  Held  \n13830491                    salbutamol                  Held  \n\n[34528025 rows x 4 columns]",
            "text/html": "<div>\n<style scoped>\n    .dataframe tbody tr th:only-of-type {\n        vertical-align: middle;\n    }\n\n    .dataframe tbody tr th {\n        vertical-align: top;\n    }\n\n    .dataframe thead th {\n        text-align: right;\n    }\n</style>\n<table border=\"1\" class=\"dataframe\">\n  <thead>\n    <tr style=\"text-align: right;\">\n      <th></th>\n      <th>Internalpatientid</th>\n      <th>Age at med administration</th>\n      <th>Administered medication atc 5</th>\n      <th>Administration status</th>\n    </tr>\n  </thead>\n  <tbody>\n    <tr>\n      <th>24526724</th>\n      <td>7</td>\n      <td>57.119342</td>\n      <td>insulin (human) fast-acting</td>\n      <td>Held</td>\n    </tr>\n    <tr>\n      <th>33032538</th>\n      <td>7</td>\n      <td>57.119342</td>\n      <td>tramadol</td>\n      <td>Given</td>\n    </tr>\n    <tr>\n      <th>24497324</th>\n      <td>7</td>\n      <td>57.119678</td>\n      <td>tramadol</td>\n      <td>Given</td>\n    </tr>\n    <tr>\n      <th>24508887</th>\n      <td>7</td>\n      <td>57.119678</td>\n      <td>trazodone</td>\n      <td>Given</td>\n    </tr>\n    <tr>\n      <th>24502618</th>\n      <td>7</td>\n      <td>57.119679</td>\n      <td>insulin (human) fast-acting</td>\n      <td>Held</td>\n    </tr>\n    <tr>\n      <th>...</th>\n      <td>...</td>\n      <td>...</td>\n      <td>...</td>\n      <td>...</td>\n    </tr>\n    <tr>\n      <th>13844768</th>\n      <td>169065</td>\n      <td>53.320066</td>\n      <td>hydromorphone</td>\n      <td>Given</td>\n    </tr>\n    <tr>\n      <th>28594408</th>\n      <td>169065</td>\n      <td>53.320232</td>\n      <td>hydromorphone</td>\n      <td>Given</td>\n    </tr>\n    <tr>\n      <th>13822877</th>\n      <td>169065</td>\n      <td>53.320412</td>\n      <td>sevelamer</td>\n      <td>Held</td>\n    </tr>\n    <tr>\n      <th>13837827</th>\n      <td>169065</td>\n      <td>53.320523</td>\n      <td>ipratropium bromide</td>\n      <td>Held</td>\n    </tr>\n    <tr>\n      <th>13830491</th>\n      <td>169065</td>\n      <td>53.320523</td>\n      <td>salbutamol</td>\n      <td>Held</td>\n    </tr>\n  </tbody>\n</table>\n<p>34528025 rows × 4 columns</p>\n</div>"
          },
          "metadata": {}
        }
      ],
      "execution_count": 13,
      "metadata": {
        "jupyter": {
          "source_hidden": false,
          "outputs_hidden": false
        },
        "nteract": {
          "transient": {
            "deleting": false
          }
        },
        "gather": {
          "logged": 1688722148358
        }
      }
    },
    {
      "cell_type": "code",
      "source": [
        "sorted_df.isnull().sum()"
      ],
      "outputs": [
        {
          "output_type": "execute_result",
          "execution_count": 14,
          "data": {
            "text/plain": "Internalpatientid                0\nAge at med administration        0\nAdministered medication atc 5    0\nAdministration status            0\ndtype: int64"
          },
          "metadata": {}
        }
      ],
      "execution_count": 14,
      "metadata": {
        "jupyter": {
          "source_hidden": false,
          "outputs_hidden": false
        },
        "nteract": {
          "transient": {
            "deleting": false
          }
        },
        "gather": {
          "logged": 1688722162449
        }
      }
    },
    {
      "cell_type": "code",
      "source": [
        "sorted_df.info()"
      ],
      "outputs": [
        {
          "output_type": "stream",
          "name": "stdout",
          "text": "<class 'pandas.core.frame.DataFrame'>\nIndex: 34528025 entries, 24526724 to 13830491\nData columns (total 4 columns):\n #   Column                         Dtype  \n---  ------                         -----  \n 0   Internalpatientid              int64  \n 1   Age at med administration      float64\n 2   Administered medication atc 5  object \n 3   Administration status          object \ndtypes: float64(1), int64(1), object(2)\nmemory usage: 1.3+ GB\n"
        }
      ],
      "execution_count": 15,
      "metadata": {
        "jupyter": {
          "source_hidden": false,
          "outputs_hidden": false
        },
        "nteract": {
          "transient": {
            "deleting": false
          }
        },
        "gather": {
          "logged": 1688722165727
        }
      }
    },
    {
      "cell_type": "code",
      "source": [
        "# Format 'Age at measurement' values in the format 00.00\r\n",
        "sorted_df[\"Age at med administration\"] = sorted_df[\"Age at med administration\"].map(\"{:.5f}\".format)\r\n",
        "sorted_df"
      ],
      "outputs": [
        {
          "output_type": "execute_result",
          "execution_count": 16,
          "data": {
            "text/plain": "          Internalpatientid Age at med administration   \n24526724                  7                  57.11934  \\\n33032538                  7                  57.11934   \n24497324                  7                  57.11968   \n24508887                  7                  57.11968   \n24502618                  7                  57.11968   \n...                     ...                       ...   \n13844768             169065                  53.32007   \n28594408             169065                  53.32023   \n13822877             169065                  53.32041   \n13837827             169065                  53.32052   \n13830491             169065                  53.32052   \n\n         Administered medication atc 5 Administration status  \n24526724   insulin (human) fast-acting                  Held  \n33032538                      tramadol                 Given  \n24497324                      tramadol                 Given  \n24508887                     trazodone                 Given  \n24502618   insulin (human) fast-acting                  Held  \n...                                ...                   ...  \n13844768                 hydromorphone                 Given  \n28594408                 hydromorphone                 Given  \n13822877                     sevelamer                  Held  \n13837827           ipratropium bromide                  Held  \n13830491                    salbutamol                  Held  \n\n[34528025 rows x 4 columns]",
            "text/html": "<div>\n<style scoped>\n    .dataframe tbody tr th:only-of-type {\n        vertical-align: middle;\n    }\n\n    .dataframe tbody tr th {\n        vertical-align: top;\n    }\n\n    .dataframe thead th {\n        text-align: right;\n    }\n</style>\n<table border=\"1\" class=\"dataframe\">\n  <thead>\n    <tr style=\"text-align: right;\">\n      <th></th>\n      <th>Internalpatientid</th>\n      <th>Age at med administration</th>\n      <th>Administered medication atc 5</th>\n      <th>Administration status</th>\n    </tr>\n  </thead>\n  <tbody>\n    <tr>\n      <th>24526724</th>\n      <td>7</td>\n      <td>57.11934</td>\n      <td>insulin (human) fast-acting</td>\n      <td>Held</td>\n    </tr>\n    <tr>\n      <th>33032538</th>\n      <td>7</td>\n      <td>57.11934</td>\n      <td>tramadol</td>\n      <td>Given</td>\n    </tr>\n    <tr>\n      <th>24497324</th>\n      <td>7</td>\n      <td>57.11968</td>\n      <td>tramadol</td>\n      <td>Given</td>\n    </tr>\n    <tr>\n      <th>24508887</th>\n      <td>7</td>\n      <td>57.11968</td>\n      <td>trazodone</td>\n      <td>Given</td>\n    </tr>\n    <tr>\n      <th>24502618</th>\n      <td>7</td>\n      <td>57.11968</td>\n      <td>insulin (human) fast-acting</td>\n      <td>Held</td>\n    </tr>\n    <tr>\n      <th>...</th>\n      <td>...</td>\n      <td>...</td>\n      <td>...</td>\n      <td>...</td>\n    </tr>\n    <tr>\n      <th>13844768</th>\n      <td>169065</td>\n      <td>53.32007</td>\n      <td>hydromorphone</td>\n      <td>Given</td>\n    </tr>\n    <tr>\n      <th>28594408</th>\n      <td>169065</td>\n      <td>53.32023</td>\n      <td>hydromorphone</td>\n      <td>Given</td>\n    </tr>\n    <tr>\n      <th>13822877</th>\n      <td>169065</td>\n      <td>53.32041</td>\n      <td>sevelamer</td>\n      <td>Held</td>\n    </tr>\n    <tr>\n      <th>13837827</th>\n      <td>169065</td>\n      <td>53.32052</td>\n      <td>ipratropium bromide</td>\n      <td>Held</td>\n    </tr>\n    <tr>\n      <th>13830491</th>\n      <td>169065</td>\n      <td>53.32052</td>\n      <td>salbutamol</td>\n      <td>Held</td>\n    </tr>\n  </tbody>\n</table>\n<p>34528025 rows × 4 columns</p>\n</div>"
          },
          "metadata": {}
        }
      ],
      "execution_count": 16,
      "metadata": {
        "jupyter": {
          "source_hidden": false,
          "outputs_hidden": false
        },
        "nteract": {
          "transient": {
            "deleting": false
          }
        },
        "gather": {
          "logged": 1688722194912
        }
      }
    },
    {
      "cell_type": "code",
      "source": [
        "sorted_df.info()"
      ],
      "outputs": [
        {
          "output_type": "stream",
          "name": "stdout",
          "text": "<class 'pandas.core.frame.DataFrame'>\nIndex: 34528025 entries, 24526724 to 13830491\nData columns (total 4 columns):\n #   Column                         Dtype \n---  ------                         ----- \n 0   Internalpatientid              int64 \n 1   Age at med administration      object\n 2   Administered medication atc 5  object\n 3   Administration status          object\ndtypes: int64(1), object(3)\nmemory usage: 1.3+ GB\n"
        }
      ],
      "execution_count": 17,
      "metadata": {
        "jupyter": {
          "source_hidden": false,
          "outputs_hidden": false
        },
        "nteract": {
          "transient": {
            "deleting": false
          }
        },
        "gather": {
          "logged": 1688722202253
        }
      }
    },
    {
      "cell_type": "code",
      "source": [
        "# Find the maximum age for each internal patient id\r\n",
        "max_ages = sorted_df.groupby('Internalpatientid')['Age at med administration'].max().reset_index()\r\n",
        "\r\n",
        "# Merge with the original dataframe to get the rows with the highest age\r\n",
        "\r\n",
        "result_df = pd.merge(sorted_df, max_ages, on =['Internalpatientid','Age at med administration'], how = 'inner')\r\n",
        "\r\n",
        "result_df"
      ],
      "outputs": [
        {
          "output_type": "execute_result",
          "execution_count": 18,
          "data": {
            "text/plain": "       Internalpatientid Age at med administration   \n0                      7                  67.71110  \\\n1                      9                  51.86893   \n2                     12                  74.01642   \n3                     12                  74.01642   \n4                     12                  74.01642   \n...                  ...                       ...   \n50747             169059                  79.92992   \n50748             169059                  79.92992   \n50749             169059                  79.92992   \n50750             169065                  53.32052   \n50751             169065                  53.32052   \n\n                           Administered medication atc 5 Administration status  \n0                             insulin aspart fast-acting                  Held  \n1                              calcium acetate anhydrous                 Given  \n2                       ipratropium bromide ; salbutamol                 Given  \n3                                             furosemide                 Given  \n4                                             lisinopril                 Given  \n...                                                  ...                   ...  \n50747  ascorbic acid (vitamin c) ; vitamin b-complex,...                 Given  \n50748                                          diltiazem                 Given  \n50749                                         lisinopril                 Given  \n50750                                ipratropium bromide                  Held  \n50751                                         salbutamol                  Held  \n\n[50752 rows x 4 columns]",
            "text/html": "<div>\n<style scoped>\n    .dataframe tbody tr th:only-of-type {\n        vertical-align: middle;\n    }\n\n    .dataframe tbody tr th {\n        vertical-align: top;\n    }\n\n    .dataframe thead th {\n        text-align: right;\n    }\n</style>\n<table border=\"1\" class=\"dataframe\">\n  <thead>\n    <tr style=\"text-align: right;\">\n      <th></th>\n      <th>Internalpatientid</th>\n      <th>Age at med administration</th>\n      <th>Administered medication atc 5</th>\n      <th>Administration status</th>\n    </tr>\n  </thead>\n  <tbody>\n    <tr>\n      <th>0</th>\n      <td>7</td>\n      <td>67.71110</td>\n      <td>insulin aspart fast-acting</td>\n      <td>Held</td>\n    </tr>\n    <tr>\n      <th>1</th>\n      <td>9</td>\n      <td>51.86893</td>\n      <td>calcium acetate anhydrous</td>\n      <td>Given</td>\n    </tr>\n    <tr>\n      <th>2</th>\n      <td>12</td>\n      <td>74.01642</td>\n      <td>ipratropium bromide ; salbutamol</td>\n      <td>Given</td>\n    </tr>\n    <tr>\n      <th>3</th>\n      <td>12</td>\n      <td>74.01642</td>\n      <td>furosemide</td>\n      <td>Given</td>\n    </tr>\n    <tr>\n      <th>4</th>\n      <td>12</td>\n      <td>74.01642</td>\n      <td>lisinopril</td>\n      <td>Given</td>\n    </tr>\n    <tr>\n      <th>...</th>\n      <td>...</td>\n      <td>...</td>\n      <td>...</td>\n      <td>...</td>\n    </tr>\n    <tr>\n      <th>50747</th>\n      <td>169059</td>\n      <td>79.92992</td>\n      <td>ascorbic acid (vitamin c) ; vitamin b-complex,...</td>\n      <td>Given</td>\n    </tr>\n    <tr>\n      <th>50748</th>\n      <td>169059</td>\n      <td>79.92992</td>\n      <td>diltiazem</td>\n      <td>Given</td>\n    </tr>\n    <tr>\n      <th>50749</th>\n      <td>169059</td>\n      <td>79.92992</td>\n      <td>lisinopril</td>\n      <td>Given</td>\n    </tr>\n    <tr>\n      <th>50750</th>\n      <td>169065</td>\n      <td>53.32052</td>\n      <td>ipratropium bromide</td>\n      <td>Held</td>\n    </tr>\n    <tr>\n      <th>50751</th>\n      <td>169065</td>\n      <td>53.32052</td>\n      <td>salbutamol</td>\n      <td>Held</td>\n    </tr>\n  </tbody>\n</table>\n<p>50752 rows × 4 columns</p>\n</div>"
          },
          "metadata": {}
        }
      ],
      "execution_count": 18,
      "metadata": {
        "jupyter": {
          "source_hidden": false,
          "outputs_hidden": false
        },
        "nteract": {
          "transient": {
            "deleting": false
          }
        },
        "gather": {
          "logged": 1688722238749
        }
      }
    },
    {
      "cell_type": "code",
      "source": [
        "# Convert 'Age at measurement' column from object to float\r\n",
        "result_df[\"Age at med administration\"] = result_df[\"Age at med administration\"].astype(float)\r\n",
        "\r\n",
        " \r\n",
        "\r\n",
        "# Round off the values in the 'Age at measurement' column to two decimal places\r\n",
        "result_df[\"Age at med administration\"] = result_df[\"Age at med administration\"].round()"
      ],
      "outputs": [],
      "execution_count": 19,
      "metadata": {
        "jupyter": {
          "source_hidden": false,
          "outputs_hidden": false
        },
        "nteract": {
          "transient": {
            "deleting": false
          }
        },
        "gather": {
          "logged": 1688722244493
        }
      }
    },
    {
      "cell_type": "code",
      "source": [
        "result_df['Age at med administration'] = result_df['Age at med administration'].astype('int')"
      ],
      "outputs": [],
      "execution_count": 20,
      "metadata": {
        "jupyter": {
          "source_hidden": false,
          "outputs_hidden": false
        },
        "nteract": {
          "transient": {
            "deleting": false
          }
        },
        "gather": {
          "logged": 1688722248476
        }
      }
    },
    {
      "cell_type": "code",
      "source": [
        "# Now the value counts\r\n",
        "result_df['Internalpatientid'].value_counts()"
      ],
      "outputs": [
        {
          "output_type": "execute_result",
          "execution_count": 21,
          "data": {
            "text/plain": "Internalpatientid\n150099    23\n106479    22\n140645    19\n9434      18\n35412     17\n          ..\n41774      1\n104075     1\n41767      1\n41766      1\n7          1\nName: count, Length: 21995, dtype: int64"
          },
          "metadata": {}
        }
      ],
      "execution_count": 21,
      "metadata": {
        "jupyter": {
          "source_hidden": false,
          "outputs_hidden": false
        },
        "nteract": {
          "transient": {
            "deleting": false
          }
        },
        "gather": {
          "logged": 1688722261356
        }
      }
    },
    {
      "cell_type": "code",
      "source": [
        "result_df['medication_administered_medication_atc5'] = result_df['Age at med administration'].astype(str) + '_' + result_df['Administered medication atc 5']\r\n",
        "result_df"
      ],
      "outputs": [
        {
          "output_type": "execute_result",
          "execution_count": 22,
          "data": {
            "text/plain": "       Internalpatientid  Age at med administration   \n0                      7                         68  \\\n1                      9                         52   \n2                     12                         74   \n3                     12                         74   \n4                     12                         74   \n...                  ...                        ...   \n50747             169059                         80   \n50748             169059                         80   \n50749             169059                         80   \n50750             169065                         53   \n50751             169065                         53   \n\n                           Administered medication atc 5   \n0                             insulin aspart fast-acting  \\\n1                              calcium acetate anhydrous   \n2                       ipratropium bromide ; salbutamol   \n3                                             furosemide   \n4                                             lisinopril   \n...                                                  ...   \n50747  ascorbic acid (vitamin c) ; vitamin b-complex,...   \n50748                                          diltiazem   \n50749                                         lisinopril   \n50750                                ipratropium bromide   \n50751                                         salbutamol   \n\n      Administration status            medication_administered_medication_atc5  \n0                      Held                      68_insulin aspart fast-acting  \n1                     Given                       52_calcium acetate anhydrous  \n2                     Given                74_ipratropium bromide ; salbutamol  \n3                     Given                                      74_furosemide  \n4                     Given                                      74_lisinopril  \n...                     ...                                                ...  \n50747                 Given  80_ascorbic acid (vitamin c) ; vitamin b-compl...  \n50748                 Given                                       80_diltiazem  \n50749                 Given                                      80_lisinopril  \n50750                  Held                             53_ipratropium bromide  \n50751                  Held                                      53_salbutamol  \n\n[50752 rows x 5 columns]",
            "text/html": "<div>\n<style scoped>\n    .dataframe tbody tr th:only-of-type {\n        vertical-align: middle;\n    }\n\n    .dataframe tbody tr th {\n        vertical-align: top;\n    }\n\n    .dataframe thead th {\n        text-align: right;\n    }\n</style>\n<table border=\"1\" class=\"dataframe\">\n  <thead>\n    <tr style=\"text-align: right;\">\n      <th></th>\n      <th>Internalpatientid</th>\n      <th>Age at med administration</th>\n      <th>Administered medication atc 5</th>\n      <th>Administration status</th>\n      <th>medication_administered_medication_atc5</th>\n    </tr>\n  </thead>\n  <tbody>\n    <tr>\n      <th>0</th>\n      <td>7</td>\n      <td>68</td>\n      <td>insulin aspart fast-acting</td>\n      <td>Held</td>\n      <td>68_insulin aspart fast-acting</td>\n    </tr>\n    <tr>\n      <th>1</th>\n      <td>9</td>\n      <td>52</td>\n      <td>calcium acetate anhydrous</td>\n      <td>Given</td>\n      <td>52_calcium acetate anhydrous</td>\n    </tr>\n    <tr>\n      <th>2</th>\n      <td>12</td>\n      <td>74</td>\n      <td>ipratropium bromide ; salbutamol</td>\n      <td>Given</td>\n      <td>74_ipratropium bromide ; salbutamol</td>\n    </tr>\n    <tr>\n      <th>3</th>\n      <td>12</td>\n      <td>74</td>\n      <td>furosemide</td>\n      <td>Given</td>\n      <td>74_furosemide</td>\n    </tr>\n    <tr>\n      <th>4</th>\n      <td>12</td>\n      <td>74</td>\n      <td>lisinopril</td>\n      <td>Given</td>\n      <td>74_lisinopril</td>\n    </tr>\n    <tr>\n      <th>...</th>\n      <td>...</td>\n      <td>...</td>\n      <td>...</td>\n      <td>...</td>\n      <td>...</td>\n    </tr>\n    <tr>\n      <th>50747</th>\n      <td>169059</td>\n      <td>80</td>\n      <td>ascorbic acid (vitamin c) ; vitamin b-complex,...</td>\n      <td>Given</td>\n      <td>80_ascorbic acid (vitamin c) ; vitamin b-compl...</td>\n    </tr>\n    <tr>\n      <th>50748</th>\n      <td>169059</td>\n      <td>80</td>\n      <td>diltiazem</td>\n      <td>Given</td>\n      <td>80_diltiazem</td>\n    </tr>\n    <tr>\n      <th>50749</th>\n      <td>169059</td>\n      <td>80</td>\n      <td>lisinopril</td>\n      <td>Given</td>\n      <td>80_lisinopril</td>\n    </tr>\n    <tr>\n      <th>50750</th>\n      <td>169065</td>\n      <td>53</td>\n      <td>ipratropium bromide</td>\n      <td>Held</td>\n      <td>53_ipratropium bromide</td>\n    </tr>\n    <tr>\n      <th>50751</th>\n      <td>169065</td>\n      <td>53</td>\n      <td>salbutamol</td>\n      <td>Held</td>\n      <td>53_salbutamol</td>\n    </tr>\n  </tbody>\n</table>\n<p>50752 rows × 5 columns</p>\n</div>"
          },
          "metadata": {}
        }
      ],
      "execution_count": 22,
      "metadata": {
        "jupyter": {
          "source_hidden": false,
          "outputs_hidden": false
        },
        "nteract": {
          "transient": {
            "deleting": false
          }
        },
        "gather": {
          "logged": 1688722277575
        }
      }
    },
    {
      "cell_type": "code",
      "source": [
        "result_df['medication_administered_status'] = result_df['Age at med administration'].astype(str) + '_' + result_df['Administration status']\r\n",
        "result_df"
      ],
      "outputs": [
        {
          "output_type": "execute_result",
          "execution_count": 23,
          "data": {
            "text/plain": "       Internalpatientid  Age at med administration   \n0                      7                         68  \\\n1                      9                         52   \n2                     12                         74   \n3                     12                         74   \n4                     12                         74   \n...                  ...                        ...   \n50747             169059                         80   \n50748             169059                         80   \n50749             169059                         80   \n50750             169065                         53   \n50751             169065                         53   \n\n                           Administered medication atc 5   \n0                             insulin aspart fast-acting  \\\n1                              calcium acetate anhydrous   \n2                       ipratropium bromide ; salbutamol   \n3                                             furosemide   \n4                                             lisinopril   \n...                                                  ...   \n50747  ascorbic acid (vitamin c) ; vitamin b-complex,...   \n50748                                          diltiazem   \n50749                                         lisinopril   \n50750                                ipratropium bromide   \n50751                                         salbutamol   \n\n      Administration status   \n0                      Held  \\\n1                     Given   \n2                     Given   \n3                     Given   \n4                     Given   \n...                     ...   \n50747                 Given   \n50748                 Given   \n50749                 Given   \n50750                  Held   \n50751                  Held   \n\n                 medication_administered_medication_atc5   \n0                          68_insulin aspart fast-acting  \\\n1                           52_calcium acetate anhydrous   \n2                    74_ipratropium bromide ; salbutamol   \n3                                          74_furosemide   \n4                                          74_lisinopril   \n...                                                  ...   \n50747  80_ascorbic acid (vitamin c) ; vitamin b-compl...   \n50748                                       80_diltiazem   \n50749                                      80_lisinopril   \n50750                             53_ipratropium bromide   \n50751                                      53_salbutamol   \n\n      medication_administered_status  \n0                            68_Held  \n1                           52_Given  \n2                           74_Given  \n3                           74_Given  \n4                           74_Given  \n...                              ...  \n50747                       80_Given  \n50748                       80_Given  \n50749                       80_Given  \n50750                        53_Held  \n50751                        53_Held  \n\n[50752 rows x 6 columns]",
            "text/html": "<div>\n<style scoped>\n    .dataframe tbody tr th:only-of-type {\n        vertical-align: middle;\n    }\n\n    .dataframe tbody tr th {\n        vertical-align: top;\n    }\n\n    .dataframe thead th {\n        text-align: right;\n    }\n</style>\n<table border=\"1\" class=\"dataframe\">\n  <thead>\n    <tr style=\"text-align: right;\">\n      <th></th>\n      <th>Internalpatientid</th>\n      <th>Age at med administration</th>\n      <th>Administered medication atc 5</th>\n      <th>Administration status</th>\n      <th>medication_administered_medication_atc5</th>\n      <th>medication_administered_status</th>\n    </tr>\n  </thead>\n  <tbody>\n    <tr>\n      <th>0</th>\n      <td>7</td>\n      <td>68</td>\n      <td>insulin aspart fast-acting</td>\n      <td>Held</td>\n      <td>68_insulin aspart fast-acting</td>\n      <td>68_Held</td>\n    </tr>\n    <tr>\n      <th>1</th>\n      <td>9</td>\n      <td>52</td>\n      <td>calcium acetate anhydrous</td>\n      <td>Given</td>\n      <td>52_calcium acetate anhydrous</td>\n      <td>52_Given</td>\n    </tr>\n    <tr>\n      <th>2</th>\n      <td>12</td>\n      <td>74</td>\n      <td>ipratropium bromide ; salbutamol</td>\n      <td>Given</td>\n      <td>74_ipratropium bromide ; salbutamol</td>\n      <td>74_Given</td>\n    </tr>\n    <tr>\n      <th>3</th>\n      <td>12</td>\n      <td>74</td>\n      <td>furosemide</td>\n      <td>Given</td>\n      <td>74_furosemide</td>\n      <td>74_Given</td>\n    </tr>\n    <tr>\n      <th>4</th>\n      <td>12</td>\n      <td>74</td>\n      <td>lisinopril</td>\n      <td>Given</td>\n      <td>74_lisinopril</td>\n      <td>74_Given</td>\n    </tr>\n    <tr>\n      <th>...</th>\n      <td>...</td>\n      <td>...</td>\n      <td>...</td>\n      <td>...</td>\n      <td>...</td>\n      <td>...</td>\n    </tr>\n    <tr>\n      <th>50747</th>\n      <td>169059</td>\n      <td>80</td>\n      <td>ascorbic acid (vitamin c) ; vitamin b-complex,...</td>\n      <td>Given</td>\n      <td>80_ascorbic acid (vitamin c) ; vitamin b-compl...</td>\n      <td>80_Given</td>\n    </tr>\n    <tr>\n      <th>50748</th>\n      <td>169059</td>\n      <td>80</td>\n      <td>diltiazem</td>\n      <td>Given</td>\n      <td>80_diltiazem</td>\n      <td>80_Given</td>\n    </tr>\n    <tr>\n      <th>50749</th>\n      <td>169059</td>\n      <td>80</td>\n      <td>lisinopril</td>\n      <td>Given</td>\n      <td>80_lisinopril</td>\n      <td>80_Given</td>\n    </tr>\n    <tr>\n      <th>50750</th>\n      <td>169065</td>\n      <td>53</td>\n      <td>ipratropium bromide</td>\n      <td>Held</td>\n      <td>53_ipratropium bromide</td>\n      <td>53_Held</td>\n    </tr>\n    <tr>\n      <th>50751</th>\n      <td>169065</td>\n      <td>53</td>\n      <td>salbutamol</td>\n      <td>Held</td>\n      <td>53_salbutamol</td>\n      <td>53_Held</td>\n    </tr>\n  </tbody>\n</table>\n<p>50752 rows × 6 columns</p>\n</div>"
          },
          "metadata": {}
        }
      ],
      "execution_count": 23,
      "metadata": {
        "jupyter": {
          "source_hidden": false,
          "outputs_hidden": false
        },
        "nteract": {
          "transient": {
            "deleting": false
          }
        },
        "gather": {
          "logged": 1688722292684
        }
      }
    },
    {
      "cell_type": "code",
      "source": [
        "result_df.drop(['Age at med administration','Administered medication atc 5','Administration status'], axis = 1,inplace = True)"
      ],
      "outputs": [],
      "execution_count": 24,
      "metadata": {
        "jupyter": {
          "source_hidden": false,
          "outputs_hidden": false
        },
        "nteract": {
          "transient": {
            "deleting": false
          }
        },
        "gather": {
          "logged": 1688722312707
        }
      }
    },
    {
      "cell_type": "code",
      "source": [
        "result_df['medication_administered_medication_atc5'] = result_df['medication_administered_medication_atc5'].astype(str)\r\n",
        "result_df['medication_administered_status'] = result_df['medication_administered_status'].astype(str)"
      ],
      "outputs": [],
      "execution_count": 25,
      "metadata": {
        "jupyter": {
          "source_hidden": false,
          "outputs_hidden": false
        },
        "nteract": {
          "transient": {
            "deleting": false
          }
        },
        "gather": {
          "logged": 1688722339741
        }
      }
    },
    {
      "cell_type": "code",
      "source": [
        "df_medication_administered = result_df.groupby('Internalpatientid').apply(lambda x: pd.Series({\r\n",
        "    'medication_administered_medication_atc5' : ', '.join(x['medication_administered_medication_atc5']),\r\n",
        "    'medication_administered_status' : ', '.join(x['medication_administered_status'])\r\n",
        "    \r\n",
        "\r\n",
        "}))\r\n",
        "\r\n",
        "# Reset the index of the dataframe\r\n",
        "df_medication_administered = df_medication_administered.reset_index()\r\n",
        "\r\n",
        "# print the grouped dataframe\r\n",
        "print(df_medication_administered)"
      ],
      "outputs": [
        {
          "output_type": "stream",
          "name": "stdout",
          "text": "       Internalpatientid            medication_administered_medication_atc5   \n0                      7                      68_insulin aspart fast-acting  \\\n1                      9                       52_calcium acetate anhydrous   \n2                     12  74_ipratropium bromide ; salbutamol, 74_furose...   \n3                     17                            82_levothyroxine sodium   \n4                     22      61_sevelamer, 61_gabapentin, 61_Not specified   \n...                  ...                                                ...   \n21990             168995           75_barium sulfate with suspending agents   \n21991             169011       69_hydrocodone ; paracetamol (acetaminophen)   \n21992             169037                                         85_heparin   \n21993             169059  80_calcium, 80_docusate, 80_ascorbic acid (vit...   \n21994             169065              53_ipratropium bromide, 53_salbutamol   \n\n                         medication_administered_status  \n0                                               68_Held  \n1                                              52_Given  \n2                74_Given, 74_Given, 74_Given, 74_Given  \n3                                              82_Given  \n4                    61_Refused, 61_Refused, 61_Refused  \n...                                                 ...  \n21990                       75_Not specified (no value)  \n21991                                          69_Given  \n21992                                          85_Given  \n21993  80_Given, 80_Given, 80_Given, 80_Given, 80_Given  \n21994                                  53_Held, 53_Held  \n\n[21995 rows x 3 columns]\n"
        }
      ],
      "execution_count": 26,
      "metadata": {
        "jupyter": {
          "source_hidden": false,
          "outputs_hidden": false
        },
        "nteract": {
          "transient": {
            "deleting": false
          }
        },
        "gather": {
          "logged": 1688722361651
        }
      }
    },
    {
      "cell_type": "markdown",
      "source": [
        "### **Final Data Frame**"
      ],
      "metadata": {
        "nteract": {
          "transient": {
            "deleting": false
          }
        }
      }
    },
    {
      "cell_type": "code",
      "source": [
        "df_medication_administered"
      ],
      "outputs": [
        {
          "output_type": "execute_result",
          "execution_count": 27,
          "data": {
            "text/plain": "       Internalpatientid            medication_administered_medication_atc5   \n0                      7                      68_insulin aspart fast-acting  \\\n1                      9                       52_calcium acetate anhydrous   \n2                     12  74_ipratropium bromide ; salbutamol, 74_furose...   \n3                     17                            82_levothyroxine sodium   \n4                     22      61_sevelamer, 61_gabapentin, 61_Not specified   \n...                  ...                                                ...   \n21990             168995           75_barium sulfate with suspending agents   \n21991             169011       69_hydrocodone ; paracetamol (acetaminophen)   \n21992             169037                                         85_heparin   \n21993             169059  80_calcium, 80_docusate, 80_ascorbic acid (vit...   \n21994             169065              53_ipratropium bromide, 53_salbutamol   \n\n                         medication_administered_status  \n0                                               68_Held  \n1                                              52_Given  \n2                74_Given, 74_Given, 74_Given, 74_Given  \n3                                              82_Given  \n4                    61_Refused, 61_Refused, 61_Refused  \n...                                                 ...  \n21990                       75_Not specified (no value)  \n21991                                          69_Given  \n21992                                          85_Given  \n21993  80_Given, 80_Given, 80_Given, 80_Given, 80_Given  \n21994                                  53_Held, 53_Held  \n\n[21995 rows x 3 columns]",
            "text/html": "<div>\n<style scoped>\n    .dataframe tbody tr th:only-of-type {\n        vertical-align: middle;\n    }\n\n    .dataframe tbody tr th {\n        vertical-align: top;\n    }\n\n    .dataframe thead th {\n        text-align: right;\n    }\n</style>\n<table border=\"1\" class=\"dataframe\">\n  <thead>\n    <tr style=\"text-align: right;\">\n      <th></th>\n      <th>Internalpatientid</th>\n      <th>medication_administered_medication_atc5</th>\n      <th>medication_administered_status</th>\n    </tr>\n  </thead>\n  <tbody>\n    <tr>\n      <th>0</th>\n      <td>7</td>\n      <td>68_insulin aspart fast-acting</td>\n      <td>68_Held</td>\n    </tr>\n    <tr>\n      <th>1</th>\n      <td>9</td>\n      <td>52_calcium acetate anhydrous</td>\n      <td>52_Given</td>\n    </tr>\n    <tr>\n      <th>2</th>\n      <td>12</td>\n      <td>74_ipratropium bromide ; salbutamol, 74_furose...</td>\n      <td>74_Given, 74_Given, 74_Given, 74_Given</td>\n    </tr>\n    <tr>\n      <th>3</th>\n      <td>17</td>\n      <td>82_levothyroxine sodium</td>\n      <td>82_Given</td>\n    </tr>\n    <tr>\n      <th>4</th>\n      <td>22</td>\n      <td>61_sevelamer, 61_gabapentin, 61_Not specified</td>\n      <td>61_Refused, 61_Refused, 61_Refused</td>\n    </tr>\n    <tr>\n      <th>...</th>\n      <td>...</td>\n      <td>...</td>\n      <td>...</td>\n    </tr>\n    <tr>\n      <th>21990</th>\n      <td>168995</td>\n      <td>75_barium sulfate with suspending agents</td>\n      <td>75_Not specified (no value)</td>\n    </tr>\n    <tr>\n      <th>21991</th>\n      <td>169011</td>\n      <td>69_hydrocodone ; paracetamol (acetaminophen)</td>\n      <td>69_Given</td>\n    </tr>\n    <tr>\n      <th>21992</th>\n      <td>169037</td>\n      <td>85_heparin</td>\n      <td>85_Given</td>\n    </tr>\n    <tr>\n      <th>21993</th>\n      <td>169059</td>\n      <td>80_calcium, 80_docusate, 80_ascorbic acid (vit...</td>\n      <td>80_Given, 80_Given, 80_Given, 80_Given, 80_Given</td>\n    </tr>\n    <tr>\n      <th>21994</th>\n      <td>169065</td>\n      <td>53_ipratropium bromide, 53_salbutamol</td>\n      <td>53_Held, 53_Held</td>\n    </tr>\n  </tbody>\n</table>\n<p>21995 rows × 3 columns</p>\n</div>"
          },
          "metadata": {}
        }
      ],
      "execution_count": 27,
      "metadata": {
        "jupyter": {
          "source_hidden": false,
          "outputs_hidden": false
        },
        "nteract": {
          "transient": {
            "deleting": false
          }
        },
        "gather": {
          "logged": 1688722389891
        }
      }
    },
    {
      "cell_type": "code",
      "source": [
        "df_medication_administered['Internalpatientid'].value_counts()"
      ],
      "outputs": [
        {
          "output_type": "execute_result",
          "execution_count": 29,
          "data": {
            "text/plain": "Internalpatientid\n7         1\n112869    1\n112939    1\n112937    1\n112919    1\n         ..\n56420     1\n56419     1\n56414     1\n56408     1\n169065    1\nName: count, Length: 21995, dtype: int64"
          },
          "metadata": {}
        }
      ],
      "execution_count": 29,
      "metadata": {
        "jupyter": {
          "source_hidden": false,
          "outputs_hidden": false
        },
        "nteract": {
          "transient": {
            "deleting": false
          }
        },
        "gather": {
          "logged": 1688722461673
        }
      }
    },
    {
      "cell_type": "code",
      "source": [
        "# saving as the csv file in the appropriate directory\r\n",
        "df_medication_administered.to_csv('/mnt/batch/tasks/shared/LS_root/mounts/clusters/team3-nishagpu2/code/Users/900379/Output_files_test/df_medication_administered_test.csv')"
      ],
      "outputs": [],
      "execution_count": 30,
      "metadata": {
        "jupyter": {
          "source_hidden": false,
          "outputs_hidden": false
        },
        "nteract": {
          "transient": {
            "deleting": false
          }
        },
        "gather": {
          "logged": 1688722467664
        }
      }
    }
  ],
  "metadata": {
    "kernelspec": {
      "name": "python310-sdkv2",
      "language": "python",
      "display_name": "Python 3.10 - SDK v2"
    },
    "language_info": {
      "name": "python",
      "version": "3.10.10",
      "mimetype": "text/x-python",
      "codemirror_mode": {
        "name": "ipython",
        "version": 3
      },
      "pygments_lexer": "ipython3",
      "nbconvert_exporter": "python",
      "file_extension": ".py"
    },
    "microsoft": {
      "ms_spell_check": {
        "ms_spell_check_language": "en"
      },
      "host": {
        "AzureML": {
          "notebookHasBeenCompleted": true
        }
      }
    },
    "kernel_info": {
      "name": "python310-sdkv2"
    },
    "nteract": {
      "version": "nteract-front-end@1.0.0"
    }
  },
  "nbformat": 4,
  "nbformat_minor": 2
}