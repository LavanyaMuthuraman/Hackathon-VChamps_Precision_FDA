{
 "cells": [
  {
   "cell_type": "markdown",
   "id": "b2becc3a",
   "metadata": {},
   "source": [
    "----\n",
    "## **Genarating Readmission Test Target file from Inpatient Admission file**\n",
    "----"
   ]
  },
  {
   "cell_type": "markdown",
   "id": "db992290",
   "metadata": {},
   "source": [
    "### Azure notebook Setup"
   ]
  },
  {
   "cell_type": "code",
   "execution_count": 1,
   "id": "caed2829",
   "metadata": {},
   "outputs": [],
   "source": [
    "#A class attribute that provides access to the TabularDatasetFactory methods for creating new TabularDataset objects. \n",
    "#Usage: Dataset.Tabular.from_delimited_files().\n",
    "from azureml.core import Workspace, Dataset\n",
    "\n",
    "subscription_id = 'bcfe0c62-8ebe-4df0-a46d-1efcf8739a5b' #check the launch studio there will get this id\n",
    "resource_group = 'VChamp-Team3' # resource group name\n",
    "workspace_name = 'vchamp-team3' # worksapce name\n",
    "\n",
    "# storage account : Algorithmia, Resource group: VChamp-Team3 and workspace: vchamp-team3.\n",
    "#Constructor\n",
    "workspace = Workspace(subscription_id, resource_group, workspace_name)"
   ]
  },
  {
   "cell_type": "code",
   "execution_count": 2,
   "id": "733e9f92",
   "metadata": {},
   "outputs": [],
   "source": [
    "#['data_team3_synthetic_train']\n",
    "datastore = workspace.datastores['data_team3_synthetic_test']"
   ]
  },
  {
   "cell_type": "code",
   "execution_count": 3,
   "id": "3ffa0799",
   "metadata": {},
   "outputs": [],
   "source": [
    "#from_delimited_files (Create a TabularDataset to represent tabular data in delimited files (e.g. CSV and TSV).\n",
    "\n",
    "dataset = Dataset.Tabular.from_delimited_files(path = [(datastore, 'inpatient_admissions_test.csv')])\n",
    "\n",
    "# preview the first 3 rows of the dataset\n",
    "# dataset.to_pandas_dataframe()"
   ]
  },
  {
   "cell_type": "code",
   "execution_count": 4,
   "id": "431bbd11",
   "metadata": {},
   "outputs": [],
   "source": [
    "#Converting the dataset into data frame(default as dataset in Azure, thus we must convert the needed formate)\n",
    "inpatient_admissions_test_data= dataset.to_pandas_dataframe()"
   ]
  },
  {
   "cell_type": "markdown",
   "id": "003edc73-0d5a-464e-a355-0ffdcce3d30e",
   "metadata": {},
   "source": [
    "----"
   ]
  },
  {
   "cell_type": "markdown",
   "id": "fe7ea5ca",
   "metadata": {},
   "source": [
    "### **Importing Libraries**"
   ]
  },
  {
   "cell_type": "code",
   "execution_count": 5,
   "id": "1eaf7fac",
   "metadata": {},
   "outputs": [],
   "source": [
    "# Importing essential libraries\n",
    "import pandas as pd                 # Library for data manipulation and analysis\n",
    "import numpy as np                  # Library for mathematical operations"
   ]
  },
  {
   "cell_type": "markdown",
   "id": "3a9cb6be",
   "metadata": {},
   "source": [
    "### **Data Exploration**"
   ]
  },
  {
   "cell_type": "code",
   "execution_count": 6,
   "id": "d7b0c55f",
   "metadata": {},
   "outputs": [],
   "source": [
    "# changing variable name for dataframe\n",
    "df = inpatient_admissions_test_data"
   ]
  },
  {
   "cell_type": "code",
   "execution_count": 7,
   "id": "5baf1d0c",
   "metadata": {},
   "outputs": [
    {
     "data": {
      "text/html": [
       "<div>\n",
       "<style scoped>\n",
       "    .dataframe tbody tr th:only-of-type {\n",
       "        vertical-align: middle;\n",
       "    }\n",
       "\n",
       "    .dataframe tbody tr th {\n",
       "        vertical-align: top;\n",
       "    }\n",
       "\n",
       "    .dataframe thead th {\n",
       "        text-align: right;\n",
       "    }\n",
       "</style>\n",
       "<table border=\"1\" class=\"dataframe\">\n",
       "  <thead>\n",
       "    <tr style=\"text-align: right;\">\n",
       "      <th></th>\n",
       "      <th>Column1</th>\n",
       "      <th>Internalpatientid</th>\n",
       "      <th>Age at admission</th>\n",
       "      <th>Admission date</th>\n",
       "      <th>Discharge date</th>\n",
       "      <th>Admitting unit service</th>\n",
       "      <th>Discharging unit service</th>\n",
       "      <th>Admitting specialty</th>\n",
       "      <th>Discharging specialty</th>\n",
       "      <th>First listed discharge diagnosis icd10 subcategory</th>\n",
       "      <th>Second listed discharge diagnosis icd10 subcategory</th>\n",
       "      <th>Discharge disposition</th>\n",
       "      <th>Died during admission</th>\n",
       "      <th>Outpatientreferralflag</th>\n",
       "      <th>Serviceconnectedflag</th>\n",
       "      <th>Agentorangeflag</th>\n",
       "      <th>State</th>\n",
       "    </tr>\n",
       "  </thead>\n",
       "  <tbody>\n",
       "    <tr>\n",
       "      <th>0</th>\n",
       "      <td>14</td>\n",
       "      <td>100041</td>\n",
       "      <td>83.927801</td>\n",
       "      <td>2009-03-09 14:40:14</td>\n",
       "      <td>2009-03-20 14:25:08</td>\n",
       "      <td>MEDICINE</td>\n",
       "      <td>SURGERY</td>\n",
       "      <td>HALFWAY HOUSE</td>\n",
       "      <td>Not specified (no value)</td>\n",
       "      <td>Atherosclerotic heart disease of native corona...</td>\n",
       "      <td>Unstable angina</td>\n",
       "      <td>Regular</td>\n",
       "      <td>False</td>\n",
       "      <td>True</td>\n",
       "      <td>None</td>\n",
       "      <td>None</td>\n",
       "      <td>Minnesota</td>\n",
       "    </tr>\n",
       "    <tr>\n",
       "      <th>1</th>\n",
       "      <td>18</td>\n",
       "      <td>10005</td>\n",
       "      <td>49.697229</td>\n",
       "      <td>2001-04-30 08:05:33</td>\n",
       "      <td>2001-05-01 10:13:18</td>\n",
       "      <td>MEDICINE</td>\n",
       "      <td>MEDICINE</td>\n",
       "      <td>REHABILITATION MEDICINE</td>\n",
       "      <td>TELEMETRY</td>\n",
       "      <td>Other chest pain</td>\n",
       "      <td>Pure hypercholesterolemia</td>\n",
       "      <td>Regular</td>\n",
       "      <td>False</td>\n",
       "      <td>True</td>\n",
       "      <td>False</td>\n",
       "      <td>None</td>\n",
       "      <td>Michigan</td>\n",
       "    </tr>\n",
       "    <tr>\n",
       "      <th>2</th>\n",
       "      <td>33</td>\n",
       "      <td>100106</td>\n",
       "      <td>65.239819</td>\n",
       "      <td>2015-04-13 03:41:17</td>\n",
       "      <td>2015-04-14 19:59:28</td>\n",
       "      <td>MEDICINE</td>\n",
       "      <td>MEDICINE</td>\n",
       "      <td>DOD BEDS IN VA FACILITY</td>\n",
       "      <td>GENERAL(ACUTE MEDICINE)</td>\n",
       "      <td>Anemia, unspecified</td>\n",
       "      <td>Unspecified protein-calorie malnutrition</td>\n",
       "      <td>Regular</td>\n",
       "      <td>False</td>\n",
       "      <td>True</td>\n",
       "      <td>None</td>\n",
       "      <td>False</td>\n",
       "      <td>Ohio</td>\n",
       "    </tr>\n",
       "    <tr>\n",
       "      <th>3</th>\n",
       "      <td>34</td>\n",
       "      <td>100123</td>\n",
       "      <td>65.905689</td>\n",
       "      <td>2006-09-28 12:42:05</td>\n",
       "      <td>2006-10-30 19:14:57</td>\n",
       "      <td>NHCU</td>\n",
       "      <td>NHCU</td>\n",
       "      <td>NH LONG-STAY CONTINUING CARE</td>\n",
       "      <td>NH SHORT STAY REHABILITATION</td>\n",
       "      <td>Encounter for other specified aftercare</td>\n",
       "      <td>Unspecified atrial fibrillation and atrial flu...</td>\n",
       "      <td>Regular</td>\n",
       "      <td>False</td>\n",
       "      <td>True</td>\n",
       "      <td>False</td>\n",
       "      <td>False</td>\n",
       "      <td>Oklahoma</td>\n",
       "    </tr>\n",
       "    <tr>\n",
       "      <th>4</th>\n",
       "      <td>35</td>\n",
       "      <td>100126</td>\n",
       "      <td>71.818960</td>\n",
       "      <td>2020-11-23 19:55:17</td>\n",
       "      <td>2020-11-25 21:16:25</td>\n",
       "      <td>MEDICINE</td>\n",
       "      <td>MEDICINE</td>\n",
       "      <td>HALFWAY HOUSE</td>\n",
       "      <td>GENERAL(ACUTE MEDICINE)</td>\n",
       "      <td>Burkitt lymphoma</td>\n",
       "      <td>Secondary malignant neoplasm of lung</td>\n",
       "      <td>Regular</td>\n",
       "      <td>False</td>\n",
       "      <td>True</td>\n",
       "      <td>None</td>\n",
       "      <td>False</td>\n",
       "      <td>California</td>\n",
       "    </tr>\n",
       "  </tbody>\n",
       "</table>\n",
       "</div>"
      ],
      "text/plain": [
       "   Column1  Internalpatientid  Age at admission      Admission date  \\\n",
       "0       14             100041         83.927801 2009-03-09 14:40:14   \n",
       "1       18              10005         49.697229 2001-04-30 08:05:33   \n",
       "2       33             100106         65.239819 2015-04-13 03:41:17   \n",
       "3       34             100123         65.905689 2006-09-28 12:42:05   \n",
       "4       35             100126         71.818960 2020-11-23 19:55:17   \n",
       "\n",
       "       Discharge date Admitting unit service Discharging unit service  \\\n",
       "0 2009-03-20 14:25:08               MEDICINE                  SURGERY   \n",
       "1 2001-05-01 10:13:18               MEDICINE                 MEDICINE   \n",
       "2 2015-04-14 19:59:28               MEDICINE                 MEDICINE   \n",
       "3 2006-10-30 19:14:57                   NHCU                     NHCU   \n",
       "4 2020-11-25 21:16:25               MEDICINE                 MEDICINE   \n",
       "\n",
       "            Admitting specialty         Discharging specialty  \\\n",
       "0                 HALFWAY HOUSE      Not specified (no value)   \n",
       "1       REHABILITATION MEDICINE                     TELEMETRY   \n",
       "2       DOD BEDS IN VA FACILITY       GENERAL(ACUTE MEDICINE)   \n",
       "3  NH LONG-STAY CONTINUING CARE  NH SHORT STAY REHABILITATION   \n",
       "4                 HALFWAY HOUSE       GENERAL(ACUTE MEDICINE)   \n",
       "\n",
       "  First listed discharge diagnosis icd10 subcategory  \\\n",
       "0  Atherosclerotic heart disease of native corona...   \n",
       "1                                   Other chest pain   \n",
       "2                                Anemia, unspecified   \n",
       "3            Encounter for other specified aftercare   \n",
       "4                                   Burkitt lymphoma   \n",
       "\n",
       "  Second listed discharge diagnosis icd10 subcategory Discharge disposition  \\\n",
       "0                                    Unstable angina                Regular   \n",
       "1                          Pure hypercholesterolemia                Regular   \n",
       "2           Unspecified protein-calorie malnutrition                Regular   \n",
       "3  Unspecified atrial fibrillation and atrial flu...                Regular   \n",
       "4               Secondary malignant neoplasm of lung                Regular   \n",
       "\n",
       "   Died during admission Outpatientreferralflag Serviceconnectedflag  \\\n",
       "0                  False                   True                 None   \n",
       "1                  False                   True                False   \n",
       "2                  False                   True                 None   \n",
       "3                  False                   True                False   \n",
       "4                  False                   True                 None   \n",
       "\n",
       "  Agentorangeflag       State  \n",
       "0            None   Minnesota  \n",
       "1            None    Michigan  \n",
       "2           False        Ohio  \n",
       "3           False    Oklahoma  \n",
       "4           False  California  "
      ]
     },
     "execution_count": 7,
     "metadata": {},
     "output_type": "execute_result"
    }
   ],
   "source": [
    "# Display the first few rows of a DataFrame\n",
    "df.head()"
   ]
  },
  {
   "cell_type": "code",
   "execution_count": 8,
   "id": "071e61eb",
   "metadata": {},
   "outputs": [
    {
     "name": "stdout",
     "output_type": "stream",
     "text": [
      "Number of rows: 139086\n",
      "Number of columns: 17\n"
     ]
    }
   ],
   "source": [
    "# Shape of the dataset\n",
    "df.shape\n",
    "\n",
    "num_rows = df.shape[0]  # Number of rows\n",
    "num_cols = df.shape[1]  # Number of columns\n",
    "\n",
    "print(\"Number of rows:\", num_rows)\n",
    "print(\"Number of columns:\", num_cols)"
   ]
  },
  {
   "cell_type": "code",
   "execution_count": 9,
   "id": "f54aeb6a",
   "metadata": {},
   "outputs": [
    {
     "name": "stdout",
     "output_type": "stream",
     "text": [
      "Number of Unique Internalpatientid\n"
     ]
    },
    {
     "data": {
      "text/plain": [
       "22255"
      ]
     },
     "execution_count": 9,
     "metadata": {},
     "output_type": "execute_result"
    }
   ],
   "source": [
    "# Get the number of unique values in the 'Internalpatientid' column\n",
    "print(\"Number of Unique Internalpatientid\")\n",
    "df['Internalpatientid'].nunique()"
   ]
  },
  {
   "cell_type": "code",
   "execution_count": 10,
   "id": "c1ab555e",
   "metadata": {},
   "outputs": [],
   "source": [
    "# Dropping unnammed column\n",
    "df = df.drop(df.columns[0], axis=1)"
   ]
  },
  {
   "cell_type": "code",
   "execution_count": 11,
   "id": "2a1115a8",
   "metadata": {},
   "outputs": [
    {
     "name": "stdout",
     "output_type": "stream",
     "text": [
      "<class 'pandas.core.frame.DataFrame'>\n",
      "RangeIndex: 139086 entries, 0 to 139085\n",
      "Data columns (total 16 columns):\n",
      " #   Column                                               Non-Null Count   Dtype         \n",
      "---  ------                                               --------------   -----         \n",
      " 0   Internalpatientid                                    139086 non-null  int64         \n",
      " 1   Age at admission                                     139086 non-null  float64       \n",
      " 2   Admission date                                       139086 non-null  datetime64[ns]\n",
      " 3   Discharge date                                       138948 non-null  datetime64[ns]\n",
      " 4   Admitting unit service                               139086 non-null  object        \n",
      " 5   Discharging unit service                             139086 non-null  object        \n",
      " 6   Admitting specialty                                  139086 non-null  object        \n",
      " 7   Discharging specialty                                139086 non-null  object        \n",
      " 8   First listed discharge diagnosis icd10 subcategory   139086 non-null  object        \n",
      " 9   Second listed discharge diagnosis icd10 subcategory  139086 non-null  object        \n",
      " 10  Discharge disposition                                139086 non-null  object        \n",
      " 11  Died during admission                                139086 non-null  bool          \n",
      " 12  Outpatientreferralflag                               132086 non-null  object        \n",
      " 13  Serviceconnectedflag                                 9437 non-null    object        \n",
      " 14  Agentorangeflag                                      111254 non-null  object        \n",
      " 15  State                                                139086 non-null  object        \n",
      "dtypes: bool(1), datetime64[ns](2), float64(1), int64(1), object(11)\n",
      "memory usage: 16.0+ MB\n"
     ]
    }
   ],
   "source": [
    "# Display the concise summary of the DataFrame\n",
    "df.info()"
   ]
  },
  {
   "cell_type": "markdown",
   "id": "1319e9ab",
   "metadata": {},
   "source": [
    "- The 'Internalpatientid' column contains integer values, while the 'Age at admission' column is in float format. The rest of the features are represented as objects."
   ]
  },
  {
   "cell_type": "markdown",
   "id": "6c4042f8",
   "metadata": {},
   "source": [
    "### **Checking for Missing Values**"
   ]
  },
  {
   "cell_type": "code",
   "execution_count": 12,
   "id": "7c672465",
   "metadata": {},
   "outputs": [
    {
     "data": {
      "text/plain": [
       "['Discharge date',\n",
       " 'Outpatientreferralflag',\n",
       " 'Serviceconnectedflag',\n",
       " 'Agentorangeflag']"
      ]
     },
     "execution_count": 12,
     "metadata": {},
     "output_type": "execute_result"
    }
   ],
   "source": [
    "# List comprehension to find columns with missing values\n",
    "[features for features in df.columns if df[features].isnull().sum()>0]"
   ]
  },
  {
   "cell_type": "code",
   "execution_count": 13,
   "id": "2e9ac3a8",
   "metadata": {},
   "outputs": [
    {
     "data": {
      "text/plain": [
       "Internalpatientid                                           0\n",
       "Age at admission                                            0\n",
       "Admission date                                              0\n",
       "Discharge date                                            138\n",
       "Admitting unit service                                      0\n",
       "Discharging unit service                                    0\n",
       "Admitting specialty                                         0\n",
       "Discharging specialty                                       0\n",
       "First listed discharge diagnosis icd10 subcategory          0\n",
       "Second listed discharge diagnosis icd10 subcategory         0\n",
       "Discharge disposition                                       0\n",
       "Died during admission                                       0\n",
       "Outpatientreferralflag                                   7000\n",
       "Serviceconnectedflag                                   129649\n",
       "Agentorangeflag                                         27832\n",
       "State                                                       0\n",
       "dtype: int64"
      ]
     },
     "execution_count": 13,
     "metadata": {},
     "output_type": "execute_result"
    }
   ],
   "source": [
    "# Count the number of missing values in each column\n",
    "df.isnull().sum()"
   ]
  },
  {
   "cell_type": "markdown",
   "id": "5fd98c10",
   "metadata": {},
   "source": [
    "- The dataset has missing values, particularly in the 'Outpatientreferralflag', 'Serviceconnectedflag', and 'Agentorangeflag' columns. Additionally, there are a few missing values in the 'Discharge date' column.\""
   ]
  },
  {
   "cell_type": "markdown",
   "id": "3b1df5c4",
   "metadata": {},
   "source": [
    "---"
   ]
  },
  {
   "cell_type": "markdown",
   "id": "02d41d7f-b5f5-4ba2-ac55-7be94f398429",
   "metadata": {},
   "source": [
    "### **Checking Readmission Count**"
   ]
  },
  {
   "cell_type": "code",
   "execution_count": 14,
   "id": "1eea2f10-fa77-493b-8f5c-0e7a0600f2af",
   "metadata": {},
   "outputs": [],
   "source": [
    "df_readmission = pd.DataFrame(df['Internalpatientid'].value_counts()).reset_index()\n",
    "df_readmission.columns = ['Internalpatientid', 'counts']  # Rename the columns"
   ]
  },
  {
   "cell_type": "code",
   "execution_count": 15,
   "id": "9d831b6c-b9fb-4eb8-98ec-5cfa63f421a0",
   "metadata": {},
   "outputs": [],
   "source": [
    "# Create a new column based on the condition\n",
    "df_readmission['Readmission'] = df_readmission['counts'].apply(lambda x: 1 if x > 1 else 0)"
   ]
  },
  {
   "cell_type": "code",
   "execution_count": 16,
   "id": "e5b6c4cf-2597-409b-856c-b8af1f661e8f",
   "metadata": {},
   "outputs": [
    {
     "data": {
      "text/html": [
       "<div>\n",
       "<style scoped>\n",
       "    .dataframe tbody tr th:only-of-type {\n",
       "        vertical-align: middle;\n",
       "    }\n",
       "\n",
       "    .dataframe tbody tr th {\n",
       "        vertical-align: top;\n",
       "    }\n",
       "\n",
       "    .dataframe thead th {\n",
       "        text-align: right;\n",
       "    }\n",
       "</style>\n",
       "<table border=\"1\" class=\"dataframe\">\n",
       "  <thead>\n",
       "    <tr style=\"text-align: right;\">\n",
       "      <th></th>\n",
       "      <th>Internalpatientid</th>\n",
       "      <th>counts</th>\n",
       "      <th>Readmission</th>\n",
       "    </tr>\n",
       "  </thead>\n",
       "  <tbody>\n",
       "    <tr>\n",
       "      <th>0</th>\n",
       "      <td>49791</td>\n",
       "      <td>209</td>\n",
       "      <td>1</td>\n",
       "    </tr>\n",
       "    <tr>\n",
       "      <th>1</th>\n",
       "      <td>2125</td>\n",
       "      <td>123</td>\n",
       "      <td>1</td>\n",
       "    </tr>\n",
       "    <tr>\n",
       "      <th>2</th>\n",
       "      <td>48536</td>\n",
       "      <td>113</td>\n",
       "      <td>1</td>\n",
       "    </tr>\n",
       "    <tr>\n",
       "      <th>3</th>\n",
       "      <td>122832</td>\n",
       "      <td>103</td>\n",
       "      <td>1</td>\n",
       "    </tr>\n",
       "    <tr>\n",
       "      <th>4</th>\n",
       "      <td>98143</td>\n",
       "      <td>82</td>\n",
       "      <td>1</td>\n",
       "    </tr>\n",
       "    <tr>\n",
       "      <th>...</th>\n",
       "      <td>...</td>\n",
       "      <td>...</td>\n",
       "      <td>...</td>\n",
       "    </tr>\n",
       "    <tr>\n",
       "      <th>22250</th>\n",
       "      <td>119434</td>\n",
       "      <td>1</td>\n",
       "      <td>0</td>\n",
       "    </tr>\n",
       "    <tr>\n",
       "      <th>22251</th>\n",
       "      <td>70733</td>\n",
       "      <td>1</td>\n",
       "      <td>0</td>\n",
       "    </tr>\n",
       "    <tr>\n",
       "      <th>22252</th>\n",
       "      <td>24989</td>\n",
       "      <td>1</td>\n",
       "      <td>0</td>\n",
       "    </tr>\n",
       "    <tr>\n",
       "      <th>22253</th>\n",
       "      <td>41349</td>\n",
       "      <td>1</td>\n",
       "      <td>0</td>\n",
       "    </tr>\n",
       "    <tr>\n",
       "      <th>22254</th>\n",
       "      <td>62033</td>\n",
       "      <td>1</td>\n",
       "      <td>0</td>\n",
       "    </tr>\n",
       "  </tbody>\n",
       "</table>\n",
       "<p>22255 rows × 3 columns</p>\n",
       "</div>"
      ],
      "text/plain": [
       "       Internalpatientid  counts  Readmission\n",
       "0                  49791     209            1\n",
       "1                   2125     123            1\n",
       "2                  48536     113            1\n",
       "3                 122832     103            1\n",
       "4                  98143      82            1\n",
       "...                  ...     ...          ...\n",
       "22250             119434       1            0\n",
       "22251              70733       1            0\n",
       "22252              24989       1            0\n",
       "22253              41349       1            0\n",
       "22254              62033       1            0\n",
       "\n",
       "[22255 rows x 3 columns]"
      ]
     },
     "execution_count": 16,
     "metadata": {},
     "output_type": "execute_result"
    }
   ],
   "source": [
    "df_readmission"
   ]
  },
  {
   "cell_type": "code",
   "execution_count": 17,
   "id": "a554d0c2-1d58-4894-8376-858c6f2356cd",
   "metadata": {},
   "outputs": [],
   "source": [
    "df_readmission.drop(['counts'], axis=1,inplace=True)"
   ]
  },
  {
   "cell_type": "code",
   "execution_count": 18,
   "id": "678aae48-b445-4a12-b041-1a60943f539b",
   "metadata": {},
   "outputs": [
    {
     "data": {
      "text/html": [
       "<div>\n",
       "<style scoped>\n",
       "    .dataframe tbody tr th:only-of-type {\n",
       "        vertical-align: middle;\n",
       "    }\n",
       "\n",
       "    .dataframe tbody tr th {\n",
       "        vertical-align: top;\n",
       "    }\n",
       "\n",
       "    .dataframe thead th {\n",
       "        text-align: right;\n",
       "    }\n",
       "</style>\n",
       "<table border=\"1\" class=\"dataframe\">\n",
       "  <thead>\n",
       "    <tr style=\"text-align: right;\">\n",
       "      <th></th>\n",
       "      <th>Internalpatientid</th>\n",
       "      <th>Readmission</th>\n",
       "    </tr>\n",
       "  </thead>\n",
       "  <tbody>\n",
       "    <tr>\n",
       "      <th>0</th>\n",
       "      <td>49791</td>\n",
       "      <td>1</td>\n",
       "    </tr>\n",
       "    <tr>\n",
       "      <th>1</th>\n",
       "      <td>2125</td>\n",
       "      <td>1</td>\n",
       "    </tr>\n",
       "    <tr>\n",
       "      <th>2</th>\n",
       "      <td>48536</td>\n",
       "      <td>1</td>\n",
       "    </tr>\n",
       "    <tr>\n",
       "      <th>3</th>\n",
       "      <td>122832</td>\n",
       "      <td>1</td>\n",
       "    </tr>\n",
       "    <tr>\n",
       "      <th>4</th>\n",
       "      <td>98143</td>\n",
       "      <td>1</td>\n",
       "    </tr>\n",
       "    <tr>\n",
       "      <th>...</th>\n",
       "      <td>...</td>\n",
       "      <td>...</td>\n",
       "    </tr>\n",
       "    <tr>\n",
       "      <th>22250</th>\n",
       "      <td>119434</td>\n",
       "      <td>0</td>\n",
       "    </tr>\n",
       "    <tr>\n",
       "      <th>22251</th>\n",
       "      <td>70733</td>\n",
       "      <td>0</td>\n",
       "    </tr>\n",
       "    <tr>\n",
       "      <th>22252</th>\n",
       "      <td>24989</td>\n",
       "      <td>0</td>\n",
       "    </tr>\n",
       "    <tr>\n",
       "      <th>22253</th>\n",
       "      <td>41349</td>\n",
       "      <td>0</td>\n",
       "    </tr>\n",
       "    <tr>\n",
       "      <th>22254</th>\n",
       "      <td>62033</td>\n",
       "      <td>0</td>\n",
       "    </tr>\n",
       "  </tbody>\n",
       "</table>\n",
       "<p>22255 rows × 2 columns</p>\n",
       "</div>"
      ],
      "text/plain": [
       "       Internalpatientid  Readmission\n",
       "0                  49791            1\n",
       "1                   2125            1\n",
       "2                  48536            1\n",
       "3                 122832            1\n",
       "4                  98143            1\n",
       "...                  ...          ...\n",
       "22250             119434            0\n",
       "22251              70733            0\n",
       "22252              24989            0\n",
       "22253              41349            0\n",
       "22254              62033            0\n",
       "\n",
       "[22255 rows x 2 columns]"
      ]
     },
     "execution_count": 18,
     "metadata": {},
     "output_type": "execute_result"
    }
   ],
   "source": [
    "df_readmission"
   ]
  },
  {
   "cell_type": "markdown",
   "id": "339c2a17-8e00-4a38-a826-81d97b2bfa40",
   "metadata": {},
   "source": [
    "### **Saving Readmission Target file**"
   ]
  },
  {
   "cell_type": "code",
   "execution_count": 19,
   "id": "ee6b5e6d-5fa9-4f11-b91d-7f72b5b3343c",
   "metadata": {},
   "outputs": [
    {
     "data": {
      "text/plain": [
       "'/mnt/batch/tasks/shared/LS_root/mounts/clusters/team3-lavanya-gpu2/code/Users/2211574/Best_Files'"
      ]
     },
     "execution_count": 19,
     "metadata": {},
     "output_type": "execute_result"
    }
   ],
   "source": [
    "import os\n",
    "cwd = os.getcwd()\n",
    "cwd"
   ]
  },
  {
   "cell_type": "code",
   "execution_count": 20,
   "id": "dd666261-a6b5-4b83-86ed-e27af973889d",
   "metadata": {},
   "outputs": [],
   "source": [
    "df_readmission.to_csv('/mnt/batch/tasks/shared/LS_root/mounts/clusters/team3-lavanya-gpu2/code/Users/900379/Output_files_test/Potential_files_test/df_readmission_test.csv')"
   ]
  },
  {
   "cell_type": "markdown",
   "id": "1d999d70-e49f-4496-94d6-f8e0bd10534e",
   "metadata": {},
   "source": [
    "----------"
   ]
  }
 ],
 "metadata": {
  "kernelspec": {
   "display_name": "Python 3.8 - AzureML",
   "language": "python",
   "name": "python38-azureml"
  },
  "language_info": {
   "codemirror_mode": {
    "name": "ipython",
    "version": 3
   },
   "file_extension": ".py",
   "mimetype": "text/x-python",
   "name": "python",
   "nbconvert_exporter": "python",
   "pygments_lexer": "ipython3",
   "version": "3.8.5"
  }
 },
 "nbformat": 4,
 "nbformat_minor": 5
}
