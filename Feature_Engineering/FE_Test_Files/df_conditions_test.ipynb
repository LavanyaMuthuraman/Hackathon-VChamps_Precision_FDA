{
 "cells": [
  {
   "cell_type": "code",
   "execution_count": 1,
   "metadata": {
    "gather": {
     "logged": 1688639269765
    }
   },
   "outputs": [],
   "source": [
    "#A class attribute that provides access to the TabularDatasetFactory methods for creating new TabularDataset objects. \n",
    "#Usage: Dataset.Tabular.from_delimited_files().\n",
    "from azureml.core import Workspace, Dataset\n",
    "\n",
    "subscription_id = 'bcfe0c62-8ebe-4df0-a46d-1efcf8739a5b' #check the launch studio there will get this id\n",
    "resource_group = 'VChamp-Team3' # resource group name\n",
    "workspace_name = 'vchamp-team3' # worksapce name\n",
    "\n",
    "\n",
    "# storage account : Algorithmia, Resource group: VChamp-Team3 and workspace: vchamp-team3.\n",
    "#Constructor\n",
    "workspace = Workspace(subscription_id, resource_group, workspace_name)"
   ]
  },
  {
   "cell_type": "code",
   "execution_count": 2,
   "metadata": {
    "collapsed": false,
    "gather": {
     "logged": 1688639271316
    },
    "jupyter": {
     "outputs_hidden": false,
     "source_hidden": false
    },
    "nteract": {
     "transient": {
      "deleting": false
     }
    }
   },
   "outputs": [],
   "source": [
    "#['data_team3_synthetic_test']\n",
    "datastore = workspace.datastores['data_team3_synthetic_test'] "
   ]
  },
  {
   "cell_type": "code",
   "execution_count": 3,
   "metadata": {
    "collapsed": false,
    "gather": {
     "logged": 1688639276373
    },
    "jupyter": {
     "outputs_hidden": false,
     "source_hidden": false
    },
    "nteract": {
     "transient": {
      "deleting": false
     }
    }
   },
   "outputs": [],
   "source": [
    "#from_delimited_files (Create a TabularDataset to represent tabular data in delimited files (e.g. CSV and TSV).\n",
    "\n",
    "dataset = Dataset.Tabular.from_delimited_files(path = [(datastore, 'conditions_test.csv')])\n",
    "\n",
    "# preview the first 3 rows of the dataset\n",
    "# dataset.to_pandas_dataframe()"
   ]
  },
  {
   "cell_type": "code",
   "execution_count": 38,
   "metadata": {
    "collapsed": false,
    "gather": {
     "logged": 1688639304997
    },
    "jupyter": {
     "outputs_hidden": false,
     "source_hidden": false
    },
    "nteract": {
     "transient": {
      "deleting": false
     }
    }
   },
   "outputs": [],
   "source": [
    "#Converting the dataset into data frame(default as dataset in Azure, thus we must convert the needed formate)\n",
    "conditions_test_data= dataset.to_pandas_dataframe()"
   ]
  },
  {
   "cell_type": "code",
   "execution_count": 39,
   "metadata": {
    "collapsed": false,
    "gather": {
     "logged": 1688639307902
    },
    "jupyter": {
     "outputs_hidden": false,
     "source_hidden": false
    },
    "nteract": {
     "transient": {
      "deleting": false
     }
    }
   },
   "outputs": [
    {
     "data": {
      "text/html": [
       "<div>\n",
       "<style scoped>\n",
       "    .dataframe tbody tr th:only-of-type {\n",
       "        vertical-align: middle;\n",
       "    }\n",
       "\n",
       "    .dataframe tbody tr th {\n",
       "        vertical-align: top;\n",
       "    }\n",
       "\n",
       "    .dataframe thead th {\n",
       "        text-align: right;\n",
       "    }\n",
       "</style>\n",
       "<table border=\"1\" class=\"dataframe\">\n",
       "  <thead>\n",
       "    <tr style=\"text-align: right;\">\n",
       "      <th></th>\n",
       "      <th>Column1</th>\n",
       "      <th>Internalpatientid</th>\n",
       "      <th>Age at condition documentation</th>\n",
       "      <th>Condition documented date</th>\n",
       "      <th>Condition type</th>\n",
       "      <th>Condition code icd10 subcategory</th>\n",
       "      <th>Diagnosis sequence number or rank</th>\n",
       "      <th>State</th>\n",
       "    </tr>\n",
       "  </thead>\n",
       "  <tbody>\n",
       "    <tr>\n",
       "      <th>0</th>\n",
       "      <td>74</td>\n",
       "      <td>100</td>\n",
       "      <td>52.885148</td>\n",
       "      <td>2014-08-16 12:31:20</td>\n",
       "      <td>Diagnosis</td>\n",
       "      <td>Motor neuron disease</td>\n",
       "      <td>S</td>\n",
       "      <td>New York</td>\n",
       "    </tr>\n",
       "    <tr>\n",
       "      <th>1</th>\n",
       "      <td>75</td>\n",
       "      <td>100</td>\n",
       "      <td>52.885148</td>\n",
       "      <td>2014-08-16 12:31:20</td>\n",
       "      <td>Diagnosis</td>\n",
       "      <td>Encounter for other specified aftercare</td>\n",
       "      <td>P</td>\n",
       "      <td>New York</td>\n",
       "    </tr>\n",
       "    <tr>\n",
       "      <th>2</th>\n",
       "      <td>76</td>\n",
       "      <td>100</td>\n",
       "      <td>54.585028</td>\n",
       "      <td>2016-04-28 19:51:50</td>\n",
       "      <td>Diagnosis</td>\n",
       "      <td>Motor neuron disease</td>\n",
       "      <td>P</td>\n",
       "      <td>New York</td>\n",
       "    </tr>\n",
       "    <tr>\n",
       "      <th>3</th>\n",
       "      <td>77</td>\n",
       "      <td>100</td>\n",
       "      <td>55.055466</td>\n",
       "      <td>2016-10-17 18:33:07</td>\n",
       "      <td>Diagnosis</td>\n",
       "      <td>Other specified counseling</td>\n",
       "      <td>P</td>\n",
       "      <td>New York</td>\n",
       "    </tr>\n",
       "    <tr>\n",
       "      <th>4</th>\n",
       "      <td>78</td>\n",
       "      <td>100</td>\n",
       "      <td>55.072580</td>\n",
       "      <td>2016-10-24 00:40:17</td>\n",
       "      <td>Diagnosis</td>\n",
       "      <td>Motor neuron disease</td>\n",
       "      <td>P</td>\n",
       "      <td>New York</td>\n",
       "    </tr>\n",
       "    <tr>\n",
       "      <th>...</th>\n",
       "      <td>...</td>\n",
       "      <td>...</td>\n",
       "      <td>...</td>\n",
       "      <td>...</td>\n",
       "      <td>...</td>\n",
       "      <td>...</td>\n",
       "      <td>...</td>\n",
       "      <td>...</td>\n",
       "    </tr>\n",
       "    <tr>\n",
       "      <th>23283462</th>\n",
       "      <td>112205170</td>\n",
       "      <td>99997</td>\n",
       "      <td>85.433634</td>\n",
       "      <td>2014-07-28 23:50:09</td>\n",
       "      <td>Diagnosis</td>\n",
       "      <td>Other specified personal risk factors, not els...</td>\n",
       "      <td>P</td>\n",
       "      <td>North Carolina</td>\n",
       "    </tr>\n",
       "    <tr>\n",
       "      <th>23283463</th>\n",
       "      <td>112205171</td>\n",
       "      <td>99997</td>\n",
       "      <td>85.709524</td>\n",
       "      <td>2014-11-06 19:56:38</td>\n",
       "      <td>Problem</td>\n",
       "      <td>Sleep apnea</td>\n",
       "      <td>None</td>\n",
       "      <td>North Carolina</td>\n",
       "    </tr>\n",
       "    <tr>\n",
       "      <th>23283464</th>\n",
       "      <td>112205172</td>\n",
       "      <td>99997</td>\n",
       "      <td>88.107636</td>\n",
       "      <td>2017-04-01 08:10:57</td>\n",
       "      <td>Diagnosis</td>\n",
       "      <td>Peripheral vascular disease, unspecified</td>\n",
       "      <td>P</td>\n",
       "      <td>North Carolina</td>\n",
       "    </tr>\n",
       "    <tr>\n",
       "      <th>23283465</th>\n",
       "      <td>112205173</td>\n",
       "      <td>99997</td>\n",
       "      <td>89.688756</td>\n",
       "      <td>2018-10-31 05:46:10</td>\n",
       "      <td>Diagnosis</td>\n",
       "      <td>Other specified counseling</td>\n",
       "      <td>P</td>\n",
       "      <td>North Carolina</td>\n",
       "    </tr>\n",
       "    <tr>\n",
       "      <th>23283466</th>\n",
       "      <td>112205174</td>\n",
       "      <td>99997</td>\n",
       "      <td>91.112758</td>\n",
       "      <td>2020-04-03 17:06:48</td>\n",
       "      <td>Diagnosis</td>\n",
       "      <td>Problem related to unspecified psychosocial ci...</td>\n",
       "      <td>P</td>\n",
       "      <td>North Carolina</td>\n",
       "    </tr>\n",
       "  </tbody>\n",
       "</table>\n",
       "<p>23283467 rows × 8 columns</p>\n",
       "</div>"
      ],
      "text/plain": [
       "            Column1  Internalpatientid  Age at condition documentation  \\\n",
       "0                74                100                       52.885148   \n",
       "1                75                100                       52.885148   \n",
       "2                76                100                       54.585028   \n",
       "3                77                100                       55.055466   \n",
       "4                78                100                       55.072580   \n",
       "...             ...                ...                             ...   \n",
       "23283462  112205170              99997                       85.433634   \n",
       "23283463  112205171              99997                       85.709524   \n",
       "23283464  112205172              99997                       88.107636   \n",
       "23283465  112205173              99997                       89.688756   \n",
       "23283466  112205174              99997                       91.112758   \n",
       "\n",
       "         Condition documented date Condition type  \\\n",
       "0              2014-08-16 12:31:20      Diagnosis   \n",
       "1              2014-08-16 12:31:20      Diagnosis   \n",
       "2              2016-04-28 19:51:50      Diagnosis   \n",
       "3              2016-10-17 18:33:07      Diagnosis   \n",
       "4              2016-10-24 00:40:17      Diagnosis   \n",
       "...                            ...            ...   \n",
       "23283462       2014-07-28 23:50:09      Diagnosis   \n",
       "23283463       2014-11-06 19:56:38        Problem   \n",
       "23283464       2017-04-01 08:10:57      Diagnosis   \n",
       "23283465       2018-10-31 05:46:10      Diagnosis   \n",
       "23283466       2020-04-03 17:06:48      Diagnosis   \n",
       "\n",
       "                           Condition code icd10 subcategory  \\\n",
       "0                                      Motor neuron disease   \n",
       "1                   Encounter for other specified aftercare   \n",
       "2                                      Motor neuron disease   \n",
       "3                                Other specified counseling   \n",
       "4                                      Motor neuron disease   \n",
       "...                                                     ...   \n",
       "23283462  Other specified personal risk factors, not els...   \n",
       "23283463                                        Sleep apnea   \n",
       "23283464           Peripheral vascular disease, unspecified   \n",
       "23283465                         Other specified counseling   \n",
       "23283466  Problem related to unspecified psychosocial ci...   \n",
       "\n",
       "         Diagnosis sequence number or rank           State  \n",
       "0                                        S        New York  \n",
       "1                                        P        New York  \n",
       "2                                        P        New York  \n",
       "3                                        P        New York  \n",
       "4                                        P        New York  \n",
       "...                                    ...             ...  \n",
       "23283462                                 P  North Carolina  \n",
       "23283463                              None  North Carolina  \n",
       "23283464                                 P  North Carolina  \n",
       "23283465                                 P  North Carolina  \n",
       "23283466                                 P  North Carolina  \n",
       "\n",
       "[23283467 rows x 8 columns]"
      ]
     },
     "execution_count": 39,
     "metadata": {},
     "output_type": "execute_result"
    }
   ],
   "source": [
    "conditions_test_data"
   ]
  },
  {
   "cell_type": "code",
   "execution_count": 6,
   "metadata": {
    "collapsed": false,
    "gather": {
     "logged": 1688639312268
    },
    "jupyter": {
     "outputs_hidden": false,
     "source_hidden": false
    },
    "nteract": {
     "transient": {
      "deleting": false
     }
    }
   },
   "outputs": [],
   "source": [
    "import numpy as np                # Multi-Dimensional array object\n",
    "import pandas as pd               # Data Manipulation\n",
    "import matplotlib.pyplot as plt   # Data Visualization\n",
    "import seaborn as sns             # Data Visualization \n",
    "\n",
    "# Allows the use of display() for DataFrames\n",
    "from IPython.display import display \n",
    "\n",
    "# Handle warning messages that may occur during code execution\n",
    "import warnings\n",
    "warnings.filterwarnings('ignore')\n",
    "\n",
    "# To increase memory allocation\n",
    "from notebook.services.config import ConfigManager\n",
    "cm = ConfigManager().update('notebook', {'max_buffer_size': 7294967296})\n",
    "\n",
    "# Set the maximum number of rows to be displayed to 1000\n",
    "pd.set_option('display.max_rows', 1163)"
   ]
  },
  {
   "cell_type": "markdown",
   "metadata": {},
   "source": [
    "# **Elimination of the unnamed columns**"
   ]
  },
  {
   "cell_type": "code",
   "execution_count": 40,
   "metadata": {
    "collapsed": false,
    "gather": {
     "logged": 1688639319513
    },
    "jupyter": {
     "outputs_hidden": false,
     "source_hidden": false
    },
    "nteract": {
     "transient": {
      "deleting": false
     }
    }
   },
   "outputs": [],
   "source": [
    "# Remove unwanted columns \n",
    "conditions_test_data.drop('Column1',axis=1,inplace=True)"
   ]
  },
  {
   "cell_type": "code",
   "execution_count": 41,
   "metadata": {
    "collapsed": false,
    "gather": {
     "logged": 1688639325661
    },
    "jupyter": {
     "outputs_hidden": false,
     "source_hidden": false
    },
    "nteract": {
     "transient": {
      "deleting": false
     }
    }
   },
   "outputs": [],
   "source": [
    "conditions_test_data =  conditions_test_data"
   ]
  },
  {
   "cell_type": "markdown",
   "metadata": {},
   "source": [
    "# Sorting patients id and age column"
   ]
  },
  {
   "cell_type": "code",
   "execution_count": 43,
   "metadata": {
    "collapsed": false,
    "gather": {
     "logged": 1688639475311
    },
    "jupyter": {
     "outputs_hidden": false,
     "source_hidden": false
    },
    "nteract": {
     "transient": {
      "deleting": false
     }
    }
   },
   "outputs": [],
   "source": [
    "# Sort the dataset based on the patientsid and 'age' column in ascending order\n",
    "conditions_test_data.sort_values([\"Internalpatientid\",\"Age at condition documentation\"],inplace=True)"
   ]
  },
  {
   "cell_type": "markdown",
   "metadata": {},
   "source": [
    "# Checking the missing value"
   ]
  },
  {
   "cell_type": "code",
   "execution_count": 44,
   "metadata": {
    "collapsed": false,
    "gather": {
     "logged": 1688639505037
    },
    "jupyter": {
     "outputs_hidden": false,
     "source_hidden": false
    },
    "nteract": {
     "transient": {
      "deleting": false
     }
    }
   },
   "outputs": [
    {
     "name": "stdout",
     "output_type": "stream",
     "text": [
      "Training set missing values:\n",
      " Internalpatientid                         0\n",
      "Age at condition documentation            0\n",
      "Condition documented date                 0\n",
      "Condition type                            0\n",
      "Condition code icd10 subcategory          0\n",
      "Diagnosis sequence number or rank    960030\n",
      "State                                     0\n",
      "dtype: int64\n"
     ]
    }
   ],
   "source": [
    "print(\"Training set missing values:\\n\", conditions_test_data.isna().sum())"
   ]
  },
  {
   "cell_type": "markdown",
   "metadata": {},
   "source": [
    "# Taking the digits "
   ]
  },
  {
   "cell_type": "code",
   "execution_count": 45,
   "metadata": {
    "collapsed": false,
    "gather": {
     "logged": 1688639550922
    },
    "jupyter": {
     "outputs_hidden": false,
     "source_hidden": false
    },
    "nteract": {
     "transient": {
      "deleting": false
     }
    }
   },
   "outputs": [],
   "source": [
    "# Format 'Age at condition documentation' values in the format 00.00\n",
    "conditions_test_data[\"Age at condition documentation\"] = conditions_test_data[\"Age at condition documentation\"].map(\"{:.2f}\".format)"
   ]
  },
  {
   "cell_type": "code",
   "execution_count": 46,
   "metadata": {
    "collapsed": false,
    "gather": {
     "logged": 1688639554337
    },
    "jupyter": {
     "outputs_hidden": false,
     "source_hidden": false
    },
    "nteract": {
     "transient": {
      "deleting": false
     }
    }
   },
   "outputs": [
    {
     "data": {
      "text/html": [
       "<div>\n",
       "<style scoped>\n",
       "    .dataframe tbody tr th:only-of-type {\n",
       "        vertical-align: middle;\n",
       "    }\n",
       "\n",
       "    .dataframe tbody tr th {\n",
       "        vertical-align: top;\n",
       "    }\n",
       "\n",
       "    .dataframe thead th {\n",
       "        text-align: right;\n",
       "    }\n",
       "</style>\n",
       "<table border=\"1\" class=\"dataframe\">\n",
       "  <thead>\n",
       "    <tr style=\"text-align: right;\">\n",
       "      <th></th>\n",
       "      <th>Internalpatientid</th>\n",
       "      <th>Age at condition documentation</th>\n",
       "      <th>Condition documented date</th>\n",
       "      <th>Condition type</th>\n",
       "      <th>Condition code icd10 subcategory</th>\n",
       "      <th>Diagnosis sequence number or rank</th>\n",
       "      <th>State</th>\n",
       "    </tr>\n",
       "  </thead>\n",
       "  <tbody>\n",
       "    <tr>\n",
       "      <th>15352101</th>\n",
       "      <td>6</td>\n",
       "      <td>74.77</td>\n",
       "      <td>2001-06-13 08:56:37</td>\n",
       "      <td>Diagnosis</td>\n",
       "      <td>Heart failure, unspecified</td>\n",
       "      <td>S</td>\n",
       "      <td>Texas</td>\n",
       "    </tr>\n",
       "    <tr>\n",
       "      <th>15352102</th>\n",
       "      <td>6</td>\n",
       "      <td>74.77</td>\n",
       "      <td>2001-06-13 08:56:37</td>\n",
       "      <td>Diagnosis</td>\n",
       "      <td>Atherosclerotic heart disease of native corona...</td>\n",
       "      <td>P</td>\n",
       "      <td>Texas</td>\n",
       "    </tr>\n",
       "    <tr>\n",
       "      <th>15352103</th>\n",
       "      <td>6</td>\n",
       "      <td>74.77</td>\n",
       "      <td>2001-06-13 08:56:37</td>\n",
       "      <td>Diagnosis</td>\n",
       "      <td>Unspecified atrial fibrillation and atrial flu...</td>\n",
       "      <td>S</td>\n",
       "      <td>Texas</td>\n",
       "    </tr>\n",
       "    <tr>\n",
       "      <th>22032759</th>\n",
       "      <td>6</td>\n",
       "      <td>74.77</td>\n",
       "      <td>2001-06-13 08:57:38</td>\n",
       "      <td>Diagnosis</td>\n",
       "      <td>Heart failure, unspecified</td>\n",
       "      <td>S</td>\n",
       "      <td>Texas</td>\n",
       "    </tr>\n",
       "    <tr>\n",
       "      <th>22032760</th>\n",
       "      <td>6</td>\n",
       "      <td>74.77</td>\n",
       "      <td>2001-06-13 08:57:38</td>\n",
       "      <td>Diagnosis</td>\n",
       "      <td>Unspecified atrial fibrillation and atrial flu...</td>\n",
       "      <td>S</td>\n",
       "      <td>Texas</td>\n",
       "    </tr>\n",
       "    <tr>\n",
       "      <th>...</th>\n",
       "      <td>...</td>\n",
       "      <td>...</td>\n",
       "      <td>...</td>\n",
       "      <td>...</td>\n",
       "      <td>...</td>\n",
       "      <td>...</td>\n",
       "      <td>...</td>\n",
       "    </tr>\n",
       "    <tr>\n",
       "      <th>9577050</th>\n",
       "      <td>169065</td>\n",
       "      <td>53.32</td>\n",
       "      <td>2011-06-11 16:12:21</td>\n",
       "      <td>Diagnosis</td>\n",
       "      <td>Sepsis due to Hemophilus influenzae</td>\n",
       "      <td>5</td>\n",
       "      <td>Arizona</td>\n",
       "    </tr>\n",
       "    <tr>\n",
       "      <th>9577051</th>\n",
       "      <td>169065</td>\n",
       "      <td>53.32</td>\n",
       "      <td>2011-06-11 16:12:21</td>\n",
       "      <td>Diagnosis</td>\n",
       "      <td>Acute kidney failure with tubular necrosis</td>\n",
       "      <td>7</td>\n",
       "      <td>Arizona</td>\n",
       "    </tr>\n",
       "    <tr>\n",
       "      <th>9577052</th>\n",
       "      <td>169065</td>\n",
       "      <td>53.32</td>\n",
       "      <td>2011-06-11 16:12:21</td>\n",
       "      <td>Diagnosis</td>\n",
       "      <td>Acute respiratory failure</td>\n",
       "      <td>1</td>\n",
       "      <td>Arizona</td>\n",
       "    </tr>\n",
       "    <tr>\n",
       "      <th>9577053</th>\n",
       "      <td>169065</td>\n",
       "      <td>53.32</td>\n",
       "      <td>2011-06-11 16:12:21</td>\n",
       "      <td>Diagnosis</td>\n",
       "      <td>Pleural effusion in other conditions classifie...</td>\n",
       "      <td>10</td>\n",
       "      <td>Arizona</td>\n",
       "    </tr>\n",
       "    <tr>\n",
       "      <th>9563370</th>\n",
       "      <td>169065</td>\n",
       "      <td>53.32</td>\n",
       "      <td>2011-06-11 16:44:30</td>\n",
       "      <td>Diagnosis</td>\n",
       "      <td>Other specified counseling</td>\n",
       "      <td>P</td>\n",
       "      <td>Arizona</td>\n",
       "    </tr>\n",
       "  </tbody>\n",
       "</table>\n",
       "<p>23283467 rows × 7 columns</p>\n",
       "</div>"
      ],
      "text/plain": [
       "          Internalpatientid Age at condition documentation  \\\n",
       "15352101                  6                          74.77   \n",
       "15352102                  6                          74.77   \n",
       "15352103                  6                          74.77   \n",
       "22032759                  6                          74.77   \n",
       "22032760                  6                          74.77   \n",
       "...                     ...                            ...   \n",
       "9577050              169065                          53.32   \n",
       "9577051              169065                          53.32   \n",
       "9577052              169065                          53.32   \n",
       "9577053              169065                          53.32   \n",
       "9563370              169065                          53.32   \n",
       "\n",
       "         Condition documented date Condition type  \\\n",
       "15352101       2001-06-13 08:56:37      Diagnosis   \n",
       "15352102       2001-06-13 08:56:37      Diagnosis   \n",
       "15352103       2001-06-13 08:56:37      Diagnosis   \n",
       "22032759       2001-06-13 08:57:38      Diagnosis   \n",
       "22032760       2001-06-13 08:57:38      Diagnosis   \n",
       "...                            ...            ...   \n",
       "9577050        2011-06-11 16:12:21      Diagnosis   \n",
       "9577051        2011-06-11 16:12:21      Diagnosis   \n",
       "9577052        2011-06-11 16:12:21      Diagnosis   \n",
       "9577053        2011-06-11 16:12:21      Diagnosis   \n",
       "9563370        2011-06-11 16:44:30      Diagnosis   \n",
       "\n",
       "                           Condition code icd10 subcategory  \\\n",
       "15352101                         Heart failure, unspecified   \n",
       "15352102  Atherosclerotic heart disease of native corona...   \n",
       "15352103  Unspecified atrial fibrillation and atrial flu...   \n",
       "22032759                         Heart failure, unspecified   \n",
       "22032760  Unspecified atrial fibrillation and atrial flu...   \n",
       "...                                                     ...   \n",
       "9577050                 Sepsis due to Hemophilus influenzae   \n",
       "9577051          Acute kidney failure with tubular necrosis   \n",
       "9577052                           Acute respiratory failure   \n",
       "9577053   Pleural effusion in other conditions classifie...   \n",
       "9563370                          Other specified counseling   \n",
       "\n",
       "         Diagnosis sequence number or rank    State  \n",
       "15352101                                 S    Texas  \n",
       "15352102                                 P    Texas  \n",
       "15352103                                 S    Texas  \n",
       "22032759                                 S    Texas  \n",
       "22032760                                 S    Texas  \n",
       "...                                    ...      ...  \n",
       "9577050                                  5  Arizona  \n",
       "9577051                                  7  Arizona  \n",
       "9577052                                  1  Arizona  \n",
       "9577053                                 10  Arizona  \n",
       "9563370                                  P  Arizona  \n",
       "\n",
       "[23283467 rows x 7 columns]"
      ]
     },
     "execution_count": 46,
     "metadata": {},
     "output_type": "execute_result"
    }
   ],
   "source": [
    "conditions_test_data"
   ]
  },
  {
   "cell_type": "code",
   "execution_count": 47,
   "metadata": {
    "collapsed": false,
    "gather": {
     "logged": 1688639570403
    },
    "jupyter": {
     "outputs_hidden": false,
     "source_hidden": false
    },
    "nteract": {
     "transient": {
      "deleting": false
     }
    }
   },
   "outputs": [],
   "source": [
    "# Convert 'Age at condition documentation' column from object to float\n",
    "conditions_test_data[\"Age at condition documentation\"] = conditions_test_data[\"Age at condition documentation\"].astype(float)"
   ]
  },
  {
   "cell_type": "code",
   "execution_count": 48,
   "metadata": {
    "collapsed": false,
    "gather": {
     "logged": 1688639573967
    },
    "jupyter": {
     "outputs_hidden": false,
     "source_hidden": false
    },
    "nteract": {
     "transient": {
      "deleting": false
     }
    }
   },
   "outputs": [
    {
     "data": {
      "text/html": [
       "<div>\n",
       "<style scoped>\n",
       "    .dataframe tbody tr th:only-of-type {\n",
       "        vertical-align: middle;\n",
       "    }\n",
       "\n",
       "    .dataframe tbody tr th {\n",
       "        vertical-align: top;\n",
       "    }\n",
       "\n",
       "    .dataframe thead th {\n",
       "        text-align: right;\n",
       "    }\n",
       "</style>\n",
       "<table border=\"1\" class=\"dataframe\">\n",
       "  <thead>\n",
       "    <tr style=\"text-align: right;\">\n",
       "      <th></th>\n",
       "      <th>Internalpatientid</th>\n",
       "      <th>Age at condition documentation</th>\n",
       "      <th>Condition documented date</th>\n",
       "      <th>Condition type</th>\n",
       "      <th>Condition code icd10 subcategory</th>\n",
       "      <th>Diagnosis sequence number or rank</th>\n",
       "      <th>State</th>\n",
       "    </tr>\n",
       "  </thead>\n",
       "  <tbody>\n",
       "    <tr>\n",
       "      <th>15352101</th>\n",
       "      <td>6</td>\n",
       "      <td>74.77</td>\n",
       "      <td>2001-06-13 08:56:37</td>\n",
       "      <td>Diagnosis</td>\n",
       "      <td>Heart failure, unspecified</td>\n",
       "      <td>S</td>\n",
       "      <td>Texas</td>\n",
       "    </tr>\n",
       "    <tr>\n",
       "      <th>15352102</th>\n",
       "      <td>6</td>\n",
       "      <td>74.77</td>\n",
       "      <td>2001-06-13 08:56:37</td>\n",
       "      <td>Diagnosis</td>\n",
       "      <td>Atherosclerotic heart disease of native corona...</td>\n",
       "      <td>P</td>\n",
       "      <td>Texas</td>\n",
       "    </tr>\n",
       "    <tr>\n",
       "      <th>15352103</th>\n",
       "      <td>6</td>\n",
       "      <td>74.77</td>\n",
       "      <td>2001-06-13 08:56:37</td>\n",
       "      <td>Diagnosis</td>\n",
       "      <td>Unspecified atrial fibrillation and atrial flu...</td>\n",
       "      <td>S</td>\n",
       "      <td>Texas</td>\n",
       "    </tr>\n",
       "    <tr>\n",
       "      <th>22032759</th>\n",
       "      <td>6</td>\n",
       "      <td>74.77</td>\n",
       "      <td>2001-06-13 08:57:38</td>\n",
       "      <td>Diagnosis</td>\n",
       "      <td>Heart failure, unspecified</td>\n",
       "      <td>S</td>\n",
       "      <td>Texas</td>\n",
       "    </tr>\n",
       "    <tr>\n",
       "      <th>22032760</th>\n",
       "      <td>6</td>\n",
       "      <td>74.77</td>\n",
       "      <td>2001-06-13 08:57:38</td>\n",
       "      <td>Diagnosis</td>\n",
       "      <td>Unspecified atrial fibrillation and atrial flu...</td>\n",
       "      <td>S</td>\n",
       "      <td>Texas</td>\n",
       "    </tr>\n",
       "    <tr>\n",
       "      <th>...</th>\n",
       "      <td>...</td>\n",
       "      <td>...</td>\n",
       "      <td>...</td>\n",
       "      <td>...</td>\n",
       "      <td>...</td>\n",
       "      <td>...</td>\n",
       "      <td>...</td>\n",
       "    </tr>\n",
       "    <tr>\n",
       "      <th>9577050</th>\n",
       "      <td>169065</td>\n",
       "      <td>53.32</td>\n",
       "      <td>2011-06-11 16:12:21</td>\n",
       "      <td>Diagnosis</td>\n",
       "      <td>Sepsis due to Hemophilus influenzae</td>\n",
       "      <td>5</td>\n",
       "      <td>Arizona</td>\n",
       "    </tr>\n",
       "    <tr>\n",
       "      <th>9577051</th>\n",
       "      <td>169065</td>\n",
       "      <td>53.32</td>\n",
       "      <td>2011-06-11 16:12:21</td>\n",
       "      <td>Diagnosis</td>\n",
       "      <td>Acute kidney failure with tubular necrosis</td>\n",
       "      <td>7</td>\n",
       "      <td>Arizona</td>\n",
       "    </tr>\n",
       "    <tr>\n",
       "      <th>9577052</th>\n",
       "      <td>169065</td>\n",
       "      <td>53.32</td>\n",
       "      <td>2011-06-11 16:12:21</td>\n",
       "      <td>Diagnosis</td>\n",
       "      <td>Acute respiratory failure</td>\n",
       "      <td>1</td>\n",
       "      <td>Arizona</td>\n",
       "    </tr>\n",
       "    <tr>\n",
       "      <th>9577053</th>\n",
       "      <td>169065</td>\n",
       "      <td>53.32</td>\n",
       "      <td>2011-06-11 16:12:21</td>\n",
       "      <td>Diagnosis</td>\n",
       "      <td>Pleural effusion in other conditions classifie...</td>\n",
       "      <td>10</td>\n",
       "      <td>Arizona</td>\n",
       "    </tr>\n",
       "    <tr>\n",
       "      <th>9563370</th>\n",
       "      <td>169065</td>\n",
       "      <td>53.32</td>\n",
       "      <td>2011-06-11 16:44:30</td>\n",
       "      <td>Diagnosis</td>\n",
       "      <td>Other specified counseling</td>\n",
       "      <td>P</td>\n",
       "      <td>Arizona</td>\n",
       "    </tr>\n",
       "  </tbody>\n",
       "</table>\n",
       "<p>23283467 rows × 7 columns</p>\n",
       "</div>"
      ],
      "text/plain": [
       "          Internalpatientid  Age at condition documentation  \\\n",
       "15352101                  6                           74.77   \n",
       "15352102                  6                           74.77   \n",
       "15352103                  6                           74.77   \n",
       "22032759                  6                           74.77   \n",
       "22032760                  6                           74.77   \n",
       "...                     ...                             ...   \n",
       "9577050              169065                           53.32   \n",
       "9577051              169065                           53.32   \n",
       "9577052              169065                           53.32   \n",
       "9577053              169065                           53.32   \n",
       "9563370              169065                           53.32   \n",
       "\n",
       "         Condition documented date Condition type  \\\n",
       "15352101       2001-06-13 08:56:37      Diagnosis   \n",
       "15352102       2001-06-13 08:56:37      Diagnosis   \n",
       "15352103       2001-06-13 08:56:37      Diagnosis   \n",
       "22032759       2001-06-13 08:57:38      Diagnosis   \n",
       "22032760       2001-06-13 08:57:38      Diagnosis   \n",
       "...                            ...            ...   \n",
       "9577050        2011-06-11 16:12:21      Diagnosis   \n",
       "9577051        2011-06-11 16:12:21      Diagnosis   \n",
       "9577052        2011-06-11 16:12:21      Diagnosis   \n",
       "9577053        2011-06-11 16:12:21      Diagnosis   \n",
       "9563370        2011-06-11 16:44:30      Diagnosis   \n",
       "\n",
       "                           Condition code icd10 subcategory  \\\n",
       "15352101                         Heart failure, unspecified   \n",
       "15352102  Atherosclerotic heart disease of native corona...   \n",
       "15352103  Unspecified atrial fibrillation and atrial flu...   \n",
       "22032759                         Heart failure, unspecified   \n",
       "22032760  Unspecified atrial fibrillation and atrial flu...   \n",
       "...                                                     ...   \n",
       "9577050                 Sepsis due to Hemophilus influenzae   \n",
       "9577051          Acute kidney failure with tubular necrosis   \n",
       "9577052                           Acute respiratory failure   \n",
       "9577053   Pleural effusion in other conditions classifie...   \n",
       "9563370                          Other specified counseling   \n",
       "\n",
       "         Diagnosis sequence number or rank    State  \n",
       "15352101                                 S    Texas  \n",
       "15352102                                 P    Texas  \n",
       "15352103                                 S    Texas  \n",
       "22032759                                 S    Texas  \n",
       "22032760                                 S    Texas  \n",
       "...                                    ...      ...  \n",
       "9577050                                  5  Arizona  \n",
       "9577051                                  7  Arizona  \n",
       "9577052                                  1  Arizona  \n",
       "9577053                                 10  Arizona  \n",
       "9563370                                  P  Arizona  \n",
       "\n",
       "[23283467 rows x 7 columns]"
      ]
     },
     "execution_count": 48,
     "metadata": {},
     "output_type": "execute_result"
    }
   ],
   "source": [
    "conditions_test_data"
   ]
  },
  {
   "cell_type": "markdown",
   "metadata": {},
   "source": [
    "# Max age"
   ]
  },
  {
   "cell_type": "code",
   "execution_count": 49,
   "metadata": {
    "collapsed": false,
    "gather": {
     "logged": 1688639604316
    },
    "jupyter": {
     "outputs_hidden": false,
     "source_hidden": false
    },
    "nteract": {
     "transient": {
      "deleting": false
     }
    }
   },
   "outputs": [
    {
     "data": {
      "text/html": [
       "<div>\n",
       "<style scoped>\n",
       "    .dataframe tbody tr th:only-of-type {\n",
       "        vertical-align: middle;\n",
       "    }\n",
       "\n",
       "    .dataframe tbody tr th {\n",
       "        vertical-align: top;\n",
       "    }\n",
       "\n",
       "    .dataframe thead th {\n",
       "        text-align: right;\n",
       "    }\n",
       "</style>\n",
       "<table border=\"1\" class=\"dataframe\">\n",
       "  <thead>\n",
       "    <tr style=\"text-align: right;\">\n",
       "      <th></th>\n",
       "      <th>Internalpatientid</th>\n",
       "      <th>Age at condition documentation</th>\n",
       "      <th>Condition documented date</th>\n",
       "      <th>Condition type</th>\n",
       "      <th>Condition code icd10 subcategory</th>\n",
       "      <th>Diagnosis sequence number or rank</th>\n",
       "      <th>State</th>\n",
       "    </tr>\n",
       "  </thead>\n",
       "  <tbody>\n",
       "    <tr>\n",
       "      <th>0</th>\n",
       "      <td>6</td>\n",
       "      <td>88.10</td>\n",
       "      <td>2014-10-16 01:23:22</td>\n",
       "      <td>Diagnosis</td>\n",
       "      <td>Other specified counseling</td>\n",
       "      <td>P</td>\n",
       "      <td>Texas</td>\n",
       "    </tr>\n",
       "    <tr>\n",
       "      <th>1</th>\n",
       "      <td>7</td>\n",
       "      <td>74.37</td>\n",
       "      <td>2020-11-22 12:50:02</td>\n",
       "      <td>Diagnosis</td>\n",
       "      <td>Dental caries on smooth surface</td>\n",
       "      <td>P</td>\n",
       "      <td>Nebraska</td>\n",
       "    </tr>\n",
       "    <tr>\n",
       "      <th>2</th>\n",
       "      <td>9</td>\n",
       "      <td>51.88</td>\n",
       "      <td>2000-04-26 17:39:58</td>\n",
       "      <td>Diagnosis</td>\n",
       "      <td>Hypertensive heart disease with heart failure ...</td>\n",
       "      <td>5</td>\n",
       "      <td>Texas</td>\n",
       "    </tr>\n",
       "    <tr>\n",
       "      <th>3</th>\n",
       "      <td>9</td>\n",
       "      <td>51.88</td>\n",
       "      <td>2000-04-26 17:39:58</td>\n",
       "      <td>Diagnosis</td>\n",
       "      <td>Hypertensive heart disease with heart failure ...</td>\n",
       "      <td>5</td>\n",
       "      <td>Texas</td>\n",
       "    </tr>\n",
       "    <tr>\n",
       "      <th>4</th>\n",
       "      <td>9</td>\n",
       "      <td>51.88</td>\n",
       "      <td>2000-04-26 17:39:58</td>\n",
       "      <td>Diagnosis</td>\n",
       "      <td>Nonrheumatic mitral (valve) insufficiency</td>\n",
       "      <td>4</td>\n",
       "      <td>Texas</td>\n",
       "    </tr>\n",
       "    <tr>\n",
       "      <th>...</th>\n",
       "      <td>...</td>\n",
       "      <td>...</td>\n",
       "      <td>...</td>\n",
       "      <td>...</td>\n",
       "      <td>...</td>\n",
       "      <td>...</td>\n",
       "      <td>...</td>\n",
       "    </tr>\n",
       "    <tr>\n",
       "      <th>225895</th>\n",
       "      <td>169065</td>\n",
       "      <td>53.32</td>\n",
       "      <td>2011-06-11 16:12:21</td>\n",
       "      <td>Diagnosis</td>\n",
       "      <td>Sepsis due to Hemophilus influenzae</td>\n",
       "      <td>5</td>\n",
       "      <td>Arizona</td>\n",
       "    </tr>\n",
       "    <tr>\n",
       "      <th>225896</th>\n",
       "      <td>169065</td>\n",
       "      <td>53.32</td>\n",
       "      <td>2011-06-11 16:12:21</td>\n",
       "      <td>Diagnosis</td>\n",
       "      <td>Acute kidney failure with tubular necrosis</td>\n",
       "      <td>7</td>\n",
       "      <td>Arizona</td>\n",
       "    </tr>\n",
       "    <tr>\n",
       "      <th>225897</th>\n",
       "      <td>169065</td>\n",
       "      <td>53.32</td>\n",
       "      <td>2011-06-11 16:12:21</td>\n",
       "      <td>Diagnosis</td>\n",
       "      <td>Acute respiratory failure</td>\n",
       "      <td>1</td>\n",
       "      <td>Arizona</td>\n",
       "    </tr>\n",
       "    <tr>\n",
       "      <th>225898</th>\n",
       "      <td>169065</td>\n",
       "      <td>53.32</td>\n",
       "      <td>2011-06-11 16:12:21</td>\n",
       "      <td>Diagnosis</td>\n",
       "      <td>Pleural effusion in other conditions classifie...</td>\n",
       "      <td>10</td>\n",
       "      <td>Arizona</td>\n",
       "    </tr>\n",
       "    <tr>\n",
       "      <th>225899</th>\n",
       "      <td>169065</td>\n",
       "      <td>53.32</td>\n",
       "      <td>2011-06-11 16:44:30</td>\n",
       "      <td>Diagnosis</td>\n",
       "      <td>Other specified counseling</td>\n",
       "      <td>P</td>\n",
       "      <td>Arizona</td>\n",
       "    </tr>\n",
       "  </tbody>\n",
       "</table>\n",
       "<p>225900 rows × 7 columns</p>\n",
       "</div>"
      ],
      "text/plain": [
       "        Internalpatientid  Age at condition documentation  \\\n",
       "0                       6                           88.10   \n",
       "1                       7                           74.37   \n",
       "2                       9                           51.88   \n",
       "3                       9                           51.88   \n",
       "4                       9                           51.88   \n",
       "...                   ...                             ...   \n",
       "225895             169065                           53.32   \n",
       "225896             169065                           53.32   \n",
       "225897             169065                           53.32   \n",
       "225898             169065                           53.32   \n",
       "225899             169065                           53.32   \n",
       "\n",
       "       Condition documented date Condition type  \\\n",
       "0            2014-10-16 01:23:22      Diagnosis   \n",
       "1            2020-11-22 12:50:02      Diagnosis   \n",
       "2            2000-04-26 17:39:58      Diagnosis   \n",
       "3            2000-04-26 17:39:58      Diagnosis   \n",
       "4            2000-04-26 17:39:58      Diagnosis   \n",
       "...                          ...            ...   \n",
       "225895       2011-06-11 16:12:21      Diagnosis   \n",
       "225896       2011-06-11 16:12:21      Diagnosis   \n",
       "225897       2011-06-11 16:12:21      Diagnosis   \n",
       "225898       2011-06-11 16:12:21      Diagnosis   \n",
       "225899       2011-06-11 16:44:30      Diagnosis   \n",
       "\n",
       "                         Condition code icd10 subcategory  \\\n",
       "0                              Other specified counseling   \n",
       "1                         Dental caries on smooth surface   \n",
       "2       Hypertensive heart disease with heart failure ...   \n",
       "3       Hypertensive heart disease with heart failure ...   \n",
       "4               Nonrheumatic mitral (valve) insufficiency   \n",
       "...                                                   ...   \n",
       "225895                Sepsis due to Hemophilus influenzae   \n",
       "225896         Acute kidney failure with tubular necrosis   \n",
       "225897                          Acute respiratory failure   \n",
       "225898  Pleural effusion in other conditions classifie...   \n",
       "225899                         Other specified counseling   \n",
       "\n",
       "       Diagnosis sequence number or rank     State  \n",
       "0                                      P     Texas  \n",
       "1                                      P  Nebraska  \n",
       "2                                      5     Texas  \n",
       "3                                      5     Texas  \n",
       "4                                      4     Texas  \n",
       "...                                  ...       ...  \n",
       "225895                                 5   Arizona  \n",
       "225896                                 7   Arizona  \n",
       "225897                                 1   Arizona  \n",
       "225898                                10   Arizona  \n",
       "225899                                 P   Arizona  \n",
       "\n",
       "[225900 rows x 7 columns]"
      ]
     },
     "execution_count": 49,
     "metadata": {},
     "output_type": "execute_result"
    }
   ],
   "source": [
    "# Find the latest records for each internal patient id\n",
    "max_ages = conditions_test_data.groupby('Internalpatientid')['Age at condition documentation'].max().reset_index()\n",
    "\n",
    "# Merge with the original dataframe to get the rows with the latest age\n",
    "conditions_test_data = pd.merge(conditions_test_data, max_ages, on =['Internalpatientid','Age at condition documentation'], how = 'inner')\n",
    "\n",
    "conditions_test_data"
   ]
  },
  {
   "cell_type": "markdown",
   "metadata": {},
   "source": [
    "# Rounding off the Age "
   ]
  },
  {
   "cell_type": "code",
   "execution_count": 50,
   "metadata": {
    "collapsed": false,
    "gather": {
     "logged": 1688639616321
    },
    "jupyter": {
     "outputs_hidden": false
    },
    "nteract": {
     "transient": {
      "deleting": false
     }
    }
   },
   "outputs": [],
   "source": [
    "# Round off age column\n",
    "conditions_test_data['Age at condition documentation'] = conditions_test_data['Age at condition documentation'].apply(lambda x: round(x,))"
   ]
  },
  {
   "cell_type": "code",
   "execution_count": 51,
   "metadata": {
    "collapsed": false,
    "gather": {
     "logged": 1688639617222
    },
    "jupyter": {
     "outputs_hidden": false
    },
    "nteract": {
     "transient": {
      "deleting": false
     }
    }
   },
   "outputs": [
    {
     "data": {
      "text/html": [
       "<div>\n",
       "<style scoped>\n",
       "    .dataframe tbody tr th:only-of-type {\n",
       "        vertical-align: middle;\n",
       "    }\n",
       "\n",
       "    .dataframe tbody tr th {\n",
       "        vertical-align: top;\n",
       "    }\n",
       "\n",
       "    .dataframe thead th {\n",
       "        text-align: right;\n",
       "    }\n",
       "</style>\n",
       "<table border=\"1\" class=\"dataframe\">\n",
       "  <thead>\n",
       "    <tr style=\"text-align: right;\">\n",
       "      <th></th>\n",
       "      <th>Internalpatientid</th>\n",
       "      <th>Age at condition documentation</th>\n",
       "      <th>Condition documented date</th>\n",
       "      <th>Condition type</th>\n",
       "      <th>Condition code icd10 subcategory</th>\n",
       "      <th>Diagnosis sequence number or rank</th>\n",
       "      <th>State</th>\n",
       "    </tr>\n",
       "  </thead>\n",
       "  <tbody>\n",
       "    <tr>\n",
       "      <th>0</th>\n",
       "      <td>6</td>\n",
       "      <td>88</td>\n",
       "      <td>2014-10-16 01:23:22</td>\n",
       "      <td>Diagnosis</td>\n",
       "      <td>Other specified counseling</td>\n",
       "      <td>P</td>\n",
       "      <td>Texas</td>\n",
       "    </tr>\n",
       "    <tr>\n",
       "      <th>1</th>\n",
       "      <td>7</td>\n",
       "      <td>74</td>\n",
       "      <td>2020-11-22 12:50:02</td>\n",
       "      <td>Diagnosis</td>\n",
       "      <td>Dental caries on smooth surface</td>\n",
       "      <td>P</td>\n",
       "      <td>Nebraska</td>\n",
       "    </tr>\n",
       "    <tr>\n",
       "      <th>2</th>\n",
       "      <td>9</td>\n",
       "      <td>52</td>\n",
       "      <td>2000-04-26 17:39:58</td>\n",
       "      <td>Diagnosis</td>\n",
       "      <td>Hypertensive heart disease with heart failure ...</td>\n",
       "      <td>5</td>\n",
       "      <td>Texas</td>\n",
       "    </tr>\n",
       "    <tr>\n",
       "      <th>3</th>\n",
       "      <td>9</td>\n",
       "      <td>52</td>\n",
       "      <td>2000-04-26 17:39:58</td>\n",
       "      <td>Diagnosis</td>\n",
       "      <td>Hypertensive heart disease with heart failure ...</td>\n",
       "      <td>5</td>\n",
       "      <td>Texas</td>\n",
       "    </tr>\n",
       "    <tr>\n",
       "      <th>4</th>\n",
       "      <td>9</td>\n",
       "      <td>52</td>\n",
       "      <td>2000-04-26 17:39:58</td>\n",
       "      <td>Diagnosis</td>\n",
       "      <td>Nonrheumatic mitral (valve) insufficiency</td>\n",
       "      <td>4</td>\n",
       "      <td>Texas</td>\n",
       "    </tr>\n",
       "    <tr>\n",
       "      <th>...</th>\n",
       "      <td>...</td>\n",
       "      <td>...</td>\n",
       "      <td>...</td>\n",
       "      <td>...</td>\n",
       "      <td>...</td>\n",
       "      <td>...</td>\n",
       "      <td>...</td>\n",
       "    </tr>\n",
       "    <tr>\n",
       "      <th>225895</th>\n",
       "      <td>169065</td>\n",
       "      <td>53</td>\n",
       "      <td>2011-06-11 16:12:21</td>\n",
       "      <td>Diagnosis</td>\n",
       "      <td>Sepsis due to Hemophilus influenzae</td>\n",
       "      <td>5</td>\n",
       "      <td>Arizona</td>\n",
       "    </tr>\n",
       "    <tr>\n",
       "      <th>225896</th>\n",
       "      <td>169065</td>\n",
       "      <td>53</td>\n",
       "      <td>2011-06-11 16:12:21</td>\n",
       "      <td>Diagnosis</td>\n",
       "      <td>Acute kidney failure with tubular necrosis</td>\n",
       "      <td>7</td>\n",
       "      <td>Arizona</td>\n",
       "    </tr>\n",
       "    <tr>\n",
       "      <th>225897</th>\n",
       "      <td>169065</td>\n",
       "      <td>53</td>\n",
       "      <td>2011-06-11 16:12:21</td>\n",
       "      <td>Diagnosis</td>\n",
       "      <td>Acute respiratory failure</td>\n",
       "      <td>1</td>\n",
       "      <td>Arizona</td>\n",
       "    </tr>\n",
       "    <tr>\n",
       "      <th>225898</th>\n",
       "      <td>169065</td>\n",
       "      <td>53</td>\n",
       "      <td>2011-06-11 16:12:21</td>\n",
       "      <td>Diagnosis</td>\n",
       "      <td>Pleural effusion in other conditions classifie...</td>\n",
       "      <td>10</td>\n",
       "      <td>Arizona</td>\n",
       "    </tr>\n",
       "    <tr>\n",
       "      <th>225899</th>\n",
       "      <td>169065</td>\n",
       "      <td>53</td>\n",
       "      <td>2011-06-11 16:44:30</td>\n",
       "      <td>Diagnosis</td>\n",
       "      <td>Other specified counseling</td>\n",
       "      <td>P</td>\n",
       "      <td>Arizona</td>\n",
       "    </tr>\n",
       "  </tbody>\n",
       "</table>\n",
       "<p>225900 rows × 7 columns</p>\n",
       "</div>"
      ],
      "text/plain": [
       "        Internalpatientid  Age at condition documentation  \\\n",
       "0                       6                              88   \n",
       "1                       7                              74   \n",
       "2                       9                              52   \n",
       "3                       9                              52   \n",
       "4                       9                              52   \n",
       "...                   ...                             ...   \n",
       "225895             169065                              53   \n",
       "225896             169065                              53   \n",
       "225897             169065                              53   \n",
       "225898             169065                              53   \n",
       "225899             169065                              53   \n",
       "\n",
       "       Condition documented date Condition type  \\\n",
       "0            2014-10-16 01:23:22      Diagnosis   \n",
       "1            2020-11-22 12:50:02      Diagnosis   \n",
       "2            2000-04-26 17:39:58      Diagnosis   \n",
       "3            2000-04-26 17:39:58      Diagnosis   \n",
       "4            2000-04-26 17:39:58      Diagnosis   \n",
       "...                          ...            ...   \n",
       "225895       2011-06-11 16:12:21      Diagnosis   \n",
       "225896       2011-06-11 16:12:21      Diagnosis   \n",
       "225897       2011-06-11 16:12:21      Diagnosis   \n",
       "225898       2011-06-11 16:12:21      Diagnosis   \n",
       "225899       2011-06-11 16:44:30      Diagnosis   \n",
       "\n",
       "                         Condition code icd10 subcategory  \\\n",
       "0                              Other specified counseling   \n",
       "1                         Dental caries on smooth surface   \n",
       "2       Hypertensive heart disease with heart failure ...   \n",
       "3       Hypertensive heart disease with heart failure ...   \n",
       "4               Nonrheumatic mitral (valve) insufficiency   \n",
       "...                                                   ...   \n",
       "225895                Sepsis due to Hemophilus influenzae   \n",
       "225896         Acute kidney failure with tubular necrosis   \n",
       "225897                          Acute respiratory failure   \n",
       "225898  Pleural effusion in other conditions classifie...   \n",
       "225899                         Other specified counseling   \n",
       "\n",
       "       Diagnosis sequence number or rank     State  \n",
       "0                                      P     Texas  \n",
       "1                                      P  Nebraska  \n",
       "2                                      5     Texas  \n",
       "3                                      5     Texas  \n",
       "4                                      4     Texas  \n",
       "...                                  ...       ...  \n",
       "225895                                 5   Arizona  \n",
       "225896                                 7   Arizona  \n",
       "225897                                 1   Arizona  \n",
       "225898                                10   Arizona  \n",
       "225899                                 P   Arizona  \n",
       "\n",
       "[225900 rows x 7 columns]"
      ]
     },
     "execution_count": 51,
     "metadata": {},
     "output_type": "execute_result"
    }
   ],
   "source": [
    "conditions_test_data"
   ]
  },
  {
   "cell_type": "code",
   "execution_count": 52,
   "metadata": {},
   "outputs": [
    {
     "data": {
      "text/plain": [
       "34813"
      ]
     },
     "execution_count": 52,
     "metadata": {},
     "output_type": "execute_result"
    }
   ],
   "source": [
    "conditions_test_data.Internalpatientid.nunique()"
   ]
  },
  {
   "cell_type": "code",
   "execution_count": 53,
   "metadata": {
    "collapsed": false,
    "gather": {
     "logged": 1688641806542
    },
    "jupyter": {
     "outputs_hidden": false
    },
    "nteract": {
     "transient": {
      "deleting": false
     }
    }
   },
   "outputs": [],
   "source": [
    "# value counts\n",
    "df = conditions_test_data[\"Internalpatientid\"].value_counts().loc[lambda x: x  > 60]"
   ]
  },
  {
   "cell_type": "code",
   "execution_count": 54,
   "metadata": {
    "collapsed": false,
    "gather": {
     "logged": 1688641834307
    },
    "jupyter": {
     "outputs_hidden": false
    },
    "nteract": {
     "transient": {
      "deleting": false
     }
    }
   },
   "outputs": [],
   "source": [
    "df = df.reset_index() "
   ]
  },
  {
   "cell_type": "code",
   "execution_count": 55,
   "metadata": {
    "collapsed": false,
    "gather": {
     "logged": 1688641978280
    },
    "jupyter": {
     "outputs_hidden": false
    },
    "nteract": {
     "transient": {
      "deleting": false
     }
    }
   },
   "outputs": [],
   "source": [
    "df.columns = [\"Internalpatientid\",\"count_conditions\"]"
   ]
  },
  {
   "cell_type": "code",
   "execution_count": 56,
   "metadata": {
    "collapsed": false,
    "gather": {
     "logged": 1688642255621
    },
    "jupyter": {
     "outputs_hidden": false
    },
    "nteract": {
     "transient": {
      "deleting": false
     }
    }
   },
   "outputs": [],
   "source": [
    "df.drop('count_conditions', axis = 1, inplace = True)"
   ]
  },
  {
   "cell_type": "code",
   "execution_count": 57,
   "metadata": {
    "collapsed": false,
    "gather": {
     "logged": 1688642261992
    },
    "jupyter": {
     "outputs_hidden": false
    },
    "nteract": {
     "transient": {
      "deleting": false
     }
    }
   },
   "outputs": [
    {
     "data": {
      "text/plain": [
       "327"
      ]
     },
     "execution_count": 57,
     "metadata": {},
     "output_type": "execute_result"
    }
   ],
   "source": [
    "len(df)"
   ]
  },
  {
   "cell_type": "code",
   "execution_count": 58,
   "metadata": {
    "collapsed": false,
    "gather": {
     "logged": 1688642410202
    },
    "jupyter": {
     "outputs_hidden": false
    },
    "nteract": {
     "transient": {
      "deleting": false
     }
    }
   },
   "outputs": [
    {
     "data": {
      "text/html": [
       "<div>\n",
       "<style scoped>\n",
       "    .dataframe tbody tr th:only-of-type {\n",
       "        vertical-align: middle;\n",
       "    }\n",
       "\n",
       "    .dataframe tbody tr th {\n",
       "        vertical-align: top;\n",
       "    }\n",
       "\n",
       "    .dataframe thead th {\n",
       "        text-align: right;\n",
       "    }\n",
       "</style>\n",
       "<table border=\"1\" class=\"dataframe\">\n",
       "  <thead>\n",
       "    <tr style=\"text-align: right;\">\n",
       "      <th></th>\n",
       "      <th>Internalpatientid</th>\n",
       "      <th>Age at condition documentation</th>\n",
       "      <th>Condition documented date</th>\n",
       "      <th>Condition type</th>\n",
       "      <th>Condition code icd10 subcategory</th>\n",
       "      <th>Diagnosis sequence number or rank</th>\n",
       "      <th>State</th>\n",
       "    </tr>\n",
       "  </thead>\n",
       "  <tbody>\n",
       "    <tr>\n",
       "      <th>0</th>\n",
       "      <td>6</td>\n",
       "      <td>88</td>\n",
       "      <td>2014-10-16 01:23:22</td>\n",
       "      <td>Diagnosis</td>\n",
       "      <td>Other specified counseling</td>\n",
       "      <td>P</td>\n",
       "      <td>Texas</td>\n",
       "    </tr>\n",
       "    <tr>\n",
       "      <th>1</th>\n",
       "      <td>7</td>\n",
       "      <td>74</td>\n",
       "      <td>2020-11-22 12:50:02</td>\n",
       "      <td>Diagnosis</td>\n",
       "      <td>Dental caries on smooth surface</td>\n",
       "      <td>P</td>\n",
       "      <td>Nebraska</td>\n",
       "    </tr>\n",
       "    <tr>\n",
       "      <th>2</th>\n",
       "      <td>9</td>\n",
       "      <td>52</td>\n",
       "      <td>2000-04-26 17:39:58</td>\n",
       "      <td>Diagnosis</td>\n",
       "      <td>Hypertensive heart disease with heart failure ...</td>\n",
       "      <td>5</td>\n",
       "      <td>Texas</td>\n",
       "    </tr>\n",
       "    <tr>\n",
       "      <th>3</th>\n",
       "      <td>9</td>\n",
       "      <td>52</td>\n",
       "      <td>2000-04-26 17:39:58</td>\n",
       "      <td>Diagnosis</td>\n",
       "      <td>Hypertensive heart disease with heart failure ...</td>\n",
       "      <td>5</td>\n",
       "      <td>Texas</td>\n",
       "    </tr>\n",
       "    <tr>\n",
       "      <th>4</th>\n",
       "      <td>9</td>\n",
       "      <td>52</td>\n",
       "      <td>2000-04-26 17:39:58</td>\n",
       "      <td>Diagnosis</td>\n",
       "      <td>Nonrheumatic mitral (valve) insufficiency</td>\n",
       "      <td>4</td>\n",
       "      <td>Texas</td>\n",
       "    </tr>\n",
       "    <tr>\n",
       "      <th>...</th>\n",
       "      <td>...</td>\n",
       "      <td>...</td>\n",
       "      <td>...</td>\n",
       "      <td>...</td>\n",
       "      <td>...</td>\n",
       "      <td>...</td>\n",
       "      <td>...</td>\n",
       "    </tr>\n",
       "    <tr>\n",
       "      <th>225895</th>\n",
       "      <td>169065</td>\n",
       "      <td>53</td>\n",
       "      <td>2011-06-11 16:12:21</td>\n",
       "      <td>Diagnosis</td>\n",
       "      <td>Sepsis due to Hemophilus influenzae</td>\n",
       "      <td>5</td>\n",
       "      <td>Arizona</td>\n",
       "    </tr>\n",
       "    <tr>\n",
       "      <th>225896</th>\n",
       "      <td>169065</td>\n",
       "      <td>53</td>\n",
       "      <td>2011-06-11 16:12:21</td>\n",
       "      <td>Diagnosis</td>\n",
       "      <td>Acute kidney failure with tubular necrosis</td>\n",
       "      <td>7</td>\n",
       "      <td>Arizona</td>\n",
       "    </tr>\n",
       "    <tr>\n",
       "      <th>225897</th>\n",
       "      <td>169065</td>\n",
       "      <td>53</td>\n",
       "      <td>2011-06-11 16:12:21</td>\n",
       "      <td>Diagnosis</td>\n",
       "      <td>Acute respiratory failure</td>\n",
       "      <td>1</td>\n",
       "      <td>Arizona</td>\n",
       "    </tr>\n",
       "    <tr>\n",
       "      <th>225898</th>\n",
       "      <td>169065</td>\n",
       "      <td>53</td>\n",
       "      <td>2011-06-11 16:12:21</td>\n",
       "      <td>Diagnosis</td>\n",
       "      <td>Pleural effusion in other conditions classifie...</td>\n",
       "      <td>10</td>\n",
       "      <td>Arizona</td>\n",
       "    </tr>\n",
       "    <tr>\n",
       "      <th>225899</th>\n",
       "      <td>169065</td>\n",
       "      <td>53</td>\n",
       "      <td>2011-06-11 16:44:30</td>\n",
       "      <td>Diagnosis</td>\n",
       "      <td>Other specified counseling</td>\n",
       "      <td>P</td>\n",
       "      <td>Arizona</td>\n",
       "    </tr>\n",
       "  </tbody>\n",
       "</table>\n",
       "<p>199252 rows × 7 columns</p>\n",
       "</div>"
      ],
      "text/plain": [
       "        Internalpatientid  Age at condition documentation  \\\n",
       "0                       6                              88   \n",
       "1                       7                              74   \n",
       "2                       9                              52   \n",
       "3                       9                              52   \n",
       "4                       9                              52   \n",
       "...                   ...                             ...   \n",
       "225895             169065                              53   \n",
       "225896             169065                              53   \n",
       "225897             169065                              53   \n",
       "225898             169065                              53   \n",
       "225899             169065                              53   \n",
       "\n",
       "       Condition documented date Condition type  \\\n",
       "0            2014-10-16 01:23:22      Diagnosis   \n",
       "1            2020-11-22 12:50:02      Diagnosis   \n",
       "2            2000-04-26 17:39:58      Diagnosis   \n",
       "3            2000-04-26 17:39:58      Diagnosis   \n",
       "4            2000-04-26 17:39:58      Diagnosis   \n",
       "...                          ...            ...   \n",
       "225895       2011-06-11 16:12:21      Diagnosis   \n",
       "225896       2011-06-11 16:12:21      Diagnosis   \n",
       "225897       2011-06-11 16:12:21      Diagnosis   \n",
       "225898       2011-06-11 16:12:21      Diagnosis   \n",
       "225899       2011-06-11 16:44:30      Diagnosis   \n",
       "\n",
       "                         Condition code icd10 subcategory  \\\n",
       "0                              Other specified counseling   \n",
       "1                         Dental caries on smooth surface   \n",
       "2       Hypertensive heart disease with heart failure ...   \n",
       "3       Hypertensive heart disease with heart failure ...   \n",
       "4               Nonrheumatic mitral (valve) insufficiency   \n",
       "...                                                   ...   \n",
       "225895                Sepsis due to Hemophilus influenzae   \n",
       "225896         Acute kidney failure with tubular necrosis   \n",
       "225897                          Acute respiratory failure   \n",
       "225898  Pleural effusion in other conditions classifie...   \n",
       "225899                         Other specified counseling   \n",
       "\n",
       "       Diagnosis sequence number or rank     State  \n",
       "0                                      P     Texas  \n",
       "1                                      P  Nebraska  \n",
       "2                                      5     Texas  \n",
       "3                                      5     Texas  \n",
       "4                                      4     Texas  \n",
       "...                                  ...       ...  \n",
       "225895                                 5   Arizona  \n",
       "225896                                 7   Arizona  \n",
       "225897                                 1   Arizona  \n",
       "225898                                10   Arizona  \n",
       "225899                                 P   Arizona  \n",
       "\n",
       "[199252 rows x 7 columns]"
      ]
     },
     "execution_count": 58,
     "metadata": {},
     "output_type": "execute_result"
    }
   ],
   "source": [
    "# Merge the two dataframes based on 'Internalpatientid'\n",
    "merged_df = conditions_test_data.merge(df, on='Internalpatientid', how='left')\n",
    "\n",
    "# Filter rows from DataFrame 1 that have matching values in DataFrame 2\n",
    "filtered_df = merged_df[~merged_df['Internalpatientid'].isin(df['Internalpatientid'])]\n",
    "\n",
    "# Print only the columns of DataFrame 1\n",
    "filtered_df"
   ]
  },
  {
   "cell_type": "code",
   "execution_count": 59,
   "metadata": {},
   "outputs": [
    {
     "data": {
      "text/plain": [
       "34486"
      ]
     },
     "execution_count": 59,
     "metadata": {},
     "output_type": "execute_result"
    }
   ],
   "source": [
    "filtered_df.Internalpatientid.nunique()"
   ]
  },
  {
   "cell_type": "code",
   "execution_count": 60,
   "metadata": {
    "collapsed": false,
    "gather": {
     "logged": 1688642581002
    },
    "jupyter": {
     "outputs_hidden": false
    },
    "nteract": {
     "transient": {
      "deleting": false
     }
    }
   },
   "outputs": [],
   "source": [
    "conditions_test_data = filtered_df # assigning"
   ]
  },
  {
   "cell_type": "markdown",
   "metadata": {},
   "source": [
    "# Adding  'Age at condition documentation' & 'Condition code icd10 subcategory' columns with '_'"
   ]
  },
  {
   "cell_type": "code",
   "execution_count": 61,
   "metadata": {
    "collapsed": false,
    "gather": {
     "logged": 1688642710870
    },
    "jupyter": {
     "outputs_hidden": false
    },
    "nteract": {
     "transient": {
      "deleting": false
     }
    }
   },
   "outputs": [],
   "source": [
    "#In this code, we create a new column called 'Condition_code_icd10_subcategory' by concatenating the values of the 'Age at condition documentation' column, underscore ('_'), and the 'Condition code icd10 subcategory' column\n",
    "#converted to a string using the `astype(str)` function.\n",
    "conditions_test_data['Condition_code_icd10_subcategory'] =  conditions_test_data['Age at condition documentation'].astype(str) + '_' +  conditions_test_data['Condition code icd10 subcategory']"
   ]
  },
  {
   "cell_type": "code",
   "execution_count": 62,
   "metadata": {
    "collapsed": false,
    "gather": {
     "logged": 1688642723190
    },
    "jupyter": {
     "outputs_hidden": false
    },
    "nteract": {
     "transient": {
      "deleting": false
     }
    }
   },
   "outputs": [
    {
     "data": {
      "text/html": [
       "<div>\n",
       "<style scoped>\n",
       "    .dataframe tbody tr th:only-of-type {\n",
       "        vertical-align: middle;\n",
       "    }\n",
       "\n",
       "    .dataframe tbody tr th {\n",
       "        vertical-align: top;\n",
       "    }\n",
       "\n",
       "    .dataframe thead th {\n",
       "        text-align: right;\n",
       "    }\n",
       "</style>\n",
       "<table border=\"1\" class=\"dataframe\">\n",
       "  <thead>\n",
       "    <tr style=\"text-align: right;\">\n",
       "      <th></th>\n",
       "      <th>Internalpatientid</th>\n",
       "      <th>Age at condition documentation</th>\n",
       "      <th>Condition documented date</th>\n",
       "      <th>Condition type</th>\n",
       "      <th>Condition code icd10 subcategory</th>\n",
       "      <th>Diagnosis sequence number or rank</th>\n",
       "      <th>State</th>\n",
       "      <th>Condition_code_icd10_subcategory</th>\n",
       "    </tr>\n",
       "  </thead>\n",
       "  <tbody>\n",
       "    <tr>\n",
       "      <th>0</th>\n",
       "      <td>6</td>\n",
       "      <td>88</td>\n",
       "      <td>2014-10-16 01:23:22</td>\n",
       "      <td>Diagnosis</td>\n",
       "      <td>Other specified counseling</td>\n",
       "      <td>P</td>\n",
       "      <td>Texas</td>\n",
       "      <td>88_Other specified counseling</td>\n",
       "    </tr>\n",
       "    <tr>\n",
       "      <th>1</th>\n",
       "      <td>7</td>\n",
       "      <td>74</td>\n",
       "      <td>2020-11-22 12:50:02</td>\n",
       "      <td>Diagnosis</td>\n",
       "      <td>Dental caries on smooth surface</td>\n",
       "      <td>P</td>\n",
       "      <td>Nebraska</td>\n",
       "      <td>74_Dental caries on smooth surface</td>\n",
       "    </tr>\n",
       "    <tr>\n",
       "      <th>2</th>\n",
       "      <td>9</td>\n",
       "      <td>52</td>\n",
       "      <td>2000-04-26 17:39:58</td>\n",
       "      <td>Diagnosis</td>\n",
       "      <td>Hypertensive heart disease with heart failure ...</td>\n",
       "      <td>5</td>\n",
       "      <td>Texas</td>\n",
       "      <td>52_Hypertensive heart disease with heart failu...</td>\n",
       "    </tr>\n",
       "    <tr>\n",
       "      <th>3</th>\n",
       "      <td>9</td>\n",
       "      <td>52</td>\n",
       "      <td>2000-04-26 17:39:58</td>\n",
       "      <td>Diagnosis</td>\n",
       "      <td>Hypertensive heart disease with heart failure ...</td>\n",
       "      <td>5</td>\n",
       "      <td>Texas</td>\n",
       "      <td>52_Hypertensive heart disease with heart failu...</td>\n",
       "    </tr>\n",
       "    <tr>\n",
       "      <th>4</th>\n",
       "      <td>9</td>\n",
       "      <td>52</td>\n",
       "      <td>2000-04-26 17:39:58</td>\n",
       "      <td>Diagnosis</td>\n",
       "      <td>Nonrheumatic mitral (valve) insufficiency</td>\n",
       "      <td>4</td>\n",
       "      <td>Texas</td>\n",
       "      <td>52_Nonrheumatic mitral (valve) insufficiency</td>\n",
       "    </tr>\n",
       "    <tr>\n",
       "      <th>...</th>\n",
       "      <td>...</td>\n",
       "      <td>...</td>\n",
       "      <td>...</td>\n",
       "      <td>...</td>\n",
       "      <td>...</td>\n",
       "      <td>...</td>\n",
       "      <td>...</td>\n",
       "      <td>...</td>\n",
       "    </tr>\n",
       "    <tr>\n",
       "      <th>225895</th>\n",
       "      <td>169065</td>\n",
       "      <td>53</td>\n",
       "      <td>2011-06-11 16:12:21</td>\n",
       "      <td>Diagnosis</td>\n",
       "      <td>Sepsis due to Hemophilus influenzae</td>\n",
       "      <td>5</td>\n",
       "      <td>Arizona</td>\n",
       "      <td>53_Sepsis due to Hemophilus influenzae</td>\n",
       "    </tr>\n",
       "    <tr>\n",
       "      <th>225896</th>\n",
       "      <td>169065</td>\n",
       "      <td>53</td>\n",
       "      <td>2011-06-11 16:12:21</td>\n",
       "      <td>Diagnosis</td>\n",
       "      <td>Acute kidney failure with tubular necrosis</td>\n",
       "      <td>7</td>\n",
       "      <td>Arizona</td>\n",
       "      <td>53_Acute kidney failure with tubular necrosis</td>\n",
       "    </tr>\n",
       "    <tr>\n",
       "      <th>225897</th>\n",
       "      <td>169065</td>\n",
       "      <td>53</td>\n",
       "      <td>2011-06-11 16:12:21</td>\n",
       "      <td>Diagnosis</td>\n",
       "      <td>Acute respiratory failure</td>\n",
       "      <td>1</td>\n",
       "      <td>Arizona</td>\n",
       "      <td>53_Acute respiratory failure</td>\n",
       "    </tr>\n",
       "    <tr>\n",
       "      <th>225898</th>\n",
       "      <td>169065</td>\n",
       "      <td>53</td>\n",
       "      <td>2011-06-11 16:12:21</td>\n",
       "      <td>Diagnosis</td>\n",
       "      <td>Pleural effusion in other conditions classifie...</td>\n",
       "      <td>10</td>\n",
       "      <td>Arizona</td>\n",
       "      <td>53_Pleural effusion in other conditions classi...</td>\n",
       "    </tr>\n",
       "    <tr>\n",
       "      <th>225899</th>\n",
       "      <td>169065</td>\n",
       "      <td>53</td>\n",
       "      <td>2011-06-11 16:44:30</td>\n",
       "      <td>Diagnosis</td>\n",
       "      <td>Other specified counseling</td>\n",
       "      <td>P</td>\n",
       "      <td>Arizona</td>\n",
       "      <td>53_Other specified counseling</td>\n",
       "    </tr>\n",
       "  </tbody>\n",
       "</table>\n",
       "<p>199252 rows × 8 columns</p>\n",
       "</div>"
      ],
      "text/plain": [
       "        Internalpatientid  Age at condition documentation  \\\n",
       "0                       6                              88   \n",
       "1                       7                              74   \n",
       "2                       9                              52   \n",
       "3                       9                              52   \n",
       "4                       9                              52   \n",
       "...                   ...                             ...   \n",
       "225895             169065                              53   \n",
       "225896             169065                              53   \n",
       "225897             169065                              53   \n",
       "225898             169065                              53   \n",
       "225899             169065                              53   \n",
       "\n",
       "       Condition documented date Condition type  \\\n",
       "0            2014-10-16 01:23:22      Diagnosis   \n",
       "1            2020-11-22 12:50:02      Diagnosis   \n",
       "2            2000-04-26 17:39:58      Diagnosis   \n",
       "3            2000-04-26 17:39:58      Diagnosis   \n",
       "4            2000-04-26 17:39:58      Diagnosis   \n",
       "...                          ...            ...   \n",
       "225895       2011-06-11 16:12:21      Diagnosis   \n",
       "225896       2011-06-11 16:12:21      Diagnosis   \n",
       "225897       2011-06-11 16:12:21      Diagnosis   \n",
       "225898       2011-06-11 16:12:21      Diagnosis   \n",
       "225899       2011-06-11 16:44:30      Diagnosis   \n",
       "\n",
       "                         Condition code icd10 subcategory  \\\n",
       "0                              Other specified counseling   \n",
       "1                         Dental caries on smooth surface   \n",
       "2       Hypertensive heart disease with heart failure ...   \n",
       "3       Hypertensive heart disease with heart failure ...   \n",
       "4               Nonrheumatic mitral (valve) insufficiency   \n",
       "...                                                   ...   \n",
       "225895                Sepsis due to Hemophilus influenzae   \n",
       "225896         Acute kidney failure with tubular necrosis   \n",
       "225897                          Acute respiratory failure   \n",
       "225898  Pleural effusion in other conditions classifie...   \n",
       "225899                         Other specified counseling   \n",
       "\n",
       "       Diagnosis sequence number or rank     State  \\\n",
       "0                                      P     Texas   \n",
       "1                                      P  Nebraska   \n",
       "2                                      5     Texas   \n",
       "3                                      5     Texas   \n",
       "4                                      4     Texas   \n",
       "...                                  ...       ...   \n",
       "225895                                 5   Arizona   \n",
       "225896                                 7   Arizona   \n",
       "225897                                 1   Arizona   \n",
       "225898                                10   Arizona   \n",
       "225899                                 P   Arizona   \n",
       "\n",
       "                         Condition_code_icd10_subcategory  \n",
       "0                           88_Other specified counseling  \n",
       "1                      74_Dental caries on smooth surface  \n",
       "2       52_Hypertensive heart disease with heart failu...  \n",
       "3       52_Hypertensive heart disease with heart failu...  \n",
       "4            52_Nonrheumatic mitral (valve) insufficiency  \n",
       "...                                                   ...  \n",
       "225895             53_Sepsis due to Hemophilus influenzae  \n",
       "225896      53_Acute kidney failure with tubular necrosis  \n",
       "225897                       53_Acute respiratory failure  \n",
       "225898  53_Pleural effusion in other conditions classi...  \n",
       "225899                      53_Other specified counseling  \n",
       "\n",
       "[199252 rows x 8 columns]"
      ]
     },
     "execution_count": 62,
     "metadata": {},
     "output_type": "execute_result"
    }
   ],
   "source": [
    "conditions_test_data"
   ]
  },
  {
   "cell_type": "markdown",
   "metadata": {},
   "source": [
    "# Dropping all unnecessary columns"
   ]
  },
  {
   "cell_type": "code",
   "execution_count": 63,
   "metadata": {
    "collapsed": false,
    "gather": {
     "logged": 1688642742504
    },
    "jupyter": {
     "outputs_hidden": false
    },
    "nteract": {
     "transient": {
      "deleting": false
     }
    }
   },
   "outputs": [],
   "source": [
    "# Remove columns \n",
    "conditions_test_data.drop([\"Age at condition documentation\",\"Condition documented date\",\"Condition type\",\n",
    "                           \"Condition code icd10 subcategory\",\"Diagnosis sequence number or rank\",\"State\"], axis=1,inplace=True)"
   ]
  },
  {
   "cell_type": "code",
   "execution_count": 64,
   "metadata": {
    "collapsed": false,
    "gather": {
     "logged": 1688642758159
    },
    "jupyter": {
     "outputs_hidden": false
    },
    "nteract": {
     "transient": {
      "deleting": false
     }
    }
   },
   "outputs": [],
   "source": [
    "conditions_test_data = conditions_test_data"
   ]
  },
  {
   "cell_type": "code",
   "execution_count": 65,
   "metadata": {
    "collapsed": false,
    "gather": {
     "logged": 1688642770379
    },
    "jupyter": {
     "outputs_hidden": false
    },
    "nteract": {
     "transient": {
      "deleting": false
     }
    }
   },
   "outputs": [
    {
     "data": {
      "text/html": [
       "<div>\n",
       "<style scoped>\n",
       "    .dataframe tbody tr th:only-of-type {\n",
       "        vertical-align: middle;\n",
       "    }\n",
       "\n",
       "    .dataframe tbody tr th {\n",
       "        vertical-align: top;\n",
       "    }\n",
       "\n",
       "    .dataframe thead th {\n",
       "        text-align: right;\n",
       "    }\n",
       "</style>\n",
       "<table border=\"1\" class=\"dataframe\">\n",
       "  <thead>\n",
       "    <tr style=\"text-align: right;\">\n",
       "      <th></th>\n",
       "      <th>Internalpatientid</th>\n",
       "      <th>Condition_code_icd10_subcategory</th>\n",
       "    </tr>\n",
       "  </thead>\n",
       "  <tbody>\n",
       "    <tr>\n",
       "      <th>0</th>\n",
       "      <td>6</td>\n",
       "      <td>88_Other specified counseling</td>\n",
       "    </tr>\n",
       "    <tr>\n",
       "      <th>1</th>\n",
       "      <td>7</td>\n",
       "      <td>74_Dental caries on smooth surface</td>\n",
       "    </tr>\n",
       "    <tr>\n",
       "      <th>2</th>\n",
       "      <td>9</td>\n",
       "      <td>52_Hypertensive heart disease with heart failu...</td>\n",
       "    </tr>\n",
       "    <tr>\n",
       "      <th>3</th>\n",
       "      <td>9</td>\n",
       "      <td>52_Hypertensive heart disease with heart failu...</td>\n",
       "    </tr>\n",
       "    <tr>\n",
       "      <th>4</th>\n",
       "      <td>9</td>\n",
       "      <td>52_Nonrheumatic mitral (valve) insufficiency</td>\n",
       "    </tr>\n",
       "    <tr>\n",
       "      <th>...</th>\n",
       "      <td>...</td>\n",
       "      <td>...</td>\n",
       "    </tr>\n",
       "    <tr>\n",
       "      <th>225895</th>\n",
       "      <td>169065</td>\n",
       "      <td>53_Sepsis due to Hemophilus influenzae</td>\n",
       "    </tr>\n",
       "    <tr>\n",
       "      <th>225896</th>\n",
       "      <td>169065</td>\n",
       "      <td>53_Acute kidney failure with tubular necrosis</td>\n",
       "    </tr>\n",
       "    <tr>\n",
       "      <th>225897</th>\n",
       "      <td>169065</td>\n",
       "      <td>53_Acute respiratory failure</td>\n",
       "    </tr>\n",
       "    <tr>\n",
       "      <th>225898</th>\n",
       "      <td>169065</td>\n",
       "      <td>53_Pleural effusion in other conditions classi...</td>\n",
       "    </tr>\n",
       "    <tr>\n",
       "      <th>225899</th>\n",
       "      <td>169065</td>\n",
       "      <td>53_Other specified counseling</td>\n",
       "    </tr>\n",
       "  </tbody>\n",
       "</table>\n",
       "<p>199252 rows × 2 columns</p>\n",
       "</div>"
      ],
      "text/plain": [
       "        Internalpatientid                   Condition_code_icd10_subcategory\n",
       "0                       6                      88_Other specified counseling\n",
       "1                       7                 74_Dental caries on smooth surface\n",
       "2                       9  52_Hypertensive heart disease with heart failu...\n",
       "3                       9  52_Hypertensive heart disease with heart failu...\n",
       "4                       9       52_Nonrheumatic mitral (valve) insufficiency\n",
       "...                   ...                                                ...\n",
       "225895             169065             53_Sepsis due to Hemophilus influenzae\n",
       "225896             169065      53_Acute kidney failure with tubular necrosis\n",
       "225897             169065                       53_Acute respiratory failure\n",
       "225898             169065  53_Pleural effusion in other conditions classi...\n",
       "225899             169065                      53_Other specified counseling\n",
       "\n",
       "[199252 rows x 2 columns]"
      ]
     },
     "execution_count": 65,
     "metadata": {},
     "output_type": "execute_result"
    }
   ],
   "source": [
    "conditions_test_data "
   ]
  },
  {
   "cell_type": "code",
   "execution_count": 66,
   "metadata": {
    "collapsed": false,
    "gather": {
     "logged": 1688642806559
    },
    "jupyter": {
     "outputs_hidden": false
    },
    "nteract": {
     "transient": {
      "deleting": false
     }
    }
   },
   "outputs": [
    {
     "data": {
      "text/html": [
       "<div>\n",
       "<style scoped>\n",
       "    .dataframe tbody tr th:only-of-type {\n",
       "        vertical-align: middle;\n",
       "    }\n",
       "\n",
       "    .dataframe tbody tr th {\n",
       "        vertical-align: top;\n",
       "    }\n",
       "\n",
       "    .dataframe thead th {\n",
       "        text-align: right;\n",
       "    }\n",
       "</style>\n",
       "<table border=\"1\" class=\"dataframe\">\n",
       "  <thead>\n",
       "    <tr style=\"text-align: right;\">\n",
       "      <th></th>\n",
       "      <th>Internalpatientid</th>\n",
       "      <th>Condition_code_icd10_subcategory</th>\n",
       "    </tr>\n",
       "  </thead>\n",
       "  <tbody>\n",
       "    <tr>\n",
       "      <th>0</th>\n",
       "      <td>6</td>\n",
       "      <td>88_Other specified counseling</td>\n",
       "    </tr>\n",
       "    <tr>\n",
       "      <th>1</th>\n",
       "      <td>7</td>\n",
       "      <td>74_Dental caries on smooth surface</td>\n",
       "    </tr>\n",
       "    <tr>\n",
       "      <th>2</th>\n",
       "      <td>9</td>\n",
       "      <td>52_Hypertensive heart disease with heart failu...</td>\n",
       "    </tr>\n",
       "    <tr>\n",
       "      <th>3</th>\n",
       "      <td>12</td>\n",
       "      <td>74_Polyosteoarthritis, unspecified ; Osteoarth...</td>\n",
       "    </tr>\n",
       "    <tr>\n",
       "      <th>4</th>\n",
       "      <td>17</td>\n",
       "      <td>82_Encounter for other specified aftercare,82_...</td>\n",
       "    </tr>\n",
       "    <tr>\n",
       "      <th>...</th>\n",
       "      <td>...</td>\n",
       "      <td>...</td>\n",
       "    </tr>\n",
       "    <tr>\n",
       "      <th>34481</th>\n",
       "      <td>169037</td>\n",
       "      <td>88_Other forms of chronic ischemic heart disea...</td>\n",
       "    </tr>\n",
       "    <tr>\n",
       "      <th>34482</th>\n",
       "      <td>169045</td>\n",
       "      <td>98_Tinnitus,98_Sensorineural hearing loss, bil...</td>\n",
       "    </tr>\n",
       "    <tr>\n",
       "      <th>34483</th>\n",
       "      <td>169058</td>\n",
       "      <td>79_Malignant neoplasm of upper lobe, bronchus ...</td>\n",
       "    </tr>\n",
       "    <tr>\n",
       "      <th>34484</th>\n",
       "      <td>169059</td>\n",
       "      <td>91_Problem related to unspecified psychosocial...</td>\n",
       "    </tr>\n",
       "    <tr>\n",
       "      <th>34485</th>\n",
       "      <td>169065</td>\n",
       "      <td>53_Encounter for administrative examinations, ...</td>\n",
       "    </tr>\n",
       "  </tbody>\n",
       "</table>\n",
       "<p>34486 rows × 2 columns</p>\n",
       "</div>"
      ],
      "text/plain": [
       "       Internalpatientid                   Condition_code_icd10_subcategory\n",
       "0                      6                      88_Other specified counseling\n",
       "1                      7                 74_Dental caries on smooth surface\n",
       "2                      9  52_Hypertensive heart disease with heart failu...\n",
       "3                     12  74_Polyosteoarthritis, unspecified ; Osteoarth...\n",
       "4                     17  82_Encounter for other specified aftercare,82_...\n",
       "...                  ...                                                ...\n",
       "34481             169037  88_Other forms of chronic ischemic heart disea...\n",
       "34482             169045  98_Tinnitus,98_Sensorineural hearing loss, bil...\n",
       "34483             169058  79_Malignant neoplasm of upper lobe, bronchus ...\n",
       "34484             169059  91_Problem related to unspecified psychosocial...\n",
       "34485             169065  53_Encounter for administrative examinations, ...\n",
       "\n",
       "[34486 rows x 2 columns]"
      ]
     },
     "execution_count": 66,
     "metadata": {},
     "output_type": "execute_result"
    }
   ],
   "source": [
    "# Group the DataFrame by 'Internalpatientid' and concatenate the icd10 values and\n",
    "#The purpose of `x.dropna()` is to remove any missing values from the Series before applying a subsequent operation,\n",
    "# such as concatenation using the `join` function. By dropping the missing values,\n",
    "#we ensure that only non-null values are included in the resulting concatenated string.\n",
    "df_grouped = conditions_test_data.groupby('Internalpatientid').agg(lambda x: ','.join(x.dropna()))\n",
    "df_grouped \n",
    "\n",
    "# Reset the index of the grouped DataFrame\n",
    "df_grouped_condition = df_grouped.reset_index()\n",
    "df_grouped_condition"
   ]
  },
  {
   "cell_type": "markdown",
   "metadata": {},
   "source": [
    "# Saving csv file "
   ]
  },
  {
   "cell_type": "code",
   "execution_count": 68,
   "metadata": {
    "collapsed": false,
    "gather": {
     "logged": 1688642879872
    },
    "jupyter": {
     "outputs_hidden": false
    },
    "nteract": {
     "transient": {
      "deleting": false
     }
    }
   },
   "outputs": [],
   "source": [
    "df_grouped_condition.to_csv('/mnt/batch/tasks/shared/LS_root/mounts/clusters/team-3-susai-gpu2/code/Users/900379/Output_files_test/df_conditions_test.csv')"
   ]
  }
 ],
 "metadata": {
  "kernel_info": {
   "name": "python38-azureml"
  },
  "kernelspec": {
   "display_name": "Python 3.8 - AzureML",
   "language": "python",
   "name": "python38-azureml"
  },
  "language_info": {
   "codemirror_mode": {
    "name": "ipython",
    "version": 3
   },
   "file_extension": ".py",
   "mimetype": "text/x-python",
   "name": "python",
   "nbconvert_exporter": "python",
   "pygments_lexer": "ipython3",
   "version": "3.8.5"
  },
  "microsoft": {
   "host": {
    "AzureML": {
     "notebookHasBeenCompleted": true
    }
   },
   "ms_spell_check": {
    "ms_spell_check_language": "en"
   }
  },
  "nteract": {
   "version": "nteract-front-end@1.0.0"
  }
 },
 "nbformat": 4,
 "nbformat_minor": 4
}
