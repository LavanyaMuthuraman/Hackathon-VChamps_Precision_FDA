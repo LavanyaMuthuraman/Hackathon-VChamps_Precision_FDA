{
  "cells": [
    {
      "cell_type": "code",
      "source": [
        "from azureml.core import Workspace, Dataset\r\n",
        "\r\n",
        "subscription_id = 'bcfe0c62-8ebe-4df0-a46d-1efcf8739a5b'\r\n",
        "resource_group = 'VChamp-Team3'\r\n",
        "workspace_name = 'vchamp-team3'\r\n",
        "\r\n",
        "\r\n",
        "# storage account : Algorithmia, Resource group: VChamp-Team3 and workspace: vchamp-team3.\r\n",
        "\r\n",
        "workspace = Workspace(subscription_id, resource_group, workspace_name)"
      ],
      "outputs": [],
      "execution_count": 1,
      "metadata": {
        "gather": {
          "logged": 1689052360892
        }
      }
    },
    {
      "cell_type": "code",
      "source": [
        "#['data_team3_synthetic_quality_check']\r\n",
        "datastore = workspace.datastores['data_team3_synthetic_test']"
      ],
      "outputs": [],
      "execution_count": 2,
      "metadata": {
        "jupyter": {
          "source_hidden": false,
          "outputs_hidden": false
        },
        "nteract": {
          "transient": {
            "deleting": false
          }
        },
        "gather": {
          "logged": 1689052363839
        }
      }
    },
    {
      "cell_type": "code",
      "source": [
        "dataset = Dataset.Tabular.from_delimited_files(path = [(datastore, 'medications_ordered_test.csv')])\r\n",
        "\r\n",
        "# preview the first 3 rows of the dataset\r\n",
        "# dataset.to_pandas_dataframe()"
      ],
      "outputs": [],
      "execution_count": 3,
      "metadata": {
        "jupyter": {
          "source_hidden": false,
          "outputs_hidden": false
        },
        "nteract": {
          "transient": {
            "deleting": false
          }
        },
        "gather": {
          "logged": 1689052368865
        }
      }
    },
    {
      "cell_type": "code",
      "source": [
        "medications_ordered = dataset.to_pandas_dataframe()"
      ],
      "outputs": [],
      "execution_count": 4,
      "metadata": {
        "jupyter": {
          "source_hidden": false,
          "outputs_hidden": false
        },
        "nteract": {
          "transient": {
            "deleting": false
          }
        },
        "gather": {
          "logged": 1689052378154
        }
      }
    },
    {
      "cell_type": "code",
      "source": [
        "medications_ordered"
      ],
      "outputs": [
        {
          "output_type": "execute_result",
          "execution_count": 5,
          "data": {
            "text/plain": "           Column1  Internalpatientid  Age at med ordered          Order date   \n0               31                100           54.451524 2016-03-11 00:45:56  \\\n1               32                100           54.741514 2016-06-25 00:33:25   \n2               33                100           54.827014 2016-07-26 06:33:56   \n3               34                100           55.089929 2016-10-30 08:51:18   \n4               35                100           55.090329 2016-10-30 12:22:12   \n...            ...                ...                 ...                 ...   \n15661656  75157466              99997           86.207646 2015-05-07 21:28:30   \n15661657  75157467              99997           86.690662 2015-10-31 10:29:07   \n15661658  75157468              99997           87.469851 2016-08-11 05:32:09   \n15661659  75157469              99997           89.148625 2018-04-16 19:44:03   \n15661660  75157470              99997           89.688760 2018-10-31 05:47:55   \n\n         Medication start date Medication stop date Order discontinue date   \n0          2016-03-11 10:57:56  2016-12-25 00:40:56    2016-12-25 00:40:56  \\\n1          2016-06-24 09:39:25  2016-07-09 01:15:25    2016-07-09 01:15:25   \n2                          NaT  2016-12-26 05:34:56    2016-12-26 05:34:56   \n3          2016-10-30 08:54:18  2016-10-31 09:36:18    2016-10-31 09:36:18   \n4          2016-10-30 12:22:12  2016-10-30 21:39:12                    NaT   \n...                        ...                  ...                    ...   \n15661656                   NaT  2020-08-07 00:36:30                    NaT   \n15661657   2015-11-02 23:02:07  2016-10-30 23:02:07                    NaT   \n15661658   2016-08-11 17:26:09  2017-08-11 17:26:09                    NaT   \n15661659   2018-04-16 10:28:03  2019-04-15 10:28:03    2019-04-15 19:50:03   \n15661660   2018-11-02 14:11:55  2019-10-31 14:11:55                    NaT   \n\n                Ordered medication atc 5  Order status   \n0                      hydrogen peroxide  discontinued  \\\n1                            guaifenesin  discontinued   \n2         dextromethorphan ; guaifenesin  discontinued   \n3                               riluzole  discontinued   \n4                     potassium chloride       expired   \n...                                  ...           ...   \n15661656                      folic acid  discontinued   \n15661657                     hydroxyzine       expired   \n15661658         budesonide ; formoterol       expired   \n15661659                       memantine  discontinued   \n15661660                      furosemide       expired   \n\n                             Stop reason           State  \n0         Requesting Physician Cancelled        New York  \n1                         Obsolete Order        New York  \n2         Requesting Physician Cancelled        New York  \n3         Requesting Physician Cancelled        New York  \n4               Not specified (no value)        New York  \n...                                  ...             ...  \n15661656        Not specified (no value)  North Carolina  \n15661657        Not specified (no value)  North Carolina  \n15661658        Not specified (no value)  North Carolina  \n15661659        Not specified (no value)  North Carolina  \n15661660        Not specified (no value)  North Carolina  \n\n[15661661 rows x 11 columns]",
            "text/html": "<div>\n<style scoped>\n    .dataframe tbody tr th:only-of-type {\n        vertical-align: middle;\n    }\n\n    .dataframe tbody tr th {\n        vertical-align: top;\n    }\n\n    .dataframe thead th {\n        text-align: right;\n    }\n</style>\n<table border=\"1\" class=\"dataframe\">\n  <thead>\n    <tr style=\"text-align: right;\">\n      <th></th>\n      <th>Column1</th>\n      <th>Internalpatientid</th>\n      <th>Age at med ordered</th>\n      <th>Order date</th>\n      <th>Medication start date</th>\n      <th>Medication stop date</th>\n      <th>Order discontinue date</th>\n      <th>Ordered medication atc 5</th>\n      <th>Order status</th>\n      <th>Stop reason</th>\n      <th>State</th>\n    </tr>\n  </thead>\n  <tbody>\n    <tr>\n      <th>0</th>\n      <td>31</td>\n      <td>100</td>\n      <td>54.451524</td>\n      <td>2016-03-11 00:45:56</td>\n      <td>2016-03-11 10:57:56</td>\n      <td>2016-12-25 00:40:56</td>\n      <td>2016-12-25 00:40:56</td>\n      <td>hydrogen peroxide</td>\n      <td>discontinued</td>\n      <td>Requesting Physician Cancelled</td>\n      <td>New York</td>\n    </tr>\n    <tr>\n      <th>1</th>\n      <td>32</td>\n      <td>100</td>\n      <td>54.741514</td>\n      <td>2016-06-25 00:33:25</td>\n      <td>2016-06-24 09:39:25</td>\n      <td>2016-07-09 01:15:25</td>\n      <td>2016-07-09 01:15:25</td>\n      <td>guaifenesin</td>\n      <td>discontinued</td>\n      <td>Obsolete Order</td>\n      <td>New York</td>\n    </tr>\n    <tr>\n      <th>2</th>\n      <td>33</td>\n      <td>100</td>\n      <td>54.827014</td>\n      <td>2016-07-26 06:33:56</td>\n      <td>NaT</td>\n      <td>2016-12-26 05:34:56</td>\n      <td>2016-12-26 05:34:56</td>\n      <td>dextromethorphan ; guaifenesin</td>\n      <td>discontinued</td>\n      <td>Requesting Physician Cancelled</td>\n      <td>New York</td>\n    </tr>\n    <tr>\n      <th>3</th>\n      <td>34</td>\n      <td>100</td>\n      <td>55.089929</td>\n      <td>2016-10-30 08:51:18</td>\n      <td>2016-10-30 08:54:18</td>\n      <td>2016-10-31 09:36:18</td>\n      <td>2016-10-31 09:36:18</td>\n      <td>riluzole</td>\n      <td>discontinued</td>\n      <td>Requesting Physician Cancelled</td>\n      <td>New York</td>\n    </tr>\n    <tr>\n      <th>4</th>\n      <td>35</td>\n      <td>100</td>\n      <td>55.090329</td>\n      <td>2016-10-30 12:22:12</td>\n      <td>2016-10-30 12:22:12</td>\n      <td>2016-10-30 21:39:12</td>\n      <td>NaT</td>\n      <td>potassium chloride</td>\n      <td>expired</td>\n      <td>Not specified (no value)</td>\n      <td>New York</td>\n    </tr>\n    <tr>\n      <th>...</th>\n      <td>...</td>\n      <td>...</td>\n      <td>...</td>\n      <td>...</td>\n      <td>...</td>\n      <td>...</td>\n      <td>...</td>\n      <td>...</td>\n      <td>...</td>\n      <td>...</td>\n      <td>...</td>\n    </tr>\n    <tr>\n      <th>15661656</th>\n      <td>75157466</td>\n      <td>99997</td>\n      <td>86.207646</td>\n      <td>2015-05-07 21:28:30</td>\n      <td>NaT</td>\n      <td>2020-08-07 00:36:30</td>\n      <td>NaT</td>\n      <td>folic acid</td>\n      <td>discontinued</td>\n      <td>Not specified (no value)</td>\n      <td>North Carolina</td>\n    </tr>\n    <tr>\n      <th>15661657</th>\n      <td>75157467</td>\n      <td>99997</td>\n      <td>86.690662</td>\n      <td>2015-10-31 10:29:07</td>\n      <td>2015-11-02 23:02:07</td>\n      <td>2016-10-30 23:02:07</td>\n      <td>NaT</td>\n      <td>hydroxyzine</td>\n      <td>expired</td>\n      <td>Not specified (no value)</td>\n      <td>North Carolina</td>\n    </tr>\n    <tr>\n      <th>15661658</th>\n      <td>75157468</td>\n      <td>99997</td>\n      <td>87.469851</td>\n      <td>2016-08-11 05:32:09</td>\n      <td>2016-08-11 17:26:09</td>\n      <td>2017-08-11 17:26:09</td>\n      <td>NaT</td>\n      <td>budesonide ; formoterol</td>\n      <td>expired</td>\n      <td>Not specified (no value)</td>\n      <td>North Carolina</td>\n    </tr>\n    <tr>\n      <th>15661659</th>\n      <td>75157469</td>\n      <td>99997</td>\n      <td>89.148625</td>\n      <td>2018-04-16 19:44:03</td>\n      <td>2018-04-16 10:28:03</td>\n      <td>2019-04-15 10:28:03</td>\n      <td>2019-04-15 19:50:03</td>\n      <td>memantine</td>\n      <td>discontinued</td>\n      <td>Not specified (no value)</td>\n      <td>North Carolina</td>\n    </tr>\n    <tr>\n      <th>15661660</th>\n      <td>75157470</td>\n      <td>99997</td>\n      <td>89.688760</td>\n      <td>2018-10-31 05:47:55</td>\n      <td>2018-11-02 14:11:55</td>\n      <td>2019-10-31 14:11:55</td>\n      <td>NaT</td>\n      <td>furosemide</td>\n      <td>expired</td>\n      <td>Not specified (no value)</td>\n      <td>North Carolina</td>\n    </tr>\n  </tbody>\n</table>\n<p>15661661 rows × 11 columns</p>\n</div>"
          },
          "metadata": {}
        }
      ],
      "execution_count": 5,
      "metadata": {
        "jupyter": {
          "source_hidden": false,
          "outputs_hidden": false
        },
        "nteract": {
          "transient": {
            "deleting": false
          }
        },
        "gather": {
          "logged": 1689052383999
        }
      }
    },
    {
      "cell_type": "code",
      "source": [
        "# finding the unique values for each column\r\n",
        "medications_ordered.nunique()"
      ],
      "outputs": [
        {
          "output_type": "execute_result",
          "execution_count": 6,
          "data": {
            "text/plain": "Column1                     15661661\nInternalpatientid              34575\nAge at med ordered          15623357\nOrder date                   9431532\nMedication start date       10050838\nMedication stop date        11003291\nOrder discontinue date       8315062\nOrdered medication atc 5        3512\nOrder status                      12\nStop reason                      479\nState                             51\ndtype: int64"
          },
          "metadata": {}
        }
      ],
      "execution_count": 6,
      "metadata": {
        "jupyter": {
          "source_hidden": false,
          "outputs_hidden": false
        },
        "nteract": {
          "transient": {
            "deleting": false
          }
        },
        "gather": {
          "logged": 1689052417061
        }
      }
    },
    {
      "cell_type": "code",
      "source": [
        "medications_ordered['Internalpatientid'].value_counts()"
      ],
      "outputs": [
        {
          "output_type": "execute_result",
          "execution_count": 7,
          "data": {
            "text/plain": "Internalpatientid\n105587    11762\n70623      9372\n20645      9119\n122832     8799\n61845      7720\n          ...  \n116647        1\n1291          1\n141066        1\n160319        1\n98164         1\nName: count, Length: 34575, dtype: int64"
          },
          "metadata": {}
        }
      ],
      "execution_count": 7,
      "metadata": {
        "jupyter": {
          "source_hidden": false,
          "outputs_hidden": false
        },
        "nteract": {
          "transient": {
            "deleting": false
          }
        },
        "gather": {
          "logged": 1689052429787
        }
      }
    },
    {
      "cell_type": "code",
      "source": [
        "medications_ordered.drop(['Column1','Order date','Medication start date','Medication stop date','Order discontinue date'], axis = 1,inplace =True)\r\n",
        "medications_ordered"
      ],
      "outputs": [
        {
          "output_type": "execute_result",
          "execution_count": 8,
          "data": {
            "text/plain": "          Internalpatientid  Age at med ordered   \n0                       100           54.451524  \\\n1                       100           54.741514   \n2                       100           54.827014   \n3                       100           55.089929   \n4                       100           55.090329   \n...                     ...                 ...   \n15661656              99997           86.207646   \n15661657              99997           86.690662   \n15661658              99997           87.469851   \n15661659              99997           89.148625   \n15661660              99997           89.688760   \n\n                Ordered medication atc 5  Order status   \n0                      hydrogen peroxide  discontinued  \\\n1                            guaifenesin  discontinued   \n2         dextromethorphan ; guaifenesin  discontinued   \n3                               riluzole  discontinued   \n4                     potassium chloride       expired   \n...                                  ...           ...   \n15661656                      folic acid  discontinued   \n15661657                     hydroxyzine       expired   \n15661658         budesonide ; formoterol       expired   \n15661659                       memantine  discontinued   \n15661660                      furosemide       expired   \n\n                             Stop reason           State  \n0         Requesting Physician Cancelled        New York  \n1                         Obsolete Order        New York  \n2         Requesting Physician Cancelled        New York  \n3         Requesting Physician Cancelled        New York  \n4               Not specified (no value)        New York  \n...                                  ...             ...  \n15661656        Not specified (no value)  North Carolina  \n15661657        Not specified (no value)  North Carolina  \n15661658        Not specified (no value)  North Carolina  \n15661659        Not specified (no value)  North Carolina  \n15661660        Not specified (no value)  North Carolina  \n\n[15661661 rows x 6 columns]",
            "text/html": "<div>\n<style scoped>\n    .dataframe tbody tr th:only-of-type {\n        vertical-align: middle;\n    }\n\n    .dataframe tbody tr th {\n        vertical-align: top;\n    }\n\n    .dataframe thead th {\n        text-align: right;\n    }\n</style>\n<table border=\"1\" class=\"dataframe\">\n  <thead>\n    <tr style=\"text-align: right;\">\n      <th></th>\n      <th>Internalpatientid</th>\n      <th>Age at med ordered</th>\n      <th>Ordered medication atc 5</th>\n      <th>Order status</th>\n      <th>Stop reason</th>\n      <th>State</th>\n    </tr>\n  </thead>\n  <tbody>\n    <tr>\n      <th>0</th>\n      <td>100</td>\n      <td>54.451524</td>\n      <td>hydrogen peroxide</td>\n      <td>discontinued</td>\n      <td>Requesting Physician Cancelled</td>\n      <td>New York</td>\n    </tr>\n    <tr>\n      <th>1</th>\n      <td>100</td>\n      <td>54.741514</td>\n      <td>guaifenesin</td>\n      <td>discontinued</td>\n      <td>Obsolete Order</td>\n      <td>New York</td>\n    </tr>\n    <tr>\n      <th>2</th>\n      <td>100</td>\n      <td>54.827014</td>\n      <td>dextromethorphan ; guaifenesin</td>\n      <td>discontinued</td>\n      <td>Requesting Physician Cancelled</td>\n      <td>New York</td>\n    </tr>\n    <tr>\n      <th>3</th>\n      <td>100</td>\n      <td>55.089929</td>\n      <td>riluzole</td>\n      <td>discontinued</td>\n      <td>Requesting Physician Cancelled</td>\n      <td>New York</td>\n    </tr>\n    <tr>\n      <th>4</th>\n      <td>100</td>\n      <td>55.090329</td>\n      <td>potassium chloride</td>\n      <td>expired</td>\n      <td>Not specified (no value)</td>\n      <td>New York</td>\n    </tr>\n    <tr>\n      <th>...</th>\n      <td>...</td>\n      <td>...</td>\n      <td>...</td>\n      <td>...</td>\n      <td>...</td>\n      <td>...</td>\n    </tr>\n    <tr>\n      <th>15661656</th>\n      <td>99997</td>\n      <td>86.207646</td>\n      <td>folic acid</td>\n      <td>discontinued</td>\n      <td>Not specified (no value)</td>\n      <td>North Carolina</td>\n    </tr>\n    <tr>\n      <th>15661657</th>\n      <td>99997</td>\n      <td>86.690662</td>\n      <td>hydroxyzine</td>\n      <td>expired</td>\n      <td>Not specified (no value)</td>\n      <td>North Carolina</td>\n    </tr>\n    <tr>\n      <th>15661658</th>\n      <td>99997</td>\n      <td>87.469851</td>\n      <td>budesonide ; formoterol</td>\n      <td>expired</td>\n      <td>Not specified (no value)</td>\n      <td>North Carolina</td>\n    </tr>\n    <tr>\n      <th>15661659</th>\n      <td>99997</td>\n      <td>89.148625</td>\n      <td>memantine</td>\n      <td>discontinued</td>\n      <td>Not specified (no value)</td>\n      <td>North Carolina</td>\n    </tr>\n    <tr>\n      <th>15661660</th>\n      <td>99997</td>\n      <td>89.688760</td>\n      <td>furosemide</td>\n      <td>expired</td>\n      <td>Not specified (no value)</td>\n      <td>North Carolina</td>\n    </tr>\n  </tbody>\n</table>\n<p>15661661 rows × 6 columns</p>\n</div>"
          },
          "metadata": {}
        }
      ],
      "execution_count": 8,
      "metadata": {
        "jupyter": {
          "source_hidden": false,
          "outputs_hidden": false
        },
        "nteract": {
          "transient": {
            "deleting": false
          }
        },
        "gather": {
          "logged": 1689052509123
        }
      }
    },
    {
      "cell_type": "code",
      "source": [
        "medications_ordered.drop(['Stop reason','State'], axis = 1,inplace =True)\r\n",
        "\r\n",
        "medications_ordered"
      ],
      "outputs": [
        {
          "output_type": "execute_result",
          "execution_count": 9,
          "data": {
            "text/plain": "          Internalpatientid  Age at med ordered   \n0                       100           54.451524  \\\n1                       100           54.741514   \n2                       100           54.827014   \n3                       100           55.089929   \n4                       100           55.090329   \n...                     ...                 ...   \n15661656              99997           86.207646   \n15661657              99997           86.690662   \n15661658              99997           87.469851   \n15661659              99997           89.148625   \n15661660              99997           89.688760   \n\n                Ordered medication atc 5  Order status  \n0                      hydrogen peroxide  discontinued  \n1                            guaifenesin  discontinued  \n2         dextromethorphan ; guaifenesin  discontinued  \n3                               riluzole  discontinued  \n4                     potassium chloride       expired  \n...                                  ...           ...  \n15661656                      folic acid  discontinued  \n15661657                     hydroxyzine       expired  \n15661658         budesonide ; formoterol       expired  \n15661659                       memantine  discontinued  \n15661660                      furosemide       expired  \n\n[15661661 rows x 4 columns]",
            "text/html": "<div>\n<style scoped>\n    .dataframe tbody tr th:only-of-type {\n        vertical-align: middle;\n    }\n\n    .dataframe tbody tr th {\n        vertical-align: top;\n    }\n\n    .dataframe thead th {\n        text-align: right;\n    }\n</style>\n<table border=\"1\" class=\"dataframe\">\n  <thead>\n    <tr style=\"text-align: right;\">\n      <th></th>\n      <th>Internalpatientid</th>\n      <th>Age at med ordered</th>\n      <th>Ordered medication atc 5</th>\n      <th>Order status</th>\n    </tr>\n  </thead>\n  <tbody>\n    <tr>\n      <th>0</th>\n      <td>100</td>\n      <td>54.451524</td>\n      <td>hydrogen peroxide</td>\n      <td>discontinued</td>\n    </tr>\n    <tr>\n      <th>1</th>\n      <td>100</td>\n      <td>54.741514</td>\n      <td>guaifenesin</td>\n      <td>discontinued</td>\n    </tr>\n    <tr>\n      <th>2</th>\n      <td>100</td>\n      <td>54.827014</td>\n      <td>dextromethorphan ; guaifenesin</td>\n      <td>discontinued</td>\n    </tr>\n    <tr>\n      <th>3</th>\n      <td>100</td>\n      <td>55.089929</td>\n      <td>riluzole</td>\n      <td>discontinued</td>\n    </tr>\n    <tr>\n      <th>4</th>\n      <td>100</td>\n      <td>55.090329</td>\n      <td>potassium chloride</td>\n      <td>expired</td>\n    </tr>\n    <tr>\n      <th>...</th>\n      <td>...</td>\n      <td>...</td>\n      <td>...</td>\n      <td>...</td>\n    </tr>\n    <tr>\n      <th>15661656</th>\n      <td>99997</td>\n      <td>86.207646</td>\n      <td>folic acid</td>\n      <td>discontinued</td>\n    </tr>\n    <tr>\n      <th>15661657</th>\n      <td>99997</td>\n      <td>86.690662</td>\n      <td>hydroxyzine</td>\n      <td>expired</td>\n    </tr>\n    <tr>\n      <th>15661658</th>\n      <td>99997</td>\n      <td>87.469851</td>\n      <td>budesonide ; formoterol</td>\n      <td>expired</td>\n    </tr>\n    <tr>\n      <th>15661659</th>\n      <td>99997</td>\n      <td>89.148625</td>\n      <td>memantine</td>\n      <td>discontinued</td>\n    </tr>\n    <tr>\n      <th>15661660</th>\n      <td>99997</td>\n      <td>89.688760</td>\n      <td>furosemide</td>\n      <td>expired</td>\n    </tr>\n  </tbody>\n</table>\n<p>15661661 rows × 4 columns</p>\n</div>"
          },
          "metadata": {}
        }
      ],
      "execution_count": 9,
      "metadata": {
        "jupyter": {
          "source_hidden": false,
          "outputs_hidden": false
        },
        "nteract": {
          "transient": {
            "deleting": false
          }
        },
        "gather": {
          "logged": 1689052524035
        }
      }
    },
    {
      "cell_type": "code",
      "source": [
        "sorted_df = medications_ordered.sort_values(by=['Internalpatientid','Age at med ordered'])\r\n",
        "sorted_df"
      ],
      "outputs": [
        {
          "output_type": "execute_result",
          "execution_count": 10,
          "data": {
            "text/plain": "          Internalpatientid  Age at med ordered Ordered medication atc 5   \n14385067                  6           74.765807      glyceryl trinitrate  \\\n14385068                  6           74.765807      glyceryl trinitrate   \n9723487                   6           74.767393                 warfarin   \n9723488                   6           74.767393                captopril   \n9712529                   6           74.767395              simvastatin   \n...                     ...                 ...                      ...   \n6053941              169065           53.316715      ipratropium bromide   \n12165134             169065           53.317309            hydromorphone   \n12165135             169065           53.319918            hydromorphone   \n12165136             169065           53.319918                lorazepam   \n6052888              169065           53.319923                 morphine   \n\n          Order status  \n14385067       expired  \n14385068  discontinued  \n9723487   discontinued  \n9723488   discontinued  \n9712529   discontinued  \n...                ...  \n6053941   discontinued  \n12165134  discontinued  \n12165135  discontinued  \n12165136  discontinued  \n6052888   discontinued  \n\n[15661661 rows x 4 columns]",
            "text/html": "<div>\n<style scoped>\n    .dataframe tbody tr th:only-of-type {\n        vertical-align: middle;\n    }\n\n    .dataframe tbody tr th {\n        vertical-align: top;\n    }\n\n    .dataframe thead th {\n        text-align: right;\n    }\n</style>\n<table border=\"1\" class=\"dataframe\">\n  <thead>\n    <tr style=\"text-align: right;\">\n      <th></th>\n      <th>Internalpatientid</th>\n      <th>Age at med ordered</th>\n      <th>Ordered medication atc 5</th>\n      <th>Order status</th>\n    </tr>\n  </thead>\n  <tbody>\n    <tr>\n      <th>14385067</th>\n      <td>6</td>\n      <td>74.765807</td>\n      <td>glyceryl trinitrate</td>\n      <td>expired</td>\n    </tr>\n    <tr>\n      <th>14385068</th>\n      <td>6</td>\n      <td>74.765807</td>\n      <td>glyceryl trinitrate</td>\n      <td>discontinued</td>\n    </tr>\n    <tr>\n      <th>9723487</th>\n      <td>6</td>\n      <td>74.767393</td>\n      <td>warfarin</td>\n      <td>discontinued</td>\n    </tr>\n    <tr>\n      <th>9723488</th>\n      <td>6</td>\n      <td>74.767393</td>\n      <td>captopril</td>\n      <td>discontinued</td>\n    </tr>\n    <tr>\n      <th>9712529</th>\n      <td>6</td>\n      <td>74.767395</td>\n      <td>simvastatin</td>\n      <td>discontinued</td>\n    </tr>\n    <tr>\n      <th>...</th>\n      <td>...</td>\n      <td>...</td>\n      <td>...</td>\n      <td>...</td>\n    </tr>\n    <tr>\n      <th>6053941</th>\n      <td>169065</td>\n      <td>53.316715</td>\n      <td>ipratropium bromide</td>\n      <td>discontinued</td>\n    </tr>\n    <tr>\n      <th>12165134</th>\n      <td>169065</td>\n      <td>53.317309</td>\n      <td>hydromorphone</td>\n      <td>discontinued</td>\n    </tr>\n    <tr>\n      <th>12165135</th>\n      <td>169065</td>\n      <td>53.319918</td>\n      <td>hydromorphone</td>\n      <td>discontinued</td>\n    </tr>\n    <tr>\n      <th>12165136</th>\n      <td>169065</td>\n      <td>53.319918</td>\n      <td>lorazepam</td>\n      <td>discontinued</td>\n    </tr>\n    <tr>\n      <th>6052888</th>\n      <td>169065</td>\n      <td>53.319923</td>\n      <td>morphine</td>\n      <td>discontinued</td>\n    </tr>\n  </tbody>\n</table>\n<p>15661661 rows × 4 columns</p>\n</div>"
          },
          "metadata": {}
        }
      ],
      "execution_count": 10,
      "metadata": {
        "jupyter": {
          "source_hidden": false,
          "outputs_hidden": false
        },
        "nteract": {
          "transient": {
            "deleting": false
          }
        },
        "gather": {
          "logged": 1689052560247
        }
      }
    },
    {
      "cell_type": "code",
      "source": [
        "sorted_df.isnull().sum()"
      ],
      "outputs": [
        {
          "output_type": "execute_result",
          "execution_count": 11,
          "data": {
            "text/plain": "Internalpatientid           0\nAge at med ordered          0\nOrdered medication atc 5    0\nOrder status                0\ndtype: int64"
          },
          "metadata": {}
        }
      ],
      "execution_count": 11,
      "metadata": {
        "jupyter": {
          "source_hidden": false,
          "outputs_hidden": false
        },
        "nteract": {
          "transient": {
            "deleting": false
          }
        },
        "gather": {
          "logged": 1689052564499
        }
      }
    },
    {
      "cell_type": "code",
      "source": [
        "# Format 'Age at measurement' values in the format 00.00\r\n",
        "sorted_df[\"Age at med ordered\"] = sorted_df[\"Age at med ordered\"].map(\"{:.3f}\".format)\r\n",
        "sorted_df"
      ],
      "outputs": [
        {
          "output_type": "execute_result",
          "execution_count": 12,
          "data": {
            "text/plain": "          Internalpatientid Age at med ordered Ordered medication atc 5   \n14385067                  6             74.766      glyceryl trinitrate  \\\n14385068                  6             74.766      glyceryl trinitrate   \n9723487                   6             74.767                 warfarin   \n9723488                   6             74.767                captopril   \n9712529                   6             74.767              simvastatin   \n...                     ...                ...                      ...   \n6053941              169065             53.317      ipratropium bromide   \n12165134             169065             53.317            hydromorphone   \n12165135             169065             53.320            hydromorphone   \n12165136             169065             53.320                lorazepam   \n6052888              169065             53.320                 morphine   \n\n          Order status  \n14385067       expired  \n14385068  discontinued  \n9723487   discontinued  \n9723488   discontinued  \n9712529   discontinued  \n...                ...  \n6053941   discontinued  \n12165134  discontinued  \n12165135  discontinued  \n12165136  discontinued  \n6052888   discontinued  \n\n[15661661 rows x 4 columns]",
            "text/html": "<div>\n<style scoped>\n    .dataframe tbody tr th:only-of-type {\n        vertical-align: middle;\n    }\n\n    .dataframe tbody tr th {\n        vertical-align: top;\n    }\n\n    .dataframe thead th {\n        text-align: right;\n    }\n</style>\n<table border=\"1\" class=\"dataframe\">\n  <thead>\n    <tr style=\"text-align: right;\">\n      <th></th>\n      <th>Internalpatientid</th>\n      <th>Age at med ordered</th>\n      <th>Ordered medication atc 5</th>\n      <th>Order status</th>\n    </tr>\n  </thead>\n  <tbody>\n    <tr>\n      <th>14385067</th>\n      <td>6</td>\n      <td>74.766</td>\n      <td>glyceryl trinitrate</td>\n      <td>expired</td>\n    </tr>\n    <tr>\n      <th>14385068</th>\n      <td>6</td>\n      <td>74.766</td>\n      <td>glyceryl trinitrate</td>\n      <td>discontinued</td>\n    </tr>\n    <tr>\n      <th>9723487</th>\n      <td>6</td>\n      <td>74.767</td>\n      <td>warfarin</td>\n      <td>discontinued</td>\n    </tr>\n    <tr>\n      <th>9723488</th>\n      <td>6</td>\n      <td>74.767</td>\n      <td>captopril</td>\n      <td>discontinued</td>\n    </tr>\n    <tr>\n      <th>9712529</th>\n      <td>6</td>\n      <td>74.767</td>\n      <td>simvastatin</td>\n      <td>discontinued</td>\n    </tr>\n    <tr>\n      <th>...</th>\n      <td>...</td>\n      <td>...</td>\n      <td>...</td>\n      <td>...</td>\n    </tr>\n    <tr>\n      <th>6053941</th>\n      <td>169065</td>\n      <td>53.317</td>\n      <td>ipratropium bromide</td>\n      <td>discontinued</td>\n    </tr>\n    <tr>\n      <th>12165134</th>\n      <td>169065</td>\n      <td>53.317</td>\n      <td>hydromorphone</td>\n      <td>discontinued</td>\n    </tr>\n    <tr>\n      <th>12165135</th>\n      <td>169065</td>\n      <td>53.320</td>\n      <td>hydromorphone</td>\n      <td>discontinued</td>\n    </tr>\n    <tr>\n      <th>12165136</th>\n      <td>169065</td>\n      <td>53.320</td>\n      <td>lorazepam</td>\n      <td>discontinued</td>\n    </tr>\n    <tr>\n      <th>6052888</th>\n      <td>169065</td>\n      <td>53.320</td>\n      <td>morphine</td>\n      <td>discontinued</td>\n    </tr>\n  </tbody>\n</table>\n<p>15661661 rows × 4 columns</p>\n</div>"
          },
          "metadata": {}
        }
      ],
      "execution_count": 12,
      "metadata": {
        "jupyter": {
          "source_hidden": false,
          "outputs_hidden": false
        },
        "nteract": {
          "transient": {
            "deleting": false
          }
        },
        "gather": {
          "logged": 1689052574070
        }
      }
    },
    {
      "cell_type": "code",
      "source": [
        "import pandas as pd"
      ],
      "outputs": [],
      "execution_count": 13,
      "metadata": {
        "jupyter": {
          "source_hidden": false,
          "outputs_hidden": false
        },
        "nteract": {
          "transient": {
            "deleting": false
          }
        },
        "gather": {
          "logged": 1689052586503
        }
      }
    },
    {
      "cell_type": "code",
      "source": [
        "# Find the maximum age for each internal patient id\r\n",
        "max_ages = sorted_df.groupby('Internalpatientid')['Age at med ordered'].max().reset_index()\r\n",
        "\r\n",
        "# Merge with the original dataframe to get the rows with the highest age\r\n",
        "\r\n",
        "result_df = pd.merge(sorted_df, max_ages, on =['Internalpatientid','Age at med ordered'], how = 'inner')\r\n",
        "\r\n",
        "result_df"
      ],
      "outputs": [
        {
          "output_type": "execute_result",
          "execution_count": 14,
          "data": {
            "text/plain": "        Internalpatientid Age at med ordered   \n0                       6             87.815  \\\n1                       6             87.815   \n2                       7             74.256   \n3                       7             74.256   \n4                       9             51.879   \n...                   ...                ...   \n115564             169058             79.025   \n115565             169059             90.754   \n115566             169065             53.320   \n115567             169065             53.320   \n115568             169065             53.320   \n\n                     Ordered medication atc 5  Order status  \n0                                    warfarin       expired  \n1                                  cetirizine       expired  \n2                             sodium fluoride        active  \n3                               chlorhexidine       expired  \n4                                    propofol  discontinued  \n...                                       ...           ...  \n115564  codeine ; paracetamol (acetaminophen)       expired  \n115565                              ibuprofen  discontinued  \n115566                          hydromorphone  discontinued  \n115567                              lorazepam  discontinued  \n115568                               morphine  discontinued  \n\n[115569 rows x 4 columns]",
            "text/html": "<div>\n<style scoped>\n    .dataframe tbody tr th:only-of-type {\n        vertical-align: middle;\n    }\n\n    .dataframe tbody tr th {\n        vertical-align: top;\n    }\n\n    .dataframe thead th {\n        text-align: right;\n    }\n</style>\n<table border=\"1\" class=\"dataframe\">\n  <thead>\n    <tr style=\"text-align: right;\">\n      <th></th>\n      <th>Internalpatientid</th>\n      <th>Age at med ordered</th>\n      <th>Ordered medication atc 5</th>\n      <th>Order status</th>\n    </tr>\n  </thead>\n  <tbody>\n    <tr>\n      <th>0</th>\n      <td>6</td>\n      <td>87.815</td>\n      <td>warfarin</td>\n      <td>expired</td>\n    </tr>\n    <tr>\n      <th>1</th>\n      <td>6</td>\n      <td>87.815</td>\n      <td>cetirizine</td>\n      <td>expired</td>\n    </tr>\n    <tr>\n      <th>2</th>\n      <td>7</td>\n      <td>74.256</td>\n      <td>sodium fluoride</td>\n      <td>active</td>\n    </tr>\n    <tr>\n      <th>3</th>\n      <td>7</td>\n      <td>74.256</td>\n      <td>chlorhexidine</td>\n      <td>expired</td>\n    </tr>\n    <tr>\n      <th>4</th>\n      <td>9</td>\n      <td>51.879</td>\n      <td>propofol</td>\n      <td>discontinued</td>\n    </tr>\n    <tr>\n      <th>...</th>\n      <td>...</td>\n      <td>...</td>\n      <td>...</td>\n      <td>...</td>\n    </tr>\n    <tr>\n      <th>115564</th>\n      <td>169058</td>\n      <td>79.025</td>\n      <td>codeine ; paracetamol (acetaminophen)</td>\n      <td>expired</td>\n    </tr>\n    <tr>\n      <th>115565</th>\n      <td>169059</td>\n      <td>90.754</td>\n      <td>ibuprofen</td>\n      <td>discontinued</td>\n    </tr>\n    <tr>\n      <th>115566</th>\n      <td>169065</td>\n      <td>53.320</td>\n      <td>hydromorphone</td>\n      <td>discontinued</td>\n    </tr>\n    <tr>\n      <th>115567</th>\n      <td>169065</td>\n      <td>53.320</td>\n      <td>lorazepam</td>\n      <td>discontinued</td>\n    </tr>\n    <tr>\n      <th>115568</th>\n      <td>169065</td>\n      <td>53.320</td>\n      <td>morphine</td>\n      <td>discontinued</td>\n    </tr>\n  </tbody>\n</table>\n<p>115569 rows × 4 columns</p>\n</div>"
          },
          "metadata": {}
        }
      ],
      "execution_count": 14,
      "metadata": {
        "jupyter": {
          "source_hidden": false,
          "outputs_hidden": false
        },
        "nteract": {
          "transient": {
            "deleting": false
          }
        },
        "gather": {
          "logged": 1689052607174
        }
      }
    },
    {
      "cell_type": "code",
      "source": [
        "# Convert 'Age at measurement' column from object to float\r\n",
        "result_df[\"Age at med ordered\"] = result_df[\"Age at med ordered\"].astype(float)\r\n",
        "\r\n",
        " \r\n",
        "\r\n",
        "# Round off the values in the 'Age at measurement' column to two decimal places\r\n",
        "result_df[\"Age at med ordered\"] = result_df[\"Age at med ordered\"].round()"
      ],
      "outputs": [],
      "execution_count": 15,
      "metadata": {
        "jupyter": {
          "source_hidden": false,
          "outputs_hidden": false
        },
        "nteract": {
          "transient": {
            "deleting": false
          }
        },
        "gather": {
          "logged": 1689052649076
        }
      }
    },
    {
      "cell_type": "code",
      "source": [
        "result_df['Age at med ordered'] = result_df['Age at med ordered'].astype('int')"
      ],
      "outputs": [],
      "execution_count": 16,
      "metadata": {
        "jupyter": {
          "source_hidden": false,
          "outputs_hidden": false
        },
        "nteract": {
          "transient": {
            "deleting": false
          }
        },
        "gather": {
          "logged": 1689052661705
        }
      }
    },
    {
      "cell_type": "code",
      "source": [
        "# Now the value counts\r\n",
        "df = result_df['Internalpatientid'].value_counts().loc[lambda x: x > 25]\r\n",
        "df"
      ],
      "outputs": [
        {
          "output_type": "execute_result",
          "execution_count": 17,
          "data": {
            "text/plain": "Internalpatientid\n112039    78\n130196    68\n123101    62\n151485    51\n153485    50\n          ..\n110145    26\n92837     26\n7765      26\n37101     26\n95895     26\nName: count, Length: 144, dtype: int64"
          },
          "metadata": {}
        }
      ],
      "execution_count": 17,
      "metadata": {
        "jupyter": {
          "source_hidden": false,
          "outputs_hidden": false
        },
        "nteract": {
          "transient": {
            "deleting": false
          }
        },
        "gather": {
          "logged": 1689052673706
        }
      }
    },
    {
      "cell_type": "code",
      "source": [
        "df = df.reset_index()"
      ],
      "outputs": [],
      "execution_count": 18,
      "metadata": {
        "jupyter": {
          "source_hidden": false,
          "outputs_hidden": false
        },
        "nteract": {
          "transient": {
            "deleting": false
          }
        },
        "gather": {
          "logged": 1689052686937
        }
      }
    },
    {
      "cell_type": "code",
      "source": [
        "df.columns = [\"Internalpatientid\",\"count_conditions\"]"
      ],
      "outputs": [],
      "execution_count": 19,
      "metadata": {
        "jupyter": {
          "source_hidden": false,
          "outputs_hidden": false
        },
        "nteract": {
          "transient": {
            "deleting": false
          }
        },
        "gather": {
          "logged": 1689052699788
        }
      }
    },
    {
      "cell_type": "code",
      "source": [
        "df.drop('count_conditions', axis = 1, inplace = True)"
      ],
      "outputs": [],
      "execution_count": 20,
      "metadata": {
        "jupyter": {
          "source_hidden": false,
          "outputs_hidden": false
        },
        "nteract": {
          "transient": {
            "deleting": false
          }
        },
        "gather": {
          "logged": 1689052722101
        }
      }
    },
    {
      "cell_type": "code",
      "source": [
        "# Merge the two dataframes based on 'Internalpatientid'\r\n",
        "merged_df = result_df.merge(df, on='Internalpatientid', how='left')\r\n",
        "\r\n",
        " \r\n",
        "\r\n",
        " \r\n",
        "\r\n",
        "# Filter rows from DataFrame 1 that have matching values in DataFrame 2\r\n",
        "filtered_df = merged_df[~merged_df['Internalpatientid'].isin(df['Internalpatientid'])]\r\n",
        "\r\n",
        " \r\n",
        "\r\n",
        " \r\n",
        "\r\n",
        "# Print only the columns of DataFrame 1\r\n",
        "filtered_df"
      ],
      "outputs": [
        {
          "output_type": "execute_result",
          "execution_count": 21,
          "data": {
            "text/plain": "        Internalpatientid  Age at med ordered   \n0                       6                  88  \\\n1                       6                  88   \n2                       7                  74   \n3                       7                  74   \n4                       9                  52   \n...                   ...                 ...   \n115564             169058                  79   \n115565             169059                  91   \n115566             169065                  53   \n115567             169065                  53   \n115568             169065                  53   \n\n                     Ordered medication atc 5  Order status  \n0                                    warfarin       expired  \n1                                  cetirizine       expired  \n2                             sodium fluoride        active  \n3                               chlorhexidine       expired  \n4                                    propofol  discontinued  \n...                                       ...           ...  \n115564  codeine ; paracetamol (acetaminophen)       expired  \n115565                              ibuprofen  discontinued  \n115566                          hydromorphone  discontinued  \n115567                              lorazepam  discontinued  \n115568                               morphine  discontinued  \n\n[110840 rows x 4 columns]",
            "text/html": "<div>\n<style scoped>\n    .dataframe tbody tr th:only-of-type {\n        vertical-align: middle;\n    }\n\n    .dataframe tbody tr th {\n        vertical-align: top;\n    }\n\n    .dataframe thead th {\n        text-align: right;\n    }\n</style>\n<table border=\"1\" class=\"dataframe\">\n  <thead>\n    <tr style=\"text-align: right;\">\n      <th></th>\n      <th>Internalpatientid</th>\n      <th>Age at med ordered</th>\n      <th>Ordered medication atc 5</th>\n      <th>Order status</th>\n    </tr>\n  </thead>\n  <tbody>\n    <tr>\n      <th>0</th>\n      <td>6</td>\n      <td>88</td>\n      <td>warfarin</td>\n      <td>expired</td>\n    </tr>\n    <tr>\n      <th>1</th>\n      <td>6</td>\n      <td>88</td>\n      <td>cetirizine</td>\n      <td>expired</td>\n    </tr>\n    <tr>\n      <th>2</th>\n      <td>7</td>\n      <td>74</td>\n      <td>sodium fluoride</td>\n      <td>active</td>\n    </tr>\n    <tr>\n      <th>3</th>\n      <td>7</td>\n      <td>74</td>\n      <td>chlorhexidine</td>\n      <td>expired</td>\n    </tr>\n    <tr>\n      <th>4</th>\n      <td>9</td>\n      <td>52</td>\n      <td>propofol</td>\n      <td>discontinued</td>\n    </tr>\n    <tr>\n      <th>...</th>\n      <td>...</td>\n      <td>...</td>\n      <td>...</td>\n      <td>...</td>\n    </tr>\n    <tr>\n      <th>115564</th>\n      <td>169058</td>\n      <td>79</td>\n      <td>codeine ; paracetamol (acetaminophen)</td>\n      <td>expired</td>\n    </tr>\n    <tr>\n      <th>115565</th>\n      <td>169059</td>\n      <td>91</td>\n      <td>ibuprofen</td>\n      <td>discontinued</td>\n    </tr>\n    <tr>\n      <th>115566</th>\n      <td>169065</td>\n      <td>53</td>\n      <td>hydromorphone</td>\n      <td>discontinued</td>\n    </tr>\n    <tr>\n      <th>115567</th>\n      <td>169065</td>\n      <td>53</td>\n      <td>lorazepam</td>\n      <td>discontinued</td>\n    </tr>\n    <tr>\n      <th>115568</th>\n      <td>169065</td>\n      <td>53</td>\n      <td>morphine</td>\n      <td>discontinued</td>\n    </tr>\n  </tbody>\n</table>\n<p>110840 rows × 4 columns</p>\n</div>"
          },
          "metadata": {}
        }
      ],
      "execution_count": 21,
      "metadata": {
        "jupyter": {
          "source_hidden": false,
          "outputs_hidden": false
        },
        "nteract": {
          "transient": {
            "deleting": false
          }
        },
        "gather": {
          "logged": 1689052735754
        }
      }
    },
    {
      "cell_type": "code",
      "source": [
        "filtered_df['Internalpatientid'].value_counts()"
      ],
      "outputs": [
        {
          "output_type": "execute_result",
          "execution_count": 22,
          "data": {
            "text/plain": "Internalpatientid\n41833     25\n16442     25\n62394     25\n102228    25\n20552     25\n          ..\n109534     1\n49048      1\n49036      1\n49034      1\n85061      1\nName: count, Length: 34431, dtype: int64"
          },
          "metadata": {}
        }
      ],
      "execution_count": 22,
      "metadata": {
        "jupyter": {
          "source_hidden": false,
          "outputs_hidden": false
        },
        "nteract": {
          "transient": {
            "deleting": false
          }
        },
        "gather": {
          "logged": 1689052750778
        }
      }
    },
    {
      "cell_type": "code",
      "source": [
        "filtered_df['medication_ordered_medication_atc5'] = filtered_df['Age at med ordered'].astype(str) + '_' + filtered_df['Ordered medication atc 5']\r\n",
        "filtered_df"
      ],
      "outputs": [
        {
          "output_type": "stream",
          "name": "stderr",
          "text": "/tmp/ipykernel_24844/545162775.py:1: SettingWithCopyWarning: \nA value is trying to be set on a copy of a slice from a DataFrame.\nTry using .loc[row_indexer,col_indexer] = value instead\n\nSee the caveats in the documentation: https://pandas.pydata.org/pandas-docs/stable/user_guide/indexing.html#returning-a-view-versus-a-copy\n  filtered_df['medication_ordered_medication_atc5'] = filtered_df['Age at med ordered'].astype(str) + '_' + filtered_df['Ordered medication atc 5']\n"
        },
        {
          "output_type": "execute_result",
          "execution_count": 23,
          "data": {
            "text/plain": "        Internalpatientid  Age at med ordered   \n0                       6                  88  \\\n1                       6                  88   \n2                       7                  74   \n3                       7                  74   \n4                       9                  52   \n...                   ...                 ...   \n115564             169058                  79   \n115565             169059                  91   \n115566             169065                  53   \n115567             169065                  53   \n115568             169065                  53   \n\n                     Ordered medication atc 5  Order status   \n0                                    warfarin       expired  \\\n1                                  cetirizine       expired   \n2                             sodium fluoride        active   \n3                               chlorhexidine       expired   \n4                                    propofol  discontinued   \n...                                       ...           ...   \n115564  codeine ; paracetamol (acetaminophen)       expired   \n115565                              ibuprofen  discontinued   \n115566                          hydromorphone  discontinued   \n115567                              lorazepam  discontinued   \n115568                               morphine  discontinued   \n\n              medication_ordered_medication_atc5  \n0                                    88_warfarin  \n1                                  88_cetirizine  \n2                             74_sodium fluoride  \n3                               74_chlorhexidine  \n4                                    52_propofol  \n...                                          ...  \n115564  79_codeine ; paracetamol (acetaminophen)  \n115565                              91_ibuprofen  \n115566                          53_hydromorphone  \n115567                              53_lorazepam  \n115568                               53_morphine  \n\n[110840 rows x 5 columns]",
            "text/html": "<div>\n<style scoped>\n    .dataframe tbody tr th:only-of-type {\n        vertical-align: middle;\n    }\n\n    .dataframe tbody tr th {\n        vertical-align: top;\n    }\n\n    .dataframe thead th {\n        text-align: right;\n    }\n</style>\n<table border=\"1\" class=\"dataframe\">\n  <thead>\n    <tr style=\"text-align: right;\">\n      <th></th>\n      <th>Internalpatientid</th>\n      <th>Age at med ordered</th>\n      <th>Ordered medication atc 5</th>\n      <th>Order status</th>\n      <th>medication_ordered_medication_atc5</th>\n    </tr>\n  </thead>\n  <tbody>\n    <tr>\n      <th>0</th>\n      <td>6</td>\n      <td>88</td>\n      <td>warfarin</td>\n      <td>expired</td>\n      <td>88_warfarin</td>\n    </tr>\n    <tr>\n      <th>1</th>\n      <td>6</td>\n      <td>88</td>\n      <td>cetirizine</td>\n      <td>expired</td>\n      <td>88_cetirizine</td>\n    </tr>\n    <tr>\n      <th>2</th>\n      <td>7</td>\n      <td>74</td>\n      <td>sodium fluoride</td>\n      <td>active</td>\n      <td>74_sodium fluoride</td>\n    </tr>\n    <tr>\n      <th>3</th>\n      <td>7</td>\n      <td>74</td>\n      <td>chlorhexidine</td>\n      <td>expired</td>\n      <td>74_chlorhexidine</td>\n    </tr>\n    <tr>\n      <th>4</th>\n      <td>9</td>\n      <td>52</td>\n      <td>propofol</td>\n      <td>discontinued</td>\n      <td>52_propofol</td>\n    </tr>\n    <tr>\n      <th>...</th>\n      <td>...</td>\n      <td>...</td>\n      <td>...</td>\n      <td>...</td>\n      <td>...</td>\n    </tr>\n    <tr>\n      <th>115564</th>\n      <td>169058</td>\n      <td>79</td>\n      <td>codeine ; paracetamol (acetaminophen)</td>\n      <td>expired</td>\n      <td>79_codeine ; paracetamol (acetaminophen)</td>\n    </tr>\n    <tr>\n      <th>115565</th>\n      <td>169059</td>\n      <td>91</td>\n      <td>ibuprofen</td>\n      <td>discontinued</td>\n      <td>91_ibuprofen</td>\n    </tr>\n    <tr>\n      <th>115566</th>\n      <td>169065</td>\n      <td>53</td>\n      <td>hydromorphone</td>\n      <td>discontinued</td>\n      <td>53_hydromorphone</td>\n    </tr>\n    <tr>\n      <th>115567</th>\n      <td>169065</td>\n      <td>53</td>\n      <td>lorazepam</td>\n      <td>discontinued</td>\n      <td>53_lorazepam</td>\n    </tr>\n    <tr>\n      <th>115568</th>\n      <td>169065</td>\n      <td>53</td>\n      <td>morphine</td>\n      <td>discontinued</td>\n      <td>53_morphine</td>\n    </tr>\n  </tbody>\n</table>\n<p>110840 rows × 5 columns</p>\n</div>"
          },
          "metadata": {}
        }
      ],
      "execution_count": 23,
      "metadata": {
        "jupyter": {
          "source_hidden": false,
          "outputs_hidden": false
        },
        "nteract": {
          "transient": {
            "deleting": false
          }
        },
        "gather": {
          "logged": 1689052765527
        }
      }
    },
    {
      "cell_type": "code",
      "source": [
        "filtered_df['medication_ordered_status'] = filtered_df['Age at med ordered'].astype(str) + '_' + filtered_df['Order status']\r\n",
        "filtered_df"
      ],
      "outputs": [
        {
          "output_type": "stream",
          "name": "stderr",
          "text": "/tmp/ipykernel_24844/2590857632.py:1: SettingWithCopyWarning: \nA value is trying to be set on a copy of a slice from a DataFrame.\nTry using .loc[row_indexer,col_indexer] = value instead\n\nSee the caveats in the documentation: https://pandas.pydata.org/pandas-docs/stable/user_guide/indexing.html#returning-a-view-versus-a-copy\n  filtered_df['medication_ordered_status'] = filtered_df['Age at med ordered'].astype(str) + '_' + filtered_df['Order status']\n"
        },
        {
          "output_type": "execute_result",
          "execution_count": 24,
          "data": {
            "text/plain": "        Internalpatientid  Age at med ordered   \n0                       6                  88  \\\n1                       6                  88   \n2                       7                  74   \n3                       7                  74   \n4                       9                  52   \n...                   ...                 ...   \n115564             169058                  79   \n115565             169059                  91   \n115566             169065                  53   \n115567             169065                  53   \n115568             169065                  53   \n\n                     Ordered medication atc 5  Order status   \n0                                    warfarin       expired  \\\n1                                  cetirizine       expired   \n2                             sodium fluoride        active   \n3                               chlorhexidine       expired   \n4                                    propofol  discontinued   \n...                                       ...           ...   \n115564  codeine ; paracetamol (acetaminophen)       expired   \n115565                              ibuprofen  discontinued   \n115566                          hydromorphone  discontinued   \n115567                              lorazepam  discontinued   \n115568                               morphine  discontinued   \n\n              medication_ordered_medication_atc5 medication_ordered_status  \n0                                    88_warfarin                88_expired  \n1                                  88_cetirizine                88_expired  \n2                             74_sodium fluoride                 74_active  \n3                               74_chlorhexidine                74_expired  \n4                                    52_propofol           52_discontinued  \n...                                          ...                       ...  \n115564  79_codeine ; paracetamol (acetaminophen)                79_expired  \n115565                              91_ibuprofen           91_discontinued  \n115566                          53_hydromorphone           53_discontinued  \n115567                              53_lorazepam           53_discontinued  \n115568                               53_morphine           53_discontinued  \n\n[110840 rows x 6 columns]",
            "text/html": "<div>\n<style scoped>\n    .dataframe tbody tr th:only-of-type {\n        vertical-align: middle;\n    }\n\n    .dataframe tbody tr th {\n        vertical-align: top;\n    }\n\n    .dataframe thead th {\n        text-align: right;\n    }\n</style>\n<table border=\"1\" class=\"dataframe\">\n  <thead>\n    <tr style=\"text-align: right;\">\n      <th></th>\n      <th>Internalpatientid</th>\n      <th>Age at med ordered</th>\n      <th>Ordered medication atc 5</th>\n      <th>Order status</th>\n      <th>medication_ordered_medication_atc5</th>\n      <th>medication_ordered_status</th>\n    </tr>\n  </thead>\n  <tbody>\n    <tr>\n      <th>0</th>\n      <td>6</td>\n      <td>88</td>\n      <td>warfarin</td>\n      <td>expired</td>\n      <td>88_warfarin</td>\n      <td>88_expired</td>\n    </tr>\n    <tr>\n      <th>1</th>\n      <td>6</td>\n      <td>88</td>\n      <td>cetirizine</td>\n      <td>expired</td>\n      <td>88_cetirizine</td>\n      <td>88_expired</td>\n    </tr>\n    <tr>\n      <th>2</th>\n      <td>7</td>\n      <td>74</td>\n      <td>sodium fluoride</td>\n      <td>active</td>\n      <td>74_sodium fluoride</td>\n      <td>74_active</td>\n    </tr>\n    <tr>\n      <th>3</th>\n      <td>7</td>\n      <td>74</td>\n      <td>chlorhexidine</td>\n      <td>expired</td>\n      <td>74_chlorhexidine</td>\n      <td>74_expired</td>\n    </tr>\n    <tr>\n      <th>4</th>\n      <td>9</td>\n      <td>52</td>\n      <td>propofol</td>\n      <td>discontinued</td>\n      <td>52_propofol</td>\n      <td>52_discontinued</td>\n    </tr>\n    <tr>\n      <th>...</th>\n      <td>...</td>\n      <td>...</td>\n      <td>...</td>\n      <td>...</td>\n      <td>...</td>\n      <td>...</td>\n    </tr>\n    <tr>\n      <th>115564</th>\n      <td>169058</td>\n      <td>79</td>\n      <td>codeine ; paracetamol (acetaminophen)</td>\n      <td>expired</td>\n      <td>79_codeine ; paracetamol (acetaminophen)</td>\n      <td>79_expired</td>\n    </tr>\n    <tr>\n      <th>115565</th>\n      <td>169059</td>\n      <td>91</td>\n      <td>ibuprofen</td>\n      <td>discontinued</td>\n      <td>91_ibuprofen</td>\n      <td>91_discontinued</td>\n    </tr>\n    <tr>\n      <th>115566</th>\n      <td>169065</td>\n      <td>53</td>\n      <td>hydromorphone</td>\n      <td>discontinued</td>\n      <td>53_hydromorphone</td>\n      <td>53_discontinued</td>\n    </tr>\n    <tr>\n      <th>115567</th>\n      <td>169065</td>\n      <td>53</td>\n      <td>lorazepam</td>\n      <td>discontinued</td>\n      <td>53_lorazepam</td>\n      <td>53_discontinued</td>\n    </tr>\n    <tr>\n      <th>115568</th>\n      <td>169065</td>\n      <td>53</td>\n      <td>morphine</td>\n      <td>discontinued</td>\n      <td>53_morphine</td>\n      <td>53_discontinued</td>\n    </tr>\n  </tbody>\n</table>\n<p>110840 rows × 6 columns</p>\n</div>"
          },
          "metadata": {}
        }
      ],
      "execution_count": 24,
      "metadata": {
        "jupyter": {
          "source_hidden": false,
          "outputs_hidden": false
        },
        "nteract": {
          "transient": {
            "deleting": false
          }
        },
        "gather": {
          "logged": 1689052780547
        }
      }
    },
    {
      "cell_type": "code",
      "source": [
        "filtered_df.drop(['Age at med ordered','Ordered medication atc 5','Order status'], axis = 1,inplace = True)\r\n",
        "filtered_df"
      ],
      "outputs": [
        {
          "output_type": "stream",
          "name": "stderr",
          "text": "/tmp/ipykernel_24844/2778465033.py:1: SettingWithCopyWarning: \nA value is trying to be set on a copy of a slice from a DataFrame\n\nSee the caveats in the documentation: https://pandas.pydata.org/pandas-docs/stable/user_guide/indexing.html#returning-a-view-versus-a-copy\n  filtered_df.drop(['Age at med ordered','Ordered medication atc 5','Order status'], axis = 1,inplace = True)\n"
        },
        {
          "output_type": "execute_result",
          "execution_count": 25,
          "data": {
            "text/plain": "        Internalpatientid        medication_ordered_medication_atc5   \n0                       6                               88_warfarin  \\\n1                       6                             88_cetirizine   \n2                       7                        74_sodium fluoride   \n3                       7                          74_chlorhexidine   \n4                       9                               52_propofol   \n...                   ...                                       ...   \n115564             169058  79_codeine ; paracetamol (acetaminophen)   \n115565             169059                              91_ibuprofen   \n115566             169065                          53_hydromorphone   \n115567             169065                              53_lorazepam   \n115568             169065                               53_morphine   \n\n       medication_ordered_status  \n0                     88_expired  \n1                     88_expired  \n2                      74_active  \n3                     74_expired  \n4                52_discontinued  \n...                          ...  \n115564                79_expired  \n115565           91_discontinued  \n115566           53_discontinued  \n115567           53_discontinued  \n115568           53_discontinued  \n\n[110840 rows x 3 columns]",
            "text/html": "<div>\n<style scoped>\n    .dataframe tbody tr th:only-of-type {\n        vertical-align: middle;\n    }\n\n    .dataframe tbody tr th {\n        vertical-align: top;\n    }\n\n    .dataframe thead th {\n        text-align: right;\n    }\n</style>\n<table border=\"1\" class=\"dataframe\">\n  <thead>\n    <tr style=\"text-align: right;\">\n      <th></th>\n      <th>Internalpatientid</th>\n      <th>medication_ordered_medication_atc5</th>\n      <th>medication_ordered_status</th>\n    </tr>\n  </thead>\n  <tbody>\n    <tr>\n      <th>0</th>\n      <td>6</td>\n      <td>88_warfarin</td>\n      <td>88_expired</td>\n    </tr>\n    <tr>\n      <th>1</th>\n      <td>6</td>\n      <td>88_cetirizine</td>\n      <td>88_expired</td>\n    </tr>\n    <tr>\n      <th>2</th>\n      <td>7</td>\n      <td>74_sodium fluoride</td>\n      <td>74_active</td>\n    </tr>\n    <tr>\n      <th>3</th>\n      <td>7</td>\n      <td>74_chlorhexidine</td>\n      <td>74_expired</td>\n    </tr>\n    <tr>\n      <th>4</th>\n      <td>9</td>\n      <td>52_propofol</td>\n      <td>52_discontinued</td>\n    </tr>\n    <tr>\n      <th>...</th>\n      <td>...</td>\n      <td>...</td>\n      <td>...</td>\n    </tr>\n    <tr>\n      <th>115564</th>\n      <td>169058</td>\n      <td>79_codeine ; paracetamol (acetaminophen)</td>\n      <td>79_expired</td>\n    </tr>\n    <tr>\n      <th>115565</th>\n      <td>169059</td>\n      <td>91_ibuprofen</td>\n      <td>91_discontinued</td>\n    </tr>\n    <tr>\n      <th>115566</th>\n      <td>169065</td>\n      <td>53_hydromorphone</td>\n      <td>53_discontinued</td>\n    </tr>\n    <tr>\n      <th>115567</th>\n      <td>169065</td>\n      <td>53_lorazepam</td>\n      <td>53_discontinued</td>\n    </tr>\n    <tr>\n      <th>115568</th>\n      <td>169065</td>\n      <td>53_morphine</td>\n      <td>53_discontinued</td>\n    </tr>\n  </tbody>\n</table>\n<p>110840 rows × 3 columns</p>\n</div>"
          },
          "metadata": {}
        }
      ],
      "execution_count": 25,
      "metadata": {
        "jupyter": {
          "source_hidden": false,
          "outputs_hidden": false
        },
        "nteract": {
          "transient": {
            "deleting": false
          }
        },
        "gather": {
          "logged": 1689052798600
        }
      }
    },
    {
      "cell_type": "code",
      "source": [
        "filtered_df['medication_ordered_medication_atc5'] = filtered_df['medication_ordered_medication_atc5'].astype(str)\r\n",
        "filtered_df['medication_ordered_status'] = filtered_df['medication_ordered_status'].astype(str)"
      ],
      "outputs": [
        {
          "output_type": "stream",
          "name": "stderr",
          "text": "/tmp/ipykernel_24844/656839175.py:1: SettingWithCopyWarning: \nA value is trying to be set on a copy of a slice from a DataFrame.\nTry using .loc[row_indexer,col_indexer] = value instead\n\nSee the caveats in the documentation: https://pandas.pydata.org/pandas-docs/stable/user_guide/indexing.html#returning-a-view-versus-a-copy\n  filtered_df['medication_ordered_medication_atc5'] = filtered_df['medication_ordered_medication_atc5'].astype(str)\n/tmp/ipykernel_24844/656839175.py:2: SettingWithCopyWarning: \nA value is trying to be set on a copy of a slice from a DataFrame.\nTry using .loc[row_indexer,col_indexer] = value instead\n\nSee the caveats in the documentation: https://pandas.pydata.org/pandas-docs/stable/user_guide/indexing.html#returning-a-view-versus-a-copy\n  filtered_df['medication_ordered_status'] = filtered_df['medication_ordered_status'].astype(str)\n"
        }
      ],
      "execution_count": 26,
      "metadata": {
        "jupyter": {
          "source_hidden": false,
          "outputs_hidden": false
        },
        "nteract": {
          "transient": {
            "deleting": false
          }
        },
        "gather": {
          "logged": 1689052813611
        }
      }
    },
    {
      "cell_type": "code",
      "source": [
        "df_medication_ordered = filtered_df.groupby('Internalpatientid').apply(lambda x: pd.Series({\r\n",
        "    'medication_ordered_medication_atc5' : ', '.join(x['medication_ordered_medication_atc5']),\r\n",
        "    'medication_ordered_status' : ', '.join(x['medication_ordered_status'])\r\n",
        "    \r\n",
        "\r\n",
        "}))\r\n",
        "\r\n",
        "# Reset the index of the dataframe\r\n",
        "df_medication_administered = df_medication_ordered.reset_index()\r\n",
        "\r\n",
        "# print the grouped dataframe\r\n",
        "print(df_medication_ordered)"
      ],
      "outputs": [
        {
          "output_type": "stream",
          "name": "stdout",
          "text": "                                  medication_ordered_medication_atc5   \nInternalpatientid                                                      \n6                                         88_warfarin, 88_cetirizine  \\\n7                               74_sodium fluoride, 74_chlorhexidine   \n9                                                        52_propofol   \n12                                                     74_furosemide   \n17                                                  82_Not specified   \n...                                                              ...   \n169037                                88_Not specified, 88_buspirone   \n169045             97_finasteride, 97_lisinopril, 97_amiodarone, ...   \n169058                      79_codeine ; paracetamol (acetaminophen)   \n169059                                                  91_ibuprofen   \n169065                   53_hydromorphone, 53_lorazepam, 53_morphine   \n\n                                           medication_ordered_status  \nInternalpatientid                                                     \n6                                             88_expired, 88_expired  \n7                                              74_active, 74_expired  \n9                                                    52_discontinued  \n12                                                   74_discontinued  \n17                                                   82_discontinued  \n...                                                              ...  \n169037                              88_discontinued, 88_discontinued  \n169045             97_active, 97_active, 97_active, 97_active, 97...  \n169058                                                    79_expired  \n169059                                               91_discontinued  \n169065             53_discontinued, 53_discontinued, 53_discontinued  \n\n[34431 rows x 2 columns]\n"
        }
      ],
      "execution_count": 27,
      "metadata": {
        "jupyter": {
          "source_hidden": false,
          "outputs_hidden": false
        },
        "nteract": {
          "transient": {
            "deleting": false
          }
        },
        "gather": {
          "logged": 1689052840993
        }
      }
    },
    {
      "cell_type": "code",
      "source": [
        "df_medication_ordered"
      ],
      "outputs": [
        {
          "output_type": "execute_result",
          "execution_count": 28,
          "data": {
            "text/plain": "                                  medication_ordered_medication_atc5   \nInternalpatientid                                                      \n6                                         88_warfarin, 88_cetirizine  \\\n7                               74_sodium fluoride, 74_chlorhexidine   \n9                                                        52_propofol   \n12                                                     74_furosemide   \n17                                                  82_Not specified   \n...                                                              ...   \n169037                                88_Not specified, 88_buspirone   \n169045             97_finasteride, 97_lisinopril, 97_amiodarone, ...   \n169058                      79_codeine ; paracetamol (acetaminophen)   \n169059                                                  91_ibuprofen   \n169065                   53_hydromorphone, 53_lorazepam, 53_morphine   \n\n                                           medication_ordered_status  \nInternalpatientid                                                     \n6                                             88_expired, 88_expired  \n7                                              74_active, 74_expired  \n9                                                    52_discontinued  \n12                                                   74_discontinued  \n17                                                   82_discontinued  \n...                                                              ...  \n169037                              88_discontinued, 88_discontinued  \n169045             97_active, 97_active, 97_active, 97_active, 97...  \n169058                                                    79_expired  \n169059                                               91_discontinued  \n169065             53_discontinued, 53_discontinued, 53_discontinued  \n\n[34431 rows x 2 columns]",
            "text/html": "<div>\n<style scoped>\n    .dataframe tbody tr th:only-of-type {\n        vertical-align: middle;\n    }\n\n    .dataframe tbody tr th {\n        vertical-align: top;\n    }\n\n    .dataframe thead th {\n        text-align: right;\n    }\n</style>\n<table border=\"1\" class=\"dataframe\">\n  <thead>\n    <tr style=\"text-align: right;\">\n      <th></th>\n      <th>medication_ordered_medication_atc5</th>\n      <th>medication_ordered_status</th>\n    </tr>\n    <tr>\n      <th>Internalpatientid</th>\n      <th></th>\n      <th></th>\n    </tr>\n  </thead>\n  <tbody>\n    <tr>\n      <th>6</th>\n      <td>88_warfarin, 88_cetirizine</td>\n      <td>88_expired, 88_expired</td>\n    </tr>\n    <tr>\n      <th>7</th>\n      <td>74_sodium fluoride, 74_chlorhexidine</td>\n      <td>74_active, 74_expired</td>\n    </tr>\n    <tr>\n      <th>9</th>\n      <td>52_propofol</td>\n      <td>52_discontinued</td>\n    </tr>\n    <tr>\n      <th>12</th>\n      <td>74_furosemide</td>\n      <td>74_discontinued</td>\n    </tr>\n    <tr>\n      <th>17</th>\n      <td>82_Not specified</td>\n      <td>82_discontinued</td>\n    </tr>\n    <tr>\n      <th>...</th>\n      <td>...</td>\n      <td>...</td>\n    </tr>\n    <tr>\n      <th>169037</th>\n      <td>88_Not specified, 88_buspirone</td>\n      <td>88_discontinued, 88_discontinued</td>\n    </tr>\n    <tr>\n      <th>169045</th>\n      <td>97_finasteride, 97_lisinopril, 97_amiodarone, ...</td>\n      <td>97_active, 97_active, 97_active, 97_active, 97...</td>\n    </tr>\n    <tr>\n      <th>169058</th>\n      <td>79_codeine ; paracetamol (acetaminophen)</td>\n      <td>79_expired</td>\n    </tr>\n    <tr>\n      <th>169059</th>\n      <td>91_ibuprofen</td>\n      <td>91_discontinued</td>\n    </tr>\n    <tr>\n      <th>169065</th>\n      <td>53_hydromorphone, 53_lorazepam, 53_morphine</td>\n      <td>53_discontinued, 53_discontinued, 53_discontinued</td>\n    </tr>\n  </tbody>\n</table>\n<p>34431 rows × 2 columns</p>\n</div>"
          },
          "metadata": {}
        }
      ],
      "execution_count": 28,
      "metadata": {
        "jupyter": {
          "source_hidden": false,
          "outputs_hidden": false
        },
        "nteract": {
          "transient": {
            "deleting": false
          }
        },
        "gather": {
          "logged": 1689052845815
        }
      }
    },
    {
      "cell_type": "code",
      "source": [
        "# saving as the csv file in the appropriate directory\r\n",
        "df_medication_ordered.to_csv('/mnt/batch/tasks/shared/LS_root/mounts/clusters/team3-nishagpu2/code/Users/900379/Output_files_test/df_medication_ordered_test.csv')"
      ],
      "outputs": [],
      "execution_count": 29,
      "metadata": {
        "jupyter": {
          "source_hidden": false,
          "outputs_hidden": false
        },
        "nteract": {
          "transient": {
            "deleting": false
          }
        },
        "gather": {
          "logged": 1689053002836
        }
      }
    }
  ],
  "metadata": {
    "kernelspec": {
      "name": "python310-sdkv2",
      "language": "python",
      "display_name": "Python 3.10 - SDK v2"
    },
    "language_info": {
      "name": "python",
      "version": "3.10.10",
      "mimetype": "text/x-python",
      "codemirror_mode": {
        "name": "ipython",
        "version": 3
      },
      "pygments_lexer": "ipython3",
      "nbconvert_exporter": "python",
      "file_extension": ".py"
    },
    "microsoft": {
      "ms_spell_check": {
        "ms_spell_check_language": "en"
      },
      "host": {
        "AzureML": {
          "notebookHasBeenCompleted": true
        }
      }
    },
    "kernel_info": {
      "name": "python310-sdkv2"
    },
    "nteract": {
      "version": "nteract-front-end@1.0.0"
    }
  },
  "nbformat": 4,
  "nbformat_minor": 2
}