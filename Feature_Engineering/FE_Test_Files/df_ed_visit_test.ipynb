{
  "cells": [
    {
      "cell_type": "code",
      "source": [
        "from azureml.core import Workspace, Dataset\r\n",
        "\r\n",
        "subscription_id = 'bcfe0c62-8ebe-4df0-a46d-1efcf8739a5b'\r\n",
        "resource_group = 'VChamp-Team3'\r\n",
        "workspace_name = 'vchamp-team3'\r\n",
        "\r\n",
        "\r\n",
        "# storage account : Algorithmia, Resource group: VChamp-Team3 and workspace: vchamp-team3.\r\n",
        "\r\n",
        "workspace = Workspace(subscription_id, resource_group, workspace_name)"
      ],
      "outputs": [],
      "execution_count": 1,
      "metadata": {
        "gather": {
          "logged": 1688721009205
        }
      }
    },
    {
      "cell_type": "code",
      "source": [
        "#['data_team3_synthetic_quality_check']\r\n",
        "datastore = workspace.datastores['data_team3_synthetic_test']"
      ],
      "outputs": [],
      "execution_count": 2,
      "metadata": {
        "jupyter": {
          "source_hidden": false,
          "outputs_hidden": false
        },
        "nteract": {
          "transient": {
            "deleting": false
          }
        },
        "gather": {
          "logged": 1688721034850
        }
      }
    },
    {
      "cell_type": "code",
      "source": [
        "dataset = Dataset.Tabular.from_delimited_files(path = [(datastore, 'ed_visits_test.csv')])\r\n",
        "\r\n",
        "# preview the first 3 rows of the dataset\r\n",
        "# dataset.to_pandas_dataframe()"
      ],
      "outputs": [],
      "execution_count": 3,
      "metadata": {
        "jupyter": {
          "source_hidden": false,
          "outputs_hidden": false
        },
        "nteract": {
          "transient": {
            "deleting": false
          }
        },
        "gather": {
          "logged": 1688721080578
        }
      }
    },
    {
      "cell_type": "code",
      "source": [
        "ed_visit = dataset.to_pandas_dataframe()"
      ],
      "outputs": [],
      "execution_count": 4,
      "metadata": {
        "jupyter": {
          "source_hidden": false,
          "outputs_hidden": false
        },
        "nteract": {
          "transient": {
            "deleting": false
          }
        },
        "gather": {
          "logged": 1688721101526
        }
      }
    },
    {
      "cell_type": "code",
      "source": [
        "type(ed_visit)"
      ],
      "outputs": [
        {
          "output_type": "execute_result",
          "execution_count": 5,
          "data": {
            "text/plain": "pandas.core.frame.DataFrame"
          },
          "metadata": {}
        }
      ],
      "execution_count": 5,
      "metadata": {
        "jupyter": {
          "source_hidden": false,
          "outputs_hidden": false
        },
        "nteract": {
          "transient": {
            "deleting": false
          }
        },
        "gather": {
          "logged": 1688721108619
        }
      }
    },
    {
      "cell_type": "code",
      "source": [
        "ed_visit"
      ],
      "outputs": [
        {
          "output_type": "execute_result",
          "execution_count": 6,
          "data": {
            "text/plain": "        Column1  Internalpatientid  Age at ed visit Ed visit start date   \n0             1             102421        69.520563 2017-11-06 18:22:30  \\\n1             2             104374        44.119446 2020-09-23 15:46:58   \n2             8             115748        63.721484 2020-05-02 04:51:35   \n3            10             117891        74.097866 2023-05-10 18:28:53   \n4            18             119001        72.116844 2020-01-05 16:57:31   \n...         ...                ...              ...                 ...   \n147669   701941              99825        56.253670 2009-04-14 17:11:34   \n147670   701943              99844        63.209756 2013-05-05 03:58:53   \n147671   701956               9996        84.150571 2013-02-12 00:48:28   \n147672   701957              99967        74.883312 2011-03-19 20:25:01   \n147673   701959              99989        77.867104 2010-05-17 10:14:17   \n\n         Discharge date ed  Died during ed visit   \n0      2017-11-07 12:11:15                 False  \\\n1      2020-09-23 22:44:24                 False   \n2      2020-05-02 06:54:34                 False   \n3      2023-05-11 02:58:23                 False   \n4      2020-01-05 21:58:47                 False   \n...                    ...                   ...   \n147669 2009-04-15 01:40:15                 False   \n147670 2013-05-05 07:02:06                 False   \n147671 2013-02-12 05:37:28                 False   \n147672 2011-03-19 23:50:56                 False   \n147673 2010-05-17 16:29:21                 False   \n\n           First listed diagnosis icd10 subcategory   \n0               Systolic (congestive) heart failure  \\\n1                   Pneumonia, unspecified organism   \n2               Other difficulties with micturition   \n3                      Sepsis, unspecified organism   \n4       Mechanical complication of urinary catheter   \n...                                             ...   \n147669                                Not specified   \n147670                                Not specified   \n147671                                Not specified   \n147672                                Not specified   \n147673                                Not specified   \n\n                Second listed diagnosis icd10 subcategory           State  \n0             Urinary tract infection, site not specified        New York  \n1       Type 2 diabetes mellitus with ophthalmic compl...        Virginia  \n2             Urinary tract infection, site not specified         Florida  \n3             Urinary tract infection, site not specified         Arizona  \n4       Other surgical procedures as the cause of abno...      California  \n...                                                   ...             ...  \n147669                                      Not specified  North Carolina  \n147670                                      Not specified     Puerto Rico  \n147671                                      Not specified    Pennsylvania  \n147672                                      Not specified        Colorado  \n147673                                      Not specified            Ohio  \n\n[147674 rows x 9 columns]",
            "text/html": "<div>\n<style scoped>\n    .dataframe tbody tr th:only-of-type {\n        vertical-align: middle;\n    }\n\n    .dataframe tbody tr th {\n        vertical-align: top;\n    }\n\n    .dataframe thead th {\n        text-align: right;\n    }\n</style>\n<table border=\"1\" class=\"dataframe\">\n  <thead>\n    <tr style=\"text-align: right;\">\n      <th></th>\n      <th>Column1</th>\n      <th>Internalpatientid</th>\n      <th>Age at ed visit</th>\n      <th>Ed visit start date</th>\n      <th>Discharge date ed</th>\n      <th>Died during ed visit</th>\n      <th>First listed diagnosis icd10 subcategory</th>\n      <th>Second listed diagnosis icd10 subcategory</th>\n      <th>State</th>\n    </tr>\n  </thead>\n  <tbody>\n    <tr>\n      <th>0</th>\n      <td>1</td>\n      <td>102421</td>\n      <td>69.520563</td>\n      <td>2017-11-06 18:22:30</td>\n      <td>2017-11-07 12:11:15</td>\n      <td>False</td>\n      <td>Systolic (congestive) heart failure</td>\n      <td>Urinary tract infection, site not specified</td>\n      <td>New York</td>\n    </tr>\n    <tr>\n      <th>1</th>\n      <td>2</td>\n      <td>104374</td>\n      <td>44.119446</td>\n      <td>2020-09-23 15:46:58</td>\n      <td>2020-09-23 22:44:24</td>\n      <td>False</td>\n      <td>Pneumonia, unspecified organism</td>\n      <td>Type 2 diabetes mellitus with ophthalmic compl...</td>\n      <td>Virginia</td>\n    </tr>\n    <tr>\n      <th>2</th>\n      <td>8</td>\n      <td>115748</td>\n      <td>63.721484</td>\n      <td>2020-05-02 04:51:35</td>\n      <td>2020-05-02 06:54:34</td>\n      <td>False</td>\n      <td>Other difficulties with micturition</td>\n      <td>Urinary tract infection, site not specified</td>\n      <td>Florida</td>\n    </tr>\n    <tr>\n      <th>3</th>\n      <td>10</td>\n      <td>117891</td>\n      <td>74.097866</td>\n      <td>2023-05-10 18:28:53</td>\n      <td>2023-05-11 02:58:23</td>\n      <td>False</td>\n      <td>Sepsis, unspecified organism</td>\n      <td>Urinary tract infection, site not specified</td>\n      <td>Arizona</td>\n    </tr>\n    <tr>\n      <th>4</th>\n      <td>18</td>\n      <td>119001</td>\n      <td>72.116844</td>\n      <td>2020-01-05 16:57:31</td>\n      <td>2020-01-05 21:58:47</td>\n      <td>False</td>\n      <td>Mechanical complication of urinary catheter</td>\n      <td>Other surgical procedures as the cause of abno...</td>\n      <td>California</td>\n    </tr>\n    <tr>\n      <th>...</th>\n      <td>...</td>\n      <td>...</td>\n      <td>...</td>\n      <td>...</td>\n      <td>...</td>\n      <td>...</td>\n      <td>...</td>\n      <td>...</td>\n      <td>...</td>\n    </tr>\n    <tr>\n      <th>147669</th>\n      <td>701941</td>\n      <td>99825</td>\n      <td>56.253670</td>\n      <td>2009-04-14 17:11:34</td>\n      <td>2009-04-15 01:40:15</td>\n      <td>False</td>\n      <td>Not specified</td>\n      <td>Not specified</td>\n      <td>North Carolina</td>\n    </tr>\n    <tr>\n      <th>147670</th>\n      <td>701943</td>\n      <td>99844</td>\n      <td>63.209756</td>\n      <td>2013-05-05 03:58:53</td>\n      <td>2013-05-05 07:02:06</td>\n      <td>False</td>\n      <td>Not specified</td>\n      <td>Not specified</td>\n      <td>Puerto Rico</td>\n    </tr>\n    <tr>\n      <th>147671</th>\n      <td>701956</td>\n      <td>9996</td>\n      <td>84.150571</td>\n      <td>2013-02-12 00:48:28</td>\n      <td>2013-02-12 05:37:28</td>\n      <td>False</td>\n      <td>Not specified</td>\n      <td>Not specified</td>\n      <td>Pennsylvania</td>\n    </tr>\n    <tr>\n      <th>147672</th>\n      <td>701957</td>\n      <td>99967</td>\n      <td>74.883312</td>\n      <td>2011-03-19 20:25:01</td>\n      <td>2011-03-19 23:50:56</td>\n      <td>False</td>\n      <td>Not specified</td>\n      <td>Not specified</td>\n      <td>Colorado</td>\n    </tr>\n    <tr>\n      <th>147673</th>\n      <td>701959</td>\n      <td>99989</td>\n      <td>77.867104</td>\n      <td>2010-05-17 10:14:17</td>\n      <td>2010-05-17 16:29:21</td>\n      <td>False</td>\n      <td>Not specified</td>\n      <td>Not specified</td>\n      <td>Ohio</td>\n    </tr>\n  </tbody>\n</table>\n<p>147674 rows × 9 columns</p>\n</div>"
          },
          "metadata": {}
        }
      ],
      "execution_count": 6,
      "metadata": {
        "jupyter": {
          "source_hidden": false,
          "outputs_hidden": false
        },
        "nteract": {
          "transient": {
            "deleting": false
          }
        },
        "gather": {
          "logged": 1688721114600
        }
      }
    },
    {
      "cell_type": "code",
      "source": [
        "import pandas as pd"
      ],
      "outputs": [],
      "execution_count": 7,
      "metadata": {
        "jupyter": {
          "source_hidden": false,
          "outputs_hidden": false
        },
        "nteract": {
          "transient": {
            "deleting": false
          }
        },
        "gather": {
          "logged": 1688721196395
        }
      }
    },
    {
      "cell_type": "markdown",
      "source": [
        "**For getting the value counts of the internal patientid**"
      ],
      "metadata": {
        "nteract": {
          "transient": {
            "deleting": false
          }
        }
      }
    },
    {
      "cell_type": "code",
      "source": [
        "ed_visit['Internalpatientid'].value_counts()"
      ],
      "outputs": [
        {
          "output_type": "execute_result",
          "execution_count": 8,
          "data": {
            "text/plain": "Internalpatientid\n88405     248\n88110     222\n119016    217\n2125      209\n163433    188\n         ... \n29311       1\n109669      1\n21912       1\n132471      1\n97006       1\nName: count, Length: 15370, dtype: int64"
          },
          "metadata": {}
        }
      ],
      "execution_count": 8,
      "metadata": {
        "jupyter": {
          "source_hidden": false,
          "outputs_hidden": false
        },
        "nteract": {
          "transient": {
            "deleting": false
          }
        },
        "gather": {
          "logged": 1688721210193
        }
      }
    },
    {
      "cell_type": "code",
      "source": [
        "ed_visit.nunique()"
      ],
      "outputs": [
        {
          "output_type": "execute_result",
          "execution_count": 9,
          "data": {
            "text/plain": "Column1                                      147674\nInternalpatientid                             15370\nAge at ed visit                              147665\nEd visit start date                          147548\nDischarge date ed                            147631\nDied during ed visit                              2\nFirst listed diagnosis icd10 subcategory       2620\nSecond listed diagnosis icd10 subcategory      2083\nState                                            48\ndtype: int64"
          },
          "metadata": {}
        }
      ],
      "execution_count": 9,
      "metadata": {
        "jupyter": {
          "source_hidden": false,
          "outputs_hidden": false
        },
        "nteract": {
          "transient": {
            "deleting": false
          }
        },
        "gather": {
          "logged": 1688721244376
        }
      }
    },
    {
      "cell_type": "code",
      "source": [
        "ed_visit.drop(['Column1','Ed visit start date','Discharge date ed','State','Died during ed visit'], axis = 1,inplace = True)\r\n",
        "ed_visit"
      ],
      "outputs": [
        {
          "output_type": "execute_result",
          "execution_count": 10,
          "data": {
            "text/plain": "        Internalpatientid  Age at ed visit   \n0                  102421        69.520563  \\\n1                  104374        44.119446   \n2                  115748        63.721484   \n3                  117891        74.097866   \n4                  119001        72.116844   \n...                   ...              ...   \n147669              99825        56.253670   \n147670              99844        63.209756   \n147671               9996        84.150571   \n147672              99967        74.883312   \n147673              99989        77.867104   \n\n           First listed diagnosis icd10 subcategory   \n0               Systolic (congestive) heart failure  \\\n1                   Pneumonia, unspecified organism   \n2               Other difficulties with micturition   \n3                      Sepsis, unspecified organism   \n4       Mechanical complication of urinary catheter   \n...                                             ...   \n147669                                Not specified   \n147670                                Not specified   \n147671                                Not specified   \n147672                                Not specified   \n147673                                Not specified   \n\n                Second listed diagnosis icd10 subcategory  \n0             Urinary tract infection, site not specified  \n1       Type 2 diabetes mellitus with ophthalmic compl...  \n2             Urinary tract infection, site not specified  \n3             Urinary tract infection, site not specified  \n4       Other surgical procedures as the cause of abno...  \n...                                                   ...  \n147669                                      Not specified  \n147670                                      Not specified  \n147671                                      Not specified  \n147672                                      Not specified  \n147673                                      Not specified  \n\n[147674 rows x 4 columns]",
            "text/html": "<div>\n<style scoped>\n    .dataframe tbody tr th:only-of-type {\n        vertical-align: middle;\n    }\n\n    .dataframe tbody tr th {\n        vertical-align: top;\n    }\n\n    .dataframe thead th {\n        text-align: right;\n    }\n</style>\n<table border=\"1\" class=\"dataframe\">\n  <thead>\n    <tr style=\"text-align: right;\">\n      <th></th>\n      <th>Internalpatientid</th>\n      <th>Age at ed visit</th>\n      <th>First listed diagnosis icd10 subcategory</th>\n      <th>Second listed diagnosis icd10 subcategory</th>\n    </tr>\n  </thead>\n  <tbody>\n    <tr>\n      <th>0</th>\n      <td>102421</td>\n      <td>69.520563</td>\n      <td>Systolic (congestive) heart failure</td>\n      <td>Urinary tract infection, site not specified</td>\n    </tr>\n    <tr>\n      <th>1</th>\n      <td>104374</td>\n      <td>44.119446</td>\n      <td>Pneumonia, unspecified organism</td>\n      <td>Type 2 diabetes mellitus with ophthalmic compl...</td>\n    </tr>\n    <tr>\n      <th>2</th>\n      <td>115748</td>\n      <td>63.721484</td>\n      <td>Other difficulties with micturition</td>\n      <td>Urinary tract infection, site not specified</td>\n    </tr>\n    <tr>\n      <th>3</th>\n      <td>117891</td>\n      <td>74.097866</td>\n      <td>Sepsis, unspecified organism</td>\n      <td>Urinary tract infection, site not specified</td>\n    </tr>\n    <tr>\n      <th>4</th>\n      <td>119001</td>\n      <td>72.116844</td>\n      <td>Mechanical complication of urinary catheter</td>\n      <td>Other surgical procedures as the cause of abno...</td>\n    </tr>\n    <tr>\n      <th>...</th>\n      <td>...</td>\n      <td>...</td>\n      <td>...</td>\n      <td>...</td>\n    </tr>\n    <tr>\n      <th>147669</th>\n      <td>99825</td>\n      <td>56.253670</td>\n      <td>Not specified</td>\n      <td>Not specified</td>\n    </tr>\n    <tr>\n      <th>147670</th>\n      <td>99844</td>\n      <td>63.209756</td>\n      <td>Not specified</td>\n      <td>Not specified</td>\n    </tr>\n    <tr>\n      <th>147671</th>\n      <td>9996</td>\n      <td>84.150571</td>\n      <td>Not specified</td>\n      <td>Not specified</td>\n    </tr>\n    <tr>\n      <th>147672</th>\n      <td>99967</td>\n      <td>74.883312</td>\n      <td>Not specified</td>\n      <td>Not specified</td>\n    </tr>\n    <tr>\n      <th>147673</th>\n      <td>99989</td>\n      <td>77.867104</td>\n      <td>Not specified</td>\n      <td>Not specified</td>\n    </tr>\n  </tbody>\n</table>\n<p>147674 rows × 4 columns</p>\n</div>"
          },
          "metadata": {}
        }
      ],
      "execution_count": 10,
      "metadata": {
        "jupyter": {
          "source_hidden": false,
          "outputs_hidden": false
        },
        "nteract": {
          "transient": {
            "deleting": false
          }
        },
        "gather": {
          "logged": 1688721261231
        }
      }
    },
    {
      "cell_type": "markdown",
      "source": [
        "**Two -level of sorting first by \"Internalpatientid\" then \"Age at ed visit\".**"
      ],
      "metadata": {
        "nteract": {
          "transient": {
            "deleting": false
          }
        }
      }
    },
    {
      "cell_type": "code",
      "source": [
        "sorted_df = ed_visit.sort_values(by=['Internalpatientid','Age at ed visit'])\r\n",
        "sorted_df"
      ],
      "outputs": [
        {
          "output_type": "execute_result",
          "execution_count": 11,
          "data": {
            "text/plain": "        Internalpatientid  Age at ed visit   \n142756                  7        64.228174  \\\n144813                  7        66.771904   \n113526                  7        67.705070   \n134434                  7        69.524108   \n86853                   7        70.916759   \n...                   ...              ...   \n45552              169037        83.295943   \n116369             169037        83.346190   \n134658             169037        85.026314   \n49607              169065        53.148782   \n74877              169065        53.235489   \n\n       First listed diagnosis icd10 subcategory   \n142756                            Not specified  \\\n144813                            Not specified   \n113526                     Other abdominal pain   \n134434                              Dehydration   \n86853                             Not specified   \n...                                         ...   \n45552           Retention of urine, unspecified   \n116369      Other specified disorders of muscle   \n134658            Unspecified fracture of femur   \n49607                             Not specified   \n74877                             Not specified   \n\n                Second listed diagnosis icd10 subcategory  \n142756                                      Not specified  \n144813                                      Not specified  \n113526                  Nausea with vomiting, unspecified  \n134434                                           Weakness  \n86853                                       Not specified  \n...                                                   ...  \n45552                                       Not specified  \n116369  Unspecified atrial fibrillation and atrial flu...  \n134658               Other fall from one level to another  \n49607                                       Not specified  \n74877                                       Not specified  \n\n[147674 rows x 4 columns]",
            "text/html": "<div>\n<style scoped>\n    .dataframe tbody tr th:only-of-type {\n        vertical-align: middle;\n    }\n\n    .dataframe tbody tr th {\n        vertical-align: top;\n    }\n\n    .dataframe thead th {\n        text-align: right;\n    }\n</style>\n<table border=\"1\" class=\"dataframe\">\n  <thead>\n    <tr style=\"text-align: right;\">\n      <th></th>\n      <th>Internalpatientid</th>\n      <th>Age at ed visit</th>\n      <th>First listed diagnosis icd10 subcategory</th>\n      <th>Second listed diagnosis icd10 subcategory</th>\n    </tr>\n  </thead>\n  <tbody>\n    <tr>\n      <th>142756</th>\n      <td>7</td>\n      <td>64.228174</td>\n      <td>Not specified</td>\n      <td>Not specified</td>\n    </tr>\n    <tr>\n      <th>144813</th>\n      <td>7</td>\n      <td>66.771904</td>\n      <td>Not specified</td>\n      <td>Not specified</td>\n    </tr>\n    <tr>\n      <th>113526</th>\n      <td>7</td>\n      <td>67.705070</td>\n      <td>Other abdominal pain</td>\n      <td>Nausea with vomiting, unspecified</td>\n    </tr>\n    <tr>\n      <th>134434</th>\n      <td>7</td>\n      <td>69.524108</td>\n      <td>Dehydration</td>\n      <td>Weakness</td>\n    </tr>\n    <tr>\n      <th>86853</th>\n      <td>7</td>\n      <td>70.916759</td>\n      <td>Not specified</td>\n      <td>Not specified</td>\n    </tr>\n    <tr>\n      <th>...</th>\n      <td>...</td>\n      <td>...</td>\n      <td>...</td>\n      <td>...</td>\n    </tr>\n    <tr>\n      <th>45552</th>\n      <td>169037</td>\n      <td>83.295943</td>\n      <td>Retention of urine, unspecified</td>\n      <td>Not specified</td>\n    </tr>\n    <tr>\n      <th>116369</th>\n      <td>169037</td>\n      <td>83.346190</td>\n      <td>Other specified disorders of muscle</td>\n      <td>Unspecified atrial fibrillation and atrial flu...</td>\n    </tr>\n    <tr>\n      <th>134658</th>\n      <td>169037</td>\n      <td>85.026314</td>\n      <td>Unspecified fracture of femur</td>\n      <td>Other fall from one level to another</td>\n    </tr>\n    <tr>\n      <th>49607</th>\n      <td>169065</td>\n      <td>53.148782</td>\n      <td>Not specified</td>\n      <td>Not specified</td>\n    </tr>\n    <tr>\n      <th>74877</th>\n      <td>169065</td>\n      <td>53.235489</td>\n      <td>Not specified</td>\n      <td>Not specified</td>\n    </tr>\n  </tbody>\n</table>\n<p>147674 rows × 4 columns</p>\n</div>"
          },
          "metadata": {}
        }
      ],
      "execution_count": 11,
      "metadata": {
        "jupyter": {
          "source_hidden": false,
          "outputs_hidden": false
        },
        "nteract": {
          "transient": {
            "deleting": false
          }
        },
        "gather": {
          "logged": 1688721319336
        }
      }
    },
    {
      "cell_type": "code",
      "source": [
        "# Remove the rows where both columns contain \"Not Specified\"\r\n",
        "sorted_df = sorted_df.drop(sorted_df[(sorted_df['First listed diagnosis icd10 subcategory'] == 'Not specified') & (sorted_df['Second listed diagnosis icd10 subcategory'] == 'Not specified')].index)\r\n",
        "sorted_df"
      ],
      "outputs": [
        {
          "output_type": "execute_result",
          "execution_count": 12,
          "data": {
            "text/plain": "        Internalpatientid  Age at ed visit   \n113526                  7        67.705070  \\\n134434                  7        69.524108   \n46851                  25        64.099292   \n45223                  25        65.001139   \n78232                  25        65.061022   \n...                   ...              ...   \n119944             168995        75.644516   \n2680               169037        83.229660   \n45552              169037        83.295943   \n116369             169037        83.346190   \n134658             169037        85.026314   \n\n       First listed diagnosis icd10 subcategory   \n113526                     Other abdominal pain  \\\n134434                              Dehydration   \n46851         Nausea with vomiting, unspecified   \n45223               Chronic atrial fibrillation   \n78232                   Dizziness and giddiness   \n...                                         ...   \n119944                                 COVID-19   \n2680                 Unspecified abdominal pain   \n45552           Retention of urine, unspecified   \n116369      Other specified disorders of muscle   \n134658            Unspecified fracture of femur   \n\n                Second listed diagnosis icd10 subcategory  \n113526                  Nausea with vomiting, unspecified  \n134434                                           Weakness  \n46851                                       Not specified  \n45223                             Dizziness and giddiness  \n78232                            Hypotension, unspecified  \n...                                                   ...  \n119944                                      Not specified  \n2680                             Other retention of urine  \n45552                                       Not specified  \n116369  Unspecified atrial fibrillation and atrial flu...  \n134658               Other fall from one level to another  \n\n[77070 rows x 4 columns]",
            "text/html": "<div>\n<style scoped>\n    .dataframe tbody tr th:only-of-type {\n        vertical-align: middle;\n    }\n\n    .dataframe tbody tr th {\n        vertical-align: top;\n    }\n\n    .dataframe thead th {\n        text-align: right;\n    }\n</style>\n<table border=\"1\" class=\"dataframe\">\n  <thead>\n    <tr style=\"text-align: right;\">\n      <th></th>\n      <th>Internalpatientid</th>\n      <th>Age at ed visit</th>\n      <th>First listed diagnosis icd10 subcategory</th>\n      <th>Second listed diagnosis icd10 subcategory</th>\n    </tr>\n  </thead>\n  <tbody>\n    <tr>\n      <th>113526</th>\n      <td>7</td>\n      <td>67.705070</td>\n      <td>Other abdominal pain</td>\n      <td>Nausea with vomiting, unspecified</td>\n    </tr>\n    <tr>\n      <th>134434</th>\n      <td>7</td>\n      <td>69.524108</td>\n      <td>Dehydration</td>\n      <td>Weakness</td>\n    </tr>\n    <tr>\n      <th>46851</th>\n      <td>25</td>\n      <td>64.099292</td>\n      <td>Nausea with vomiting, unspecified</td>\n      <td>Not specified</td>\n    </tr>\n    <tr>\n      <th>45223</th>\n      <td>25</td>\n      <td>65.001139</td>\n      <td>Chronic atrial fibrillation</td>\n      <td>Dizziness and giddiness</td>\n    </tr>\n    <tr>\n      <th>78232</th>\n      <td>25</td>\n      <td>65.061022</td>\n      <td>Dizziness and giddiness</td>\n      <td>Hypotension, unspecified</td>\n    </tr>\n    <tr>\n      <th>...</th>\n      <td>...</td>\n      <td>...</td>\n      <td>...</td>\n      <td>...</td>\n    </tr>\n    <tr>\n      <th>119944</th>\n      <td>168995</td>\n      <td>75.644516</td>\n      <td>COVID-19</td>\n      <td>Not specified</td>\n    </tr>\n    <tr>\n      <th>2680</th>\n      <td>169037</td>\n      <td>83.229660</td>\n      <td>Unspecified abdominal pain</td>\n      <td>Other retention of urine</td>\n    </tr>\n    <tr>\n      <th>45552</th>\n      <td>169037</td>\n      <td>83.295943</td>\n      <td>Retention of urine, unspecified</td>\n      <td>Not specified</td>\n    </tr>\n    <tr>\n      <th>116369</th>\n      <td>169037</td>\n      <td>83.346190</td>\n      <td>Other specified disorders of muscle</td>\n      <td>Unspecified atrial fibrillation and atrial flu...</td>\n    </tr>\n    <tr>\n      <th>134658</th>\n      <td>169037</td>\n      <td>85.026314</td>\n      <td>Unspecified fracture of femur</td>\n      <td>Other fall from one level to another</td>\n    </tr>\n  </tbody>\n</table>\n<p>77070 rows × 4 columns</p>\n</div>"
          },
          "metadata": {}
        }
      ],
      "execution_count": 12,
      "metadata": {
        "jupyter": {
          "source_hidden": false,
          "outputs_hidden": false
        },
        "nteract": {
          "transient": {
            "deleting": false
          }
        },
        "gather": {
          "logged": 1688721338224
        }
      }
    },
    {
      "cell_type": "code",
      "source": [
        "# Finding the missing values\r\n",
        "sorted_df.isnull().sum()"
      ],
      "outputs": [
        {
          "output_type": "execute_result",
          "execution_count": 13,
          "data": {
            "text/plain": "Internalpatientid                            0\nAge at ed visit                              0\nFirst listed diagnosis icd10 subcategory     0\nSecond listed diagnosis icd10 subcategory    0\ndtype: int64"
          },
          "metadata": {}
        }
      ],
      "execution_count": 13,
      "metadata": {
        "jupyter": {
          "source_hidden": false,
          "outputs_hidden": false
        },
        "nteract": {
          "transient": {
            "deleting": false
          }
        },
        "gather": {
          "logged": 1688721353205
        }
      }
    },
    {
      "cell_type": "markdown",
      "source": [
        "**No null values are present**"
      ],
      "metadata": {
        "nteract": {
          "transient": {
            "deleting": false
          }
        }
      }
    },
    {
      "cell_type": "code",
      "source": [
        "sorted_df.info()"
      ],
      "outputs": [
        {
          "output_type": "stream",
          "name": "stdout",
          "text": "<class 'pandas.core.frame.DataFrame'>\nIndex: 77070 entries, 113526 to 134658\nData columns (total 4 columns):\n #   Column                                     Non-Null Count  Dtype  \n---  ------                                     --------------  -----  \n 0   Internalpatientid                          77070 non-null  int64  \n 1   Age at ed visit                            77070 non-null  float64\n 2   First listed diagnosis icd10 subcategory   77070 non-null  object \n 3   Second listed diagnosis icd10 subcategory  77070 non-null  object \ndtypes: float64(1), int64(1), object(2)\nmemory usage: 2.9+ MB\n"
        }
      ],
      "execution_count": 14,
      "metadata": {
        "jupyter": {
          "source_hidden": false,
          "outputs_hidden": false
        },
        "nteract": {
          "transient": {
            "deleting": false
          }
        },
        "gather": {
          "logged": 1688721388492
        }
      }
    },
    {
      "cell_type": "code",
      "source": [
        "# Format 'Age at measurement' values in the format 00.00\r\n",
        "sorted_df[\"Age at ed visit\"] = sorted_df[\"Age at ed visit\"].map(\"{:.2f}\".format)\r\n",
        "sorted_df"
      ],
      "outputs": [
        {
          "output_type": "execute_result",
          "execution_count": 15,
          "data": {
            "text/plain": "        Internalpatientid Age at ed visit   \n113526                  7           67.71  \\\n134434                  7           69.52   \n46851                  25           64.10   \n45223                  25           65.00   \n78232                  25           65.06   \n...                   ...             ...   \n119944             168995           75.64   \n2680               169037           83.23   \n45552              169037           83.30   \n116369             169037           83.35   \n134658             169037           85.03   \n\n       First listed diagnosis icd10 subcategory   \n113526                     Other abdominal pain  \\\n134434                              Dehydration   \n46851         Nausea with vomiting, unspecified   \n45223               Chronic atrial fibrillation   \n78232                   Dizziness and giddiness   \n...                                         ...   \n119944                                 COVID-19   \n2680                 Unspecified abdominal pain   \n45552           Retention of urine, unspecified   \n116369      Other specified disorders of muscle   \n134658            Unspecified fracture of femur   \n\n                Second listed diagnosis icd10 subcategory  \n113526                  Nausea with vomiting, unspecified  \n134434                                           Weakness  \n46851                                       Not specified  \n45223                             Dizziness and giddiness  \n78232                            Hypotension, unspecified  \n...                                                   ...  \n119944                                      Not specified  \n2680                             Other retention of urine  \n45552                                       Not specified  \n116369  Unspecified atrial fibrillation and atrial flu...  \n134658               Other fall from one level to another  \n\n[77070 rows x 4 columns]",
            "text/html": "<div>\n<style scoped>\n    .dataframe tbody tr th:only-of-type {\n        vertical-align: middle;\n    }\n\n    .dataframe tbody tr th {\n        vertical-align: top;\n    }\n\n    .dataframe thead th {\n        text-align: right;\n    }\n</style>\n<table border=\"1\" class=\"dataframe\">\n  <thead>\n    <tr style=\"text-align: right;\">\n      <th></th>\n      <th>Internalpatientid</th>\n      <th>Age at ed visit</th>\n      <th>First listed diagnosis icd10 subcategory</th>\n      <th>Second listed diagnosis icd10 subcategory</th>\n    </tr>\n  </thead>\n  <tbody>\n    <tr>\n      <th>113526</th>\n      <td>7</td>\n      <td>67.71</td>\n      <td>Other abdominal pain</td>\n      <td>Nausea with vomiting, unspecified</td>\n    </tr>\n    <tr>\n      <th>134434</th>\n      <td>7</td>\n      <td>69.52</td>\n      <td>Dehydration</td>\n      <td>Weakness</td>\n    </tr>\n    <tr>\n      <th>46851</th>\n      <td>25</td>\n      <td>64.10</td>\n      <td>Nausea with vomiting, unspecified</td>\n      <td>Not specified</td>\n    </tr>\n    <tr>\n      <th>45223</th>\n      <td>25</td>\n      <td>65.00</td>\n      <td>Chronic atrial fibrillation</td>\n      <td>Dizziness and giddiness</td>\n    </tr>\n    <tr>\n      <th>78232</th>\n      <td>25</td>\n      <td>65.06</td>\n      <td>Dizziness and giddiness</td>\n      <td>Hypotension, unspecified</td>\n    </tr>\n    <tr>\n      <th>...</th>\n      <td>...</td>\n      <td>...</td>\n      <td>...</td>\n      <td>...</td>\n    </tr>\n    <tr>\n      <th>119944</th>\n      <td>168995</td>\n      <td>75.64</td>\n      <td>COVID-19</td>\n      <td>Not specified</td>\n    </tr>\n    <tr>\n      <th>2680</th>\n      <td>169037</td>\n      <td>83.23</td>\n      <td>Unspecified abdominal pain</td>\n      <td>Other retention of urine</td>\n    </tr>\n    <tr>\n      <th>45552</th>\n      <td>169037</td>\n      <td>83.30</td>\n      <td>Retention of urine, unspecified</td>\n      <td>Not specified</td>\n    </tr>\n    <tr>\n      <th>116369</th>\n      <td>169037</td>\n      <td>83.35</td>\n      <td>Other specified disorders of muscle</td>\n      <td>Unspecified atrial fibrillation and atrial flu...</td>\n    </tr>\n    <tr>\n      <th>134658</th>\n      <td>169037</td>\n      <td>85.03</td>\n      <td>Unspecified fracture of femur</td>\n      <td>Other fall from one level to another</td>\n    </tr>\n  </tbody>\n</table>\n<p>77070 rows × 4 columns</p>\n</div>"
          },
          "metadata": {}
        }
      ],
      "execution_count": 15,
      "metadata": {
        "jupyter": {
          "source_hidden": false,
          "outputs_hidden": false
        },
        "nteract": {
          "transient": {
            "deleting": false
          }
        },
        "gather": {
          "logged": 1688721404226
        }
      }
    },
    {
      "cell_type": "code",
      "source": [
        "sorted_df.info()"
      ],
      "outputs": [
        {
          "output_type": "stream",
          "name": "stdout",
          "text": "<class 'pandas.core.frame.DataFrame'>\nIndex: 77070 entries, 113526 to 134658\nData columns (total 4 columns):\n #   Column                                     Non-Null Count  Dtype \n---  ------                                     --------------  ----- \n 0   Internalpatientid                          77070 non-null  int64 \n 1   Age at ed visit                            77070 non-null  object\n 2   First listed diagnosis icd10 subcategory   77070 non-null  object\n 3   Second listed diagnosis icd10 subcategory  77070 non-null  object\ndtypes: int64(1), object(3)\nmemory usage: 2.9+ MB\n"
        }
      ],
      "execution_count": 16,
      "metadata": {
        "jupyter": {
          "source_hidden": false,
          "outputs_hidden": false
        },
        "nteract": {
          "transient": {
            "deleting": false
          }
        },
        "gather": {
          "logged": 1688721421139
        }
      }
    },
    {
      "cell_type": "code",
      "source": [
        "# Find the maximum age for each internal patient id\r\n",
        "max_ages = sorted_df.groupby('Internalpatientid')['Age at ed visit'].max().reset_index()\r\n",
        "\r\n",
        "# Merge with the original dataframe to get the rows with the highest age\r\n",
        "\r\n",
        "result_df = pd.merge(sorted_df, max_ages, on =['Internalpatientid','Age at ed visit'], how = 'inner')\r\n",
        "\r\n",
        "result_df"
      ],
      "outputs": [
        {
          "output_type": "execute_result",
          "execution_count": 17,
          "data": {
            "text/plain": "       Internalpatientid Age at ed visit   \n0                      7           69.52  \\\n1                     25           69.54   \n2                     41           63.63   \n3                     42           67.83   \n4                     53           70.31   \n...                  ...             ...   \n11216             168921           78.03   \n11217             168956           75.96   \n11218             168995           75.64   \n11219             168995           75.64   \n11220             169037           85.03   \n\n       First listed diagnosis icd10 subcategory   \n0                                   Dehydration  \\\n1      Contusion of eyeball and orbital tissues   \n2                                      Vomiting   \n3                       Adult failure to thrive   \n4                                       Myalgia   \n...                                         ...   \n11216      Diastolic (congestive) heart failure   \n11217                Heart failure, unspecified   \n11218                                  COVID-19   \n11219                                  COVID-19   \n11220             Unspecified fracture of femur   \n\n               Second listed diagnosis icd10 subcategory  \n0                                               Weakness  \n1                                          Not specified  \n2                                          Not specified  \n3                                          Not specified  \n4      Encounter for aftercare following organ transp...  \n...                                                  ...  \n11216                                      Not specified  \n11217  Unspecified atrial fibrillation and atrial flu...  \n11218  Chronic obstructive pulmonary disease, unspeci...  \n11219                                      Not specified  \n11220               Other fall from one level to another  \n\n[11221 rows x 4 columns]",
            "text/html": "<div>\n<style scoped>\n    .dataframe tbody tr th:only-of-type {\n        vertical-align: middle;\n    }\n\n    .dataframe tbody tr th {\n        vertical-align: top;\n    }\n\n    .dataframe thead th {\n        text-align: right;\n    }\n</style>\n<table border=\"1\" class=\"dataframe\">\n  <thead>\n    <tr style=\"text-align: right;\">\n      <th></th>\n      <th>Internalpatientid</th>\n      <th>Age at ed visit</th>\n      <th>First listed diagnosis icd10 subcategory</th>\n      <th>Second listed diagnosis icd10 subcategory</th>\n    </tr>\n  </thead>\n  <tbody>\n    <tr>\n      <th>0</th>\n      <td>7</td>\n      <td>69.52</td>\n      <td>Dehydration</td>\n      <td>Weakness</td>\n    </tr>\n    <tr>\n      <th>1</th>\n      <td>25</td>\n      <td>69.54</td>\n      <td>Contusion of eyeball and orbital tissues</td>\n      <td>Not specified</td>\n    </tr>\n    <tr>\n      <th>2</th>\n      <td>41</td>\n      <td>63.63</td>\n      <td>Vomiting</td>\n      <td>Not specified</td>\n    </tr>\n    <tr>\n      <th>3</th>\n      <td>42</td>\n      <td>67.83</td>\n      <td>Adult failure to thrive</td>\n      <td>Not specified</td>\n    </tr>\n    <tr>\n      <th>4</th>\n      <td>53</td>\n      <td>70.31</td>\n      <td>Myalgia</td>\n      <td>Encounter for aftercare following organ transp...</td>\n    </tr>\n    <tr>\n      <th>...</th>\n      <td>...</td>\n      <td>...</td>\n      <td>...</td>\n      <td>...</td>\n    </tr>\n    <tr>\n      <th>11216</th>\n      <td>168921</td>\n      <td>78.03</td>\n      <td>Diastolic (congestive) heart failure</td>\n      <td>Not specified</td>\n    </tr>\n    <tr>\n      <th>11217</th>\n      <td>168956</td>\n      <td>75.96</td>\n      <td>Heart failure, unspecified</td>\n      <td>Unspecified atrial fibrillation and atrial flu...</td>\n    </tr>\n    <tr>\n      <th>11218</th>\n      <td>168995</td>\n      <td>75.64</td>\n      <td>COVID-19</td>\n      <td>Chronic obstructive pulmonary disease, unspeci...</td>\n    </tr>\n    <tr>\n      <th>11219</th>\n      <td>168995</td>\n      <td>75.64</td>\n      <td>COVID-19</td>\n      <td>Not specified</td>\n    </tr>\n    <tr>\n      <th>11220</th>\n      <td>169037</td>\n      <td>85.03</td>\n      <td>Unspecified fracture of femur</td>\n      <td>Other fall from one level to another</td>\n    </tr>\n  </tbody>\n</table>\n<p>11221 rows × 4 columns</p>\n</div>"
          },
          "metadata": {}
        }
      ],
      "execution_count": 17,
      "metadata": {
        "jupyter": {
          "source_hidden": false,
          "outputs_hidden": false
        },
        "nteract": {
          "transient": {
            "deleting": false
          }
        },
        "gather": {
          "logged": 1688721440632
        }
      }
    },
    {
      "cell_type": "code",
      "source": [
        "# Convert 'Age at measurement' column from object to float\r\n",
        "result_df[\"Age at ed visit\"] = result_df[\"Age at ed visit\"].astype(float)\r\n",
        "\r\n",
        " \r\n",
        "\r\n",
        "# Round off the values in the 'Age at measurement' column to two decimal places\r\n",
        "result_df[\"Age at ed visit\"] = result_df[\"Age at ed visit\"].round()"
      ],
      "outputs": [],
      "execution_count": 18,
      "metadata": {
        "jupyter": {
          "source_hidden": false,
          "outputs_hidden": false
        },
        "nteract": {
          "transient": {
            "deleting": false
          }
        },
        "gather": {
          "logged": 1688721473888
        }
      }
    },
    {
      "cell_type": "code",
      "source": [
        "result_df['Age at ed visit'] = result_df['Age at ed visit'].astype('int')"
      ],
      "outputs": [],
      "execution_count": 19,
      "metadata": {
        "jupyter": {
          "source_hidden": false,
          "outputs_hidden": false
        },
        "nteract": {
          "transient": {
            "deleting": false
          }
        },
        "gather": {
          "logged": 1688721485844
        }
      }
    },
    {
      "cell_type": "code",
      "source": [
        "# Now the value counts\r\n",
        "result_df['Internalpatientid'].value_counts()"
      ],
      "outputs": [
        {
          "output_type": "execute_result",
          "execution_count": 20,
          "data": {
            "text/plain": "Internalpatientid\n142048    3\n108923    3\n102952    3\n143530    3\n135869    3\n         ..\n57418     1\n57421     1\n57425     1\n57463     1\n169037    1\nName: count, Length: 10974, dtype: int64"
          },
          "metadata": {}
        }
      ],
      "execution_count": 20,
      "metadata": {
        "jupyter": {
          "source_hidden": false,
          "outputs_hidden": false
        },
        "nteract": {
          "transient": {
            "deleting": false
          }
        },
        "gather": {
          "logged": 1688721498206
        }
      }
    },
    {
      "cell_type": "code",
      "source": [
        "result_df['ed_visit_first_listed_icd10_subcategory'] = result_df['Age at ed visit'].astype(str) + '_' + result_df['First listed diagnosis icd10 subcategory']\r\n",
        "result_df"
      ],
      "outputs": [
        {
          "output_type": "execute_result",
          "execution_count": 21,
          "data": {
            "text/plain": "       Internalpatientid  Age at ed visit   \n0                      7               70  \\\n1                     25               70   \n2                     41               64   \n3                     42               68   \n4                     53               70   \n...                  ...              ...   \n11216             168921               78   \n11217             168956               76   \n11218             168995               76   \n11219             168995               76   \n11220             169037               85   \n\n       First listed diagnosis icd10 subcategory   \n0                                   Dehydration  \\\n1      Contusion of eyeball and orbital tissues   \n2                                      Vomiting   \n3                       Adult failure to thrive   \n4                                       Myalgia   \n...                                         ...   \n11216      Diastolic (congestive) heart failure   \n11217                Heart failure, unspecified   \n11218                                  COVID-19   \n11219                                  COVID-19   \n11220             Unspecified fracture of femur   \n\n               Second listed diagnosis icd10 subcategory   \n0                                               Weakness  \\\n1                                          Not specified   \n2                                          Not specified   \n3                                          Not specified   \n4      Encounter for aftercare following organ transp...   \n...                                                  ...   \n11216                                      Not specified   \n11217  Unspecified atrial fibrillation and atrial flu...   \n11218  Chronic obstructive pulmonary disease, unspeci...   \n11219                                      Not specified   \n11220               Other fall from one level to another   \n\n           ed_visit_first_listed_icd10_subcategory  \n0                                   70_Dehydration  \n1      70_Contusion of eyeball and orbital tissues  \n2                                      64_Vomiting  \n3                       68_Adult failure to thrive  \n4                                       70_Myalgia  \n...                                            ...  \n11216      78_Diastolic (congestive) heart failure  \n11217                76_Heart failure, unspecified  \n11218                                  76_COVID-19  \n11219                                  76_COVID-19  \n11220             85_Unspecified fracture of femur  \n\n[11221 rows x 5 columns]",
            "text/html": "<div>\n<style scoped>\n    .dataframe tbody tr th:only-of-type {\n        vertical-align: middle;\n    }\n\n    .dataframe tbody tr th {\n        vertical-align: top;\n    }\n\n    .dataframe thead th {\n        text-align: right;\n    }\n</style>\n<table border=\"1\" class=\"dataframe\">\n  <thead>\n    <tr style=\"text-align: right;\">\n      <th></th>\n      <th>Internalpatientid</th>\n      <th>Age at ed visit</th>\n      <th>First listed diagnosis icd10 subcategory</th>\n      <th>Second listed diagnosis icd10 subcategory</th>\n      <th>ed_visit_first_listed_icd10_subcategory</th>\n    </tr>\n  </thead>\n  <tbody>\n    <tr>\n      <th>0</th>\n      <td>7</td>\n      <td>70</td>\n      <td>Dehydration</td>\n      <td>Weakness</td>\n      <td>70_Dehydration</td>\n    </tr>\n    <tr>\n      <th>1</th>\n      <td>25</td>\n      <td>70</td>\n      <td>Contusion of eyeball and orbital tissues</td>\n      <td>Not specified</td>\n      <td>70_Contusion of eyeball and orbital tissues</td>\n    </tr>\n    <tr>\n      <th>2</th>\n      <td>41</td>\n      <td>64</td>\n      <td>Vomiting</td>\n      <td>Not specified</td>\n      <td>64_Vomiting</td>\n    </tr>\n    <tr>\n      <th>3</th>\n      <td>42</td>\n      <td>68</td>\n      <td>Adult failure to thrive</td>\n      <td>Not specified</td>\n      <td>68_Adult failure to thrive</td>\n    </tr>\n    <tr>\n      <th>4</th>\n      <td>53</td>\n      <td>70</td>\n      <td>Myalgia</td>\n      <td>Encounter for aftercare following organ transp...</td>\n      <td>70_Myalgia</td>\n    </tr>\n    <tr>\n      <th>...</th>\n      <td>...</td>\n      <td>...</td>\n      <td>...</td>\n      <td>...</td>\n      <td>...</td>\n    </tr>\n    <tr>\n      <th>11216</th>\n      <td>168921</td>\n      <td>78</td>\n      <td>Diastolic (congestive) heart failure</td>\n      <td>Not specified</td>\n      <td>78_Diastolic (congestive) heart failure</td>\n    </tr>\n    <tr>\n      <th>11217</th>\n      <td>168956</td>\n      <td>76</td>\n      <td>Heart failure, unspecified</td>\n      <td>Unspecified atrial fibrillation and atrial flu...</td>\n      <td>76_Heart failure, unspecified</td>\n    </tr>\n    <tr>\n      <th>11218</th>\n      <td>168995</td>\n      <td>76</td>\n      <td>COVID-19</td>\n      <td>Chronic obstructive pulmonary disease, unspeci...</td>\n      <td>76_COVID-19</td>\n    </tr>\n    <tr>\n      <th>11219</th>\n      <td>168995</td>\n      <td>76</td>\n      <td>COVID-19</td>\n      <td>Not specified</td>\n      <td>76_COVID-19</td>\n    </tr>\n    <tr>\n      <th>11220</th>\n      <td>169037</td>\n      <td>85</td>\n      <td>Unspecified fracture of femur</td>\n      <td>Other fall from one level to another</td>\n      <td>85_Unspecified fracture of femur</td>\n    </tr>\n  </tbody>\n</table>\n<p>11221 rows × 5 columns</p>\n</div>"
          },
          "metadata": {}
        }
      ],
      "execution_count": 21,
      "metadata": {
        "jupyter": {
          "source_hidden": false,
          "outputs_hidden": false
        },
        "nteract": {
          "transient": {
            "deleting": false
          }
        },
        "gather": {
          "logged": 1688721515075
        }
      }
    },
    {
      "cell_type": "code",
      "source": [
        "result_df['ed_visit_second_listed_icd10_subcategory'] = result_df['Age at ed visit'].astype(str) + '_' + result_df['Second listed diagnosis icd10 subcategory']\r\n",
        "result_df"
      ],
      "outputs": [
        {
          "output_type": "execute_result",
          "execution_count": 22,
          "data": {
            "text/plain": "       Internalpatientid  Age at ed visit   \n0                      7               70  \\\n1                     25               70   \n2                     41               64   \n3                     42               68   \n4                     53               70   \n...                  ...              ...   \n11216             168921               78   \n11217             168956               76   \n11218             168995               76   \n11219             168995               76   \n11220             169037               85   \n\n       First listed diagnosis icd10 subcategory   \n0                                   Dehydration  \\\n1      Contusion of eyeball and orbital tissues   \n2                                      Vomiting   \n3                       Adult failure to thrive   \n4                                       Myalgia   \n...                                         ...   \n11216      Diastolic (congestive) heart failure   \n11217                Heart failure, unspecified   \n11218                                  COVID-19   \n11219                                  COVID-19   \n11220             Unspecified fracture of femur   \n\n               Second listed diagnosis icd10 subcategory   \n0                                               Weakness  \\\n1                                          Not specified   \n2                                          Not specified   \n3                                          Not specified   \n4      Encounter for aftercare following organ transp...   \n...                                                  ...   \n11216                                      Not specified   \n11217  Unspecified atrial fibrillation and atrial flu...   \n11218  Chronic obstructive pulmonary disease, unspeci...   \n11219                                      Not specified   \n11220               Other fall from one level to another   \n\n           ed_visit_first_listed_icd10_subcategory   \n0                                   70_Dehydration  \\\n1      70_Contusion of eyeball and orbital tissues   \n2                                      64_Vomiting   \n3                       68_Adult failure to thrive   \n4                                       70_Myalgia   \n...                                            ...   \n11216      78_Diastolic (congestive) heart failure   \n11217                76_Heart failure, unspecified   \n11218                                  76_COVID-19   \n11219                                  76_COVID-19   \n11220             85_Unspecified fracture of femur   \n\n                ed_visit_second_listed_icd10_subcategory  \n0                                            70_Weakness  \n1                                       70_Not specified  \n2                                       64_Not specified  \n3                                       68_Not specified  \n4      70_Encounter for aftercare following organ tra...  \n...                                                  ...  \n11216                                   78_Not specified  \n11217  76_Unspecified atrial fibrillation and atrial ...  \n11218  76_Chronic obstructive pulmonary disease, unsp...  \n11219                                   76_Not specified  \n11220            85_Other fall from one level to another  \n\n[11221 rows x 6 columns]",
            "text/html": "<div>\n<style scoped>\n    .dataframe tbody tr th:only-of-type {\n        vertical-align: middle;\n    }\n\n    .dataframe tbody tr th {\n        vertical-align: top;\n    }\n\n    .dataframe thead th {\n        text-align: right;\n    }\n</style>\n<table border=\"1\" class=\"dataframe\">\n  <thead>\n    <tr style=\"text-align: right;\">\n      <th></th>\n      <th>Internalpatientid</th>\n      <th>Age at ed visit</th>\n      <th>First listed diagnosis icd10 subcategory</th>\n      <th>Second listed diagnosis icd10 subcategory</th>\n      <th>ed_visit_first_listed_icd10_subcategory</th>\n      <th>ed_visit_second_listed_icd10_subcategory</th>\n    </tr>\n  </thead>\n  <tbody>\n    <tr>\n      <th>0</th>\n      <td>7</td>\n      <td>70</td>\n      <td>Dehydration</td>\n      <td>Weakness</td>\n      <td>70_Dehydration</td>\n      <td>70_Weakness</td>\n    </tr>\n    <tr>\n      <th>1</th>\n      <td>25</td>\n      <td>70</td>\n      <td>Contusion of eyeball and orbital tissues</td>\n      <td>Not specified</td>\n      <td>70_Contusion of eyeball and orbital tissues</td>\n      <td>70_Not specified</td>\n    </tr>\n    <tr>\n      <th>2</th>\n      <td>41</td>\n      <td>64</td>\n      <td>Vomiting</td>\n      <td>Not specified</td>\n      <td>64_Vomiting</td>\n      <td>64_Not specified</td>\n    </tr>\n    <tr>\n      <th>3</th>\n      <td>42</td>\n      <td>68</td>\n      <td>Adult failure to thrive</td>\n      <td>Not specified</td>\n      <td>68_Adult failure to thrive</td>\n      <td>68_Not specified</td>\n    </tr>\n    <tr>\n      <th>4</th>\n      <td>53</td>\n      <td>70</td>\n      <td>Myalgia</td>\n      <td>Encounter for aftercare following organ transp...</td>\n      <td>70_Myalgia</td>\n      <td>70_Encounter for aftercare following organ tra...</td>\n    </tr>\n    <tr>\n      <th>...</th>\n      <td>...</td>\n      <td>...</td>\n      <td>...</td>\n      <td>...</td>\n      <td>...</td>\n      <td>...</td>\n    </tr>\n    <tr>\n      <th>11216</th>\n      <td>168921</td>\n      <td>78</td>\n      <td>Diastolic (congestive) heart failure</td>\n      <td>Not specified</td>\n      <td>78_Diastolic (congestive) heart failure</td>\n      <td>78_Not specified</td>\n    </tr>\n    <tr>\n      <th>11217</th>\n      <td>168956</td>\n      <td>76</td>\n      <td>Heart failure, unspecified</td>\n      <td>Unspecified atrial fibrillation and atrial flu...</td>\n      <td>76_Heart failure, unspecified</td>\n      <td>76_Unspecified atrial fibrillation and atrial ...</td>\n    </tr>\n    <tr>\n      <th>11218</th>\n      <td>168995</td>\n      <td>76</td>\n      <td>COVID-19</td>\n      <td>Chronic obstructive pulmonary disease, unspeci...</td>\n      <td>76_COVID-19</td>\n      <td>76_Chronic obstructive pulmonary disease, unsp...</td>\n    </tr>\n    <tr>\n      <th>11219</th>\n      <td>168995</td>\n      <td>76</td>\n      <td>COVID-19</td>\n      <td>Not specified</td>\n      <td>76_COVID-19</td>\n      <td>76_Not specified</td>\n    </tr>\n    <tr>\n      <th>11220</th>\n      <td>169037</td>\n      <td>85</td>\n      <td>Unspecified fracture of femur</td>\n      <td>Other fall from one level to another</td>\n      <td>85_Unspecified fracture of femur</td>\n      <td>85_Other fall from one level to another</td>\n    </tr>\n  </tbody>\n</table>\n<p>11221 rows × 6 columns</p>\n</div>"
          },
          "metadata": {}
        }
      ],
      "execution_count": 22,
      "metadata": {
        "jupyter": {
          "source_hidden": false,
          "outputs_hidden": false
        },
        "nteract": {
          "transient": {
            "deleting": false
          }
        },
        "gather": {
          "logged": 1688721530261
        }
      }
    },
    {
      "cell_type": "code",
      "source": [
        "result_df.drop(['Age at ed visit','First listed diagnosis icd10 subcategory','Second listed diagnosis icd10 subcategory'], axis = 1,inplace = True)\r\n",
        "result_df"
      ],
      "outputs": [
        {
          "output_type": "execute_result",
          "execution_count": 23,
          "data": {
            "text/plain": "       Internalpatientid      ed_visit_first_listed_icd10_subcategory   \n0                      7                               70_Dehydration  \\\n1                     25  70_Contusion of eyeball and orbital tissues   \n2                     41                                  64_Vomiting   \n3                     42                   68_Adult failure to thrive   \n4                     53                                   70_Myalgia   \n...                  ...                                          ...   \n11216             168921      78_Diastolic (congestive) heart failure   \n11217             168956                76_Heart failure, unspecified   \n11218             168995                                  76_COVID-19   \n11219             168995                                  76_COVID-19   \n11220             169037             85_Unspecified fracture of femur   \n\n                ed_visit_second_listed_icd10_subcategory  \n0                                            70_Weakness  \n1                                       70_Not specified  \n2                                       64_Not specified  \n3                                       68_Not specified  \n4      70_Encounter for aftercare following organ tra...  \n...                                                  ...  \n11216                                   78_Not specified  \n11217  76_Unspecified atrial fibrillation and atrial ...  \n11218  76_Chronic obstructive pulmonary disease, unsp...  \n11219                                   76_Not specified  \n11220            85_Other fall from one level to another  \n\n[11221 rows x 3 columns]",
            "text/html": "<div>\n<style scoped>\n    .dataframe tbody tr th:only-of-type {\n        vertical-align: middle;\n    }\n\n    .dataframe tbody tr th {\n        vertical-align: top;\n    }\n\n    .dataframe thead th {\n        text-align: right;\n    }\n</style>\n<table border=\"1\" class=\"dataframe\">\n  <thead>\n    <tr style=\"text-align: right;\">\n      <th></th>\n      <th>Internalpatientid</th>\n      <th>ed_visit_first_listed_icd10_subcategory</th>\n      <th>ed_visit_second_listed_icd10_subcategory</th>\n    </tr>\n  </thead>\n  <tbody>\n    <tr>\n      <th>0</th>\n      <td>7</td>\n      <td>70_Dehydration</td>\n      <td>70_Weakness</td>\n    </tr>\n    <tr>\n      <th>1</th>\n      <td>25</td>\n      <td>70_Contusion of eyeball and orbital tissues</td>\n      <td>70_Not specified</td>\n    </tr>\n    <tr>\n      <th>2</th>\n      <td>41</td>\n      <td>64_Vomiting</td>\n      <td>64_Not specified</td>\n    </tr>\n    <tr>\n      <th>3</th>\n      <td>42</td>\n      <td>68_Adult failure to thrive</td>\n      <td>68_Not specified</td>\n    </tr>\n    <tr>\n      <th>4</th>\n      <td>53</td>\n      <td>70_Myalgia</td>\n      <td>70_Encounter for aftercare following organ tra...</td>\n    </tr>\n    <tr>\n      <th>...</th>\n      <td>...</td>\n      <td>...</td>\n      <td>...</td>\n    </tr>\n    <tr>\n      <th>11216</th>\n      <td>168921</td>\n      <td>78_Diastolic (congestive) heart failure</td>\n      <td>78_Not specified</td>\n    </tr>\n    <tr>\n      <th>11217</th>\n      <td>168956</td>\n      <td>76_Heart failure, unspecified</td>\n      <td>76_Unspecified atrial fibrillation and atrial ...</td>\n    </tr>\n    <tr>\n      <th>11218</th>\n      <td>168995</td>\n      <td>76_COVID-19</td>\n      <td>76_Chronic obstructive pulmonary disease, unsp...</td>\n    </tr>\n    <tr>\n      <th>11219</th>\n      <td>168995</td>\n      <td>76_COVID-19</td>\n      <td>76_Not specified</td>\n    </tr>\n    <tr>\n      <th>11220</th>\n      <td>169037</td>\n      <td>85_Unspecified fracture of femur</td>\n      <td>85_Other fall from one level to another</td>\n    </tr>\n  </tbody>\n</table>\n<p>11221 rows × 3 columns</p>\n</div>"
          },
          "metadata": {}
        }
      ],
      "execution_count": 23,
      "metadata": {
        "jupyter": {
          "source_hidden": false,
          "outputs_hidden": false
        },
        "nteract": {
          "transient": {
            "deleting": false
          }
        },
        "gather": {
          "logged": 1688721560204
        }
      }
    },
    {
      "cell_type": "code",
      "source": [
        "result_df.info()"
      ],
      "outputs": [
        {
          "output_type": "stream",
          "name": "stdout",
          "text": "<class 'pandas.core.frame.DataFrame'>\nRangeIndex: 11221 entries, 0 to 11220\nData columns (total 3 columns):\n #   Column                                    Non-Null Count  Dtype \n---  ------                                    --------------  ----- \n 0   Internalpatientid                         11221 non-null  int64 \n 1   ed_visit_first_listed_icd10_subcategory   11221 non-null  object\n 2   ed_visit_second_listed_icd10_subcategory  11221 non-null  object\ndtypes: int64(1), object(2)\nmemory usage: 263.1+ KB\n"
        }
      ],
      "execution_count": 24,
      "metadata": {
        "jupyter": {
          "source_hidden": false,
          "outputs_hidden": false
        },
        "nteract": {
          "transient": {
            "deleting": false
          }
        },
        "gather": {
          "logged": 1688721575732
        }
      }
    },
    {
      "cell_type": "code",
      "source": [
        "result_df['ed_visit_first_listed_icd10_subcategory'] = result_df['ed_visit_first_listed_icd10_subcategory'].astype(str)\r\n",
        "result_df['ed_visit_second_listed_icd10_subcategory'] = result_df['ed_visit_second_listed_icd10_subcategory'].astype(str)"
      ],
      "outputs": [],
      "execution_count": 25,
      "metadata": {
        "jupyter": {
          "source_hidden": false,
          "outputs_hidden": false
        },
        "nteract": {
          "transient": {
            "deleting": false
          }
        },
        "gather": {
          "logged": 1688721595120
        }
      }
    },
    {
      "cell_type": "code",
      "source": [
        "df_ed_visit = result_df.groupby('Internalpatientid').apply(lambda x: pd.Series({\r\n",
        "    'ed_visit_first_listed_icd10_subcategory' : ', '.join(x['ed_visit_first_listed_icd10_subcategory']),\r\n",
        "    'ed_visit_second_listed_icd10_subcategory' : ', '.join(x['ed_visit_second_listed_icd10_subcategory'])\r\n",
        "    \r\n",
        "\r\n",
        "}))\r\n",
        "\r\n",
        "# Reset the index of the dataframe\r\n",
        "df_ed_visit = df_ed_visit.reset_index()\r\n",
        "\r\n",
        "# print the grouped dataframe\r\n",
        "print(df_ed_visit)"
      ],
      "outputs": [
        {
          "output_type": "stream",
          "name": "stdout",
          "text": "       Internalpatientid      ed_visit_first_listed_icd10_subcategory   \n0                      7                               70_Dehydration  \\\n1                     25  70_Contusion of eyeball and orbital tissues   \n2                     41                                  64_Vomiting   \n3                     42                   68_Adult failure to thrive   \n4                     53                                   70_Myalgia   \n...                  ...                                          ...   \n10969             168905                               72_Dehydration   \n10970             168921      78_Diastolic (congestive) heart failure   \n10971             168956                76_Heart failure, unspecified   \n10972             168995                     76_COVID-19, 76_COVID-19   \n10973             169037             85_Unspecified fracture of femur   \n\n                ed_visit_second_listed_icd10_subcategory  \n0                                            70_Weakness  \n1                                       70_Not specified  \n2                                       64_Not specified  \n3                                       68_Not specified  \n4      70_Encounter for aftercare following organ tra...  \n...                                                  ...  \n10969                                   72_Not specified  \n10970                                   78_Not specified  \n10971  76_Unspecified atrial fibrillation and atrial ...  \n10972  76_Chronic obstructive pulmonary disease, unsp...  \n10973            85_Other fall from one level to another  \n\n[10974 rows x 3 columns]\n"
        }
      ],
      "execution_count": 26,
      "metadata": {
        "jupyter": {
          "source_hidden": false,
          "outputs_hidden": false
        },
        "nteract": {
          "transient": {
            "deleting": false
          }
        },
        "gather": {
          "logged": 1688721616667
        }
      }
    },
    {
      "cell_type": "markdown",
      "source": [
        "#### **Final DataFrame**"
      ],
      "metadata": {
        "nteract": {
          "transient": {
            "deleting": false
          }
        }
      }
    },
    {
      "cell_type": "code",
      "source": [
        "df_ed_visit"
      ],
      "outputs": [
        {
          "output_type": "execute_result",
          "execution_count": 27,
          "data": {
            "text/plain": "       Internalpatientid      ed_visit_first_listed_icd10_subcategory   \n0                      7                               70_Dehydration  \\\n1                     25  70_Contusion of eyeball and orbital tissues   \n2                     41                                  64_Vomiting   \n3                     42                   68_Adult failure to thrive   \n4                     53                                   70_Myalgia   \n...                  ...                                          ...   \n10969             168905                               72_Dehydration   \n10970             168921      78_Diastolic (congestive) heart failure   \n10971             168956                76_Heart failure, unspecified   \n10972             168995                     76_COVID-19, 76_COVID-19   \n10973             169037             85_Unspecified fracture of femur   \n\n                ed_visit_second_listed_icd10_subcategory  \n0                                            70_Weakness  \n1                                       70_Not specified  \n2                                       64_Not specified  \n3                                       68_Not specified  \n4      70_Encounter for aftercare following organ tra...  \n...                                                  ...  \n10969                                   72_Not specified  \n10970                                   78_Not specified  \n10971  76_Unspecified atrial fibrillation and atrial ...  \n10972  76_Chronic obstructive pulmonary disease, unsp...  \n10973            85_Other fall from one level to another  \n\n[10974 rows x 3 columns]",
            "text/html": "<div>\n<style scoped>\n    .dataframe tbody tr th:only-of-type {\n        vertical-align: middle;\n    }\n\n    .dataframe tbody tr th {\n        vertical-align: top;\n    }\n\n    .dataframe thead th {\n        text-align: right;\n    }\n</style>\n<table border=\"1\" class=\"dataframe\">\n  <thead>\n    <tr style=\"text-align: right;\">\n      <th></th>\n      <th>Internalpatientid</th>\n      <th>ed_visit_first_listed_icd10_subcategory</th>\n      <th>ed_visit_second_listed_icd10_subcategory</th>\n    </tr>\n  </thead>\n  <tbody>\n    <tr>\n      <th>0</th>\n      <td>7</td>\n      <td>70_Dehydration</td>\n      <td>70_Weakness</td>\n    </tr>\n    <tr>\n      <th>1</th>\n      <td>25</td>\n      <td>70_Contusion of eyeball and orbital tissues</td>\n      <td>70_Not specified</td>\n    </tr>\n    <tr>\n      <th>2</th>\n      <td>41</td>\n      <td>64_Vomiting</td>\n      <td>64_Not specified</td>\n    </tr>\n    <tr>\n      <th>3</th>\n      <td>42</td>\n      <td>68_Adult failure to thrive</td>\n      <td>68_Not specified</td>\n    </tr>\n    <tr>\n      <th>4</th>\n      <td>53</td>\n      <td>70_Myalgia</td>\n      <td>70_Encounter for aftercare following organ tra...</td>\n    </tr>\n    <tr>\n      <th>...</th>\n      <td>...</td>\n      <td>...</td>\n      <td>...</td>\n    </tr>\n    <tr>\n      <th>10969</th>\n      <td>168905</td>\n      <td>72_Dehydration</td>\n      <td>72_Not specified</td>\n    </tr>\n    <tr>\n      <th>10970</th>\n      <td>168921</td>\n      <td>78_Diastolic (congestive) heart failure</td>\n      <td>78_Not specified</td>\n    </tr>\n    <tr>\n      <th>10971</th>\n      <td>168956</td>\n      <td>76_Heart failure, unspecified</td>\n      <td>76_Unspecified atrial fibrillation and atrial ...</td>\n    </tr>\n    <tr>\n      <th>10972</th>\n      <td>168995</td>\n      <td>76_COVID-19, 76_COVID-19</td>\n      <td>76_Chronic obstructive pulmonary disease, unsp...</td>\n    </tr>\n    <tr>\n      <th>10973</th>\n      <td>169037</td>\n      <td>85_Unspecified fracture of femur</td>\n      <td>85_Other fall from one level to another</td>\n    </tr>\n  </tbody>\n</table>\n<p>10974 rows × 3 columns</p>\n</div>"
          },
          "metadata": {}
        }
      ],
      "execution_count": 27,
      "metadata": {
        "jupyter": {
          "source_hidden": false,
          "outputs_hidden": false
        },
        "nteract": {
          "transient": {
            "deleting": false
          }
        },
        "gather": {
          "logged": 1688721654390
        }
      }
    },
    {
      "cell_type": "code",
      "source": [
        "# saving as the csv file in the appropriate directory\r\n",
        "df_ed_visit.to_csv('/mnt/batch/tasks/shared/LS_root/mounts/clusters/team3-nishagpu2/code/Users/900379/Output_files_test/df_ed_visit_test.csv')"
      ],
      "outputs": [],
      "execution_count": 28,
      "metadata": {
        "jupyter": {
          "source_hidden": false,
          "outputs_hidden": false
        },
        "nteract": {
          "transient": {
            "deleting": false
          }
        },
        "gather": {
          "logged": 1688721706324
        }
      }
    }
  ],
  "metadata": {
    "kernelspec": {
      "name": "python310-sdkv2",
      "language": "python",
      "display_name": "Python 3.10 - SDK v2"
    },
    "language_info": {
      "name": "python",
      "version": "3.10.10",
      "mimetype": "text/x-python",
      "codemirror_mode": {
        "name": "ipython",
        "version": 3
      },
      "pygments_lexer": "ipython3",
      "nbconvert_exporter": "python",
      "file_extension": ".py"
    },
    "microsoft": {
      "ms_spell_check": {
        "ms_spell_check_language": "en"
      },
      "host": {
        "AzureML": {
          "notebookHasBeenCompleted": true
        }
      }
    },
    "kernel_info": {
      "name": "python310-sdkv2"
    },
    "nteract": {
      "version": "nteract-front-end@1.0.0"
    }
  },
  "nbformat": 4,
  "nbformat_minor": 2
}