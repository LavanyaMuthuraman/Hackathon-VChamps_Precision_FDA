{
 "cells": [
  {
   "cell_type": "markdown",
   "id": "b2becc3a",
   "metadata": {},
   "source": [
    "----\n",
    "# **Measurements Blood Pressure Test**\n",
    "----\n",
    "\n",
    "## **Dataset Description:**\n",
    "\n",
    "- **Internalpatientid:** The unique identifier for each patient in the dataset.\n",
    "- **Age at measurement bp:** The age of the patient at the time the blood pressure measurement was taken.\n",
    "- **Measurement date:** The date and time when the blood pressure measurement was taken.\n",
    "- **Diastolic bp:** The diastolic blood pressure value, which represents the pressure in the arteries when the heart is at rest between beats.\n",
    "- **Systolic bp:** The systolic blood pressure value, which represents the pressure in the arteries when the heart is actively pumping blood.\n",
    "- **State:** The state where the measurement was taken or the patient's residence."
   ]
  },
  {
   "cell_type": "markdown",
   "id": "ac17799e",
   "metadata": {},
   "source": [
    "### Azure notebook Setup"
   ]
  },
  {
   "cell_type": "code",
   "execution_count": 1,
   "id": "3668f0ed",
   "metadata": {},
   "outputs": [],
   "source": [
    "#A class attribute that provides access to the TabularDatasetFactory methods for creating new TabularDataset objects. \n",
    "#Usage: Dataset.Tabular.from_delimited_files().\n",
    "from azureml.core import Workspace, Dataset\n",
    "\n",
    "subscription_id = 'bcfe0c62-8ebe-4df0-a46d-1efcf8739a5b' #check the launch studio there will get this id\n",
    "resource_group = 'VChamp-Team3' # resource group name\n",
    "workspace_name = 'vchamp-team3' # worksapce name\n",
    "\n",
    "\n",
    "# storage account : Algorithmia, Resource group: VChamp-Team3 and workspace: vchamp-team3.\n",
    "#Constructor\n",
    "workspace = Workspace(subscription_id, resource_group, workspace_name)"
   ]
  },
  {
   "cell_type": "code",
   "execution_count": 2,
   "id": "c1c3c107",
   "metadata": {},
   "outputs": [],
   "source": [
    "#['data_team3_synthetic_train']\n",
    "datastore = workspace.datastores['data_team3_synthetic_test']"
   ]
  },
  {
   "cell_type": "code",
   "execution_count": 3,
   "id": "2e4704e1",
   "metadata": {},
   "outputs": [],
   "source": [
    "#from_delimited_files (Create a TabularDataset to represent tabular data in delimited files (e.g. CSV and TSV).\n",
    "dataset = Dataset.Tabular.from_delimited_files(path = [(datastore, 'measurements_blood_pressure_test.csv')])\n",
    "\n",
    "# preview the first 3 rows of the dataset\n",
    "# dataset.to_pandas_dataframe()"
   ]
  },
  {
   "cell_type": "code",
   "execution_count": 4,
   "id": "6b27edfc",
   "metadata": {},
   "outputs": [],
   "source": [
    "#Converting the dataset into data frame(default as dataset in Azure, thus we must convert the needed formate)\n",
    "measurements_blood_pressure_test_data= dataset.to_pandas_dataframe()"
   ]
  },
  {
   "cell_type": "code",
   "execution_count": 5,
   "id": "98239d0d",
   "metadata": {},
   "outputs": [
    {
     "data": {
      "text/plain": [
       "pandas.core.frame.DataFrame"
      ]
     },
     "execution_count": 5,
     "metadata": {},
     "output_type": "execute_result"
    }
   ],
   "source": [
    "type(measurements_blood_pressure_test_data)"
   ]
  },
  {
   "cell_type": "code",
   "execution_count": 6,
   "id": "d03bdd29",
   "metadata": {},
   "outputs": [
    {
     "data": {
      "text/html": [
       "<div>\n",
       "<style scoped>\n",
       "    .dataframe tbody tr th:only-of-type {\n",
       "        vertical-align: middle;\n",
       "    }\n",
       "\n",
       "    .dataframe tbody tr th {\n",
       "        vertical-align: top;\n",
       "    }\n",
       "\n",
       "    .dataframe thead th {\n",
       "        text-align: right;\n",
       "    }\n",
       "</style>\n",
       "<table border=\"1\" class=\"dataframe\">\n",
       "  <thead>\n",
       "    <tr style=\"text-align: right;\">\n",
       "      <th></th>\n",
       "      <th>Column1</th>\n",
       "      <th>Internalpatientid</th>\n",
       "      <th>Age at measurement bp</th>\n",
       "      <th>Measurement date</th>\n",
       "      <th>Diastolic bp</th>\n",
       "      <th>Systolic bp</th>\n",
       "      <th>State</th>\n",
       "    </tr>\n",
       "  </thead>\n",
       "  <tbody>\n",
       "    <tr>\n",
       "      <th>0</th>\n",
       "      <td>15</td>\n",
       "      <td>100</td>\n",
       "      <td>55.097387</td>\n",
       "      <td>2016-11-02 02:16:29</td>\n",
       "      <td>73.0</td>\n",
       "      <td>120.0</td>\n",
       "      <td>New York</td>\n",
       "    </tr>\n",
       "    <tr>\n",
       "      <th>1</th>\n",
       "      <td>16</td>\n",
       "      <td>100</td>\n",
       "      <td>55.101809</td>\n",
       "      <td>2016-11-03 17:03:54</td>\n",
       "      <td>57.0</td>\n",
       "      <td>86.0</td>\n",
       "      <td>New York</td>\n",
       "    </tr>\n",
       "    <tr>\n",
       "      <th>2</th>\n",
       "      <td>17</td>\n",
       "      <td>100</td>\n",
       "      <td>55.103167</td>\n",
       "      <td>2016-11-04 04:58:47</td>\n",
       "      <td>58.0</td>\n",
       "      <td>92.0</td>\n",
       "      <td>New York</td>\n",
       "    </tr>\n",
       "    <tr>\n",
       "      <th>3</th>\n",
       "      <td>18</td>\n",
       "      <td>100</td>\n",
       "      <td>55.109996</td>\n",
       "      <td>2016-11-06 16:53:06</td>\n",
       "      <td>67.0</td>\n",
       "      <td>115.0</td>\n",
       "      <td>New York</td>\n",
       "    </tr>\n",
       "    <tr>\n",
       "      <th>4</th>\n",
       "      <td>19</td>\n",
       "      <td>100</td>\n",
       "      <td>55.120935</td>\n",
       "      <td>2016-11-10 16:50:38</td>\n",
       "      <td>54.0</td>\n",
       "      <td>94.0</td>\n",
       "      <td>New York</td>\n",
       "    </tr>\n",
       "  </tbody>\n",
       "</table>\n",
       "</div>"
      ],
      "text/plain": [
       "   Column1  Internalpatientid  Age at measurement bp    Measurement date  \\\n",
       "0       15                100              55.097387 2016-11-02 02:16:29   \n",
       "1       16                100              55.101809 2016-11-03 17:03:54   \n",
       "2       17                100              55.103167 2016-11-04 04:58:47   \n",
       "3       18                100              55.109996 2016-11-06 16:53:06   \n",
       "4       19                100              55.120935 2016-11-10 16:50:38   \n",
       "\n",
       "   Diastolic bp  Systolic bp     State  \n",
       "0          73.0        120.0  New York  \n",
       "1          57.0         86.0  New York  \n",
       "2          58.0         92.0  New York  \n",
       "3          67.0        115.0  New York  \n",
       "4          54.0         94.0  New York  "
      ]
     },
     "execution_count": 6,
     "metadata": {},
     "output_type": "execute_result"
    }
   ],
   "source": [
    "measurements_blood_pressure_test_data.head()"
   ]
  },
  {
   "cell_type": "markdown",
   "id": "fe7ea5ca",
   "metadata": {},
   "source": [
    "## **Importing Libraries**"
   ]
  },
  {
   "cell_type": "code",
   "execution_count": 7,
   "id": "1eaf7fac",
   "metadata": {},
   "outputs": [],
   "source": [
    "# Importing essential libraries\n",
    "import pandas as pd        # Library for data manipulation and analysis\n",
    "import numpy as np         # Library for mathematical operations"
   ]
  },
  {
   "cell_type": "markdown",
   "id": "26350eae",
   "metadata": {},
   "source": [
    "## **Data Exploration**"
   ]
  },
  {
   "cell_type": "code",
   "execution_count": 8,
   "id": "f2ecd993",
   "metadata": {},
   "outputs": [],
   "source": [
    "# changing variable name for dataframe\n",
    "df = measurements_blood_pressure_test_data"
   ]
  },
  {
   "cell_type": "code",
   "execution_count": 9,
   "id": "5baf1d0c",
   "metadata": {},
   "outputs": [
    {
     "data": {
      "text/html": [
       "<div>\n",
       "<style scoped>\n",
       "    .dataframe tbody tr th:only-of-type {\n",
       "        vertical-align: middle;\n",
       "    }\n",
       "\n",
       "    .dataframe tbody tr th {\n",
       "        vertical-align: top;\n",
       "    }\n",
       "\n",
       "    .dataframe thead th {\n",
       "        text-align: right;\n",
       "    }\n",
       "</style>\n",
       "<table border=\"1\" class=\"dataframe\">\n",
       "  <thead>\n",
       "    <tr style=\"text-align: right;\">\n",
       "      <th></th>\n",
       "      <th>Column1</th>\n",
       "      <th>Internalpatientid</th>\n",
       "      <th>Age at measurement bp</th>\n",
       "      <th>Measurement date</th>\n",
       "      <th>Diastolic bp</th>\n",
       "      <th>Systolic bp</th>\n",
       "      <th>State</th>\n",
       "    </tr>\n",
       "  </thead>\n",
       "  <tbody>\n",
       "    <tr>\n",
       "      <th>0</th>\n",
       "      <td>15</td>\n",
       "      <td>100</td>\n",
       "      <td>55.097387</td>\n",
       "      <td>2016-11-02 02:16:29</td>\n",
       "      <td>73.0</td>\n",
       "      <td>120.0</td>\n",
       "      <td>New York</td>\n",
       "    </tr>\n",
       "    <tr>\n",
       "      <th>1</th>\n",
       "      <td>16</td>\n",
       "      <td>100</td>\n",
       "      <td>55.101809</td>\n",
       "      <td>2016-11-03 17:03:54</td>\n",
       "      <td>57.0</td>\n",
       "      <td>86.0</td>\n",
       "      <td>New York</td>\n",
       "    </tr>\n",
       "    <tr>\n",
       "      <th>2</th>\n",
       "      <td>17</td>\n",
       "      <td>100</td>\n",
       "      <td>55.103167</td>\n",
       "      <td>2016-11-04 04:58:47</td>\n",
       "      <td>58.0</td>\n",
       "      <td>92.0</td>\n",
       "      <td>New York</td>\n",
       "    </tr>\n",
       "    <tr>\n",
       "      <th>3</th>\n",
       "      <td>18</td>\n",
       "      <td>100</td>\n",
       "      <td>55.109996</td>\n",
       "      <td>2016-11-06 16:53:06</td>\n",
       "      <td>67.0</td>\n",
       "      <td>115.0</td>\n",
       "      <td>New York</td>\n",
       "    </tr>\n",
       "    <tr>\n",
       "      <th>4</th>\n",
       "      <td>19</td>\n",
       "      <td>100</td>\n",
       "      <td>55.120935</td>\n",
       "      <td>2016-11-10 16:50:38</td>\n",
       "      <td>54.0</td>\n",
       "      <td>94.0</td>\n",
       "      <td>New York</td>\n",
       "    </tr>\n",
       "  </tbody>\n",
       "</table>\n",
       "</div>"
      ],
      "text/plain": [
       "   Column1  Internalpatientid  Age at measurement bp    Measurement date  \\\n",
       "0       15                100              55.097387 2016-11-02 02:16:29   \n",
       "1       16                100              55.101809 2016-11-03 17:03:54   \n",
       "2       17                100              55.103167 2016-11-04 04:58:47   \n",
       "3       18                100              55.109996 2016-11-06 16:53:06   \n",
       "4       19                100              55.120935 2016-11-10 16:50:38   \n",
       "\n",
       "   Diastolic bp  Systolic bp     State  \n",
       "0          73.0        120.0  New York  \n",
       "1          57.0         86.0  New York  \n",
       "2          58.0         92.0  New York  \n",
       "3          67.0        115.0  New York  \n",
       "4          54.0         94.0  New York  "
      ]
     },
     "execution_count": 9,
     "metadata": {},
     "output_type": "execute_result"
    }
   ],
   "source": [
    "# Display the first few rows of a DataFrame\n",
    "df.head()"
   ]
  },
  {
   "cell_type": "code",
   "execution_count": 10,
   "id": "071e61eb",
   "metadata": {},
   "outputs": [
    {
     "name": "stdout",
     "output_type": "stream",
     "text": [
      "Number of rows: 5918668\n",
      "Number of columns: 7\n"
     ]
    }
   ],
   "source": [
    "# Shape of the dataset\n",
    "df.shape\n",
    "\n",
    "num_rows = df.shape[0]  # Number of rows\n",
    "num_cols = df.shape[1]  # Number of columns\n",
    "\n",
    "print(\"Number of rows:\", num_rows)\n",
    "print(\"Number of columns:\", num_cols)"
   ]
  },
  {
   "cell_type": "code",
   "execution_count": 11,
   "id": "1395ea76",
   "metadata": {},
   "outputs": [
    {
     "data": {
      "text/plain": [
       "34563"
      ]
     },
     "execution_count": 11,
     "metadata": {},
     "output_type": "execute_result"
    }
   ],
   "source": [
    "# Get the number of unique values in the 'Internalpatientid' column\n",
    "df['Internalpatientid'].nunique()"
   ]
  },
  {
   "cell_type": "code",
   "execution_count": 12,
   "id": "2a1115a8",
   "metadata": {},
   "outputs": [
    {
     "name": "stdout",
     "output_type": "stream",
     "text": [
      "<class 'pandas.core.frame.DataFrame'>\n",
      "RangeIndex: 5918668 entries, 0 to 5918667\n",
      "Data columns (total 7 columns):\n",
      " #   Column                 Dtype         \n",
      "---  ------                 -----         \n",
      " 0   Column1                int64         \n",
      " 1   Internalpatientid      int64         \n",
      " 2   Age at measurement bp  float64       \n",
      " 3   Measurement date       datetime64[ns]\n",
      " 4   Diastolic bp           float64       \n",
      " 5   Systolic bp            float64       \n",
      " 6   State                  object        \n",
      "dtypes: datetime64[ns](1), float64(3), int64(2), object(1)\n",
      "memory usage: 316.1+ MB\n"
     ]
    }
   ],
   "source": [
    "# Display the concise summary of the DataFrame\n",
    "df.info()"
   ]
  },
  {
   "cell_type": "markdown",
   "id": "1319e9ab",
   "metadata": {},
   "source": [
    "- The 'Internalpatientid' column contains integer values, and the columns for 'Age at measurement bp', 'Diastolic bp' and 'Systolic bp' are in float format, while the rest of the features are in object format."
   ]
  },
  {
   "cell_type": "markdown",
   "id": "6c4042f8",
   "metadata": {},
   "source": [
    "## **Checking Missing Values**"
   ]
  },
  {
   "cell_type": "code",
   "execution_count": 13,
   "id": "2e9ac3a8",
   "metadata": {},
   "outputs": [
    {
     "data": {
      "text/plain": [
       "Column1                  0\n",
       "Internalpatientid        0\n",
       "Age at measurement bp    0\n",
       "Measurement date         0\n",
       "Diastolic bp             0\n",
       "Systolic bp              0\n",
       "State                    0\n",
       "dtype: int64"
      ]
     },
     "execution_count": 13,
     "metadata": {},
     "output_type": "execute_result"
    }
   ],
   "source": [
    "# Count the number of missing values in each column\n",
    "df.isnull().sum()"
   ]
  },
  {
   "cell_type": "markdown",
   "id": "f746a61f",
   "metadata": {},
   "source": [
    "- There is no missing value in this file."
   ]
  },
  {
   "cell_type": "markdown",
   "id": "6715568f",
   "metadata": {},
   "source": [
    "## **Data Preprocessing**"
   ]
  },
  {
   "cell_type": "code",
   "execution_count": 14,
   "id": "2de47d09",
   "metadata": {},
   "outputs": [],
   "source": [
    "# changing variable name for dataframe\n",
    "measurement_bp = df"
   ]
  },
  {
   "cell_type": "code",
   "execution_count": 15,
   "id": "6b009d60",
   "metadata": {},
   "outputs": [],
   "source": [
    "# Drop the specified columns from the DataFrame\n",
    "measurement_bp.drop(['Column1','Measurement date','State'], axis=1,inplace=True)"
   ]
  },
  {
   "cell_type": "code",
   "execution_count": 16,
   "id": "c69d47ad",
   "metadata": {},
   "outputs": [
    {
     "data": {
      "text/html": [
       "<div>\n",
       "<style scoped>\n",
       "    .dataframe tbody tr th:only-of-type {\n",
       "        vertical-align: middle;\n",
       "    }\n",
       "\n",
       "    .dataframe tbody tr th {\n",
       "        vertical-align: top;\n",
       "    }\n",
       "\n",
       "    .dataframe thead th {\n",
       "        text-align: right;\n",
       "    }\n",
       "</style>\n",
       "<table border=\"1\" class=\"dataframe\">\n",
       "  <thead>\n",
       "    <tr style=\"text-align: right;\">\n",
       "      <th></th>\n",
       "      <th>Internalpatientid</th>\n",
       "      <th>Age at measurement bp</th>\n",
       "      <th>Diastolic bp</th>\n",
       "      <th>Systolic bp</th>\n",
       "    </tr>\n",
       "  </thead>\n",
       "  <tbody>\n",
       "    <tr>\n",
       "      <th>0</th>\n",
       "      <td>100</td>\n",
       "      <td>55.097387</td>\n",
       "      <td>73.0</td>\n",
       "      <td>120.0</td>\n",
       "    </tr>\n",
       "    <tr>\n",
       "      <th>1</th>\n",
       "      <td>100</td>\n",
       "      <td>55.101809</td>\n",
       "      <td>57.0</td>\n",
       "      <td>86.0</td>\n",
       "    </tr>\n",
       "    <tr>\n",
       "      <th>2</th>\n",
       "      <td>100</td>\n",
       "      <td>55.103167</td>\n",
       "      <td>58.0</td>\n",
       "      <td>92.0</td>\n",
       "    </tr>\n",
       "    <tr>\n",
       "      <th>3</th>\n",
       "      <td>100</td>\n",
       "      <td>55.109996</td>\n",
       "      <td>67.0</td>\n",
       "      <td>115.0</td>\n",
       "    </tr>\n",
       "    <tr>\n",
       "      <th>4</th>\n",
       "      <td>100</td>\n",
       "      <td>55.120935</td>\n",
       "      <td>54.0</td>\n",
       "      <td>94.0</td>\n",
       "    </tr>\n",
       "  </tbody>\n",
       "</table>\n",
       "</div>"
      ],
      "text/plain": [
       "   Internalpatientid  Age at measurement bp  Diastolic bp  Systolic bp\n",
       "0                100              55.097387          73.0        120.0\n",
       "1                100              55.101809          57.0         86.0\n",
       "2                100              55.103167          58.0         92.0\n",
       "3                100              55.109996          67.0        115.0\n",
       "4                100              55.120935          54.0         94.0"
      ]
     },
     "execution_count": 16,
     "metadata": {},
     "output_type": "execute_result"
    }
   ],
   "source": [
    "measurement_bp.head()"
   ]
  },
  {
   "cell_type": "markdown",
   "id": "a12fbec9-65f8-4b07-933f-ce2b2ef25ee6",
   "metadata": {},
   "source": [
    "### Checking Minimum and Maximum for Potential Columns"
   ]
  },
  {
   "cell_type": "code",
   "execution_count": 17,
   "id": "a8380ca0-991e-4aea-b516-f294110a260d",
   "metadata": {},
   "outputs": [
    {
     "name": "stdout",
     "output_type": "stream",
     "text": [
      "Systolic bp:\n",
      "Maximum value: 312.0\n",
      "Minimum value: 39.0\n",
      "--------------------\n",
      "Diastolic bp:\n",
      "Maximum value: 206.0\n",
      "Minimum value: 29.0\n"
     ]
    }
   ],
   "source": [
    "# Checking maximum and minimum values for Systolic and Diastolic bp columns\n",
    "max_systolic_bp = measurement_bp['Systolic bp'].max()\n",
    "min_systolic_bp = measurement_bp['Systolic bp'].min()\n",
    "\n",
    "max_diastolic_bp = measurement_bp['Diastolic bp'].max()\n",
    "min_diastolic_bp = measurement_bp['Diastolic bp'].min()\n",
    "\n",
    "print(\"Systolic bp:\")\n",
    "print(f\"Maximum value: {max_systolic_bp}\")\n",
    "print(f\"Minimum value: {min_systolic_bp}\")\n",
    "print(\"--------------------\")\n",
    "print(\"Diastolic bp:\")\n",
    "print(f\"Maximum value: {max_diastolic_bp}\")\n",
    "print(f\"Minimum value: {min_diastolic_bp}\")"
   ]
  },
  {
   "cell_type": "markdown",
   "id": "233db7f2-1ced-44a4-9b9b-e777788f1668",
   "metadata": {},
   "source": [
    "### Removing Outliers in Systolic and Diastolic bp"
   ]
  },
  {
   "cell_type": "code",
   "execution_count": 18,
   "id": "d08ea89b-57fe-4f6d-8075-46967ce9c3d8",
   "metadata": {},
   "outputs": [
    {
     "data": {
      "text/html": [
       "<div>\n",
       "<style scoped>\n",
       "    .dataframe tbody tr th:only-of-type {\n",
       "        vertical-align: middle;\n",
       "    }\n",
       "\n",
       "    .dataframe tbody tr th {\n",
       "        vertical-align: top;\n",
       "    }\n",
       "\n",
       "    .dataframe thead th {\n",
       "        text-align: right;\n",
       "    }\n",
       "</style>\n",
       "<table border=\"1\" class=\"dataframe\">\n",
       "  <thead>\n",
       "    <tr style=\"text-align: right;\">\n",
       "      <th></th>\n",
       "      <th>Internalpatientid</th>\n",
       "      <th>Age at measurement bp</th>\n",
       "      <th>Diastolic bp</th>\n",
       "      <th>Systolic bp</th>\n",
       "    </tr>\n",
       "  </thead>\n",
       "  <tbody>\n",
       "    <tr>\n",
       "      <th>0</th>\n",
       "      <td>100</td>\n",
       "      <td>55.097387</td>\n",
       "      <td>73.0</td>\n",
       "      <td>120.0</td>\n",
       "    </tr>\n",
       "    <tr>\n",
       "      <th>1</th>\n",
       "      <td>100</td>\n",
       "      <td>55.101809</td>\n",
       "      <td>57.0</td>\n",
       "      <td>86.0</td>\n",
       "    </tr>\n",
       "    <tr>\n",
       "      <th>2</th>\n",
       "      <td>100</td>\n",
       "      <td>55.103167</td>\n",
       "      <td>58.0</td>\n",
       "      <td>92.0</td>\n",
       "    </tr>\n",
       "    <tr>\n",
       "      <th>3</th>\n",
       "      <td>100</td>\n",
       "      <td>55.109996</td>\n",
       "      <td>67.0</td>\n",
       "      <td>115.0</td>\n",
       "    </tr>\n",
       "    <tr>\n",
       "      <th>4</th>\n",
       "      <td>100</td>\n",
       "      <td>55.120935</td>\n",
       "      <td>54.0</td>\n",
       "      <td>94.0</td>\n",
       "    </tr>\n",
       "    <tr>\n",
       "      <th>...</th>\n",
       "      <td>...</td>\n",
       "      <td>...</td>\n",
       "      <td>...</td>\n",
       "      <td>...</td>\n",
       "    </tr>\n",
       "    <tr>\n",
       "      <th>5701799</th>\n",
       "      <td>99997</td>\n",
       "      <td>85.644178</td>\n",
       "      <td>74.0</td>\n",
       "      <td>166.0</td>\n",
       "    </tr>\n",
       "    <tr>\n",
       "      <th>5701800</th>\n",
       "      <td>99997</td>\n",
       "      <td>86.921117</td>\n",
       "      <td>64.0</td>\n",
       "      <td>168.0</td>\n",
       "    </tr>\n",
       "    <tr>\n",
       "      <th>5701801</th>\n",
       "      <td>99997</td>\n",
       "      <td>88.523663</td>\n",
       "      <td>57.0</td>\n",
       "      <td>148.0</td>\n",
       "    </tr>\n",
       "    <tr>\n",
       "      <th>5701802</th>\n",
       "      <td>99997</td>\n",
       "      <td>89.677416</td>\n",
       "      <td>55.0</td>\n",
       "      <td>159.0</td>\n",
       "    </tr>\n",
       "    <tr>\n",
       "      <th>5701803</th>\n",
       "      <td>99997</td>\n",
       "      <td>91.226896</td>\n",
       "      <td>58.0</td>\n",
       "      <td>123.0</td>\n",
       "    </tr>\n",
       "  </tbody>\n",
       "</table>\n",
       "<p>5701804 rows × 4 columns</p>\n",
       "</div>"
      ],
      "text/plain": [
       "         Internalpatientid  Age at measurement bp  Diastolic bp  Systolic bp\n",
       "0                      100              55.097387          73.0        120.0\n",
       "1                      100              55.101809          57.0         86.0\n",
       "2                      100              55.103167          58.0         92.0\n",
       "3                      100              55.109996          67.0        115.0\n",
       "4                      100              55.120935          54.0         94.0\n",
       "...                    ...                    ...           ...          ...\n",
       "5701799              99997              85.644178          74.0        166.0\n",
       "5701800              99997              86.921117          64.0        168.0\n",
       "5701801              99997              88.523663          57.0        148.0\n",
       "5701802              99997              89.677416          55.0        159.0\n",
       "5701803              99997              91.226896          58.0        123.0\n",
       "\n",
       "[5701804 rows x 4 columns]"
      ]
     },
     "execution_count": 18,
     "metadata": {},
     "output_type": "execute_result"
    }
   ],
   "source": [
    "# Apply the filters for 'Diastolic bp' and 'Systolic bp'\n",
    "filtered_data = measurement_bp[(measurement_bp['Diastolic bp'] >= 50) & (measurement_bp['Diastolic bp'] <= 150) & (measurement_bp['Systolic bp'] >= 80) & (measurement_bp['Systolic bp'] <= 200)]\n",
    "\n",
    "# Reset the index of the filtered data\n",
    "filtered_data_bp = filtered_data.reset_index(drop=True)\n",
    "\n",
    "# Display the final filtered dataframe\n",
    "filtered_data_bp"
   ]
  },
  {
   "cell_type": "code",
   "execution_count": 19,
   "id": "5de9dba5-9fac-4c53-b10c-138cb9d875d8",
   "metadata": {},
   "outputs": [
    {
     "name": "stdout",
     "output_type": "stream",
     "text": [
      "Systolic bp:\n",
      "Maximum value: 200.0\n",
      "Minimum value: 80.0\n",
      "--------------------\n",
      "Diastolic bp:\n",
      "Maximum value: 150.0\n",
      "Minimum value: 50.0\n"
     ]
    }
   ],
   "source": [
    "max_systolic_bp = filtered_data_bp['Systolic bp'].max()\n",
    "min_systolic_bp = filtered_data_bp['Systolic bp'].min()\n",
    "\n",
    "max_diastolic_bp = filtered_data_bp['Diastolic bp'].max()\n",
    "min_diastolic_bp = filtered_data_bp['Diastolic bp'].min()\n",
    "\n",
    "print(\"Systolic bp:\")\n",
    "print(f\"Maximum value: {max_systolic_bp}\")\n",
    "print(f\"Minimum value: {min_systolic_bp}\")\n",
    "print(\"--------------------\")\n",
    "print(\"Diastolic bp:\")\n",
    "print(f\"Maximum value: {max_diastolic_bp}\")\n",
    "print(f\"Minimum value: {min_diastolic_bp}\")"
   ]
  },
  {
   "cell_type": "code",
   "execution_count": 20,
   "id": "bed5515a-b8f3-49ed-9ef2-86f6f50cc518",
   "metadata": {},
   "outputs": [
    {
     "data": {
      "text/plain": [
       "34511"
      ]
     },
     "execution_count": 20,
     "metadata": {},
     "output_type": "execute_result"
    }
   ],
   "source": [
    "filtered_data_bp['Internalpatientid'].nunique()"
   ]
  },
  {
   "cell_type": "markdown",
   "id": "ddc2eeaa-6be6-4133-ae40-e0e08f06ff26",
   "metadata": {},
   "source": [
    "### Getting Maximum Age for each 'Internalpatientid'"
   ]
  },
  {
   "cell_type": "code",
   "execution_count": 21,
   "id": "4ff260ff-3d6a-4de4-b035-4d35ae370fe8",
   "metadata": {},
   "outputs": [],
   "source": [
    "# Find the maximum age for each internal patient id\n",
    "max_ages = filtered_data_bp.groupby('Internalpatientid')['Age at measurement bp'].max().reset_index()"
   ]
  },
  {
   "cell_type": "code",
   "execution_count": 22,
   "id": "383cbe2e-ffe5-4d2d-b759-cae3743ca267",
   "metadata": {},
   "outputs": [
    {
     "data": {
      "text/html": [
       "<div>\n",
       "<style scoped>\n",
       "    .dataframe tbody tr th:only-of-type {\n",
       "        vertical-align: middle;\n",
       "    }\n",
       "\n",
       "    .dataframe tbody tr th {\n",
       "        vertical-align: top;\n",
       "    }\n",
       "\n",
       "    .dataframe thead th {\n",
       "        text-align: right;\n",
       "    }\n",
       "</style>\n",
       "<table border=\"1\" class=\"dataframe\">\n",
       "  <thead>\n",
       "    <tr style=\"text-align: right;\">\n",
       "      <th></th>\n",
       "      <th>Internalpatientid</th>\n",
       "      <th>Age at measurement bp</th>\n",
       "      <th>Diastolic bp</th>\n",
       "      <th>Systolic bp</th>\n",
       "    </tr>\n",
       "  </thead>\n",
       "  <tbody>\n",
       "    <tr>\n",
       "      <th>0</th>\n",
       "      <td>100021</td>\n",
       "      <td>68.404926</td>\n",
       "      <td>93.0</td>\n",
       "      <td>152.0</td>\n",
       "    </tr>\n",
       "    <tr>\n",
       "      <th>1</th>\n",
       "      <td>10008</td>\n",
       "      <td>77.173974</td>\n",
       "      <td>63.0</td>\n",
       "      <td>155.0</td>\n",
       "    </tr>\n",
       "    <tr>\n",
       "      <th>2</th>\n",
       "      <td>100093</td>\n",
       "      <td>72.499385</td>\n",
       "      <td>71.0</td>\n",
       "      <td>136.0</td>\n",
       "    </tr>\n",
       "    <tr>\n",
       "      <th>3</th>\n",
       "      <td>100169</td>\n",
       "      <td>82.279642</td>\n",
       "      <td>75.0</td>\n",
       "      <td>170.0</td>\n",
       "    </tr>\n",
       "    <tr>\n",
       "      <th>4</th>\n",
       "      <td>100133</td>\n",
       "      <td>83.174446</td>\n",
       "      <td>63.0</td>\n",
       "      <td>105.0</td>\n",
       "    </tr>\n",
       "    <tr>\n",
       "      <th>...</th>\n",
       "      <td>...</td>\n",
       "      <td>...</td>\n",
       "      <td>...</td>\n",
       "      <td>...</td>\n",
       "    </tr>\n",
       "    <tr>\n",
       "      <th>34506</th>\n",
       "      <td>99716</td>\n",
       "      <td>93.797990</td>\n",
       "      <td>54.0</td>\n",
       "      <td>88.0</td>\n",
       "    </tr>\n",
       "    <tr>\n",
       "      <th>34507</th>\n",
       "      <td>99795</td>\n",
       "      <td>69.369097</td>\n",
       "      <td>59.0</td>\n",
       "      <td>114.0</td>\n",
       "    </tr>\n",
       "    <tr>\n",
       "      <th>34508</th>\n",
       "      <td>99860</td>\n",
       "      <td>93.791337</td>\n",
       "      <td>62.0</td>\n",
       "      <td>109.0</td>\n",
       "    </tr>\n",
       "    <tr>\n",
       "      <th>34509</th>\n",
       "      <td>99951</td>\n",
       "      <td>75.929539</td>\n",
       "      <td>68.0</td>\n",
       "      <td>107.0</td>\n",
       "    </tr>\n",
       "    <tr>\n",
       "      <th>34510</th>\n",
       "      <td>99997</td>\n",
       "      <td>91.226896</td>\n",
       "      <td>58.0</td>\n",
       "      <td>123.0</td>\n",
       "    </tr>\n",
       "  </tbody>\n",
       "</table>\n",
       "<p>34511 rows × 4 columns</p>\n",
       "</div>"
      ],
      "text/plain": [
       "       Internalpatientid  Age at measurement bp  Diastolic bp  Systolic bp\n",
       "0                 100021              68.404926          93.0        152.0\n",
       "1                  10008              77.173974          63.0        155.0\n",
       "2                 100093              72.499385          71.0        136.0\n",
       "3                 100169              82.279642          75.0        170.0\n",
       "4                 100133              83.174446          63.0        105.0\n",
       "...                  ...                    ...           ...          ...\n",
       "34506              99716              93.797990          54.0         88.0\n",
       "34507              99795              69.369097          59.0        114.0\n",
       "34508              99860              93.791337          62.0        109.0\n",
       "34509              99951              75.929539          68.0        107.0\n",
       "34510              99997              91.226896          58.0        123.0\n",
       "\n",
       "[34511 rows x 4 columns]"
      ]
     },
     "execution_count": 22,
     "metadata": {},
     "output_type": "execute_result"
    }
   ],
   "source": [
    "# Merge with the original dataframe to get the rows with the highest age\n",
    "measurement_bp = pd.merge(df, max_ages, on =['Internalpatientid','Age at measurement bp'], how = 'inner')\n",
    "\n",
    "measurement_bp"
   ]
  },
  {
   "cell_type": "code",
   "execution_count": 23,
   "id": "77f7e263-b4d3-400b-9bf5-c53196ad61d0",
   "metadata": {},
   "outputs": [
    {
     "data": {
      "text/plain": [
       "34511"
      ]
     },
     "execution_count": 23,
     "metadata": {},
     "output_type": "execute_result"
    }
   ],
   "source": [
    "measurement_bp['Internalpatientid'].nunique()"
   ]
  },
  {
   "cell_type": "code",
   "execution_count": 24,
   "id": "339ec1e1-316a-45a4-8303-e3e0691b2876",
   "metadata": {},
   "outputs": [],
   "source": [
    "# Drop the specified columns from the DataFrame\n",
    "measurement_bp.drop(['Age at measurement bp'], axis=1,inplace=True)"
   ]
  },
  {
   "cell_type": "code",
   "execution_count": 25,
   "id": "f378603c-e3f1-4653-9b8f-73337fd8c7b1",
   "metadata": {},
   "outputs": [
    {
     "data": {
      "text/html": [
       "<div>\n",
       "<style scoped>\n",
       "    .dataframe tbody tr th:only-of-type {\n",
       "        vertical-align: middle;\n",
       "    }\n",
       "\n",
       "    .dataframe tbody tr th {\n",
       "        vertical-align: top;\n",
       "    }\n",
       "\n",
       "    .dataframe thead th {\n",
       "        text-align: right;\n",
       "    }\n",
       "</style>\n",
       "<table border=\"1\" class=\"dataframe\">\n",
       "  <thead>\n",
       "    <tr style=\"text-align: right;\">\n",
       "      <th></th>\n",
       "      <th>Internalpatientid</th>\n",
       "      <th>Diastolic bp</th>\n",
       "      <th>Systolic bp</th>\n",
       "    </tr>\n",
       "  </thead>\n",
       "  <tbody>\n",
       "    <tr>\n",
       "      <th>0</th>\n",
       "      <td>100021</td>\n",
       "      <td>93.0</td>\n",
       "      <td>152.0</td>\n",
       "    </tr>\n",
       "    <tr>\n",
       "      <th>1</th>\n",
       "      <td>10008</td>\n",
       "      <td>63.0</td>\n",
       "      <td>155.0</td>\n",
       "    </tr>\n",
       "    <tr>\n",
       "      <th>2</th>\n",
       "      <td>100093</td>\n",
       "      <td>71.0</td>\n",
       "      <td>136.0</td>\n",
       "    </tr>\n",
       "    <tr>\n",
       "      <th>3</th>\n",
       "      <td>100169</td>\n",
       "      <td>75.0</td>\n",
       "      <td>170.0</td>\n",
       "    </tr>\n",
       "    <tr>\n",
       "      <th>4</th>\n",
       "      <td>100133</td>\n",
       "      <td>63.0</td>\n",
       "      <td>105.0</td>\n",
       "    </tr>\n",
       "    <tr>\n",
       "      <th>...</th>\n",
       "      <td>...</td>\n",
       "      <td>...</td>\n",
       "      <td>...</td>\n",
       "    </tr>\n",
       "    <tr>\n",
       "      <th>34506</th>\n",
       "      <td>99716</td>\n",
       "      <td>54.0</td>\n",
       "      <td>88.0</td>\n",
       "    </tr>\n",
       "    <tr>\n",
       "      <th>34507</th>\n",
       "      <td>99795</td>\n",
       "      <td>59.0</td>\n",
       "      <td>114.0</td>\n",
       "    </tr>\n",
       "    <tr>\n",
       "      <th>34508</th>\n",
       "      <td>99860</td>\n",
       "      <td>62.0</td>\n",
       "      <td>109.0</td>\n",
       "    </tr>\n",
       "    <tr>\n",
       "      <th>34509</th>\n",
       "      <td>99951</td>\n",
       "      <td>68.0</td>\n",
       "      <td>107.0</td>\n",
       "    </tr>\n",
       "    <tr>\n",
       "      <th>34510</th>\n",
       "      <td>99997</td>\n",
       "      <td>58.0</td>\n",
       "      <td>123.0</td>\n",
       "    </tr>\n",
       "  </tbody>\n",
       "</table>\n",
       "<p>34511 rows × 3 columns</p>\n",
       "</div>"
      ],
      "text/plain": [
       "       Internalpatientid  Diastolic bp  Systolic bp\n",
       "0                 100021          93.0        152.0\n",
       "1                  10008          63.0        155.0\n",
       "2                 100093          71.0        136.0\n",
       "3                 100169          75.0        170.0\n",
       "4                 100133          63.0        105.0\n",
       "...                  ...           ...          ...\n",
       "34506              99716          54.0         88.0\n",
       "34507              99795          59.0        114.0\n",
       "34508              99860          62.0        109.0\n",
       "34509              99951          68.0        107.0\n",
       "34510              99997          58.0        123.0\n",
       "\n",
       "[34511 rows x 3 columns]"
      ]
     },
     "execution_count": 25,
     "metadata": {},
     "output_type": "execute_result"
    }
   ],
   "source": [
    "measurement_bp"
   ]
  },
  {
   "cell_type": "markdown",
   "id": "82658833-0594-421b-836b-9c9209733317",
   "metadata": {},
   "source": [
    "### **Saving Measurement blood pressure file**"
   ]
  },
  {
   "cell_type": "code",
   "execution_count": 26,
   "id": "18ca6869-fc0f-4d50-9243-8e456934bcdc",
   "metadata": {},
   "outputs": [
    {
     "data": {
      "text/plain": [
       "'/mnt/batch/tasks/shared/LS_root/mounts/clusters/team3-lavanya-gpu2/code/Users/2211574/Best_Files'"
      ]
     },
     "execution_count": 26,
     "metadata": {},
     "output_type": "execute_result"
    }
   ],
   "source": [
    "import os\n",
    "cwd = os.getcwd()\n",
    "cwd"
   ]
  },
  {
   "cell_type": "code",
   "execution_count": 27,
   "id": "cddc2101-3cf9-45e8-86aa-f77cd9637968",
   "metadata": {},
   "outputs": [],
   "source": [
    "measurement_bp.to_csv('/mnt/batch/tasks/shared/LS_root/mounts/clusters/team3-lavanya-gpu2/code/Users/900379/Output_files_test/Potential_files_test/df_measurement_blood_pressure_test_v1.csv')"
   ]
  },
  {
   "cell_type": "markdown",
   "id": "c335f6b4",
   "metadata": {},
   "source": [
    "------"
   ]
  },
  {
   "cell_type": "code",
   "execution_count": null,
   "id": "7bd6b27f-3a50-4bb7-8fa6-47bc37154ab9",
   "metadata": {},
   "outputs": [],
   "source": []
  }
 ],
 "metadata": {
  "kernelspec": {
   "display_name": "Python 3.8 - AzureML",
   "language": "python",
   "name": "python38-azureml"
  },
  "language_info": {
   "codemirror_mode": {
    "name": "ipython",
    "version": 3
   },
   "file_extension": ".py",
   "mimetype": "text/x-python",
   "name": "python",
   "nbconvert_exporter": "python",
   "pygments_lexer": "ipython3",
   "version": "3.8.5"
  }
 },
 "nbformat": 4,
 "nbformat_minor": 5
}
