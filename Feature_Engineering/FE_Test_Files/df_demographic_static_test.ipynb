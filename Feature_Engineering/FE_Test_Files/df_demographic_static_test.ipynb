{
  "cells": [
    {
      "cell_type": "code",
      "source": [
        "from azureml.core import Workspace, Dataset\r\n",
        "\r\n",
        "subscription_id = 'bcfe0c62-8ebe-4df0-a46d-1efcf8739a5b'\r\n",
        "resource_group = 'VChamp-Team3'\r\n",
        "workspace_name = 'vchamp-team3'\r\n",
        "\r\n",
        "\r\n",
        "# storage account : Algorithmia, Resource group: VChamp-Team3 and workspace: vchamp-team3.\r\n",
        "\r\n",
        "workspace = Workspace(subscription_id, resource_group, workspace_name)"
      ],
      "outputs": [],
      "execution_count": 1,
      "metadata": {
        "gather": {
          "logged": 1689003037644
        }
      }
    },
    {
      "cell_type": "code",
      "source": [
        "#['data_team3_synthetic_quality_check']\r\n",
        "datastore = workspace.datastores['data_team3_synthetic_test']"
      ],
      "outputs": [],
      "execution_count": 3,
      "metadata": {
        "jupyter": {
          "source_hidden": false,
          "outputs_hidden": false
        },
        "nteract": {
          "transient": {
            "deleting": false
          }
        },
        "gather": {
          "logged": 1689003056788
        }
      }
    },
    {
      "cell_type": "code",
      "source": [
        "dataset = Dataset.Tabular.from_delimited_files(path = [(datastore, 'demographics_static_test.csv')])\r\n",
        "\r\n",
        "# preview the first 3 rows of the dataset\r\n",
        "# dataset.to_pandas_dataframe()"
      ],
      "outputs": [],
      "execution_count": 4,
      "metadata": {
        "jupyter": {
          "source_hidden": false,
          "outputs_hidden": false
        },
        "nteract": {
          "transient": {
            "deleting": false
          }
        },
        "gather": {
          "logged": 1689003075739
        }
      }
    },
    {
      "cell_type": "code",
      "source": [
        "demographic_static = dataset.to_pandas_dataframe()"
      ],
      "outputs": [],
      "execution_count": 5,
      "metadata": {
        "jupyter": {
          "source_hidden": false,
          "outputs_hidden": false
        },
        "nteract": {
          "transient": {
            "deleting": false
          }
        },
        "gather": {
          "logged": 1689003086695
        }
      }
    },
    {
      "cell_type": "code",
      "source": [
        "demographic_static"
      ],
      "outputs": [
        {
          "output_type": "execute_result",
          "execution_count": 6,
          "data": {
            "text/plain": "       Column1  Internalpatientid               Ethnicity Gender   \n0            9             168807  Not Hispanic or Latino   Male  \\\n1           11              16884           Not specified   Male   \n2           13             168868           Not specified   Male   \n3           24              16928  Not Hispanic or Latino   Male   \n4           31              17062  Not Hispanic or Latino   Male   \n...        ...                ...                     ...    ...   \n34808   169030             168155  Not Hispanic or Latino   Male   \n34809   169041             168264  Not Hispanic or Latino   Male   \n34810   169045             168378  Not Hispanic or Latino   Male   \n34811   169046             168462  Not Hispanic or Latino   Male   \n34812   169063             168650           Not specified   Male   \n\n                           Races  Veteran flag  \n0      Black or African American          True  \n1       Not specified (no value)          True  \n2       Not specified (no value)          True  \n3                          White          True  \n4                          White          True  \n...                          ...           ...  \n34808                      White          True  \n34809                      White          True  \n34810  Black or African American          True  \n34811                      White          True  \n34812                      White          True  \n\n[34813 rows x 6 columns]",
            "text/html": "<div>\n<style scoped>\n    .dataframe tbody tr th:only-of-type {\n        vertical-align: middle;\n    }\n\n    .dataframe tbody tr th {\n        vertical-align: top;\n    }\n\n    .dataframe thead th {\n        text-align: right;\n    }\n</style>\n<table border=\"1\" class=\"dataframe\">\n  <thead>\n    <tr style=\"text-align: right;\">\n      <th></th>\n      <th>Column1</th>\n      <th>Internalpatientid</th>\n      <th>Ethnicity</th>\n      <th>Gender</th>\n      <th>Races</th>\n      <th>Veteran flag</th>\n    </tr>\n  </thead>\n  <tbody>\n    <tr>\n      <th>0</th>\n      <td>9</td>\n      <td>168807</td>\n      <td>Not Hispanic or Latino</td>\n      <td>Male</td>\n      <td>Black or African American</td>\n      <td>True</td>\n    </tr>\n    <tr>\n      <th>1</th>\n      <td>11</td>\n      <td>16884</td>\n      <td>Not specified</td>\n      <td>Male</td>\n      <td>Not specified (no value)</td>\n      <td>True</td>\n    </tr>\n    <tr>\n      <th>2</th>\n      <td>13</td>\n      <td>168868</td>\n      <td>Not specified</td>\n      <td>Male</td>\n      <td>Not specified (no value)</td>\n      <td>True</td>\n    </tr>\n    <tr>\n      <th>3</th>\n      <td>24</td>\n      <td>16928</td>\n      <td>Not Hispanic or Latino</td>\n      <td>Male</td>\n      <td>White</td>\n      <td>True</td>\n    </tr>\n    <tr>\n      <th>4</th>\n      <td>31</td>\n      <td>17062</td>\n      <td>Not Hispanic or Latino</td>\n      <td>Male</td>\n      <td>White</td>\n      <td>True</td>\n    </tr>\n    <tr>\n      <th>...</th>\n      <td>...</td>\n      <td>...</td>\n      <td>...</td>\n      <td>...</td>\n      <td>...</td>\n      <td>...</td>\n    </tr>\n    <tr>\n      <th>34808</th>\n      <td>169030</td>\n      <td>168155</td>\n      <td>Not Hispanic or Latino</td>\n      <td>Male</td>\n      <td>White</td>\n      <td>True</td>\n    </tr>\n    <tr>\n      <th>34809</th>\n      <td>169041</td>\n      <td>168264</td>\n      <td>Not Hispanic or Latino</td>\n      <td>Male</td>\n      <td>White</td>\n      <td>True</td>\n    </tr>\n    <tr>\n      <th>34810</th>\n      <td>169045</td>\n      <td>168378</td>\n      <td>Not Hispanic or Latino</td>\n      <td>Male</td>\n      <td>Black or African American</td>\n      <td>True</td>\n    </tr>\n    <tr>\n      <th>34811</th>\n      <td>169046</td>\n      <td>168462</td>\n      <td>Not Hispanic or Latino</td>\n      <td>Male</td>\n      <td>White</td>\n      <td>True</td>\n    </tr>\n    <tr>\n      <th>34812</th>\n      <td>169063</td>\n      <td>168650</td>\n      <td>Not specified</td>\n      <td>Male</td>\n      <td>White</td>\n      <td>True</td>\n    </tr>\n  </tbody>\n</table>\n<p>34813 rows × 6 columns</p>\n</div>"
          },
          "metadata": {}
        }
      ],
      "execution_count": 6,
      "metadata": {
        "jupyter": {
          "source_hidden": false,
          "outputs_hidden": false
        },
        "nteract": {
          "transient": {
            "deleting": false
          }
        },
        "gather": {
          "logged": 1689003099769
        }
      }
    },
    {
      "cell_type": "code",
      "source": [
        "demographic_static['Internalpatientid'].value_counts()"
      ],
      "outputs": [
        {
          "output_type": "execute_result",
          "execution_count": 7,
          "data": {
            "text/plain": "Internalpatientid\n168807    1\n86414     1\n87109     1\n87072     1\n87045     1\n         ..\n37673     1\n37611     1\n37573     1\n37561     1\n168650    1\nName: count, Length: 34813, dtype: int64"
          },
          "metadata": {}
        }
      ],
      "execution_count": 7,
      "metadata": {
        "jupyter": {
          "source_hidden": false,
          "outputs_hidden": false
        },
        "nteract": {
          "transient": {
            "deleting": false
          }
        },
        "gather": {
          "logged": 1689003112006
        }
      }
    },
    {
      "cell_type": "code",
      "source": [
        "demographic_static = demographic_static.drop(['Column1','Ethnicity','Races'], axis = 1)\r\n",
        "demographic_static.head()"
      ],
      "outputs": [
        {
          "output_type": "execute_result",
          "execution_count": 8,
          "data": {
            "text/plain": "   Internalpatientid Gender  Veteran flag\n0             168807   Male          True\n1              16884   Male          True\n2             168868   Male          True\n3              16928   Male          True\n4              17062   Male          True",
            "text/html": "<div>\n<style scoped>\n    .dataframe tbody tr th:only-of-type {\n        vertical-align: middle;\n    }\n\n    .dataframe tbody tr th {\n        vertical-align: top;\n    }\n\n    .dataframe thead th {\n        text-align: right;\n    }\n</style>\n<table border=\"1\" class=\"dataframe\">\n  <thead>\n    <tr style=\"text-align: right;\">\n      <th></th>\n      <th>Internalpatientid</th>\n      <th>Gender</th>\n      <th>Veteran flag</th>\n    </tr>\n  </thead>\n  <tbody>\n    <tr>\n      <th>0</th>\n      <td>168807</td>\n      <td>Male</td>\n      <td>True</td>\n    </tr>\n    <tr>\n      <th>1</th>\n      <td>16884</td>\n      <td>Male</td>\n      <td>True</td>\n    </tr>\n    <tr>\n      <th>2</th>\n      <td>168868</td>\n      <td>Male</td>\n      <td>True</td>\n    </tr>\n    <tr>\n      <th>3</th>\n      <td>16928</td>\n      <td>Male</td>\n      <td>True</td>\n    </tr>\n    <tr>\n      <th>4</th>\n      <td>17062</td>\n      <td>Male</td>\n      <td>True</td>\n    </tr>\n  </tbody>\n</table>\n</div>"
          },
          "metadata": {}
        }
      ],
      "execution_count": 8,
      "metadata": {
        "jupyter": {
          "source_hidden": false,
          "outputs_hidden": false
        },
        "nteract": {
          "transient": {
            "deleting": false
          }
        },
        "gather": {
          "logged": 1689003123781
        }
      }
    },
    {
      "cell_type": "code",
      "source": [
        "sorted_df = demographic_static.sort_values(by=['Internalpatientid'])\r\n",
        "sorted_df"
      ],
      "outputs": [
        {
          "output_type": "execute_result",
          "execution_count": 9,
          "data": {
            "text/plain": "       Internalpatientid  Gender  Veteran flag\n11810                  6    Male          True\n25752                  7    Male          True\n34274                  9    Male          True\n3808                  12    Male          True\n34343                 17    Male          True\n...                  ...     ...           ...\n33079             169037    Male          True\n22297             169045    Male          True\n22298             169058    Male          True\n6611              169059  Female          True\n33228             169065    Male          True\n\n[34813 rows x 3 columns]",
            "text/html": "<div>\n<style scoped>\n    .dataframe tbody tr th:only-of-type {\n        vertical-align: middle;\n    }\n\n    .dataframe tbody tr th {\n        vertical-align: top;\n    }\n\n    .dataframe thead th {\n        text-align: right;\n    }\n</style>\n<table border=\"1\" class=\"dataframe\">\n  <thead>\n    <tr style=\"text-align: right;\">\n      <th></th>\n      <th>Internalpatientid</th>\n      <th>Gender</th>\n      <th>Veteran flag</th>\n    </tr>\n  </thead>\n  <tbody>\n    <tr>\n      <th>11810</th>\n      <td>6</td>\n      <td>Male</td>\n      <td>True</td>\n    </tr>\n    <tr>\n      <th>25752</th>\n      <td>7</td>\n      <td>Male</td>\n      <td>True</td>\n    </tr>\n    <tr>\n      <th>34274</th>\n      <td>9</td>\n      <td>Male</td>\n      <td>True</td>\n    </tr>\n    <tr>\n      <th>3808</th>\n      <td>12</td>\n      <td>Male</td>\n      <td>True</td>\n    </tr>\n    <tr>\n      <th>34343</th>\n      <td>17</td>\n      <td>Male</td>\n      <td>True</td>\n    </tr>\n    <tr>\n      <th>...</th>\n      <td>...</td>\n      <td>...</td>\n      <td>...</td>\n    </tr>\n    <tr>\n      <th>33079</th>\n      <td>169037</td>\n      <td>Male</td>\n      <td>True</td>\n    </tr>\n    <tr>\n      <th>22297</th>\n      <td>169045</td>\n      <td>Male</td>\n      <td>True</td>\n    </tr>\n    <tr>\n      <th>22298</th>\n      <td>169058</td>\n      <td>Male</td>\n      <td>True</td>\n    </tr>\n    <tr>\n      <th>6611</th>\n      <td>169059</td>\n      <td>Female</td>\n      <td>True</td>\n    </tr>\n    <tr>\n      <th>33228</th>\n      <td>169065</td>\n      <td>Male</td>\n      <td>True</td>\n    </tr>\n  </tbody>\n</table>\n<p>34813 rows × 3 columns</p>\n</div>"
          },
          "metadata": {}
        }
      ],
      "execution_count": 9,
      "metadata": {
        "jupyter": {
          "source_hidden": false,
          "outputs_hidden": false
        },
        "nteract": {
          "transient": {
            "deleting": false
          }
        },
        "gather": {
          "logged": 1689003136790
        }
      }
    },
    {
      "cell_type": "code",
      "source": [
        "# saving as the csv file in the appropriate directory\r\n",
        "sorted_df.to_csv('/mnt/batch/tasks/shared/LS_root/mounts/clusters/team3-nishagpu2/code/Users/900379/Output_files_test/df_demographic_static_test.csv')"
      ],
      "outputs": [],
      "execution_count": 10,
      "metadata": {
        "jupyter": {
          "source_hidden": false,
          "outputs_hidden": false
        },
        "nteract": {
          "transient": {
            "deleting": false
          }
        },
        "gather": {
          "logged": 1689003164881
        }
      }
    }
  ],
  "metadata": {
    "kernelspec": {
      "name": "python310-sdkv2",
      "language": "python",
      "display_name": "Python 3.10 - SDK v2"
    },
    "language_info": {
      "name": "python",
      "version": "3.10.10",
      "mimetype": "text/x-python",
      "codemirror_mode": {
        "name": "ipython",
        "version": 3
      },
      "pygments_lexer": "ipython3",
      "nbconvert_exporter": "python",
      "file_extension": ".py"
    },
    "microsoft": {
      "ms_spell_check": {
        "ms_spell_check_language": "en"
      },
      "host": {
        "AzureML": {
          "notebookHasBeenCompleted": true
        }
      }
    },
    "kernel_info": {
      "name": "python310-sdkv2"
    },
    "nteract": {
      "version": "nteract-front-end@1.0.0"
    }
  },
  "nbformat": 4,
  "nbformat_minor": 2
}