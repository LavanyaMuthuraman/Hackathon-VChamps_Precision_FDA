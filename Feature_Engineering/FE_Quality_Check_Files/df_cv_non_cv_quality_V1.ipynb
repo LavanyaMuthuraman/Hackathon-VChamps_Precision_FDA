{
 "cells": [
  {
   "cell_type": "code",
   "execution_count": 1,
   "metadata": {
    "gather": {
     "logged": 1688639269765
    }
   },
   "outputs": [],
   "source": [
    "#A class attribute that provides access to the TabularDatasetFactory methods for creating new TabularDataset objects. \n",
    "#Usage: Dataset.Tabular.from_delimited_files().\n",
    "from azureml.core import Workspace, Dataset\n",
    "\n",
    "subscription_id = 'bcfe0c62-8ebe-4df0-a46d-1efcf8739a5b' #check the launch studio there will get this id\n",
    "resource_group = 'VChamp-Team3' # resource group name\n",
    "workspace_name = 'vchamp-team3' # worksapce name\n",
    "\n",
    "\n",
    "# storage account : Algorithmia, Resource group: VChamp-Team3 and workspace: vchamp-team3.\n",
    "#Constructor\n",
    "workspace = Workspace(subscription_id, resource_group, workspace_name)"
   ]
  },
  {
   "cell_type": "code",
   "execution_count": 2,
   "metadata": {
    "collapsed": false,
    "gather": {
     "logged": 1688639271316
    },
    "jupyter": {
     "outputs_hidden": false,
     "source_hidden": false
    },
    "nteract": {
     "transient": {
      "deleting": false
     }
    }
   },
   "outputs": [],
   "source": [
    "#['data_team3_synthetic_train']\n",
    "datastore = workspace.datastores['data_team3_synthetic_quality_check'] "
   ]
  },
  {
   "cell_type": "code",
   "execution_count": 55,
   "metadata": {
    "collapsed": false,
    "gather": {
     "logged": 1688639276373
    },
    "jupyter": {
     "outputs_hidden": false,
     "source_hidden": false
    },
    "nteract": {
     "transient": {
      "deleting": false
     }
    }
   },
   "outputs": [],
   "source": [
    "#from_delimited_files (Create a TabularDataset to represent tabular data in delimited files (e.g. CSV and TSV).\n",
    "\n",
    "dataset = Dataset.Tabular.from_delimited_files(path = [(datastore, 'conditions_qual.csv')])\n",
    "\n",
    "# preview the first 3 rows of the dataset\n",
    "# dataset.to_pandas_dataframe()"
   ]
  },
  {
   "cell_type": "code",
   "execution_count": 56,
   "metadata": {
    "collapsed": false,
    "gather": {
     "logged": 1688639304997
    },
    "jupyter": {
     "outputs_hidden": false,
     "source_hidden": false
    },
    "nteract": {
     "transient": {
      "deleting": false
     }
    }
   },
   "outputs": [],
   "source": [
    "#Converting the dataset into data frame(default as dataset in Azure, thus we must convert the needed formate)\n",
    "conditions_train_data= dataset.to_pandas_dataframe()"
   ]
  },
  {
   "cell_type": "code",
   "execution_count": 57,
   "metadata": {
    "collapsed": false,
    "gather": {
     "logged": 1688639307902
    },
    "jupyter": {
     "outputs_hidden": false,
     "source_hidden": false
    },
    "nteract": {
     "transient": {
      "deleting": false
     }
    }
   },
   "outputs": [
    {
     "data": {
      "text/html": [
       "<div>\n",
       "<style scoped>\n",
       "    .dataframe tbody tr th:only-of-type {\n",
       "        vertical-align: middle;\n",
       "    }\n",
       "\n",
       "    .dataframe tbody tr th {\n",
       "        vertical-align: top;\n",
       "    }\n",
       "\n",
       "    .dataframe thead th {\n",
       "        text-align: right;\n",
       "    }\n",
       "</style>\n",
       "<table border=\"1\" class=\"dataframe\">\n",
       "  <thead>\n",
       "    <tr style=\"text-align: right;\">\n",
       "      <th></th>\n",
       "      <th>Column1</th>\n",
       "      <th>Internalpatientid</th>\n",
       "      <th>Age at condition documentation</th>\n",
       "      <th>Condition documented date</th>\n",
       "      <th>Condition type</th>\n",
       "      <th>Condition code icd10 subcategory</th>\n",
       "      <th>Diagnosis sequence number or rank</th>\n",
       "      <th>State</th>\n",
       "    </tr>\n",
       "  </thead>\n",
       "  <tbody>\n",
       "    <tr>\n",
       "      <th>0</th>\n",
       "      <td>587</td>\n",
       "      <td>100012</td>\n",
       "      <td>52.022196</td>\n",
       "      <td>2001-07-09 02:42:14</td>\n",
       "      <td>Diagnosis</td>\n",
       "      <td>Encounter for attention to tracheostomy</td>\n",
       "      <td>P</td>\n",
       "      <td>Texas</td>\n",
       "    </tr>\n",
       "    <tr>\n",
       "      <th>1</th>\n",
       "      <td>588</td>\n",
       "      <td>100012</td>\n",
       "      <td>52.100619</td>\n",
       "      <td>2001-08-06 18:37:42</td>\n",
       "      <td>Diagnosis</td>\n",
       "      <td>Essential (primary) hypertension</td>\n",
       "      <td>P</td>\n",
       "      <td>Texas</td>\n",
       "    </tr>\n",
       "    <tr>\n",
       "      <th>2</th>\n",
       "      <td>589</td>\n",
       "      <td>100012</td>\n",
       "      <td>52.100619</td>\n",
       "      <td>2001-08-06 18:37:42</td>\n",
       "      <td>Diagnosis</td>\n",
       "      <td>Benign prostatic hyperplasia</td>\n",
       "      <td>S</td>\n",
       "      <td>Texas</td>\n",
       "    </tr>\n",
       "    <tr>\n",
       "      <th>3</th>\n",
       "      <td>590</td>\n",
       "      <td>100012</td>\n",
       "      <td>52.337453</td>\n",
       "      <td>2001-11-01 08:08:08</td>\n",
       "      <td>Diagnosis</td>\n",
       "      <td>Encounter for examination and observation for ...</td>\n",
       "      <td>P</td>\n",
       "      <td>Texas</td>\n",
       "    </tr>\n",
       "    <tr>\n",
       "      <th>4</th>\n",
       "      <td>591</td>\n",
       "      <td>100012</td>\n",
       "      <td>52.594739</td>\n",
       "      <td>2002-02-03 09:02:55</td>\n",
       "      <td>Diagnosis</td>\n",
       "      <td>Encounter for administrative examinations, uns...</td>\n",
       "      <td>P</td>\n",
       "      <td>New Mexico</td>\n",
       "    </tr>\n",
       "    <tr>\n",
       "      <th>...</th>\n",
       "      <td>...</td>\n",
       "      <td>...</td>\n",
       "      <td>...</td>\n",
       "      <td>...</td>\n",
       "      <td>...</td>\n",
       "      <td>...</td>\n",
       "      <td>...</td>\n",
       "      <td>...</td>\n",
       "    </tr>\n",
       "    <tr>\n",
       "      <th>655303</th>\n",
       "      <td>112203098</td>\n",
       "      <td>99944</td>\n",
       "      <td>72.099955</td>\n",
       "      <td>2004-08-12 12:48:10</td>\n",
       "      <td>Diagnosis</td>\n",
       "      <td>Essential (primary) hypertension</td>\n",
       "      <td>P</td>\n",
       "      <td>Massachusetts</td>\n",
       "    </tr>\n",
       "    <tr>\n",
       "      <th>655304</th>\n",
       "      <td>112203099</td>\n",
       "      <td>99944</td>\n",
       "      <td>77.935663</td>\n",
       "      <td>2010-06-15 11:38:02</td>\n",
       "      <td>Problem</td>\n",
       "      <td>Calculus of kidney</td>\n",
       "      <td>None</td>\n",
       "      <td>Massachusetts</td>\n",
       "    </tr>\n",
       "    <tr>\n",
       "      <th>655305</th>\n",
       "      <td>112203100</td>\n",
       "      <td>99944</td>\n",
       "      <td>78.210942</td>\n",
       "      <td>2010-09-24 02:23:05</td>\n",
       "      <td>Diagnosis</td>\n",
       "      <td>Not specified</td>\n",
       "      <td>P</td>\n",
       "      <td>Massachusetts</td>\n",
       "    </tr>\n",
       "    <tr>\n",
       "      <th>655306</th>\n",
       "      <td>112203101</td>\n",
       "      <td>99944</td>\n",
       "      <td>80.438034</td>\n",
       "      <td>2012-12-16 02:26:00</td>\n",
       "      <td>Diagnosis</td>\n",
       "      <td>Heart failure, unspecified</td>\n",
       "      <td>P</td>\n",
       "      <td>Massachusetts</td>\n",
       "    </tr>\n",
       "    <tr>\n",
       "      <th>655307</th>\n",
       "      <td>112203102</td>\n",
       "      <td>99944</td>\n",
       "      <td>80.438034</td>\n",
       "      <td>2012-12-16 02:26:00</td>\n",
       "      <td>Diagnosis</td>\n",
       "      <td>Essential (primary) hypertension</td>\n",
       "      <td>S</td>\n",
       "      <td>Massachusetts</td>\n",
       "    </tr>\n",
       "  </tbody>\n",
       "</table>\n",
       "<p>655308 rows × 8 columns</p>\n",
       "</div>"
      ],
      "text/plain": [
       "          Column1  Internalpatientid  Age at condition documentation  \\\n",
       "0             587             100012                       52.022196   \n",
       "1             588             100012                       52.100619   \n",
       "2             589             100012                       52.100619   \n",
       "3             590             100012                       52.337453   \n",
       "4             591             100012                       52.594739   \n",
       "...           ...                ...                             ...   \n",
       "655303  112203098              99944                       72.099955   \n",
       "655304  112203099              99944                       77.935663   \n",
       "655305  112203100              99944                       78.210942   \n",
       "655306  112203101              99944                       80.438034   \n",
       "655307  112203102              99944                       80.438034   \n",
       "\n",
       "       Condition documented date Condition type  \\\n",
       "0            2001-07-09 02:42:14      Diagnosis   \n",
       "1            2001-08-06 18:37:42      Diagnosis   \n",
       "2            2001-08-06 18:37:42      Diagnosis   \n",
       "3            2001-11-01 08:08:08      Diagnosis   \n",
       "4            2002-02-03 09:02:55      Diagnosis   \n",
       "...                          ...            ...   \n",
       "655303       2004-08-12 12:48:10      Diagnosis   \n",
       "655304       2010-06-15 11:38:02        Problem   \n",
       "655305       2010-09-24 02:23:05      Diagnosis   \n",
       "655306       2012-12-16 02:26:00      Diagnosis   \n",
       "655307       2012-12-16 02:26:00      Diagnosis   \n",
       "\n",
       "                         Condition code icd10 subcategory  \\\n",
       "0                 Encounter for attention to tracheostomy   \n",
       "1                        Essential (primary) hypertension   \n",
       "2                            Benign prostatic hyperplasia   \n",
       "3       Encounter for examination and observation for ...   \n",
       "4       Encounter for administrative examinations, uns...   \n",
       "...                                                   ...   \n",
       "655303                   Essential (primary) hypertension   \n",
       "655304                                 Calculus of kidney   \n",
       "655305                                      Not specified   \n",
       "655306                         Heart failure, unspecified   \n",
       "655307                   Essential (primary) hypertension   \n",
       "\n",
       "       Diagnosis sequence number or rank          State  \n",
       "0                                      P          Texas  \n",
       "1                                      P          Texas  \n",
       "2                                      S          Texas  \n",
       "3                                      P          Texas  \n",
       "4                                      P     New Mexico  \n",
       "...                                  ...            ...  \n",
       "655303                                 P  Massachusetts  \n",
       "655304                              None  Massachusetts  \n",
       "655305                                 P  Massachusetts  \n",
       "655306                                 P  Massachusetts  \n",
       "655307                                 S  Massachusetts  \n",
       "\n",
       "[655308 rows x 8 columns]"
      ]
     },
     "execution_count": 57,
     "metadata": {},
     "output_type": "execute_result"
    }
   ],
   "source": [
    "conditions_train_data"
   ]
  },
  {
   "cell_type": "code",
   "execution_count": 58,
   "metadata": {
    "collapsed": false,
    "gather": {
     "logged": 1688639312268
    },
    "jupyter": {
     "outputs_hidden": false,
     "source_hidden": false
    },
    "nteract": {
     "transient": {
      "deleting": false
     }
    }
   },
   "outputs": [],
   "source": [
    "import numpy as np                # Multi-Dimensional array object\n",
    "import pandas as pd               # Data Manipulation\n",
    "import matplotlib.pyplot as plt   # Data Visualization\n",
    "import seaborn as sns             # Data Visualization \n",
    "\n",
    "# Allows the use of display() for DataFrames\n",
    "from IPython.display import display \n",
    "\n",
    "# Handle warning messages that may occur during code execution\n",
    "import warnings\n",
    "warnings.filterwarnings('ignore')\n",
    "\n",
    "# To increase memory allocation\n",
    "from notebook.services.config import ConfigManager\n",
    "cm = ConfigManager().update('notebook', {'max_buffer_size': 7294967296})\n",
    "\n",
    "# Set the maximum number of rows to be displayed to 1000\n",
    "pd.set_option('display.max_rows', 1163)"
   ]
  },
  {
   "cell_type": "markdown",
   "metadata": {},
   "source": [
    "# **Elimination of the unnamed columns**"
   ]
  },
  {
   "cell_type": "code",
   "execution_count": 59,
   "metadata": {
    "collapsed": false,
    "gather": {
     "logged": 1688639319513
    },
    "jupyter": {
     "outputs_hidden": false,
     "source_hidden": false
    },
    "nteract": {
     "transient": {
      "deleting": false
     }
    }
   },
   "outputs": [],
   "source": [
    "# Remove unwanted columns \n",
    "conditions_train_data.drop('Column1',axis=1,inplace=True)"
   ]
  },
  {
   "cell_type": "code",
   "execution_count": 60,
   "metadata": {
    "collapsed": false,
    "gather": {
     "logged": 1688639325661
    },
    "jupyter": {
     "outputs_hidden": false,
     "source_hidden": false
    },
    "nteract": {
     "transient": {
      "deleting": false
     }
    }
   },
   "outputs": [],
   "source": [
    "conditions_train_data =  conditions_train_data"
   ]
  },
  {
   "cell_type": "markdown",
   "metadata": {},
   "source": [
    "# sorting patients id and age column"
   ]
  },
  {
   "cell_type": "code",
   "execution_count": 61,
   "metadata": {},
   "outputs": [],
   "source": [
    "# Sort the dataset based on the patientsid and 'age' column in ascending order\n",
    "conditions_train_data.sort_values([\"Internalpatientid\",\"Age at condition documentation\"],inplace=True)"
   ]
  },
  {
   "cell_type": "markdown",
   "metadata": {},
   "source": [
    "# Checking the missing value"
   ]
  },
  {
   "cell_type": "code",
   "execution_count": 62,
   "metadata": {
    "collapsed": false,
    "gather": {
     "logged": 1688639505037
    },
    "jupyter": {
     "outputs_hidden": false,
     "source_hidden": false
    },
    "nteract": {
     "transient": {
      "deleting": false
     }
    }
   },
   "outputs": [
    {
     "name": "stdout",
     "output_type": "stream",
     "text": [
      "Training set missing values:\n",
      " Internalpatientid                        0\n",
      "Age at condition documentation           0\n",
      "Condition documented date                0\n",
      "Condition type                           0\n",
      "Condition code icd10 subcategory         0\n",
      "Diagnosis sequence number or rank    27666\n",
      "State                                    0\n",
      "dtype: int64\n"
     ]
    }
   ],
   "source": [
    "print(\"Training set missing values:\\n\", conditions_train_data.isna().sum())"
   ]
  },
  {
   "cell_type": "markdown",
   "metadata": {},
   "source": [
    "# Taking the digits "
   ]
  },
  {
   "cell_type": "code",
   "execution_count": 63,
   "metadata": {},
   "outputs": [],
   "source": [
    "# Format 'Age at measurement' values in the format 00.00\n",
    "conditions_train_data[\"Age at condition documentation\"] = conditions_train_data[\"Age at condition documentation\"].map(\"{:.2f}\".format)"
   ]
  },
  {
   "cell_type": "code",
   "execution_count": 64,
   "metadata": {},
   "outputs": [
    {
     "data": {
      "text/html": [
       "<div>\n",
       "<style scoped>\n",
       "    .dataframe tbody tr th:only-of-type {\n",
       "        vertical-align: middle;\n",
       "    }\n",
       "\n",
       "    .dataframe tbody tr th {\n",
       "        vertical-align: top;\n",
       "    }\n",
       "\n",
       "    .dataframe thead th {\n",
       "        text-align: right;\n",
       "    }\n",
       "</style>\n",
       "<table border=\"1\" class=\"dataframe\">\n",
       "  <thead>\n",
       "    <tr style=\"text-align: right;\">\n",
       "      <th></th>\n",
       "      <th>Internalpatientid</th>\n",
       "      <th>Age at condition documentation</th>\n",
       "      <th>Condition documented date</th>\n",
       "      <th>Condition type</th>\n",
       "      <th>Condition code icd10 subcategory</th>\n",
       "      <th>Diagnosis sequence number or rank</th>\n",
       "      <th>State</th>\n",
       "    </tr>\n",
       "  </thead>\n",
       "  <tbody>\n",
       "    <tr>\n",
       "      <th>459824</th>\n",
       "      <td>67</td>\n",
       "      <td>48.28</td>\n",
       "      <td>2010-08-09 14:59:14</td>\n",
       "      <td>Problem</td>\n",
       "      <td>Essential (primary) hypertension</td>\n",
       "      <td>None</td>\n",
       "      <td>California</td>\n",
       "    </tr>\n",
       "    <tr>\n",
       "      <th>459825</th>\n",
       "      <td>67</td>\n",
       "      <td>48.28</td>\n",
       "      <td>2010-08-09 14:59:14</td>\n",
       "      <td>Problem</td>\n",
       "      <td>Counseling, unspecified</td>\n",
       "      <td>None</td>\n",
       "      <td>California</td>\n",
       "    </tr>\n",
       "    <tr>\n",
       "      <th>459826</th>\n",
       "      <td>67</td>\n",
       "      <td>48.28</td>\n",
       "      <td>2010-08-09 14:59:14</td>\n",
       "      <td>Problem</td>\n",
       "      <td>Personal history of diseases of the circulator...</td>\n",
       "      <td>None</td>\n",
       "      <td>California</td>\n",
       "    </tr>\n",
       "    <tr>\n",
       "      <th>459827</th>\n",
       "      <td>67</td>\n",
       "      <td>48.28</td>\n",
       "      <td>2010-08-09 14:59:14</td>\n",
       "      <td>Problem</td>\n",
       "      <td>Essential (primary) hypertension</td>\n",
       "      <td>None</td>\n",
       "      <td>California</td>\n",
       "    </tr>\n",
       "    <tr>\n",
       "      <th>459828</th>\n",
       "      <td>67</td>\n",
       "      <td>48.28</td>\n",
       "      <td>2010-08-09 14:59:14</td>\n",
       "      <td>Problem</td>\n",
       "      <td>Chronic kidney disease, stage 2 (mild)</td>\n",
       "      <td>None</td>\n",
       "      <td>California</td>\n",
       "    </tr>\n",
       "    <tr>\n",
       "      <th>...</th>\n",
       "      <td>...</td>\n",
       "      <td>...</td>\n",
       "      <td>...</td>\n",
       "      <td>...</td>\n",
       "      <td>...</td>\n",
       "      <td>...</td>\n",
       "      <td>...</td>\n",
       "    </tr>\n",
       "    <tr>\n",
       "      <th>525272</th>\n",
       "      <td>168899</td>\n",
       "      <td>96.87</td>\n",
       "      <td>2019-09-13 03:48:33</td>\n",
       "      <td>Diagnosis</td>\n",
       "      <td>Long term (current) use of anticoagulants and ...</td>\n",
       "      <td>S</td>\n",
       "      <td>Pennsylvania</td>\n",
       "    </tr>\n",
       "    <tr>\n",
       "      <th>525273</th>\n",
       "      <td>168899</td>\n",
       "      <td>96.87</td>\n",
       "      <td>2019-09-13 03:48:33</td>\n",
       "      <td>Diagnosis</td>\n",
       "      <td>Unspecified atrial fibrillation and atrial flu...</td>\n",
       "      <td>S</td>\n",
       "      <td>Pennsylvania</td>\n",
       "    </tr>\n",
       "    <tr>\n",
       "      <th>255148</th>\n",
       "      <td>168899</td>\n",
       "      <td>96.91</td>\n",
       "      <td>2019-09-24 22:46:28</td>\n",
       "      <td>Diagnosis</td>\n",
       "      <td>Long term (current) use of anticoagulants and ...</td>\n",
       "      <td>S</td>\n",
       "      <td>Pennsylvania</td>\n",
       "    </tr>\n",
       "    <tr>\n",
       "      <th>255149</th>\n",
       "      <td>168899</td>\n",
       "      <td>96.91</td>\n",
       "      <td>2019-09-24 22:46:28</td>\n",
       "      <td>Diagnosis</td>\n",
       "      <td>Unspecified atrial fibrillation and atrial flu...</td>\n",
       "      <td>S</td>\n",
       "      <td>Pennsylvania</td>\n",
       "    </tr>\n",
       "    <tr>\n",
       "      <th>255150</th>\n",
       "      <td>168899</td>\n",
       "      <td>96.91</td>\n",
       "      <td>2019-09-24 22:46:28</td>\n",
       "      <td>Diagnosis</td>\n",
       "      <td>Encounter for other specified aftercare</td>\n",
       "      <td>P</td>\n",
       "      <td>Pennsylvania</td>\n",
       "    </tr>\n",
       "  </tbody>\n",
       "</table>\n",
       "<p>655308 rows × 7 columns</p>\n",
       "</div>"
      ],
      "text/plain": [
       "        Internalpatientid Age at condition documentation  \\\n",
       "459824                 67                          48.28   \n",
       "459825                 67                          48.28   \n",
       "459826                 67                          48.28   \n",
       "459827                 67                          48.28   \n",
       "459828                 67                          48.28   \n",
       "...                   ...                            ...   \n",
       "525272             168899                          96.87   \n",
       "525273             168899                          96.87   \n",
       "255148             168899                          96.91   \n",
       "255149             168899                          96.91   \n",
       "255150             168899                          96.91   \n",
       "\n",
       "       Condition documented date Condition type  \\\n",
       "459824       2010-08-09 14:59:14        Problem   \n",
       "459825       2010-08-09 14:59:14        Problem   \n",
       "459826       2010-08-09 14:59:14        Problem   \n",
       "459827       2010-08-09 14:59:14        Problem   \n",
       "459828       2010-08-09 14:59:14        Problem   \n",
       "...                          ...            ...   \n",
       "525272       2019-09-13 03:48:33      Diagnosis   \n",
       "525273       2019-09-13 03:48:33      Diagnosis   \n",
       "255148       2019-09-24 22:46:28      Diagnosis   \n",
       "255149       2019-09-24 22:46:28      Diagnosis   \n",
       "255150       2019-09-24 22:46:28      Diagnosis   \n",
       "\n",
       "                         Condition code icd10 subcategory  \\\n",
       "459824                   Essential (primary) hypertension   \n",
       "459825                            Counseling, unspecified   \n",
       "459826  Personal history of diseases of the circulator...   \n",
       "459827                   Essential (primary) hypertension   \n",
       "459828             Chronic kidney disease, stage 2 (mild)   \n",
       "...                                                   ...   \n",
       "525272  Long term (current) use of anticoagulants and ...   \n",
       "525273  Unspecified atrial fibrillation and atrial flu...   \n",
       "255148  Long term (current) use of anticoagulants and ...   \n",
       "255149  Unspecified atrial fibrillation and atrial flu...   \n",
       "255150            Encounter for other specified aftercare   \n",
       "\n",
       "       Diagnosis sequence number or rank         State  \n",
       "459824                              None    California  \n",
       "459825                              None    California  \n",
       "459826                              None    California  \n",
       "459827                              None    California  \n",
       "459828                              None    California  \n",
       "...                                  ...           ...  \n",
       "525272                                 S  Pennsylvania  \n",
       "525273                                 S  Pennsylvania  \n",
       "255148                                 S  Pennsylvania  \n",
       "255149                                 S  Pennsylvania  \n",
       "255150                                 P  Pennsylvania  \n",
       "\n",
       "[655308 rows x 7 columns]"
      ]
     },
     "execution_count": 64,
     "metadata": {},
     "output_type": "execute_result"
    }
   ],
   "source": [
    "conditions_train_data"
   ]
  },
  {
   "cell_type": "code",
   "execution_count": 65,
   "metadata": {},
   "outputs": [],
   "source": [
    "# Convert 'Age at measurement' column from object to float\n",
    "conditions_train_data[\"Age at condition documentation\"] = conditions_train_data[\"Age at condition documentation\"].astype(float)"
   ]
  },
  {
   "cell_type": "markdown",
   "metadata": {},
   "source": [
    "# Max age"
   ]
  },
  {
   "cell_type": "code",
   "execution_count": 66,
   "metadata": {},
   "outputs": [
    {
     "data": {
      "text/html": [
       "<div>\n",
       "<style scoped>\n",
       "    .dataframe tbody tr th:only-of-type {\n",
       "        vertical-align: middle;\n",
       "    }\n",
       "\n",
       "    .dataframe tbody tr th {\n",
       "        vertical-align: top;\n",
       "    }\n",
       "\n",
       "    .dataframe thead th {\n",
       "        text-align: right;\n",
       "    }\n",
       "</style>\n",
       "<table border=\"1\" class=\"dataframe\">\n",
       "  <thead>\n",
       "    <tr style=\"text-align: right;\">\n",
       "      <th></th>\n",
       "      <th>Internalpatientid</th>\n",
       "      <th>Age at condition documentation</th>\n",
       "      <th>Condition documented date</th>\n",
       "      <th>Condition type</th>\n",
       "      <th>Condition code icd10 subcategory</th>\n",
       "      <th>Diagnosis sequence number or rank</th>\n",
       "      <th>State</th>\n",
       "    </tr>\n",
       "  </thead>\n",
       "  <tbody>\n",
       "    <tr>\n",
       "      <th>0</th>\n",
       "      <td>67</td>\n",
       "      <td>58.48</td>\n",
       "      <td>2020-10-22 11:49:50</td>\n",
       "      <td>Diagnosis</td>\n",
       "      <td>Encounter for immunization</td>\n",
       "      <td>P</td>\n",
       "      <td>California</td>\n",
       "    </tr>\n",
       "    <tr>\n",
       "      <th>1</th>\n",
       "      <td>200</td>\n",
       "      <td>87.80</td>\n",
       "      <td>2023-02-13 10:31:19</td>\n",
       "      <td>Diagnosis</td>\n",
       "      <td>Vascular dementia</td>\n",
       "      <td>P</td>\n",
       "      <td>Utah</td>\n",
       "    </tr>\n",
       "    <tr>\n",
       "      <th>2</th>\n",
       "      <td>291</td>\n",
       "      <td>83.18</td>\n",
       "      <td>2006-07-08 12:40:03</td>\n",
       "      <td>Diagnosis</td>\n",
       "      <td>Secondary and unspecified malignant neoplasm o...</td>\n",
       "      <td>4</td>\n",
       "      <td>Delaware</td>\n",
       "    </tr>\n",
       "    <tr>\n",
       "      <th>3</th>\n",
       "      <td>291</td>\n",
       "      <td>83.18</td>\n",
       "      <td>2006-07-08 12:40:03</td>\n",
       "      <td>Diagnosis</td>\n",
       "      <td>Pneumonia, unspecified organism</td>\n",
       "      <td>6</td>\n",
       "      <td>Delaware</td>\n",
       "    </tr>\n",
       "    <tr>\n",
       "      <th>4</th>\n",
       "      <td>291</td>\n",
       "      <td>83.18</td>\n",
       "      <td>2006-07-08 12:40:03</td>\n",
       "      <td>Diagnosis</td>\n",
       "      <td>Encounter for antineoplastic radiation therapy</td>\n",
       "      <td>1</td>\n",
       "      <td>Delaware</td>\n",
       "    </tr>\n",
       "    <tr>\n",
       "      <th>...</th>\n",
       "      <td>...</td>\n",
       "      <td>...</td>\n",
       "      <td>...</td>\n",
       "      <td>...</td>\n",
       "      <td>...</td>\n",
       "      <td>...</td>\n",
       "      <td>...</td>\n",
       "    </tr>\n",
       "    <tr>\n",
       "      <th>6507</th>\n",
       "      <td>168496</td>\n",
       "      <td>98.97</td>\n",
       "      <td>2023-02-03 01:11:44</td>\n",
       "      <td>Diagnosis</td>\n",
       "      <td>Not specified</td>\n",
       "      <td>P</td>\n",
       "      <td>California</td>\n",
       "    </tr>\n",
       "    <tr>\n",
       "      <th>6508</th>\n",
       "      <td>168496</td>\n",
       "      <td>98.97</td>\n",
       "      <td>2023-02-03 21:37:36</td>\n",
       "      <td>Diagnosis</td>\n",
       "      <td>Not specified</td>\n",
       "      <td>P</td>\n",
       "      <td>California</td>\n",
       "    </tr>\n",
       "    <tr>\n",
       "      <th>6509</th>\n",
       "      <td>168899</td>\n",
       "      <td>96.91</td>\n",
       "      <td>2019-09-24 22:46:28</td>\n",
       "      <td>Diagnosis</td>\n",
       "      <td>Long term (current) use of anticoagulants and ...</td>\n",
       "      <td>S</td>\n",
       "      <td>Pennsylvania</td>\n",
       "    </tr>\n",
       "    <tr>\n",
       "      <th>6510</th>\n",
       "      <td>168899</td>\n",
       "      <td>96.91</td>\n",
       "      <td>2019-09-24 22:46:28</td>\n",
       "      <td>Diagnosis</td>\n",
       "      <td>Unspecified atrial fibrillation and atrial flu...</td>\n",
       "      <td>S</td>\n",
       "      <td>Pennsylvania</td>\n",
       "    </tr>\n",
       "    <tr>\n",
       "      <th>6511</th>\n",
       "      <td>168899</td>\n",
       "      <td>96.91</td>\n",
       "      <td>2019-09-24 22:46:28</td>\n",
       "      <td>Diagnosis</td>\n",
       "      <td>Encounter for other specified aftercare</td>\n",
       "      <td>P</td>\n",
       "      <td>Pennsylvania</td>\n",
       "    </tr>\n",
       "  </tbody>\n",
       "</table>\n",
       "<p>6512 rows × 7 columns</p>\n",
       "</div>"
      ],
      "text/plain": [
       "      Internalpatientid  Age at condition documentation  \\\n",
       "0                    67                           58.48   \n",
       "1                   200                           87.80   \n",
       "2                   291                           83.18   \n",
       "3                   291                           83.18   \n",
       "4                   291                           83.18   \n",
       "...                 ...                             ...   \n",
       "6507             168496                           98.97   \n",
       "6508             168496                           98.97   \n",
       "6509             168899                           96.91   \n",
       "6510             168899                           96.91   \n",
       "6511             168899                           96.91   \n",
       "\n",
       "     Condition documented date Condition type  \\\n",
       "0          2020-10-22 11:49:50      Diagnosis   \n",
       "1          2023-02-13 10:31:19      Diagnosis   \n",
       "2          2006-07-08 12:40:03      Diagnosis   \n",
       "3          2006-07-08 12:40:03      Diagnosis   \n",
       "4          2006-07-08 12:40:03      Diagnosis   \n",
       "...                        ...            ...   \n",
       "6507       2023-02-03 01:11:44      Diagnosis   \n",
       "6508       2023-02-03 21:37:36      Diagnosis   \n",
       "6509       2019-09-24 22:46:28      Diagnosis   \n",
       "6510       2019-09-24 22:46:28      Diagnosis   \n",
       "6511       2019-09-24 22:46:28      Diagnosis   \n",
       "\n",
       "                       Condition code icd10 subcategory  \\\n",
       "0                            Encounter for immunization   \n",
       "1                                     Vascular dementia   \n",
       "2     Secondary and unspecified malignant neoplasm o...   \n",
       "3                       Pneumonia, unspecified organism   \n",
       "4        Encounter for antineoplastic radiation therapy   \n",
       "...                                                 ...   \n",
       "6507                                      Not specified   \n",
       "6508                                      Not specified   \n",
       "6509  Long term (current) use of anticoagulants and ...   \n",
       "6510  Unspecified atrial fibrillation and atrial flu...   \n",
       "6511            Encounter for other specified aftercare   \n",
       "\n",
       "     Diagnosis sequence number or rank         State  \n",
       "0                                    P    California  \n",
       "1                                    P          Utah  \n",
       "2                                    4      Delaware  \n",
       "3                                    6      Delaware  \n",
       "4                                    1      Delaware  \n",
       "...                                ...           ...  \n",
       "6507                                 P    California  \n",
       "6508                                 P    California  \n",
       "6509                                 S  Pennsylvania  \n",
       "6510                                 S  Pennsylvania  \n",
       "6511                                 P  Pennsylvania  \n",
       "\n",
       "[6512 rows x 7 columns]"
      ]
     },
     "execution_count": 66,
     "metadata": {},
     "output_type": "execute_result"
    }
   ],
   "source": [
    "# Find the maximum age for each internal patient id\n",
    "max_ages = conditions_train_data.groupby('Internalpatientid')['Age at condition documentation'].max().reset_index()\n",
    "\n",
    "# Merge with the original dataframe to get the rows with the highest age\n",
    "conditions_train_data = pd.merge(conditions_train_data, max_ages, on =['Internalpatientid','Age at condition documentation'], how = 'inner')\n",
    "\n",
    "conditions_train_data"
   ]
  },
  {
   "cell_type": "markdown",
   "metadata": {},
   "source": [
    "# Rounding off the Age "
   ]
  },
  {
   "cell_type": "code",
   "execution_count": 67,
   "metadata": {},
   "outputs": [],
   "source": [
    "conditions_train_data['Age at condition documentation'] = conditions_train_data['Age at condition documentation'].apply(lambda x: round(x,))"
   ]
  },
  {
   "cell_type": "code",
   "execution_count": 68,
   "metadata": {},
   "outputs": [],
   "source": [
    "# value counts\n",
    "df = conditions_train_data[\"Internalpatientid\"].value_counts().loc[lambda x: x  > 60]"
   ]
  },
  {
   "cell_type": "code",
   "execution_count": 69,
   "metadata": {},
   "outputs": [],
   "source": [
    "df = df.reset_index() "
   ]
  },
  {
   "cell_type": "code",
   "execution_count": 70,
   "metadata": {},
   "outputs": [],
   "source": [
    "df.columns = [\"Internalpatientid\",\"count_conditions\"]"
   ]
  },
  {
   "cell_type": "code",
   "execution_count": 71,
   "metadata": {},
   "outputs": [],
   "source": [
    "df.drop('count_conditions', axis = 1, inplace = True)"
   ]
  },
  {
   "cell_type": "code",
   "execution_count": 72,
   "metadata": {
    "collapsed": false,
    "gather": {
     "logged": 1688642261992
    },
    "jupyter": {
     "outputs_hidden": false
    },
    "nteract": {
     "transient": {
      "deleting": false
     }
    }
   },
   "outputs": [
    {
     "data": {
      "text/plain": [
       "11"
      ]
     },
     "execution_count": 72,
     "metadata": {},
     "output_type": "execute_result"
    }
   ],
   "source": [
    "len(df)"
   ]
  },
  {
   "cell_type": "code",
   "execution_count": 73,
   "metadata": {
    "collapsed": false,
    "gather": {
     "logged": 1688642410202
    },
    "jupyter": {
     "outputs_hidden": false
    },
    "nteract": {
     "transient": {
      "deleting": false
     }
    }
   },
   "outputs": [
    {
     "data": {
      "text/html": [
       "<div>\n",
       "<style scoped>\n",
       "    .dataframe tbody tr th:only-of-type {\n",
       "        vertical-align: middle;\n",
       "    }\n",
       "\n",
       "    .dataframe tbody tr th {\n",
       "        vertical-align: top;\n",
       "    }\n",
       "\n",
       "    .dataframe thead th {\n",
       "        text-align: right;\n",
       "    }\n",
       "</style>\n",
       "<table border=\"1\" class=\"dataframe\">\n",
       "  <thead>\n",
       "    <tr style=\"text-align: right;\">\n",
       "      <th></th>\n",
       "      <th>Internalpatientid</th>\n",
       "      <th>Age at condition documentation</th>\n",
       "      <th>Condition documented date</th>\n",
       "      <th>Condition type</th>\n",
       "      <th>Condition code icd10 subcategory</th>\n",
       "      <th>Diagnosis sequence number or rank</th>\n",
       "      <th>State</th>\n",
       "    </tr>\n",
       "  </thead>\n",
       "  <tbody>\n",
       "    <tr>\n",
       "      <th>0</th>\n",
       "      <td>67</td>\n",
       "      <td>58</td>\n",
       "      <td>2020-10-22 11:49:50</td>\n",
       "      <td>Diagnosis</td>\n",
       "      <td>Encounter for immunization</td>\n",
       "      <td>P</td>\n",
       "      <td>California</td>\n",
       "    </tr>\n",
       "    <tr>\n",
       "      <th>1</th>\n",
       "      <td>200</td>\n",
       "      <td>88</td>\n",
       "      <td>2023-02-13 10:31:19</td>\n",
       "      <td>Diagnosis</td>\n",
       "      <td>Vascular dementia</td>\n",
       "      <td>P</td>\n",
       "      <td>Utah</td>\n",
       "    </tr>\n",
       "    <tr>\n",
       "      <th>2</th>\n",
       "      <td>291</td>\n",
       "      <td>83</td>\n",
       "      <td>2006-07-08 12:40:03</td>\n",
       "      <td>Diagnosis</td>\n",
       "      <td>Secondary and unspecified malignant neoplasm o...</td>\n",
       "      <td>4</td>\n",
       "      <td>Delaware</td>\n",
       "    </tr>\n",
       "    <tr>\n",
       "      <th>3</th>\n",
       "      <td>291</td>\n",
       "      <td>83</td>\n",
       "      <td>2006-07-08 12:40:03</td>\n",
       "      <td>Diagnosis</td>\n",
       "      <td>Pneumonia, unspecified organism</td>\n",
       "      <td>6</td>\n",
       "      <td>Delaware</td>\n",
       "    </tr>\n",
       "    <tr>\n",
       "      <th>4</th>\n",
       "      <td>291</td>\n",
       "      <td>83</td>\n",
       "      <td>2006-07-08 12:40:03</td>\n",
       "      <td>Diagnosis</td>\n",
       "      <td>Encounter for antineoplastic radiation therapy</td>\n",
       "      <td>1</td>\n",
       "      <td>Delaware</td>\n",
       "    </tr>\n",
       "    <tr>\n",
       "      <th>...</th>\n",
       "      <td>...</td>\n",
       "      <td>...</td>\n",
       "      <td>...</td>\n",
       "      <td>...</td>\n",
       "      <td>...</td>\n",
       "      <td>...</td>\n",
       "      <td>...</td>\n",
       "    </tr>\n",
       "    <tr>\n",
       "      <th>6507</th>\n",
       "      <td>168496</td>\n",
       "      <td>99</td>\n",
       "      <td>2023-02-03 01:11:44</td>\n",
       "      <td>Diagnosis</td>\n",
       "      <td>Not specified</td>\n",
       "      <td>P</td>\n",
       "      <td>California</td>\n",
       "    </tr>\n",
       "    <tr>\n",
       "      <th>6508</th>\n",
       "      <td>168496</td>\n",
       "      <td>99</td>\n",
       "      <td>2023-02-03 21:37:36</td>\n",
       "      <td>Diagnosis</td>\n",
       "      <td>Not specified</td>\n",
       "      <td>P</td>\n",
       "      <td>California</td>\n",
       "    </tr>\n",
       "    <tr>\n",
       "      <th>6509</th>\n",
       "      <td>168899</td>\n",
       "      <td>97</td>\n",
       "      <td>2019-09-24 22:46:28</td>\n",
       "      <td>Diagnosis</td>\n",
       "      <td>Long term (current) use of anticoagulants and ...</td>\n",
       "      <td>S</td>\n",
       "      <td>Pennsylvania</td>\n",
       "    </tr>\n",
       "    <tr>\n",
       "      <th>6510</th>\n",
       "      <td>168899</td>\n",
       "      <td>97</td>\n",
       "      <td>2019-09-24 22:46:28</td>\n",
       "      <td>Diagnosis</td>\n",
       "      <td>Unspecified atrial fibrillation and atrial flu...</td>\n",
       "      <td>S</td>\n",
       "      <td>Pennsylvania</td>\n",
       "    </tr>\n",
       "    <tr>\n",
       "      <th>6511</th>\n",
       "      <td>168899</td>\n",
       "      <td>97</td>\n",
       "      <td>2019-09-24 22:46:28</td>\n",
       "      <td>Diagnosis</td>\n",
       "      <td>Encounter for other specified aftercare</td>\n",
       "      <td>P</td>\n",
       "      <td>Pennsylvania</td>\n",
       "    </tr>\n",
       "  </tbody>\n",
       "</table>\n",
       "<p>5683 rows × 7 columns</p>\n",
       "</div>"
      ],
      "text/plain": [
       "      Internalpatientid  Age at condition documentation  \\\n",
       "0                    67                              58   \n",
       "1                   200                              88   \n",
       "2                   291                              83   \n",
       "3                   291                              83   \n",
       "4                   291                              83   \n",
       "...                 ...                             ...   \n",
       "6507             168496                              99   \n",
       "6508             168496                              99   \n",
       "6509             168899                              97   \n",
       "6510             168899                              97   \n",
       "6511             168899                              97   \n",
       "\n",
       "     Condition documented date Condition type  \\\n",
       "0          2020-10-22 11:49:50      Diagnosis   \n",
       "1          2023-02-13 10:31:19      Diagnosis   \n",
       "2          2006-07-08 12:40:03      Diagnosis   \n",
       "3          2006-07-08 12:40:03      Diagnosis   \n",
       "4          2006-07-08 12:40:03      Diagnosis   \n",
       "...                        ...            ...   \n",
       "6507       2023-02-03 01:11:44      Diagnosis   \n",
       "6508       2023-02-03 21:37:36      Diagnosis   \n",
       "6509       2019-09-24 22:46:28      Diagnosis   \n",
       "6510       2019-09-24 22:46:28      Diagnosis   \n",
       "6511       2019-09-24 22:46:28      Diagnosis   \n",
       "\n",
       "                       Condition code icd10 subcategory  \\\n",
       "0                            Encounter for immunization   \n",
       "1                                     Vascular dementia   \n",
       "2     Secondary and unspecified malignant neoplasm o...   \n",
       "3                       Pneumonia, unspecified organism   \n",
       "4        Encounter for antineoplastic radiation therapy   \n",
       "...                                                 ...   \n",
       "6507                                      Not specified   \n",
       "6508                                      Not specified   \n",
       "6509  Long term (current) use of anticoagulants and ...   \n",
       "6510  Unspecified atrial fibrillation and atrial flu...   \n",
       "6511            Encounter for other specified aftercare   \n",
       "\n",
       "     Diagnosis sequence number or rank         State  \n",
       "0                                    P    California  \n",
       "1                                    P          Utah  \n",
       "2                                    4      Delaware  \n",
       "3                                    6      Delaware  \n",
       "4                                    1      Delaware  \n",
       "...                                ...           ...  \n",
       "6507                                 P    California  \n",
       "6508                                 P    California  \n",
       "6509                                 S  Pennsylvania  \n",
       "6510                                 S  Pennsylvania  \n",
       "6511                                 P  Pennsylvania  \n",
       "\n",
       "[5683 rows x 7 columns]"
      ]
     },
     "execution_count": 73,
     "metadata": {},
     "output_type": "execute_result"
    }
   ],
   "source": [
    "# Merge the two dataframes based on 'Internalpatientid'\n",
    "merged_df = conditions_train_data.merge(df, on='Internalpatientid', how='left')\n",
    "\n",
    "# Filter rows from DataFrame 1 that have matching values in DataFrame 2\n",
    "filtered_df = merged_df[~merged_df['Internalpatientid'].isin(df['Internalpatientid'])]\n",
    "\n",
    "# Print only the columns of DataFrame 1\n",
    "filtered_df"
   ]
  },
  {
   "cell_type": "code",
   "execution_count": 74,
   "metadata": {
    "collapsed": false,
    "gather": {
     "logged": 1688642581002
    },
    "jupyter": {
     "outputs_hidden": false
    },
    "nteract": {
     "transient": {
      "deleting": false
     }
    }
   },
   "outputs": [],
   "source": [
    "df_new = filtered_df"
   ]
  },
  {
   "cell_type": "code",
   "execution_count": 75,
   "metadata": {},
   "outputs": [
    {
     "data": {
      "text/html": [
       "<div>\n",
       "<style scoped>\n",
       "    .dataframe tbody tr th:only-of-type {\n",
       "        vertical-align: middle;\n",
       "    }\n",
       "\n",
       "    .dataframe tbody tr th {\n",
       "        vertical-align: top;\n",
       "    }\n",
       "\n",
       "    .dataframe thead th {\n",
       "        text-align: right;\n",
       "    }\n",
       "</style>\n",
       "<table border=\"1\" class=\"dataframe\">\n",
       "  <thead>\n",
       "    <tr style=\"text-align: right;\">\n",
       "      <th></th>\n",
       "      <th>Internalpatientid</th>\n",
       "      <th>Age at condition documentation</th>\n",
       "      <th>Condition documented date</th>\n",
       "      <th>Condition type</th>\n",
       "      <th>Condition code icd10 subcategory</th>\n",
       "      <th>Diagnosis sequence number or rank</th>\n",
       "      <th>State</th>\n",
       "    </tr>\n",
       "  </thead>\n",
       "  <tbody>\n",
       "    <tr>\n",
       "      <th>0</th>\n",
       "      <td>67</td>\n",
       "      <td>58</td>\n",
       "      <td>2020-10-22 11:49:50</td>\n",
       "      <td>Diagnosis</td>\n",
       "      <td>Encounter for immunization</td>\n",
       "      <td>P</td>\n",
       "      <td>California</td>\n",
       "    </tr>\n",
       "    <tr>\n",
       "      <th>1</th>\n",
       "      <td>200</td>\n",
       "      <td>88</td>\n",
       "      <td>2023-02-13 10:31:19</td>\n",
       "      <td>Diagnosis</td>\n",
       "      <td>Vascular dementia</td>\n",
       "      <td>P</td>\n",
       "      <td>Utah</td>\n",
       "    </tr>\n",
       "    <tr>\n",
       "      <th>2</th>\n",
       "      <td>291</td>\n",
       "      <td>83</td>\n",
       "      <td>2006-07-08 12:40:03</td>\n",
       "      <td>Diagnosis</td>\n",
       "      <td>Secondary and unspecified malignant neoplasm o...</td>\n",
       "      <td>4</td>\n",
       "      <td>Delaware</td>\n",
       "    </tr>\n",
       "    <tr>\n",
       "      <th>3</th>\n",
       "      <td>291</td>\n",
       "      <td>83</td>\n",
       "      <td>2006-07-08 12:40:03</td>\n",
       "      <td>Diagnosis</td>\n",
       "      <td>Pneumonia, unspecified organism</td>\n",
       "      <td>6</td>\n",
       "      <td>Delaware</td>\n",
       "    </tr>\n",
       "    <tr>\n",
       "      <th>4</th>\n",
       "      <td>291</td>\n",
       "      <td>83</td>\n",
       "      <td>2006-07-08 12:40:03</td>\n",
       "      <td>Diagnosis</td>\n",
       "      <td>Encounter for antineoplastic radiation therapy</td>\n",
       "      <td>1</td>\n",
       "      <td>Delaware</td>\n",
       "    </tr>\n",
       "    <tr>\n",
       "      <th>...</th>\n",
       "      <td>...</td>\n",
       "      <td>...</td>\n",
       "      <td>...</td>\n",
       "      <td>...</td>\n",
       "      <td>...</td>\n",
       "      <td>...</td>\n",
       "      <td>...</td>\n",
       "    </tr>\n",
       "    <tr>\n",
       "      <th>6507</th>\n",
       "      <td>168496</td>\n",
       "      <td>99</td>\n",
       "      <td>2023-02-03 01:11:44</td>\n",
       "      <td>Diagnosis</td>\n",
       "      <td>Not specified</td>\n",
       "      <td>P</td>\n",
       "      <td>California</td>\n",
       "    </tr>\n",
       "    <tr>\n",
       "      <th>6508</th>\n",
       "      <td>168496</td>\n",
       "      <td>99</td>\n",
       "      <td>2023-02-03 21:37:36</td>\n",
       "      <td>Diagnosis</td>\n",
       "      <td>Not specified</td>\n",
       "      <td>P</td>\n",
       "      <td>California</td>\n",
       "    </tr>\n",
       "    <tr>\n",
       "      <th>6509</th>\n",
       "      <td>168899</td>\n",
       "      <td>97</td>\n",
       "      <td>2019-09-24 22:46:28</td>\n",
       "      <td>Diagnosis</td>\n",
       "      <td>Long term (current) use of anticoagulants and ...</td>\n",
       "      <td>S</td>\n",
       "      <td>Pennsylvania</td>\n",
       "    </tr>\n",
       "    <tr>\n",
       "      <th>6510</th>\n",
       "      <td>168899</td>\n",
       "      <td>97</td>\n",
       "      <td>2019-09-24 22:46:28</td>\n",
       "      <td>Diagnosis</td>\n",
       "      <td>Unspecified atrial fibrillation and atrial flu...</td>\n",
       "      <td>S</td>\n",
       "      <td>Pennsylvania</td>\n",
       "    </tr>\n",
       "    <tr>\n",
       "      <th>6511</th>\n",
       "      <td>168899</td>\n",
       "      <td>97</td>\n",
       "      <td>2019-09-24 22:46:28</td>\n",
       "      <td>Diagnosis</td>\n",
       "      <td>Encounter for other specified aftercare</td>\n",
       "      <td>P</td>\n",
       "      <td>Pennsylvania</td>\n",
       "    </tr>\n",
       "  </tbody>\n",
       "</table>\n",
       "<p>5683 rows × 7 columns</p>\n",
       "</div>"
      ],
      "text/plain": [
       "      Internalpatientid  Age at condition documentation  \\\n",
       "0                    67                              58   \n",
       "1                   200                              88   \n",
       "2                   291                              83   \n",
       "3                   291                              83   \n",
       "4                   291                              83   \n",
       "...                 ...                             ...   \n",
       "6507             168496                              99   \n",
       "6508             168496                              99   \n",
       "6509             168899                              97   \n",
       "6510             168899                              97   \n",
       "6511             168899                              97   \n",
       "\n",
       "     Condition documented date Condition type  \\\n",
       "0          2020-10-22 11:49:50      Diagnosis   \n",
       "1          2023-02-13 10:31:19      Diagnosis   \n",
       "2          2006-07-08 12:40:03      Diagnosis   \n",
       "3          2006-07-08 12:40:03      Diagnosis   \n",
       "4          2006-07-08 12:40:03      Diagnosis   \n",
       "...                        ...            ...   \n",
       "6507       2023-02-03 01:11:44      Diagnosis   \n",
       "6508       2023-02-03 21:37:36      Diagnosis   \n",
       "6509       2019-09-24 22:46:28      Diagnosis   \n",
       "6510       2019-09-24 22:46:28      Diagnosis   \n",
       "6511       2019-09-24 22:46:28      Diagnosis   \n",
       "\n",
       "                       Condition code icd10 subcategory  \\\n",
       "0                            Encounter for immunization   \n",
       "1                                     Vascular dementia   \n",
       "2     Secondary and unspecified malignant neoplasm o...   \n",
       "3                       Pneumonia, unspecified organism   \n",
       "4        Encounter for antineoplastic radiation therapy   \n",
       "...                                                 ...   \n",
       "6507                                      Not specified   \n",
       "6508                                      Not specified   \n",
       "6509  Long term (current) use of anticoagulants and ...   \n",
       "6510  Unspecified atrial fibrillation and atrial flu...   \n",
       "6511            Encounter for other specified aftercare   \n",
       "\n",
       "     Diagnosis sequence number or rank         State  \n",
       "0                                    P    California  \n",
       "1                                    P          Utah  \n",
       "2                                    4      Delaware  \n",
       "3                                    6      Delaware  \n",
       "4                                    1      Delaware  \n",
       "...                                ...           ...  \n",
       "6507                                 P    California  \n",
       "6508                                 P    California  \n",
       "6509                                 S  Pennsylvania  \n",
       "6510                                 S  Pennsylvania  \n",
       "6511                                 P  Pennsylvania  \n",
       "\n",
       "[5683 rows x 7 columns]"
      ]
     },
     "execution_count": 75,
     "metadata": {},
     "output_type": "execute_result"
    }
   ],
   "source": [
    "df_new"
   ]
  },
  {
   "cell_type": "markdown",
   "metadata": {},
   "source": [
    "# Dropping all unnecessary columns"
   ]
  },
  {
   "cell_type": "code",
   "execution_count": 76,
   "metadata": {
    "collapsed": false,
    "gather": {
     "logged": 1688642742504
    },
    "jupyter": {
     "outputs_hidden": false
    },
    "nteract": {
     "transient": {
      "deleting": false
     }
    }
   },
   "outputs": [],
   "source": [
    "# # Remove columns \n",
    "df_new.drop([\"Age at condition documentation\",\"Condition documented date\",\"Condition type\",\"Diagnosis sequence number or rank\",\"State\"], axis=1,inplace=True)"
   ]
  },
  {
   "cell_type": "code",
   "execution_count": 77,
   "metadata": {
    "collapsed": false,
    "gather": {
     "logged": 1688642758159
    },
    "jupyter": {
     "outputs_hidden": false
    },
    "nteract": {
     "transient": {
      "deleting": false
     }
    }
   },
   "outputs": [],
   "source": [
    "df_new = df_new"
   ]
  },
  {
   "cell_type": "code",
   "execution_count": 78,
   "metadata": {
    "collapsed": false,
    "gather": {
     "logged": 1688642770379
    },
    "jupyter": {
     "outputs_hidden": false
    },
    "nteract": {
     "transient": {
      "deleting": false
     }
    }
   },
   "outputs": [
    {
     "data": {
      "text/plain": [
       "989"
      ]
     },
     "execution_count": 78,
     "metadata": {},
     "output_type": "execute_result"
    }
   ],
   "source": [
    "df_new.Internalpatientid.nunique()"
   ]
  },
  {
   "cell_type": "code",
   "execution_count": 79,
   "metadata": {},
   "outputs": [
    {
     "data": {
      "text/html": [
       "<div>\n",
       "<style scoped>\n",
       "    .dataframe tbody tr th:only-of-type {\n",
       "        vertical-align: middle;\n",
       "    }\n",
       "\n",
       "    .dataframe tbody tr th {\n",
       "        vertical-align: top;\n",
       "    }\n",
       "\n",
       "    .dataframe thead th {\n",
       "        text-align: right;\n",
       "    }\n",
       "</style>\n",
       "<table border=\"1\" class=\"dataframe\">\n",
       "  <thead>\n",
       "    <tr style=\"text-align: right;\">\n",
       "      <th></th>\n",
       "      <th>Internalpatientid</th>\n",
       "      <th>Condition code icd10 subcategory</th>\n",
       "    </tr>\n",
       "  </thead>\n",
       "  <tbody>\n",
       "    <tr>\n",
       "      <th>0</th>\n",
       "      <td>67</td>\n",
       "      <td>Encounter for immunization</td>\n",
       "    </tr>\n",
       "    <tr>\n",
       "      <th>1</th>\n",
       "      <td>200</td>\n",
       "      <td>Vascular dementia</td>\n",
       "    </tr>\n",
       "    <tr>\n",
       "      <th>2</th>\n",
       "      <td>291</td>\n",
       "      <td>Secondary and unspecified malignant neoplasm o...</td>\n",
       "    </tr>\n",
       "    <tr>\n",
       "      <th>3</th>\n",
       "      <td>291</td>\n",
       "      <td>Pneumonia, unspecified organism</td>\n",
       "    </tr>\n",
       "    <tr>\n",
       "      <th>4</th>\n",
       "      <td>291</td>\n",
       "      <td>Encounter for antineoplastic radiation therapy</td>\n",
       "    </tr>\n",
       "    <tr>\n",
       "      <th>...</th>\n",
       "      <td>...</td>\n",
       "      <td>...</td>\n",
       "    </tr>\n",
       "    <tr>\n",
       "      <th>6507</th>\n",
       "      <td>168496</td>\n",
       "      <td>Not specified</td>\n",
       "    </tr>\n",
       "    <tr>\n",
       "      <th>6508</th>\n",
       "      <td>168496</td>\n",
       "      <td>Not specified</td>\n",
       "    </tr>\n",
       "    <tr>\n",
       "      <th>6509</th>\n",
       "      <td>168899</td>\n",
       "      <td>Long term (current) use of anticoagulants and ...</td>\n",
       "    </tr>\n",
       "    <tr>\n",
       "      <th>6510</th>\n",
       "      <td>168899</td>\n",
       "      <td>Unspecified atrial fibrillation and atrial flu...</td>\n",
       "    </tr>\n",
       "    <tr>\n",
       "      <th>6511</th>\n",
       "      <td>168899</td>\n",
       "      <td>Encounter for other specified aftercare</td>\n",
       "    </tr>\n",
       "  </tbody>\n",
       "</table>\n",
       "<p>5683 rows × 2 columns</p>\n",
       "</div>"
      ],
      "text/plain": [
       "      Internalpatientid                   Condition code icd10 subcategory\n",
       "0                    67                         Encounter for immunization\n",
       "1                   200                                  Vascular dementia\n",
       "2                   291  Secondary and unspecified malignant neoplasm o...\n",
       "3                   291                    Pneumonia, unspecified organism\n",
       "4                   291     Encounter for antineoplastic radiation therapy\n",
       "...                 ...                                                ...\n",
       "6507             168496                                      Not specified\n",
       "6508             168496                                      Not specified\n",
       "6509             168899  Long term (current) use of anticoagulants and ...\n",
       "6510             168899  Unspecified atrial fibrillation and atrial flu...\n",
       "6511             168899            Encounter for other specified aftercare\n",
       "\n",
       "[5683 rows x 2 columns]"
      ]
     },
     "execution_count": 79,
     "metadata": {},
     "output_type": "execute_result"
    }
   ],
   "source": [
    "df_new"
   ]
  },
  {
   "cell_type": "markdown",
   "metadata": {},
   "source": [
    "# importing the inpatient test file"
   ]
  },
  {
   "cell_type": "code",
   "execution_count": 80,
   "metadata": {},
   "outputs": [],
   "source": [
    "df_inpa = pd.read_csv('/mnt/batch/tasks/shared/LS_root/mounts/clusters/team-3-susai-gpu2/code/Users/900379/Output_files_quality/df_inpatient_admission_qual.csv')"
   ]
  },
  {
   "cell_type": "code",
   "execution_count": 81,
   "metadata": {},
   "outputs": [
    {
     "data": {
      "text/html": [
       "<div>\n",
       "<style scoped>\n",
       "    .dataframe tbody tr th:only-of-type {\n",
       "        vertical-align: middle;\n",
       "    }\n",
       "\n",
       "    .dataframe tbody tr th {\n",
       "        vertical-align: top;\n",
       "    }\n",
       "\n",
       "    .dataframe thead th {\n",
       "        text-align: right;\n",
       "    }\n",
       "</style>\n",
       "<table border=\"1\" class=\"dataframe\">\n",
       "  <thead>\n",
       "    <tr style=\"text-align: right;\">\n",
       "      <th></th>\n",
       "      <th>Unnamed: 0</th>\n",
       "      <th>Internalpatientid</th>\n",
       "      <th>inpatient_admissions_First_listed_discharge_diagnosis_icd10_subcategory</th>\n",
       "      <th>inpatient_admissions_Second_listed_discharge_diagnosis_icd10_subcategory</th>\n",
       "    </tr>\n",
       "  </thead>\n",
       "  <tbody>\n",
       "    <tr>\n",
       "      <th>0</th>\n",
       "      <td>0</td>\n",
       "      <td>67</td>\n",
       "      <td>57_COVID-19</td>\n",
       "      <td>57_Hypertensive heart and chronic kidney disea...</td>\n",
       "    </tr>\n",
       "    <tr>\n",
       "      <th>1</th>\n",
       "      <td>1</td>\n",
       "      <td>200</td>\n",
       "      <td>84_Acute and chronic respiratory failure</td>\n",
       "      <td>84_(Censored)</td>\n",
       "    </tr>\n",
       "    <tr>\n",
       "      <th>2</th>\n",
       "      <td>2</td>\n",
       "      <td>291</td>\n",
       "      <td>83_Malignant neoplasm of middle lobe, bronchus...</td>\n",
       "      <td>83_Secondary malignant neoplasm of lung</td>\n",
       "    </tr>\n",
       "    <tr>\n",
       "      <th>3</th>\n",
       "      <td>3</td>\n",
       "      <td>330</td>\n",
       "      <td>73_Other specified sepsis</td>\n",
       "      <td>73_Other specified bacterial agents as the cau...</td>\n",
       "    </tr>\n",
       "    <tr>\n",
       "      <th>4</th>\n",
       "      <td>4</td>\n",
       "      <td>351</td>\n",
       "      <td>86_Hypertensive heart disease with heart failure</td>\n",
       "      <td>86_Diastolic (congestive) heart failure</td>\n",
       "    </tr>\n",
       "  </tbody>\n",
       "</table>\n",
       "</div>"
      ],
      "text/plain": [
       "   Unnamed: 0  Internalpatientid  \\\n",
       "0           0                 67   \n",
       "1           1                200   \n",
       "2           2                291   \n",
       "3           3                330   \n",
       "4           4                351   \n",
       "\n",
       "  inpatient_admissions_First_listed_discharge_diagnosis_icd10_subcategory  \\\n",
       "0                                        57_COVID-19                        \n",
       "1           84_Acute and chronic respiratory failure                        \n",
       "2  83_Malignant neoplasm of middle lobe, bronchus...                        \n",
       "3                          73_Other specified sepsis                        \n",
       "4   86_Hypertensive heart disease with heart failure                        \n",
       "\n",
       "  inpatient_admissions_Second_listed_discharge_diagnosis_icd10_subcategory  \n",
       "0  57_Hypertensive heart and chronic kidney disea...                        \n",
       "1                                      84_(Censored)                        \n",
       "2            83_Secondary malignant neoplasm of lung                        \n",
       "3  73_Other specified bacterial agents as the cau...                        \n",
       "4            86_Diastolic (congestive) heart failure                        "
      ]
     },
     "execution_count": 81,
     "metadata": {},
     "output_type": "execute_result"
    }
   ],
   "source": [
    "df_inpa.head()"
   ]
  },
  {
   "cell_type": "code",
   "execution_count": 82,
   "metadata": {},
   "outputs": [
    {
     "data": {
      "text/plain": [
       "(632, 4)"
      ]
     },
     "execution_count": 82,
     "metadata": {},
     "output_type": "execute_result"
    }
   ],
   "source": [
    "df_inpa.shape"
   ]
  },
  {
   "cell_type": "code",
   "execution_count": 83,
   "metadata": {},
   "outputs": [],
   "source": [
    "# Combine the two columns into a new column separated by commas\n",
    "df_inpa ['Inpatient_admission_first_and_second_listed'] = df_inpa['inpatient_admissions_First_listed_discharge_diagnosis_icd10_subcategory'] + ',' + df_inpa['inpatient_admissions_Second_listed_discharge_diagnosis_icd10_subcategory']"
   ]
  },
  {
   "cell_type": "code",
   "execution_count": 84,
   "metadata": {},
   "outputs": [],
   "source": [
    "# droping the unwanted columns\n",
    "df_f_s = df_inpa.drop([\"Unnamed: 0\",\"inpatient_admissions_First_listed_discharge_diagnosis_icd10_subcategory\",\"inpatient_admissions_Second_listed_discharge_diagnosis_icd10_subcategory\"],axis=1)"
   ]
  },
  {
   "cell_type": "code",
   "execution_count": 85,
   "metadata": {},
   "outputs": [
    {
     "data": {
      "text/html": [
       "<div>\n",
       "<style scoped>\n",
       "    .dataframe tbody tr th:only-of-type {\n",
       "        vertical-align: middle;\n",
       "    }\n",
       "\n",
       "    .dataframe tbody tr th {\n",
       "        vertical-align: top;\n",
       "    }\n",
       "\n",
       "    .dataframe thead th {\n",
       "        text-align: right;\n",
       "    }\n",
       "</style>\n",
       "<table border=\"1\" class=\"dataframe\">\n",
       "  <thead>\n",
       "    <tr style=\"text-align: right;\">\n",
       "      <th></th>\n",
       "      <th>Internalpatientid</th>\n",
       "      <th>Inpatient_admission_first_and_second_listed</th>\n",
       "    </tr>\n",
       "  </thead>\n",
       "  <tbody>\n",
       "    <tr>\n",
       "      <th>0</th>\n",
       "      <td>67</td>\n",
       "      <td>57_COVID-19,57_Hypertensive heart and chronic ...</td>\n",
       "    </tr>\n",
       "    <tr>\n",
       "      <th>1</th>\n",
       "      <td>200</td>\n",
       "      <td>84_Acute and chronic respiratory failure,84_(C...</td>\n",
       "    </tr>\n",
       "    <tr>\n",
       "      <th>2</th>\n",
       "      <td>291</td>\n",
       "      <td>83_Malignant neoplasm of middle lobe, bronchus...</td>\n",
       "    </tr>\n",
       "    <tr>\n",
       "      <th>3</th>\n",
       "      <td>330</td>\n",
       "      <td>73_Other specified sepsis,73_Other specified b...</td>\n",
       "    </tr>\n",
       "    <tr>\n",
       "      <th>4</th>\n",
       "      <td>351</td>\n",
       "      <td>86_Hypertensive heart disease with heart failu...</td>\n",
       "    </tr>\n",
       "  </tbody>\n",
       "</table>\n",
       "</div>"
      ],
      "text/plain": [
       "   Internalpatientid        Inpatient_admission_first_and_second_listed\n",
       "0                 67  57_COVID-19,57_Hypertensive heart and chronic ...\n",
       "1                200  84_Acute and chronic respiratory failure,84_(C...\n",
       "2                291  83_Malignant neoplasm of middle lobe, bronchus...\n",
       "3                330  73_Other specified sepsis,73_Other specified b...\n",
       "4                351  86_Hypertensive heart disease with heart failu..."
      ]
     },
     "execution_count": 85,
     "metadata": {},
     "output_type": "execute_result"
    }
   ],
   "source": [
    "df_f_s.head()"
   ]
  },
  {
   "cell_type": "markdown",
   "metadata": {},
   "source": [
    "# merging the condition file and inpatients file "
   ]
  },
  {
   "cell_type": "code",
   "execution_count": 86,
   "metadata": {},
   "outputs": [],
   "source": [
    "df_final = pd.merge(df_new, df_f_s ,on=\"Internalpatientid\", how=\"outer\")"
   ]
  },
  {
   "cell_type": "code",
   "execution_count": 87,
   "metadata": {},
   "outputs": [
    {
     "data": {
      "text/html": [
       "<div>\n",
       "<style scoped>\n",
       "    .dataframe tbody tr th:only-of-type {\n",
       "        vertical-align: middle;\n",
       "    }\n",
       "\n",
       "    .dataframe tbody tr th {\n",
       "        vertical-align: top;\n",
       "    }\n",
       "\n",
       "    .dataframe thead th {\n",
       "        text-align: right;\n",
       "    }\n",
       "</style>\n",
       "<table border=\"1\" class=\"dataframe\">\n",
       "  <thead>\n",
       "    <tr style=\"text-align: right;\">\n",
       "      <th></th>\n",
       "      <th>Internalpatientid</th>\n",
       "      <th>Condition code icd10 subcategory</th>\n",
       "      <th>Inpatient_admission_first_and_second_listed</th>\n",
       "    </tr>\n",
       "  </thead>\n",
       "  <tbody>\n",
       "    <tr>\n",
       "      <th>0</th>\n",
       "      <td>67</td>\n",
       "      <td>Encounter for immunization</td>\n",
       "      <td>57_COVID-19,57_Hypertensive heart and chronic ...</td>\n",
       "    </tr>\n",
       "    <tr>\n",
       "      <th>1</th>\n",
       "      <td>200</td>\n",
       "      <td>Vascular dementia</td>\n",
       "      <td>84_Acute and chronic respiratory failure,84_(C...</td>\n",
       "    </tr>\n",
       "    <tr>\n",
       "      <th>2</th>\n",
       "      <td>291</td>\n",
       "      <td>Secondary and unspecified malignant neoplasm o...</td>\n",
       "      <td>83_Malignant neoplasm of middle lobe, bronchus...</td>\n",
       "    </tr>\n",
       "    <tr>\n",
       "      <th>3</th>\n",
       "      <td>291</td>\n",
       "      <td>Pneumonia, unspecified organism</td>\n",
       "      <td>83_Malignant neoplasm of middle lobe, bronchus...</td>\n",
       "    </tr>\n",
       "    <tr>\n",
       "      <th>4</th>\n",
       "      <td>291</td>\n",
       "      <td>Encounter for antineoplastic radiation therapy</td>\n",
       "      <td>83_Malignant neoplasm of middle lobe, bronchus...</td>\n",
       "    </tr>\n",
       "    <tr>\n",
       "      <th>...</th>\n",
       "      <td>...</td>\n",
       "      <td>...</td>\n",
       "      <td>...</td>\n",
       "    </tr>\n",
       "    <tr>\n",
       "      <th>5689</th>\n",
       "      <td>100314</td>\n",
       "      <td>NaN</td>\n",
       "      <td>74_Cardiogenic shock,74_Combined systolic (con...</td>\n",
       "    </tr>\n",
       "    <tr>\n",
       "      <th>5690</th>\n",
       "      <td>128935</td>\n",
       "      <td>NaN</td>\n",
       "      <td>95_Hypertensive chronic kidney disease with st...</td>\n",
       "    </tr>\n",
       "    <tr>\n",
       "      <th>5691</th>\n",
       "      <td>132010</td>\n",
       "      <td>NaN</td>\n",
       "      <td>79_Pneumonitis due to inhalation of food and v...</td>\n",
       "    </tr>\n",
       "    <tr>\n",
       "      <th>5692</th>\n",
       "      <td>149757</td>\n",
       "      <td>NaN</td>\n",
       "      <td>89_Pneumonia, unspecified organism,89_Malignan...</td>\n",
       "    </tr>\n",
       "    <tr>\n",
       "      <th>5693</th>\n",
       "      <td>163951</td>\n",
       "      <td>NaN</td>\n",
       "      <td>83_Hypertensive heart disease with heart failu...</td>\n",
       "    </tr>\n",
       "  </tbody>\n",
       "</table>\n",
       "<p>5694 rows × 3 columns</p>\n",
       "</div>"
      ],
      "text/plain": [
       "      Internalpatientid                   Condition code icd10 subcategory  \\\n",
       "0                    67                         Encounter for immunization   \n",
       "1                   200                                  Vascular dementia   \n",
       "2                   291  Secondary and unspecified malignant neoplasm o...   \n",
       "3                   291                    Pneumonia, unspecified organism   \n",
       "4                   291     Encounter for antineoplastic radiation therapy   \n",
       "...                 ...                                                ...   \n",
       "5689             100314                                                NaN   \n",
       "5690             128935                                                NaN   \n",
       "5691             132010                                                NaN   \n",
       "5692             149757                                                NaN   \n",
       "5693             163951                                                NaN   \n",
       "\n",
       "            Inpatient_admission_first_and_second_listed  \n",
       "0     57_COVID-19,57_Hypertensive heart and chronic ...  \n",
       "1     84_Acute and chronic respiratory failure,84_(C...  \n",
       "2     83_Malignant neoplasm of middle lobe, bronchus...  \n",
       "3     83_Malignant neoplasm of middle lobe, bronchus...  \n",
       "4     83_Malignant neoplasm of middle lobe, bronchus...  \n",
       "...                                                 ...  \n",
       "5689  74_Cardiogenic shock,74_Combined systolic (con...  \n",
       "5690  95_Hypertensive chronic kidney disease with st...  \n",
       "5691  79_Pneumonitis due to inhalation of food and v...  \n",
       "5692  89_Pneumonia, unspecified organism,89_Malignan...  \n",
       "5693  83_Hypertensive heart disease with heart failu...  \n",
       "\n",
       "[5694 rows x 3 columns]"
      ]
     },
     "execution_count": 87,
     "metadata": {},
     "output_type": "execute_result"
    }
   ],
   "source": [
    "df_final"
   ]
  },
  {
   "cell_type": "code",
   "execution_count": 88,
   "metadata": {},
   "outputs": [
    {
     "data": {
      "text/plain": [
       "Internalpatientid                                 0\n",
       "Condition code icd10 subcategory                 11\n",
       "Inpatient_admission_first_and_second_listed    1213\n",
       "dtype: int64"
      ]
     },
     "execution_count": 88,
     "metadata": {},
     "output_type": "execute_result"
    }
   ],
   "source": [
    "# checking the null values\n",
    "df_final.isnull().sum()"
   ]
  },
  {
   "cell_type": "code",
   "execution_count": 89,
   "metadata": {},
   "outputs": [],
   "source": [
    "# Replace NaN values with corresponding 'Condition_code_icd10_subcategory' values\n",
    "df_final['Condition code icd10 subcategory'] = df_final['Condition code icd10 subcategory'].fillna(df_final['Inpatient_admission_first_and_second_listed'])"
   ]
  },
  {
   "cell_type": "code",
   "execution_count": 90,
   "metadata": {},
   "outputs": [
    {
     "data": {
      "text/plain": [
       "Internalpatientid                                 0\n",
       "Condition code icd10 subcategory                  0\n",
       "Inpatient_admission_first_and_second_listed    1213\n",
       "dtype: int64"
      ]
     },
     "execution_count": 90,
     "metadata": {},
     "output_type": "execute_result"
    }
   ],
   "source": [
    "# after replacing the null values\n",
    "df_final.isnull().sum()"
   ]
  },
  {
   "cell_type": "code",
   "execution_count": 91,
   "metadata": {},
   "outputs": [],
   "source": [
    "# droping the \"Inpatient_admission_first_and_second_listed\" column\n",
    "df_final.drop([\"Inpatient_admission_first_and_second_listed\"],axis=1,inplace=True)"
   ]
  },
  {
   "cell_type": "code",
   "execution_count": 94,
   "metadata": {
    "collapsed": false,
    "gather": {
     "logged": 1688642806559
    },
    "jupyter": {
     "outputs_hidden": false
    },
    "nteract": {
     "transient": {
      "deleting": false
     }
    }
   },
   "outputs": [
    {
     "data": {
      "text/html": [
       "<div>\n",
       "<style scoped>\n",
       "    .dataframe tbody tr th:only-of-type {\n",
       "        vertical-align: middle;\n",
       "    }\n",
       "\n",
       "    .dataframe tbody tr th {\n",
       "        vertical-align: top;\n",
       "    }\n",
       "\n",
       "    .dataframe thead th {\n",
       "        text-align: right;\n",
       "    }\n",
       "</style>\n",
       "<table border=\"1\" class=\"dataframe\">\n",
       "  <thead>\n",
       "    <tr style=\"text-align: right;\">\n",
       "      <th></th>\n",
       "      <th>Internalpatientid</th>\n",
       "      <th>Condition code icd10 subcategory</th>\n",
       "    </tr>\n",
       "  </thead>\n",
       "  <tbody>\n",
       "    <tr>\n",
       "      <th>0</th>\n",
       "      <td>67</td>\n",
       "      <td>Encounter for immunization</td>\n",
       "    </tr>\n",
       "    <tr>\n",
       "      <th>1</th>\n",
       "      <td>200</td>\n",
       "      <td>Vascular dementia</td>\n",
       "    </tr>\n",
       "    <tr>\n",
       "      <th>2</th>\n",
       "      <td>291</td>\n",
       "      <td>Secondary and unspecified malignant neoplasm o...</td>\n",
       "    </tr>\n",
       "    <tr>\n",
       "      <th>3</th>\n",
       "      <td>330</td>\n",
       "      <td>Encounter for immunization</td>\n",
       "    </tr>\n",
       "    <tr>\n",
       "      <th>4</th>\n",
       "      <td>351</td>\n",
       "      <td>Other chronic osteomyelitis</td>\n",
       "    </tr>\n",
       "  </tbody>\n",
       "</table>\n",
       "</div>"
      ],
      "text/plain": [
       "   Internalpatientid                   Condition code icd10 subcategory\n",
       "0                 67                         Encounter for immunization\n",
       "1                200                                  Vascular dementia\n",
       "2                291  Secondary and unspecified malignant neoplasm o...\n",
       "3                330                         Encounter for immunization\n",
       "4                351                        Other chronic osteomyelitis"
      ]
     },
     "execution_count": 94,
     "metadata": {},
     "output_type": "execute_result"
    }
   ],
   "source": [
    "# Group the DataFrame by 'Internalpatientid' and concatenate the icd10 values and\n",
    "#The purpose of `x.dropna()` is to remove any missing values from the Series before applying a subsequent operation,\n",
    "# such as concatenation using the `join` function. By dropping the missing values,\n",
    "#we ensure that only non-null values are included in the resulting concatenated string.\n",
    "df_grouped = df_final.groupby('Internalpatientid').agg(lambda x: ','.join(x.dropna()))\n",
    "df_grouped \n",
    "\n",
    "# Reset the index of the grouped DataFrame\n",
    "df_grouped_condition = df_grouped.reset_index()\n",
    "df_grouped_condition.head()"
   ]
  },
  {
   "cell_type": "markdown",
   "metadata": {},
   "source": [
    "# Finding the Cv(1) or Non-cv(0)"
   ]
  },
  {
   "cell_type": "code",
   "execution_count": 95,
   "metadata": {},
   "outputs": [],
   "source": [
    "# Define the list of heart-related words\n",
    "phrases = ['Systolic','congestive','Heart','Diastolic','Cardiogenic','Hypertensive heart','myocardial','STEMI','NSTEMI',\n",
    "           'Unstable angina','chronic ischemic heart disease','Atherosclerotic','native coronary artery',\n",
    "           'Atrial fibrillation','Atrial flutter','Supraventricular tachycardia','Ventricular tachycardia']"
   ]
  },
  {
   "cell_type": "code",
   "execution_count": 96,
   "metadata": {},
   "outputs": [
    {
     "data": {
      "text/html": [
       "<div>\n",
       "<style scoped>\n",
       "    .dataframe tbody tr th:only-of-type {\n",
       "        vertical-align: middle;\n",
       "    }\n",
       "\n",
       "    .dataframe tbody tr th {\n",
       "        vertical-align: top;\n",
       "    }\n",
       "\n",
       "    .dataframe thead th {\n",
       "        text-align: right;\n",
       "    }\n",
       "</style>\n",
       "<table border=\"1\" class=\"dataframe\">\n",
       "  <thead>\n",
       "    <tr style=\"text-align: right;\">\n",
       "      <th></th>\n",
       "      <th>Internalpatientid</th>\n",
       "      <th>Condition code icd10 subcategory</th>\n",
       "      <th>cv_df</th>\n",
       "    </tr>\n",
       "  </thead>\n",
       "  <tbody>\n",
       "    <tr>\n",
       "      <th>0</th>\n",
       "      <td>67</td>\n",
       "      <td>Encounter for immunization</td>\n",
       "      <td>0</td>\n",
       "    </tr>\n",
       "    <tr>\n",
       "      <th>1</th>\n",
       "      <td>200</td>\n",
       "      <td>Vascular dementia</td>\n",
       "      <td>0</td>\n",
       "    </tr>\n",
       "    <tr>\n",
       "      <th>2</th>\n",
       "      <td>291</td>\n",
       "      <td>Secondary and unspecified malignant neoplasm o...</td>\n",
       "      <td>1</td>\n",
       "    </tr>\n",
       "    <tr>\n",
       "      <th>3</th>\n",
       "      <td>330</td>\n",
       "      <td>Encounter for immunization</td>\n",
       "      <td>0</td>\n",
       "    </tr>\n",
       "    <tr>\n",
       "      <th>4</th>\n",
       "      <td>351</td>\n",
       "      <td>Other chronic osteomyelitis</td>\n",
       "      <td>0</td>\n",
       "    </tr>\n",
       "  </tbody>\n",
       "</table>\n",
       "</div>"
      ],
      "text/plain": [
       "   Internalpatientid                   Condition code icd10 subcategory  cv_df\n",
       "0                 67                         Encounter for immunization      0\n",
       "1                200                                  Vascular dementia      0\n",
       "2                291  Secondary and unspecified malignant neoplasm o...      1\n",
       "3                330                         Encounter for immunization      0\n",
       "4                351                        Other chronic osteomyelitis      0"
      ]
     },
     "execution_count": 96,
     "metadata": {},
     "output_type": "execute_result"
    }
   ],
   "source": [
    "# Create the 'cv_df' column using lambda function\n",
    "df_grouped_condition['cv_df'] = df_grouped_condition['Condition code icd10 subcategory'].apply(lambda text: 1 if any(phrase.lower() in text.lower() for phrase in phrases) else 0)\n",
    "df_grouped_condition.head()"
   ]
  },
  {
   "cell_type": "code",
   "execution_count": 97,
   "metadata": {},
   "outputs": [],
   "source": [
    "df_grouped_condition.drop(['Condition code icd10 subcategory'],axis=1,inplace=True)"
   ]
  },
  {
   "cell_type": "code",
   "execution_count": 98,
   "metadata": {},
   "outputs": [],
   "source": [
    "df_grouped_condition = df_grouped_condition"
   ]
  },
  {
   "cell_type": "code",
   "execution_count": 101,
   "metadata": {},
   "outputs": [
    {
     "data": {
      "text/plain": [
       "1000"
      ]
     },
     "execution_count": 101,
     "metadata": {},
     "output_type": "execute_result"
    }
   ],
   "source": [
    "len(df_grouped_condition)"
   ]
  },
  {
   "cell_type": "code",
   "execution_count": 100,
   "metadata": {
    "collapsed": false,
    "gather": {
     "logged": 1688642879872
    },
    "jupyter": {
     "outputs_hidden": false
    },
    "nteract": {
     "transient": {
      "deleting": false
     }
    }
   },
   "outputs": [],
   "source": [
    "df_grouped_condition.to_csv('/mnt/batch/tasks/shared/LS_root/mounts/clusters/team-3-susai-gpu2/code/Users/900379/Output_files_quality/df_cv_non_cv_quality_V1.csv')"
   ]
  },
  {
   "cell_type": "code",
   "execution_count": null,
   "metadata": {},
   "outputs": [],
   "source": []
  }
 ],
 "metadata": {
  "kernel_info": {
   "name": "python38-azureml"
  },
  "kernelspec": {
   "display_name": "Python 3.8 - AzureML",
   "language": "python",
   "name": "python38-azureml"
  },
  "language_info": {
   "codemirror_mode": {
    "name": "ipython",
    "version": 3
   },
   "file_extension": ".py",
   "mimetype": "text/x-python",
   "name": "python",
   "nbconvert_exporter": "python",
   "pygments_lexer": "ipython3",
   "version": "3.8.5"
  },
  "microsoft": {
   "host": {
    "AzureML": {
     "notebookHasBeenCompleted": true
    }
   },
   "ms_spell_check": {
    "ms_spell_check_language": "en"
   }
  },
  "nteract": {
   "version": "nteract-front-end@1.0.0"
  }
 },
 "nbformat": 4,
 "nbformat_minor": 4
}
