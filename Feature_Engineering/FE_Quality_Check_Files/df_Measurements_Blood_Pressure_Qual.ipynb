{
 "cells": [
  {
   "cell_type": "markdown",
   "id": "b2becc3a",
   "metadata": {},
   "source": [
    "----\n",
    "# **Measurements Blood Pressure Quality**\n",
    "----\n",
    "\n",
    "## **Dataset Description:**\n",
    "\n",
    "- **Internalpatientid:** The unique identifier for each patient in the dataset.\n",
    "- **Age at measurement bp:** The age of the patient at the time the blood pressure measurement was taken.\n",
    "- **Measurement date:** The date and time when the blood pressure measurement was taken.\n",
    "- **Diastolic bp:** The diastolic blood pressure value, which represents the pressure in the arteries when the heart is at rest between beats.\n",
    "- **Systolic bp:** The systolic blood pressure value, which represents the pressure in the arteries when the heart is actively pumping blood.\n",
    "- **State:** The state where the measurement was taken or the patient's residence."
   ]
  },
  {
   "cell_type": "markdown",
   "id": "ac17799e",
   "metadata": {},
   "source": [
    "### Azure notebook Setup"
   ]
  },
  {
   "cell_type": "code",
   "execution_count": 1,
   "id": "3668f0ed",
   "metadata": {},
   "outputs": [],
   "source": [
    "#A class attribute that provides access to the TabularDatasetFactory methods for creating new TabularDataset objects. \n",
    "#Usage: Dataset.Tabular.from_delimited_files().\n",
    "from azureml.core import Workspace, Dataset\n",
    "\n",
    "subscription_id = 'bcfe0c62-8ebe-4df0-a46d-1efcf8739a5b' #check the launch studio there will get this id\n",
    "resource_group = 'VChamp-Team3' # resource group name\n",
    "workspace_name = 'vchamp-team3' # worksapce name\n",
    "\n",
    "\n",
    "# storage account : Algorithmia, Resource group: VChamp-Team3 and workspace: vchamp-team3.\n",
    "#Constructor\n",
    "workspace = Workspace(subscription_id, resource_group, workspace_name)"
   ]
  },
  {
   "cell_type": "code",
   "execution_count": 2,
   "id": "c1c3c107",
   "metadata": {},
   "outputs": [],
   "source": [
    "#['data_team3_synthetic_train']\n",
    "datastore = workspace.datastores['data_team3_synthetic_quality_check']"
   ]
  },
  {
   "cell_type": "code",
   "execution_count": 3,
   "id": "2e4704e1",
   "metadata": {},
   "outputs": [],
   "source": [
    "#from_delimited_files (Create a TabularDataset to represent tabular data in delimited files (e.g. CSV and TSV).\n",
    "dataset = Dataset.Tabular.from_delimited_files(path = [(datastore, 'measurements_blood_pressure_qual.csv')])\n",
    "\n",
    "# preview the first 3 rows of the dataset\n",
    "# dataset.to_pandas_dataframe()"
   ]
  },
  {
   "cell_type": "code",
   "execution_count": 4,
   "id": "6b27edfc",
   "metadata": {},
   "outputs": [],
   "source": [
    "#Converting the dataset into data frame(default as dataset in Azure, thus we must convert the needed formate)\n",
    "measurements_blood_pressure_qual_data= dataset.to_pandas_dataframe()"
   ]
  },
  {
   "cell_type": "code",
   "execution_count": 5,
   "id": "98239d0d",
   "metadata": {},
   "outputs": [
    {
     "data": {
      "text/plain": [
       "pandas.core.frame.DataFrame"
      ]
     },
     "execution_count": 5,
     "metadata": {},
     "output_type": "execute_result"
    }
   ],
   "source": [
    "type(measurements_blood_pressure_qual_data)"
   ]
  },
  {
   "cell_type": "code",
   "execution_count": 6,
   "id": "d03bdd29",
   "metadata": {},
   "outputs": [
    {
     "data": {
      "text/html": [
       "<div>\n",
       "<style scoped>\n",
       "    .dataframe tbody tr th:only-of-type {\n",
       "        vertical-align: middle;\n",
       "    }\n",
       "\n",
       "    .dataframe tbody tr th {\n",
       "        vertical-align: top;\n",
       "    }\n",
       "\n",
       "    .dataframe thead th {\n",
       "        text-align: right;\n",
       "    }\n",
       "</style>\n",
       "<table border=\"1\" class=\"dataframe\">\n",
       "  <thead>\n",
       "    <tr style=\"text-align: right;\">\n",
       "      <th></th>\n",
       "      <th>Column1</th>\n",
       "      <th>Internalpatientid</th>\n",
       "      <th>Age at measurement bp</th>\n",
       "      <th>Measurement date</th>\n",
       "      <th>Diastolic bp</th>\n",
       "      <th>Systolic bp</th>\n",
       "      <th>State</th>\n",
       "    </tr>\n",
       "  </thead>\n",
       "  <tbody>\n",
       "    <tr>\n",
       "      <th>0</th>\n",
       "      <td>110</td>\n",
       "      <td>100012</td>\n",
       "      <td>53.086669</td>\n",
       "      <td>2002-08-02 04:15:26</td>\n",
       "      <td>75.0</td>\n",
       "      <td>137.0</td>\n",
       "      <td>New Mexico</td>\n",
       "    </tr>\n",
       "    <tr>\n",
       "      <th>1</th>\n",
       "      <td>111</td>\n",
       "      <td>100012</td>\n",
       "      <td>53.583655</td>\n",
       "      <td>2003-01-30 19:49:29</td>\n",
       "      <td>87.0</td>\n",
       "      <td>161.0</td>\n",
       "      <td>New Mexico</td>\n",
       "    </tr>\n",
       "    <tr>\n",
       "      <th>2</th>\n",
       "      <td>112</td>\n",
       "      <td>100012</td>\n",
       "      <td>53.837326</td>\n",
       "      <td>2003-05-03 13:01:16</td>\n",
       "      <td>77.0</td>\n",
       "      <td>144.0</td>\n",
       "      <td>New Mexico</td>\n",
       "    </tr>\n",
       "    <tr>\n",
       "      <th>3</th>\n",
       "      <td>113</td>\n",
       "      <td>100012</td>\n",
       "      <td>53.898581</td>\n",
       "      <td>2003-05-25 22:21:03</td>\n",
       "      <td>73.0</td>\n",
       "      <td>136.0</td>\n",
       "      <td>New Mexico</td>\n",
       "    </tr>\n",
       "    <tr>\n",
       "      <th>4</th>\n",
       "      <td>114</td>\n",
       "      <td>100012</td>\n",
       "      <td>54.044102</td>\n",
       "      <td>2003-07-18 02:51:48</td>\n",
       "      <td>68.0</td>\n",
       "      <td>143.0</td>\n",
       "      <td>New Mexico</td>\n",
       "    </tr>\n",
       "  </tbody>\n",
       "</table>\n",
       "</div>"
      ],
      "text/plain": [
       "   Column1  Internalpatientid  Age at measurement bp    Measurement date  \\\n",
       "0      110             100012              53.086669 2002-08-02 04:15:26   \n",
       "1      111             100012              53.583655 2003-01-30 19:49:29   \n",
       "2      112             100012              53.837326 2003-05-03 13:01:16   \n",
       "3      113             100012              53.898581 2003-05-25 22:21:03   \n",
       "4      114             100012              54.044102 2003-07-18 02:51:48   \n",
       "\n",
       "   Diastolic bp  Systolic bp       State  \n",
       "0          75.0        137.0  New Mexico  \n",
       "1          87.0        161.0  New Mexico  \n",
       "2          77.0        144.0  New Mexico  \n",
       "3          73.0        136.0  New Mexico  \n",
       "4          68.0        143.0  New Mexico  "
      ]
     },
     "execution_count": 6,
     "metadata": {},
     "output_type": "execute_result"
    }
   ],
   "source": [
    "measurements_blood_pressure_qual_data.head()"
   ]
  },
  {
   "cell_type": "markdown",
   "id": "fe7ea5ca",
   "metadata": {},
   "source": [
    "## **Importing Libraries**"
   ]
  },
  {
   "cell_type": "code",
   "execution_count": 7,
   "id": "1eaf7fac",
   "metadata": {},
   "outputs": [],
   "source": [
    "# Importing essential libraries\n",
    "import pandas as pd        # Library for data manipulation and analysis\n",
    "import numpy as np         # Library for mathematical operations"
   ]
  },
  {
   "cell_type": "markdown",
   "id": "26350eae",
   "metadata": {},
   "source": [
    "## **Data Exploration**"
   ]
  },
  {
   "cell_type": "code",
   "execution_count": 8,
   "id": "f2ecd993",
   "metadata": {},
   "outputs": [],
   "source": [
    "# changing variable name for dataframe\n",
    "df = measurements_blood_pressure_qual_data"
   ]
  },
  {
   "cell_type": "code",
   "execution_count": 9,
   "id": "5baf1d0c",
   "metadata": {},
   "outputs": [
    {
     "data": {
      "text/html": [
       "<div>\n",
       "<style scoped>\n",
       "    .dataframe tbody tr th:only-of-type {\n",
       "        vertical-align: middle;\n",
       "    }\n",
       "\n",
       "    .dataframe tbody tr th {\n",
       "        vertical-align: top;\n",
       "    }\n",
       "\n",
       "    .dataframe thead th {\n",
       "        text-align: right;\n",
       "    }\n",
       "</style>\n",
       "<table border=\"1\" class=\"dataframe\">\n",
       "  <thead>\n",
       "    <tr style=\"text-align: right;\">\n",
       "      <th></th>\n",
       "      <th>Column1</th>\n",
       "      <th>Internalpatientid</th>\n",
       "      <th>Age at measurement bp</th>\n",
       "      <th>Measurement date</th>\n",
       "      <th>Diastolic bp</th>\n",
       "      <th>Systolic bp</th>\n",
       "      <th>State</th>\n",
       "    </tr>\n",
       "  </thead>\n",
       "  <tbody>\n",
       "    <tr>\n",
       "      <th>0</th>\n",
       "      <td>110</td>\n",
       "      <td>100012</td>\n",
       "      <td>53.086669</td>\n",
       "      <td>2002-08-02 04:15:26</td>\n",
       "      <td>75.0</td>\n",
       "      <td>137.0</td>\n",
       "      <td>New Mexico</td>\n",
       "    </tr>\n",
       "    <tr>\n",
       "      <th>1</th>\n",
       "      <td>111</td>\n",
       "      <td>100012</td>\n",
       "      <td>53.583655</td>\n",
       "      <td>2003-01-30 19:49:29</td>\n",
       "      <td>87.0</td>\n",
       "      <td>161.0</td>\n",
       "      <td>New Mexico</td>\n",
       "    </tr>\n",
       "    <tr>\n",
       "      <th>2</th>\n",
       "      <td>112</td>\n",
       "      <td>100012</td>\n",
       "      <td>53.837326</td>\n",
       "      <td>2003-05-03 13:01:16</td>\n",
       "      <td>77.0</td>\n",
       "      <td>144.0</td>\n",
       "      <td>New Mexico</td>\n",
       "    </tr>\n",
       "    <tr>\n",
       "      <th>3</th>\n",
       "      <td>113</td>\n",
       "      <td>100012</td>\n",
       "      <td>53.898581</td>\n",
       "      <td>2003-05-25 22:21:03</td>\n",
       "      <td>73.0</td>\n",
       "      <td>136.0</td>\n",
       "      <td>New Mexico</td>\n",
       "    </tr>\n",
       "    <tr>\n",
       "      <th>4</th>\n",
       "      <td>114</td>\n",
       "      <td>100012</td>\n",
       "      <td>54.044102</td>\n",
       "      <td>2003-07-18 02:51:48</td>\n",
       "      <td>68.0</td>\n",
       "      <td>143.0</td>\n",
       "      <td>New Mexico</td>\n",
       "    </tr>\n",
       "  </tbody>\n",
       "</table>\n",
       "</div>"
      ],
      "text/plain": [
       "   Column1  Internalpatientid  Age at measurement bp    Measurement date  \\\n",
       "0      110             100012              53.086669 2002-08-02 04:15:26   \n",
       "1      111             100012              53.583655 2003-01-30 19:49:29   \n",
       "2      112             100012              53.837326 2003-05-03 13:01:16   \n",
       "3      113             100012              53.898581 2003-05-25 22:21:03   \n",
       "4      114             100012              54.044102 2003-07-18 02:51:48   \n",
       "\n",
       "   Diastolic bp  Systolic bp       State  \n",
       "0          75.0        137.0  New Mexico  \n",
       "1          87.0        161.0  New Mexico  \n",
       "2          77.0        144.0  New Mexico  \n",
       "3          73.0        136.0  New Mexico  \n",
       "4          68.0        143.0  New Mexico  "
      ]
     },
     "execution_count": 9,
     "metadata": {},
     "output_type": "execute_result"
    }
   ],
   "source": [
    "# Display the first few rows of a DataFrame\n",
    "df.head()"
   ]
  },
  {
   "cell_type": "code",
   "execution_count": 10,
   "id": "071e61eb",
   "metadata": {},
   "outputs": [
    {
     "name": "stdout",
     "output_type": "stream",
     "text": [
      "Number of rows: 192324\n",
      "Number of columns: 7\n"
     ]
    }
   ],
   "source": [
    "# Shape of the dataset\n",
    "df.shape\n",
    "\n",
    "num_rows = df.shape[0]  # Number of rows\n",
    "num_cols = df.shape[1]  # Number of columns\n",
    "\n",
    "print(\"Number of rows:\", num_rows)\n",
    "print(\"Number of columns:\", num_cols)"
   ]
  },
  {
   "cell_type": "code",
   "execution_count": 11,
   "id": "1395ea76",
   "metadata": {},
   "outputs": [
    {
     "data": {
      "text/plain": [
       "993"
      ]
     },
     "execution_count": 11,
     "metadata": {},
     "output_type": "execute_result"
    }
   ],
   "source": [
    "# Get the number of unique values in the 'Internalpatientid' column\n",
    "df['Internalpatientid'].nunique()"
   ]
  },
  {
   "cell_type": "code",
   "execution_count": 12,
   "id": "2a1115a8",
   "metadata": {},
   "outputs": [
    {
     "name": "stdout",
     "output_type": "stream",
     "text": [
      "<class 'pandas.core.frame.DataFrame'>\n",
      "RangeIndex: 192324 entries, 0 to 192323\n",
      "Data columns (total 7 columns):\n",
      " #   Column                 Non-Null Count   Dtype         \n",
      "---  ------                 --------------   -----         \n",
      " 0   Column1                192324 non-null  int64         \n",
      " 1   Internalpatientid      192324 non-null  int64         \n",
      " 2   Age at measurement bp  192324 non-null  float64       \n",
      " 3   Measurement date       192324 non-null  datetime64[ns]\n",
      " 4   Diastolic bp           192324 non-null  float64       \n",
      " 5   Systolic bp            192324 non-null  float64       \n",
      " 6   State                  192324 non-null  object        \n",
      "dtypes: datetime64[ns](1), float64(3), int64(2), object(1)\n",
      "memory usage: 10.3+ MB\n"
     ]
    }
   ],
   "source": [
    "# Display the concise summary of the DataFrame\n",
    "df.info()"
   ]
  },
  {
   "cell_type": "markdown",
   "id": "1319e9ab",
   "metadata": {},
   "source": [
    "- The 'Internalpatientid' column contains integer values, and the columns for 'Age at measurement bp', 'Diastolic bp' and 'Systolic bp' are in float format, while the rest of the features are in object format."
   ]
  },
  {
   "cell_type": "markdown",
   "id": "6c4042f8",
   "metadata": {},
   "source": [
    "## **Checking Missing Values**"
   ]
  },
  {
   "cell_type": "code",
   "execution_count": 13,
   "id": "2e9ac3a8",
   "metadata": {},
   "outputs": [
    {
     "data": {
      "text/plain": [
       "Column1                  0\n",
       "Internalpatientid        0\n",
       "Age at measurement bp    0\n",
       "Measurement date         0\n",
       "Diastolic bp             0\n",
       "Systolic bp              0\n",
       "State                    0\n",
       "dtype: int64"
      ]
     },
     "execution_count": 13,
     "metadata": {},
     "output_type": "execute_result"
    }
   ],
   "source": [
    "# Count the number of missing values in each column\n",
    "df.isnull().sum()"
   ]
  },
  {
   "cell_type": "markdown",
   "id": "f746a61f",
   "metadata": {},
   "source": [
    "- There is no missing value in this file."
   ]
  },
  {
   "cell_type": "markdown",
   "id": "6715568f",
   "metadata": {},
   "source": [
    "## **Data Preprocessing**"
   ]
  },
  {
   "cell_type": "code",
   "execution_count": 14,
   "id": "2de47d09",
   "metadata": {},
   "outputs": [],
   "source": [
    "# changing variable name for dataframe\n",
    "measurement_bp = df"
   ]
  },
  {
   "cell_type": "code",
   "execution_count": 15,
   "id": "6b009d60",
   "metadata": {},
   "outputs": [],
   "source": [
    "# Drop the specified columns from the DataFrame\n",
    "measurement_bp.drop(['Column1','Measurement date','State'], axis=1,inplace=True)"
   ]
  },
  {
   "cell_type": "code",
   "execution_count": 16,
   "id": "c69d47ad",
   "metadata": {},
   "outputs": [
    {
     "data": {
      "text/html": [
       "<div>\n",
       "<style scoped>\n",
       "    .dataframe tbody tr th:only-of-type {\n",
       "        vertical-align: middle;\n",
       "    }\n",
       "\n",
       "    .dataframe tbody tr th {\n",
       "        vertical-align: top;\n",
       "    }\n",
       "\n",
       "    .dataframe thead th {\n",
       "        text-align: right;\n",
       "    }\n",
       "</style>\n",
       "<table border=\"1\" class=\"dataframe\">\n",
       "  <thead>\n",
       "    <tr style=\"text-align: right;\">\n",
       "      <th></th>\n",
       "      <th>Internalpatientid</th>\n",
       "      <th>Age at measurement bp</th>\n",
       "      <th>Diastolic bp</th>\n",
       "      <th>Systolic bp</th>\n",
       "    </tr>\n",
       "  </thead>\n",
       "  <tbody>\n",
       "    <tr>\n",
       "      <th>0</th>\n",
       "      <td>100012</td>\n",
       "      <td>53.086669</td>\n",
       "      <td>75.0</td>\n",
       "      <td>137.0</td>\n",
       "    </tr>\n",
       "    <tr>\n",
       "      <th>1</th>\n",
       "      <td>100012</td>\n",
       "      <td>53.583655</td>\n",
       "      <td>87.0</td>\n",
       "      <td>161.0</td>\n",
       "    </tr>\n",
       "    <tr>\n",
       "      <th>2</th>\n",
       "      <td>100012</td>\n",
       "      <td>53.837326</td>\n",
       "      <td>77.0</td>\n",
       "      <td>144.0</td>\n",
       "    </tr>\n",
       "    <tr>\n",
       "      <th>3</th>\n",
       "      <td>100012</td>\n",
       "      <td>53.898581</td>\n",
       "      <td>73.0</td>\n",
       "      <td>136.0</td>\n",
       "    </tr>\n",
       "    <tr>\n",
       "      <th>4</th>\n",
       "      <td>100012</td>\n",
       "      <td>54.044102</td>\n",
       "      <td>68.0</td>\n",
       "      <td>143.0</td>\n",
       "    </tr>\n",
       "  </tbody>\n",
       "</table>\n",
       "</div>"
      ],
      "text/plain": [
       "   Internalpatientid  Age at measurement bp  Diastolic bp  Systolic bp\n",
       "0             100012              53.086669          75.0        137.0\n",
       "1             100012              53.583655          87.0        161.0\n",
       "2             100012              53.837326          77.0        144.0\n",
       "3             100012              53.898581          73.0        136.0\n",
       "4             100012              54.044102          68.0        143.0"
      ]
     },
     "execution_count": 16,
     "metadata": {},
     "output_type": "execute_result"
    }
   ],
   "source": [
    "measurement_bp.head()"
   ]
  },
  {
   "cell_type": "markdown",
   "id": "a12fbec9-65f8-4b07-933f-ce2b2ef25ee6",
   "metadata": {},
   "source": [
    "### Checking Minimum and Maximum for Potential Columns"
   ]
  },
  {
   "cell_type": "code",
   "execution_count": 17,
   "id": "a8380ca0-991e-4aea-b516-f294110a260d",
   "metadata": {},
   "outputs": [
    {
     "name": "stdout",
     "output_type": "stream",
     "text": [
      "Systolic bp:\n",
      "Maximum value: 293.0\n",
      "Minimum value: 46.0\n",
      "--------------------\n",
      "Diastolic bp:\n",
      "Maximum value: 192.0\n",
      "Minimum value: 30.0\n"
     ]
    }
   ],
   "source": [
    "# Checking maximum and minimum values for Systolic and Diastolic bp columns\n",
    "max_systolic_bp = measurement_bp['Systolic bp'].max()\n",
    "min_systolic_bp = measurement_bp['Systolic bp'].min()\n",
    "\n",
    "max_diastolic_bp = measurement_bp['Diastolic bp'].max()\n",
    "min_diastolic_bp = measurement_bp['Diastolic bp'].min()\n",
    "\n",
    "print(\"Systolic bp:\")\n",
    "print(f\"Maximum value: {max_systolic_bp}\")\n",
    "print(f\"Minimum value: {min_systolic_bp}\")\n",
    "print(\"--------------------\")\n",
    "print(\"Diastolic bp:\")\n",
    "print(f\"Maximum value: {max_diastolic_bp}\")\n",
    "print(f\"Minimum value: {min_diastolic_bp}\")"
   ]
  },
  {
   "cell_type": "markdown",
   "id": "233db7f2-1ced-44a4-9b9b-e777788f1668",
   "metadata": {},
   "source": [
    "### Removing Outliers in Systolic and Diastolic bp"
   ]
  },
  {
   "cell_type": "code",
   "execution_count": 18,
   "id": "d08ea89b-57fe-4f6d-8075-46967ce9c3d8",
   "metadata": {},
   "outputs": [
    {
     "data": {
      "text/html": [
       "<div>\n",
       "<style scoped>\n",
       "    .dataframe tbody tr th:only-of-type {\n",
       "        vertical-align: middle;\n",
       "    }\n",
       "\n",
       "    .dataframe tbody tr th {\n",
       "        vertical-align: top;\n",
       "    }\n",
       "\n",
       "    .dataframe thead th {\n",
       "        text-align: right;\n",
       "    }\n",
       "</style>\n",
       "<table border=\"1\" class=\"dataframe\">\n",
       "  <thead>\n",
       "    <tr style=\"text-align: right;\">\n",
       "      <th></th>\n",
       "      <th>Internalpatientid</th>\n",
       "      <th>Age at measurement bp</th>\n",
       "      <th>Diastolic bp</th>\n",
       "      <th>Systolic bp</th>\n",
       "    </tr>\n",
       "  </thead>\n",
       "  <tbody>\n",
       "    <tr>\n",
       "      <th>0</th>\n",
       "      <td>100012</td>\n",
       "      <td>53.086669</td>\n",
       "      <td>75.0</td>\n",
       "      <td>137.0</td>\n",
       "    </tr>\n",
       "    <tr>\n",
       "      <th>1</th>\n",
       "      <td>100012</td>\n",
       "      <td>53.583655</td>\n",
       "      <td>87.0</td>\n",
       "      <td>161.0</td>\n",
       "    </tr>\n",
       "    <tr>\n",
       "      <th>2</th>\n",
       "      <td>100012</td>\n",
       "      <td>53.837326</td>\n",
       "      <td>77.0</td>\n",
       "      <td>144.0</td>\n",
       "    </tr>\n",
       "    <tr>\n",
       "      <th>3</th>\n",
       "      <td>100012</td>\n",
       "      <td>53.898581</td>\n",
       "      <td>73.0</td>\n",
       "      <td>136.0</td>\n",
       "    </tr>\n",
       "    <tr>\n",
       "      <th>4</th>\n",
       "      <td>100012</td>\n",
       "      <td>54.044102</td>\n",
       "      <td>68.0</td>\n",
       "      <td>143.0</td>\n",
       "    </tr>\n",
       "    <tr>\n",
       "      <th>...</th>\n",
       "      <td>...</td>\n",
       "      <td>...</td>\n",
       "      <td>...</td>\n",
       "      <td>...</td>\n",
       "    </tr>\n",
       "    <tr>\n",
       "      <th>185967</th>\n",
       "      <td>99941</td>\n",
       "      <td>70.999496</td>\n",
       "      <td>71.0</td>\n",
       "      <td>148.0</td>\n",
       "    </tr>\n",
       "    <tr>\n",
       "      <th>185968</th>\n",
       "      <td>99941</td>\n",
       "      <td>73.381373</td>\n",
       "      <td>81.0</td>\n",
       "      <td>153.0</td>\n",
       "    </tr>\n",
       "    <tr>\n",
       "      <th>185969</th>\n",
       "      <td>99941</td>\n",
       "      <td>73.384256</td>\n",
       "      <td>63.0</td>\n",
       "      <td>120.0</td>\n",
       "    </tr>\n",
       "    <tr>\n",
       "      <th>185970</th>\n",
       "      <td>99944</td>\n",
       "      <td>80.132857</td>\n",
       "      <td>63.0</td>\n",
       "      <td>130.0</td>\n",
       "    </tr>\n",
       "    <tr>\n",
       "      <th>185971</th>\n",
       "      <td>99944</td>\n",
       "      <td>80.630428</td>\n",
       "      <td>59.0</td>\n",
       "      <td>117.0</td>\n",
       "    </tr>\n",
       "  </tbody>\n",
       "</table>\n",
       "<p>185972 rows × 4 columns</p>\n",
       "</div>"
      ],
      "text/plain": [
       "        Internalpatientid  Age at measurement bp  Diastolic bp  Systolic bp\n",
       "0                  100012              53.086669          75.0        137.0\n",
       "1                  100012              53.583655          87.0        161.0\n",
       "2                  100012              53.837326          77.0        144.0\n",
       "3                  100012              53.898581          73.0        136.0\n",
       "4                  100012              54.044102          68.0        143.0\n",
       "...                   ...                    ...           ...          ...\n",
       "185967              99941              70.999496          71.0        148.0\n",
       "185968              99941              73.381373          81.0        153.0\n",
       "185969              99941              73.384256          63.0        120.0\n",
       "185970              99944              80.132857          63.0        130.0\n",
       "185971              99944              80.630428          59.0        117.0\n",
       "\n",
       "[185972 rows x 4 columns]"
      ]
     },
     "execution_count": 18,
     "metadata": {},
     "output_type": "execute_result"
    }
   ],
   "source": [
    "# Apply the filters for 'Diastolic bp' and 'Systolic bp'\n",
    "filtered_data = measurement_bp[(measurement_bp['Diastolic bp'] >= 50) & (measurement_bp['Diastolic bp'] <= 150) & (measurement_bp['Systolic bp'] >= 80) & (measurement_bp['Systolic bp'] <= 200)]\n",
    "\n",
    "# Reset the index of the filtered data\n",
    "filtered_data_bp = filtered_data.reset_index(drop=True)\n",
    "\n",
    "# Display the final filtered dataframe\n",
    "filtered_data_bp"
   ]
  },
  {
   "cell_type": "code",
   "execution_count": 19,
   "id": "5de9dba5-9fac-4c53-b10c-138cb9d875d8",
   "metadata": {},
   "outputs": [
    {
     "name": "stdout",
     "output_type": "stream",
     "text": [
      "Systolic bp:\n",
      "Maximum value: 200.0\n",
      "Minimum value: 80.0\n",
      "--------------------\n",
      "Diastolic bp:\n",
      "Maximum value: 150.0\n",
      "Minimum value: 50.0\n"
     ]
    }
   ],
   "source": [
    "max_systolic_bp = filtered_data_bp['Systolic bp'].max()\n",
    "min_systolic_bp = filtered_data_bp['Systolic bp'].min()\n",
    "\n",
    "max_diastolic_bp = filtered_data_bp['Diastolic bp'].max()\n",
    "min_diastolic_bp = filtered_data_bp['Diastolic bp'].min()\n",
    "\n",
    "print(\"Systolic bp:\")\n",
    "print(f\"Maximum value: {max_systolic_bp}\")\n",
    "print(f\"Minimum value: {min_systolic_bp}\")\n",
    "print(\"--------------------\")\n",
    "print(\"Diastolic bp:\")\n",
    "print(f\"Maximum value: {max_diastolic_bp}\")\n",
    "print(f\"Minimum value: {min_diastolic_bp}\")"
   ]
  },
  {
   "cell_type": "code",
   "execution_count": 20,
   "id": "bed5515a-b8f3-49ed-9ef2-86f6f50cc518",
   "metadata": {},
   "outputs": [
    {
     "data": {
      "text/plain": [
       "993"
      ]
     },
     "execution_count": 20,
     "metadata": {},
     "output_type": "execute_result"
    }
   ],
   "source": [
    "filtered_data_bp['Internalpatientid'].nunique()"
   ]
  },
  {
   "cell_type": "markdown",
   "id": "ddc2eeaa-6be6-4133-ae40-e0e08f06ff26",
   "metadata": {},
   "source": [
    "### Getting Maximum Age for each 'Internalpatientid'"
   ]
  },
  {
   "cell_type": "code",
   "execution_count": 21,
   "id": "4ff260ff-3d6a-4de4-b035-4d35ae370fe8",
   "metadata": {},
   "outputs": [],
   "source": [
    "# Find the maximum age for each internal patient id\n",
    "max_ages = filtered_data_bp.groupby('Internalpatientid')['Age at measurement bp'].max().reset_index()"
   ]
  },
  {
   "cell_type": "code",
   "execution_count": 22,
   "id": "383cbe2e-ffe5-4d2d-b759-cae3743ca267",
   "metadata": {},
   "outputs": [
    {
     "data": {
      "text/html": [
       "<div>\n",
       "<style scoped>\n",
       "    .dataframe tbody tr th:only-of-type {\n",
       "        vertical-align: middle;\n",
       "    }\n",
       "\n",
       "    .dataframe tbody tr th {\n",
       "        vertical-align: top;\n",
       "    }\n",
       "\n",
       "    .dataframe thead th {\n",
       "        text-align: right;\n",
       "    }\n",
       "</style>\n",
       "<table border=\"1\" class=\"dataframe\">\n",
       "  <thead>\n",
       "    <tr style=\"text-align: right;\">\n",
       "      <th></th>\n",
       "      <th>Internalpatientid</th>\n",
       "      <th>Age at measurement bp</th>\n",
       "      <th>Diastolic bp</th>\n",
       "      <th>Systolic bp</th>\n",
       "    </tr>\n",
       "  </thead>\n",
       "  <tbody>\n",
       "    <tr>\n",
       "      <th>0</th>\n",
       "      <td>100012</td>\n",
       "      <td>73.030604</td>\n",
       "      <td>68.0</td>\n",
       "      <td>114.0</td>\n",
       "    </tr>\n",
       "    <tr>\n",
       "      <th>1</th>\n",
       "      <td>100229</td>\n",
       "      <td>82.852885</td>\n",
       "      <td>68.0</td>\n",
       "      <td>187.0</td>\n",
       "    </tr>\n",
       "    <tr>\n",
       "      <th>2</th>\n",
       "      <td>100314</td>\n",
       "      <td>74.346569</td>\n",
       "      <td>51.0</td>\n",
       "      <td>102.0</td>\n",
       "    </tr>\n",
       "    <tr>\n",
       "      <th>3</th>\n",
       "      <td>100694</td>\n",
       "      <td>90.700582</td>\n",
       "      <td>75.0</td>\n",
       "      <td>128.0</td>\n",
       "    </tr>\n",
       "    <tr>\n",
       "      <th>4</th>\n",
       "      <td>101530</td>\n",
       "      <td>89.520523</td>\n",
       "      <td>64.0</td>\n",
       "      <td>95.0</td>\n",
       "    </tr>\n",
       "    <tr>\n",
       "      <th>...</th>\n",
       "      <td>...</td>\n",
       "      <td>...</td>\n",
       "      <td>...</td>\n",
       "      <td>...</td>\n",
       "    </tr>\n",
       "    <tr>\n",
       "      <th>988</th>\n",
       "      <td>93550</td>\n",
       "      <td>91.507833</td>\n",
       "      <td>54.0</td>\n",
       "      <td>133.0</td>\n",
       "    </tr>\n",
       "    <tr>\n",
       "      <th>989</th>\n",
       "      <td>9535</td>\n",
       "      <td>76.290901</td>\n",
       "      <td>80.0</td>\n",
       "      <td>126.0</td>\n",
       "    </tr>\n",
       "    <tr>\n",
       "      <th>990</th>\n",
       "      <td>94080</td>\n",
       "      <td>76.136998</td>\n",
       "      <td>54.0</td>\n",
       "      <td>112.0</td>\n",
       "    </tr>\n",
       "    <tr>\n",
       "      <th>991</th>\n",
       "      <td>98416</td>\n",
       "      <td>78.998030</td>\n",
       "      <td>85.0</td>\n",
       "      <td>195.0</td>\n",
       "    </tr>\n",
       "    <tr>\n",
       "      <th>992</th>\n",
       "      <td>99944</td>\n",
       "      <td>82.257091</td>\n",
       "      <td>71.0</td>\n",
       "      <td>100.0</td>\n",
       "    </tr>\n",
       "  </tbody>\n",
       "</table>\n",
       "<p>993 rows × 4 columns</p>\n",
       "</div>"
      ],
      "text/plain": [
       "     Internalpatientid  Age at measurement bp  Diastolic bp  Systolic bp\n",
       "0               100012              73.030604          68.0        114.0\n",
       "1               100229              82.852885          68.0        187.0\n",
       "2               100314              74.346569          51.0        102.0\n",
       "3               100694              90.700582          75.0        128.0\n",
       "4               101530              89.520523          64.0         95.0\n",
       "..                 ...                    ...           ...          ...\n",
       "988              93550              91.507833          54.0        133.0\n",
       "989               9535              76.290901          80.0        126.0\n",
       "990              94080              76.136998          54.0        112.0\n",
       "991              98416              78.998030          85.0        195.0\n",
       "992              99944              82.257091          71.0        100.0\n",
       "\n",
       "[993 rows x 4 columns]"
      ]
     },
     "execution_count": 22,
     "metadata": {},
     "output_type": "execute_result"
    }
   ],
   "source": [
    "# Merge with the original dataframe to get the rows with the highest age\n",
    "measurement_bp = pd.merge(df, max_ages, on =['Internalpatientid','Age at measurement bp'], how = 'inner')\n",
    "\n",
    "measurement_bp"
   ]
  },
  {
   "cell_type": "code",
   "execution_count": 23,
   "id": "77f7e263-b4d3-400b-9bf5-c53196ad61d0",
   "metadata": {},
   "outputs": [
    {
     "data": {
      "text/plain": [
       "993"
      ]
     },
     "execution_count": 23,
     "metadata": {},
     "output_type": "execute_result"
    }
   ],
   "source": [
    "measurement_bp['Internalpatientid'].nunique()"
   ]
  },
  {
   "cell_type": "code",
   "execution_count": 24,
   "id": "339ec1e1-316a-45a4-8303-e3e0691b2876",
   "metadata": {},
   "outputs": [],
   "source": [
    "# Drop the specified columns from the DataFrame\n",
    "measurement_bp.drop(['Age at measurement bp'], axis=1,inplace=True)"
   ]
  },
  {
   "cell_type": "code",
   "execution_count": 25,
   "id": "f378603c-e3f1-4653-9b8f-73337fd8c7b1",
   "metadata": {},
   "outputs": [
    {
     "data": {
      "text/html": [
       "<div>\n",
       "<style scoped>\n",
       "    .dataframe tbody tr th:only-of-type {\n",
       "        vertical-align: middle;\n",
       "    }\n",
       "\n",
       "    .dataframe tbody tr th {\n",
       "        vertical-align: top;\n",
       "    }\n",
       "\n",
       "    .dataframe thead th {\n",
       "        text-align: right;\n",
       "    }\n",
       "</style>\n",
       "<table border=\"1\" class=\"dataframe\">\n",
       "  <thead>\n",
       "    <tr style=\"text-align: right;\">\n",
       "      <th></th>\n",
       "      <th>Internalpatientid</th>\n",
       "      <th>Diastolic bp</th>\n",
       "      <th>Systolic bp</th>\n",
       "    </tr>\n",
       "  </thead>\n",
       "  <tbody>\n",
       "    <tr>\n",
       "      <th>0</th>\n",
       "      <td>100012</td>\n",
       "      <td>68.0</td>\n",
       "      <td>114.0</td>\n",
       "    </tr>\n",
       "    <tr>\n",
       "      <th>1</th>\n",
       "      <td>100229</td>\n",
       "      <td>68.0</td>\n",
       "      <td>187.0</td>\n",
       "    </tr>\n",
       "    <tr>\n",
       "      <th>2</th>\n",
       "      <td>100314</td>\n",
       "      <td>51.0</td>\n",
       "      <td>102.0</td>\n",
       "    </tr>\n",
       "    <tr>\n",
       "      <th>3</th>\n",
       "      <td>100694</td>\n",
       "      <td>75.0</td>\n",
       "      <td>128.0</td>\n",
       "    </tr>\n",
       "    <tr>\n",
       "      <th>4</th>\n",
       "      <td>101530</td>\n",
       "      <td>64.0</td>\n",
       "      <td>95.0</td>\n",
       "    </tr>\n",
       "    <tr>\n",
       "      <th>...</th>\n",
       "      <td>...</td>\n",
       "      <td>...</td>\n",
       "      <td>...</td>\n",
       "    </tr>\n",
       "    <tr>\n",
       "      <th>988</th>\n",
       "      <td>93550</td>\n",
       "      <td>54.0</td>\n",
       "      <td>133.0</td>\n",
       "    </tr>\n",
       "    <tr>\n",
       "      <th>989</th>\n",
       "      <td>9535</td>\n",
       "      <td>80.0</td>\n",
       "      <td>126.0</td>\n",
       "    </tr>\n",
       "    <tr>\n",
       "      <th>990</th>\n",
       "      <td>94080</td>\n",
       "      <td>54.0</td>\n",
       "      <td>112.0</td>\n",
       "    </tr>\n",
       "    <tr>\n",
       "      <th>991</th>\n",
       "      <td>98416</td>\n",
       "      <td>85.0</td>\n",
       "      <td>195.0</td>\n",
       "    </tr>\n",
       "    <tr>\n",
       "      <th>992</th>\n",
       "      <td>99944</td>\n",
       "      <td>71.0</td>\n",
       "      <td>100.0</td>\n",
       "    </tr>\n",
       "  </tbody>\n",
       "</table>\n",
       "<p>993 rows × 3 columns</p>\n",
       "</div>"
      ],
      "text/plain": [
       "     Internalpatientid  Diastolic bp  Systolic bp\n",
       "0               100012          68.0        114.0\n",
       "1               100229          68.0        187.0\n",
       "2               100314          51.0        102.0\n",
       "3               100694          75.0        128.0\n",
       "4               101530          64.0         95.0\n",
       "..                 ...           ...          ...\n",
       "988              93550          54.0        133.0\n",
       "989               9535          80.0        126.0\n",
       "990              94080          54.0        112.0\n",
       "991              98416          85.0        195.0\n",
       "992              99944          71.0        100.0\n",
       "\n",
       "[993 rows x 3 columns]"
      ]
     },
     "execution_count": 25,
     "metadata": {},
     "output_type": "execute_result"
    }
   ],
   "source": [
    "measurement_bp"
   ]
  },
  {
   "cell_type": "markdown",
   "id": "82658833-0594-421b-836b-9c9209733317",
   "metadata": {},
   "source": [
    "### **Saving Measurement blood pressure file**"
   ]
  },
  {
   "cell_type": "code",
   "execution_count": 26,
   "id": "18ca6869-fc0f-4d50-9243-8e456934bcdc",
   "metadata": {},
   "outputs": [
    {
     "data": {
      "text/plain": [
       "'/mnt/batch/tasks/shared/LS_root/mounts/clusters/team3-lavanya-gpu2/code/Users/2211574/Best_Files'"
      ]
     },
     "execution_count": 26,
     "metadata": {},
     "output_type": "execute_result"
    }
   ],
   "source": [
    "import os\n",
    "cwd = os.getcwd()\n",
    "cwd"
   ]
  },
  {
   "cell_type": "code",
   "execution_count": 28,
   "id": "cddc2101-3cf9-45e8-86aa-f77cd9637968",
   "metadata": {},
   "outputs": [],
   "source": [
    "measurement_bp.to_csv('/mnt/batch/tasks/shared/LS_root/mounts/clusters/team3-lavanya-gpu2/code/Users/900379/Output_files_quality/df_measurement_blood_pressure_qual_v1.csv')"
   ]
  },
  {
   "cell_type": "markdown",
   "id": "c335f6b4",
   "metadata": {},
   "source": [
    "------"
   ]
  },
  {
   "cell_type": "code",
   "execution_count": null,
   "id": "9ff1fce1-5e7d-4f66-90da-96faacbb7fe1",
   "metadata": {},
   "outputs": [],
   "source": []
  }
 ],
 "metadata": {
  "kernelspec": {
   "display_name": "Python 3.8 - AzureML",
   "language": "python",
   "name": "python38-azureml"
  },
  "language_info": {
   "codemirror_mode": {
    "name": "ipython",
    "version": 3
   },
   "file_extension": ".py",
   "mimetype": "text/x-python",
   "name": "python",
   "nbconvert_exporter": "python",
   "pygments_lexer": "ipython3",
   "version": "3.8.5"
  }
 },
 "nbformat": 4,
 "nbformat_minor": 5
}
