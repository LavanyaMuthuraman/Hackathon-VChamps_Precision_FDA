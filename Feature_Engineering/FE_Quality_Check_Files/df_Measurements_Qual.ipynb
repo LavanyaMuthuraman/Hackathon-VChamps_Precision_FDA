{
 "cells": [
  {
   "cell_type": "markdown",
   "id": "f290af89-7668-42e7-9a6a-1ae005b4cf58",
   "metadata": {},
   "source": [
    "---\n",
    "# **Measurements Quality File**\n",
    "---"
   ]
  },
  {
   "cell_type": "markdown",
   "id": "225bb250",
   "metadata": {},
   "source": [
    "## **Dataset Description:**\n",
    "\n",
    "- **Internalpatientid:** It represents an internal identifier for each patient. It is likely a unique identifier assigned to each individual in the dataset.\n",
    "- **Age at measurement:** This column denotes the age of the patient at the time of the measurement. It provides information about the patient's age in a numeric format.\n",
    "- **Measurement date:** It indicates the date and time when the measurement was taken. It provides the timestamp of the measurement in a specific format.\n",
    "- **Measurement:** This column specifies the type of measurement that was taken. It could include various types of health measurements such as pulse, weight, blood pressure, respiratory rate, pain level, etc.\n",
    "- **Result numeric:** It represents the numeric result of the measurement. It contains the actual numerical value associated with the specific measurement type.\n",
    "- **Result textual:** This column holds the textual representation or description of the measurement result. But it only representing blood pressure value in texual.\n",
    "- **State:** This column indicates the state associated with the measurement. It represents the geographical location or state information where the measurement was recorded.\n"
   ]
  },
  {
   "cell_type": "markdown",
   "id": "97c06abc",
   "metadata": {},
   "source": [
    "### Azure notebook Setup"
   ]
  },
  {
   "cell_type": "code",
   "execution_count": 1,
   "id": "f7478bcf",
   "metadata": {},
   "outputs": [],
   "source": [
    "#A class attribute that provides access to the TabularDatasetFactory methods for creating new TabularDataset objects. \n",
    "#Usage: Dataset.Tabular.from_delimited_files().\n",
    "from azureml.core import Workspace, Dataset\n",
    "\n",
    "subscription_id = 'bcfe0c62-8ebe-4df0-a46d-1efcf8739a5b' #check the launch studio there will get this id\n",
    "resource_group = 'VChamp-Team3' # resource group name\n",
    "workspace_name = 'vchamp-team3' # worksapce name\n",
    "\n",
    "\n",
    "# storage account : Algorithmia, Resource group: VChamp-Team3 and workspace: vchamp-team3.\n",
    "#Constructor\n",
    "workspace = Workspace(subscription_id, resource_group, workspace_name)"
   ]
  },
  {
   "cell_type": "code",
   "execution_count": 2,
   "id": "72141276",
   "metadata": {},
   "outputs": [],
   "source": [
    "#['data_team3_synthetic_train']\n",
    "datastore = workspace.datastores['data_team3_synthetic_quality_check'] "
   ]
  },
  {
   "cell_type": "code",
   "execution_count": 3,
   "id": "a3309cbb",
   "metadata": {},
   "outputs": [],
   "source": [
    "#from_delimited_files (Create a TabularDataset to represent tabular data in delimited files (e.g. CSV and TSV).\n",
    "\n",
    "dataset = Dataset.Tabular.from_delimited_files(path = [(datastore, 'measurements_qual.csv')])\n",
    "\n",
    "# preview the first 3 rows of the dataset\n",
    "# dataset.to_pandas_dataframe()"
   ]
  },
  {
   "cell_type": "code",
   "execution_count": 4,
   "id": "0597a002",
   "metadata": {},
   "outputs": [],
   "source": [
    "#Converting the dataset into data frame(default as dataset in Azure, thus we must convert the needed formate)\n",
    "measurements_qual_data= dataset.to_pandas_dataframe()"
   ]
  },
  {
   "cell_type": "code",
   "execution_count": 5,
   "id": "1902e5a1",
   "metadata": {},
   "outputs": [
    {
     "data": {
      "text/plain": [
       "pandas.core.frame.DataFrame"
      ]
     },
     "execution_count": 5,
     "metadata": {},
     "output_type": "execute_result"
    }
   ],
   "source": [
    "type(measurements_qual_data)"
   ]
  },
  {
   "cell_type": "code",
   "execution_count": 7,
   "id": "15ec9122",
   "metadata": {},
   "outputs": [
    {
     "data": {
      "text/html": [
       "<div>\n",
       "<style scoped>\n",
       "    .dataframe tbody tr th:only-of-type {\n",
       "        vertical-align: middle;\n",
       "    }\n",
       "\n",
       "    .dataframe tbody tr th {\n",
       "        vertical-align: top;\n",
       "    }\n",
       "\n",
       "    .dataframe thead th {\n",
       "        text-align: right;\n",
       "    }\n",
       "</style>\n",
       "<table border=\"1\" class=\"dataframe\">\n",
       "  <thead>\n",
       "    <tr style=\"text-align: right;\">\n",
       "      <th></th>\n",
       "      <th>Column1</th>\n",
       "      <th>Internalpatientid</th>\n",
       "      <th>Age at measurement</th>\n",
       "      <th>Measurement date</th>\n",
       "      <th>Measurement</th>\n",
       "      <th>Result numeric</th>\n",
       "      <th>Result textual</th>\n",
       "      <th>State</th>\n",
       "    </tr>\n",
       "  </thead>\n",
       "  <tbody>\n",
       "    <tr>\n",
       "      <th>0</th>\n",
       "      <td>581</td>\n",
       "      <td>100012</td>\n",
       "      <td>52.872186</td>\n",
       "      <td>2002-05-15 18:48:46</td>\n",
       "      <td>Pulse</td>\n",
       "      <td>86.000000</td>\n",
       "      <td>None</td>\n",
       "      <td>New Mexico</td>\n",
       "    </tr>\n",
       "    <tr>\n",
       "      <th>1</th>\n",
       "      <td>582</td>\n",
       "      <td>100012</td>\n",
       "      <td>52.872186</td>\n",
       "      <td>2002-05-15 18:48:46</td>\n",
       "      <td>Weight</td>\n",
       "      <td>387.467147</td>\n",
       "      <td>None</td>\n",
       "      <td>New Mexico</td>\n",
       "    </tr>\n",
       "    <tr>\n",
       "      <th>2</th>\n",
       "      <td>583</td>\n",
       "      <td>100012</td>\n",
       "      <td>52.872186</td>\n",
       "      <td>2002-05-15 18:48:46</td>\n",
       "      <td>Blood pressure</td>\n",
       "      <td>NaN</td>\n",
       "      <td>135/81</td>\n",
       "      <td>New Mexico</td>\n",
       "    </tr>\n",
       "    <tr>\n",
       "      <th>3</th>\n",
       "      <td>584</td>\n",
       "      <td>100012</td>\n",
       "      <td>52.872186</td>\n",
       "      <td>2002-05-15 18:48:46</td>\n",
       "      <td>Respiratory rate</td>\n",
       "      <td>20.000000</td>\n",
       "      <td>None</td>\n",
       "      <td>New Mexico</td>\n",
       "    </tr>\n",
       "    <tr>\n",
       "      <th>4</th>\n",
       "      <td>585</td>\n",
       "      <td>100012</td>\n",
       "      <td>52.872186</td>\n",
       "      <td>2002-05-15 18:48:46</td>\n",
       "      <td>Pain</td>\n",
       "      <td>2.000000</td>\n",
       "      <td>None</td>\n",
       "      <td>New Mexico</td>\n",
       "    </tr>\n",
       "  </tbody>\n",
       "</table>\n",
       "</div>"
      ],
      "text/plain": [
       "   Column1  Internalpatientid  Age at measurement    Measurement date  \\\n",
       "0      581             100012           52.872186 2002-05-15 18:48:46   \n",
       "1      582             100012           52.872186 2002-05-15 18:48:46   \n",
       "2      583             100012           52.872186 2002-05-15 18:48:46   \n",
       "3      584             100012           52.872186 2002-05-15 18:48:46   \n",
       "4      585             100012           52.872186 2002-05-15 18:48:46   \n",
       "\n",
       "        Measurement  Result numeric Result textual       State  \n",
       "0             Pulse       86.000000           None  New Mexico  \n",
       "1            Weight      387.467147           None  New Mexico  \n",
       "2    Blood pressure             NaN         135/81  New Mexico  \n",
       "3  Respiratory rate       20.000000           None  New Mexico  \n",
       "4              Pain        2.000000           None  New Mexico  "
      ]
     },
     "execution_count": 7,
     "metadata": {},
     "output_type": "execute_result"
    }
   ],
   "source": [
    "measurements_qual_data.head()"
   ]
  },
  {
   "cell_type": "markdown",
   "id": "fe7ea5ca",
   "metadata": {},
   "source": [
    "## **Importing Libraries**"
   ]
  },
  {
   "cell_type": "code",
   "execution_count": 8,
   "id": "1eaf7fac",
   "metadata": {},
   "outputs": [],
   "source": [
    "# Importing essential libraries\n",
    "import pandas as pd        # Library for data manipulation and analysis\n",
    "import numpy as np         # Library for mathematical operations"
   ]
  },
  {
   "cell_type": "markdown",
   "id": "6795ed2a-9eae-4b60-8f65-07f3e08ae570",
   "metadata": {},
   "source": [
    "## **Data Exploration**"
   ]
  },
  {
   "cell_type": "code",
   "execution_count": 9,
   "id": "c72fa1d1-2901-40bb-9df4-9abafacc159b",
   "metadata": {},
   "outputs": [],
   "source": [
    "# Changing variable name for dataframe\n",
    "df = measurements_qual_data"
   ]
  },
  {
   "cell_type": "code",
   "execution_count": 10,
   "id": "5baf1d0c",
   "metadata": {},
   "outputs": [
    {
     "data": {
      "text/html": [
       "<div>\n",
       "<style scoped>\n",
       "    .dataframe tbody tr th:only-of-type {\n",
       "        vertical-align: middle;\n",
       "    }\n",
       "\n",
       "    .dataframe tbody tr th {\n",
       "        vertical-align: top;\n",
       "    }\n",
       "\n",
       "    .dataframe thead th {\n",
       "        text-align: right;\n",
       "    }\n",
       "</style>\n",
       "<table border=\"1\" class=\"dataframe\">\n",
       "  <thead>\n",
       "    <tr style=\"text-align: right;\">\n",
       "      <th></th>\n",
       "      <th>Column1</th>\n",
       "      <th>Internalpatientid</th>\n",
       "      <th>Age at measurement</th>\n",
       "      <th>Measurement date</th>\n",
       "      <th>Measurement</th>\n",
       "      <th>Result numeric</th>\n",
       "      <th>Result textual</th>\n",
       "      <th>State</th>\n",
       "    </tr>\n",
       "  </thead>\n",
       "  <tbody>\n",
       "    <tr>\n",
       "      <th>0</th>\n",
       "      <td>581</td>\n",
       "      <td>100012</td>\n",
       "      <td>52.872186</td>\n",
       "      <td>2002-05-15 18:48:46</td>\n",
       "      <td>Pulse</td>\n",
       "      <td>86.000000</td>\n",
       "      <td>None</td>\n",
       "      <td>New Mexico</td>\n",
       "    </tr>\n",
       "    <tr>\n",
       "      <th>1</th>\n",
       "      <td>582</td>\n",
       "      <td>100012</td>\n",
       "      <td>52.872186</td>\n",
       "      <td>2002-05-15 18:48:46</td>\n",
       "      <td>Weight</td>\n",
       "      <td>387.467147</td>\n",
       "      <td>None</td>\n",
       "      <td>New Mexico</td>\n",
       "    </tr>\n",
       "    <tr>\n",
       "      <th>2</th>\n",
       "      <td>583</td>\n",
       "      <td>100012</td>\n",
       "      <td>52.872186</td>\n",
       "      <td>2002-05-15 18:48:46</td>\n",
       "      <td>Blood pressure</td>\n",
       "      <td>NaN</td>\n",
       "      <td>135/81</td>\n",
       "      <td>New Mexico</td>\n",
       "    </tr>\n",
       "    <tr>\n",
       "      <th>3</th>\n",
       "      <td>584</td>\n",
       "      <td>100012</td>\n",
       "      <td>52.872186</td>\n",
       "      <td>2002-05-15 18:48:46</td>\n",
       "      <td>Respiratory rate</td>\n",
       "      <td>20.000000</td>\n",
       "      <td>None</td>\n",
       "      <td>New Mexico</td>\n",
       "    </tr>\n",
       "    <tr>\n",
       "      <th>4</th>\n",
       "      <td>585</td>\n",
       "      <td>100012</td>\n",
       "      <td>52.872186</td>\n",
       "      <td>2002-05-15 18:48:46</td>\n",
       "      <td>Pain</td>\n",
       "      <td>2.000000</td>\n",
       "      <td>None</td>\n",
       "      <td>New Mexico</td>\n",
       "    </tr>\n",
       "  </tbody>\n",
       "</table>\n",
       "</div>"
      ],
      "text/plain": [
       "   Column1  Internalpatientid  Age at measurement    Measurement date  \\\n",
       "0      581             100012           52.872186 2002-05-15 18:48:46   \n",
       "1      582             100012           52.872186 2002-05-15 18:48:46   \n",
       "2      583             100012           52.872186 2002-05-15 18:48:46   \n",
       "3      584             100012           52.872186 2002-05-15 18:48:46   \n",
       "4      585             100012           52.872186 2002-05-15 18:48:46   \n",
       "\n",
       "        Measurement  Result numeric Result textual       State  \n",
       "0             Pulse       86.000000           None  New Mexico  \n",
       "1            Weight      387.467147           None  New Mexico  \n",
       "2    Blood pressure             NaN         135/81  New Mexico  \n",
       "3  Respiratory rate       20.000000           None  New Mexico  \n",
       "4              Pain        2.000000           None  New Mexico  "
      ]
     },
     "execution_count": 10,
     "metadata": {},
     "output_type": "execute_result"
    }
   ],
   "source": [
    "# Display the first few rows of a DataFrame\n",
    "df.head()"
   ]
  },
  {
   "cell_type": "code",
   "execution_count": 11,
   "id": "071e61eb",
   "metadata": {},
   "outputs": [
    {
     "name": "stdout",
     "output_type": "stream",
     "text": [
      "Number of rows: 1070001\n",
      "Number of columns: 8\n"
     ]
    }
   ],
   "source": [
    "# Shape of the dataset\n",
    "df.shape\n",
    "num_rows = df.shape[0]  # Number of rows\n",
    "num_cols = df.shape[1]  # Number of columns\n",
    "print(\"Number of rows:\", num_rows)\n",
    "print(\"Number of columns:\", num_cols)"
   ]
  },
  {
   "cell_type": "code",
   "execution_count": 12,
   "id": "5c448c8b",
   "metadata": {},
   "outputs": [
    {
     "name": "stdout",
     "output_type": "stream",
     "text": [
      "Number of Unique Internalpatientid\n"
     ]
    },
    {
     "data": {
      "text/plain": [
       "994"
      ]
     },
     "execution_count": 12,
     "metadata": {},
     "output_type": "execute_result"
    }
   ],
   "source": [
    "# Get the number of unique values in the 'Internalpatientid' column\n",
    "print(\"Number of Unique Internalpatientid\")\n",
    "df['Internalpatientid'].nunique()"
   ]
  },
  {
   "cell_type": "code",
   "execution_count": 13,
   "id": "be2cabb0-e1f1-4e4c-aa5d-6196d082f8f7",
   "metadata": {},
   "outputs": [],
   "source": [
    "# Drop the specified columns from the DataFrame\n",
    "df.drop(['Column1','Result textual','State'], axis=1,inplace=True)"
   ]
  },
  {
   "cell_type": "code",
   "execution_count": 14,
   "id": "2a1115a8",
   "metadata": {},
   "outputs": [
    {
     "name": "stdout",
     "output_type": "stream",
     "text": [
      "<class 'pandas.core.frame.DataFrame'>\n",
      "RangeIndex: 1070001 entries, 0 to 1070000\n",
      "Data columns (total 5 columns):\n",
      " #   Column              Non-Null Count    Dtype         \n",
      "---  ------              --------------    -----         \n",
      " 0   Internalpatientid   1070001 non-null  int64         \n",
      " 1   Age at measurement  1070001 non-null  float64       \n",
      " 2   Measurement date    1070001 non-null  datetime64[ns]\n",
      " 3   Measurement         1070001 non-null  object        \n",
      " 4   Result numeric      870923 non-null   float64       \n",
      "dtypes: datetime64[ns](1), float64(2), int64(1), object(1)\n",
      "memory usage: 40.8+ MB\n"
     ]
    }
   ],
   "source": [
    "# Display the concise summary of the DataFrame\n",
    "df.info()"
   ]
  },
  {
   "cell_type": "markdown",
   "id": "6c4042f8",
   "metadata": {},
   "source": [
    "## **Checking Missing Values**"
   ]
  },
  {
   "cell_type": "code",
   "execution_count": 15,
   "id": "2e9ac3a8",
   "metadata": {},
   "outputs": [
    {
     "data": {
      "text/plain": [
       "Internalpatientid          0\n",
       "Age at measurement         0\n",
       "Measurement date           0\n",
       "Measurement                0\n",
       "Result numeric        199078\n",
       "dtype: int64"
      ]
     },
     "execution_count": 15,
     "metadata": {},
     "output_type": "execute_result"
    }
   ],
   "source": [
    "# Count the number of missing values in each column\n",
    "df.isnull().sum()"
   ]
  },
  {
   "cell_type": "markdown",
   "id": "fad6116a-0865-4194-bcad-c3fe228bde58",
   "metadata": {},
   "source": [
    "## **Removing NaN values**"
   ]
  },
  {
   "cell_type": "code",
   "execution_count": 16,
   "id": "9a8771ec-65f6-42e5-826a-0a86cf999d85",
   "metadata": {},
   "outputs": [],
   "source": [
    "df = df.dropna(subset=['Result numeric'])"
   ]
  },
  {
   "cell_type": "code",
   "execution_count": 17,
   "id": "c2f3b6f1-2449-4066-968f-6c6b010f646a",
   "metadata": {},
   "outputs": [
    {
     "data": {
      "text/plain": [
       "994"
      ]
     },
     "execution_count": 17,
     "metadata": {},
     "output_type": "execute_result"
    }
   ],
   "source": [
    "df.Internalpatientid.nunique()"
   ]
  },
  {
   "cell_type": "code",
   "execution_count": 18,
   "id": "fb260465-4482-4101-95b2-845909bab3a1",
   "metadata": {},
   "outputs": [
    {
     "data": {
      "text/plain": [
       "Internalpatientid     0\n",
       "Age at measurement    0\n",
       "Measurement date      0\n",
       "Measurement           0\n",
       "Result numeric        0\n",
       "dtype: int64"
      ]
     },
     "execution_count": 18,
     "metadata": {},
     "output_type": "execute_result"
    }
   ],
   "source": [
    "df.isnull().sum()"
   ]
  },
  {
   "cell_type": "markdown",
   "id": "43f37d40-edab-45f9-a874-496f2e1894d1",
   "metadata": {},
   "source": [
    "### **Removing Outliers**"
   ]
  },
  {
   "cell_type": "code",
   "execution_count": 19,
   "id": "8ecc7311-4b42-414a-994e-3159455b884e",
   "metadata": {},
   "outputs": [],
   "source": [
    "# Define the filter conditions for each category\n",
    "filters = {\n",
    "    'Pulse': (40, 250),\n",
    "    'Respiratory rate': (1, 30),\n",
    "    'Pain': (0, 15),\n",
    "    'Temperature': (90, 107)\n",
    "}\n",
    "\n",
    "# Apply the filters for each category\n",
    "filtered_data = pd.DataFrame()\n",
    "for category, (min_val, max_val) in filters.items():\n",
    "    category_data = df[df['Measurement'] == category]\n",
    "    filtered_category_data = category_data[(category_data['Result numeric'] >= min_val) & (category_data['Result numeric'] <= max_val)]\n",
    "    filtered_data = pd.concat([filtered_data, filtered_category_data])"
   ]
  },
  {
   "cell_type": "code",
   "execution_count": 20,
   "id": "7b9cdd85-f5ea-4769-bc43-abd713e026c5",
   "metadata": {},
   "outputs": [],
   "source": [
    "# Reset the index of the filtered data\n",
    "filtered_data = filtered_data.reset_index(drop=True)"
   ]
  },
  {
   "cell_type": "code",
   "execution_count": 21,
   "id": "904c03f7-50a9-478a-bcad-0018126101e3",
   "metadata": {},
   "outputs": [
    {
     "data": {
      "text/html": [
       "<div>\n",
       "<style scoped>\n",
       "    .dataframe tbody tr th:only-of-type {\n",
       "        vertical-align: middle;\n",
       "    }\n",
       "\n",
       "    .dataframe tbody tr th {\n",
       "        vertical-align: top;\n",
       "    }\n",
       "\n",
       "    .dataframe thead th {\n",
       "        text-align: right;\n",
       "    }\n",
       "</style>\n",
       "<table border=\"1\" class=\"dataframe\">\n",
       "  <thead>\n",
       "    <tr style=\"text-align: right;\">\n",
       "      <th></th>\n",
       "      <th>Internalpatientid</th>\n",
       "      <th>Age at measurement</th>\n",
       "      <th>Measurement date</th>\n",
       "      <th>Measurement</th>\n",
       "      <th>Result numeric</th>\n",
       "    </tr>\n",
       "  </thead>\n",
       "  <tbody>\n",
       "    <tr>\n",
       "      <th>0</th>\n",
       "      <td>100012</td>\n",
       "      <td>52.872186</td>\n",
       "      <td>2002-05-15 18:48:46</td>\n",
       "      <td>Pulse</td>\n",
       "      <td>86.000000</td>\n",
       "    </tr>\n",
       "    <tr>\n",
       "      <th>1</th>\n",
       "      <td>100012</td>\n",
       "      <td>53.280554</td>\n",
       "      <td>2002-10-12 01:01:26</td>\n",
       "      <td>Pulse</td>\n",
       "      <td>93.000000</td>\n",
       "    </tr>\n",
       "    <tr>\n",
       "      <th>2</th>\n",
       "      <td>100012</td>\n",
       "      <td>53.512267</td>\n",
       "      <td>2003-01-04 17:36:15</td>\n",
       "      <td>Pulse</td>\n",
       "      <td>86.000000</td>\n",
       "    </tr>\n",
       "    <tr>\n",
       "      <th>3</th>\n",
       "      <td>100012</td>\n",
       "      <td>54.815596</td>\n",
       "      <td>2004-04-25 02:24:39</td>\n",
       "      <td>Pulse</td>\n",
       "      <td>86.000000</td>\n",
       "    </tr>\n",
       "    <tr>\n",
       "      <th>4</th>\n",
       "      <td>100012</td>\n",
       "      <td>54.894050</td>\n",
       "      <td>2004-05-23 18:36:16</td>\n",
       "      <td>Pulse</td>\n",
       "      <td>92.000000</td>\n",
       "    </tr>\n",
       "    <tr>\n",
       "      <th>...</th>\n",
       "      <td>...</td>\n",
       "      <td>...</td>\n",
       "      <td>...</td>\n",
       "      <td>...</td>\n",
       "      <td>...</td>\n",
       "    </tr>\n",
       "    <tr>\n",
       "      <th>681993</th>\n",
       "      <td>99941</td>\n",
       "      <td>73.344576</td>\n",
       "      <td>2015-11-28 10:37:14</td>\n",
       "      <td>Temperature</td>\n",
       "      <td>94.021018</td>\n",
       "    </tr>\n",
       "    <tr>\n",
       "      <th>681994</th>\n",
       "      <td>99941</td>\n",
       "      <td>73.350285</td>\n",
       "      <td>2015-11-30 12:42:13</td>\n",
       "      <td>Temperature</td>\n",
       "      <td>95.279459</td>\n",
       "    </tr>\n",
       "    <tr>\n",
       "      <th>681995</th>\n",
       "      <td>99941</td>\n",
       "      <td>73.369421</td>\n",
       "      <td>2015-12-07 12:33:33</td>\n",
       "      <td>Temperature</td>\n",
       "      <td>101.981426</td>\n",
       "    </tr>\n",
       "    <tr>\n",
       "      <th>681996</th>\n",
       "      <td>99941</td>\n",
       "      <td>73.377264</td>\n",
       "      <td>2015-12-10 09:21:42</td>\n",
       "      <td>Temperature</td>\n",
       "      <td>97.391722</td>\n",
       "    </tr>\n",
       "    <tr>\n",
       "      <th>681997</th>\n",
       "      <td>99944</td>\n",
       "      <td>80.630428</td>\n",
       "      <td>2013-02-24 10:06:41</td>\n",
       "      <td>Temperature</td>\n",
       "      <td>100.000000</td>\n",
       "    </tr>\n",
       "  </tbody>\n",
       "</table>\n",
       "<p>681998 rows × 5 columns</p>\n",
       "</div>"
      ],
      "text/plain": [
       "        Internalpatientid  Age at measurement    Measurement date  \\\n",
       "0                  100012           52.872186 2002-05-15 18:48:46   \n",
       "1                  100012           53.280554 2002-10-12 01:01:26   \n",
       "2                  100012           53.512267 2003-01-04 17:36:15   \n",
       "3                  100012           54.815596 2004-04-25 02:24:39   \n",
       "4                  100012           54.894050 2004-05-23 18:36:16   \n",
       "...                   ...                 ...                 ...   \n",
       "681993              99941           73.344576 2015-11-28 10:37:14   \n",
       "681994              99941           73.350285 2015-11-30 12:42:13   \n",
       "681995              99941           73.369421 2015-12-07 12:33:33   \n",
       "681996              99941           73.377264 2015-12-10 09:21:42   \n",
       "681997              99944           80.630428 2013-02-24 10:06:41   \n",
       "\n",
       "        Measurement  Result numeric  \n",
       "0             Pulse       86.000000  \n",
       "1             Pulse       93.000000  \n",
       "2             Pulse       86.000000  \n",
       "3             Pulse       86.000000  \n",
       "4             Pulse       92.000000  \n",
       "...             ...             ...  \n",
       "681993  Temperature       94.021018  \n",
       "681994  Temperature       95.279459  \n",
       "681995  Temperature      101.981426  \n",
       "681996  Temperature       97.391722  \n",
       "681997  Temperature      100.000000  \n",
       "\n",
       "[681998 rows x 5 columns]"
      ]
     },
     "execution_count": 21,
     "metadata": {},
     "output_type": "execute_result"
    }
   ],
   "source": [
    "# Display the final filtered dataframe\n",
    "filtered_data"
   ]
  },
  {
   "cell_type": "code",
   "execution_count": 22,
   "id": "0241a0f8-da73-4aac-a8d7-1e80668c0e44",
   "metadata": {},
   "outputs": [
    {
     "data": {
      "text/html": [
       "<div>\n",
       "<style scoped>\n",
       "    .dataframe tbody tr th:only-of-type {\n",
       "        vertical-align: middle;\n",
       "    }\n",
       "\n",
       "    .dataframe tbody tr th {\n",
       "        vertical-align: top;\n",
       "    }\n",
       "\n",
       "    .dataframe thead th {\n",
       "        text-align: right;\n",
       "    }\n",
       "</style>\n",
       "<table border=\"1\" class=\"dataframe\">\n",
       "  <thead>\n",
       "    <tr style=\"text-align: right;\">\n",
       "      <th></th>\n",
       "      <th>min</th>\n",
       "      <th>max</th>\n",
       "    </tr>\n",
       "    <tr>\n",
       "      <th>Measurement</th>\n",
       "      <th></th>\n",
       "      <th></th>\n",
       "    </tr>\n",
       "  </thead>\n",
       "  <tbody>\n",
       "    <tr>\n",
       "      <th>Pain</th>\n",
       "      <td>0.0</td>\n",
       "      <td>10.0</td>\n",
       "    </tr>\n",
       "    <tr>\n",
       "      <th>Pulse</th>\n",
       "      <td>40.0</td>\n",
       "      <td>231.0</td>\n",
       "    </tr>\n",
       "    <tr>\n",
       "      <th>Respiratory rate</th>\n",
       "      <td>1.0</td>\n",
       "      <td>30.0</td>\n",
       "    </tr>\n",
       "    <tr>\n",
       "      <th>Temperature</th>\n",
       "      <td>90.0</td>\n",
       "      <td>107.0</td>\n",
       "    </tr>\n",
       "  </tbody>\n",
       "</table>\n",
       "</div>"
      ],
      "text/plain": [
       "                   min    max\n",
       "Measurement                  \n",
       "Pain               0.0   10.0\n",
       "Pulse             40.0  231.0\n",
       "Respiratory rate   1.0   30.0\n",
       "Temperature       90.0  107.0"
      ]
     },
     "execution_count": 22,
     "metadata": {},
     "output_type": "execute_result"
    }
   ],
   "source": [
    "# Check minimum and maximum values for each category in 'Measurement' column\n",
    "min_max_values = filtered_data.groupby('Measurement')['Result numeric'].agg(['min', 'max'])\n",
    "min_max_values"
   ]
  },
  {
   "cell_type": "markdown",
   "id": "eedf7634-d9c5-4be2-ab75-6b0ae7f7a518",
   "metadata": {},
   "source": [
    "### **'Max' Condition to the 'Measurement date' Column**"
   ]
  },
  {
   "cell_type": "code",
   "execution_count": 23,
   "id": "bad3c8f5-7a37-404a-af53-cd9eee1b9c68",
   "metadata": {},
   "outputs": [],
   "source": [
    "df_group = pd.merge(filtered_data.groupby(['Internalpatientid','Measurement'], as_index=False)['Measurement date'].max(),filtered_data,on=['Internalpatientid','Measurement date','Measurement'],how = 'left')"
   ]
  },
  {
   "cell_type": "code",
   "execution_count": 24,
   "id": "8d9f49ee-e009-4c54-ba75-07773ffbc39a",
   "metadata": {},
   "outputs": [
    {
     "data": {
      "text/html": [
       "<div>\n",
       "<style scoped>\n",
       "    .dataframe tbody tr th:only-of-type {\n",
       "        vertical-align: middle;\n",
       "    }\n",
       "\n",
       "    .dataframe tbody tr th {\n",
       "        vertical-align: top;\n",
       "    }\n",
       "\n",
       "    .dataframe thead th {\n",
       "        text-align: right;\n",
       "    }\n",
       "</style>\n",
       "<table border=\"1\" class=\"dataframe\">\n",
       "  <thead>\n",
       "    <tr style=\"text-align: right;\">\n",
       "      <th></th>\n",
       "      <th>Internalpatientid</th>\n",
       "      <th>Measurement</th>\n",
       "      <th>Measurement date</th>\n",
       "      <th>Age at measurement</th>\n",
       "      <th>Result numeric</th>\n",
       "    </tr>\n",
       "  </thead>\n",
       "  <tbody>\n",
       "    <tr>\n",
       "      <th>0</th>\n",
       "      <td>67</td>\n",
       "      <td>Pain</td>\n",
       "      <td>2020-10-18 07:53:28</td>\n",
       "      <td>58.468752</td>\n",
       "      <td>5.000000</td>\n",
       "    </tr>\n",
       "    <tr>\n",
       "      <th>1</th>\n",
       "      <td>67</td>\n",
       "      <td>Pulse</td>\n",
       "      <td>2020-10-18 07:53:28</td>\n",
       "      <td>58.468752</td>\n",
       "      <td>68.000000</td>\n",
       "    </tr>\n",
       "    <tr>\n",
       "      <th>2</th>\n",
       "      <td>67</td>\n",
       "      <td>Respiratory rate</td>\n",
       "      <td>2020-10-18 07:53:28</td>\n",
       "      <td>58.468752</td>\n",
       "      <td>18.000000</td>\n",
       "    </tr>\n",
       "    <tr>\n",
       "      <th>3</th>\n",
       "      <td>67</td>\n",
       "      <td>Temperature</td>\n",
       "      <td>2020-10-18 07:53:28</td>\n",
       "      <td>58.468752</td>\n",
       "      <td>99.304386</td>\n",
       "    </tr>\n",
       "    <tr>\n",
       "      <th>4</th>\n",
       "      <td>200</td>\n",
       "      <td>Pain</td>\n",
       "      <td>2023-02-07 11:57:42</td>\n",
       "      <td>87.785221</td>\n",
       "      <td>0.000000</td>\n",
       "    </tr>\n",
       "    <tr>\n",
       "      <th>...</th>\n",
       "      <td>...</td>\n",
       "      <td>...</td>\n",
       "      <td>...</td>\n",
       "      <td>...</td>\n",
       "      <td>...</td>\n",
       "    </tr>\n",
       "    <tr>\n",
       "      <th>3946</th>\n",
       "      <td>168496</td>\n",
       "      <td>Temperature</td>\n",
       "      <td>2022-09-22 13:07:19</td>\n",
       "      <td>98.600675</td>\n",
       "      <td>95.000000</td>\n",
       "    </tr>\n",
       "    <tr>\n",
       "      <th>3947</th>\n",
       "      <td>168899</td>\n",
       "      <td>Pain</td>\n",
       "      <td>2018-02-08 02:41:22</td>\n",
       "      <td>95.280744</td>\n",
       "      <td>0.000000</td>\n",
       "    </tr>\n",
       "    <tr>\n",
       "      <th>3948</th>\n",
       "      <td>168899</td>\n",
       "      <td>Pulse</td>\n",
       "      <td>2018-02-08 02:41:22</td>\n",
       "      <td>95.280744</td>\n",
       "      <td>98.000000</td>\n",
       "    </tr>\n",
       "    <tr>\n",
       "      <th>3949</th>\n",
       "      <td>168899</td>\n",
       "      <td>Respiratory rate</td>\n",
       "      <td>2018-02-08 02:41:22</td>\n",
       "      <td>95.280744</td>\n",
       "      <td>19.000000</td>\n",
       "    </tr>\n",
       "    <tr>\n",
       "      <th>3950</th>\n",
       "      <td>168899</td>\n",
       "      <td>Temperature</td>\n",
       "      <td>2018-02-08 02:41:22</td>\n",
       "      <td>95.280744</td>\n",
       "      <td>95.522995</td>\n",
       "    </tr>\n",
       "  </tbody>\n",
       "</table>\n",
       "<p>3951 rows × 5 columns</p>\n",
       "</div>"
      ],
      "text/plain": [
       "      Internalpatientid       Measurement    Measurement date  \\\n",
       "0                    67              Pain 2020-10-18 07:53:28   \n",
       "1                    67             Pulse 2020-10-18 07:53:28   \n",
       "2                    67  Respiratory rate 2020-10-18 07:53:28   \n",
       "3                    67       Temperature 2020-10-18 07:53:28   \n",
       "4                   200              Pain 2023-02-07 11:57:42   \n",
       "...                 ...               ...                 ...   \n",
       "3946             168496       Temperature 2022-09-22 13:07:19   \n",
       "3947             168899              Pain 2018-02-08 02:41:22   \n",
       "3948             168899             Pulse 2018-02-08 02:41:22   \n",
       "3949             168899  Respiratory rate 2018-02-08 02:41:22   \n",
       "3950             168899       Temperature 2018-02-08 02:41:22   \n",
       "\n",
       "      Age at measurement  Result numeric  \n",
       "0              58.468752        5.000000  \n",
       "1              58.468752       68.000000  \n",
       "2              58.468752       18.000000  \n",
       "3              58.468752       99.304386  \n",
       "4              87.785221        0.000000  \n",
       "...                  ...             ...  \n",
       "3946           98.600675       95.000000  \n",
       "3947           95.280744        0.000000  \n",
       "3948           95.280744       98.000000  \n",
       "3949           95.280744       19.000000  \n",
       "3950           95.280744       95.522995  \n",
       "\n",
       "[3951 rows x 5 columns]"
      ]
     },
     "execution_count": 24,
     "metadata": {},
     "output_type": "execute_result"
    }
   ],
   "source": [
    "df_group"
   ]
  },
  {
   "cell_type": "code",
   "execution_count": 25,
   "id": "9ae5b4b2-ae4f-43cb-963c-6451abdfd2ad",
   "metadata": {},
   "outputs": [
    {
     "data": {
      "text/html": [
       "<div>\n",
       "<style scoped>\n",
       "    .dataframe tbody tr th:only-of-type {\n",
       "        vertical-align: middle;\n",
       "    }\n",
       "\n",
       "    .dataframe tbody tr th {\n",
       "        vertical-align: top;\n",
       "    }\n",
       "\n",
       "    .dataframe thead th {\n",
       "        text-align: right;\n",
       "    }\n",
       "</style>\n",
       "<table border=\"1\" class=\"dataframe\">\n",
       "  <thead>\n",
       "    <tr style=\"text-align: right;\">\n",
       "      <th></th>\n",
       "      <th>min</th>\n",
       "      <th>max</th>\n",
       "    </tr>\n",
       "    <tr>\n",
       "      <th>Measurement</th>\n",
       "      <th></th>\n",
       "      <th></th>\n",
       "    </tr>\n",
       "  </thead>\n",
       "  <tbody>\n",
       "    <tr>\n",
       "      <th>Pain</th>\n",
       "      <td>0.0</td>\n",
       "      <td>10.000000</td>\n",
       "    </tr>\n",
       "    <tr>\n",
       "      <th>Pulse</th>\n",
       "      <td>40.0</td>\n",
       "      <td>162.000000</td>\n",
       "    </tr>\n",
       "    <tr>\n",
       "      <th>Respiratory rate</th>\n",
       "      <td>10.0</td>\n",
       "      <td>30.000000</td>\n",
       "    </tr>\n",
       "    <tr>\n",
       "      <th>Temperature</th>\n",
       "      <td>90.0</td>\n",
       "      <td>106.576364</td>\n",
       "    </tr>\n",
       "  </tbody>\n",
       "</table>\n",
       "</div>"
      ],
      "text/plain": [
       "                   min         max\n",
       "Measurement                       \n",
       "Pain               0.0   10.000000\n",
       "Pulse             40.0  162.000000\n",
       "Respiratory rate  10.0   30.000000\n",
       "Temperature       90.0  106.576364"
      ]
     },
     "execution_count": 25,
     "metadata": {},
     "output_type": "execute_result"
    }
   ],
   "source": [
    "# Check minimum and maximum values for each category in 'Measurement' column\n",
    "min_max_values = df_group.groupby('Measurement')['Result numeric'].agg(['min', 'max'])\n",
    "min_max_values"
   ]
  },
  {
   "cell_type": "markdown",
   "id": "f1b44cdf-ac45-42d2-b726-5f50490dad0e",
   "metadata": {},
   "source": [
    "## **Creating Pivot Table**"
   ]
  },
  {
   "cell_type": "code",
   "execution_count": 26,
   "id": "00245c49-63f1-4019-8dd4-aa6db1fe8ba9",
   "metadata": {},
   "outputs": [],
   "source": [
    "categories = ['Pain', 'Pulse', 'Respiratory rate', 'Temperature']\n",
    "filtered_df = df_group[df_group['Measurement'].isin(categories)]\n",
    "pivot_table = filtered_df.pivot_table(index='Internalpatientid', columns='Measurement', values='Result numeric', aggfunc='last')"
   ]
  },
  {
   "cell_type": "code",
   "execution_count": 27,
   "id": "c570aa9a-0991-4340-af23-d2f2270f8d42",
   "metadata": {},
   "outputs": [
    {
     "data": {
      "text/html": [
       "<div>\n",
       "<style scoped>\n",
       "    .dataframe tbody tr th:only-of-type {\n",
       "        vertical-align: middle;\n",
       "    }\n",
       "\n",
       "    .dataframe tbody tr th {\n",
       "        vertical-align: top;\n",
       "    }\n",
       "\n",
       "    .dataframe thead th {\n",
       "        text-align: right;\n",
       "    }\n",
       "</style>\n",
       "<table border=\"1\" class=\"dataframe\">\n",
       "  <thead>\n",
       "    <tr style=\"text-align: right;\">\n",
       "      <th>Measurement</th>\n",
       "      <th>Pain</th>\n",
       "      <th>Pulse</th>\n",
       "      <th>Respiratory rate</th>\n",
       "      <th>Temperature</th>\n",
       "    </tr>\n",
       "    <tr>\n",
       "      <th>Internalpatientid</th>\n",
       "      <th></th>\n",
       "      <th></th>\n",
       "      <th></th>\n",
       "      <th></th>\n",
       "    </tr>\n",
       "  </thead>\n",
       "  <tbody>\n",
       "    <tr>\n",
       "      <th>67</th>\n",
       "      <td>5.0</td>\n",
       "      <td>68.0</td>\n",
       "      <td>18.0</td>\n",
       "      <td>99.304386</td>\n",
       "    </tr>\n",
       "    <tr>\n",
       "      <th>200</th>\n",
       "      <td>0.0</td>\n",
       "      <td>92.0</td>\n",
       "      <td>18.0</td>\n",
       "      <td>93.422097</td>\n",
       "    </tr>\n",
       "    <tr>\n",
       "      <th>291</th>\n",
       "      <td>0.0</td>\n",
       "      <td>75.0</td>\n",
       "      <td>18.0</td>\n",
       "      <td>98.475425</td>\n",
       "    </tr>\n",
       "    <tr>\n",
       "      <th>330</th>\n",
       "      <td>2.0</td>\n",
       "      <td>67.0</td>\n",
       "      <td>16.0</td>\n",
       "      <td>95.141939</td>\n",
       "    </tr>\n",
       "    <tr>\n",
       "      <th>351</th>\n",
       "      <td>0.0</td>\n",
       "      <td>73.0</td>\n",
       "      <td>19.0</td>\n",
       "      <td>95.922920</td>\n",
       "    </tr>\n",
       "    <tr>\n",
       "      <th>...</th>\n",
       "      <td>...</td>\n",
       "      <td>...</td>\n",
       "      <td>...</td>\n",
       "      <td>...</td>\n",
       "    </tr>\n",
       "    <tr>\n",
       "      <th>167907</th>\n",
       "      <td>0.0</td>\n",
       "      <td>91.0</td>\n",
       "      <td>19.0</td>\n",
       "      <td>97.000000</td>\n",
       "    </tr>\n",
       "    <tr>\n",
       "      <th>167917</th>\n",
       "      <td>0.0</td>\n",
       "      <td>84.0</td>\n",
       "      <td>18.0</td>\n",
       "      <td>98.130331</td>\n",
       "    </tr>\n",
       "    <tr>\n",
       "      <th>168008</th>\n",
       "      <td>0.0</td>\n",
       "      <td>114.0</td>\n",
       "      <td>16.0</td>\n",
       "      <td>96.112248</td>\n",
       "    </tr>\n",
       "    <tr>\n",
       "      <th>168496</th>\n",
       "      <td>0.0</td>\n",
       "      <td>59.0</td>\n",
       "      <td>16.0</td>\n",
       "      <td>95.000000</td>\n",
       "    </tr>\n",
       "    <tr>\n",
       "      <th>168899</th>\n",
       "      <td>0.0</td>\n",
       "      <td>98.0</td>\n",
       "      <td>19.0</td>\n",
       "      <td>95.522995</td>\n",
       "    </tr>\n",
       "  </tbody>\n",
       "</table>\n",
       "<p>992 rows × 4 columns</p>\n",
       "</div>"
      ],
      "text/plain": [
       "Measurement        Pain  Pulse  Respiratory rate  Temperature\n",
       "Internalpatientid                                            \n",
       "67                  5.0   68.0              18.0    99.304386\n",
       "200                 0.0   92.0              18.0    93.422097\n",
       "291                 0.0   75.0              18.0    98.475425\n",
       "330                 2.0   67.0              16.0    95.141939\n",
       "351                 0.0   73.0              19.0    95.922920\n",
       "...                 ...    ...               ...          ...\n",
       "167907              0.0   91.0              19.0    97.000000\n",
       "167917              0.0   84.0              18.0    98.130331\n",
       "168008              0.0  114.0              16.0    96.112248\n",
       "168496              0.0   59.0              16.0    95.000000\n",
       "168899              0.0   98.0              19.0    95.522995\n",
       "\n",
       "[992 rows x 4 columns]"
      ]
     },
     "execution_count": 27,
     "metadata": {},
     "output_type": "execute_result"
    }
   ],
   "source": [
    "# Print the pivot table\n",
    "pivot_table"
   ]
  },
  {
   "cell_type": "markdown",
   "id": "0da73afb-c12a-4477-a56b-3ef99ee88522",
   "metadata": {},
   "source": [
    "### **Checking Pivot Table Missing Values**"
   ]
  },
  {
   "cell_type": "code",
   "execution_count": 28,
   "id": "4811b014-e8dd-4d0f-966a-f8ab29d1ca5a",
   "metadata": {},
   "outputs": [
    {
     "data": {
      "text/plain": [
       "Measurement\n",
       "Pain                 2\n",
       "Pulse                1\n",
       "Respiratory rate     8\n",
       "Temperature         11\n",
       "dtype: int64"
      ]
     },
     "execution_count": 28,
     "metadata": {},
     "output_type": "execute_result"
    }
   ],
   "source": [
    "pivot_table.isnull().sum()"
   ]
  },
  {
   "cell_type": "code",
   "execution_count": 29,
   "id": "7a3fec7a-9be0-4bee-9f19-61324cf12572",
   "metadata": {},
   "outputs": [],
   "source": [
    "pivot_table.dropna(axis=0, inplace = True)"
   ]
  },
  {
   "cell_type": "code",
   "execution_count": 30,
   "id": "d152198f-56ca-4f34-95cc-8639ace34e2c",
   "metadata": {},
   "outputs": [
    {
     "data": {
      "text/html": [
       "<div>\n",
       "<style scoped>\n",
       "    .dataframe tbody tr th:only-of-type {\n",
       "        vertical-align: middle;\n",
       "    }\n",
       "\n",
       "    .dataframe tbody tr th {\n",
       "        vertical-align: top;\n",
       "    }\n",
       "\n",
       "    .dataframe thead th {\n",
       "        text-align: right;\n",
       "    }\n",
       "</style>\n",
       "<table border=\"1\" class=\"dataframe\">\n",
       "  <thead>\n",
       "    <tr style=\"text-align: right;\">\n",
       "      <th>Measurement</th>\n",
       "      <th>Pain</th>\n",
       "      <th>Pulse</th>\n",
       "      <th>Respiratory rate</th>\n",
       "      <th>Temperature</th>\n",
       "    </tr>\n",
       "    <tr>\n",
       "      <th>Internalpatientid</th>\n",
       "      <th></th>\n",
       "      <th></th>\n",
       "      <th></th>\n",
       "      <th></th>\n",
       "    </tr>\n",
       "  </thead>\n",
       "  <tbody>\n",
       "    <tr>\n",
       "      <th>67</th>\n",
       "      <td>5.0</td>\n",
       "      <td>68.0</td>\n",
       "      <td>18.0</td>\n",
       "      <td>99.304386</td>\n",
       "    </tr>\n",
       "    <tr>\n",
       "      <th>200</th>\n",
       "      <td>0.0</td>\n",
       "      <td>92.0</td>\n",
       "      <td>18.0</td>\n",
       "      <td>93.422097</td>\n",
       "    </tr>\n",
       "    <tr>\n",
       "      <th>291</th>\n",
       "      <td>0.0</td>\n",
       "      <td>75.0</td>\n",
       "      <td>18.0</td>\n",
       "      <td>98.475425</td>\n",
       "    </tr>\n",
       "    <tr>\n",
       "      <th>330</th>\n",
       "      <td>2.0</td>\n",
       "      <td>67.0</td>\n",
       "      <td>16.0</td>\n",
       "      <td>95.141939</td>\n",
       "    </tr>\n",
       "    <tr>\n",
       "      <th>351</th>\n",
       "      <td>0.0</td>\n",
       "      <td>73.0</td>\n",
       "      <td>19.0</td>\n",
       "      <td>95.922920</td>\n",
       "    </tr>\n",
       "    <tr>\n",
       "      <th>...</th>\n",
       "      <td>...</td>\n",
       "      <td>...</td>\n",
       "      <td>...</td>\n",
       "      <td>...</td>\n",
       "    </tr>\n",
       "    <tr>\n",
       "      <th>167907</th>\n",
       "      <td>0.0</td>\n",
       "      <td>91.0</td>\n",
       "      <td>19.0</td>\n",
       "      <td>97.000000</td>\n",
       "    </tr>\n",
       "    <tr>\n",
       "      <th>167917</th>\n",
       "      <td>0.0</td>\n",
       "      <td>84.0</td>\n",
       "      <td>18.0</td>\n",
       "      <td>98.130331</td>\n",
       "    </tr>\n",
       "    <tr>\n",
       "      <th>168008</th>\n",
       "      <td>0.0</td>\n",
       "      <td>114.0</td>\n",
       "      <td>16.0</td>\n",
       "      <td>96.112248</td>\n",
       "    </tr>\n",
       "    <tr>\n",
       "      <th>168496</th>\n",
       "      <td>0.0</td>\n",
       "      <td>59.0</td>\n",
       "      <td>16.0</td>\n",
       "      <td>95.000000</td>\n",
       "    </tr>\n",
       "    <tr>\n",
       "      <th>168899</th>\n",
       "      <td>0.0</td>\n",
       "      <td>98.0</td>\n",
       "      <td>19.0</td>\n",
       "      <td>95.522995</td>\n",
       "    </tr>\n",
       "  </tbody>\n",
       "</table>\n",
       "<p>979 rows × 4 columns</p>\n",
       "</div>"
      ],
      "text/plain": [
       "Measurement        Pain  Pulse  Respiratory rate  Temperature\n",
       "Internalpatientid                                            \n",
       "67                  5.0   68.0              18.0    99.304386\n",
       "200                 0.0   92.0              18.0    93.422097\n",
       "291                 0.0   75.0              18.0    98.475425\n",
       "330                 2.0   67.0              16.0    95.141939\n",
       "351                 0.0   73.0              19.0    95.922920\n",
       "...                 ...    ...               ...          ...\n",
       "167907              0.0   91.0              19.0    97.000000\n",
       "167917              0.0   84.0              18.0    98.130331\n",
       "168008              0.0  114.0              16.0    96.112248\n",
       "168496              0.0   59.0              16.0    95.000000\n",
       "168899              0.0   98.0              19.0    95.522995\n",
       "\n",
       "[979 rows x 4 columns]"
      ]
     },
     "execution_count": 30,
     "metadata": {},
     "output_type": "execute_result"
    }
   ],
   "source": [
    "pivot_table"
   ]
  },
  {
   "cell_type": "markdown",
   "id": "c53eb805-e685-4ea6-9839-68aae34b0d1e",
   "metadata": {},
   "source": [
    "### **Saving Measurements file**"
   ]
  },
  {
   "cell_type": "code",
   "execution_count": 31,
   "id": "b2622fba-de02-4908-aed3-e61d50d90555",
   "metadata": {},
   "outputs": [
    {
     "data": {
      "text/plain": [
       "'/mnt/batch/tasks/shared/LS_root/mounts/clusters/team3-lavanya-gpu2/code/Users/2211574/Best_Files'"
      ]
     },
     "execution_count": 31,
     "metadata": {},
     "output_type": "execute_result"
    }
   ],
   "source": [
    "import os\n",
    "cwd = os.getcwd()\n",
    "cwd"
   ]
  },
  {
   "cell_type": "code",
   "execution_count": 32,
   "id": "825aa089-8755-468d-bfa8-78da6c50a8f2",
   "metadata": {},
   "outputs": [],
   "source": [
    "pivot_table.to_csv('/mnt/batch/tasks/shared/LS_root/mounts/clusters/team3-lavanya-gpu2/code/Users/900379/Output_files_quality/df_measurements_pivot_qual_v1.csv')"
   ]
  },
  {
   "cell_type": "markdown",
   "id": "fdd39512-2739-4894-b146-c6f1913d5bbd",
   "metadata": {},
   "source": [
    "-----"
   ]
  }
 ],
 "metadata": {
  "kernelspec": {
   "display_name": "Python 3.8 - AzureML",
   "language": "python",
   "name": "python38-azureml"
  },
  "language_info": {
   "codemirror_mode": {
    "name": "ipython",
    "version": 3
   },
   "file_extension": ".py",
   "mimetype": "text/x-python",
   "name": "python",
   "nbconvert_exporter": "python",
   "pygments_lexer": "ipython3",
   "version": "3.8.5"
  }
 },
 "nbformat": 4,
 "nbformat_minor": 5
}
