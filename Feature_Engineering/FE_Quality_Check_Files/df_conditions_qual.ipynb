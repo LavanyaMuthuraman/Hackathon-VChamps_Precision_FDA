{
 "cells": [
  {
   "cell_type": "code",
   "execution_count": 1,
   "metadata": {
    "gather": {
     "logged": 1688639269765
    }
   },
   "outputs": [],
   "source": [
    "#A class attribute that provides access to the TabularDatasetFactory methods for creating new TabularDataset objects. \n",
    "#Usage: Dataset.Tabular.from_delimited_files().\n",
    "from azureml.core import Workspace, Dataset\n",
    "\n",
    "subscription_id = 'bcfe0c62-8ebe-4df0-a46d-1efcf8739a5b' #check the launch studio there will get this id\n",
    "resource_group = 'VChamp-Team3' # resource group name\n",
    "workspace_name = 'vchamp-team3' # worksapce name\n",
    "\n",
    "\n",
    "# storage account : Algorithmia, Resource group: VChamp-Team3 and workspace: vchamp-team3.\n",
    "#Constructor\n",
    "workspace = Workspace(subscription_id, resource_group, workspace_name)"
   ]
  },
  {
   "cell_type": "code",
   "execution_count": 2,
   "metadata": {
    "collapsed": false,
    "gather": {
     "logged": 1688639271316
    },
    "jupyter": {
     "outputs_hidden": false,
     "source_hidden": false
    },
    "nteract": {
     "transient": {
      "deleting": false
     }
    }
   },
   "outputs": [],
   "source": [
    "#['data_team3_synthetic_train']\n",
    "datastore = workspace.datastores['data_team3_synthetic_quality_check'] "
   ]
  },
  {
   "cell_type": "code",
   "execution_count": 3,
   "metadata": {
    "collapsed": false,
    "gather": {
     "logged": 1688639276373
    },
    "jupyter": {
     "outputs_hidden": false,
     "source_hidden": false
    },
    "nteract": {
     "transient": {
      "deleting": false
     }
    }
   },
   "outputs": [],
   "source": [
    "#from_delimited_files (Create a TabularDataset to represent tabular data in delimited files (e.g. CSV and TSV).\n",
    "\n",
    "dataset = Dataset.Tabular.from_delimited_files(path = [(datastore, 'conditions_qual.csv')])\n",
    "\n",
    "# preview the first 3 rows of the dataset\n",
    "# dataset.to_pandas_dataframe()"
   ]
  },
  {
   "cell_type": "code",
   "execution_count": 4,
   "metadata": {
    "collapsed": false,
    "gather": {
     "logged": 1688639304997
    },
    "jupyter": {
     "outputs_hidden": false,
     "source_hidden": false
    },
    "nteract": {
     "transient": {
      "deleting": false
     }
    }
   },
   "outputs": [],
   "source": [
    "#Converting the dataset into data frame(default as dataset in Azure, thus we must convert the needed formate)\n",
    "conditions_train_data= dataset.to_pandas_dataframe()"
   ]
  },
  {
   "cell_type": "code",
   "execution_count": 5,
   "metadata": {
    "collapsed": false,
    "gather": {
     "logged": 1688639307902
    },
    "jupyter": {
     "outputs_hidden": false,
     "source_hidden": false
    },
    "nteract": {
     "transient": {
      "deleting": false
     }
    }
   },
   "outputs": [
    {
     "data": {
      "text/html": [
       "<div>\n",
       "<style scoped>\n",
       "    .dataframe tbody tr th:only-of-type {\n",
       "        vertical-align: middle;\n",
       "    }\n",
       "\n",
       "    .dataframe tbody tr th {\n",
       "        vertical-align: top;\n",
       "    }\n",
       "\n",
       "    .dataframe thead th {\n",
       "        text-align: right;\n",
       "    }\n",
       "</style>\n",
       "<table border=\"1\" class=\"dataframe\">\n",
       "  <thead>\n",
       "    <tr style=\"text-align: right;\">\n",
       "      <th></th>\n",
       "      <th>Column1</th>\n",
       "      <th>Internalpatientid</th>\n",
       "      <th>Age at condition documentation</th>\n",
       "      <th>Condition documented date</th>\n",
       "      <th>Condition type</th>\n",
       "      <th>Condition code icd10 subcategory</th>\n",
       "      <th>Diagnosis sequence number or rank</th>\n",
       "      <th>State</th>\n",
       "    </tr>\n",
       "  </thead>\n",
       "  <tbody>\n",
       "    <tr>\n",
       "      <th>0</th>\n",
       "      <td>587</td>\n",
       "      <td>100012</td>\n",
       "      <td>52.022196</td>\n",
       "      <td>2001-07-09 02:42:14</td>\n",
       "      <td>Diagnosis</td>\n",
       "      <td>Encounter for attention to tracheostomy</td>\n",
       "      <td>P</td>\n",
       "      <td>Texas</td>\n",
       "    </tr>\n",
       "    <tr>\n",
       "      <th>1</th>\n",
       "      <td>588</td>\n",
       "      <td>100012</td>\n",
       "      <td>52.100619</td>\n",
       "      <td>2001-08-06 18:37:42</td>\n",
       "      <td>Diagnosis</td>\n",
       "      <td>Essential (primary) hypertension</td>\n",
       "      <td>P</td>\n",
       "      <td>Texas</td>\n",
       "    </tr>\n",
       "    <tr>\n",
       "      <th>2</th>\n",
       "      <td>589</td>\n",
       "      <td>100012</td>\n",
       "      <td>52.100619</td>\n",
       "      <td>2001-08-06 18:37:42</td>\n",
       "      <td>Diagnosis</td>\n",
       "      <td>Benign prostatic hyperplasia</td>\n",
       "      <td>S</td>\n",
       "      <td>Texas</td>\n",
       "    </tr>\n",
       "    <tr>\n",
       "      <th>3</th>\n",
       "      <td>590</td>\n",
       "      <td>100012</td>\n",
       "      <td>52.337453</td>\n",
       "      <td>2001-11-01 08:08:08</td>\n",
       "      <td>Diagnosis</td>\n",
       "      <td>Encounter for examination and observation for ...</td>\n",
       "      <td>P</td>\n",
       "      <td>Texas</td>\n",
       "    </tr>\n",
       "    <tr>\n",
       "      <th>4</th>\n",
       "      <td>591</td>\n",
       "      <td>100012</td>\n",
       "      <td>52.594739</td>\n",
       "      <td>2002-02-03 09:02:55</td>\n",
       "      <td>Diagnosis</td>\n",
       "      <td>Encounter for administrative examinations, uns...</td>\n",
       "      <td>P</td>\n",
       "      <td>New Mexico</td>\n",
       "    </tr>\n",
       "    <tr>\n",
       "      <th>...</th>\n",
       "      <td>...</td>\n",
       "      <td>...</td>\n",
       "      <td>...</td>\n",
       "      <td>...</td>\n",
       "      <td>...</td>\n",
       "      <td>...</td>\n",
       "      <td>...</td>\n",
       "      <td>...</td>\n",
       "    </tr>\n",
       "    <tr>\n",
       "      <th>655303</th>\n",
       "      <td>112203098</td>\n",
       "      <td>99944</td>\n",
       "      <td>72.099955</td>\n",
       "      <td>2004-08-12 12:48:10</td>\n",
       "      <td>Diagnosis</td>\n",
       "      <td>Essential (primary) hypertension</td>\n",
       "      <td>P</td>\n",
       "      <td>Massachusetts</td>\n",
       "    </tr>\n",
       "    <tr>\n",
       "      <th>655304</th>\n",
       "      <td>112203099</td>\n",
       "      <td>99944</td>\n",
       "      <td>77.935663</td>\n",
       "      <td>2010-06-15 11:38:02</td>\n",
       "      <td>Problem</td>\n",
       "      <td>Calculus of kidney</td>\n",
       "      <td>None</td>\n",
       "      <td>Massachusetts</td>\n",
       "    </tr>\n",
       "    <tr>\n",
       "      <th>655305</th>\n",
       "      <td>112203100</td>\n",
       "      <td>99944</td>\n",
       "      <td>78.210942</td>\n",
       "      <td>2010-09-24 02:23:05</td>\n",
       "      <td>Diagnosis</td>\n",
       "      <td>Not specified</td>\n",
       "      <td>P</td>\n",
       "      <td>Massachusetts</td>\n",
       "    </tr>\n",
       "    <tr>\n",
       "      <th>655306</th>\n",
       "      <td>112203101</td>\n",
       "      <td>99944</td>\n",
       "      <td>80.438034</td>\n",
       "      <td>2012-12-16 02:26:00</td>\n",
       "      <td>Diagnosis</td>\n",
       "      <td>Heart failure, unspecified</td>\n",
       "      <td>P</td>\n",
       "      <td>Massachusetts</td>\n",
       "    </tr>\n",
       "    <tr>\n",
       "      <th>655307</th>\n",
       "      <td>112203102</td>\n",
       "      <td>99944</td>\n",
       "      <td>80.438034</td>\n",
       "      <td>2012-12-16 02:26:00</td>\n",
       "      <td>Diagnosis</td>\n",
       "      <td>Essential (primary) hypertension</td>\n",
       "      <td>S</td>\n",
       "      <td>Massachusetts</td>\n",
       "    </tr>\n",
       "  </tbody>\n",
       "</table>\n",
       "<p>655308 rows × 8 columns</p>\n",
       "</div>"
      ],
      "text/plain": [
       "          Column1  Internalpatientid  Age at condition documentation  \\\n",
       "0             587             100012                       52.022196   \n",
       "1             588             100012                       52.100619   \n",
       "2             589             100012                       52.100619   \n",
       "3             590             100012                       52.337453   \n",
       "4             591             100012                       52.594739   \n",
       "...           ...                ...                             ...   \n",
       "655303  112203098              99944                       72.099955   \n",
       "655304  112203099              99944                       77.935663   \n",
       "655305  112203100              99944                       78.210942   \n",
       "655306  112203101              99944                       80.438034   \n",
       "655307  112203102              99944                       80.438034   \n",
       "\n",
       "       Condition documented date Condition type  \\\n",
       "0            2001-07-09 02:42:14      Diagnosis   \n",
       "1            2001-08-06 18:37:42      Diagnosis   \n",
       "2            2001-08-06 18:37:42      Diagnosis   \n",
       "3            2001-11-01 08:08:08      Diagnosis   \n",
       "4            2002-02-03 09:02:55      Diagnosis   \n",
       "...                          ...            ...   \n",
       "655303       2004-08-12 12:48:10      Diagnosis   \n",
       "655304       2010-06-15 11:38:02        Problem   \n",
       "655305       2010-09-24 02:23:05      Diagnosis   \n",
       "655306       2012-12-16 02:26:00      Diagnosis   \n",
       "655307       2012-12-16 02:26:00      Diagnosis   \n",
       "\n",
       "                         Condition code icd10 subcategory  \\\n",
       "0                 Encounter for attention to tracheostomy   \n",
       "1                        Essential (primary) hypertension   \n",
       "2                            Benign prostatic hyperplasia   \n",
       "3       Encounter for examination and observation for ...   \n",
       "4       Encounter for administrative examinations, uns...   \n",
       "...                                                   ...   \n",
       "655303                   Essential (primary) hypertension   \n",
       "655304                                 Calculus of kidney   \n",
       "655305                                      Not specified   \n",
       "655306                         Heart failure, unspecified   \n",
       "655307                   Essential (primary) hypertension   \n",
       "\n",
       "       Diagnosis sequence number or rank          State  \n",
       "0                                      P          Texas  \n",
       "1                                      P          Texas  \n",
       "2                                      S          Texas  \n",
       "3                                      P          Texas  \n",
       "4                                      P     New Mexico  \n",
       "...                                  ...            ...  \n",
       "655303                                 P  Massachusetts  \n",
       "655304                              None  Massachusetts  \n",
       "655305                                 P  Massachusetts  \n",
       "655306                                 P  Massachusetts  \n",
       "655307                                 S  Massachusetts  \n",
       "\n",
       "[655308 rows x 8 columns]"
      ]
     },
     "execution_count": 5,
     "metadata": {},
     "output_type": "execute_result"
    }
   ],
   "source": [
    "conditions_train_data"
   ]
  },
  {
   "cell_type": "code",
   "execution_count": 6,
   "metadata": {
    "collapsed": false,
    "gather": {
     "logged": 1688639312268
    },
    "jupyter": {
     "outputs_hidden": false,
     "source_hidden": false
    },
    "nteract": {
     "transient": {
      "deleting": false
     }
    }
   },
   "outputs": [],
   "source": [
    "import numpy as np                # Multi-Dimensional array object\n",
    "import pandas as pd               # Data Manipulation\n",
    "import matplotlib.pyplot as plt   # Data Visualization\n",
    "import seaborn as sns             # Data Visualization \n",
    "\n",
    "# Allows the use of display() for DataFrames\n",
    "from IPython.display import display \n",
    "\n",
    "# Handle warning messages that may occur during code execution\n",
    "import warnings\n",
    "warnings.filterwarnings('ignore')\n",
    "\n",
    "# To increase memory allocation\n",
    "from notebook.services.config import ConfigManager\n",
    "cm = ConfigManager().update('notebook', {'max_buffer_size': 7294967296})\n",
    "\n",
    "# Set the maximum number of rows to be displayed to 1000\n",
    "pd.set_option('display.max_rows', 1163)"
   ]
  },
  {
   "cell_type": "markdown",
   "metadata": {},
   "source": [
    "# **Elimination of the unnamed columns**"
   ]
  },
  {
   "cell_type": "code",
   "execution_count": 7,
   "metadata": {
    "collapsed": false,
    "gather": {
     "logged": 1688639319513
    },
    "jupyter": {
     "outputs_hidden": false,
     "source_hidden": false
    },
    "nteract": {
     "transient": {
      "deleting": false
     }
    }
   },
   "outputs": [],
   "source": [
    "# Remove unwanted columns \n",
    "conditions_train_data.drop('Column1',axis=1,inplace=True)"
   ]
  },
  {
   "cell_type": "code",
   "execution_count": 8,
   "metadata": {
    "collapsed": false,
    "gather": {
     "logged": 1688639325661
    },
    "jupyter": {
     "outputs_hidden": false,
     "source_hidden": false
    },
    "nteract": {
     "transient": {
      "deleting": false
     }
    }
   },
   "outputs": [],
   "source": [
    "conditions_train_data =  conditions_train_data"
   ]
  },
  {
   "cell_type": "markdown",
   "metadata": {},
   "source": [
    "# sorting patients id and age column"
   ]
  },
  {
   "cell_type": "code",
   "execution_count": 9,
   "metadata": {
    "collapsed": false,
    "gather": {
     "logged": 1688639475311
    },
    "jupyter": {
     "outputs_hidden": false,
     "source_hidden": false
    },
    "nteract": {
     "transient": {
      "deleting": false
     }
    }
   },
   "outputs": [],
   "source": [
    "# Sort the dataset based on the patientsid and 'age' column in ascending order\n",
    "conditions_train_data.sort_values([\"Internalpatientid\",\"Age at condition documentation\"],inplace=True)"
   ]
  },
  {
   "cell_type": "markdown",
   "metadata": {},
   "source": [
    "# Checking the missing value"
   ]
  },
  {
   "cell_type": "code",
   "execution_count": 10,
   "metadata": {
    "collapsed": false,
    "gather": {
     "logged": 1688639505037
    },
    "jupyter": {
     "outputs_hidden": false,
     "source_hidden": false
    },
    "nteract": {
     "transient": {
      "deleting": false
     }
    }
   },
   "outputs": [
    {
     "name": "stdout",
     "output_type": "stream",
     "text": [
      "Training set missing values:\n",
      " Internalpatientid                        0\n",
      "Age at condition documentation           0\n",
      "Condition documented date                0\n",
      "Condition type                           0\n",
      "Condition code icd10 subcategory         0\n",
      "Diagnosis sequence number or rank    27666\n",
      "State                                    0\n",
      "dtype: int64\n"
     ]
    }
   ],
   "source": [
    "print(\"Training set missing values:\\n\", conditions_train_data.isna().sum())"
   ]
  },
  {
   "cell_type": "markdown",
   "metadata": {},
   "source": [
    "# Taking the digits "
   ]
  },
  {
   "cell_type": "code",
   "execution_count": 11,
   "metadata": {
    "collapsed": false,
    "gather": {
     "logged": 1688639550922
    },
    "jupyter": {
     "outputs_hidden": false,
     "source_hidden": false
    },
    "nteract": {
     "transient": {
      "deleting": false
     }
    }
   },
   "outputs": [],
   "source": [
    "# Format 'Age at measurement' values in the format 00.00\n",
    "conditions_train_data[\"Age at condition documentation\"] = conditions_train_data[\"Age at condition documentation\"].map(\"{:.2f}\".format)"
   ]
  },
  {
   "cell_type": "code",
   "execution_count": 12,
   "metadata": {
    "collapsed": false,
    "gather": {
     "logged": 1688639554337
    },
    "jupyter": {
     "outputs_hidden": false,
     "source_hidden": false
    },
    "nteract": {
     "transient": {
      "deleting": false
     }
    }
   },
   "outputs": [
    {
     "data": {
      "text/html": [
       "<div>\n",
       "<style scoped>\n",
       "    .dataframe tbody tr th:only-of-type {\n",
       "        vertical-align: middle;\n",
       "    }\n",
       "\n",
       "    .dataframe tbody tr th {\n",
       "        vertical-align: top;\n",
       "    }\n",
       "\n",
       "    .dataframe thead th {\n",
       "        text-align: right;\n",
       "    }\n",
       "</style>\n",
       "<table border=\"1\" class=\"dataframe\">\n",
       "  <thead>\n",
       "    <tr style=\"text-align: right;\">\n",
       "      <th></th>\n",
       "      <th>Internalpatientid</th>\n",
       "      <th>Age at condition documentation</th>\n",
       "      <th>Condition documented date</th>\n",
       "      <th>Condition type</th>\n",
       "      <th>Condition code icd10 subcategory</th>\n",
       "      <th>Diagnosis sequence number or rank</th>\n",
       "      <th>State</th>\n",
       "    </tr>\n",
       "  </thead>\n",
       "  <tbody>\n",
       "    <tr>\n",
       "      <th>459824</th>\n",
       "      <td>67</td>\n",
       "      <td>48.28</td>\n",
       "      <td>2010-08-09 14:59:14</td>\n",
       "      <td>Problem</td>\n",
       "      <td>Essential (primary) hypertension</td>\n",
       "      <td>None</td>\n",
       "      <td>California</td>\n",
       "    </tr>\n",
       "    <tr>\n",
       "      <th>459825</th>\n",
       "      <td>67</td>\n",
       "      <td>48.28</td>\n",
       "      <td>2010-08-09 14:59:14</td>\n",
       "      <td>Problem</td>\n",
       "      <td>Counseling, unspecified</td>\n",
       "      <td>None</td>\n",
       "      <td>California</td>\n",
       "    </tr>\n",
       "    <tr>\n",
       "      <th>459826</th>\n",
       "      <td>67</td>\n",
       "      <td>48.28</td>\n",
       "      <td>2010-08-09 14:59:14</td>\n",
       "      <td>Problem</td>\n",
       "      <td>Personal history of diseases of the circulator...</td>\n",
       "      <td>None</td>\n",
       "      <td>California</td>\n",
       "    </tr>\n",
       "    <tr>\n",
       "      <th>459827</th>\n",
       "      <td>67</td>\n",
       "      <td>48.28</td>\n",
       "      <td>2010-08-09 14:59:14</td>\n",
       "      <td>Problem</td>\n",
       "      <td>Essential (primary) hypertension</td>\n",
       "      <td>None</td>\n",
       "      <td>California</td>\n",
       "    </tr>\n",
       "    <tr>\n",
       "      <th>459828</th>\n",
       "      <td>67</td>\n",
       "      <td>48.28</td>\n",
       "      <td>2010-08-09 14:59:14</td>\n",
       "      <td>Problem</td>\n",
       "      <td>Chronic kidney disease, stage 2 (mild)</td>\n",
       "      <td>None</td>\n",
       "      <td>California</td>\n",
       "    </tr>\n",
       "    <tr>\n",
       "      <th>...</th>\n",
       "      <td>...</td>\n",
       "      <td>...</td>\n",
       "      <td>...</td>\n",
       "      <td>...</td>\n",
       "      <td>...</td>\n",
       "      <td>...</td>\n",
       "      <td>...</td>\n",
       "    </tr>\n",
       "    <tr>\n",
       "      <th>525272</th>\n",
       "      <td>168899</td>\n",
       "      <td>96.87</td>\n",
       "      <td>2019-09-13 03:48:33</td>\n",
       "      <td>Diagnosis</td>\n",
       "      <td>Long term (current) use of anticoagulants and ...</td>\n",
       "      <td>S</td>\n",
       "      <td>Pennsylvania</td>\n",
       "    </tr>\n",
       "    <tr>\n",
       "      <th>525273</th>\n",
       "      <td>168899</td>\n",
       "      <td>96.87</td>\n",
       "      <td>2019-09-13 03:48:33</td>\n",
       "      <td>Diagnosis</td>\n",
       "      <td>Unspecified atrial fibrillation and atrial flu...</td>\n",
       "      <td>S</td>\n",
       "      <td>Pennsylvania</td>\n",
       "    </tr>\n",
       "    <tr>\n",
       "      <th>255148</th>\n",
       "      <td>168899</td>\n",
       "      <td>96.91</td>\n",
       "      <td>2019-09-24 22:46:28</td>\n",
       "      <td>Diagnosis</td>\n",
       "      <td>Long term (current) use of anticoagulants and ...</td>\n",
       "      <td>S</td>\n",
       "      <td>Pennsylvania</td>\n",
       "    </tr>\n",
       "    <tr>\n",
       "      <th>255149</th>\n",
       "      <td>168899</td>\n",
       "      <td>96.91</td>\n",
       "      <td>2019-09-24 22:46:28</td>\n",
       "      <td>Diagnosis</td>\n",
       "      <td>Unspecified atrial fibrillation and atrial flu...</td>\n",
       "      <td>S</td>\n",
       "      <td>Pennsylvania</td>\n",
       "    </tr>\n",
       "    <tr>\n",
       "      <th>255150</th>\n",
       "      <td>168899</td>\n",
       "      <td>96.91</td>\n",
       "      <td>2019-09-24 22:46:28</td>\n",
       "      <td>Diagnosis</td>\n",
       "      <td>Encounter for other specified aftercare</td>\n",
       "      <td>P</td>\n",
       "      <td>Pennsylvania</td>\n",
       "    </tr>\n",
       "  </tbody>\n",
       "</table>\n",
       "<p>655308 rows × 7 columns</p>\n",
       "</div>"
      ],
      "text/plain": [
       "        Internalpatientid Age at condition documentation  \\\n",
       "459824                 67                          48.28   \n",
       "459825                 67                          48.28   \n",
       "459826                 67                          48.28   \n",
       "459827                 67                          48.28   \n",
       "459828                 67                          48.28   \n",
       "...                   ...                            ...   \n",
       "525272             168899                          96.87   \n",
       "525273             168899                          96.87   \n",
       "255148             168899                          96.91   \n",
       "255149             168899                          96.91   \n",
       "255150             168899                          96.91   \n",
       "\n",
       "       Condition documented date Condition type  \\\n",
       "459824       2010-08-09 14:59:14        Problem   \n",
       "459825       2010-08-09 14:59:14        Problem   \n",
       "459826       2010-08-09 14:59:14        Problem   \n",
       "459827       2010-08-09 14:59:14        Problem   \n",
       "459828       2010-08-09 14:59:14        Problem   \n",
       "...                          ...            ...   \n",
       "525272       2019-09-13 03:48:33      Diagnosis   \n",
       "525273       2019-09-13 03:48:33      Diagnosis   \n",
       "255148       2019-09-24 22:46:28      Diagnosis   \n",
       "255149       2019-09-24 22:46:28      Diagnosis   \n",
       "255150       2019-09-24 22:46:28      Diagnosis   \n",
       "\n",
       "                         Condition code icd10 subcategory  \\\n",
       "459824                   Essential (primary) hypertension   \n",
       "459825                            Counseling, unspecified   \n",
       "459826  Personal history of diseases of the circulator...   \n",
       "459827                   Essential (primary) hypertension   \n",
       "459828             Chronic kidney disease, stage 2 (mild)   \n",
       "...                                                   ...   \n",
       "525272  Long term (current) use of anticoagulants and ...   \n",
       "525273  Unspecified atrial fibrillation and atrial flu...   \n",
       "255148  Long term (current) use of anticoagulants and ...   \n",
       "255149  Unspecified atrial fibrillation and atrial flu...   \n",
       "255150            Encounter for other specified aftercare   \n",
       "\n",
       "       Diagnosis sequence number or rank         State  \n",
       "459824                              None    California  \n",
       "459825                              None    California  \n",
       "459826                              None    California  \n",
       "459827                              None    California  \n",
       "459828                              None    California  \n",
       "...                                  ...           ...  \n",
       "525272                                 S  Pennsylvania  \n",
       "525273                                 S  Pennsylvania  \n",
       "255148                                 S  Pennsylvania  \n",
       "255149                                 S  Pennsylvania  \n",
       "255150                                 P  Pennsylvania  \n",
       "\n",
       "[655308 rows x 7 columns]"
      ]
     },
     "execution_count": 12,
     "metadata": {},
     "output_type": "execute_result"
    }
   ],
   "source": [
    "conditions_train_data"
   ]
  },
  {
   "cell_type": "code",
   "execution_count": 13,
   "metadata": {
    "collapsed": false,
    "gather": {
     "logged": 1688639570403
    },
    "jupyter": {
     "outputs_hidden": false,
     "source_hidden": false
    },
    "nteract": {
     "transient": {
      "deleting": false
     }
    }
   },
   "outputs": [],
   "source": [
    "# Convert 'Age at measurement' column from object to float\n",
    "conditions_train_data[\"Age at condition documentation\"] = conditions_train_data[\"Age at condition documentation\"].astype(float)"
   ]
  },
  {
   "cell_type": "code",
   "execution_count": 14,
   "metadata": {
    "collapsed": false,
    "gather": {
     "logged": 1688639573967
    },
    "jupyter": {
     "outputs_hidden": false,
     "source_hidden": false
    },
    "nteract": {
     "transient": {
      "deleting": false
     }
    }
   },
   "outputs": [
    {
     "data": {
      "text/html": [
       "<div>\n",
       "<style scoped>\n",
       "    .dataframe tbody tr th:only-of-type {\n",
       "        vertical-align: middle;\n",
       "    }\n",
       "\n",
       "    .dataframe tbody tr th {\n",
       "        vertical-align: top;\n",
       "    }\n",
       "\n",
       "    .dataframe thead th {\n",
       "        text-align: right;\n",
       "    }\n",
       "</style>\n",
       "<table border=\"1\" class=\"dataframe\">\n",
       "  <thead>\n",
       "    <tr style=\"text-align: right;\">\n",
       "      <th></th>\n",
       "      <th>Internalpatientid</th>\n",
       "      <th>Age at condition documentation</th>\n",
       "      <th>Condition documented date</th>\n",
       "      <th>Condition type</th>\n",
       "      <th>Condition code icd10 subcategory</th>\n",
       "      <th>Diagnosis sequence number or rank</th>\n",
       "      <th>State</th>\n",
       "    </tr>\n",
       "  </thead>\n",
       "  <tbody>\n",
       "    <tr>\n",
       "      <th>459824</th>\n",
       "      <td>67</td>\n",
       "      <td>48.28</td>\n",
       "      <td>2010-08-09 14:59:14</td>\n",
       "      <td>Problem</td>\n",
       "      <td>Essential (primary) hypertension</td>\n",
       "      <td>None</td>\n",
       "      <td>California</td>\n",
       "    </tr>\n",
       "    <tr>\n",
       "      <th>459825</th>\n",
       "      <td>67</td>\n",
       "      <td>48.28</td>\n",
       "      <td>2010-08-09 14:59:14</td>\n",
       "      <td>Problem</td>\n",
       "      <td>Counseling, unspecified</td>\n",
       "      <td>None</td>\n",
       "      <td>California</td>\n",
       "    </tr>\n",
       "    <tr>\n",
       "      <th>459826</th>\n",
       "      <td>67</td>\n",
       "      <td>48.28</td>\n",
       "      <td>2010-08-09 14:59:14</td>\n",
       "      <td>Problem</td>\n",
       "      <td>Personal history of diseases of the circulator...</td>\n",
       "      <td>None</td>\n",
       "      <td>California</td>\n",
       "    </tr>\n",
       "    <tr>\n",
       "      <th>459827</th>\n",
       "      <td>67</td>\n",
       "      <td>48.28</td>\n",
       "      <td>2010-08-09 14:59:14</td>\n",
       "      <td>Problem</td>\n",
       "      <td>Essential (primary) hypertension</td>\n",
       "      <td>None</td>\n",
       "      <td>California</td>\n",
       "    </tr>\n",
       "    <tr>\n",
       "      <th>459828</th>\n",
       "      <td>67</td>\n",
       "      <td>48.28</td>\n",
       "      <td>2010-08-09 14:59:14</td>\n",
       "      <td>Problem</td>\n",
       "      <td>Chronic kidney disease, stage 2 (mild)</td>\n",
       "      <td>None</td>\n",
       "      <td>California</td>\n",
       "    </tr>\n",
       "    <tr>\n",
       "      <th>...</th>\n",
       "      <td>...</td>\n",
       "      <td>...</td>\n",
       "      <td>...</td>\n",
       "      <td>...</td>\n",
       "      <td>...</td>\n",
       "      <td>...</td>\n",
       "      <td>...</td>\n",
       "    </tr>\n",
       "    <tr>\n",
       "      <th>525272</th>\n",
       "      <td>168899</td>\n",
       "      <td>96.87</td>\n",
       "      <td>2019-09-13 03:48:33</td>\n",
       "      <td>Diagnosis</td>\n",
       "      <td>Long term (current) use of anticoagulants and ...</td>\n",
       "      <td>S</td>\n",
       "      <td>Pennsylvania</td>\n",
       "    </tr>\n",
       "    <tr>\n",
       "      <th>525273</th>\n",
       "      <td>168899</td>\n",
       "      <td>96.87</td>\n",
       "      <td>2019-09-13 03:48:33</td>\n",
       "      <td>Diagnosis</td>\n",
       "      <td>Unspecified atrial fibrillation and atrial flu...</td>\n",
       "      <td>S</td>\n",
       "      <td>Pennsylvania</td>\n",
       "    </tr>\n",
       "    <tr>\n",
       "      <th>255148</th>\n",
       "      <td>168899</td>\n",
       "      <td>96.91</td>\n",
       "      <td>2019-09-24 22:46:28</td>\n",
       "      <td>Diagnosis</td>\n",
       "      <td>Long term (current) use of anticoagulants and ...</td>\n",
       "      <td>S</td>\n",
       "      <td>Pennsylvania</td>\n",
       "    </tr>\n",
       "    <tr>\n",
       "      <th>255149</th>\n",
       "      <td>168899</td>\n",
       "      <td>96.91</td>\n",
       "      <td>2019-09-24 22:46:28</td>\n",
       "      <td>Diagnosis</td>\n",
       "      <td>Unspecified atrial fibrillation and atrial flu...</td>\n",
       "      <td>S</td>\n",
       "      <td>Pennsylvania</td>\n",
       "    </tr>\n",
       "    <tr>\n",
       "      <th>255150</th>\n",
       "      <td>168899</td>\n",
       "      <td>96.91</td>\n",
       "      <td>2019-09-24 22:46:28</td>\n",
       "      <td>Diagnosis</td>\n",
       "      <td>Encounter for other specified aftercare</td>\n",
       "      <td>P</td>\n",
       "      <td>Pennsylvania</td>\n",
       "    </tr>\n",
       "  </tbody>\n",
       "</table>\n",
       "<p>655308 rows × 7 columns</p>\n",
       "</div>"
      ],
      "text/plain": [
       "        Internalpatientid  Age at condition documentation  \\\n",
       "459824                 67                           48.28   \n",
       "459825                 67                           48.28   \n",
       "459826                 67                           48.28   \n",
       "459827                 67                           48.28   \n",
       "459828                 67                           48.28   \n",
       "...                   ...                             ...   \n",
       "525272             168899                           96.87   \n",
       "525273             168899                           96.87   \n",
       "255148             168899                           96.91   \n",
       "255149             168899                           96.91   \n",
       "255150             168899                           96.91   \n",
       "\n",
       "       Condition documented date Condition type  \\\n",
       "459824       2010-08-09 14:59:14        Problem   \n",
       "459825       2010-08-09 14:59:14        Problem   \n",
       "459826       2010-08-09 14:59:14        Problem   \n",
       "459827       2010-08-09 14:59:14        Problem   \n",
       "459828       2010-08-09 14:59:14        Problem   \n",
       "...                          ...            ...   \n",
       "525272       2019-09-13 03:48:33      Diagnosis   \n",
       "525273       2019-09-13 03:48:33      Diagnosis   \n",
       "255148       2019-09-24 22:46:28      Diagnosis   \n",
       "255149       2019-09-24 22:46:28      Diagnosis   \n",
       "255150       2019-09-24 22:46:28      Diagnosis   \n",
       "\n",
       "                         Condition code icd10 subcategory  \\\n",
       "459824                   Essential (primary) hypertension   \n",
       "459825                            Counseling, unspecified   \n",
       "459826  Personal history of diseases of the circulator...   \n",
       "459827                   Essential (primary) hypertension   \n",
       "459828             Chronic kidney disease, stage 2 (mild)   \n",
       "...                                                   ...   \n",
       "525272  Long term (current) use of anticoagulants and ...   \n",
       "525273  Unspecified atrial fibrillation and atrial flu...   \n",
       "255148  Long term (current) use of anticoagulants and ...   \n",
       "255149  Unspecified atrial fibrillation and atrial flu...   \n",
       "255150            Encounter for other specified aftercare   \n",
       "\n",
       "       Diagnosis sequence number or rank         State  \n",
       "459824                              None    California  \n",
       "459825                              None    California  \n",
       "459826                              None    California  \n",
       "459827                              None    California  \n",
       "459828                              None    California  \n",
       "...                                  ...           ...  \n",
       "525272                                 S  Pennsylvania  \n",
       "525273                                 S  Pennsylvania  \n",
       "255148                                 S  Pennsylvania  \n",
       "255149                                 S  Pennsylvania  \n",
       "255150                                 P  Pennsylvania  \n",
       "\n",
       "[655308 rows x 7 columns]"
      ]
     },
     "execution_count": 14,
     "metadata": {},
     "output_type": "execute_result"
    }
   ],
   "source": [
    "conditions_train_data"
   ]
  },
  {
   "cell_type": "markdown",
   "metadata": {},
   "source": [
    "# Max age"
   ]
  },
  {
   "cell_type": "code",
   "execution_count": 15,
   "metadata": {
    "collapsed": false,
    "gather": {
     "logged": 1688639604316
    },
    "jupyter": {
     "outputs_hidden": false,
     "source_hidden": false
    },
    "nteract": {
     "transient": {
      "deleting": false
     }
    }
   },
   "outputs": [
    {
     "data": {
      "text/html": [
       "<div>\n",
       "<style scoped>\n",
       "    .dataframe tbody tr th:only-of-type {\n",
       "        vertical-align: middle;\n",
       "    }\n",
       "\n",
       "    .dataframe tbody tr th {\n",
       "        vertical-align: top;\n",
       "    }\n",
       "\n",
       "    .dataframe thead th {\n",
       "        text-align: right;\n",
       "    }\n",
       "</style>\n",
       "<table border=\"1\" class=\"dataframe\">\n",
       "  <thead>\n",
       "    <tr style=\"text-align: right;\">\n",
       "      <th></th>\n",
       "      <th>Internalpatientid</th>\n",
       "      <th>Age at condition documentation</th>\n",
       "      <th>Condition documented date</th>\n",
       "      <th>Condition type</th>\n",
       "      <th>Condition code icd10 subcategory</th>\n",
       "      <th>Diagnosis sequence number or rank</th>\n",
       "      <th>State</th>\n",
       "    </tr>\n",
       "  </thead>\n",
       "  <tbody>\n",
       "    <tr>\n",
       "      <th>0</th>\n",
       "      <td>67</td>\n",
       "      <td>58.48</td>\n",
       "      <td>2020-10-22 11:49:50</td>\n",
       "      <td>Diagnosis</td>\n",
       "      <td>Encounter for immunization</td>\n",
       "      <td>P</td>\n",
       "      <td>California</td>\n",
       "    </tr>\n",
       "    <tr>\n",
       "      <th>1</th>\n",
       "      <td>200</td>\n",
       "      <td>87.80</td>\n",
       "      <td>2023-02-13 10:31:19</td>\n",
       "      <td>Diagnosis</td>\n",
       "      <td>Vascular dementia</td>\n",
       "      <td>P</td>\n",
       "      <td>Utah</td>\n",
       "    </tr>\n",
       "    <tr>\n",
       "      <th>2</th>\n",
       "      <td>291</td>\n",
       "      <td>83.18</td>\n",
       "      <td>2006-07-08 12:40:03</td>\n",
       "      <td>Diagnosis</td>\n",
       "      <td>Secondary and unspecified malignant neoplasm o...</td>\n",
       "      <td>4</td>\n",
       "      <td>Delaware</td>\n",
       "    </tr>\n",
       "    <tr>\n",
       "      <th>3</th>\n",
       "      <td>291</td>\n",
       "      <td>83.18</td>\n",
       "      <td>2006-07-08 12:40:03</td>\n",
       "      <td>Diagnosis</td>\n",
       "      <td>Pneumonia, unspecified organism</td>\n",
       "      <td>6</td>\n",
       "      <td>Delaware</td>\n",
       "    </tr>\n",
       "    <tr>\n",
       "      <th>4</th>\n",
       "      <td>291</td>\n",
       "      <td>83.18</td>\n",
       "      <td>2006-07-08 12:40:03</td>\n",
       "      <td>Diagnosis</td>\n",
       "      <td>Encounter for antineoplastic radiation therapy</td>\n",
       "      <td>1</td>\n",
       "      <td>Delaware</td>\n",
       "    </tr>\n",
       "    <tr>\n",
       "      <th>...</th>\n",
       "      <td>...</td>\n",
       "      <td>...</td>\n",
       "      <td>...</td>\n",
       "      <td>...</td>\n",
       "      <td>...</td>\n",
       "      <td>...</td>\n",
       "      <td>...</td>\n",
       "    </tr>\n",
       "    <tr>\n",
       "      <th>6507</th>\n",
       "      <td>168496</td>\n",
       "      <td>98.97</td>\n",
       "      <td>2023-02-03 01:11:44</td>\n",
       "      <td>Diagnosis</td>\n",
       "      <td>Not specified</td>\n",
       "      <td>P</td>\n",
       "      <td>California</td>\n",
       "    </tr>\n",
       "    <tr>\n",
       "      <th>6508</th>\n",
       "      <td>168496</td>\n",
       "      <td>98.97</td>\n",
       "      <td>2023-02-03 21:37:36</td>\n",
       "      <td>Diagnosis</td>\n",
       "      <td>Not specified</td>\n",
       "      <td>P</td>\n",
       "      <td>California</td>\n",
       "    </tr>\n",
       "    <tr>\n",
       "      <th>6509</th>\n",
       "      <td>168899</td>\n",
       "      <td>96.91</td>\n",
       "      <td>2019-09-24 22:46:28</td>\n",
       "      <td>Diagnosis</td>\n",
       "      <td>Long term (current) use of anticoagulants and ...</td>\n",
       "      <td>S</td>\n",
       "      <td>Pennsylvania</td>\n",
       "    </tr>\n",
       "    <tr>\n",
       "      <th>6510</th>\n",
       "      <td>168899</td>\n",
       "      <td>96.91</td>\n",
       "      <td>2019-09-24 22:46:28</td>\n",
       "      <td>Diagnosis</td>\n",
       "      <td>Unspecified atrial fibrillation and atrial flu...</td>\n",
       "      <td>S</td>\n",
       "      <td>Pennsylvania</td>\n",
       "    </tr>\n",
       "    <tr>\n",
       "      <th>6511</th>\n",
       "      <td>168899</td>\n",
       "      <td>96.91</td>\n",
       "      <td>2019-09-24 22:46:28</td>\n",
       "      <td>Diagnosis</td>\n",
       "      <td>Encounter for other specified aftercare</td>\n",
       "      <td>P</td>\n",
       "      <td>Pennsylvania</td>\n",
       "    </tr>\n",
       "  </tbody>\n",
       "</table>\n",
       "<p>6512 rows × 7 columns</p>\n",
       "</div>"
      ],
      "text/plain": [
       "      Internalpatientid  Age at condition documentation  \\\n",
       "0                    67                           58.48   \n",
       "1                   200                           87.80   \n",
       "2                   291                           83.18   \n",
       "3                   291                           83.18   \n",
       "4                   291                           83.18   \n",
       "...                 ...                             ...   \n",
       "6507             168496                           98.97   \n",
       "6508             168496                           98.97   \n",
       "6509             168899                           96.91   \n",
       "6510             168899                           96.91   \n",
       "6511             168899                           96.91   \n",
       "\n",
       "     Condition documented date Condition type  \\\n",
       "0          2020-10-22 11:49:50      Diagnosis   \n",
       "1          2023-02-13 10:31:19      Diagnosis   \n",
       "2          2006-07-08 12:40:03      Diagnosis   \n",
       "3          2006-07-08 12:40:03      Diagnosis   \n",
       "4          2006-07-08 12:40:03      Diagnosis   \n",
       "...                        ...            ...   \n",
       "6507       2023-02-03 01:11:44      Diagnosis   \n",
       "6508       2023-02-03 21:37:36      Diagnosis   \n",
       "6509       2019-09-24 22:46:28      Diagnosis   \n",
       "6510       2019-09-24 22:46:28      Diagnosis   \n",
       "6511       2019-09-24 22:46:28      Diagnosis   \n",
       "\n",
       "                       Condition code icd10 subcategory  \\\n",
       "0                            Encounter for immunization   \n",
       "1                                     Vascular dementia   \n",
       "2     Secondary and unspecified malignant neoplasm o...   \n",
       "3                       Pneumonia, unspecified organism   \n",
       "4        Encounter for antineoplastic radiation therapy   \n",
       "...                                                 ...   \n",
       "6507                                      Not specified   \n",
       "6508                                      Not specified   \n",
       "6509  Long term (current) use of anticoagulants and ...   \n",
       "6510  Unspecified atrial fibrillation and atrial flu...   \n",
       "6511            Encounter for other specified aftercare   \n",
       "\n",
       "     Diagnosis sequence number or rank         State  \n",
       "0                                    P    California  \n",
       "1                                    P          Utah  \n",
       "2                                    4      Delaware  \n",
       "3                                    6      Delaware  \n",
       "4                                    1      Delaware  \n",
       "...                                ...           ...  \n",
       "6507                                 P    California  \n",
       "6508                                 P    California  \n",
       "6509                                 S  Pennsylvania  \n",
       "6510                                 S  Pennsylvania  \n",
       "6511                                 P  Pennsylvania  \n",
       "\n",
       "[6512 rows x 7 columns]"
      ]
     },
     "execution_count": 15,
     "metadata": {},
     "output_type": "execute_result"
    }
   ],
   "source": [
    "# Find the maximum age for each internal patient id\n",
    "max_ages = conditions_train_data.groupby('Internalpatientid')['Age at condition documentation'].max().reset_index()\n",
    "\n",
    "# Merge with the original dataframe to get the rows with the highest age\n",
    "conditions_train_data = pd.merge(conditions_train_data, max_ages, on =['Internalpatientid','Age at condition documentation'], how = 'inner')\n",
    "\n",
    "conditions_train_data"
   ]
  },
  {
   "cell_type": "markdown",
   "metadata": {},
   "source": [
    "# Rounding off the Age "
   ]
  },
  {
   "cell_type": "code",
   "execution_count": 16,
   "metadata": {
    "collapsed": false,
    "gather": {
     "logged": 1688639616321
    },
    "jupyter": {
     "outputs_hidden": false
    },
    "nteract": {
     "transient": {
      "deleting": false
     }
    }
   },
   "outputs": [],
   "source": [
    "conditions_train_data['Age at condition documentation'] = conditions_train_data['Age at condition documentation'].apply(lambda x: round(x,))"
   ]
  },
  {
   "cell_type": "code",
   "execution_count": 17,
   "metadata": {
    "collapsed": false,
    "gather": {
     "logged": 1688639617222
    },
    "jupyter": {
     "outputs_hidden": false
    },
    "nteract": {
     "transient": {
      "deleting": false
     }
    }
   },
   "outputs": [
    {
     "data": {
      "text/html": [
       "<div>\n",
       "<style scoped>\n",
       "    .dataframe tbody tr th:only-of-type {\n",
       "        vertical-align: middle;\n",
       "    }\n",
       "\n",
       "    .dataframe tbody tr th {\n",
       "        vertical-align: top;\n",
       "    }\n",
       "\n",
       "    .dataframe thead th {\n",
       "        text-align: right;\n",
       "    }\n",
       "</style>\n",
       "<table border=\"1\" class=\"dataframe\">\n",
       "  <thead>\n",
       "    <tr style=\"text-align: right;\">\n",
       "      <th></th>\n",
       "      <th>Internalpatientid</th>\n",
       "      <th>Age at condition documentation</th>\n",
       "      <th>Condition documented date</th>\n",
       "      <th>Condition type</th>\n",
       "      <th>Condition code icd10 subcategory</th>\n",
       "      <th>Diagnosis sequence number or rank</th>\n",
       "      <th>State</th>\n",
       "    </tr>\n",
       "  </thead>\n",
       "  <tbody>\n",
       "    <tr>\n",
       "      <th>0</th>\n",
       "      <td>67</td>\n",
       "      <td>58</td>\n",
       "      <td>2020-10-22 11:49:50</td>\n",
       "      <td>Diagnosis</td>\n",
       "      <td>Encounter for immunization</td>\n",
       "      <td>P</td>\n",
       "      <td>California</td>\n",
       "    </tr>\n",
       "    <tr>\n",
       "      <th>1</th>\n",
       "      <td>200</td>\n",
       "      <td>88</td>\n",
       "      <td>2023-02-13 10:31:19</td>\n",
       "      <td>Diagnosis</td>\n",
       "      <td>Vascular dementia</td>\n",
       "      <td>P</td>\n",
       "      <td>Utah</td>\n",
       "    </tr>\n",
       "    <tr>\n",
       "      <th>2</th>\n",
       "      <td>291</td>\n",
       "      <td>83</td>\n",
       "      <td>2006-07-08 12:40:03</td>\n",
       "      <td>Diagnosis</td>\n",
       "      <td>Secondary and unspecified malignant neoplasm o...</td>\n",
       "      <td>4</td>\n",
       "      <td>Delaware</td>\n",
       "    </tr>\n",
       "    <tr>\n",
       "      <th>3</th>\n",
       "      <td>291</td>\n",
       "      <td>83</td>\n",
       "      <td>2006-07-08 12:40:03</td>\n",
       "      <td>Diagnosis</td>\n",
       "      <td>Pneumonia, unspecified organism</td>\n",
       "      <td>6</td>\n",
       "      <td>Delaware</td>\n",
       "    </tr>\n",
       "    <tr>\n",
       "      <th>4</th>\n",
       "      <td>291</td>\n",
       "      <td>83</td>\n",
       "      <td>2006-07-08 12:40:03</td>\n",
       "      <td>Diagnosis</td>\n",
       "      <td>Encounter for antineoplastic radiation therapy</td>\n",
       "      <td>1</td>\n",
       "      <td>Delaware</td>\n",
       "    </tr>\n",
       "    <tr>\n",
       "      <th>...</th>\n",
       "      <td>...</td>\n",
       "      <td>...</td>\n",
       "      <td>...</td>\n",
       "      <td>...</td>\n",
       "      <td>...</td>\n",
       "      <td>...</td>\n",
       "      <td>...</td>\n",
       "    </tr>\n",
       "    <tr>\n",
       "      <th>6507</th>\n",
       "      <td>168496</td>\n",
       "      <td>99</td>\n",
       "      <td>2023-02-03 01:11:44</td>\n",
       "      <td>Diagnosis</td>\n",
       "      <td>Not specified</td>\n",
       "      <td>P</td>\n",
       "      <td>California</td>\n",
       "    </tr>\n",
       "    <tr>\n",
       "      <th>6508</th>\n",
       "      <td>168496</td>\n",
       "      <td>99</td>\n",
       "      <td>2023-02-03 21:37:36</td>\n",
       "      <td>Diagnosis</td>\n",
       "      <td>Not specified</td>\n",
       "      <td>P</td>\n",
       "      <td>California</td>\n",
       "    </tr>\n",
       "    <tr>\n",
       "      <th>6509</th>\n",
       "      <td>168899</td>\n",
       "      <td>97</td>\n",
       "      <td>2019-09-24 22:46:28</td>\n",
       "      <td>Diagnosis</td>\n",
       "      <td>Long term (current) use of anticoagulants and ...</td>\n",
       "      <td>S</td>\n",
       "      <td>Pennsylvania</td>\n",
       "    </tr>\n",
       "    <tr>\n",
       "      <th>6510</th>\n",
       "      <td>168899</td>\n",
       "      <td>97</td>\n",
       "      <td>2019-09-24 22:46:28</td>\n",
       "      <td>Diagnosis</td>\n",
       "      <td>Unspecified atrial fibrillation and atrial flu...</td>\n",
       "      <td>S</td>\n",
       "      <td>Pennsylvania</td>\n",
       "    </tr>\n",
       "    <tr>\n",
       "      <th>6511</th>\n",
       "      <td>168899</td>\n",
       "      <td>97</td>\n",
       "      <td>2019-09-24 22:46:28</td>\n",
       "      <td>Diagnosis</td>\n",
       "      <td>Encounter for other specified aftercare</td>\n",
       "      <td>P</td>\n",
       "      <td>Pennsylvania</td>\n",
       "    </tr>\n",
       "  </tbody>\n",
       "</table>\n",
       "<p>6512 rows × 7 columns</p>\n",
       "</div>"
      ],
      "text/plain": [
       "      Internalpatientid  Age at condition documentation  \\\n",
       "0                    67                              58   \n",
       "1                   200                              88   \n",
       "2                   291                              83   \n",
       "3                   291                              83   \n",
       "4                   291                              83   \n",
       "...                 ...                             ...   \n",
       "6507             168496                              99   \n",
       "6508             168496                              99   \n",
       "6509             168899                              97   \n",
       "6510             168899                              97   \n",
       "6511             168899                              97   \n",
       "\n",
       "     Condition documented date Condition type  \\\n",
       "0          2020-10-22 11:49:50      Diagnosis   \n",
       "1          2023-02-13 10:31:19      Diagnosis   \n",
       "2          2006-07-08 12:40:03      Diagnosis   \n",
       "3          2006-07-08 12:40:03      Diagnosis   \n",
       "4          2006-07-08 12:40:03      Diagnosis   \n",
       "...                        ...            ...   \n",
       "6507       2023-02-03 01:11:44      Diagnosis   \n",
       "6508       2023-02-03 21:37:36      Diagnosis   \n",
       "6509       2019-09-24 22:46:28      Diagnosis   \n",
       "6510       2019-09-24 22:46:28      Diagnosis   \n",
       "6511       2019-09-24 22:46:28      Diagnosis   \n",
       "\n",
       "                       Condition code icd10 subcategory  \\\n",
       "0                            Encounter for immunization   \n",
       "1                                     Vascular dementia   \n",
       "2     Secondary and unspecified malignant neoplasm o...   \n",
       "3                       Pneumonia, unspecified organism   \n",
       "4        Encounter for antineoplastic radiation therapy   \n",
       "...                                                 ...   \n",
       "6507                                      Not specified   \n",
       "6508                                      Not specified   \n",
       "6509  Long term (current) use of anticoagulants and ...   \n",
       "6510  Unspecified atrial fibrillation and atrial flu...   \n",
       "6511            Encounter for other specified aftercare   \n",
       "\n",
       "     Diagnosis sequence number or rank         State  \n",
       "0                                    P    California  \n",
       "1                                    P          Utah  \n",
       "2                                    4      Delaware  \n",
       "3                                    6      Delaware  \n",
       "4                                    1      Delaware  \n",
       "...                                ...           ...  \n",
       "6507                                 P    California  \n",
       "6508                                 P    California  \n",
       "6509                                 S  Pennsylvania  \n",
       "6510                                 S  Pennsylvania  \n",
       "6511                                 P  Pennsylvania  \n",
       "\n",
       "[6512 rows x 7 columns]"
      ]
     },
     "execution_count": 17,
     "metadata": {},
     "output_type": "execute_result"
    }
   ],
   "source": [
    "conditions_train_data"
   ]
  },
  {
   "cell_type": "code",
   "execution_count": 18,
   "metadata": {
    "collapsed": false,
    "gather": {
     "logged": 1688641806542
    },
    "jupyter": {
     "outputs_hidden": false
    },
    "nteract": {
     "transient": {
      "deleting": false
     }
    }
   },
   "outputs": [],
   "source": [
    "# value counts\n",
    "df = conditions_train_data[\"Internalpatientid\"].value_counts().loc[lambda x: x  > 60]"
   ]
  },
  {
   "cell_type": "code",
   "execution_count": 19,
   "metadata": {
    "collapsed": false,
    "gather": {
     "logged": 1688641834307
    },
    "jupyter": {
     "outputs_hidden": false
    },
    "nteract": {
     "transient": {
      "deleting": false
     }
    }
   },
   "outputs": [],
   "source": [
    "df = df.reset_index() "
   ]
  },
  {
   "cell_type": "code",
   "execution_count": 20,
   "metadata": {
    "collapsed": false,
    "gather": {
     "logged": 1688641978280
    },
    "jupyter": {
     "outputs_hidden": false
    },
    "nteract": {
     "transient": {
      "deleting": false
     }
    }
   },
   "outputs": [],
   "source": [
    "df.columns = [\"Internalpatientid\",\"count_conditions\"]"
   ]
  },
  {
   "cell_type": "code",
   "execution_count": 21,
   "metadata": {
    "collapsed": false,
    "gather": {
     "logged": 1688642255621
    },
    "jupyter": {
     "outputs_hidden": false
    },
    "nteract": {
     "transient": {
      "deleting": false
     }
    }
   },
   "outputs": [],
   "source": [
    "df.drop('count_conditions', axis = 1, inplace = True)"
   ]
  },
  {
   "cell_type": "code",
   "execution_count": 22,
   "metadata": {
    "collapsed": false,
    "gather": {
     "logged": 1688642261992
    },
    "jupyter": {
     "outputs_hidden": false
    },
    "nteract": {
     "transient": {
      "deleting": false
     }
    }
   },
   "outputs": [
    {
     "data": {
      "text/html": [
       "<div>\n",
       "<style scoped>\n",
       "    .dataframe tbody tr th:only-of-type {\n",
       "        vertical-align: middle;\n",
       "    }\n",
       "\n",
       "    .dataframe tbody tr th {\n",
       "        vertical-align: top;\n",
       "    }\n",
       "\n",
       "    .dataframe thead th {\n",
       "        text-align: right;\n",
       "    }\n",
       "</style>\n",
       "<table border=\"1\" class=\"dataframe\">\n",
       "  <thead>\n",
       "    <tr style=\"text-align: right;\">\n",
       "      <th></th>\n",
       "      <th>Internalpatientid</th>\n",
       "    </tr>\n",
       "  </thead>\n",
       "  <tbody>\n",
       "    <tr>\n",
       "      <th>0</th>\n",
       "      <td>149757</td>\n",
       "    </tr>\n",
       "    <tr>\n",
       "      <th>1</th>\n",
       "      <td>88071</td>\n",
       "    </tr>\n",
       "    <tr>\n",
       "      <th>2</th>\n",
       "      <td>34287</td>\n",
       "    </tr>\n",
       "    <tr>\n",
       "      <th>3</th>\n",
       "      <td>128935</td>\n",
       "    </tr>\n",
       "    <tr>\n",
       "      <th>4</th>\n",
       "      <td>100314</td>\n",
       "    </tr>\n",
       "    <tr>\n",
       "      <th>5</th>\n",
       "      <td>100229</td>\n",
       "    </tr>\n",
       "    <tr>\n",
       "      <th>6</th>\n",
       "      <td>163951</td>\n",
       "    </tr>\n",
       "    <tr>\n",
       "      <th>7</th>\n",
       "      <td>26517</td>\n",
       "    </tr>\n",
       "    <tr>\n",
       "      <th>8</th>\n",
       "      <td>16325</td>\n",
       "    </tr>\n",
       "    <tr>\n",
       "      <th>9</th>\n",
       "      <td>132010</td>\n",
       "    </tr>\n",
       "    <tr>\n",
       "      <th>10</th>\n",
       "      <td>72812</td>\n",
       "    </tr>\n",
       "  </tbody>\n",
       "</table>\n",
       "</div>"
      ],
      "text/plain": [
       "    Internalpatientid\n",
       "0              149757\n",
       "1               88071\n",
       "2               34287\n",
       "3              128935\n",
       "4              100314\n",
       "5              100229\n",
       "6              163951\n",
       "7               26517\n",
       "8               16325\n",
       "9              132010\n",
       "10              72812"
      ]
     },
     "execution_count": 22,
     "metadata": {},
     "output_type": "execute_result"
    }
   ],
   "source": [
    "df"
   ]
  },
  {
   "cell_type": "code",
   "execution_count": 23,
   "metadata": {
    "collapsed": false,
    "gather": {
     "logged": 1688642410202
    },
    "jupyter": {
     "outputs_hidden": false
    },
    "nteract": {
     "transient": {
      "deleting": false
     }
    }
   },
   "outputs": [
    {
     "data": {
      "text/html": [
       "<div>\n",
       "<style scoped>\n",
       "    .dataframe tbody tr th:only-of-type {\n",
       "        vertical-align: middle;\n",
       "    }\n",
       "\n",
       "    .dataframe tbody tr th {\n",
       "        vertical-align: top;\n",
       "    }\n",
       "\n",
       "    .dataframe thead th {\n",
       "        text-align: right;\n",
       "    }\n",
       "</style>\n",
       "<table border=\"1\" class=\"dataframe\">\n",
       "  <thead>\n",
       "    <tr style=\"text-align: right;\">\n",
       "      <th></th>\n",
       "      <th>Internalpatientid</th>\n",
       "      <th>Age at condition documentation</th>\n",
       "      <th>Condition documented date</th>\n",
       "      <th>Condition type</th>\n",
       "      <th>Condition code icd10 subcategory</th>\n",
       "      <th>Diagnosis sequence number or rank</th>\n",
       "      <th>State</th>\n",
       "    </tr>\n",
       "  </thead>\n",
       "  <tbody>\n",
       "    <tr>\n",
       "      <th>0</th>\n",
       "      <td>67</td>\n",
       "      <td>58</td>\n",
       "      <td>2020-10-22 11:49:50</td>\n",
       "      <td>Diagnosis</td>\n",
       "      <td>Encounter for immunization</td>\n",
       "      <td>P</td>\n",
       "      <td>California</td>\n",
       "    </tr>\n",
       "    <tr>\n",
       "      <th>1</th>\n",
       "      <td>200</td>\n",
       "      <td>88</td>\n",
       "      <td>2023-02-13 10:31:19</td>\n",
       "      <td>Diagnosis</td>\n",
       "      <td>Vascular dementia</td>\n",
       "      <td>P</td>\n",
       "      <td>Utah</td>\n",
       "    </tr>\n",
       "    <tr>\n",
       "      <th>2</th>\n",
       "      <td>291</td>\n",
       "      <td>83</td>\n",
       "      <td>2006-07-08 12:40:03</td>\n",
       "      <td>Diagnosis</td>\n",
       "      <td>Secondary and unspecified malignant neoplasm o...</td>\n",
       "      <td>4</td>\n",
       "      <td>Delaware</td>\n",
       "    </tr>\n",
       "    <tr>\n",
       "      <th>3</th>\n",
       "      <td>291</td>\n",
       "      <td>83</td>\n",
       "      <td>2006-07-08 12:40:03</td>\n",
       "      <td>Diagnosis</td>\n",
       "      <td>Pneumonia, unspecified organism</td>\n",
       "      <td>6</td>\n",
       "      <td>Delaware</td>\n",
       "    </tr>\n",
       "    <tr>\n",
       "      <th>4</th>\n",
       "      <td>291</td>\n",
       "      <td>83</td>\n",
       "      <td>2006-07-08 12:40:03</td>\n",
       "      <td>Diagnosis</td>\n",
       "      <td>Encounter for antineoplastic radiation therapy</td>\n",
       "      <td>1</td>\n",
       "      <td>Delaware</td>\n",
       "    </tr>\n",
       "    <tr>\n",
       "      <th>...</th>\n",
       "      <td>...</td>\n",
       "      <td>...</td>\n",
       "      <td>...</td>\n",
       "      <td>...</td>\n",
       "      <td>...</td>\n",
       "      <td>...</td>\n",
       "      <td>...</td>\n",
       "    </tr>\n",
       "    <tr>\n",
       "      <th>6507</th>\n",
       "      <td>168496</td>\n",
       "      <td>99</td>\n",
       "      <td>2023-02-03 01:11:44</td>\n",
       "      <td>Diagnosis</td>\n",
       "      <td>Not specified</td>\n",
       "      <td>P</td>\n",
       "      <td>California</td>\n",
       "    </tr>\n",
       "    <tr>\n",
       "      <th>6508</th>\n",
       "      <td>168496</td>\n",
       "      <td>99</td>\n",
       "      <td>2023-02-03 21:37:36</td>\n",
       "      <td>Diagnosis</td>\n",
       "      <td>Not specified</td>\n",
       "      <td>P</td>\n",
       "      <td>California</td>\n",
       "    </tr>\n",
       "    <tr>\n",
       "      <th>6509</th>\n",
       "      <td>168899</td>\n",
       "      <td>97</td>\n",
       "      <td>2019-09-24 22:46:28</td>\n",
       "      <td>Diagnosis</td>\n",
       "      <td>Long term (current) use of anticoagulants and ...</td>\n",
       "      <td>S</td>\n",
       "      <td>Pennsylvania</td>\n",
       "    </tr>\n",
       "    <tr>\n",
       "      <th>6510</th>\n",
       "      <td>168899</td>\n",
       "      <td>97</td>\n",
       "      <td>2019-09-24 22:46:28</td>\n",
       "      <td>Diagnosis</td>\n",
       "      <td>Unspecified atrial fibrillation and atrial flu...</td>\n",
       "      <td>S</td>\n",
       "      <td>Pennsylvania</td>\n",
       "    </tr>\n",
       "    <tr>\n",
       "      <th>6511</th>\n",
       "      <td>168899</td>\n",
       "      <td>97</td>\n",
       "      <td>2019-09-24 22:46:28</td>\n",
       "      <td>Diagnosis</td>\n",
       "      <td>Encounter for other specified aftercare</td>\n",
       "      <td>P</td>\n",
       "      <td>Pennsylvania</td>\n",
       "    </tr>\n",
       "  </tbody>\n",
       "</table>\n",
       "<p>5683 rows × 7 columns</p>\n",
       "</div>"
      ],
      "text/plain": [
       "      Internalpatientid  Age at condition documentation  \\\n",
       "0                    67                              58   \n",
       "1                   200                              88   \n",
       "2                   291                              83   \n",
       "3                   291                              83   \n",
       "4                   291                              83   \n",
       "...                 ...                             ...   \n",
       "6507             168496                              99   \n",
       "6508             168496                              99   \n",
       "6509             168899                              97   \n",
       "6510             168899                              97   \n",
       "6511             168899                              97   \n",
       "\n",
       "     Condition documented date Condition type  \\\n",
       "0          2020-10-22 11:49:50      Diagnosis   \n",
       "1          2023-02-13 10:31:19      Diagnosis   \n",
       "2          2006-07-08 12:40:03      Diagnosis   \n",
       "3          2006-07-08 12:40:03      Diagnosis   \n",
       "4          2006-07-08 12:40:03      Diagnosis   \n",
       "...                        ...            ...   \n",
       "6507       2023-02-03 01:11:44      Diagnosis   \n",
       "6508       2023-02-03 21:37:36      Diagnosis   \n",
       "6509       2019-09-24 22:46:28      Diagnosis   \n",
       "6510       2019-09-24 22:46:28      Diagnosis   \n",
       "6511       2019-09-24 22:46:28      Diagnosis   \n",
       "\n",
       "                       Condition code icd10 subcategory  \\\n",
       "0                            Encounter for immunization   \n",
       "1                                     Vascular dementia   \n",
       "2     Secondary and unspecified malignant neoplasm o...   \n",
       "3                       Pneumonia, unspecified organism   \n",
       "4        Encounter for antineoplastic radiation therapy   \n",
       "...                                                 ...   \n",
       "6507                                      Not specified   \n",
       "6508                                      Not specified   \n",
       "6509  Long term (current) use of anticoagulants and ...   \n",
       "6510  Unspecified atrial fibrillation and atrial flu...   \n",
       "6511            Encounter for other specified aftercare   \n",
       "\n",
       "     Diagnosis sequence number or rank         State  \n",
       "0                                    P    California  \n",
       "1                                    P          Utah  \n",
       "2                                    4      Delaware  \n",
       "3                                    6      Delaware  \n",
       "4                                    1      Delaware  \n",
       "...                                ...           ...  \n",
       "6507                                 P    California  \n",
       "6508                                 P    California  \n",
       "6509                                 S  Pennsylvania  \n",
       "6510                                 S  Pennsylvania  \n",
       "6511                                 P  Pennsylvania  \n",
       "\n",
       "[5683 rows x 7 columns]"
      ]
     },
     "execution_count": 23,
     "metadata": {},
     "output_type": "execute_result"
    }
   ],
   "source": [
    "# Merge the two dataframes based on 'Internalpatientid'\n",
    "merged_df = conditions_train_data.merge(df, on='Internalpatientid', how='left')\n",
    "\n",
    "# Filter rows from DataFrame 1 that have matching values in DataFrame 2\n",
    "filtered_df = merged_df[~merged_df['Internalpatientid'].isin(df['Internalpatientid'])]\n",
    "\n",
    "# Print only the columns of DataFrame 1\n",
    "filtered_df"
   ]
  },
  {
   "cell_type": "code",
   "execution_count": 24,
   "metadata": {
    "collapsed": false,
    "gather": {
     "logged": 1688642581002
    },
    "jupyter": {
     "outputs_hidden": false
    },
    "nteract": {
     "transient": {
      "deleting": false
     }
    }
   },
   "outputs": [],
   "source": [
    "df_new = filtered_df "
   ]
  },
  {
   "cell_type": "markdown",
   "metadata": {},
   "source": [
    "# Adding  'Age at condition documentation' & 'Condition code icd10 subcategory' columns with '_'"
   ]
  },
  {
   "cell_type": "code",
   "execution_count": 25,
   "metadata": {
    "collapsed": false,
    "gather": {
     "logged": 1688642710870
    },
    "jupyter": {
     "outputs_hidden": false
    },
    "nteract": {
     "transient": {
      "deleting": false
     }
    }
   },
   "outputs": [],
   "source": [
    "#In this code, we create a new column called 'Lab test description_Result numeric' by concatenating the values of the 'lab test description' column, underscore ('_'), and the 'lab test results' column\n",
    "#converted to a string using the `astype(str)` function(because we cant't add differnt dtype)\n",
    "df_new['Condition_code_icd10_subcategory'] =  df_new['Age at condition documentation'].astype(str) + '_' +  df_new['Condition code icd10 subcategory']"
   ]
  },
  {
   "cell_type": "code",
   "execution_count": 26,
   "metadata": {
    "collapsed": false,
    "gather": {
     "logged": 1688642723190
    },
    "jupyter": {
     "outputs_hidden": false
    },
    "nteract": {
     "transient": {
      "deleting": false
     }
    }
   },
   "outputs": [
    {
     "data": {
      "text/html": [
       "<div>\n",
       "<style scoped>\n",
       "    .dataframe tbody tr th:only-of-type {\n",
       "        vertical-align: middle;\n",
       "    }\n",
       "\n",
       "    .dataframe tbody tr th {\n",
       "        vertical-align: top;\n",
       "    }\n",
       "\n",
       "    .dataframe thead th {\n",
       "        text-align: right;\n",
       "    }\n",
       "</style>\n",
       "<table border=\"1\" class=\"dataframe\">\n",
       "  <thead>\n",
       "    <tr style=\"text-align: right;\">\n",
       "      <th></th>\n",
       "      <th>Internalpatientid</th>\n",
       "      <th>Age at condition documentation</th>\n",
       "      <th>Condition documented date</th>\n",
       "      <th>Condition type</th>\n",
       "      <th>Condition code icd10 subcategory</th>\n",
       "      <th>Diagnosis sequence number or rank</th>\n",
       "      <th>State</th>\n",
       "      <th>Condition_code_icd10_subcategory</th>\n",
       "    </tr>\n",
       "  </thead>\n",
       "  <tbody>\n",
       "    <tr>\n",
       "      <th>0</th>\n",
       "      <td>67</td>\n",
       "      <td>58</td>\n",
       "      <td>2020-10-22 11:49:50</td>\n",
       "      <td>Diagnosis</td>\n",
       "      <td>Encounter for immunization</td>\n",
       "      <td>P</td>\n",
       "      <td>California</td>\n",
       "      <td>58_Encounter for immunization</td>\n",
       "    </tr>\n",
       "    <tr>\n",
       "      <th>1</th>\n",
       "      <td>200</td>\n",
       "      <td>88</td>\n",
       "      <td>2023-02-13 10:31:19</td>\n",
       "      <td>Diagnosis</td>\n",
       "      <td>Vascular dementia</td>\n",
       "      <td>P</td>\n",
       "      <td>Utah</td>\n",
       "      <td>88_Vascular dementia</td>\n",
       "    </tr>\n",
       "    <tr>\n",
       "      <th>2</th>\n",
       "      <td>291</td>\n",
       "      <td>83</td>\n",
       "      <td>2006-07-08 12:40:03</td>\n",
       "      <td>Diagnosis</td>\n",
       "      <td>Secondary and unspecified malignant neoplasm o...</td>\n",
       "      <td>4</td>\n",
       "      <td>Delaware</td>\n",
       "      <td>83_Secondary and unspecified malignant neoplas...</td>\n",
       "    </tr>\n",
       "    <tr>\n",
       "      <th>3</th>\n",
       "      <td>291</td>\n",
       "      <td>83</td>\n",
       "      <td>2006-07-08 12:40:03</td>\n",
       "      <td>Diagnosis</td>\n",
       "      <td>Pneumonia, unspecified organism</td>\n",
       "      <td>6</td>\n",
       "      <td>Delaware</td>\n",
       "      <td>83_Pneumonia, unspecified organism</td>\n",
       "    </tr>\n",
       "    <tr>\n",
       "      <th>4</th>\n",
       "      <td>291</td>\n",
       "      <td>83</td>\n",
       "      <td>2006-07-08 12:40:03</td>\n",
       "      <td>Diagnosis</td>\n",
       "      <td>Encounter for antineoplastic radiation therapy</td>\n",
       "      <td>1</td>\n",
       "      <td>Delaware</td>\n",
       "      <td>83_Encounter for antineoplastic radiation therapy</td>\n",
       "    </tr>\n",
       "    <tr>\n",
       "      <th>...</th>\n",
       "      <td>...</td>\n",
       "      <td>...</td>\n",
       "      <td>...</td>\n",
       "      <td>...</td>\n",
       "      <td>...</td>\n",
       "      <td>...</td>\n",
       "      <td>...</td>\n",
       "      <td>...</td>\n",
       "    </tr>\n",
       "    <tr>\n",
       "      <th>6507</th>\n",
       "      <td>168496</td>\n",
       "      <td>99</td>\n",
       "      <td>2023-02-03 01:11:44</td>\n",
       "      <td>Diagnosis</td>\n",
       "      <td>Not specified</td>\n",
       "      <td>P</td>\n",
       "      <td>California</td>\n",
       "      <td>99_Not specified</td>\n",
       "    </tr>\n",
       "    <tr>\n",
       "      <th>6508</th>\n",
       "      <td>168496</td>\n",
       "      <td>99</td>\n",
       "      <td>2023-02-03 21:37:36</td>\n",
       "      <td>Diagnosis</td>\n",
       "      <td>Not specified</td>\n",
       "      <td>P</td>\n",
       "      <td>California</td>\n",
       "      <td>99_Not specified</td>\n",
       "    </tr>\n",
       "    <tr>\n",
       "      <th>6509</th>\n",
       "      <td>168899</td>\n",
       "      <td>97</td>\n",
       "      <td>2019-09-24 22:46:28</td>\n",
       "      <td>Diagnosis</td>\n",
       "      <td>Long term (current) use of anticoagulants and ...</td>\n",
       "      <td>S</td>\n",
       "      <td>Pennsylvania</td>\n",
       "      <td>97_Long term (current) use of anticoagulants a...</td>\n",
       "    </tr>\n",
       "    <tr>\n",
       "      <th>6510</th>\n",
       "      <td>168899</td>\n",
       "      <td>97</td>\n",
       "      <td>2019-09-24 22:46:28</td>\n",
       "      <td>Diagnosis</td>\n",
       "      <td>Unspecified atrial fibrillation and atrial flu...</td>\n",
       "      <td>S</td>\n",
       "      <td>Pennsylvania</td>\n",
       "      <td>97_Unspecified atrial fibrillation and atrial ...</td>\n",
       "    </tr>\n",
       "    <tr>\n",
       "      <th>6511</th>\n",
       "      <td>168899</td>\n",
       "      <td>97</td>\n",
       "      <td>2019-09-24 22:46:28</td>\n",
       "      <td>Diagnosis</td>\n",
       "      <td>Encounter for other specified aftercare</td>\n",
       "      <td>P</td>\n",
       "      <td>Pennsylvania</td>\n",
       "      <td>97_Encounter for other specified aftercare</td>\n",
       "    </tr>\n",
       "  </tbody>\n",
       "</table>\n",
       "<p>5683 rows × 8 columns</p>\n",
       "</div>"
      ],
      "text/plain": [
       "      Internalpatientid  Age at condition documentation  \\\n",
       "0                    67                              58   \n",
       "1                   200                              88   \n",
       "2                   291                              83   \n",
       "3                   291                              83   \n",
       "4                   291                              83   \n",
       "...                 ...                             ...   \n",
       "6507             168496                              99   \n",
       "6508             168496                              99   \n",
       "6509             168899                              97   \n",
       "6510             168899                              97   \n",
       "6511             168899                              97   \n",
       "\n",
       "     Condition documented date Condition type  \\\n",
       "0          2020-10-22 11:49:50      Diagnosis   \n",
       "1          2023-02-13 10:31:19      Diagnosis   \n",
       "2          2006-07-08 12:40:03      Diagnosis   \n",
       "3          2006-07-08 12:40:03      Diagnosis   \n",
       "4          2006-07-08 12:40:03      Diagnosis   \n",
       "...                        ...            ...   \n",
       "6507       2023-02-03 01:11:44      Diagnosis   \n",
       "6508       2023-02-03 21:37:36      Diagnosis   \n",
       "6509       2019-09-24 22:46:28      Diagnosis   \n",
       "6510       2019-09-24 22:46:28      Diagnosis   \n",
       "6511       2019-09-24 22:46:28      Diagnosis   \n",
       "\n",
       "                       Condition code icd10 subcategory  \\\n",
       "0                            Encounter for immunization   \n",
       "1                                     Vascular dementia   \n",
       "2     Secondary and unspecified malignant neoplasm o...   \n",
       "3                       Pneumonia, unspecified organism   \n",
       "4        Encounter for antineoplastic radiation therapy   \n",
       "...                                                 ...   \n",
       "6507                                      Not specified   \n",
       "6508                                      Not specified   \n",
       "6509  Long term (current) use of anticoagulants and ...   \n",
       "6510  Unspecified atrial fibrillation and atrial flu...   \n",
       "6511            Encounter for other specified aftercare   \n",
       "\n",
       "     Diagnosis sequence number or rank         State  \\\n",
       "0                                    P    California   \n",
       "1                                    P          Utah   \n",
       "2                                    4      Delaware   \n",
       "3                                    6      Delaware   \n",
       "4                                    1      Delaware   \n",
       "...                                ...           ...   \n",
       "6507                                 P    California   \n",
       "6508                                 P    California   \n",
       "6509                                 S  Pennsylvania   \n",
       "6510                                 S  Pennsylvania   \n",
       "6511                                 P  Pennsylvania   \n",
       "\n",
       "                       Condition_code_icd10_subcategory  \n",
       "0                         58_Encounter for immunization  \n",
       "1                                  88_Vascular dementia  \n",
       "2     83_Secondary and unspecified malignant neoplas...  \n",
       "3                    83_Pneumonia, unspecified organism  \n",
       "4     83_Encounter for antineoplastic radiation therapy  \n",
       "...                                                 ...  \n",
       "6507                                   99_Not specified  \n",
       "6508                                   99_Not specified  \n",
       "6509  97_Long term (current) use of anticoagulants a...  \n",
       "6510  97_Unspecified atrial fibrillation and atrial ...  \n",
       "6511         97_Encounter for other specified aftercare  \n",
       "\n",
       "[5683 rows x 8 columns]"
      ]
     },
     "execution_count": 26,
     "metadata": {},
     "output_type": "execute_result"
    }
   ],
   "source": [
    "df_new"
   ]
  },
  {
   "cell_type": "markdown",
   "metadata": {},
   "source": [
    "# Dropping all unnecessary columns"
   ]
  },
  {
   "cell_type": "code",
   "execution_count": 27,
   "metadata": {
    "collapsed": false,
    "gather": {
     "logged": 1688642742504
    },
    "jupyter": {
     "outputs_hidden": false
    },
    "nteract": {
     "transient": {
      "deleting": false
     }
    }
   },
   "outputs": [],
   "source": [
    "# Remove columns \n",
    "df_new.drop([\"Age at condition documentation\",\"Condition documented date\",\"Condition type\",\n",
    "                           \"Condition code icd10 subcategory\",\"Diagnosis sequence number or rank\",\"State\"], axis=1,inplace=True)"
   ]
  },
  {
   "cell_type": "code",
   "execution_count": 28,
   "metadata": {
    "collapsed": false,
    "gather": {
     "logged": 1688642758159
    },
    "jupyter": {
     "outputs_hidden": false
    },
    "nteract": {
     "transient": {
      "deleting": false
     }
    }
   },
   "outputs": [],
   "source": [
    "df_new = df_new"
   ]
  },
  {
   "cell_type": "code",
   "execution_count": 29,
   "metadata": {
    "collapsed": false,
    "gather": {
     "logged": 1688642770379
    },
    "jupyter": {
     "outputs_hidden": false
    },
    "nteract": {
     "transient": {
      "deleting": false
     }
    }
   },
   "outputs": [
    {
     "data": {
      "text/html": [
       "<div>\n",
       "<style scoped>\n",
       "    .dataframe tbody tr th:only-of-type {\n",
       "        vertical-align: middle;\n",
       "    }\n",
       "\n",
       "    .dataframe tbody tr th {\n",
       "        vertical-align: top;\n",
       "    }\n",
       "\n",
       "    .dataframe thead th {\n",
       "        text-align: right;\n",
       "    }\n",
       "</style>\n",
       "<table border=\"1\" class=\"dataframe\">\n",
       "  <thead>\n",
       "    <tr style=\"text-align: right;\">\n",
       "      <th></th>\n",
       "      <th>Internalpatientid</th>\n",
       "      <th>Condition_code_icd10_subcategory</th>\n",
       "    </tr>\n",
       "  </thead>\n",
       "  <tbody>\n",
       "    <tr>\n",
       "      <th>0</th>\n",
       "      <td>67</td>\n",
       "      <td>58_Encounter for immunization</td>\n",
       "    </tr>\n",
       "    <tr>\n",
       "      <th>1</th>\n",
       "      <td>200</td>\n",
       "      <td>88_Vascular dementia</td>\n",
       "    </tr>\n",
       "    <tr>\n",
       "      <th>2</th>\n",
       "      <td>291</td>\n",
       "      <td>83_Secondary and unspecified malignant neoplas...</td>\n",
       "    </tr>\n",
       "    <tr>\n",
       "      <th>3</th>\n",
       "      <td>291</td>\n",
       "      <td>83_Pneumonia, unspecified organism</td>\n",
       "    </tr>\n",
       "    <tr>\n",
       "      <th>4</th>\n",
       "      <td>291</td>\n",
       "      <td>83_Encounter for antineoplastic radiation therapy</td>\n",
       "    </tr>\n",
       "    <tr>\n",
       "      <th>...</th>\n",
       "      <td>...</td>\n",
       "      <td>...</td>\n",
       "    </tr>\n",
       "    <tr>\n",
       "      <th>6507</th>\n",
       "      <td>168496</td>\n",
       "      <td>99_Not specified</td>\n",
       "    </tr>\n",
       "    <tr>\n",
       "      <th>6508</th>\n",
       "      <td>168496</td>\n",
       "      <td>99_Not specified</td>\n",
       "    </tr>\n",
       "    <tr>\n",
       "      <th>6509</th>\n",
       "      <td>168899</td>\n",
       "      <td>97_Long term (current) use of anticoagulants a...</td>\n",
       "    </tr>\n",
       "    <tr>\n",
       "      <th>6510</th>\n",
       "      <td>168899</td>\n",
       "      <td>97_Unspecified atrial fibrillation and atrial ...</td>\n",
       "    </tr>\n",
       "    <tr>\n",
       "      <th>6511</th>\n",
       "      <td>168899</td>\n",
       "      <td>97_Encounter for other specified aftercare</td>\n",
       "    </tr>\n",
       "  </tbody>\n",
       "</table>\n",
       "<p>5683 rows × 2 columns</p>\n",
       "</div>"
      ],
      "text/plain": [
       "      Internalpatientid                   Condition_code_icd10_subcategory\n",
       "0                    67                      58_Encounter for immunization\n",
       "1                   200                               88_Vascular dementia\n",
       "2                   291  83_Secondary and unspecified malignant neoplas...\n",
       "3                   291                 83_Pneumonia, unspecified organism\n",
       "4                   291  83_Encounter for antineoplastic radiation therapy\n",
       "...                 ...                                                ...\n",
       "6507             168496                                   99_Not specified\n",
       "6508             168496                                   99_Not specified\n",
       "6509             168899  97_Long term (current) use of anticoagulants a...\n",
       "6510             168899  97_Unspecified atrial fibrillation and atrial ...\n",
       "6511             168899         97_Encounter for other specified aftercare\n",
       "\n",
       "[5683 rows x 2 columns]"
      ]
     },
     "execution_count": 29,
     "metadata": {},
     "output_type": "execute_result"
    }
   ],
   "source": [
    "df_new"
   ]
  },
  {
   "cell_type": "code",
   "execution_count": 31,
   "metadata": {
    "collapsed": false,
    "gather": {
     "logged": 1688642806559
    },
    "jupyter": {
     "outputs_hidden": false
    },
    "nteract": {
     "transient": {
      "deleting": false
     }
    }
   },
   "outputs": [
    {
     "data": {
      "text/plain": [
       "989"
      ]
     },
     "execution_count": 31,
     "metadata": {},
     "output_type": "execute_result"
    }
   ],
   "source": [
    "# Group the DataFrame by 'Internalpatientid' and concatenate the icd10 values and\n",
    "#The purpose of `x.dropna()` is to remove any missing values from the Series before applying a subsequent operation,\n",
    "# such as concatenation using the `join` function. By dropping the missing values,\n",
    "#we ensure that only non-null values are included in the resulting concatenated string.\n",
    "df_grouped = df_new.groupby('Internalpatientid').agg(lambda x: ','.join(x.dropna()))\n",
    "df_grouped \n",
    "\n",
    "# Reset the index of the grouped DataFrame\n",
    "df_grouped_condition = df_grouped.reset_index()\n",
    "len(df_grouped_condition)"
   ]
  },
  {
   "cell_type": "code",
   "execution_count": 32,
   "metadata": {
    "collapsed": false,
    "gather": {
     "logged": 1688642879872
    },
    "jupyter": {
     "outputs_hidden": false
    },
    "nteract": {
     "transient": {
      "deleting": false
     }
    }
   },
   "outputs": [],
   "source": [
    "df_grouped_condition.to_csv('/mnt/batch/tasks/shared/LS_root/mounts/clusters/team-3-susai-gpu2/code/Users/900379/Output_files_quality/df_conditions_quality.csv')"
   ]
  },
  {
   "cell_type": "code",
   "execution_count": null,
   "metadata": {},
   "outputs": [],
   "source": []
  }
 ],
 "metadata": {
  "kernel_info": {
   "name": "python38-azureml"
  },
  "kernelspec": {
   "display_name": "Python 3.8 - AzureML",
   "language": "python",
   "name": "python38-azureml"
  },
  "language_info": {
   "codemirror_mode": {
    "name": "ipython",
    "version": 3
   },
   "file_extension": ".py",
   "mimetype": "text/x-python",
   "name": "python",
   "nbconvert_exporter": "python",
   "pygments_lexer": "ipython3",
   "version": "3.8.5"
  },
  "microsoft": {
   "host": {
    "AzureML": {
     "notebookHasBeenCompleted": true
    }
   },
   "ms_spell_check": {
    "ms_spell_check_language": "en"
   }
  },
  "nteract": {
   "version": "nteract-front-end@1.0.0"
  }
 },
 "nbformat": 4,
 "nbformat_minor": 4
}
