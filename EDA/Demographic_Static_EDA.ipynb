{
  "cells": [
    {
      "cell_type": "code",
      "source": [
        "from azureml.core import Workspace, Dataset\r\n",
        "\r\n",
        "subscription_id = 'bcfe0c62-8ebe-4df0-a46d-1efcf8739a5b'\r\n",
        "resource_group = 'VChamp-Team3'\r\n",
        "workspace_name = 'vchamp-team3'\r\n",
        "\r\n",
        "\r\n",
        "# storage account : Algorithmia, Resource group: VChamp-Team3 and workspace: vchamp-team3.\r\n",
        "\r\n",
        "workspace = Workspace(subscription_id, resource_group, workspace_name)"
      ],
      "outputs": [],
      "execution_count": 1,
      "metadata": {
        "gather": {
          "logged": 1688283240043
        }
      }
    },
    {
      "cell_type": "code",
      "source": [
        "#['data_team3_synthetic_quality_check']\r\n",
        "datastore = workspace.datastores['data_team3_synthetic_train']"
      ],
      "outputs": [],
      "execution_count": 2,
      "metadata": {
        "jupyter": {
          "source_hidden": false,
          "outputs_hidden": false
        },
        "nteract": {
          "transient": {
            "deleting": false
          }
        },
        "gather": {
          "logged": 1688283240432
        }
      }
    },
    {
      "cell_type": "code",
      "source": [
        "dataset = Dataset.Tabular.from_delimited_files(path = [(datastore, 'demographics_static_train.csv')])\r\n",
        "\r\n",
        "# preview the first 3 rows of the dataset\r\n",
        "# dataset.to_pandas_dataframe()"
      ],
      "outputs": [],
      "execution_count": 3,
      "metadata": {
        "jupyter": {
          "source_hidden": false,
          "outputs_hidden": false
        },
        "nteract": {
          "transient": {
            "deleting": false
          }
        },
        "gather": {
          "logged": 1688283244976
        }
      }
    },
    {
      "cell_type": "code",
      "source": [
        "demographic_static = dataset.to_pandas_dataframe()"
      ],
      "outputs": [],
      "execution_count": 4,
      "metadata": {
        "jupyter": {
          "source_hidden": false,
          "outputs_hidden": false
        },
        "nteract": {
          "transient": {
            "deleting": false
          }
        },
        "gather": {
          "logged": 1688283247561
        }
      }
    },
    {
      "cell_type": "code",
      "source": [
        "type(demographic_static)"
      ],
      "outputs": [
        {
          "output_type": "execute_result",
          "execution_count": 5,
          "data": {
            "text/plain": "pandas.core.frame.DataFrame"
          },
          "metadata": {}
        }
      ],
      "execution_count": 5,
      "metadata": {
        "jupyter": {
          "source_hidden": false,
          "outputs_hidden": false
        },
        "nteract": {
          "transient": {
            "deleting": false
          }
        },
        "gather": {
          "logged": 1688283249276
        }
      }
    },
    {
      "cell_type": "markdown",
      "source": [
        "### **DEMOGRAPHIC STATIC**\r\n",
        "\r\n",
        "Listing all the features of \"Demographic Static\" files.\r\n",
        "\r\n",
        "**Internalpatientid** - Unique internal id for the patient.\r\n",
        "\r\n",
        "**Ethnicity** - The quality or fact of belonging to a population group or subgroup made up of people who share a common cultural background or descent.('Not specified', 'Not Hispanic or Latino', 'Hispanic or Latino')\r\n",
        "\r\n",
        "**Gender** - Male or Female.\r\n",
        "\r\n",
        "**Races **- a group of people of common ancestry, distinguished from others by physical characteristics, such as hair type, colour of eyes and skin, stature, etc. ('Other', 'White', 'Black or African American', 'Not specified (no value)', 'Asian', 'White ; Other', 'Black or African American ; White', 'Black or African American ; Other')\r\n",
        "\r\n",
        " **Veteran flag** - a person who has served in the army, navy or air force, especially during a war(Yes or NO)"
      ],
      "metadata": {
        "nteract": {
          "transient": {
            "deleting": false
          }
        }
      }
    },
    {
      "cell_type": "code",
      "source": [
        "demographic_static.head()"
      ],
      "outputs": [
        {
          "output_type": "execute_result",
          "execution_count": 6,
          "data": {
            "text/plain": "   Column1  Internalpatientid               Ethnicity  Gender  \\\n0        0             168674      Hispanic or Latino    Male   \n1        1             168681  Not Hispanic or Latino    Male   \n2        2             168696  Not Hispanic or Latino  Female   \n3        3             168711  Not Hispanic or Latino    Male   \n4        4             168720  Not Hispanic or Latino    Male   \n\n                      Races  Veteran flag  \n0                     White          True  \n1                     White          True  \n2  Not specified (no value)          True  \n3                     Other          True  \n4                     White          True  ",
            "text/html": "<div>\n<style scoped>\n    .dataframe tbody tr th:only-of-type {\n        vertical-align: middle;\n    }\n\n    .dataframe tbody tr th {\n        vertical-align: top;\n    }\n\n    .dataframe thead th {\n        text-align: right;\n    }\n</style>\n<table border=\"1\" class=\"dataframe\">\n  <thead>\n    <tr style=\"text-align: right;\">\n      <th></th>\n      <th>Column1</th>\n      <th>Internalpatientid</th>\n      <th>Ethnicity</th>\n      <th>Gender</th>\n      <th>Races</th>\n      <th>Veteran flag</th>\n    </tr>\n  </thead>\n  <tbody>\n    <tr>\n      <th>0</th>\n      <td>0</td>\n      <td>168674</td>\n      <td>Hispanic or Latino</td>\n      <td>Male</td>\n      <td>White</td>\n      <td>True</td>\n    </tr>\n    <tr>\n      <th>1</th>\n      <td>1</td>\n      <td>168681</td>\n      <td>Not Hispanic or Latino</td>\n      <td>Male</td>\n      <td>White</td>\n      <td>True</td>\n    </tr>\n    <tr>\n      <th>2</th>\n      <td>2</td>\n      <td>168696</td>\n      <td>Not Hispanic or Latino</td>\n      <td>Female</td>\n      <td>Not specified (no value)</td>\n      <td>True</td>\n    </tr>\n    <tr>\n      <th>3</th>\n      <td>3</td>\n      <td>168711</td>\n      <td>Not Hispanic or Latino</td>\n      <td>Male</td>\n      <td>Other</td>\n      <td>True</td>\n    </tr>\n    <tr>\n      <th>4</th>\n      <td>4</td>\n      <td>168720</td>\n      <td>Not Hispanic or Latino</td>\n      <td>Male</td>\n      <td>White</td>\n      <td>True</td>\n    </tr>\n  </tbody>\n</table>\n</div>"
          },
          "metadata": {}
        }
      ],
      "execution_count": 6,
      "metadata": {
        "jupyter": {
          "source_hidden": false,
          "outputs_hidden": false
        },
        "nteract": {
          "transient": {
            "deleting": false
          }
        },
        "gather": {
          "logged": 1688283253288
        }
      }
    },
    {
      "cell_type": "code",
      "source": [
        "# shape of the dataframe\r\n",
        "demographic_static.shape"
      ],
      "outputs": [
        {
          "output_type": "execute_result",
          "execution_count": 7,
          "data": {
            "text/plain": "(133252, 6)"
          },
          "metadata": {}
        }
      ],
      "execution_count": 7,
      "metadata": {
        "jupyter": {
          "source_hidden": false,
          "outputs_hidden": false
        },
        "nteract": {
          "transient": {
            "deleting": false
          }
        },
        "gather": {
          "logged": 1688283255956
        }
      }
    },
    {
      "cell_type": "markdown",
      "source": [
        "**Dropping the \"column1\" column which is unnecessary for the analysis.**"
      ],
      "metadata": {
        "nteract": {
          "transient": {
            "deleting": false
          }
        }
      }
    },
    {
      "cell_type": "code",
      "source": [
        "demographic_static = demographic_static.drop('Column1', axis = 1)\r\n",
        "demographic_static.head()"
      ],
      "outputs": [
        {
          "output_type": "execute_result",
          "execution_count": 8,
          "data": {
            "text/plain": "   Internalpatientid               Ethnicity  Gender  \\\n0             168674      Hispanic or Latino    Male   \n1             168681  Not Hispanic or Latino    Male   \n2             168696  Not Hispanic or Latino  Female   \n3             168711  Not Hispanic or Latino    Male   \n4             168720  Not Hispanic or Latino    Male   \n\n                      Races  Veteran flag  \n0                     White          True  \n1                     White          True  \n2  Not specified (no value)          True  \n3                     Other          True  \n4                     White          True  ",
            "text/html": "<div>\n<style scoped>\n    .dataframe tbody tr th:only-of-type {\n        vertical-align: middle;\n    }\n\n    .dataframe tbody tr th {\n        vertical-align: top;\n    }\n\n    .dataframe thead th {\n        text-align: right;\n    }\n</style>\n<table border=\"1\" class=\"dataframe\">\n  <thead>\n    <tr style=\"text-align: right;\">\n      <th></th>\n      <th>Internalpatientid</th>\n      <th>Ethnicity</th>\n      <th>Gender</th>\n      <th>Races</th>\n      <th>Veteran flag</th>\n    </tr>\n  </thead>\n  <tbody>\n    <tr>\n      <th>0</th>\n      <td>168674</td>\n      <td>Hispanic or Latino</td>\n      <td>Male</td>\n      <td>White</td>\n      <td>True</td>\n    </tr>\n    <tr>\n      <th>1</th>\n      <td>168681</td>\n      <td>Not Hispanic or Latino</td>\n      <td>Male</td>\n      <td>White</td>\n      <td>True</td>\n    </tr>\n    <tr>\n      <th>2</th>\n      <td>168696</td>\n      <td>Not Hispanic or Latino</td>\n      <td>Female</td>\n      <td>Not specified (no value)</td>\n      <td>True</td>\n    </tr>\n    <tr>\n      <th>3</th>\n      <td>168711</td>\n      <td>Not Hispanic or Latino</td>\n      <td>Male</td>\n      <td>Other</td>\n      <td>True</td>\n    </tr>\n    <tr>\n      <th>4</th>\n      <td>168720</td>\n      <td>Not Hispanic or Latino</td>\n      <td>Male</td>\n      <td>White</td>\n      <td>True</td>\n    </tr>\n  </tbody>\n</table>\n</div>"
          },
          "metadata": {}
        }
      ],
      "execution_count": 8,
      "metadata": {
        "jupyter": {
          "source_hidden": false,
          "outputs_hidden": false
        },
        "nteract": {
          "transient": {
            "deleting": false
          }
        },
        "gather": {
          "logged": 1688283259072
        }
      }
    },
    {
      "cell_type": "code",
      "source": [
        "# checking the info\r\n",
        "demographic_static.info()"
      ],
      "outputs": [
        {
          "output_type": "stream",
          "name": "stdout",
          "text": "<class 'pandas.core.frame.DataFrame'>\nRangeIndex: 133252 entries, 0 to 133251\nData columns (total 5 columns):\n #   Column             Non-Null Count   Dtype \n---  ------             --------------   ----- \n 0   Internalpatientid  133252 non-null  int64 \n 1   Ethnicity          133252 non-null  object\n 2   Gender             133252 non-null  object\n 3   Races              133252 non-null  object\n 4   Veteran flag       133252 non-null  bool  \ndtypes: bool(1), int64(1), object(3)\nmemory usage: 4.2+ MB\n"
        }
      ],
      "execution_count": 9,
      "metadata": {
        "jupyter": {
          "source_hidden": false,
          "outputs_hidden": false
        },
        "nteract": {
          "transient": {
            "deleting": false
          }
        },
        "gather": {
          "logged": 1688283262122
        }
      }
    },
    {
      "cell_type": "code",
      "source": [
        "#Checking the null values\r\n",
        "demographic_static.isnull().sum()"
      ],
      "outputs": [
        {
          "output_type": "execute_result",
          "execution_count": 10,
          "data": {
            "text/plain": "Internalpatientid    0\nEthnicity            0\nGender               0\nRaces                0\nVeteran flag         0\ndtype: int64"
          },
          "metadata": {}
        }
      ],
      "execution_count": 10,
      "metadata": {
        "jupyter": {
          "source_hidden": false,
          "outputs_hidden": false
        },
        "nteract": {
          "transient": {
            "deleting": false
          }
        },
        "gather": {
          "logged": 1688283264774
        }
      }
    },
    {
      "cell_type": "markdown",
      "source": [
        "**There are no null values in the dataframe.**"
      ],
      "metadata": {
        "nteract": {
          "transient": {
            "deleting": false
          }
        }
      }
    },
    {
      "cell_type": "code",
      "source": [
        "# checking unique values for each column\r\n",
        "demographic_static.nunique()"
      ],
      "outputs": [
        {
          "output_type": "execute_result",
          "execution_count": 11,
          "data": {
            "text/plain": "Internalpatientid    133252\nEthnicity                 3\nGender                    2\nRaces                    15\nVeteran flag              2\ndtype: int64"
          },
          "metadata": {}
        }
      ],
      "execution_count": 11,
      "metadata": {
        "jupyter": {
          "source_hidden": false,
          "outputs_hidden": false
        },
        "nteract": {
          "transient": {
            "deleting": false
          }
        },
        "gather": {
          "logged": 1688283267670
        }
      }
    },
    {
      "cell_type": "code",
      "source": [
        "#value counts for the \"Ethnicity\" column\r\n",
        "demographic_static['Ethnicity'].value_counts()"
      ],
      "outputs": [
        {
          "output_type": "execute_result",
          "execution_count": 12,
          "data": {
            "text/plain": "Not Hispanic or Latino    102367\nNot specified              26486\nHispanic or Latino          4399\nName: Ethnicity, dtype: int64"
          },
          "metadata": {}
        }
      ],
      "execution_count": 12,
      "metadata": {
        "jupyter": {
          "source_hidden": false,
          "outputs_hidden": false
        },
        "nteract": {
          "transient": {
            "deleting": false
          }
        },
        "gather": {
          "logged": 1688283270677
        }
      }
    },
    {
      "cell_type": "markdown",
      "source": [
        "**Mostly people are from \"Not Hispanic or Latino\" category around 102367**\r\n",
        "\r\n",
        "**26486 prople are from \"Not specified category.**\r\n",
        "\r\n",
        "**category \"Hispanic or Latino have least number of patients arounf 4399**"
      ],
      "metadata": {
        "nteract": {
          "transient": {
            "deleting": false
          }
        }
      }
    },
    {
      "cell_type": "code",
      "source": [
        "demographic_static['Ethnicity'].value_counts(normalize = True)"
      ],
      "outputs": [
        {
          "output_type": "execute_result",
          "execution_count": 13,
          "data": {
            "text/plain": "Not Hispanic or Latino    0.768221\nNot specified             0.198766\nHispanic or Latino        0.033013\nName: Ethnicity, dtype: float64"
          },
          "metadata": {}
        }
      ],
      "execution_count": 13,
      "metadata": {
        "jupyter": {
          "source_hidden": false,
          "outputs_hidden": false
        },
        "nteract": {
          "transient": {
            "deleting": false
          }
        },
        "gather": {
          "logged": 1688283276136
        }
      }
    },
    {
      "cell_type": "markdown",
      "source": [
        "**\"Not hispanic or Latino\" are of 76%,\"Not specified\" are 19%, \"Hispanic or Latino\" are 4%**"
      ],
      "metadata": {
        "nteract": {
          "transient": {
            "deleting": false
          }
        }
      }
    },
    {
      "cell_type": "code",
      "source": [
        "# value counts for the \"gender\" column\r\n",
        "demographic_static['Gender'].value_counts()"
      ],
      "outputs": [
        {
          "output_type": "execute_result",
          "execution_count": 14,
          "data": {
            "text/plain": "Male      129777\nFemale      3475\nName: Gender, dtype: int64"
          },
          "metadata": {}
        }
      ],
      "execution_count": 14,
      "metadata": {
        "jupyter": {
          "source_hidden": false,
          "outputs_hidden": false
        },
        "nteract": {
          "transient": {
            "deleting": false
          }
        },
        "gather": {
          "logged": 1688283278809
        }
      }
    },
    {
      "cell_type": "markdown",
      "source": [
        "**Male are 129777 and females are 3475**"
      ],
      "metadata": {
        "nteract": {
          "transient": {
            "deleting": false
          }
        }
      }
    },
    {
      "cell_type": "code",
      "source": [
        "demographic_static['Gender'].value_counts(normalize = True)"
      ],
      "outputs": [
        {
          "output_type": "execute_result",
          "execution_count": 15,
          "data": {
            "text/plain": "Male      0.973922\nFemale    0.026078\nName: Gender, dtype: float64"
          },
          "metadata": {}
        }
      ],
      "execution_count": 15,
      "metadata": {
        "jupyter": {
          "source_hidden": false,
          "outputs_hidden": false
        },
        "nteract": {
          "transient": {
            "deleting": false
          }
        },
        "gather": {
          "logged": 1688283282132
        }
      }
    },
    {
      "cell_type": "markdown",
      "source": [
        "** Males are 97% and females are only around 3 %**"
      ],
      "metadata": {
        "nteract": {
          "transient": {
            "deleting": false
          }
        }
      }
    },
    {
      "cell_type": "code",
      "source": [
        "# value counts for the \"Races\" column\r\n",
        "demographic_static['Races'].value_counts()"
      ],
      "outputs": [
        {
          "output_type": "execute_result",
          "execution_count": 16,
          "data": {
            "text/plain": "White                                        85159\nNot specified (no value)                     22501\nBlack or African American                    16699\nOther                                         6513\nWhite ; Other                                 1431\nAsian                                          431\nBlack or African American ; Other              267\nBlack or African American ; White              198\nAsian ; Other                                   17\nWhite ; Asian                                   16\nBlack or African American ; White ; Other       11\nWhite ; Asian ; Other                            5\nBlack or African American ; Asian                2\n(Censored)                                       1\nBlack or African American ; White ; Asian        1\nName: Races, dtype: int64"
          },
          "metadata": {}
        }
      ],
      "execution_count": 16,
      "metadata": {
        "jupyter": {
          "source_hidden": false,
          "outputs_hidden": false
        },
        "nteract": {
          "transient": {
            "deleting": false
          }
        },
        "gather": {
          "logged": 1688283285772
        }
      }
    },
    {
      "cell_type": "code",
      "source": [
        "demographic_static['Races'].value_counts(normalize= True)"
      ],
      "outputs": [
        {
          "output_type": "execute_result",
          "execution_count": 17,
          "data": {
            "text/plain": "White                                        0.639082\nNot specified (no value)                     0.168861\nBlack or African American                    0.125319\nOther                                        0.048877\nWhite ; Other                                0.010739\nAsian                                        0.003234\nBlack or African American ; Other            0.002004\nBlack or African American ; White            0.001486\nAsian ; Other                                0.000128\nWhite ; Asian                                0.000120\nBlack or African American ; White ; Other    0.000083\nWhite ; Asian ; Other                        0.000038\nBlack or African American ; Asian            0.000015\n(Censored)                                   0.000008\nBlack or African American ; White ; Asian    0.000008\nName: Races, dtype: float64"
          },
          "metadata": {}
        }
      ],
      "execution_count": 17,
      "metadata": {
        "jupyter": {
          "source_hidden": false,
          "outputs_hidden": false
        },
        "nteract": {
          "transient": {
            "deleting": false
          }
        },
        "gather": {
          "logged": 1688283288972
        }
      }
    },
    {
      "cell_type": "markdown",
      "source": [
        "**Mostly people are White with 63%  and least are Black or African, white,asian**"
      ],
      "metadata": {
        "nteract": {
          "transient": {
            "deleting": false
          }
        }
      }
    },
    {
      "cell_type": "code",
      "source": [
        "# value counts for the \"Veteran flag\" column\r\n",
        "demographic_static['Veteran flag'].value_counts()"
      ],
      "outputs": [
        {
          "output_type": "execute_result",
          "execution_count": 18,
          "data": {
            "text/plain": "True     133093\nFalse       159\nName: Veteran flag, dtype: int64"
          },
          "metadata": {}
        }
      ],
      "execution_count": 18,
      "metadata": {
        "jupyter": {
          "source_hidden": false,
          "outputs_hidden": false
        },
        "nteract": {
          "transient": {
            "deleting": false
          }
        },
        "gather": {
          "logged": 1688283291958
        }
      }
    },
    {
      "cell_type": "code",
      "source": [
        "demographic_static['Veteran flag'].value_counts(normalize = True)"
      ],
      "outputs": [
        {
          "output_type": "execute_result",
          "execution_count": 19,
          "data": {
            "text/plain": "True     0.998807\nFalse    0.001193\nName: Veteran flag, dtype: float64"
          },
          "metadata": {}
        }
      ],
      "execution_count": 19,
      "metadata": {
        "jupyter": {
          "source_hidden": false,
          "outputs_hidden": false
        },
        "nteract": {
          "transient": {
            "deleting": false
          }
        },
        "gather": {
          "logged": 1688283295635
        }
      }
    },
    {
      "cell_type": "markdown",
      "source": [
        "**99% of the people are from veteran category**"
      ],
      "metadata": {
        "nteract": {
          "transient": {
            "deleting": false
          }
        }
      }
    },
    {
      "cell_type": "markdown",
      "source": [
        "### **Univariate Analysis**"
      ],
      "metadata": {
        "nteract": {
          "transient": {
            "deleting": false
          }
        }
      }
    },
    {
      "cell_type": "markdown",
      "source": [
        "### **1. Ethnicity**"
      ],
      "metadata": {
        "nteract": {
          "transient": {
            "deleting": false
          }
        }
      }
    },
    {
      "cell_type": "code",
      "source": [
        "import pandas as pd\r\n",
        "import numpy as np\r\n",
        "import matplotlib.pyplot as plt\r\n",
        "import seaborn as sns"
      ],
      "outputs": [],
      "execution_count": 20,
      "metadata": {
        "jupyter": {
          "source_hidden": false,
          "outputs_hidden": false
        },
        "nteract": {
          "transient": {
            "deleting": false
          }
        },
        "gather": {
          "logged": 1688283299869
        }
      }
    },
    {
      "cell_type": "code",
      "source": [
        "# Analyze the ethinicity distribution\r\n",
        "\r\n",
        "ethinicity_distribution = demographic_static['Ethnicity'].value_counts()\r\n",
        "\r\n",
        "# Map the values to meaningful categories\r\n",
        "\r\n",
        "ethinicity_distribution = ethinicity_distribution.replace({\r\n",
        "    1:'Not Hispanic or Latino',\r\n",
        "    2: 'Not specified',\r\n",
        "    3: 'Hispanic or Latino'\r\n",
        "})\r\n",
        "\r\n",
        "# Plot the ethinicty distrbution\r\n",
        "\r\n",
        "plt.figure(figsize=(8,6))\r\n",
        "ethinicity_distribution.plot(kind = 'bar')\r\n",
        "plt.xlabel('Ethnicity')\r\n",
        "plt.ylabel('Count')\r\n",
        "plt.title('Ethnicity Distrbution')\r\n",
        "plt.show()"
      ],
      "outputs": [
        {
          "output_type": "display_data",
          "data": {
            "text/plain": "<Figure size 800x600 with 1 Axes>",
            "image/png": "[encoded data removed]"
          },
          "metadata": {}
        }
      ],
      "execution_count": 21,
      "metadata": {
        "jupyter": {
          "source_hidden": false,
          "outputs_hidden": false
        },
        "nteract": {
          "transient": {
            "deleting": false
          }
        },
        "gather": {
          "logged": 1688283304239
        }
      }
    },
    {
      "cell_type": "markdown",
      "source": [
        "### **2. Gender**"
      ],
      "metadata": {
        "nteract": {
          "transient": {
            "deleting": false
          }
        }
      }
    },
    {
      "cell_type": "code",
      "source": [
        "# Analyze the gender distrbution\r\n",
        "\r\n",
        "gender_distribution = demographic_static['Gender'].value_counts()\r\n",
        "\r\n",
        "#plot the gender distribution\r\n",
        "\r\n",
        "plt.figure(figsize=(8,6))\r\n",
        "gender_distribution.plot(kind = 'bar')\r\n",
        "plt.xlabel('Gender')\r\n",
        "plt.ylabel('Count')\r\n",
        "plt.title('Gender Prediction')\r\n",
        "plt.show()"
      ],
      "outputs": [
        {
          "output_type": "display_data",
          "data": {
            "text/plain": "<Figure size 800x600 with 1 Axes>",
            "image/png": "[encoded data removed]"
          },
          "metadata": {}
        }
      ],
      "execution_count": 22,
      "metadata": {
        "jupyter": {
          "source_hidden": false,
          "outputs_hidden": false
        },
        "nteract": {
          "transient": {
            "deleting": false
          }
        },
        "gather": {
          "logged": 1688283313018
        }
      }
    },
    {
      "cell_type": "markdown",
      "source": [
        "### **3.Veteran Flag**"
      ],
      "metadata": {
        "nteract": {
          "transient": {
            "deleting": false
          }
        }
      }
    },
    {
      "cell_type": "code",
      "source": [
        "#Analyze the veteran flag distribution\r\n",
        "\r\n",
        "veteran_flag_distribution = demographic_static['Veteran flag'].value_counts()\r\n",
        "\r\n",
        "# Plot the veteran flag distribution\r\n",
        "\r\n",
        "plt.figure(figsize = (8,6))\r\n",
        "veteran_flag_distribution.plot(kind = 'bar')\r\n",
        "plt.xlabel('Veteran Flag')\r\n",
        "plt.ylabel('Count')\r\n",
        "plt.title('Veteran Flag distribution')\r\n",
        "plt.show()"
      ],
      "outputs": [
        {
          "output_type": "display_data",
          "data": {
            "text/plain": "<Figure size 800x600 with 1 Axes>",
            "image/png": "[encoded data removed]"
          },
          "metadata": {}
        }
      ],
      "execution_count": 23,
      "metadata": {
        "jupyter": {
          "source_hidden": false,
          "outputs_hidden": false
        },
        "nteract": {
          "transient": {
            "deleting": false
          }
        },
        "gather": {
          "logged": 1688283317164
        }
      }
    },
    {
      "cell_type": "markdown",
      "source": [
        "### **4.Races**"
      ],
      "metadata": {
        "nteract": {
          "transient": {
            "deleting": false
          }
        }
      }
    },
    {
      "cell_type": "code",
      "source": [
        "# Analyze the races distribtion\r\n",
        "\r\n",
        "races_distribution = demographic_static['Races'].value_counts()\r\n",
        "\r\n",
        "#Plot the races distrbution\r\n",
        "\r\n",
        "plt.figure(figsize=(12,8))\r\n",
        "races_distribution.plot(kind = 'bar')\r\n",
        "plt.xlabel('Race')\r\n",
        "plt.ylabel('Count')\r\n",
        "plt.title('Race Distribution')\r\n",
        "plt.show()"
      ],
      "outputs": [
        {
          "output_type": "display_data",
          "data": {
            "text/plain": "<Figure size 1200x800 with 1 Axes>",
            "image/png": "[encoded data removed]"
          },
          "metadata": {}
        }
      ],
      "execution_count": 24,
      "metadata": {
        "jupyter": {
          "source_hidden": false,
          "outputs_hidden": false
        },
        "nteract": {
          "transient": {
            "deleting": false
          }
        },
        "gather": {
          "logged": 1688283321692
        }
      }
    },
    {
      "cell_type": "code",
      "source": [
        "# Create the countplot\r\n",
        "plt.figure(figsize=(30,6))\r\n",
        "sns.countplot(x=\"Races\", data=demographic_static)\r\n",
        "\r\n",
        "# Add labels and title\r\n",
        "plt.xlabel(\"Races\")\r\n",
        "plt.ylabel(\"Count\")\r\n",
        "plt.title(\"Races countplot\")\r\n",
        "\r\n",
        "# Show the plot\r\n",
        "plt.show()"
      ],
      "outputs": [
        {
          "output_type": "display_data",
          "data": {
            "text/plain": "<Figure size 3000x600 with 1 Axes>",
            "image/png": "[encoded data removed]"
          },
          "metadata": {}
        }
      ],
      "execution_count": 25,
      "metadata": {
        "jupyter": {
          "source_hidden": false,
          "outputs_hidden": false
        },
        "nteract": {
          "transient": {
            "deleting": false
          }
        },
        "gather": {
          "logged": 1688283336442
        }
      }
    },
    {
      "cell_type": "markdown",
      "source": [
        "### **Using the death file do to the Bivariate Analysis with the Demographic static train file**"
      ],
      "metadata": {
        "nteract": {
          "transient": {
            "deleting": false
          }
        }
      }
    },
    {
      "cell_type": "code",
      "source": [
        "dataset = Dataset.Tabular.from_delimited_files(path = [(datastore, 'death_train.csv')])"
      ],
      "outputs": [],
      "execution_count": 26,
      "metadata": {
        "jupyter": {
          "source_hidden": false,
          "outputs_hidden": false
        },
        "nteract": {
          "transient": {
            "deleting": false
          }
        },
        "gather": {
          "logged": 1688283340727
        }
      }
    },
    {
      "cell_type": "code",
      "source": [
        "death_file = dataset.to_pandas_dataframe()"
      ],
      "outputs": [],
      "execution_count": 27,
      "metadata": {
        "jupyter": {
          "source_hidden": false,
          "outputs_hidden": false
        },
        "nteract": {
          "transient": {
            "deleting": false
          }
        },
        "gather": {
          "logged": 1688283342577
        }
      }
    },
    {
      "cell_type": "code",
      "source": [
        "type(death_file)"
      ],
      "outputs": [
        {
          "output_type": "execute_result",
          "execution_count": 28,
          "data": {
            "text/plain": "pandas.core.frame.DataFrame"
          },
          "metadata": {}
        }
      ],
      "execution_count": 28,
      "metadata": {
        "jupyter": {
          "source_hidden": false,
          "outputs_hidden": false
        },
        "nteract": {
          "transient": {
            "deleting": false
          }
        },
        "gather": {
          "logged": 1688283343841
        }
      }
    },
    {
      "cell_type": "code",
      "source": [
        "\r\n",
        "death_file.head()"
      ],
      "outputs": [
        {
          "output_type": "execute_result",
          "execution_count": 29,
          "data": {
            "text/plain": "   Column1  Internalpatientid  Age at death          Death date\n0        0             100036     72.412770 2015-01-18 20:49:10\n1        1             100037     75.241135 2008-10-16 15:14:26\n2        2             100045     85.399403 2019-01-26 11:33:52\n3        3             100095     84.136551 2004-08-10 21:49:35\n4        6              10013     68.372126 2007-06-11 00:17:06",
            "text/html": "<div>\n<style scoped>\n    .dataframe tbody tr th:only-of-type {\n        vertical-align: middle;\n    }\n\n    .dataframe tbody tr th {\n        vertical-align: top;\n    }\n\n    .dataframe thead th {\n        text-align: right;\n    }\n</style>\n<table border=\"1\" class=\"dataframe\">\n  <thead>\n    <tr style=\"text-align: right;\">\n      <th></th>\n      <th>Column1</th>\n      <th>Internalpatientid</th>\n      <th>Age at death</th>\n      <th>Death date</th>\n    </tr>\n  </thead>\n  <tbody>\n    <tr>\n      <th>0</th>\n      <td>0</td>\n      <td>100036</td>\n      <td>72.412770</td>\n      <td>2015-01-18 20:49:10</td>\n    </tr>\n    <tr>\n      <th>1</th>\n      <td>1</td>\n      <td>100037</td>\n      <td>75.241135</td>\n      <td>2008-10-16 15:14:26</td>\n    </tr>\n    <tr>\n      <th>2</th>\n      <td>2</td>\n      <td>100045</td>\n      <td>85.399403</td>\n      <td>2019-01-26 11:33:52</td>\n    </tr>\n    <tr>\n      <th>3</th>\n      <td>3</td>\n      <td>100095</td>\n      <td>84.136551</td>\n      <td>2004-08-10 21:49:35</td>\n    </tr>\n    <tr>\n      <th>4</th>\n      <td>6</td>\n      <td>10013</td>\n      <td>68.372126</td>\n      <td>2007-06-11 00:17:06</td>\n    </tr>\n  </tbody>\n</table>\n</div>"
          },
          "metadata": {}
        }
      ],
      "execution_count": 29,
      "metadata": {
        "jupyter": {
          "source_hidden": false,
          "outputs_hidden": false
        },
        "nteract": {
          "transient": {
            "deleting": false
          }
        },
        "gather": {
          "logged": 1688283347046
        }
      }
    },
    {
      "cell_type": "code",
      "source": [
        "death_file = death_file.drop('Column1', axis = 1)\r\n",
        "death_file.head()"
      ],
      "outputs": [
        {
          "output_type": "execute_result",
          "execution_count": 30,
          "data": {
            "text/plain": "   Internalpatientid  Age at death          Death date\n0             100036     72.412770 2015-01-18 20:49:10\n1             100037     75.241135 2008-10-16 15:14:26\n2             100045     85.399403 2019-01-26 11:33:52\n3             100095     84.136551 2004-08-10 21:49:35\n4              10013     68.372126 2007-06-11 00:17:06",
            "text/html": "<div>\n<style scoped>\n    .dataframe tbody tr th:only-of-type {\n        vertical-align: middle;\n    }\n\n    .dataframe tbody tr th {\n        vertical-align: top;\n    }\n\n    .dataframe thead th {\n        text-align: right;\n    }\n</style>\n<table border=\"1\" class=\"dataframe\">\n  <thead>\n    <tr style=\"text-align: right;\">\n      <th></th>\n      <th>Internalpatientid</th>\n      <th>Age at death</th>\n      <th>Death date</th>\n    </tr>\n  </thead>\n  <tbody>\n    <tr>\n      <th>0</th>\n      <td>100036</td>\n      <td>72.412770</td>\n      <td>2015-01-18 20:49:10</td>\n    </tr>\n    <tr>\n      <th>1</th>\n      <td>100037</td>\n      <td>75.241135</td>\n      <td>2008-10-16 15:14:26</td>\n    </tr>\n    <tr>\n      <th>2</th>\n      <td>100045</td>\n      <td>85.399403</td>\n      <td>2019-01-26 11:33:52</td>\n    </tr>\n    <tr>\n      <th>3</th>\n      <td>100095</td>\n      <td>84.136551</td>\n      <td>2004-08-10 21:49:35</td>\n    </tr>\n    <tr>\n      <th>4</th>\n      <td>10013</td>\n      <td>68.372126</td>\n      <td>2007-06-11 00:17:06</td>\n    </tr>\n  </tbody>\n</table>\n</div>"
          },
          "metadata": {}
        }
      ],
      "execution_count": 30,
      "metadata": {
        "jupyter": {
          "source_hidden": false,
          "outputs_hidden": false
        },
        "nteract": {
          "transient": {
            "deleting": false
          }
        },
        "gather": {
          "logged": 1688283350500
        }
      }
    },
    {
      "cell_type": "code",
      "source": [
        "#Shape of death file datafram\r\n",
        "death_file.shape\r\n",
        "     "
      ],
      "outputs": [
        {
          "output_type": "execute_result",
          "execution_count": 31,
          "data": {
            "text/plain": "(97284, 3)"
          },
          "metadata": {}
        }
      ],
      "execution_count": 31,
      "metadata": {
        "jupyter": {
          "source_hidden": false,
          "outputs_hidden": false
        },
        "nteract": {
          "transient": {
            "deleting": false
          }
        },
        "gather": {
          "logged": 1688283353277
        }
      }
    },
    {
      "cell_type": "code",
      "source": [
        "death_file['death'] = 1\r\n",
        "death_file.head()"
      ],
      "outputs": [
        {
          "output_type": "execute_result",
          "execution_count": 32,
          "data": {
            "text/plain": "   Internalpatientid  Age at death          Death date  death\n0             100036     72.412770 2015-01-18 20:49:10      1\n1             100037     75.241135 2008-10-16 15:14:26      1\n2             100045     85.399403 2019-01-26 11:33:52      1\n3             100095     84.136551 2004-08-10 21:49:35      1\n4              10013     68.372126 2007-06-11 00:17:06      1",
            "text/html": "<div>\n<style scoped>\n    .dataframe tbody tr th:only-of-type {\n        vertical-align: middle;\n    }\n\n    .dataframe tbody tr th {\n        vertical-align: top;\n    }\n\n    .dataframe thead th {\n        text-align: right;\n    }\n</style>\n<table border=\"1\" class=\"dataframe\">\n  <thead>\n    <tr style=\"text-align: right;\">\n      <th></th>\n      <th>Internalpatientid</th>\n      <th>Age at death</th>\n      <th>Death date</th>\n      <th>death</th>\n    </tr>\n  </thead>\n  <tbody>\n    <tr>\n      <th>0</th>\n      <td>100036</td>\n      <td>72.412770</td>\n      <td>2015-01-18 20:49:10</td>\n      <td>1</td>\n    </tr>\n    <tr>\n      <th>1</th>\n      <td>100037</td>\n      <td>75.241135</td>\n      <td>2008-10-16 15:14:26</td>\n      <td>1</td>\n    </tr>\n    <tr>\n      <th>2</th>\n      <td>100045</td>\n      <td>85.399403</td>\n      <td>2019-01-26 11:33:52</td>\n      <td>1</td>\n    </tr>\n    <tr>\n      <th>3</th>\n      <td>100095</td>\n      <td>84.136551</td>\n      <td>2004-08-10 21:49:35</td>\n      <td>1</td>\n    </tr>\n    <tr>\n      <th>4</th>\n      <td>10013</td>\n      <td>68.372126</td>\n      <td>2007-06-11 00:17:06</td>\n      <td>1</td>\n    </tr>\n  </tbody>\n</table>\n</div>"
          },
          "metadata": {}
        }
      ],
      "execution_count": 32,
      "metadata": {
        "jupyter": {
          "source_hidden": false,
          "outputs_hidden": false
        },
        "nteract": {
          "transient": {
            "deleting": false
          }
        },
        "gather": {
          "logged": 1688283356265
        }
      }
    },
    {
      "cell_type": "code",
      "source": [
        "merge_demographic_static_death= pd.merge(demographic_static, death_file, how='left',on='Internalpatientid')"
      ],
      "outputs": [],
      "execution_count": 33,
      "metadata": {
        "jupyter": {
          "source_hidden": false,
          "outputs_hidden": false
        },
        "nteract": {
          "transient": {
            "deleting": false
          }
        },
        "gather": {
          "logged": 1688283361806
        }
      }
    },
    {
      "cell_type": "code",
      "source": [
        "\r\n",
        "merge_demographic_static_death.head()"
      ],
      "outputs": [
        {
          "output_type": "execute_result",
          "execution_count": 34,
          "data": {
            "text/plain": "   Internalpatientid               Ethnicity  Gender  \\\n0             168674      Hispanic or Latino    Male   \n1             168681  Not Hispanic or Latino    Male   \n2             168696  Not Hispanic or Latino  Female   \n3             168711  Not Hispanic or Latino    Male   \n4             168720  Not Hispanic or Latino    Male   \n\n                      Races  Veteran flag  Age at death          Death date  \\\n0                     White          True     91.750072 2016-07-14 15:37:51   \n1                     White          True     77.813946 2022-05-26 23:56:11   \n2  Not specified (no value)          True     52.394255 2012-04-09 02:24:20   \n3                     Other          True           NaN                 NaT   \n4                     White          True           NaN                 NaT   \n\n   death  \n0    1.0  \n1    1.0  \n2    1.0  \n3    NaN  \n4    NaN  ",
            "text/html": "<div>\n<style scoped>\n    .dataframe tbody tr th:only-of-type {\n        vertical-align: middle;\n    }\n\n    .dataframe tbody tr th {\n        vertical-align: top;\n    }\n\n    .dataframe thead th {\n        text-align: right;\n    }\n</style>\n<table border=\"1\" class=\"dataframe\">\n  <thead>\n    <tr style=\"text-align: right;\">\n      <th></th>\n      <th>Internalpatientid</th>\n      <th>Ethnicity</th>\n      <th>Gender</th>\n      <th>Races</th>\n      <th>Veteran flag</th>\n      <th>Age at death</th>\n      <th>Death date</th>\n      <th>death</th>\n    </tr>\n  </thead>\n  <tbody>\n    <tr>\n      <th>0</th>\n      <td>168674</td>\n      <td>Hispanic or Latino</td>\n      <td>Male</td>\n      <td>White</td>\n      <td>True</td>\n      <td>91.750072</td>\n      <td>2016-07-14 15:37:51</td>\n      <td>1.0</td>\n    </tr>\n    <tr>\n      <th>1</th>\n      <td>168681</td>\n      <td>Not Hispanic or Latino</td>\n      <td>Male</td>\n      <td>White</td>\n      <td>True</td>\n      <td>77.813946</td>\n      <td>2022-05-26 23:56:11</td>\n      <td>1.0</td>\n    </tr>\n    <tr>\n      <th>2</th>\n      <td>168696</td>\n      <td>Not Hispanic or Latino</td>\n      <td>Female</td>\n      <td>Not specified (no value)</td>\n      <td>True</td>\n      <td>52.394255</td>\n      <td>2012-04-09 02:24:20</td>\n      <td>1.0</td>\n    </tr>\n    <tr>\n      <th>3</th>\n      <td>168711</td>\n      <td>Not Hispanic or Latino</td>\n      <td>Male</td>\n      <td>Other</td>\n      <td>True</td>\n      <td>NaN</td>\n      <td>NaT</td>\n      <td>NaN</td>\n    </tr>\n    <tr>\n      <th>4</th>\n      <td>168720</td>\n      <td>Not Hispanic or Latino</td>\n      <td>Male</td>\n      <td>White</td>\n      <td>True</td>\n      <td>NaN</td>\n      <td>NaT</td>\n      <td>NaN</td>\n    </tr>\n  </tbody>\n</table>\n</div>"
          },
          "metadata": {}
        }
      ],
      "execution_count": 34,
      "metadata": {
        "jupyter": {
          "source_hidden": false,
          "outputs_hidden": false
        },
        "nteract": {
          "transient": {
            "deleting": false
          }
        },
        "gather": {
          "logged": 1688283364418
        }
      }
    },
    {
      "cell_type": "code",
      "source": [
        "merge_demographic_static_death['death'] = merge_demographic_static_death['death'].fillna(0.0)\r\n",
        "\r\n",
        "merge_demographic_static_death.head()\r\n"
      ],
      "outputs": [
        {
          "output_type": "execute_result",
          "execution_count": 35,
          "data": {
            "text/plain": "   Internalpatientid               Ethnicity  Gender  \\\n0             168674      Hispanic or Latino    Male   \n1             168681  Not Hispanic or Latino    Male   \n2             168696  Not Hispanic or Latino  Female   \n3             168711  Not Hispanic or Latino    Male   \n4             168720  Not Hispanic or Latino    Male   \n\n                      Races  Veteran flag  Age at death          Death date  \\\n0                     White          True     91.750072 2016-07-14 15:37:51   \n1                     White          True     77.813946 2022-05-26 23:56:11   \n2  Not specified (no value)          True     52.394255 2012-04-09 02:24:20   \n3                     Other          True           NaN                 NaT   \n4                     White          True           NaN                 NaT   \n\n   death  \n0    1.0  \n1    1.0  \n2    1.0  \n3    0.0  \n4    0.0  ",
            "text/html": "<div>\n<style scoped>\n    .dataframe tbody tr th:only-of-type {\n        vertical-align: middle;\n    }\n\n    .dataframe tbody tr th {\n        vertical-align: top;\n    }\n\n    .dataframe thead th {\n        text-align: right;\n    }\n</style>\n<table border=\"1\" class=\"dataframe\">\n  <thead>\n    <tr style=\"text-align: right;\">\n      <th></th>\n      <th>Internalpatientid</th>\n      <th>Ethnicity</th>\n      <th>Gender</th>\n      <th>Races</th>\n      <th>Veteran flag</th>\n      <th>Age at death</th>\n      <th>Death date</th>\n      <th>death</th>\n    </tr>\n  </thead>\n  <tbody>\n    <tr>\n      <th>0</th>\n      <td>168674</td>\n      <td>Hispanic or Latino</td>\n      <td>Male</td>\n      <td>White</td>\n      <td>True</td>\n      <td>91.750072</td>\n      <td>2016-07-14 15:37:51</td>\n      <td>1.0</td>\n    </tr>\n    <tr>\n      <th>1</th>\n      <td>168681</td>\n      <td>Not Hispanic or Latino</td>\n      <td>Male</td>\n      <td>White</td>\n      <td>True</td>\n      <td>77.813946</td>\n      <td>2022-05-26 23:56:11</td>\n      <td>1.0</td>\n    </tr>\n    <tr>\n      <th>2</th>\n      <td>168696</td>\n      <td>Not Hispanic or Latino</td>\n      <td>Female</td>\n      <td>Not specified (no value)</td>\n      <td>True</td>\n      <td>52.394255</td>\n      <td>2012-04-09 02:24:20</td>\n      <td>1.0</td>\n    </tr>\n    <tr>\n      <th>3</th>\n      <td>168711</td>\n      <td>Not Hispanic or Latino</td>\n      <td>Male</td>\n      <td>Other</td>\n      <td>True</td>\n      <td>NaN</td>\n      <td>NaT</td>\n      <td>0.0</td>\n    </tr>\n    <tr>\n      <th>4</th>\n      <td>168720</td>\n      <td>Not Hispanic or Latino</td>\n      <td>Male</td>\n      <td>White</td>\n      <td>True</td>\n      <td>NaN</td>\n      <td>NaT</td>\n      <td>0.0</td>\n    </tr>\n  </tbody>\n</table>\n</div>"
          },
          "metadata": {}
        }
      ],
      "execution_count": 35,
      "metadata": {
        "jupyter": {
          "source_hidden": false,
          "outputs_hidden": false
        },
        "nteract": {
          "transient": {
            "deleting": false
          }
        },
        "gather": {
          "logged": 1688283371287
        }
      }
    },
    {
      "cell_type": "markdown",
      "source": [
        "**The Final Dataframe will look like this-**"
      ],
      "metadata": {
        "nteract": {
          "transient": {
            "deleting": false
          }
        }
      }
    },
    {
      "cell_type": "code",
      "source": [
        "merge_demographic_static_death.drop(['Age at death','Death date'],axis = 1, inplace = True)\r\n",
        "merge_demographic_static_death.head()"
      ],
      "outputs": [
        {
          "output_type": "execute_result",
          "execution_count": 36,
          "data": {
            "text/plain": "   Internalpatientid               Ethnicity  Gender  \\\n0             168674      Hispanic or Latino    Male   \n1             168681  Not Hispanic or Latino    Male   \n2             168696  Not Hispanic or Latino  Female   \n3             168711  Not Hispanic or Latino    Male   \n4             168720  Not Hispanic or Latino    Male   \n\n                      Races  Veteran flag  death  \n0                     White          True    1.0  \n1                     White          True    1.0  \n2  Not specified (no value)          True    1.0  \n3                     Other          True    0.0  \n4                     White          True    0.0  ",
            "text/html": "<div>\n<style scoped>\n    .dataframe tbody tr th:only-of-type {\n        vertical-align: middle;\n    }\n\n    .dataframe tbody tr th {\n        vertical-align: top;\n    }\n\n    .dataframe thead th {\n        text-align: right;\n    }\n</style>\n<table border=\"1\" class=\"dataframe\">\n  <thead>\n    <tr style=\"text-align: right;\">\n      <th></th>\n      <th>Internalpatientid</th>\n      <th>Ethnicity</th>\n      <th>Gender</th>\n      <th>Races</th>\n      <th>Veteran flag</th>\n      <th>death</th>\n    </tr>\n  </thead>\n  <tbody>\n    <tr>\n      <th>0</th>\n      <td>168674</td>\n      <td>Hispanic or Latino</td>\n      <td>Male</td>\n      <td>White</td>\n      <td>True</td>\n      <td>1.0</td>\n    </tr>\n    <tr>\n      <th>1</th>\n      <td>168681</td>\n      <td>Not Hispanic or Latino</td>\n      <td>Male</td>\n      <td>White</td>\n      <td>True</td>\n      <td>1.0</td>\n    </tr>\n    <tr>\n      <th>2</th>\n      <td>168696</td>\n      <td>Not Hispanic or Latino</td>\n      <td>Female</td>\n      <td>Not specified (no value)</td>\n      <td>True</td>\n      <td>1.0</td>\n    </tr>\n    <tr>\n      <th>3</th>\n      <td>168711</td>\n      <td>Not Hispanic or Latino</td>\n      <td>Male</td>\n      <td>Other</td>\n      <td>True</td>\n      <td>0.0</td>\n    </tr>\n    <tr>\n      <th>4</th>\n      <td>168720</td>\n      <td>Not Hispanic or Latino</td>\n      <td>Male</td>\n      <td>White</td>\n      <td>True</td>\n      <td>0.0</td>\n    </tr>\n  </tbody>\n</table>\n</div>"
          },
          "metadata": {}
        }
      ],
      "execution_count": 36,
      "metadata": {
        "jupyter": {
          "source_hidden": false,
          "outputs_hidden": false
        },
        "nteract": {
          "transient": {
            "deleting": false
          }
        },
        "gather": {
          "logged": 1688283375660
        }
      }
    },
    {
      "cell_type": "markdown",
      "source": [
        "# **Bivairate Analysis**\r\n",
        "\r\n",
        "##### 1.Ethnicity & Death"
      ],
      "metadata": {
        "nteract": {
          "transient": {
            "deleting": false
          }
        }
      }
    },
    {
      "cell_type": "code",
      "source": [
        "ethnicity_death_crosstab = pd.crosstab(merge_demographic_static_death['Ethnicity'],merge_demographic_static_death['death'])\r\n",
        "print(ethnicity_death_crosstab)"
      ],
      "outputs": [
        {
          "output_type": "stream",
          "name": "stdout",
          "text": "death                     0.0    1.0\nEthnicity                           \nHispanic or Latino       1609   2790\nNot Hispanic or Latino  31567  70800\nNot specified            2792  23694\n"
        }
      ],
      "execution_count": 37,
      "metadata": {
        "jupyter": {
          "source_hidden": false,
          "outputs_hidden": false
        },
        "nteract": {
          "transient": {
            "deleting": false
          }
        },
        "gather": {
          "logged": 1688283428021
        }
      }
    },
    {
      "cell_type": "markdown",
      "source": [
        "**In \"Hispanic or Latino\" category 2790 are dead and 1609 are alive**\r\n",
        "\r\n",
        "**In \"Not Hispanic or Latino\" category 70800 are dead and 31567 are alive**\r\n",
        "\r\n",
        "**In \"Not specified\" category 23694 are dead and 2792 are alive.**"
      ],
      "metadata": {
        "nteract": {
          "transient": {
            "deleting": false
          }
        }
      }
    },
    {
      "cell_type": "code",
      "source": [
        "\r\n",
        "#calculate the percentage within each Ethnicity category\r\n",
        "\r\n",
        "ethnicity_death_proportions = ethnicity_death_crosstab.div(ethnicity_death_crosstab.sum(axis = 1), axis = 0)*100"
      ],
      "outputs": [],
      "execution_count": 40,
      "metadata": {
        "jupyter": {
          "source_hidden": false,
          "outputs_hidden": false
        },
        "nteract": {
          "transient": {
            "deleting": false
          }
        },
        "gather": {
          "logged": 1688283575017
        }
      }
    },
    {
      "cell_type": "code",
      "source": [
        "\r\n",
        "width = 0.35\r\n",
        "x = range(len(ethnicity_death_proportions.index))\r\n",
        "\r\n",
        "fig, ax = plt.subplots()\r\n",
        "\r\n",
        "alive = ax.bar(x,ethnicity_death_proportions[0], width, label = 'Alive')\r\n",
        "dead = ax.bar([i + width for i in x], ethnicity_death_proportions[1], width, label = \"death\")\r\n",
        "\r\n",
        "ax.set_xlabel('Ethnicity')\r\n",
        "ax.set_ylabel('Proportion of Death')\r\n",
        "ax.set_title('Proportion od deaths by Ethnicity')\r\n",
        "ax.set_xticks([i + width/2 for i in x])\r\n",
        "ax.set_xticklabels(ethnicity_death_proportions.index)\r\n",
        "ax.legend()\r\n",
        "\r\n",
        "plt.show()\r\n",
        "     "
      ],
      "outputs": [
        {
          "output_type": "display_data",
          "data": {
            "text/plain": "<Figure size 640x480 with 1 Axes>",
            "image/png": "[encoded data removed]"
          },
          "metadata": {}
        }
      ],
      "execution_count": 41,
      "metadata": {
        "jupyter": {
          "source_hidden": false,
          "outputs_hidden": false
        },
        "nteract": {
          "transient": {
            "deleting": false
          }
        },
        "gather": {
          "logged": 1688283578131
        }
      }
    },
    {
      "cell_type": "markdown",
      "source": [
        "##### **2. Gender and Death**"
      ],
      "metadata": {
        "nteract": {
          "transient": {
            "deleting": false
          }
        }
      }
    },
    {
      "cell_type": "code",
      "source": [
        "Gender_death_crosstab = pd.crosstab(merge_demographic_static_death['Gender'],merge_demographic_static_death['death'])\r\n",
        "print(Gender_death_crosstab)"
      ],
      "outputs": [
        {
          "output_type": "stream",
          "name": "stdout",
          "text": "death     0.0    1.0\nGender              \nFemale   1577   1898\nMale    34391  95386\n"
        }
      ],
      "execution_count": 42,
      "metadata": {
        "jupyter": {
          "source_hidden": false,
          "outputs_hidden": false
        },
        "nteract": {
          "transient": {
            "deleting": false
          }
        },
        "gather": {
          "logged": 1688283582174
        }
      }
    },
    {
      "cell_type": "markdown",
      "source": [
        "**In Female category 1898 are dead and 1577 are alive.**\r\n",
        "\r\n",
        "**In Male category 95386 are dead and 34391 are alive**"
      ],
      "metadata": {
        "nteract": {
          "transient": {
            "deleting": false
          }
        }
      }
    },
    {
      "cell_type": "code",
      "source": [
        "#calculate the percentage within each Gender category\r\n",
        "\r\n",
        "Gender_death_proportions = Gender_death_crosstab.div(Gender_death_crosstab.sum(axis = 1), axis = 0)*100\r\n",
        "    \r\n",
        "     "
      ],
      "outputs": [],
      "execution_count": 43,
      "metadata": {
        "jupyter": {
          "source_hidden": false,
          "outputs_hidden": false
        },
        "nteract": {
          "transient": {
            "deleting": false
          }
        },
        "gather": {
          "logged": 1688283645397
        }
      }
    },
    {
      "cell_type": "code",
      "source": [
        "width = 0.35\r\n",
        "x = range(len(Gender_death_proportions.index))\r\n",
        "\r\n",
        "fig, ax = plt.subplots()\r\n",
        "\r\n",
        "alive = ax.bar(x,Gender_death_proportions[0], width, label = 'Alive')\r\n",
        "dead = ax.bar([i + width for i in x], Gender_death_proportions[1], width, label = \"death\")\r\n",
        "\r\n",
        "ax.set_xlabel('Gender')\r\n",
        "ax.set_ylabel('Proportion of Death')\r\n",
        "ax.set_title('Proportion od deaths by Gender')\r\n",
        "ax.set_xticks([i + width/2 for i in x])\r\n",
        "ax.set_xticklabels(Gender_death_proportions.index)\r\n",
        "ax.legend()\r\n",
        "\r\n",
        "plt.show()"
      ],
      "outputs": [
        {
          "output_type": "display_data",
          "data": {
            "text/plain": "<Figure size 640x480 with 1 Axes>",
            "image/png": "[encoded data removed]"
          },
          "metadata": {}
        }
      ],
      "execution_count": 44,
      "metadata": {
        "jupyter": {
          "source_hidden": false,
          "outputs_hidden": false
        },
        "nteract": {
          "transient": {
            "deleting": false
          }
        },
        "gather": {
          "logged": 1688283647116
        }
      }
    },
    {
      "cell_type": "markdown",
      "source": [
        "##### **3. Races & Death**"
      ],
      "metadata": {
        "nteract": {
          "transient": {
            "deleting": false
          }
        }
      }
    },
    {
      "cell_type": "code",
      "source": [
        "Races_death_crosstab = pd.crosstab(merge_demographic_static_death['Races'],merge_demographic_static_death['death'])\r\n",
        "print(Races_death_crosstab)\r\n",
        "     "
      ],
      "outputs": [
        {
          "output_type": "stream",
          "name": "stdout",
          "text": "death                                        0.0    1.0\nRaces                                                  \n(Censored)                                     1      0\nAsian                                        180    251\nAsian ; Other                                  4     13\nBlack or African American                   6777   9922\nBlack or African American ; Asian              1      1\nBlack or African American ; Other            104    163\nBlack or African American ; White             67    131\nBlack or African American ; White ; Asian      1      0\nBlack or African American ; White ; Other      5      6\nNot specified (no value)                     826  21675\nOther                                       1992   4521\nWhite                                      25582  59577\nWhite ; Asian                                  8      8\nWhite ; Asian ; Other                          1      4\nWhite ; Other                                419   1012\n"
        }
      ],
      "execution_count": 45,
      "metadata": {
        "jupyter": {
          "source_hidden": false,
          "outputs_hidden": false
        },
        "nteract": {
          "transient": {
            "deleting": false
          }
        },
        "gather": {
          "logged": 1688283654830
        }
      }
    },
    {
      "cell_type": "markdown",
      "source": [
        "**As we know in Races we have high majority of patients from the \"white\" category in this 59577 are dead and 25582 are alive.**"
      ],
      "metadata": {
        "nteract": {
          "transient": {
            "deleting": false
          }
        }
      }
    },
    {
      "cell_type": "code",
      "source": [
        "#calculate the percentage within each Gender category\r\n",
        "\r\n",
        "Races_death_proportions = Races_death_crosstab.div(Races_death_crosstab.sum(axis = 1), axis = 0)*100\r\n",
        "     "
      ],
      "outputs": [],
      "execution_count": 46,
      "metadata": {
        "jupyter": {
          "source_hidden": false,
          "outputs_hidden": false
        },
        "nteract": {
          "transient": {
            "deleting": false
          }
        },
        "gather": {
          "logged": 1688283750832
        }
      }
    },
    {
      "cell_type": "code",
      "source": [
        "\r\n",
        "width = 0.35\r\n",
        "x = range(len(Races_death_proportions.index))\r\n",
        "\r\n",
        "fig, ax = plt.subplots()\r\n",
        "\r\n",
        "alive = ax.bar(x,Races_death_proportions[0], width, label = 'Alive')\r\n",
        "dead = ax.bar([i + width for i in x], Races_death_proportions[1], width, label = \"death\")\r\n",
        "\r\n",
        "ax.set_xlabel('Races')\r\n",
        "ax.set_ylabel('Proportion of Death')\r\n",
        "ax.set_title('Proportion od deaths by Races')\r\n",
        "ax.set_xticks([i + width/2 for i in x])\r\n",
        "ax.set_xticklabels(Races_death_proportions.index)\r\n",
        "ax.legend()\r\n",
        "\r\n",
        "plt.show()"
      ],
      "outputs": [
        {
          "output_type": "display_data",
          "data": {
            "text/plain": "<Figure size 640x480 with 1 Axes>",
            "image/png": "[encoded data removed]"
          },
          "metadata": {}
        }
      ],
      "execution_count": 47,
      "metadata": {
        "jupyter": {
          "source_hidden": false,
          "outputs_hidden": false
        },
        "nteract": {
          "transient": {
            "deleting": false
          }
        },
        "gather": {
          "logged": 1688283752564
        }
      }
    },
    {
      "cell_type": "markdown",
      "source": [
        "##### **4. Veteranflag & Death**"
      ],
      "metadata": {
        "nteract": {
          "transient": {
            "deleting": false
          }
        }
      }
    },
    {
      "cell_type": "code",
      "source": [
        "Veteranflag_death_crosstab = pd.crosstab(merge_demographic_static_death['Veteran flag'],merge_demographic_static_death['death'])\r\n",
        "print(Veteranflag_death_crosstab)"
      ],
      "outputs": [
        {
          "output_type": "stream",
          "name": "stdout",
          "text": "death           0.0    1.0\nVeteran flag              \nFalse            56    103\nTrue          35912  97181\n"
        }
      ],
      "execution_count": 48,
      "metadata": {
        "jupyter": {
          "source_hidden": false,
          "outputs_hidden": false
        },
        "nteract": {
          "transient": {
            "deleting": false
          }
        },
        "gather": {
          "logged": 1688283756918
        }
      }
    },
    {
      "cell_type": "markdown",
      "source": [
        "**patients who are veteran - 97181 are dead and 35912 are alive.**\r\n"
      ],
      "metadata": {
        "nteract": {
          "transient": {
            "deleting": false
          }
        }
      }
    },
    {
      "cell_type": "code",
      "source": [
        "#calculate the percentage within each veteranflag category\r\n",
        "\r\n",
        "Veteranflag_death_proportions = Veteranflag_death_crosstab.div(Veteranflag_death_crosstab.sum(axis = 1), axis = 0)*100"
      ],
      "outputs": [],
      "execution_count": 49,
      "metadata": {
        "jupyter": {
          "source_hidden": false,
          "outputs_hidden": false
        },
        "nteract": {
          "transient": {
            "deleting": false
          }
        },
        "gather": {
          "logged": 1688283802314
        }
      }
    },
    {
      "cell_type": "code",
      "source": [
        "width = 0.35\r\n",
        "x = range(len(Veteranflag_death_proportions.index))\r\n",
        "\r\n",
        "fig, ax = plt.subplots()\r\n",
        "\r\n",
        "alive = ax.bar(x,Veteranflag_death_proportions[0], width, label = 'Alive')\r\n",
        "dead = ax.bar([i + width for i in x], Veteranflag_death_proportions[1], width, label = \"death\")\r\n",
        "\r\n",
        "ax.set_xlabel('Veteran Flag')\r\n",
        "ax.set_ylabel('Proportion of Death')\r\n",
        "ax.set_title('Proportion od deaths by Races')\r\n",
        "ax.set_xticks([i + width/2 for i in x])\r\n",
        "ax.set_xticklabels(Veteranflag_death_proportions.index)\r\n",
        "ax.legend()\r\n",
        "\r\n",
        "plt.show()"
      ],
      "outputs": [
        {
          "output_type": "display_data",
          "data": {
            "text/plain": "<Figure size 640x480 with 1 Axes>",
            "image/png": "[encoded data removed]"
          },
          "metadata": {}
        }
      ],
      "execution_count": 50,
      "metadata": {
        "jupyter": {
          "source_hidden": false,
          "outputs_hidden": false
        },
        "nteract": {
          "transient": {
            "deleting": false
          }
        },
        "gather": {
          "logged": 1688283804150
        }
      }
    },
    {
      "cell_type": "markdown",
      "source": [
        "###### **Visualising the dead and alive patients from the dataframe**"
      ],
      "metadata": {
        "nteract": {
          "transient": {
            "deleting": false
          }
        }
      }
    },
    {
      "cell_type": "code",
      "source": [
        "merge_demographic_static_death['death'].value_counts()"
      ],
      "outputs": [
        {
          "output_type": "execute_result",
          "execution_count": 51,
          "data": {
            "text/plain": "1.0    97284\n0.0    35968\nName: death, dtype: int64"
          },
          "metadata": {}
        }
      ],
      "execution_count": 51,
      "metadata": {
        "jupyter": {
          "source_hidden": false,
          "outputs_hidden": false
        },
        "nteract": {
          "transient": {
            "deleting": false
          }
        },
        "gather": {
          "logged": 1688283908293
        }
      }
    },
    {
      "cell_type": "code",
      "source": [
        "merge_demographic_static_death['death'].value_counts(normalize = True)"
      ],
      "outputs": [
        {
          "output_type": "execute_result",
          "execution_count": 52,
          "data": {
            "text/plain": "1.0    0.730075\n0.0    0.269925\nName: death, dtype: float64"
          },
          "metadata": {}
        }
      ],
      "execution_count": 52,
      "metadata": {
        "jupyter": {
          "source_hidden": false,
          "outputs_hidden": false
        },
        "nteract": {
          "transient": {
            "deleting": false
          }
        },
        "gather": {
          "logged": 1688283984255
        }
      }
    },
    {
      "cell_type": "markdown",
      "source": [
        "**73% of the patients are dead and 26% are alive.**"
      ],
      "metadata": {
        "nteract": {
          "transient": {
            "deleting": false
          }
        }
      }
    },
    {
      "cell_type": "code",
      "source": [
        "merge_demographic_static_death['death'].value_counts().plot(kind='bar')"
      ],
      "outputs": [
        {
          "output_type": "execute_result",
          "execution_count": 53,
          "data": {
            "text/plain": "<matplotlib.axes._subplots.AxesSubplot at 0x7f2cacadcb20>"
          },
          "metadata": {}
        },
        {
          "output_type": "display_data",
          "data": {
            "text/plain": "<Figure size 640x480 with 1 Axes>",
            "image/png": "[encoded data removed]"
          },
          "metadata": {}
        }
      ],
      "execution_count": 53,
      "metadata": {
        "jupyter": {
          "source_hidden": false,
          "outputs_hidden": false
        },
        "nteract": {
          "transient": {
            "deleting": false
          }
        },
        "gather": {
          "logged": 1688284042333
        }
      }
    },
    {
      "cell_type": "markdown",
      "source": [
        "#### **Checking the dataframes for the alive and death patients for the given merged files.**"
      ],
      "metadata": {
        "nteract": {
          "transient": {
            "deleting": false
          }
        }
      }
    },
    {
      "cell_type": "code",
      "source": [
        "df_alive = merge_demographic_static_death[merge_demographic_static_death[\"death\"]==0]\r\n",
        "df_alive"
      ],
      "outputs": [
        {
          "output_type": "execute_result",
          "execution_count": 54,
          "data": {
            "text/plain": "        Internalpatientid               Ethnicity Gender  \\\n3                  168711  Not Hispanic or Latino   Male   \n4                  168720  Not Hispanic or Latino   Male   \n5                  168734  Not Hispanic or Latino   Male   \n13                 168972  Not Hispanic or Latino   Male   \n14                 168973  Not Hispanic or Latino   Male   \n...                   ...                     ...    ...   \n133236              16853  Not Hispanic or Latino   Male   \n133238             168538  Not Hispanic or Latino   Male   \n133248             168626  Not Hispanic or Latino   Male   \n133249             168628  Not Hispanic or Latino   Male   \n133250             168645  Not Hispanic or Latino   Male   \n\n                            Races  Veteran flag  death  \n3                           Other          True    0.0  \n4                           White          True    0.0  \n5                           White          True    0.0  \n13      Black or African American          True    0.0  \n14                          Other          True    0.0  \n...                           ...           ...    ...  \n133236                      White          True    0.0  \n133238                      White          True    0.0  \n133248  Black or African American          True    0.0  \n133249                      White          True    0.0  \n133250                      White          True    0.0  \n\n[35968 rows x 6 columns]",
            "text/html": "<div>\n<style scoped>\n    .dataframe tbody tr th:only-of-type {\n        vertical-align: middle;\n    }\n\n    .dataframe tbody tr th {\n        vertical-align: top;\n    }\n\n    .dataframe thead th {\n        text-align: right;\n    }\n</style>\n<table border=\"1\" class=\"dataframe\">\n  <thead>\n    <tr style=\"text-align: right;\">\n      <th></th>\n      <th>Internalpatientid</th>\n      <th>Ethnicity</th>\n      <th>Gender</th>\n      <th>Races</th>\n      <th>Veteran flag</th>\n      <th>death</th>\n    </tr>\n  </thead>\n  <tbody>\n    <tr>\n      <th>3</th>\n      <td>168711</td>\n      <td>Not Hispanic or Latino</td>\n      <td>Male</td>\n      <td>Other</td>\n      <td>True</td>\n      <td>0.0</td>\n    </tr>\n    <tr>\n      <th>4</th>\n      <td>168720</td>\n      <td>Not Hispanic or Latino</td>\n      <td>Male</td>\n      <td>White</td>\n      <td>True</td>\n      <td>0.0</td>\n    </tr>\n    <tr>\n      <th>5</th>\n      <td>168734</td>\n      <td>Not Hispanic or Latino</td>\n      <td>Male</td>\n      <td>White</td>\n      <td>True</td>\n      <td>0.0</td>\n    </tr>\n    <tr>\n      <th>13</th>\n      <td>168972</td>\n      <td>Not Hispanic or Latino</td>\n      <td>Male</td>\n      <td>Black or African American</td>\n      <td>True</td>\n      <td>0.0</td>\n    </tr>\n    <tr>\n      <th>14</th>\n      <td>168973</td>\n      <td>Not Hispanic or Latino</td>\n      <td>Male</td>\n      <td>Other</td>\n      <td>True</td>\n      <td>0.0</td>\n    </tr>\n    <tr>\n      <th>...</th>\n      <td>...</td>\n      <td>...</td>\n      <td>...</td>\n      <td>...</td>\n      <td>...</td>\n      <td>...</td>\n    </tr>\n    <tr>\n      <th>133236</th>\n      <td>16853</td>\n      <td>Not Hispanic or Latino</td>\n      <td>Male</td>\n      <td>White</td>\n      <td>True</td>\n      <td>0.0</td>\n    </tr>\n    <tr>\n      <th>133238</th>\n      <td>168538</td>\n      <td>Not Hispanic or Latino</td>\n      <td>Male</td>\n      <td>White</td>\n      <td>True</td>\n      <td>0.0</td>\n    </tr>\n    <tr>\n      <th>133248</th>\n      <td>168626</td>\n      <td>Not Hispanic or Latino</td>\n      <td>Male</td>\n      <td>Black or African American</td>\n      <td>True</td>\n      <td>0.0</td>\n    </tr>\n    <tr>\n      <th>133249</th>\n      <td>168628</td>\n      <td>Not Hispanic or Latino</td>\n      <td>Male</td>\n      <td>White</td>\n      <td>True</td>\n      <td>0.0</td>\n    </tr>\n    <tr>\n      <th>133250</th>\n      <td>168645</td>\n      <td>Not Hispanic or Latino</td>\n      <td>Male</td>\n      <td>White</td>\n      <td>True</td>\n      <td>0.0</td>\n    </tr>\n  </tbody>\n</table>\n<p>35968 rows × 6 columns</p>\n</div>"
          },
          "metadata": {}
        }
      ],
      "execution_count": 54,
      "metadata": {
        "jupyter": {
          "source_hidden": false,
          "outputs_hidden": false
        },
        "nteract": {
          "transient": {
            "deleting": false
          }
        },
        "gather": {
          "logged": 1688284109806
        }
      }
    },
    {
      "cell_type": "markdown",
      "source": [
        "### **35968 patients are alive**"
      ],
      "metadata": {
        "nteract": {
          "transient": {
            "deleting": false
          }
        }
      }
    },
    {
      "cell_type": "code",
      "source": [
        "df_death =  merge_demographic_static_death[merge_demographic_static_death[\"death\"]==1]\r\n",
        "df_death"
      ],
      "outputs": [
        {
          "output_type": "execute_result",
          "execution_count": 55,
          "data": {
            "text/plain": "        Internalpatientid               Ethnicity  Gender  \\\n0                  168674      Hispanic or Latino    Male   \n1                  168681  Not Hispanic or Latino    Male   \n2                  168696  Not Hispanic or Latino  Female   \n6                  168756           Not specified    Male   \n7                  168794  Not Hispanic or Latino    Male   \n...                   ...                     ...     ...   \n133244             168597  Not Hispanic or Latino    Male   \n133245             168616           Not specified    Male   \n133246             168622  Not Hispanic or Latino    Male   \n133247             168624  Not Hispanic or Latino    Male   \n133251             168661  Not Hispanic or Latino    Male   \n\n                            Races  Veteran flag  death  \n0                           White          True    1.0  \n1                           White          True    1.0  \n2        Not specified (no value)          True    1.0  \n6        Not specified (no value)          True    1.0  \n7                           White          True    1.0  \n...                           ...           ...    ...  \n133244                      White          True    1.0  \n133245   Not specified (no value)          True    1.0  \n133246   Not specified (no value)          True    1.0  \n133247  Black or African American          True    1.0  \n133251                      White          True    1.0  \n\n[97284 rows x 6 columns]",
            "text/html": "<div>\n<style scoped>\n    .dataframe tbody tr th:only-of-type {\n        vertical-align: middle;\n    }\n\n    .dataframe tbody tr th {\n        vertical-align: top;\n    }\n\n    .dataframe thead th {\n        text-align: right;\n    }\n</style>\n<table border=\"1\" class=\"dataframe\">\n  <thead>\n    <tr style=\"text-align: right;\">\n      <th></th>\n      <th>Internalpatientid</th>\n      <th>Ethnicity</th>\n      <th>Gender</th>\n      <th>Races</th>\n      <th>Veteran flag</th>\n      <th>death</th>\n    </tr>\n  </thead>\n  <tbody>\n    <tr>\n      <th>0</th>\n      <td>168674</td>\n      <td>Hispanic or Latino</td>\n      <td>Male</td>\n      <td>White</td>\n      <td>True</td>\n      <td>1.0</td>\n    </tr>\n    <tr>\n      <th>1</th>\n      <td>168681</td>\n      <td>Not Hispanic or Latino</td>\n      <td>Male</td>\n      <td>White</td>\n      <td>True</td>\n      <td>1.0</td>\n    </tr>\n    <tr>\n      <th>2</th>\n      <td>168696</td>\n      <td>Not Hispanic or Latino</td>\n      <td>Female</td>\n      <td>Not specified (no value)</td>\n      <td>True</td>\n      <td>1.0</td>\n    </tr>\n    <tr>\n      <th>6</th>\n      <td>168756</td>\n      <td>Not specified</td>\n      <td>Male</td>\n      <td>Not specified (no value)</td>\n      <td>True</td>\n      <td>1.0</td>\n    </tr>\n    <tr>\n      <th>7</th>\n      <td>168794</td>\n      <td>Not Hispanic or Latino</td>\n      <td>Male</td>\n      <td>White</td>\n      <td>True</td>\n      <td>1.0</td>\n    </tr>\n    <tr>\n      <th>...</th>\n      <td>...</td>\n      <td>...</td>\n      <td>...</td>\n      <td>...</td>\n      <td>...</td>\n      <td>...</td>\n    </tr>\n    <tr>\n      <th>133244</th>\n      <td>168597</td>\n      <td>Not Hispanic or Latino</td>\n      <td>Male</td>\n      <td>White</td>\n      <td>True</td>\n      <td>1.0</td>\n    </tr>\n    <tr>\n      <th>133245</th>\n      <td>168616</td>\n      <td>Not specified</td>\n      <td>Male</td>\n      <td>Not specified (no value)</td>\n      <td>True</td>\n      <td>1.0</td>\n    </tr>\n    <tr>\n      <th>133246</th>\n      <td>168622</td>\n      <td>Not Hispanic or Latino</td>\n      <td>Male</td>\n      <td>Not specified (no value)</td>\n      <td>True</td>\n      <td>1.0</td>\n    </tr>\n    <tr>\n      <th>133247</th>\n      <td>168624</td>\n      <td>Not Hispanic or Latino</td>\n      <td>Male</td>\n      <td>Black or African American</td>\n      <td>True</td>\n      <td>1.0</td>\n    </tr>\n    <tr>\n      <th>133251</th>\n      <td>168661</td>\n      <td>Not Hispanic or Latino</td>\n      <td>Male</td>\n      <td>White</td>\n      <td>True</td>\n      <td>1.0</td>\n    </tr>\n  </tbody>\n</table>\n<p>97284 rows × 6 columns</p>\n</div>"
          },
          "metadata": {}
        }
      ],
      "execution_count": 55,
      "metadata": {
        "jupyter": {
          "source_hidden": false,
          "outputs_hidden": false
        },
        "nteract": {
          "transient": {
            "deleting": false
          }
        },
        "gather": {
          "logged": 1688284169683
        }
      }
    },
    {
      "cell_type": "markdown",
      "source": [
        "#### **97284 patients are dead.**"
      ],
      "metadata": {
        "nteract": {
          "transient": {
            "deleting": false
          }
        }
      }
    }
  ],
  "metadata": {
    "kernelspec": {
      "name": "python38-azureml",
      "language": "python",
      "display_name": "Python 3.8 - AzureML"
    },
    "language_info": {
      "name": "python",
      "version": "3.8.5",
      "mimetype": "text/x-python",
      "codemirror_mode": {
        "name": "ipython",
        "version": 3
      },
      "pygments_lexer": "ipython3",
      "nbconvert_exporter": "python",
      "file_extension": ".py"
    },
    "microsoft": {
      "ms_spell_check": {
        "ms_spell_check_language": "en"
      },
      "host": {
        "AzureML": {
          "notebookHasBeenCompleted": true
        }
      }
    },
    "kernel_info": {
      "name": "python38-azureml"
    },
    "nteract": {
      "version": "nteract-front-end@1.0.0"
    }
  },
  "nbformat": 4,
  "nbformat_minor": 2
}