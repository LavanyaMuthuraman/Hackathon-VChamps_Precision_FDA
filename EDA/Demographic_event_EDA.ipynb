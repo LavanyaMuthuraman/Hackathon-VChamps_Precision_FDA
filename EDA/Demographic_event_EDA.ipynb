{
  "cells": [
    {
      "cell_type": "code",
      "source": [
        "from azureml.core import Workspace, Dataset\n",
        "\n",
        "subscription_id = 'bcfe0c62-8ebe-4df0-a46d-1efcf8739a5b'\n",
        "resource_group = 'VChamp-Team3'\n",
        "workspace_name = 'vchamp-team3'\n",
        "\n",
        "\n",
        "# storage account : Algorithmia, Resource group: VChamp-Team3 and workspace: vchamp-team3.\n",
        "\n",
        "workspace = Workspace(subscription_id, resource_group, workspace_name)"
      ],
      "outputs": [],
      "execution_count": 1,
      "metadata": {
        "gather": {
          "logged": 1688366311027
        }
      }
    },
    {
      "cell_type": "code",
      "source": [
        "#['data_team3_synthetic_quality_check']\n",
        "datastore = workspace.datastores['data_team3_synthetic_train']"
      ],
      "outputs": [],
      "execution_count": 2,
      "metadata": {
        "gather": {
          "logged": 1688366314054
        }
      }
    },
    {
      "cell_type": "code",
      "source": [
        "dataset = Dataset.Tabular.from_delimited_files(path = [(datastore, 'demographics_event_train.csv')])\n",
        "\n",
        "# preview the first 3 rows of the dataset\n",
        "# dataset.to_pandas_dataframe()"
      ],
      "outputs": [],
      "execution_count": 3,
      "metadata": {
        "gather": {
          "logged": 1688366324419
        }
      }
    },
    {
      "cell_type": "code",
      "source": [
        "demographic_event = dataset.to_pandas_dataframe()"
      ],
      "outputs": [],
      "execution_count": 4,
      "metadata": {
        "jupyter": {
          "source_hidden": false,
          "outputs_hidden": false
        },
        "nteract": {
          "transient": {
            "deleting": false
          }
        },
        "gather": {
          "logged": 1688366331397
        }
      }
    },
    {
      "cell_type": "code",
      "source": [
        "type(demographic_event)"
      ],
      "outputs": [
        {
          "output_type": "execute_result",
          "execution_count": 5,
          "data": {
            "text/plain": "pandas.core.frame.DataFrame"
          },
          "metadata": {}
        }
      ],
      "execution_count": 5,
      "metadata": {
        "jupyter": {
          "source_hidden": false,
          "outputs_hidden": false
        },
        "nteract": {
          "transient": {
            "deleting": false
          }
        },
        "gather": {
          "logged": 1688366334154
        }
      }
    },
    {
      "cell_type": "markdown",
      "source": [
        "##### Listing all the features of the \"Demographic Event\" file.\r\n",
        "##### \r\n",
        "**Internalpatientid** - Unique internal patient ID.\r\n",
        "\r\n",
        "**Age at update** - Age at update.\r\n",
        "\r\n",
        "**Event date** - Date of the event.\r\n",
        "\r\n",
        "**Marital status** - Marital status of the patient. ('Married', 'Separated', 'Unknown', 'Widowed', 'Never married', 'Divorced', 'Single', 'Not specified (no value)').\r\n",
        "\r\n",
        "**Ruca category** - Rural category of the patient. ('Urban', 'Rural', 'Highly rural', 'Not specified')."
      ],
      "metadata": {
        "nteract": {
          "transient": {
            "deleting": false
          }
        }
      }
    },
    {
      "cell_type": "code",
      "source": [
        "demographic_event.head()"
      ],
      "outputs": [
        {
          "output_type": "execute_result",
          "execution_count": 7,
          "data": {
            "text/plain": "   Column1  Internalpatientid  Age at update          Event date   \n0        1             100028      78.990830 2020-08-24 03:33:32  \\\n1        2             100032      91.357622 2008-02-07 05:03:27   \n2        4             100046      72.961415 2003-09-14 09:32:12   \n3        5             100071      75.221222 2019-04-25 08:33:42   \n4        6             100091      80.955929 2022-02-09 09:24:20   \n\n  Marital status Ruca category  \n0        Married         Urban  \n1        Married         Rural  \n2        Married         Urban  \n3        Widowed         Urban  \n4  Never married         Urban  ",
            "text/html": "<div>\n<style scoped>\n    .dataframe tbody tr th:only-of-type {\n        vertical-align: middle;\n    }\n\n    .dataframe tbody tr th {\n        vertical-align: top;\n    }\n\n    .dataframe thead th {\n        text-align: right;\n    }\n</style>\n<table border=\"1\" class=\"dataframe\">\n  <thead>\n    <tr style=\"text-align: right;\">\n      <th></th>\n      <th>Column1</th>\n      <th>Internalpatientid</th>\n      <th>Age at update</th>\n      <th>Event date</th>\n      <th>Marital status</th>\n      <th>Ruca category</th>\n    </tr>\n  </thead>\n  <tbody>\n    <tr>\n      <th>0</th>\n      <td>1</td>\n      <td>100028</td>\n      <td>78.990830</td>\n      <td>2020-08-24 03:33:32</td>\n      <td>Married</td>\n      <td>Urban</td>\n    </tr>\n    <tr>\n      <th>1</th>\n      <td>2</td>\n      <td>100032</td>\n      <td>91.357622</td>\n      <td>2008-02-07 05:03:27</td>\n      <td>Married</td>\n      <td>Rural</td>\n    </tr>\n    <tr>\n      <th>2</th>\n      <td>4</td>\n      <td>100046</td>\n      <td>72.961415</td>\n      <td>2003-09-14 09:32:12</td>\n      <td>Married</td>\n      <td>Urban</td>\n    </tr>\n    <tr>\n      <th>3</th>\n      <td>5</td>\n      <td>100071</td>\n      <td>75.221222</td>\n      <td>2019-04-25 08:33:42</td>\n      <td>Widowed</td>\n      <td>Urban</td>\n    </tr>\n    <tr>\n      <th>4</th>\n      <td>6</td>\n      <td>100091</td>\n      <td>80.955929</td>\n      <td>2022-02-09 09:24:20</td>\n      <td>Never married</td>\n      <td>Urban</td>\n    </tr>\n  </tbody>\n</table>\n</div>"
          },
          "metadata": {}
        }
      ],
      "execution_count": 7,
      "metadata": {
        "jupyter": {
          "source_hidden": false,
          "outputs_hidden": false
        },
        "nteract": {
          "transient": {
            "deleting": false
          }
        },
        "gather": {
          "logged": 1688366469086
        }
      }
    },
    {
      "cell_type": "code",
      "source": [
        "# shape of the dataframe\r\n",
        "demographic_event.shape"
      ],
      "outputs": [
        {
          "output_type": "execute_result",
          "execution_count": 8,
          "data": {
            "text/plain": "(133252, 6)"
          },
          "metadata": {}
        }
      ],
      "execution_count": 8,
      "metadata": {
        "jupyter": {
          "source_hidden": false,
          "outputs_hidden": false
        },
        "nteract": {
          "transient": {
            "deleting": false
          }
        },
        "gather": {
          "logged": 1688366471871
        }
      }
    },
    {
      "cell_type": "markdown",
      "source": [
        "**Removing the unnecessary column from the dataframe**"
      ],
      "metadata": {
        "nteract": {
          "transient": {
            "deleting": false
          }
        }
      }
    },
    {
      "cell_type": "code",
      "source": [
        "demographic_event = demographic_event.drop('Column1', axis = 1)\r\n",
        "demographic_event.head()"
      ],
      "outputs": [
        {
          "output_type": "execute_result",
          "execution_count": 9,
          "data": {
            "text/plain": "   Internalpatientid  Age at update          Event date Marital status   \n0             100028      78.990830 2020-08-24 03:33:32        Married  \\\n1             100032      91.357622 2008-02-07 05:03:27        Married   \n2             100046      72.961415 2003-09-14 09:32:12        Married   \n3             100071      75.221222 2019-04-25 08:33:42        Widowed   \n4             100091      80.955929 2022-02-09 09:24:20  Never married   \n\n  Ruca category  \n0         Urban  \n1         Rural  \n2         Urban  \n3         Urban  \n4         Urban  ",
            "text/html": "<div>\n<style scoped>\n    .dataframe tbody tr th:only-of-type {\n        vertical-align: middle;\n    }\n\n    .dataframe tbody tr th {\n        vertical-align: top;\n    }\n\n    .dataframe thead th {\n        text-align: right;\n    }\n</style>\n<table border=\"1\" class=\"dataframe\">\n  <thead>\n    <tr style=\"text-align: right;\">\n      <th></th>\n      <th>Internalpatientid</th>\n      <th>Age at update</th>\n      <th>Event date</th>\n      <th>Marital status</th>\n      <th>Ruca category</th>\n    </tr>\n  </thead>\n  <tbody>\n    <tr>\n      <th>0</th>\n      <td>100028</td>\n      <td>78.990830</td>\n      <td>2020-08-24 03:33:32</td>\n      <td>Married</td>\n      <td>Urban</td>\n    </tr>\n    <tr>\n      <th>1</th>\n      <td>100032</td>\n      <td>91.357622</td>\n      <td>2008-02-07 05:03:27</td>\n      <td>Married</td>\n      <td>Rural</td>\n    </tr>\n    <tr>\n      <th>2</th>\n      <td>100046</td>\n      <td>72.961415</td>\n      <td>2003-09-14 09:32:12</td>\n      <td>Married</td>\n      <td>Urban</td>\n    </tr>\n    <tr>\n      <th>3</th>\n      <td>100071</td>\n      <td>75.221222</td>\n      <td>2019-04-25 08:33:42</td>\n      <td>Widowed</td>\n      <td>Urban</td>\n    </tr>\n    <tr>\n      <th>4</th>\n      <td>100091</td>\n      <td>80.955929</td>\n      <td>2022-02-09 09:24:20</td>\n      <td>Never married</td>\n      <td>Urban</td>\n    </tr>\n  </tbody>\n</table>\n</div>"
          },
          "metadata": {}
        }
      ],
      "execution_count": 9,
      "metadata": {
        "jupyter": {
          "source_hidden": false,
          "outputs_hidden": false
        },
        "nteract": {
          "transient": {
            "deleting": false
          }
        },
        "gather": {
          "logged": 1688366486562
        }
      }
    },
    {
      "cell_type": "code",
      "source": [
        "demographic_event = demographic_event.drop('Event date', axis = 1)\r\n",
        "demographic_event.head()"
      ],
      "outputs": [
        {
          "output_type": "execute_result",
          "execution_count": 10,
          "data": {
            "text/plain": "   Internalpatientid  Age at update Marital status Ruca category\n0             100028      78.990830        Married         Urban\n1             100032      91.357622        Married         Rural\n2             100046      72.961415        Married         Urban\n3             100071      75.221222        Widowed         Urban\n4             100091      80.955929  Never married         Urban",
            "text/html": "<div>\n<style scoped>\n    .dataframe tbody tr th:only-of-type {\n        vertical-align: middle;\n    }\n\n    .dataframe tbody tr th {\n        vertical-align: top;\n    }\n\n    .dataframe thead th {\n        text-align: right;\n    }\n</style>\n<table border=\"1\" class=\"dataframe\">\n  <thead>\n    <tr style=\"text-align: right;\">\n      <th></th>\n      <th>Internalpatientid</th>\n      <th>Age at update</th>\n      <th>Marital status</th>\n      <th>Ruca category</th>\n    </tr>\n  </thead>\n  <tbody>\n    <tr>\n      <th>0</th>\n      <td>100028</td>\n      <td>78.990830</td>\n      <td>Married</td>\n      <td>Urban</td>\n    </tr>\n    <tr>\n      <th>1</th>\n      <td>100032</td>\n      <td>91.357622</td>\n      <td>Married</td>\n      <td>Rural</td>\n    </tr>\n    <tr>\n      <th>2</th>\n      <td>100046</td>\n      <td>72.961415</td>\n      <td>Married</td>\n      <td>Urban</td>\n    </tr>\n    <tr>\n      <th>3</th>\n      <td>100071</td>\n      <td>75.221222</td>\n      <td>Widowed</td>\n      <td>Urban</td>\n    </tr>\n    <tr>\n      <th>4</th>\n      <td>100091</td>\n      <td>80.955929</td>\n      <td>Never married</td>\n      <td>Urban</td>\n    </tr>\n  </tbody>\n</table>\n</div>"
          },
          "metadata": {}
        }
      ],
      "execution_count": 10,
      "metadata": {
        "jupyter": {
          "source_hidden": false,
          "outputs_hidden": false
        },
        "nteract": {
          "transient": {
            "deleting": false
          }
        },
        "gather": {
          "logged": 1688366490067
        }
      }
    },
    {
      "cell_type": "code",
      "source": [
        "# checking the null values\r\n",
        "demographic_event.isnull().sum()"
      ],
      "outputs": [
        {
          "output_type": "execute_result",
          "execution_count": 12,
          "data": {
            "text/plain": "Internalpatientid    0\nAge at update        0\nMarital status       0\nRuca category        0\ndtype: int64"
          },
          "metadata": {}
        }
      ],
      "execution_count": 12,
      "metadata": {
        "jupyter": {
          "source_hidden": false,
          "outputs_hidden": false
        },
        "nteract": {
          "transient": {
            "deleting": false
          }
        },
        "gather": {
          "logged": 1688366533314
        }
      }
    },
    {
      "cell_type": "markdown",
      "source": [
        "**There are no null values in the dataframe**"
      ],
      "metadata": {
        "nteract": {
          "transient": {
            "deleting": false
          }
        }
      }
    },
    {
      "cell_type": "code",
      "source": [
        "# info of the dataframe\r\n",
        "demographic_event.info()"
      ],
      "outputs": [
        {
          "output_type": "stream",
          "name": "stdout",
          "text": "<class 'pandas.core.frame.DataFrame'>\nRangeIndex: 133252 entries, 0 to 133251\nData columns (total 4 columns):\n #   Column             Non-Null Count   Dtype  \n---  ------             --------------   -----  \n 0   Internalpatientid  133252 non-null  int64  \n 1   Age at update      133252 non-null  float64\n 2   Marital status     133252 non-null  object \n 3   Ruca category      133252 non-null  object \ndtypes: float64(1), int64(1), object(2)\nmemory usage: 4.1+ MB\n"
        }
      ],
      "execution_count": 13,
      "metadata": {
        "jupyter": {
          "source_hidden": false,
          "outputs_hidden": false
        },
        "nteract": {
          "transient": {
            "deleting": false
          }
        },
        "gather": {
          "logged": 1688366536808
        }
      }
    },
    {
      "cell_type": "code",
      "source": [
        "# finding the number of unique values for each column\r\n",
        "print(demographic_event.nunique())"
      ],
      "outputs": [
        {
          "output_type": "stream",
          "name": "stdout",
          "text": "Internalpatientid    133252\nAge at update        133251\nMarital status            8\nRuca category             4\ndtype: int64\n"
        }
      ],
      "execution_count": 14,
      "metadata": {
        "jupyter": {
          "source_hidden": false,
          "outputs_hidden": false
        },
        "nteract": {
          "transient": {
            "deleting": false
          }
        },
        "gather": {
          "logged": 1688366542230
        }
      }
    },
    {
      "cell_type": "markdown",
      "source": [
        "**General values for the age variable**"
      ],
      "metadata": {
        "nteract": {
          "transient": {
            "deleting": false
          }
        }
      }
    },
    {
      "cell_type": "code",
      "source": [
        "\r\n",
        "print(demographic_event['Age at update'].min())\r\n",
        "print(demographic_event['Age at update'].max())\r\n",
        "print(demographic_event['Age at update'].mean())\r\n",
        "     "
      ],
      "outputs": [
        {
          "output_type": "stream",
          "name": "stdout",
          "text": "20.84202779044434\n113.6155990968739\n77.17008045257633\n"
        }
      ],
      "execution_count": 15,
      "metadata": {
        "jupyter": {
          "source_hidden": false,
          "outputs_hidden": false
        },
        "nteract": {
          "transient": {
            "deleting": false
          }
        },
        "gather": {
          "logged": 1688366720886
        }
      }
    },
    {
      "cell_type": "markdown",
      "source": [
        "### **Univariate Analysis**"
      ],
      "metadata": {
        "nteract": {
          "transient": {
            "deleting": false
          }
        }
      }
    },
    {
      "cell_type": "code",
      "source": [
        "import pandas as pd\r\n",
        "import matplotlib.pyplot as plt\r\n",
        "import numpy as np"
      ],
      "outputs": [],
      "execution_count": 14,
      "metadata": {
        "jupyter": {
          "source_hidden": false,
          "outputs_hidden": false
        },
        "nteract": {
          "transient": {
            "deleting": false
          }
        },
        "gather": {
          "logged": 1688280537222
        }
      }
    },
    {
      "cell_type": "markdown",
      "source": [
        "### **1. Age**"
      ],
      "metadata": {
        "nteract": {
          "transient": {
            "deleting": false
          }
        }
      }
    },
    {
      "cell_type": "markdown",
      "source": [
        "## **Plot age distribution**"
      ],
      "metadata": {
        "nteract": {
          "transient": {
            "deleting": false
          }
        }
      }
    },
    {
      "cell_type": "code",
      "source": [
        "\r\n",
        "plt.figure(figsize=(8,6))\r\n",
        "demographic_event['Age at update'].hist(bins = 30)\r\n",
        "plt.xlabel('Age')\r\n",
        "plt.ylabel('Frequency')\r\n",
        "plt.title('Age Distribution')\r\n",
        "plt.show()\r\n",
        "     "
      ],
      "outputs": [
        {
          "output_type": "display_data",
          "data": {
            "text/plain": "<Figure size 800x600 with 1 Axes>",
            "image/png": "[encoded data removed]"
          },
          "metadata": {}
        }
      ],
      "execution_count": 15,
      "metadata": {
        "jupyter": {
          "source_hidden": false,
          "outputs_hidden": false
        },
        "nteract": {
          "transient": {
            "deleting": false
          }
        },
        "gather": {
          "logged": 1688280540851
        }
      }
    },
    {
      "cell_type": "markdown",
      "source": [
        "### **2.Marital Status**"
      ],
      "metadata": {
        "nteract": {
          "transient": {
            "deleting": false
          }
        }
      }
    },
    {
      "cell_type": "code",
      "source": [
        "# Value counts for the marital status\r\n",
        "demographic_event['Marital status'].value_counts()\r\n",
        "     "
      ],
      "outputs": [
        {
          "output_type": "execute_result",
          "execution_count": 16,
          "data": {
            "text/plain": "Marital status\nMarried                     73020\nDivorced                    26856\nWidowed                     19378\nNever married                9352\nSeparated                    3708\nUnknown                       534\nNot specified (no value)      286\nSingle                        118\nName: count, dtype: int64"
          },
          "metadata": {}
        }
      ],
      "execution_count": 16,
      "metadata": {
        "jupyter": {
          "source_hidden": false,
          "outputs_hidden": false
        },
        "nteract": {
          "transient": {
            "deleting": false
          }
        },
        "gather": {
          "logged": 1688280544406
        }
      }
    },
    {
      "cell_type": "markdown",
      "source": [
        "**In Marital status column we have -**\r\n",
        "\r\n",
        "**Married** = 73020\r\n",
        "\r\n",
        "**Divorced** = 26856\r\n",
        "\r\n",
        "**Widowed** = 19378\r\n",
        "\r\n",
        "**Never married** = 9352\r\n",
        "\r\n",
        "**Separated** = 3708\r\n",
        "\r\n",
        "**Unknown** = 534\r\n",
        "\r\n",
        "**Not Specified** = 286\r\n",
        "\r\n",
        "**Single** = 118"
      ],
      "metadata": {
        "nteract": {
          "transient": {
            "deleting": false
          }
        }
      }
    },
    {
      "cell_type": "markdown",
      "source": [
        "## **Plot marital status distribtution**"
      ],
      "metadata": {
        "nteract": {
          "transient": {
            "deleting": false
          }
        }
      }
    },
    {
      "cell_type": "code",
      "source": [
        "plt.figure(figsize=(8,6))\r\n",
        "marital_counts = demographic_event['Marital status'].value_counts()\r\n",
        "marital_counts.plot(kind = 'bar')\r\n",
        "plt.xlabel('Marital status')\r\n",
        "plt.ylabel('Count')\r\n",
        "plt.title('Marital Status Distribution')\r\n",
        "plt.show()"
      ],
      "outputs": [
        {
          "output_type": "display_data",
          "data": {
            "text/plain": "<Figure size 800x600 with 1 Axes>",
            "image/png": "[encoded data removed]"
          },
          "metadata": {}
        }
      ],
      "execution_count": 46,
      "metadata": {
        "jupyter": {
          "source_hidden": false,
          "outputs_hidden": false
        },
        "nteract": {
          "transient": {
            "deleting": false
          }
        },
        "gather": {
          "logged": 1688281925420
        }
      }
    },
    {
      "cell_type": "markdown",
      "source": [
        "### **3.Ruca Category**"
      ],
      "metadata": {
        "nteract": {
          "transient": {
            "deleting": false
          }
        }
      }
    },
    {
      "cell_type": "code",
      "source": [
        "# Value counts for the demographic event\r\n",
        "demographic_event['Ruca category'].value_counts()"
      ],
      "outputs": [
        {
          "output_type": "execute_result",
          "execution_count": 47,
          "data": {
            "text/plain": "Ruca category\nUrban            84092\nRural            46614\nHighly rural      2034\nNot specified      512\nName: count, dtype: int64"
          },
          "metadata": {}
        }
      ],
      "execution_count": 47,
      "metadata": {
        "jupyter": {
          "source_hidden": false,
          "outputs_hidden": false
        },
        "nteract": {
          "transient": {
            "deleting": false
          }
        },
        "gather": {
          "logged": 1688281929750
        }
      }
    },
    {
      "cell_type": "markdown",
      "source": [
        "**In Ruca Category we have - **\r\n",
        "\r\n",
        "**Urban**        =    84092\r\n",
        "\r\n",
        "**Rural **        =   46614\r\n",
        "\r\n",
        "**Highly rural**    =  2034\r\n",
        "\r\n",
        "**Not specified **   =  512\r\n",
        "\r\n",
        "\r\n"
      ],
      "metadata": {
        "nteract": {
          "transient": {
            "deleting": false
          }
        }
      }
    },
    {
      "cell_type": "markdown",
      "source": [
        "## **Plot rural category distribution**"
      ],
      "metadata": {
        "nteract": {
          "transient": {
            "deleting": false
          }
        }
      }
    },
    {
      "cell_type": "code",
      "source": [
        "plt.figure(figsize=(8,6))\r\n",
        "rural_counts = demographic_event['Ruca category'].value_counts()\r\n",
        "rural_counts.plot(kind = 'pie', autopct = '%1.1f%%')\r\n",
        "plt.title('Rural category distribution')\r\n",
        "plt.show()"
      ],
      "outputs": [
        {
          "output_type": "display_data",
          "data": {
            "text/plain": "<Figure size 800x600 with 1 Axes>",
            "image/png": "[encoded data removed]"
          },
          "metadata": {}
        }
      ],
      "execution_count": 19,
      "metadata": {
        "jupyter": {
          "source_hidden": false,
          "outputs_hidden": false
        },
        "nteract": {
          "transient": {
            "deleting": false
          }
        },
        "gather": {
          "logged": 1688280555549
        }
      }
    },
    {
      "cell_type": "code",
      "source": [
        "# checking the duplicated values\r\n",
        "demographic_event.duplicated().sum()"
      ],
      "outputs": [
        {
          "output_type": "execute_result",
          "execution_count": 20,
          "data": {
            "text/plain": "0"
          },
          "metadata": {}
        }
      ],
      "execution_count": 20,
      "metadata": {
        "jupyter": {
          "source_hidden": false,
          "outputs_hidden": false
        },
        "nteract": {
          "transient": {
            "deleting": false
          }
        },
        "gather": {
          "logged": 1688280560401
        }
      }
    },
    {
      "cell_type": "code",
      "source": [
        "\r\n",
        "# Selecting duplicate rows except first\r\n",
        "# occurrence based on all columns\r\n",
        "duplicate = demographic_event.duplicated('Internalpatientid')"
      ],
      "outputs": [],
      "execution_count": 21,
      "metadata": {
        "jupyter": {
          "source_hidden": false,
          "outputs_hidden": false
        },
        "nteract": {
          "transient": {
            "deleting": false
          }
        },
        "gather": {
          "logged": 1688280562364
        }
      }
    },
    {
      "cell_type": "code",
      "source": [
        "# check for duplicated values in the Internalpatientid column\r\n",
        "\r\n",
        "if duplicate.any():\r\n",
        "  print(\"Duplicates found in the 'Internalpatientid' column\")\r\n",
        "else:\r\n",
        "  print(\"No Duplicates found in the 'Internalpatientid' column\")"
      ],
      "outputs": [
        {
          "output_type": "stream",
          "name": "stdout",
          "text": "No Duplicates found in the 'Internalpatientid' column\n"
        }
      ],
      "execution_count": 22,
      "metadata": {
        "jupyter": {
          "source_hidden": false,
          "outputs_hidden": false
        },
        "nteract": {
          "transient": {
            "deleting": false
          }
        },
        "gather": {
          "logged": 1688280564286
        }
      }
    },
    {
      "cell_type": "markdown",
      "source": [
        "#### **Using the death file do to the Bivariate Analysis with the Demographic event train file**"
      ],
      "metadata": {
        "nteract": {
          "transient": {
            "deleting": false
          }
        }
      }
    },
    {
      "cell_type": "code",
      "source": [
        "dataset = Dataset.Tabular.from_delimited_files(path = [(datastore, 'death_train.csv')])"
      ],
      "outputs": [],
      "execution_count": 23,
      "metadata": {
        "jupyter": {
          "source_hidden": false,
          "outputs_hidden": false
        },
        "nteract": {
          "transient": {
            "deleting": false
          }
        },
        "gather": {
          "logged": 1688280568684
        }
      }
    },
    {
      "cell_type": "code",
      "source": [
        "death_file = dataset.to_pandas_dataframe()"
      ],
      "outputs": [],
      "execution_count": 24,
      "metadata": {
        "jupyter": {
          "source_hidden": false,
          "outputs_hidden": false
        },
        "nteract": {
          "transient": {
            "deleting": false
          }
        },
        "gather": {
          "logged": 1688280571648
        }
      }
    },
    {
      "cell_type": "code",
      "source": [
        "type(death_file)"
      ],
      "outputs": [
        {
          "output_type": "execute_result",
          "execution_count": 25,
          "data": {
            "text/plain": "pandas.core.frame.DataFrame"
          },
          "metadata": {}
        }
      ],
      "execution_count": 25,
      "metadata": {
        "jupyter": {
          "source_hidden": false,
          "outputs_hidden": false
        },
        "nteract": {
          "transient": {
            "deleting": false
          }
        },
        "gather": {
          "logged": 1688280574401
        }
      }
    },
    {
      "cell_type": "code",
      "source": [
        "death_file.head()"
      ],
      "outputs": [
        {
          "output_type": "execute_result",
          "execution_count": 26,
          "data": {
            "text/plain": "   Column1  Internalpatientid  Age at death          Death date\n0        0             100036     72.412770 2015-01-18 20:49:10\n1        1             100037     75.241135 2008-10-16 15:14:26\n2        2             100045     85.399403 2019-01-26 11:33:52\n3        3             100095     84.136551 2004-08-10 21:49:35\n4        6              10013     68.372126 2007-06-11 00:17:06",
            "text/html": "<div>\n<style scoped>\n    .dataframe tbody tr th:only-of-type {\n        vertical-align: middle;\n    }\n\n    .dataframe tbody tr th {\n        vertical-align: top;\n    }\n\n    .dataframe thead th {\n        text-align: right;\n    }\n</style>\n<table border=\"1\" class=\"dataframe\">\n  <thead>\n    <tr style=\"text-align: right;\">\n      <th></th>\n      <th>Column1</th>\n      <th>Internalpatientid</th>\n      <th>Age at death</th>\n      <th>Death date</th>\n    </tr>\n  </thead>\n  <tbody>\n    <tr>\n      <th>0</th>\n      <td>0</td>\n      <td>100036</td>\n      <td>72.412770</td>\n      <td>2015-01-18 20:49:10</td>\n    </tr>\n    <tr>\n      <th>1</th>\n      <td>1</td>\n      <td>100037</td>\n      <td>75.241135</td>\n      <td>2008-10-16 15:14:26</td>\n    </tr>\n    <tr>\n      <th>2</th>\n      <td>2</td>\n      <td>100045</td>\n      <td>85.399403</td>\n      <td>2019-01-26 11:33:52</td>\n    </tr>\n    <tr>\n      <th>3</th>\n      <td>3</td>\n      <td>100095</td>\n      <td>84.136551</td>\n      <td>2004-08-10 21:49:35</td>\n    </tr>\n    <tr>\n      <th>4</th>\n      <td>6</td>\n      <td>10013</td>\n      <td>68.372126</td>\n      <td>2007-06-11 00:17:06</td>\n    </tr>\n  </tbody>\n</table>\n</div>"
          },
          "metadata": {}
        }
      ],
      "execution_count": 26,
      "metadata": {
        "jupyter": {
          "source_hidden": false,
          "outputs_hidden": false
        },
        "nteract": {
          "transient": {
            "deleting": false
          }
        },
        "gather": {
          "logged": 1688280577060
        }
      }
    },
    {
      "cell_type": "code",
      "source": [
        "death_file = death_file.drop('Column1', axis = 1)\r\n",
        "death_file.head()"
      ],
      "outputs": [
        {
          "output_type": "execute_result",
          "execution_count": 27,
          "data": {
            "text/plain": "   Internalpatientid  Age at death          Death date\n0             100036     72.412770 2015-01-18 20:49:10\n1             100037     75.241135 2008-10-16 15:14:26\n2             100045     85.399403 2019-01-26 11:33:52\n3             100095     84.136551 2004-08-10 21:49:35\n4              10013     68.372126 2007-06-11 00:17:06",
            "text/html": "<div>\n<style scoped>\n    .dataframe tbody tr th:only-of-type {\n        vertical-align: middle;\n    }\n\n    .dataframe tbody tr th {\n        vertical-align: top;\n    }\n\n    .dataframe thead th {\n        text-align: right;\n    }\n</style>\n<table border=\"1\" class=\"dataframe\">\n  <thead>\n    <tr style=\"text-align: right;\">\n      <th></th>\n      <th>Internalpatientid</th>\n      <th>Age at death</th>\n      <th>Death date</th>\n    </tr>\n  </thead>\n  <tbody>\n    <tr>\n      <th>0</th>\n      <td>100036</td>\n      <td>72.412770</td>\n      <td>2015-01-18 20:49:10</td>\n    </tr>\n    <tr>\n      <th>1</th>\n      <td>100037</td>\n      <td>75.241135</td>\n      <td>2008-10-16 15:14:26</td>\n    </tr>\n    <tr>\n      <th>2</th>\n      <td>100045</td>\n      <td>85.399403</td>\n      <td>2019-01-26 11:33:52</td>\n    </tr>\n    <tr>\n      <th>3</th>\n      <td>100095</td>\n      <td>84.136551</td>\n      <td>2004-08-10 21:49:35</td>\n    </tr>\n    <tr>\n      <th>4</th>\n      <td>10013</td>\n      <td>68.372126</td>\n      <td>2007-06-11 00:17:06</td>\n    </tr>\n  </tbody>\n</table>\n</div>"
          },
          "metadata": {}
        }
      ],
      "execution_count": 27,
      "metadata": {
        "jupyter": {
          "source_hidden": false,
          "outputs_hidden": false
        },
        "nteract": {
          "transient": {
            "deleting": false
          }
        },
        "gather": {
          "logged": 1688280581328
        }
      }
    },
    {
      "cell_type": "code",
      "source": [
        "death_file.shape\r\n",
        "     "
      ],
      "outputs": [
        {
          "output_type": "execute_result",
          "execution_count": 28,
          "data": {
            "text/plain": "(97284, 3)"
          },
          "metadata": {}
        }
      ],
      "execution_count": 28,
      "metadata": {
        "jupyter": {
          "source_hidden": false,
          "outputs_hidden": false
        },
        "nteract": {
          "transient": {
            "deleting": false
          }
        },
        "gather": {
          "logged": 1688280585658
        }
      }
    },
    {
      "cell_type": "code",
      "source": [
        "\r\n",
        "death_file['death'] = 1\r\n",
        "death_file.head()"
      ],
      "outputs": [
        {
          "output_type": "execute_result",
          "execution_count": 29,
          "data": {
            "text/plain": "   Internalpatientid  Age at death          Death date  death\n0             100036     72.412770 2015-01-18 20:49:10      1\n1             100037     75.241135 2008-10-16 15:14:26      1\n2             100045     85.399403 2019-01-26 11:33:52      1\n3             100095     84.136551 2004-08-10 21:49:35      1\n4              10013     68.372126 2007-06-11 00:17:06      1",
            "text/html": "<div>\n<style scoped>\n    .dataframe tbody tr th:only-of-type {\n        vertical-align: middle;\n    }\n\n    .dataframe tbody tr th {\n        vertical-align: top;\n    }\n\n    .dataframe thead th {\n        text-align: right;\n    }\n</style>\n<table border=\"1\" class=\"dataframe\">\n  <thead>\n    <tr style=\"text-align: right;\">\n      <th></th>\n      <th>Internalpatientid</th>\n      <th>Age at death</th>\n      <th>Death date</th>\n      <th>death</th>\n    </tr>\n  </thead>\n  <tbody>\n    <tr>\n      <th>0</th>\n      <td>100036</td>\n      <td>72.412770</td>\n      <td>2015-01-18 20:49:10</td>\n      <td>1</td>\n    </tr>\n    <tr>\n      <th>1</th>\n      <td>100037</td>\n      <td>75.241135</td>\n      <td>2008-10-16 15:14:26</td>\n      <td>1</td>\n    </tr>\n    <tr>\n      <th>2</th>\n      <td>100045</td>\n      <td>85.399403</td>\n      <td>2019-01-26 11:33:52</td>\n      <td>1</td>\n    </tr>\n    <tr>\n      <th>3</th>\n      <td>100095</td>\n      <td>84.136551</td>\n      <td>2004-08-10 21:49:35</td>\n      <td>1</td>\n    </tr>\n    <tr>\n      <th>4</th>\n      <td>10013</td>\n      <td>68.372126</td>\n      <td>2007-06-11 00:17:06</td>\n      <td>1</td>\n    </tr>\n  </tbody>\n</table>\n</div>"
          },
          "metadata": {}
        }
      ],
      "execution_count": 29,
      "metadata": {
        "jupyter": {
          "source_hidden": false,
          "outputs_hidden": false
        },
        "nteract": {
          "transient": {
            "deleting": false
          }
        },
        "gather": {
          "logged": 1688280589400
        }
      }
    },
    {
      "cell_type": "code",
      "source": [
        "# merging the file with death file\r\n",
        "merge_demographic_event_death= pd.merge(demographic_event, death_file, how='left',on='Internalpatientid')"
      ],
      "outputs": [],
      "execution_count": 30,
      "metadata": {
        "jupyter": {
          "source_hidden": false,
          "outputs_hidden": false
        },
        "nteract": {
          "transient": {
            "deleting": false
          }
        },
        "gather": {
          "logged": 1688280596391
        }
      }
    },
    {
      "cell_type": "code",
      "source": [
        "merge_demographic_event_death.head()"
      ],
      "outputs": [
        {
          "output_type": "execute_result",
          "execution_count": 31,
          "data": {
            "text/plain": "   Internalpatientid  Age at update Marital status Ruca category   \n0             100028      78.990830        Married         Urban  \\\n1             100032      91.357622        Married         Rural   \n2             100046      72.961415        Married         Urban   \n3             100071      75.221222        Widowed         Urban   \n4             100091      80.955929  Never married         Urban   \n\n   Age at death          Death date  death  \n0           NaN                 NaT    NaN  \n1     91.375202 2008-02-13 15:16:17    1.0  \n2     72.205323 2002-12-12 01:05:49    1.0  \n3           NaN                 NaT    NaN  \n4           NaN                 NaT    NaN  ",
            "text/html": "<div>\n<style scoped>\n    .dataframe tbody tr th:only-of-type {\n        vertical-align: middle;\n    }\n\n    .dataframe tbody tr th {\n        vertical-align: top;\n    }\n\n    .dataframe thead th {\n        text-align: right;\n    }\n</style>\n<table border=\"1\" class=\"dataframe\">\n  <thead>\n    <tr style=\"text-align: right;\">\n      <th></th>\n      <th>Internalpatientid</th>\n      <th>Age at update</th>\n      <th>Marital status</th>\n      <th>Ruca category</th>\n      <th>Age at death</th>\n      <th>Death date</th>\n      <th>death</th>\n    </tr>\n  </thead>\n  <tbody>\n    <tr>\n      <th>0</th>\n      <td>100028</td>\n      <td>78.990830</td>\n      <td>Married</td>\n      <td>Urban</td>\n      <td>NaN</td>\n      <td>NaT</td>\n      <td>NaN</td>\n    </tr>\n    <tr>\n      <th>1</th>\n      <td>100032</td>\n      <td>91.357622</td>\n      <td>Married</td>\n      <td>Rural</td>\n      <td>91.375202</td>\n      <td>2008-02-13 15:16:17</td>\n      <td>1.0</td>\n    </tr>\n    <tr>\n      <th>2</th>\n      <td>100046</td>\n      <td>72.961415</td>\n      <td>Married</td>\n      <td>Urban</td>\n      <td>72.205323</td>\n      <td>2002-12-12 01:05:49</td>\n      <td>1.0</td>\n    </tr>\n    <tr>\n      <th>3</th>\n      <td>100071</td>\n      <td>75.221222</td>\n      <td>Widowed</td>\n      <td>Urban</td>\n      <td>NaN</td>\n      <td>NaT</td>\n      <td>NaN</td>\n    </tr>\n    <tr>\n      <th>4</th>\n      <td>100091</td>\n      <td>80.955929</td>\n      <td>Never married</td>\n      <td>Urban</td>\n      <td>NaN</td>\n      <td>NaT</td>\n      <td>NaN</td>\n    </tr>\n  </tbody>\n</table>\n</div>"
          },
          "metadata": {}
        }
      ],
      "execution_count": 31,
      "metadata": {
        "jupyter": {
          "source_hidden": false,
          "outputs_hidden": false
        },
        "nteract": {
          "transient": {
            "deleting": false
          }
        },
        "gather": {
          "logged": 1688280599421
        }
      }
    },
    {
      "cell_type": "code",
      "source": [
        "merge_demographic_event_death.drop(['Age at death','Death date'],axis = 1, inplace = True)\r\n",
        "merge_demographic_event_death.head()"
      ],
      "outputs": [
        {
          "output_type": "execute_result",
          "execution_count": 32,
          "data": {
            "text/plain": "   Internalpatientid  Age at update Marital status Ruca category  death\n0             100028      78.990830        Married         Urban    NaN\n1             100032      91.357622        Married         Rural    1.0\n2             100046      72.961415        Married         Urban    1.0\n3             100071      75.221222        Widowed         Urban    NaN\n4             100091      80.955929  Never married         Urban    NaN",
            "text/html": "<div>\n<style scoped>\n    .dataframe tbody tr th:only-of-type {\n        vertical-align: middle;\n    }\n\n    .dataframe tbody tr th {\n        vertical-align: top;\n    }\n\n    .dataframe thead th {\n        text-align: right;\n    }\n</style>\n<table border=\"1\" class=\"dataframe\">\n  <thead>\n    <tr style=\"text-align: right;\">\n      <th></th>\n      <th>Internalpatientid</th>\n      <th>Age at update</th>\n      <th>Marital status</th>\n      <th>Ruca category</th>\n      <th>death</th>\n    </tr>\n  </thead>\n  <tbody>\n    <tr>\n      <th>0</th>\n      <td>100028</td>\n      <td>78.990830</td>\n      <td>Married</td>\n      <td>Urban</td>\n      <td>NaN</td>\n    </tr>\n    <tr>\n      <th>1</th>\n      <td>100032</td>\n      <td>91.357622</td>\n      <td>Married</td>\n      <td>Rural</td>\n      <td>1.0</td>\n    </tr>\n    <tr>\n      <th>2</th>\n      <td>100046</td>\n      <td>72.961415</td>\n      <td>Married</td>\n      <td>Urban</td>\n      <td>1.0</td>\n    </tr>\n    <tr>\n      <th>3</th>\n      <td>100071</td>\n      <td>75.221222</td>\n      <td>Widowed</td>\n      <td>Urban</td>\n      <td>NaN</td>\n    </tr>\n    <tr>\n      <th>4</th>\n      <td>100091</td>\n      <td>80.955929</td>\n      <td>Never married</td>\n      <td>Urban</td>\n      <td>NaN</td>\n    </tr>\n  </tbody>\n</table>\n</div>"
          },
          "metadata": {}
        }
      ],
      "execution_count": 32,
      "metadata": {
        "jupyter": {
          "source_hidden": false,
          "outputs_hidden": false
        },
        "nteract": {
          "transient": {
            "deleting": false
          }
        },
        "gather": {
          "logged": 1688280614867
        }
      }
    },
    {
      "cell_type": "markdown",
      "source": [
        "**Here we get our proper merged dataframe of \"Demographic event\" file and death file**"
      ],
      "metadata": {
        "nteract": {
          "transient": {
            "deleting": false
          }
        }
      }
    },
    {
      "cell_type": "code",
      "source": [
        "merge_demographic_event_death['death'] = merge_demographic_event_death['death'].fillna(0.0)\r\n",
        "merge_demographic_event_death.head()"
      ],
      "outputs": [
        {
          "output_type": "execute_result",
          "execution_count": 33,
          "data": {
            "text/plain": "   Internalpatientid  Age at update Marital status Ruca category  death\n0             100028      78.990830        Married         Urban    0.0\n1             100032      91.357622        Married         Rural    1.0\n2             100046      72.961415        Married         Urban    1.0\n3             100071      75.221222        Widowed         Urban    0.0\n4             100091      80.955929  Never married         Urban    0.0",
            "text/html": "<div>\n<style scoped>\n    .dataframe tbody tr th:only-of-type {\n        vertical-align: middle;\n    }\n\n    .dataframe tbody tr th {\n        vertical-align: top;\n    }\n\n    .dataframe thead th {\n        text-align: right;\n    }\n</style>\n<table border=\"1\" class=\"dataframe\">\n  <thead>\n    <tr style=\"text-align: right;\">\n      <th></th>\n      <th>Internalpatientid</th>\n      <th>Age at update</th>\n      <th>Marital status</th>\n      <th>Ruca category</th>\n      <th>death</th>\n    </tr>\n  </thead>\n  <tbody>\n    <tr>\n      <th>0</th>\n      <td>100028</td>\n      <td>78.990830</td>\n      <td>Married</td>\n      <td>Urban</td>\n      <td>0.0</td>\n    </tr>\n    <tr>\n      <th>1</th>\n      <td>100032</td>\n      <td>91.357622</td>\n      <td>Married</td>\n      <td>Rural</td>\n      <td>1.0</td>\n    </tr>\n    <tr>\n      <th>2</th>\n      <td>100046</td>\n      <td>72.961415</td>\n      <td>Married</td>\n      <td>Urban</td>\n      <td>1.0</td>\n    </tr>\n    <tr>\n      <th>3</th>\n      <td>100071</td>\n      <td>75.221222</td>\n      <td>Widowed</td>\n      <td>Urban</td>\n      <td>0.0</td>\n    </tr>\n    <tr>\n      <th>4</th>\n      <td>100091</td>\n      <td>80.955929</td>\n      <td>Never married</td>\n      <td>Urban</td>\n      <td>0.0</td>\n    </tr>\n  </tbody>\n</table>\n</div>"
          },
          "metadata": {}
        }
      ],
      "execution_count": 33,
      "metadata": {
        "jupyter": {
          "source_hidden": false,
          "outputs_hidden": false
        },
        "nteract": {
          "transient": {
            "deleting": false
          }
        },
        "gather": {
          "logged": 1688280624578
        }
      }
    },
    {
      "cell_type": "code",
      "source": [
        "import matplotlib.pyplot as plt\r\n",
        "import pandas as pd\r\n",
        "import numpy as np\r\n",
        "\r\n"
      ],
      "outputs": [],
      "execution_count": 34,
      "metadata": {
        "jupyter": {
          "source_hidden": false,
          "outputs_hidden": false
        },
        "nteract": {
          "transient": {
            "deleting": false
          }
        },
        "gather": {
          "logged": 1688280633433
        }
      }
    },
    {
      "cell_type": "markdown",
      "source": [
        "#### **Bivariate Analysis**"
      ],
      "metadata": {
        "nteract": {
          "transient": {
            "deleting": false
          }
        }
      }
    },
    {
      "cell_type": "markdown",
      "source": [
        "###### **1. Rural category & Death**"
      ],
      "metadata": {
        "nteract": {
          "transient": {
            "deleting": false
          }
        }
      }
    },
    {
      "cell_type": "code",
      "source": [
        "Rural_death_crosstab = pd.crosstab(merge_demographic_event_death['Ruca category'],merge_demographic_event_death['death'])\r\n",
        "print(Rural_death_crosstab)"
      ],
      "outputs": [
        {
          "output_type": "stream",
          "name": "stdout",
          "text": "death            0.0    1.0\nRuca category              \nHighly rural     497   1537\nNot specified    281    231\nRural          12419  34195\nUrban          22771  61321\n"
        }
      ],
      "execution_count": 35,
      "metadata": {
        "jupyter": {
          "source_hidden": false,
          "outputs_hidden": false
        },
        "nteract": {
          "transient": {
            "deleting": false
          }
        },
        "gather": {
          "logged": 1688280695560
        }
      }
    },
    {
      "cell_type": "code",
      "source": [
        "#calculate the percentage within each Rural category\r\n",
        "\r\n",
        "Rural_death_proportions = Rural_death_crosstab.div(Rural_death_crosstab.sum(axis = 1), axis = 0)*100"
      ],
      "outputs": [],
      "execution_count": 36,
      "metadata": {
        "jupyter": {
          "source_hidden": false,
          "outputs_hidden": false
        },
        "nteract": {
          "transient": {
            "deleting": false
          }
        },
        "gather": {
          "logged": 1688280711012
        }
      }
    },
    {
      "cell_type": "code",
      "source": [
        "\r\n",
        "width = 0.35\r\n",
        "x = range(len(Rural_death_proportions.index))\r\n",
        "\r\n",
        "fig, ax = plt.subplots()\r\n",
        "\r\n",
        "alive = ax.bar(x,Rural_death_proportions[0], width, label = 'Alive')\r\n",
        "dead = ax.bar([i + width for i in x], Rural_death_proportions[1], width, label = \"death\")\r\n",
        "\r\n",
        "ax.set_xlabel('Rural Status')\r\n",
        "ax.set_ylabel('Proportion of Death')\r\n",
        "ax.set_title('Proportion od deaths by Ethnicity')\r\n",
        "ax.set_xticks([i + width/2 for i in x])\r\n",
        "ax.set_xticklabels(Rural_death_proportions.index)\r\n",
        "ax.legend()\r\n",
        "\r\n",
        "plt.show()\r\n",
        "     "
      ],
      "outputs": [
        {
          "output_type": "display_data",
          "data": {
            "text/plain": "<Figure size 640x480 with 1 Axes>",
            "image/png": "[encoded data removed]"
          },
          "metadata": {}
        }
      ],
      "execution_count": 37,
      "metadata": {
        "jupyter": {
          "source_hidden": false,
          "outputs_hidden": false
        },
        "nteract": {
          "transient": {
            "deleting": false
          }
        },
        "gather": {
          "logged": 1688280714721
        }
      }
    },
    {
      "cell_type": "markdown",
      "source": [
        "###### **2. Marital Status & Death**"
      ],
      "metadata": {
        "nteract": {
          "transient": {
            "deleting": false
          }
        }
      }
    },
    {
      "cell_type": "code",
      "source": [
        "Marital_death_crosstab = pd.crosstab(merge_demographic_event_death['Marital status'],merge_demographic_event_death['death'])\r\n",
        "print(Marital_death_crosstab)"
      ],
      "outputs": [
        {
          "output_type": "stream",
          "name": "stdout",
          "text": "death                       0.0    1.0\nMarital status                        \nDivorced                   8686  18170\nMarried                   19721  53299\nNever married              3243   6109\nNot specified (no value)     87    199\nSeparated                  1225   2483\nSingle                       30     88\nUnknown                     193    341\nWidowed                    2783  16595\n"
        }
      ],
      "execution_count": 38,
      "metadata": {
        "jupyter": {
          "source_hidden": false,
          "outputs_hidden": false
        },
        "nteract": {
          "transient": {
            "deleting": false
          }
        },
        "gather": {
          "logged": 1688280720310
        }
      }
    },
    {
      "cell_type": "code",
      "source": [
        "#calculate the percentage within each Marital category\r\n",
        "\r\n",
        "Marital_death_proportions = Marital_death_crosstab.div(Marital_death_crosstab.sum(axis = 1), axis = 0)*100"
      ],
      "outputs": [],
      "execution_count": 39,
      "metadata": {
        "jupyter": {
          "source_hidden": false,
          "outputs_hidden": false
        },
        "nteract": {
          "transient": {
            "deleting": false
          }
        },
        "gather": {
          "logged": 1688280730858
        }
      }
    },
    {
      "cell_type": "code",
      "source": [
        "width = 0.35\r\n",
        "x = range(len(Marital_death_proportions.index))\r\n",
        "\r\n",
        "fig, ax = plt.subplots()\r\n",
        "\r\n",
        "alive = ax.bar(x,Marital_death_proportions[0], width, label = 'Alive')\r\n",
        "dead = ax.bar([i + width for i in x], Marital_death_proportions[1], width, label = \"death\")\r\n",
        "\r\n",
        "ax.set_xlabel('Marital Status')\r\n",
        "ax.set_ylabel('Proportion of Death')\r\n",
        "ax.set_title('Proportion od deaths by Ethnicity')\r\n",
        "ax.set_xticks([i + width/2 for i in x])\r\n",
        "ax.set_xticklabels(Marital_death_proportions.index)\r\n",
        "ax.legend()\r\n",
        "\r\n",
        "plt.show()"
      ],
      "outputs": [
        {
          "output_type": "display_data",
          "data": {
            "text/plain": "<Figure size 640x480 with 1 Axes>",
            "image/png": "[encoded data removed]"
          },
          "metadata": {}
        }
      ],
      "execution_count": 40,
      "metadata": {
        "jupyter": {
          "source_hidden": false,
          "outputs_hidden": false
        },
        "nteract": {
          "transient": {
            "deleting": false
          }
        },
        "gather": {
          "logged": 1688280737918
        }
      }
    },
    {
      "cell_type": "markdown",
      "source": [
        "### **Visualising the dead and alive patients from the dataframe**"
      ],
      "metadata": {
        "nteract": {
          "transient": {
            "deleting": false
          }
        }
      }
    },
    {
      "cell_type": "code",
      "source": [
        "merge_demographic_event_death['death'].value_counts()"
      ],
      "outputs": [
        {
          "output_type": "execute_result",
          "execution_count": 41,
          "data": {
            "text/plain": "death\n1.0    97284\n0.0    35968\nName: count, dtype: int64"
          },
          "metadata": {}
        }
      ],
      "execution_count": 41,
      "metadata": {
        "jupyter": {
          "source_hidden": false,
          "outputs_hidden": false
        },
        "nteract": {
          "transient": {
            "deleting": false
          }
        },
        "gather": {
          "logged": 1688280995938
        }
      }
    },
    {
      "cell_type": "code",
      "source": [
        "merge_demographic_event_death['death'].value_counts(normalize=True)"
      ],
      "outputs": [
        {
          "output_type": "execute_result",
          "execution_count": 42,
          "data": {
            "text/plain": "death\n1.0    0.730075\n0.0    0.269925\nName: proportion, dtype: float64"
          },
          "metadata": {}
        }
      ],
      "execution_count": 42,
      "metadata": {
        "jupyter": {
          "source_hidden": false,
          "outputs_hidden": false
        },
        "nteract": {
          "transient": {
            "deleting": false
          }
        },
        "gather": {
          "logged": 1688281093609
        }
      }
    },
    {
      "cell_type": "markdown",
      "source": [
        "**73% of the patients are dead and 26% are alive.**"
      ],
      "metadata": {
        "nteract": {
          "transient": {
            "deleting": false
          }
        }
      }
    },
    {
      "cell_type": "code",
      "source": [
        "merge_demographic_event_death['death'].value_counts().plot(kind='bar')"
      ],
      "outputs": [
        {
          "output_type": "execute_result",
          "execution_count": 43,
          "data": {
            "text/plain": "<Axes: xlabel='death'>"
          },
          "metadata": {}
        },
        {
          "output_type": "display_data",
          "data": {
            "text/plain": "<Figure size 640x480 with 1 Axes>",
            "image/png": "[encoded data removed]"
          },
          "metadata": {}
        }
      ],
      "execution_count": 43,
      "metadata": {
        "jupyter": {
          "source_hidden": false,
          "outputs_hidden": false
        },
        "nteract": {
          "transient": {
            "deleting": false
          }
        },
        "gather": {
          "logged": 1688281119986
        }
      }
    },
    {
      "cell_type": "markdown",
      "source": [
        "#### **Checking the dataframes for the alive and death patients for the given merged files.**"
      ],
      "metadata": {
        "nteract": {
          "transient": {
            "deleting": false
          }
        }
      }
    },
    {
      "cell_type": "code",
      "source": [
        "df_alive = merge_demographic_event_death[merge_demographic_event_death[\"death\"]==0]\r\n",
        "df_alive"
      ],
      "outputs": [
        {
          "output_type": "execute_result",
          "execution_count": 44,
          "data": {
            "text/plain": "        Internalpatientid  Age at update Marital status Ruca category  death\n0                  100028      78.990830        Married         Urban    0.0\n3                  100071      75.221222        Widowed         Urban    0.0\n4                  100091      80.955929  Never married         Urban    0.0\n10                 100305      88.657099        Widowed         Urban    0.0\n11                 100371      74.463782        Married         Rural    0.0\n...                   ...            ...            ...           ...    ...\n133233              99676      49.532190       Divorced         Urban    0.0\n133237              99762      70.689126       Divorced         Urban    0.0\n133238               9977      76.527013        Married         Urban    0.0\n133245              99875      61.094592        Married         Rural    0.0\n133251               9999      69.752317        Married         Urban    0.0\n\n[35968 rows x 5 columns]",
            "text/html": "<div>\n<style scoped>\n    .dataframe tbody tr th:only-of-type {\n        vertical-align: middle;\n    }\n\n    .dataframe tbody tr th {\n        vertical-align: top;\n    }\n\n    .dataframe thead th {\n        text-align: right;\n    }\n</style>\n<table border=\"1\" class=\"dataframe\">\n  <thead>\n    <tr style=\"text-align: right;\">\n      <th></th>\n      <th>Internalpatientid</th>\n      <th>Age at update</th>\n      <th>Marital status</th>\n      <th>Ruca category</th>\n      <th>death</th>\n    </tr>\n  </thead>\n  <tbody>\n    <tr>\n      <th>0</th>\n      <td>100028</td>\n      <td>78.990830</td>\n      <td>Married</td>\n      <td>Urban</td>\n      <td>0.0</td>\n    </tr>\n    <tr>\n      <th>3</th>\n      <td>100071</td>\n      <td>75.221222</td>\n      <td>Widowed</td>\n      <td>Urban</td>\n      <td>0.0</td>\n    </tr>\n    <tr>\n      <th>4</th>\n      <td>100091</td>\n      <td>80.955929</td>\n      <td>Never married</td>\n      <td>Urban</td>\n      <td>0.0</td>\n    </tr>\n    <tr>\n      <th>10</th>\n      <td>100305</td>\n      <td>88.657099</td>\n      <td>Widowed</td>\n      <td>Urban</td>\n      <td>0.0</td>\n    </tr>\n    <tr>\n      <th>11</th>\n      <td>100371</td>\n      <td>74.463782</td>\n      <td>Married</td>\n      <td>Rural</td>\n      <td>0.0</td>\n    </tr>\n    <tr>\n      <th>...</th>\n      <td>...</td>\n      <td>...</td>\n      <td>...</td>\n      <td>...</td>\n      <td>...</td>\n    </tr>\n    <tr>\n      <th>133233</th>\n      <td>99676</td>\n      <td>49.532190</td>\n      <td>Divorced</td>\n      <td>Urban</td>\n      <td>0.0</td>\n    </tr>\n    <tr>\n      <th>133237</th>\n      <td>99762</td>\n      <td>70.689126</td>\n      <td>Divorced</td>\n      <td>Urban</td>\n      <td>0.0</td>\n    </tr>\n    <tr>\n      <th>133238</th>\n      <td>9977</td>\n      <td>76.527013</td>\n      <td>Married</td>\n      <td>Urban</td>\n      <td>0.0</td>\n    </tr>\n    <tr>\n      <th>133245</th>\n      <td>99875</td>\n      <td>61.094592</td>\n      <td>Married</td>\n      <td>Rural</td>\n      <td>0.0</td>\n    </tr>\n    <tr>\n      <th>133251</th>\n      <td>9999</td>\n      <td>69.752317</td>\n      <td>Married</td>\n      <td>Urban</td>\n      <td>0.0</td>\n    </tr>\n  </tbody>\n</table>\n<p>35968 rows × 5 columns</p>\n</div>"
          },
          "metadata": {}
        }
      ],
      "execution_count": 44,
      "metadata": {
        "jupyter": {
          "source_hidden": false,
          "outputs_hidden": false
        },
        "nteract": {
          "transient": {
            "deleting": false
          }
        },
        "gather": {
          "logged": 1688281340165
        }
      }
    },
    {
      "cell_type": "markdown",
      "source": [
        "### **35968 people are alive**"
      ],
      "metadata": {
        "nteract": {
          "transient": {
            "deleting": false
          }
        }
      }
    },
    {
      "cell_type": "code",
      "source": [
        "df_death =  merge_demographic_event_death[merge_demographic_event_death[\"death\"]==1]\r\n",
        "df_death"
      ],
      "outputs": [
        {
          "output_type": "execute_result",
          "execution_count": 45,
          "data": {
            "text/plain": "        Internalpatientid  Age at update Marital status Ruca category  death\n1                  100032      91.357622        Married         Rural    1.0\n2                  100046      72.961415        Married         Urban    1.0\n5                  100150      58.127857        Married         Urban    1.0\n6                   10018      88.516745        Widowed         Rural    1.0\n7                  100228      83.563322        Married         Urban    1.0\n...                   ...            ...            ...           ...    ...\n133246               9988      92.781791        Married         Rural    1.0\n133247              99898      92.376313        Married         Urban    1.0\n133248               9995      79.974938        Married         Rural    1.0\n133249              99950      77.154395        Married         Urban    1.0\n133250               9998      62.324623       Divorced         Urban    1.0\n\n[97284 rows x 5 columns]",
            "text/html": "<div>\n<style scoped>\n    .dataframe tbody tr th:only-of-type {\n        vertical-align: middle;\n    }\n\n    .dataframe tbody tr th {\n        vertical-align: top;\n    }\n\n    .dataframe thead th {\n        text-align: right;\n    }\n</style>\n<table border=\"1\" class=\"dataframe\">\n  <thead>\n    <tr style=\"text-align: right;\">\n      <th></th>\n      <th>Internalpatientid</th>\n      <th>Age at update</th>\n      <th>Marital status</th>\n      <th>Ruca category</th>\n      <th>death</th>\n    </tr>\n  </thead>\n  <tbody>\n    <tr>\n      <th>1</th>\n      <td>100032</td>\n      <td>91.357622</td>\n      <td>Married</td>\n      <td>Rural</td>\n      <td>1.0</td>\n    </tr>\n    <tr>\n      <th>2</th>\n      <td>100046</td>\n      <td>72.961415</td>\n      <td>Married</td>\n      <td>Urban</td>\n      <td>1.0</td>\n    </tr>\n    <tr>\n      <th>5</th>\n      <td>100150</td>\n      <td>58.127857</td>\n      <td>Married</td>\n      <td>Urban</td>\n      <td>1.0</td>\n    </tr>\n    <tr>\n      <th>6</th>\n      <td>10018</td>\n      <td>88.516745</td>\n      <td>Widowed</td>\n      <td>Rural</td>\n      <td>1.0</td>\n    </tr>\n    <tr>\n      <th>7</th>\n      <td>100228</td>\n      <td>83.563322</td>\n      <td>Married</td>\n      <td>Urban</td>\n      <td>1.0</td>\n    </tr>\n    <tr>\n      <th>...</th>\n      <td>...</td>\n      <td>...</td>\n      <td>...</td>\n      <td>...</td>\n      <td>...</td>\n    </tr>\n    <tr>\n      <th>133246</th>\n      <td>9988</td>\n      <td>92.781791</td>\n      <td>Married</td>\n      <td>Rural</td>\n      <td>1.0</td>\n    </tr>\n    <tr>\n      <th>133247</th>\n      <td>99898</td>\n      <td>92.376313</td>\n      <td>Married</td>\n      <td>Urban</td>\n      <td>1.0</td>\n    </tr>\n    <tr>\n      <th>133248</th>\n      <td>9995</td>\n      <td>79.974938</td>\n      <td>Married</td>\n      <td>Rural</td>\n      <td>1.0</td>\n    </tr>\n    <tr>\n      <th>133249</th>\n      <td>99950</td>\n      <td>77.154395</td>\n      <td>Married</td>\n      <td>Urban</td>\n      <td>1.0</td>\n    </tr>\n    <tr>\n      <th>133250</th>\n      <td>9998</td>\n      <td>62.324623</td>\n      <td>Divorced</td>\n      <td>Urban</td>\n      <td>1.0</td>\n    </tr>\n  </tbody>\n</table>\n<p>97284 rows × 5 columns</p>\n</div>"
          },
          "metadata": {}
        }
      ],
      "execution_count": 45,
      "metadata": {
        "jupyter": {
          "source_hidden": false,
          "outputs_hidden": false
        },
        "nteract": {
          "transient": {
            "deleting": false
          }
        },
        "gather": {
          "logged": 1688281421734
        }
      }
    },
    {
      "cell_type": "markdown",
      "source": [
        "### **97284 people are dead**"
      ],
      "metadata": {
        "nteract": {
          "transient": {
            "deleting": false
          }
        }
      }
    }
  ],
  "metadata": {
    "kernelspec": {
      "name": "python310-sdkv2",
      "language": "python",
      "display_name": "Python 3.10 - SDK v2"
    },
    "language_info": {
      "name": "python",
      "version": "3.10.10",
      "mimetype": "text/x-python",
      "codemirror_mode": {
        "name": "ipython",
        "version": 3
      },
      "pygments_lexer": "ipython3",
      "nbconvert_exporter": "python",
      "file_extension": ".py"
    },
    "microsoft": {
      "ms_spell_check": {
        "ms_spell_check_language": "en"
      },
      "host": {
        "AzureML": {
          "notebookHasBeenCompleted": true
        }
      }
    },
    "kernel_info": {
      "name": "python310-sdkv2"
    },
    "nteract": {
      "version": "nteract-front-end@1.0.0"
    }
  },
  "nbformat": 4,
  "nbformat_minor": 4
}