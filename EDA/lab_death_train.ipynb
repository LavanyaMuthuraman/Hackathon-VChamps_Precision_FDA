{
 "cells": [
  {
   "cell_type": "markdown",
   "metadata": {},
   "source": [
    "# **Azure notebook Setup**"
   ]
  },
  {
   "cell_type": "code",
   "execution_count": 1,
   "metadata": {},
   "outputs": [],
   "source": [
    "#A class attribute that provides access to the TabularDatasetFactory methods for creating new TabularDataset objects. \n",
    "#Usage: Dataset.Tabular.from_delimited_files().\n",
    "from azureml.core import Workspace, Dataset\n",
    "\n",
    "subscription_id = 'bcfe0c62-8ebe-4df0-a46d-1efcf8739a5b' #check the launch studio there will get this id\n",
    "resource_group = 'VChamp-Team3' # resource group name\n",
    "workspace_name = 'vchamp-team3' # worksapce name\n",
    "\n",
    "\n",
    "# storage account : Algorithmia, Resource group: VChamp-Team3 and workspace: vchamp-team3.\n",
    "#Constructor\n",
    "workspace = Workspace(subscription_id, resource_group, workspace_name)"
   ]
  },
  {
   "cell_type": "code",
   "execution_count": 2,
   "metadata": {},
   "outputs": [],
   "source": [
    "#['data_team3_synthetic_train']\n",
    "datastore = workspace.datastores['data_team3_synthetic_train'] "
   ]
  },
  {
   "cell_type": "code",
   "execution_count": 3,
   "metadata": {},
   "outputs": [],
   "source": [
    "#from_delimited_files (Create a TabularDataset to represent tabular data in delimited files (e.g. CSV and TSV).\n",
    "\n",
    "dataset = Dataset.Tabular.from_delimited_files(path = [(datastore, 'lab_results_train.csv')])\n",
    "\n",
    "# preview the first 3 rows of the dataset\n",
    "# dataset.to_pandas_dataframe()"
   ]
  },
  {
   "cell_type": "code",
   "execution_count": 4,
   "metadata": {},
   "outputs": [],
   "source": [
    "#Converting the dataset into data frame(default as dataset in Azure, thus we must convert the needed formate)\n",
    "lab_train_data= dataset.to_pandas_dataframe()"
   ]
  },
  {
   "cell_type": "code",
   "execution_count": 5,
   "metadata": {},
   "outputs": [
    {
     "data": {
      "text/html": [
       "<div>\n",
       "<style scoped>\n",
       "    .dataframe tbody tr th:only-of-type {\n",
       "        vertical-align: middle;\n",
       "    }\n",
       "\n",
       "    .dataframe tbody tr th {\n",
       "        vertical-align: top;\n",
       "    }\n",
       "\n",
       "    .dataframe thead th {\n",
       "        text-align: right;\n",
       "    }\n",
       "</style>\n",
       "<table border=\"1\" class=\"dataframe\">\n",
       "  <thead>\n",
       "    <tr style=\"text-align: right;\">\n",
       "      <th></th>\n",
       "      <th>Column1</th>\n",
       "      <th>Internalpatientid</th>\n",
       "      <th>Age at lab test</th>\n",
       "      <th>Lab test date</th>\n",
       "      <th>Lab test</th>\n",
       "      <th>Lab test description</th>\n",
       "      <th>Result numeric</th>\n",
       "      <th>Result textual</th>\n",
       "      <th>Result range</th>\n",
       "      <th>Result units</th>\n",
       "      <th>Specimen source</th>\n",
       "      <th>State</th>\n",
       "    </tr>\n",
       "  </thead>\n",
       "  <tbody>\n",
       "    <tr>\n",
       "      <th>0</th>\n",
       "      <td>5</td>\n",
       "      <td>5166</td>\n",
       "      <td>79.946327</td>\n",
       "      <td>2015-12-10 09:11:04</td>\n",
       "      <td>troponin i (d/c'd 02/02/2014)_ng/ml_plasma</td>\n",
       "      <td>TROPONIN I (d/c'd 02/02/2014)</td>\n",
       "      <td>0.020761</td>\n",
       "      <td>None</td>\n",
       "      <td>0.01 - 0.04</td>\n",
       "      <td>ng/ml</td>\n",
       "      <td>plasma</td>\n",
       "      <td>Texas</td>\n",
       "    </tr>\n",
       "    <tr>\n",
       "      <th>1</th>\n",
       "      <td>6</td>\n",
       "      <td>5166</td>\n",
       "      <td>81.160335</td>\n",
       "      <td>2017-02-26 02:27:18</td>\n",
       "      <td>calcium_mg/dl_plasma</td>\n",
       "      <td>calcium</td>\n",
       "      <td>9.759563</td>\n",
       "      <td>None</td>\n",
       "      <td>8.7 - 10.5</td>\n",
       "      <td>mg/dl</td>\n",
       "      <td>plasma</td>\n",
       "      <td>Texas</td>\n",
       "    </tr>\n",
       "    <tr>\n",
       "      <th>2</th>\n",
       "      <td>7</td>\n",
       "      <td>5166</td>\n",
       "      <td>81.160335</td>\n",
       "      <td>2017-02-26 02:27:18</td>\n",
       "      <td>sodium_mmol/l_plasma</td>\n",
       "      <td>SODIUM</td>\n",
       "      <td>130.000000</td>\n",
       "      <td>None</td>\n",
       "      <td>136 - 145</td>\n",
       "      <td>mmol/L</td>\n",
       "      <td>plasma</td>\n",
       "      <td>Texas</td>\n",
       "    </tr>\n",
       "    <tr>\n",
       "      <th>3</th>\n",
       "      <td>8</td>\n",
       "      <td>5166</td>\n",
       "      <td>81.160335</td>\n",
       "      <td>2017-02-26 02:27:18</td>\n",
       "      <td>creatinine_mg/dl_plasma</td>\n",
       "      <td>CREATININE</td>\n",
       "      <td>1.397398</td>\n",
       "      <td>None</td>\n",
       "      <td>0.6 - 1.3</td>\n",
       "      <td>mg/dl</td>\n",
       "      <td>plasma</td>\n",
       "      <td>Texas</td>\n",
       "    </tr>\n",
       "    <tr>\n",
       "      <th>4</th>\n",
       "      <td>9</td>\n",
       "      <td>5166</td>\n",
       "      <td>81.160335</td>\n",
       "      <td>2017-02-26 02:27:18</td>\n",
       "      <td>protein,total_g/dl_plasma</td>\n",
       "      <td>PROTEIN,TOTAL</td>\n",
       "      <td>7.232604</td>\n",
       "      <td>None</td>\n",
       "      <td>6.2 - 8.0</td>\n",
       "      <td>g/dl</td>\n",
       "      <td>plasma</td>\n",
       "      <td>Texas</td>\n",
       "    </tr>\n",
       "  </tbody>\n",
       "</table>\n",
       "</div>"
      ],
      "text/plain": [
       "   Column1  Internalpatientid  Age at lab test       Lab test date  \\\n",
       "0        5               5166        79.946327 2015-12-10 09:11:04   \n",
       "1        6               5166        81.160335 2017-02-26 02:27:18   \n",
       "2        7               5166        81.160335 2017-02-26 02:27:18   \n",
       "3        8               5166        81.160335 2017-02-26 02:27:18   \n",
       "4        9               5166        81.160335 2017-02-26 02:27:18   \n",
       "\n",
       "                                     Lab test           Lab test description  \\\n",
       "0  troponin i (d/c'd 02/02/2014)_ng/ml_plasma  TROPONIN I (d/c'd 02/02/2014)   \n",
       "1                        calcium_mg/dl_plasma                        calcium   \n",
       "2                        sodium_mmol/l_plasma                         SODIUM   \n",
       "3                     creatinine_mg/dl_plasma                     CREATININE   \n",
       "4                   protein,total_g/dl_plasma                  PROTEIN,TOTAL   \n",
       "\n",
       "   Result numeric Result textual Result range Result units Specimen source  \\\n",
       "0        0.020761           None  0.01 - 0.04        ng/ml          plasma   \n",
       "1        9.759563           None   8.7 - 10.5        mg/dl          plasma   \n",
       "2      130.000000           None    136 - 145       mmol/L          plasma   \n",
       "3        1.397398           None    0.6 - 1.3        mg/dl          plasma   \n",
       "4        7.232604           None    6.2 - 8.0         g/dl          plasma   \n",
       "\n",
       "   State  \n",
       "0  Texas  \n",
       "1  Texas  \n",
       "2  Texas  \n",
       "3  Texas  \n",
       "4  Texas  "
      ]
     },
     "execution_count": 5,
     "metadata": {},
     "output_type": "execute_result"
    }
   ],
   "source": [
    "lab_train_data.head()"
   ]
  },
  {
   "cell_type": "markdown",
   "metadata": {},
   "source": [
    "# **Dataset Description**"
   ]
  },
  {
   "cell_type": "markdown",
   "metadata": {},
   "source": [
    "* **internalpatientid** -- Patient ID.\n",
    "\n",
    "* **age_at_lab_test** -- Age at test date-time.\n",
    "\n",
    "\n",
    "* **lab_test_date** -- Test date-time(CD:1. This is the 'Collection date-time'.  2. If collection date-time is not available, the test date-time is result date-time.)\n",
    "\n",
    "\n",
    "* **lab_test** -- The Lab test is the concatenation of three things when available   labtest(always there)_UOM(Unit of Measurement)(when available)_specimen(when available)**\n",
    "\n",
    "* **lab_test_description** -- Lab test description\n",
    "\n",
    "\n",
    "* **result_numeric** -- Original result value numeric.\n",
    "\n",
    "\n",
    "* **result_textual** -- Original result (textual). Result value text as received from the source.(FL:set to 'null' when org_result_numeric is not null.  this will avoid issues where both are populated causing confusion especially when data is synthesized).\n",
    "\n",
    "\n",
    "* **result_range** -- Reference range(CD:Textual range as received from the source.FD:Reference range as received from the source)\n",
    "\n",
    "\n",
    "* **result_units** -- Unit of measure (result).\n",
    "\n",
    "* **specimen_source** -- Specimen source.\n",
    "\n",
    "* **state** -- State"
   ]
  },
  {
   "cell_type": "markdown",
   "metadata": {},
   "source": [
    "# Clinical term"
   ]
  },
  {
   "cell_type": "markdown",
   "metadata": {},
   "source": [
    "* **specimen_source:** a small amount of something that is tested for medical or scientific purposes (or) a portion or quantity of material for use in testing, examination, or study."
   ]
  },
  {
   "cell_type": "code",
   "execution_count": 6,
   "metadata": {},
   "outputs": [],
   "source": [
    "import numpy as np                # Multi-Dimensional array object\n",
    "import pandas as pd               # Data Manipulation\n",
    "import matplotlib.pyplot as plt   # Data Visualization\n",
    "import seaborn as sns             # Data Visualization \n",
    "\n",
    "# Allows the use of display() for DataFrames\n",
    "from IPython.display import display \n",
    "\n",
    "# Handle warning messages that may occur during code execution\n",
    "import warnings\n",
    "warnings.filterwarnings('ignore')\n",
    "\n",
    "# To increase memory allocation\n",
    "from notebook.services.config import ConfigManager\n",
    "cm = ConfigManager().update('notebook', {'max_buffer_size': 7294967296})\n",
    "\n",
    "# Set the maximum number of rows to be displayed to 1000\n",
    "pd.set_option('display.max_rows', 1163)"
   ]
  },
  {
   "cell_type": "markdown",
   "metadata": {},
   "source": [
    "# Importing the data"
   ]
  },
  {
   "cell_type": "code",
   "execution_count": 7,
   "metadata": {},
   "outputs": [
    {
     "data": {
      "text/html": [
       "<div>\n",
       "<style scoped>\n",
       "    .dataframe tbody tr th:only-of-type {\n",
       "        vertical-align: middle;\n",
       "    }\n",
       "\n",
       "    .dataframe tbody tr th {\n",
       "        vertical-align: top;\n",
       "    }\n",
       "\n",
       "    .dataframe thead th {\n",
       "        text-align: right;\n",
       "    }\n",
       "</style>\n",
       "<table border=\"1\" class=\"dataframe\">\n",
       "  <thead>\n",
       "    <tr style=\"text-align: right;\">\n",
       "      <th></th>\n",
       "      <th>Column1</th>\n",
       "      <th>Internalpatientid</th>\n",
       "      <th>Age at lab test</th>\n",
       "      <th>Lab test date</th>\n",
       "      <th>Lab test</th>\n",
       "      <th>Lab test description</th>\n",
       "      <th>Result numeric</th>\n",
       "      <th>Result textual</th>\n",
       "      <th>Result range</th>\n",
       "      <th>Result units</th>\n",
       "      <th>Specimen source</th>\n",
       "      <th>State</th>\n",
       "    </tr>\n",
       "  </thead>\n",
       "  <tbody>\n",
       "    <tr>\n",
       "      <th>0</th>\n",
       "      <td>5</td>\n",
       "      <td>5166</td>\n",
       "      <td>79.946327</td>\n",
       "      <td>2015-12-10 09:11:04</td>\n",
       "      <td>troponin i (d/c'd 02/02/2014)_ng/ml_plasma</td>\n",
       "      <td>TROPONIN I (d/c'd 02/02/2014)</td>\n",
       "      <td>0.020761</td>\n",
       "      <td>None</td>\n",
       "      <td>0.01 - 0.04</td>\n",
       "      <td>ng/ml</td>\n",
       "      <td>plasma</td>\n",
       "      <td>Texas</td>\n",
       "    </tr>\n",
       "    <tr>\n",
       "      <th>1</th>\n",
       "      <td>6</td>\n",
       "      <td>5166</td>\n",
       "      <td>81.160335</td>\n",
       "      <td>2017-02-26 02:27:18</td>\n",
       "      <td>calcium_mg/dl_plasma</td>\n",
       "      <td>calcium</td>\n",
       "      <td>9.759563</td>\n",
       "      <td>None</td>\n",
       "      <td>8.7 - 10.5</td>\n",
       "      <td>mg/dl</td>\n",
       "      <td>plasma</td>\n",
       "      <td>Texas</td>\n",
       "    </tr>\n",
       "    <tr>\n",
       "      <th>2</th>\n",
       "      <td>7</td>\n",
       "      <td>5166</td>\n",
       "      <td>81.160335</td>\n",
       "      <td>2017-02-26 02:27:18</td>\n",
       "      <td>sodium_mmol/l_plasma</td>\n",
       "      <td>SODIUM</td>\n",
       "      <td>130.000000</td>\n",
       "      <td>None</td>\n",
       "      <td>136 - 145</td>\n",
       "      <td>mmol/L</td>\n",
       "      <td>plasma</td>\n",
       "      <td>Texas</td>\n",
       "    </tr>\n",
       "    <tr>\n",
       "      <th>3</th>\n",
       "      <td>8</td>\n",
       "      <td>5166</td>\n",
       "      <td>81.160335</td>\n",
       "      <td>2017-02-26 02:27:18</td>\n",
       "      <td>creatinine_mg/dl_plasma</td>\n",
       "      <td>CREATININE</td>\n",
       "      <td>1.397398</td>\n",
       "      <td>None</td>\n",
       "      <td>0.6 - 1.3</td>\n",
       "      <td>mg/dl</td>\n",
       "      <td>plasma</td>\n",
       "      <td>Texas</td>\n",
       "    </tr>\n",
       "    <tr>\n",
       "      <th>4</th>\n",
       "      <td>9</td>\n",
       "      <td>5166</td>\n",
       "      <td>81.160335</td>\n",
       "      <td>2017-02-26 02:27:18</td>\n",
       "      <td>protein,total_g/dl_plasma</td>\n",
       "      <td>PROTEIN,TOTAL</td>\n",
       "      <td>7.232604</td>\n",
       "      <td>None</td>\n",
       "      <td>6.2 - 8.0</td>\n",
       "      <td>g/dl</td>\n",
       "      <td>plasma</td>\n",
       "      <td>Texas</td>\n",
       "    </tr>\n",
       "    <tr>\n",
       "      <th>...</th>\n",
       "      <td>...</td>\n",
       "      <td>...</td>\n",
       "      <td>...</td>\n",
       "      <td>...</td>\n",
       "      <td>...</td>\n",
       "      <td>...</td>\n",
       "      <td>...</td>\n",
       "      <td>...</td>\n",
       "      <td>...</td>\n",
       "      <td>...</td>\n",
       "      <td>...</td>\n",
       "      <td>...</td>\n",
       "    </tr>\n",
       "    <tr>\n",
       "      <th>258527310</th>\n",
       "      <td>328853891</td>\n",
       "      <td>51662</td>\n",
       "      <td>53.534373</td>\n",
       "      <td>2012-05-07 19:31:20</td>\n",
       "      <td>mono #_k/cu mm_no specimen</td>\n",
       "      <td>MONO #</td>\n",
       "      <td>0.479895</td>\n",
       "      <td>None</td>\n",
       "      <td>.1 - 1</td>\n",
       "      <td>K/cu mm</td>\n",
       "      <td>None</td>\n",
       "      <td>Texas</td>\n",
       "    </tr>\n",
       "    <tr>\n",
       "      <th>258527311</th>\n",
       "      <td>328853892</td>\n",
       "      <td>51662</td>\n",
       "      <td>53.534373</td>\n",
       "      <td>2012-05-07 19:31:20</td>\n",
       "      <td>wbc_k/cu mm_blood</td>\n",
       "      <td>WBC</td>\n",
       "      <td>8.645974</td>\n",
       "      <td>None</td>\n",
       "      <td>4 - 11</td>\n",
       "      <td>K/cu mm</td>\n",
       "      <td>blood</td>\n",
       "      <td>Texas</td>\n",
       "    </tr>\n",
       "    <tr>\n",
       "      <th>258527312</th>\n",
       "      <td>328853893</td>\n",
       "      <td>51662</td>\n",
       "      <td>53.534373</td>\n",
       "      <td>2012-05-07 19:31:20</td>\n",
       "      <td>mch_pg_blood</td>\n",
       "      <td>MCH</td>\n",
       "      <td>29.000000</td>\n",
       "      <td>None</td>\n",
       "      <td>27 - 34</td>\n",
       "      <td>pg</td>\n",
       "      <td>blood</td>\n",
       "      <td>Texas</td>\n",
       "    </tr>\n",
       "    <tr>\n",
       "      <th>258527313</th>\n",
       "      <td>328853894</td>\n",
       "      <td>51662</td>\n",
       "      <td>53.534373</td>\n",
       "      <td>2012-05-07 19:31:20</td>\n",
       "      <td>rdw_%_blood</td>\n",
       "      <td>RDW</td>\n",
       "      <td>12.491520</td>\n",
       "      <td>None</td>\n",
       "      <td>11 - 16</td>\n",
       "      <td>%</td>\n",
       "      <td>blood</td>\n",
       "      <td>Texas</td>\n",
       "    </tr>\n",
       "    <tr>\n",
       "      <th>258527314</th>\n",
       "      <td>328853895</td>\n",
       "      <td>51662</td>\n",
       "      <td>53.534373</td>\n",
       "      <td>2012-05-07 19:31:20</td>\n",
       "      <td>ba #_k/cu mm_no specimen</td>\n",
       "      <td>BA #</td>\n",
       "      <td>0.010013</td>\n",
       "      <td>None</td>\n",
       "      <td>0 - .3</td>\n",
       "      <td>K/cu mm</td>\n",
       "      <td>None</td>\n",
       "      <td>Texas</td>\n",
       "    </tr>\n",
       "  </tbody>\n",
       "</table>\n",
       "<p>258527315 rows × 12 columns</p>\n",
       "</div>"
      ],
      "text/plain": [
       "             Column1  Internalpatientid  Age at lab test       Lab test date  \\\n",
       "0                  5               5166        79.946327 2015-12-10 09:11:04   \n",
       "1                  6               5166        81.160335 2017-02-26 02:27:18   \n",
       "2                  7               5166        81.160335 2017-02-26 02:27:18   \n",
       "3                  8               5166        81.160335 2017-02-26 02:27:18   \n",
       "4                  9               5166        81.160335 2017-02-26 02:27:18   \n",
       "...              ...                ...              ...                 ...   \n",
       "258527310  328853891              51662        53.534373 2012-05-07 19:31:20   \n",
       "258527311  328853892              51662        53.534373 2012-05-07 19:31:20   \n",
       "258527312  328853893              51662        53.534373 2012-05-07 19:31:20   \n",
       "258527313  328853894              51662        53.534373 2012-05-07 19:31:20   \n",
       "258527314  328853895              51662        53.534373 2012-05-07 19:31:20   \n",
       "\n",
       "                                             Lab test  \\\n",
       "0          troponin i (d/c'd 02/02/2014)_ng/ml_plasma   \n",
       "1                                calcium_mg/dl_plasma   \n",
       "2                                sodium_mmol/l_plasma   \n",
       "3                             creatinine_mg/dl_plasma   \n",
       "4                           protein,total_g/dl_plasma   \n",
       "...                                               ...   \n",
       "258527310                  mono #_k/cu mm_no specimen   \n",
       "258527311                           wbc_k/cu mm_blood   \n",
       "258527312                                mch_pg_blood   \n",
       "258527313                                 rdw_%_blood   \n",
       "258527314                    ba #_k/cu mm_no specimen   \n",
       "\n",
       "                    Lab test description  Result numeric Result textual  \\\n",
       "0          TROPONIN I (d/c'd 02/02/2014)        0.020761           None   \n",
       "1                                calcium        9.759563           None   \n",
       "2                                 SODIUM      130.000000           None   \n",
       "3                             CREATININE        1.397398           None   \n",
       "4                          PROTEIN,TOTAL        7.232604           None   \n",
       "...                                  ...             ...            ...   \n",
       "258527310                         MONO #        0.479895           None   \n",
       "258527311                            WBC        8.645974           None   \n",
       "258527312                            MCH       29.000000           None   \n",
       "258527313                            RDW       12.491520           None   \n",
       "258527314                           BA #        0.010013           None   \n",
       "\n",
       "          Result range Result units Specimen source  State  \n",
       "0          0.01 - 0.04        ng/ml          plasma  Texas  \n",
       "1           8.7 - 10.5        mg/dl          plasma  Texas  \n",
       "2            136 - 145       mmol/L          plasma  Texas  \n",
       "3            0.6 - 1.3        mg/dl          plasma  Texas  \n",
       "4            6.2 - 8.0         g/dl          plasma  Texas  \n",
       "...                ...          ...             ...    ...  \n",
       "258527310       .1 - 1      K/cu mm            None  Texas  \n",
       "258527311       4 - 11      K/cu mm           blood  Texas  \n",
       "258527312      27 - 34           pg           blood  Texas  \n",
       "258527313      11 - 16            %           blood  Texas  \n",
       "258527314       0 - .3      K/cu mm            None  Texas  \n",
       "\n",
       "[258527315 rows x 12 columns]"
      ]
     },
     "execution_count": 7,
     "metadata": {},
     "output_type": "execute_result"
    }
   ],
   "source": [
    "lab_train_data = lab_train_data\n",
    "lab_train_data"
   ]
  },
  {
   "cell_type": "markdown",
   "metadata": {},
   "source": [
    "# Initial Inspection of the Data"
   ]
  },
  {
   "cell_type": "code",
   "execution_count": 8,
   "metadata": {},
   "outputs": [
    {
     "name": "stdout",
     "output_type": "stream",
     "text": [
      "<class 'pandas.core.frame.DataFrame'>\n",
      "RangeIndex: 258527315 entries, 0 to 258527314\n",
      "Data columns (total 12 columns):\n",
      " #   Column                Dtype         \n",
      "---  ------                -----         \n",
      " 0   Column1               int64         \n",
      " 1   Internalpatientid     int64         \n",
      " 2   Age at lab test       float64       \n",
      " 3   Lab test date         datetime64[ns]\n",
      " 4   Lab test              object        \n",
      " 5   Lab test description  object        \n",
      " 6   Result numeric        float64       \n",
      " 7   Result textual        object        \n",
      " 8   Result range          object        \n",
      " 9   Result units          object        \n",
      " 10  Specimen source       object        \n",
      " 11  State                 object        \n",
      "dtypes: datetime64[ns](1), float64(2), int64(2), object(7)\n",
      "memory usage: 23.1+ GB\n"
     ]
    }
   ],
   "source": [
    "lab_train_data.info()"
   ]
  },
  {
   "cell_type": "markdown",
   "metadata": {},
   "source": [
    "# Elimination of the unnamed columns"
   ]
  },
  {
   "cell_type": "code",
   "execution_count": 9,
   "metadata": {},
   "outputs": [],
   "source": [
    "# Remove unwanted columns \n",
    "lab_train_data.drop('Column1',axis=1,inplace=True)"
   ]
  },
  {
   "cell_type": "code",
   "execution_count": 10,
   "metadata": {},
   "outputs": [
    {
     "name": "stdout",
     "output_type": "stream",
     "text": [
      "<class 'pandas.core.frame.DataFrame'>\n",
      "RangeIndex: 258527315 entries, 0 to 258527314\n",
      "Data columns (total 11 columns):\n",
      " #   Column                Dtype         \n",
      "---  ------                -----         \n",
      " 0   Internalpatientid     int64         \n",
      " 1   Age at lab test       float64       \n",
      " 2   Lab test date         datetime64[ns]\n",
      " 3   Lab test              object        \n",
      " 4   Lab test description  object        \n",
      " 5   Result numeric        float64       \n",
      " 6   Result textual        object        \n",
      " 7   Result range          object        \n",
      " 8   Result units          object        \n",
      " 9   Specimen source       object        \n",
      " 10  State                 object        \n",
      "dtypes: datetime64[ns](1), float64(2), int64(1), object(7)\n",
      "memory usage: 21.2+ GB\n"
     ]
    }
   ],
   "source": [
    "lab_train_data.info()"
   ]
  },
  {
   "cell_type": "markdown",
   "metadata": {},
   "source": [
    "* **There are 11 columns in this dataset, including the \"Internalpatientid\" column with an int64 data type and the \"Age at lab test\" and \"Result numeric\" columns with float data types. \"Lab test date,\" \"Lab test,\" \"Lab test description,\" \"Result textual,\" \"Result range,\" \"Result range,\" \"Specimen source,\" and \"State\" are the following eight object dtype columns.**"
   ]
  },
  {
   "cell_type": "markdown",
   "metadata": {},
   "source": [
    "# checking the row and colunms size"
   ]
  },
  {
   "cell_type": "code",
   "execution_count": 12,
   "metadata": {},
   "outputs": [
    {
     "name": "stdout",
     "output_type": "stream",
     "text": [
      "The lab training data has 258527315 rows and 11 columns\n",
      "(258527315, 11)\n"
     ]
    }
   ],
   "source": [
    "#checking the row and colunms size\n",
    "print ('The lab training data has {} rows and {} columns'.format(lab_train_data.shape[0],lab_train_data.shape[1]))\n",
    "print(lab_train_data.shape)"
   ]
  },
  {
   "cell_type": "code",
   "execution_count": 13,
   "metadata": {},
   "outputs": [
    {
     "name": "stdout",
     "output_type": "stream",
     "text": [
      "Count: 258527315.0\n",
      "Mean: 69.56093832443194\n",
      "Min value: 15.211231728479508\n",
      "max_value: 109.97245402036785\n"
     ]
    }
   ],
   "source": [
    "# describe the \"age\" column\n",
    "age_description = lab_train_data[\"Age at lab test\"].describe()\n",
    "\n",
    "\n",
    "# accessing the specific statistics\n",
    "count = age_description['count']\n",
    "mean = age_description['mean']\n",
    "min_value = age_description['min']\n",
    "max_value = age_description['max']\n",
    "\n",
    "#print specific statistics\n",
    "print(\"Count:\", count)\n",
    "print(\"Mean:\", mean)\n",
    "print(\"Min value:\", min_value)\n",
    "print(\"max_value:\", max_value)"
   ]
  },
  {
   "cell_type": "markdown",
   "metadata": {},
   "source": [
    "* **The averge patients age in this datset is \"69.56\"**\n",
    "* **The patients in this dataset have a maximum age of 104.1696.**\n",
    "* **Min patient age in this dataset is 15.21.**"
   ]
  },
  {
   "cell_type": "code",
   "execution_count": 13,
   "metadata": {},
   "outputs": [
    {
     "data": {
      "text/html": [
       "<div>\n",
       "<style scoped>\n",
       "    .dataframe tbody tr th:only-of-type {\n",
       "        vertical-align: middle;\n",
       "    }\n",
       "\n",
       "    .dataframe tbody tr th {\n",
       "        vertical-align: top;\n",
       "    }\n",
       "\n",
       "    .dataframe thead th {\n",
       "        text-align: right;\n",
       "    }\n",
       "</style>\n",
       "<table border=\"1\" class=\"dataframe\">\n",
       "  <thead>\n",
       "    <tr style=\"text-align: right;\">\n",
       "      <th></th>\n",
       "      <th>Lab test</th>\n",
       "      <th>Lab test description</th>\n",
       "      <th>Result textual</th>\n",
       "      <th>Result range</th>\n",
       "      <th>Result units</th>\n",
       "      <th>Specimen source</th>\n",
       "      <th>State</th>\n",
       "    </tr>\n",
       "  </thead>\n",
       "  <tbody>\n",
       "    <tr>\n",
       "      <th>count</th>\n",
       "      <td>258527315</td>\n",
       "      <td>258527315</td>\n",
       "      <td>32383392</td>\n",
       "      <td>209505447</td>\n",
       "      <td>227066628</td>\n",
       "      <td>148792176</td>\n",
       "      <td>258527315</td>\n",
       "    </tr>\n",
       "    <tr>\n",
       "      <th>unique</th>\n",
       "      <td>165115</td>\n",
       "      <td>121003</td>\n",
       "      <td>42679</td>\n",
       "      <td>18084</td>\n",
       "      <td>3716</td>\n",
       "      <td>194</td>\n",
       "      <td>51</td>\n",
       "    </tr>\n",
       "    <tr>\n",
       "      <th>top</th>\n",
       "      <td>glucose_mg/dl_plasma</td>\n",
       "      <td>POTASSIUM</td>\n",
       "      <td>NEG</td>\n",
       "      <td>70 - 110</td>\n",
       "      <td>mg/dL</td>\n",
       "      <td>blood</td>\n",
       "      <td>Texas</td>\n",
       "    </tr>\n",
       "    <tr>\n",
       "      <th>freq</th>\n",
       "      <td>2902195</td>\n",
       "      <td>4933002</td>\n",
       "      <td>5703186</td>\n",
       "      <td>3295406</td>\n",
       "      <td>40406529</td>\n",
       "      <td>54485191</td>\n",
       "      <td>23740254</td>\n",
       "    </tr>\n",
       "  </tbody>\n",
       "</table>\n",
       "</div>"
      ],
      "text/plain": [
       "                    Lab test Lab test description Result textual Result range  \\\n",
       "count              258527315            258527315       32383392    209505447   \n",
       "unique                165115               121003          42679        18084   \n",
       "top     glucose_mg/dl_plasma            POTASSIUM            NEG     70 - 110   \n",
       "freq                 2902195              4933002        5703186      3295406   \n",
       "\n",
       "       Result units Specimen source      State  \n",
       "count     227066628       148792176  258527315  \n",
       "unique         3716             194         51  \n",
       "top           mg/dL           blood      Texas  \n",
       "freq       40406529        54485191   23740254  "
      ]
     },
     "execution_count": 13,
     "metadata": {},
     "output_type": "execute_result"
    }
   ],
   "source": [
    "# describe the categorical columns\n",
    "lab_train_data.describe(include=\"object\")"
   ]
  },
  {
   "cell_type": "markdown",
   "metadata": {},
   "source": [
    "* **There was on 165115 unique \"Lab test\" and \"glucose_mg/dl_plasma\"(2902195) is  most frequnet one.**\n",
    "* **There are 121003 different lab descriptions in the \"Lab test description,\" with \"POTASSIUM(4933002)\" being the most frequent.** \n",
    "* **The most frequent test result is \"NEG\" (5703186), and there are 42679 distinct results  in the \"Result textual\" column.**\n",
    "* **The most frequent test results range is 7-110(3295406) and there are 18084 distinct results range in the \"Result range\" columns.**\n",
    "* **The most frequent Specimen source is \"blood test\"(54485191).**\n",
    "* **\"Texas\" (23740254) is the most frequent state, and 51 other states are listed.**"
   ]
  },
  {
   "cell_type": "markdown",
   "metadata": {},
   "source": [
    "# checking the missing valuses"
   ]
  },
  {
   "cell_type": "code",
   "execution_count": 14,
   "metadata": {},
   "outputs": [
    {
     "name": "stdout",
     "output_type": "stream",
     "text": [
      "Training set missing values:\n",
      " Internalpatientid               0\n",
      "Age at lab test                 0\n",
      "Lab test date                   0\n",
      "Lab test                        0\n",
      "Lab test description            0\n",
      "Result numeric           32490288\n",
      "Result textual          226143923\n",
      "Result range             49021868\n",
      "Result units             31460687\n",
      "Specimen source         109735139\n",
      "State                           0\n",
      "dtype: int64\n"
     ]
    }
   ],
   "source": [
    "print(\"Training set missing values:\\n\", lab_train_data.isna().sum())"
   ]
  },
  {
   "cell_type": "markdown",
   "metadata": {},
   "source": [
    "* **There is an missing value are presented columns \"Result numeric(32490288)\",\"Result textual(226143923)\",\"Result range(49021868)\",\"Result units\"(31460687) and \"Specimen source(109735139)\"**\n",
    "\n",
    "* **Note : we need to cross-check the \"Result numeric\" and \"Result textual\" missing values, because some values from the lab test results are mentioned in numerical form and others are mentioned in textual form (wherever numerical lab results are missing that may exist in the textual lab results) If so, you can combine the \"Result textual\" and \"Result numeric.\"**"
   ]
  },
  {
   "cell_type": "markdown",
   "metadata": {},
   "source": [
    "# **Exploratory data analysis**"
   ]
  },
  {
   "cell_type": "markdown",
   "metadata": {},
   "source": [
    "# 1) Histogram for Age at condition documentation"
   ]
  },
  {
   "cell_type": "code",
   "execution_count": 17,
   "metadata": {},
   "outputs": [
    {
     "data": {
      "image/png": "[encoded data removed]",
      "text/plain": [
       "<Figure size 640x480 with 1 Axes>"
      ]
     },
     "metadata": {},
     "output_type": "display_data"
    }
   ],
   "source": [
    "import matplotlib.pyplot as plt\n",
    "# Histogram for each continuous variable\n",
    "plt.style.use('ggplot')\n",
    "plt.hist(lab_train_data[\"Age at lab test\"], bins=10)\n",
    "plt.show()"
   ]
  },
  {
   "cell_type": "markdown",
   "metadata": {},
   "source": [
    "* **There are shown outliers for the age ranges of 15–45(appx) and 95–104(appx).Box plot will be used to test that and find outliers in the future.**"
   ]
  },
  {
   "cell_type": "markdown",
   "metadata": {},
   "source": [
    "# Box plot for Age"
   ]
  },
  {
   "cell_type": "code",
   "execution_count": 18,
   "metadata": {},
   "outputs": [
    {
     "data": {
      "image/png": "[encoded data removed]",
      "text/plain": [
       "<Figure size 600x400 with 1 Axes>"
      ]
     },
     "metadata": {},
     "output_type": "display_data"
    }
   ],
   "source": [
    "# Assuming you have an 'Age' column in your DataFrame\n",
    "age = lab_train_data [\"Age at lab test\"]\n",
    "\n",
    "# Calculate outliers\n",
    "q1 = np.percentile(age, 25)\n",
    "q3 = np.percentile(age, 75)\n",
    "iqr = q3 - q1\n",
    "lower_bound = q1 - 1.5 * iqr\n",
    "upper_bound = q3 + 1.5 * iqr\n",
    "outliers = age[(age < lower_bound) | (age > upper_bound)]\n",
    "\n",
    "# Create a boxplot\n",
    "plt.figure(figsize=(6, 4))\n",
    "boxplot = plt.boxplot(age, vert=False)\n",
    "\n",
    "# Plot outliers separately\n",
    "plt.plot(outliers, [1] * len(outliers), 'ro', markersize=5)\n",
    "plt.xlabel('Age')\n",
    "plt.title('Boxplot of Age at lab test')\n",
    "plt.grid(True)  # Add grid lines\n",
    "\n",
    "# Set the x-axis limits and ticks\n",
    "plt.xlim([min(age), max(age)])\n",
    "plt.xticks(ha='right')\n",
    "\n",
    "# Annotate the outlier range on the x-axis\n",
    "plt.text(lower_bound, 0.9, 'Outliers', ha='right', va='center')\n",
    "plt.text(upper_bound, 0.9, 'Outliers', ha='left', va='center')\n",
    "\n",
    "# Rotate the image\n",
    "for box in boxplot['medians']:\n",
    "    box.set_color('red')  # Set median line color\n",
    "    box.set_linewidth(2)  # Set median line width\n",
    "    box.set_alpha(0.8)  # Set median line transparency\n",
    "    \n",
    "plt.tight_layout()  # Adjust spacing between elements\n",
    "plt.show()"
   ]
  },
  {
   "cell_type": "markdown",
   "metadata": {},
   "source": [
    "* **Ages of less than 36.92 and greater than 100 have been detected as outliers in the,So before giving to the model will handle this before**"
   ]
  },
  {
   "cell_type": "markdown",
   "metadata": {},
   "source": [
    "**2) Lab test**"
   ]
  },
  {
   "cell_type": "code",
   "execution_count": 15,
   "metadata": {},
   "outputs": [
    {
     "data": {
      "text/plain": [
       "glucose_mg/dl_plasma                            2902195\n",
       "hct_%_blood                                     2831484\n",
       "calcium_mg/dl_plasma                            2322255\n",
       "hgb_g/dl_blood                                  2212000\n",
       "mcv_fl_no specimen                              2193654\n",
       "                                                 ...   \n",
       "plasma cell_%_no specimen                           101\n",
       "unidentified crystals_null_no specimen              101\n",
       "cd4/cd8 ratio (bu/cn/sy/bh)_null_no specimen        101\n",
       ".total volume, 24hr urine_ml_no specimen            101\n",
       "fibrinogen 1/14/2019_mg/dl_plasma                   101\n",
       "Name: Lab test, Length: 29618, dtype: int64"
      ]
     },
     "execution_count": 15,
     "metadata": {},
     "output_type": "execute_result"
    }
   ],
   "source": [
    "lab_train_data[\"Lab test\"].value_counts().loc[lambda x: x>100]"
   ]
  },
  {
   "cell_type": "markdown",
   "metadata": {},
   "source": [
    "* **The most common laboratory tests are \"glucose_mg/dl_plasma,\" \"hct_%_blood,\" and \"calcium_mg/dl_plasma\" (2322255).(I assume that this is a general lab test.)**"
   ]
  },
  {
   "cell_type": "markdown",
   "metadata": {},
   "source": [
    "**3) Lab test description** "
   ]
  },
  {
   "cell_type": "code",
   "execution_count": 18,
   "metadata": {},
   "outputs": [
    {
     "data": {
      "text/plain": [
       "POTASSIUM                         4933002\n",
       "CHLORIDE                          4891936\n",
       "SODIUM                            4849872\n",
       "GLUCOSE                           4521087\n",
       "RBC                               4442907\n",
       "                                   ...   \n",
       "SED RATE (MINI CUBE)                  101\n",
       ".INFLUENZA A (PCR)                    101\n",
       "U-VLDL(CALC)                          101\n",
       "HOMOCYSTEINE (prior to 1/2/08)        101\n",
       "U-HDL                                 101\n",
       "Name: Lab test description, Length: 24056, dtype: int64"
      ]
     },
     "execution_count": 18,
     "metadata": {},
     "output_type": "execute_result"
    }
   ],
   "source": [
    "lab_train_data[\"Lab test description\"].value_counts().loc[lambda x: x>100]"
   ]
  },
  {
   "cell_type": "markdown",
   "metadata": {},
   "source": [
    "**4) Result numeric**"
   ]
  },
  {
   "cell_type": "code",
   "execution_count": 19,
   "metadata": {},
   "outputs": [
    {
     "data": {
      "text/plain": [
       "132304156"
      ]
     },
     "execution_count": 19,
     "metadata": {},
     "output_type": "execute_result"
    }
   ],
   "source": [
    "lab_train_data[\"Result numeric\"].nunique()"
   ]
  },
  {
   "cell_type": "markdown",
   "metadata": {},
   "source": [
    "* **There are 132304156 distinct lab results displayed.**"
   ]
  },
  {
   "cell_type": "code",
   "execution_count": 23,
   "metadata": {},
   "outputs": [
    {
     "data": {
      "text/plain": [
       "0.0       4237868\n",
       "1.0       2485035\n",
       "4.0       1306837\n",
       "5.0       1233141\n",
       "9.0       1221254\n",
       "           ...   \n",
       "2237.0        101\n",
       "2277.0        101\n",
       "2183.0        101\n",
       "2217.0        101\n",
       "2023.0        101\n",
       "Name: Result numeric, Length: 2220, dtype: int64"
      ]
     },
     "execution_count": 23,
     "metadata": {},
     "output_type": "execute_result"
    }
   ],
   "source": [
    "lab_train_data[\"Result numeric\"].value_counts().loc[lambda x: x>100]"
   ]
  },
  {
   "cell_type": "markdown",
   "metadata": {},
   "source": [
    "**5) Result textual**"
   ]
  },
  {
   "cell_type": "code",
   "execution_count": 24,
   "metadata": {},
   "outputs": [
    {
     "data": {
      "text/plain": [
       "42679"
      ]
     },
     "execution_count": 24,
     "metadata": {},
     "output_type": "execute_result"
    }
   ],
   "source": [
    "lab_train_data[\"Result textual\"].nunique()"
   ]
  },
  {
   "cell_type": "markdown",
   "metadata": {},
   "source": [
    "* **There are 42679 distinct lab results displayed.**"
   ]
  },
  {
   "cell_type": "code",
   "execution_count": 25,
   "metadata": {},
   "outputs": [
    {
     "data": {
      "text/plain": [
       "NEG                       5703186\n",
       "NEGATIVE                  4213476\n",
       "Negative                  2575068\n",
       "canc                      1227558\n",
       "[none]                    1168360\n",
       "                           ...   \n",
       ">5<20                         101\n",
       "WILD TYPE (HOMOZYGOUS)        101\n",
       "YOUNG, PATTINNA               101\n",
       "REFER                         101\n",
       "Venous                        101\n",
       "Name: Result textual, Length: 2244, dtype: int64"
      ]
     },
     "execution_count": 25,
     "metadata": {},
     "output_type": "execute_result"
    }
   ],
   "source": [
    "lab_train_data[\"Result textual\"].value_counts().loc[lambda x: x>100]"
   ]
  },
  {
   "cell_type": "markdown",
   "metadata": {},
   "source": [
    "* **The most typical lab test textual outcomes are \"Neg\" (5703186) and \"canc\" (1227558).**"
   ]
  },
  {
   "cell_type": "markdown",
   "metadata": {},
   "source": [
    "**6) Result units**"
   ]
  },
  {
   "cell_type": "code",
   "execution_count": 26,
   "metadata": {},
   "outputs": [
    {
     "data": {
      "text/plain": [
       "3716"
      ]
     },
     "execution_count": 26,
     "metadata": {},
     "output_type": "execute_result"
    }
   ],
   "source": [
    "lab_train_data[\"Result units\"].nunique()"
   ]
  },
  {
   "cell_type": "markdown",
   "metadata": {},
   "source": [
    "* **There are 3716 distinct lab results units displayed.**"
   ]
  },
  {
   "cell_type": "code",
   "execution_count": 28,
   "metadata": {},
   "outputs": [
    {
     "data": {
      "text/plain": [
       "mg/dL         40406529\n",
       "%             36788401\n",
       "mmol/L        18897772\n",
       "g/dL          11021019\n",
       "K/cmm         10887088\n",
       "                ...   \n",
       "EIA VALUE          102\n",
       "cell/uL            101\n",
       "<150 ng/mL         101\n",
       "lg10 IU/mL         101\n",
       "deg                101\n",
       "Name: Result units, Length: 1416, dtype: int64"
      ]
     },
     "execution_count": 28,
     "metadata": {},
     "output_type": "execute_result"
    }
   ],
   "source": [
    "lab_train_data[\"Result units\"].value_counts().loc[lambda x: x>100]"
   ]
  },
  {
   "cell_type": "markdown",
   "metadata": {},
   "source": [
    "* **The most frequent lab test results unite outcomes are \"mg/dL\" (40406529),\"% \"(36788401) and \"mmol/L\" (18897772).**"
   ]
  },
  {
   "cell_type": "markdown",
   "metadata": {},
   "source": [
    "**7) Specimen source**"
   ]
  },
  {
   "cell_type": "code",
   "execution_count": 29,
   "metadata": {},
   "outputs": [
    {
     "data": {
      "text/plain": [
       "194"
      ]
     },
     "execution_count": 29,
     "metadata": {},
     "output_type": "execute_result"
    }
   ],
   "source": [
    "lab_train_data[\"Specimen source\"].nunique()"
   ]
  },
  {
   "cell_type": "markdown",
   "metadata": {},
   "source": [
    "* **There are 194 distinct lab test specimen source displayed.**"
   ]
  },
  {
   "cell_type": "code",
   "execution_count": 31,
   "metadata": {},
   "outputs": [
    {
     "data": {
      "text/plain": [
       "blood                               54485191\n",
       "plasma                              51632807\n",
       "serum                               37896367\n",
       "urine                                2595664\n",
       "ser/pla                               793782\n",
       "arterial blood                        278293\n",
       "blood*                                275863\n",
       "capillary                             219218\n",
       "whole blood                           120828\n",
       "urine random                           78761\n",
       "blood.                                 73179\n",
       "feces                                  46676\n",
       "peritoneal fluid                       36532\n",
       "capillary blood                        33842\n",
       "nares                                  23152\n",
       "blood-c                                22903\n",
       "platelet poor plasma                   19597\n",
       "venous blood                           15997\n",
       "urine, spot                            15681\n",
       "plas                                   12338\n",
       "art blood                              12228\n",
       "nasopharynx                            11687\n",
       "nasal cavity                            8745\n",
       "plasma (buffered sodium citrate)        7718\n",
       "blood (unspun)                          6857\n",
       "urine-dau                               6621\n",
       "24 hr. urine                            4678\n",
       "arterial bld                            4105\n",
       "nose                                    3869\n",
       "plasma+serum                            3800\n",
       "lc-ser                                  3740\n",
       "random urine                            3691\n",
       "24-hour urine                           3393\n",
       "urine (spot)                            2098\n",
       "serum-unk                               2006\n",
       "swab                                    1943\n",
       "lung                                    1836\n",
       "serum-trough                            1516\n",
       "cerebrospinal fluid                     1305\n",
       "urine,24hr                              1183\n",
       "rectum                                  1155\n",
       "ws-serum                                1121\n",
       "unknown                                 1044\n",
       "blood, venous                            970\n",
       "synovial fluid                           905\n",
       "skin                                     841\n",
       "urine & blood                            829\n",
       "lc-blo                                   751\n",
       "bone marrow                              747\n",
       "24hr urine                               724\n",
       "urine, 24 hour                           641\n",
       "nasal portion of nasopharynx             634\n",
       "lymphocyte                               613\n",
       "pleural fluid                            579\n",
       "nose and nasopharynx, cs                 559\n",
       "24 hour urine                            536\n",
       "sputum                                   518\n",
       "nasopharyngeal cavity                    453\n",
       "blood lymphocyte                         406\n",
       "lc-pla                                   395\n",
       "urine 24 hour                            378\n",
       "see comment                              377\n",
       "fluid, unspecified                       356\n",
       "urine (t-7x100)                          328\n",
       "nasal swab                               305\n",
       "tissue                                   305\n",
       "other                                    292\n",
       "serum (send)                             287\n",
       "24 hr urine                              285\n",
       "nasal mucus                              268\n",
       "nasopharyngeal wall                      249\n",
       "urine,timed                              246\n",
       "serum/i                                  236\n",
       "capillary of skin                        208\n",
       "urine,random                             202\n",
       "nasopharyngeal swab                      172\n",
       "pharynx                                  162\n",
       "urine (24 hr)                            157\n",
       "blood culture bottle                     132\n",
       "nasopharyngeal mucus                     126\n",
       "pericardial fluid                        113\n",
       "vaginal canal                            105\n",
       "ser/plas                                 102\n",
       "Name: Specimen source, dtype: int64"
      ]
     },
     "execution_count": 31,
     "metadata": {},
     "output_type": "execute_result"
    }
   ],
   "source": [
    "lab_train_data[\"Specimen source\"].value_counts().loc[lambda x: x>100]"
   ]
  },
  {
   "cell_type": "markdown",
   "metadata": {},
   "source": [
    "* **The most frequent Specimen source is \"blood\"(54485191),\"plasma\"(51632807) and \"serum\"(37896367).**"
   ]
  },
  {
   "cell_type": "markdown",
   "metadata": {},
   "source": [
    "# Replace NaN values in \"Result numeric\" with corresponding values from \"Result textual\"\n",
    "\n",
    "* **where a certain outcome that is described in the results textual is absent from the results numerical**"
   ]
  },
  {
   "cell_type": "code",
   "execution_count": 12,
   "metadata": {},
   "outputs": [
    {
     "data": {
      "text/html": [
       "<div>\n",
       "<style scoped>\n",
       "    .dataframe tbody tr th:only-of-type {\n",
       "        vertical-align: middle;\n",
       "    }\n",
       "\n",
       "    .dataframe tbody tr th {\n",
       "        vertical-align: top;\n",
       "    }\n",
       "\n",
       "    .dataframe thead th {\n",
       "        text-align: right;\n",
       "    }\n",
       "</style>\n",
       "<table border=\"1\" class=\"dataframe\">\n",
       "  <thead>\n",
       "    <tr style=\"text-align: right;\">\n",
       "      <th></th>\n",
       "      <th>Internalpatientid</th>\n",
       "      <th>Age at lab test</th>\n",
       "      <th>Lab test date</th>\n",
       "      <th>Lab test</th>\n",
       "      <th>Lab test description</th>\n",
       "      <th>Result numeric</th>\n",
       "      <th>Result textual</th>\n",
       "      <th>Result range</th>\n",
       "      <th>Result units</th>\n",
       "      <th>Specimen source</th>\n",
       "      <th>State</th>\n",
       "      <th>Result</th>\n",
       "    </tr>\n",
       "  </thead>\n",
       "  <tbody>\n",
       "    <tr>\n",
       "      <th>0</th>\n",
       "      <td>5166</td>\n",
       "      <td>79.946327</td>\n",
       "      <td>2015-12-10 09:11:04</td>\n",
       "      <td>troponin i (d/c'd 02/02/2014)_ng/ml_plasma</td>\n",
       "      <td>TROPONIN I (d/c'd 02/02/2014)</td>\n",
       "      <td>0.020761</td>\n",
       "      <td>None</td>\n",
       "      <td>0.01 - 0.04</td>\n",
       "      <td>ng/ml</td>\n",
       "      <td>plasma</td>\n",
       "      <td>Texas</td>\n",
       "      <td>0.0207611</td>\n",
       "    </tr>\n",
       "    <tr>\n",
       "      <th>1</th>\n",
       "      <td>5166</td>\n",
       "      <td>81.160335</td>\n",
       "      <td>2017-02-26 02:27:18</td>\n",
       "      <td>calcium_mg/dl_plasma</td>\n",
       "      <td>calcium</td>\n",
       "      <td>9.759563</td>\n",
       "      <td>None</td>\n",
       "      <td>8.7 - 10.5</td>\n",
       "      <td>mg/dl</td>\n",
       "      <td>plasma</td>\n",
       "      <td>Texas</td>\n",
       "      <td>9.75956</td>\n",
       "    </tr>\n",
       "    <tr>\n",
       "      <th>2</th>\n",
       "      <td>5166</td>\n",
       "      <td>81.160335</td>\n",
       "      <td>2017-02-26 02:27:18</td>\n",
       "      <td>sodium_mmol/l_plasma</td>\n",
       "      <td>SODIUM</td>\n",
       "      <td>130.000000</td>\n",
       "      <td>None</td>\n",
       "      <td>136 - 145</td>\n",
       "      <td>mmol/L</td>\n",
       "      <td>plasma</td>\n",
       "      <td>Texas</td>\n",
       "      <td>130</td>\n",
       "    </tr>\n",
       "    <tr>\n",
       "      <th>3</th>\n",
       "      <td>5166</td>\n",
       "      <td>81.160335</td>\n",
       "      <td>2017-02-26 02:27:18</td>\n",
       "      <td>creatinine_mg/dl_plasma</td>\n",
       "      <td>CREATININE</td>\n",
       "      <td>1.397398</td>\n",
       "      <td>None</td>\n",
       "      <td>0.6 - 1.3</td>\n",
       "      <td>mg/dl</td>\n",
       "      <td>plasma</td>\n",
       "      <td>Texas</td>\n",
       "      <td>1.3974</td>\n",
       "    </tr>\n",
       "    <tr>\n",
       "      <th>4</th>\n",
       "      <td>5166</td>\n",
       "      <td>81.160335</td>\n",
       "      <td>2017-02-26 02:27:18</td>\n",
       "      <td>protein,total_g/dl_plasma</td>\n",
       "      <td>PROTEIN,TOTAL</td>\n",
       "      <td>7.232604</td>\n",
       "      <td>None</td>\n",
       "      <td>6.2 - 8.0</td>\n",
       "      <td>g/dl</td>\n",
       "      <td>plasma</td>\n",
       "      <td>Texas</td>\n",
       "      <td>7.2326</td>\n",
       "    </tr>\n",
       "    <tr>\n",
       "      <th>...</th>\n",
       "      <td>...</td>\n",
       "      <td>...</td>\n",
       "      <td>...</td>\n",
       "      <td>...</td>\n",
       "      <td>...</td>\n",
       "      <td>...</td>\n",
       "      <td>...</td>\n",
       "      <td>...</td>\n",
       "      <td>...</td>\n",
       "      <td>...</td>\n",
       "      <td>...</td>\n",
       "      <td>...</td>\n",
       "    </tr>\n",
       "    <tr>\n",
       "      <th>258527310</th>\n",
       "      <td>51662</td>\n",
       "      <td>53.534373</td>\n",
       "      <td>2012-05-07 19:31:20</td>\n",
       "      <td>mono #_k/cu mm_no specimen</td>\n",
       "      <td>MONO #</td>\n",
       "      <td>0.479895</td>\n",
       "      <td>None</td>\n",
       "      <td>.1 - 1</td>\n",
       "      <td>K/cu mm</td>\n",
       "      <td>None</td>\n",
       "      <td>Texas</td>\n",
       "      <td>0.479895</td>\n",
       "    </tr>\n",
       "    <tr>\n",
       "      <th>258527311</th>\n",
       "      <td>51662</td>\n",
       "      <td>53.534373</td>\n",
       "      <td>2012-05-07 19:31:20</td>\n",
       "      <td>wbc_k/cu mm_blood</td>\n",
       "      <td>WBC</td>\n",
       "      <td>8.645974</td>\n",
       "      <td>None</td>\n",
       "      <td>4 - 11</td>\n",
       "      <td>K/cu mm</td>\n",
       "      <td>blood</td>\n",
       "      <td>Texas</td>\n",
       "      <td>8.64597</td>\n",
       "    </tr>\n",
       "    <tr>\n",
       "      <th>258527312</th>\n",
       "      <td>51662</td>\n",
       "      <td>53.534373</td>\n",
       "      <td>2012-05-07 19:31:20</td>\n",
       "      <td>mch_pg_blood</td>\n",
       "      <td>MCH</td>\n",
       "      <td>29.000000</td>\n",
       "      <td>None</td>\n",
       "      <td>27 - 34</td>\n",
       "      <td>pg</td>\n",
       "      <td>blood</td>\n",
       "      <td>Texas</td>\n",
       "      <td>29</td>\n",
       "    </tr>\n",
       "    <tr>\n",
       "      <th>258527313</th>\n",
       "      <td>51662</td>\n",
       "      <td>53.534373</td>\n",
       "      <td>2012-05-07 19:31:20</td>\n",
       "      <td>rdw_%_blood</td>\n",
       "      <td>RDW</td>\n",
       "      <td>12.491520</td>\n",
       "      <td>None</td>\n",
       "      <td>11 - 16</td>\n",
       "      <td>%</td>\n",
       "      <td>blood</td>\n",
       "      <td>Texas</td>\n",
       "      <td>12.4915</td>\n",
       "    </tr>\n",
       "    <tr>\n",
       "      <th>258527314</th>\n",
       "      <td>51662</td>\n",
       "      <td>53.534373</td>\n",
       "      <td>2012-05-07 19:31:20</td>\n",
       "      <td>ba #_k/cu mm_no specimen</td>\n",
       "      <td>BA #</td>\n",
       "      <td>0.010013</td>\n",
       "      <td>None</td>\n",
       "      <td>0 - .3</td>\n",
       "      <td>K/cu mm</td>\n",
       "      <td>None</td>\n",
       "      <td>Texas</td>\n",
       "      <td>0.0100134</td>\n",
       "    </tr>\n",
       "  </tbody>\n",
       "</table>\n",
       "<p>258527315 rows × 12 columns</p>\n",
       "</div>"
      ],
      "text/plain": [
       "           Internalpatientid  Age at lab test       Lab test date  \\\n",
       "0                       5166        79.946327 2015-12-10 09:11:04   \n",
       "1                       5166        81.160335 2017-02-26 02:27:18   \n",
       "2                       5166        81.160335 2017-02-26 02:27:18   \n",
       "3                       5166        81.160335 2017-02-26 02:27:18   \n",
       "4                       5166        81.160335 2017-02-26 02:27:18   \n",
       "...                      ...              ...                 ...   \n",
       "258527310              51662        53.534373 2012-05-07 19:31:20   \n",
       "258527311              51662        53.534373 2012-05-07 19:31:20   \n",
       "258527312              51662        53.534373 2012-05-07 19:31:20   \n",
       "258527313              51662        53.534373 2012-05-07 19:31:20   \n",
       "258527314              51662        53.534373 2012-05-07 19:31:20   \n",
       "\n",
       "                                             Lab test  \\\n",
       "0          troponin i (d/c'd 02/02/2014)_ng/ml_plasma   \n",
       "1                                calcium_mg/dl_plasma   \n",
       "2                                sodium_mmol/l_plasma   \n",
       "3                             creatinine_mg/dl_plasma   \n",
       "4                           protein,total_g/dl_plasma   \n",
       "...                                               ...   \n",
       "258527310                  mono #_k/cu mm_no specimen   \n",
       "258527311                           wbc_k/cu mm_blood   \n",
       "258527312                                mch_pg_blood   \n",
       "258527313                                 rdw_%_blood   \n",
       "258527314                    ba #_k/cu mm_no specimen   \n",
       "\n",
       "                    Lab test description  Result numeric Result textual  \\\n",
       "0          TROPONIN I (d/c'd 02/02/2014)        0.020761           None   \n",
       "1                                calcium        9.759563           None   \n",
       "2                                 SODIUM      130.000000           None   \n",
       "3                             CREATININE        1.397398           None   \n",
       "4                          PROTEIN,TOTAL        7.232604           None   \n",
       "...                                  ...             ...            ...   \n",
       "258527310                         MONO #        0.479895           None   \n",
       "258527311                            WBC        8.645974           None   \n",
       "258527312                            MCH       29.000000           None   \n",
       "258527313                            RDW       12.491520           None   \n",
       "258527314                           BA #        0.010013           None   \n",
       "\n",
       "          Result range Result units Specimen source  State     Result  \n",
       "0          0.01 - 0.04        ng/ml          plasma  Texas  0.0207611  \n",
       "1           8.7 - 10.5        mg/dl          plasma  Texas    9.75956  \n",
       "2            136 - 145       mmol/L          plasma  Texas        130  \n",
       "3            0.6 - 1.3        mg/dl          plasma  Texas     1.3974  \n",
       "4            6.2 - 8.0         g/dl          plasma  Texas     7.2326  \n",
       "...                ...          ...             ...    ...        ...  \n",
       "258527310       .1 - 1      K/cu mm            None  Texas   0.479895  \n",
       "258527311       4 - 11      K/cu mm           blood  Texas    8.64597  \n",
       "258527312      27 - 34           pg           blood  Texas         29  \n",
       "258527313      11 - 16            %           blood  Texas    12.4915  \n",
       "258527314       0 - .3      K/cu mm            None  Texas  0.0100134  \n",
       "\n",
       "[258527315 rows x 12 columns]"
      ]
     },
     "execution_count": 12,
     "metadata": {},
     "output_type": "execute_result"
    }
   ],
   "source": [
    "# Replace NaN values in \"Result numeric\" with corresponding values from \"Result textual\"\n",
    "lab_train_data['Result'] = lab_train_data['Result numeric'].fillna(lab_train_data['Result textual'])\n",
    "\n",
    "# Print the updated DataFrame\n",
    "lab_train_data"
   ]
  },
  {
   "cell_type": "code",
   "execution_count": 15,
   "metadata": {},
   "outputs": [
    {
     "name": "stdout",
     "output_type": "stream",
     "text": [
      "There are 106896 missing or NaN values in the 'Result' column.\n"
     ]
    }
   ],
   "source": [
    "# Check for missing or NaN values in the 'Result' column\n",
    "missing_data = lab_train_data['Result'].isnull().sum()\n",
    "\n",
    "\n",
    "if missing_data > 0:\n",
    "    print(f\"There are {missing_data} missing or NaN values in the 'Result' column.\")\n",
    "else:\n",
    "    print(\"No missing or NaN values found in the 'Result' column.\")"
   ]
  },
  {
   "cell_type": "code",
   "execution_count": 16,
   "metadata": {},
   "outputs": [
    {
     "name": "stdout",
     "output_type": "stream",
     "text": [
      "Rows with NaN values in the 'Result' column:\n"
     ]
    },
    {
     "data": {
      "text/html": [
       "<div>\n",
       "<style scoped>\n",
       "    .dataframe tbody tr th:only-of-type {\n",
       "        vertical-align: middle;\n",
       "    }\n",
       "\n",
       "    .dataframe tbody tr th {\n",
       "        vertical-align: top;\n",
       "    }\n",
       "\n",
       "    .dataframe thead th {\n",
       "        text-align: right;\n",
       "    }\n",
       "</style>\n",
       "<table border=\"1\" class=\"dataframe\">\n",
       "  <thead>\n",
       "    <tr style=\"text-align: right;\">\n",
       "      <th></th>\n",
       "      <th>Internalpatientid</th>\n",
       "      <th>Age at lab test</th>\n",
       "      <th>Lab test date</th>\n",
       "      <th>Lab test</th>\n",
       "      <th>Lab test description</th>\n",
       "      <th>Result numeric</th>\n",
       "      <th>Result textual</th>\n",
       "      <th>Result range</th>\n",
       "      <th>Result units</th>\n",
       "      <th>Specimen source</th>\n",
       "      <th>State</th>\n",
       "      <th>Result</th>\n",
       "    </tr>\n",
       "  </thead>\n",
       "  <tbody>\n",
       "    <tr>\n",
       "      <th>3065</th>\n",
       "      <td>51788</td>\n",
       "      <td>72.858432</td>\n",
       "      <td>2004-08-29 18:09:52</td>\n",
       "      <td>fio2:_null_no specimen</td>\n",
       "      <td>FIO2:</td>\n",
       "      <td>NaN</td>\n",
       "      <td>None</td>\n",
       "      <td>None</td>\n",
       "      <td>None</td>\n",
       "      <td>None</td>\n",
       "      <td>Arizona</td>\n",
       "      <td>None</td>\n",
       "    </tr>\n",
       "    <tr>\n",
       "      <th>3368</th>\n",
       "      <td>51791</td>\n",
       "      <td>62.721086</td>\n",
       "      <td>2011-10-08 13:22:13</td>\n",
       "      <td>complete time cbc_time_no specimen</td>\n",
       "      <td>COMPLETE TIME CBC</td>\n",
       "      <td>NaN</td>\n",
       "      <td>None</td>\n",
       "      <td>None</td>\n",
       "      <td>TIME</td>\n",
       "      <td>None</td>\n",
       "      <td>Michigan</td>\n",
       "      <td>None</td>\n",
       "    </tr>\n",
       "    <tr>\n",
       "      <th>4874</th>\n",
       "      <td>51800</td>\n",
       "      <td>60.547935</td>\n",
       "      <td>2004-07-14 06:29:21</td>\n",
       "      <td>free testosterone*ne_null_blood</td>\n",
       "      <td>FREE TESTOSTERONE*NE</td>\n",
       "      <td>NaN</td>\n",
       "      <td>None</td>\n",
       "      <td>None</td>\n",
       "      <td>None</td>\n",
       "      <td>blood</td>\n",
       "      <td>Nebraska</td>\n",
       "      <td>None</td>\n",
       "    </tr>\n",
       "    <tr>\n",
       "      <th>5981</th>\n",
       "      <td>100002</td>\n",
       "      <td>74.209243</td>\n",
       "      <td>2007-02-01 11:28:50</td>\n",
       "      <td>approved by_null_no specimen</td>\n",
       "      <td>APPROVED BY</td>\n",
       "      <td>NaN</td>\n",
       "      <td>None</td>\n",
       "      <td>None</td>\n",
       "      <td>None</td>\n",
       "      <td>None</td>\n",
       "      <td>Louisiana</td>\n",
       "      <td>None</td>\n",
       "    </tr>\n",
       "    <tr>\n",
       "      <th>9828</th>\n",
       "      <td>51684</td>\n",
       "      <td>80.589333</td>\n",
       "      <td>2012-03-27 09:37:40</td>\n",
       "      <td>reference laboratory test_null_no specimen</td>\n",
       "      <td>Reference Laboratory Test</td>\n",
       "      <td>NaN</td>\n",
       "      <td>None</td>\n",
       "      <td>None</td>\n",
       "      <td>None</td>\n",
       "      <td>None</td>\n",
       "      <td>California</td>\n",
       "      <td>None</td>\n",
       "    </tr>\n",
       "  </tbody>\n",
       "</table>\n",
       "</div>"
      ],
      "text/plain": [
       "      Internalpatientid  Age at lab test       Lab test date  \\\n",
       "3065              51788        72.858432 2004-08-29 18:09:52   \n",
       "3368              51791        62.721086 2011-10-08 13:22:13   \n",
       "4874              51800        60.547935 2004-07-14 06:29:21   \n",
       "5981             100002        74.209243 2007-02-01 11:28:50   \n",
       "9828              51684        80.589333 2012-03-27 09:37:40   \n",
       "\n",
       "                                        Lab test       Lab test description  \\\n",
       "3065                      fio2:_null_no specimen                      FIO2:   \n",
       "3368          complete time cbc_time_no specimen          COMPLETE TIME CBC   \n",
       "4874             free testosterone*ne_null_blood       FREE TESTOSTERONE*NE   \n",
       "5981                approved by_null_no specimen                APPROVED BY   \n",
       "9828  reference laboratory test_null_no specimen  Reference Laboratory Test   \n",
       "\n",
       "      Result numeric Result textual Result range Result units Specimen source  \\\n",
       "3065             NaN           None         None         None            None   \n",
       "3368             NaN           None         None         TIME            None   \n",
       "4874             NaN           None         None         None           blood   \n",
       "5981             NaN           None         None         None            None   \n",
       "9828             NaN           None         None         None            None   \n",
       "\n",
       "           State Result  \n",
       "3065     Arizona   None  \n",
       "3368    Michigan   None  \n",
       "4874    Nebraska   None  \n",
       "5981   Louisiana   None  \n",
       "9828  California   None  "
      ]
     },
     "execution_count": 16,
     "metadata": {},
     "output_type": "execute_result"
    }
   ],
   "source": [
    "# Filter the rows with NaN values in the 'Result' column\n",
    "nan_rows = lab_train_data[lab_train_data['Result'].isnull()]\n",
    "\n",
    "# Print the rows with NaN values in the 'Result' column\n",
    "print(\"Rows with NaN values in the 'Result' column:\")\n",
    "nan_rows.head()"
   ]
  },
  {
   "cell_type": "markdown",
   "metadata": {},
   "source": [
    "* **Since both \"Result Numeric\" and \"Result Textual\" are absent, we may really consider that value to be empty in the \"Result\"**( Actual test results are not available for this.)\n",
    "\n",
    "* Que: How to handle this missing values?"
   ]
  },
  {
   "cell_type": "markdown",
   "metadata": {},
   "source": [
    "# Adding  'Lab test description' & 'Result (Result numeric & Result textual)' columns with '_'"
   ]
  },
  {
   "cell_type": "code",
   "execution_count": 13,
   "metadata": {},
   "outputs": [],
   "source": [
    "#In this code, we create a new column called 'Lab test description_Result numeric' by concatenating the values of the 'lab test description' column, underscore ('_'), and the 'lab test results' column\n",
    "#converted to a string using the `astype(str)` function(because we cant't add differnt dtype)\n",
    "lab_train_data['Lab test description_Result'] =  lab_train_data['Lab test description'] + '_' +  lab_train_data['Result'].astype(str)"
   ]
  },
  {
   "cell_type": "code",
   "execution_count": 14,
   "metadata": {},
   "outputs": [
    {
     "data": {
      "text/html": [
       "<div>\n",
       "<style scoped>\n",
       "    .dataframe tbody tr th:only-of-type {\n",
       "        vertical-align: middle;\n",
       "    }\n",
       "\n",
       "    .dataframe tbody tr th {\n",
       "        vertical-align: top;\n",
       "    }\n",
       "\n",
       "    .dataframe thead th {\n",
       "        text-align: right;\n",
       "    }\n",
       "</style>\n",
       "<table border=\"1\" class=\"dataframe\">\n",
       "  <thead>\n",
       "    <tr style=\"text-align: right;\">\n",
       "      <th></th>\n",
       "      <th>Internalpatientid</th>\n",
       "      <th>Age at lab test</th>\n",
       "      <th>Lab test date</th>\n",
       "      <th>Lab test</th>\n",
       "      <th>Lab test description</th>\n",
       "      <th>Result numeric</th>\n",
       "      <th>Result textual</th>\n",
       "      <th>Result range</th>\n",
       "      <th>Result units</th>\n",
       "      <th>Specimen source</th>\n",
       "      <th>State</th>\n",
       "      <th>Result</th>\n",
       "      <th>Lab test description_Result</th>\n",
       "    </tr>\n",
       "  </thead>\n",
       "  <tbody>\n",
       "    <tr>\n",
       "      <th>0</th>\n",
       "      <td>5166</td>\n",
       "      <td>79.946327</td>\n",
       "      <td>2015-12-10 09:11:04</td>\n",
       "      <td>troponin i (d/c'd 02/02/2014)_ng/ml_plasma</td>\n",
       "      <td>TROPONIN I (d/c'd 02/02/2014)</td>\n",
       "      <td>0.020761</td>\n",
       "      <td>None</td>\n",
       "      <td>0.01 - 0.04</td>\n",
       "      <td>ng/ml</td>\n",
       "      <td>plasma</td>\n",
       "      <td>Texas</td>\n",
       "      <td>0.0207611</td>\n",
       "      <td>TROPONIN I (d/c'd 02/02/2014)_0.0207611056423587</td>\n",
       "    </tr>\n",
       "    <tr>\n",
       "      <th>1</th>\n",
       "      <td>5166</td>\n",
       "      <td>81.160335</td>\n",
       "      <td>2017-02-26 02:27:18</td>\n",
       "      <td>calcium_mg/dl_plasma</td>\n",
       "      <td>calcium</td>\n",
       "      <td>9.759563</td>\n",
       "      <td>None</td>\n",
       "      <td>8.7 - 10.5</td>\n",
       "      <td>mg/dl</td>\n",
       "      <td>plasma</td>\n",
       "      <td>Texas</td>\n",
       "      <td>9.75956</td>\n",
       "      <td>calcium_9.759563247142873</td>\n",
       "    </tr>\n",
       "    <tr>\n",
       "      <th>2</th>\n",
       "      <td>5166</td>\n",
       "      <td>81.160335</td>\n",
       "      <td>2017-02-26 02:27:18</td>\n",
       "      <td>sodium_mmol/l_plasma</td>\n",
       "      <td>SODIUM</td>\n",
       "      <td>130.000000</td>\n",
       "      <td>None</td>\n",
       "      <td>136 - 145</td>\n",
       "      <td>mmol/L</td>\n",
       "      <td>plasma</td>\n",
       "      <td>Texas</td>\n",
       "      <td>130</td>\n",
       "      <td>SODIUM_130.0</td>\n",
       "    </tr>\n",
       "    <tr>\n",
       "      <th>3</th>\n",
       "      <td>5166</td>\n",
       "      <td>81.160335</td>\n",
       "      <td>2017-02-26 02:27:18</td>\n",
       "      <td>creatinine_mg/dl_plasma</td>\n",
       "      <td>CREATININE</td>\n",
       "      <td>1.397398</td>\n",
       "      <td>None</td>\n",
       "      <td>0.6 - 1.3</td>\n",
       "      <td>mg/dl</td>\n",
       "      <td>plasma</td>\n",
       "      <td>Texas</td>\n",
       "      <td>1.3974</td>\n",
       "      <td>CREATININE_1.3973984970566211</td>\n",
       "    </tr>\n",
       "    <tr>\n",
       "      <th>4</th>\n",
       "      <td>5166</td>\n",
       "      <td>81.160335</td>\n",
       "      <td>2017-02-26 02:27:18</td>\n",
       "      <td>protein,total_g/dl_plasma</td>\n",
       "      <td>PROTEIN,TOTAL</td>\n",
       "      <td>7.232604</td>\n",
       "      <td>None</td>\n",
       "      <td>6.2 - 8.0</td>\n",
       "      <td>g/dl</td>\n",
       "      <td>plasma</td>\n",
       "      <td>Texas</td>\n",
       "      <td>7.2326</td>\n",
       "      <td>PROTEIN,TOTAL_7.23260422697443</td>\n",
       "    </tr>\n",
       "  </tbody>\n",
       "</table>\n",
       "</div>"
      ],
      "text/plain": [
       "   Internalpatientid  Age at lab test       Lab test date  \\\n",
       "0               5166        79.946327 2015-12-10 09:11:04   \n",
       "1               5166        81.160335 2017-02-26 02:27:18   \n",
       "2               5166        81.160335 2017-02-26 02:27:18   \n",
       "3               5166        81.160335 2017-02-26 02:27:18   \n",
       "4               5166        81.160335 2017-02-26 02:27:18   \n",
       "\n",
       "                                     Lab test           Lab test description  \\\n",
       "0  troponin i (d/c'd 02/02/2014)_ng/ml_plasma  TROPONIN I (d/c'd 02/02/2014)   \n",
       "1                        calcium_mg/dl_plasma                        calcium   \n",
       "2                        sodium_mmol/l_plasma                         SODIUM   \n",
       "3                     creatinine_mg/dl_plasma                     CREATININE   \n",
       "4                   protein,total_g/dl_plasma                  PROTEIN,TOTAL   \n",
       "\n",
       "   Result numeric Result textual Result range Result units Specimen source  \\\n",
       "0        0.020761           None  0.01 - 0.04        ng/ml          plasma   \n",
       "1        9.759563           None   8.7 - 10.5        mg/dl          plasma   \n",
       "2      130.000000           None    136 - 145       mmol/L          plasma   \n",
       "3        1.397398           None    0.6 - 1.3        mg/dl          plasma   \n",
       "4        7.232604           None    6.2 - 8.0         g/dl          plasma   \n",
       "\n",
       "   State     Result                       Lab test description_Result  \n",
       "0  Texas  0.0207611  TROPONIN I (d/c'd 02/02/2014)_0.0207611056423587  \n",
       "1  Texas    9.75956                         calcium_9.759563247142873  \n",
       "2  Texas        130                                      SODIUM_130.0  \n",
       "3  Texas     1.3974                     CREATININE_1.3973984970566211  \n",
       "4  Texas     7.2326                    PROTEIN,TOTAL_7.23260422697443  "
      ]
     },
     "execution_count": 14,
     "metadata": {},
     "output_type": "execute_result"
    }
   ],
   "source": [
    "lab_train_data.head(5) # \"Lab test description_Result numeric\" is the new column created after merging two columns."
   ]
  },
  {
   "cell_type": "markdown",
   "metadata": {},
   "source": [
    "# Dropping all unnecessary columns "
   ]
  },
  {
   "cell_type": "markdown",
   "metadata": {},
   "source": [
    "* **Based on the analysis, we determine the significance of each column, so we keep those that are providing information that is potentially useful for our specific goal.**\n",
    "\n",
    "* **Note: Since \"Lab test description_Result\" has the both lab test and results , will value this feature highly (text data, now relevant NLP).**\n",
    "\n",
    "* **On top of that, other features are not essential, thus they will be removed.**"
   ]
  },
  {
   "cell_type": "code",
   "execution_count": 15,
   "metadata": {},
   "outputs": [],
   "source": [
    "# Removeing columns\n",
    "lab_train_data.drop(['Lab test date', 'Lab test','Lab test description','Result numeric','Result textual',\n",
    "                     'Result range','Result units','Specimen source','State','Result'], axis=1,inplace=True)"
   ]
  },
  {
   "cell_type": "code",
   "execution_count": 16,
   "metadata": {},
   "outputs": [],
   "source": [
    "lab_train_data = lab_train_data # giving the variable a name"
   ]
  },
  {
   "cell_type": "code",
   "execution_count": 17,
   "metadata": {},
   "outputs": [
    {
     "data": {
      "text/html": [
       "<div>\n",
       "<style scoped>\n",
       "    .dataframe tbody tr th:only-of-type {\n",
       "        vertical-align: middle;\n",
       "    }\n",
       "\n",
       "    .dataframe tbody tr th {\n",
       "        vertical-align: top;\n",
       "    }\n",
       "\n",
       "    .dataframe thead th {\n",
       "        text-align: right;\n",
       "    }\n",
       "</style>\n",
       "<table border=\"1\" class=\"dataframe\">\n",
       "  <thead>\n",
       "    <tr style=\"text-align: right;\">\n",
       "      <th></th>\n",
       "      <th>Internalpatientid</th>\n",
       "      <th>Age at lab test</th>\n",
       "      <th>Lab test description_Result</th>\n",
       "    </tr>\n",
       "  </thead>\n",
       "  <tbody>\n",
       "    <tr>\n",
       "      <th>0</th>\n",
       "      <td>5166</td>\n",
       "      <td>79.946327</td>\n",
       "      <td>TROPONIN I (d/c'd 02/02/2014)_0.0207611056423587</td>\n",
       "    </tr>\n",
       "    <tr>\n",
       "      <th>1</th>\n",
       "      <td>5166</td>\n",
       "      <td>81.160335</td>\n",
       "      <td>calcium_9.759563247142873</td>\n",
       "    </tr>\n",
       "    <tr>\n",
       "      <th>2</th>\n",
       "      <td>5166</td>\n",
       "      <td>81.160335</td>\n",
       "      <td>SODIUM_130.0</td>\n",
       "    </tr>\n",
       "    <tr>\n",
       "      <th>3</th>\n",
       "      <td>5166</td>\n",
       "      <td>81.160335</td>\n",
       "      <td>CREATININE_1.3973984970566211</td>\n",
       "    </tr>\n",
       "    <tr>\n",
       "      <th>4</th>\n",
       "      <td>5166</td>\n",
       "      <td>81.160335</td>\n",
       "      <td>PROTEIN,TOTAL_7.23260422697443</td>\n",
       "    </tr>\n",
       "  </tbody>\n",
       "</table>\n",
       "</div>"
      ],
      "text/plain": [
       "   Internalpatientid  Age at lab test  \\\n",
       "0               5166        79.946327   \n",
       "1               5166        81.160335   \n",
       "2               5166        81.160335   \n",
       "3               5166        81.160335   \n",
       "4               5166        81.160335   \n",
       "\n",
       "                        Lab test description_Result  \n",
       "0  TROPONIN I (d/c'd 02/02/2014)_0.0207611056423587  \n",
       "1                         calcium_9.759563247142873  \n",
       "2                                      SODIUM_130.0  \n",
       "3                     CREATININE_1.3973984970566211  \n",
       "4                    PROTEIN,TOTAL_7.23260422697443  "
      ]
     },
     "execution_count": 17,
     "metadata": {},
     "output_type": "execute_result"
    }
   ],
   "source": [
    "lab_train_data.head() # Taking the important varible for our task"
   ]
  },
  {
   "cell_type": "code",
   "execution_count": 25,
   "metadata": {},
   "outputs": [],
   "source": [
    "# Check for missing or NaN values in the 'Lab test description_Result' column\n",
    "missing_data = lab_train_data['Lab test description_Result'].isnull().sum()"
   ]
  },
  {
   "cell_type": "code",
   "execution_count": 26,
   "metadata": {},
   "outputs": [
    {
     "data": {
      "text/plain": [
       "0"
      ]
     },
     "execution_count": 26,
     "metadata": {},
     "output_type": "execute_result"
    }
   ],
   "source": [
    "missing_data "
   ]
  },
  {
   "cell_type": "markdown",
   "metadata": {},
   "source": [
    "* **Only after the useless columns have been deleted will you be able to see the ones that might include potential attributes to our task.**"
   ]
  },
  {
   "cell_type": "markdown",
   "metadata": {},
   "source": [
    "# Now Creating the bucket with the various age ranges and adding the \"Lab test description_Result numeric\" to the particular age range."
   ]
  },
  {
   "cell_type": "code",
   "execution_count": 18,
   "metadata": {},
   "outputs": [],
   "source": [
    "df_grouped = lab_train_data.groupby('Internalpatientid',as_index=False).agg(    \n",
    "    age_at_measurement_max=('Age at lab test','max'),\n",
    "    age_at_measurement_min=('Age at lab test','min'),\n",
    "    Measurement=('Lab test description_Result','unique')\n",
    "    )"
   ]
  },
  {
   "cell_type": "code",
   "execution_count": 20,
   "metadata": {},
   "outputs": [
    {
     "data": {
      "text/html": [
       "<div>\n",
       "<style scoped>\n",
       "    .dataframe tbody tr th:only-of-type {\n",
       "        vertical-align: middle;\n",
       "    }\n",
       "\n",
       "    .dataframe tbody tr th {\n",
       "        vertical-align: top;\n",
       "    }\n",
       "\n",
       "    .dataframe thead th {\n",
       "        text-align: right;\n",
       "    }\n",
       "</style>\n",
       "<table border=\"1\" class=\"dataframe\">\n",
       "  <thead>\n",
       "    <tr style=\"text-align: right;\">\n",
       "      <th></th>\n",
       "      <th>Internalpatientid</th>\n",
       "      <th>age_at_measurement_max</th>\n",
       "      <th>age_at_measurement_min</th>\n",
       "      <th>Measurement</th>\n",
       "    </tr>\n",
       "  </thead>\n",
       "  <tbody>\n",
       "    <tr>\n",
       "      <th>0</th>\n",
       "      <td>1</td>\n",
       "      <td>80.208139</td>\n",
       "      <td>57.839843</td>\n",
       "      <td>[TOT. BILIRUBIN_1.3418510576392229, CO2_26.0, ...</td>\n",
       "    </tr>\n",
       "    <tr>\n",
       "      <th>1</th>\n",
       "      <td>2</td>\n",
       "      <td>69.529787</td>\n",
       "      <td>48.238772</td>\n",
       "      <td>[WBC_11.707744269279152, MPV_9.663380784560669...</td>\n",
       "    </tr>\n",
       "    <tr>\n",
       "      <th>2</th>\n",
       "      <td>3</td>\n",
       "      <td>82.283766</td>\n",
       "      <td>78.166309</td>\n",
       "      <td>[CALCIUM (4/04 - 11/08)_9.99855586847918, GLUC...</td>\n",
       "    </tr>\n",
       "    <tr>\n",
       "      <th>3</th>\n",
       "      <td>4</td>\n",
       "      <td>84.187139</td>\n",
       "      <td>70.280541</td>\n",
       "      <td>[A1C HGB_10.092643118075156, GLYCO HGB_12.1690...</td>\n",
       "    </tr>\n",
       "    <tr>\n",
       "      <th>4</th>\n",
       "      <td>5</td>\n",
       "      <td>76.507076</td>\n",
       "      <td>73.679830</td>\n",
       "      <td>[Hgb_15.792592104865944, MONO  %_10.2993140918...</td>\n",
       "    </tr>\n",
       "    <tr>\n",
       "      <th>...</th>\n",
       "      <td>...</td>\n",
       "      <td>...</td>\n",
       "      <td>...</td>\n",
       "      <td>...</td>\n",
       "    </tr>\n",
       "    <tr>\n",
       "      <th>130440</th>\n",
       "      <td>169060</td>\n",
       "      <td>71.740795</td>\n",
       "      <td>56.932161</td>\n",
       "      <td>[WBC_10.611946114446155, HEMATOCRIT_49.5798336...</td>\n",
       "    </tr>\n",
       "    <tr>\n",
       "      <th>130441</th>\n",
       "      <td>169061</td>\n",
       "      <td>80.009362</td>\n",
       "      <td>67.263508</td>\n",
       "      <td>[VIT. D,25-OH, TOTAL(D'CD 1/17)_53.97439779822...</td>\n",
       "    </tr>\n",
       "    <tr>\n",
       "      <th>130442</th>\n",
       "      <td>169062</td>\n",
       "      <td>74.142088</td>\n",
       "      <td>70.280286</td>\n",
       "      <td>[UREA NITROGEN thru 3/2/2004_12.0, ALKALINE PH...</td>\n",
       "    </tr>\n",
       "    <tr>\n",
       "      <th>130443</th>\n",
       "      <td>169063</td>\n",
       "      <td>76.268058</td>\n",
       "      <td>71.823577</td>\n",
       "      <td>[ZZCHLORIDE (V2&lt;1/22/07)_94.0, CREATININE (V2&lt;...</td>\n",
       "    </tr>\n",
       "    <tr>\n",
       "      <th>130444</th>\n",
       "      <td>169064</td>\n",
       "      <td>87.867074</td>\n",
       "      <td>73.137459</td>\n",
       "      <td>[Hct_44.0, Baso %_0.30498785979110216, TOTAL N...</td>\n",
       "    </tr>\n",
       "  </tbody>\n",
       "</table>\n",
       "<p>130445 rows × 4 columns</p>\n",
       "</div>"
      ],
      "text/plain": [
       "        Internalpatientid  age_at_measurement_max  age_at_measurement_min  \\\n",
       "0                       1               80.208139               57.839843   \n",
       "1                       2               69.529787               48.238772   \n",
       "2                       3               82.283766               78.166309   \n",
       "3                       4               84.187139               70.280541   \n",
       "4                       5               76.507076               73.679830   \n",
       "...                   ...                     ...                     ...   \n",
       "130440             169060               71.740795               56.932161   \n",
       "130441             169061               80.009362               67.263508   \n",
       "130442             169062               74.142088               70.280286   \n",
       "130443             169063               76.268058               71.823577   \n",
       "130444             169064               87.867074               73.137459   \n",
       "\n",
       "                                              Measurement  \n",
       "0       [TOT. BILIRUBIN_1.3418510576392229, CO2_26.0, ...  \n",
       "1       [WBC_11.707744269279152, MPV_9.663380784560669...  \n",
       "2       [CALCIUM (4/04 - 11/08)_9.99855586847918, GLUC...  \n",
       "3       [A1C HGB_10.092643118075156, GLYCO HGB_12.1690...  \n",
       "4       [Hgb_15.792592104865944, MONO  %_10.2993140918...  \n",
       "...                                                   ...  \n",
       "130440  [WBC_10.611946114446155, HEMATOCRIT_49.5798336...  \n",
       "130441  [VIT. D,25-OH, TOTAL(D'CD 1/17)_53.97439779822...  \n",
       "130442  [UREA NITROGEN thru 3/2/2004_12.0, ALKALINE PH...  \n",
       "130443  [ZZCHLORIDE (V2<1/22/07)_94.0, CREATININE (V2<...  \n",
       "130444  [Hct_44.0, Baso %_0.30498785979110216, TOTAL N...  \n",
       "\n",
       "[130445 rows x 4 columns]"
      ]
     },
     "execution_count": 20,
     "metadata": {},
     "output_type": "execute_result"
    }
   ],
   "source": [
    "df_grouped"
   ]
  },
  {
   "cell_type": "markdown",
   "metadata": {},
   "source": [
    "# **Importing the death data*"
   ]
  },
  {
   "cell_type": "code",
   "execution_count": 23,
   "metadata": {},
   "outputs": [],
   "source": [
    "# from_delimited_files (Create a TabularDataset to represent tabular data in delimited files (e.g. CSV and TSV).\n",
    "\n",
    "dataset = Dataset.Tabular.from_delimited_files(path = [(datastore, 'death_train.csv')])\n",
    "\n",
    "# preview the first 3 rows of the dataset\n",
    "# dataset.to_pandas_dataframe()"
   ]
  },
  {
   "cell_type": "code",
   "execution_count": 24,
   "metadata": {},
   "outputs": [],
   "source": [
    "#Converting the dataset into data frame(default as dataset in Azure, thus we must convert the needed formate)\n",
    "death_train = dataset.to_pandas_dataframe()"
   ]
  },
  {
   "cell_type": "code",
   "execution_count": 26,
   "metadata": {},
   "outputs": [
    {
     "data": {
      "text/html": [
       "<div>\n",
       "<style scoped>\n",
       "    .dataframe tbody tr th:only-of-type {\n",
       "        vertical-align: middle;\n",
       "    }\n",
       "\n",
       "    .dataframe tbody tr th {\n",
       "        vertical-align: top;\n",
       "    }\n",
       "\n",
       "    .dataframe thead th {\n",
       "        text-align: right;\n",
       "    }\n",
       "</style>\n",
       "<table border=\"1\" class=\"dataframe\">\n",
       "  <thead>\n",
       "    <tr style=\"text-align: right;\">\n",
       "      <th></th>\n",
       "      <th>Column1</th>\n",
       "      <th>Internalpatientid</th>\n",
       "      <th>Age at death</th>\n",
       "      <th>Death date</th>\n",
       "    </tr>\n",
       "  </thead>\n",
       "  <tbody>\n",
       "    <tr>\n",
       "      <th>0</th>\n",
       "      <td>0</td>\n",
       "      <td>100036</td>\n",
       "      <td>72.412770</td>\n",
       "      <td>2015-01-18 20:49:10</td>\n",
       "    </tr>\n",
       "    <tr>\n",
       "      <th>1</th>\n",
       "      <td>1</td>\n",
       "      <td>100037</td>\n",
       "      <td>75.241135</td>\n",
       "      <td>2008-10-16 15:14:26</td>\n",
       "    </tr>\n",
       "    <tr>\n",
       "      <th>2</th>\n",
       "      <td>2</td>\n",
       "      <td>100045</td>\n",
       "      <td>85.399403</td>\n",
       "      <td>2019-01-26 11:33:52</td>\n",
       "    </tr>\n",
       "    <tr>\n",
       "      <th>3</th>\n",
       "      <td>3</td>\n",
       "      <td>100095</td>\n",
       "      <td>84.136551</td>\n",
       "      <td>2004-08-10 21:49:35</td>\n",
       "    </tr>\n",
       "    <tr>\n",
       "      <th>4</th>\n",
       "      <td>6</td>\n",
       "      <td>10013</td>\n",
       "      <td>68.372126</td>\n",
       "      <td>2007-06-11 00:17:06</td>\n",
       "    </tr>\n",
       "    <tr>\n",
       "      <th>...</th>\n",
       "      <td>...</td>\n",
       "      <td>...</td>\n",
       "      <td>...</td>\n",
       "      <td>...</td>\n",
       "    </tr>\n",
       "    <tr>\n",
       "      <th>97279</th>\n",
       "      <td>123343</td>\n",
       "      <td>99827</td>\n",
       "      <td>87.898767</td>\n",
       "      <td>2003-05-13 23:58:55</td>\n",
       "    </tr>\n",
       "    <tr>\n",
       "      <th>97280</th>\n",
       "      <td>123344</td>\n",
       "      <td>99842</td>\n",
       "      <td>78.431214</td>\n",
       "      <td>2010-05-25 14:36:27</td>\n",
       "    </tr>\n",
       "    <tr>\n",
       "      <th>97281</th>\n",
       "      <td>123345</td>\n",
       "      <td>99847</td>\n",
       "      <td>82.115566</td>\n",
       "      <td>2012-02-20 05:44:33</td>\n",
       "    </tr>\n",
       "    <tr>\n",
       "      <th>97282</th>\n",
       "      <td>123347</td>\n",
       "      <td>99872</td>\n",
       "      <td>92.974602</td>\n",
       "      <td>2010-04-18 05:12:36</td>\n",
       "    </tr>\n",
       "    <tr>\n",
       "      <th>97283</th>\n",
       "      <td>123352</td>\n",
       "      <td>99999</td>\n",
       "      <td>96.370286</td>\n",
       "      <td>2013-04-14 08:08:53</td>\n",
       "    </tr>\n",
       "  </tbody>\n",
       "</table>\n",
       "<p>97284 rows × 4 columns</p>\n",
       "</div>"
      ],
      "text/plain": [
       "       Column1  Internalpatientid  Age at death          Death date\n",
       "0            0             100036     72.412770 2015-01-18 20:49:10\n",
       "1            1             100037     75.241135 2008-10-16 15:14:26\n",
       "2            2             100045     85.399403 2019-01-26 11:33:52\n",
       "3            3             100095     84.136551 2004-08-10 21:49:35\n",
       "4            6              10013     68.372126 2007-06-11 00:17:06\n",
       "...        ...                ...           ...                 ...\n",
       "97279   123343              99827     87.898767 2003-05-13 23:58:55\n",
       "97280   123344              99842     78.431214 2010-05-25 14:36:27\n",
       "97281   123345              99847     82.115566 2012-02-20 05:44:33\n",
       "97282   123347              99872     92.974602 2010-04-18 05:12:36\n",
       "97283   123352              99999     96.370286 2013-04-14 08:08:53\n",
       "\n",
       "[97284 rows x 4 columns]"
      ]
     },
     "execution_count": 26,
     "metadata": {},
     "output_type": "execute_result"
    }
   ],
   "source": [
    "death_train"
   ]
  },
  {
   "cell_type": "markdown",
   "metadata": {},
   "source": [
    "# **Elimination of the unnamed columns**"
   ]
  },
  {
   "cell_type": "code",
   "execution_count": 27,
   "metadata": {},
   "outputs": [],
   "source": [
    "# Remove unwanted columns \n",
    "death_train.drop('Column1',axis=1,inplace=True)"
   ]
  },
  {
   "cell_type": "code",
   "execution_count": 28,
   "metadata": {},
   "outputs": [],
   "source": [
    "death_train = death_train"
   ]
  },
  {
   "cell_type": "code",
   "execution_count": 29,
   "metadata": {},
   "outputs": [
    {
     "data": {
      "text/html": [
       "<div>\n",
       "<style scoped>\n",
       "    .dataframe tbody tr th:only-of-type {\n",
       "        vertical-align: middle;\n",
       "    }\n",
       "\n",
       "    .dataframe tbody tr th {\n",
       "        vertical-align: top;\n",
       "    }\n",
       "\n",
       "    .dataframe thead th {\n",
       "        text-align: right;\n",
       "    }\n",
       "</style>\n",
       "<table border=\"1\" class=\"dataframe\">\n",
       "  <thead>\n",
       "    <tr style=\"text-align: right;\">\n",
       "      <th></th>\n",
       "      <th>Internalpatientid</th>\n",
       "      <th>Age at death</th>\n",
       "      <th>Death date</th>\n",
       "    </tr>\n",
       "  </thead>\n",
       "  <tbody>\n",
       "    <tr>\n",
       "      <th>0</th>\n",
       "      <td>100036</td>\n",
       "      <td>72.412770</td>\n",
       "      <td>2015-01-18 20:49:10</td>\n",
       "    </tr>\n",
       "    <tr>\n",
       "      <th>1</th>\n",
       "      <td>100037</td>\n",
       "      <td>75.241135</td>\n",
       "      <td>2008-10-16 15:14:26</td>\n",
       "    </tr>\n",
       "    <tr>\n",
       "      <th>2</th>\n",
       "      <td>100045</td>\n",
       "      <td>85.399403</td>\n",
       "      <td>2019-01-26 11:33:52</td>\n",
       "    </tr>\n",
       "    <tr>\n",
       "      <th>3</th>\n",
       "      <td>100095</td>\n",
       "      <td>84.136551</td>\n",
       "      <td>2004-08-10 21:49:35</td>\n",
       "    </tr>\n",
       "    <tr>\n",
       "      <th>4</th>\n",
       "      <td>10013</td>\n",
       "      <td>68.372126</td>\n",
       "      <td>2007-06-11 00:17:06</td>\n",
       "    </tr>\n",
       "    <tr>\n",
       "      <th>...</th>\n",
       "      <td>...</td>\n",
       "      <td>...</td>\n",
       "      <td>...</td>\n",
       "    </tr>\n",
       "    <tr>\n",
       "      <th>97279</th>\n",
       "      <td>99827</td>\n",
       "      <td>87.898767</td>\n",
       "      <td>2003-05-13 23:58:55</td>\n",
       "    </tr>\n",
       "    <tr>\n",
       "      <th>97280</th>\n",
       "      <td>99842</td>\n",
       "      <td>78.431214</td>\n",
       "      <td>2010-05-25 14:36:27</td>\n",
       "    </tr>\n",
       "    <tr>\n",
       "      <th>97281</th>\n",
       "      <td>99847</td>\n",
       "      <td>82.115566</td>\n",
       "      <td>2012-02-20 05:44:33</td>\n",
       "    </tr>\n",
       "    <tr>\n",
       "      <th>97282</th>\n",
       "      <td>99872</td>\n",
       "      <td>92.974602</td>\n",
       "      <td>2010-04-18 05:12:36</td>\n",
       "    </tr>\n",
       "    <tr>\n",
       "      <th>97283</th>\n",
       "      <td>99999</td>\n",
       "      <td>96.370286</td>\n",
       "      <td>2013-04-14 08:08:53</td>\n",
       "    </tr>\n",
       "  </tbody>\n",
       "</table>\n",
       "<p>97284 rows × 3 columns</p>\n",
       "</div>"
      ],
      "text/plain": [
       "       Internalpatientid  Age at death          Death date\n",
       "0                 100036     72.412770 2015-01-18 20:49:10\n",
       "1                 100037     75.241135 2008-10-16 15:14:26\n",
       "2                 100045     85.399403 2019-01-26 11:33:52\n",
       "3                 100095     84.136551 2004-08-10 21:49:35\n",
       "4                  10013     68.372126 2007-06-11 00:17:06\n",
       "...                  ...           ...                 ...\n",
       "97279              99827     87.898767 2003-05-13 23:58:55\n",
       "97280              99842     78.431214 2010-05-25 14:36:27\n",
       "97281              99847     82.115566 2012-02-20 05:44:33\n",
       "97282              99872     92.974602 2010-04-18 05:12:36\n",
       "97283              99999     96.370286 2013-04-14 08:08:53\n",
       "\n",
       "[97284 rows x 3 columns]"
      ]
     },
     "execution_count": 29,
     "metadata": {},
     "output_type": "execute_result"
    }
   ],
   "source": [
    "death_train"
   ]
  },
  {
   "cell_type": "code",
   "execution_count": 30,
   "metadata": {},
   "outputs": [
    {
     "data": {
      "text/html": [
       "<div>\n",
       "<style scoped>\n",
       "    .dataframe tbody tr th:only-of-type {\n",
       "        vertical-align: middle;\n",
       "    }\n",
       "\n",
       "    .dataframe tbody tr th {\n",
       "        vertical-align: top;\n",
       "    }\n",
       "\n",
       "    .dataframe thead th {\n",
       "        text-align: right;\n",
       "    }\n",
       "</style>\n",
       "<table border=\"1\" class=\"dataframe\">\n",
       "  <thead>\n",
       "    <tr style=\"text-align: right;\">\n",
       "      <th></th>\n",
       "      <th>Internalpatientid</th>\n",
       "      <th>Age at death</th>\n",
       "      <th>Death date</th>\n",
       "      <th>death</th>\n",
       "    </tr>\n",
       "  </thead>\n",
       "  <tbody>\n",
       "    <tr>\n",
       "      <th>0</th>\n",
       "      <td>100036</td>\n",
       "      <td>72.412770</td>\n",
       "      <td>2015-01-18 20:49:10</td>\n",
       "      <td>1</td>\n",
       "    </tr>\n",
       "    <tr>\n",
       "      <th>1</th>\n",
       "      <td>100037</td>\n",
       "      <td>75.241135</td>\n",
       "      <td>2008-10-16 15:14:26</td>\n",
       "      <td>1</td>\n",
       "    </tr>\n",
       "    <tr>\n",
       "      <th>2</th>\n",
       "      <td>100045</td>\n",
       "      <td>85.399403</td>\n",
       "      <td>2019-01-26 11:33:52</td>\n",
       "      <td>1</td>\n",
       "    </tr>\n",
       "    <tr>\n",
       "      <th>3</th>\n",
       "      <td>100095</td>\n",
       "      <td>84.136551</td>\n",
       "      <td>2004-08-10 21:49:35</td>\n",
       "      <td>1</td>\n",
       "    </tr>\n",
       "    <tr>\n",
       "      <th>4</th>\n",
       "      <td>10013</td>\n",
       "      <td>68.372126</td>\n",
       "      <td>2007-06-11 00:17:06</td>\n",
       "      <td>1</td>\n",
       "    </tr>\n",
       "  </tbody>\n",
       "</table>\n",
       "</div>"
      ],
      "text/plain": [
       "   Internalpatientid  Age at death          Death date  death\n",
       "0             100036     72.412770 2015-01-18 20:49:10      1\n",
       "1             100037     75.241135 2008-10-16 15:14:26      1\n",
       "2             100045     85.399403 2019-01-26 11:33:52      1\n",
       "3             100095     84.136551 2004-08-10 21:49:35      1\n",
       "4              10013     68.372126 2007-06-11 00:17:06      1"
      ]
     },
     "execution_count": 30,
     "metadata": {},
     "output_type": "execute_result"
    }
   ],
   "source": [
    "# Creating the new \"death\"(1) columns \n",
    "death_train['death']=1\n",
    "death_train.head()"
   ]
  },
  {
   "cell_type": "code",
   "execution_count": 31,
   "metadata": {},
   "outputs": [],
   "source": [
    "# Left joint will take all the patients id from df_grouped_condition file and common id from death files\n",
    "merge_condition_death_left = pd.merge(df_grouped, death_train, how='left',on='Internalpatientid') "
   ]
  },
  {
   "cell_type": "code",
   "execution_count": 32,
   "metadata": {},
   "outputs": [
    {
     "data": {
      "text/html": [
       "<div>\n",
       "<style scoped>\n",
       "    .dataframe tbody tr th:only-of-type {\n",
       "        vertical-align: middle;\n",
       "    }\n",
       "\n",
       "    .dataframe tbody tr th {\n",
       "        vertical-align: top;\n",
       "    }\n",
       "\n",
       "    .dataframe thead th {\n",
       "        text-align: right;\n",
       "    }\n",
       "</style>\n",
       "<table border=\"1\" class=\"dataframe\">\n",
       "  <thead>\n",
       "    <tr style=\"text-align: right;\">\n",
       "      <th></th>\n",
       "      <th>Internalpatientid</th>\n",
       "      <th>age_at_measurement_max</th>\n",
       "      <th>age_at_measurement_min</th>\n",
       "      <th>Measurement</th>\n",
       "      <th>Age at death</th>\n",
       "      <th>Death date</th>\n",
       "      <th>death</th>\n",
       "    </tr>\n",
       "  </thead>\n",
       "  <tbody>\n",
       "    <tr>\n",
       "      <th>0</th>\n",
       "      <td>1</td>\n",
       "      <td>80.208139</td>\n",
       "      <td>57.839843</td>\n",
       "      <td>[TOT. BILIRUBIN_1.3418510576392229, CO2_26.0, ...</td>\n",
       "      <td>NaN</td>\n",
       "      <td>NaT</td>\n",
       "      <td>NaN</td>\n",
       "    </tr>\n",
       "    <tr>\n",
       "      <th>1</th>\n",
       "      <td>2</td>\n",
       "      <td>69.529787</td>\n",
       "      <td>48.238772</td>\n",
       "      <td>[WBC_11.707744269279152, MPV_9.663380784560669...</td>\n",
       "      <td>NaN</td>\n",
       "      <td>NaT</td>\n",
       "      <td>NaN</td>\n",
       "    </tr>\n",
       "    <tr>\n",
       "      <th>2</th>\n",
       "      <td>3</td>\n",
       "      <td>82.283766</td>\n",
       "      <td>78.166309</td>\n",
       "      <td>[CALCIUM (4/04 - 11/08)_9.99855586847918, GLUC...</td>\n",
       "      <td>82.284691</td>\n",
       "      <td>2005-10-12 01:18:21</td>\n",
       "      <td>1.0</td>\n",
       "    </tr>\n",
       "    <tr>\n",
       "      <th>3</th>\n",
       "      <td>4</td>\n",
       "      <td>84.187139</td>\n",
       "      <td>70.280541</td>\n",
       "      <td>[A1C HGB_10.092643118075156, GLYCO HGB_12.1690...</td>\n",
       "      <td>84.190359</td>\n",
       "      <td>2015-02-24 13:49:53</td>\n",
       "      <td>1.0</td>\n",
       "    </tr>\n",
       "    <tr>\n",
       "      <th>4</th>\n",
       "      <td>5</td>\n",
       "      <td>76.507076</td>\n",
       "      <td>73.679830</td>\n",
       "      <td>[Hgb_15.792592104865944, MONO  %_10.2993140918...</td>\n",
       "      <td>76.506124</td>\n",
       "      <td>2004-11-04 23:43:20</td>\n",
       "      <td>1.0</td>\n",
       "    </tr>\n",
       "    <tr>\n",
       "      <th>...</th>\n",
       "      <td>...</td>\n",
       "      <td>...</td>\n",
       "      <td>...</td>\n",
       "      <td>...</td>\n",
       "      <td>...</td>\n",
       "      <td>...</td>\n",
       "      <td>...</td>\n",
       "    </tr>\n",
       "    <tr>\n",
       "      <th>130440</th>\n",
       "      <td>169060</td>\n",
       "      <td>71.740795</td>\n",
       "      <td>56.932161</td>\n",
       "      <td>[WBC_10.611946114446155, HEMATOCRIT_49.5798336...</td>\n",
       "      <td>71.832486</td>\n",
       "      <td>2017-10-15 18:34:11</td>\n",
       "      <td>1.0</td>\n",
       "    </tr>\n",
       "    <tr>\n",
       "      <th>130441</th>\n",
       "      <td>169061</td>\n",
       "      <td>80.009362</td>\n",
       "      <td>67.263508</td>\n",
       "      <td>[VIT. D,25-OH, TOTAL(D'CD 1/17)_53.97439779822...</td>\n",
       "      <td>81.975844</td>\n",
       "      <td>2024-02-16 04:06:03</td>\n",
       "      <td>1.0</td>\n",
       "    </tr>\n",
       "    <tr>\n",
       "      <th>130442</th>\n",
       "      <td>169062</td>\n",
       "      <td>74.142088</td>\n",
       "      <td>70.280286</td>\n",
       "      <td>[UREA NITROGEN thru 3/2/2004_12.0, ALKALINE PH...</td>\n",
       "      <td>74.181399</td>\n",
       "      <td>2005-10-14 07:13:53</td>\n",
       "      <td>1.0</td>\n",
       "    </tr>\n",
       "    <tr>\n",
       "      <th>130443</th>\n",
       "      <td>169063</td>\n",
       "      <td>76.268058</td>\n",
       "      <td>71.823577</td>\n",
       "      <td>[ZZCHLORIDE (V2&lt;1/22/07)_94.0, CREATININE (V2&lt;...</td>\n",
       "      <td>78.751284</td>\n",
       "      <td>2006-05-11 14:16:02</td>\n",
       "      <td>1.0</td>\n",
       "    </tr>\n",
       "    <tr>\n",
       "      <th>130444</th>\n",
       "      <td>169064</td>\n",
       "      <td>87.867074</td>\n",
       "      <td>73.137459</td>\n",
       "      <td>[Hct_44.0, Baso %_0.30498785979110216, TOTAL N...</td>\n",
       "      <td>88.057470</td>\n",
       "      <td>2015-01-09 00:07:21</td>\n",
       "      <td>1.0</td>\n",
       "    </tr>\n",
       "  </tbody>\n",
       "</table>\n",
       "<p>130445 rows × 7 columns</p>\n",
       "</div>"
      ],
      "text/plain": [
       "        Internalpatientid  age_at_measurement_max  age_at_measurement_min  \\\n",
       "0                       1               80.208139               57.839843   \n",
       "1                       2               69.529787               48.238772   \n",
       "2                       3               82.283766               78.166309   \n",
       "3                       4               84.187139               70.280541   \n",
       "4                       5               76.507076               73.679830   \n",
       "...                   ...                     ...                     ...   \n",
       "130440             169060               71.740795               56.932161   \n",
       "130441             169061               80.009362               67.263508   \n",
       "130442             169062               74.142088               70.280286   \n",
       "130443             169063               76.268058               71.823577   \n",
       "130444             169064               87.867074               73.137459   \n",
       "\n",
       "                                              Measurement  Age at death  \\\n",
       "0       [TOT. BILIRUBIN_1.3418510576392229, CO2_26.0, ...           NaN   \n",
       "1       [WBC_11.707744269279152, MPV_9.663380784560669...           NaN   \n",
       "2       [CALCIUM (4/04 - 11/08)_9.99855586847918, GLUC...     82.284691   \n",
       "3       [A1C HGB_10.092643118075156, GLYCO HGB_12.1690...     84.190359   \n",
       "4       [Hgb_15.792592104865944, MONO  %_10.2993140918...     76.506124   \n",
       "...                                                   ...           ...   \n",
       "130440  [WBC_10.611946114446155, HEMATOCRIT_49.5798336...     71.832486   \n",
       "130441  [VIT. D,25-OH, TOTAL(D'CD 1/17)_53.97439779822...     81.975844   \n",
       "130442  [UREA NITROGEN thru 3/2/2004_12.0, ALKALINE PH...     74.181399   \n",
       "130443  [ZZCHLORIDE (V2<1/22/07)_94.0, CREATININE (V2<...     78.751284   \n",
       "130444  [Hct_44.0, Baso %_0.30498785979110216, TOTAL N...     88.057470   \n",
       "\n",
       "                Death date  death  \n",
       "0                      NaT    NaN  \n",
       "1                      NaT    NaN  \n",
       "2      2005-10-12 01:18:21    1.0  \n",
       "3      2015-02-24 13:49:53    1.0  \n",
       "4      2004-11-04 23:43:20    1.0  \n",
       "...                    ...    ...  \n",
       "130440 2017-10-15 18:34:11    1.0  \n",
       "130441 2024-02-16 04:06:03    1.0  \n",
       "130442 2005-10-14 07:13:53    1.0  \n",
       "130443 2006-05-11 14:16:02    1.0  \n",
       "130444 2015-01-09 00:07:21    1.0  \n",
       "\n",
       "[130445 rows x 7 columns]"
      ]
     },
     "execution_count": 32,
     "metadata": {},
     "output_type": "execute_result"
    }
   ],
   "source": [
    "merge_condition_death_left# it will have both death and alive for patients id's for immunization file"
   ]
  },
  {
   "cell_type": "markdown",
   "metadata": {},
   "source": [
    "# Now filling the alive patients id's with \"0\""
   ]
  },
  {
   "cell_type": "code",
   "execution_count": 33,
   "metadata": {},
   "outputs": [],
   "source": [
    "merge_condition_death_left['death'] = merge_condition_death_left['death'].fillna(0)"
   ]
  },
  {
   "cell_type": "code",
   "execution_count": 34,
   "metadata": {},
   "outputs": [
    {
     "data": {
      "text/html": [
       "<div>\n",
       "<style scoped>\n",
       "    .dataframe tbody tr th:only-of-type {\n",
       "        vertical-align: middle;\n",
       "    }\n",
       "\n",
       "    .dataframe tbody tr th {\n",
       "        vertical-align: top;\n",
       "    }\n",
       "\n",
       "    .dataframe thead th {\n",
       "        text-align: right;\n",
       "    }\n",
       "</style>\n",
       "<table border=\"1\" class=\"dataframe\">\n",
       "  <thead>\n",
       "    <tr style=\"text-align: right;\">\n",
       "      <th></th>\n",
       "      <th>Internalpatientid</th>\n",
       "      <th>age_at_measurement_max</th>\n",
       "      <th>age_at_measurement_min</th>\n",
       "      <th>Measurement</th>\n",
       "      <th>Age at death</th>\n",
       "      <th>Death date</th>\n",
       "      <th>death</th>\n",
       "    </tr>\n",
       "  </thead>\n",
       "  <tbody>\n",
       "    <tr>\n",
       "      <th>0</th>\n",
       "      <td>1</td>\n",
       "      <td>80.208139</td>\n",
       "      <td>57.839843</td>\n",
       "      <td>[TOT. BILIRUBIN_1.3418510576392229, CO2_26.0, ...</td>\n",
       "      <td>NaN</td>\n",
       "      <td>NaT</td>\n",
       "      <td>0.0</td>\n",
       "    </tr>\n",
       "    <tr>\n",
       "      <th>1</th>\n",
       "      <td>2</td>\n",
       "      <td>69.529787</td>\n",
       "      <td>48.238772</td>\n",
       "      <td>[WBC_11.707744269279152, MPV_9.663380784560669...</td>\n",
       "      <td>NaN</td>\n",
       "      <td>NaT</td>\n",
       "      <td>0.0</td>\n",
       "    </tr>\n",
       "    <tr>\n",
       "      <th>2</th>\n",
       "      <td>3</td>\n",
       "      <td>82.283766</td>\n",
       "      <td>78.166309</td>\n",
       "      <td>[CALCIUM (4/04 - 11/08)_9.99855586847918, GLUC...</td>\n",
       "      <td>82.284691</td>\n",
       "      <td>2005-10-12 01:18:21</td>\n",
       "      <td>1.0</td>\n",
       "    </tr>\n",
       "    <tr>\n",
       "      <th>3</th>\n",
       "      <td>4</td>\n",
       "      <td>84.187139</td>\n",
       "      <td>70.280541</td>\n",
       "      <td>[A1C HGB_10.092643118075156, GLYCO HGB_12.1690...</td>\n",
       "      <td>84.190359</td>\n",
       "      <td>2015-02-24 13:49:53</td>\n",
       "      <td>1.0</td>\n",
       "    </tr>\n",
       "    <tr>\n",
       "      <th>4</th>\n",
       "      <td>5</td>\n",
       "      <td>76.507076</td>\n",
       "      <td>73.679830</td>\n",
       "      <td>[Hgb_15.792592104865944, MONO  %_10.2993140918...</td>\n",
       "      <td>76.506124</td>\n",
       "      <td>2004-11-04 23:43:20</td>\n",
       "      <td>1.0</td>\n",
       "    </tr>\n",
       "  </tbody>\n",
       "</table>\n",
       "</div>"
      ],
      "text/plain": [
       "   Internalpatientid  age_at_measurement_max  age_at_measurement_min  \\\n",
       "0                  1               80.208139               57.839843   \n",
       "1                  2               69.529787               48.238772   \n",
       "2                  3               82.283766               78.166309   \n",
       "3                  4               84.187139               70.280541   \n",
       "4                  5               76.507076               73.679830   \n",
       "\n",
       "                                         Measurement  Age at death  \\\n",
       "0  [TOT. BILIRUBIN_1.3418510576392229, CO2_26.0, ...           NaN   \n",
       "1  [WBC_11.707744269279152, MPV_9.663380784560669...           NaN   \n",
       "2  [CALCIUM (4/04 - 11/08)_9.99855586847918, GLUC...     82.284691   \n",
       "3  [A1C HGB_10.092643118075156, GLYCO HGB_12.1690...     84.190359   \n",
       "4  [Hgb_15.792592104865944, MONO  %_10.2993140918...     76.506124   \n",
       "\n",
       "           Death date  death  \n",
       "0                 NaT    0.0  \n",
       "1                 NaT    0.0  \n",
       "2 2005-10-12 01:18:21    1.0  \n",
       "3 2015-02-24 13:49:53    1.0  \n",
       "4 2004-11-04 23:43:20    1.0  "
      ]
     },
     "execution_count": 34,
     "metadata": {},
     "output_type": "execute_result"
    }
   ],
   "source": [
    "merge_condition_death_left.head() # alive patients are filled with \"0\""
   ]
  },
  {
   "cell_type": "markdown",
   "metadata": {},
   "source": [
    "# Visualising the dead and alive patients"
   ]
  },
  {
   "cell_type": "code",
   "execution_count": 35,
   "metadata": {},
   "outputs": [
    {
     "data": {
      "text/plain": [
       "1.0    94823\n",
       "0.0    35622\n",
       "Name: death, dtype: int64"
      ]
     },
     "execution_count": 35,
     "metadata": {},
     "output_type": "execute_result"
    }
   ],
   "source": [
    "merge_condition_death_left['death'].value_counts()"
   ]
  }
 ],
 "metadata": {
  "kernelspec": {
   "display_name": "Python 3.8 - AzureML",
   "language": "python",
   "name": "python38-azureml"
  },
  "language_info": {
   "codemirror_mode": {
    "name": "ipython",
    "version": 3
   },
   "file_extension": ".py",
   "mimetype": "text/x-python",
   "name": "python",
   "nbconvert_exporter": "python",
   "pygments_lexer": "ipython3",
   "version": "3.8.5"
  }
 },
 "nbformat": 4,
 "nbformat_minor": 4
}
