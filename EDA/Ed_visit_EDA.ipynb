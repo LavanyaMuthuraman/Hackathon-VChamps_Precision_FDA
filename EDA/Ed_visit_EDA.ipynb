{
  "cells": [
    {
      "cell_type": "code",
      "source": [
        "from azureml.core import Workspace, Dataset\r\n",
        "\r\n",
        "subscription_id = 'bcfe0c62-8ebe-4df0-a46d-1efcf8739a5b'\r\n",
        "resource_group = 'VChamp-Team3'\r\n",
        "workspace_name = 'vchamp-team3'\r\n",
        "\r\n",
        "\r\n",
        "# storage account : Algorithmia, Resource group: VChamp-Team3 and workspace: vchamp-team3.\r\n",
        "\r\n",
        "workspace = Workspace(subscription_id, resource_group, workspace_name)"
      ],
      "outputs": [],
      "execution_count": 1,
      "metadata": {
        "gather": {
          "logged": 1688370092141
        }
      }
    },
    {
      "cell_type": "code",
      "source": [
        "#['data_team3_synthetic_quality_check']\r\n",
        "datastore = workspace.datastores['data_team3_synthetic_train']"
      ],
      "outputs": [],
      "execution_count": 2,
      "metadata": {
        "jupyter": {
          "source_hidden": false,
          "outputs_hidden": false
        },
        "nteract": {
          "transient": {
            "deleting": false
          }
        },
        "gather": {
          "logged": 1688370094631
        }
      }
    },
    {
      "cell_type": "code",
      "source": [
        "dataset = Dataset.Tabular.from_delimited_files(path = [(datastore, 'ed_visits_train.csv')])\r\n",
        "\r\n",
        "# preview the first 3 rows of the dataset\r\n",
        "# dataset.to_pandas_dataframe()"
      ],
      "outputs": [],
      "execution_count": 3,
      "metadata": {
        "jupyter": {
          "source_hidden": false,
          "outputs_hidden": false
        },
        "nteract": {
          "transient": {
            "deleting": false
          }
        },
        "gather": {
          "logged": 1688370100856
        }
      }
    },
    {
      "cell_type": "code",
      "source": [
        "ed_visit = dataset.to_pandas_dataframe()"
      ],
      "outputs": [],
      "execution_count": 4,
      "metadata": {
        "jupyter": {
          "source_hidden": false,
          "outputs_hidden": false
        },
        "nteract": {
          "transient": {
            "deleting": false
          }
        },
        "gather": {
          "logged": 1688370107030
        }
      }
    },
    {
      "cell_type": "code",
      "source": [
        "type(ed_visit)"
      ],
      "outputs": [
        {
          "output_type": "execute_result",
          "execution_count": 5,
          "data": {
            "text/plain": "pandas.core.frame.DataFrame"
          },
          "metadata": {}
        }
      ],
      "execution_count": 5,
      "metadata": {
        "jupyter": {
          "source_hidden": false,
          "outputs_hidden": false
        },
        "nteract": {
          "transient": {
            "deleting": false
          }
        },
        "gather": {
          "logged": 1688370108592
        }
      }
    },
    {
      "cell_type": "markdown",
      "source": [
        "### **Listing all the features of \"ED Visits\" files.**\r\n",
        "\r\n",
        "**ED** - A hospital emergency department visit is a direct personal exchange between a patient and either a physician or a health care provider working under the physician's supervision, for the purpose of seeking care and receiving personal health services. Internalpatientid - Unique id of the patients.\r\n",
        "\r\n",
        "**Age at ed visit** - Age of the patient at the ed(Emergency department) visit.\r\n",
        "\r\n",
        "**Ed visit start date** - Patient visiting the Emergency department(time is recorded).\r\n",
        "\r\n",
        "**Discharge date ed** - Patient getting discharged from the emergency department.(time is recorded).\r\n",
        "\r\n",
        "**Died during ed visit** - Patient died during the ED visit .\r\n",
        "\r\n",
        "**First listed diagnosis icd10 subcategory** - The category describes the general type of the injury or disease at first\r\n",
        "\r\n",
        "**Second listed diagnosis icd10 subcategory** - The category describes the general type of the injury or disease in the second list.\r\n",
        "\r\n",
        "**State **- Name of the states."
      ],
      "metadata": {
        "nteract": {
          "transient": {
            "deleting": false
          }
        }
      }
    },
    {
      "cell_type": "code",
      "source": [
        "import pandas as pd\r\n",
        "import numpy as np\r\n",
        "import matplotlib.pyplot as plt\r\n",
        "import seaborn as sns"
      ],
      "outputs": [],
      "execution_count": 6,
      "metadata": {
        "jupyter": {
          "source_hidden": false,
          "outputs_hidden": false
        },
        "nteract": {
          "transient": {
            "deleting": false
          }
        },
        "gather": {
          "logged": 1688370114643
        }
      }
    },
    {
      "cell_type": "code",
      "source": [
        "ed_visit.head()"
      ],
      "outputs": [
        {
          "output_type": "execute_result",
          "execution_count": 7,
          "data": {
            "text/plain": "   Column1  Internalpatientid  Age at ed visit Ed visit start date  \\\n0        0             101689        64.361251 2021-08-26 00:53:30   \n1        3             107210        71.317300 2022-05-18 11:21:28   \n2        4             107866        61.164579 2017-06-26 15:41:11   \n3        5             107906        66.101996 2017-02-17 06:42:34   \n4        6             108522        73.598130 2018-09-30 02:47:49   \n\n    Discharge date ed  Died during ed visit  \\\n0 2021-08-26 04:24:27                 False   \n1 2022-05-18 18:30:21                 False   \n2 2017-06-26 23:33:50                 False   \n3 2017-02-17 08:08:28                 False   \n4 2018-09-30 04:28:57                 False   \n\n            First listed diagnosis icd10 subcategory  \\\n0                Systolic (congestive) heart failure   \n1                       Sepsis, unspecified organism   \n2   Other nonspecific abnormal finding of lung field   \n3                                            Dysuria   \n4  Type 2 diabetes mellitus with circulatory comp...   \n\n           Second listed diagnosis icd10 subcategory          State  \n0                Chronic kidney disease, unspecified       Virginia  \n1                           Hypotension, unspecified  West Virginia  \n2                           Hypotension, unspecified   Pennsylvania  \n3                Chronic kidney disease, unspecified       New York  \n4  Type 2 diabetes mellitus with unspecified comp...       Illinois  ",
            "text/html": "<div>\n<style scoped>\n    .dataframe tbody tr th:only-of-type {\n        vertical-align: middle;\n    }\n\n    .dataframe tbody tr th {\n        vertical-align: top;\n    }\n\n    .dataframe thead th {\n        text-align: right;\n    }\n</style>\n<table border=\"1\" class=\"dataframe\">\n  <thead>\n    <tr style=\"text-align: right;\">\n      <th></th>\n      <th>Column1</th>\n      <th>Internalpatientid</th>\n      <th>Age at ed visit</th>\n      <th>Ed visit start date</th>\n      <th>Discharge date ed</th>\n      <th>Died during ed visit</th>\n      <th>First listed diagnosis icd10 subcategory</th>\n      <th>Second listed diagnosis icd10 subcategory</th>\n      <th>State</th>\n    </tr>\n  </thead>\n  <tbody>\n    <tr>\n      <th>0</th>\n      <td>0</td>\n      <td>101689</td>\n      <td>64.361251</td>\n      <td>2021-08-26 00:53:30</td>\n      <td>2021-08-26 04:24:27</td>\n      <td>False</td>\n      <td>Systolic (congestive) heart failure</td>\n      <td>Chronic kidney disease, unspecified</td>\n      <td>Virginia</td>\n    </tr>\n    <tr>\n      <th>1</th>\n      <td>3</td>\n      <td>107210</td>\n      <td>71.317300</td>\n      <td>2022-05-18 11:21:28</td>\n      <td>2022-05-18 18:30:21</td>\n      <td>False</td>\n      <td>Sepsis, unspecified organism</td>\n      <td>Hypotension, unspecified</td>\n      <td>West Virginia</td>\n    </tr>\n    <tr>\n      <th>2</th>\n      <td>4</td>\n      <td>107866</td>\n      <td>61.164579</td>\n      <td>2017-06-26 15:41:11</td>\n      <td>2017-06-26 23:33:50</td>\n      <td>False</td>\n      <td>Other nonspecific abnormal finding of lung field</td>\n      <td>Hypotension, unspecified</td>\n      <td>Pennsylvania</td>\n    </tr>\n    <tr>\n      <th>3</th>\n      <td>5</td>\n      <td>107906</td>\n      <td>66.101996</td>\n      <td>2017-02-17 06:42:34</td>\n      <td>2017-02-17 08:08:28</td>\n      <td>False</td>\n      <td>Dysuria</td>\n      <td>Chronic kidney disease, unspecified</td>\n      <td>New York</td>\n    </tr>\n    <tr>\n      <th>4</th>\n      <td>6</td>\n      <td>108522</td>\n      <td>73.598130</td>\n      <td>2018-09-30 02:47:49</td>\n      <td>2018-09-30 04:28:57</td>\n      <td>False</td>\n      <td>Type 2 diabetes mellitus with circulatory comp...</td>\n      <td>Type 2 diabetes mellitus with unspecified comp...</td>\n      <td>Illinois</td>\n    </tr>\n  </tbody>\n</table>\n</div>"
          },
          "metadata": {}
        }
      ],
      "execution_count": 7,
      "metadata": {
        "jupyter": {
          "source_hidden": false,
          "outputs_hidden": false
        },
        "nteract": {
          "transient": {
            "deleting": false
          }
        },
        "gather": {
          "logged": 1688370117104
        }
      }
    },
    {
      "cell_type": "code",
      "source": [
        "#initial shape of dataframe\r\n",
        "ed_visit.shape"
      ],
      "outputs": [
        {
          "output_type": "execute_result",
          "execution_count": 8,
          "data": {
            "text/plain": "(549857, 9)"
          },
          "metadata": {}
        }
      ],
      "execution_count": 8,
      "metadata": {
        "jupyter": {
          "source_hidden": false,
          "outputs_hidden": false
        },
        "nteract": {
          "transient": {
            "deleting": false
          }
        },
        "gather": {
          "logged": 1688370121100
        }
      }
    },
    {
      "cell_type": "code",
      "source": [
        "ed_visit.info()"
      ],
      "outputs": [
        {
          "output_type": "stream",
          "name": "stdout",
          "text": "<class 'pandas.core.frame.DataFrame'>\nRangeIndex: 549857 entries, 0 to 549856\nData columns (total 9 columns):\n #   Column                                     Non-Null Count   Dtype         \n---  ------                                     --------------   -----         \n 0   Column1                                    549857 non-null  int64         \n 1   Internalpatientid                          549857 non-null  int64         \n 2   Age at ed visit                            549857 non-null  float64       \n 3   Ed visit start date                        549857 non-null  datetime64[ns]\n 4   Discharge date ed                          549779 non-null  datetime64[ns]\n 5   Died during ed visit                       549857 non-null  bool          \n 6   First listed diagnosis icd10 subcategory   549857 non-null  object        \n 7   Second listed diagnosis icd10 subcategory  549857 non-null  object        \n 8   State                                      549857 non-null  object        \ndtypes: bool(1), datetime64[ns](2), float64(1), int64(2), object(3)\nmemory usage: 34.1+ MB\n"
        }
      ],
      "execution_count": 9,
      "metadata": {
        "jupyter": {
          "source_hidden": false,
          "outputs_hidden": false
        },
        "nteract": {
          "transient": {
            "deleting": false
          }
        },
        "gather": {
          "logged": 1688370131667
        }
      }
    },
    {
      "cell_type": "code",
      "source": [
        "ed_visit.nunique()"
      ],
      "outputs": [
        {
          "output_type": "execute_result",
          "execution_count": 10,
          "data": {
            "text/plain": "Column1                                      549857\nInternalpatientid                             58240\nAge at ed visit                              549733\nEd visit start date                          549068\nDischarge date ed                            549428\nDied during ed visit                              2\nFirst listed diagnosis icd10 subcategory       3645\nSecond listed diagnosis icd10 subcategory      3060\nState                                            48\ndtype: int64"
          },
          "metadata": {}
        }
      ],
      "execution_count": 10,
      "metadata": {
        "jupyter": {
          "source_hidden": false,
          "outputs_hidden": false
        },
        "nteract": {
          "transient": {
            "deleting": false
          }
        },
        "gather": {
          "logged": 1688370169582
        }
      }
    },
    {
      "cell_type": "markdown",
      "source": [
        "##### **Dropping the Unnecessary columns from the data-frame \"Column1\",\"Ed visit start date\",\"Ed visit start date\"**"
      ],
      "metadata": {
        "nteract": {
          "transient": {
            "deleting": false
          }
        }
      }
    },
    {
      "cell_type": "code",
      "source": [
        "ed_visit.drop(['Column1','Ed visit start date','Discharge date ed'], axis = 1,inplace = True)\r\n",
        "ed_visit.head()"
      ],
      "outputs": [
        {
          "output_type": "execute_result",
          "execution_count": 10,
          "data": {
            "text/plain": "   Internalpatientid  Age at ed visit  Died during ed visit  \\\n0             101689        64.361251                 False   \n1             107210        71.317300                 False   \n2             107866        61.164579                 False   \n3             107906        66.101996                 False   \n4             108522        73.598130                 False   \n\n            First listed diagnosis icd10 subcategory  \\\n0                Systolic (congestive) heart failure   \n1                       Sepsis, unspecified organism   \n2   Other nonspecific abnormal finding of lung field   \n3                                            Dysuria   \n4  Type 2 diabetes mellitus with circulatory comp...   \n\n           Second listed diagnosis icd10 subcategory          State  \n0                Chronic kidney disease, unspecified       Virginia  \n1                           Hypotension, unspecified  West Virginia  \n2                           Hypotension, unspecified   Pennsylvania  \n3                Chronic kidney disease, unspecified       New York  \n4  Type 2 diabetes mellitus with unspecified comp...       Illinois  ",
            "text/html": "<div>\n<style scoped>\n    .dataframe tbody tr th:only-of-type {\n        vertical-align: middle;\n    }\n\n    .dataframe tbody tr th {\n        vertical-align: top;\n    }\n\n    .dataframe thead th {\n        text-align: right;\n    }\n</style>\n<table border=\"1\" class=\"dataframe\">\n  <thead>\n    <tr style=\"text-align: right;\">\n      <th></th>\n      <th>Internalpatientid</th>\n      <th>Age at ed visit</th>\n      <th>Died during ed visit</th>\n      <th>First listed diagnosis icd10 subcategory</th>\n      <th>Second listed diagnosis icd10 subcategory</th>\n      <th>State</th>\n    </tr>\n  </thead>\n  <tbody>\n    <tr>\n      <th>0</th>\n      <td>101689</td>\n      <td>64.361251</td>\n      <td>False</td>\n      <td>Systolic (congestive) heart failure</td>\n      <td>Chronic kidney disease, unspecified</td>\n      <td>Virginia</td>\n    </tr>\n    <tr>\n      <th>1</th>\n      <td>107210</td>\n      <td>71.317300</td>\n      <td>False</td>\n      <td>Sepsis, unspecified organism</td>\n      <td>Hypotension, unspecified</td>\n      <td>West Virginia</td>\n    </tr>\n    <tr>\n      <th>2</th>\n      <td>107866</td>\n      <td>61.164579</td>\n      <td>False</td>\n      <td>Other nonspecific abnormal finding of lung field</td>\n      <td>Hypotension, unspecified</td>\n      <td>Pennsylvania</td>\n    </tr>\n    <tr>\n      <th>3</th>\n      <td>107906</td>\n      <td>66.101996</td>\n      <td>False</td>\n      <td>Dysuria</td>\n      <td>Chronic kidney disease, unspecified</td>\n      <td>New York</td>\n    </tr>\n    <tr>\n      <th>4</th>\n      <td>108522</td>\n      <td>73.598130</td>\n      <td>False</td>\n      <td>Type 2 diabetes mellitus with circulatory comp...</td>\n      <td>Type 2 diabetes mellitus with unspecified comp...</td>\n      <td>Illinois</td>\n    </tr>\n  </tbody>\n</table>\n</div>"
          },
          "metadata": {}
        }
      ],
      "execution_count": 10,
      "metadata": {
        "jupyter": {
          "source_hidden": false,
          "outputs_hidden": false
        },
        "nteract": {
          "transient": {
            "deleting": false
          }
        },
        "gather": {
          "logged": 1688285946921
        }
      }
    },
    {
      "cell_type": "code",
      "source": [
        "# checking the duplicate values\r\n",
        "duplicate = ed_visit.duplicated('Internalpatientid')"
      ],
      "outputs": [],
      "execution_count": 14,
      "metadata": {
        "jupyter": {
          "source_hidden": false,
          "outputs_hidden": false
        },
        "nteract": {
          "transient": {
            "deleting": false
          }
        },
        "gather": {
          "logged": 1688285971945
        }
      }
    },
    {
      "cell_type": "code",
      "source": [
        "if duplicate.any():\r\n",
        "  print(\"Duplicates found in the 'Internalpatientid' column\")\r\n",
        "else:\r\n",
        "  print(\"No Duplicates found in the 'Internalpatientid' column\")"
      ],
      "outputs": [
        {
          "output_type": "stream",
          "name": "stdout",
          "text": "Duplicates found in the 'Internalpatientid' column\n"
        }
      ],
      "execution_count": 15,
      "metadata": {
        "jupyter": {
          "source_hidden": false,
          "outputs_hidden": false
        },
        "nteract": {
          "transient": {
            "deleting": false
          }
        },
        "gather": {
          "logged": 1688285973783
        }
      }
    },
    {
      "cell_type": "code",
      "source": [
        "duplicate.sum()"
      ],
      "outputs": [
        {
          "output_type": "execute_result",
          "execution_count": 16,
          "data": {
            "text/plain": "491617"
          },
          "metadata": {}
        }
      ],
      "execution_count": 16,
      "metadata": {
        "jupyter": {
          "source_hidden": false,
          "outputs_hidden": false
        },
        "nteract": {
          "transient": {
            "deleting": false
          }
        },
        "gather": {
          "logged": 1688285976247
        }
      }
    },
    {
      "cell_type": "code",
      "source": [
        "ed_visit.columns"
      ],
      "outputs": [
        {
          "output_type": "execute_result",
          "execution_count": 17,
          "data": {
            "text/plain": "Index(['Internalpatientid', 'Age at ed visit', 'Died during ed visit',\n       'First listed diagnosis icd10 subcategory',\n       'Second listed diagnosis icd10 subcategory', 'State'],\n      dtype='object')"
          },
          "metadata": {}
        }
      ],
      "execution_count": 17,
      "metadata": {
        "jupyter": {
          "source_hidden": false,
          "outputs_hidden": false
        },
        "nteract": {
          "transient": {
            "deleting": false
          }
        },
        "gather": {
          "logged": 1688285978857
        }
      }
    },
    {
      "cell_type": "code",
      "source": [
        "ed_visit.describe(include=['object'])"
      ],
      "outputs": [
        {
          "output_type": "execute_result",
          "execution_count": 18,
          "data": {
            "text/plain": "       First listed diagnosis icd10 subcategory  \\\ncount                                    549857   \nunique                                     3645   \ntop                               Not specified   \nfreq                                     262426   \n\n       Second listed diagnosis icd10 subcategory       State  \ncount                                     549857      549857  \nunique                                      3060          48  \ntop                                Not specified  California  \nfreq                                      433937       44354  ",
            "text/html": "<div>\n<style scoped>\n    .dataframe tbody tr th:only-of-type {\n        vertical-align: middle;\n    }\n\n    .dataframe tbody tr th {\n        vertical-align: top;\n    }\n\n    .dataframe thead th {\n        text-align: right;\n    }\n</style>\n<table border=\"1\" class=\"dataframe\">\n  <thead>\n    <tr style=\"text-align: right;\">\n      <th></th>\n      <th>First listed diagnosis icd10 subcategory</th>\n      <th>Second listed diagnosis icd10 subcategory</th>\n      <th>State</th>\n    </tr>\n  </thead>\n  <tbody>\n    <tr>\n      <th>count</th>\n      <td>549857</td>\n      <td>549857</td>\n      <td>549857</td>\n    </tr>\n    <tr>\n      <th>unique</th>\n      <td>3645</td>\n      <td>3060</td>\n      <td>48</td>\n    </tr>\n    <tr>\n      <th>top</th>\n      <td>Not specified</td>\n      <td>Not specified</td>\n      <td>California</td>\n    </tr>\n    <tr>\n      <th>freq</th>\n      <td>262426</td>\n      <td>433937</td>\n      <td>44354</td>\n    </tr>\n  </tbody>\n</table>\n</div>"
          },
          "metadata": {}
        }
      ],
      "execution_count": 18,
      "metadata": {
        "jupyter": {
          "source_hidden": false,
          "outputs_hidden": false
        },
        "nteract": {
          "transient": {
            "deleting": false
          }
        },
        "gather": {
          "logged": 1688285981701
        }
      }
    },
    {
      "cell_type": "markdown",
      "source": [
        "**First listed diagnosis icd10 subcategory have 3645 distinct values & mostly are \"Not specified.**\r\n",
        "\r\n",
        "**Second listed diagnosis icd10 subcategory have 3060 distinct values and mostly are \"Not Specified.**"
      ],
      "metadata": {
        "nteract": {
          "transient": {
            "deleting": false
          }
        }
      }
    },
    {
      "cell_type": "code",
      "source": [
        "# checking the null values\r\n",
        "\r\n",
        "ed_visit.isnull().sum()"
      ],
      "outputs": [
        {
          "output_type": "execute_result",
          "execution_count": 19,
          "data": {
            "text/plain": "Internalpatientid                            0\nAge at ed visit                              0\nDied during ed visit                         0\nFirst listed diagnosis icd10 subcategory     0\nSecond listed diagnosis icd10 subcategory    0\nState                                        0\ndtype: int64"
          },
          "metadata": {}
        }
      ],
      "execution_count": 19,
      "metadata": {
        "jupyter": {
          "source_hidden": false,
          "outputs_hidden": false
        },
        "nteract": {
          "transient": {
            "deleting": false
          }
        },
        "gather": {
          "logged": 1688285984896
        }
      }
    },
    {
      "cell_type": "markdown",
      "source": [
        "**There are no null values are present in the dataframe**"
      ],
      "metadata": {
        "nteract": {
          "transient": {
            "deleting": false
          }
        }
      }
    },
    {
      "cell_type": "markdown",
      "source": [
        "### **Univariate Analysis**"
      ],
      "metadata": {
        "nteract": {
          "transient": {
            "deleting": false
          }
        }
      }
    },
    {
      "cell_type": "markdown",
      "source": [
        "**Getting the basic satistics out the date like min, max and mean from the Age column**"
      ],
      "metadata": {
        "nteract": {
          "transient": {
            "deleting": false
          }
        }
      }
    },
    {
      "cell_type": "markdown",
      "source": [
        "### **1. Age Histogram**"
      ],
      "metadata": {
        "nteract": {
          "transient": {
            "deleting": false
          }
        }
      }
    },
    {
      "cell_type": "code",
      "source": [
        "print(ed_visit['Age at ed visit'].max())\r\n",
        "print(ed_visit['Age at ed visit'].min())\r\n",
        "print(ed_visit['Age at ed visit'].mean())"
      ],
      "outputs": [
        {
          "output_type": "stream",
          "name": "stdout",
          "text": "108.576240500076\n18.342004547296952\n70.0342161436122\n"
        }
      ],
      "execution_count": 20,
      "metadata": {
        "jupyter": {
          "source_hidden": false,
          "outputs_hidden": false
        },
        "nteract": {
          "transient": {
            "deleting": false
          }
        },
        "gather": {
          "logged": 1688285989421
        }
      }
    },
    {
      "cell_type": "markdown",
      "source": [
        "**Maximum age of the patient is 108**\r\n",
        "\r\n",
        "**Minimum age of the patient is 18**\r\n",
        "\r\n",
        "**Mean of the age column is 70**"
      ],
      "metadata": {
        "nteract": {
          "transient": {
            "deleting": false
          }
        }
      }
    },
    {
      "cell_type": "code",
      "source": [
        "# Plot the distribution of age at ed visit\r\n",
        "\r\n",
        "plt.figure(figsize=(8,6))\r\n",
        "plt.hist(ed_visit['Age at ed visit'], bins = 30)\r\n",
        "plt.xlabel('Age at ED Visit')\r\n",
        "plt.ylabel('Frequency')\r\n",
        "plt.title('Age at ED Visit Distribution')\r\n",
        "plt.show()"
      ],
      "outputs": [
        {
          "output_type": "display_data",
          "data": {
            "text/plain": "<Figure size 800x600 with 1 Axes>",
            "image/png": "[encoded data removed]"
          },
          "metadata": {}
        }
      ],
      "execution_count": 21,
      "metadata": {
        "jupyter": {
          "source_hidden": false,
          "outputs_hidden": false
        },
        "nteract": {
          "transient": {
            "deleting": false
          }
        },
        "gather": {
          "logged": 1688285994276
        }
      }
    },
    {
      "cell_type": "markdown",
      "source": [
        "**Finding the Unique values in the column**\r\n",
        "\r\n",
        "**1.First listed diagnosis icd10 subcategory**\r\n",
        "\r\n",
        "**2.Second listed diagnosis icd10 subcategory**\r\n",
        "\r\n",
        "**3.Died during ed visit**"
      ],
      "metadata": {
        "nteract": {
          "transient": {
            "deleting": false
          }
        }
      }
    },
    {
      "cell_type": "code",
      "source": [
        "ed_visit['First listed diagnosis icd10 subcategory'].nunique()"
      ],
      "outputs": [
        {
          "output_type": "execute_result",
          "execution_count": 24,
          "data": {
            "text/plain": "3645"
          },
          "metadata": {}
        }
      ],
      "execution_count": 24,
      "metadata": {
        "jupyter": {
          "source_hidden": false,
          "outputs_hidden": false
        },
        "nteract": {
          "transient": {
            "deleting": false
          }
        },
        "gather": {
          "logged": 1688286039076
        }
      }
    },
    {
      "cell_type": "code",
      "source": [
        "ed_visit['First listed diagnosis icd10 subcategory'].value_counts().head(10)"
      ],
      "outputs": [
        {
          "output_type": "execute_result",
          "execution_count": 11,
          "data": {
            "text/plain": "Not specified                                                      262426\nChest pain, unspecified                                             10015\nPain in joint                                                        8763\nDyspnea                                                              8312\nSystolic (congestive) heart failure                                  6570\nChronic obstructive pulmonary disease with (acute) exacerbation      6503\nLow back pain                                                        6273\nUrinary tract infection, site not specified                          5644\nPain in limb, hand, foot, fingers and toes                           4905\nAcute bronchitis, unspecified                                        4304\nName: First listed diagnosis icd10 subcategory, dtype: int64"
          },
          "metadata": {}
        }
      ],
      "execution_count": 11,
      "metadata": {
        "jupyter": {
          "source_hidden": false,
          "outputs_hidden": false
        },
        "nteract": {
          "transient": {
            "deleting": false
          }
        },
        "gather": {
          "logged": 1688375325438
        }
      }
    },
    {
      "cell_type": "code",
      "source": [
        "ed_visit['Second listed diagnosis icd10 subcategory'].nunique()"
      ],
      "outputs": [
        {
          "output_type": "execute_result",
          "execution_count": 14,
          "data": {
            "text/plain": "3060"
          },
          "metadata": {}
        }
      ],
      "execution_count": 14,
      "metadata": {
        "jupyter": {
          "source_hidden": false,
          "outputs_hidden": false
        },
        "nteract": {
          "transient": {
            "deleting": false
          }
        },
        "gather": {
          "logged": 1688375366422
        }
      }
    },
    {
      "cell_type": "code",
      "source": [
        "ed_visit['Second listed diagnosis icd10 subcategory'].value_counts().head(10)"
      ],
      "outputs": [
        {
          "output_type": "execute_result",
          "execution_count": 16,
          "data": {
            "text/plain": "Not specified                                                                  433937\nEssential (primary) hypertension                                                 2956\nDyspnea                                                                          2494\nUrinary tract infection, site not specified                                      1951\nSystolic (congestive) heart failure                                              1950\nPain in joint                                                                    1734\nChronic obstructive pulmonary disease, unspecified                               1658\nLong term (current) use of anticoagulants and antithrombotics/antiplatelets      1538\nUnspecified atrial fibrillation and atrial flutter                               1499\nChest pain, unspecified                                                          1449\nName: Second listed diagnosis icd10 subcategory, dtype: int64"
          },
          "metadata": {}
        }
      ],
      "execution_count": 16,
      "metadata": {
        "jupyter": {
          "source_hidden": false,
          "outputs_hidden": false
        },
        "nteract": {
          "transient": {
            "deleting": false
          }
        },
        "gather": {
          "logged": 1688375380121
        }
      }
    },
    {
      "cell_type": "markdown",
      "source": [
        "**1. In First listed diagnosis icd10 subcategory we have 3645 unique categories.**\r\n",
        "\r\n",
        "**2. \"Not Specified\" category having 262426 count(highly frequent) and on second we have \"chest pain\" having 10015 counts.**\r\n",
        "\r\n",
        "**3. In Second listed diagnosis icd10 subcategory we have 3060 unique categories.**\r\n",
        "\r\n",
        "**4.\"Not specified category having 433937 count(highly frequent) and on the second we have Essential hypertension 2956**"
      ],
      "metadata": {
        "nteract": {
          "transient": {
            "deleting": false
          }
        }
      }
    },
    {
      "cell_type": "code",
      "source": [
        "ed_visit['Died during ed visit'].value_counts()"
      ],
      "outputs": [
        {
          "output_type": "execute_result",
          "execution_count": 28,
          "data": {
            "text/plain": "False    549746\nTrue        111\nName: Died during ed visit, dtype: int64"
          },
          "metadata": {}
        }
      ],
      "execution_count": 28,
      "metadata": {
        "jupyter": {
          "source_hidden": false,
          "outputs_hidden": false
        },
        "nteract": {
          "transient": {
            "deleting": false
          }
        },
        "gather": {
          "logged": 1688286058206
        }
      }
    },
    {
      "cell_type": "markdown",
      "source": [
        "**111 people died and 549746 are alive.**"
      ],
      "metadata": {
        "nteract": {
          "transient": {
            "deleting": false
          }
        }
      }
    },
    {
      "cell_type": "code",
      "source": [
        "ed_visit['Died during ed visit'].value_counts(normalize = True)"
      ],
      "outputs": [
        {
          "output_type": "execute_result",
          "execution_count": 29,
          "data": {
            "text/plain": "False    0.999798\nTrue     0.000202\nName: Died during ed visit, dtype: float64"
          },
          "metadata": {}
        }
      ],
      "execution_count": 29,
      "metadata": {
        "jupyter": {
          "source_hidden": false,
          "outputs_hidden": false
        },
        "nteract": {
          "transient": {
            "deleting": false
          }
        },
        "gather": {
          "logged": 1688286061989
        }
      }
    },
    {
      "cell_type": "markdown",
      "source": [
        "**99% of the patients did not died during the ed visit.**"
      ],
      "metadata": {
        "nteract": {
          "transient": {
            "deleting": false
          }
        }
      }
    },
    {
      "cell_type": "markdown",
      "source": [
        "### **2. Died during the Ed visit.**"
      ],
      "metadata": {
        "nteract": {
          "transient": {
            "deleting": false
          }
        }
      }
    },
    {
      "cell_type": "code",
      "source": [
        "# Analyze the distrbution of died during ed visit\r\n",
        "\r\n",
        "dies_during_visit_counts = ed_visit['Died during ed visit'].value_counts()\r\n",
        "\r\n",
        "#Plot the distrbution of dies during ed visit\r\n",
        "\r\n",
        "plt.figure(figsize=(8,6))\r\n",
        "dies_during_visit_counts.plot(kind='bar')\r\n",
        "plt.xlabel('Dies during ED visit')\r\n",
        "plt.ylabel('Count')\r\n",
        "plt.title('Distrbution of dies during ed visit')\r\n",
        "plt.show()"
      ],
      "outputs": [
        {
          "output_type": "display_data",
          "data": {
            "text/plain": "<Figure size 800x600 with 1 Axes>",
            "image/png": "[encoded data removed]"
          },
          "metadata": {}
        }
      ],
      "execution_count": 30,
      "metadata": {
        "jupyter": {
          "source_hidden": false,
          "outputs_hidden": false
        },
        "nteract": {
          "transient": {
            "deleting": false
          }
        },
        "gather": {
          "logged": 1688286067126
        }
      }
    },
    {
      "cell_type": "markdown",
      "source": [
        "###### **Get the top N most frequent medical problem categories in \"First listed diagnosis icd10 subcategory\"**"
      ],
      "metadata": {
        "nteract": {
          "transient": {
            "deleting": false
          }
        }
      }
    },
    {
      "cell_type": "markdown",
      "source": [
        "### **3. First listed diagnosis icd10 subcategory**"
      ],
      "metadata": {
        "nteract": {
          "transient": {
            "deleting": false
          }
        }
      }
    },
    {
      "cell_type": "code",
      "source": [
        "# get the top N most frequenct medical problem categories\r\n",
        "\r\n",
        "top_n = 10\r\n",
        "top_categories = ed_visit['First listed diagnosis icd10 subcategory'].value_counts().head(top_n)\r\n",
        "\r\n",
        "#plot the top N medical problem categories\r\n",
        "\r\n",
        "plt.figure(figsize=(10,6))\r\n",
        "top_categories.plot(kind = 'bar')\r\n",
        "plt.xlabel('Medical Problem category')\r\n",
        "plt.ylabel('Count')\r\n",
        "plt.title(f'Top {top_n} medical problem categories')\r\n",
        "plt.show()"
      ],
      "outputs": [
        {
          "output_type": "display_data",
          "data": {
            "text/plain": "<Figure size 1000x600 with 1 Axes>",
            "image/png": "[encoded data removed]"
          },
          "metadata": {}
        }
      ],
      "execution_count": 26,
      "metadata": {
        "jupyter": {
          "source_hidden": false,
          "outputs_hidden": false
        },
        "nteract": {
          "transient": {
            "deleting": false
          }
        },
        "gather": {
          "logged": 1688285646208
        }
      }
    },
    {
      "cell_type": "markdown",
      "source": [
        "###### **Get the top N most frequent medical problem categories in \"Second listed diagnosis icd10 subcategory\" column**"
      ],
      "metadata": {
        "nteract": {
          "transient": {
            "deleting": false
          }
        }
      }
    },
    {
      "cell_type": "markdown",
      "source": [
        "### **4. Second listed diagnosis icd10 subcategory**"
      ],
      "metadata": {
        "nteract": {
          "transient": {
            "deleting": false
          }
        }
      }
    },
    {
      "cell_type": "code",
      "source": [
        "# get the top N most frequenct medical problem categories\r\n",
        "\r\n",
        "top_n = 10\r\n",
        "top_categories = ed_visit['Second listed diagnosis icd10 subcategory'].value_counts().head(top_n)\r\n",
        "\r\n",
        "#plot the top N medical problem categories\r\n",
        "\r\n",
        "plt.figure(figsize=(10,6))\r\n",
        "top_categories.plot(kind = 'bar')\r\n",
        "plt.xlabel('Medical Problem category')\r\n",
        "plt.ylabel('Count')\r\n",
        "plt.title(f'Top {top_n} medical problem categories')\r\n",
        "plt.show()"
      ],
      "outputs": [
        {
          "output_type": "display_data",
          "data": {
            "text/plain": "<Figure size 1000x600 with 1 Axes>",
            "image/png": "[encoded data removed]"
          },
          "metadata": {}
        }
      ],
      "execution_count": 31,
      "metadata": {
        "jupyter": {
          "source_hidden": false,
          "outputs_hidden": false
        },
        "nteract": {
          "transient": {
            "deleting": false
          }
        },
        "gather": {
          "logged": 1688286082601
        }
      }
    },
    {
      "cell_type": "markdown",
      "source": [
        "##### **Occurrences of each state**"
      ],
      "metadata": {
        "nteract": {
          "transient": {
            "deleting": false
          }
        }
      }
    },
    {
      "cell_type": "code",
      "source": [
        "# Count the occurrences of each state\r\n",
        "state_counts = ed_visit[\"State\"].value_counts()\r\n",
        "\r\n",
        "# Define a custom color palette\r\n",
        "custom_palette = [\"#1f77b4\", \"#ff7f0e\", \"#2ca02c\", \"#d62728\", \"#9467bd\", \"#8c564b\", \"#e377c2\", \"#7f7f7f\",\r\n",
        "                  \"#bcbd22\", \"#17becf\", \"#ff9896\", \"#9edae5\", \"#c5b0d5\", \"#8c8c8c\", \"#dbdb8d\", \"#ffbb78\",\r\n",
        "                  \"#f7b6d2\", \"#c7c7c7\", \"#c49c94\", \"#aec7e8\", \"#ffbb78\", \"#98df8a\", \"#ff9896\", \"#dbdb8d\",\r\n",
        "                  \"#17becf\", \"#ff7f0e\", \"#9edae5\", \"#8c564b\", \"#c5b0d5\", \"#c49c94\", \"#ffbb78\", \"#1f77b4\",\r\n",
        "                  \"#98df8a\", \"#aec7e8\", \"#ff9896\", \"#dbdb8d\", \"#ffbb78\", \"#2ca02c\", \"#17becf\", \"#ff7f0e\",\r\n",
        "                  \"#8c564b\", \"#1f77b4\", \"#c7c7c7\", \"#ffbb78\", \"#aec7e8\", \"#98df8a\", \"#2ca02c\", \"#9edae5\",\r\n",
        "                  \"#c49c94\", \"#c5b0d5\", \"#dbdb8d\", \"#ff7f0e\", \"#17becf\", \"#8c8c8c\", \"#ff9896\", \"#7f7f7f\"]\r\n",
        "\r\n",
        "# Bar plot with custom colors\r\n",
        "plt.figure(figsize=(16, 8))\r\n",
        "state_counts.plot(kind=\"bar\", color=custom_palette)\r\n",
        "plt.xlabel(\"State\")\r\n",
        "plt.ylabel(\"Count\")\r\n",
        "plt.title(\"Occurrences of Each State\")\r\n",
        "plt.show()"
      ],
      "outputs": [
        {
          "output_type": "display_data",
          "data": {
            "text/plain": "<Figure size 1600x800 with 1 Axes>",
            "image/png": "[encoded data removed]"
          },
          "metadata": {}
        }
      ],
      "execution_count": 32,
      "metadata": {
        "jupyter": {
          "source_hidden": false,
          "outputs_hidden": false
        },
        "nteract": {
          "transient": {
            "deleting": false
          }
        },
        "gather": {
          "logged": 1688286088301
        }
      }
    },
    {
      "cell_type": "markdown",
      "source": [
        "**Mostly patients are from california, Florida and Texas.**"
      ],
      "metadata": {
        "nteract": {
          "transient": {
            "deleting": false
          }
        }
      }
    },
    {
      "cell_type": "code",
      "source": [
        "# dropping the \"State\" and \"Died during ed visit\" columns not of that use for further analysis\r\n",
        "ed_visit.drop(['State','Died during ed visit'], axis = 1, inplace = True)"
      ],
      "outputs": [],
      "execution_count": 33,
      "metadata": {
        "jupyter": {
          "source_hidden": false,
          "outputs_hidden": false
        },
        "nteract": {
          "transient": {
            "deleting": false
          }
        },
        "gather": {
          "logged": 1688286092166
        }
      }
    },
    {
      "cell_type": "code",
      "source": [
        "ed_visit.head()"
      ],
      "outputs": [
        {
          "output_type": "execute_result",
          "execution_count": 34,
          "data": {
            "text/plain": "   Internalpatientid  Age at ed visit  \\\n0             101689        64.361251   \n1             107210        71.317300   \n2             107866        61.164579   \n3             107906        66.101996   \n4             108522        73.598130   \n\n            First listed diagnosis icd10 subcategory  \\\n0                Systolic (congestive) heart failure   \n1                       Sepsis, unspecified organism   \n2   Other nonspecific abnormal finding of lung field   \n3                                            Dysuria   \n4  Type 2 diabetes mellitus with circulatory comp...   \n\n           Second listed diagnosis icd10 subcategory  \n0                Chronic kidney disease, unspecified  \n1                           Hypotension, unspecified  \n2                           Hypotension, unspecified  \n3                Chronic kidney disease, unspecified  \n4  Type 2 diabetes mellitus with unspecified comp...  ",
            "text/html": "<div>\n<style scoped>\n    .dataframe tbody tr th:only-of-type {\n        vertical-align: middle;\n    }\n\n    .dataframe tbody tr th {\n        vertical-align: top;\n    }\n\n    .dataframe thead th {\n        text-align: right;\n    }\n</style>\n<table border=\"1\" class=\"dataframe\">\n  <thead>\n    <tr style=\"text-align: right;\">\n      <th></th>\n      <th>Internalpatientid</th>\n      <th>Age at ed visit</th>\n      <th>First listed diagnosis icd10 subcategory</th>\n      <th>Second listed diagnosis icd10 subcategory</th>\n    </tr>\n  </thead>\n  <tbody>\n    <tr>\n      <th>0</th>\n      <td>101689</td>\n      <td>64.361251</td>\n      <td>Systolic (congestive) heart failure</td>\n      <td>Chronic kidney disease, unspecified</td>\n    </tr>\n    <tr>\n      <th>1</th>\n      <td>107210</td>\n      <td>71.317300</td>\n      <td>Sepsis, unspecified organism</td>\n      <td>Hypotension, unspecified</td>\n    </tr>\n    <tr>\n      <th>2</th>\n      <td>107866</td>\n      <td>61.164579</td>\n      <td>Other nonspecific abnormal finding of lung field</td>\n      <td>Hypotension, unspecified</td>\n    </tr>\n    <tr>\n      <th>3</th>\n      <td>107906</td>\n      <td>66.101996</td>\n      <td>Dysuria</td>\n      <td>Chronic kidney disease, unspecified</td>\n    </tr>\n    <tr>\n      <th>4</th>\n      <td>108522</td>\n      <td>73.598130</td>\n      <td>Type 2 diabetes mellitus with circulatory comp...</td>\n      <td>Type 2 diabetes mellitus with unspecified comp...</td>\n    </tr>\n  </tbody>\n</table>\n</div>"
          },
          "metadata": {}
        }
      ],
      "execution_count": 34,
      "metadata": {
        "jupyter": {
          "source_hidden": false,
          "outputs_hidden": false
        },
        "nteract": {
          "transient": {
            "deleting": false
          }
        },
        "gather": {
          "logged": 1688286094899
        }
      }
    },
    {
      "cell_type": "markdown",
      "source": [
        "**Now Creating the bucket with the various age ranges and adding 'firsticd-10' & 'second_icd10' to paticular age group range**"
      ],
      "metadata": {
        "nteract": {
          "transient": {
            "deleting": false
          }
        }
      }
    },
    {
      "cell_type": "code",
      "source": [
        "age_ranges = [(20, 29.9),(30.0, 39.9), (40.0, 49.9), (50.0, 59.9), (60.0, 69.9),(70.0, 79.9), (80.0, 89.9), (90.0, 99.9), (100.0, 109.9)]\r\n",
        "\r\n",
        "# Create the new columns based on age ranges\r\n",
        "for range_start, range_end in age_ranges:\r\n",
        "    range_label = f'{range_start}-{range_end}_icd10'\r\n",
        "    second_range_label = f'{range_start}-{range_end}_second_icd10'\r\n",
        "    ed_visit[range_label] = ed_visit.apply(\r\n",
        "        lambda row: row['First listed diagnosis icd10 subcategory'] if range_start <= row['Age at ed visit'] <= range_end else None,\r\n",
        "        axis=1\r\n",
        "    )\r\n",
        "    ed_visit[second_range_label] = ed_visit.apply(\r\n",
        "        lambda row: row['Second listed diagnosis icd10 subcategory'] if range_start <= row['Age at ed visit'] <= range_end else None,\r\n",
        "        axis=1\r\n",
        "    )\r\n",
        "\r\n",
        "# Group the DataFrame by 'Internalpatientid' and concatenate the icd10 values\r\n",
        "df_grouped =ed_visit.groupby('Internalpatientid').agg(lambda x: ','.join(x.dropna()))\r\n",
        "df_grouped\r\n",
        "\r\n",
        "# Reset the index of the grouped DataFrame\r\n",
        "df_grouped= df_grouped.reset_index()\r\n",
        "df_grouped"
      ],
      "outputs": [
        {
          "output_type": "execute_result",
          "execution_count": 35,
          "data": {
            "text/plain": "       Internalpatientid           First listed diagnosis icd10 subcategory  \\\n0                      1  Disorders of calcium metabolism,Combined systo...   \n1                      2  Chest pain, unspecified,Other symptoms and sig...   \n2                      4  Epidemic vertigo,Gastrointestinal hemorrhage, ...   \n3                      8  Other symptoms and signs involving cognitive f...   \n4                     10                        Not specified,Not specified   \n...                  ...                                                ...   \n58235             169050                        Not specified,Not specified   \n58236             169053  Dyspnea,Not specified,Other symptoms and signs...   \n58237             169057  Syncope and collapse,Acute bronchitis due to M...   \n58238             169060  Combined systolic (congestive) and diastolic (...   \n58239             169064                                      Not specified   \n\n               Second listed diagnosis icd10 subcategory 20-29.9_icd10  \\\n0      Not specified,Contusion of hip,Not specified,N...                 \n1      Not specified,Cannabinosis,Not specified,Not s...                 \n2      Other abdominal pain,Not specified,Not specifi...                 \n3              Not specified,Not specified,Not specified                 \n4                            Not specified,Not specified                 \n...                                                  ...           ...   \n58235                        Not specified,Not specified                 \n58236  Not specified,Not specified,Not specified,Adul...                 \n58237  Not specified,Not specified,Other and unspecif...                 \n58238  Not specified,Not specified,Encounter for othe...                 \n58239                                      Not specified                 \n\n      20-29.9_second_icd10 30.0-39.9_icd10 30.0-39.9_second_icd10  \\\n0                                                                   \n1                                                                   \n2                                                                   \n3                                                                   \n4                                                                   \n...                    ...             ...                    ...   \n58235                                                               \n58236                                                               \n58237                                                               \n58238                                                               \n58239                                                               \n\n      40.0-49.9_icd10 40.0-49.9_second_icd10  \\\n0                                              \n1                                              \n2                                              \n3                                              \n4                                              \n...               ...                    ...   \n58235                                          \n58236                                          \n58237                                          \n58238                                          \n58239                                          \n\n                                         50.0-59.9_icd10  ...  \\\n0                                                         ...   \n1      Not specified,Not specified,Not specified,Not ...  ...   \n2                                                         ...   \n3                                          Not specified  ...   \n4                                                         ...   \n...                                                  ...  ...   \n58235                                      Not specified  ...   \n58236                                                     ...   \n58237                                                     ...   \n58238                                                     ...   \n58239                                                     ...   \n\n                                         60.0-69.9_icd10  \\\n0                            Not specified,Not specified   \n1      Chest pain, unspecified,Other symptoms and sig...   \n2                                                          \n3      Other symptoms and signs involving cognitive f...   \n4                            Not specified,Not specified   \n...                                                  ...   \n58235                                      Not specified   \n58236                                                      \n58237                                                      \n58238                                      Not specified   \n58239                                                      \n\n                                  60.0-69.9_second_icd10  \\\n0                            Not specified,Not specified   \n1      Not specified,Cannabinosis,Not specified,Not s...   \n2                                                          \n3                            Not specified,Not specified   \n4                            Not specified,Not specified   \n...                                                  ...   \n58235                                      Not specified   \n58236                                                      \n58237                                                      \n58238                                      Not specified   \n58239                                                      \n\n                                         70.0-79.9_icd10  \\\n0      Disorders of calcium metabolism,Combined systo...   \n1                                                          \n2                                                          \n3                                                          \n4                                                          \n...                                                  ...   \n58235                                                      \n58236  Not specified,Cellulitis and acute lymphangiti...   \n58237  Not specified,Not specified,Not specified,Not ...   \n58238  Combined systolic (congestive) and diastolic (...   \n58239                                                      \n\n                                  70.0-79.9_second_icd10  \\\n0      Not specified,Contusion of hip,Not specified,N...   \n1                                                          \n2                                                          \n3                                                          \n4                                                          \n...                                                  ...   \n58235                                                      \n58236  Not specified,Not specified,Not specified,Not ...   \n58237  Not specified,Not specified,Not specified,Not ...   \n58238  Not specified,Encounter for other general exam...   \n58239                                                      \n\n                                         80.0-89.9_icd10  \\\n0                                                          \n1                                                          \n2      Epidemic vertigo,Gastrointestinal hemorrhage, ...   \n3                                                          \n4                                                          \n...                                                  ...   \n58235                                                      \n58236  Dyspnea,Other symptoms and signs involving cog...   \n58237  Syncope and collapse,Acute bronchitis due to M...   \n58238                                                      \n58239                                      Not specified   \n\n                                  80.0-89.9_second_icd10 90.0-99.9_icd10  \\\n0                                                                          \n1                                                                          \n2      Other abdominal pain,Not specified,Not specifi...                   \n3                                                                          \n4                                                                          \n...                                                  ...             ...   \n58235                                                                      \n58236  Not specified,Not specified,Adult failure to t...                   \n58237  Not specified,Not specified,Other and unspecif...                   \n58238                                                                      \n58239                                      Not specified                   \n\n      90.0-99.9_second_icd10 100.0-109.9_icd10 100.0-109.9_second_icd10  \n0                                                                        \n1                                                                        \n2                                                                        \n3                                                                        \n4                                                                        \n...                      ...               ...                      ...  \n58235                                                                    \n58236                                                                    \n58237                                                                    \n58238                                                                    \n58239                                                                    \n\n[58240 rows x 21 columns]",
            "text/html": "<div>\n<style scoped>\n    .dataframe tbody tr th:only-of-type {\n        vertical-align: middle;\n    }\n\n    .dataframe tbody tr th {\n        vertical-align: top;\n    }\n\n    .dataframe thead th {\n        text-align: right;\n    }\n</style>\n<table border=\"1\" class=\"dataframe\">\n  <thead>\n    <tr style=\"text-align: right;\">\n      <th></th>\n      <th>Internalpatientid</th>\n      <th>First listed diagnosis icd10 subcategory</th>\n      <th>Second listed diagnosis icd10 subcategory</th>\n      <th>20-29.9_icd10</th>\n      <th>20-29.9_second_icd10</th>\n      <th>30.0-39.9_icd10</th>\n      <th>30.0-39.9_second_icd10</th>\n      <th>40.0-49.9_icd10</th>\n      <th>40.0-49.9_second_icd10</th>\n      <th>50.0-59.9_icd10</th>\n      <th>...</th>\n      <th>60.0-69.9_icd10</th>\n      <th>60.0-69.9_second_icd10</th>\n      <th>70.0-79.9_icd10</th>\n      <th>70.0-79.9_second_icd10</th>\n      <th>80.0-89.9_icd10</th>\n      <th>80.0-89.9_second_icd10</th>\n      <th>90.0-99.9_icd10</th>\n      <th>90.0-99.9_second_icd10</th>\n      <th>100.0-109.9_icd10</th>\n      <th>100.0-109.9_second_icd10</th>\n    </tr>\n  </thead>\n  <tbody>\n    <tr>\n      <th>0</th>\n      <td>1</td>\n      <td>Disorders of calcium metabolism,Combined systo...</td>\n      <td>Not specified,Contusion of hip,Not specified,N...</td>\n      <td></td>\n      <td></td>\n      <td></td>\n      <td></td>\n      <td></td>\n      <td></td>\n      <td></td>\n      <td>...</td>\n      <td>Not specified,Not specified</td>\n      <td>Not specified,Not specified</td>\n      <td>Disorders of calcium metabolism,Combined systo...</td>\n      <td>Not specified,Contusion of hip,Not specified,N...</td>\n      <td></td>\n      <td></td>\n      <td></td>\n      <td></td>\n      <td></td>\n      <td></td>\n    </tr>\n    <tr>\n      <th>1</th>\n      <td>2</td>\n      <td>Chest pain, unspecified,Other symptoms and sig...</td>\n      <td>Not specified,Cannabinosis,Not specified,Not s...</td>\n      <td></td>\n      <td></td>\n      <td></td>\n      <td></td>\n      <td></td>\n      <td></td>\n      <td>Not specified,Not specified,Not specified,Not ...</td>\n      <td>...</td>\n      <td>Chest pain, unspecified,Other symptoms and sig...</td>\n      <td>Not specified,Cannabinosis,Not specified,Not s...</td>\n      <td></td>\n      <td></td>\n      <td></td>\n      <td></td>\n      <td></td>\n      <td></td>\n      <td></td>\n      <td></td>\n    </tr>\n    <tr>\n      <th>2</th>\n      <td>4</td>\n      <td>Epidemic vertigo,Gastrointestinal hemorrhage, ...</td>\n      <td>Other abdominal pain,Not specified,Not specifi...</td>\n      <td></td>\n      <td></td>\n      <td></td>\n      <td></td>\n      <td></td>\n      <td></td>\n      <td></td>\n      <td>...</td>\n      <td></td>\n      <td></td>\n      <td></td>\n      <td></td>\n      <td>Epidemic vertigo,Gastrointestinal hemorrhage, ...</td>\n      <td>Other abdominal pain,Not specified,Not specifi...</td>\n      <td></td>\n      <td></td>\n      <td></td>\n      <td></td>\n    </tr>\n    <tr>\n      <th>3</th>\n      <td>8</td>\n      <td>Other symptoms and signs involving cognitive f...</td>\n      <td>Not specified,Not specified,Not specified</td>\n      <td></td>\n      <td></td>\n      <td></td>\n      <td></td>\n      <td></td>\n      <td></td>\n      <td>Not specified</td>\n      <td>...</td>\n      <td>Other symptoms and signs involving cognitive f...</td>\n      <td>Not specified,Not specified</td>\n      <td></td>\n      <td></td>\n      <td></td>\n      <td></td>\n      <td></td>\n      <td></td>\n      <td></td>\n      <td></td>\n    </tr>\n    <tr>\n      <th>4</th>\n      <td>10</td>\n      <td>Not specified,Not specified</td>\n      <td>Not specified,Not specified</td>\n      <td></td>\n      <td></td>\n      <td></td>\n      <td></td>\n      <td></td>\n      <td></td>\n      <td></td>\n      <td>...</td>\n      <td>Not specified,Not specified</td>\n      <td>Not specified,Not specified</td>\n      <td></td>\n      <td></td>\n      <td></td>\n      <td></td>\n      <td></td>\n      <td></td>\n      <td></td>\n      <td></td>\n    </tr>\n    <tr>\n      <th>...</th>\n      <td>...</td>\n      <td>...</td>\n      <td>...</td>\n      <td>...</td>\n      <td>...</td>\n      <td>...</td>\n      <td>...</td>\n      <td>...</td>\n      <td>...</td>\n      <td>...</td>\n      <td>...</td>\n      <td>...</td>\n      <td>...</td>\n      <td>...</td>\n      <td>...</td>\n      <td>...</td>\n      <td>...</td>\n      <td>...</td>\n      <td>...</td>\n      <td>...</td>\n      <td>...</td>\n    </tr>\n    <tr>\n      <th>58235</th>\n      <td>169050</td>\n      <td>Not specified,Not specified</td>\n      <td>Not specified,Not specified</td>\n      <td></td>\n      <td></td>\n      <td></td>\n      <td></td>\n      <td></td>\n      <td></td>\n      <td>Not specified</td>\n      <td>...</td>\n      <td>Not specified</td>\n      <td>Not specified</td>\n      <td></td>\n      <td></td>\n      <td></td>\n      <td></td>\n      <td></td>\n      <td></td>\n      <td></td>\n      <td></td>\n    </tr>\n    <tr>\n      <th>58236</th>\n      <td>169053</td>\n      <td>Dyspnea,Not specified,Other symptoms and signs...</td>\n      <td>Not specified,Not specified,Not specified,Adul...</td>\n      <td></td>\n      <td></td>\n      <td></td>\n      <td></td>\n      <td></td>\n      <td></td>\n      <td></td>\n      <td>...</td>\n      <td></td>\n      <td></td>\n      <td>Not specified,Cellulitis and acute lymphangiti...</td>\n      <td>Not specified,Not specified,Not specified,Not ...</td>\n      <td>Dyspnea,Other symptoms and signs involving cog...</td>\n      <td>Not specified,Not specified,Adult failure to t...</td>\n      <td></td>\n      <td></td>\n      <td></td>\n      <td></td>\n    </tr>\n    <tr>\n      <th>58237</th>\n      <td>169057</td>\n      <td>Syncope and collapse,Acute bronchitis due to M...</td>\n      <td>Not specified,Not specified,Other and unspecif...</td>\n      <td></td>\n      <td></td>\n      <td></td>\n      <td></td>\n      <td></td>\n      <td></td>\n      <td></td>\n      <td>...</td>\n      <td></td>\n      <td></td>\n      <td>Not specified,Not specified,Not specified,Not ...</td>\n      <td>Not specified,Not specified,Not specified,Not ...</td>\n      <td>Syncope and collapse,Acute bronchitis due to M...</td>\n      <td>Not specified,Not specified,Other and unspecif...</td>\n      <td></td>\n      <td></td>\n      <td></td>\n      <td></td>\n    </tr>\n    <tr>\n      <th>58238</th>\n      <td>169060</td>\n      <td>Combined systolic (congestive) and diastolic (...</td>\n      <td>Not specified,Not specified,Encounter for othe...</td>\n      <td></td>\n      <td></td>\n      <td></td>\n      <td></td>\n      <td></td>\n      <td></td>\n      <td></td>\n      <td>...</td>\n      <td>Not specified</td>\n      <td>Not specified</td>\n      <td>Combined systolic (congestive) and diastolic (...</td>\n      <td>Not specified,Encounter for other general exam...</td>\n      <td></td>\n      <td></td>\n      <td></td>\n      <td></td>\n      <td></td>\n      <td></td>\n    </tr>\n    <tr>\n      <th>58239</th>\n      <td>169064</td>\n      <td>Not specified</td>\n      <td>Not specified</td>\n      <td></td>\n      <td></td>\n      <td></td>\n      <td></td>\n      <td></td>\n      <td></td>\n      <td></td>\n      <td>...</td>\n      <td></td>\n      <td></td>\n      <td></td>\n      <td></td>\n      <td>Not specified</td>\n      <td>Not specified</td>\n      <td></td>\n      <td></td>\n      <td></td>\n      <td></td>\n    </tr>\n  </tbody>\n</table>\n<p>58240 rows × 21 columns</p>\n</div>"
          },
          "metadata": {}
        }
      ],
      "execution_count": 35,
      "metadata": {
        "jupyter": {
          "source_hidden": false,
          "outputs_hidden": false
        },
        "nteract": {
          "transient": {
            "deleting": false
          }
        },
        "gather": {
          "logged": 1688286348593
        }
      }
    },
    {
      "cell_type": "markdown",
      "source": [
        "**Out of the 549857 rows, we obtained 58240 rows after establishing the bucketing.**"
      ],
      "metadata": {
        "nteract": {
          "transient": {
            "deleting": false
          }
        }
      }
    },
    {
      "cell_type": "code",
      "source": [
        "# Checking the particular patients id\r\n",
        "fl= df_grouped[df_grouped[\"Internalpatientid\"]==2]\r\n",
        "fl"
      ],
      "outputs": [
        {
          "output_type": "execute_result",
          "execution_count": 37,
          "data": {
            "text/plain": "   Internalpatientid           First listed diagnosis icd10 subcategory  \\\n1                  2  Chest pain, unspecified,Other symptoms and sig...   \n\n           Second listed diagnosis icd10 subcategory 20-29.9_icd10  \\\n1  Not specified,Cannabinosis,Not specified,Not s...           NaN   \n\n  20-29.9_second_icd10 30.0-39.9_icd10 30.0-39.9_second_icd10 40.0-49.9_icd10  \\\n1                  NaN             NaN                    NaN             NaN   \n\n  40.0-49.9_second_icd10                                    50.0-59.9_icd10  \\\n1                    NaN  Not specified,Not specified,Not specified,Not ...   \n\n   ...                                    60.0-69.9_icd10  \\\n1  ...  Chest pain, unspecified,Other symptoms and sig...   \n\n                              60.0-69.9_second_icd10 70.0-79.9_icd10  \\\n1  Not specified,Cannabinosis,Not specified,Not s...             NaN   \n\n  70.0-79.9_second_icd10 80.0-89.9_icd10 80.0-89.9_second_icd10  \\\n1                    NaN             NaN                    NaN   \n\n  90.0-99.9_icd10 90.0-99.9_second_icd10 100.0-109.9_icd10  \\\n1             NaN                    NaN               NaN   \n\n  100.0-109.9_second_icd10  \n1                      NaN  \n\n[1 rows x 21 columns]",
            "text/html": "<div>\n<style scoped>\n    .dataframe tbody tr th:only-of-type {\n        vertical-align: middle;\n    }\n\n    .dataframe tbody tr th {\n        vertical-align: top;\n    }\n\n    .dataframe thead th {\n        text-align: right;\n    }\n</style>\n<table border=\"1\" class=\"dataframe\">\n  <thead>\n    <tr style=\"text-align: right;\">\n      <th></th>\n      <th>Internalpatientid</th>\n      <th>First listed diagnosis icd10 subcategory</th>\n      <th>Second listed diagnosis icd10 subcategory</th>\n      <th>20-29.9_icd10</th>\n      <th>20-29.9_second_icd10</th>\n      <th>30.0-39.9_icd10</th>\n      <th>30.0-39.9_second_icd10</th>\n      <th>40.0-49.9_icd10</th>\n      <th>40.0-49.9_second_icd10</th>\n      <th>50.0-59.9_icd10</th>\n      <th>...</th>\n      <th>60.0-69.9_icd10</th>\n      <th>60.0-69.9_second_icd10</th>\n      <th>70.0-79.9_icd10</th>\n      <th>70.0-79.9_second_icd10</th>\n      <th>80.0-89.9_icd10</th>\n      <th>80.0-89.9_second_icd10</th>\n      <th>90.0-99.9_icd10</th>\n      <th>90.0-99.9_second_icd10</th>\n      <th>100.0-109.9_icd10</th>\n      <th>100.0-109.9_second_icd10</th>\n    </tr>\n  </thead>\n  <tbody>\n    <tr>\n      <th>1</th>\n      <td>2</td>\n      <td>Chest pain, unspecified,Other symptoms and sig...</td>\n      <td>Not specified,Cannabinosis,Not specified,Not s...</td>\n      <td>NaN</td>\n      <td>NaN</td>\n      <td>NaN</td>\n      <td>NaN</td>\n      <td>NaN</td>\n      <td>NaN</td>\n      <td>Not specified,Not specified,Not specified,Not ...</td>\n      <td>...</td>\n      <td>Chest pain, unspecified,Other symptoms and sig...</td>\n      <td>Not specified,Cannabinosis,Not specified,Not s...</td>\n      <td>NaN</td>\n      <td>NaN</td>\n      <td>NaN</td>\n      <td>NaN</td>\n      <td>NaN</td>\n      <td>NaN</td>\n      <td>NaN</td>\n      <td>NaN</td>\n    </tr>\n  </tbody>\n</table>\n<p>1 rows × 21 columns</p>\n</div>"
          },
          "metadata": {}
        }
      ],
      "execution_count": 37,
      "metadata": {
        "jupyter": {
          "source_hidden": false,
          "outputs_hidden": false
        },
        "nteract": {
          "transient": {
            "deleting": false
          }
        },
        "gather": {
          "logged": 1688286457833
        }
      }
    },
    {
      "cell_type": "markdown",
      "source": [
        "**Checking the missing value after creating the bucketing**"
      ],
      "metadata": {
        "nteract": {
          "transient": {
            "deleting": false
          }
        }
      }
    },
    {
      "cell_type": "code",
      "source": [
        "# Replace blank values with NaN\r\n",
        "df_grouped.replace('', np.nan, inplace=True)\r\n",
        "\r\n",
        "# checking the null values(for bucketing data) \r\n",
        "missing_values_count = df_grouped.isnull().sum()\r\n",
        "\r\n",
        "# taking the total no.of rows\r\n",
        "total_rows = df_grouped.shape[0]\r\n",
        "\r\n",
        "# taking the percetage of missing value\r\n",
        "missing_percentage = (missing_values_count / total_rows) * 100\r\n",
        "#creating the data frame\r\n",
        "missing_data_summary = pd.DataFrame({\r\n",
        "    'Missing Values Count': missing_values_count,\r\n",
        "    'Missing Values Percentage': missing_percentage\r\n",
        "})\r\n",
        "\r\n",
        "missing_data_summary"
      ],
      "outputs": [
        {
          "output_type": "execute_result",
          "execution_count": 36,
          "data": {
            "text/plain": "                                           Missing Values Count  \\\nInternalpatientid                                             0   \nFirst listed diagnosis icd10 subcategory                      0   \nSecond listed diagnosis icd10 subcategory                     0   \n20-29.9_icd10                                             58117   \n20-29.9_second_icd10                                      58117   \n30.0-39.9_icd10                                           57682   \n30.0-39.9_second_icd10                                    57682   \n40.0-49.9_icd10                                           55896   \n40.0-49.9_second_icd10                                    55896   \n50.0-59.9_icd10                                           47961   \n50.0-59.9_second_icd10                                    47961   \n60.0-69.9_icd10                                           31869   \n60.0-69.9_second_icd10                                    31869   \n70.0-79.9_icd10                                           34324   \n70.0-79.9_second_icd10                                    34324   \n80.0-89.9_icd10                                           44053   \n80.0-89.9_second_icd10                                    44053   \n90.0-99.9_icd10                                           53717   \n90.0-99.9_second_icd10                                    53717   \n100.0-109.9_icd10                                         58088   \n100.0-109.9_second_icd10                                  58088   \n\n                                           Missing Values Percentage  \nInternalpatientid                                           0.000000  \nFirst listed diagnosis icd10 subcategory                    0.000000  \nSecond listed diagnosis icd10 subcategory                   0.000000  \n20-29.9_icd10                                              99.788805  \n20-29.9_second_icd10                                       99.788805  \n30.0-39.9_icd10                                            99.041896  \n30.0-39.9_second_icd10                                     99.041896  \n40.0-49.9_icd10                                            95.975275  \n40.0-49.9_second_icd10                                     95.975275  \n50.0-59.9_icd10                                            82.350618  \n50.0-59.9_second_icd10                                     82.350618  \n60.0-69.9_icd10                                            54.720124  \n60.0-69.9_second_icd10                                     54.720124  \n70.0-79.9_icd10                                            58.935440  \n70.0-79.9_second_icd10                                     58.935440  \n80.0-89.9_icd10                                            75.640453  \n80.0-89.9_second_icd10                                     75.640453  \n90.0-99.9_icd10                                            92.233860  \n90.0-99.9_second_icd10                                     92.233860  \n100.0-109.9_icd10                                          99.739011  \n100.0-109.9_second_icd10                                   99.739011  ",
            "text/html": "<div>\n<style scoped>\n    .dataframe tbody tr th:only-of-type {\n        vertical-align: middle;\n    }\n\n    .dataframe tbody tr th {\n        vertical-align: top;\n    }\n\n    .dataframe thead th {\n        text-align: right;\n    }\n</style>\n<table border=\"1\" class=\"dataframe\">\n  <thead>\n    <tr style=\"text-align: right;\">\n      <th></th>\n      <th>Missing Values Count</th>\n      <th>Missing Values Percentage</th>\n    </tr>\n  </thead>\n  <tbody>\n    <tr>\n      <th>Internalpatientid</th>\n      <td>0</td>\n      <td>0.000000</td>\n    </tr>\n    <tr>\n      <th>First listed diagnosis icd10 subcategory</th>\n      <td>0</td>\n      <td>0.000000</td>\n    </tr>\n    <tr>\n      <th>Second listed diagnosis icd10 subcategory</th>\n      <td>0</td>\n      <td>0.000000</td>\n    </tr>\n    <tr>\n      <th>20-29.9_icd10</th>\n      <td>58117</td>\n      <td>99.788805</td>\n    </tr>\n    <tr>\n      <th>20-29.9_second_icd10</th>\n      <td>58117</td>\n      <td>99.788805</td>\n    </tr>\n    <tr>\n      <th>30.0-39.9_icd10</th>\n      <td>57682</td>\n      <td>99.041896</td>\n    </tr>\n    <tr>\n      <th>30.0-39.9_second_icd10</th>\n      <td>57682</td>\n      <td>99.041896</td>\n    </tr>\n    <tr>\n      <th>40.0-49.9_icd10</th>\n      <td>55896</td>\n      <td>95.975275</td>\n    </tr>\n    <tr>\n      <th>40.0-49.9_second_icd10</th>\n      <td>55896</td>\n      <td>95.975275</td>\n    </tr>\n    <tr>\n      <th>50.0-59.9_icd10</th>\n      <td>47961</td>\n      <td>82.350618</td>\n    </tr>\n    <tr>\n      <th>50.0-59.9_second_icd10</th>\n      <td>47961</td>\n      <td>82.350618</td>\n    </tr>\n    <tr>\n      <th>60.0-69.9_icd10</th>\n      <td>31869</td>\n      <td>54.720124</td>\n    </tr>\n    <tr>\n      <th>60.0-69.9_second_icd10</th>\n      <td>31869</td>\n      <td>54.720124</td>\n    </tr>\n    <tr>\n      <th>70.0-79.9_icd10</th>\n      <td>34324</td>\n      <td>58.935440</td>\n    </tr>\n    <tr>\n      <th>70.0-79.9_second_icd10</th>\n      <td>34324</td>\n      <td>58.935440</td>\n    </tr>\n    <tr>\n      <th>80.0-89.9_icd10</th>\n      <td>44053</td>\n      <td>75.640453</td>\n    </tr>\n    <tr>\n      <th>80.0-89.9_second_icd10</th>\n      <td>44053</td>\n      <td>75.640453</td>\n    </tr>\n    <tr>\n      <th>90.0-99.9_icd10</th>\n      <td>53717</td>\n      <td>92.233860</td>\n    </tr>\n    <tr>\n      <th>90.0-99.9_second_icd10</th>\n      <td>53717</td>\n      <td>92.233860</td>\n    </tr>\n    <tr>\n      <th>100.0-109.9_icd10</th>\n      <td>58088</td>\n      <td>99.739011</td>\n    </tr>\n    <tr>\n      <th>100.0-109.9_second_icd10</th>\n      <td>58088</td>\n      <td>99.739011</td>\n    </tr>\n  </tbody>\n</table>\n</div>"
          },
          "metadata": {}
        }
      ],
      "execution_count": 36,
      "metadata": {
        "jupyter": {
          "source_hidden": false,
          "outputs_hidden": false
        },
        "nteract": {
          "transient": {
            "deleting": false
          }
        },
        "gather": {
          "logged": 1688286359899
        }
      }
    },
    {
      "cell_type": "markdown",
      "source": [
        "**The column \"20-29.9_icd10\" contain 99% of the missing values.**\r\n",
        "\r\n",
        "**The columns \"20-29.9_second_icd10\" contain 99% of the missing values.**\r\n",
        "\r\n",
        "**The columns \"30.0-39.9_icd10\" contain 99% of the missing values.**\r\n",
        "\r\n",
        "**The columns \"30.0-39.9_second_icd10\" contain 99% of the missing values.**\r\n",
        "\r\n",
        "**The columns \"40.0-49.9_icd10\" contain 95% of the missing values.**\r\n",
        "\r\n",
        "**The columns \"40.0-49.9_second_icd10\" contain 95% of the missing values.**\r\n",
        "\r\n",
        "**The columns \"50.0-59.9_icd10\" contain 82% of the missing values.**\r\n",
        "\r\n",
        "**The columns \"50.0-59.9_second_icd10\" contain 82% of the missing values.**\r\n",
        "\r\n",
        "**The columns \"60.0-69.9_icd10\" contain 54% of the missing values.**\r\n",
        "\r\n",
        "**The columns \"60.0-69.9_second_icd10\" contain 54% of the missing values.**\r\n",
        "\r\n",
        "**The columns \"70.0-79.9_icd10\" contain 58% of the missing values.**\r\n",
        "\r\n",
        "**The columns \"70.0-79.9_second_icd10\" contain 58% of the missing values.**\r\n",
        "\r\n",
        "**The columns \"80.0-89.9_icd10\" contain 75% of the missing values.**\r\n",
        "\r\n",
        "**The columns \"80.0-89.9_second_icd10\" contain 75% of the missing values.**\r\n",
        "\r\n",
        "**The columns \"90.0-99.9_icd10\" contain 72% of the missing values.**\r\n",
        "\r\n",
        "**The columns \"90.0-99.9_second_icd10\" contain 92% of the missing values.**\r\n",
        "\r\n",
        "**The columns \"100.0-109.9_icd10\" contain 99% of the missing values.**\r\n",
        "\r\n",
        "**The columns \"100.0-109.9_second_icd10\" contain 99% of the missing values.**"
      ],
      "metadata": {
        "nteract": {
          "transient": {
            "deleting": false
          }
        }
      }
    },
    {
      "cell_type": "code",
      "source": [
        "# After dropping the columns which have more than 70 % of missing data.\r\n",
        "df_grouped.drop(['20-29.9_icd10','20-29.9_second_icd10','30.0-39.9_icd10','30.0-39.9_second_icd10','40.0-49.9_icd10',\r\n",
        "                              '40.0-49.9_second_icd10','50.0-59.9_icd10','50.0-59.9_second_icd10','80.0-89.9_icd10',\r\n",
        "                              '80.0-89.9_second_icd10','90.0-99.9_icd10','90.0-99.9_second_icd10','100.0-109.9_icd10',\r\n",
        "                              '100.0-109.9_second_icd10'], axis = 1,inplace = True)"
      ],
      "outputs": [],
      "execution_count": 38,
      "metadata": {
        "jupyter": {
          "source_hidden": false,
          "outputs_hidden": false
        },
        "nteract": {
          "transient": {
            "deleting": false
          }
        },
        "gather": {
          "logged": 1688286480049
        }
      }
    },
    {
      "cell_type": "code",
      "source": [
        "df_grouped.head()"
      ],
      "outputs": [
        {
          "output_type": "execute_result",
          "execution_count": 39,
          "data": {
            "text/plain": "   Internalpatientid           First listed diagnosis icd10 subcategory  \\\n0                  1  Disorders of calcium metabolism,Combined systo...   \n1                  2  Chest pain, unspecified,Other symptoms and sig...   \n2                  4  Epidemic vertigo,Gastrointestinal hemorrhage, ...   \n3                  8  Other symptoms and signs involving cognitive f...   \n4                 10                        Not specified,Not specified   \n\n           Second listed diagnosis icd10 subcategory  \\\n0  Not specified,Contusion of hip,Not specified,N...   \n1  Not specified,Cannabinosis,Not specified,Not s...   \n2  Other abdominal pain,Not specified,Not specifi...   \n3          Not specified,Not specified,Not specified   \n4                        Not specified,Not specified   \n\n                                     60.0-69.9_icd10  \\\n0                        Not specified,Not specified   \n1  Chest pain, unspecified,Other symptoms and sig...   \n2                                                NaN   \n3  Other symptoms and signs involving cognitive f...   \n4                        Not specified,Not specified   \n\n                              60.0-69.9_second_icd10  \\\n0                        Not specified,Not specified   \n1  Not specified,Cannabinosis,Not specified,Not s...   \n2                                                NaN   \n3                        Not specified,Not specified   \n4                        Not specified,Not specified   \n\n                                     70.0-79.9_icd10  \\\n0  Disorders of calcium metabolism,Combined systo...   \n1                                                NaN   \n2                                                NaN   \n3                                                NaN   \n4                                                NaN   \n\n                              70.0-79.9_second_icd10  \n0  Not specified,Contusion of hip,Not specified,N...  \n1                                                NaN  \n2                                                NaN  \n3                                                NaN  \n4                                                NaN  ",
            "text/html": "<div>\n<style scoped>\n    .dataframe tbody tr th:only-of-type {\n        vertical-align: middle;\n    }\n\n    .dataframe tbody tr th {\n        vertical-align: top;\n    }\n\n    .dataframe thead th {\n        text-align: right;\n    }\n</style>\n<table border=\"1\" class=\"dataframe\">\n  <thead>\n    <tr style=\"text-align: right;\">\n      <th></th>\n      <th>Internalpatientid</th>\n      <th>First listed diagnosis icd10 subcategory</th>\n      <th>Second listed diagnosis icd10 subcategory</th>\n      <th>60.0-69.9_icd10</th>\n      <th>60.0-69.9_second_icd10</th>\n      <th>70.0-79.9_icd10</th>\n      <th>70.0-79.9_second_icd10</th>\n    </tr>\n  </thead>\n  <tbody>\n    <tr>\n      <th>0</th>\n      <td>1</td>\n      <td>Disorders of calcium metabolism,Combined systo...</td>\n      <td>Not specified,Contusion of hip,Not specified,N...</td>\n      <td>Not specified,Not specified</td>\n      <td>Not specified,Not specified</td>\n      <td>Disorders of calcium metabolism,Combined systo...</td>\n      <td>Not specified,Contusion of hip,Not specified,N...</td>\n    </tr>\n    <tr>\n      <th>1</th>\n      <td>2</td>\n      <td>Chest pain, unspecified,Other symptoms and sig...</td>\n      <td>Not specified,Cannabinosis,Not specified,Not s...</td>\n      <td>Chest pain, unspecified,Other symptoms and sig...</td>\n      <td>Not specified,Cannabinosis,Not specified,Not s...</td>\n      <td>NaN</td>\n      <td>NaN</td>\n    </tr>\n    <tr>\n      <th>2</th>\n      <td>4</td>\n      <td>Epidemic vertigo,Gastrointestinal hemorrhage, ...</td>\n      <td>Other abdominal pain,Not specified,Not specifi...</td>\n      <td>NaN</td>\n      <td>NaN</td>\n      <td>NaN</td>\n      <td>NaN</td>\n    </tr>\n    <tr>\n      <th>3</th>\n      <td>8</td>\n      <td>Other symptoms and signs involving cognitive f...</td>\n      <td>Not specified,Not specified,Not specified</td>\n      <td>Other symptoms and signs involving cognitive f...</td>\n      <td>Not specified,Not specified</td>\n      <td>NaN</td>\n      <td>NaN</td>\n    </tr>\n    <tr>\n      <th>4</th>\n      <td>10</td>\n      <td>Not specified,Not specified</td>\n      <td>Not specified,Not specified</td>\n      <td>Not specified,Not specified</td>\n      <td>Not specified,Not specified</td>\n      <td>NaN</td>\n      <td>NaN</td>\n    </tr>\n  </tbody>\n</table>\n</div>"
          },
          "metadata": {}
        }
      ],
      "execution_count": 39,
      "metadata": {
        "jupyter": {
          "source_hidden": false,
          "outputs_hidden": false
        },
        "nteract": {
          "transient": {
            "deleting": false
          }
        },
        "gather": {
          "logged": 1688286481934
        }
      }
    },
    {
      "cell_type": "code",
      "source": [
        "df_grouped.isnull().sum()"
      ],
      "outputs": [
        {
          "output_type": "execute_result",
          "execution_count": 40,
          "data": {
            "text/plain": "Internalpatientid                                0\nFirst listed diagnosis icd10 subcategory         0\nSecond listed diagnosis icd10 subcategory        0\n60.0-69.9_icd10                              31869\n60.0-69.9_second_icd10                       31869\n70.0-79.9_icd10                              34324\n70.0-79.9_second_icd10                       34324\ndtype: int64"
          },
          "metadata": {}
        }
      ],
      "execution_count": 40,
      "metadata": {
        "jupyter": {
          "source_hidden": false,
          "outputs_hidden": false
        },
        "nteract": {
          "transient": {
            "deleting": false
          }
        },
        "gather": {
          "logged": 1688286490159
        }
      }
    },
    {
      "cell_type": "code",
      "source": [
        "# Checking the particular patients id\r\n",
        "fl= df_grouped[df_grouped[\"Internalpatientid\"]==1]\r\n",
        "fl"
      ],
      "outputs": [
        {
          "output_type": "execute_result",
          "execution_count": 41,
          "data": {
            "text/plain": "   Internalpatientid           First listed diagnosis icd10 subcategory  \\\n0                  1  Disorders of calcium metabolism,Combined systo...   \n\n           Second listed diagnosis icd10 subcategory  \\\n0  Not specified,Contusion of hip,Not specified,N...   \n\n               60.0-69.9_icd10       60.0-69.9_second_icd10  \\\n0  Not specified,Not specified  Not specified,Not specified   \n\n                                     70.0-79.9_icd10  \\\n0  Disorders of calcium metabolism,Combined systo...   \n\n                              70.0-79.9_second_icd10  \n0  Not specified,Contusion of hip,Not specified,N...  ",
            "text/html": "<div>\n<style scoped>\n    .dataframe tbody tr th:only-of-type {\n        vertical-align: middle;\n    }\n\n    .dataframe tbody tr th {\n        vertical-align: top;\n    }\n\n    .dataframe thead th {\n        text-align: right;\n    }\n</style>\n<table border=\"1\" class=\"dataframe\">\n  <thead>\n    <tr style=\"text-align: right;\">\n      <th></th>\n      <th>Internalpatientid</th>\n      <th>First listed diagnosis icd10 subcategory</th>\n      <th>Second listed diagnosis icd10 subcategory</th>\n      <th>60.0-69.9_icd10</th>\n      <th>60.0-69.9_second_icd10</th>\n      <th>70.0-79.9_icd10</th>\n      <th>70.0-79.9_second_icd10</th>\n    </tr>\n  </thead>\n  <tbody>\n    <tr>\n      <th>0</th>\n      <td>1</td>\n      <td>Disorders of calcium metabolism,Combined systo...</td>\n      <td>Not specified,Contusion of hip,Not specified,N...</td>\n      <td>Not specified,Not specified</td>\n      <td>Not specified,Not specified</td>\n      <td>Disorders of calcium metabolism,Combined systo...</td>\n      <td>Not specified,Contusion of hip,Not specified,N...</td>\n    </tr>\n  </tbody>\n</table>\n</div>"
          },
          "metadata": {}
        }
      ],
      "execution_count": 41,
      "metadata": {
        "jupyter": {
          "source_hidden": false,
          "outputs_hidden": false
        },
        "nteract": {
          "transient": {
            "deleting": false
          }
        },
        "gather": {
          "logged": 1688286496306
        }
      }
    },
    {
      "cell_type": "markdown",
      "source": [
        "##### **Using the death file do to the Bivariate Analysis with the Demographic static train file**"
      ],
      "metadata": {
        "nteract": {
          "transient": {
            "deleting": false
          }
        }
      }
    },
    {
      "cell_type": "code",
      "source": [
        "dataset = Dataset.Tabular.from_delimited_files(path = [(datastore, 'death_train.csv')])"
      ],
      "outputs": [],
      "execution_count": 42,
      "metadata": {
        "jupyter": {
          "source_hidden": false,
          "outputs_hidden": false
        },
        "nteract": {
          "transient": {
            "deleting": false
          }
        },
        "gather": {
          "logged": 1688286503004
        }
      }
    },
    {
      "cell_type": "code",
      "source": [
        "death_file = dataset.to_pandas_dataframe()"
      ],
      "outputs": [],
      "execution_count": 43,
      "metadata": {
        "jupyter": {
          "source_hidden": false,
          "outputs_hidden": false
        },
        "nteract": {
          "transient": {
            "deleting": false
          }
        },
        "gather": {
          "logged": 1688286504996
        }
      }
    },
    {
      "cell_type": "code",
      "source": [
        "type(death_file)"
      ],
      "outputs": [
        {
          "output_type": "execute_result",
          "execution_count": 44,
          "data": {
            "text/plain": "pandas.core.frame.DataFrame"
          },
          "metadata": {}
        }
      ],
      "execution_count": 44,
      "metadata": {
        "jupyter": {
          "source_hidden": false,
          "outputs_hidden": false
        },
        "nteract": {
          "transient": {
            "deleting": false
          }
        },
        "gather": {
          "logged": 1688286508007
        }
      }
    },
    {
      "cell_type": "code",
      "source": [
        "death_file.head()"
      ],
      "outputs": [
        {
          "output_type": "execute_result",
          "execution_count": 45,
          "data": {
            "text/plain": "   Column1  Internalpatientid  Age at death          Death date\n0        0             100036     72.412770 2015-01-18 20:49:10\n1        1             100037     75.241135 2008-10-16 15:14:26\n2        2             100045     85.399403 2019-01-26 11:33:52\n3        3             100095     84.136551 2004-08-10 21:49:35\n4        6              10013     68.372126 2007-06-11 00:17:06",
            "text/html": "<div>\n<style scoped>\n    .dataframe tbody tr th:only-of-type {\n        vertical-align: middle;\n    }\n\n    .dataframe tbody tr th {\n        vertical-align: top;\n    }\n\n    .dataframe thead th {\n        text-align: right;\n    }\n</style>\n<table border=\"1\" class=\"dataframe\">\n  <thead>\n    <tr style=\"text-align: right;\">\n      <th></th>\n      <th>Column1</th>\n      <th>Internalpatientid</th>\n      <th>Age at death</th>\n      <th>Death date</th>\n    </tr>\n  </thead>\n  <tbody>\n    <tr>\n      <th>0</th>\n      <td>0</td>\n      <td>100036</td>\n      <td>72.412770</td>\n      <td>2015-01-18 20:49:10</td>\n    </tr>\n    <tr>\n      <th>1</th>\n      <td>1</td>\n      <td>100037</td>\n      <td>75.241135</td>\n      <td>2008-10-16 15:14:26</td>\n    </tr>\n    <tr>\n      <th>2</th>\n      <td>2</td>\n      <td>100045</td>\n      <td>85.399403</td>\n      <td>2019-01-26 11:33:52</td>\n    </tr>\n    <tr>\n      <th>3</th>\n      <td>3</td>\n      <td>100095</td>\n      <td>84.136551</td>\n      <td>2004-08-10 21:49:35</td>\n    </tr>\n    <tr>\n      <th>4</th>\n      <td>6</td>\n      <td>10013</td>\n      <td>68.372126</td>\n      <td>2007-06-11 00:17:06</td>\n    </tr>\n  </tbody>\n</table>\n</div>"
          },
          "metadata": {}
        }
      ],
      "execution_count": 45,
      "metadata": {
        "jupyter": {
          "source_hidden": false,
          "outputs_hidden": false
        },
        "nteract": {
          "transient": {
            "deleting": false
          }
        },
        "gather": {
          "logged": 1688286515941
        }
      }
    },
    {
      "cell_type": "code",
      "source": [
        "death_file"
      ],
      "outputs": [
        {
          "output_type": "execute_result",
          "execution_count": 48,
          "data": {
            "text/plain": "       Column1  Internalpatientid  Age at death          Death date\n0            0             100036     72.412770 2015-01-18 20:49:10\n1            1             100037     75.241135 2008-10-16 15:14:26\n2            2             100045     85.399403 2019-01-26 11:33:52\n3            3             100095     84.136551 2004-08-10 21:49:35\n4            6              10013     68.372126 2007-06-11 00:17:06\n...        ...                ...           ...                 ...\n97279   123343              99827     87.898767 2003-05-13 23:58:55\n97280   123344              99842     78.431214 2010-05-25 14:36:27\n97281   123345              99847     82.115566 2012-02-20 05:44:33\n97282   123347              99872     92.974602 2010-04-18 05:12:36\n97283   123352              99999     96.370286 2013-04-14 08:08:53\n\n[97284 rows x 4 columns]",
            "text/html": "<div>\n<style scoped>\n    .dataframe tbody tr th:only-of-type {\n        vertical-align: middle;\n    }\n\n    .dataframe tbody tr th {\n        vertical-align: top;\n    }\n\n    .dataframe thead th {\n        text-align: right;\n    }\n</style>\n<table border=\"1\" class=\"dataframe\">\n  <thead>\n    <tr style=\"text-align: right;\">\n      <th></th>\n      <th>Column1</th>\n      <th>Internalpatientid</th>\n      <th>Age at death</th>\n      <th>Death date</th>\n    </tr>\n  </thead>\n  <tbody>\n    <tr>\n      <th>0</th>\n      <td>0</td>\n      <td>100036</td>\n      <td>72.412770</td>\n      <td>2015-01-18 20:49:10</td>\n    </tr>\n    <tr>\n      <th>1</th>\n      <td>1</td>\n      <td>100037</td>\n      <td>75.241135</td>\n      <td>2008-10-16 15:14:26</td>\n    </tr>\n    <tr>\n      <th>2</th>\n      <td>2</td>\n      <td>100045</td>\n      <td>85.399403</td>\n      <td>2019-01-26 11:33:52</td>\n    </tr>\n    <tr>\n      <th>3</th>\n      <td>3</td>\n      <td>100095</td>\n      <td>84.136551</td>\n      <td>2004-08-10 21:49:35</td>\n    </tr>\n    <tr>\n      <th>4</th>\n      <td>6</td>\n      <td>10013</td>\n      <td>68.372126</td>\n      <td>2007-06-11 00:17:06</td>\n    </tr>\n    <tr>\n      <th>...</th>\n      <td>...</td>\n      <td>...</td>\n      <td>...</td>\n      <td>...</td>\n    </tr>\n    <tr>\n      <th>97279</th>\n      <td>123343</td>\n      <td>99827</td>\n      <td>87.898767</td>\n      <td>2003-05-13 23:58:55</td>\n    </tr>\n    <tr>\n      <th>97280</th>\n      <td>123344</td>\n      <td>99842</td>\n      <td>78.431214</td>\n      <td>2010-05-25 14:36:27</td>\n    </tr>\n    <tr>\n      <th>97281</th>\n      <td>123345</td>\n      <td>99847</td>\n      <td>82.115566</td>\n      <td>2012-02-20 05:44:33</td>\n    </tr>\n    <tr>\n      <th>97282</th>\n      <td>123347</td>\n      <td>99872</td>\n      <td>92.974602</td>\n      <td>2010-04-18 05:12:36</td>\n    </tr>\n    <tr>\n      <th>97283</th>\n      <td>123352</td>\n      <td>99999</td>\n      <td>96.370286</td>\n      <td>2013-04-14 08:08:53</td>\n    </tr>\n  </tbody>\n</table>\n<p>97284 rows × 4 columns</p>\n</div>"
          },
          "metadata": {}
        }
      ],
      "execution_count": 48,
      "metadata": {
        "jupyter": {
          "source_hidden": false,
          "outputs_hidden": false
        },
        "nteract": {
          "transient": {
            "deleting": false
          }
        },
        "gather": {
          "logged": 1688286558489
        }
      }
    },
    {
      "cell_type": "code",
      "source": [
        "death_file = death_file.drop('Column1', axis = 1)\r\n",
        "death_file.head()"
      ],
      "outputs": [
        {
          "output_type": "execute_result",
          "execution_count": 49,
          "data": {
            "text/plain": "   Internalpatientid  Age at death          Death date\n0             100036     72.412770 2015-01-18 20:49:10\n1             100037     75.241135 2008-10-16 15:14:26\n2             100045     85.399403 2019-01-26 11:33:52\n3             100095     84.136551 2004-08-10 21:49:35\n4              10013     68.372126 2007-06-11 00:17:06",
            "text/html": "<div>\n<style scoped>\n    .dataframe tbody tr th:only-of-type {\n        vertical-align: middle;\n    }\n\n    .dataframe tbody tr th {\n        vertical-align: top;\n    }\n\n    .dataframe thead th {\n        text-align: right;\n    }\n</style>\n<table border=\"1\" class=\"dataframe\">\n  <thead>\n    <tr style=\"text-align: right;\">\n      <th></th>\n      <th>Internalpatientid</th>\n      <th>Age at death</th>\n      <th>Death date</th>\n    </tr>\n  </thead>\n  <tbody>\n    <tr>\n      <th>0</th>\n      <td>100036</td>\n      <td>72.412770</td>\n      <td>2015-01-18 20:49:10</td>\n    </tr>\n    <tr>\n      <th>1</th>\n      <td>100037</td>\n      <td>75.241135</td>\n      <td>2008-10-16 15:14:26</td>\n    </tr>\n    <tr>\n      <th>2</th>\n      <td>100045</td>\n      <td>85.399403</td>\n      <td>2019-01-26 11:33:52</td>\n    </tr>\n    <tr>\n      <th>3</th>\n      <td>100095</td>\n      <td>84.136551</td>\n      <td>2004-08-10 21:49:35</td>\n    </tr>\n    <tr>\n      <th>4</th>\n      <td>10013</td>\n      <td>68.372126</td>\n      <td>2007-06-11 00:17:06</td>\n    </tr>\n  </tbody>\n</table>\n</div>"
          },
          "metadata": {}
        }
      ],
      "execution_count": 49,
      "metadata": {
        "jupyter": {
          "source_hidden": false,
          "outputs_hidden": false
        },
        "nteract": {
          "transient": {
            "deleting": false
          }
        },
        "gather": {
          "logged": 1688286580974
        }
      }
    },
    {
      "cell_type": "code",
      "source": [
        "#Shape of death file datafram\r\n",
        "death_file.shape"
      ],
      "outputs": [
        {
          "output_type": "execute_result",
          "execution_count": 50,
          "data": {
            "text/plain": "(97284, 3)"
          },
          "metadata": {}
        }
      ],
      "execution_count": 50,
      "metadata": {
        "jupyter": {
          "source_hidden": false,
          "outputs_hidden": false
        },
        "nteract": {
          "transient": {
            "deleting": false
          }
        },
        "gather": {
          "logged": 1688286584911
        }
      }
    },
    {
      "cell_type": "code",
      "source": [
        "death_file['death'] = 1\r\n",
        "death_file.head()"
      ],
      "outputs": [
        {
          "output_type": "execute_result",
          "execution_count": 51,
          "data": {
            "text/plain": "   Internalpatientid  Age at death          Death date  death\n0             100036     72.412770 2015-01-18 20:49:10      1\n1             100037     75.241135 2008-10-16 15:14:26      1\n2             100045     85.399403 2019-01-26 11:33:52      1\n3             100095     84.136551 2004-08-10 21:49:35      1\n4              10013     68.372126 2007-06-11 00:17:06      1",
            "text/html": "<div>\n<style scoped>\n    .dataframe tbody tr th:only-of-type {\n        vertical-align: middle;\n    }\n\n    .dataframe tbody tr th {\n        vertical-align: top;\n    }\n\n    .dataframe thead th {\n        text-align: right;\n    }\n</style>\n<table border=\"1\" class=\"dataframe\">\n  <thead>\n    <tr style=\"text-align: right;\">\n      <th></th>\n      <th>Internalpatientid</th>\n      <th>Age at death</th>\n      <th>Death date</th>\n      <th>death</th>\n    </tr>\n  </thead>\n  <tbody>\n    <tr>\n      <th>0</th>\n      <td>100036</td>\n      <td>72.412770</td>\n      <td>2015-01-18 20:49:10</td>\n      <td>1</td>\n    </tr>\n    <tr>\n      <th>1</th>\n      <td>100037</td>\n      <td>75.241135</td>\n      <td>2008-10-16 15:14:26</td>\n      <td>1</td>\n    </tr>\n    <tr>\n      <th>2</th>\n      <td>100045</td>\n      <td>85.399403</td>\n      <td>2019-01-26 11:33:52</td>\n      <td>1</td>\n    </tr>\n    <tr>\n      <th>3</th>\n      <td>100095</td>\n      <td>84.136551</td>\n      <td>2004-08-10 21:49:35</td>\n      <td>1</td>\n    </tr>\n    <tr>\n      <th>4</th>\n      <td>10013</td>\n      <td>68.372126</td>\n      <td>2007-06-11 00:17:06</td>\n      <td>1</td>\n    </tr>\n  </tbody>\n</table>\n</div>"
          },
          "metadata": {}
        }
      ],
      "execution_count": 51,
      "metadata": {
        "jupyter": {
          "source_hidden": false,
          "outputs_hidden": false
        },
        "nteract": {
          "transient": {
            "deleting": false
          }
        },
        "gather": {
          "logged": 1688286588651
        }
      }
    },
    {
      "cell_type": "code",
      "source": [
        "# describe the \"age\" column\r\n",
        "age_description = death_file[\"Age at death\"].describe()\r\n",
        "\r\n",
        "\r\n",
        "# Accessing the specific statistics\r\n",
        "count = age_description['count']\r\n",
        "mean = age_description['mean']\r\n",
        "min_value = age_description['min']\r\n",
        "max_value = age_description['max']\r\n",
        "\r\n",
        "#print specific statistics\r\n",
        "print(\"Count:\", count)\r\n",
        "print(\"Mean:\", mean)\r\n",
        "print(\"Min value:\", min_value)\r\n",
        "print(\"max_value:\", max_value)"
      ],
      "outputs": [
        {
          "output_type": "stream",
          "name": "stdout",
          "text": "Count: 97284.0\nMean: 78.36066132259062\nMin value: 22.71159624056341\nmax_value: 110.22737741931398\n"
        }
      ],
      "execution_count": 52,
      "metadata": {
        "jupyter": {
          "source_hidden": false,
          "outputs_hidden": false
        },
        "nteract": {
          "transient": {
            "deleting": false
          }
        },
        "gather": {
          "logged": 1688286593175
        }
      }
    },
    {
      "cell_type": "code",
      "source": [
        "print(\"Training set missing values:\\n\", death_file.isna().sum())"
      ],
      "outputs": [
        {
          "output_type": "stream",
          "name": "stdout",
          "text": "Training set missing values:\n Internalpatientid    0\nAge at death         0\nDeath date           0\ndeath                0\ndtype: int64\n"
        }
      ],
      "execution_count": 53,
      "metadata": {
        "jupyter": {
          "source_hidden": false,
          "outputs_hidden": false
        },
        "nteract": {
          "transient": {
            "deleting": false
          }
        },
        "gather": {
          "logged": 1688286600091
        }
      }
    },
    {
      "cell_type": "code",
      "source": [
        "import matplotlib.pyplot as plt\r\n",
        "# Histogram for each continuous variable\r\n",
        "plt.style.use('ggplot')\r\n",
        "plt.hist(death_file[\"Age at death\"], bins=10)\r\n",
        "plt.show()"
      ],
      "outputs": [
        {
          "output_type": "display_data",
          "data": {
            "text/plain": "<Figure size 640x480 with 1 Axes>",
            "image/png": "[encoded data removed]"
          },
          "metadata": {}
        }
      ],
      "execution_count": 54,
      "metadata": {
        "jupyter": {
          "source_hidden": false,
          "outputs_hidden": false
        },
        "nteract": {
          "transient": {
            "deleting": false
          }
        },
        "gather": {
          "logged": 1688286605163
        }
      }
    },
    {
      "cell_type": "code",
      "source": [
        "merge_ed_visit_death_left = pd.merge(df_grouped, death_file, how='left',on='Internalpatientid') "
      ],
      "outputs": [],
      "execution_count": 55,
      "metadata": {
        "jupyter": {
          "source_hidden": false,
          "outputs_hidden": false
        },
        "nteract": {
          "transient": {
            "deleting": false
          }
        },
        "gather": {
          "logged": 1688286650133
        }
      }
    },
    {
      "cell_type": "code",
      "source": [
        "merge_ed_visit_death_left"
      ],
      "outputs": [
        {
          "output_type": "execute_result",
          "execution_count": 56,
          "data": {
            "text/plain": "       Internalpatientid           First listed diagnosis icd10 subcategory  \\\n0                      1  Disorders of calcium metabolism,Combined systo...   \n1                      2  Chest pain, unspecified,Other symptoms and sig...   \n2                      4  Epidemic vertigo,Gastrointestinal hemorrhage, ...   \n3                      8  Other symptoms and signs involving cognitive f...   \n4                     10                        Not specified,Not specified   \n...                  ...                                                ...   \n58235             169050                        Not specified,Not specified   \n58236             169053  Dyspnea,Not specified,Other symptoms and signs...   \n58237             169057  Syncope and collapse,Acute bronchitis due to M...   \n58238             169060  Combined systolic (congestive) and diastolic (...   \n58239             169064                                      Not specified   \n\n               Second listed diagnosis icd10 subcategory  \\\n0      Not specified,Contusion of hip,Not specified,N...   \n1      Not specified,Cannabinosis,Not specified,Not s...   \n2      Other abdominal pain,Not specified,Not specifi...   \n3              Not specified,Not specified,Not specified   \n4                            Not specified,Not specified   \n...                                                  ...   \n58235                        Not specified,Not specified   \n58236  Not specified,Not specified,Not specified,Adul...   \n58237  Not specified,Not specified,Other and unspecif...   \n58238  Not specified,Not specified,Encounter for othe...   \n58239                                      Not specified   \n\n                                         60.0-69.9_icd10  \\\n0                            Not specified,Not specified   \n1      Chest pain, unspecified,Other symptoms and sig...   \n2                                                    NaN   \n3      Other symptoms and signs involving cognitive f...   \n4                            Not specified,Not specified   \n...                                                  ...   \n58235                                      Not specified   \n58236                                                NaN   \n58237                                                NaN   \n58238                                      Not specified   \n58239                                                NaN   \n\n                                  60.0-69.9_second_icd10  \\\n0                            Not specified,Not specified   \n1      Not specified,Cannabinosis,Not specified,Not s...   \n2                                                    NaN   \n3                            Not specified,Not specified   \n4                            Not specified,Not specified   \n...                                                  ...   \n58235                                      Not specified   \n58236                                                NaN   \n58237                                                NaN   \n58238                                      Not specified   \n58239                                                NaN   \n\n                                         70.0-79.9_icd10  \\\n0      Disorders of calcium metabolism,Combined systo...   \n1                                                    NaN   \n2                                                    NaN   \n3                                                    NaN   \n4                                                    NaN   \n...                                                  ...   \n58235                                                NaN   \n58236  Not specified,Cellulitis and acute lymphangiti...   \n58237  Not specified,Not specified,Not specified,Not ...   \n58238  Combined systolic (congestive) and diastolic (...   \n58239                                                NaN   \n\n                                  70.0-79.9_second_icd10  Age at death  \\\n0      Not specified,Contusion of hip,Not specified,N...           NaN   \n1                                                    NaN           NaN   \n2                                                    NaN     84.190359   \n3                                                    NaN           NaN   \n4                                                    NaN     72.384665   \n...                                                  ...           ...   \n58235                                                NaN     63.323682   \n58236  Not specified,Not specified,Not specified,Not ...     81.349588   \n58237  Not specified,Not specified,Not specified,Not ...           NaN   \n58238  Not specified,Encounter for other general exam...     71.832486   \n58239                                                NaN     88.057470   \n\n               Death date  death  \n0                     NaT    NaN  \n1                     NaT    NaN  \n2     2015-02-24 13:49:53    1.0  \n3                     NaT    NaN  \n4     2022-08-25 14:16:51    1.0  \n...                   ...    ...  \n58235 2014-10-19 19:20:04    1.0  \n58236 2014-02-17 06:35:04    1.0  \n58237                 NaT    NaN  \n58238 2017-10-15 18:34:11    1.0  \n58239 2015-01-09 00:07:21    1.0  \n\n[58240 rows x 10 columns]",
            "text/html": "<div>\n<style scoped>\n    .dataframe tbody tr th:only-of-type {\n        vertical-align: middle;\n    }\n\n    .dataframe tbody tr th {\n        vertical-align: top;\n    }\n\n    .dataframe thead th {\n        text-align: right;\n    }\n</style>\n<table border=\"1\" class=\"dataframe\">\n  <thead>\n    <tr style=\"text-align: right;\">\n      <th></th>\n      <th>Internalpatientid</th>\n      <th>First listed diagnosis icd10 subcategory</th>\n      <th>Second listed diagnosis icd10 subcategory</th>\n      <th>60.0-69.9_icd10</th>\n      <th>60.0-69.9_second_icd10</th>\n      <th>70.0-79.9_icd10</th>\n      <th>70.0-79.9_second_icd10</th>\n      <th>Age at death</th>\n      <th>Death date</th>\n      <th>death</th>\n    </tr>\n  </thead>\n  <tbody>\n    <tr>\n      <th>0</th>\n      <td>1</td>\n      <td>Disorders of calcium metabolism,Combined systo...</td>\n      <td>Not specified,Contusion of hip,Not specified,N...</td>\n      <td>Not specified,Not specified</td>\n      <td>Not specified,Not specified</td>\n      <td>Disorders of calcium metabolism,Combined systo...</td>\n      <td>Not specified,Contusion of hip,Not specified,N...</td>\n      <td>NaN</td>\n      <td>NaT</td>\n      <td>NaN</td>\n    </tr>\n    <tr>\n      <th>1</th>\n      <td>2</td>\n      <td>Chest pain, unspecified,Other symptoms and sig...</td>\n      <td>Not specified,Cannabinosis,Not specified,Not s...</td>\n      <td>Chest pain, unspecified,Other symptoms and sig...</td>\n      <td>Not specified,Cannabinosis,Not specified,Not s...</td>\n      <td>NaN</td>\n      <td>NaN</td>\n      <td>NaN</td>\n      <td>NaT</td>\n      <td>NaN</td>\n    </tr>\n    <tr>\n      <th>2</th>\n      <td>4</td>\n      <td>Epidemic vertigo,Gastrointestinal hemorrhage, ...</td>\n      <td>Other abdominal pain,Not specified,Not specifi...</td>\n      <td>NaN</td>\n      <td>NaN</td>\n      <td>NaN</td>\n      <td>NaN</td>\n      <td>84.190359</td>\n      <td>2015-02-24 13:49:53</td>\n      <td>1.0</td>\n    </tr>\n    <tr>\n      <th>3</th>\n      <td>8</td>\n      <td>Other symptoms and signs involving cognitive f...</td>\n      <td>Not specified,Not specified,Not specified</td>\n      <td>Other symptoms and signs involving cognitive f...</td>\n      <td>Not specified,Not specified</td>\n      <td>NaN</td>\n      <td>NaN</td>\n      <td>NaN</td>\n      <td>NaT</td>\n      <td>NaN</td>\n    </tr>\n    <tr>\n      <th>4</th>\n      <td>10</td>\n      <td>Not specified,Not specified</td>\n      <td>Not specified,Not specified</td>\n      <td>Not specified,Not specified</td>\n      <td>Not specified,Not specified</td>\n      <td>NaN</td>\n      <td>NaN</td>\n      <td>72.384665</td>\n      <td>2022-08-25 14:16:51</td>\n      <td>1.0</td>\n    </tr>\n    <tr>\n      <th>...</th>\n      <td>...</td>\n      <td>...</td>\n      <td>...</td>\n      <td>...</td>\n      <td>...</td>\n      <td>...</td>\n      <td>...</td>\n      <td>...</td>\n      <td>...</td>\n      <td>...</td>\n    </tr>\n    <tr>\n      <th>58235</th>\n      <td>169050</td>\n      <td>Not specified,Not specified</td>\n      <td>Not specified,Not specified</td>\n      <td>Not specified</td>\n      <td>Not specified</td>\n      <td>NaN</td>\n      <td>NaN</td>\n      <td>63.323682</td>\n      <td>2014-10-19 19:20:04</td>\n      <td>1.0</td>\n    </tr>\n    <tr>\n      <th>58236</th>\n      <td>169053</td>\n      <td>Dyspnea,Not specified,Other symptoms and signs...</td>\n      <td>Not specified,Not specified,Not specified,Adul...</td>\n      <td>NaN</td>\n      <td>NaN</td>\n      <td>Not specified,Cellulitis and acute lymphangiti...</td>\n      <td>Not specified,Not specified,Not specified,Not ...</td>\n      <td>81.349588</td>\n      <td>2014-02-17 06:35:04</td>\n      <td>1.0</td>\n    </tr>\n    <tr>\n      <th>58237</th>\n      <td>169057</td>\n      <td>Syncope and collapse,Acute bronchitis due to M...</td>\n      <td>Not specified,Not specified,Other and unspecif...</td>\n      <td>NaN</td>\n      <td>NaN</td>\n      <td>Not specified,Not specified,Not specified,Not ...</td>\n      <td>Not specified,Not specified,Not specified,Not ...</td>\n      <td>NaN</td>\n      <td>NaT</td>\n      <td>NaN</td>\n    </tr>\n    <tr>\n      <th>58238</th>\n      <td>169060</td>\n      <td>Combined systolic (congestive) and diastolic (...</td>\n      <td>Not specified,Not specified,Encounter for othe...</td>\n      <td>Not specified</td>\n      <td>Not specified</td>\n      <td>Combined systolic (congestive) and diastolic (...</td>\n      <td>Not specified,Encounter for other general exam...</td>\n      <td>71.832486</td>\n      <td>2017-10-15 18:34:11</td>\n      <td>1.0</td>\n    </tr>\n    <tr>\n      <th>58239</th>\n      <td>169064</td>\n      <td>Not specified</td>\n      <td>Not specified</td>\n      <td>NaN</td>\n      <td>NaN</td>\n      <td>NaN</td>\n      <td>NaN</td>\n      <td>88.057470</td>\n      <td>2015-01-09 00:07:21</td>\n      <td>1.0</td>\n    </tr>\n  </tbody>\n</table>\n<p>58240 rows × 10 columns</p>\n</div>"
          },
          "metadata": {}
        }
      ],
      "execution_count": 56,
      "metadata": {
        "jupyter": {
          "source_hidden": false,
          "outputs_hidden": false
        },
        "nteract": {
          "transient": {
            "deleting": false
          }
        },
        "gather": {
          "logged": 1688286652286
        }
      }
    },
    {
      "cell_type": "code",
      "source": [
        "merge_ed_visit_death_left['death'] = merge_ed_visit_death_left['death'].fillna(0)\r\n",
        "merge_ed_visit_death_left.head()"
      ],
      "outputs": [
        {
          "output_type": "execute_result",
          "execution_count": 57,
          "data": {
            "text/plain": "   Internalpatientid           First listed diagnosis icd10 subcategory  \\\n0                  1  Disorders of calcium metabolism,Combined systo...   \n1                  2  Chest pain, unspecified,Other symptoms and sig...   \n2                  4  Epidemic vertigo,Gastrointestinal hemorrhage, ...   \n3                  8  Other symptoms and signs involving cognitive f...   \n4                 10                        Not specified,Not specified   \n\n           Second listed diagnosis icd10 subcategory  \\\n0  Not specified,Contusion of hip,Not specified,N...   \n1  Not specified,Cannabinosis,Not specified,Not s...   \n2  Other abdominal pain,Not specified,Not specifi...   \n3          Not specified,Not specified,Not specified   \n4                        Not specified,Not specified   \n\n                                     60.0-69.9_icd10  \\\n0                        Not specified,Not specified   \n1  Chest pain, unspecified,Other symptoms and sig...   \n2                                                NaN   \n3  Other symptoms and signs involving cognitive f...   \n4                        Not specified,Not specified   \n\n                              60.0-69.9_second_icd10  \\\n0                        Not specified,Not specified   \n1  Not specified,Cannabinosis,Not specified,Not s...   \n2                                                NaN   \n3                        Not specified,Not specified   \n4                        Not specified,Not specified   \n\n                                     70.0-79.9_icd10  \\\n0  Disorders of calcium metabolism,Combined systo...   \n1                                                NaN   \n2                                                NaN   \n3                                                NaN   \n4                                                NaN   \n\n                              70.0-79.9_second_icd10  Age at death  \\\n0  Not specified,Contusion of hip,Not specified,N...           NaN   \n1                                                NaN           NaN   \n2                                                NaN     84.190359   \n3                                                NaN           NaN   \n4                                                NaN     72.384665   \n\n           Death date  death  \n0                 NaT    0.0  \n1                 NaT    0.0  \n2 2015-02-24 13:49:53    1.0  \n3                 NaT    0.0  \n4 2022-08-25 14:16:51    1.0  ",
            "text/html": "<div>\n<style scoped>\n    .dataframe tbody tr th:only-of-type {\n        vertical-align: middle;\n    }\n\n    .dataframe tbody tr th {\n        vertical-align: top;\n    }\n\n    .dataframe thead th {\n        text-align: right;\n    }\n</style>\n<table border=\"1\" class=\"dataframe\">\n  <thead>\n    <tr style=\"text-align: right;\">\n      <th></th>\n      <th>Internalpatientid</th>\n      <th>First listed diagnosis icd10 subcategory</th>\n      <th>Second listed diagnosis icd10 subcategory</th>\n      <th>60.0-69.9_icd10</th>\n      <th>60.0-69.9_second_icd10</th>\n      <th>70.0-79.9_icd10</th>\n      <th>70.0-79.9_second_icd10</th>\n      <th>Age at death</th>\n      <th>Death date</th>\n      <th>death</th>\n    </tr>\n  </thead>\n  <tbody>\n    <tr>\n      <th>0</th>\n      <td>1</td>\n      <td>Disorders of calcium metabolism,Combined systo...</td>\n      <td>Not specified,Contusion of hip,Not specified,N...</td>\n      <td>Not specified,Not specified</td>\n      <td>Not specified,Not specified</td>\n      <td>Disorders of calcium metabolism,Combined systo...</td>\n      <td>Not specified,Contusion of hip,Not specified,N...</td>\n      <td>NaN</td>\n      <td>NaT</td>\n      <td>0.0</td>\n    </tr>\n    <tr>\n      <th>1</th>\n      <td>2</td>\n      <td>Chest pain, unspecified,Other symptoms and sig...</td>\n      <td>Not specified,Cannabinosis,Not specified,Not s...</td>\n      <td>Chest pain, unspecified,Other symptoms and sig...</td>\n      <td>Not specified,Cannabinosis,Not specified,Not s...</td>\n      <td>NaN</td>\n      <td>NaN</td>\n      <td>NaN</td>\n      <td>NaT</td>\n      <td>0.0</td>\n    </tr>\n    <tr>\n      <th>2</th>\n      <td>4</td>\n      <td>Epidemic vertigo,Gastrointestinal hemorrhage, ...</td>\n      <td>Other abdominal pain,Not specified,Not specifi...</td>\n      <td>NaN</td>\n      <td>NaN</td>\n      <td>NaN</td>\n      <td>NaN</td>\n      <td>84.190359</td>\n      <td>2015-02-24 13:49:53</td>\n      <td>1.0</td>\n    </tr>\n    <tr>\n      <th>3</th>\n      <td>8</td>\n      <td>Other symptoms and signs involving cognitive f...</td>\n      <td>Not specified,Not specified,Not specified</td>\n      <td>Other symptoms and signs involving cognitive f...</td>\n      <td>Not specified,Not specified</td>\n      <td>NaN</td>\n      <td>NaN</td>\n      <td>NaN</td>\n      <td>NaT</td>\n      <td>0.0</td>\n    </tr>\n    <tr>\n      <th>4</th>\n      <td>10</td>\n      <td>Not specified,Not specified</td>\n      <td>Not specified,Not specified</td>\n      <td>Not specified,Not specified</td>\n      <td>Not specified,Not specified</td>\n      <td>NaN</td>\n      <td>NaN</td>\n      <td>72.384665</td>\n      <td>2022-08-25 14:16:51</td>\n      <td>1.0</td>\n    </tr>\n  </tbody>\n</table>\n</div>"
          },
          "metadata": {}
        }
      ],
      "execution_count": 57,
      "metadata": {
        "jupyter": {
          "source_hidden": false,
          "outputs_hidden": false
        },
        "nteract": {
          "transient": {
            "deleting": false
          }
        },
        "gather": {
          "logged": 1688286660006
        }
      }
    },
    {
      "cell_type": "code",
      "source": [
        "merge_ed_visit_death_left['death'] = merge_ed_visit_death_left['death'].astype(int)\r\n",
        "merge_ed_visit_death_left.info()"
      ],
      "outputs": [
        {
          "output_type": "stream",
          "name": "stdout",
          "text": "<class 'pandas.core.frame.DataFrame'>\nInt64Index: 58240 entries, 0 to 58239\nData columns (total 10 columns):\n #   Column                                     Non-Null Count  Dtype         \n---  ------                                     --------------  -----         \n 0   Internalpatientid                          58240 non-null  int64         \n 1   First listed diagnosis icd10 subcategory   58240 non-null  object        \n 2   Second listed diagnosis icd10 subcategory  58240 non-null  object        \n 3   60.0-69.9_icd10                            26371 non-null  object        \n 4   60.0-69.9_second_icd10                     26371 non-null  object        \n 5   70.0-79.9_icd10                            23916 non-null  object        \n 6   70.0-79.9_second_icd10                     23916 non-null  object        \n 7   Age at death                               32902 non-null  float64       \n 8   Death date                                 32902 non-null  datetime64[ns]\n 9   death                                      58240 non-null  int64         \ndtypes: datetime64[ns](1), float64(1), int64(2), object(6)\nmemory usage: 4.9+ MB\n"
        }
      ],
      "execution_count": 58,
      "metadata": {
        "jupyter": {
          "source_hidden": false,
          "outputs_hidden": false
        },
        "nteract": {
          "transient": {
            "deleting": false
          }
        },
        "gather": {
          "logged": 1688286699326
        }
      }
    },
    {
      "cell_type": "markdown",
      "source": [
        "## **Visualising the dead and alive patients**"
      ],
      "metadata": {
        "nteract": {
          "transient": {
            "deleting": false
          }
        }
      }
    },
    {
      "cell_type": "code",
      "source": [
        "merge_ed_visit_death_left['death'].value_counts()"
      ],
      "outputs": [
        {
          "output_type": "execute_result",
          "execution_count": 60,
          "data": {
            "text/plain": "1    32902\n0    25338\nName: death, dtype: int64"
          },
          "metadata": {}
        }
      ],
      "execution_count": 60,
      "metadata": {
        "jupyter": {
          "source_hidden": false,
          "outputs_hidden": false
        },
        "nteract": {
          "transient": {
            "deleting": false
          }
        },
        "gather": {
          "logged": 1688286799260
        }
      }
    },
    {
      "cell_type": "code",
      "source": [
        "merge_ed_visit_death_left['death'].value_counts(normalize=True)"
      ],
      "outputs": [
        {
          "output_type": "execute_result",
          "execution_count": 61,
          "data": {
            "text/plain": "1    0.564938\n0    0.435062\nName: death, dtype: float64"
          },
          "metadata": {}
        }
      ],
      "execution_count": 61,
      "metadata": {
        "jupyter": {
          "source_hidden": false,
          "outputs_hidden": false
        },
        "nteract": {
          "transient": {
            "deleting": false
          }
        },
        "gather": {
          "logged": 1688286802928
        }
      }
    },
    {
      "cell_type": "markdown",
      "source": [
        "##### **56% of the patients are dead and 43% are alive.**"
      ],
      "metadata": {
        "nteract": {
          "transient": {
            "deleting": false
          }
        }
      }
    },
    {
      "cell_type": "code",
      "source": [
        "merge_ed_visit_death_left['death'].value_counts(normalize=True).plot(kind='bar')"
      ],
      "outputs": [
        {
          "output_type": "execute_result",
          "execution_count": 62,
          "data": {
            "text/plain": "<matplotlib.axes._subplots.AxesSubplot at 0x7f02f4689700>"
          },
          "metadata": {}
        },
        {
          "output_type": "display_data",
          "data": {
            "text/plain": "<Figure size 640x480 with 1 Axes>",
            "image/png": "[encoded data removed]"
          },
          "metadata": {}
        }
      ],
      "execution_count": 62,
      "metadata": {
        "jupyter": {
          "source_hidden": false,
          "outputs_hidden": false
        },
        "nteract": {
          "transient": {
            "deleting": false
          }
        },
        "gather": {
          "logged": 1688286841741
        }
      }
    },
    {
      "cell_type": "markdown",
      "source": [
        "### **Dataframe of the alive patients.**"
      ],
      "metadata": {
        "nteract": {
          "transient": {
            "deleting": false
          }
        }
      }
    },
    {
      "cell_type": "code",
      "source": [
        "df_alive = merge_ed_visit_death_left[merge_ed_visit_death_left[\"death\"]==0]\r\n",
        "df_alive"
      ],
      "outputs": [
        {
          "output_type": "execute_result",
          "execution_count": 63,
          "data": {
            "text/plain": "       Internalpatientid           First listed diagnosis icd10 subcategory  \\\n0                      1  Disorders of calcium metabolism,Combined systo...   \n1                      2  Chest pain, unspecified,Other symptoms and sig...   \n3                      8  Other symptoms and signs involving cognitive f...   \n5                     11  Not specified,Pain in joint,Adult failure to t...   \n6                     13  Acute respiratory failure,Chest pain, unspecif...   \n...                  ...                                                ...   \n58221             169017                                 Calculus of kidney   \n58229             169033                                      Not specified   \n58232             169041  Unspecified atrial fibrillation and atrial flu...   \n58234             169047  Acute upper respiratory infection, unspecified...   \n58237             169057  Syncope and collapse,Acute bronchitis due to M...   \n\n               Second listed diagnosis icd10 subcategory  \\\n0      Not specified,Contusion of hip,Not specified,N...   \n1      Not specified,Cannabinosis,Not specified,Not s...   \n3              Not specified,Not specified,Not specified   \n5      Not specified,Not specified,Other specified my...   \n6      Pneumonia, unspecified organism,Other nonspeci...   \n...                                                  ...   \n58221                                      Not specified   \n58229                                      Not specified   \n58232  Not specified,Not specified,Not specified,End ...   \n58234  Not specified,Not specified,Other foreign body...   \n58237  Not specified,Not specified,Other and unspecif...   \n\n                                         60.0-69.9_icd10  \\\n0                            Not specified,Not specified   \n1      Chest pain, unspecified,Other symptoms and sig...   \n3      Other symptoms and signs involving cognitive f...   \n5              Not specified,Not specified,Not specified   \n6                                                    NaN   \n...                                                  ...   \n58221                                 Calculus of kidney   \n58229                                                NaN   \n58232                                                NaN   \n58234  Acute upper respiratory infection, unspecified...   \n58237                                                NaN   \n\n                                  60.0-69.9_second_icd10  \\\n0                            Not specified,Not specified   \n1      Not specified,Cannabinosis,Not specified,Not s...   \n3                            Not specified,Not specified   \n5              Not specified,Not specified,Not specified   \n6                                                    NaN   \n...                                                  ...   \n58221                                      Not specified   \n58229                                                NaN   \n58232                                                NaN   \n58234  Not specified,Not specified,Other foreign body...   \n58237                                                NaN   \n\n                                         70.0-79.9_icd10  \\\n0      Disorders of calcium metabolism,Combined systo...   \n1                                                    NaN   \n3                                                    NaN   \n5                  Pain in joint,Adult failure to thrive   \n6      Acute respiratory failure,Chest pain, unspecif...   \n...                                                  ...   \n58221                                                NaN   \n58229                                                NaN   \n58232                                                NaN   \n58234                                                NaN   \n58237  Not specified,Not specified,Not specified,Not ...   \n\n                                  70.0-79.9_second_icd10  Age at death  \\\n0      Not specified,Contusion of hip,Not specified,N...           NaN   \n1                                                    NaN           NaN   \n3                                                    NaN           NaN   \n5               Not specified,Other specified myopathies           NaN   \n6      Pneumonia, unspecified organism,Other nonspeci...           NaN   \n...                                                  ...           ...   \n58221                                                NaN           NaN   \n58229                                                NaN           NaN   \n58232                                                NaN           NaN   \n58234                                                NaN           NaN   \n58237  Not specified,Not specified,Not specified,Not ...           NaN   \n\n      Death date  death  \n0            NaT      0  \n1            NaT      0  \n3            NaT      0  \n5            NaT      0  \n6            NaT      0  \n...          ...    ...  \n58221        NaT      0  \n58229        NaT      0  \n58232        NaT      0  \n58234        NaT      0  \n58237        NaT      0  \n\n[25338 rows x 10 columns]",
            "text/html": "<div>\n<style scoped>\n    .dataframe tbody tr th:only-of-type {\n        vertical-align: middle;\n    }\n\n    .dataframe tbody tr th {\n        vertical-align: top;\n    }\n\n    .dataframe thead th {\n        text-align: right;\n    }\n</style>\n<table border=\"1\" class=\"dataframe\">\n  <thead>\n    <tr style=\"text-align: right;\">\n      <th></th>\n      <th>Internalpatientid</th>\n      <th>First listed diagnosis icd10 subcategory</th>\n      <th>Second listed diagnosis icd10 subcategory</th>\n      <th>60.0-69.9_icd10</th>\n      <th>60.0-69.9_second_icd10</th>\n      <th>70.0-79.9_icd10</th>\n      <th>70.0-79.9_second_icd10</th>\n      <th>Age at death</th>\n      <th>Death date</th>\n      <th>death</th>\n    </tr>\n  </thead>\n  <tbody>\n    <tr>\n      <th>0</th>\n      <td>1</td>\n      <td>Disorders of calcium metabolism,Combined systo...</td>\n      <td>Not specified,Contusion of hip,Not specified,N...</td>\n      <td>Not specified,Not specified</td>\n      <td>Not specified,Not specified</td>\n      <td>Disorders of calcium metabolism,Combined systo...</td>\n      <td>Not specified,Contusion of hip,Not specified,N...</td>\n      <td>NaN</td>\n      <td>NaT</td>\n      <td>0</td>\n    </tr>\n    <tr>\n      <th>1</th>\n      <td>2</td>\n      <td>Chest pain, unspecified,Other symptoms and sig...</td>\n      <td>Not specified,Cannabinosis,Not specified,Not s...</td>\n      <td>Chest pain, unspecified,Other symptoms and sig...</td>\n      <td>Not specified,Cannabinosis,Not specified,Not s...</td>\n      <td>NaN</td>\n      <td>NaN</td>\n      <td>NaN</td>\n      <td>NaT</td>\n      <td>0</td>\n    </tr>\n    <tr>\n      <th>3</th>\n      <td>8</td>\n      <td>Other symptoms and signs involving cognitive f...</td>\n      <td>Not specified,Not specified,Not specified</td>\n      <td>Other symptoms and signs involving cognitive f...</td>\n      <td>Not specified,Not specified</td>\n      <td>NaN</td>\n      <td>NaN</td>\n      <td>NaN</td>\n      <td>NaT</td>\n      <td>0</td>\n    </tr>\n    <tr>\n      <th>5</th>\n      <td>11</td>\n      <td>Not specified,Pain in joint,Adult failure to t...</td>\n      <td>Not specified,Not specified,Other specified my...</td>\n      <td>Not specified,Not specified,Not specified</td>\n      <td>Not specified,Not specified,Not specified</td>\n      <td>Pain in joint,Adult failure to thrive</td>\n      <td>Not specified,Other specified myopathies</td>\n      <td>NaN</td>\n      <td>NaT</td>\n      <td>0</td>\n    </tr>\n    <tr>\n      <th>6</th>\n      <td>13</td>\n      <td>Acute respiratory failure,Chest pain, unspecif...</td>\n      <td>Pneumonia, unspecified organism,Other nonspeci...</td>\n      <td>NaN</td>\n      <td>NaN</td>\n      <td>Acute respiratory failure,Chest pain, unspecif...</td>\n      <td>Pneumonia, unspecified organism,Other nonspeci...</td>\n      <td>NaN</td>\n      <td>NaT</td>\n      <td>0</td>\n    </tr>\n    <tr>\n      <th>...</th>\n      <td>...</td>\n      <td>...</td>\n      <td>...</td>\n      <td>...</td>\n      <td>...</td>\n      <td>...</td>\n      <td>...</td>\n      <td>...</td>\n      <td>...</td>\n      <td>...</td>\n    </tr>\n    <tr>\n      <th>58221</th>\n      <td>169017</td>\n      <td>Calculus of kidney</td>\n      <td>Not specified</td>\n      <td>Calculus of kidney</td>\n      <td>Not specified</td>\n      <td>NaN</td>\n      <td>NaN</td>\n      <td>NaN</td>\n      <td>NaT</td>\n      <td>0</td>\n    </tr>\n    <tr>\n      <th>58229</th>\n      <td>169033</td>\n      <td>Not specified</td>\n      <td>Not specified</td>\n      <td>NaN</td>\n      <td>NaN</td>\n      <td>NaN</td>\n      <td>NaN</td>\n      <td>NaN</td>\n      <td>NaT</td>\n      <td>0</td>\n    </tr>\n    <tr>\n      <th>58232</th>\n      <td>169041</td>\n      <td>Unspecified atrial fibrillation and atrial flu...</td>\n      <td>Not specified,Not specified,Not specified,End ...</td>\n      <td>NaN</td>\n      <td>NaN</td>\n      <td>NaN</td>\n      <td>NaN</td>\n      <td>NaN</td>\n      <td>NaT</td>\n      <td>0</td>\n    </tr>\n    <tr>\n      <th>58234</th>\n      <td>169047</td>\n      <td>Acute upper respiratory infection, unspecified...</td>\n      <td>Not specified,Not specified,Other foreign body...</td>\n      <td>Acute upper respiratory infection, unspecified...</td>\n      <td>Not specified,Not specified,Other foreign body...</td>\n      <td>NaN</td>\n      <td>NaN</td>\n      <td>NaN</td>\n      <td>NaT</td>\n      <td>0</td>\n    </tr>\n    <tr>\n      <th>58237</th>\n      <td>169057</td>\n      <td>Syncope and collapse,Acute bronchitis due to M...</td>\n      <td>Not specified,Not specified,Other and unspecif...</td>\n      <td>NaN</td>\n      <td>NaN</td>\n      <td>Not specified,Not specified,Not specified,Not ...</td>\n      <td>Not specified,Not specified,Not specified,Not ...</td>\n      <td>NaN</td>\n      <td>NaT</td>\n      <td>0</td>\n    </tr>\n  </tbody>\n</table>\n<p>25338 rows × 10 columns</p>\n</div>"
          },
          "metadata": {}
        }
      ],
      "execution_count": 63,
      "metadata": {
        "jupyter": {
          "source_hidden": false,
          "outputs_hidden": false
        },
        "nteract": {
          "transient": {
            "deleting": false
          }
        },
        "gather": {
          "logged": 1688286846057
        }
      }
    },
    {
      "cell_type": "markdown",
      "source": [
        "#### **Dataframe of the dead patients.**"
      ],
      "metadata": {
        "nteract": {
          "transient": {
            "deleting": false
          }
        }
      }
    },
    {
      "cell_type": "code",
      "source": [
        "df_dead = merge_ed_visit_death_left[merge_ed_visit_death_left[\"death\"]==1]\r\n",
        "df_dead"
      ],
      "outputs": [
        {
          "output_type": "execute_result",
          "execution_count": 64,
          "data": {
            "text/plain": "       Internalpatientid           First listed diagnosis icd10 subcategory  \\\n2                      4  Epidemic vertigo,Gastrointestinal hemorrhage, ...   \n4                     10                        Not specified,Not specified   \n7                     15  Respiratory failure, unspecified,Combined syst...   \n8                     16  Not specified,Not specified,Not specified,Not ...   \n9                     19  Chest pain, unspecified,Unstable angina,Not sp...   \n...                  ...                                                ...   \n58233             169043                                      Not specified   \n58235             169050                        Not specified,Not specified   \n58236             169053  Dyspnea,Not specified,Other symptoms and signs...   \n58238             169060  Combined systolic (congestive) and diastolic (...   \n58239             169064                                      Not specified   \n\n               Second listed diagnosis icd10 subcategory  \\\n2      Other abdominal pain,Not specified,Not specifi...   \n4                            Not specified,Not specified   \n7      Unspecified atrial fibrillation and atrial flu...   \n8      Not specified,Not specified,Not specified,Not ...   \n9      Syncope and collapse,Long term (current) use o...   \n...                                                  ...   \n58233                                      Not specified   \n58235                        Not specified,Not specified   \n58236  Not specified,Not specified,Not specified,Adul...   \n58238  Not specified,Not specified,Encounter for othe...   \n58239                                      Not specified   \n\n                   60.0-69.9_icd10       60.0-69.9_second_icd10  \\\n2                              NaN                          NaN   \n4      Not specified,Not specified  Not specified,Not specified   \n7                              NaN                          NaN   \n8                              NaN                          NaN   \n9                    Not specified                Not specified   \n...                            ...                          ...   \n58233                          NaN                          NaN   \n58235                Not specified                Not specified   \n58236                          NaN                          NaN   \n58238                Not specified                Not specified   \n58239                          NaN                          NaN   \n\n                                         70.0-79.9_icd10  \\\n2                                                    NaN   \n4                                                    NaN   \n7                                                    NaN   \n8      Not specified,Not specified,Not specified,Not ...   \n9                Chest pain, unspecified,Unstable angina   \n...                                                  ...   \n58233                                      Not specified   \n58235                                                NaN   \n58236  Not specified,Cellulitis and acute lymphangiti...   \n58238  Combined systolic (congestive) and diastolic (...   \n58239                                                NaN   \n\n                                  70.0-79.9_second_icd10  Age at death  \\\n2                                                    NaN     84.190359   \n4                                                    NaN     72.384665   \n7                                                    NaN     86.598848   \n8      Not specified,Not specified,Not specified,Not ...     78.894455   \n9      Syncope and collapse,Long term (current) use o...     71.207349   \n...                                                  ...           ...   \n58233                                      Not specified     75.760530   \n58235                                                NaN     63.323682   \n58236  Not specified,Not specified,Not specified,Not ...     81.349588   \n58238  Not specified,Encounter for other general exam...     71.832486   \n58239                                                NaN     88.057470   \n\n               Death date  death  \n2     2015-02-24 13:49:53      1  \n4     2022-08-25 14:16:51      1  \n7     2019-01-16 21:05:39      1  \n8     2016-01-13 22:09:20      1  \n9     2016-01-20 06:51:50      1  \n...                   ...    ...  \n58233 2013-08-11 11:22:06      1  \n58235 2014-10-19 19:20:04      1  \n58236 2014-02-17 06:35:04      1  \n58238 2017-10-15 18:34:11      1  \n58239 2015-01-09 00:07:21      1  \n\n[32902 rows x 10 columns]",
            "text/html": "<div>\n<style scoped>\n    .dataframe tbody tr th:only-of-type {\n        vertical-align: middle;\n    }\n\n    .dataframe tbody tr th {\n        vertical-align: top;\n    }\n\n    .dataframe thead th {\n        text-align: right;\n    }\n</style>\n<table border=\"1\" class=\"dataframe\">\n  <thead>\n    <tr style=\"text-align: right;\">\n      <th></th>\n      <th>Internalpatientid</th>\n      <th>First listed diagnosis icd10 subcategory</th>\n      <th>Second listed diagnosis icd10 subcategory</th>\n      <th>60.0-69.9_icd10</th>\n      <th>60.0-69.9_second_icd10</th>\n      <th>70.0-79.9_icd10</th>\n      <th>70.0-79.9_second_icd10</th>\n      <th>Age at death</th>\n      <th>Death date</th>\n      <th>death</th>\n    </tr>\n  </thead>\n  <tbody>\n    <tr>\n      <th>2</th>\n      <td>4</td>\n      <td>Epidemic vertigo,Gastrointestinal hemorrhage, ...</td>\n      <td>Other abdominal pain,Not specified,Not specifi...</td>\n      <td>NaN</td>\n      <td>NaN</td>\n      <td>NaN</td>\n      <td>NaN</td>\n      <td>84.190359</td>\n      <td>2015-02-24 13:49:53</td>\n      <td>1</td>\n    </tr>\n    <tr>\n      <th>4</th>\n      <td>10</td>\n      <td>Not specified,Not specified</td>\n      <td>Not specified,Not specified</td>\n      <td>Not specified,Not specified</td>\n      <td>Not specified,Not specified</td>\n      <td>NaN</td>\n      <td>NaN</td>\n      <td>72.384665</td>\n      <td>2022-08-25 14:16:51</td>\n      <td>1</td>\n    </tr>\n    <tr>\n      <th>7</th>\n      <td>15</td>\n      <td>Respiratory failure, unspecified,Combined syst...</td>\n      <td>Unspecified atrial fibrillation and atrial flu...</td>\n      <td>NaN</td>\n      <td>NaN</td>\n      <td>NaN</td>\n      <td>NaN</td>\n      <td>86.598848</td>\n      <td>2019-01-16 21:05:39</td>\n      <td>1</td>\n    </tr>\n    <tr>\n      <th>8</th>\n      <td>16</td>\n      <td>Not specified,Not specified,Not specified,Not ...</td>\n      <td>Not specified,Not specified,Not specified,Not ...</td>\n      <td>NaN</td>\n      <td>NaN</td>\n      <td>Not specified,Not specified,Not specified,Not ...</td>\n      <td>Not specified,Not specified,Not specified,Not ...</td>\n      <td>78.894455</td>\n      <td>2016-01-13 22:09:20</td>\n      <td>1</td>\n    </tr>\n    <tr>\n      <th>9</th>\n      <td>19</td>\n      <td>Chest pain, unspecified,Unstable angina,Not sp...</td>\n      <td>Syncope and collapse,Long term (current) use o...</td>\n      <td>Not specified</td>\n      <td>Not specified</td>\n      <td>Chest pain, unspecified,Unstable angina</td>\n      <td>Syncope and collapse,Long term (current) use o...</td>\n      <td>71.207349</td>\n      <td>2016-01-20 06:51:50</td>\n      <td>1</td>\n    </tr>\n    <tr>\n      <th>...</th>\n      <td>...</td>\n      <td>...</td>\n      <td>...</td>\n      <td>...</td>\n      <td>...</td>\n      <td>...</td>\n      <td>...</td>\n      <td>...</td>\n      <td>...</td>\n      <td>...</td>\n    </tr>\n    <tr>\n      <th>58233</th>\n      <td>169043</td>\n      <td>Not specified</td>\n      <td>Not specified</td>\n      <td>NaN</td>\n      <td>NaN</td>\n      <td>Not specified</td>\n      <td>Not specified</td>\n      <td>75.760530</td>\n      <td>2013-08-11 11:22:06</td>\n      <td>1</td>\n    </tr>\n    <tr>\n      <th>58235</th>\n      <td>169050</td>\n      <td>Not specified,Not specified</td>\n      <td>Not specified,Not specified</td>\n      <td>Not specified</td>\n      <td>Not specified</td>\n      <td>NaN</td>\n      <td>NaN</td>\n      <td>63.323682</td>\n      <td>2014-10-19 19:20:04</td>\n      <td>1</td>\n    </tr>\n    <tr>\n      <th>58236</th>\n      <td>169053</td>\n      <td>Dyspnea,Not specified,Other symptoms and signs...</td>\n      <td>Not specified,Not specified,Not specified,Adul...</td>\n      <td>NaN</td>\n      <td>NaN</td>\n      <td>Not specified,Cellulitis and acute lymphangiti...</td>\n      <td>Not specified,Not specified,Not specified,Not ...</td>\n      <td>81.349588</td>\n      <td>2014-02-17 06:35:04</td>\n      <td>1</td>\n    </tr>\n    <tr>\n      <th>58238</th>\n      <td>169060</td>\n      <td>Combined systolic (congestive) and diastolic (...</td>\n      <td>Not specified,Not specified,Encounter for othe...</td>\n      <td>Not specified</td>\n      <td>Not specified</td>\n      <td>Combined systolic (congestive) and diastolic (...</td>\n      <td>Not specified,Encounter for other general exam...</td>\n      <td>71.832486</td>\n      <td>2017-10-15 18:34:11</td>\n      <td>1</td>\n    </tr>\n    <tr>\n      <th>58239</th>\n      <td>169064</td>\n      <td>Not specified</td>\n      <td>Not specified</td>\n      <td>NaN</td>\n      <td>NaN</td>\n      <td>NaN</td>\n      <td>NaN</td>\n      <td>88.057470</td>\n      <td>2015-01-09 00:07:21</td>\n      <td>1</td>\n    </tr>\n  </tbody>\n</table>\n<p>32902 rows × 10 columns</p>\n</div>"
          },
          "metadata": {}
        }
      ],
      "execution_count": 64,
      "metadata": {
        "jupyter": {
          "source_hidden": false,
          "outputs_hidden": false
        },
        "nteract": {
          "transient": {
            "deleting": false
          }
        },
        "gather": {
          "logged": 1688286853954
        }
      }
    },
    {
      "cell_type": "markdown",
      "source": [
        "**Missing summary for the patients which are dead**"
      ],
      "metadata": {
        "nteract": {
          "transient": {
            "deleting": false
          }
        }
      }
    },
    {
      "cell_type": "code",
      "source": [
        "# Replace blank values with NaN\r\n",
        "df_dead.replace('', np.nan, inplace=True)\r\n",
        "\r\n",
        "# checking the null values \r\n",
        "missing_values_count = df_dead.isnull().sum()\r\n",
        "# taking the total no.of rows\r\n",
        "total_rows = df_dead.shape[0]\r\n",
        "\r\n",
        "# taking the percetage of missing value\r\n",
        "missing_percentage = (missing_values_count / total_rows) * 100\r\n",
        "#creating the data frame\r\n",
        "missing_data_summary = pd.DataFrame({\r\n",
        "    'Missing Values Count': missing_values_count,\r\n",
        "    'Missing Values Percentage': missing_percentage\r\n",
        "})\r\n",
        "\r\n",
        "missing_data_summary"
      ],
      "outputs": [
        {
          "output_type": "stream",
          "name": "stderr",
          "text": "/anaconda/envs/azureml_py38/lib/python3.8/site-packages/pandas/core/frame.py:4383: SettingWithCopyWarning: \nA value is trying to be set on a copy of a slice from a DataFrame\n\nSee the caveats in the documentation: https://pandas.pydata.org/pandas-docs/stable/user_guide/indexing.html#returning-a-view-versus-a-copy\n  return super().replace(\n"
        },
        {
          "output_type": "execute_result",
          "execution_count": 65,
          "data": {
            "text/plain": "                                           Missing Values Count  \\\nInternalpatientid                                             0   \nFirst listed diagnosis icd10 subcategory                      0   \nSecond listed diagnosis icd10 subcategory                     0   \n60.0-69.9_icd10                                           20918   \n60.0-69.9_second_icd10                                    20918   \n70.0-79.9_icd10                                           20458   \n70.0-79.9_second_icd10                                    20458   \nAge at death                                                  0   \nDeath date                                                    0   \ndeath                                                         0   \n\n                                           Missing Values Percentage  \nInternalpatientid                                           0.000000  \nFirst listed diagnosis icd10 subcategory                    0.000000  \nSecond listed diagnosis icd10 subcategory                   0.000000  \n60.0-69.9_icd10                                            63.576682  \n60.0-69.9_second_icd10                                     63.576682  \n70.0-79.9_icd10                                            62.178591  \n70.0-79.9_second_icd10                                     62.178591  \nAge at death                                                0.000000  \nDeath date                                                  0.000000  \ndeath                                                       0.000000  ",
            "text/html": "<div>\n<style scoped>\n    .dataframe tbody tr th:only-of-type {\n        vertical-align: middle;\n    }\n\n    .dataframe tbody tr th {\n        vertical-align: top;\n    }\n\n    .dataframe thead th {\n        text-align: right;\n    }\n</style>\n<table border=\"1\" class=\"dataframe\">\n  <thead>\n    <tr style=\"text-align: right;\">\n      <th></th>\n      <th>Missing Values Count</th>\n      <th>Missing Values Percentage</th>\n    </tr>\n  </thead>\n  <tbody>\n    <tr>\n      <th>Internalpatientid</th>\n      <td>0</td>\n      <td>0.000000</td>\n    </tr>\n    <tr>\n      <th>First listed diagnosis icd10 subcategory</th>\n      <td>0</td>\n      <td>0.000000</td>\n    </tr>\n    <tr>\n      <th>Second listed diagnosis icd10 subcategory</th>\n      <td>0</td>\n      <td>0.000000</td>\n    </tr>\n    <tr>\n      <th>60.0-69.9_icd10</th>\n      <td>20918</td>\n      <td>63.576682</td>\n    </tr>\n    <tr>\n      <th>60.0-69.9_second_icd10</th>\n      <td>20918</td>\n      <td>63.576682</td>\n    </tr>\n    <tr>\n      <th>70.0-79.9_icd10</th>\n      <td>20458</td>\n      <td>62.178591</td>\n    </tr>\n    <tr>\n      <th>70.0-79.9_second_icd10</th>\n      <td>20458</td>\n      <td>62.178591</td>\n    </tr>\n    <tr>\n      <th>Age at death</th>\n      <td>0</td>\n      <td>0.000000</td>\n    </tr>\n    <tr>\n      <th>Death date</th>\n      <td>0</td>\n      <td>0.000000</td>\n    </tr>\n    <tr>\n      <th>death</th>\n      <td>0</td>\n      <td>0.000000</td>\n    </tr>\n  </tbody>\n</table>\n</div>"
          },
          "metadata": {}
        }
      ],
      "execution_count": 65,
      "metadata": {
        "jupyter": {
          "source_hidden": false,
          "outputs_hidden": false
        },
        "nteract": {
          "transient": {
            "deleting": false
          }
        },
        "gather": {
          "logged": 1688286996064
        }
      }
    },
    {
      "cell_type": "markdown",
      "source": [
        "### **This is our ed_visit & death file proper dataframe**"
      ],
      "metadata": {
        "nteract": {
          "transient": {
            "deleting": false
          }
        }
      }
    },
    {
      "cell_type": "code",
      "source": [
        "merge_ed_visit_death_left.drop(['Age at death','Death date'],axis = 1, inplace = True)\r\n",
        "merge_ed_visit_death_left.head()"
      ],
      "outputs": [
        {
          "output_type": "execute_result",
          "execution_count": 66,
          "data": {
            "text/plain": "   Internalpatientid           First listed diagnosis icd10 subcategory  \\\n0                  1  Disorders of calcium metabolism,Combined systo...   \n1                  2  Chest pain, unspecified,Other symptoms and sig...   \n2                  4  Epidemic vertigo,Gastrointestinal hemorrhage, ...   \n3                  8  Other symptoms and signs involving cognitive f...   \n4                 10                        Not specified,Not specified   \n\n           Second listed diagnosis icd10 subcategory  \\\n0  Not specified,Contusion of hip,Not specified,N...   \n1  Not specified,Cannabinosis,Not specified,Not s...   \n2  Other abdominal pain,Not specified,Not specifi...   \n3          Not specified,Not specified,Not specified   \n4                        Not specified,Not specified   \n\n                                     60.0-69.9_icd10  \\\n0                        Not specified,Not specified   \n1  Chest pain, unspecified,Other symptoms and sig...   \n2                                                NaN   \n3  Other symptoms and signs involving cognitive f...   \n4                        Not specified,Not specified   \n\n                              60.0-69.9_second_icd10  \\\n0                        Not specified,Not specified   \n1  Not specified,Cannabinosis,Not specified,Not s...   \n2                                                NaN   \n3                        Not specified,Not specified   \n4                        Not specified,Not specified   \n\n                                     70.0-79.9_icd10  \\\n0  Disorders of calcium metabolism,Combined systo...   \n1                                                NaN   \n2                                                NaN   \n3                                                NaN   \n4                                                NaN   \n\n                              70.0-79.9_second_icd10  death  \n0  Not specified,Contusion of hip,Not specified,N...      0  \n1                                                NaN      0  \n2                                                NaN      1  \n3                                                NaN      0  \n4                                                NaN      1  ",
            "text/html": "<div>\n<style scoped>\n    .dataframe tbody tr th:only-of-type {\n        vertical-align: middle;\n    }\n\n    .dataframe tbody tr th {\n        vertical-align: top;\n    }\n\n    .dataframe thead th {\n        text-align: right;\n    }\n</style>\n<table border=\"1\" class=\"dataframe\">\n  <thead>\n    <tr style=\"text-align: right;\">\n      <th></th>\n      <th>Internalpatientid</th>\n      <th>First listed diagnosis icd10 subcategory</th>\n      <th>Second listed diagnosis icd10 subcategory</th>\n      <th>60.0-69.9_icd10</th>\n      <th>60.0-69.9_second_icd10</th>\n      <th>70.0-79.9_icd10</th>\n      <th>70.0-79.9_second_icd10</th>\n      <th>death</th>\n    </tr>\n  </thead>\n  <tbody>\n    <tr>\n      <th>0</th>\n      <td>1</td>\n      <td>Disorders of calcium metabolism,Combined systo...</td>\n      <td>Not specified,Contusion of hip,Not specified,N...</td>\n      <td>Not specified,Not specified</td>\n      <td>Not specified,Not specified</td>\n      <td>Disorders of calcium metabolism,Combined systo...</td>\n      <td>Not specified,Contusion of hip,Not specified,N...</td>\n      <td>0</td>\n    </tr>\n    <tr>\n      <th>1</th>\n      <td>2</td>\n      <td>Chest pain, unspecified,Other symptoms and sig...</td>\n      <td>Not specified,Cannabinosis,Not specified,Not s...</td>\n      <td>Chest pain, unspecified,Other symptoms and sig...</td>\n      <td>Not specified,Cannabinosis,Not specified,Not s...</td>\n      <td>NaN</td>\n      <td>NaN</td>\n      <td>0</td>\n    </tr>\n    <tr>\n      <th>2</th>\n      <td>4</td>\n      <td>Epidemic vertigo,Gastrointestinal hemorrhage, ...</td>\n      <td>Other abdominal pain,Not specified,Not specifi...</td>\n      <td>NaN</td>\n      <td>NaN</td>\n      <td>NaN</td>\n      <td>NaN</td>\n      <td>1</td>\n    </tr>\n    <tr>\n      <th>3</th>\n      <td>8</td>\n      <td>Other symptoms and signs involving cognitive f...</td>\n      <td>Not specified,Not specified,Not specified</td>\n      <td>Other symptoms and signs involving cognitive f...</td>\n      <td>Not specified,Not specified</td>\n      <td>NaN</td>\n      <td>NaN</td>\n      <td>0</td>\n    </tr>\n    <tr>\n      <th>4</th>\n      <td>10</td>\n      <td>Not specified,Not specified</td>\n      <td>Not specified,Not specified</td>\n      <td>Not specified,Not specified</td>\n      <td>Not specified,Not specified</td>\n      <td>NaN</td>\n      <td>NaN</td>\n      <td>1</td>\n    </tr>\n  </tbody>\n</table>\n</div>"
          },
          "metadata": {}
        }
      ],
      "execution_count": 66,
      "metadata": {
        "jupyter": {
          "source_hidden": false,
          "outputs_hidden": false
        },
        "nteract": {
          "transient": {
            "deleting": false
          }
        },
        "gather": {
          "logged": 1688287001990
        }
      }
    },
    {
      "cell_type": "code",
      "source": [
        "icd60_69_death_crosstab = pd.crosstab(merge_ed_visit_death_left['60.0-69.9_icd10'],merge_ed_visit_death_left['death'])\r\n",
        "print(icd60_69_death_crosstab)"
      ],
      "outputs": [
        {
          "output_type": "stream",
          "name": "stdout",
          "text": "death                                               0  1\n60.0-69.9_icd10                                         \n(Censored)                                          8  4\n(Censored),(Censored)                               1  0\n(Censored),Atopic dermatitis, unspecified,Not s...  1  0\n(Censored),Cellulitis and acute lymphangitis of...  1  0\n(Censored),Cellulitis and acute lymphangitis, u...  0  1\n...                                                .. ..\nZoster without complications,Pleural effusion i...  1  0\nZoster without complications,Supraventricular t...  0  1\nZoster without complications,Systolic (congesti...  1  0\nZoster without complications,Tachycardia, unspe...  0  1\nZoster without complications,Zoster with other ...  1  0\n\n[14012 rows x 2 columns]\n"
        }
      ],
      "execution_count": 67,
      "metadata": {
        "jupyter": {
          "source_hidden": false,
          "outputs_hidden": false
        },
        "nteract": {
          "transient": {
            "deleting": false
          }
        },
        "gather": {
          "logged": 1688287058388
        }
      }
    },
    {
      "cell_type": "markdown",
      "source": [
        "#### **(1). 60.0-69.9_icd10**"
      ],
      "metadata": {
        "nteract": {
          "transient": {
            "deleting": false
          }
        }
      }
    },
    {
      "cell_type": "code",
      "source": [
        "df_dead[\"60.0-69.9_icd10\"].nunique()"
      ],
      "outputs": [
        {
          "output_type": "execute_result",
          "execution_count": 70,
          "data": {
            "text/plain": "5350"
          },
          "metadata": {}
        }
      ],
      "execution_count": 70,
      "metadata": {
        "jupyter": {
          "source_hidden": false,
          "outputs_hidden": false
        },
        "nteract": {
          "transient": {
            "deleting": false
          }
        },
        "gather": {
          "logged": 1688287325376
        }
      }
    },
    {
      "cell_type": "markdown",
      "source": [
        "**The \"60.0-69.9_icd10\" columns 5350 have distinct value. however we have to check the value counts because most the values are \"Not specified\"**"
      ],
      "metadata": {
        "nteract": {
          "transient": {
            "deleting": false
          }
        }
      }
    },
    {
      "cell_type": "code",
      "source": [
        "#it will take above 200 values count\r\n",
        "df_dead[\"60.0-69.9_icd10\"].value_counts().loc[lambda x: x>200]"
      ],
      "outputs": [
        {
          "output_type": "execute_result",
          "execution_count": 71,
          "data": {
            "text/plain": "Not specified                                                                                        1901\nNot specified,Not specified                                                                          1054\nNot specified,Not specified,Not specified                                                             748\nNot specified,Not specified,Not specified,Not specified                                               521\nNot specified,Not specified,Not specified,Not specified,Not specified                                 411\nNot specified,Not specified,Not specified,Not specified,Not specified,Not specified                   300\nNot specified,Not specified,Not specified,Not specified,Not specified,Not specified,Not specified     255\nName: 60.0-69.9_icd10, dtype: int64"
          },
          "metadata": {}
        }
      ],
      "execution_count": 71,
      "metadata": {
        "jupyter": {
          "source_hidden": false,
          "outputs_hidden": false
        },
        "nteract": {
          "transient": {
            "deleting": false
          }
        },
        "gather": {
          "logged": 1688287427916
        }
      }
    },
    {
      "cell_type": "markdown",
      "source": [
        "**Most frequent is \"Not Specified\".**"
      ],
      "metadata": {
        "nteract": {
          "transient": {
            "deleting": false
          }
        }
      }
    },
    {
      "cell_type": "markdown",
      "source": [
        "#### **(2).60.0-69.9_second_icd10**"
      ],
      "metadata": {
        "nteract": {
          "transient": {
            "deleting": false
          }
        }
      }
    },
    {
      "cell_type": "code",
      "source": [
        "#it will take above 200 values count\r\n",
        "df_dead[\"60.0-69.9_second_icd10\"].value_counts().loc[lambda x: x>200]"
      ],
      "outputs": [
        {
          "output_type": "execute_result",
          "execution_count": 72,
          "data": {
            "text/plain": "Not specified                                                                                                                    2207\nNot specified,Not specified                                                                                                      1307\nNot specified,Not specified,Not specified                                                                                         899\nNot specified,Not specified,Not specified,Not specified                                                                           667\nNot specified,Not specified,Not specified,Not specified,Not specified                                                             529\nNot specified,Not specified,Not specified,Not specified,Not specified,Not specified                                               384\nNot specified,Not specified,Not specified,Not specified,Not specified,Not specified,Not specified                                 327\nNot specified,Not specified,Not specified,Not specified,Not specified,Not specified,Not specified,Not specified                   250\nNot specified,Not specified,Not specified,Not specified,Not specified,Not specified,Not specified,Not specified,Not specified     208\nName: 60.0-69.9_second_icd10, dtype: int64"
          },
          "metadata": {}
        }
      ],
      "execution_count": 72,
      "metadata": {
        "jupyter": {
          "source_hidden": false,
          "outputs_hidden": false
        },
        "nteract": {
          "transient": {
            "deleting": false
          }
        },
        "gather": {
          "logged": 1688287608866
        }
      }
    },
    {
      "cell_type": "markdown",
      "source": [
        "**Most frequent is \"Not Specified\"**"
      ],
      "metadata": {
        "nteract": {
          "transient": {
            "deleting": false
          }
        }
      }
    },
    {
      "cell_type": "markdown",
      "source": [
        "#### **(3). 70.0-79.9_icd10**"
      ],
      "metadata": {
        "nteract": {
          "transient": {
            "deleting": false
          }
        }
      }
    },
    {
      "cell_type": "code",
      "source": [
        "#it will take above 200 values count\r\n",
        "df_dead[\"70.0-79.9_icd10\"].value_counts().loc[lambda x: x>200]"
      ],
      "outputs": [
        {
          "output_type": "execute_result",
          "execution_count": 74,
          "data": {
            "text/plain": "Not specified                                                                          1766\nNot specified,Not specified                                                             968\nNot specified,Not specified,Not specified                                               641\nNot specified,Not specified,Not specified,Not specified                                 468\nNot specified,Not specified,Not specified,Not specified,Not specified                   317\nNot specified,Not specified,Not specified,Not specified,Not specified,Not specified     236\nName: 70.0-79.9_icd10, dtype: int64"
          },
          "metadata": {}
        }
      ],
      "execution_count": 74,
      "metadata": {
        "jupyter": {
          "source_hidden": false,
          "outputs_hidden": false
        },
        "nteract": {
          "transient": {
            "deleting": false
          }
        },
        "gather": {
          "logged": 1688287832391
        }
      }
    },
    {
      "cell_type": "markdown",
      "source": [
        "**Most frequenct is \"Not Specified\".**"
      ],
      "metadata": {
        "nteract": {
          "transient": {
            "deleting": false
          }
        }
      }
    },
    {
      "cell_type": "markdown",
      "source": [
        "#### **(4). 70.0-79.9_second_icd10**"
      ],
      "metadata": {
        "nteract": {
          "transient": {
            "deleting": false
          }
        }
      }
    },
    {
      "cell_type": "code",
      "source": [
        "#it will take above 200 values count\r\n",
        "df_dead[\"70.0-79.9_second_icd10\"].value_counts().loc[lambda x: x>200]"
      ],
      "outputs": [
        {
          "output_type": "execute_result",
          "execution_count": 75,
          "data": {
            "text/plain": "Not specified                                                                                                      2337\nNot specified,Not specified                                                                                        1301\nNot specified,Not specified,Not specified                                                                           850\nNot specified,Not specified,Not specified,Not specified                                                             592\nNot specified,Not specified,Not specified,Not specified,Not specified                                               414\nNot specified,Not specified,Not specified,Not specified,Not specified,Not specified                                 288\nNot specified,Not specified,Not specified,Not specified,Not specified,Not specified,Not specified                   236\nNot specified,Not specified,Not specified,Not specified,Not specified,Not specified,Not specified,Not specified     201\nName: 70.0-79.9_second_icd10, dtype: int64"
          },
          "metadata": {}
        }
      ],
      "execution_count": 75,
      "metadata": {
        "jupyter": {
          "source_hidden": false,
          "outputs_hidden": false
        },
        "nteract": {
          "transient": {
            "deleting": false
          }
        },
        "gather": {
          "logged": 1688287961937
        }
      }
    },
    {
      "cell_type": "markdown",
      "source": [
        "**Most frequent is \"Not Specified\".**"
      ],
      "metadata": {
        "nteract": {
          "transient": {
            "deleting": false
          }
        }
      }
    }
  ],
  "metadata": {
    "kernelspec": {
      "name": "python38-azureml",
      "language": "python",
      "display_name": "Python 3.8 - AzureML"
    },
    "language_info": {
      "name": "python",
      "version": "3.8.5",
      "mimetype": "text/x-python",
      "codemirror_mode": {
        "name": "ipython",
        "version": 3
      },
      "pygments_lexer": "ipython3",
      "nbconvert_exporter": "python",
      "file_extension": ".py"
    },
    "microsoft": {
      "ms_spell_check": {
        "ms_spell_check_language": "en"
      },
      "host": {
        "AzureML": {
          "notebookHasBeenCompleted": true
        }
      }
    },
    "kernel_info": {
      "name": "python38-azureml"
    },
    "nteract": {
      "version": "nteract-front-end@1.0.0"
    }
  },
  "nbformat": 4,
  "nbformat_minor": 2
}